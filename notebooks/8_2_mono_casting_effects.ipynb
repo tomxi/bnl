{
 "cells": [
  {
   "cell_type": "code",
   "execution_count": 1,
   "id": "543fd6da",
   "metadata": {},
   "outputs": [],
   "source": [
    "%load_ext autoreload\n",
    "%autoreload 2\n",
    "\n",
    "import bnl\n",
    "import frameless_eval as fle\n",
    "import mir_eval\n",
    "import random\n",
    "import plotly.express as px\n",
    "import pandas as pd\n",
    "\n",
    "import matplotlib.pyplot as plt\n",
    "from dataclasses import replace\n",
    "\n",
    "def px_metrics_bar(metrics, title=\"mir_eval hierarchy metrics\"):\n",
    "    # metrics: dict or OrderedDict of name -> float\n",
    "    df = pd.Series(metrics, dtype=float).rename_axis(\"metric\").reset_index(name=\"score\")\n",
    "    fig = px.bar(df, x=\"metric\", y=\"score\", title=title, text=\"score\", range_y=[0,1.2])\n",
    "    fig.update_traces(texttemplate=\"%{text:.3f}\", textposition=\"outside\")\n",
    "    fig.update_layout(xaxis_tickangle=-45, width=450, height=300, margin=dict(l=10, r=10, t=50, b=10))\n",
    "    return fig"
   ]
  },
  {
   "cell_type": "code",
   "execution_count": 2,
   "id": "826511d3",
   "metadata": {},
   "outputs": [],
   "source": [
    "slm_ds = bnl.data.Dataset(manifest_path=\"~/data/salami/metadata.csv\")"
   ]
  },
  {
   "cell_type": "code",
   "execution_count": 9,
   "id": "4d90cbf4",
   "metadata": {},
   "outputs": [
    {
     "data": {
      "application/vnd.plotly.v1+json": {
       "config": {
        "plotlyServerURL": "https://plot.ly"
       },
       "data": [
        {
         "base": [
          0
         ],
         "customdata": [
          "<b>silence</b><br>Layer: coarse<br>Start: 0.000s<br>End: 0.244s<br>Duration: 0.244s"
         ],
         "hovertemplate": "%{customdata}<extra></extra>",
         "insidetextanchor": "middle",
         "marker": {
          "color": "#1F77B4",
          "line": {
           "color": "white",
           "width": 0.5
          },
          "pattern": {
           "fgcolor": "white",
           "fgopacity": 0.5,
           "shape": "",
           "solidity": 0.25
          }
         },
         "name": "silence",
         "orientation": "h",
         "showlegend": true,
         "text": [
          "silence"
         ],
         "textposition": "inside",
         "type": "bar",
         "width": 1,
         "x": [
          0.24381
         ],
         "y": [
          "coarse"
         ]
        },
        {
         "base": [
          0.24381
         ],
         "customdata": [
          "<b>intro</b><br>Layer: coarse<br>Start: 0.244s<br>End: 31.504s<br>Duration: 31.260s"
         ],
         "hovertemplate": "%{customdata}<extra></extra>",
         "insidetextanchor": "middle",
         "marker": {
          "color": "#FF7F0E",
          "line": {
           "color": "white",
           "width": 0.5
          },
          "pattern": {
           "fgcolor": "white",
           "fgopacity": 0.5,
           "shape": "",
           "solidity": 0.25
          }
         },
         "name": "intro",
         "orientation": "h",
         "showlegend": true,
         "text": [
          "intro"
         ],
         "textposition": "inside",
         "type": "bar",
         "width": 1,
         "x": [
          31.26023
         ],
         "y": [
          "coarse"
         ]
        },
        {
         "base": [
          31.50404,
          72.63848,
          165.00934
         ],
         "customdata": [
          "<b>verse</b><br>Layer: coarse<br>Start: 31.504s<br>End: 52.075s<br>Duration: 20.571s",
          "<b>verse</b><br>Layer: coarse<br>Start: 72.638s<br>End: 93.223s<br>Duration: 20.585s",
          "<b>verse</b><br>Layer: coarse<br>Start: 165.009s<br>End: 180.447s<br>Duration: 15.437s"
         ],
         "hovertemplate": "%{customdata}<extra></extra>",
         "insidetextanchor": "middle",
         "marker": {
          "color": "#2CA02C",
          "line": {
           "color": "white",
           "width": 0.5
          },
          "pattern": {
           "fgcolor": "white",
           "fgopacity": 0.5,
           "shape": "",
           "solidity": 0.25
          }
         },
         "name": "verse",
         "orientation": "h",
         "showlegend": true,
         "text": [
          "verse",
          "verse",
          "verse"
         ],
         "textposition": "inside",
         "type": "bar",
         "width": 1,
         "x": [
          20.57138,
          20.58488,
          15.437369999999987
         ],
         "y": [
          "coarse",
          "coarse",
          "coarse"
         ]
        },
        {
         "base": [
          52.07542
         ],
         "customdata": [
          "<b>chorus</b><br>Layer: coarse<br>Start: 52.075s<br>End: 62.362s<br>Duration: 10.287s"
         ],
         "hovertemplate": "%{customdata}<extra></extra>",
         "insidetextanchor": "middle",
         "marker": {
          "color": "#D62728",
          "line": {
           "color": "white",
           "width": 0.5
          },
          "pattern": {
           "fgcolor": "white",
           "fgopacity": 0.5,
           "shape": "",
           "solidity": 0.25
          }
         },
         "name": "chorus",
         "orientation": "h",
         "showlegend": true,
         "text": [
          "chorus"
         ],
         "textposition": "inside",
         "type": "bar",
         "width": 1,
         "x": [
          10.287030000000001
         ],
         "y": [
          "coarse"
         ]
        },
        {
         "base": [
          62.36245
         ],
         "customdata": [
          "<b>interlude</b><br>Layer: coarse<br>Start: 62.362s<br>End: 72.638s<br>Duration: 10.276s"
         ],
         "hovertemplate": "%{customdata}<extra></extra>",
         "insidetextanchor": "middle",
         "marker": {
          "color": "#9467BD",
          "line": {
           "color": "white",
           "width": 0.5
          },
          "pattern": {
           "fgcolor": "white",
           "fgopacity": 0.5,
           "shape": "",
           "solidity": 0.25
          }
         },
         "name": "interlude",
         "orientation": "h",
         "showlegend": true,
         "text": [
          "interlude"
         ],
         "textposition": "inside",
         "type": "bar",
         "width": 1,
         "x": [
          10.276029999999999
         ],
         "y": [
          "coarse"
         ]
        },
        {
         "base": [
          93.22336,
          103.57853,
          154.88533,
          180.44671,
          190.76401
         ],
         "customdata": [
          "<b>no_function</b><br>Layer: coarse<br>Start: 93.223s<br>End: 103.579s<br>Duration: 10.355s",
          "<b>no_function</b><br>Layer: coarse<br>Start: 103.579s<br>End: 154.885s<br>Duration: 51.307s",
          "<b>no_function</b><br>Layer: coarse<br>Start: 154.885s<br>End: 165.009s<br>Duration: 10.124s",
          "<b>no_function</b><br>Layer: coarse<br>Start: 180.447s<br>End: 190.764s<br>Duration: 10.317s",
          "<b>no_function</b><br>Layer: coarse<br>Start: 190.764s<br>End: 222.061s<br>Duration: 31.297s"
         ],
         "hovertemplate": "%{customdata}<extra></extra>",
         "insidetextanchor": "middle",
         "marker": {
          "color": "#8C564B",
          "line": {
           "color": "white",
           "width": 0.5
          },
          "pattern": {
           "fgcolor": "white",
           "fgopacity": 0.5,
           "shape": "",
           "solidity": 0.25
          }
         },
         "name": "no_function",
         "orientation": "h",
         "showlegend": true,
         "text": [
          "no_function",
          "no_function",
          "no_function",
          "no_function",
          "no_function"
         ],
         "textposition": "inside",
         "type": "bar",
         "width": 1,
         "x": [
          10.355170000000001,
          51.30680000000001,
          10.124009999999998,
          10.317300000000017,
          31.2971
         ],
         "y": [
          "coarse",
          "coarse",
          "coarse",
          "coarse",
          "coarse"
         ]
        },
        {
         "base": [
          0
         ],
         "customdata": [
          "<b>Silence</b><br>Layer: fine<br>Start: 0.000s<br>End: 0.244s<br>Duration: 0.244s"
         ],
         "hovertemplate": "%{customdata}<extra></extra>",
         "insidetextanchor": "middle",
         "marker": {
          "color": "#E377C2",
          "line": {
           "color": "white",
           "width": 0.5
          },
          "pattern": {
           "fgcolor": "white",
           "fgopacity": 0.5,
           "shape": "",
           "solidity": 0.25
          }
         },
         "name": "Silence",
         "orientation": "h",
         "showlegend": true,
         "text": [
          "Silence"
         ],
         "textposition": "inside",
         "type": "bar",
         "width": 1,
         "x": [
          0.24381
         ],
         "y": [
          "fine"
         ]
        },
        {
         "base": [
          0.24381,
          134.47696,
          144.71481
         ],
         "customdata": [
          "<b>a</b><br>Layer: fine<br>Start: 0.244s<br>End: 11.052s<br>Duration: 10.808s",
          "<b>a</b><br>Layer: fine<br>Start: 134.477s<br>End: 144.715s<br>Duration: 10.238s",
          "<b>a</b><br>Layer: fine<br>Start: 144.715s<br>End: 154.885s<br>Duration: 10.171s"
         ],
         "hovertemplate": "%{customdata}<extra></extra>",
         "insidetextanchor": "middle",
         "marker": {
          "color": "#7F7F7F",
          "line": {
           "color": "white",
           "width": 0.5
          },
          "pattern": {
           "fgcolor": "white",
           "fgopacity": 0.5,
           "shape": "",
           "solidity": 0.25
          }
         },
         "name": "a",
         "orientation": "h",
         "showlegend": true,
         "text": [
          "a",
          "a",
          "a"
         ],
         "textposition": "inside",
         "type": "bar",
         "width": 1,
         "x": [
          10.80787,
          10.237850000000009,
          10.17052000000001
         ],
         "y": [
          "fine",
          "fine",
          "fine"
         ]
        },
        {
         "base": [
          11.05168
         ],
         "customdata": [
          "<b>b</b><br>Layer: fine<br>Start: 11.052s<br>End: 21.271s<br>Duration: 10.219s"
         ],
         "hovertemplate": "%{customdata}<extra></extra>",
         "insidetextanchor": "middle",
         "marker": {
          "color": "#BCBD22",
          "line": {
           "color": "white",
           "width": 0.5
          },
          "pattern": {
           "fgcolor": "white",
           "fgopacity": 0.5,
           "shape": "",
           "solidity": 0.25
          }
         },
         "name": "b",
         "orientation": "h",
         "showlegend": true,
         "text": [
          "b"
         ],
         "textposition": "inside",
         "type": "bar",
         "width": 1,
         "x": [
          10.21898
         ],
         "y": [
          "fine"
         ]
        },
        {
         "base": [
          21.27066,
          62.36245
         ],
         "customdata": [
          "<b>c</b><br>Layer: fine<br>Start: 21.271s<br>End: 31.504s<br>Duration: 10.233s",
          "<b>c</b><br>Layer: fine<br>Start: 62.362s<br>End: 72.638s<br>Duration: 10.276s"
         ],
         "hovertemplate": "%{customdata}<extra></extra>",
         "insidetextanchor": "middle",
         "marker": {
          "color": "#17BECF",
          "line": {
           "color": "white",
           "width": 0.5
          },
          "pattern": {
           "fgcolor": "white",
           "fgopacity": 0.5,
           "shape": "",
           "solidity": 0.25
          }
         },
         "name": "c",
         "orientation": "h",
         "showlegend": true,
         "text": [
          "c",
          "c"
         ],
         "textposition": "inside",
         "type": "bar",
         "width": 1,
         "x": [
          10.23338,
          10.276029999999999
         ],
         "y": [
          "fine",
          "fine"
         ]
        },
        {
         "base": [
          31.50404,
          41.80308,
          72.63848,
          83.00048,
          165.00934
         ],
         "customdata": [
          "<b>d</b><br>Layer: fine<br>Start: 31.504s<br>End: 41.803s<br>Duration: 10.299s",
          "<b>d</b><br>Layer: fine<br>Start: 41.803s<br>End: 52.075s<br>Duration: 10.272s",
          "<b>d</b><br>Layer: fine<br>Start: 72.638s<br>End: 83.000s<br>Duration: 10.362s",
          "<b>d</b><br>Layer: fine<br>Start: 83.000s<br>End: 93.223s<br>Duration: 10.223s",
          "<b>d</b><br>Layer: fine<br>Start: 165.009s<br>End: 175.356s<br>Duration: 10.346s"
         ],
         "hovertemplate": "%{customdata}<extra></extra>",
         "insidetextanchor": "middle",
         "marker": {
          "color": "#1F77B4",
          "line": {
           "color": "white",
           "width": 0.5
          },
          "pattern": {
           "fgcolor": "white",
           "fgopacity": 0.5,
           "shape": ".",
           "solidity": 0.25
          }
         },
         "name": "d",
         "orientation": "h",
         "showlegend": true,
         "text": [
          "d",
          "d",
          "d",
          "d",
          "d"
         ],
         "textposition": "inside",
         "type": "bar",
         "width": 1,
         "x": [
          10.299040000000002,
          10.27234,
          10.361999999999995,
          10.222880000000004,
          10.34645999999998
         ],
         "y": [
          "fine",
          "fine",
          "fine",
          "fine",
          "fine"
         ]
        },
        {
         "base": [
          52.07542,
          93.22336,
          154.88533,
          180.44671
         ],
         "customdata": [
          "<b>b'</b><br>Layer: fine<br>Start: 52.075s<br>End: 62.362s<br>Duration: 10.287s",
          "<b>b'</b><br>Layer: fine<br>Start: 93.223s<br>End: 103.579s<br>Duration: 10.355s",
          "<b>b'</b><br>Layer: fine<br>Start: 154.885s<br>End: 165.009s<br>Duration: 10.124s",
          "<b>b'</b><br>Layer: fine<br>Start: 180.447s<br>End: 190.764s<br>Duration: 10.317s"
         ],
         "hovertemplate": "%{customdata}<extra></extra>",
         "insidetextanchor": "middle",
         "marker": {
          "color": "#FF7F0E",
          "line": {
           "color": "white",
           "width": 0.5
          },
          "pattern": {
           "fgcolor": "white",
           "fgopacity": 0.5,
           "shape": ".",
           "solidity": 0.25
          }
         },
         "name": "b'",
         "orientation": "h",
         "showlegend": true,
         "text": [
          "b'",
          "b'",
          "b'",
          "b'"
         ],
         "textposition": "inside",
         "type": "bar",
         "width": 1,
         "x": [
          10.287030000000001,
          10.355170000000001,
          10.124009999999998,
          10.317300000000017
         ],
         "y": [
          "fine",
          "fine",
          "fine",
          "fine"
         ]
        },
        {
         "base": [
          103.57853,
          190.76401
         ],
         "customdata": [
          "<b>e</b><br>Layer: fine<br>Start: 103.579s<br>End: 113.906s<br>Duration: 10.328s",
          "<b>e</b><br>Layer: fine<br>Start: 190.764s<br>End: 200.920s<br>Duration: 10.156s"
         ],
         "hovertemplate": "%{customdata}<extra></extra>",
         "insidetextanchor": "middle",
         "marker": {
          "color": "#2CA02C",
          "line": {
           "color": "white",
           "width": 0.5
          },
          "pattern": {
           "fgcolor": "white",
           "fgopacity": 0.5,
           "shape": ".",
           "solidity": 0.25
          }
         },
         "name": "e",
         "orientation": "h",
         "showlegend": true,
         "text": [
          "e",
          "e"
         ],
         "textposition": "inside",
         "type": "bar",
         "width": 1,
         "x": [
          10.327820000000003,
          10.156469999999985
         ],
         "y": [
          "fine",
          "fine"
         ]
        },
        {
         "base": [
          113.90635
         ],
         "customdata": [
          "<b>e'</b><br>Layer: fine<br>Start: 113.906s<br>End: 124.068s<br>Duration: 10.161s"
         ],
         "hovertemplate": "%{customdata}<extra></extra>",
         "insidetextanchor": "middle",
         "marker": {
          "color": "#D62728",
          "line": {
           "color": "white",
           "width": 0.5
          },
          "pattern": {
           "fgcolor": "white",
           "fgopacity": 0.5,
           "shape": ".",
           "solidity": 0.25
          }
         },
         "name": "e'",
         "orientation": "h",
         "showlegend": true,
         "text": [
          "e'"
         ],
         "textposition": "inside",
         "type": "bar",
         "width": 1,
         "x": [
          10.161450000000002
         ],
         "y": [
          "fine"
         ]
        },
        {
         "base": [
          124.0678
         ],
         "customdata": [
          "<b>e''</b><br>Layer: fine<br>Start: 124.068s<br>End: 134.477s<br>Duration: 10.409s"
         ],
         "hovertemplate": "%{customdata}<extra></extra>",
         "insidetextanchor": "middle",
         "marker": {
          "color": "#9467BD",
          "line": {
           "color": "white",
           "width": 0.5
          },
          "pattern": {
           "fgcolor": "white",
           "fgopacity": 0.5,
           "shape": ".",
           "solidity": 0.25
          }
         },
         "name": "e''",
         "orientation": "h",
         "showlegend": true,
         "text": [
          "e''"
         ],
         "textposition": "inside",
         "type": "bar",
         "width": 1,
         "x": [
          10.409159999999986
         ],
         "y": [
          "fine"
         ]
        },
        {
         "base": [
          175.3558
         ],
         "customdata": [
          "<b>d'</b><br>Layer: fine<br>Start: 175.356s<br>End: 180.447s<br>Duration: 5.091s"
         ],
         "hovertemplate": "%{customdata}<extra></extra>",
         "insidetextanchor": "middle",
         "marker": {
          "color": "#8C564B",
          "line": {
           "color": "white",
           "width": 0.5
          },
          "pattern": {
           "fgcolor": "white",
           "fgopacity": 0.5,
           "shape": ".",
           "solidity": 0.25
          }
         },
         "name": "d'",
         "orientation": "h",
         "showlegend": true,
         "text": [
          "d'"
         ],
         "textposition": "inside",
         "type": "bar",
         "width": 1,
         "x": [
          5.090910000000008
         ],
         "y": [
          "fine"
         ]
        },
        {
         "base": [
          200.92048,
          211.08254
         ],
         "customdata": [
          "<b>e'''</b><br>Layer: fine<br>Start: 200.920s<br>End: 211.083s<br>Duration: 10.162s",
          "<b>e'''</b><br>Layer: fine<br>Start: 211.083s<br>End: 222.061s<br>Duration: 10.979s"
         ],
         "hovertemplate": "%{customdata}<extra></extra>",
         "insidetextanchor": "middle",
         "marker": {
          "color": "#E377C2",
          "line": {
           "color": "white",
           "width": 0.5
          },
          "pattern": {
           "fgcolor": "white",
           "fgopacity": 0.5,
           "shape": ".",
           "solidity": 0.25
          }
         },
         "name": "e'''",
         "orientation": "h",
         "showlegend": true,
         "text": [
          "e'''",
          "e'''"
         ],
         "textposition": "inside",
         "type": "bar",
         "width": 1,
         "x": [
          10.162059999999997,
          10.978570000000019
         ],
         "y": [
          "fine",
          "fine"
         ]
        }
       ],
       "layout": {
        "barmode": "overlay",
        "height": 120,
        "margin": {
         "b": 20,
         "l": 20,
         "r": 20,
         "t": 40
        },
        "showlegend": false,
        "template": {
         "data": {
          "bar": [
           {
            "error_x": {
             "color": "#2a3f5f"
            },
            "error_y": {
             "color": "#2a3f5f"
            },
            "marker": {
             "line": {
              "color": "#E5ECF6",
              "width": 0.5
             },
             "pattern": {
              "fillmode": "overlay",
              "size": 10,
              "solidity": 0.2
             }
            },
            "type": "bar"
           }
          ],
          "barpolar": [
           {
            "marker": {
             "line": {
              "color": "#E5ECF6",
              "width": 0.5
             },
             "pattern": {
              "fillmode": "overlay",
              "size": 10,
              "solidity": 0.2
             }
            },
            "type": "barpolar"
           }
          ],
          "carpet": [
           {
            "aaxis": {
             "endlinecolor": "#2a3f5f",
             "gridcolor": "white",
             "linecolor": "white",
             "minorgridcolor": "white",
             "startlinecolor": "#2a3f5f"
            },
            "baxis": {
             "endlinecolor": "#2a3f5f",
             "gridcolor": "white",
             "linecolor": "white",
             "minorgridcolor": "white",
             "startlinecolor": "#2a3f5f"
            },
            "type": "carpet"
           }
          ],
          "choropleth": [
           {
            "colorbar": {
             "outlinewidth": 0,
             "ticks": ""
            },
            "type": "choropleth"
           }
          ],
          "contour": [
           {
            "colorbar": {
             "outlinewidth": 0,
             "ticks": ""
            },
            "colorscale": [
             [
              0,
              "#0d0887"
             ],
             [
              0.1111111111111111,
              "#46039f"
             ],
             [
              0.2222222222222222,
              "#7201a8"
             ],
             [
              0.3333333333333333,
              "#9c179e"
             ],
             [
              0.4444444444444444,
              "#bd3786"
             ],
             [
              0.5555555555555556,
              "#d8576b"
             ],
             [
              0.6666666666666666,
              "#ed7953"
             ],
             [
              0.7777777777777778,
              "#fb9f3a"
             ],
             [
              0.8888888888888888,
              "#fdca26"
             ],
             [
              1,
              "#f0f921"
             ]
            ],
            "type": "contour"
           }
          ],
          "contourcarpet": [
           {
            "colorbar": {
             "outlinewidth": 0,
             "ticks": ""
            },
            "type": "contourcarpet"
           }
          ],
          "heatmap": [
           {
            "colorbar": {
             "outlinewidth": 0,
             "ticks": ""
            },
            "colorscale": [
             [
              0,
              "#0d0887"
             ],
             [
              0.1111111111111111,
              "#46039f"
             ],
             [
              0.2222222222222222,
              "#7201a8"
             ],
             [
              0.3333333333333333,
              "#9c179e"
             ],
             [
              0.4444444444444444,
              "#bd3786"
             ],
             [
              0.5555555555555556,
              "#d8576b"
             ],
             [
              0.6666666666666666,
              "#ed7953"
             ],
             [
              0.7777777777777778,
              "#fb9f3a"
             ],
             [
              0.8888888888888888,
              "#fdca26"
             ],
             [
              1,
              "#f0f921"
             ]
            ],
            "type": "heatmap"
           }
          ],
          "histogram": [
           {
            "marker": {
             "pattern": {
              "fillmode": "overlay",
              "size": 10,
              "solidity": 0.2
             }
            },
            "type": "histogram"
           }
          ],
          "histogram2d": [
           {
            "colorbar": {
             "outlinewidth": 0,
             "ticks": ""
            },
            "colorscale": [
             [
              0,
              "#0d0887"
             ],
             [
              0.1111111111111111,
              "#46039f"
             ],
             [
              0.2222222222222222,
              "#7201a8"
             ],
             [
              0.3333333333333333,
              "#9c179e"
             ],
             [
              0.4444444444444444,
              "#bd3786"
             ],
             [
              0.5555555555555556,
              "#d8576b"
             ],
             [
              0.6666666666666666,
              "#ed7953"
             ],
             [
              0.7777777777777778,
              "#fb9f3a"
             ],
             [
              0.8888888888888888,
              "#fdca26"
             ],
             [
              1,
              "#f0f921"
             ]
            ],
            "type": "histogram2d"
           }
          ],
          "histogram2dcontour": [
           {
            "colorbar": {
             "outlinewidth": 0,
             "ticks": ""
            },
            "colorscale": [
             [
              0,
              "#0d0887"
             ],
             [
              0.1111111111111111,
              "#46039f"
             ],
             [
              0.2222222222222222,
              "#7201a8"
             ],
             [
              0.3333333333333333,
              "#9c179e"
             ],
             [
              0.4444444444444444,
              "#bd3786"
             ],
             [
              0.5555555555555556,
              "#d8576b"
             ],
             [
              0.6666666666666666,
              "#ed7953"
             ],
             [
              0.7777777777777778,
              "#fb9f3a"
             ],
             [
              0.8888888888888888,
              "#fdca26"
             ],
             [
              1,
              "#f0f921"
             ]
            ],
            "type": "histogram2dcontour"
           }
          ],
          "mesh3d": [
           {
            "colorbar": {
             "outlinewidth": 0,
             "ticks": ""
            },
            "type": "mesh3d"
           }
          ],
          "parcoords": [
           {
            "line": {
             "colorbar": {
              "outlinewidth": 0,
              "ticks": ""
             }
            },
            "type": "parcoords"
           }
          ],
          "pie": [
           {
            "automargin": true,
            "type": "pie"
           }
          ],
          "scatter": [
           {
            "fillpattern": {
             "fillmode": "overlay",
             "size": 10,
             "solidity": 0.2
            },
            "type": "scatter"
           }
          ],
          "scatter3d": [
           {
            "line": {
             "colorbar": {
              "outlinewidth": 0,
              "ticks": ""
             }
            },
            "marker": {
             "colorbar": {
              "outlinewidth": 0,
              "ticks": ""
             }
            },
            "type": "scatter3d"
           }
          ],
          "scattercarpet": [
           {
            "marker": {
             "colorbar": {
              "outlinewidth": 0,
              "ticks": ""
             }
            },
            "type": "scattercarpet"
           }
          ],
          "scattergeo": [
           {
            "marker": {
             "colorbar": {
              "outlinewidth": 0,
              "ticks": ""
             }
            },
            "type": "scattergeo"
           }
          ],
          "scattergl": [
           {
            "marker": {
             "colorbar": {
              "outlinewidth": 0,
              "ticks": ""
             }
            },
            "type": "scattergl"
           }
          ],
          "scattermap": [
           {
            "marker": {
             "colorbar": {
              "outlinewidth": 0,
              "ticks": ""
             }
            },
            "type": "scattermap"
           }
          ],
          "scattermapbox": [
           {
            "marker": {
             "colorbar": {
              "outlinewidth": 0,
              "ticks": ""
             }
            },
            "type": "scattermapbox"
           }
          ],
          "scatterpolar": [
           {
            "marker": {
             "colorbar": {
              "outlinewidth": 0,
              "ticks": ""
             }
            },
            "type": "scatterpolar"
           }
          ],
          "scatterpolargl": [
           {
            "marker": {
             "colorbar": {
              "outlinewidth": 0,
              "ticks": ""
             }
            },
            "type": "scatterpolargl"
           }
          ],
          "scatterternary": [
           {
            "marker": {
             "colorbar": {
              "outlinewidth": 0,
              "ticks": ""
             }
            },
            "type": "scatterternary"
           }
          ],
          "surface": [
           {
            "colorbar": {
             "outlinewidth": 0,
             "ticks": ""
            },
            "colorscale": [
             [
              0,
              "#0d0887"
             ],
             [
              0.1111111111111111,
              "#46039f"
             ],
             [
              0.2222222222222222,
              "#7201a8"
             ],
             [
              0.3333333333333333,
              "#9c179e"
             ],
             [
              0.4444444444444444,
              "#bd3786"
             ],
             [
              0.5555555555555556,
              "#d8576b"
             ],
             [
              0.6666666666666666,
              "#ed7953"
             ],
             [
              0.7777777777777778,
              "#fb9f3a"
             ],
             [
              0.8888888888888888,
              "#fdca26"
             ],
             [
              1,
              "#f0f921"
             ]
            ],
            "type": "surface"
           }
          ],
          "table": [
           {
            "cells": {
             "fill": {
              "color": "#EBF0F8"
             },
             "line": {
              "color": "white"
             }
            },
            "header": {
             "fill": {
              "color": "#C8D4E3"
             },
             "line": {
              "color": "white"
             }
            },
            "type": "table"
           }
          ]
         },
         "layout": {
          "annotationdefaults": {
           "arrowcolor": "#2a3f5f",
           "arrowhead": 0,
           "arrowwidth": 1
          },
          "autotypenumbers": "strict",
          "coloraxis": {
           "colorbar": {
            "outlinewidth": 0,
            "ticks": ""
           }
          },
          "colorscale": {
           "diverging": [
            [
             0,
             "#8e0152"
            ],
            [
             0.1,
             "#c51b7d"
            ],
            [
             0.2,
             "#de77ae"
            ],
            [
             0.3,
             "#f1b6da"
            ],
            [
             0.4,
             "#fde0ef"
            ],
            [
             0.5,
             "#f7f7f7"
            ],
            [
             0.6,
             "#e6f5d0"
            ],
            [
             0.7,
             "#b8e186"
            ],
            [
             0.8,
             "#7fbc41"
            ],
            [
             0.9,
             "#4d9221"
            ],
            [
             1,
             "#276419"
            ]
           ],
           "sequential": [
            [
             0,
             "#0d0887"
            ],
            [
             0.1111111111111111,
             "#46039f"
            ],
            [
             0.2222222222222222,
             "#7201a8"
            ],
            [
             0.3333333333333333,
             "#9c179e"
            ],
            [
             0.4444444444444444,
             "#bd3786"
            ],
            [
             0.5555555555555556,
             "#d8576b"
            ],
            [
             0.6666666666666666,
             "#ed7953"
            ],
            [
             0.7777777777777778,
             "#fb9f3a"
            ],
            [
             0.8888888888888888,
             "#fdca26"
            ],
            [
             1,
             "#f0f921"
            ]
           ],
           "sequentialminus": [
            [
             0,
             "#0d0887"
            ],
            [
             0.1111111111111111,
             "#46039f"
            ],
            [
             0.2222222222222222,
             "#7201a8"
            ],
            [
             0.3333333333333333,
             "#9c179e"
            ],
            [
             0.4444444444444444,
             "#bd3786"
            ],
            [
             0.5555555555555556,
             "#d8576b"
            ],
            [
             0.6666666666666666,
             "#ed7953"
            ],
            [
             0.7777777777777778,
             "#fb9f3a"
            ],
            [
             0.8888888888888888,
             "#fdca26"
            ],
            [
             1,
             "#f0f921"
            ]
           ]
          },
          "colorway": [
           "#636efa",
           "#EF553B",
           "#00cc96",
           "#ab63fa",
           "#FFA15A",
           "#19d3f3",
           "#FF6692",
           "#B6E880",
           "#FF97FF",
           "#FECB52"
          ],
          "font": {
           "color": "#2a3f5f"
          },
          "geo": {
           "bgcolor": "white",
           "lakecolor": "white",
           "landcolor": "#E5ECF6",
           "showlakes": true,
           "showland": true,
           "subunitcolor": "white"
          },
          "hoverlabel": {
           "align": "left"
          },
          "hovermode": "closest",
          "mapbox": {
           "style": "light"
          },
          "paper_bgcolor": "white",
          "plot_bgcolor": "#E5ECF6",
          "polar": {
           "angularaxis": {
            "gridcolor": "white",
            "linecolor": "white",
            "ticks": ""
           },
           "bgcolor": "#E5ECF6",
           "radialaxis": {
            "gridcolor": "white",
            "linecolor": "white",
            "ticks": ""
           }
          },
          "scene": {
           "xaxis": {
            "backgroundcolor": "#E5ECF6",
            "gridcolor": "white",
            "gridwidth": 2,
            "linecolor": "white",
            "showbackground": true,
            "ticks": "",
            "zerolinecolor": "white"
           },
           "yaxis": {
            "backgroundcolor": "#E5ECF6",
            "gridcolor": "white",
            "gridwidth": 2,
            "linecolor": "white",
            "showbackground": true,
            "ticks": "",
            "zerolinecolor": "white"
           },
           "zaxis": {
            "backgroundcolor": "#E5ECF6",
            "gridcolor": "white",
            "gridwidth": 2,
            "linecolor": "white",
            "showbackground": true,
            "ticks": "",
            "zerolinecolor": "white"
           }
          },
          "shapedefaults": {
           "line": {
            "color": "#2a3f5f"
           }
          },
          "ternary": {
           "aaxis": {
            "gridcolor": "white",
            "linecolor": "white",
            "ticks": ""
           },
           "baxis": {
            "gridcolor": "white",
            "linecolor": "white",
            "ticks": ""
           },
           "bgcolor": "#E5ECF6",
           "caxis": {
            "gridcolor": "white",
            "linecolor": "white",
            "ticks": ""
           }
          },
          "title": {
           "x": 0.05
          },
          "xaxis": {
           "automargin": true,
           "gridcolor": "white",
           "linecolor": "white",
           "ticks": "",
           "title": {
            "standoff": 15
           },
           "zerolinecolor": "white",
           "zerolinewidth": 2
          },
          "yaxis": {
           "automargin": true,
           "gridcolor": "white",
           "linecolor": "white",
           "ticks": "",
           "title": {
            "standoff": 15
           },
           "zerolinecolor": "white",
           "zerolinewidth": 2
          }
         }
        },
        "title": {
         "text": "annotator-4",
         "x": 0.5
        },
        "width": 650,
        "xaxis": {
         "range": [
          0,
          222.06111
         ],
         "title": {
          "text": "Time (s)"
         }
        },
        "yaxis": {
         "categoryarray": [
          "fine",
          "coarse"
         ],
         "categoryorder": "array",
         "title": {}
        }
       }
      }
     },
     "metadata": {},
     "output_type": "display_data"
    },
    {
     "data": {
      "application/vnd.plotly.v1+json": {
       "config": {
        "plotlyServerURL": "https://plot.ly"
       },
       "data": [
        {
         "base": [
          0,
          0,
          152.97,
          8.54,
          153.6,
          11.06,
          12.98,
          13.61,
          32.75,
          75.15,
          32.12,
          74.5,
          32.12,
          74.5,
          32.12,
          75.15,
          32.12,
          74.5,
          32.12,
          74.5
         ],
         "customdata": [
          "<b>0</b><br>Layer: L01<br>Start: 0.000s<br>End: 222.061s<br>Duration: 222.061s",
          "<b>0</b><br>Layer: L02<br>Start: 0.000s<br>End: 104.140s<br>Duration: 104.140s",
          "<b>0</b><br>Layer: L02<br>Start: 152.970s<br>End: 191.310s<br>Duration: 38.340s",
          "<b>0</b><br>Layer: L03<br>Start: 8.540s<br>End: 104.140s<br>Duration: 95.600s",
          "<b>0</b><br>Layer: L03<br>Start: 153.600s<br>End: 191.310s<br>Duration: 37.710s",
          "<b>0</b><br>Layer: L04<br>Start: 11.060s<br>End: 93.140s<br>Duration: 82.080s",
          "<b>0</b><br>Layer: L05<br>Start: 12.980s<br>End: 94.440s<br>Duration: 81.460s",
          "<b>0</b><br>Layer: L06<br>Start: 13.610s<br>End: 94.440s<br>Duration: 80.830s",
          "<b>0</b><br>Layer: L07<br>Start: 32.750s<br>End: 62.310s<br>Duration: 29.560s",
          "<b>0</b><br>Layer: L07<br>Start: 75.150s<br>End: 93.140s<br>Duration: 17.990s",
          "<b>0</b><br>Layer: L08<br>Start: 32.120s<br>End: 61.670s<br>Duration: 29.550s",
          "<b>0</b><br>Layer: L08<br>Start: 74.500s<br>End: 94.440s<br>Duration: 19.940s",
          "<b>0</b><br>Layer: L09<br>Start: 32.120s<br>End: 54.600s<br>Duration: 22.480s",
          "<b>0</b><br>Layer: L09<br>Start: 74.500s<br>End: 93.810s<br>Duration: 19.310s",
          "<b>0</b><br>Layer: L10<br>Start: 32.120s<br>End: 55.250s<br>Duration: 23.130s",
          "<b>0</b><br>Layer: L10<br>Start: 75.150s<br>End: 93.810s<br>Duration: 18.660s",
          "<b>0</b><br>Layer: L11<br>Start: 32.120s<br>End: 54.600s<br>Duration: 22.480s",
          "<b>0</b><br>Layer: L11<br>Start: 74.500s<br>End: 93.140s<br>Duration: 18.640s",
          "<b>0</b><br>Layer: L12<br>Start: 32.120s<br>End: 54.600s<br>Duration: 22.480s",
          "<b>0</b><br>Layer: L12<br>Start: 74.500s<br>End: 93.140s<br>Duration: 18.640s"
         ],
         "hovertemplate": "%{customdata}<extra></extra>",
         "insidetextanchor": "middle",
         "marker": {
          "color": "#1F77B4",
          "line": {
           "color": "white",
           "width": 0.5
          },
          "pattern": {
           "fgcolor": "white",
           "fgopacity": 0.5,
           "shape": "",
           "solidity": 0.25
          }
         },
         "name": "0",
         "orientation": "h",
         "showlegend": true,
         "text": [
          "0",
          "0",
          "0",
          "0",
          "0",
          "0",
          "0",
          "0",
          "0",
          "0",
          "0",
          "0",
          "0",
          "0",
          "0",
          "0",
          "0",
          "0",
          "0",
          "0"
         ],
         "textposition": "inside",
         "type": "bar",
         "width": 1,
         "x": [
          222.06111,
          104.14,
          38.34,
          95.6,
          37.71000000000001,
          82.08,
          81.46,
          80.83,
          29.560000000000002,
          17.989999999999995,
          29.550000000000004,
          19.939999999999998,
          22.480000000000004,
          19.310000000000002,
          23.130000000000003,
          18.659999999999997,
          22.480000000000004,
          18.64,
          22.480000000000004,
          18.64
         ],
         "y": [
          "L01",
          "L02",
          "L02",
          "L03",
          "L03",
          "L04",
          "L05",
          "L06",
          "L07",
          "L07",
          "L08",
          "L08",
          "L09",
          "L09",
          "L10",
          "L10",
          "L11",
          "L11",
          "L12",
          "L12"
         ]
        },
        {
         "base": [
          104.14,
          191.31,
          0,
          104.14,
          191.31,
          104.14,
          111.83,
          111.83,
          111.83,
          104.14,
          104.77,
          104.77,
          105.4,
          117.6
         ],
         "customdata": [
          "<b>1</b><br>Layer: L02<br>Start: 104.140s<br>End: 152.970s<br>Duration: 48.830s",
          "<b>1</b><br>Layer: L02<br>Start: 191.310s<br>End: 222.061s<br>Duration: 30.751s",
          "<b>1</b><br>Layer: L03<br>Start: 0.000s<br>End: 8.540s<br>Duration: 8.540s",
          "<b>1</b><br>Layer: L03<br>Start: 104.140s<br>End: 153.600s<br>Duration: 49.460s",
          "<b>1</b><br>Layer: L03<br>Start: 191.310s<br>End: 222.061s<br>Duration: 30.751s",
          "<b>1</b><br>Layer: L04<br>Start: 104.140s<br>End: 153.600s<br>Duration: 49.460s",
          "<b>1</b><br>Layer: L05<br>Start: 111.830s<br>End: 153.600s<br>Duration: 41.770s",
          "<b>1</b><br>Layer: L06<br>Start: 111.830s<br>End: 153.600s<br>Duration: 41.770s",
          "<b>1</b><br>Layer: L07<br>Start: 111.830s<br>End: 152.970s<br>Duration: 41.140s",
          "<b>1</b><br>Layer: L08<br>Start: 104.140s<br>End: 152.970s<br>Duration: 48.830s",
          "<b>1</b><br>Layer: L09<br>Start: 104.770s<br>End: 159.920s<br>Duration: 55.150s",
          "<b>1</b><br>Layer: L10<br>Start: 104.770s<br>End: 159.280s<br>Duration: 54.510s",
          "<b>1</b><br>Layer: L11<br>Start: 105.400s<br>End: 158.650s<br>Duration: 53.250s",
          "<b>1</b><br>Layer: L12<br>Start: 117.600s<br>End: 152.970s<br>Duration: 35.370s"
         ],
         "hovertemplate": "%{customdata}<extra></extra>",
         "insidetextanchor": "middle",
         "marker": {
          "color": "#FF7F0E",
          "line": {
           "color": "white",
           "width": 0.5
          },
          "pattern": {
           "fgcolor": "white",
           "fgopacity": 0.5,
           "shape": "",
           "solidity": 0.25
          }
         },
         "name": "1",
         "orientation": "h",
         "showlegend": true,
         "text": [
          "1",
          "1",
          "1",
          "1",
          "1",
          "1",
          "1",
          "1",
          "1",
          "1",
          "1",
          "1",
          "1",
          "1"
         ],
         "textposition": "inside",
         "type": "bar",
         "width": 1,
         "x": [
          48.83,
          30.75111000000001,
          8.54,
          49.459999999999994,
          30.75111000000001,
          49.459999999999994,
          41.769999999999996,
          41.769999999999996,
          41.14,
          48.83,
          55.14999999999999,
          54.510000000000005,
          53.25,
          35.370000000000005
         ],
         "y": [
          "L02",
          "L02",
          "L03",
          "L03",
          "L03",
          "L04",
          "L05",
          "L06",
          "L07",
          "L08",
          "L09",
          "L10",
          "L11",
          "L12"
         ]
        },
        {
         "base": [
          0,
          190.65,
          103.47,
          190.02,
          103.47,
          190.02,
          103.47,
          190.65,
          190.65,
          191.31,
          191.31,
          191.31,
          191.31
         ],
         "customdata": [
          "<b>2</b><br>Layer: L04<br>Start: 0.000s<br>End: 11.060s<br>Duration: 11.060s",
          "<b>2</b><br>Layer: L04<br>Start: 190.650s<br>End: 222.061s<br>Duration: 31.411s",
          "<b>2</b><br>Layer: L05<br>Start: 103.470s<br>End: 111.830s<br>Duration: 8.360s",
          "<b>2</b><br>Layer: L05<br>Start: 190.020s<br>End: 222.061s<br>Duration: 32.041s",
          "<b>2</b><br>Layer: L06<br>Start: 103.470s<br>End: 111.830s<br>Duration: 8.360s",
          "<b>2</b><br>Layer: L06<br>Start: 190.020s<br>End: 222.061s<br>Duration: 32.041s",
          "<b>2</b><br>Layer: L07<br>Start: 103.470s<br>End: 111.830s<br>Duration: 8.360s",
          "<b>2</b><br>Layer: L07<br>Start: 190.650s<br>End: 222.061s<br>Duration: 31.411s",
          "<b>2</b><br>Layer: L08<br>Start: 190.650s<br>End: 222.061s<br>Duration: 31.411s",
          "<b>2</b><br>Layer: L09<br>Start: 191.310s<br>End: 222.061s<br>Duration: 30.751s",
          "<b>2</b><br>Layer: L10<br>Start: 191.310s<br>End: 222.061s<br>Duration: 30.751s",
          "<b>2</b><br>Layer: L11<br>Start: 191.310s<br>End: 222.061s<br>Duration: 30.751s",
          "<b>2</b><br>Layer: L12<br>Start: 191.310s<br>End: 222.061s<br>Duration: 30.751s"
         ],
         "hovertemplate": "%{customdata}<extra></extra>",
         "insidetextanchor": "middle",
         "marker": {
          "color": "#2CA02C",
          "line": {
           "color": "white",
           "width": 0.5
          },
          "pattern": {
           "fgcolor": "white",
           "fgopacity": 0.5,
           "shape": "",
           "solidity": 0.25
          }
         },
         "name": "2",
         "orientation": "h",
         "showlegend": true,
         "text": [
          "2",
          "2",
          "2",
          "2",
          "2",
          "2",
          "2",
          "2",
          "2",
          "2",
          "2",
          "2",
          "2"
         ],
         "textposition": "inside",
         "type": "bar",
         "width": 1,
         "x": [
          11.06,
          31.411110000000008,
          8.36,
          32.04111,
          8.36,
          32.04111,
          8.36,
          31.411110000000008,
          31.411110000000008,
          30.75111000000001,
          30.75111000000001,
          30.75111000000001,
          30.75111000000001
         ],
         "y": [
          "L04",
          "L04",
          "L05",
          "L05",
          "L06",
          "L06",
          "L07",
          "L07",
          "L08",
          "L09",
          "L10",
          "L11",
          "L12"
         ]
        },
        {
         "base": [
          93.14,
          153.6,
          94.44,
          153.6,
          94.44,
          153.6,
          93.14,
          169.52,
          94.44,
          169.52,
          54.6,
          93.81,
          169.52,
          55.25,
          93.81,
          168.89,
          54.6,
          93.14,
          171.47,
          54.6,
          93.14,
          170.82
         ],
         "customdata": [
          "<b>3</b><br>Layer: L04<br>Start: 93.140s<br>End: 104.140s<br>Duration: 11.000s",
          "<b>3</b><br>Layer: L04<br>Start: 153.600s<br>End: 190.650s<br>Duration: 37.050s",
          "<b>3</b><br>Layer: L05<br>Start: 94.440s<br>End: 103.470s<br>Duration: 9.030s",
          "<b>3</b><br>Layer: L05<br>Start: 153.600s<br>End: 190.020s<br>Duration: 36.420s",
          "<b>3</b><br>Layer: L06<br>Start: 94.440s<br>End: 103.470s<br>Duration: 9.030s",
          "<b>3</b><br>Layer: L06<br>Start: 153.600s<br>End: 190.020s<br>Duration: 36.420s",
          "<b>3</b><br>Layer: L07<br>Start: 93.140s<br>End: 103.470s<br>Duration: 10.330s",
          "<b>3</b><br>Layer: L07<br>Start: 169.520s<br>End: 190.650s<br>Duration: 21.130s",
          "<b>3</b><br>Layer: L08<br>Start: 94.440s<br>End: 104.140s<br>Duration: 9.700s",
          "<b>3</b><br>Layer: L08<br>Start: 169.520s<br>End: 190.650s<br>Duration: 21.130s",
          "<b>3</b><br>Layer: L09<br>Start: 54.600s<br>End: 63.590s<br>Duration: 8.990s",
          "<b>3</b><br>Layer: L09<br>Start: 93.810s<br>End: 104.770s<br>Duration: 10.960s",
          "<b>3</b><br>Layer: L09<br>Start: 169.520s<br>End: 191.310s<br>Duration: 21.790s",
          "<b>3</b><br>Layer: L10<br>Start: 55.250s<br>End: 63.590s<br>Duration: 8.340s",
          "<b>3</b><br>Layer: L10<br>Start: 93.810s<br>End: 104.770s<br>Duration: 10.960s",
          "<b>3</b><br>Layer: L10<br>Start: 168.890s<br>End: 191.310s<br>Duration: 22.420s",
          "<b>3</b><br>Layer: L11<br>Start: 54.600s<br>End: 64.240s<br>Duration: 9.640s",
          "<b>3</b><br>Layer: L11<br>Start: 93.140s<br>End: 105.400s<br>Duration: 12.260s",
          "<b>3</b><br>Layer: L11<br>Start: 171.470s<br>End: 191.310s<br>Duration: 19.840s",
          "<b>3</b><br>Layer: L12<br>Start: 54.600s<br>End: 64.240s<br>Duration: 9.640s",
          "<b>3</b><br>Layer: L12<br>Start: 93.140s<br>End: 109.280s<br>Duration: 16.140s",
          "<b>3</b><br>Layer: L12<br>Start: 170.820s<br>End: 191.310s<br>Duration: 20.490s"
         ],
         "hovertemplate": "%{customdata}<extra></extra>",
         "insidetextanchor": "middle",
         "marker": {
          "color": "#D62728",
          "line": {
           "color": "white",
           "width": 0.5
          },
          "pattern": {
           "fgcolor": "white",
           "fgopacity": 0.5,
           "shape": "",
           "solidity": 0.25
          }
         },
         "name": "3",
         "orientation": "h",
         "showlegend": true,
         "text": [
          "3",
          "3",
          "3",
          "3",
          "3",
          "3",
          "3",
          "3",
          "3",
          "3",
          "3",
          "3",
          "3",
          "3",
          "3",
          "3",
          "3",
          "3",
          "3",
          "3",
          "3",
          "3"
         ],
         "textposition": "inside",
         "type": "bar",
         "width": 1,
         "x": [
          11,
          37.05000000000001,
          9.030000000000001,
          36.420000000000016,
          9.030000000000001,
          36.420000000000016,
          10.329999999999998,
          21.129999999999995,
          9.700000000000003,
          21.129999999999995,
          8.990000000000002,
          10.959999999999994,
          21.789999999999992,
          8.340000000000003,
          10.959999999999994,
          22.420000000000016,
          9.639999999999993,
          12.260000000000005,
          19.840000000000003,
          9.639999999999993,
          16.14,
          20.49000000000001
         ],
         "y": [
          "L04",
          "L04",
          "L05",
          "L05",
          "L06",
          "L06",
          "L07",
          "L07",
          "L08",
          "L08",
          "L09",
          "L09",
          "L09",
          "L10",
          "L10",
          "L10",
          "L11",
          "L11",
          "L11",
          "L12",
          "L12",
          "L12"
         ]
        },
        {
         "base": [
          0,
          0,
          0,
          0,
          0,
          0,
          0,
          0
         ],
         "customdata": [
          "<b>4</b><br>Layer: L05<br>Start: 0.000s<br>End: 12.980s<br>Duration: 12.980s",
          "<b>4</b><br>Layer: L06<br>Start: 0.000s<br>End: 13.610s<br>Duration: 13.610s",
          "<b>4</b><br>Layer: L07<br>Start: 0.000s<br>End: 13.610s<br>Duration: 13.610s",
          "<b>4</b><br>Layer: L08<br>Start: 0.000s<br>End: 12.980s<br>Duration: 12.980s",
          "<b>4</b><br>Layer: L09<br>Start: 0.000s<br>End: 12.980s<br>Duration: 12.980s",
          "<b>4</b><br>Layer: L10<br>Start: 0.000s<br>End: 9.800s<br>Duration: 9.800s",
          "<b>4</b><br>Layer: L11<br>Start: 0.000s<br>End: 16.160s<br>Duration: 16.160s",
          "<b>4</b><br>Layer: L12<br>Start: 0.000s<br>End: 16.160s<br>Duration: 16.160s"
         ],
         "hovertemplate": "%{customdata}<extra></extra>",
         "insidetextanchor": "middle",
         "marker": {
          "color": "#9467BD",
          "line": {
           "color": "white",
           "width": 0.5
          },
          "pattern": {
           "fgcolor": "white",
           "fgopacity": 0.5,
           "shape": "",
           "solidity": 0.25
          }
         },
         "name": "4",
         "orientation": "h",
         "showlegend": true,
         "text": [
          "4",
          "4",
          "4",
          "4",
          "4",
          "4",
          "4",
          "4"
         ],
         "textposition": "inside",
         "type": "bar",
         "width": 1,
         "x": [
          12.98,
          13.61,
          13.61,
          12.98,
          12.98,
          9.8,
          16.16,
          16.16
         ],
         "y": [
          "L05",
          "L06",
          "L07",
          "L08",
          "L09",
          "L10",
          "L11",
          "L12"
         ]
        },
        {
         "base": [
          13.61,
          62.31,
          12.98,
          61.67,
          12.98,
          63.59,
          9.8,
          63.59,
          16.16,
          64.24,
          16.16,
          64.24
         ],
         "customdata": [
          "<b>6</b><br>Layer: L07<br>Start: 13.610s<br>End: 32.750s<br>Duration: 19.140s",
          "<b>6</b><br>Layer: L07<br>Start: 62.310s<br>End: 75.150s<br>Duration: 12.840s",
          "<b>6</b><br>Layer: L08<br>Start: 12.980s<br>End: 32.120s<br>Duration: 19.140s",
          "<b>6</b><br>Layer: L08<br>Start: 61.670s<br>End: 74.500s<br>Duration: 12.830s",
          "<b>6</b><br>Layer: L09<br>Start: 12.980s<br>End: 32.120s<br>Duration: 19.140s",
          "<b>6</b><br>Layer: L09<br>Start: 63.590s<br>End: 74.500s<br>Duration: 10.910s",
          "<b>6</b><br>Layer: L10<br>Start: 9.800s<br>End: 32.120s<br>Duration: 22.320s",
          "<b>6</b><br>Layer: L10<br>Start: 63.590s<br>End: 75.150s<br>Duration: 11.560s",
          "<b>6</b><br>Layer: L11<br>Start: 16.160s<br>End: 32.120s<br>Duration: 15.960s",
          "<b>6</b><br>Layer: L11<br>Start: 64.240s<br>End: 74.500s<br>Duration: 10.260s",
          "<b>6</b><br>Layer: L12<br>Start: 16.160s<br>End: 32.120s<br>Duration: 15.960s",
          "<b>6</b><br>Layer: L12<br>Start: 64.240s<br>End: 74.500s<br>Duration: 10.260s"
         ],
         "hovertemplate": "%{customdata}<extra></extra>",
         "insidetextanchor": "middle",
         "marker": {
          "color": "#8C564B",
          "line": {
           "color": "white",
           "width": 0.5
          },
          "pattern": {
           "fgcolor": "white",
           "fgopacity": 0.5,
           "shape": "",
           "solidity": 0.25
          }
         },
         "name": "6",
         "orientation": "h",
         "showlegend": true,
         "text": [
          "6",
          "6",
          "6",
          "6",
          "6",
          "6",
          "6",
          "6",
          "6",
          "6",
          "6",
          "6"
         ],
         "textposition": "inside",
         "type": "bar",
         "width": 1,
         "x": [
          19.14,
          12.840000000000003,
          19.139999999999997,
          12.829999999999998,
          19.139999999999997,
          10.909999999999997,
          22.319999999999997,
          11.560000000000002,
          15.959999999999997,
          10.260000000000005,
          15.959999999999997,
          10.260000000000005
         ],
         "y": [
          "L07",
          "L07",
          "L08",
          "L08",
          "L09",
          "L09",
          "L10",
          "L10",
          "L11",
          "L11",
          "L12",
          "L12"
         ]
        },
        {
         "base": [
          152.97,
          152.97,
          159.92,
          159.28,
          158.65,
          152.97
         ],
         "customdata": [
          "<b>5</b><br>Layer: L07<br>Start: 152.970s<br>End: 169.520s<br>Duration: 16.550s",
          "<b>5</b><br>Layer: L08<br>Start: 152.970s<br>End: 169.520s<br>Duration: 16.550s",
          "<b>5</b><br>Layer: L09<br>Start: 159.920s<br>End: 169.520s<br>Duration: 9.600s",
          "<b>5</b><br>Layer: L10<br>Start: 159.280s<br>End: 168.890s<br>Duration: 9.610s",
          "<b>5</b><br>Layer: L11<br>Start: 158.650s<br>End: 171.470s<br>Duration: 12.820s",
          "<b>5</b><br>Layer: L12<br>Start: 152.970s<br>End: 170.820s<br>Duration: 17.850s"
         ],
         "hovertemplate": "%{customdata}<extra></extra>",
         "insidetextanchor": "middle",
         "marker": {
          "color": "#E377C2",
          "line": {
           "color": "white",
           "width": 0.5
          },
          "pattern": {
           "fgcolor": "white",
           "fgopacity": 0.5,
           "shape": "",
           "solidity": 0.25
          }
         },
         "name": "5",
         "orientation": "h",
         "showlegend": true,
         "text": [
          "5",
          "5",
          "5",
          "5",
          "5",
          "5"
         ],
         "textposition": "inside",
         "type": "bar",
         "width": 1,
         "x": [
          16.55000000000001,
          16.55000000000001,
          9.600000000000023,
          9.609999999999985,
          12.819999999999993,
          17.849999999999994
         ],
         "y": [
          "L07",
          "L08",
          "L09",
          "L10",
          "L11",
          "L12"
         ]
        },
        {
         "base": [
          109.28
         ],
         "customdata": [
          "<b>11</b><br>Layer: L12<br>Start: 109.280s<br>End: 117.600s<br>Duration: 8.320s"
         ],
         "hovertemplate": "%{customdata}<extra></extra>",
         "insidetextanchor": "middle",
         "marker": {
          "color": "#7F7F7F",
          "line": {
           "color": "white",
           "width": 0.5
          },
          "pattern": {
           "fgcolor": "white",
           "fgopacity": 0.5,
           "shape": "",
           "solidity": 0.25
          }
         },
         "name": "11",
         "orientation": "h",
         "showlegend": true,
         "text": [
          "11"
         ],
         "textposition": "inside",
         "type": "bar",
         "width": 1,
         "x": [
          8.319999999999993
         ],
         "y": [
          "L12"
         ]
        }
       ],
       "layout": {
        "barmode": "overlay",
        "height": 370,
        "margin": {
         "b": 20,
         "l": 20,
         "r": 20,
         "t": 40
        },
        "showlegend": false,
        "template": {
         "data": {
          "bar": [
           {
            "error_x": {
             "color": "#2a3f5f"
            },
            "error_y": {
             "color": "#2a3f5f"
            },
            "marker": {
             "line": {
              "color": "#E5ECF6",
              "width": 0.5
             },
             "pattern": {
              "fillmode": "overlay",
              "size": 10,
              "solidity": 0.2
             }
            },
            "type": "bar"
           }
          ],
          "barpolar": [
           {
            "marker": {
             "line": {
              "color": "#E5ECF6",
              "width": 0.5
             },
             "pattern": {
              "fillmode": "overlay",
              "size": 10,
              "solidity": 0.2
             }
            },
            "type": "barpolar"
           }
          ],
          "carpet": [
           {
            "aaxis": {
             "endlinecolor": "#2a3f5f",
             "gridcolor": "white",
             "linecolor": "white",
             "minorgridcolor": "white",
             "startlinecolor": "#2a3f5f"
            },
            "baxis": {
             "endlinecolor": "#2a3f5f",
             "gridcolor": "white",
             "linecolor": "white",
             "minorgridcolor": "white",
             "startlinecolor": "#2a3f5f"
            },
            "type": "carpet"
           }
          ],
          "choropleth": [
           {
            "colorbar": {
             "outlinewidth": 0,
             "ticks": ""
            },
            "type": "choropleth"
           }
          ],
          "contour": [
           {
            "colorbar": {
             "outlinewidth": 0,
             "ticks": ""
            },
            "colorscale": [
             [
              0,
              "#0d0887"
             ],
             [
              0.1111111111111111,
              "#46039f"
             ],
             [
              0.2222222222222222,
              "#7201a8"
             ],
             [
              0.3333333333333333,
              "#9c179e"
             ],
             [
              0.4444444444444444,
              "#bd3786"
             ],
             [
              0.5555555555555556,
              "#d8576b"
             ],
             [
              0.6666666666666666,
              "#ed7953"
             ],
             [
              0.7777777777777778,
              "#fb9f3a"
             ],
             [
              0.8888888888888888,
              "#fdca26"
             ],
             [
              1,
              "#f0f921"
             ]
            ],
            "type": "contour"
           }
          ],
          "contourcarpet": [
           {
            "colorbar": {
             "outlinewidth": 0,
             "ticks": ""
            },
            "type": "contourcarpet"
           }
          ],
          "heatmap": [
           {
            "colorbar": {
             "outlinewidth": 0,
             "ticks": ""
            },
            "colorscale": [
             [
              0,
              "#0d0887"
             ],
             [
              0.1111111111111111,
              "#46039f"
             ],
             [
              0.2222222222222222,
              "#7201a8"
             ],
             [
              0.3333333333333333,
              "#9c179e"
             ],
             [
              0.4444444444444444,
              "#bd3786"
             ],
             [
              0.5555555555555556,
              "#d8576b"
             ],
             [
              0.6666666666666666,
              "#ed7953"
             ],
             [
              0.7777777777777778,
              "#fb9f3a"
             ],
             [
              0.8888888888888888,
              "#fdca26"
             ],
             [
              1,
              "#f0f921"
             ]
            ],
            "type": "heatmap"
           }
          ],
          "histogram": [
           {
            "marker": {
             "pattern": {
              "fillmode": "overlay",
              "size": 10,
              "solidity": 0.2
             }
            },
            "type": "histogram"
           }
          ],
          "histogram2d": [
           {
            "colorbar": {
             "outlinewidth": 0,
             "ticks": ""
            },
            "colorscale": [
             [
              0,
              "#0d0887"
             ],
             [
              0.1111111111111111,
              "#46039f"
             ],
             [
              0.2222222222222222,
              "#7201a8"
             ],
             [
              0.3333333333333333,
              "#9c179e"
             ],
             [
              0.4444444444444444,
              "#bd3786"
             ],
             [
              0.5555555555555556,
              "#d8576b"
             ],
             [
              0.6666666666666666,
              "#ed7953"
             ],
             [
              0.7777777777777778,
              "#fb9f3a"
             ],
             [
              0.8888888888888888,
              "#fdca26"
             ],
             [
              1,
              "#f0f921"
             ]
            ],
            "type": "histogram2d"
           }
          ],
          "histogram2dcontour": [
           {
            "colorbar": {
             "outlinewidth": 0,
             "ticks": ""
            },
            "colorscale": [
             [
              0,
              "#0d0887"
             ],
             [
              0.1111111111111111,
              "#46039f"
             ],
             [
              0.2222222222222222,
              "#7201a8"
             ],
             [
              0.3333333333333333,
              "#9c179e"
             ],
             [
              0.4444444444444444,
              "#bd3786"
             ],
             [
              0.5555555555555556,
              "#d8576b"
             ],
             [
              0.6666666666666666,
              "#ed7953"
             ],
             [
              0.7777777777777778,
              "#fb9f3a"
             ],
             [
              0.8888888888888888,
              "#fdca26"
             ],
             [
              1,
              "#f0f921"
             ]
            ],
            "type": "histogram2dcontour"
           }
          ],
          "mesh3d": [
           {
            "colorbar": {
             "outlinewidth": 0,
             "ticks": ""
            },
            "type": "mesh3d"
           }
          ],
          "parcoords": [
           {
            "line": {
             "colorbar": {
              "outlinewidth": 0,
              "ticks": ""
             }
            },
            "type": "parcoords"
           }
          ],
          "pie": [
           {
            "automargin": true,
            "type": "pie"
           }
          ],
          "scatter": [
           {
            "fillpattern": {
             "fillmode": "overlay",
             "size": 10,
             "solidity": 0.2
            },
            "type": "scatter"
           }
          ],
          "scatter3d": [
           {
            "line": {
             "colorbar": {
              "outlinewidth": 0,
              "ticks": ""
             }
            },
            "marker": {
             "colorbar": {
              "outlinewidth": 0,
              "ticks": ""
             }
            },
            "type": "scatter3d"
           }
          ],
          "scattercarpet": [
           {
            "marker": {
             "colorbar": {
              "outlinewidth": 0,
              "ticks": ""
             }
            },
            "type": "scattercarpet"
           }
          ],
          "scattergeo": [
           {
            "marker": {
             "colorbar": {
              "outlinewidth": 0,
              "ticks": ""
             }
            },
            "type": "scattergeo"
           }
          ],
          "scattergl": [
           {
            "marker": {
             "colorbar": {
              "outlinewidth": 0,
              "ticks": ""
             }
            },
            "type": "scattergl"
           }
          ],
          "scattermap": [
           {
            "marker": {
             "colorbar": {
              "outlinewidth": 0,
              "ticks": ""
             }
            },
            "type": "scattermap"
           }
          ],
          "scattermapbox": [
           {
            "marker": {
             "colorbar": {
              "outlinewidth": 0,
              "ticks": ""
             }
            },
            "type": "scattermapbox"
           }
          ],
          "scatterpolar": [
           {
            "marker": {
             "colorbar": {
              "outlinewidth": 0,
              "ticks": ""
             }
            },
            "type": "scatterpolar"
           }
          ],
          "scatterpolargl": [
           {
            "marker": {
             "colorbar": {
              "outlinewidth": 0,
              "ticks": ""
             }
            },
            "type": "scatterpolargl"
           }
          ],
          "scatterternary": [
           {
            "marker": {
             "colorbar": {
              "outlinewidth": 0,
              "ticks": ""
             }
            },
            "type": "scatterternary"
           }
          ],
          "surface": [
           {
            "colorbar": {
             "outlinewidth": 0,
             "ticks": ""
            },
            "colorscale": [
             [
              0,
              "#0d0887"
             ],
             [
              0.1111111111111111,
              "#46039f"
             ],
             [
              0.2222222222222222,
              "#7201a8"
             ],
             [
              0.3333333333333333,
              "#9c179e"
             ],
             [
              0.4444444444444444,
              "#bd3786"
             ],
             [
              0.5555555555555556,
              "#d8576b"
             ],
             [
              0.6666666666666666,
              "#ed7953"
             ],
             [
              0.7777777777777778,
              "#fb9f3a"
             ],
             [
              0.8888888888888888,
              "#fdca26"
             ],
             [
              1,
              "#f0f921"
             ]
            ],
            "type": "surface"
           }
          ],
          "table": [
           {
            "cells": {
             "fill": {
              "color": "#EBF0F8"
             },
             "line": {
              "color": "white"
             }
            },
            "header": {
             "fill": {
              "color": "#C8D4E3"
             },
             "line": {
              "color": "white"
             }
            },
            "type": "table"
           }
          ]
         },
         "layout": {
          "annotationdefaults": {
           "arrowcolor": "#2a3f5f",
           "arrowhead": 0,
           "arrowwidth": 1
          },
          "autotypenumbers": "strict",
          "coloraxis": {
           "colorbar": {
            "outlinewidth": 0,
            "ticks": ""
           }
          },
          "colorscale": {
           "diverging": [
            [
             0,
             "#8e0152"
            ],
            [
             0.1,
             "#c51b7d"
            ],
            [
             0.2,
             "#de77ae"
            ],
            [
             0.3,
             "#f1b6da"
            ],
            [
             0.4,
             "#fde0ef"
            ],
            [
             0.5,
             "#f7f7f7"
            ],
            [
             0.6,
             "#e6f5d0"
            ],
            [
             0.7,
             "#b8e186"
            ],
            [
             0.8,
             "#7fbc41"
            ],
            [
             0.9,
             "#4d9221"
            ],
            [
             1,
             "#276419"
            ]
           ],
           "sequential": [
            [
             0,
             "#0d0887"
            ],
            [
             0.1111111111111111,
             "#46039f"
            ],
            [
             0.2222222222222222,
             "#7201a8"
            ],
            [
             0.3333333333333333,
             "#9c179e"
            ],
            [
             0.4444444444444444,
             "#bd3786"
            ],
            [
             0.5555555555555556,
             "#d8576b"
            ],
            [
             0.6666666666666666,
             "#ed7953"
            ],
            [
             0.7777777777777778,
             "#fb9f3a"
            ],
            [
             0.8888888888888888,
             "#fdca26"
            ],
            [
             1,
             "#f0f921"
            ]
           ],
           "sequentialminus": [
            [
             0,
             "#0d0887"
            ],
            [
             0.1111111111111111,
             "#46039f"
            ],
            [
             0.2222222222222222,
             "#7201a8"
            ],
            [
             0.3333333333333333,
             "#9c179e"
            ],
            [
             0.4444444444444444,
             "#bd3786"
            ],
            [
             0.5555555555555556,
             "#d8576b"
            ],
            [
             0.6666666666666666,
             "#ed7953"
            ],
            [
             0.7777777777777778,
             "#fb9f3a"
            ],
            [
             0.8888888888888888,
             "#fdca26"
            ],
            [
             1,
             "#f0f921"
            ]
           ]
          },
          "colorway": [
           "#636efa",
           "#EF553B",
           "#00cc96",
           "#ab63fa",
           "#FFA15A",
           "#19d3f3",
           "#FF6692",
           "#B6E880",
           "#FF97FF",
           "#FECB52"
          ],
          "font": {
           "color": "#2a3f5f"
          },
          "geo": {
           "bgcolor": "white",
           "lakecolor": "white",
           "landcolor": "#E5ECF6",
           "showlakes": true,
           "showland": true,
           "subunitcolor": "white"
          },
          "hoverlabel": {
           "align": "left"
          },
          "hovermode": "closest",
          "mapbox": {
           "style": "light"
          },
          "paper_bgcolor": "white",
          "plot_bgcolor": "#E5ECF6",
          "polar": {
           "angularaxis": {
            "gridcolor": "white",
            "linecolor": "white",
            "ticks": ""
           },
           "bgcolor": "#E5ECF6",
           "radialaxis": {
            "gridcolor": "white",
            "linecolor": "white",
            "ticks": ""
           }
          },
          "scene": {
           "xaxis": {
            "backgroundcolor": "#E5ECF6",
            "gridcolor": "white",
            "gridwidth": 2,
            "linecolor": "white",
            "showbackground": true,
            "ticks": "",
            "zerolinecolor": "white"
           },
           "yaxis": {
            "backgroundcolor": "#E5ECF6",
            "gridcolor": "white",
            "gridwidth": 2,
            "linecolor": "white",
            "showbackground": true,
            "ticks": "",
            "zerolinecolor": "white"
           },
           "zaxis": {
            "backgroundcolor": "#E5ECF6",
            "gridcolor": "white",
            "gridwidth": 2,
            "linecolor": "white",
            "showbackground": true,
            "ticks": "",
            "zerolinecolor": "white"
           }
          },
          "shapedefaults": {
           "line": {
            "color": "#2a3f5f"
           }
          },
          "ternary": {
           "aaxis": {
            "gridcolor": "white",
            "linecolor": "white",
            "ticks": ""
           },
           "baxis": {
            "gridcolor": "white",
            "linecolor": "white",
            "ticks": ""
           },
           "bgcolor": "#E5ECF6",
           "caxis": {
            "gridcolor": "white",
            "linecolor": "white",
            "ticks": ""
           }
          },
          "title": {
           "x": 0.05
          },
          "xaxis": {
           "automargin": true,
           "gridcolor": "white",
           "linecolor": "white",
           "ticks": "",
           "title": {
            "standoff": 15
           },
           "zerolinecolor": "white",
           "zerolinewidth": 2
          },
          "yaxis": {
           "automargin": true,
           "gridcolor": "white",
           "linecolor": "white",
           "ticks": "",
           "title": {
            "standoff": 15
           },
           "zerolinecolor": "white",
           "zerolinewidth": 2
          }
         }
        },
        "title": {
         "text": "adobe-mu1gamma9",
         "x": 0.5
        },
        "width": 650,
        "xaxis": {
         "range": [
          0,
          222.06111
         ],
         "title": {
          "text": "Time (s)"
         }
        },
        "yaxis": {
         "categoryarray": [
          "L12",
          "L11",
          "L10",
          "L09",
          "L08",
          "L07",
          "L06",
          "L05",
          "L04",
          "L03",
          "L02",
          "L01"
         ],
         "categoryorder": "array",
         "title": {}
        }
       }
      }
     },
     "metadata": {},
     "output_type": "display_data"
    }
   ],
   "source": [
    "track = slm_ds[11]\n",
    "ref = list(track.refs.values())[0]\n",
    "est = track.ests['mu1gamma9'].align(ref)\n",
    "\n",
    "ref.plot().show()\n",
    "est.plot().show()"
   ]
  },
  {
   "cell_type": "code",
   "execution_count": 10,
   "id": "7adadf47",
   "metadata": {},
   "outputs": [],
   "source": [
    "est_contour_depth = est.contour('depth')\n",
    "est_contour_count = est.contour('count')\n",
    "est_contour_weight = est.contour('prob')"
   ]
  },
  {
   "cell_type": "code",
   "execution_count": 50,
   "id": "da5a0f99",
   "metadata": {},
   "outputs": [],
   "source": [
    "est_by_depth = est_contour_depth.level('mean_shift', bw=0.15).to_ms(name='depth').prune_layers().scrub_labels()\n",
    "est_by_count = est_contour_count.level('mean_shift', bw=0.15).to_ms(name='count').prune_layers().scrub_labels()\n",
    "est_by_weight = est_contour_weight.level('mean_shift', bw=0.15).to_ms(name='weight').prune_layers().scrub_labels()"
   ]
  },
  {
   "cell_type": "code",
   "execution_count": 48,
   "id": "11394cac",
   "metadata": {},
   "outputs": [],
   "source": [
    "est_by_depth_tall = est_contour_depth.level().to_ms(name='depth').prune_layers().scrub_labels()\n",
    "est_by_count_tall = est_contour_count.level().to_ms(name='count').prune_layers().scrub_labels()\n",
    "est_by_weight_tall = est_contour_weight.level().to_ms(name='weight').prune_layers().scrub_labels()"
   ]
  },
  {
   "cell_type": "code",
   "execution_count": 51,
   "id": "74fbd3e7",
   "metadata": {},
   "outputs": [
    {
     "data": {
      "application/vnd.plotly.v1+json": {
       "config": {
        "plotlyServerURL": "https://plot.ly"
       },
       "data": [
        {
         "base": [
          0,
          8.54,
          11.06,
          12.98,
          13.61,
          93.14,
          94.44,
          103.47,
          104.14,
          111.83,
          152.97,
          153.6,
          190.02,
          190.65,
          191.31,
          0,
          8.54,
          11.06,
          12.98,
          13.61,
          32.12,
          32.75,
          54.6,
          61.67,
          62.31,
          63.59,
          74.5,
          75.15,
          93.14,
          93.81,
          94.44,
          103.47,
          104.14,
          104.77,
          111.83,
          152.97,
          153.6,
          159.92,
          169.52,
          190.02,
          190.65,
          191.31,
          0,
          8.54,
          9.8,
          11.06,
          12.98,
          13.61,
          16.16,
          32.12,
          32.75,
          54.6,
          55.25,
          61.67,
          62.31,
          63.59,
          64.24,
          74.5,
          75.15,
          93.14,
          93.81,
          94.44,
          103.47,
          104.14,
          104.77,
          105.4,
          109.28,
          111.83,
          117.6,
          152.97,
          153.6,
          158.65,
          159.28,
          159.92,
          168.89,
          169.52,
          170.82,
          171.47,
          190.02,
          190.65,
          191.31
         ],
         "customdata": [
          "<b></b><br>Layer: L01<br>Start: 0.000s<br>End: 8.540s<br>Duration: 8.540s",
          "<b></b><br>Layer: L01<br>Start: 8.540s<br>End: 11.060s<br>Duration: 2.520s",
          "<b></b><br>Layer: L01<br>Start: 11.060s<br>End: 12.980s<br>Duration: 1.920s",
          "<b></b><br>Layer: L01<br>Start: 12.980s<br>End: 13.610s<br>Duration: 0.630s",
          "<b></b><br>Layer: L01<br>Start: 13.610s<br>End: 93.140s<br>Duration: 79.530s",
          "<b></b><br>Layer: L01<br>Start: 93.140s<br>End: 94.440s<br>Duration: 1.300s",
          "<b></b><br>Layer: L01<br>Start: 94.440s<br>End: 103.470s<br>Duration: 9.030s",
          "<b></b><br>Layer: L01<br>Start: 103.470s<br>End: 104.140s<br>Duration: 0.670s",
          "<b></b><br>Layer: L01<br>Start: 104.140s<br>End: 111.830s<br>Duration: 7.690s",
          "<b></b><br>Layer: L01<br>Start: 111.830s<br>End: 152.970s<br>Duration: 41.140s",
          "<b></b><br>Layer: L01<br>Start: 152.970s<br>End: 153.600s<br>Duration: 0.630s",
          "<b></b><br>Layer: L01<br>Start: 153.600s<br>End: 190.020s<br>Duration: 36.420s",
          "<b></b><br>Layer: L01<br>Start: 190.020s<br>End: 190.650s<br>Duration: 0.630s",
          "<b></b><br>Layer: L01<br>Start: 190.650s<br>End: 191.310s<br>Duration: 0.660s",
          "<b></b><br>Layer: L01<br>Start: 191.310s<br>End: 222.061s<br>Duration: 30.751s",
          "<b></b><br>Layer: L02<br>Start: 0.000s<br>End: 8.540s<br>Duration: 8.540s",
          "<b></b><br>Layer: L02<br>Start: 8.540s<br>End: 11.060s<br>Duration: 2.520s",
          "<b></b><br>Layer: L02<br>Start: 11.060s<br>End: 12.980s<br>Duration: 1.920s",
          "<b></b><br>Layer: L02<br>Start: 12.980s<br>End: 13.610s<br>Duration: 0.630s",
          "<b></b><br>Layer: L02<br>Start: 13.610s<br>End: 32.120s<br>Duration: 18.510s",
          "<b></b><br>Layer: L02<br>Start: 32.120s<br>End: 32.750s<br>Duration: 0.630s",
          "<b></b><br>Layer: L02<br>Start: 32.750s<br>End: 54.600s<br>Duration: 21.850s",
          "<b></b><br>Layer: L02<br>Start: 54.600s<br>End: 61.670s<br>Duration: 7.070s",
          "<b></b><br>Layer: L02<br>Start: 61.670s<br>End: 62.310s<br>Duration: 0.640s",
          "<b></b><br>Layer: L02<br>Start: 62.310s<br>End: 63.590s<br>Duration: 1.280s",
          "<b></b><br>Layer: L02<br>Start: 63.590s<br>End: 74.500s<br>Duration: 10.910s",
          "<b></b><br>Layer: L02<br>Start: 74.500s<br>End: 75.150s<br>Duration: 0.650s",
          "<b></b><br>Layer: L02<br>Start: 75.150s<br>End: 93.140s<br>Duration: 17.990s",
          "<b></b><br>Layer: L02<br>Start: 93.140s<br>End: 93.810s<br>Duration: 0.670s",
          "<b></b><br>Layer: L02<br>Start: 93.810s<br>End: 94.440s<br>Duration: 0.630s",
          "<b></b><br>Layer: L02<br>Start: 94.440s<br>End: 103.470s<br>Duration: 9.030s",
          "<b></b><br>Layer: L02<br>Start: 103.470s<br>End: 104.140s<br>Duration: 0.670s",
          "<b></b><br>Layer: L02<br>Start: 104.140s<br>End: 104.770s<br>Duration: 0.630s",
          "<b></b><br>Layer: L02<br>Start: 104.770s<br>End: 111.830s<br>Duration: 7.060s",
          "<b></b><br>Layer: L02<br>Start: 111.830s<br>End: 152.970s<br>Duration: 41.140s",
          "<b></b><br>Layer: L02<br>Start: 152.970s<br>End: 153.600s<br>Duration: 0.630s",
          "<b></b><br>Layer: L02<br>Start: 153.600s<br>End: 159.920s<br>Duration: 6.320s",
          "<b></b><br>Layer: L02<br>Start: 159.920s<br>End: 169.520s<br>Duration: 9.600s",
          "<b></b><br>Layer: L02<br>Start: 169.520s<br>End: 190.020s<br>Duration: 20.500s",
          "<b></b><br>Layer: L02<br>Start: 190.020s<br>End: 190.650s<br>Duration: 0.630s",
          "<b></b><br>Layer: L02<br>Start: 190.650s<br>End: 191.310s<br>Duration: 0.660s",
          "<b></b><br>Layer: L02<br>Start: 191.310s<br>End: 222.061s<br>Duration: 30.751s",
          "<b></b><br>Layer: L03<br>Start: 0.000s<br>End: 8.540s<br>Duration: 8.540s",
          "<b></b><br>Layer: L03<br>Start: 8.540s<br>End: 9.800s<br>Duration: 1.260s",
          "<b></b><br>Layer: L03<br>Start: 9.800s<br>End: 11.060s<br>Duration: 1.260s",
          "<b></b><br>Layer: L03<br>Start: 11.060s<br>End: 12.980s<br>Duration: 1.920s",
          "<b></b><br>Layer: L03<br>Start: 12.980s<br>End: 13.610s<br>Duration: 0.630s",
          "<b></b><br>Layer: L03<br>Start: 13.610s<br>End: 16.160s<br>Duration: 2.550s",
          "<b></b><br>Layer: L03<br>Start: 16.160s<br>End: 32.120s<br>Duration: 15.960s",
          "<b></b><br>Layer: L03<br>Start: 32.120s<br>End: 32.750s<br>Duration: 0.630s",
          "<b></b><br>Layer: L03<br>Start: 32.750s<br>End: 54.600s<br>Duration: 21.850s",
          "<b></b><br>Layer: L03<br>Start: 54.600s<br>End: 55.250s<br>Duration: 0.650s",
          "<b></b><br>Layer: L03<br>Start: 55.250s<br>End: 61.670s<br>Duration: 6.420s",
          "<b></b><br>Layer: L03<br>Start: 61.670s<br>End: 62.310s<br>Duration: 0.640s",
          "<b></b><br>Layer: L03<br>Start: 62.310s<br>End: 63.590s<br>Duration: 1.280s",
          "<b></b><br>Layer: L03<br>Start: 63.590s<br>End: 64.240s<br>Duration: 0.650s",
          "<b></b><br>Layer: L03<br>Start: 64.240s<br>End: 74.500s<br>Duration: 10.260s",
          "<b></b><br>Layer: L03<br>Start: 74.500s<br>End: 75.150s<br>Duration: 0.650s",
          "<b></b><br>Layer: L03<br>Start: 75.150s<br>End: 93.140s<br>Duration: 17.990s",
          "<b></b><br>Layer: L03<br>Start: 93.140s<br>End: 93.810s<br>Duration: 0.670s",
          "<b></b><br>Layer: L03<br>Start: 93.810s<br>End: 94.440s<br>Duration: 0.630s",
          "<b></b><br>Layer: L03<br>Start: 94.440s<br>End: 103.470s<br>Duration: 9.030s",
          "<b></b><br>Layer: L03<br>Start: 103.470s<br>End: 104.140s<br>Duration: 0.670s",
          "<b></b><br>Layer: L03<br>Start: 104.140s<br>End: 104.770s<br>Duration: 0.630s",
          "<b></b><br>Layer: L03<br>Start: 104.770s<br>End: 105.400s<br>Duration: 0.630s",
          "<b></b><br>Layer: L03<br>Start: 105.400s<br>End: 109.280s<br>Duration: 3.880s",
          "<b></b><br>Layer: L03<br>Start: 109.280s<br>End: 111.830s<br>Duration: 2.550s",
          "<b></b><br>Layer: L03<br>Start: 111.830s<br>End: 117.600s<br>Duration: 5.770s",
          "<b></b><br>Layer: L03<br>Start: 117.600s<br>End: 152.970s<br>Duration: 35.370s",
          "<b></b><br>Layer: L03<br>Start: 152.970s<br>End: 153.600s<br>Duration: 0.630s",
          "<b></b><br>Layer: L03<br>Start: 153.600s<br>End: 158.650s<br>Duration: 5.050s",
          "<b></b><br>Layer: L03<br>Start: 158.650s<br>End: 159.280s<br>Duration: 0.630s",
          "<b></b><br>Layer: L03<br>Start: 159.280s<br>End: 159.920s<br>Duration: 0.640s",
          "<b></b><br>Layer: L03<br>Start: 159.920s<br>End: 168.890s<br>Duration: 8.970s",
          "<b></b><br>Layer: L03<br>Start: 168.890s<br>End: 169.520s<br>Duration: 0.630s",
          "<b></b><br>Layer: L03<br>Start: 169.520s<br>End: 170.820s<br>Duration: 1.300s",
          "<b></b><br>Layer: L03<br>Start: 170.820s<br>End: 171.470s<br>Duration: 0.650s",
          "<b></b><br>Layer: L03<br>Start: 171.470s<br>End: 190.020s<br>Duration: 18.550s",
          "<b></b><br>Layer: L03<br>Start: 190.020s<br>End: 190.650s<br>Duration: 0.630s",
          "<b></b><br>Layer: L03<br>Start: 190.650s<br>End: 191.310s<br>Duration: 0.660s",
          "<b></b><br>Layer: L03<br>Start: 191.310s<br>End: 222.061s<br>Duration: 30.751s"
         ],
         "hovertemplate": "%{customdata}<extra></extra>",
         "insidetextanchor": "middle",
         "marker": {
          "color": "#1F77B4",
          "line": {
           "color": "white",
           "width": 0.5
          },
          "pattern": {
           "fgcolor": "white",
           "fgopacity": 0.5,
           "shape": "",
           "solidity": 0.25
          }
         },
         "name": "",
         "orientation": "h",
         "showlegend": true,
         "text": [
          "",
          "",
          "",
          "",
          "",
          "",
          "",
          "",
          "",
          "",
          "",
          "",
          "",
          "",
          "",
          "",
          "",
          "",
          "",
          "",
          "",
          "",
          "",
          "",
          "",
          "",
          "",
          "",
          "",
          "",
          "",
          "",
          "",
          "",
          "",
          "",
          "",
          "",
          "",
          "",
          "",
          "",
          "",
          "",
          "",
          "",
          "",
          "",
          "",
          "",
          "",
          "",
          "",
          "",
          "",
          "",
          "",
          "",
          "",
          "",
          "",
          "",
          "",
          "",
          "",
          "",
          "",
          "",
          "",
          "",
          "",
          "",
          "",
          "",
          "",
          "",
          "",
          "",
          "",
          "",
          ""
         ],
         "textposition": "inside",
         "type": "bar",
         "width": 1,
         "x": [
          8.54,
          2.5200000000000014,
          1.92,
          0.629999999999999,
          79.53,
          1.2999999999999972,
          9.030000000000001,
          0.6700000000000017,
          7.689999999999998,
          41.14,
          0.6299999999999955,
          36.420000000000016,
          0.6299999999999955,
          0.6599999999999966,
          30.75111000000001,
          8.54,
          2.5200000000000014,
          1.92,
          0.629999999999999,
          18.509999999999998,
          0.6300000000000026,
          21.85,
          7.07,
          0.6400000000000006,
          1.2800000000000011,
          10.909999999999997,
          0.6500000000000057,
          17.989999999999995,
          0.6700000000000017,
          0.6299999999999955,
          9.030000000000001,
          0.6700000000000017,
          0.6299999999999955,
          7.060000000000002,
          41.14,
          0.6299999999999955,
          6.319999999999993,
          9.600000000000023,
          20.5,
          0.6299999999999955,
          0.6599999999999966,
          30.75111000000001,
          8.54,
          1.2600000000000016,
          1.2599999999999998,
          1.92,
          0.629999999999999,
          2.5500000000000007,
          15.959999999999997,
          0.6300000000000026,
          21.85,
          0.6499999999999986,
          6.420000000000002,
          0.6400000000000006,
          1.2800000000000011,
          0.6499999999999915,
          10.260000000000005,
          0.6500000000000057,
          17.989999999999995,
          0.6700000000000017,
          0.6299999999999955,
          9.030000000000001,
          0.6700000000000017,
          0.6299999999999955,
          0.6300000000000097,
          3.8799999999999955,
          2.549999999999997,
          5.769999999999996,
          35.370000000000005,
          0.6299999999999955,
          5.050000000000011,
          0.6299999999999955,
          0.6399999999999864,
          8.969999999999999,
          0.6300000000000239,
          1.299999999999983,
          0.6500000000000057,
          18.55000000000001,
          0.6299999999999955,
          0.6599999999999966,
          30.75111000000001
         ],
         "y": [
          "L01",
          "L01",
          "L01",
          "L01",
          "L01",
          "L01",
          "L01",
          "L01",
          "L01",
          "L01",
          "L01",
          "L01",
          "L01",
          "L01",
          "L01",
          "L02",
          "L02",
          "L02",
          "L02",
          "L02",
          "L02",
          "L02",
          "L02",
          "L02",
          "L02",
          "L02",
          "L02",
          "L02",
          "L02",
          "L02",
          "L02",
          "L02",
          "L02",
          "L02",
          "L02",
          "L02",
          "L02",
          "L02",
          "L02",
          "L02",
          "L02",
          "L02",
          "L03",
          "L03",
          "L03",
          "L03",
          "L03",
          "L03",
          "L03",
          "L03",
          "L03",
          "L03",
          "L03",
          "L03",
          "L03",
          "L03",
          "L03",
          "L03",
          "L03",
          "L03",
          "L03",
          "L03",
          "L03",
          "L03",
          "L03",
          "L03",
          "L03",
          "L03",
          "L03",
          "L03",
          "L03",
          "L03",
          "L03",
          "L03",
          "L03",
          "L03",
          "L03",
          "L03",
          "L03",
          "L03",
          "L03"
         ]
        }
       ],
       "layout": {
        "barmode": "overlay",
        "height": 145,
        "margin": {
         "b": 20,
         "l": 20,
         "r": 20,
         "t": 40
        },
        "showlegend": false,
        "template": {
         "data": {
          "bar": [
           {
            "error_x": {
             "color": "#2a3f5f"
            },
            "error_y": {
             "color": "#2a3f5f"
            },
            "marker": {
             "line": {
              "color": "#E5ECF6",
              "width": 0.5
             },
             "pattern": {
              "fillmode": "overlay",
              "size": 10,
              "solidity": 0.2
             }
            },
            "type": "bar"
           }
          ],
          "barpolar": [
           {
            "marker": {
             "line": {
              "color": "#E5ECF6",
              "width": 0.5
             },
             "pattern": {
              "fillmode": "overlay",
              "size": 10,
              "solidity": 0.2
             }
            },
            "type": "barpolar"
           }
          ],
          "carpet": [
           {
            "aaxis": {
             "endlinecolor": "#2a3f5f",
             "gridcolor": "white",
             "linecolor": "white",
             "minorgridcolor": "white",
             "startlinecolor": "#2a3f5f"
            },
            "baxis": {
             "endlinecolor": "#2a3f5f",
             "gridcolor": "white",
             "linecolor": "white",
             "minorgridcolor": "white",
             "startlinecolor": "#2a3f5f"
            },
            "type": "carpet"
           }
          ],
          "choropleth": [
           {
            "colorbar": {
             "outlinewidth": 0,
             "ticks": ""
            },
            "type": "choropleth"
           }
          ],
          "contour": [
           {
            "colorbar": {
             "outlinewidth": 0,
             "ticks": ""
            },
            "colorscale": [
             [
              0,
              "#0d0887"
             ],
             [
              0.1111111111111111,
              "#46039f"
             ],
             [
              0.2222222222222222,
              "#7201a8"
             ],
             [
              0.3333333333333333,
              "#9c179e"
             ],
             [
              0.4444444444444444,
              "#bd3786"
             ],
             [
              0.5555555555555556,
              "#d8576b"
             ],
             [
              0.6666666666666666,
              "#ed7953"
             ],
             [
              0.7777777777777778,
              "#fb9f3a"
             ],
             [
              0.8888888888888888,
              "#fdca26"
             ],
             [
              1,
              "#f0f921"
             ]
            ],
            "type": "contour"
           }
          ],
          "contourcarpet": [
           {
            "colorbar": {
             "outlinewidth": 0,
             "ticks": ""
            },
            "type": "contourcarpet"
           }
          ],
          "heatmap": [
           {
            "colorbar": {
             "outlinewidth": 0,
             "ticks": ""
            },
            "colorscale": [
             [
              0,
              "#0d0887"
             ],
             [
              0.1111111111111111,
              "#46039f"
             ],
             [
              0.2222222222222222,
              "#7201a8"
             ],
             [
              0.3333333333333333,
              "#9c179e"
             ],
             [
              0.4444444444444444,
              "#bd3786"
             ],
             [
              0.5555555555555556,
              "#d8576b"
             ],
             [
              0.6666666666666666,
              "#ed7953"
             ],
             [
              0.7777777777777778,
              "#fb9f3a"
             ],
             [
              0.8888888888888888,
              "#fdca26"
             ],
             [
              1,
              "#f0f921"
             ]
            ],
            "type": "heatmap"
           }
          ],
          "histogram": [
           {
            "marker": {
             "pattern": {
              "fillmode": "overlay",
              "size": 10,
              "solidity": 0.2
             }
            },
            "type": "histogram"
           }
          ],
          "histogram2d": [
           {
            "colorbar": {
             "outlinewidth": 0,
             "ticks": ""
            },
            "colorscale": [
             [
              0,
              "#0d0887"
             ],
             [
              0.1111111111111111,
              "#46039f"
             ],
             [
              0.2222222222222222,
              "#7201a8"
             ],
             [
              0.3333333333333333,
              "#9c179e"
             ],
             [
              0.4444444444444444,
              "#bd3786"
             ],
             [
              0.5555555555555556,
              "#d8576b"
             ],
             [
              0.6666666666666666,
              "#ed7953"
             ],
             [
              0.7777777777777778,
              "#fb9f3a"
             ],
             [
              0.8888888888888888,
              "#fdca26"
             ],
             [
              1,
              "#f0f921"
             ]
            ],
            "type": "histogram2d"
           }
          ],
          "histogram2dcontour": [
           {
            "colorbar": {
             "outlinewidth": 0,
             "ticks": ""
            },
            "colorscale": [
             [
              0,
              "#0d0887"
             ],
             [
              0.1111111111111111,
              "#46039f"
             ],
             [
              0.2222222222222222,
              "#7201a8"
             ],
             [
              0.3333333333333333,
              "#9c179e"
             ],
             [
              0.4444444444444444,
              "#bd3786"
             ],
             [
              0.5555555555555556,
              "#d8576b"
             ],
             [
              0.6666666666666666,
              "#ed7953"
             ],
             [
              0.7777777777777778,
              "#fb9f3a"
             ],
             [
              0.8888888888888888,
              "#fdca26"
             ],
             [
              1,
              "#f0f921"
             ]
            ],
            "type": "histogram2dcontour"
           }
          ],
          "mesh3d": [
           {
            "colorbar": {
             "outlinewidth": 0,
             "ticks": ""
            },
            "type": "mesh3d"
           }
          ],
          "parcoords": [
           {
            "line": {
             "colorbar": {
              "outlinewidth": 0,
              "ticks": ""
             }
            },
            "type": "parcoords"
           }
          ],
          "pie": [
           {
            "automargin": true,
            "type": "pie"
           }
          ],
          "scatter": [
           {
            "fillpattern": {
             "fillmode": "overlay",
             "size": 10,
             "solidity": 0.2
            },
            "type": "scatter"
           }
          ],
          "scatter3d": [
           {
            "line": {
             "colorbar": {
              "outlinewidth": 0,
              "ticks": ""
             }
            },
            "marker": {
             "colorbar": {
              "outlinewidth": 0,
              "ticks": ""
             }
            },
            "type": "scatter3d"
           }
          ],
          "scattercarpet": [
           {
            "marker": {
             "colorbar": {
              "outlinewidth": 0,
              "ticks": ""
             }
            },
            "type": "scattercarpet"
           }
          ],
          "scattergeo": [
           {
            "marker": {
             "colorbar": {
              "outlinewidth": 0,
              "ticks": ""
             }
            },
            "type": "scattergeo"
           }
          ],
          "scattergl": [
           {
            "marker": {
             "colorbar": {
              "outlinewidth": 0,
              "ticks": ""
             }
            },
            "type": "scattergl"
           }
          ],
          "scattermap": [
           {
            "marker": {
             "colorbar": {
              "outlinewidth": 0,
              "ticks": ""
             }
            },
            "type": "scattermap"
           }
          ],
          "scattermapbox": [
           {
            "marker": {
             "colorbar": {
              "outlinewidth": 0,
              "ticks": ""
             }
            },
            "type": "scattermapbox"
           }
          ],
          "scatterpolar": [
           {
            "marker": {
             "colorbar": {
              "outlinewidth": 0,
              "ticks": ""
             }
            },
            "type": "scatterpolar"
           }
          ],
          "scatterpolargl": [
           {
            "marker": {
             "colorbar": {
              "outlinewidth": 0,
              "ticks": ""
             }
            },
            "type": "scatterpolargl"
           }
          ],
          "scatterternary": [
           {
            "marker": {
             "colorbar": {
              "outlinewidth": 0,
              "ticks": ""
             }
            },
            "type": "scatterternary"
           }
          ],
          "surface": [
           {
            "colorbar": {
             "outlinewidth": 0,
             "ticks": ""
            },
            "colorscale": [
             [
              0,
              "#0d0887"
             ],
             [
              0.1111111111111111,
              "#46039f"
             ],
             [
              0.2222222222222222,
              "#7201a8"
             ],
             [
              0.3333333333333333,
              "#9c179e"
             ],
             [
              0.4444444444444444,
              "#bd3786"
             ],
             [
              0.5555555555555556,
              "#d8576b"
             ],
             [
              0.6666666666666666,
              "#ed7953"
             ],
             [
              0.7777777777777778,
              "#fb9f3a"
             ],
             [
              0.8888888888888888,
              "#fdca26"
             ],
             [
              1,
              "#f0f921"
             ]
            ],
            "type": "surface"
           }
          ],
          "table": [
           {
            "cells": {
             "fill": {
              "color": "#EBF0F8"
             },
             "line": {
              "color": "white"
             }
            },
            "header": {
             "fill": {
              "color": "#C8D4E3"
             },
             "line": {
              "color": "white"
             }
            },
            "type": "table"
           }
          ]
         },
         "layout": {
          "annotationdefaults": {
           "arrowcolor": "#2a3f5f",
           "arrowhead": 0,
           "arrowwidth": 1
          },
          "autotypenumbers": "strict",
          "coloraxis": {
           "colorbar": {
            "outlinewidth": 0,
            "ticks": ""
           }
          },
          "colorscale": {
           "diverging": [
            [
             0,
             "#8e0152"
            ],
            [
             0.1,
             "#c51b7d"
            ],
            [
             0.2,
             "#de77ae"
            ],
            [
             0.3,
             "#f1b6da"
            ],
            [
             0.4,
             "#fde0ef"
            ],
            [
             0.5,
             "#f7f7f7"
            ],
            [
             0.6,
             "#e6f5d0"
            ],
            [
             0.7,
             "#b8e186"
            ],
            [
             0.8,
             "#7fbc41"
            ],
            [
             0.9,
             "#4d9221"
            ],
            [
             1,
             "#276419"
            ]
           ],
           "sequential": [
            [
             0,
             "#0d0887"
            ],
            [
             0.1111111111111111,
             "#46039f"
            ],
            [
             0.2222222222222222,
             "#7201a8"
            ],
            [
             0.3333333333333333,
             "#9c179e"
            ],
            [
             0.4444444444444444,
             "#bd3786"
            ],
            [
             0.5555555555555556,
             "#d8576b"
            ],
            [
             0.6666666666666666,
             "#ed7953"
            ],
            [
             0.7777777777777778,
             "#fb9f3a"
            ],
            [
             0.8888888888888888,
             "#fdca26"
            ],
            [
             1,
             "#f0f921"
            ]
           ],
           "sequentialminus": [
            [
             0,
             "#0d0887"
            ],
            [
             0.1111111111111111,
             "#46039f"
            ],
            [
             0.2222222222222222,
             "#7201a8"
            ],
            [
             0.3333333333333333,
             "#9c179e"
            ],
            [
             0.4444444444444444,
             "#bd3786"
            ],
            [
             0.5555555555555556,
             "#d8576b"
            ],
            [
             0.6666666666666666,
             "#ed7953"
            ],
            [
             0.7777777777777778,
             "#fb9f3a"
            ],
            [
             0.8888888888888888,
             "#fdca26"
            ],
            [
             1,
             "#f0f921"
            ]
           ]
          },
          "colorway": [
           "#636efa",
           "#EF553B",
           "#00cc96",
           "#ab63fa",
           "#FFA15A",
           "#19d3f3",
           "#FF6692",
           "#B6E880",
           "#FF97FF",
           "#FECB52"
          ],
          "font": {
           "color": "#2a3f5f"
          },
          "geo": {
           "bgcolor": "white",
           "lakecolor": "white",
           "landcolor": "#E5ECF6",
           "showlakes": true,
           "showland": true,
           "subunitcolor": "white"
          },
          "hoverlabel": {
           "align": "left"
          },
          "hovermode": "closest",
          "mapbox": {
           "style": "light"
          },
          "paper_bgcolor": "white",
          "plot_bgcolor": "#E5ECF6",
          "polar": {
           "angularaxis": {
            "gridcolor": "white",
            "linecolor": "white",
            "ticks": ""
           },
           "bgcolor": "#E5ECF6",
           "radialaxis": {
            "gridcolor": "white",
            "linecolor": "white",
            "ticks": ""
           }
          },
          "scene": {
           "xaxis": {
            "backgroundcolor": "#E5ECF6",
            "gridcolor": "white",
            "gridwidth": 2,
            "linecolor": "white",
            "showbackground": true,
            "ticks": "",
            "zerolinecolor": "white"
           },
           "yaxis": {
            "backgroundcolor": "#E5ECF6",
            "gridcolor": "white",
            "gridwidth": 2,
            "linecolor": "white",
            "showbackground": true,
            "ticks": "",
            "zerolinecolor": "white"
           },
           "zaxis": {
            "backgroundcolor": "#E5ECF6",
            "gridcolor": "white",
            "gridwidth": 2,
            "linecolor": "white",
            "showbackground": true,
            "ticks": "",
            "zerolinecolor": "white"
           }
          },
          "shapedefaults": {
           "line": {
            "color": "#2a3f5f"
           }
          },
          "ternary": {
           "aaxis": {
            "gridcolor": "white",
            "linecolor": "white",
            "ticks": ""
           },
           "baxis": {
            "gridcolor": "white",
            "linecolor": "white",
            "ticks": ""
           },
           "bgcolor": "#E5ECF6",
           "caxis": {
            "gridcolor": "white",
            "linecolor": "white",
            "ticks": ""
           }
          },
          "title": {
           "x": 0.05
          },
          "xaxis": {
           "automargin": true,
           "gridcolor": "white",
           "linecolor": "white",
           "ticks": "",
           "title": {
            "standoff": 15
           },
           "zerolinecolor": "white",
           "zerolinewidth": 2
          },
          "yaxis": {
           "automargin": true,
           "gridcolor": "white",
           "linecolor": "white",
           "ticks": "",
           "title": {
            "standoff": 15
           },
           "zerolinecolor": "white",
           "zerolinewidth": 2
          }
         }
        },
        "title": {
         "text": "depth",
         "x": 0.5
        },
        "width": 450,
        "xaxis": {
         "range": [
          0,
          222.06111
         ],
         "title": {
          "text": "Time (s)"
         }
        },
        "yaxis": {
         "categoryarray": [
          "L03",
          "L02",
          "L01"
         ],
         "categoryorder": "array",
         "title": {}
        }
       }
      }
     },
     "metadata": {},
     "output_type": "display_data"
    },
    {
     "data": {
      "application/vnd.plotly.v1+json": {
       "config": {
        "plotlyServerURL": "https://plot.ly"
       },
       "data": [
        {
         "base": [
          0,
          191.31,
          0,
          32.12,
          191.31,
          0,
          32.12,
          74.5,
          93.14,
          104.14,
          152.97,
          153.6,
          191.31,
          0,
          12.98,
          32.12,
          54.6,
          74.5,
          93.14,
          94.44,
          103.47,
          104.14,
          111.83,
          152.97,
          153.6,
          169.52,
          190.65,
          191.31,
          0,
          12.98,
          13.61,
          16.16,
          32.12,
          54.6,
          63.59,
          64.24,
          74.5,
          75.15,
          93.14,
          93.81,
          94.44,
          103.47,
          104.14,
          104.77,
          111.83,
          152.97,
          153.6,
          169.52,
          190.02,
          190.65,
          191.31,
          0,
          8.54,
          9.8,
          11.06,
          12.98,
          13.61,
          16.16,
          32.12,
          32.75,
          54.6,
          55.25,
          61.67,
          62.31,
          63.59,
          64.24,
          74.5,
          75.15,
          93.14,
          93.81,
          94.44,
          103.47,
          104.14,
          104.77,
          105.4,
          109.28,
          111.83,
          117.6,
          152.97,
          153.6,
          158.65,
          159.28,
          159.92,
          168.89,
          169.52,
          170.82,
          171.47,
          190.02,
          190.65,
          191.31
         ],
         "customdata": [
          "<b></b><br>Layer: L01<br>Start: 0.000s<br>End: 191.310s<br>Duration: 191.310s",
          "<b></b><br>Layer: L01<br>Start: 191.310s<br>End: 222.061s<br>Duration: 30.751s",
          "<b></b><br>Layer: L02<br>Start: 0.000s<br>End: 32.120s<br>Duration: 32.120s",
          "<b></b><br>Layer: L02<br>Start: 32.120s<br>End: 191.310s<br>Duration: 159.190s",
          "<b></b><br>Layer: L02<br>Start: 191.310s<br>End: 222.061s<br>Duration: 30.751s",
          "<b></b><br>Layer: L03<br>Start: 0.000s<br>End: 32.120s<br>Duration: 32.120s",
          "<b></b><br>Layer: L03<br>Start: 32.120s<br>End: 74.500s<br>Duration: 42.380s",
          "<b></b><br>Layer: L03<br>Start: 74.500s<br>End: 93.140s<br>Duration: 18.640s",
          "<b></b><br>Layer: L03<br>Start: 93.140s<br>End: 104.140s<br>Duration: 11.000s",
          "<b></b><br>Layer: L03<br>Start: 104.140s<br>End: 152.970s<br>Duration: 48.830s",
          "<b></b><br>Layer: L03<br>Start: 152.970s<br>End: 153.600s<br>Duration: 0.630s",
          "<b></b><br>Layer: L03<br>Start: 153.600s<br>End: 191.310s<br>Duration: 37.710s",
          "<b></b><br>Layer: L03<br>Start: 191.310s<br>End: 222.061s<br>Duration: 30.751s",
          "<b></b><br>Layer: L04<br>Start: 0.000s<br>End: 12.980s<br>Duration: 12.980s",
          "<b></b><br>Layer: L04<br>Start: 12.980s<br>End: 32.120s<br>Duration: 19.140s",
          "<b></b><br>Layer: L04<br>Start: 32.120s<br>End: 54.600s<br>Duration: 22.480s",
          "<b></b><br>Layer: L04<br>Start: 54.600s<br>End: 74.500s<br>Duration: 19.900s",
          "<b></b><br>Layer: L04<br>Start: 74.500s<br>End: 93.140s<br>Duration: 18.640s",
          "<b></b><br>Layer: L04<br>Start: 93.140s<br>End: 94.440s<br>Duration: 1.300s",
          "<b></b><br>Layer: L04<br>Start: 94.440s<br>End: 103.470s<br>Duration: 9.030s",
          "<b></b><br>Layer: L04<br>Start: 103.470s<br>End: 104.140s<br>Duration: 0.670s",
          "<b></b><br>Layer: L04<br>Start: 104.140s<br>End: 111.830s<br>Duration: 7.690s",
          "<b></b><br>Layer: L04<br>Start: 111.830s<br>End: 152.970s<br>Duration: 41.140s",
          "<b></b><br>Layer: L04<br>Start: 152.970s<br>End: 153.600s<br>Duration: 0.630s",
          "<b></b><br>Layer: L04<br>Start: 153.600s<br>End: 169.520s<br>Duration: 15.920s",
          "<b></b><br>Layer: L04<br>Start: 169.520s<br>End: 190.650s<br>Duration: 21.130s",
          "<b></b><br>Layer: L04<br>Start: 190.650s<br>End: 191.310s<br>Duration: 0.660s",
          "<b></b><br>Layer: L04<br>Start: 191.310s<br>End: 222.061s<br>Duration: 30.751s",
          "<b></b><br>Layer: L05<br>Start: 0.000s<br>End: 12.980s<br>Duration: 12.980s",
          "<b></b><br>Layer: L05<br>Start: 12.980s<br>End: 13.610s<br>Duration: 0.630s",
          "<b></b><br>Layer: L05<br>Start: 13.610s<br>End: 16.160s<br>Duration: 2.550s",
          "<b></b><br>Layer: L05<br>Start: 16.160s<br>End: 32.120s<br>Duration: 15.960s",
          "<b></b><br>Layer: L05<br>Start: 32.120s<br>End: 54.600s<br>Duration: 22.480s",
          "<b></b><br>Layer: L05<br>Start: 54.600s<br>End: 63.590s<br>Duration: 8.990s",
          "<b></b><br>Layer: L05<br>Start: 63.590s<br>End: 64.240s<br>Duration: 0.650s",
          "<b></b><br>Layer: L05<br>Start: 64.240s<br>End: 74.500s<br>Duration: 10.260s",
          "<b></b><br>Layer: L05<br>Start: 74.500s<br>End: 75.150s<br>Duration: 0.650s",
          "<b></b><br>Layer: L05<br>Start: 75.150s<br>End: 93.140s<br>Duration: 17.990s",
          "<b></b><br>Layer: L05<br>Start: 93.140s<br>End: 93.810s<br>Duration: 0.670s",
          "<b></b><br>Layer: L05<br>Start: 93.810s<br>End: 94.440s<br>Duration: 0.630s",
          "<b></b><br>Layer: L05<br>Start: 94.440s<br>End: 103.470s<br>Duration: 9.030s",
          "<b></b><br>Layer: L05<br>Start: 103.470s<br>End: 104.140s<br>Duration: 0.670s",
          "<b></b><br>Layer: L05<br>Start: 104.140s<br>End: 104.770s<br>Duration: 0.630s",
          "<b></b><br>Layer: L05<br>Start: 104.770s<br>End: 111.830s<br>Duration: 7.060s",
          "<b></b><br>Layer: L05<br>Start: 111.830s<br>End: 152.970s<br>Duration: 41.140s",
          "<b></b><br>Layer: L05<br>Start: 152.970s<br>End: 153.600s<br>Duration: 0.630s",
          "<b></b><br>Layer: L05<br>Start: 153.600s<br>End: 169.520s<br>Duration: 15.920s",
          "<b></b><br>Layer: L05<br>Start: 169.520s<br>End: 190.020s<br>Duration: 20.500s",
          "<b></b><br>Layer: L05<br>Start: 190.020s<br>End: 190.650s<br>Duration: 0.630s",
          "<b></b><br>Layer: L05<br>Start: 190.650s<br>End: 191.310s<br>Duration: 0.660s",
          "<b></b><br>Layer: L05<br>Start: 191.310s<br>End: 222.061s<br>Duration: 30.751s",
          "<b></b><br>Layer: L06<br>Start: 0.000s<br>End: 8.540s<br>Duration: 8.540s",
          "<b></b><br>Layer: L06<br>Start: 8.540s<br>End: 9.800s<br>Duration: 1.260s",
          "<b></b><br>Layer: L06<br>Start: 9.800s<br>End: 11.060s<br>Duration: 1.260s",
          "<b></b><br>Layer: L06<br>Start: 11.060s<br>End: 12.980s<br>Duration: 1.920s",
          "<b></b><br>Layer: L06<br>Start: 12.980s<br>End: 13.610s<br>Duration: 0.630s",
          "<b></b><br>Layer: L06<br>Start: 13.610s<br>End: 16.160s<br>Duration: 2.550s",
          "<b></b><br>Layer: L06<br>Start: 16.160s<br>End: 32.120s<br>Duration: 15.960s",
          "<b></b><br>Layer: L06<br>Start: 32.120s<br>End: 32.750s<br>Duration: 0.630s",
          "<b></b><br>Layer: L06<br>Start: 32.750s<br>End: 54.600s<br>Duration: 21.850s",
          "<b></b><br>Layer: L06<br>Start: 54.600s<br>End: 55.250s<br>Duration: 0.650s",
          "<b></b><br>Layer: L06<br>Start: 55.250s<br>End: 61.670s<br>Duration: 6.420s",
          "<b></b><br>Layer: L06<br>Start: 61.670s<br>End: 62.310s<br>Duration: 0.640s",
          "<b></b><br>Layer: L06<br>Start: 62.310s<br>End: 63.590s<br>Duration: 1.280s",
          "<b></b><br>Layer: L06<br>Start: 63.590s<br>End: 64.240s<br>Duration: 0.650s",
          "<b></b><br>Layer: L06<br>Start: 64.240s<br>End: 74.500s<br>Duration: 10.260s",
          "<b></b><br>Layer: L06<br>Start: 74.500s<br>End: 75.150s<br>Duration: 0.650s",
          "<b></b><br>Layer: L06<br>Start: 75.150s<br>End: 93.140s<br>Duration: 17.990s",
          "<b></b><br>Layer: L06<br>Start: 93.140s<br>End: 93.810s<br>Duration: 0.670s",
          "<b></b><br>Layer: L06<br>Start: 93.810s<br>End: 94.440s<br>Duration: 0.630s",
          "<b></b><br>Layer: L06<br>Start: 94.440s<br>End: 103.470s<br>Duration: 9.030s",
          "<b></b><br>Layer: L06<br>Start: 103.470s<br>End: 104.140s<br>Duration: 0.670s",
          "<b></b><br>Layer: L06<br>Start: 104.140s<br>End: 104.770s<br>Duration: 0.630s",
          "<b></b><br>Layer: L06<br>Start: 104.770s<br>End: 105.400s<br>Duration: 0.630s",
          "<b></b><br>Layer: L06<br>Start: 105.400s<br>End: 109.280s<br>Duration: 3.880s",
          "<b></b><br>Layer: L06<br>Start: 109.280s<br>End: 111.830s<br>Duration: 2.550s",
          "<b></b><br>Layer: L06<br>Start: 111.830s<br>End: 117.600s<br>Duration: 5.770s",
          "<b></b><br>Layer: L06<br>Start: 117.600s<br>End: 152.970s<br>Duration: 35.370s",
          "<b></b><br>Layer: L06<br>Start: 152.970s<br>End: 153.600s<br>Duration: 0.630s",
          "<b></b><br>Layer: L06<br>Start: 153.600s<br>End: 158.650s<br>Duration: 5.050s",
          "<b></b><br>Layer: L06<br>Start: 158.650s<br>End: 159.280s<br>Duration: 0.630s",
          "<b></b><br>Layer: L06<br>Start: 159.280s<br>End: 159.920s<br>Duration: 0.640s",
          "<b></b><br>Layer: L06<br>Start: 159.920s<br>End: 168.890s<br>Duration: 8.970s",
          "<b></b><br>Layer: L06<br>Start: 168.890s<br>End: 169.520s<br>Duration: 0.630s",
          "<b></b><br>Layer: L06<br>Start: 169.520s<br>End: 170.820s<br>Duration: 1.300s",
          "<b></b><br>Layer: L06<br>Start: 170.820s<br>End: 171.470s<br>Duration: 0.650s",
          "<b></b><br>Layer: L06<br>Start: 171.470s<br>End: 190.020s<br>Duration: 18.550s",
          "<b></b><br>Layer: L06<br>Start: 190.020s<br>End: 190.650s<br>Duration: 0.630s",
          "<b></b><br>Layer: L06<br>Start: 190.650s<br>End: 191.310s<br>Duration: 0.660s",
          "<b></b><br>Layer: L06<br>Start: 191.310s<br>End: 222.061s<br>Duration: 30.751s"
         ],
         "hovertemplate": "%{customdata}<extra></extra>",
         "insidetextanchor": "middle",
         "marker": {
          "color": "#1F77B4",
          "line": {
           "color": "white",
           "width": 0.5
          },
          "pattern": {
           "fgcolor": "white",
           "fgopacity": 0.5,
           "shape": "",
           "solidity": 0.25
          }
         },
         "name": "",
         "orientation": "h",
         "showlegend": true,
         "text": [
          "",
          "",
          "",
          "",
          "",
          "",
          "",
          "",
          "",
          "",
          "",
          "",
          "",
          "",
          "",
          "",
          "",
          "",
          "",
          "",
          "",
          "",
          "",
          "",
          "",
          "",
          "",
          "",
          "",
          "",
          "",
          "",
          "",
          "",
          "",
          "",
          "",
          "",
          "",
          "",
          "",
          "",
          "",
          "",
          "",
          "",
          "",
          "",
          "",
          "",
          "",
          "",
          "",
          "",
          "",
          "",
          "",
          "",
          "",
          "",
          "",
          "",
          "",
          "",
          "",
          "",
          "",
          "",
          "",
          "",
          "",
          "",
          "",
          "",
          "",
          "",
          "",
          "",
          "",
          "",
          "",
          "",
          "",
          "",
          "",
          "",
          "",
          "",
          "",
          ""
         ],
         "textposition": "inside",
         "type": "bar",
         "width": 1,
         "x": [
          191.31,
          30.75111000000001,
          32.12,
          159.19,
          30.75111000000001,
          32.12,
          42.38,
          18.64,
          11,
          48.83,
          0.6299999999999955,
          37.71000000000001,
          30.75111000000001,
          12.98,
          19.139999999999997,
          22.480000000000004,
          19.9,
          18.64,
          1.2999999999999972,
          9.030000000000001,
          0.6700000000000017,
          7.689999999999998,
          41.14,
          0.6299999999999955,
          15.920000000000016,
          21.129999999999995,
          0.6599999999999966,
          30.75111000000001,
          12.98,
          0.629999999999999,
          2.5500000000000007,
          15.959999999999997,
          22.480000000000004,
          8.990000000000002,
          0.6499999999999915,
          10.260000000000005,
          0.6500000000000057,
          17.989999999999995,
          0.6700000000000017,
          0.6299999999999955,
          9.030000000000001,
          0.6700000000000017,
          0.6299999999999955,
          7.060000000000002,
          41.14,
          0.6299999999999955,
          15.920000000000016,
          20.5,
          0.6299999999999955,
          0.6599999999999966,
          30.75111000000001,
          8.54,
          1.2600000000000016,
          1.2599999999999998,
          1.92,
          0.629999999999999,
          2.5500000000000007,
          15.959999999999997,
          0.6300000000000026,
          21.85,
          0.6499999999999986,
          6.420000000000002,
          0.6400000000000006,
          1.2800000000000011,
          0.6499999999999915,
          10.260000000000005,
          0.6500000000000057,
          17.989999999999995,
          0.6700000000000017,
          0.6299999999999955,
          9.030000000000001,
          0.6700000000000017,
          0.6299999999999955,
          0.6300000000000097,
          3.8799999999999955,
          2.549999999999997,
          5.769999999999996,
          35.370000000000005,
          0.6299999999999955,
          5.050000000000011,
          0.6299999999999955,
          0.6399999999999864,
          8.969999999999999,
          0.6300000000000239,
          1.299999999999983,
          0.6500000000000057,
          18.55000000000001,
          0.6299999999999955,
          0.6599999999999966,
          30.75111000000001
         ],
         "y": [
          "L01",
          "L01",
          "L02",
          "L02",
          "L02",
          "L03",
          "L03",
          "L03",
          "L03",
          "L03",
          "L03",
          "L03",
          "L03",
          "L04",
          "L04",
          "L04",
          "L04",
          "L04",
          "L04",
          "L04",
          "L04",
          "L04",
          "L04",
          "L04",
          "L04",
          "L04",
          "L04",
          "L04",
          "L05",
          "L05",
          "L05",
          "L05",
          "L05",
          "L05",
          "L05",
          "L05",
          "L05",
          "L05",
          "L05",
          "L05",
          "L05",
          "L05",
          "L05",
          "L05",
          "L05",
          "L05",
          "L05",
          "L05",
          "L05",
          "L05",
          "L05",
          "L06",
          "L06",
          "L06",
          "L06",
          "L06",
          "L06",
          "L06",
          "L06",
          "L06",
          "L06",
          "L06",
          "L06",
          "L06",
          "L06",
          "L06",
          "L06",
          "L06",
          "L06",
          "L06",
          "L06",
          "L06",
          "L06",
          "L06",
          "L06",
          "L06",
          "L06",
          "L06",
          "L06",
          "L06",
          "L06",
          "L06",
          "L06",
          "L06",
          "L06",
          "L06",
          "L06",
          "L06",
          "L06",
          "L06"
         ]
        }
       ],
       "layout": {
        "barmode": "overlay",
        "height": 220,
        "margin": {
         "b": 20,
         "l": 20,
         "r": 20,
         "t": 40
        },
        "showlegend": false,
        "template": {
         "data": {
          "bar": [
           {
            "error_x": {
             "color": "#2a3f5f"
            },
            "error_y": {
             "color": "#2a3f5f"
            },
            "marker": {
             "line": {
              "color": "#E5ECF6",
              "width": 0.5
             },
             "pattern": {
              "fillmode": "overlay",
              "size": 10,
              "solidity": 0.2
             }
            },
            "type": "bar"
           }
          ],
          "barpolar": [
           {
            "marker": {
             "line": {
              "color": "#E5ECF6",
              "width": 0.5
             },
             "pattern": {
              "fillmode": "overlay",
              "size": 10,
              "solidity": 0.2
             }
            },
            "type": "barpolar"
           }
          ],
          "carpet": [
           {
            "aaxis": {
             "endlinecolor": "#2a3f5f",
             "gridcolor": "white",
             "linecolor": "white",
             "minorgridcolor": "white",
             "startlinecolor": "#2a3f5f"
            },
            "baxis": {
             "endlinecolor": "#2a3f5f",
             "gridcolor": "white",
             "linecolor": "white",
             "minorgridcolor": "white",
             "startlinecolor": "#2a3f5f"
            },
            "type": "carpet"
           }
          ],
          "choropleth": [
           {
            "colorbar": {
             "outlinewidth": 0,
             "ticks": ""
            },
            "type": "choropleth"
           }
          ],
          "contour": [
           {
            "colorbar": {
             "outlinewidth": 0,
             "ticks": ""
            },
            "colorscale": [
             [
              0,
              "#0d0887"
             ],
             [
              0.1111111111111111,
              "#46039f"
             ],
             [
              0.2222222222222222,
              "#7201a8"
             ],
             [
              0.3333333333333333,
              "#9c179e"
             ],
             [
              0.4444444444444444,
              "#bd3786"
             ],
             [
              0.5555555555555556,
              "#d8576b"
             ],
             [
              0.6666666666666666,
              "#ed7953"
             ],
             [
              0.7777777777777778,
              "#fb9f3a"
             ],
             [
              0.8888888888888888,
              "#fdca26"
             ],
             [
              1,
              "#f0f921"
             ]
            ],
            "type": "contour"
           }
          ],
          "contourcarpet": [
           {
            "colorbar": {
             "outlinewidth": 0,
             "ticks": ""
            },
            "type": "contourcarpet"
           }
          ],
          "heatmap": [
           {
            "colorbar": {
             "outlinewidth": 0,
             "ticks": ""
            },
            "colorscale": [
             [
              0,
              "#0d0887"
             ],
             [
              0.1111111111111111,
              "#46039f"
             ],
             [
              0.2222222222222222,
              "#7201a8"
             ],
             [
              0.3333333333333333,
              "#9c179e"
             ],
             [
              0.4444444444444444,
              "#bd3786"
             ],
             [
              0.5555555555555556,
              "#d8576b"
             ],
             [
              0.6666666666666666,
              "#ed7953"
             ],
             [
              0.7777777777777778,
              "#fb9f3a"
             ],
             [
              0.8888888888888888,
              "#fdca26"
             ],
             [
              1,
              "#f0f921"
             ]
            ],
            "type": "heatmap"
           }
          ],
          "histogram": [
           {
            "marker": {
             "pattern": {
              "fillmode": "overlay",
              "size": 10,
              "solidity": 0.2
             }
            },
            "type": "histogram"
           }
          ],
          "histogram2d": [
           {
            "colorbar": {
             "outlinewidth": 0,
             "ticks": ""
            },
            "colorscale": [
             [
              0,
              "#0d0887"
             ],
             [
              0.1111111111111111,
              "#46039f"
             ],
             [
              0.2222222222222222,
              "#7201a8"
             ],
             [
              0.3333333333333333,
              "#9c179e"
             ],
             [
              0.4444444444444444,
              "#bd3786"
             ],
             [
              0.5555555555555556,
              "#d8576b"
             ],
             [
              0.6666666666666666,
              "#ed7953"
             ],
             [
              0.7777777777777778,
              "#fb9f3a"
             ],
             [
              0.8888888888888888,
              "#fdca26"
             ],
             [
              1,
              "#f0f921"
             ]
            ],
            "type": "histogram2d"
           }
          ],
          "histogram2dcontour": [
           {
            "colorbar": {
             "outlinewidth": 0,
             "ticks": ""
            },
            "colorscale": [
             [
              0,
              "#0d0887"
             ],
             [
              0.1111111111111111,
              "#46039f"
             ],
             [
              0.2222222222222222,
              "#7201a8"
             ],
             [
              0.3333333333333333,
              "#9c179e"
             ],
             [
              0.4444444444444444,
              "#bd3786"
             ],
             [
              0.5555555555555556,
              "#d8576b"
             ],
             [
              0.6666666666666666,
              "#ed7953"
             ],
             [
              0.7777777777777778,
              "#fb9f3a"
             ],
             [
              0.8888888888888888,
              "#fdca26"
             ],
             [
              1,
              "#f0f921"
             ]
            ],
            "type": "histogram2dcontour"
           }
          ],
          "mesh3d": [
           {
            "colorbar": {
             "outlinewidth": 0,
             "ticks": ""
            },
            "type": "mesh3d"
           }
          ],
          "parcoords": [
           {
            "line": {
             "colorbar": {
              "outlinewidth": 0,
              "ticks": ""
             }
            },
            "type": "parcoords"
           }
          ],
          "pie": [
           {
            "automargin": true,
            "type": "pie"
           }
          ],
          "scatter": [
           {
            "fillpattern": {
             "fillmode": "overlay",
             "size": 10,
             "solidity": 0.2
            },
            "type": "scatter"
           }
          ],
          "scatter3d": [
           {
            "line": {
             "colorbar": {
              "outlinewidth": 0,
              "ticks": ""
             }
            },
            "marker": {
             "colorbar": {
              "outlinewidth": 0,
              "ticks": ""
             }
            },
            "type": "scatter3d"
           }
          ],
          "scattercarpet": [
           {
            "marker": {
             "colorbar": {
              "outlinewidth": 0,
              "ticks": ""
             }
            },
            "type": "scattercarpet"
           }
          ],
          "scattergeo": [
           {
            "marker": {
             "colorbar": {
              "outlinewidth": 0,
              "ticks": ""
             }
            },
            "type": "scattergeo"
           }
          ],
          "scattergl": [
           {
            "marker": {
             "colorbar": {
              "outlinewidth": 0,
              "ticks": ""
             }
            },
            "type": "scattergl"
           }
          ],
          "scattermap": [
           {
            "marker": {
             "colorbar": {
              "outlinewidth": 0,
              "ticks": ""
             }
            },
            "type": "scattermap"
           }
          ],
          "scattermapbox": [
           {
            "marker": {
             "colorbar": {
              "outlinewidth": 0,
              "ticks": ""
             }
            },
            "type": "scattermapbox"
           }
          ],
          "scatterpolar": [
           {
            "marker": {
             "colorbar": {
              "outlinewidth": 0,
              "ticks": ""
             }
            },
            "type": "scatterpolar"
           }
          ],
          "scatterpolargl": [
           {
            "marker": {
             "colorbar": {
              "outlinewidth": 0,
              "ticks": ""
             }
            },
            "type": "scatterpolargl"
           }
          ],
          "scatterternary": [
           {
            "marker": {
             "colorbar": {
              "outlinewidth": 0,
              "ticks": ""
             }
            },
            "type": "scatterternary"
           }
          ],
          "surface": [
           {
            "colorbar": {
             "outlinewidth": 0,
             "ticks": ""
            },
            "colorscale": [
             [
              0,
              "#0d0887"
             ],
             [
              0.1111111111111111,
              "#46039f"
             ],
             [
              0.2222222222222222,
              "#7201a8"
             ],
             [
              0.3333333333333333,
              "#9c179e"
             ],
             [
              0.4444444444444444,
              "#bd3786"
             ],
             [
              0.5555555555555556,
              "#d8576b"
             ],
             [
              0.6666666666666666,
              "#ed7953"
             ],
             [
              0.7777777777777778,
              "#fb9f3a"
             ],
             [
              0.8888888888888888,
              "#fdca26"
             ],
             [
              1,
              "#f0f921"
             ]
            ],
            "type": "surface"
           }
          ],
          "table": [
           {
            "cells": {
             "fill": {
              "color": "#EBF0F8"
             },
             "line": {
              "color": "white"
             }
            },
            "header": {
             "fill": {
              "color": "#C8D4E3"
             },
             "line": {
              "color": "white"
             }
            },
            "type": "table"
           }
          ]
         },
         "layout": {
          "annotationdefaults": {
           "arrowcolor": "#2a3f5f",
           "arrowhead": 0,
           "arrowwidth": 1
          },
          "autotypenumbers": "strict",
          "coloraxis": {
           "colorbar": {
            "outlinewidth": 0,
            "ticks": ""
           }
          },
          "colorscale": {
           "diverging": [
            [
             0,
             "#8e0152"
            ],
            [
             0.1,
             "#c51b7d"
            ],
            [
             0.2,
             "#de77ae"
            ],
            [
             0.3,
             "#f1b6da"
            ],
            [
             0.4,
             "#fde0ef"
            ],
            [
             0.5,
             "#f7f7f7"
            ],
            [
             0.6,
             "#e6f5d0"
            ],
            [
             0.7,
             "#b8e186"
            ],
            [
             0.8,
             "#7fbc41"
            ],
            [
             0.9,
             "#4d9221"
            ],
            [
             1,
             "#276419"
            ]
           ],
           "sequential": [
            [
             0,
             "#0d0887"
            ],
            [
             0.1111111111111111,
             "#46039f"
            ],
            [
             0.2222222222222222,
             "#7201a8"
            ],
            [
             0.3333333333333333,
             "#9c179e"
            ],
            [
             0.4444444444444444,
             "#bd3786"
            ],
            [
             0.5555555555555556,
             "#d8576b"
            ],
            [
             0.6666666666666666,
             "#ed7953"
            ],
            [
             0.7777777777777778,
             "#fb9f3a"
            ],
            [
             0.8888888888888888,
             "#fdca26"
            ],
            [
             1,
             "#f0f921"
            ]
           ],
           "sequentialminus": [
            [
             0,
             "#0d0887"
            ],
            [
             0.1111111111111111,
             "#46039f"
            ],
            [
             0.2222222222222222,
             "#7201a8"
            ],
            [
             0.3333333333333333,
             "#9c179e"
            ],
            [
             0.4444444444444444,
             "#bd3786"
            ],
            [
             0.5555555555555556,
             "#d8576b"
            ],
            [
             0.6666666666666666,
             "#ed7953"
            ],
            [
             0.7777777777777778,
             "#fb9f3a"
            ],
            [
             0.8888888888888888,
             "#fdca26"
            ],
            [
             1,
             "#f0f921"
            ]
           ]
          },
          "colorway": [
           "#636efa",
           "#EF553B",
           "#00cc96",
           "#ab63fa",
           "#FFA15A",
           "#19d3f3",
           "#FF6692",
           "#B6E880",
           "#FF97FF",
           "#FECB52"
          ],
          "font": {
           "color": "#2a3f5f"
          },
          "geo": {
           "bgcolor": "white",
           "lakecolor": "white",
           "landcolor": "#E5ECF6",
           "showlakes": true,
           "showland": true,
           "subunitcolor": "white"
          },
          "hoverlabel": {
           "align": "left"
          },
          "hovermode": "closest",
          "mapbox": {
           "style": "light"
          },
          "paper_bgcolor": "white",
          "plot_bgcolor": "#E5ECF6",
          "polar": {
           "angularaxis": {
            "gridcolor": "white",
            "linecolor": "white",
            "ticks": ""
           },
           "bgcolor": "#E5ECF6",
           "radialaxis": {
            "gridcolor": "white",
            "linecolor": "white",
            "ticks": ""
           }
          },
          "scene": {
           "xaxis": {
            "backgroundcolor": "#E5ECF6",
            "gridcolor": "white",
            "gridwidth": 2,
            "linecolor": "white",
            "showbackground": true,
            "ticks": "",
            "zerolinecolor": "white"
           },
           "yaxis": {
            "backgroundcolor": "#E5ECF6",
            "gridcolor": "white",
            "gridwidth": 2,
            "linecolor": "white",
            "showbackground": true,
            "ticks": "",
            "zerolinecolor": "white"
           },
           "zaxis": {
            "backgroundcolor": "#E5ECF6",
            "gridcolor": "white",
            "gridwidth": 2,
            "linecolor": "white",
            "showbackground": true,
            "ticks": "",
            "zerolinecolor": "white"
           }
          },
          "shapedefaults": {
           "line": {
            "color": "#2a3f5f"
           }
          },
          "ternary": {
           "aaxis": {
            "gridcolor": "white",
            "linecolor": "white",
            "ticks": ""
           },
           "baxis": {
            "gridcolor": "white",
            "linecolor": "white",
            "ticks": ""
           },
           "bgcolor": "#E5ECF6",
           "caxis": {
            "gridcolor": "white",
            "linecolor": "white",
            "ticks": ""
           }
          },
          "title": {
           "x": 0.05
          },
          "xaxis": {
           "automargin": true,
           "gridcolor": "white",
           "linecolor": "white",
           "ticks": "",
           "title": {
            "standoff": 15
           },
           "zerolinecolor": "white",
           "zerolinewidth": 2
          },
          "yaxis": {
           "automargin": true,
           "gridcolor": "white",
           "linecolor": "white",
           "ticks": "",
           "title": {
            "standoff": 15
           },
           "zerolinecolor": "white",
           "zerolinewidth": 2
          }
         }
        },
        "title": {
         "text": "count",
         "x": 0.5
        },
        "width": 450,
        "xaxis": {
         "range": [
          0,
          222.06111
         ],
         "title": {
          "text": "Time (s)"
         }
        },
        "yaxis": {
         "categoryarray": [
          "L06",
          "L05",
          "L04",
          "L03",
          "L02",
          "L01"
         ],
         "categoryorder": "array",
         "title": {}
        }
       }
      }
     },
     "metadata": {},
     "output_type": "display_data"
    },
    {
     "data": {
      "application/vnd.plotly.v1+json": {
       "config": {
        "plotlyServerURL": "https://plot.ly"
       },
       "data": [
        {
         "base": [
          0,
          104.14,
          152.97,
          153.6,
          191.31,
          0,
          12.98,
          13.61,
          32.12,
          54.6,
          74.5,
          93.14,
          94.44,
          103.47,
          104.14,
          111.83,
          152.97,
          153.6,
          169.52,
          190.02,
          190.65,
          191.31,
          0,
          8.54,
          9.8,
          11.06,
          12.98,
          13.61,
          16.16,
          32.12,
          32.75,
          54.6,
          55.25,
          61.67,
          62.31,
          63.59,
          64.24,
          74.5,
          75.15,
          93.14,
          93.81,
          94.44,
          103.47,
          104.14,
          104.77,
          105.4,
          109.28,
          111.83,
          117.6,
          152.97,
          153.6,
          158.65,
          159.28,
          159.92,
          168.89,
          169.52,
          170.82,
          171.47,
          190.02,
          190.65,
          191.31
         ],
         "customdata": [
          "<b></b><br>Layer: L01<br>Start: 0.000s<br>End: 104.140s<br>Duration: 104.140s",
          "<b></b><br>Layer: L01<br>Start: 104.140s<br>End: 152.970s<br>Duration: 48.830s",
          "<b></b><br>Layer: L01<br>Start: 152.970s<br>End: 153.600s<br>Duration: 0.630s",
          "<b></b><br>Layer: L01<br>Start: 153.600s<br>End: 191.310s<br>Duration: 37.710s",
          "<b></b><br>Layer: L01<br>Start: 191.310s<br>End: 222.061s<br>Duration: 30.751s",
          "<b></b><br>Layer: L02<br>Start: 0.000s<br>End: 12.980s<br>Duration: 12.980s",
          "<b></b><br>Layer: L02<br>Start: 12.980s<br>End: 13.610s<br>Duration: 0.630s",
          "<b></b><br>Layer: L02<br>Start: 13.610s<br>End: 32.120s<br>Duration: 18.510s",
          "<b></b><br>Layer: L02<br>Start: 32.120s<br>End: 54.600s<br>Duration: 22.480s",
          "<b></b><br>Layer: L02<br>Start: 54.600s<br>End: 74.500s<br>Duration: 19.900s",
          "<b></b><br>Layer: L02<br>Start: 74.500s<br>End: 93.140s<br>Duration: 18.640s",
          "<b></b><br>Layer: L02<br>Start: 93.140s<br>End: 94.440s<br>Duration: 1.300s",
          "<b></b><br>Layer: L02<br>Start: 94.440s<br>End: 103.470s<br>Duration: 9.030s",
          "<b></b><br>Layer: L02<br>Start: 103.470s<br>End: 104.140s<br>Duration: 0.670s",
          "<b></b><br>Layer: L02<br>Start: 104.140s<br>End: 111.830s<br>Duration: 7.690s",
          "<b></b><br>Layer: L02<br>Start: 111.830s<br>End: 152.970s<br>Duration: 41.140s",
          "<b></b><br>Layer: L02<br>Start: 152.970s<br>End: 153.600s<br>Duration: 0.630s",
          "<b></b><br>Layer: L02<br>Start: 153.600s<br>End: 169.520s<br>Duration: 15.920s",
          "<b></b><br>Layer: L02<br>Start: 169.520s<br>End: 190.020s<br>Duration: 20.500s",
          "<b></b><br>Layer: L02<br>Start: 190.020s<br>End: 190.650s<br>Duration: 0.630s",
          "<b></b><br>Layer: L02<br>Start: 190.650s<br>End: 191.310s<br>Duration: 0.660s",
          "<b></b><br>Layer: L02<br>Start: 191.310s<br>End: 222.061s<br>Duration: 30.751s",
          "<b></b><br>Layer: L03<br>Start: 0.000s<br>End: 8.540s<br>Duration: 8.540s",
          "<b></b><br>Layer: L03<br>Start: 8.540s<br>End: 9.800s<br>Duration: 1.260s",
          "<b></b><br>Layer: L03<br>Start: 9.800s<br>End: 11.060s<br>Duration: 1.260s",
          "<b></b><br>Layer: L03<br>Start: 11.060s<br>End: 12.980s<br>Duration: 1.920s",
          "<b></b><br>Layer: L03<br>Start: 12.980s<br>End: 13.610s<br>Duration: 0.630s",
          "<b></b><br>Layer: L03<br>Start: 13.610s<br>End: 16.160s<br>Duration: 2.550s",
          "<b></b><br>Layer: L03<br>Start: 16.160s<br>End: 32.120s<br>Duration: 15.960s",
          "<b></b><br>Layer: L03<br>Start: 32.120s<br>End: 32.750s<br>Duration: 0.630s",
          "<b></b><br>Layer: L03<br>Start: 32.750s<br>End: 54.600s<br>Duration: 21.850s",
          "<b></b><br>Layer: L03<br>Start: 54.600s<br>End: 55.250s<br>Duration: 0.650s",
          "<b></b><br>Layer: L03<br>Start: 55.250s<br>End: 61.670s<br>Duration: 6.420s",
          "<b></b><br>Layer: L03<br>Start: 61.670s<br>End: 62.310s<br>Duration: 0.640s",
          "<b></b><br>Layer: L03<br>Start: 62.310s<br>End: 63.590s<br>Duration: 1.280s",
          "<b></b><br>Layer: L03<br>Start: 63.590s<br>End: 64.240s<br>Duration: 0.650s",
          "<b></b><br>Layer: L03<br>Start: 64.240s<br>End: 74.500s<br>Duration: 10.260s",
          "<b></b><br>Layer: L03<br>Start: 74.500s<br>End: 75.150s<br>Duration: 0.650s",
          "<b></b><br>Layer: L03<br>Start: 75.150s<br>End: 93.140s<br>Duration: 17.990s",
          "<b></b><br>Layer: L03<br>Start: 93.140s<br>End: 93.810s<br>Duration: 0.670s",
          "<b></b><br>Layer: L03<br>Start: 93.810s<br>End: 94.440s<br>Duration: 0.630s",
          "<b></b><br>Layer: L03<br>Start: 94.440s<br>End: 103.470s<br>Duration: 9.030s",
          "<b></b><br>Layer: L03<br>Start: 103.470s<br>End: 104.140s<br>Duration: 0.670s",
          "<b></b><br>Layer: L03<br>Start: 104.140s<br>End: 104.770s<br>Duration: 0.630s",
          "<b></b><br>Layer: L03<br>Start: 104.770s<br>End: 105.400s<br>Duration: 0.630s",
          "<b></b><br>Layer: L03<br>Start: 105.400s<br>End: 109.280s<br>Duration: 3.880s",
          "<b></b><br>Layer: L03<br>Start: 109.280s<br>End: 111.830s<br>Duration: 2.550s",
          "<b></b><br>Layer: L03<br>Start: 111.830s<br>End: 117.600s<br>Duration: 5.770s",
          "<b></b><br>Layer: L03<br>Start: 117.600s<br>End: 152.970s<br>Duration: 35.370s",
          "<b></b><br>Layer: L03<br>Start: 152.970s<br>End: 153.600s<br>Duration: 0.630s",
          "<b></b><br>Layer: L03<br>Start: 153.600s<br>End: 158.650s<br>Duration: 5.050s",
          "<b></b><br>Layer: L03<br>Start: 158.650s<br>End: 159.280s<br>Duration: 0.630s",
          "<b></b><br>Layer: L03<br>Start: 159.280s<br>End: 159.920s<br>Duration: 0.640s",
          "<b></b><br>Layer: L03<br>Start: 159.920s<br>End: 168.890s<br>Duration: 8.970s",
          "<b></b><br>Layer: L03<br>Start: 168.890s<br>End: 169.520s<br>Duration: 0.630s",
          "<b></b><br>Layer: L03<br>Start: 169.520s<br>End: 170.820s<br>Duration: 1.300s",
          "<b></b><br>Layer: L03<br>Start: 170.820s<br>End: 171.470s<br>Duration: 0.650s",
          "<b></b><br>Layer: L03<br>Start: 171.470s<br>End: 190.020s<br>Duration: 18.550s",
          "<b></b><br>Layer: L03<br>Start: 190.020s<br>End: 190.650s<br>Duration: 0.630s",
          "<b></b><br>Layer: L03<br>Start: 190.650s<br>End: 191.310s<br>Duration: 0.660s",
          "<b></b><br>Layer: L03<br>Start: 191.310s<br>End: 222.061s<br>Duration: 30.751s"
         ],
         "hovertemplate": "%{customdata}<extra></extra>",
         "insidetextanchor": "middle",
         "marker": {
          "color": "#1F77B4",
          "line": {
           "color": "white",
           "width": 0.5
          },
          "pattern": {
           "fgcolor": "white",
           "fgopacity": 0.5,
           "shape": "",
           "solidity": 0.25
          }
         },
         "name": "",
         "orientation": "h",
         "showlegend": true,
         "text": [
          "",
          "",
          "",
          "",
          "",
          "",
          "",
          "",
          "",
          "",
          "",
          "",
          "",
          "",
          "",
          "",
          "",
          "",
          "",
          "",
          "",
          "",
          "",
          "",
          "",
          "",
          "",
          "",
          "",
          "",
          "",
          "",
          "",
          "",
          "",
          "",
          "",
          "",
          "",
          "",
          "",
          "",
          "",
          "",
          "",
          "",
          "",
          "",
          "",
          "",
          "",
          "",
          "",
          "",
          "",
          "",
          "",
          "",
          "",
          "",
          ""
         ],
         "textposition": "inside",
         "type": "bar",
         "width": 1,
         "x": [
          104.14,
          48.83,
          0.6299999999999955,
          37.71000000000001,
          30.75111000000001,
          12.98,
          0.629999999999999,
          18.509999999999998,
          22.480000000000004,
          19.9,
          18.64,
          1.2999999999999972,
          9.030000000000001,
          0.6700000000000017,
          7.689999999999998,
          41.14,
          0.6299999999999955,
          15.920000000000016,
          20.5,
          0.6299999999999955,
          0.6599999999999966,
          30.75111000000001,
          8.54,
          1.2600000000000016,
          1.2599999999999998,
          1.92,
          0.629999999999999,
          2.5500000000000007,
          15.959999999999997,
          0.6300000000000026,
          21.85,
          0.6499999999999986,
          6.420000000000002,
          0.6400000000000006,
          1.2800000000000011,
          0.6499999999999915,
          10.260000000000005,
          0.6500000000000057,
          17.989999999999995,
          0.6700000000000017,
          0.6299999999999955,
          9.030000000000001,
          0.6700000000000017,
          0.6299999999999955,
          0.6300000000000097,
          3.8799999999999955,
          2.549999999999997,
          5.769999999999996,
          35.370000000000005,
          0.6299999999999955,
          5.050000000000011,
          0.6299999999999955,
          0.6399999999999864,
          8.969999999999999,
          0.6300000000000239,
          1.299999999999983,
          0.6500000000000057,
          18.55000000000001,
          0.6299999999999955,
          0.6599999999999966,
          30.75111000000001
         ],
         "y": [
          "L01",
          "L01",
          "L01",
          "L01",
          "L01",
          "L02",
          "L02",
          "L02",
          "L02",
          "L02",
          "L02",
          "L02",
          "L02",
          "L02",
          "L02",
          "L02",
          "L02",
          "L02",
          "L02",
          "L02",
          "L02",
          "L02",
          "L03",
          "L03",
          "L03",
          "L03",
          "L03",
          "L03",
          "L03",
          "L03",
          "L03",
          "L03",
          "L03",
          "L03",
          "L03",
          "L03",
          "L03",
          "L03",
          "L03",
          "L03",
          "L03",
          "L03",
          "L03",
          "L03",
          "L03",
          "L03",
          "L03",
          "L03",
          "L03",
          "L03",
          "L03",
          "L03",
          "L03",
          "L03",
          "L03",
          "L03",
          "L03",
          "L03",
          "L03",
          "L03",
          "L03"
         ]
        }
       ],
       "layout": {
        "barmode": "overlay",
        "height": 145,
        "margin": {
         "b": 20,
         "l": 20,
         "r": 20,
         "t": 40
        },
        "showlegend": false,
        "template": {
         "data": {
          "bar": [
           {
            "error_x": {
             "color": "#2a3f5f"
            },
            "error_y": {
             "color": "#2a3f5f"
            },
            "marker": {
             "line": {
              "color": "#E5ECF6",
              "width": 0.5
             },
             "pattern": {
              "fillmode": "overlay",
              "size": 10,
              "solidity": 0.2
             }
            },
            "type": "bar"
           }
          ],
          "barpolar": [
           {
            "marker": {
             "line": {
              "color": "#E5ECF6",
              "width": 0.5
             },
             "pattern": {
              "fillmode": "overlay",
              "size": 10,
              "solidity": 0.2
             }
            },
            "type": "barpolar"
           }
          ],
          "carpet": [
           {
            "aaxis": {
             "endlinecolor": "#2a3f5f",
             "gridcolor": "white",
             "linecolor": "white",
             "minorgridcolor": "white",
             "startlinecolor": "#2a3f5f"
            },
            "baxis": {
             "endlinecolor": "#2a3f5f",
             "gridcolor": "white",
             "linecolor": "white",
             "minorgridcolor": "white",
             "startlinecolor": "#2a3f5f"
            },
            "type": "carpet"
           }
          ],
          "choropleth": [
           {
            "colorbar": {
             "outlinewidth": 0,
             "ticks": ""
            },
            "type": "choropleth"
           }
          ],
          "contour": [
           {
            "colorbar": {
             "outlinewidth": 0,
             "ticks": ""
            },
            "colorscale": [
             [
              0,
              "#0d0887"
             ],
             [
              0.1111111111111111,
              "#46039f"
             ],
             [
              0.2222222222222222,
              "#7201a8"
             ],
             [
              0.3333333333333333,
              "#9c179e"
             ],
             [
              0.4444444444444444,
              "#bd3786"
             ],
             [
              0.5555555555555556,
              "#d8576b"
             ],
             [
              0.6666666666666666,
              "#ed7953"
             ],
             [
              0.7777777777777778,
              "#fb9f3a"
             ],
             [
              0.8888888888888888,
              "#fdca26"
             ],
             [
              1,
              "#f0f921"
             ]
            ],
            "type": "contour"
           }
          ],
          "contourcarpet": [
           {
            "colorbar": {
             "outlinewidth": 0,
             "ticks": ""
            },
            "type": "contourcarpet"
           }
          ],
          "heatmap": [
           {
            "colorbar": {
             "outlinewidth": 0,
             "ticks": ""
            },
            "colorscale": [
             [
              0,
              "#0d0887"
             ],
             [
              0.1111111111111111,
              "#46039f"
             ],
             [
              0.2222222222222222,
              "#7201a8"
             ],
             [
              0.3333333333333333,
              "#9c179e"
             ],
             [
              0.4444444444444444,
              "#bd3786"
             ],
             [
              0.5555555555555556,
              "#d8576b"
             ],
             [
              0.6666666666666666,
              "#ed7953"
             ],
             [
              0.7777777777777778,
              "#fb9f3a"
             ],
             [
              0.8888888888888888,
              "#fdca26"
             ],
             [
              1,
              "#f0f921"
             ]
            ],
            "type": "heatmap"
           }
          ],
          "histogram": [
           {
            "marker": {
             "pattern": {
              "fillmode": "overlay",
              "size": 10,
              "solidity": 0.2
             }
            },
            "type": "histogram"
           }
          ],
          "histogram2d": [
           {
            "colorbar": {
             "outlinewidth": 0,
             "ticks": ""
            },
            "colorscale": [
             [
              0,
              "#0d0887"
             ],
             [
              0.1111111111111111,
              "#46039f"
             ],
             [
              0.2222222222222222,
              "#7201a8"
             ],
             [
              0.3333333333333333,
              "#9c179e"
             ],
             [
              0.4444444444444444,
              "#bd3786"
             ],
             [
              0.5555555555555556,
              "#d8576b"
             ],
             [
              0.6666666666666666,
              "#ed7953"
             ],
             [
              0.7777777777777778,
              "#fb9f3a"
             ],
             [
              0.8888888888888888,
              "#fdca26"
             ],
             [
              1,
              "#f0f921"
             ]
            ],
            "type": "histogram2d"
           }
          ],
          "histogram2dcontour": [
           {
            "colorbar": {
             "outlinewidth": 0,
             "ticks": ""
            },
            "colorscale": [
             [
              0,
              "#0d0887"
             ],
             [
              0.1111111111111111,
              "#46039f"
             ],
             [
              0.2222222222222222,
              "#7201a8"
             ],
             [
              0.3333333333333333,
              "#9c179e"
             ],
             [
              0.4444444444444444,
              "#bd3786"
             ],
             [
              0.5555555555555556,
              "#d8576b"
             ],
             [
              0.6666666666666666,
              "#ed7953"
             ],
             [
              0.7777777777777778,
              "#fb9f3a"
             ],
             [
              0.8888888888888888,
              "#fdca26"
             ],
             [
              1,
              "#f0f921"
             ]
            ],
            "type": "histogram2dcontour"
           }
          ],
          "mesh3d": [
           {
            "colorbar": {
             "outlinewidth": 0,
             "ticks": ""
            },
            "type": "mesh3d"
           }
          ],
          "parcoords": [
           {
            "line": {
             "colorbar": {
              "outlinewidth": 0,
              "ticks": ""
             }
            },
            "type": "parcoords"
           }
          ],
          "pie": [
           {
            "automargin": true,
            "type": "pie"
           }
          ],
          "scatter": [
           {
            "fillpattern": {
             "fillmode": "overlay",
             "size": 10,
             "solidity": 0.2
            },
            "type": "scatter"
           }
          ],
          "scatter3d": [
           {
            "line": {
             "colorbar": {
              "outlinewidth": 0,
              "ticks": ""
             }
            },
            "marker": {
             "colorbar": {
              "outlinewidth": 0,
              "ticks": ""
             }
            },
            "type": "scatter3d"
           }
          ],
          "scattercarpet": [
           {
            "marker": {
             "colorbar": {
              "outlinewidth": 0,
              "ticks": ""
             }
            },
            "type": "scattercarpet"
           }
          ],
          "scattergeo": [
           {
            "marker": {
             "colorbar": {
              "outlinewidth": 0,
              "ticks": ""
             }
            },
            "type": "scattergeo"
           }
          ],
          "scattergl": [
           {
            "marker": {
             "colorbar": {
              "outlinewidth": 0,
              "ticks": ""
             }
            },
            "type": "scattergl"
           }
          ],
          "scattermap": [
           {
            "marker": {
             "colorbar": {
              "outlinewidth": 0,
              "ticks": ""
             }
            },
            "type": "scattermap"
           }
          ],
          "scattermapbox": [
           {
            "marker": {
             "colorbar": {
              "outlinewidth": 0,
              "ticks": ""
             }
            },
            "type": "scattermapbox"
           }
          ],
          "scatterpolar": [
           {
            "marker": {
             "colorbar": {
              "outlinewidth": 0,
              "ticks": ""
             }
            },
            "type": "scatterpolar"
           }
          ],
          "scatterpolargl": [
           {
            "marker": {
             "colorbar": {
              "outlinewidth": 0,
              "ticks": ""
             }
            },
            "type": "scatterpolargl"
           }
          ],
          "scatterternary": [
           {
            "marker": {
             "colorbar": {
              "outlinewidth": 0,
              "ticks": ""
             }
            },
            "type": "scatterternary"
           }
          ],
          "surface": [
           {
            "colorbar": {
             "outlinewidth": 0,
             "ticks": ""
            },
            "colorscale": [
             [
              0,
              "#0d0887"
             ],
             [
              0.1111111111111111,
              "#46039f"
             ],
             [
              0.2222222222222222,
              "#7201a8"
             ],
             [
              0.3333333333333333,
              "#9c179e"
             ],
             [
              0.4444444444444444,
              "#bd3786"
             ],
             [
              0.5555555555555556,
              "#d8576b"
             ],
             [
              0.6666666666666666,
              "#ed7953"
             ],
             [
              0.7777777777777778,
              "#fb9f3a"
             ],
             [
              0.8888888888888888,
              "#fdca26"
             ],
             [
              1,
              "#f0f921"
             ]
            ],
            "type": "surface"
           }
          ],
          "table": [
           {
            "cells": {
             "fill": {
              "color": "#EBF0F8"
             },
             "line": {
              "color": "white"
             }
            },
            "header": {
             "fill": {
              "color": "#C8D4E3"
             },
             "line": {
              "color": "white"
             }
            },
            "type": "table"
           }
          ]
         },
         "layout": {
          "annotationdefaults": {
           "arrowcolor": "#2a3f5f",
           "arrowhead": 0,
           "arrowwidth": 1
          },
          "autotypenumbers": "strict",
          "coloraxis": {
           "colorbar": {
            "outlinewidth": 0,
            "ticks": ""
           }
          },
          "colorscale": {
           "diverging": [
            [
             0,
             "#8e0152"
            ],
            [
             0.1,
             "#c51b7d"
            ],
            [
             0.2,
             "#de77ae"
            ],
            [
             0.3,
             "#f1b6da"
            ],
            [
             0.4,
             "#fde0ef"
            ],
            [
             0.5,
             "#f7f7f7"
            ],
            [
             0.6,
             "#e6f5d0"
            ],
            [
             0.7,
             "#b8e186"
            ],
            [
             0.8,
             "#7fbc41"
            ],
            [
             0.9,
             "#4d9221"
            ],
            [
             1,
             "#276419"
            ]
           ],
           "sequential": [
            [
             0,
             "#0d0887"
            ],
            [
             0.1111111111111111,
             "#46039f"
            ],
            [
             0.2222222222222222,
             "#7201a8"
            ],
            [
             0.3333333333333333,
             "#9c179e"
            ],
            [
             0.4444444444444444,
             "#bd3786"
            ],
            [
             0.5555555555555556,
             "#d8576b"
            ],
            [
             0.6666666666666666,
             "#ed7953"
            ],
            [
             0.7777777777777778,
             "#fb9f3a"
            ],
            [
             0.8888888888888888,
             "#fdca26"
            ],
            [
             1,
             "#f0f921"
            ]
           ],
           "sequentialminus": [
            [
             0,
             "#0d0887"
            ],
            [
             0.1111111111111111,
             "#46039f"
            ],
            [
             0.2222222222222222,
             "#7201a8"
            ],
            [
             0.3333333333333333,
             "#9c179e"
            ],
            [
             0.4444444444444444,
             "#bd3786"
            ],
            [
             0.5555555555555556,
             "#d8576b"
            ],
            [
             0.6666666666666666,
             "#ed7953"
            ],
            [
             0.7777777777777778,
             "#fb9f3a"
            ],
            [
             0.8888888888888888,
             "#fdca26"
            ],
            [
             1,
             "#f0f921"
            ]
           ]
          },
          "colorway": [
           "#636efa",
           "#EF553B",
           "#00cc96",
           "#ab63fa",
           "#FFA15A",
           "#19d3f3",
           "#FF6692",
           "#B6E880",
           "#FF97FF",
           "#FECB52"
          ],
          "font": {
           "color": "#2a3f5f"
          },
          "geo": {
           "bgcolor": "white",
           "lakecolor": "white",
           "landcolor": "#E5ECF6",
           "showlakes": true,
           "showland": true,
           "subunitcolor": "white"
          },
          "hoverlabel": {
           "align": "left"
          },
          "hovermode": "closest",
          "mapbox": {
           "style": "light"
          },
          "paper_bgcolor": "white",
          "plot_bgcolor": "#E5ECF6",
          "polar": {
           "angularaxis": {
            "gridcolor": "white",
            "linecolor": "white",
            "ticks": ""
           },
           "bgcolor": "#E5ECF6",
           "radialaxis": {
            "gridcolor": "white",
            "linecolor": "white",
            "ticks": ""
           }
          },
          "scene": {
           "xaxis": {
            "backgroundcolor": "#E5ECF6",
            "gridcolor": "white",
            "gridwidth": 2,
            "linecolor": "white",
            "showbackground": true,
            "ticks": "",
            "zerolinecolor": "white"
           },
           "yaxis": {
            "backgroundcolor": "#E5ECF6",
            "gridcolor": "white",
            "gridwidth": 2,
            "linecolor": "white",
            "showbackground": true,
            "ticks": "",
            "zerolinecolor": "white"
           },
           "zaxis": {
            "backgroundcolor": "#E5ECF6",
            "gridcolor": "white",
            "gridwidth": 2,
            "linecolor": "white",
            "showbackground": true,
            "ticks": "",
            "zerolinecolor": "white"
           }
          },
          "shapedefaults": {
           "line": {
            "color": "#2a3f5f"
           }
          },
          "ternary": {
           "aaxis": {
            "gridcolor": "white",
            "linecolor": "white",
            "ticks": ""
           },
           "baxis": {
            "gridcolor": "white",
            "linecolor": "white",
            "ticks": ""
           },
           "bgcolor": "#E5ECF6",
           "caxis": {
            "gridcolor": "white",
            "linecolor": "white",
            "ticks": ""
           }
          },
          "title": {
           "x": 0.05
          },
          "xaxis": {
           "automargin": true,
           "gridcolor": "white",
           "linecolor": "white",
           "ticks": "",
           "title": {
            "standoff": 15
           },
           "zerolinecolor": "white",
           "zerolinewidth": 2
          },
          "yaxis": {
           "automargin": true,
           "gridcolor": "white",
           "linecolor": "white",
           "ticks": "",
           "title": {
            "standoff": 15
           },
           "zerolinecolor": "white",
           "zerolinewidth": 2
          }
         }
        },
        "title": {
         "text": "weight",
         "x": 0.5
        },
        "width": 450,
        "xaxis": {
         "range": [
          0,
          222.06111
         ],
         "title": {
          "text": "Time (s)"
         }
        },
        "yaxis": {
         "categoryarray": [
          "L03",
          "L02",
          "L01"
         ],
         "categoryorder": "array",
         "title": {}
        }
       }
      }
     },
     "metadata": {},
     "output_type": "display_data"
    }
   ],
   "source": [
    "est_by_depth.plot().update_layout(width=450).show()\n",
    "est_by_count.plot().update_layout(width=450).show()\n",
    "est_by_weight.plot().update_layout(width=450).show()"
   ]
  },
  {
   "cell_type": "code",
   "execution_count": 52,
   "id": "3283e161",
   "metadata": {},
   "outputs": [
    {
     "name": "stdout",
     "output_type": "stream",
     "text": [
      "adjusted levels\n"
     ]
    },
    {
     "data": {
      "application/vnd.plotly.v1+json": {
       "config": {
        "plotlyServerURL": "https://plot.ly"
       },
       "data": [
        {
         "hovertemplate": "metric=%{x}<br>score=%{text}<extra></extra>",
         "legendgroup": "",
         "marker": {
          "color": "#636efa",
          "pattern": {
           "shape": ""
          }
         },
         "name": "",
         "orientation": "v",
         "showlegend": false,
         "text": {
          "bdata": "DCFh5NCF0z+yGqlDmq3VP7obL6ZGi9Q/j15fmr/L4j/Y5Yg4kFzdP2kFTEFEfOA/",
          "dtype": "f8"
         },
         "textposition": "outside",
         "texttemplate": "%{text:.3f}",
         "type": "bar",
         "x": [
          "T-Precision reduced",
          "T-Recall reduced",
          "T-Measure reduced",
          "T-Precision full",
          "T-Recall full",
          "T-Measure full"
         ],
         "xaxis": "x",
         "y": {
          "bdata": "DCFh5NCF0z+yGqlDmq3VP7obL6ZGi9Q/j15fmr/L4j/Y5Yg4kFzdP2kFTEFEfOA/",
          "dtype": "f8"
         },
         "yaxis": "y"
        }
       ],
       "layout": {
        "barmode": "relative",
        "height": 300,
        "legend": {
         "tracegroupgap": 0
        },
        "margin": {
         "b": 10,
         "l": 10,
         "r": 10,
         "t": 50
        },
        "template": {
         "data": {
          "bar": [
           {
            "error_x": {
             "color": "#2a3f5f"
            },
            "error_y": {
             "color": "#2a3f5f"
            },
            "marker": {
             "line": {
              "color": "#E5ECF6",
              "width": 0.5
             },
             "pattern": {
              "fillmode": "overlay",
              "size": 10,
              "solidity": 0.2
             }
            },
            "type": "bar"
           }
          ],
          "barpolar": [
           {
            "marker": {
             "line": {
              "color": "#E5ECF6",
              "width": 0.5
             },
             "pattern": {
              "fillmode": "overlay",
              "size": 10,
              "solidity": 0.2
             }
            },
            "type": "barpolar"
           }
          ],
          "carpet": [
           {
            "aaxis": {
             "endlinecolor": "#2a3f5f",
             "gridcolor": "white",
             "linecolor": "white",
             "minorgridcolor": "white",
             "startlinecolor": "#2a3f5f"
            },
            "baxis": {
             "endlinecolor": "#2a3f5f",
             "gridcolor": "white",
             "linecolor": "white",
             "minorgridcolor": "white",
             "startlinecolor": "#2a3f5f"
            },
            "type": "carpet"
           }
          ],
          "choropleth": [
           {
            "colorbar": {
             "outlinewidth": 0,
             "ticks": ""
            },
            "type": "choropleth"
           }
          ],
          "contour": [
           {
            "colorbar": {
             "outlinewidth": 0,
             "ticks": ""
            },
            "colorscale": [
             [
              0,
              "#0d0887"
             ],
             [
              0.1111111111111111,
              "#46039f"
             ],
             [
              0.2222222222222222,
              "#7201a8"
             ],
             [
              0.3333333333333333,
              "#9c179e"
             ],
             [
              0.4444444444444444,
              "#bd3786"
             ],
             [
              0.5555555555555556,
              "#d8576b"
             ],
             [
              0.6666666666666666,
              "#ed7953"
             ],
             [
              0.7777777777777778,
              "#fb9f3a"
             ],
             [
              0.8888888888888888,
              "#fdca26"
             ],
             [
              1,
              "#f0f921"
             ]
            ],
            "type": "contour"
           }
          ],
          "contourcarpet": [
           {
            "colorbar": {
             "outlinewidth": 0,
             "ticks": ""
            },
            "type": "contourcarpet"
           }
          ],
          "heatmap": [
           {
            "colorbar": {
             "outlinewidth": 0,
             "ticks": ""
            },
            "colorscale": [
             [
              0,
              "#0d0887"
             ],
             [
              0.1111111111111111,
              "#46039f"
             ],
             [
              0.2222222222222222,
              "#7201a8"
             ],
             [
              0.3333333333333333,
              "#9c179e"
             ],
             [
              0.4444444444444444,
              "#bd3786"
             ],
             [
              0.5555555555555556,
              "#d8576b"
             ],
             [
              0.6666666666666666,
              "#ed7953"
             ],
             [
              0.7777777777777778,
              "#fb9f3a"
             ],
             [
              0.8888888888888888,
              "#fdca26"
             ],
             [
              1,
              "#f0f921"
             ]
            ],
            "type": "heatmap"
           }
          ],
          "histogram": [
           {
            "marker": {
             "pattern": {
              "fillmode": "overlay",
              "size": 10,
              "solidity": 0.2
             }
            },
            "type": "histogram"
           }
          ],
          "histogram2d": [
           {
            "colorbar": {
             "outlinewidth": 0,
             "ticks": ""
            },
            "colorscale": [
             [
              0,
              "#0d0887"
             ],
             [
              0.1111111111111111,
              "#46039f"
             ],
             [
              0.2222222222222222,
              "#7201a8"
             ],
             [
              0.3333333333333333,
              "#9c179e"
             ],
             [
              0.4444444444444444,
              "#bd3786"
             ],
             [
              0.5555555555555556,
              "#d8576b"
             ],
             [
              0.6666666666666666,
              "#ed7953"
             ],
             [
              0.7777777777777778,
              "#fb9f3a"
             ],
             [
              0.8888888888888888,
              "#fdca26"
             ],
             [
              1,
              "#f0f921"
             ]
            ],
            "type": "histogram2d"
           }
          ],
          "histogram2dcontour": [
           {
            "colorbar": {
             "outlinewidth": 0,
             "ticks": ""
            },
            "colorscale": [
             [
              0,
              "#0d0887"
             ],
             [
              0.1111111111111111,
              "#46039f"
             ],
             [
              0.2222222222222222,
              "#7201a8"
             ],
             [
              0.3333333333333333,
              "#9c179e"
             ],
             [
              0.4444444444444444,
              "#bd3786"
             ],
             [
              0.5555555555555556,
              "#d8576b"
             ],
             [
              0.6666666666666666,
              "#ed7953"
             ],
             [
              0.7777777777777778,
              "#fb9f3a"
             ],
             [
              0.8888888888888888,
              "#fdca26"
             ],
             [
              1,
              "#f0f921"
             ]
            ],
            "type": "histogram2dcontour"
           }
          ],
          "mesh3d": [
           {
            "colorbar": {
             "outlinewidth": 0,
             "ticks": ""
            },
            "type": "mesh3d"
           }
          ],
          "parcoords": [
           {
            "line": {
             "colorbar": {
              "outlinewidth": 0,
              "ticks": ""
             }
            },
            "type": "parcoords"
           }
          ],
          "pie": [
           {
            "automargin": true,
            "type": "pie"
           }
          ],
          "scatter": [
           {
            "fillpattern": {
             "fillmode": "overlay",
             "size": 10,
             "solidity": 0.2
            },
            "type": "scatter"
           }
          ],
          "scatter3d": [
           {
            "line": {
             "colorbar": {
              "outlinewidth": 0,
              "ticks": ""
             }
            },
            "marker": {
             "colorbar": {
              "outlinewidth": 0,
              "ticks": ""
             }
            },
            "type": "scatter3d"
           }
          ],
          "scattercarpet": [
           {
            "marker": {
             "colorbar": {
              "outlinewidth": 0,
              "ticks": ""
             }
            },
            "type": "scattercarpet"
           }
          ],
          "scattergeo": [
           {
            "marker": {
             "colorbar": {
              "outlinewidth": 0,
              "ticks": ""
             }
            },
            "type": "scattergeo"
           }
          ],
          "scattergl": [
           {
            "marker": {
             "colorbar": {
              "outlinewidth": 0,
              "ticks": ""
             }
            },
            "type": "scattergl"
           }
          ],
          "scattermap": [
           {
            "marker": {
             "colorbar": {
              "outlinewidth": 0,
              "ticks": ""
             }
            },
            "type": "scattermap"
           }
          ],
          "scattermapbox": [
           {
            "marker": {
             "colorbar": {
              "outlinewidth": 0,
              "ticks": ""
             }
            },
            "type": "scattermapbox"
           }
          ],
          "scatterpolar": [
           {
            "marker": {
             "colorbar": {
              "outlinewidth": 0,
              "ticks": ""
             }
            },
            "type": "scatterpolar"
           }
          ],
          "scatterpolargl": [
           {
            "marker": {
             "colorbar": {
              "outlinewidth": 0,
              "ticks": ""
             }
            },
            "type": "scatterpolargl"
           }
          ],
          "scatterternary": [
           {
            "marker": {
             "colorbar": {
              "outlinewidth": 0,
              "ticks": ""
             }
            },
            "type": "scatterternary"
           }
          ],
          "surface": [
           {
            "colorbar": {
             "outlinewidth": 0,
             "ticks": ""
            },
            "colorscale": [
             [
              0,
              "#0d0887"
             ],
             [
              0.1111111111111111,
              "#46039f"
             ],
             [
              0.2222222222222222,
              "#7201a8"
             ],
             [
              0.3333333333333333,
              "#9c179e"
             ],
             [
              0.4444444444444444,
              "#bd3786"
             ],
             [
              0.5555555555555556,
              "#d8576b"
             ],
             [
              0.6666666666666666,
              "#ed7953"
             ],
             [
              0.7777777777777778,
              "#fb9f3a"
             ],
             [
              0.8888888888888888,
              "#fdca26"
             ],
             [
              1,
              "#f0f921"
             ]
            ],
            "type": "surface"
           }
          ],
          "table": [
           {
            "cells": {
             "fill": {
              "color": "#EBF0F8"
             },
             "line": {
              "color": "white"
             }
            },
            "header": {
             "fill": {
              "color": "#C8D4E3"
             },
             "line": {
              "color": "white"
             }
            },
            "type": "table"
           }
          ]
         },
         "layout": {
          "annotationdefaults": {
           "arrowcolor": "#2a3f5f",
           "arrowhead": 0,
           "arrowwidth": 1
          },
          "autotypenumbers": "strict",
          "coloraxis": {
           "colorbar": {
            "outlinewidth": 0,
            "ticks": ""
           }
          },
          "colorscale": {
           "diverging": [
            [
             0,
             "#8e0152"
            ],
            [
             0.1,
             "#c51b7d"
            ],
            [
             0.2,
             "#de77ae"
            ],
            [
             0.3,
             "#f1b6da"
            ],
            [
             0.4,
             "#fde0ef"
            ],
            [
             0.5,
             "#f7f7f7"
            ],
            [
             0.6,
             "#e6f5d0"
            ],
            [
             0.7,
             "#b8e186"
            ],
            [
             0.8,
             "#7fbc41"
            ],
            [
             0.9,
             "#4d9221"
            ],
            [
             1,
             "#276419"
            ]
           ],
           "sequential": [
            [
             0,
             "#0d0887"
            ],
            [
             0.1111111111111111,
             "#46039f"
            ],
            [
             0.2222222222222222,
             "#7201a8"
            ],
            [
             0.3333333333333333,
             "#9c179e"
            ],
            [
             0.4444444444444444,
             "#bd3786"
            ],
            [
             0.5555555555555556,
             "#d8576b"
            ],
            [
             0.6666666666666666,
             "#ed7953"
            ],
            [
             0.7777777777777778,
             "#fb9f3a"
            ],
            [
             0.8888888888888888,
             "#fdca26"
            ],
            [
             1,
             "#f0f921"
            ]
           ],
           "sequentialminus": [
            [
             0,
             "#0d0887"
            ],
            [
             0.1111111111111111,
             "#46039f"
            ],
            [
             0.2222222222222222,
             "#7201a8"
            ],
            [
             0.3333333333333333,
             "#9c179e"
            ],
            [
             0.4444444444444444,
             "#bd3786"
            ],
            [
             0.5555555555555556,
             "#d8576b"
            ],
            [
             0.6666666666666666,
             "#ed7953"
            ],
            [
             0.7777777777777778,
             "#fb9f3a"
            ],
            [
             0.8888888888888888,
             "#fdca26"
            ],
            [
             1,
             "#f0f921"
            ]
           ]
          },
          "colorway": [
           "#636efa",
           "#EF553B",
           "#00cc96",
           "#ab63fa",
           "#FFA15A",
           "#19d3f3",
           "#FF6692",
           "#B6E880",
           "#FF97FF",
           "#FECB52"
          ],
          "font": {
           "color": "#2a3f5f"
          },
          "geo": {
           "bgcolor": "white",
           "lakecolor": "white",
           "landcolor": "#E5ECF6",
           "showlakes": true,
           "showland": true,
           "subunitcolor": "white"
          },
          "hoverlabel": {
           "align": "left"
          },
          "hovermode": "closest",
          "mapbox": {
           "style": "light"
          },
          "paper_bgcolor": "white",
          "plot_bgcolor": "#E5ECF6",
          "polar": {
           "angularaxis": {
            "gridcolor": "white",
            "linecolor": "white",
            "ticks": ""
           },
           "bgcolor": "#E5ECF6",
           "radialaxis": {
            "gridcolor": "white",
            "linecolor": "white",
            "ticks": ""
           }
          },
          "scene": {
           "xaxis": {
            "backgroundcolor": "#E5ECF6",
            "gridcolor": "white",
            "gridwidth": 2,
            "linecolor": "white",
            "showbackground": true,
            "ticks": "",
            "zerolinecolor": "white"
           },
           "yaxis": {
            "backgroundcolor": "#E5ECF6",
            "gridcolor": "white",
            "gridwidth": 2,
            "linecolor": "white",
            "showbackground": true,
            "ticks": "",
            "zerolinecolor": "white"
           },
           "zaxis": {
            "backgroundcolor": "#E5ECF6",
            "gridcolor": "white",
            "gridwidth": 2,
            "linecolor": "white",
            "showbackground": true,
            "ticks": "",
            "zerolinecolor": "white"
           }
          },
          "shapedefaults": {
           "line": {
            "color": "#2a3f5f"
           }
          },
          "ternary": {
           "aaxis": {
            "gridcolor": "white",
            "linecolor": "white",
            "ticks": ""
           },
           "baxis": {
            "gridcolor": "white",
            "linecolor": "white",
            "ticks": ""
           },
           "bgcolor": "#E5ECF6",
           "caxis": {
            "gridcolor": "white",
            "linecolor": "white",
            "ticks": ""
           }
          },
          "title": {
           "x": 0.05
          },
          "xaxis": {
           "automargin": true,
           "gridcolor": "white",
           "linecolor": "white",
           "ticks": "",
           "title": {
            "standoff": 15
           },
           "zerolinecolor": "white",
           "zerolinewidth": 2
          },
          "yaxis": {
           "automargin": true,
           "gridcolor": "white",
           "linecolor": "white",
           "ticks": "",
           "title": {
            "standoff": 15
           },
           "zerolinecolor": "white",
           "zerolinewidth": 2
          }
         }
        },
        "title": {
         "text": "raw"
        },
        "width": 450,
        "xaxis": {
         "anchor": "y",
         "domain": [
          0,
          1
         ],
         "tickangle": -45,
         "title": {
          "text": "metric"
         }
        },
        "yaxis": {
         "anchor": "x",
         "domain": [
          0,
          1
         ],
         "range": [
          0,
          1.2
         ],
         "title": {
          "text": "score"
         }
        }
       }
      }
     },
     "metadata": {},
     "output_type": "display_data"
    },
    {
     "data": {
      "application/vnd.plotly.v1+json": {
       "config": {
        "plotlyServerURL": "https://plot.ly"
       },
       "data": [
        {
         "hovertemplate": "metric=%{x}<br>score=%{text}<extra></extra>",
         "legendgroup": "",
         "marker": {
          "color": "#636efa",
          "pattern": {
           "shape": ""
          }
         },
         "name": "",
         "orientation": "v",
         "showlegend": false,
         "text": {
          "bdata": "pR6ou4BI2z+4+25dlorWP3WCqcHHr9g/UYa875zi5D8ILmVNkKDdPxXmmqREVeE/",
          "dtype": "f8"
         },
         "textposition": "outside",
         "texttemplate": "%{text:.3f}",
         "type": "bar",
         "x": [
          "T-Precision reduced",
          "T-Recall reduced",
          "T-Measure reduced",
          "T-Precision full",
          "T-Recall full",
          "T-Measure full"
         ],
         "xaxis": "x",
         "y": {
          "bdata": "pR6ou4BI2z+4+25dlorWP3WCqcHHr9g/UYa875zi5D8ILmVNkKDdPxXmmqREVeE/",
          "dtype": "f8"
         },
         "yaxis": "y"
        }
       ],
       "layout": {
        "barmode": "relative",
        "height": 300,
        "legend": {
         "tracegroupgap": 0
        },
        "margin": {
         "b": 10,
         "l": 10,
         "r": 10,
         "t": 50
        },
        "template": {
         "data": {
          "bar": [
           {
            "error_x": {
             "color": "#2a3f5f"
            },
            "error_y": {
             "color": "#2a3f5f"
            },
            "marker": {
             "line": {
              "color": "#E5ECF6",
              "width": 0.5
             },
             "pattern": {
              "fillmode": "overlay",
              "size": 10,
              "solidity": 0.2
             }
            },
            "type": "bar"
           }
          ],
          "barpolar": [
           {
            "marker": {
             "line": {
              "color": "#E5ECF6",
              "width": 0.5
             },
             "pattern": {
              "fillmode": "overlay",
              "size": 10,
              "solidity": 0.2
             }
            },
            "type": "barpolar"
           }
          ],
          "carpet": [
           {
            "aaxis": {
             "endlinecolor": "#2a3f5f",
             "gridcolor": "white",
             "linecolor": "white",
             "minorgridcolor": "white",
             "startlinecolor": "#2a3f5f"
            },
            "baxis": {
             "endlinecolor": "#2a3f5f",
             "gridcolor": "white",
             "linecolor": "white",
             "minorgridcolor": "white",
             "startlinecolor": "#2a3f5f"
            },
            "type": "carpet"
           }
          ],
          "choropleth": [
           {
            "colorbar": {
             "outlinewidth": 0,
             "ticks": ""
            },
            "type": "choropleth"
           }
          ],
          "contour": [
           {
            "colorbar": {
             "outlinewidth": 0,
             "ticks": ""
            },
            "colorscale": [
             [
              0,
              "#0d0887"
             ],
             [
              0.1111111111111111,
              "#46039f"
             ],
             [
              0.2222222222222222,
              "#7201a8"
             ],
             [
              0.3333333333333333,
              "#9c179e"
             ],
             [
              0.4444444444444444,
              "#bd3786"
             ],
             [
              0.5555555555555556,
              "#d8576b"
             ],
             [
              0.6666666666666666,
              "#ed7953"
             ],
             [
              0.7777777777777778,
              "#fb9f3a"
             ],
             [
              0.8888888888888888,
              "#fdca26"
             ],
             [
              1,
              "#f0f921"
             ]
            ],
            "type": "contour"
           }
          ],
          "contourcarpet": [
           {
            "colorbar": {
             "outlinewidth": 0,
             "ticks": ""
            },
            "type": "contourcarpet"
           }
          ],
          "heatmap": [
           {
            "colorbar": {
             "outlinewidth": 0,
             "ticks": ""
            },
            "colorscale": [
             [
              0,
              "#0d0887"
             ],
             [
              0.1111111111111111,
              "#46039f"
             ],
             [
              0.2222222222222222,
              "#7201a8"
             ],
             [
              0.3333333333333333,
              "#9c179e"
             ],
             [
              0.4444444444444444,
              "#bd3786"
             ],
             [
              0.5555555555555556,
              "#d8576b"
             ],
             [
              0.6666666666666666,
              "#ed7953"
             ],
             [
              0.7777777777777778,
              "#fb9f3a"
             ],
             [
              0.8888888888888888,
              "#fdca26"
             ],
             [
              1,
              "#f0f921"
             ]
            ],
            "type": "heatmap"
           }
          ],
          "histogram": [
           {
            "marker": {
             "pattern": {
              "fillmode": "overlay",
              "size": 10,
              "solidity": 0.2
             }
            },
            "type": "histogram"
           }
          ],
          "histogram2d": [
           {
            "colorbar": {
             "outlinewidth": 0,
             "ticks": ""
            },
            "colorscale": [
             [
              0,
              "#0d0887"
             ],
             [
              0.1111111111111111,
              "#46039f"
             ],
             [
              0.2222222222222222,
              "#7201a8"
             ],
             [
              0.3333333333333333,
              "#9c179e"
             ],
             [
              0.4444444444444444,
              "#bd3786"
             ],
             [
              0.5555555555555556,
              "#d8576b"
             ],
             [
              0.6666666666666666,
              "#ed7953"
             ],
             [
              0.7777777777777778,
              "#fb9f3a"
             ],
             [
              0.8888888888888888,
              "#fdca26"
             ],
             [
              1,
              "#f0f921"
             ]
            ],
            "type": "histogram2d"
           }
          ],
          "histogram2dcontour": [
           {
            "colorbar": {
             "outlinewidth": 0,
             "ticks": ""
            },
            "colorscale": [
             [
              0,
              "#0d0887"
             ],
             [
              0.1111111111111111,
              "#46039f"
             ],
             [
              0.2222222222222222,
              "#7201a8"
             ],
             [
              0.3333333333333333,
              "#9c179e"
             ],
             [
              0.4444444444444444,
              "#bd3786"
             ],
             [
              0.5555555555555556,
              "#d8576b"
             ],
             [
              0.6666666666666666,
              "#ed7953"
             ],
             [
              0.7777777777777778,
              "#fb9f3a"
             ],
             [
              0.8888888888888888,
              "#fdca26"
             ],
             [
              1,
              "#f0f921"
             ]
            ],
            "type": "histogram2dcontour"
           }
          ],
          "mesh3d": [
           {
            "colorbar": {
             "outlinewidth": 0,
             "ticks": ""
            },
            "type": "mesh3d"
           }
          ],
          "parcoords": [
           {
            "line": {
             "colorbar": {
              "outlinewidth": 0,
              "ticks": ""
             }
            },
            "type": "parcoords"
           }
          ],
          "pie": [
           {
            "automargin": true,
            "type": "pie"
           }
          ],
          "scatter": [
           {
            "fillpattern": {
             "fillmode": "overlay",
             "size": 10,
             "solidity": 0.2
            },
            "type": "scatter"
           }
          ],
          "scatter3d": [
           {
            "line": {
             "colorbar": {
              "outlinewidth": 0,
              "ticks": ""
             }
            },
            "marker": {
             "colorbar": {
              "outlinewidth": 0,
              "ticks": ""
             }
            },
            "type": "scatter3d"
           }
          ],
          "scattercarpet": [
           {
            "marker": {
             "colorbar": {
              "outlinewidth": 0,
              "ticks": ""
             }
            },
            "type": "scattercarpet"
           }
          ],
          "scattergeo": [
           {
            "marker": {
             "colorbar": {
              "outlinewidth": 0,
              "ticks": ""
             }
            },
            "type": "scattergeo"
           }
          ],
          "scattergl": [
           {
            "marker": {
             "colorbar": {
              "outlinewidth": 0,
              "ticks": ""
             }
            },
            "type": "scattergl"
           }
          ],
          "scattermap": [
           {
            "marker": {
             "colorbar": {
              "outlinewidth": 0,
              "ticks": ""
             }
            },
            "type": "scattermap"
           }
          ],
          "scattermapbox": [
           {
            "marker": {
             "colorbar": {
              "outlinewidth": 0,
              "ticks": ""
             }
            },
            "type": "scattermapbox"
           }
          ],
          "scatterpolar": [
           {
            "marker": {
             "colorbar": {
              "outlinewidth": 0,
              "ticks": ""
             }
            },
            "type": "scatterpolar"
           }
          ],
          "scatterpolargl": [
           {
            "marker": {
             "colorbar": {
              "outlinewidth": 0,
              "ticks": ""
             }
            },
            "type": "scatterpolargl"
           }
          ],
          "scatterternary": [
           {
            "marker": {
             "colorbar": {
              "outlinewidth": 0,
              "ticks": ""
             }
            },
            "type": "scatterternary"
           }
          ],
          "surface": [
           {
            "colorbar": {
             "outlinewidth": 0,
             "ticks": ""
            },
            "colorscale": [
             [
              0,
              "#0d0887"
             ],
             [
              0.1111111111111111,
              "#46039f"
             ],
             [
              0.2222222222222222,
              "#7201a8"
             ],
             [
              0.3333333333333333,
              "#9c179e"
             ],
             [
              0.4444444444444444,
              "#bd3786"
             ],
             [
              0.5555555555555556,
              "#d8576b"
             ],
             [
              0.6666666666666666,
              "#ed7953"
             ],
             [
              0.7777777777777778,
              "#fb9f3a"
             ],
             [
              0.8888888888888888,
              "#fdca26"
             ],
             [
              1,
              "#f0f921"
             ]
            ],
            "type": "surface"
           }
          ],
          "table": [
           {
            "cells": {
             "fill": {
              "color": "#EBF0F8"
             },
             "line": {
              "color": "white"
             }
            },
            "header": {
             "fill": {
              "color": "#C8D4E3"
             },
             "line": {
              "color": "white"
             }
            },
            "type": "table"
           }
          ]
         },
         "layout": {
          "annotationdefaults": {
           "arrowcolor": "#2a3f5f",
           "arrowhead": 0,
           "arrowwidth": 1
          },
          "autotypenumbers": "strict",
          "coloraxis": {
           "colorbar": {
            "outlinewidth": 0,
            "ticks": ""
           }
          },
          "colorscale": {
           "diverging": [
            [
             0,
             "#8e0152"
            ],
            [
             0.1,
             "#c51b7d"
            ],
            [
             0.2,
             "#de77ae"
            ],
            [
             0.3,
             "#f1b6da"
            ],
            [
             0.4,
             "#fde0ef"
            ],
            [
             0.5,
             "#f7f7f7"
            ],
            [
             0.6,
             "#e6f5d0"
            ],
            [
             0.7,
             "#b8e186"
            ],
            [
             0.8,
             "#7fbc41"
            ],
            [
             0.9,
             "#4d9221"
            ],
            [
             1,
             "#276419"
            ]
           ],
           "sequential": [
            [
             0,
             "#0d0887"
            ],
            [
             0.1111111111111111,
             "#46039f"
            ],
            [
             0.2222222222222222,
             "#7201a8"
            ],
            [
             0.3333333333333333,
             "#9c179e"
            ],
            [
             0.4444444444444444,
             "#bd3786"
            ],
            [
             0.5555555555555556,
             "#d8576b"
            ],
            [
             0.6666666666666666,
             "#ed7953"
            ],
            [
             0.7777777777777778,
             "#fb9f3a"
            ],
            [
             0.8888888888888888,
             "#fdca26"
            ],
            [
             1,
             "#f0f921"
            ]
           ],
           "sequentialminus": [
            [
             0,
             "#0d0887"
            ],
            [
             0.1111111111111111,
             "#46039f"
            ],
            [
             0.2222222222222222,
             "#7201a8"
            ],
            [
             0.3333333333333333,
             "#9c179e"
            ],
            [
             0.4444444444444444,
             "#bd3786"
            ],
            [
             0.5555555555555556,
             "#d8576b"
            ],
            [
             0.6666666666666666,
             "#ed7953"
            ],
            [
             0.7777777777777778,
             "#fb9f3a"
            ],
            [
             0.8888888888888888,
             "#fdca26"
            ],
            [
             1,
             "#f0f921"
            ]
           ]
          },
          "colorway": [
           "#636efa",
           "#EF553B",
           "#00cc96",
           "#ab63fa",
           "#FFA15A",
           "#19d3f3",
           "#FF6692",
           "#B6E880",
           "#FF97FF",
           "#FECB52"
          ],
          "font": {
           "color": "#2a3f5f"
          },
          "geo": {
           "bgcolor": "white",
           "lakecolor": "white",
           "landcolor": "#E5ECF6",
           "showlakes": true,
           "showland": true,
           "subunitcolor": "white"
          },
          "hoverlabel": {
           "align": "left"
          },
          "hovermode": "closest",
          "mapbox": {
           "style": "light"
          },
          "paper_bgcolor": "white",
          "plot_bgcolor": "#E5ECF6",
          "polar": {
           "angularaxis": {
            "gridcolor": "white",
            "linecolor": "white",
            "ticks": ""
           },
           "bgcolor": "#E5ECF6",
           "radialaxis": {
            "gridcolor": "white",
            "linecolor": "white",
            "ticks": ""
           }
          },
          "scene": {
           "xaxis": {
            "backgroundcolor": "#E5ECF6",
            "gridcolor": "white",
            "gridwidth": 2,
            "linecolor": "white",
            "showbackground": true,
            "ticks": "",
            "zerolinecolor": "white"
           },
           "yaxis": {
            "backgroundcolor": "#E5ECF6",
            "gridcolor": "white",
            "gridwidth": 2,
            "linecolor": "white",
            "showbackground": true,
            "ticks": "",
            "zerolinecolor": "white"
           },
           "zaxis": {
            "backgroundcolor": "#E5ECF6",
            "gridcolor": "white",
            "gridwidth": 2,
            "linecolor": "white",
            "showbackground": true,
            "ticks": "",
            "zerolinecolor": "white"
           }
          },
          "shapedefaults": {
           "line": {
            "color": "#2a3f5f"
           }
          },
          "ternary": {
           "aaxis": {
            "gridcolor": "white",
            "linecolor": "white",
            "ticks": ""
           },
           "baxis": {
            "gridcolor": "white",
            "linecolor": "white",
            "ticks": ""
           },
           "bgcolor": "#E5ECF6",
           "caxis": {
            "gridcolor": "white",
            "linecolor": "white",
            "ticks": ""
           }
          },
          "title": {
           "x": 0.05
          },
          "xaxis": {
           "automargin": true,
           "gridcolor": "white",
           "linecolor": "white",
           "ticks": "",
           "title": {
            "standoff": 15
           },
           "zerolinecolor": "white",
           "zerolinewidth": 2
          },
          "yaxis": {
           "automargin": true,
           "gridcolor": "white",
           "linecolor": "white",
           "ticks": "",
           "title": {
            "standoff": 15
           },
           "zerolinecolor": "white",
           "zerolinewidth": 2
          }
         }
        },
        "title": {
         "text": "depth"
        },
        "width": 450,
        "xaxis": {
         "anchor": "y",
         "domain": [
          0,
          1
         ],
         "tickangle": -45,
         "title": {
          "text": "metric"
         }
        },
        "yaxis": {
         "anchor": "x",
         "domain": [
          0,
          1
         ],
         "range": [
          0,
          1.2
         ],
         "title": {
          "text": "score"
         }
        }
       }
      }
     },
     "metadata": {},
     "output_type": "display_data"
    },
    {
     "data": {
      "application/vnd.plotly.v1+json": {
       "config": {
        "plotlyServerURL": "https://plot.ly"
       },
       "data": [
        {
         "hovertemplate": "metric=%{x}<br>score=%{text}<extra></extra>",
         "legendgroup": "",
         "marker": {
          "color": "#636efa",
          "pattern": {
           "shape": ""
          }
         },
         "name": "",
         "orientation": "v",
         "showlegend": false,
         "text": {
          "bdata": "MRsT4AUn2D8k+Ubh8P7ZP3WHxuVOCtk/hFTaRpEm5D/b/5j8tungPzvSlVLwY+I/",
          "dtype": "f8"
         },
         "textposition": "outside",
         "texttemplate": "%{text:.3f}",
         "type": "bar",
         "x": [
          "T-Precision reduced",
          "T-Recall reduced",
          "T-Measure reduced",
          "T-Precision full",
          "T-Recall full",
          "T-Measure full"
         ],
         "xaxis": "x",
         "y": {
          "bdata": "MRsT4AUn2D8k+Ubh8P7ZP3WHxuVOCtk/hFTaRpEm5D/b/5j8tungPzvSlVLwY+I/",
          "dtype": "f8"
         },
         "yaxis": "y"
        }
       ],
       "layout": {
        "barmode": "relative",
        "height": 300,
        "legend": {
         "tracegroupgap": 0
        },
        "margin": {
         "b": 10,
         "l": 10,
         "r": 10,
         "t": 50
        },
        "template": {
         "data": {
          "bar": [
           {
            "error_x": {
             "color": "#2a3f5f"
            },
            "error_y": {
             "color": "#2a3f5f"
            },
            "marker": {
             "line": {
              "color": "#E5ECF6",
              "width": 0.5
             },
             "pattern": {
              "fillmode": "overlay",
              "size": 10,
              "solidity": 0.2
             }
            },
            "type": "bar"
           }
          ],
          "barpolar": [
           {
            "marker": {
             "line": {
              "color": "#E5ECF6",
              "width": 0.5
             },
             "pattern": {
              "fillmode": "overlay",
              "size": 10,
              "solidity": 0.2
             }
            },
            "type": "barpolar"
           }
          ],
          "carpet": [
           {
            "aaxis": {
             "endlinecolor": "#2a3f5f",
             "gridcolor": "white",
             "linecolor": "white",
             "minorgridcolor": "white",
             "startlinecolor": "#2a3f5f"
            },
            "baxis": {
             "endlinecolor": "#2a3f5f",
             "gridcolor": "white",
             "linecolor": "white",
             "minorgridcolor": "white",
             "startlinecolor": "#2a3f5f"
            },
            "type": "carpet"
           }
          ],
          "choropleth": [
           {
            "colorbar": {
             "outlinewidth": 0,
             "ticks": ""
            },
            "type": "choropleth"
           }
          ],
          "contour": [
           {
            "colorbar": {
             "outlinewidth": 0,
             "ticks": ""
            },
            "colorscale": [
             [
              0,
              "#0d0887"
             ],
             [
              0.1111111111111111,
              "#46039f"
             ],
             [
              0.2222222222222222,
              "#7201a8"
             ],
             [
              0.3333333333333333,
              "#9c179e"
             ],
             [
              0.4444444444444444,
              "#bd3786"
             ],
             [
              0.5555555555555556,
              "#d8576b"
             ],
             [
              0.6666666666666666,
              "#ed7953"
             ],
             [
              0.7777777777777778,
              "#fb9f3a"
             ],
             [
              0.8888888888888888,
              "#fdca26"
             ],
             [
              1,
              "#f0f921"
             ]
            ],
            "type": "contour"
           }
          ],
          "contourcarpet": [
           {
            "colorbar": {
             "outlinewidth": 0,
             "ticks": ""
            },
            "type": "contourcarpet"
           }
          ],
          "heatmap": [
           {
            "colorbar": {
             "outlinewidth": 0,
             "ticks": ""
            },
            "colorscale": [
             [
              0,
              "#0d0887"
             ],
             [
              0.1111111111111111,
              "#46039f"
             ],
             [
              0.2222222222222222,
              "#7201a8"
             ],
             [
              0.3333333333333333,
              "#9c179e"
             ],
             [
              0.4444444444444444,
              "#bd3786"
             ],
             [
              0.5555555555555556,
              "#d8576b"
             ],
             [
              0.6666666666666666,
              "#ed7953"
             ],
             [
              0.7777777777777778,
              "#fb9f3a"
             ],
             [
              0.8888888888888888,
              "#fdca26"
             ],
             [
              1,
              "#f0f921"
             ]
            ],
            "type": "heatmap"
           }
          ],
          "histogram": [
           {
            "marker": {
             "pattern": {
              "fillmode": "overlay",
              "size": 10,
              "solidity": 0.2
             }
            },
            "type": "histogram"
           }
          ],
          "histogram2d": [
           {
            "colorbar": {
             "outlinewidth": 0,
             "ticks": ""
            },
            "colorscale": [
             [
              0,
              "#0d0887"
             ],
             [
              0.1111111111111111,
              "#46039f"
             ],
             [
              0.2222222222222222,
              "#7201a8"
             ],
             [
              0.3333333333333333,
              "#9c179e"
             ],
             [
              0.4444444444444444,
              "#bd3786"
             ],
             [
              0.5555555555555556,
              "#d8576b"
             ],
             [
              0.6666666666666666,
              "#ed7953"
             ],
             [
              0.7777777777777778,
              "#fb9f3a"
             ],
             [
              0.8888888888888888,
              "#fdca26"
             ],
             [
              1,
              "#f0f921"
             ]
            ],
            "type": "histogram2d"
           }
          ],
          "histogram2dcontour": [
           {
            "colorbar": {
             "outlinewidth": 0,
             "ticks": ""
            },
            "colorscale": [
             [
              0,
              "#0d0887"
             ],
             [
              0.1111111111111111,
              "#46039f"
             ],
             [
              0.2222222222222222,
              "#7201a8"
             ],
             [
              0.3333333333333333,
              "#9c179e"
             ],
             [
              0.4444444444444444,
              "#bd3786"
             ],
             [
              0.5555555555555556,
              "#d8576b"
             ],
             [
              0.6666666666666666,
              "#ed7953"
             ],
             [
              0.7777777777777778,
              "#fb9f3a"
             ],
             [
              0.8888888888888888,
              "#fdca26"
             ],
             [
              1,
              "#f0f921"
             ]
            ],
            "type": "histogram2dcontour"
           }
          ],
          "mesh3d": [
           {
            "colorbar": {
             "outlinewidth": 0,
             "ticks": ""
            },
            "type": "mesh3d"
           }
          ],
          "parcoords": [
           {
            "line": {
             "colorbar": {
              "outlinewidth": 0,
              "ticks": ""
             }
            },
            "type": "parcoords"
           }
          ],
          "pie": [
           {
            "automargin": true,
            "type": "pie"
           }
          ],
          "scatter": [
           {
            "fillpattern": {
             "fillmode": "overlay",
             "size": 10,
             "solidity": 0.2
            },
            "type": "scatter"
           }
          ],
          "scatter3d": [
           {
            "line": {
             "colorbar": {
              "outlinewidth": 0,
              "ticks": ""
             }
            },
            "marker": {
             "colorbar": {
              "outlinewidth": 0,
              "ticks": ""
             }
            },
            "type": "scatter3d"
           }
          ],
          "scattercarpet": [
           {
            "marker": {
             "colorbar": {
              "outlinewidth": 0,
              "ticks": ""
             }
            },
            "type": "scattercarpet"
           }
          ],
          "scattergeo": [
           {
            "marker": {
             "colorbar": {
              "outlinewidth": 0,
              "ticks": ""
             }
            },
            "type": "scattergeo"
           }
          ],
          "scattergl": [
           {
            "marker": {
             "colorbar": {
              "outlinewidth": 0,
              "ticks": ""
             }
            },
            "type": "scattergl"
           }
          ],
          "scattermap": [
           {
            "marker": {
             "colorbar": {
              "outlinewidth": 0,
              "ticks": ""
             }
            },
            "type": "scattermap"
           }
          ],
          "scattermapbox": [
           {
            "marker": {
             "colorbar": {
              "outlinewidth": 0,
              "ticks": ""
             }
            },
            "type": "scattermapbox"
           }
          ],
          "scatterpolar": [
           {
            "marker": {
             "colorbar": {
              "outlinewidth": 0,
              "ticks": ""
             }
            },
            "type": "scatterpolar"
           }
          ],
          "scatterpolargl": [
           {
            "marker": {
             "colorbar": {
              "outlinewidth": 0,
              "ticks": ""
             }
            },
            "type": "scatterpolargl"
           }
          ],
          "scatterternary": [
           {
            "marker": {
             "colorbar": {
              "outlinewidth": 0,
              "ticks": ""
             }
            },
            "type": "scatterternary"
           }
          ],
          "surface": [
           {
            "colorbar": {
             "outlinewidth": 0,
             "ticks": ""
            },
            "colorscale": [
             [
              0,
              "#0d0887"
             ],
             [
              0.1111111111111111,
              "#46039f"
             ],
             [
              0.2222222222222222,
              "#7201a8"
             ],
             [
              0.3333333333333333,
              "#9c179e"
             ],
             [
              0.4444444444444444,
              "#bd3786"
             ],
             [
              0.5555555555555556,
              "#d8576b"
             ],
             [
              0.6666666666666666,
              "#ed7953"
             ],
             [
              0.7777777777777778,
              "#fb9f3a"
             ],
             [
              0.8888888888888888,
              "#fdca26"
             ],
             [
              1,
              "#f0f921"
             ]
            ],
            "type": "surface"
           }
          ],
          "table": [
           {
            "cells": {
             "fill": {
              "color": "#EBF0F8"
             },
             "line": {
              "color": "white"
             }
            },
            "header": {
             "fill": {
              "color": "#C8D4E3"
             },
             "line": {
              "color": "white"
             }
            },
            "type": "table"
           }
          ]
         },
         "layout": {
          "annotationdefaults": {
           "arrowcolor": "#2a3f5f",
           "arrowhead": 0,
           "arrowwidth": 1
          },
          "autotypenumbers": "strict",
          "coloraxis": {
           "colorbar": {
            "outlinewidth": 0,
            "ticks": ""
           }
          },
          "colorscale": {
           "diverging": [
            [
             0,
             "#8e0152"
            ],
            [
             0.1,
             "#c51b7d"
            ],
            [
             0.2,
             "#de77ae"
            ],
            [
             0.3,
             "#f1b6da"
            ],
            [
             0.4,
             "#fde0ef"
            ],
            [
             0.5,
             "#f7f7f7"
            ],
            [
             0.6,
             "#e6f5d0"
            ],
            [
             0.7,
             "#b8e186"
            ],
            [
             0.8,
             "#7fbc41"
            ],
            [
             0.9,
             "#4d9221"
            ],
            [
             1,
             "#276419"
            ]
           ],
           "sequential": [
            [
             0,
             "#0d0887"
            ],
            [
             0.1111111111111111,
             "#46039f"
            ],
            [
             0.2222222222222222,
             "#7201a8"
            ],
            [
             0.3333333333333333,
             "#9c179e"
            ],
            [
             0.4444444444444444,
             "#bd3786"
            ],
            [
             0.5555555555555556,
             "#d8576b"
            ],
            [
             0.6666666666666666,
             "#ed7953"
            ],
            [
             0.7777777777777778,
             "#fb9f3a"
            ],
            [
             0.8888888888888888,
             "#fdca26"
            ],
            [
             1,
             "#f0f921"
            ]
           ],
           "sequentialminus": [
            [
             0,
             "#0d0887"
            ],
            [
             0.1111111111111111,
             "#46039f"
            ],
            [
             0.2222222222222222,
             "#7201a8"
            ],
            [
             0.3333333333333333,
             "#9c179e"
            ],
            [
             0.4444444444444444,
             "#bd3786"
            ],
            [
             0.5555555555555556,
             "#d8576b"
            ],
            [
             0.6666666666666666,
             "#ed7953"
            ],
            [
             0.7777777777777778,
             "#fb9f3a"
            ],
            [
             0.8888888888888888,
             "#fdca26"
            ],
            [
             1,
             "#f0f921"
            ]
           ]
          },
          "colorway": [
           "#636efa",
           "#EF553B",
           "#00cc96",
           "#ab63fa",
           "#FFA15A",
           "#19d3f3",
           "#FF6692",
           "#B6E880",
           "#FF97FF",
           "#FECB52"
          ],
          "font": {
           "color": "#2a3f5f"
          },
          "geo": {
           "bgcolor": "white",
           "lakecolor": "white",
           "landcolor": "#E5ECF6",
           "showlakes": true,
           "showland": true,
           "subunitcolor": "white"
          },
          "hoverlabel": {
           "align": "left"
          },
          "hovermode": "closest",
          "mapbox": {
           "style": "light"
          },
          "paper_bgcolor": "white",
          "plot_bgcolor": "#E5ECF6",
          "polar": {
           "angularaxis": {
            "gridcolor": "white",
            "linecolor": "white",
            "ticks": ""
           },
           "bgcolor": "#E5ECF6",
           "radialaxis": {
            "gridcolor": "white",
            "linecolor": "white",
            "ticks": ""
           }
          },
          "scene": {
           "xaxis": {
            "backgroundcolor": "#E5ECF6",
            "gridcolor": "white",
            "gridwidth": 2,
            "linecolor": "white",
            "showbackground": true,
            "ticks": "",
            "zerolinecolor": "white"
           },
           "yaxis": {
            "backgroundcolor": "#E5ECF6",
            "gridcolor": "white",
            "gridwidth": 2,
            "linecolor": "white",
            "showbackground": true,
            "ticks": "",
            "zerolinecolor": "white"
           },
           "zaxis": {
            "backgroundcolor": "#E5ECF6",
            "gridcolor": "white",
            "gridwidth": 2,
            "linecolor": "white",
            "showbackground": true,
            "ticks": "",
            "zerolinecolor": "white"
           }
          },
          "shapedefaults": {
           "line": {
            "color": "#2a3f5f"
           }
          },
          "ternary": {
           "aaxis": {
            "gridcolor": "white",
            "linecolor": "white",
            "ticks": ""
           },
           "baxis": {
            "gridcolor": "white",
            "linecolor": "white",
            "ticks": ""
           },
           "bgcolor": "#E5ECF6",
           "caxis": {
            "gridcolor": "white",
            "linecolor": "white",
            "ticks": ""
           }
          },
          "title": {
           "x": 0.05
          },
          "xaxis": {
           "automargin": true,
           "gridcolor": "white",
           "linecolor": "white",
           "ticks": "",
           "title": {
            "standoff": 15
           },
           "zerolinecolor": "white",
           "zerolinewidth": 2
          },
          "yaxis": {
           "automargin": true,
           "gridcolor": "white",
           "linecolor": "white",
           "ticks": "",
           "title": {
            "standoff": 15
           },
           "zerolinecolor": "white",
           "zerolinewidth": 2
          }
         }
        },
        "title": {
         "text": "count"
        },
        "width": 450,
        "xaxis": {
         "anchor": "y",
         "domain": [
          0,
          1
         ],
         "tickangle": -45,
         "title": {
          "text": "metric"
         }
        },
        "yaxis": {
         "anchor": "x",
         "domain": [
          0,
          1
         ],
         "range": [
          0,
          1.2
         ],
         "title": {
          "text": "score"
         }
        }
       }
      }
     },
     "metadata": {},
     "output_type": "display_data"
    },
    {
     "data": {
      "application/vnd.plotly.v1+json": {
       "config": {
        "plotlyServerURL": "https://plot.ly"
       },
       "data": [
        {
         "hovertemplate": "metric=%{x}<br>score=%{text}<extra></extra>",
         "legendgroup": "",
         "marker": {
          "color": "#636efa",
          "pattern": {
           "shape": ""
          }
         },
         "name": "",
         "orientation": "v",
         "showlegend": false,
         "text": {
          "bdata": "+OzCJvxv2j8l02fi2mfZP27onqxK6dk/iJCRzvu24z9hO3Mpf2HgPw+qIRHT5OE/",
          "dtype": "f8"
         },
         "textposition": "outside",
         "texttemplate": "%{text:.3f}",
         "type": "bar",
         "x": [
          "T-Precision reduced",
          "T-Recall reduced",
          "T-Measure reduced",
          "T-Precision full",
          "T-Recall full",
          "T-Measure full"
         ],
         "xaxis": "x",
         "y": {
          "bdata": "+OzCJvxv2j8l02fi2mfZP27onqxK6dk/iJCRzvu24z9hO3Mpf2HgPw+qIRHT5OE/",
          "dtype": "f8"
         },
         "yaxis": "y"
        }
       ],
       "layout": {
        "barmode": "relative",
        "height": 300,
        "legend": {
         "tracegroupgap": 0
        },
        "margin": {
         "b": 10,
         "l": 10,
         "r": 10,
         "t": 50
        },
        "template": {
         "data": {
          "bar": [
           {
            "error_x": {
             "color": "#2a3f5f"
            },
            "error_y": {
             "color": "#2a3f5f"
            },
            "marker": {
             "line": {
              "color": "#E5ECF6",
              "width": 0.5
             },
             "pattern": {
              "fillmode": "overlay",
              "size": 10,
              "solidity": 0.2
             }
            },
            "type": "bar"
           }
          ],
          "barpolar": [
           {
            "marker": {
             "line": {
              "color": "#E5ECF6",
              "width": 0.5
             },
             "pattern": {
              "fillmode": "overlay",
              "size": 10,
              "solidity": 0.2
             }
            },
            "type": "barpolar"
           }
          ],
          "carpet": [
           {
            "aaxis": {
             "endlinecolor": "#2a3f5f",
             "gridcolor": "white",
             "linecolor": "white",
             "minorgridcolor": "white",
             "startlinecolor": "#2a3f5f"
            },
            "baxis": {
             "endlinecolor": "#2a3f5f",
             "gridcolor": "white",
             "linecolor": "white",
             "minorgridcolor": "white",
             "startlinecolor": "#2a3f5f"
            },
            "type": "carpet"
           }
          ],
          "choropleth": [
           {
            "colorbar": {
             "outlinewidth": 0,
             "ticks": ""
            },
            "type": "choropleth"
           }
          ],
          "contour": [
           {
            "colorbar": {
             "outlinewidth": 0,
             "ticks": ""
            },
            "colorscale": [
             [
              0,
              "#0d0887"
             ],
             [
              0.1111111111111111,
              "#46039f"
             ],
             [
              0.2222222222222222,
              "#7201a8"
             ],
             [
              0.3333333333333333,
              "#9c179e"
             ],
             [
              0.4444444444444444,
              "#bd3786"
             ],
             [
              0.5555555555555556,
              "#d8576b"
             ],
             [
              0.6666666666666666,
              "#ed7953"
             ],
             [
              0.7777777777777778,
              "#fb9f3a"
             ],
             [
              0.8888888888888888,
              "#fdca26"
             ],
             [
              1,
              "#f0f921"
             ]
            ],
            "type": "contour"
           }
          ],
          "contourcarpet": [
           {
            "colorbar": {
             "outlinewidth": 0,
             "ticks": ""
            },
            "type": "contourcarpet"
           }
          ],
          "heatmap": [
           {
            "colorbar": {
             "outlinewidth": 0,
             "ticks": ""
            },
            "colorscale": [
             [
              0,
              "#0d0887"
             ],
             [
              0.1111111111111111,
              "#46039f"
             ],
             [
              0.2222222222222222,
              "#7201a8"
             ],
             [
              0.3333333333333333,
              "#9c179e"
             ],
             [
              0.4444444444444444,
              "#bd3786"
             ],
             [
              0.5555555555555556,
              "#d8576b"
             ],
             [
              0.6666666666666666,
              "#ed7953"
             ],
             [
              0.7777777777777778,
              "#fb9f3a"
             ],
             [
              0.8888888888888888,
              "#fdca26"
             ],
             [
              1,
              "#f0f921"
             ]
            ],
            "type": "heatmap"
           }
          ],
          "histogram": [
           {
            "marker": {
             "pattern": {
              "fillmode": "overlay",
              "size": 10,
              "solidity": 0.2
             }
            },
            "type": "histogram"
           }
          ],
          "histogram2d": [
           {
            "colorbar": {
             "outlinewidth": 0,
             "ticks": ""
            },
            "colorscale": [
             [
              0,
              "#0d0887"
             ],
             [
              0.1111111111111111,
              "#46039f"
             ],
             [
              0.2222222222222222,
              "#7201a8"
             ],
             [
              0.3333333333333333,
              "#9c179e"
             ],
             [
              0.4444444444444444,
              "#bd3786"
             ],
             [
              0.5555555555555556,
              "#d8576b"
             ],
             [
              0.6666666666666666,
              "#ed7953"
             ],
             [
              0.7777777777777778,
              "#fb9f3a"
             ],
             [
              0.8888888888888888,
              "#fdca26"
             ],
             [
              1,
              "#f0f921"
             ]
            ],
            "type": "histogram2d"
           }
          ],
          "histogram2dcontour": [
           {
            "colorbar": {
             "outlinewidth": 0,
             "ticks": ""
            },
            "colorscale": [
             [
              0,
              "#0d0887"
             ],
             [
              0.1111111111111111,
              "#46039f"
             ],
             [
              0.2222222222222222,
              "#7201a8"
             ],
             [
              0.3333333333333333,
              "#9c179e"
             ],
             [
              0.4444444444444444,
              "#bd3786"
             ],
             [
              0.5555555555555556,
              "#d8576b"
             ],
             [
              0.6666666666666666,
              "#ed7953"
             ],
             [
              0.7777777777777778,
              "#fb9f3a"
             ],
             [
              0.8888888888888888,
              "#fdca26"
             ],
             [
              1,
              "#f0f921"
             ]
            ],
            "type": "histogram2dcontour"
           }
          ],
          "mesh3d": [
           {
            "colorbar": {
             "outlinewidth": 0,
             "ticks": ""
            },
            "type": "mesh3d"
           }
          ],
          "parcoords": [
           {
            "line": {
             "colorbar": {
              "outlinewidth": 0,
              "ticks": ""
             }
            },
            "type": "parcoords"
           }
          ],
          "pie": [
           {
            "automargin": true,
            "type": "pie"
           }
          ],
          "scatter": [
           {
            "fillpattern": {
             "fillmode": "overlay",
             "size": 10,
             "solidity": 0.2
            },
            "type": "scatter"
           }
          ],
          "scatter3d": [
           {
            "line": {
             "colorbar": {
              "outlinewidth": 0,
              "ticks": ""
             }
            },
            "marker": {
             "colorbar": {
              "outlinewidth": 0,
              "ticks": ""
             }
            },
            "type": "scatter3d"
           }
          ],
          "scattercarpet": [
           {
            "marker": {
             "colorbar": {
              "outlinewidth": 0,
              "ticks": ""
             }
            },
            "type": "scattercarpet"
           }
          ],
          "scattergeo": [
           {
            "marker": {
             "colorbar": {
              "outlinewidth": 0,
              "ticks": ""
             }
            },
            "type": "scattergeo"
           }
          ],
          "scattergl": [
           {
            "marker": {
             "colorbar": {
              "outlinewidth": 0,
              "ticks": ""
             }
            },
            "type": "scattergl"
           }
          ],
          "scattermap": [
           {
            "marker": {
             "colorbar": {
              "outlinewidth": 0,
              "ticks": ""
             }
            },
            "type": "scattermap"
           }
          ],
          "scattermapbox": [
           {
            "marker": {
             "colorbar": {
              "outlinewidth": 0,
              "ticks": ""
             }
            },
            "type": "scattermapbox"
           }
          ],
          "scatterpolar": [
           {
            "marker": {
             "colorbar": {
              "outlinewidth": 0,
              "ticks": ""
             }
            },
            "type": "scatterpolar"
           }
          ],
          "scatterpolargl": [
           {
            "marker": {
             "colorbar": {
              "outlinewidth": 0,
              "ticks": ""
             }
            },
            "type": "scatterpolargl"
           }
          ],
          "scatterternary": [
           {
            "marker": {
             "colorbar": {
              "outlinewidth": 0,
              "ticks": ""
             }
            },
            "type": "scatterternary"
           }
          ],
          "surface": [
           {
            "colorbar": {
             "outlinewidth": 0,
             "ticks": ""
            },
            "colorscale": [
             [
              0,
              "#0d0887"
             ],
             [
              0.1111111111111111,
              "#46039f"
             ],
             [
              0.2222222222222222,
              "#7201a8"
             ],
             [
              0.3333333333333333,
              "#9c179e"
             ],
             [
              0.4444444444444444,
              "#bd3786"
             ],
             [
              0.5555555555555556,
              "#d8576b"
             ],
             [
              0.6666666666666666,
              "#ed7953"
             ],
             [
              0.7777777777777778,
              "#fb9f3a"
             ],
             [
              0.8888888888888888,
              "#fdca26"
             ],
             [
              1,
              "#f0f921"
             ]
            ],
            "type": "surface"
           }
          ],
          "table": [
           {
            "cells": {
             "fill": {
              "color": "#EBF0F8"
             },
             "line": {
              "color": "white"
             }
            },
            "header": {
             "fill": {
              "color": "#C8D4E3"
             },
             "line": {
              "color": "white"
             }
            },
            "type": "table"
           }
          ]
         },
         "layout": {
          "annotationdefaults": {
           "arrowcolor": "#2a3f5f",
           "arrowhead": 0,
           "arrowwidth": 1
          },
          "autotypenumbers": "strict",
          "coloraxis": {
           "colorbar": {
            "outlinewidth": 0,
            "ticks": ""
           }
          },
          "colorscale": {
           "diverging": [
            [
             0,
             "#8e0152"
            ],
            [
             0.1,
             "#c51b7d"
            ],
            [
             0.2,
             "#de77ae"
            ],
            [
             0.3,
             "#f1b6da"
            ],
            [
             0.4,
             "#fde0ef"
            ],
            [
             0.5,
             "#f7f7f7"
            ],
            [
             0.6,
             "#e6f5d0"
            ],
            [
             0.7,
             "#b8e186"
            ],
            [
             0.8,
             "#7fbc41"
            ],
            [
             0.9,
             "#4d9221"
            ],
            [
             1,
             "#276419"
            ]
           ],
           "sequential": [
            [
             0,
             "#0d0887"
            ],
            [
             0.1111111111111111,
             "#46039f"
            ],
            [
             0.2222222222222222,
             "#7201a8"
            ],
            [
             0.3333333333333333,
             "#9c179e"
            ],
            [
             0.4444444444444444,
             "#bd3786"
            ],
            [
             0.5555555555555556,
             "#d8576b"
            ],
            [
             0.6666666666666666,
             "#ed7953"
            ],
            [
             0.7777777777777778,
             "#fb9f3a"
            ],
            [
             0.8888888888888888,
             "#fdca26"
            ],
            [
             1,
             "#f0f921"
            ]
           ],
           "sequentialminus": [
            [
             0,
             "#0d0887"
            ],
            [
             0.1111111111111111,
             "#46039f"
            ],
            [
             0.2222222222222222,
             "#7201a8"
            ],
            [
             0.3333333333333333,
             "#9c179e"
            ],
            [
             0.4444444444444444,
             "#bd3786"
            ],
            [
             0.5555555555555556,
             "#d8576b"
            ],
            [
             0.6666666666666666,
             "#ed7953"
            ],
            [
             0.7777777777777778,
             "#fb9f3a"
            ],
            [
             0.8888888888888888,
             "#fdca26"
            ],
            [
             1,
             "#f0f921"
            ]
           ]
          },
          "colorway": [
           "#636efa",
           "#EF553B",
           "#00cc96",
           "#ab63fa",
           "#FFA15A",
           "#19d3f3",
           "#FF6692",
           "#B6E880",
           "#FF97FF",
           "#FECB52"
          ],
          "font": {
           "color": "#2a3f5f"
          },
          "geo": {
           "bgcolor": "white",
           "lakecolor": "white",
           "landcolor": "#E5ECF6",
           "showlakes": true,
           "showland": true,
           "subunitcolor": "white"
          },
          "hoverlabel": {
           "align": "left"
          },
          "hovermode": "closest",
          "mapbox": {
           "style": "light"
          },
          "paper_bgcolor": "white",
          "plot_bgcolor": "#E5ECF6",
          "polar": {
           "angularaxis": {
            "gridcolor": "white",
            "linecolor": "white",
            "ticks": ""
           },
           "bgcolor": "#E5ECF6",
           "radialaxis": {
            "gridcolor": "white",
            "linecolor": "white",
            "ticks": ""
           }
          },
          "scene": {
           "xaxis": {
            "backgroundcolor": "#E5ECF6",
            "gridcolor": "white",
            "gridwidth": 2,
            "linecolor": "white",
            "showbackground": true,
            "ticks": "",
            "zerolinecolor": "white"
           },
           "yaxis": {
            "backgroundcolor": "#E5ECF6",
            "gridcolor": "white",
            "gridwidth": 2,
            "linecolor": "white",
            "showbackground": true,
            "ticks": "",
            "zerolinecolor": "white"
           },
           "zaxis": {
            "backgroundcolor": "#E5ECF6",
            "gridcolor": "white",
            "gridwidth": 2,
            "linecolor": "white",
            "showbackground": true,
            "ticks": "",
            "zerolinecolor": "white"
           }
          },
          "shapedefaults": {
           "line": {
            "color": "#2a3f5f"
           }
          },
          "ternary": {
           "aaxis": {
            "gridcolor": "white",
            "linecolor": "white",
            "ticks": ""
           },
           "baxis": {
            "gridcolor": "white",
            "linecolor": "white",
            "ticks": ""
           },
           "bgcolor": "#E5ECF6",
           "caxis": {
            "gridcolor": "white",
            "linecolor": "white",
            "ticks": ""
           }
          },
          "title": {
           "x": 0.05
          },
          "xaxis": {
           "automargin": true,
           "gridcolor": "white",
           "linecolor": "white",
           "ticks": "",
           "title": {
            "standoff": 15
           },
           "zerolinecolor": "white",
           "zerolinewidth": 2
          },
          "yaxis": {
           "automargin": true,
           "gridcolor": "white",
           "linecolor": "white",
           "ticks": "",
           "title": {
            "standoff": 15
           },
           "zerolinecolor": "white",
           "zerolinewidth": 2
          }
         }
        },
        "title": {
         "text": "weight"
        },
        "width": 450,
        "xaxis": {
         "anchor": "y",
         "domain": [
          0,
          1
         ],
         "tickangle": -45,
         "title": {
          "text": "metric"
         }
        },
        "yaxis": {
         "anchor": "x",
         "domain": [
          0,
          1
         ],
         "range": [
          0,
          1.2
         ],
         "title": {
          "text": "score"
         }
        }
       }
      }
     },
     "metadata": {},
     "output_type": "display_data"
    }
   ],
   "source": [
    "import warnings\n",
    "warnings.filterwarnings('ignore')\n",
    "\n",
    "print(\"adjusted levels\")\n",
    "for e, title in zip(\n",
    "    [est, est_by_depth, est_by_count, est_by_weight], \n",
    "    ['raw', 'depth', 'count', 'weight']\n",
    "):\n",
    "    hier_score = mir_eval.hierarchy.evaluate(ref.itvls, ref.labels, e.itvls, e.labels)\n",
    "    del hier_score['L-Precision']\n",
    "    del hier_score['L-Recall']\n",
    "    del hier_score['L-Measure']\n",
    "    px_metrics_bar(hier_score, title=title).show()"
   ]
  },
  {
   "cell_type": "code",
   "execution_count": 49,
   "id": "5889c052",
   "metadata": {},
   "outputs": [
    {
     "name": "stdout",
     "output_type": "stream",
     "text": [
      "levels unadjusted, tall hierarchies\n"
     ]
    },
    {
     "data": {
      "application/vnd.plotly.v1+json": {
       "config": {
        "plotlyServerURL": "https://plot.ly"
       },
       "data": [
        {
         "hovertemplate": "metric=%{x}<br>score=%{text}<extra></extra>",
         "legendgroup": "",
         "marker": {
          "color": "#636efa",
          "pattern": {
           "shape": ""
          }
         },
         "name": "",
         "orientation": "v",
         "showlegend": false,
         "text": {
          "bdata": "DCFh5NCF0z+yGqlDmq3VP7obL6ZGi9Q/j15fmr/L4j/Y5Yg4kFzdP2kFTEFEfOA/",
          "dtype": "f8"
         },
         "textposition": "outside",
         "texttemplate": "%{text:.3f}",
         "type": "bar",
         "x": [
          "T-Precision reduced",
          "T-Recall reduced",
          "T-Measure reduced",
          "T-Precision full",
          "T-Recall full",
          "T-Measure full"
         ],
         "xaxis": "x",
         "y": {
          "bdata": "DCFh5NCF0z+yGqlDmq3VP7obL6ZGi9Q/j15fmr/L4j/Y5Yg4kFzdP2kFTEFEfOA/",
          "dtype": "f8"
         },
         "yaxis": "y"
        }
       ],
       "layout": {
        "barmode": "relative",
        "height": 300,
        "legend": {
         "tracegroupgap": 0
        },
        "margin": {
         "b": 10,
         "l": 10,
         "r": 10,
         "t": 50
        },
        "template": {
         "data": {
          "bar": [
           {
            "error_x": {
             "color": "#2a3f5f"
            },
            "error_y": {
             "color": "#2a3f5f"
            },
            "marker": {
             "line": {
              "color": "#E5ECF6",
              "width": 0.5
             },
             "pattern": {
              "fillmode": "overlay",
              "size": 10,
              "solidity": 0.2
             }
            },
            "type": "bar"
           }
          ],
          "barpolar": [
           {
            "marker": {
             "line": {
              "color": "#E5ECF6",
              "width": 0.5
             },
             "pattern": {
              "fillmode": "overlay",
              "size": 10,
              "solidity": 0.2
             }
            },
            "type": "barpolar"
           }
          ],
          "carpet": [
           {
            "aaxis": {
             "endlinecolor": "#2a3f5f",
             "gridcolor": "white",
             "linecolor": "white",
             "minorgridcolor": "white",
             "startlinecolor": "#2a3f5f"
            },
            "baxis": {
             "endlinecolor": "#2a3f5f",
             "gridcolor": "white",
             "linecolor": "white",
             "minorgridcolor": "white",
             "startlinecolor": "#2a3f5f"
            },
            "type": "carpet"
           }
          ],
          "choropleth": [
           {
            "colorbar": {
             "outlinewidth": 0,
             "ticks": ""
            },
            "type": "choropleth"
           }
          ],
          "contour": [
           {
            "colorbar": {
             "outlinewidth": 0,
             "ticks": ""
            },
            "colorscale": [
             [
              0,
              "#0d0887"
             ],
             [
              0.1111111111111111,
              "#46039f"
             ],
             [
              0.2222222222222222,
              "#7201a8"
             ],
             [
              0.3333333333333333,
              "#9c179e"
             ],
             [
              0.4444444444444444,
              "#bd3786"
             ],
             [
              0.5555555555555556,
              "#d8576b"
             ],
             [
              0.6666666666666666,
              "#ed7953"
             ],
             [
              0.7777777777777778,
              "#fb9f3a"
             ],
             [
              0.8888888888888888,
              "#fdca26"
             ],
             [
              1,
              "#f0f921"
             ]
            ],
            "type": "contour"
           }
          ],
          "contourcarpet": [
           {
            "colorbar": {
             "outlinewidth": 0,
             "ticks": ""
            },
            "type": "contourcarpet"
           }
          ],
          "heatmap": [
           {
            "colorbar": {
             "outlinewidth": 0,
             "ticks": ""
            },
            "colorscale": [
             [
              0,
              "#0d0887"
             ],
             [
              0.1111111111111111,
              "#46039f"
             ],
             [
              0.2222222222222222,
              "#7201a8"
             ],
             [
              0.3333333333333333,
              "#9c179e"
             ],
             [
              0.4444444444444444,
              "#bd3786"
             ],
             [
              0.5555555555555556,
              "#d8576b"
             ],
             [
              0.6666666666666666,
              "#ed7953"
             ],
             [
              0.7777777777777778,
              "#fb9f3a"
             ],
             [
              0.8888888888888888,
              "#fdca26"
             ],
             [
              1,
              "#f0f921"
             ]
            ],
            "type": "heatmap"
           }
          ],
          "histogram": [
           {
            "marker": {
             "pattern": {
              "fillmode": "overlay",
              "size": 10,
              "solidity": 0.2
             }
            },
            "type": "histogram"
           }
          ],
          "histogram2d": [
           {
            "colorbar": {
             "outlinewidth": 0,
             "ticks": ""
            },
            "colorscale": [
             [
              0,
              "#0d0887"
             ],
             [
              0.1111111111111111,
              "#46039f"
             ],
             [
              0.2222222222222222,
              "#7201a8"
             ],
             [
              0.3333333333333333,
              "#9c179e"
             ],
             [
              0.4444444444444444,
              "#bd3786"
             ],
             [
              0.5555555555555556,
              "#d8576b"
             ],
             [
              0.6666666666666666,
              "#ed7953"
             ],
             [
              0.7777777777777778,
              "#fb9f3a"
             ],
             [
              0.8888888888888888,
              "#fdca26"
             ],
             [
              1,
              "#f0f921"
             ]
            ],
            "type": "histogram2d"
           }
          ],
          "histogram2dcontour": [
           {
            "colorbar": {
             "outlinewidth": 0,
             "ticks": ""
            },
            "colorscale": [
             [
              0,
              "#0d0887"
             ],
             [
              0.1111111111111111,
              "#46039f"
             ],
             [
              0.2222222222222222,
              "#7201a8"
             ],
             [
              0.3333333333333333,
              "#9c179e"
             ],
             [
              0.4444444444444444,
              "#bd3786"
             ],
             [
              0.5555555555555556,
              "#d8576b"
             ],
             [
              0.6666666666666666,
              "#ed7953"
             ],
             [
              0.7777777777777778,
              "#fb9f3a"
             ],
             [
              0.8888888888888888,
              "#fdca26"
             ],
             [
              1,
              "#f0f921"
             ]
            ],
            "type": "histogram2dcontour"
           }
          ],
          "mesh3d": [
           {
            "colorbar": {
             "outlinewidth": 0,
             "ticks": ""
            },
            "type": "mesh3d"
           }
          ],
          "parcoords": [
           {
            "line": {
             "colorbar": {
              "outlinewidth": 0,
              "ticks": ""
             }
            },
            "type": "parcoords"
           }
          ],
          "pie": [
           {
            "automargin": true,
            "type": "pie"
           }
          ],
          "scatter": [
           {
            "fillpattern": {
             "fillmode": "overlay",
             "size": 10,
             "solidity": 0.2
            },
            "type": "scatter"
           }
          ],
          "scatter3d": [
           {
            "line": {
             "colorbar": {
              "outlinewidth": 0,
              "ticks": ""
             }
            },
            "marker": {
             "colorbar": {
              "outlinewidth": 0,
              "ticks": ""
             }
            },
            "type": "scatter3d"
           }
          ],
          "scattercarpet": [
           {
            "marker": {
             "colorbar": {
              "outlinewidth": 0,
              "ticks": ""
             }
            },
            "type": "scattercarpet"
           }
          ],
          "scattergeo": [
           {
            "marker": {
             "colorbar": {
              "outlinewidth": 0,
              "ticks": ""
             }
            },
            "type": "scattergeo"
           }
          ],
          "scattergl": [
           {
            "marker": {
             "colorbar": {
              "outlinewidth": 0,
              "ticks": ""
             }
            },
            "type": "scattergl"
           }
          ],
          "scattermap": [
           {
            "marker": {
             "colorbar": {
              "outlinewidth": 0,
              "ticks": ""
             }
            },
            "type": "scattermap"
           }
          ],
          "scattermapbox": [
           {
            "marker": {
             "colorbar": {
              "outlinewidth": 0,
              "ticks": ""
             }
            },
            "type": "scattermapbox"
           }
          ],
          "scatterpolar": [
           {
            "marker": {
             "colorbar": {
              "outlinewidth": 0,
              "ticks": ""
             }
            },
            "type": "scatterpolar"
           }
          ],
          "scatterpolargl": [
           {
            "marker": {
             "colorbar": {
              "outlinewidth": 0,
              "ticks": ""
             }
            },
            "type": "scatterpolargl"
           }
          ],
          "scatterternary": [
           {
            "marker": {
             "colorbar": {
              "outlinewidth": 0,
              "ticks": ""
             }
            },
            "type": "scatterternary"
           }
          ],
          "surface": [
           {
            "colorbar": {
             "outlinewidth": 0,
             "ticks": ""
            },
            "colorscale": [
             [
              0,
              "#0d0887"
             ],
             [
              0.1111111111111111,
              "#46039f"
             ],
             [
              0.2222222222222222,
              "#7201a8"
             ],
             [
              0.3333333333333333,
              "#9c179e"
             ],
             [
              0.4444444444444444,
              "#bd3786"
             ],
             [
              0.5555555555555556,
              "#d8576b"
             ],
             [
              0.6666666666666666,
              "#ed7953"
             ],
             [
              0.7777777777777778,
              "#fb9f3a"
             ],
             [
              0.8888888888888888,
              "#fdca26"
             ],
             [
              1,
              "#f0f921"
             ]
            ],
            "type": "surface"
           }
          ],
          "table": [
           {
            "cells": {
             "fill": {
              "color": "#EBF0F8"
             },
             "line": {
              "color": "white"
             }
            },
            "header": {
             "fill": {
              "color": "#C8D4E3"
             },
             "line": {
              "color": "white"
             }
            },
            "type": "table"
           }
          ]
         },
         "layout": {
          "annotationdefaults": {
           "arrowcolor": "#2a3f5f",
           "arrowhead": 0,
           "arrowwidth": 1
          },
          "autotypenumbers": "strict",
          "coloraxis": {
           "colorbar": {
            "outlinewidth": 0,
            "ticks": ""
           }
          },
          "colorscale": {
           "diverging": [
            [
             0,
             "#8e0152"
            ],
            [
             0.1,
             "#c51b7d"
            ],
            [
             0.2,
             "#de77ae"
            ],
            [
             0.3,
             "#f1b6da"
            ],
            [
             0.4,
             "#fde0ef"
            ],
            [
             0.5,
             "#f7f7f7"
            ],
            [
             0.6,
             "#e6f5d0"
            ],
            [
             0.7,
             "#b8e186"
            ],
            [
             0.8,
             "#7fbc41"
            ],
            [
             0.9,
             "#4d9221"
            ],
            [
             1,
             "#276419"
            ]
           ],
           "sequential": [
            [
             0,
             "#0d0887"
            ],
            [
             0.1111111111111111,
             "#46039f"
            ],
            [
             0.2222222222222222,
             "#7201a8"
            ],
            [
             0.3333333333333333,
             "#9c179e"
            ],
            [
             0.4444444444444444,
             "#bd3786"
            ],
            [
             0.5555555555555556,
             "#d8576b"
            ],
            [
             0.6666666666666666,
             "#ed7953"
            ],
            [
             0.7777777777777778,
             "#fb9f3a"
            ],
            [
             0.8888888888888888,
             "#fdca26"
            ],
            [
             1,
             "#f0f921"
            ]
           ],
           "sequentialminus": [
            [
             0,
             "#0d0887"
            ],
            [
             0.1111111111111111,
             "#46039f"
            ],
            [
             0.2222222222222222,
             "#7201a8"
            ],
            [
             0.3333333333333333,
             "#9c179e"
            ],
            [
             0.4444444444444444,
             "#bd3786"
            ],
            [
             0.5555555555555556,
             "#d8576b"
            ],
            [
             0.6666666666666666,
             "#ed7953"
            ],
            [
             0.7777777777777778,
             "#fb9f3a"
            ],
            [
             0.8888888888888888,
             "#fdca26"
            ],
            [
             1,
             "#f0f921"
            ]
           ]
          },
          "colorway": [
           "#636efa",
           "#EF553B",
           "#00cc96",
           "#ab63fa",
           "#FFA15A",
           "#19d3f3",
           "#FF6692",
           "#B6E880",
           "#FF97FF",
           "#FECB52"
          ],
          "font": {
           "color": "#2a3f5f"
          },
          "geo": {
           "bgcolor": "white",
           "lakecolor": "white",
           "landcolor": "#E5ECF6",
           "showlakes": true,
           "showland": true,
           "subunitcolor": "white"
          },
          "hoverlabel": {
           "align": "left"
          },
          "hovermode": "closest",
          "mapbox": {
           "style": "light"
          },
          "paper_bgcolor": "white",
          "plot_bgcolor": "#E5ECF6",
          "polar": {
           "angularaxis": {
            "gridcolor": "white",
            "linecolor": "white",
            "ticks": ""
           },
           "bgcolor": "#E5ECF6",
           "radialaxis": {
            "gridcolor": "white",
            "linecolor": "white",
            "ticks": ""
           }
          },
          "scene": {
           "xaxis": {
            "backgroundcolor": "#E5ECF6",
            "gridcolor": "white",
            "gridwidth": 2,
            "linecolor": "white",
            "showbackground": true,
            "ticks": "",
            "zerolinecolor": "white"
           },
           "yaxis": {
            "backgroundcolor": "#E5ECF6",
            "gridcolor": "white",
            "gridwidth": 2,
            "linecolor": "white",
            "showbackground": true,
            "ticks": "",
            "zerolinecolor": "white"
           },
           "zaxis": {
            "backgroundcolor": "#E5ECF6",
            "gridcolor": "white",
            "gridwidth": 2,
            "linecolor": "white",
            "showbackground": true,
            "ticks": "",
            "zerolinecolor": "white"
           }
          },
          "shapedefaults": {
           "line": {
            "color": "#2a3f5f"
           }
          },
          "ternary": {
           "aaxis": {
            "gridcolor": "white",
            "linecolor": "white",
            "ticks": ""
           },
           "baxis": {
            "gridcolor": "white",
            "linecolor": "white",
            "ticks": ""
           },
           "bgcolor": "#E5ECF6",
           "caxis": {
            "gridcolor": "white",
            "linecolor": "white",
            "ticks": ""
           }
          },
          "title": {
           "x": 0.05
          },
          "xaxis": {
           "automargin": true,
           "gridcolor": "white",
           "linecolor": "white",
           "ticks": "",
           "title": {
            "standoff": 15
           },
           "zerolinecolor": "white",
           "zerolinewidth": 2
          },
          "yaxis": {
           "automargin": true,
           "gridcolor": "white",
           "linecolor": "white",
           "ticks": "",
           "title": {
            "standoff": 15
           },
           "zerolinecolor": "white",
           "zerolinewidth": 2
          }
         }
        },
        "title": {
         "text": "raw"
        },
        "width": 450,
        "xaxis": {
         "anchor": "y",
         "domain": [
          0,
          1
         ],
         "tickangle": -45,
         "title": {
          "text": "metric"
         }
        },
        "yaxis": {
         "anchor": "x",
         "domain": [
          0,
          1
         ],
         "range": [
          0,
          1.2
         ],
         "title": {
          "text": "score"
         }
        }
       }
      }
     },
     "metadata": {},
     "output_type": "display_data"
    },
    {
     "data": {
      "application/vnd.plotly.v1+json": {
       "config": {
        "plotlyServerURL": "https://plot.ly"
       },
       "data": [
        {
         "hovertemplate": "metric=%{x}<br>score=%{text}<extra></extra>",
         "legendgroup": "",
         "marker": {
          "color": "#636efa",
          "pattern": {
           "shape": ""
          }
         },
         "name": "",
         "orientation": "v",
         "showlegend": false,
         "text": {
          "bdata": "DcXgoVca1D9qvp6SJBfZPyKnygZKUtY/3HuOZJau4z+jYkowk+/gP8fj6Vi4NOI/",
          "dtype": "f8"
         },
         "textposition": "outside",
         "texttemplate": "%{text:.3f}",
         "type": "bar",
         "x": [
          "T-Precision reduced",
          "T-Recall reduced",
          "T-Measure reduced",
          "T-Precision full",
          "T-Recall full",
          "T-Measure full"
         ],
         "xaxis": "x",
         "y": {
          "bdata": "DcXgoVca1D9qvp6SJBfZPyKnygZKUtY/3HuOZJau4z+jYkowk+/gP8fj6Vi4NOI/",
          "dtype": "f8"
         },
         "yaxis": "y"
        }
       ],
       "layout": {
        "barmode": "relative",
        "height": 300,
        "legend": {
         "tracegroupgap": 0
        },
        "margin": {
         "b": 10,
         "l": 10,
         "r": 10,
         "t": 50
        },
        "template": {
         "data": {
          "bar": [
           {
            "error_x": {
             "color": "#2a3f5f"
            },
            "error_y": {
             "color": "#2a3f5f"
            },
            "marker": {
             "line": {
              "color": "#E5ECF6",
              "width": 0.5
             },
             "pattern": {
              "fillmode": "overlay",
              "size": 10,
              "solidity": 0.2
             }
            },
            "type": "bar"
           }
          ],
          "barpolar": [
           {
            "marker": {
             "line": {
              "color": "#E5ECF6",
              "width": 0.5
             },
             "pattern": {
              "fillmode": "overlay",
              "size": 10,
              "solidity": 0.2
             }
            },
            "type": "barpolar"
           }
          ],
          "carpet": [
           {
            "aaxis": {
             "endlinecolor": "#2a3f5f",
             "gridcolor": "white",
             "linecolor": "white",
             "minorgridcolor": "white",
             "startlinecolor": "#2a3f5f"
            },
            "baxis": {
             "endlinecolor": "#2a3f5f",
             "gridcolor": "white",
             "linecolor": "white",
             "minorgridcolor": "white",
             "startlinecolor": "#2a3f5f"
            },
            "type": "carpet"
           }
          ],
          "choropleth": [
           {
            "colorbar": {
             "outlinewidth": 0,
             "ticks": ""
            },
            "type": "choropleth"
           }
          ],
          "contour": [
           {
            "colorbar": {
             "outlinewidth": 0,
             "ticks": ""
            },
            "colorscale": [
             [
              0,
              "#0d0887"
             ],
             [
              0.1111111111111111,
              "#46039f"
             ],
             [
              0.2222222222222222,
              "#7201a8"
             ],
             [
              0.3333333333333333,
              "#9c179e"
             ],
             [
              0.4444444444444444,
              "#bd3786"
             ],
             [
              0.5555555555555556,
              "#d8576b"
             ],
             [
              0.6666666666666666,
              "#ed7953"
             ],
             [
              0.7777777777777778,
              "#fb9f3a"
             ],
             [
              0.8888888888888888,
              "#fdca26"
             ],
             [
              1,
              "#f0f921"
             ]
            ],
            "type": "contour"
           }
          ],
          "contourcarpet": [
           {
            "colorbar": {
             "outlinewidth": 0,
             "ticks": ""
            },
            "type": "contourcarpet"
           }
          ],
          "heatmap": [
           {
            "colorbar": {
             "outlinewidth": 0,
             "ticks": ""
            },
            "colorscale": [
             [
              0,
              "#0d0887"
             ],
             [
              0.1111111111111111,
              "#46039f"
             ],
             [
              0.2222222222222222,
              "#7201a8"
             ],
             [
              0.3333333333333333,
              "#9c179e"
             ],
             [
              0.4444444444444444,
              "#bd3786"
             ],
             [
              0.5555555555555556,
              "#d8576b"
             ],
             [
              0.6666666666666666,
              "#ed7953"
             ],
             [
              0.7777777777777778,
              "#fb9f3a"
             ],
             [
              0.8888888888888888,
              "#fdca26"
             ],
             [
              1,
              "#f0f921"
             ]
            ],
            "type": "heatmap"
           }
          ],
          "histogram": [
           {
            "marker": {
             "pattern": {
              "fillmode": "overlay",
              "size": 10,
              "solidity": 0.2
             }
            },
            "type": "histogram"
           }
          ],
          "histogram2d": [
           {
            "colorbar": {
             "outlinewidth": 0,
             "ticks": ""
            },
            "colorscale": [
             [
              0,
              "#0d0887"
             ],
             [
              0.1111111111111111,
              "#46039f"
             ],
             [
              0.2222222222222222,
              "#7201a8"
             ],
             [
              0.3333333333333333,
              "#9c179e"
             ],
             [
              0.4444444444444444,
              "#bd3786"
             ],
             [
              0.5555555555555556,
              "#d8576b"
             ],
             [
              0.6666666666666666,
              "#ed7953"
             ],
             [
              0.7777777777777778,
              "#fb9f3a"
             ],
             [
              0.8888888888888888,
              "#fdca26"
             ],
             [
              1,
              "#f0f921"
             ]
            ],
            "type": "histogram2d"
           }
          ],
          "histogram2dcontour": [
           {
            "colorbar": {
             "outlinewidth": 0,
             "ticks": ""
            },
            "colorscale": [
             [
              0,
              "#0d0887"
             ],
             [
              0.1111111111111111,
              "#46039f"
             ],
             [
              0.2222222222222222,
              "#7201a8"
             ],
             [
              0.3333333333333333,
              "#9c179e"
             ],
             [
              0.4444444444444444,
              "#bd3786"
             ],
             [
              0.5555555555555556,
              "#d8576b"
             ],
             [
              0.6666666666666666,
              "#ed7953"
             ],
             [
              0.7777777777777778,
              "#fb9f3a"
             ],
             [
              0.8888888888888888,
              "#fdca26"
             ],
             [
              1,
              "#f0f921"
             ]
            ],
            "type": "histogram2dcontour"
           }
          ],
          "mesh3d": [
           {
            "colorbar": {
             "outlinewidth": 0,
             "ticks": ""
            },
            "type": "mesh3d"
           }
          ],
          "parcoords": [
           {
            "line": {
             "colorbar": {
              "outlinewidth": 0,
              "ticks": ""
             }
            },
            "type": "parcoords"
           }
          ],
          "pie": [
           {
            "automargin": true,
            "type": "pie"
           }
          ],
          "scatter": [
           {
            "fillpattern": {
             "fillmode": "overlay",
             "size": 10,
             "solidity": 0.2
            },
            "type": "scatter"
           }
          ],
          "scatter3d": [
           {
            "line": {
             "colorbar": {
              "outlinewidth": 0,
              "ticks": ""
             }
            },
            "marker": {
             "colorbar": {
              "outlinewidth": 0,
              "ticks": ""
             }
            },
            "type": "scatter3d"
           }
          ],
          "scattercarpet": [
           {
            "marker": {
             "colorbar": {
              "outlinewidth": 0,
              "ticks": ""
             }
            },
            "type": "scattercarpet"
           }
          ],
          "scattergeo": [
           {
            "marker": {
             "colorbar": {
              "outlinewidth": 0,
              "ticks": ""
             }
            },
            "type": "scattergeo"
           }
          ],
          "scattergl": [
           {
            "marker": {
             "colorbar": {
              "outlinewidth": 0,
              "ticks": ""
             }
            },
            "type": "scattergl"
           }
          ],
          "scattermap": [
           {
            "marker": {
             "colorbar": {
              "outlinewidth": 0,
              "ticks": ""
             }
            },
            "type": "scattermap"
           }
          ],
          "scattermapbox": [
           {
            "marker": {
             "colorbar": {
              "outlinewidth": 0,
              "ticks": ""
             }
            },
            "type": "scattermapbox"
           }
          ],
          "scatterpolar": [
           {
            "marker": {
             "colorbar": {
              "outlinewidth": 0,
              "ticks": ""
             }
            },
            "type": "scatterpolar"
           }
          ],
          "scatterpolargl": [
           {
            "marker": {
             "colorbar": {
              "outlinewidth": 0,
              "ticks": ""
             }
            },
            "type": "scatterpolargl"
           }
          ],
          "scatterternary": [
           {
            "marker": {
             "colorbar": {
              "outlinewidth": 0,
              "ticks": ""
             }
            },
            "type": "scatterternary"
           }
          ],
          "surface": [
           {
            "colorbar": {
             "outlinewidth": 0,
             "ticks": ""
            },
            "colorscale": [
             [
              0,
              "#0d0887"
             ],
             [
              0.1111111111111111,
              "#46039f"
             ],
             [
              0.2222222222222222,
              "#7201a8"
             ],
             [
              0.3333333333333333,
              "#9c179e"
             ],
             [
              0.4444444444444444,
              "#bd3786"
             ],
             [
              0.5555555555555556,
              "#d8576b"
             ],
             [
              0.6666666666666666,
              "#ed7953"
             ],
             [
              0.7777777777777778,
              "#fb9f3a"
             ],
             [
              0.8888888888888888,
              "#fdca26"
             ],
             [
              1,
              "#f0f921"
             ]
            ],
            "type": "surface"
           }
          ],
          "table": [
           {
            "cells": {
             "fill": {
              "color": "#EBF0F8"
             },
             "line": {
              "color": "white"
             }
            },
            "header": {
             "fill": {
              "color": "#C8D4E3"
             },
             "line": {
              "color": "white"
             }
            },
            "type": "table"
           }
          ]
         },
         "layout": {
          "annotationdefaults": {
           "arrowcolor": "#2a3f5f",
           "arrowhead": 0,
           "arrowwidth": 1
          },
          "autotypenumbers": "strict",
          "coloraxis": {
           "colorbar": {
            "outlinewidth": 0,
            "ticks": ""
           }
          },
          "colorscale": {
           "diverging": [
            [
             0,
             "#8e0152"
            ],
            [
             0.1,
             "#c51b7d"
            ],
            [
             0.2,
             "#de77ae"
            ],
            [
             0.3,
             "#f1b6da"
            ],
            [
             0.4,
             "#fde0ef"
            ],
            [
             0.5,
             "#f7f7f7"
            ],
            [
             0.6,
             "#e6f5d0"
            ],
            [
             0.7,
             "#b8e186"
            ],
            [
             0.8,
             "#7fbc41"
            ],
            [
             0.9,
             "#4d9221"
            ],
            [
             1,
             "#276419"
            ]
           ],
           "sequential": [
            [
             0,
             "#0d0887"
            ],
            [
             0.1111111111111111,
             "#46039f"
            ],
            [
             0.2222222222222222,
             "#7201a8"
            ],
            [
             0.3333333333333333,
             "#9c179e"
            ],
            [
             0.4444444444444444,
             "#bd3786"
            ],
            [
             0.5555555555555556,
             "#d8576b"
            ],
            [
             0.6666666666666666,
             "#ed7953"
            ],
            [
             0.7777777777777778,
             "#fb9f3a"
            ],
            [
             0.8888888888888888,
             "#fdca26"
            ],
            [
             1,
             "#f0f921"
            ]
           ],
           "sequentialminus": [
            [
             0,
             "#0d0887"
            ],
            [
             0.1111111111111111,
             "#46039f"
            ],
            [
             0.2222222222222222,
             "#7201a8"
            ],
            [
             0.3333333333333333,
             "#9c179e"
            ],
            [
             0.4444444444444444,
             "#bd3786"
            ],
            [
             0.5555555555555556,
             "#d8576b"
            ],
            [
             0.6666666666666666,
             "#ed7953"
            ],
            [
             0.7777777777777778,
             "#fb9f3a"
            ],
            [
             0.8888888888888888,
             "#fdca26"
            ],
            [
             1,
             "#f0f921"
            ]
           ]
          },
          "colorway": [
           "#636efa",
           "#EF553B",
           "#00cc96",
           "#ab63fa",
           "#FFA15A",
           "#19d3f3",
           "#FF6692",
           "#B6E880",
           "#FF97FF",
           "#FECB52"
          ],
          "font": {
           "color": "#2a3f5f"
          },
          "geo": {
           "bgcolor": "white",
           "lakecolor": "white",
           "landcolor": "#E5ECF6",
           "showlakes": true,
           "showland": true,
           "subunitcolor": "white"
          },
          "hoverlabel": {
           "align": "left"
          },
          "hovermode": "closest",
          "mapbox": {
           "style": "light"
          },
          "paper_bgcolor": "white",
          "plot_bgcolor": "#E5ECF6",
          "polar": {
           "angularaxis": {
            "gridcolor": "white",
            "linecolor": "white",
            "ticks": ""
           },
           "bgcolor": "#E5ECF6",
           "radialaxis": {
            "gridcolor": "white",
            "linecolor": "white",
            "ticks": ""
           }
          },
          "scene": {
           "xaxis": {
            "backgroundcolor": "#E5ECF6",
            "gridcolor": "white",
            "gridwidth": 2,
            "linecolor": "white",
            "showbackground": true,
            "ticks": "",
            "zerolinecolor": "white"
           },
           "yaxis": {
            "backgroundcolor": "#E5ECF6",
            "gridcolor": "white",
            "gridwidth": 2,
            "linecolor": "white",
            "showbackground": true,
            "ticks": "",
            "zerolinecolor": "white"
           },
           "zaxis": {
            "backgroundcolor": "#E5ECF6",
            "gridcolor": "white",
            "gridwidth": 2,
            "linecolor": "white",
            "showbackground": true,
            "ticks": "",
            "zerolinecolor": "white"
           }
          },
          "shapedefaults": {
           "line": {
            "color": "#2a3f5f"
           }
          },
          "ternary": {
           "aaxis": {
            "gridcolor": "white",
            "linecolor": "white",
            "ticks": ""
           },
           "baxis": {
            "gridcolor": "white",
            "linecolor": "white",
            "ticks": ""
           },
           "bgcolor": "#E5ECF6",
           "caxis": {
            "gridcolor": "white",
            "linecolor": "white",
            "ticks": ""
           }
          },
          "title": {
           "x": 0.05
          },
          "xaxis": {
           "automargin": true,
           "gridcolor": "white",
           "linecolor": "white",
           "ticks": "",
           "title": {
            "standoff": 15
           },
           "zerolinecolor": "white",
           "zerolinewidth": 2
          },
          "yaxis": {
           "automargin": true,
           "gridcolor": "white",
           "linecolor": "white",
           "ticks": "",
           "title": {
            "standoff": 15
           },
           "zerolinecolor": "white",
           "zerolinewidth": 2
          }
         }
        },
        "title": {
         "text": "depth_tall"
        },
        "width": 450,
        "xaxis": {
         "anchor": "y",
         "domain": [
          0,
          1
         ],
         "tickangle": -45,
         "title": {
          "text": "metric"
         }
        },
        "yaxis": {
         "anchor": "x",
         "domain": [
          0,
          1
         ],
         "range": [
          0,
          1.2
         ],
         "title": {
          "text": "score"
         }
        }
       }
      }
     },
     "metadata": {},
     "output_type": "display_data"
    },
    {
     "data": {
      "application/vnd.plotly.v1+json": {
       "config": {
        "plotlyServerURL": "https://plot.ly"
       },
       "data": [
        {
         "hovertemplate": "metric=%{x}<br>score=%{text}<extra></extra>",
         "legendgroup": "",
         "marker": {
          "color": "#636efa",
          "pattern": {
           "shape": ""
          }
         },
         "name": "",
         "orientation": "v",
         "showlegend": false,
         "text": {
          "bdata": "MRsT4AUn2D8k+Ubh8P7ZP3WHxuVOCtk/hFTaRpEm5D/b/5j8tungPzvSlVLwY+I/",
          "dtype": "f8"
         },
         "textposition": "outside",
         "texttemplate": "%{text:.3f}",
         "type": "bar",
         "x": [
          "T-Precision reduced",
          "T-Recall reduced",
          "T-Measure reduced",
          "T-Precision full",
          "T-Recall full",
          "T-Measure full"
         ],
         "xaxis": "x",
         "y": {
          "bdata": "MRsT4AUn2D8k+Ubh8P7ZP3WHxuVOCtk/hFTaRpEm5D/b/5j8tungPzvSlVLwY+I/",
          "dtype": "f8"
         },
         "yaxis": "y"
        }
       ],
       "layout": {
        "barmode": "relative",
        "height": 300,
        "legend": {
         "tracegroupgap": 0
        },
        "margin": {
         "b": 10,
         "l": 10,
         "r": 10,
         "t": 50
        },
        "template": {
         "data": {
          "bar": [
           {
            "error_x": {
             "color": "#2a3f5f"
            },
            "error_y": {
             "color": "#2a3f5f"
            },
            "marker": {
             "line": {
              "color": "#E5ECF6",
              "width": 0.5
             },
             "pattern": {
              "fillmode": "overlay",
              "size": 10,
              "solidity": 0.2
             }
            },
            "type": "bar"
           }
          ],
          "barpolar": [
           {
            "marker": {
             "line": {
              "color": "#E5ECF6",
              "width": 0.5
             },
             "pattern": {
              "fillmode": "overlay",
              "size": 10,
              "solidity": 0.2
             }
            },
            "type": "barpolar"
           }
          ],
          "carpet": [
           {
            "aaxis": {
             "endlinecolor": "#2a3f5f",
             "gridcolor": "white",
             "linecolor": "white",
             "minorgridcolor": "white",
             "startlinecolor": "#2a3f5f"
            },
            "baxis": {
             "endlinecolor": "#2a3f5f",
             "gridcolor": "white",
             "linecolor": "white",
             "minorgridcolor": "white",
             "startlinecolor": "#2a3f5f"
            },
            "type": "carpet"
           }
          ],
          "choropleth": [
           {
            "colorbar": {
             "outlinewidth": 0,
             "ticks": ""
            },
            "type": "choropleth"
           }
          ],
          "contour": [
           {
            "colorbar": {
             "outlinewidth": 0,
             "ticks": ""
            },
            "colorscale": [
             [
              0,
              "#0d0887"
             ],
             [
              0.1111111111111111,
              "#46039f"
             ],
             [
              0.2222222222222222,
              "#7201a8"
             ],
             [
              0.3333333333333333,
              "#9c179e"
             ],
             [
              0.4444444444444444,
              "#bd3786"
             ],
             [
              0.5555555555555556,
              "#d8576b"
             ],
             [
              0.6666666666666666,
              "#ed7953"
             ],
             [
              0.7777777777777778,
              "#fb9f3a"
             ],
             [
              0.8888888888888888,
              "#fdca26"
             ],
             [
              1,
              "#f0f921"
             ]
            ],
            "type": "contour"
           }
          ],
          "contourcarpet": [
           {
            "colorbar": {
             "outlinewidth": 0,
             "ticks": ""
            },
            "type": "contourcarpet"
           }
          ],
          "heatmap": [
           {
            "colorbar": {
             "outlinewidth": 0,
             "ticks": ""
            },
            "colorscale": [
             [
              0,
              "#0d0887"
             ],
             [
              0.1111111111111111,
              "#46039f"
             ],
             [
              0.2222222222222222,
              "#7201a8"
             ],
             [
              0.3333333333333333,
              "#9c179e"
             ],
             [
              0.4444444444444444,
              "#bd3786"
             ],
             [
              0.5555555555555556,
              "#d8576b"
             ],
             [
              0.6666666666666666,
              "#ed7953"
             ],
             [
              0.7777777777777778,
              "#fb9f3a"
             ],
             [
              0.8888888888888888,
              "#fdca26"
             ],
             [
              1,
              "#f0f921"
             ]
            ],
            "type": "heatmap"
           }
          ],
          "histogram": [
           {
            "marker": {
             "pattern": {
              "fillmode": "overlay",
              "size": 10,
              "solidity": 0.2
             }
            },
            "type": "histogram"
           }
          ],
          "histogram2d": [
           {
            "colorbar": {
             "outlinewidth": 0,
             "ticks": ""
            },
            "colorscale": [
             [
              0,
              "#0d0887"
             ],
             [
              0.1111111111111111,
              "#46039f"
             ],
             [
              0.2222222222222222,
              "#7201a8"
             ],
             [
              0.3333333333333333,
              "#9c179e"
             ],
             [
              0.4444444444444444,
              "#bd3786"
             ],
             [
              0.5555555555555556,
              "#d8576b"
             ],
             [
              0.6666666666666666,
              "#ed7953"
             ],
             [
              0.7777777777777778,
              "#fb9f3a"
             ],
             [
              0.8888888888888888,
              "#fdca26"
             ],
             [
              1,
              "#f0f921"
             ]
            ],
            "type": "histogram2d"
           }
          ],
          "histogram2dcontour": [
           {
            "colorbar": {
             "outlinewidth": 0,
             "ticks": ""
            },
            "colorscale": [
             [
              0,
              "#0d0887"
             ],
             [
              0.1111111111111111,
              "#46039f"
             ],
             [
              0.2222222222222222,
              "#7201a8"
             ],
             [
              0.3333333333333333,
              "#9c179e"
             ],
             [
              0.4444444444444444,
              "#bd3786"
             ],
             [
              0.5555555555555556,
              "#d8576b"
             ],
             [
              0.6666666666666666,
              "#ed7953"
             ],
             [
              0.7777777777777778,
              "#fb9f3a"
             ],
             [
              0.8888888888888888,
              "#fdca26"
             ],
             [
              1,
              "#f0f921"
             ]
            ],
            "type": "histogram2dcontour"
           }
          ],
          "mesh3d": [
           {
            "colorbar": {
             "outlinewidth": 0,
             "ticks": ""
            },
            "type": "mesh3d"
           }
          ],
          "parcoords": [
           {
            "line": {
             "colorbar": {
              "outlinewidth": 0,
              "ticks": ""
             }
            },
            "type": "parcoords"
           }
          ],
          "pie": [
           {
            "automargin": true,
            "type": "pie"
           }
          ],
          "scatter": [
           {
            "fillpattern": {
             "fillmode": "overlay",
             "size": 10,
             "solidity": 0.2
            },
            "type": "scatter"
           }
          ],
          "scatter3d": [
           {
            "line": {
             "colorbar": {
              "outlinewidth": 0,
              "ticks": ""
             }
            },
            "marker": {
             "colorbar": {
              "outlinewidth": 0,
              "ticks": ""
             }
            },
            "type": "scatter3d"
           }
          ],
          "scattercarpet": [
           {
            "marker": {
             "colorbar": {
              "outlinewidth": 0,
              "ticks": ""
             }
            },
            "type": "scattercarpet"
           }
          ],
          "scattergeo": [
           {
            "marker": {
             "colorbar": {
              "outlinewidth": 0,
              "ticks": ""
             }
            },
            "type": "scattergeo"
           }
          ],
          "scattergl": [
           {
            "marker": {
             "colorbar": {
              "outlinewidth": 0,
              "ticks": ""
             }
            },
            "type": "scattergl"
           }
          ],
          "scattermap": [
           {
            "marker": {
             "colorbar": {
              "outlinewidth": 0,
              "ticks": ""
             }
            },
            "type": "scattermap"
           }
          ],
          "scattermapbox": [
           {
            "marker": {
             "colorbar": {
              "outlinewidth": 0,
              "ticks": ""
             }
            },
            "type": "scattermapbox"
           }
          ],
          "scatterpolar": [
           {
            "marker": {
             "colorbar": {
              "outlinewidth": 0,
              "ticks": ""
             }
            },
            "type": "scatterpolar"
           }
          ],
          "scatterpolargl": [
           {
            "marker": {
             "colorbar": {
              "outlinewidth": 0,
              "ticks": ""
             }
            },
            "type": "scatterpolargl"
           }
          ],
          "scatterternary": [
           {
            "marker": {
             "colorbar": {
              "outlinewidth": 0,
              "ticks": ""
             }
            },
            "type": "scatterternary"
           }
          ],
          "surface": [
           {
            "colorbar": {
             "outlinewidth": 0,
             "ticks": ""
            },
            "colorscale": [
             [
              0,
              "#0d0887"
             ],
             [
              0.1111111111111111,
              "#46039f"
             ],
             [
              0.2222222222222222,
              "#7201a8"
             ],
             [
              0.3333333333333333,
              "#9c179e"
             ],
             [
              0.4444444444444444,
              "#bd3786"
             ],
             [
              0.5555555555555556,
              "#d8576b"
             ],
             [
              0.6666666666666666,
              "#ed7953"
             ],
             [
              0.7777777777777778,
              "#fb9f3a"
             ],
             [
              0.8888888888888888,
              "#fdca26"
             ],
             [
              1,
              "#f0f921"
             ]
            ],
            "type": "surface"
           }
          ],
          "table": [
           {
            "cells": {
             "fill": {
              "color": "#EBF0F8"
             },
             "line": {
              "color": "white"
             }
            },
            "header": {
             "fill": {
              "color": "#C8D4E3"
             },
             "line": {
              "color": "white"
             }
            },
            "type": "table"
           }
          ]
         },
         "layout": {
          "annotationdefaults": {
           "arrowcolor": "#2a3f5f",
           "arrowhead": 0,
           "arrowwidth": 1
          },
          "autotypenumbers": "strict",
          "coloraxis": {
           "colorbar": {
            "outlinewidth": 0,
            "ticks": ""
           }
          },
          "colorscale": {
           "diverging": [
            [
             0,
             "#8e0152"
            ],
            [
             0.1,
             "#c51b7d"
            ],
            [
             0.2,
             "#de77ae"
            ],
            [
             0.3,
             "#f1b6da"
            ],
            [
             0.4,
             "#fde0ef"
            ],
            [
             0.5,
             "#f7f7f7"
            ],
            [
             0.6,
             "#e6f5d0"
            ],
            [
             0.7,
             "#b8e186"
            ],
            [
             0.8,
             "#7fbc41"
            ],
            [
             0.9,
             "#4d9221"
            ],
            [
             1,
             "#276419"
            ]
           ],
           "sequential": [
            [
             0,
             "#0d0887"
            ],
            [
             0.1111111111111111,
             "#46039f"
            ],
            [
             0.2222222222222222,
             "#7201a8"
            ],
            [
             0.3333333333333333,
             "#9c179e"
            ],
            [
             0.4444444444444444,
             "#bd3786"
            ],
            [
             0.5555555555555556,
             "#d8576b"
            ],
            [
             0.6666666666666666,
             "#ed7953"
            ],
            [
             0.7777777777777778,
             "#fb9f3a"
            ],
            [
             0.8888888888888888,
             "#fdca26"
            ],
            [
             1,
             "#f0f921"
            ]
           ],
           "sequentialminus": [
            [
             0,
             "#0d0887"
            ],
            [
             0.1111111111111111,
             "#46039f"
            ],
            [
             0.2222222222222222,
             "#7201a8"
            ],
            [
             0.3333333333333333,
             "#9c179e"
            ],
            [
             0.4444444444444444,
             "#bd3786"
            ],
            [
             0.5555555555555556,
             "#d8576b"
            ],
            [
             0.6666666666666666,
             "#ed7953"
            ],
            [
             0.7777777777777778,
             "#fb9f3a"
            ],
            [
             0.8888888888888888,
             "#fdca26"
            ],
            [
             1,
             "#f0f921"
            ]
           ]
          },
          "colorway": [
           "#636efa",
           "#EF553B",
           "#00cc96",
           "#ab63fa",
           "#FFA15A",
           "#19d3f3",
           "#FF6692",
           "#B6E880",
           "#FF97FF",
           "#FECB52"
          ],
          "font": {
           "color": "#2a3f5f"
          },
          "geo": {
           "bgcolor": "white",
           "lakecolor": "white",
           "landcolor": "#E5ECF6",
           "showlakes": true,
           "showland": true,
           "subunitcolor": "white"
          },
          "hoverlabel": {
           "align": "left"
          },
          "hovermode": "closest",
          "mapbox": {
           "style": "light"
          },
          "paper_bgcolor": "white",
          "plot_bgcolor": "#E5ECF6",
          "polar": {
           "angularaxis": {
            "gridcolor": "white",
            "linecolor": "white",
            "ticks": ""
           },
           "bgcolor": "#E5ECF6",
           "radialaxis": {
            "gridcolor": "white",
            "linecolor": "white",
            "ticks": ""
           }
          },
          "scene": {
           "xaxis": {
            "backgroundcolor": "#E5ECF6",
            "gridcolor": "white",
            "gridwidth": 2,
            "linecolor": "white",
            "showbackground": true,
            "ticks": "",
            "zerolinecolor": "white"
           },
           "yaxis": {
            "backgroundcolor": "#E5ECF6",
            "gridcolor": "white",
            "gridwidth": 2,
            "linecolor": "white",
            "showbackground": true,
            "ticks": "",
            "zerolinecolor": "white"
           },
           "zaxis": {
            "backgroundcolor": "#E5ECF6",
            "gridcolor": "white",
            "gridwidth": 2,
            "linecolor": "white",
            "showbackground": true,
            "ticks": "",
            "zerolinecolor": "white"
           }
          },
          "shapedefaults": {
           "line": {
            "color": "#2a3f5f"
           }
          },
          "ternary": {
           "aaxis": {
            "gridcolor": "white",
            "linecolor": "white",
            "ticks": ""
           },
           "baxis": {
            "gridcolor": "white",
            "linecolor": "white",
            "ticks": ""
           },
           "bgcolor": "#E5ECF6",
           "caxis": {
            "gridcolor": "white",
            "linecolor": "white",
            "ticks": ""
           }
          },
          "title": {
           "x": 0.05
          },
          "xaxis": {
           "automargin": true,
           "gridcolor": "white",
           "linecolor": "white",
           "ticks": "",
           "title": {
            "standoff": 15
           },
           "zerolinecolor": "white",
           "zerolinewidth": 2
          },
          "yaxis": {
           "automargin": true,
           "gridcolor": "white",
           "linecolor": "white",
           "ticks": "",
           "title": {
            "standoff": 15
           },
           "zerolinecolor": "white",
           "zerolinewidth": 2
          }
         }
        },
        "title": {
         "text": "count_tall"
        },
        "width": 450,
        "xaxis": {
         "anchor": "y",
         "domain": [
          0,
          1
         ],
         "tickangle": -45,
         "title": {
          "text": "metric"
         }
        },
        "yaxis": {
         "anchor": "x",
         "domain": [
          0,
          1
         ],
         "range": [
          0,
          1.2
         ],
         "title": {
          "text": "score"
         }
        }
       }
      }
     },
     "metadata": {},
     "output_type": "display_data"
    },
    {
     "data": {
      "application/vnd.plotly.v1+json": {
       "config": {
        "plotlyServerURL": "https://plot.ly"
       },
       "data": [
        {
         "hovertemplate": "metric=%{x}<br>score=%{text}<extra></extra>",
         "legendgroup": "",
         "marker": {
          "color": "#636efa",
          "pattern": {
           "shape": ""
          }
         },
         "name": "",
         "orientation": "v",
         "showlegend": false,
         "text": {
          "bdata": "BD56eUbl3j+gxZQHul/aP2IOqOXNdNw/b9GZtRmh4z8GLfFJZSXhPz5G3A3JTeI/",
          "dtype": "f8"
         },
         "textposition": "outside",
         "texttemplate": "%{text:.3f}",
         "type": "bar",
         "x": [
          "T-Precision reduced",
          "T-Recall reduced",
          "T-Measure reduced",
          "T-Precision full",
          "T-Recall full",
          "T-Measure full"
         ],
         "xaxis": "x",
         "y": {
          "bdata": "BD56eUbl3j+gxZQHul/aP2IOqOXNdNw/b9GZtRmh4z8GLfFJZSXhPz5G3A3JTeI/",
          "dtype": "f8"
         },
         "yaxis": "y"
        }
       ],
       "layout": {
        "barmode": "relative",
        "height": 300,
        "legend": {
         "tracegroupgap": 0
        },
        "margin": {
         "b": 10,
         "l": 10,
         "r": 10,
         "t": 50
        },
        "template": {
         "data": {
          "bar": [
           {
            "error_x": {
             "color": "#2a3f5f"
            },
            "error_y": {
             "color": "#2a3f5f"
            },
            "marker": {
             "line": {
              "color": "#E5ECF6",
              "width": 0.5
             },
             "pattern": {
              "fillmode": "overlay",
              "size": 10,
              "solidity": 0.2
             }
            },
            "type": "bar"
           }
          ],
          "barpolar": [
           {
            "marker": {
             "line": {
              "color": "#E5ECF6",
              "width": 0.5
             },
             "pattern": {
              "fillmode": "overlay",
              "size": 10,
              "solidity": 0.2
             }
            },
            "type": "barpolar"
           }
          ],
          "carpet": [
           {
            "aaxis": {
             "endlinecolor": "#2a3f5f",
             "gridcolor": "white",
             "linecolor": "white",
             "minorgridcolor": "white",
             "startlinecolor": "#2a3f5f"
            },
            "baxis": {
             "endlinecolor": "#2a3f5f",
             "gridcolor": "white",
             "linecolor": "white",
             "minorgridcolor": "white",
             "startlinecolor": "#2a3f5f"
            },
            "type": "carpet"
           }
          ],
          "choropleth": [
           {
            "colorbar": {
             "outlinewidth": 0,
             "ticks": ""
            },
            "type": "choropleth"
           }
          ],
          "contour": [
           {
            "colorbar": {
             "outlinewidth": 0,
             "ticks": ""
            },
            "colorscale": [
             [
              0,
              "#0d0887"
             ],
             [
              0.1111111111111111,
              "#46039f"
             ],
             [
              0.2222222222222222,
              "#7201a8"
             ],
             [
              0.3333333333333333,
              "#9c179e"
             ],
             [
              0.4444444444444444,
              "#bd3786"
             ],
             [
              0.5555555555555556,
              "#d8576b"
             ],
             [
              0.6666666666666666,
              "#ed7953"
             ],
             [
              0.7777777777777778,
              "#fb9f3a"
             ],
             [
              0.8888888888888888,
              "#fdca26"
             ],
             [
              1,
              "#f0f921"
             ]
            ],
            "type": "contour"
           }
          ],
          "contourcarpet": [
           {
            "colorbar": {
             "outlinewidth": 0,
             "ticks": ""
            },
            "type": "contourcarpet"
           }
          ],
          "heatmap": [
           {
            "colorbar": {
             "outlinewidth": 0,
             "ticks": ""
            },
            "colorscale": [
             [
              0,
              "#0d0887"
             ],
             [
              0.1111111111111111,
              "#46039f"
             ],
             [
              0.2222222222222222,
              "#7201a8"
             ],
             [
              0.3333333333333333,
              "#9c179e"
             ],
             [
              0.4444444444444444,
              "#bd3786"
             ],
             [
              0.5555555555555556,
              "#d8576b"
             ],
             [
              0.6666666666666666,
              "#ed7953"
             ],
             [
              0.7777777777777778,
              "#fb9f3a"
             ],
             [
              0.8888888888888888,
              "#fdca26"
             ],
             [
              1,
              "#f0f921"
             ]
            ],
            "type": "heatmap"
           }
          ],
          "histogram": [
           {
            "marker": {
             "pattern": {
              "fillmode": "overlay",
              "size": 10,
              "solidity": 0.2
             }
            },
            "type": "histogram"
           }
          ],
          "histogram2d": [
           {
            "colorbar": {
             "outlinewidth": 0,
             "ticks": ""
            },
            "colorscale": [
             [
              0,
              "#0d0887"
             ],
             [
              0.1111111111111111,
              "#46039f"
             ],
             [
              0.2222222222222222,
              "#7201a8"
             ],
             [
              0.3333333333333333,
              "#9c179e"
             ],
             [
              0.4444444444444444,
              "#bd3786"
             ],
             [
              0.5555555555555556,
              "#d8576b"
             ],
             [
              0.6666666666666666,
              "#ed7953"
             ],
             [
              0.7777777777777778,
              "#fb9f3a"
             ],
             [
              0.8888888888888888,
              "#fdca26"
             ],
             [
              1,
              "#f0f921"
             ]
            ],
            "type": "histogram2d"
           }
          ],
          "histogram2dcontour": [
           {
            "colorbar": {
             "outlinewidth": 0,
             "ticks": ""
            },
            "colorscale": [
             [
              0,
              "#0d0887"
             ],
             [
              0.1111111111111111,
              "#46039f"
             ],
             [
              0.2222222222222222,
              "#7201a8"
             ],
             [
              0.3333333333333333,
              "#9c179e"
             ],
             [
              0.4444444444444444,
              "#bd3786"
             ],
             [
              0.5555555555555556,
              "#d8576b"
             ],
             [
              0.6666666666666666,
              "#ed7953"
             ],
             [
              0.7777777777777778,
              "#fb9f3a"
             ],
             [
              0.8888888888888888,
              "#fdca26"
             ],
             [
              1,
              "#f0f921"
             ]
            ],
            "type": "histogram2dcontour"
           }
          ],
          "mesh3d": [
           {
            "colorbar": {
             "outlinewidth": 0,
             "ticks": ""
            },
            "type": "mesh3d"
           }
          ],
          "parcoords": [
           {
            "line": {
             "colorbar": {
              "outlinewidth": 0,
              "ticks": ""
             }
            },
            "type": "parcoords"
           }
          ],
          "pie": [
           {
            "automargin": true,
            "type": "pie"
           }
          ],
          "scatter": [
           {
            "fillpattern": {
             "fillmode": "overlay",
             "size": 10,
             "solidity": 0.2
            },
            "type": "scatter"
           }
          ],
          "scatter3d": [
           {
            "line": {
             "colorbar": {
              "outlinewidth": 0,
              "ticks": ""
             }
            },
            "marker": {
             "colorbar": {
              "outlinewidth": 0,
              "ticks": ""
             }
            },
            "type": "scatter3d"
           }
          ],
          "scattercarpet": [
           {
            "marker": {
             "colorbar": {
              "outlinewidth": 0,
              "ticks": ""
             }
            },
            "type": "scattercarpet"
           }
          ],
          "scattergeo": [
           {
            "marker": {
             "colorbar": {
              "outlinewidth": 0,
              "ticks": ""
             }
            },
            "type": "scattergeo"
           }
          ],
          "scattergl": [
           {
            "marker": {
             "colorbar": {
              "outlinewidth": 0,
              "ticks": ""
             }
            },
            "type": "scattergl"
           }
          ],
          "scattermap": [
           {
            "marker": {
             "colorbar": {
              "outlinewidth": 0,
              "ticks": ""
             }
            },
            "type": "scattermap"
           }
          ],
          "scattermapbox": [
           {
            "marker": {
             "colorbar": {
              "outlinewidth": 0,
              "ticks": ""
             }
            },
            "type": "scattermapbox"
           }
          ],
          "scatterpolar": [
           {
            "marker": {
             "colorbar": {
              "outlinewidth": 0,
              "ticks": ""
             }
            },
            "type": "scatterpolar"
           }
          ],
          "scatterpolargl": [
           {
            "marker": {
             "colorbar": {
              "outlinewidth": 0,
              "ticks": ""
             }
            },
            "type": "scatterpolargl"
           }
          ],
          "scatterternary": [
           {
            "marker": {
             "colorbar": {
              "outlinewidth": 0,
              "ticks": ""
             }
            },
            "type": "scatterternary"
           }
          ],
          "surface": [
           {
            "colorbar": {
             "outlinewidth": 0,
             "ticks": ""
            },
            "colorscale": [
             [
              0,
              "#0d0887"
             ],
             [
              0.1111111111111111,
              "#46039f"
             ],
             [
              0.2222222222222222,
              "#7201a8"
             ],
             [
              0.3333333333333333,
              "#9c179e"
             ],
             [
              0.4444444444444444,
              "#bd3786"
             ],
             [
              0.5555555555555556,
              "#d8576b"
             ],
             [
              0.6666666666666666,
              "#ed7953"
             ],
             [
              0.7777777777777778,
              "#fb9f3a"
             ],
             [
              0.8888888888888888,
              "#fdca26"
             ],
             [
              1,
              "#f0f921"
             ]
            ],
            "type": "surface"
           }
          ],
          "table": [
           {
            "cells": {
             "fill": {
              "color": "#EBF0F8"
             },
             "line": {
              "color": "white"
             }
            },
            "header": {
             "fill": {
              "color": "#C8D4E3"
             },
             "line": {
              "color": "white"
             }
            },
            "type": "table"
           }
          ]
         },
         "layout": {
          "annotationdefaults": {
           "arrowcolor": "#2a3f5f",
           "arrowhead": 0,
           "arrowwidth": 1
          },
          "autotypenumbers": "strict",
          "coloraxis": {
           "colorbar": {
            "outlinewidth": 0,
            "ticks": ""
           }
          },
          "colorscale": {
           "diverging": [
            [
             0,
             "#8e0152"
            ],
            [
             0.1,
             "#c51b7d"
            ],
            [
             0.2,
             "#de77ae"
            ],
            [
             0.3,
             "#f1b6da"
            ],
            [
             0.4,
             "#fde0ef"
            ],
            [
             0.5,
             "#f7f7f7"
            ],
            [
             0.6,
             "#e6f5d0"
            ],
            [
             0.7,
             "#b8e186"
            ],
            [
             0.8,
             "#7fbc41"
            ],
            [
             0.9,
             "#4d9221"
            ],
            [
             1,
             "#276419"
            ]
           ],
           "sequential": [
            [
             0,
             "#0d0887"
            ],
            [
             0.1111111111111111,
             "#46039f"
            ],
            [
             0.2222222222222222,
             "#7201a8"
            ],
            [
             0.3333333333333333,
             "#9c179e"
            ],
            [
             0.4444444444444444,
             "#bd3786"
            ],
            [
             0.5555555555555556,
             "#d8576b"
            ],
            [
             0.6666666666666666,
             "#ed7953"
            ],
            [
             0.7777777777777778,
             "#fb9f3a"
            ],
            [
             0.8888888888888888,
             "#fdca26"
            ],
            [
             1,
             "#f0f921"
            ]
           ],
           "sequentialminus": [
            [
             0,
             "#0d0887"
            ],
            [
             0.1111111111111111,
             "#46039f"
            ],
            [
             0.2222222222222222,
             "#7201a8"
            ],
            [
             0.3333333333333333,
             "#9c179e"
            ],
            [
             0.4444444444444444,
             "#bd3786"
            ],
            [
             0.5555555555555556,
             "#d8576b"
            ],
            [
             0.6666666666666666,
             "#ed7953"
            ],
            [
             0.7777777777777778,
             "#fb9f3a"
            ],
            [
             0.8888888888888888,
             "#fdca26"
            ],
            [
             1,
             "#f0f921"
            ]
           ]
          },
          "colorway": [
           "#636efa",
           "#EF553B",
           "#00cc96",
           "#ab63fa",
           "#FFA15A",
           "#19d3f3",
           "#FF6692",
           "#B6E880",
           "#FF97FF",
           "#FECB52"
          ],
          "font": {
           "color": "#2a3f5f"
          },
          "geo": {
           "bgcolor": "white",
           "lakecolor": "white",
           "landcolor": "#E5ECF6",
           "showlakes": true,
           "showland": true,
           "subunitcolor": "white"
          },
          "hoverlabel": {
           "align": "left"
          },
          "hovermode": "closest",
          "mapbox": {
           "style": "light"
          },
          "paper_bgcolor": "white",
          "plot_bgcolor": "#E5ECF6",
          "polar": {
           "angularaxis": {
            "gridcolor": "white",
            "linecolor": "white",
            "ticks": ""
           },
           "bgcolor": "#E5ECF6",
           "radialaxis": {
            "gridcolor": "white",
            "linecolor": "white",
            "ticks": ""
           }
          },
          "scene": {
           "xaxis": {
            "backgroundcolor": "#E5ECF6",
            "gridcolor": "white",
            "gridwidth": 2,
            "linecolor": "white",
            "showbackground": true,
            "ticks": "",
            "zerolinecolor": "white"
           },
           "yaxis": {
            "backgroundcolor": "#E5ECF6",
            "gridcolor": "white",
            "gridwidth": 2,
            "linecolor": "white",
            "showbackground": true,
            "ticks": "",
            "zerolinecolor": "white"
           },
           "zaxis": {
            "backgroundcolor": "#E5ECF6",
            "gridcolor": "white",
            "gridwidth": 2,
            "linecolor": "white",
            "showbackground": true,
            "ticks": "",
            "zerolinecolor": "white"
           }
          },
          "shapedefaults": {
           "line": {
            "color": "#2a3f5f"
           }
          },
          "ternary": {
           "aaxis": {
            "gridcolor": "white",
            "linecolor": "white",
            "ticks": ""
           },
           "baxis": {
            "gridcolor": "white",
            "linecolor": "white",
            "ticks": ""
           },
           "bgcolor": "#E5ECF6",
           "caxis": {
            "gridcolor": "white",
            "linecolor": "white",
            "ticks": ""
           }
          },
          "title": {
           "x": 0.05
          },
          "xaxis": {
           "automargin": true,
           "gridcolor": "white",
           "linecolor": "white",
           "ticks": "",
           "title": {
            "standoff": 15
           },
           "zerolinecolor": "white",
           "zerolinewidth": 2
          },
          "yaxis": {
           "automargin": true,
           "gridcolor": "white",
           "linecolor": "white",
           "ticks": "",
           "title": {
            "standoff": 15
           },
           "zerolinecolor": "white",
           "zerolinewidth": 2
          }
         }
        },
        "title": {
         "text": "weight_tall"
        },
        "width": 450,
        "xaxis": {
         "anchor": "y",
         "domain": [
          0,
          1
         ],
         "tickangle": -45,
         "title": {
          "text": "metric"
         }
        },
        "yaxis": {
         "anchor": "x",
         "domain": [
          0,
          1
         ],
         "range": [
          0,
          1.2
         ],
         "title": {
          "text": "score"
         }
        }
       }
      }
     },
     "metadata": {},
     "output_type": "display_data"
    }
   ],
   "source": [
    "import warnings\n",
    "warnings.filterwarnings('ignore')\n",
    "\n",
    "print('levels unadjusted, tall hierarchies')\n",
    "for e, title in zip(\n",
    "    [est, est_by_depth_tall, est_by_count_tall, est_by_weight_tall], \n",
    "    ['raw', 'depth_tall', 'count_tall', 'weight_tall']\n",
    "):\n",
    "    hier_score = mir_eval.hierarchy.evaluate(ref.itvls, ref.labels, e.itvls, e.labels)\n",
    "    del hier_score['L-Precision']\n",
    "    del hier_score['L-Recall']\n",
    "    del hier_score['L-Measure']\n",
    "    px_metrics_bar(hier_score, title=title).show()"
   ]
  },
  {
   "cell_type": "code",
   "execution_count": 24,
   "id": "e7168e78",
   "metadata": {},
   "outputs": [
    {
     "data": {
      "application/vnd.plotly.v1+json": {
       "config": {
        "plotlyServerURL": "https://plot.ly"
       },
       "data": [
        {
         "hovertemplate": "<b>Boundary</b><br>Time: %{x:.3f}s<br>Salience: %{y:.3f}<extra></extra>",
         "line": {
          "color": "#666",
          "width": 1
         },
         "mode": "lines",
         "type": "scatter",
         "x": [
          8.54,
          8.54,
          null,
          9.8,
          9.8,
          null,
          11.06,
          11.06,
          null,
          12.98,
          12.98,
          null,
          13.61,
          13.61,
          null,
          16.16,
          16.16,
          null,
          32.12,
          32.12,
          null,
          32.75,
          32.75,
          null,
          54.6,
          54.6,
          null,
          55.25,
          55.25,
          null,
          61.67,
          61.67,
          null,
          62.31,
          62.31,
          null,
          63.59,
          63.59,
          null,
          64.24,
          64.24,
          null,
          74.5,
          74.5,
          null,
          75.15,
          75.15,
          null,
          93.14,
          93.14,
          null,
          93.81,
          93.81,
          null,
          94.44,
          94.44,
          null,
          103.47,
          103.47,
          null,
          104.14,
          104.14,
          null,
          104.77,
          104.77,
          null,
          105.4,
          105.4,
          null,
          109.28,
          109.28,
          null,
          111.83,
          111.83,
          null,
          117.6,
          117.6,
          null,
          152.97,
          152.97,
          null,
          153.6,
          153.6,
          null,
          158.65,
          158.65,
          null,
          159.28,
          159.28,
          null,
          159.92,
          159.92,
          null,
          168.89,
          168.89,
          null,
          169.52,
          169.52,
          null,
          170.82,
          170.82,
          null,
          171.47,
          171.47,
          null,
          190.02,
          190.02,
          null,
          190.65,
          190.65,
          null,
          191.31,
          191.31,
          null
         ],
         "y": [
          0,
          10,
          null,
          0,
          3,
          null,
          0,
          9,
          null,
          0,
          8,
          null,
          0,
          7,
          null,
          0,
          2,
          null,
          0,
          5,
          null,
          0,
          6,
          null,
          0,
          4,
          null,
          0,
          3,
          null,
          0,
          5,
          null,
          0,
          6,
          null,
          0,
          4,
          null,
          0,
          2,
          null,
          0,
          5,
          null,
          0,
          6,
          null,
          0,
          9,
          null,
          0,
          4,
          null,
          0,
          8,
          null,
          0,
          8,
          null,
          0,
          11,
          null,
          0,
          4,
          null,
          0,
          2,
          null,
          0,
          1,
          null,
          0,
          8,
          null,
          0,
          1,
          null,
          0,
          11,
          null,
          0,
          10,
          null,
          0,
          2,
          null,
          0,
          3,
          null,
          0,
          4,
          null,
          0,
          3,
          null,
          0,
          6,
          null,
          0,
          1,
          null,
          0,
          2,
          null,
          0,
          8,
          null,
          0,
          9,
          null,
          0,
          11,
          null
         ]
        }
       ],
       "layout": {
        "height": 300,
        "margin": {
         "b": 20,
         "l": 20,
         "r": 20,
         "t": 40
        },
        "shapes": [
         {
          "line": {
           "color": "#666",
           "width": 1
          },
          "opacity": 0.8,
          "type": "line",
          "x0": 0,
          "x1": 1,
          "xref": "x domain",
          "y0": 0,
          "y1": 0,
          "yref": "y"
         }
        ],
        "showlegend": false,
        "template": {
         "data": {
          "bar": [
           {
            "error_x": {
             "color": "#2a3f5f"
            },
            "error_y": {
             "color": "#2a3f5f"
            },
            "marker": {
             "line": {
              "color": "#E5ECF6",
              "width": 0.5
             },
             "pattern": {
              "fillmode": "overlay",
              "size": 10,
              "solidity": 0.2
             }
            },
            "type": "bar"
           }
          ],
          "barpolar": [
           {
            "marker": {
             "line": {
              "color": "#E5ECF6",
              "width": 0.5
             },
             "pattern": {
              "fillmode": "overlay",
              "size": 10,
              "solidity": 0.2
             }
            },
            "type": "barpolar"
           }
          ],
          "carpet": [
           {
            "aaxis": {
             "endlinecolor": "#2a3f5f",
             "gridcolor": "white",
             "linecolor": "white",
             "minorgridcolor": "white",
             "startlinecolor": "#2a3f5f"
            },
            "baxis": {
             "endlinecolor": "#2a3f5f",
             "gridcolor": "white",
             "linecolor": "white",
             "minorgridcolor": "white",
             "startlinecolor": "#2a3f5f"
            },
            "type": "carpet"
           }
          ],
          "choropleth": [
           {
            "colorbar": {
             "outlinewidth": 0,
             "ticks": ""
            },
            "type": "choropleth"
           }
          ],
          "contour": [
           {
            "colorbar": {
             "outlinewidth": 0,
             "ticks": ""
            },
            "colorscale": [
             [
              0,
              "#0d0887"
             ],
             [
              0.1111111111111111,
              "#46039f"
             ],
             [
              0.2222222222222222,
              "#7201a8"
             ],
             [
              0.3333333333333333,
              "#9c179e"
             ],
             [
              0.4444444444444444,
              "#bd3786"
             ],
             [
              0.5555555555555556,
              "#d8576b"
             ],
             [
              0.6666666666666666,
              "#ed7953"
             ],
             [
              0.7777777777777778,
              "#fb9f3a"
             ],
             [
              0.8888888888888888,
              "#fdca26"
             ],
             [
              1,
              "#f0f921"
             ]
            ],
            "type": "contour"
           }
          ],
          "contourcarpet": [
           {
            "colorbar": {
             "outlinewidth": 0,
             "ticks": ""
            },
            "type": "contourcarpet"
           }
          ],
          "heatmap": [
           {
            "colorbar": {
             "outlinewidth": 0,
             "ticks": ""
            },
            "colorscale": [
             [
              0,
              "#0d0887"
             ],
             [
              0.1111111111111111,
              "#46039f"
             ],
             [
              0.2222222222222222,
              "#7201a8"
             ],
             [
              0.3333333333333333,
              "#9c179e"
             ],
             [
              0.4444444444444444,
              "#bd3786"
             ],
             [
              0.5555555555555556,
              "#d8576b"
             ],
             [
              0.6666666666666666,
              "#ed7953"
             ],
             [
              0.7777777777777778,
              "#fb9f3a"
             ],
             [
              0.8888888888888888,
              "#fdca26"
             ],
             [
              1,
              "#f0f921"
             ]
            ],
            "type": "heatmap"
           }
          ],
          "histogram": [
           {
            "marker": {
             "pattern": {
              "fillmode": "overlay",
              "size": 10,
              "solidity": 0.2
             }
            },
            "type": "histogram"
           }
          ],
          "histogram2d": [
           {
            "colorbar": {
             "outlinewidth": 0,
             "ticks": ""
            },
            "colorscale": [
             [
              0,
              "#0d0887"
             ],
             [
              0.1111111111111111,
              "#46039f"
             ],
             [
              0.2222222222222222,
              "#7201a8"
             ],
             [
              0.3333333333333333,
              "#9c179e"
             ],
             [
              0.4444444444444444,
              "#bd3786"
             ],
             [
              0.5555555555555556,
              "#d8576b"
             ],
             [
              0.6666666666666666,
              "#ed7953"
             ],
             [
              0.7777777777777778,
              "#fb9f3a"
             ],
             [
              0.8888888888888888,
              "#fdca26"
             ],
             [
              1,
              "#f0f921"
             ]
            ],
            "type": "histogram2d"
           }
          ],
          "histogram2dcontour": [
           {
            "colorbar": {
             "outlinewidth": 0,
             "ticks": ""
            },
            "colorscale": [
             [
              0,
              "#0d0887"
             ],
             [
              0.1111111111111111,
              "#46039f"
             ],
             [
              0.2222222222222222,
              "#7201a8"
             ],
             [
              0.3333333333333333,
              "#9c179e"
             ],
             [
              0.4444444444444444,
              "#bd3786"
             ],
             [
              0.5555555555555556,
              "#d8576b"
             ],
             [
              0.6666666666666666,
              "#ed7953"
             ],
             [
              0.7777777777777778,
              "#fb9f3a"
             ],
             [
              0.8888888888888888,
              "#fdca26"
             ],
             [
              1,
              "#f0f921"
             ]
            ],
            "type": "histogram2dcontour"
           }
          ],
          "mesh3d": [
           {
            "colorbar": {
             "outlinewidth": 0,
             "ticks": ""
            },
            "type": "mesh3d"
           }
          ],
          "parcoords": [
           {
            "line": {
             "colorbar": {
              "outlinewidth": 0,
              "ticks": ""
             }
            },
            "type": "parcoords"
           }
          ],
          "pie": [
           {
            "automargin": true,
            "type": "pie"
           }
          ],
          "scatter": [
           {
            "fillpattern": {
             "fillmode": "overlay",
             "size": 10,
             "solidity": 0.2
            },
            "type": "scatter"
           }
          ],
          "scatter3d": [
           {
            "line": {
             "colorbar": {
              "outlinewidth": 0,
              "ticks": ""
             }
            },
            "marker": {
             "colorbar": {
              "outlinewidth": 0,
              "ticks": ""
             }
            },
            "type": "scatter3d"
           }
          ],
          "scattercarpet": [
           {
            "marker": {
             "colorbar": {
              "outlinewidth": 0,
              "ticks": ""
             }
            },
            "type": "scattercarpet"
           }
          ],
          "scattergeo": [
           {
            "marker": {
             "colorbar": {
              "outlinewidth": 0,
              "ticks": ""
             }
            },
            "type": "scattergeo"
           }
          ],
          "scattergl": [
           {
            "marker": {
             "colorbar": {
              "outlinewidth": 0,
              "ticks": ""
             }
            },
            "type": "scattergl"
           }
          ],
          "scattermap": [
           {
            "marker": {
             "colorbar": {
              "outlinewidth": 0,
              "ticks": ""
             }
            },
            "type": "scattermap"
           }
          ],
          "scattermapbox": [
           {
            "marker": {
             "colorbar": {
              "outlinewidth": 0,
              "ticks": ""
             }
            },
            "type": "scattermapbox"
           }
          ],
          "scatterpolar": [
           {
            "marker": {
             "colorbar": {
              "outlinewidth": 0,
              "ticks": ""
             }
            },
            "type": "scatterpolar"
           }
          ],
          "scatterpolargl": [
           {
            "marker": {
             "colorbar": {
              "outlinewidth": 0,
              "ticks": ""
             }
            },
            "type": "scatterpolargl"
           }
          ],
          "scatterternary": [
           {
            "marker": {
             "colorbar": {
              "outlinewidth": 0,
              "ticks": ""
             }
            },
            "type": "scatterternary"
           }
          ],
          "surface": [
           {
            "colorbar": {
             "outlinewidth": 0,
             "ticks": ""
            },
            "colorscale": [
             [
              0,
              "#0d0887"
             ],
             [
              0.1111111111111111,
              "#46039f"
             ],
             [
              0.2222222222222222,
              "#7201a8"
             ],
             [
              0.3333333333333333,
              "#9c179e"
             ],
             [
              0.4444444444444444,
              "#bd3786"
             ],
             [
              0.5555555555555556,
              "#d8576b"
             ],
             [
              0.6666666666666666,
              "#ed7953"
             ],
             [
              0.7777777777777778,
              "#fb9f3a"
             ],
             [
              0.8888888888888888,
              "#fdca26"
             ],
             [
              1,
              "#f0f921"
             ]
            ],
            "type": "surface"
           }
          ],
          "table": [
           {
            "cells": {
             "fill": {
              "color": "#EBF0F8"
             },
             "line": {
              "color": "white"
             }
            },
            "header": {
             "fill": {
              "color": "#C8D4E3"
             },
             "line": {
              "color": "white"
             }
            },
            "type": "table"
           }
          ]
         },
         "layout": {
          "annotationdefaults": {
           "arrowcolor": "#2a3f5f",
           "arrowhead": 0,
           "arrowwidth": 1
          },
          "autotypenumbers": "strict",
          "coloraxis": {
           "colorbar": {
            "outlinewidth": 0,
            "ticks": ""
           }
          },
          "colorscale": {
           "diverging": [
            [
             0,
             "#8e0152"
            ],
            [
             0.1,
             "#c51b7d"
            ],
            [
             0.2,
             "#de77ae"
            ],
            [
             0.3,
             "#f1b6da"
            ],
            [
             0.4,
             "#fde0ef"
            ],
            [
             0.5,
             "#f7f7f7"
            ],
            [
             0.6,
             "#e6f5d0"
            ],
            [
             0.7,
             "#b8e186"
            ],
            [
             0.8,
             "#7fbc41"
            ],
            [
             0.9,
             "#4d9221"
            ],
            [
             1,
             "#276419"
            ]
           ],
           "sequential": [
            [
             0,
             "#0d0887"
            ],
            [
             0.1111111111111111,
             "#46039f"
            ],
            [
             0.2222222222222222,
             "#7201a8"
            ],
            [
             0.3333333333333333,
             "#9c179e"
            ],
            [
             0.4444444444444444,
             "#bd3786"
            ],
            [
             0.5555555555555556,
             "#d8576b"
            ],
            [
             0.6666666666666666,
             "#ed7953"
            ],
            [
             0.7777777777777778,
             "#fb9f3a"
            ],
            [
             0.8888888888888888,
             "#fdca26"
            ],
            [
             1,
             "#f0f921"
            ]
           ],
           "sequentialminus": [
            [
             0,
             "#0d0887"
            ],
            [
             0.1111111111111111,
             "#46039f"
            ],
            [
             0.2222222222222222,
             "#7201a8"
            ],
            [
             0.3333333333333333,
             "#9c179e"
            ],
            [
             0.4444444444444444,
             "#bd3786"
            ],
            [
             0.5555555555555556,
             "#d8576b"
            ],
            [
             0.6666666666666666,
             "#ed7953"
            ],
            [
             0.7777777777777778,
             "#fb9f3a"
            ],
            [
             0.8888888888888888,
             "#fdca26"
            ],
            [
             1,
             "#f0f921"
            ]
           ]
          },
          "colorway": [
           "#636efa",
           "#EF553B",
           "#00cc96",
           "#ab63fa",
           "#FFA15A",
           "#19d3f3",
           "#FF6692",
           "#B6E880",
           "#FF97FF",
           "#FECB52"
          ],
          "font": {
           "color": "#2a3f5f"
          },
          "geo": {
           "bgcolor": "white",
           "lakecolor": "white",
           "landcolor": "#E5ECF6",
           "showlakes": true,
           "showland": true,
           "subunitcolor": "white"
          },
          "hoverlabel": {
           "align": "left"
          },
          "hovermode": "closest",
          "mapbox": {
           "style": "light"
          },
          "paper_bgcolor": "white",
          "plot_bgcolor": "#E5ECF6",
          "polar": {
           "angularaxis": {
            "gridcolor": "white",
            "linecolor": "white",
            "ticks": ""
           },
           "bgcolor": "#E5ECF6",
           "radialaxis": {
            "gridcolor": "white",
            "linecolor": "white",
            "ticks": ""
           }
          },
          "scene": {
           "xaxis": {
            "backgroundcolor": "#E5ECF6",
            "gridcolor": "white",
            "gridwidth": 2,
            "linecolor": "white",
            "showbackground": true,
            "ticks": "",
            "zerolinecolor": "white"
           },
           "yaxis": {
            "backgroundcolor": "#E5ECF6",
            "gridcolor": "white",
            "gridwidth": 2,
            "linecolor": "white",
            "showbackground": true,
            "ticks": "",
            "zerolinecolor": "white"
           },
           "zaxis": {
            "backgroundcolor": "#E5ECF6",
            "gridcolor": "white",
            "gridwidth": 2,
            "linecolor": "white",
            "showbackground": true,
            "ticks": "",
            "zerolinecolor": "white"
           }
          },
          "shapedefaults": {
           "line": {
            "color": "#2a3f5f"
           }
          },
          "ternary": {
           "aaxis": {
            "gridcolor": "white",
            "linecolor": "white",
            "ticks": ""
           },
           "baxis": {
            "gridcolor": "white",
            "linecolor": "white",
            "ticks": ""
           },
           "bgcolor": "#E5ECF6",
           "caxis": {
            "gridcolor": "white",
            "linecolor": "white",
            "ticks": ""
           }
          },
          "title": {
           "x": 0.05
          },
          "xaxis": {
           "automargin": true,
           "gridcolor": "white",
           "linecolor": "white",
           "ticks": "",
           "title": {
            "standoff": 15
           },
           "zerolinecolor": "white",
           "zerolinewidth": 2
          },
          "yaxis": {
           "automargin": true,
           "gridcolor": "white",
           "linecolor": "white",
           "ticks": "",
           "title": {
            "standoff": 15
           },
           "zerolinecolor": "white",
           "zerolinewidth": 2
          }
         }
        },
        "title": {
         "text": "adobe-mu1gamma9",
         "x": 0.5
        },
        "width": 650,
        "xaxis": {
         "range": [
          0,
          222.06111
         ],
         "title": {
          "text": "Time (s)"
         }
        },
        "yaxis": {
         "title": {
          "text": "Salience"
         }
        }
       }
      }
     },
     "metadata": {},
     "output_type": "display_data"
    },
    {
     "data": {
      "application/vnd.plotly.v1+json": {
       "config": {
        "plotlyServerURL": "https://plot.ly"
       },
       "data": [
        {
         "hovertemplate": "<b>Boundary</b><br>Time: %{x:.3f}s<br>Salience: %{y:.3f}<extra></extra>",
         "line": {
          "color": "#666",
          "width": 1
         },
         "mode": "lines",
         "type": "scatter",
         "x": [
          8.54,
          8.54,
          null,
          11.06,
          11.06,
          null,
          13.61,
          13.61,
          null,
          16.16,
          16.16,
          null,
          32.75,
          32.75,
          null,
          54.6,
          54.6,
          null,
          62.31,
          62.31,
          null,
          75.15,
          75.15,
          null,
          93.14,
          93.14,
          null,
          104.14,
          104.14,
          null,
          109.28,
          109.28,
          null,
          111.83,
          111.83,
          null,
          117.6,
          117.6,
          null,
          152.97,
          152.97,
          null,
          159.92,
          159.92,
          null,
          169.52,
          169.52,
          null,
          191.31,
          191.31,
          null
         ],
         "y": [
          0,
          10,
          null,
          0,
          9,
          null,
          0,
          7,
          null,
          0,
          2,
          null,
          0,
          6,
          null,
          0,
          4,
          null,
          0,
          6,
          null,
          0,
          6,
          null,
          0,
          9,
          null,
          0,
          11,
          null,
          0,
          1,
          null,
          0,
          8,
          null,
          0,
          1,
          null,
          0,
          11,
          null,
          0,
          4,
          null,
          0,
          6,
          null,
          0,
          11,
          null
         ]
        }
       ],
       "layout": {
        "height": 300,
        "margin": {
         "b": 20,
         "l": 20,
         "r": 20,
         "t": 40
        },
        "shapes": [
         {
          "line": {
           "color": "#666",
           "width": 1
          },
          "opacity": 0.8,
          "type": "line",
          "x0": 0,
          "x1": 1,
          "xref": "x domain",
          "y0": 0,
          "y1": 0,
          "yref": "y"
         }
        ],
        "showlegend": false,
        "template": {
         "data": {
          "bar": [
           {
            "error_x": {
             "color": "#2a3f5f"
            },
            "error_y": {
             "color": "#2a3f5f"
            },
            "marker": {
             "line": {
              "color": "#E5ECF6",
              "width": 0.5
             },
             "pattern": {
              "fillmode": "overlay",
              "size": 10,
              "solidity": 0.2
             }
            },
            "type": "bar"
           }
          ],
          "barpolar": [
           {
            "marker": {
             "line": {
              "color": "#E5ECF6",
              "width": 0.5
             },
             "pattern": {
              "fillmode": "overlay",
              "size": 10,
              "solidity": 0.2
             }
            },
            "type": "barpolar"
           }
          ],
          "carpet": [
           {
            "aaxis": {
             "endlinecolor": "#2a3f5f",
             "gridcolor": "white",
             "linecolor": "white",
             "minorgridcolor": "white",
             "startlinecolor": "#2a3f5f"
            },
            "baxis": {
             "endlinecolor": "#2a3f5f",
             "gridcolor": "white",
             "linecolor": "white",
             "minorgridcolor": "white",
             "startlinecolor": "#2a3f5f"
            },
            "type": "carpet"
           }
          ],
          "choropleth": [
           {
            "colorbar": {
             "outlinewidth": 0,
             "ticks": ""
            },
            "type": "choropleth"
           }
          ],
          "contour": [
           {
            "colorbar": {
             "outlinewidth": 0,
             "ticks": ""
            },
            "colorscale": [
             [
              0,
              "#0d0887"
             ],
             [
              0.1111111111111111,
              "#46039f"
             ],
             [
              0.2222222222222222,
              "#7201a8"
             ],
             [
              0.3333333333333333,
              "#9c179e"
             ],
             [
              0.4444444444444444,
              "#bd3786"
             ],
             [
              0.5555555555555556,
              "#d8576b"
             ],
             [
              0.6666666666666666,
              "#ed7953"
             ],
             [
              0.7777777777777778,
              "#fb9f3a"
             ],
             [
              0.8888888888888888,
              "#fdca26"
             ],
             [
              1,
              "#f0f921"
             ]
            ],
            "type": "contour"
           }
          ],
          "contourcarpet": [
           {
            "colorbar": {
             "outlinewidth": 0,
             "ticks": ""
            },
            "type": "contourcarpet"
           }
          ],
          "heatmap": [
           {
            "colorbar": {
             "outlinewidth": 0,
             "ticks": ""
            },
            "colorscale": [
             [
              0,
              "#0d0887"
             ],
             [
              0.1111111111111111,
              "#46039f"
             ],
             [
              0.2222222222222222,
              "#7201a8"
             ],
             [
              0.3333333333333333,
              "#9c179e"
             ],
             [
              0.4444444444444444,
              "#bd3786"
             ],
             [
              0.5555555555555556,
              "#d8576b"
             ],
             [
              0.6666666666666666,
              "#ed7953"
             ],
             [
              0.7777777777777778,
              "#fb9f3a"
             ],
             [
              0.8888888888888888,
              "#fdca26"
             ],
             [
              1,
              "#f0f921"
             ]
            ],
            "type": "heatmap"
           }
          ],
          "histogram": [
           {
            "marker": {
             "pattern": {
              "fillmode": "overlay",
              "size": 10,
              "solidity": 0.2
             }
            },
            "type": "histogram"
           }
          ],
          "histogram2d": [
           {
            "colorbar": {
             "outlinewidth": 0,
             "ticks": ""
            },
            "colorscale": [
             [
              0,
              "#0d0887"
             ],
             [
              0.1111111111111111,
              "#46039f"
             ],
             [
              0.2222222222222222,
              "#7201a8"
             ],
             [
              0.3333333333333333,
              "#9c179e"
             ],
             [
              0.4444444444444444,
              "#bd3786"
             ],
             [
              0.5555555555555556,
              "#d8576b"
             ],
             [
              0.6666666666666666,
              "#ed7953"
             ],
             [
              0.7777777777777778,
              "#fb9f3a"
             ],
             [
              0.8888888888888888,
              "#fdca26"
             ],
             [
              1,
              "#f0f921"
             ]
            ],
            "type": "histogram2d"
           }
          ],
          "histogram2dcontour": [
           {
            "colorbar": {
             "outlinewidth": 0,
             "ticks": ""
            },
            "colorscale": [
             [
              0,
              "#0d0887"
             ],
             [
              0.1111111111111111,
              "#46039f"
             ],
             [
              0.2222222222222222,
              "#7201a8"
             ],
             [
              0.3333333333333333,
              "#9c179e"
             ],
             [
              0.4444444444444444,
              "#bd3786"
             ],
             [
              0.5555555555555556,
              "#d8576b"
             ],
             [
              0.6666666666666666,
              "#ed7953"
             ],
             [
              0.7777777777777778,
              "#fb9f3a"
             ],
             [
              0.8888888888888888,
              "#fdca26"
             ],
             [
              1,
              "#f0f921"
             ]
            ],
            "type": "histogram2dcontour"
           }
          ],
          "mesh3d": [
           {
            "colorbar": {
             "outlinewidth": 0,
             "ticks": ""
            },
            "type": "mesh3d"
           }
          ],
          "parcoords": [
           {
            "line": {
             "colorbar": {
              "outlinewidth": 0,
              "ticks": ""
             }
            },
            "type": "parcoords"
           }
          ],
          "pie": [
           {
            "automargin": true,
            "type": "pie"
           }
          ],
          "scatter": [
           {
            "fillpattern": {
             "fillmode": "overlay",
             "size": 10,
             "solidity": 0.2
            },
            "type": "scatter"
           }
          ],
          "scatter3d": [
           {
            "line": {
             "colorbar": {
              "outlinewidth": 0,
              "ticks": ""
             }
            },
            "marker": {
             "colorbar": {
              "outlinewidth": 0,
              "ticks": ""
             }
            },
            "type": "scatter3d"
           }
          ],
          "scattercarpet": [
           {
            "marker": {
             "colorbar": {
              "outlinewidth": 0,
              "ticks": ""
             }
            },
            "type": "scattercarpet"
           }
          ],
          "scattergeo": [
           {
            "marker": {
             "colorbar": {
              "outlinewidth": 0,
              "ticks": ""
             }
            },
            "type": "scattergeo"
           }
          ],
          "scattergl": [
           {
            "marker": {
             "colorbar": {
              "outlinewidth": 0,
              "ticks": ""
             }
            },
            "type": "scattergl"
           }
          ],
          "scattermap": [
           {
            "marker": {
             "colorbar": {
              "outlinewidth": 0,
              "ticks": ""
             }
            },
            "type": "scattermap"
           }
          ],
          "scattermapbox": [
           {
            "marker": {
             "colorbar": {
              "outlinewidth": 0,
              "ticks": ""
             }
            },
            "type": "scattermapbox"
           }
          ],
          "scatterpolar": [
           {
            "marker": {
             "colorbar": {
              "outlinewidth": 0,
              "ticks": ""
             }
            },
            "type": "scatterpolar"
           }
          ],
          "scatterpolargl": [
           {
            "marker": {
             "colorbar": {
              "outlinewidth": 0,
              "ticks": ""
             }
            },
            "type": "scatterpolargl"
           }
          ],
          "scatterternary": [
           {
            "marker": {
             "colorbar": {
              "outlinewidth": 0,
              "ticks": ""
             }
            },
            "type": "scatterternary"
           }
          ],
          "surface": [
           {
            "colorbar": {
             "outlinewidth": 0,
             "ticks": ""
            },
            "colorscale": [
             [
              0,
              "#0d0887"
             ],
             [
              0.1111111111111111,
              "#46039f"
             ],
             [
              0.2222222222222222,
              "#7201a8"
             ],
             [
              0.3333333333333333,
              "#9c179e"
             ],
             [
              0.4444444444444444,
              "#bd3786"
             ],
             [
              0.5555555555555556,
              "#d8576b"
             ],
             [
              0.6666666666666666,
              "#ed7953"
             ],
             [
              0.7777777777777778,
              "#fb9f3a"
             ],
             [
              0.8888888888888888,
              "#fdca26"
             ],
             [
              1,
              "#f0f921"
             ]
            ],
            "type": "surface"
           }
          ],
          "table": [
           {
            "cells": {
             "fill": {
              "color": "#EBF0F8"
             },
             "line": {
              "color": "white"
             }
            },
            "header": {
             "fill": {
              "color": "#C8D4E3"
             },
             "line": {
              "color": "white"
             }
            },
            "type": "table"
           }
          ]
         },
         "layout": {
          "annotationdefaults": {
           "arrowcolor": "#2a3f5f",
           "arrowhead": 0,
           "arrowwidth": 1
          },
          "autotypenumbers": "strict",
          "coloraxis": {
           "colorbar": {
            "outlinewidth": 0,
            "ticks": ""
           }
          },
          "colorscale": {
           "diverging": [
            [
             0,
             "#8e0152"
            ],
            [
             0.1,
             "#c51b7d"
            ],
            [
             0.2,
             "#de77ae"
            ],
            [
             0.3,
             "#f1b6da"
            ],
            [
             0.4,
             "#fde0ef"
            ],
            [
             0.5,
             "#f7f7f7"
            ],
            [
             0.6,
             "#e6f5d0"
            ],
            [
             0.7,
             "#b8e186"
            ],
            [
             0.8,
             "#7fbc41"
            ],
            [
             0.9,
             "#4d9221"
            ],
            [
             1,
             "#276419"
            ]
           ],
           "sequential": [
            [
             0,
             "#0d0887"
            ],
            [
             0.1111111111111111,
             "#46039f"
            ],
            [
             0.2222222222222222,
             "#7201a8"
            ],
            [
             0.3333333333333333,
             "#9c179e"
            ],
            [
             0.4444444444444444,
             "#bd3786"
            ],
            [
             0.5555555555555556,
             "#d8576b"
            ],
            [
             0.6666666666666666,
             "#ed7953"
            ],
            [
             0.7777777777777778,
             "#fb9f3a"
            ],
            [
             0.8888888888888888,
             "#fdca26"
            ],
            [
             1,
             "#f0f921"
            ]
           ],
           "sequentialminus": [
            [
             0,
             "#0d0887"
            ],
            [
             0.1111111111111111,
             "#46039f"
            ],
            [
             0.2222222222222222,
             "#7201a8"
            ],
            [
             0.3333333333333333,
             "#9c179e"
            ],
            [
             0.4444444444444444,
             "#bd3786"
            ],
            [
             0.5555555555555556,
             "#d8576b"
            ],
            [
             0.6666666666666666,
             "#ed7953"
            ],
            [
             0.7777777777777778,
             "#fb9f3a"
            ],
            [
             0.8888888888888888,
             "#fdca26"
            ],
            [
             1,
             "#f0f921"
            ]
           ]
          },
          "colorway": [
           "#636efa",
           "#EF553B",
           "#00cc96",
           "#ab63fa",
           "#FFA15A",
           "#19d3f3",
           "#FF6692",
           "#B6E880",
           "#FF97FF",
           "#FECB52"
          ],
          "font": {
           "color": "#2a3f5f"
          },
          "geo": {
           "bgcolor": "white",
           "lakecolor": "white",
           "landcolor": "#E5ECF6",
           "showlakes": true,
           "showland": true,
           "subunitcolor": "white"
          },
          "hoverlabel": {
           "align": "left"
          },
          "hovermode": "closest",
          "mapbox": {
           "style": "light"
          },
          "paper_bgcolor": "white",
          "plot_bgcolor": "#E5ECF6",
          "polar": {
           "angularaxis": {
            "gridcolor": "white",
            "linecolor": "white",
            "ticks": ""
           },
           "bgcolor": "#E5ECF6",
           "radialaxis": {
            "gridcolor": "white",
            "linecolor": "white",
            "ticks": ""
           }
          },
          "scene": {
           "xaxis": {
            "backgroundcolor": "#E5ECF6",
            "gridcolor": "white",
            "gridwidth": 2,
            "linecolor": "white",
            "showbackground": true,
            "ticks": "",
            "zerolinecolor": "white"
           },
           "yaxis": {
            "backgroundcolor": "#E5ECF6",
            "gridcolor": "white",
            "gridwidth": 2,
            "linecolor": "white",
            "showbackground": true,
            "ticks": "",
            "zerolinecolor": "white"
           },
           "zaxis": {
            "backgroundcolor": "#E5ECF6",
            "gridcolor": "white",
            "gridwidth": 2,
            "linecolor": "white",
            "showbackground": true,
            "ticks": "",
            "zerolinecolor": "white"
           }
          },
          "shapedefaults": {
           "line": {
            "color": "#2a3f5f"
           }
          },
          "ternary": {
           "aaxis": {
            "gridcolor": "white",
            "linecolor": "white",
            "ticks": ""
           },
           "baxis": {
            "gridcolor": "white",
            "linecolor": "white",
            "ticks": ""
           },
           "bgcolor": "#E5ECF6",
           "caxis": {
            "gridcolor": "white",
            "linecolor": "white",
            "ticks": ""
           }
          },
          "title": {
           "x": 0.05
          },
          "xaxis": {
           "automargin": true,
           "gridcolor": "white",
           "linecolor": "white",
           "ticks": "",
           "title": {
            "standoff": 15
           },
           "zerolinecolor": "white",
           "zerolinewidth": 2
          },
          "yaxis": {
           "automargin": true,
           "gridcolor": "white",
           "linecolor": "white",
           "ticks": "",
           "title": {
            "standoff": 15
           },
           "zerolinecolor": "white",
           "zerolinewidth": 2
          }
         }
        },
        "title": {
         "text": "adobe-mu1gamma9",
         "x": 0.5
        },
        "width": 650,
        "xaxis": {
         "range": [
          0,
          222.06111
         ],
         "title": {
          "text": "Time (s)"
         }
        },
        "yaxis": {
         "title": {
          "text": "Salience"
         }
        }
       }
      }
     },
     "metadata": {},
     "output_type": "display_data"
    },
    {
     "data": {
      "application/vnd.plotly.v1+json": {
       "config": {
        "plotlyServerURL": "https://plot.ly"
       },
       "data": [
        {
         "hovertemplate": "<b>Boundary</b><br>Time: %{x:.3f}s<br>Salience: %{y:.3f}<extra></extra>",
         "line": {
          "color": "#666",
          "width": 1
         },
         "mode": "lines",
         "type": "scatter",
         "x": [
          9,
          9,
          null,
          13.1,
          13.1,
          null,
          32.5,
          32.5,
          null,
          54.9,
          54.9,
          null,
          62.3,
          62.3,
          null,
          74.9,
          74.9,
          null,
          93.8,
          93.8,
          null,
          104.1,
          104.1,
          null,
          111.8,
          111.8,
          null,
          117.6,
          117.6,
          null,
          153.3,
          153.3,
          null,
          159.5,
          159.5,
          null,
          169.5,
          169.5,
          null,
          190.7,
          190.7,
          null
         ],
         "y": [
          0,
          0.023172517129066362,
          null,
          0,
          0.02882258486037416,
          null,
          0,
          0.019790417524238973,
          null,
          0,
          0.012565271577337916,
          null,
          0,
          0.022962740349706287,
          null,
          0,
          0.019722082475515202,
          null,
          0,
          0.03357327811259497,
          null,
          0,
          0.04085121301005881,
          null,
          0,
          0.015197973913532743,
          null,
          0,
          0.0018907225998405653,
          null,
          0,
          0.03777102418713719,
          null,
          0,
          0.015095885553672053,
          null,
          0,
          0.01738560976158955,
          null,
          0,
          0.046265876638117154,
          null
         ]
        }
       ],
       "layout": {
        "height": 300,
        "margin": {
         "b": 20,
         "l": 20,
         "r": 20,
         "t": 40
        },
        "shapes": [
         {
          "line": {
           "color": "#666",
           "width": 1
          },
          "opacity": 0.8,
          "type": "line",
          "x0": 0,
          "x1": 1,
          "xref": "x domain",
          "y0": 0,
          "y1": 0,
          "yref": "y"
         }
        ],
        "showlegend": false,
        "template": {
         "data": {
          "bar": [
           {
            "error_x": {
             "color": "#2a3f5f"
            },
            "error_y": {
             "color": "#2a3f5f"
            },
            "marker": {
             "line": {
              "color": "#E5ECF6",
              "width": 0.5
             },
             "pattern": {
              "fillmode": "overlay",
              "size": 10,
              "solidity": 0.2
             }
            },
            "type": "bar"
           }
          ],
          "barpolar": [
           {
            "marker": {
             "line": {
              "color": "#E5ECF6",
              "width": 0.5
             },
             "pattern": {
              "fillmode": "overlay",
              "size": 10,
              "solidity": 0.2
             }
            },
            "type": "barpolar"
           }
          ],
          "carpet": [
           {
            "aaxis": {
             "endlinecolor": "#2a3f5f",
             "gridcolor": "white",
             "linecolor": "white",
             "minorgridcolor": "white",
             "startlinecolor": "#2a3f5f"
            },
            "baxis": {
             "endlinecolor": "#2a3f5f",
             "gridcolor": "white",
             "linecolor": "white",
             "minorgridcolor": "white",
             "startlinecolor": "#2a3f5f"
            },
            "type": "carpet"
           }
          ],
          "choropleth": [
           {
            "colorbar": {
             "outlinewidth": 0,
             "ticks": ""
            },
            "type": "choropleth"
           }
          ],
          "contour": [
           {
            "colorbar": {
             "outlinewidth": 0,
             "ticks": ""
            },
            "colorscale": [
             [
              0,
              "#0d0887"
             ],
             [
              0.1111111111111111,
              "#46039f"
             ],
             [
              0.2222222222222222,
              "#7201a8"
             ],
             [
              0.3333333333333333,
              "#9c179e"
             ],
             [
              0.4444444444444444,
              "#bd3786"
             ],
             [
              0.5555555555555556,
              "#d8576b"
             ],
             [
              0.6666666666666666,
              "#ed7953"
             ],
             [
              0.7777777777777778,
              "#fb9f3a"
             ],
             [
              0.8888888888888888,
              "#fdca26"
             ],
             [
              1,
              "#f0f921"
             ]
            ],
            "type": "contour"
           }
          ],
          "contourcarpet": [
           {
            "colorbar": {
             "outlinewidth": 0,
             "ticks": ""
            },
            "type": "contourcarpet"
           }
          ],
          "heatmap": [
           {
            "colorbar": {
             "outlinewidth": 0,
             "ticks": ""
            },
            "colorscale": [
             [
              0,
              "#0d0887"
             ],
             [
              0.1111111111111111,
              "#46039f"
             ],
             [
              0.2222222222222222,
              "#7201a8"
             ],
             [
              0.3333333333333333,
              "#9c179e"
             ],
             [
              0.4444444444444444,
              "#bd3786"
             ],
             [
              0.5555555555555556,
              "#d8576b"
             ],
             [
              0.6666666666666666,
              "#ed7953"
             ],
             [
              0.7777777777777778,
              "#fb9f3a"
             ],
             [
              0.8888888888888888,
              "#fdca26"
             ],
             [
              1,
              "#f0f921"
             ]
            ],
            "type": "heatmap"
           }
          ],
          "histogram": [
           {
            "marker": {
             "pattern": {
              "fillmode": "overlay",
              "size": 10,
              "solidity": 0.2
             }
            },
            "type": "histogram"
           }
          ],
          "histogram2d": [
           {
            "colorbar": {
             "outlinewidth": 0,
             "ticks": ""
            },
            "colorscale": [
             [
              0,
              "#0d0887"
             ],
             [
              0.1111111111111111,
              "#46039f"
             ],
             [
              0.2222222222222222,
              "#7201a8"
             ],
             [
              0.3333333333333333,
              "#9c179e"
             ],
             [
              0.4444444444444444,
              "#bd3786"
             ],
             [
              0.5555555555555556,
              "#d8576b"
             ],
             [
              0.6666666666666666,
              "#ed7953"
             ],
             [
              0.7777777777777778,
              "#fb9f3a"
             ],
             [
              0.8888888888888888,
              "#fdca26"
             ],
             [
              1,
              "#f0f921"
             ]
            ],
            "type": "histogram2d"
           }
          ],
          "histogram2dcontour": [
           {
            "colorbar": {
             "outlinewidth": 0,
             "ticks": ""
            },
            "colorscale": [
             [
              0,
              "#0d0887"
             ],
             [
              0.1111111111111111,
              "#46039f"
             ],
             [
              0.2222222222222222,
              "#7201a8"
             ],
             [
              0.3333333333333333,
              "#9c179e"
             ],
             [
              0.4444444444444444,
              "#bd3786"
             ],
             [
              0.5555555555555556,
              "#d8576b"
             ],
             [
              0.6666666666666666,
              "#ed7953"
             ],
             [
              0.7777777777777778,
              "#fb9f3a"
             ],
             [
              0.8888888888888888,
              "#fdca26"
             ],
             [
              1,
              "#f0f921"
             ]
            ],
            "type": "histogram2dcontour"
           }
          ],
          "mesh3d": [
           {
            "colorbar": {
             "outlinewidth": 0,
             "ticks": ""
            },
            "type": "mesh3d"
           }
          ],
          "parcoords": [
           {
            "line": {
             "colorbar": {
              "outlinewidth": 0,
              "ticks": ""
             }
            },
            "type": "parcoords"
           }
          ],
          "pie": [
           {
            "automargin": true,
            "type": "pie"
           }
          ],
          "scatter": [
           {
            "fillpattern": {
             "fillmode": "overlay",
             "size": 10,
             "solidity": 0.2
            },
            "type": "scatter"
           }
          ],
          "scatter3d": [
           {
            "line": {
             "colorbar": {
              "outlinewidth": 0,
              "ticks": ""
             }
            },
            "marker": {
             "colorbar": {
              "outlinewidth": 0,
              "ticks": ""
             }
            },
            "type": "scatter3d"
           }
          ],
          "scattercarpet": [
           {
            "marker": {
             "colorbar": {
              "outlinewidth": 0,
              "ticks": ""
             }
            },
            "type": "scattercarpet"
           }
          ],
          "scattergeo": [
           {
            "marker": {
             "colorbar": {
              "outlinewidth": 0,
              "ticks": ""
             }
            },
            "type": "scattergeo"
           }
          ],
          "scattergl": [
           {
            "marker": {
             "colorbar": {
              "outlinewidth": 0,
              "ticks": ""
             }
            },
            "type": "scattergl"
           }
          ],
          "scattermap": [
           {
            "marker": {
             "colorbar": {
              "outlinewidth": 0,
              "ticks": ""
             }
            },
            "type": "scattermap"
           }
          ],
          "scattermapbox": [
           {
            "marker": {
             "colorbar": {
              "outlinewidth": 0,
              "ticks": ""
             }
            },
            "type": "scattermapbox"
           }
          ],
          "scatterpolar": [
           {
            "marker": {
             "colorbar": {
              "outlinewidth": 0,
              "ticks": ""
             }
            },
            "type": "scatterpolar"
           }
          ],
          "scatterpolargl": [
           {
            "marker": {
             "colorbar": {
              "outlinewidth": 0,
              "ticks": ""
             }
            },
            "type": "scatterpolargl"
           }
          ],
          "scatterternary": [
           {
            "marker": {
             "colorbar": {
              "outlinewidth": 0,
              "ticks": ""
             }
            },
            "type": "scatterternary"
           }
          ],
          "surface": [
           {
            "colorbar": {
             "outlinewidth": 0,
             "ticks": ""
            },
            "colorscale": [
             [
              0,
              "#0d0887"
             ],
             [
              0.1111111111111111,
              "#46039f"
             ],
             [
              0.2222222222222222,
              "#7201a8"
             ],
             [
              0.3333333333333333,
              "#9c179e"
             ],
             [
              0.4444444444444444,
              "#bd3786"
             ],
             [
              0.5555555555555556,
              "#d8576b"
             ],
             [
              0.6666666666666666,
              "#ed7953"
             ],
             [
              0.7777777777777778,
              "#fb9f3a"
             ],
             [
              0.8888888888888888,
              "#fdca26"
             ],
             [
              1,
              "#f0f921"
             ]
            ],
            "type": "surface"
           }
          ],
          "table": [
           {
            "cells": {
             "fill": {
              "color": "#EBF0F8"
             },
             "line": {
              "color": "white"
             }
            },
            "header": {
             "fill": {
              "color": "#C8D4E3"
             },
             "line": {
              "color": "white"
             }
            },
            "type": "table"
           }
          ]
         },
         "layout": {
          "annotationdefaults": {
           "arrowcolor": "#2a3f5f",
           "arrowhead": 0,
           "arrowwidth": 1
          },
          "autotypenumbers": "strict",
          "coloraxis": {
           "colorbar": {
            "outlinewidth": 0,
            "ticks": ""
           }
          },
          "colorscale": {
           "diverging": [
            [
             0,
             "#8e0152"
            ],
            [
             0.1,
             "#c51b7d"
            ],
            [
             0.2,
             "#de77ae"
            ],
            [
             0.3,
             "#f1b6da"
            ],
            [
             0.4,
             "#fde0ef"
            ],
            [
             0.5,
             "#f7f7f7"
            ],
            [
             0.6,
             "#e6f5d0"
            ],
            [
             0.7,
             "#b8e186"
            ],
            [
             0.8,
             "#7fbc41"
            ],
            [
             0.9,
             "#4d9221"
            ],
            [
             1,
             "#276419"
            ]
           ],
           "sequential": [
            [
             0,
             "#0d0887"
            ],
            [
             0.1111111111111111,
             "#46039f"
            ],
            [
             0.2222222222222222,
             "#7201a8"
            ],
            [
             0.3333333333333333,
             "#9c179e"
            ],
            [
             0.4444444444444444,
             "#bd3786"
            ],
            [
             0.5555555555555556,
             "#d8576b"
            ],
            [
             0.6666666666666666,
             "#ed7953"
            ],
            [
             0.7777777777777778,
             "#fb9f3a"
            ],
            [
             0.8888888888888888,
             "#fdca26"
            ],
            [
             1,
             "#f0f921"
            ]
           ],
           "sequentialminus": [
            [
             0,
             "#0d0887"
            ],
            [
             0.1111111111111111,
             "#46039f"
            ],
            [
             0.2222222222222222,
             "#7201a8"
            ],
            [
             0.3333333333333333,
             "#9c179e"
            ],
            [
             0.4444444444444444,
             "#bd3786"
            ],
            [
             0.5555555555555556,
             "#d8576b"
            ],
            [
             0.6666666666666666,
             "#ed7953"
            ],
            [
             0.7777777777777778,
             "#fb9f3a"
            ],
            [
             0.8888888888888888,
             "#fdca26"
            ],
            [
             1,
             "#f0f921"
            ]
           ]
          },
          "colorway": [
           "#636efa",
           "#EF553B",
           "#00cc96",
           "#ab63fa",
           "#FFA15A",
           "#19d3f3",
           "#FF6692",
           "#B6E880",
           "#FF97FF",
           "#FECB52"
          ],
          "font": {
           "color": "#2a3f5f"
          },
          "geo": {
           "bgcolor": "white",
           "lakecolor": "white",
           "landcolor": "#E5ECF6",
           "showlakes": true,
           "showland": true,
           "subunitcolor": "white"
          },
          "hoverlabel": {
           "align": "left"
          },
          "hovermode": "closest",
          "mapbox": {
           "style": "light"
          },
          "paper_bgcolor": "white",
          "plot_bgcolor": "#E5ECF6",
          "polar": {
           "angularaxis": {
            "gridcolor": "white",
            "linecolor": "white",
            "ticks": ""
           },
           "bgcolor": "#E5ECF6",
           "radialaxis": {
            "gridcolor": "white",
            "linecolor": "white",
            "ticks": ""
           }
          },
          "scene": {
           "xaxis": {
            "backgroundcolor": "#E5ECF6",
            "gridcolor": "white",
            "gridwidth": 2,
            "linecolor": "white",
            "showbackground": true,
            "ticks": "",
            "zerolinecolor": "white"
           },
           "yaxis": {
            "backgroundcolor": "#E5ECF6",
            "gridcolor": "white",
            "gridwidth": 2,
            "linecolor": "white",
            "showbackground": true,
            "ticks": "",
            "zerolinecolor": "white"
           },
           "zaxis": {
            "backgroundcolor": "#E5ECF6",
            "gridcolor": "white",
            "gridwidth": 2,
            "linecolor": "white",
            "showbackground": true,
            "ticks": "",
            "zerolinecolor": "white"
           }
          },
          "shapedefaults": {
           "line": {
            "color": "#2a3f5f"
           }
          },
          "ternary": {
           "aaxis": {
            "gridcolor": "white",
            "linecolor": "white",
            "ticks": ""
           },
           "baxis": {
            "gridcolor": "white",
            "linecolor": "white",
            "ticks": ""
           },
           "bgcolor": "#E5ECF6",
           "caxis": {
            "gridcolor": "white",
            "linecolor": "white",
            "ticks": ""
           }
          },
          "title": {
           "x": 0.05
          },
          "xaxis": {
           "automargin": true,
           "gridcolor": "white",
           "linecolor": "white",
           "ticks": "",
           "title": {
            "standoff": 15
           },
           "zerolinecolor": "white",
           "zerolinewidth": 2
          },
          "yaxis": {
           "automargin": true,
           "gridcolor": "white",
           "linecolor": "white",
           "ticks": "",
           "title": {
            "standoff": 15
           },
           "zerolinecolor": "white",
           "zerolinewidth": 2
          }
         }
        },
        "title": {
         "text": "adobe-mu1gamma9",
         "x": 0.5
        },
        "width": 650,
        "xaxis": {
         "range": [
          0,
          222.06111
         ],
         "title": {
          "text": "Time (s)"
         }
        },
        "yaxis": {
         "title": {
          "text": "Salience"
         }
        }
       }
      }
     },
     "metadata": {},
     "output_type": "display_data"
    }
   ],
   "source": [
    "# Let's see if we can see the effect of cleaning up boundaries at all\n",
    "est_contour_depth.plot().show()\n",
    "est_contour_depth.clean('absorb', window=2).plot().show()\n",
    "est_contour_depth.clean('kde', bw=1).plot().show()"
   ]
  },
  {
   "cell_type": "code",
   "execution_count": 25,
   "id": "c63c5a58",
   "metadata": {},
   "outputs": [
    {
     "data": {
      "application/vnd.plotly.v1+json": {
       "config": {
        "plotlyServerURL": "https://plot.ly"
       },
       "data": [
        {
         "hovertemplate": "<b>Boundary</b><br>Time: %{x:.3f}s<br>Salience: %{y:.3f}<extra></extra>",
         "line": {
          "color": "#666",
          "width": 1
         },
         "mode": "lines",
         "type": "scatter",
         "x": [
          8.54,
          8.54,
          null,
          9.8,
          9.8,
          null,
          11.06,
          11.06,
          null,
          12.98,
          12.98,
          null,
          13.61,
          13.61,
          null,
          16.16,
          16.16,
          null,
          32.12,
          32.12,
          null,
          32.75,
          32.75,
          null,
          54.6,
          54.6,
          null,
          55.25,
          55.25,
          null,
          61.67,
          61.67,
          null,
          62.31,
          62.31,
          null,
          63.59,
          63.59,
          null,
          64.24,
          64.24,
          null,
          74.5,
          74.5,
          null,
          75.15,
          75.15,
          null,
          93.14,
          93.14,
          null,
          93.81,
          93.81,
          null,
          94.44,
          94.44,
          null,
          103.47,
          103.47,
          null,
          104.14,
          104.14,
          null,
          104.77,
          104.77,
          null,
          105.4,
          105.4,
          null,
          109.28,
          109.28,
          null,
          111.83,
          111.83,
          null,
          117.6,
          117.6,
          null,
          152.97,
          152.97,
          null,
          153.6,
          153.6,
          null,
          158.65,
          158.65,
          null,
          159.28,
          159.28,
          null,
          159.92,
          159.92,
          null,
          168.89,
          168.89,
          null,
          169.52,
          169.52,
          null,
          170.82,
          170.82,
          null,
          171.47,
          171.47,
          null,
          190.02,
          190.02,
          null,
          190.65,
          190.65,
          null,
          191.31,
          191.31,
          null
         ],
         "y": [
          0,
          1,
          null,
          0,
          1,
          null,
          0,
          1,
          null,
          0,
          3,
          null,
          0,
          2,
          null,
          0,
          2,
          null,
          0,
          5,
          null,
          0,
          1,
          null,
          0,
          3,
          null,
          0,
          1,
          null,
          0,
          1,
          null,
          0,
          1,
          null,
          0,
          2,
          null,
          0,
          2,
          null,
          0,
          4,
          null,
          0,
          2,
          null,
          0,
          4,
          null,
          0,
          2,
          null,
          0,
          3,
          null,
          0,
          3,
          null,
          0,
          4,
          null,
          0,
          2,
          null,
          0,
          1,
          null,
          0,
          1,
          null,
          0,
          3,
          null,
          0,
          1,
          null,
          0,
          4,
          null,
          0,
          4,
          null,
          0,
          1,
          null,
          0,
          1,
          null,
          0,
          1,
          null,
          0,
          1,
          null,
          0,
          3,
          null,
          0,
          1,
          null,
          0,
          1,
          null,
          0,
          2,
          null,
          0,
          3,
          null,
          0,
          6,
          null
         ]
        }
       ],
       "layout": {
        "height": 300,
        "margin": {
         "b": 20,
         "l": 20,
         "r": 20,
         "t": 40
        },
        "shapes": [
         {
          "line": {
           "color": "#666",
           "width": 1
          },
          "opacity": 0.8,
          "type": "line",
          "x0": 0,
          "x1": 1,
          "xref": "x domain",
          "y0": 0,
          "y1": 0,
          "yref": "y"
         }
        ],
        "showlegend": false,
        "template": {
         "data": {
          "bar": [
           {
            "error_x": {
             "color": "#2a3f5f"
            },
            "error_y": {
             "color": "#2a3f5f"
            },
            "marker": {
             "line": {
              "color": "#E5ECF6",
              "width": 0.5
             },
             "pattern": {
              "fillmode": "overlay",
              "size": 10,
              "solidity": 0.2
             }
            },
            "type": "bar"
           }
          ],
          "barpolar": [
           {
            "marker": {
             "line": {
              "color": "#E5ECF6",
              "width": 0.5
             },
             "pattern": {
              "fillmode": "overlay",
              "size": 10,
              "solidity": 0.2
             }
            },
            "type": "barpolar"
           }
          ],
          "carpet": [
           {
            "aaxis": {
             "endlinecolor": "#2a3f5f",
             "gridcolor": "white",
             "linecolor": "white",
             "minorgridcolor": "white",
             "startlinecolor": "#2a3f5f"
            },
            "baxis": {
             "endlinecolor": "#2a3f5f",
             "gridcolor": "white",
             "linecolor": "white",
             "minorgridcolor": "white",
             "startlinecolor": "#2a3f5f"
            },
            "type": "carpet"
           }
          ],
          "choropleth": [
           {
            "colorbar": {
             "outlinewidth": 0,
             "ticks": ""
            },
            "type": "choropleth"
           }
          ],
          "contour": [
           {
            "colorbar": {
             "outlinewidth": 0,
             "ticks": ""
            },
            "colorscale": [
             [
              0,
              "#0d0887"
             ],
             [
              0.1111111111111111,
              "#46039f"
             ],
             [
              0.2222222222222222,
              "#7201a8"
             ],
             [
              0.3333333333333333,
              "#9c179e"
             ],
             [
              0.4444444444444444,
              "#bd3786"
             ],
             [
              0.5555555555555556,
              "#d8576b"
             ],
             [
              0.6666666666666666,
              "#ed7953"
             ],
             [
              0.7777777777777778,
              "#fb9f3a"
             ],
             [
              0.8888888888888888,
              "#fdca26"
             ],
             [
              1,
              "#f0f921"
             ]
            ],
            "type": "contour"
           }
          ],
          "contourcarpet": [
           {
            "colorbar": {
             "outlinewidth": 0,
             "ticks": ""
            },
            "type": "contourcarpet"
           }
          ],
          "heatmap": [
           {
            "colorbar": {
             "outlinewidth": 0,
             "ticks": ""
            },
            "colorscale": [
             [
              0,
              "#0d0887"
             ],
             [
              0.1111111111111111,
              "#46039f"
             ],
             [
              0.2222222222222222,
              "#7201a8"
             ],
             [
              0.3333333333333333,
              "#9c179e"
             ],
             [
              0.4444444444444444,
              "#bd3786"
             ],
             [
              0.5555555555555556,
              "#d8576b"
             ],
             [
              0.6666666666666666,
              "#ed7953"
             ],
             [
              0.7777777777777778,
              "#fb9f3a"
             ],
             [
              0.8888888888888888,
              "#fdca26"
             ],
             [
              1,
              "#f0f921"
             ]
            ],
            "type": "heatmap"
           }
          ],
          "histogram": [
           {
            "marker": {
             "pattern": {
              "fillmode": "overlay",
              "size": 10,
              "solidity": 0.2
             }
            },
            "type": "histogram"
           }
          ],
          "histogram2d": [
           {
            "colorbar": {
             "outlinewidth": 0,
             "ticks": ""
            },
            "colorscale": [
             [
              0,
              "#0d0887"
             ],
             [
              0.1111111111111111,
              "#46039f"
             ],
             [
              0.2222222222222222,
              "#7201a8"
             ],
             [
              0.3333333333333333,
              "#9c179e"
             ],
             [
              0.4444444444444444,
              "#bd3786"
             ],
             [
              0.5555555555555556,
              "#d8576b"
             ],
             [
              0.6666666666666666,
              "#ed7953"
             ],
             [
              0.7777777777777778,
              "#fb9f3a"
             ],
             [
              0.8888888888888888,
              "#fdca26"
             ],
             [
              1,
              "#f0f921"
             ]
            ],
            "type": "histogram2d"
           }
          ],
          "histogram2dcontour": [
           {
            "colorbar": {
             "outlinewidth": 0,
             "ticks": ""
            },
            "colorscale": [
             [
              0,
              "#0d0887"
             ],
             [
              0.1111111111111111,
              "#46039f"
             ],
             [
              0.2222222222222222,
              "#7201a8"
             ],
             [
              0.3333333333333333,
              "#9c179e"
             ],
             [
              0.4444444444444444,
              "#bd3786"
             ],
             [
              0.5555555555555556,
              "#d8576b"
             ],
             [
              0.6666666666666666,
              "#ed7953"
             ],
             [
              0.7777777777777778,
              "#fb9f3a"
             ],
             [
              0.8888888888888888,
              "#fdca26"
             ],
             [
              1,
              "#f0f921"
             ]
            ],
            "type": "histogram2dcontour"
           }
          ],
          "mesh3d": [
           {
            "colorbar": {
             "outlinewidth": 0,
             "ticks": ""
            },
            "type": "mesh3d"
           }
          ],
          "parcoords": [
           {
            "line": {
             "colorbar": {
              "outlinewidth": 0,
              "ticks": ""
             }
            },
            "type": "parcoords"
           }
          ],
          "pie": [
           {
            "automargin": true,
            "type": "pie"
           }
          ],
          "scatter": [
           {
            "fillpattern": {
             "fillmode": "overlay",
             "size": 10,
             "solidity": 0.2
            },
            "type": "scatter"
           }
          ],
          "scatter3d": [
           {
            "line": {
             "colorbar": {
              "outlinewidth": 0,
              "ticks": ""
             }
            },
            "marker": {
             "colorbar": {
              "outlinewidth": 0,
              "ticks": ""
             }
            },
            "type": "scatter3d"
           }
          ],
          "scattercarpet": [
           {
            "marker": {
             "colorbar": {
              "outlinewidth": 0,
              "ticks": ""
             }
            },
            "type": "scattercarpet"
           }
          ],
          "scattergeo": [
           {
            "marker": {
             "colorbar": {
              "outlinewidth": 0,
              "ticks": ""
             }
            },
            "type": "scattergeo"
           }
          ],
          "scattergl": [
           {
            "marker": {
             "colorbar": {
              "outlinewidth": 0,
              "ticks": ""
             }
            },
            "type": "scattergl"
           }
          ],
          "scattermap": [
           {
            "marker": {
             "colorbar": {
              "outlinewidth": 0,
              "ticks": ""
             }
            },
            "type": "scattermap"
           }
          ],
          "scattermapbox": [
           {
            "marker": {
             "colorbar": {
              "outlinewidth": 0,
              "ticks": ""
             }
            },
            "type": "scattermapbox"
           }
          ],
          "scatterpolar": [
           {
            "marker": {
             "colorbar": {
              "outlinewidth": 0,
              "ticks": ""
             }
            },
            "type": "scatterpolar"
           }
          ],
          "scatterpolargl": [
           {
            "marker": {
             "colorbar": {
              "outlinewidth": 0,
              "ticks": ""
             }
            },
            "type": "scatterpolargl"
           }
          ],
          "scatterternary": [
           {
            "marker": {
             "colorbar": {
              "outlinewidth": 0,
              "ticks": ""
             }
            },
            "type": "scatterternary"
           }
          ],
          "surface": [
           {
            "colorbar": {
             "outlinewidth": 0,
             "ticks": ""
            },
            "colorscale": [
             [
              0,
              "#0d0887"
             ],
             [
              0.1111111111111111,
              "#46039f"
             ],
             [
              0.2222222222222222,
              "#7201a8"
             ],
             [
              0.3333333333333333,
              "#9c179e"
             ],
             [
              0.4444444444444444,
              "#bd3786"
             ],
             [
              0.5555555555555556,
              "#d8576b"
             ],
             [
              0.6666666666666666,
              "#ed7953"
             ],
             [
              0.7777777777777778,
              "#fb9f3a"
             ],
             [
              0.8888888888888888,
              "#fdca26"
             ],
             [
              1,
              "#f0f921"
             ]
            ],
            "type": "surface"
           }
          ],
          "table": [
           {
            "cells": {
             "fill": {
              "color": "#EBF0F8"
             },
             "line": {
              "color": "white"
             }
            },
            "header": {
             "fill": {
              "color": "#C8D4E3"
             },
             "line": {
              "color": "white"
             }
            },
            "type": "table"
           }
          ]
         },
         "layout": {
          "annotationdefaults": {
           "arrowcolor": "#2a3f5f",
           "arrowhead": 0,
           "arrowwidth": 1
          },
          "autotypenumbers": "strict",
          "coloraxis": {
           "colorbar": {
            "outlinewidth": 0,
            "ticks": ""
           }
          },
          "colorscale": {
           "diverging": [
            [
             0,
             "#8e0152"
            ],
            [
             0.1,
             "#c51b7d"
            ],
            [
             0.2,
             "#de77ae"
            ],
            [
             0.3,
             "#f1b6da"
            ],
            [
             0.4,
             "#fde0ef"
            ],
            [
             0.5,
             "#f7f7f7"
            ],
            [
             0.6,
             "#e6f5d0"
            ],
            [
             0.7,
             "#b8e186"
            ],
            [
             0.8,
             "#7fbc41"
            ],
            [
             0.9,
             "#4d9221"
            ],
            [
             1,
             "#276419"
            ]
           ],
           "sequential": [
            [
             0,
             "#0d0887"
            ],
            [
             0.1111111111111111,
             "#46039f"
            ],
            [
             0.2222222222222222,
             "#7201a8"
            ],
            [
             0.3333333333333333,
             "#9c179e"
            ],
            [
             0.4444444444444444,
             "#bd3786"
            ],
            [
             0.5555555555555556,
             "#d8576b"
            ],
            [
             0.6666666666666666,
             "#ed7953"
            ],
            [
             0.7777777777777778,
             "#fb9f3a"
            ],
            [
             0.8888888888888888,
             "#fdca26"
            ],
            [
             1,
             "#f0f921"
            ]
           ],
           "sequentialminus": [
            [
             0,
             "#0d0887"
            ],
            [
             0.1111111111111111,
             "#46039f"
            ],
            [
             0.2222222222222222,
             "#7201a8"
            ],
            [
             0.3333333333333333,
             "#9c179e"
            ],
            [
             0.4444444444444444,
             "#bd3786"
            ],
            [
             0.5555555555555556,
             "#d8576b"
            ],
            [
             0.6666666666666666,
             "#ed7953"
            ],
            [
             0.7777777777777778,
             "#fb9f3a"
            ],
            [
             0.8888888888888888,
             "#fdca26"
            ],
            [
             1,
             "#f0f921"
            ]
           ]
          },
          "colorway": [
           "#636efa",
           "#EF553B",
           "#00cc96",
           "#ab63fa",
           "#FFA15A",
           "#19d3f3",
           "#FF6692",
           "#B6E880",
           "#FF97FF",
           "#FECB52"
          ],
          "font": {
           "color": "#2a3f5f"
          },
          "geo": {
           "bgcolor": "white",
           "lakecolor": "white",
           "landcolor": "#E5ECF6",
           "showlakes": true,
           "showland": true,
           "subunitcolor": "white"
          },
          "hoverlabel": {
           "align": "left"
          },
          "hovermode": "closest",
          "mapbox": {
           "style": "light"
          },
          "paper_bgcolor": "white",
          "plot_bgcolor": "#E5ECF6",
          "polar": {
           "angularaxis": {
            "gridcolor": "white",
            "linecolor": "white",
            "ticks": ""
           },
           "bgcolor": "#E5ECF6",
           "radialaxis": {
            "gridcolor": "white",
            "linecolor": "white",
            "ticks": ""
           }
          },
          "scene": {
           "xaxis": {
            "backgroundcolor": "#E5ECF6",
            "gridcolor": "white",
            "gridwidth": 2,
            "linecolor": "white",
            "showbackground": true,
            "ticks": "",
            "zerolinecolor": "white"
           },
           "yaxis": {
            "backgroundcolor": "#E5ECF6",
            "gridcolor": "white",
            "gridwidth": 2,
            "linecolor": "white",
            "showbackground": true,
            "ticks": "",
            "zerolinecolor": "white"
           },
           "zaxis": {
            "backgroundcolor": "#E5ECF6",
            "gridcolor": "white",
            "gridwidth": 2,
            "linecolor": "white",
            "showbackground": true,
            "ticks": "",
            "zerolinecolor": "white"
           }
          },
          "shapedefaults": {
           "line": {
            "color": "#2a3f5f"
           }
          },
          "ternary": {
           "aaxis": {
            "gridcolor": "white",
            "linecolor": "white",
            "ticks": ""
           },
           "baxis": {
            "gridcolor": "white",
            "linecolor": "white",
            "ticks": ""
           },
           "bgcolor": "#E5ECF6",
           "caxis": {
            "gridcolor": "white",
            "linecolor": "white",
            "ticks": ""
           }
          },
          "title": {
           "x": 0.05
          },
          "xaxis": {
           "automargin": true,
           "gridcolor": "white",
           "linecolor": "white",
           "ticks": "",
           "title": {
            "standoff": 15
           },
           "zerolinecolor": "white",
           "zerolinewidth": 2
          },
          "yaxis": {
           "automargin": true,
           "gridcolor": "white",
           "linecolor": "white",
           "ticks": "",
           "title": {
            "standoff": 15
           },
           "zerolinecolor": "white",
           "zerolinewidth": 2
          }
         }
        },
        "title": {
         "text": "adobe-mu1gamma9",
         "x": 0.5
        },
        "width": 650,
        "xaxis": {
         "range": [
          0,
          222.06111
         ],
         "title": {
          "text": "Time (s)"
         }
        },
        "yaxis": {
         "title": {
          "text": "Salience"
         }
        }
       }
      }
     },
     "metadata": {},
     "output_type": "display_data"
    },
    {
     "data": {
      "application/vnd.plotly.v1+json": {
       "config": {
        "plotlyServerURL": "https://plot.ly"
       },
       "data": [
        {
         "hovertemplate": "<b>Boundary</b><br>Time: %{x:.3f}s<br>Salience: %{y:.3f}<extra></extra>",
         "line": {
          "color": "#666",
          "width": 1
         },
         "mode": "lines",
         "type": "scatter",
         "x": [
          8.54,
          8.54,
          null,
          12.98,
          12.98,
          null,
          16.16,
          16.16,
          null,
          32.12,
          32.12,
          null,
          54.6,
          54.6,
          null,
          63.59,
          63.59,
          null,
          74.5,
          74.5,
          null,
          93.14,
          93.14,
          null,
          104.14,
          104.14,
          null,
          109.28,
          109.28,
          null,
          111.83,
          111.83,
          null,
          117.6,
          117.6,
          null,
          152.97,
          152.97,
          null,
          158.65,
          158.65,
          null,
          169.52,
          169.52,
          null,
          191.31,
          191.31,
          null
         ],
         "y": [
          0,
          1,
          null,
          0,
          3,
          null,
          0,
          2,
          null,
          0,
          5,
          null,
          0,
          3,
          null,
          0,
          2,
          null,
          0,
          4,
          null,
          0,
          4,
          null,
          0,
          4,
          null,
          0,
          1,
          null,
          0,
          3,
          null,
          0,
          1,
          null,
          0,
          4,
          null,
          0,
          1,
          null,
          0,
          3,
          null,
          0,
          6,
          null
         ]
        }
       ],
       "layout": {
        "height": 300,
        "margin": {
         "b": 20,
         "l": 20,
         "r": 20,
         "t": 40
        },
        "shapes": [
         {
          "line": {
           "color": "#666",
           "width": 1
          },
          "opacity": 0.8,
          "type": "line",
          "x0": 0,
          "x1": 1,
          "xref": "x domain",
          "y0": 0,
          "y1": 0,
          "yref": "y"
         }
        ],
        "showlegend": false,
        "template": {
         "data": {
          "bar": [
           {
            "error_x": {
             "color": "#2a3f5f"
            },
            "error_y": {
             "color": "#2a3f5f"
            },
            "marker": {
             "line": {
              "color": "#E5ECF6",
              "width": 0.5
             },
             "pattern": {
              "fillmode": "overlay",
              "size": 10,
              "solidity": 0.2
             }
            },
            "type": "bar"
           }
          ],
          "barpolar": [
           {
            "marker": {
             "line": {
              "color": "#E5ECF6",
              "width": 0.5
             },
             "pattern": {
              "fillmode": "overlay",
              "size": 10,
              "solidity": 0.2
             }
            },
            "type": "barpolar"
           }
          ],
          "carpet": [
           {
            "aaxis": {
             "endlinecolor": "#2a3f5f",
             "gridcolor": "white",
             "linecolor": "white",
             "minorgridcolor": "white",
             "startlinecolor": "#2a3f5f"
            },
            "baxis": {
             "endlinecolor": "#2a3f5f",
             "gridcolor": "white",
             "linecolor": "white",
             "minorgridcolor": "white",
             "startlinecolor": "#2a3f5f"
            },
            "type": "carpet"
           }
          ],
          "choropleth": [
           {
            "colorbar": {
             "outlinewidth": 0,
             "ticks": ""
            },
            "type": "choropleth"
           }
          ],
          "contour": [
           {
            "colorbar": {
             "outlinewidth": 0,
             "ticks": ""
            },
            "colorscale": [
             [
              0,
              "#0d0887"
             ],
             [
              0.1111111111111111,
              "#46039f"
             ],
             [
              0.2222222222222222,
              "#7201a8"
             ],
             [
              0.3333333333333333,
              "#9c179e"
             ],
             [
              0.4444444444444444,
              "#bd3786"
             ],
             [
              0.5555555555555556,
              "#d8576b"
             ],
             [
              0.6666666666666666,
              "#ed7953"
             ],
             [
              0.7777777777777778,
              "#fb9f3a"
             ],
             [
              0.8888888888888888,
              "#fdca26"
             ],
             [
              1,
              "#f0f921"
             ]
            ],
            "type": "contour"
           }
          ],
          "contourcarpet": [
           {
            "colorbar": {
             "outlinewidth": 0,
             "ticks": ""
            },
            "type": "contourcarpet"
           }
          ],
          "heatmap": [
           {
            "colorbar": {
             "outlinewidth": 0,
             "ticks": ""
            },
            "colorscale": [
             [
              0,
              "#0d0887"
             ],
             [
              0.1111111111111111,
              "#46039f"
             ],
             [
              0.2222222222222222,
              "#7201a8"
             ],
             [
              0.3333333333333333,
              "#9c179e"
             ],
             [
              0.4444444444444444,
              "#bd3786"
             ],
             [
              0.5555555555555556,
              "#d8576b"
             ],
             [
              0.6666666666666666,
              "#ed7953"
             ],
             [
              0.7777777777777778,
              "#fb9f3a"
             ],
             [
              0.8888888888888888,
              "#fdca26"
             ],
             [
              1,
              "#f0f921"
             ]
            ],
            "type": "heatmap"
           }
          ],
          "histogram": [
           {
            "marker": {
             "pattern": {
              "fillmode": "overlay",
              "size": 10,
              "solidity": 0.2
             }
            },
            "type": "histogram"
           }
          ],
          "histogram2d": [
           {
            "colorbar": {
             "outlinewidth": 0,
             "ticks": ""
            },
            "colorscale": [
             [
              0,
              "#0d0887"
             ],
             [
              0.1111111111111111,
              "#46039f"
             ],
             [
              0.2222222222222222,
              "#7201a8"
             ],
             [
              0.3333333333333333,
              "#9c179e"
             ],
             [
              0.4444444444444444,
              "#bd3786"
             ],
             [
              0.5555555555555556,
              "#d8576b"
             ],
             [
              0.6666666666666666,
              "#ed7953"
             ],
             [
              0.7777777777777778,
              "#fb9f3a"
             ],
             [
              0.8888888888888888,
              "#fdca26"
             ],
             [
              1,
              "#f0f921"
             ]
            ],
            "type": "histogram2d"
           }
          ],
          "histogram2dcontour": [
           {
            "colorbar": {
             "outlinewidth": 0,
             "ticks": ""
            },
            "colorscale": [
             [
              0,
              "#0d0887"
             ],
             [
              0.1111111111111111,
              "#46039f"
             ],
             [
              0.2222222222222222,
              "#7201a8"
             ],
             [
              0.3333333333333333,
              "#9c179e"
             ],
             [
              0.4444444444444444,
              "#bd3786"
             ],
             [
              0.5555555555555556,
              "#d8576b"
             ],
             [
              0.6666666666666666,
              "#ed7953"
             ],
             [
              0.7777777777777778,
              "#fb9f3a"
             ],
             [
              0.8888888888888888,
              "#fdca26"
             ],
             [
              1,
              "#f0f921"
             ]
            ],
            "type": "histogram2dcontour"
           }
          ],
          "mesh3d": [
           {
            "colorbar": {
             "outlinewidth": 0,
             "ticks": ""
            },
            "type": "mesh3d"
           }
          ],
          "parcoords": [
           {
            "line": {
             "colorbar": {
              "outlinewidth": 0,
              "ticks": ""
             }
            },
            "type": "parcoords"
           }
          ],
          "pie": [
           {
            "automargin": true,
            "type": "pie"
           }
          ],
          "scatter": [
           {
            "fillpattern": {
             "fillmode": "overlay",
             "size": 10,
             "solidity": 0.2
            },
            "type": "scatter"
           }
          ],
          "scatter3d": [
           {
            "line": {
             "colorbar": {
              "outlinewidth": 0,
              "ticks": ""
             }
            },
            "marker": {
             "colorbar": {
              "outlinewidth": 0,
              "ticks": ""
             }
            },
            "type": "scatter3d"
           }
          ],
          "scattercarpet": [
           {
            "marker": {
             "colorbar": {
              "outlinewidth": 0,
              "ticks": ""
             }
            },
            "type": "scattercarpet"
           }
          ],
          "scattergeo": [
           {
            "marker": {
             "colorbar": {
              "outlinewidth": 0,
              "ticks": ""
             }
            },
            "type": "scattergeo"
           }
          ],
          "scattergl": [
           {
            "marker": {
             "colorbar": {
              "outlinewidth": 0,
              "ticks": ""
             }
            },
            "type": "scattergl"
           }
          ],
          "scattermap": [
           {
            "marker": {
             "colorbar": {
              "outlinewidth": 0,
              "ticks": ""
             }
            },
            "type": "scattermap"
           }
          ],
          "scattermapbox": [
           {
            "marker": {
             "colorbar": {
              "outlinewidth": 0,
              "ticks": ""
             }
            },
            "type": "scattermapbox"
           }
          ],
          "scatterpolar": [
           {
            "marker": {
             "colorbar": {
              "outlinewidth": 0,
              "ticks": ""
             }
            },
            "type": "scatterpolar"
           }
          ],
          "scatterpolargl": [
           {
            "marker": {
             "colorbar": {
              "outlinewidth": 0,
              "ticks": ""
             }
            },
            "type": "scatterpolargl"
           }
          ],
          "scatterternary": [
           {
            "marker": {
             "colorbar": {
              "outlinewidth": 0,
              "ticks": ""
             }
            },
            "type": "scatterternary"
           }
          ],
          "surface": [
           {
            "colorbar": {
             "outlinewidth": 0,
             "ticks": ""
            },
            "colorscale": [
             [
              0,
              "#0d0887"
             ],
             [
              0.1111111111111111,
              "#46039f"
             ],
             [
              0.2222222222222222,
              "#7201a8"
             ],
             [
              0.3333333333333333,
              "#9c179e"
             ],
             [
              0.4444444444444444,
              "#bd3786"
             ],
             [
              0.5555555555555556,
              "#d8576b"
             ],
             [
              0.6666666666666666,
              "#ed7953"
             ],
             [
              0.7777777777777778,
              "#fb9f3a"
             ],
             [
              0.8888888888888888,
              "#fdca26"
             ],
             [
              1,
              "#f0f921"
             ]
            ],
            "type": "surface"
           }
          ],
          "table": [
           {
            "cells": {
             "fill": {
              "color": "#EBF0F8"
             },
             "line": {
              "color": "white"
             }
            },
            "header": {
             "fill": {
              "color": "#C8D4E3"
             },
             "line": {
              "color": "white"
             }
            },
            "type": "table"
           }
          ]
         },
         "layout": {
          "annotationdefaults": {
           "arrowcolor": "#2a3f5f",
           "arrowhead": 0,
           "arrowwidth": 1
          },
          "autotypenumbers": "strict",
          "coloraxis": {
           "colorbar": {
            "outlinewidth": 0,
            "ticks": ""
           }
          },
          "colorscale": {
           "diverging": [
            [
             0,
             "#8e0152"
            ],
            [
             0.1,
             "#c51b7d"
            ],
            [
             0.2,
             "#de77ae"
            ],
            [
             0.3,
             "#f1b6da"
            ],
            [
             0.4,
             "#fde0ef"
            ],
            [
             0.5,
             "#f7f7f7"
            ],
            [
             0.6,
             "#e6f5d0"
            ],
            [
             0.7,
             "#b8e186"
            ],
            [
             0.8,
             "#7fbc41"
            ],
            [
             0.9,
             "#4d9221"
            ],
            [
             1,
             "#276419"
            ]
           ],
           "sequential": [
            [
             0,
             "#0d0887"
            ],
            [
             0.1111111111111111,
             "#46039f"
            ],
            [
             0.2222222222222222,
             "#7201a8"
            ],
            [
             0.3333333333333333,
             "#9c179e"
            ],
            [
             0.4444444444444444,
             "#bd3786"
            ],
            [
             0.5555555555555556,
             "#d8576b"
            ],
            [
             0.6666666666666666,
             "#ed7953"
            ],
            [
             0.7777777777777778,
             "#fb9f3a"
            ],
            [
             0.8888888888888888,
             "#fdca26"
            ],
            [
             1,
             "#f0f921"
            ]
           ],
           "sequentialminus": [
            [
             0,
             "#0d0887"
            ],
            [
             0.1111111111111111,
             "#46039f"
            ],
            [
             0.2222222222222222,
             "#7201a8"
            ],
            [
             0.3333333333333333,
             "#9c179e"
            ],
            [
             0.4444444444444444,
             "#bd3786"
            ],
            [
             0.5555555555555556,
             "#d8576b"
            ],
            [
             0.6666666666666666,
             "#ed7953"
            ],
            [
             0.7777777777777778,
             "#fb9f3a"
            ],
            [
             0.8888888888888888,
             "#fdca26"
            ],
            [
             1,
             "#f0f921"
            ]
           ]
          },
          "colorway": [
           "#636efa",
           "#EF553B",
           "#00cc96",
           "#ab63fa",
           "#FFA15A",
           "#19d3f3",
           "#FF6692",
           "#B6E880",
           "#FF97FF",
           "#FECB52"
          ],
          "font": {
           "color": "#2a3f5f"
          },
          "geo": {
           "bgcolor": "white",
           "lakecolor": "white",
           "landcolor": "#E5ECF6",
           "showlakes": true,
           "showland": true,
           "subunitcolor": "white"
          },
          "hoverlabel": {
           "align": "left"
          },
          "hovermode": "closest",
          "mapbox": {
           "style": "light"
          },
          "paper_bgcolor": "white",
          "plot_bgcolor": "#E5ECF6",
          "polar": {
           "angularaxis": {
            "gridcolor": "white",
            "linecolor": "white",
            "ticks": ""
           },
           "bgcolor": "#E5ECF6",
           "radialaxis": {
            "gridcolor": "white",
            "linecolor": "white",
            "ticks": ""
           }
          },
          "scene": {
           "xaxis": {
            "backgroundcolor": "#E5ECF6",
            "gridcolor": "white",
            "gridwidth": 2,
            "linecolor": "white",
            "showbackground": true,
            "ticks": "",
            "zerolinecolor": "white"
           },
           "yaxis": {
            "backgroundcolor": "#E5ECF6",
            "gridcolor": "white",
            "gridwidth": 2,
            "linecolor": "white",
            "showbackground": true,
            "ticks": "",
            "zerolinecolor": "white"
           },
           "zaxis": {
            "backgroundcolor": "#E5ECF6",
            "gridcolor": "white",
            "gridwidth": 2,
            "linecolor": "white",
            "showbackground": true,
            "ticks": "",
            "zerolinecolor": "white"
           }
          },
          "shapedefaults": {
           "line": {
            "color": "#2a3f5f"
           }
          },
          "ternary": {
           "aaxis": {
            "gridcolor": "white",
            "linecolor": "white",
            "ticks": ""
           },
           "baxis": {
            "gridcolor": "white",
            "linecolor": "white",
            "ticks": ""
           },
           "bgcolor": "#E5ECF6",
           "caxis": {
            "gridcolor": "white",
            "linecolor": "white",
            "ticks": ""
           }
          },
          "title": {
           "x": 0.05
          },
          "xaxis": {
           "automargin": true,
           "gridcolor": "white",
           "linecolor": "white",
           "ticks": "",
           "title": {
            "standoff": 15
           },
           "zerolinecolor": "white",
           "zerolinewidth": 2
          },
          "yaxis": {
           "automargin": true,
           "gridcolor": "white",
           "linecolor": "white",
           "ticks": "",
           "title": {
            "standoff": 15
           },
           "zerolinecolor": "white",
           "zerolinewidth": 2
          }
         }
        },
        "title": {
         "text": "adobe-mu1gamma9",
         "x": 0.5
        },
        "width": 650,
        "xaxis": {
         "range": [
          0,
          222.06111
         ],
         "title": {
          "text": "Time (s)"
         }
        },
        "yaxis": {
         "title": {
          "text": "Salience"
         }
        }
       }
      }
     },
     "metadata": {},
     "output_type": "display_data"
    },
    {
     "data": {
      "application/vnd.plotly.v1+json": {
       "config": {
        "plotlyServerURL": "https://plot.ly"
       },
       "data": [
        {
         "hovertemplate": "<b>Boundary</b><br>Time: %{x:.3f}s<br>Salience: %{y:.3f}<extra></extra>",
         "line": {
          "color": "#666",
          "width": 1
         },
         "mode": "lines",
         "type": "scatter",
         "x": [
          13.2,
          13.2,
          null,
          15.9,
          15.9,
          null,
          32.2,
          32.2,
          null,
          54.7,
          54.7,
          null,
          63.7,
          63.7,
          null,
          74.7,
          74.7,
          null,
          93.7,
          93.7,
          null,
          104.1,
          104.1,
          null,
          111.8,
          111.8,
          null,
          117.6,
          117.6,
          null,
          153.3,
          153.3,
          null,
          159.3,
          159.3,
          null,
          169.6,
          169.6,
          null,
          190.9,
          190.9,
          null
         ],
         "y": [
          0,
          0.02325485540554428,
          null,
          0,
          0.010073658099947154,
          null,
          0,
          0.027753361697350334,
          null,
          0,
          0.01825954163644989,
          null,
          0,
          0.02006384091542732,
          null,
          0,
          0.027205055962203788,
          null,
          0,
          0.03651693973668672,
          null,
          0,
          0.04029446918581653,
          null,
          0,
          0.014439982278818847,
          null,
          0,
          0.004749313701943814,
          null,
          0,
          0.036151835927858034,
          null,
          0,
          0.012512130524979726,
          null,
          0,
          0.020976665130994745,
          null,
          0,
          0.04645740795987198,
          null
         ]
        }
       ],
       "layout": {
        "height": 300,
        "margin": {
         "b": 20,
         "l": 20,
         "r": 20,
         "t": 40
        },
        "shapes": [
         {
          "line": {
           "color": "#666",
           "width": 1
          },
          "opacity": 0.8,
          "type": "line",
          "x0": 0,
          "x1": 1,
          "xref": "x domain",
          "y0": 0,
          "y1": 0,
          "yref": "y"
         }
        ],
        "showlegend": false,
        "template": {
         "data": {
          "bar": [
           {
            "error_x": {
             "color": "#2a3f5f"
            },
            "error_y": {
             "color": "#2a3f5f"
            },
            "marker": {
             "line": {
              "color": "#E5ECF6",
              "width": 0.5
             },
             "pattern": {
              "fillmode": "overlay",
              "size": 10,
              "solidity": 0.2
             }
            },
            "type": "bar"
           }
          ],
          "barpolar": [
           {
            "marker": {
             "line": {
              "color": "#E5ECF6",
              "width": 0.5
             },
             "pattern": {
              "fillmode": "overlay",
              "size": 10,
              "solidity": 0.2
             }
            },
            "type": "barpolar"
           }
          ],
          "carpet": [
           {
            "aaxis": {
             "endlinecolor": "#2a3f5f",
             "gridcolor": "white",
             "linecolor": "white",
             "minorgridcolor": "white",
             "startlinecolor": "#2a3f5f"
            },
            "baxis": {
             "endlinecolor": "#2a3f5f",
             "gridcolor": "white",
             "linecolor": "white",
             "minorgridcolor": "white",
             "startlinecolor": "#2a3f5f"
            },
            "type": "carpet"
           }
          ],
          "choropleth": [
           {
            "colorbar": {
             "outlinewidth": 0,
             "ticks": ""
            },
            "type": "choropleth"
           }
          ],
          "contour": [
           {
            "colorbar": {
             "outlinewidth": 0,
             "ticks": ""
            },
            "colorscale": [
             [
              0,
              "#0d0887"
             ],
             [
              0.1111111111111111,
              "#46039f"
             ],
             [
              0.2222222222222222,
              "#7201a8"
             ],
             [
              0.3333333333333333,
              "#9c179e"
             ],
             [
              0.4444444444444444,
              "#bd3786"
             ],
             [
              0.5555555555555556,
              "#d8576b"
             ],
             [
              0.6666666666666666,
              "#ed7953"
             ],
             [
              0.7777777777777778,
              "#fb9f3a"
             ],
             [
              0.8888888888888888,
              "#fdca26"
             ],
             [
              1,
              "#f0f921"
             ]
            ],
            "type": "contour"
           }
          ],
          "contourcarpet": [
           {
            "colorbar": {
             "outlinewidth": 0,
             "ticks": ""
            },
            "type": "contourcarpet"
           }
          ],
          "heatmap": [
           {
            "colorbar": {
             "outlinewidth": 0,
             "ticks": ""
            },
            "colorscale": [
             [
              0,
              "#0d0887"
             ],
             [
              0.1111111111111111,
              "#46039f"
             ],
             [
              0.2222222222222222,
              "#7201a8"
             ],
             [
              0.3333333333333333,
              "#9c179e"
             ],
             [
              0.4444444444444444,
              "#bd3786"
             ],
             [
              0.5555555555555556,
              "#d8576b"
             ],
             [
              0.6666666666666666,
              "#ed7953"
             ],
             [
              0.7777777777777778,
              "#fb9f3a"
             ],
             [
              0.8888888888888888,
              "#fdca26"
             ],
             [
              1,
              "#f0f921"
             ]
            ],
            "type": "heatmap"
           }
          ],
          "histogram": [
           {
            "marker": {
             "pattern": {
              "fillmode": "overlay",
              "size": 10,
              "solidity": 0.2
             }
            },
            "type": "histogram"
           }
          ],
          "histogram2d": [
           {
            "colorbar": {
             "outlinewidth": 0,
             "ticks": ""
            },
            "colorscale": [
             [
              0,
              "#0d0887"
             ],
             [
              0.1111111111111111,
              "#46039f"
             ],
             [
              0.2222222222222222,
              "#7201a8"
             ],
             [
              0.3333333333333333,
              "#9c179e"
             ],
             [
              0.4444444444444444,
              "#bd3786"
             ],
             [
              0.5555555555555556,
              "#d8576b"
             ],
             [
              0.6666666666666666,
              "#ed7953"
             ],
             [
              0.7777777777777778,
              "#fb9f3a"
             ],
             [
              0.8888888888888888,
              "#fdca26"
             ],
             [
              1,
              "#f0f921"
             ]
            ],
            "type": "histogram2d"
           }
          ],
          "histogram2dcontour": [
           {
            "colorbar": {
             "outlinewidth": 0,
             "ticks": ""
            },
            "colorscale": [
             [
              0,
              "#0d0887"
             ],
             [
              0.1111111111111111,
              "#46039f"
             ],
             [
              0.2222222222222222,
              "#7201a8"
             ],
             [
              0.3333333333333333,
              "#9c179e"
             ],
             [
              0.4444444444444444,
              "#bd3786"
             ],
             [
              0.5555555555555556,
              "#d8576b"
             ],
             [
              0.6666666666666666,
              "#ed7953"
             ],
             [
              0.7777777777777778,
              "#fb9f3a"
             ],
             [
              0.8888888888888888,
              "#fdca26"
             ],
             [
              1,
              "#f0f921"
             ]
            ],
            "type": "histogram2dcontour"
           }
          ],
          "mesh3d": [
           {
            "colorbar": {
             "outlinewidth": 0,
             "ticks": ""
            },
            "type": "mesh3d"
           }
          ],
          "parcoords": [
           {
            "line": {
             "colorbar": {
              "outlinewidth": 0,
              "ticks": ""
             }
            },
            "type": "parcoords"
           }
          ],
          "pie": [
           {
            "automargin": true,
            "type": "pie"
           }
          ],
          "scatter": [
           {
            "fillpattern": {
             "fillmode": "overlay",
             "size": 10,
             "solidity": 0.2
            },
            "type": "scatter"
           }
          ],
          "scatter3d": [
           {
            "line": {
             "colorbar": {
              "outlinewidth": 0,
              "ticks": ""
             }
            },
            "marker": {
             "colorbar": {
              "outlinewidth": 0,
              "ticks": ""
             }
            },
            "type": "scatter3d"
           }
          ],
          "scattercarpet": [
           {
            "marker": {
             "colorbar": {
              "outlinewidth": 0,
              "ticks": ""
             }
            },
            "type": "scattercarpet"
           }
          ],
          "scattergeo": [
           {
            "marker": {
             "colorbar": {
              "outlinewidth": 0,
              "ticks": ""
             }
            },
            "type": "scattergeo"
           }
          ],
          "scattergl": [
           {
            "marker": {
             "colorbar": {
              "outlinewidth": 0,
              "ticks": ""
             }
            },
            "type": "scattergl"
           }
          ],
          "scattermap": [
           {
            "marker": {
             "colorbar": {
              "outlinewidth": 0,
              "ticks": ""
             }
            },
            "type": "scattermap"
           }
          ],
          "scattermapbox": [
           {
            "marker": {
             "colorbar": {
              "outlinewidth": 0,
              "ticks": ""
             }
            },
            "type": "scattermapbox"
           }
          ],
          "scatterpolar": [
           {
            "marker": {
             "colorbar": {
              "outlinewidth": 0,
              "ticks": ""
             }
            },
            "type": "scatterpolar"
           }
          ],
          "scatterpolargl": [
           {
            "marker": {
             "colorbar": {
              "outlinewidth": 0,
              "ticks": ""
             }
            },
            "type": "scatterpolargl"
           }
          ],
          "scatterternary": [
           {
            "marker": {
             "colorbar": {
              "outlinewidth": 0,
              "ticks": ""
             }
            },
            "type": "scatterternary"
           }
          ],
          "surface": [
           {
            "colorbar": {
             "outlinewidth": 0,
             "ticks": ""
            },
            "colorscale": [
             [
              0,
              "#0d0887"
             ],
             [
              0.1111111111111111,
              "#46039f"
             ],
             [
              0.2222222222222222,
              "#7201a8"
             ],
             [
              0.3333333333333333,
              "#9c179e"
             ],
             [
              0.4444444444444444,
              "#bd3786"
             ],
             [
              0.5555555555555556,
              "#d8576b"
             ],
             [
              0.6666666666666666,
              "#ed7953"
             ],
             [
              0.7777777777777778,
              "#fb9f3a"
             ],
             [
              0.8888888888888888,
              "#fdca26"
             ],
             [
              1,
              "#f0f921"
             ]
            ],
            "type": "surface"
           }
          ],
          "table": [
           {
            "cells": {
             "fill": {
              "color": "#EBF0F8"
             },
             "line": {
              "color": "white"
             }
            },
            "header": {
             "fill": {
              "color": "#C8D4E3"
             },
             "line": {
              "color": "white"
             }
            },
            "type": "table"
           }
          ]
         },
         "layout": {
          "annotationdefaults": {
           "arrowcolor": "#2a3f5f",
           "arrowhead": 0,
           "arrowwidth": 1
          },
          "autotypenumbers": "strict",
          "coloraxis": {
           "colorbar": {
            "outlinewidth": 0,
            "ticks": ""
           }
          },
          "colorscale": {
           "diverging": [
            [
             0,
             "#8e0152"
            ],
            [
             0.1,
             "#c51b7d"
            ],
            [
             0.2,
             "#de77ae"
            ],
            [
             0.3,
             "#f1b6da"
            ],
            [
             0.4,
             "#fde0ef"
            ],
            [
             0.5,
             "#f7f7f7"
            ],
            [
             0.6,
             "#e6f5d0"
            ],
            [
             0.7,
             "#b8e186"
            ],
            [
             0.8,
             "#7fbc41"
            ],
            [
             0.9,
             "#4d9221"
            ],
            [
             1,
             "#276419"
            ]
           ],
           "sequential": [
            [
             0,
             "#0d0887"
            ],
            [
             0.1111111111111111,
             "#46039f"
            ],
            [
             0.2222222222222222,
             "#7201a8"
            ],
            [
             0.3333333333333333,
             "#9c179e"
            ],
            [
             0.4444444444444444,
             "#bd3786"
            ],
            [
             0.5555555555555556,
             "#d8576b"
            ],
            [
             0.6666666666666666,
             "#ed7953"
            ],
            [
             0.7777777777777778,
             "#fb9f3a"
            ],
            [
             0.8888888888888888,
             "#fdca26"
            ],
            [
             1,
             "#f0f921"
            ]
           ],
           "sequentialminus": [
            [
             0,
             "#0d0887"
            ],
            [
             0.1111111111111111,
             "#46039f"
            ],
            [
             0.2222222222222222,
             "#7201a8"
            ],
            [
             0.3333333333333333,
             "#9c179e"
            ],
            [
             0.4444444444444444,
             "#bd3786"
            ],
            [
             0.5555555555555556,
             "#d8576b"
            ],
            [
             0.6666666666666666,
             "#ed7953"
            ],
            [
             0.7777777777777778,
             "#fb9f3a"
            ],
            [
             0.8888888888888888,
             "#fdca26"
            ],
            [
             1,
             "#f0f921"
            ]
           ]
          },
          "colorway": [
           "#636efa",
           "#EF553B",
           "#00cc96",
           "#ab63fa",
           "#FFA15A",
           "#19d3f3",
           "#FF6692",
           "#B6E880",
           "#FF97FF",
           "#FECB52"
          ],
          "font": {
           "color": "#2a3f5f"
          },
          "geo": {
           "bgcolor": "white",
           "lakecolor": "white",
           "landcolor": "#E5ECF6",
           "showlakes": true,
           "showland": true,
           "subunitcolor": "white"
          },
          "hoverlabel": {
           "align": "left"
          },
          "hovermode": "closest",
          "mapbox": {
           "style": "light"
          },
          "paper_bgcolor": "white",
          "plot_bgcolor": "#E5ECF6",
          "polar": {
           "angularaxis": {
            "gridcolor": "white",
            "linecolor": "white",
            "ticks": ""
           },
           "bgcolor": "#E5ECF6",
           "radialaxis": {
            "gridcolor": "white",
            "linecolor": "white",
            "ticks": ""
           }
          },
          "scene": {
           "xaxis": {
            "backgroundcolor": "#E5ECF6",
            "gridcolor": "white",
            "gridwidth": 2,
            "linecolor": "white",
            "showbackground": true,
            "ticks": "",
            "zerolinecolor": "white"
           },
           "yaxis": {
            "backgroundcolor": "#E5ECF6",
            "gridcolor": "white",
            "gridwidth": 2,
            "linecolor": "white",
            "showbackground": true,
            "ticks": "",
            "zerolinecolor": "white"
           },
           "zaxis": {
            "backgroundcolor": "#E5ECF6",
            "gridcolor": "white",
            "gridwidth": 2,
            "linecolor": "white",
            "showbackground": true,
            "ticks": "",
            "zerolinecolor": "white"
           }
          },
          "shapedefaults": {
           "line": {
            "color": "#2a3f5f"
           }
          },
          "ternary": {
           "aaxis": {
            "gridcolor": "white",
            "linecolor": "white",
            "ticks": ""
           },
           "baxis": {
            "gridcolor": "white",
            "linecolor": "white",
            "ticks": ""
           },
           "bgcolor": "#E5ECF6",
           "caxis": {
            "gridcolor": "white",
            "linecolor": "white",
            "ticks": ""
           }
          },
          "title": {
           "x": 0.05
          },
          "xaxis": {
           "automargin": true,
           "gridcolor": "white",
           "linecolor": "white",
           "ticks": "",
           "title": {
            "standoff": 15
           },
           "zerolinecolor": "white",
           "zerolinewidth": 2
          },
          "yaxis": {
           "automargin": true,
           "gridcolor": "white",
           "linecolor": "white",
           "ticks": "",
           "title": {
            "standoff": 15
           },
           "zerolinecolor": "white",
           "zerolinewidth": 2
          }
         }
        },
        "title": {
         "text": "adobe-mu1gamma9",
         "x": 0.5
        },
        "width": 650,
        "xaxis": {
         "range": [
          0,
          222.06111
         ],
         "title": {
          "text": "Time (s)"
         }
        },
        "yaxis": {
         "title": {
          "text": "Salience"
         }
        }
       }
      }
     },
     "metadata": {},
     "output_type": "display_data"
    }
   ],
   "source": [
    "est_contour_count.plot().show()\n",
    "est_contour_count.clean('absorb', window=2).plot().show()\n",
    "est_contour_count.clean('kde', bw=1).plot().show()"
   ]
  },
  {
   "cell_type": "code",
   "execution_count": 54,
   "id": "06e45af8",
   "metadata": {},
   "outputs": [
    {
     "data": {
      "application/vnd.plotly.v1+json": {
       "config": {
        "plotlyServerURL": "https://plot.ly"
       },
       "data": [
        {
         "hovertemplate": "<b>Boundary</b><br>Time: %{x:.3f}s<br>Salience: %{y:.3f}<extra></extra>",
         "line": {
          "color": "#666",
          "width": 1
         },
         "mode": "lines",
         "type": "scatter",
         "x": [
          8.54,
          8.54,
          null,
          9.8,
          9.8,
          null,
          11.06,
          11.06,
          null,
          12.98,
          12.98,
          null,
          13.61,
          13.61,
          null,
          16.16,
          16.16,
          null,
          32.12,
          32.12,
          null,
          32.75,
          32.75,
          null,
          54.6,
          54.6,
          null,
          55.25,
          55.25,
          null,
          61.67,
          61.67,
          null,
          62.31,
          62.31,
          null,
          63.59,
          63.59,
          null,
          64.24,
          64.24,
          null,
          74.5,
          74.5,
          null,
          75.15,
          75.15,
          null,
          93.14,
          93.14,
          null,
          93.81,
          93.81,
          null,
          94.44,
          94.44,
          null,
          103.47,
          103.47,
          null,
          104.14,
          104.14,
          null,
          104.77,
          104.77,
          null,
          105.4,
          105.4,
          null,
          109.28,
          109.28,
          null,
          111.83,
          111.83,
          null,
          117.6,
          117.6,
          null,
          152.97,
          152.97,
          null,
          153.6,
          153.6,
          null,
          158.65,
          158.65,
          null,
          159.28,
          159.28,
          null,
          159.92,
          159.92,
          null,
          168.89,
          168.89,
          null,
          169.52,
          169.52,
          null,
          170.82,
          170.82,
          null,
          171.47,
          171.47,
          null,
          190.02,
          190.02,
          null,
          190.65,
          190.65,
          null,
          191.31,
          191.31,
          null
         ],
         "y": [
          0,
          0.25,
          null,
          0,
          0.1,
          null,
          0,
          0.2,
          null,
          0,
          0.37777777777777777,
          null,
          0,
          0.26666666666666666,
          null,
          0,
          0.19090909090909092,
          null,
          0,
          0.502020202020202,
          null,
          0,
          0.1,
          null,
          0,
          0.2909090909090909,
          null,
          0,
          0.1,
          null,
          0,
          0.1111111111111111,
          null,
          0,
          0.1,
          null,
          0,
          0.2,
          null,
          0,
          0.19090909090909092,
          null,
          0,
          0.40202020202020206,
          null,
          0,
          0.2,
          null,
          0,
          0.49090909090909096,
          null,
          0,
          0.2,
          null,
          0,
          0.4444444444444444,
          null,
          0,
          0.43333333333333335,
          null,
          0,
          0.8944444444444444,
          null,
          0,
          0.2,
          null,
          0,
          0.1,
          null,
          0,
          0.09090909090909091,
          null,
          0,
          0.43333333333333335,
          null,
          0,
          0.09090909090909091,
          null,
          0,
          0.6353535353535354,
          null,
          0,
          0.7833333333333333,
          null,
          0,
          0.1,
          null,
          0,
          0.1,
          null,
          0,
          0.1,
          null,
          0,
          0.1,
          null,
          0,
          0.3111111111111111,
          null,
          0,
          0.09090909090909091,
          null,
          0,
          0.1,
          null,
          0,
          0.3333333333333333,
          null,
          0,
          0.41111111111111115,
          null,
          0,
          0.9742424242424241,
          null
         ]
        }
       ],
       "layout": {
        "height": 300,
        "margin": {
         "b": 20,
         "l": 20,
         "r": 20,
         "t": 40
        },
        "shapes": [
         {
          "line": {
           "color": "#666",
           "width": 1
          },
          "opacity": 0.8,
          "type": "line",
          "x0": 0,
          "x1": 1,
          "xref": "x domain",
          "y0": 0,
          "y1": 0,
          "yref": "y"
         }
        ],
        "showlegend": false,
        "template": {
         "data": {
          "bar": [
           {
            "error_x": {
             "color": "#2a3f5f"
            },
            "error_y": {
             "color": "#2a3f5f"
            },
            "marker": {
             "line": {
              "color": "#E5ECF6",
              "width": 0.5
             },
             "pattern": {
              "fillmode": "overlay",
              "size": 10,
              "solidity": 0.2
             }
            },
            "type": "bar"
           }
          ],
          "barpolar": [
           {
            "marker": {
             "line": {
              "color": "#E5ECF6",
              "width": 0.5
             },
             "pattern": {
              "fillmode": "overlay",
              "size": 10,
              "solidity": 0.2
             }
            },
            "type": "barpolar"
           }
          ],
          "carpet": [
           {
            "aaxis": {
             "endlinecolor": "#2a3f5f",
             "gridcolor": "white",
             "linecolor": "white",
             "minorgridcolor": "white",
             "startlinecolor": "#2a3f5f"
            },
            "baxis": {
             "endlinecolor": "#2a3f5f",
             "gridcolor": "white",
             "linecolor": "white",
             "minorgridcolor": "white",
             "startlinecolor": "#2a3f5f"
            },
            "type": "carpet"
           }
          ],
          "choropleth": [
           {
            "colorbar": {
             "outlinewidth": 0,
             "ticks": ""
            },
            "type": "choropleth"
           }
          ],
          "contour": [
           {
            "colorbar": {
             "outlinewidth": 0,
             "ticks": ""
            },
            "colorscale": [
             [
              0,
              "#0d0887"
             ],
             [
              0.1111111111111111,
              "#46039f"
             ],
             [
              0.2222222222222222,
              "#7201a8"
             ],
             [
              0.3333333333333333,
              "#9c179e"
             ],
             [
              0.4444444444444444,
              "#bd3786"
             ],
             [
              0.5555555555555556,
              "#d8576b"
             ],
             [
              0.6666666666666666,
              "#ed7953"
             ],
             [
              0.7777777777777778,
              "#fb9f3a"
             ],
             [
              0.8888888888888888,
              "#fdca26"
             ],
             [
              1,
              "#f0f921"
             ]
            ],
            "type": "contour"
           }
          ],
          "contourcarpet": [
           {
            "colorbar": {
             "outlinewidth": 0,
             "ticks": ""
            },
            "type": "contourcarpet"
           }
          ],
          "heatmap": [
           {
            "colorbar": {
             "outlinewidth": 0,
             "ticks": ""
            },
            "colorscale": [
             [
              0,
              "#0d0887"
             ],
             [
              0.1111111111111111,
              "#46039f"
             ],
             [
              0.2222222222222222,
              "#7201a8"
             ],
             [
              0.3333333333333333,
              "#9c179e"
             ],
             [
              0.4444444444444444,
              "#bd3786"
             ],
             [
              0.5555555555555556,
              "#d8576b"
             ],
             [
              0.6666666666666666,
              "#ed7953"
             ],
             [
              0.7777777777777778,
              "#fb9f3a"
             ],
             [
              0.8888888888888888,
              "#fdca26"
             ],
             [
              1,
              "#f0f921"
             ]
            ],
            "type": "heatmap"
           }
          ],
          "histogram": [
           {
            "marker": {
             "pattern": {
              "fillmode": "overlay",
              "size": 10,
              "solidity": 0.2
             }
            },
            "type": "histogram"
           }
          ],
          "histogram2d": [
           {
            "colorbar": {
             "outlinewidth": 0,
             "ticks": ""
            },
            "colorscale": [
             [
              0,
              "#0d0887"
             ],
             [
              0.1111111111111111,
              "#46039f"
             ],
             [
              0.2222222222222222,
              "#7201a8"
             ],
             [
              0.3333333333333333,
              "#9c179e"
             ],
             [
              0.4444444444444444,
              "#bd3786"
             ],
             [
              0.5555555555555556,
              "#d8576b"
             ],
             [
              0.6666666666666666,
              "#ed7953"
             ],
             [
              0.7777777777777778,
              "#fb9f3a"
             ],
             [
              0.8888888888888888,
              "#fdca26"
             ],
             [
              1,
              "#f0f921"
             ]
            ],
            "type": "histogram2d"
           }
          ],
          "histogram2dcontour": [
           {
            "colorbar": {
             "outlinewidth": 0,
             "ticks": ""
            },
            "colorscale": [
             [
              0,
              "#0d0887"
             ],
             [
              0.1111111111111111,
              "#46039f"
             ],
             [
              0.2222222222222222,
              "#7201a8"
             ],
             [
              0.3333333333333333,
              "#9c179e"
             ],
             [
              0.4444444444444444,
              "#bd3786"
             ],
             [
              0.5555555555555556,
              "#d8576b"
             ],
             [
              0.6666666666666666,
              "#ed7953"
             ],
             [
              0.7777777777777778,
              "#fb9f3a"
             ],
             [
              0.8888888888888888,
              "#fdca26"
             ],
             [
              1,
              "#f0f921"
             ]
            ],
            "type": "histogram2dcontour"
           }
          ],
          "mesh3d": [
           {
            "colorbar": {
             "outlinewidth": 0,
             "ticks": ""
            },
            "type": "mesh3d"
           }
          ],
          "parcoords": [
           {
            "line": {
             "colorbar": {
              "outlinewidth": 0,
              "ticks": ""
             }
            },
            "type": "parcoords"
           }
          ],
          "pie": [
           {
            "automargin": true,
            "type": "pie"
           }
          ],
          "scatter": [
           {
            "fillpattern": {
             "fillmode": "overlay",
             "size": 10,
             "solidity": 0.2
            },
            "type": "scatter"
           }
          ],
          "scatter3d": [
           {
            "line": {
             "colorbar": {
              "outlinewidth": 0,
              "ticks": ""
             }
            },
            "marker": {
             "colorbar": {
              "outlinewidth": 0,
              "ticks": ""
             }
            },
            "type": "scatter3d"
           }
          ],
          "scattercarpet": [
           {
            "marker": {
             "colorbar": {
              "outlinewidth": 0,
              "ticks": ""
             }
            },
            "type": "scattercarpet"
           }
          ],
          "scattergeo": [
           {
            "marker": {
             "colorbar": {
              "outlinewidth": 0,
              "ticks": ""
             }
            },
            "type": "scattergeo"
           }
          ],
          "scattergl": [
           {
            "marker": {
             "colorbar": {
              "outlinewidth": 0,
              "ticks": ""
             }
            },
            "type": "scattergl"
           }
          ],
          "scattermap": [
           {
            "marker": {
             "colorbar": {
              "outlinewidth": 0,
              "ticks": ""
             }
            },
            "type": "scattermap"
           }
          ],
          "scattermapbox": [
           {
            "marker": {
             "colorbar": {
              "outlinewidth": 0,
              "ticks": ""
             }
            },
            "type": "scattermapbox"
           }
          ],
          "scatterpolar": [
           {
            "marker": {
             "colorbar": {
              "outlinewidth": 0,
              "ticks": ""
             }
            },
            "type": "scatterpolar"
           }
          ],
          "scatterpolargl": [
           {
            "marker": {
             "colorbar": {
              "outlinewidth": 0,
              "ticks": ""
             }
            },
            "type": "scatterpolargl"
           }
          ],
          "scatterternary": [
           {
            "marker": {
             "colorbar": {
              "outlinewidth": 0,
              "ticks": ""
             }
            },
            "type": "scatterternary"
           }
          ],
          "surface": [
           {
            "colorbar": {
             "outlinewidth": 0,
             "ticks": ""
            },
            "colorscale": [
             [
              0,
              "#0d0887"
             ],
             [
              0.1111111111111111,
              "#46039f"
             ],
             [
              0.2222222222222222,
              "#7201a8"
             ],
             [
              0.3333333333333333,
              "#9c179e"
             ],
             [
              0.4444444444444444,
              "#bd3786"
             ],
             [
              0.5555555555555556,
              "#d8576b"
             ],
             [
              0.6666666666666666,
              "#ed7953"
             ],
             [
              0.7777777777777778,
              "#fb9f3a"
             ],
             [
              0.8888888888888888,
              "#fdca26"
             ],
             [
              1,
              "#f0f921"
             ]
            ],
            "type": "surface"
           }
          ],
          "table": [
           {
            "cells": {
             "fill": {
              "color": "#EBF0F8"
             },
             "line": {
              "color": "white"
             }
            },
            "header": {
             "fill": {
              "color": "#C8D4E3"
             },
             "line": {
              "color": "white"
             }
            },
            "type": "table"
           }
          ]
         },
         "layout": {
          "annotationdefaults": {
           "arrowcolor": "#2a3f5f",
           "arrowhead": 0,
           "arrowwidth": 1
          },
          "autotypenumbers": "strict",
          "coloraxis": {
           "colorbar": {
            "outlinewidth": 0,
            "ticks": ""
           }
          },
          "colorscale": {
           "diverging": [
            [
             0,
             "#8e0152"
            ],
            [
             0.1,
             "#c51b7d"
            ],
            [
             0.2,
             "#de77ae"
            ],
            [
             0.3,
             "#f1b6da"
            ],
            [
             0.4,
             "#fde0ef"
            ],
            [
             0.5,
             "#f7f7f7"
            ],
            [
             0.6,
             "#e6f5d0"
            ],
            [
             0.7,
             "#b8e186"
            ],
            [
             0.8,
             "#7fbc41"
            ],
            [
             0.9,
             "#4d9221"
            ],
            [
             1,
             "#276419"
            ]
           ],
           "sequential": [
            [
             0,
             "#0d0887"
            ],
            [
             0.1111111111111111,
             "#46039f"
            ],
            [
             0.2222222222222222,
             "#7201a8"
            ],
            [
             0.3333333333333333,
             "#9c179e"
            ],
            [
             0.4444444444444444,
             "#bd3786"
            ],
            [
             0.5555555555555556,
             "#d8576b"
            ],
            [
             0.6666666666666666,
             "#ed7953"
            ],
            [
             0.7777777777777778,
             "#fb9f3a"
            ],
            [
             0.8888888888888888,
             "#fdca26"
            ],
            [
             1,
             "#f0f921"
            ]
           ],
           "sequentialminus": [
            [
             0,
             "#0d0887"
            ],
            [
             0.1111111111111111,
             "#46039f"
            ],
            [
             0.2222222222222222,
             "#7201a8"
            ],
            [
             0.3333333333333333,
             "#9c179e"
            ],
            [
             0.4444444444444444,
             "#bd3786"
            ],
            [
             0.5555555555555556,
             "#d8576b"
            ],
            [
             0.6666666666666666,
             "#ed7953"
            ],
            [
             0.7777777777777778,
             "#fb9f3a"
            ],
            [
             0.8888888888888888,
             "#fdca26"
            ],
            [
             1,
             "#f0f921"
            ]
           ]
          },
          "colorway": [
           "#636efa",
           "#EF553B",
           "#00cc96",
           "#ab63fa",
           "#FFA15A",
           "#19d3f3",
           "#FF6692",
           "#B6E880",
           "#FF97FF",
           "#FECB52"
          ],
          "font": {
           "color": "#2a3f5f"
          },
          "geo": {
           "bgcolor": "white",
           "lakecolor": "white",
           "landcolor": "#E5ECF6",
           "showlakes": true,
           "showland": true,
           "subunitcolor": "white"
          },
          "hoverlabel": {
           "align": "left"
          },
          "hovermode": "closest",
          "mapbox": {
           "style": "light"
          },
          "paper_bgcolor": "white",
          "plot_bgcolor": "#E5ECF6",
          "polar": {
           "angularaxis": {
            "gridcolor": "white",
            "linecolor": "white",
            "ticks": ""
           },
           "bgcolor": "#E5ECF6",
           "radialaxis": {
            "gridcolor": "white",
            "linecolor": "white",
            "ticks": ""
           }
          },
          "scene": {
           "xaxis": {
            "backgroundcolor": "#E5ECF6",
            "gridcolor": "white",
            "gridwidth": 2,
            "linecolor": "white",
            "showbackground": true,
            "ticks": "",
            "zerolinecolor": "white"
           },
           "yaxis": {
            "backgroundcolor": "#E5ECF6",
            "gridcolor": "white",
            "gridwidth": 2,
            "linecolor": "white",
            "showbackground": true,
            "ticks": "",
            "zerolinecolor": "white"
           },
           "zaxis": {
            "backgroundcolor": "#E5ECF6",
            "gridcolor": "white",
            "gridwidth": 2,
            "linecolor": "white",
            "showbackground": true,
            "ticks": "",
            "zerolinecolor": "white"
           }
          },
          "shapedefaults": {
           "line": {
            "color": "#2a3f5f"
           }
          },
          "ternary": {
           "aaxis": {
            "gridcolor": "white",
            "linecolor": "white",
            "ticks": ""
           },
           "baxis": {
            "gridcolor": "white",
            "linecolor": "white",
            "ticks": ""
           },
           "bgcolor": "#E5ECF6",
           "caxis": {
            "gridcolor": "white",
            "linecolor": "white",
            "ticks": ""
           }
          },
          "title": {
           "x": 0.05
          },
          "xaxis": {
           "automargin": true,
           "gridcolor": "white",
           "linecolor": "white",
           "ticks": "",
           "title": {
            "standoff": 15
           },
           "zerolinecolor": "white",
           "zerolinewidth": 2
          },
          "yaxis": {
           "automargin": true,
           "gridcolor": "white",
           "linecolor": "white",
           "ticks": "",
           "title": {
            "standoff": 15
           },
           "zerolinecolor": "white",
           "zerolinewidth": 2
          }
         }
        },
        "title": {
         "text": "adobe-mu1gamma9",
         "x": 0.5
        },
        "width": 650,
        "xaxis": {
         "range": [
          0,
          222.06111
         ],
         "title": {
          "text": "Time (s)"
         }
        },
        "yaxis": {
         "title": {
          "text": "Salience"
         }
        }
       }
      }
     },
     "metadata": {},
     "output_type": "display_data"
    },
    {
     "data": {
      "application/vnd.plotly.v1+json": {
       "config": {
        "plotlyServerURL": "https://plot.ly"
       },
       "data": [
        {
         "hovertemplate": "<b>Boundary</b><br>Time: %{x:.3f}s<br>Salience: %{y:.3f}<extra></extra>",
         "line": {
          "color": "#666",
          "width": 1
         },
         "mode": "lines",
         "type": "scatter",
         "x": [
          8.54,
          8.54,
          null,
          12.98,
          12.98,
          null,
          16.16,
          16.16,
          null,
          32.12,
          32.12,
          null,
          54.6,
          54.6,
          null,
          63.59,
          63.59,
          null,
          74.5,
          74.5,
          null,
          93.14,
          93.14,
          null,
          104.14,
          104.14,
          null,
          109.28,
          109.28,
          null,
          111.83,
          111.83,
          null,
          117.6,
          117.6,
          null,
          153.6,
          153.6,
          null,
          158.65,
          158.65,
          null,
          169.52,
          169.52,
          null,
          191.31,
          191.31,
          null
         ],
         "y": [
          0,
          0.25,
          null,
          0,
          0.37777777777777777,
          null,
          0,
          0.19090909090909092,
          null,
          0,
          0.502020202020202,
          null,
          0,
          0.2909090909090909,
          null,
          0,
          0.2,
          null,
          0,
          0.40202020202020206,
          null,
          0,
          0.49090909090909096,
          null,
          0,
          0.8944444444444444,
          null,
          0,
          0.09090909090909091,
          null,
          0,
          0.43333333333333335,
          null,
          0,
          0.09090909090909091,
          null,
          0,
          0.7833333333333333,
          null,
          0,
          0.1,
          null,
          0,
          0.3111111111111111,
          null,
          0,
          0.9742424242424241,
          null
         ]
        }
       ],
       "layout": {
        "height": 300,
        "margin": {
         "b": 20,
         "l": 20,
         "r": 20,
         "t": 40
        },
        "shapes": [
         {
          "line": {
           "color": "#666",
           "width": 1
          },
          "opacity": 0.8,
          "type": "line",
          "x0": 0,
          "x1": 1,
          "xref": "x domain",
          "y0": 0,
          "y1": 0,
          "yref": "y"
         }
        ],
        "showlegend": false,
        "template": {
         "data": {
          "bar": [
           {
            "error_x": {
             "color": "#2a3f5f"
            },
            "error_y": {
             "color": "#2a3f5f"
            },
            "marker": {
             "line": {
              "color": "#E5ECF6",
              "width": 0.5
             },
             "pattern": {
              "fillmode": "overlay",
              "size": 10,
              "solidity": 0.2
             }
            },
            "type": "bar"
           }
          ],
          "barpolar": [
           {
            "marker": {
             "line": {
              "color": "#E5ECF6",
              "width": 0.5
             },
             "pattern": {
              "fillmode": "overlay",
              "size": 10,
              "solidity": 0.2
             }
            },
            "type": "barpolar"
           }
          ],
          "carpet": [
           {
            "aaxis": {
             "endlinecolor": "#2a3f5f",
             "gridcolor": "white",
             "linecolor": "white",
             "minorgridcolor": "white",
             "startlinecolor": "#2a3f5f"
            },
            "baxis": {
             "endlinecolor": "#2a3f5f",
             "gridcolor": "white",
             "linecolor": "white",
             "minorgridcolor": "white",
             "startlinecolor": "#2a3f5f"
            },
            "type": "carpet"
           }
          ],
          "choropleth": [
           {
            "colorbar": {
             "outlinewidth": 0,
             "ticks": ""
            },
            "type": "choropleth"
           }
          ],
          "contour": [
           {
            "colorbar": {
             "outlinewidth": 0,
             "ticks": ""
            },
            "colorscale": [
             [
              0,
              "#0d0887"
             ],
             [
              0.1111111111111111,
              "#46039f"
             ],
             [
              0.2222222222222222,
              "#7201a8"
             ],
             [
              0.3333333333333333,
              "#9c179e"
             ],
             [
              0.4444444444444444,
              "#bd3786"
             ],
             [
              0.5555555555555556,
              "#d8576b"
             ],
             [
              0.6666666666666666,
              "#ed7953"
             ],
             [
              0.7777777777777778,
              "#fb9f3a"
             ],
             [
              0.8888888888888888,
              "#fdca26"
             ],
             [
              1,
              "#f0f921"
             ]
            ],
            "type": "contour"
           }
          ],
          "contourcarpet": [
           {
            "colorbar": {
             "outlinewidth": 0,
             "ticks": ""
            },
            "type": "contourcarpet"
           }
          ],
          "heatmap": [
           {
            "colorbar": {
             "outlinewidth": 0,
             "ticks": ""
            },
            "colorscale": [
             [
              0,
              "#0d0887"
             ],
             [
              0.1111111111111111,
              "#46039f"
             ],
             [
              0.2222222222222222,
              "#7201a8"
             ],
             [
              0.3333333333333333,
              "#9c179e"
             ],
             [
              0.4444444444444444,
              "#bd3786"
             ],
             [
              0.5555555555555556,
              "#d8576b"
             ],
             [
              0.6666666666666666,
              "#ed7953"
             ],
             [
              0.7777777777777778,
              "#fb9f3a"
             ],
             [
              0.8888888888888888,
              "#fdca26"
             ],
             [
              1,
              "#f0f921"
             ]
            ],
            "type": "heatmap"
           }
          ],
          "histogram": [
           {
            "marker": {
             "pattern": {
              "fillmode": "overlay",
              "size": 10,
              "solidity": 0.2
             }
            },
            "type": "histogram"
           }
          ],
          "histogram2d": [
           {
            "colorbar": {
             "outlinewidth": 0,
             "ticks": ""
            },
            "colorscale": [
             [
              0,
              "#0d0887"
             ],
             [
              0.1111111111111111,
              "#46039f"
             ],
             [
              0.2222222222222222,
              "#7201a8"
             ],
             [
              0.3333333333333333,
              "#9c179e"
             ],
             [
              0.4444444444444444,
              "#bd3786"
             ],
             [
              0.5555555555555556,
              "#d8576b"
             ],
             [
              0.6666666666666666,
              "#ed7953"
             ],
             [
              0.7777777777777778,
              "#fb9f3a"
             ],
             [
              0.8888888888888888,
              "#fdca26"
             ],
             [
              1,
              "#f0f921"
             ]
            ],
            "type": "histogram2d"
           }
          ],
          "histogram2dcontour": [
           {
            "colorbar": {
             "outlinewidth": 0,
             "ticks": ""
            },
            "colorscale": [
             [
              0,
              "#0d0887"
             ],
             [
              0.1111111111111111,
              "#46039f"
             ],
             [
              0.2222222222222222,
              "#7201a8"
             ],
             [
              0.3333333333333333,
              "#9c179e"
             ],
             [
              0.4444444444444444,
              "#bd3786"
             ],
             [
              0.5555555555555556,
              "#d8576b"
             ],
             [
              0.6666666666666666,
              "#ed7953"
             ],
             [
              0.7777777777777778,
              "#fb9f3a"
             ],
             [
              0.8888888888888888,
              "#fdca26"
             ],
             [
              1,
              "#f0f921"
             ]
            ],
            "type": "histogram2dcontour"
           }
          ],
          "mesh3d": [
           {
            "colorbar": {
             "outlinewidth": 0,
             "ticks": ""
            },
            "type": "mesh3d"
           }
          ],
          "parcoords": [
           {
            "line": {
             "colorbar": {
              "outlinewidth": 0,
              "ticks": ""
             }
            },
            "type": "parcoords"
           }
          ],
          "pie": [
           {
            "automargin": true,
            "type": "pie"
           }
          ],
          "scatter": [
           {
            "fillpattern": {
             "fillmode": "overlay",
             "size": 10,
             "solidity": 0.2
            },
            "type": "scatter"
           }
          ],
          "scatter3d": [
           {
            "line": {
             "colorbar": {
              "outlinewidth": 0,
              "ticks": ""
             }
            },
            "marker": {
             "colorbar": {
              "outlinewidth": 0,
              "ticks": ""
             }
            },
            "type": "scatter3d"
           }
          ],
          "scattercarpet": [
           {
            "marker": {
             "colorbar": {
              "outlinewidth": 0,
              "ticks": ""
             }
            },
            "type": "scattercarpet"
           }
          ],
          "scattergeo": [
           {
            "marker": {
             "colorbar": {
              "outlinewidth": 0,
              "ticks": ""
             }
            },
            "type": "scattergeo"
           }
          ],
          "scattergl": [
           {
            "marker": {
             "colorbar": {
              "outlinewidth": 0,
              "ticks": ""
             }
            },
            "type": "scattergl"
           }
          ],
          "scattermap": [
           {
            "marker": {
             "colorbar": {
              "outlinewidth": 0,
              "ticks": ""
             }
            },
            "type": "scattermap"
           }
          ],
          "scattermapbox": [
           {
            "marker": {
             "colorbar": {
              "outlinewidth": 0,
              "ticks": ""
             }
            },
            "type": "scattermapbox"
           }
          ],
          "scatterpolar": [
           {
            "marker": {
             "colorbar": {
              "outlinewidth": 0,
              "ticks": ""
             }
            },
            "type": "scatterpolar"
           }
          ],
          "scatterpolargl": [
           {
            "marker": {
             "colorbar": {
              "outlinewidth": 0,
              "ticks": ""
             }
            },
            "type": "scatterpolargl"
           }
          ],
          "scatterternary": [
           {
            "marker": {
             "colorbar": {
              "outlinewidth": 0,
              "ticks": ""
             }
            },
            "type": "scatterternary"
           }
          ],
          "surface": [
           {
            "colorbar": {
             "outlinewidth": 0,
             "ticks": ""
            },
            "colorscale": [
             [
              0,
              "#0d0887"
             ],
             [
              0.1111111111111111,
              "#46039f"
             ],
             [
              0.2222222222222222,
              "#7201a8"
             ],
             [
              0.3333333333333333,
              "#9c179e"
             ],
             [
              0.4444444444444444,
              "#bd3786"
             ],
             [
              0.5555555555555556,
              "#d8576b"
             ],
             [
              0.6666666666666666,
              "#ed7953"
             ],
             [
              0.7777777777777778,
              "#fb9f3a"
             ],
             [
              0.8888888888888888,
              "#fdca26"
             ],
             [
              1,
              "#f0f921"
             ]
            ],
            "type": "surface"
           }
          ],
          "table": [
           {
            "cells": {
             "fill": {
              "color": "#EBF0F8"
             },
             "line": {
              "color": "white"
             }
            },
            "header": {
             "fill": {
              "color": "#C8D4E3"
             },
             "line": {
              "color": "white"
             }
            },
            "type": "table"
           }
          ]
         },
         "layout": {
          "annotationdefaults": {
           "arrowcolor": "#2a3f5f",
           "arrowhead": 0,
           "arrowwidth": 1
          },
          "autotypenumbers": "strict",
          "coloraxis": {
           "colorbar": {
            "outlinewidth": 0,
            "ticks": ""
           }
          },
          "colorscale": {
           "diverging": [
            [
             0,
             "#8e0152"
            ],
            [
             0.1,
             "#c51b7d"
            ],
            [
             0.2,
             "#de77ae"
            ],
            [
             0.3,
             "#f1b6da"
            ],
            [
             0.4,
             "#fde0ef"
            ],
            [
             0.5,
             "#f7f7f7"
            ],
            [
             0.6,
             "#e6f5d0"
            ],
            [
             0.7,
             "#b8e186"
            ],
            [
             0.8,
             "#7fbc41"
            ],
            [
             0.9,
             "#4d9221"
            ],
            [
             1,
             "#276419"
            ]
           ],
           "sequential": [
            [
             0,
             "#0d0887"
            ],
            [
             0.1111111111111111,
             "#46039f"
            ],
            [
             0.2222222222222222,
             "#7201a8"
            ],
            [
             0.3333333333333333,
             "#9c179e"
            ],
            [
             0.4444444444444444,
             "#bd3786"
            ],
            [
             0.5555555555555556,
             "#d8576b"
            ],
            [
             0.6666666666666666,
             "#ed7953"
            ],
            [
             0.7777777777777778,
             "#fb9f3a"
            ],
            [
             0.8888888888888888,
             "#fdca26"
            ],
            [
             1,
             "#f0f921"
            ]
           ],
           "sequentialminus": [
            [
             0,
             "#0d0887"
            ],
            [
             0.1111111111111111,
             "#46039f"
            ],
            [
             0.2222222222222222,
             "#7201a8"
            ],
            [
             0.3333333333333333,
             "#9c179e"
            ],
            [
             0.4444444444444444,
             "#bd3786"
            ],
            [
             0.5555555555555556,
             "#d8576b"
            ],
            [
             0.6666666666666666,
             "#ed7953"
            ],
            [
             0.7777777777777778,
             "#fb9f3a"
            ],
            [
             0.8888888888888888,
             "#fdca26"
            ],
            [
             1,
             "#f0f921"
            ]
           ]
          },
          "colorway": [
           "#636efa",
           "#EF553B",
           "#00cc96",
           "#ab63fa",
           "#FFA15A",
           "#19d3f3",
           "#FF6692",
           "#B6E880",
           "#FF97FF",
           "#FECB52"
          ],
          "font": {
           "color": "#2a3f5f"
          },
          "geo": {
           "bgcolor": "white",
           "lakecolor": "white",
           "landcolor": "#E5ECF6",
           "showlakes": true,
           "showland": true,
           "subunitcolor": "white"
          },
          "hoverlabel": {
           "align": "left"
          },
          "hovermode": "closest",
          "mapbox": {
           "style": "light"
          },
          "paper_bgcolor": "white",
          "plot_bgcolor": "#E5ECF6",
          "polar": {
           "angularaxis": {
            "gridcolor": "white",
            "linecolor": "white",
            "ticks": ""
           },
           "bgcolor": "#E5ECF6",
           "radialaxis": {
            "gridcolor": "white",
            "linecolor": "white",
            "ticks": ""
           }
          },
          "scene": {
           "xaxis": {
            "backgroundcolor": "#E5ECF6",
            "gridcolor": "white",
            "gridwidth": 2,
            "linecolor": "white",
            "showbackground": true,
            "ticks": "",
            "zerolinecolor": "white"
           },
           "yaxis": {
            "backgroundcolor": "#E5ECF6",
            "gridcolor": "white",
            "gridwidth": 2,
            "linecolor": "white",
            "showbackground": true,
            "ticks": "",
            "zerolinecolor": "white"
           },
           "zaxis": {
            "backgroundcolor": "#E5ECF6",
            "gridcolor": "white",
            "gridwidth": 2,
            "linecolor": "white",
            "showbackground": true,
            "ticks": "",
            "zerolinecolor": "white"
           }
          },
          "shapedefaults": {
           "line": {
            "color": "#2a3f5f"
           }
          },
          "ternary": {
           "aaxis": {
            "gridcolor": "white",
            "linecolor": "white",
            "ticks": ""
           },
           "baxis": {
            "gridcolor": "white",
            "linecolor": "white",
            "ticks": ""
           },
           "bgcolor": "#E5ECF6",
           "caxis": {
            "gridcolor": "white",
            "linecolor": "white",
            "ticks": ""
           }
          },
          "title": {
           "x": 0.05
          },
          "xaxis": {
           "automargin": true,
           "gridcolor": "white",
           "linecolor": "white",
           "ticks": "",
           "title": {
            "standoff": 15
           },
           "zerolinecolor": "white",
           "zerolinewidth": 2
          },
          "yaxis": {
           "automargin": true,
           "gridcolor": "white",
           "linecolor": "white",
           "ticks": "",
           "title": {
            "standoff": 15
           },
           "zerolinecolor": "white",
           "zerolinewidth": 2
          }
         }
        },
        "title": {
         "text": "adobe-mu1gamma9",
         "x": 0.5
        },
        "width": 650,
        "xaxis": {
         "range": [
          0,
          222.06111
         ],
         "title": {
          "text": "Time (s)"
         }
        },
        "yaxis": {
         "title": {
          "text": "Salience"
         }
        }
       }
      }
     },
     "metadata": {},
     "output_type": "display_data"
    },
    {
     "data": {
      "application/vnd.plotly.v1+json": {
       "config": {
        "plotlyServerURL": "https://plot.ly"
       },
       "data": [
        {
         "hovertemplate": "<b>Boundary</b><br>Time: %{x:.3f}s<br>Salience: %{y:.3f}<extra></extra>",
         "line": {
          "color": "#666",
          "width": 1
         },
         "mode": "lines",
         "type": "scatter",
         "x": [
          9,
          9,
          null,
          13.2,
          13.2,
          null,
          32.2,
          32.2,
          null,
          54.8,
          54.8,
          null,
          63.6,
          63.6,
          null,
          74.7,
          74.7,
          null,
          93.8,
          93.8,
          null,
          104.1,
          104.1,
          null,
          111.8,
          111.8,
          null,
          117.6,
          117.6,
          null,
          153.3,
          153.3,
          null,
          159.3,
          159.3,
          null,
          169.6,
          169.6,
          null,
          191,
          191,
          null
         ],
         "y": [
          0,
          0.011664453045465593,
          null,
          0,
          0.02309785207556692,
          null,
          0,
          0.02126650975998059,
          null,
          0,
          0.01361914280542994,
          null,
          0,
          0.01509869413821084,
          null,
          0,
          0.020846586847533297,
          null,
          0,
          0.03470650384935081,
          null,
          0,
          0.05265348359007518,
          null,
          0,
          0.01584660704479293,
          null,
          0,
          0.003297044566250976,
          null,
          0,
          0.04898098266070048,
          null,
          0,
          0.009554719096996752,
          null,
          0,
          0.016263581594780082,
          null,
          0,
          0.055178904705231534,
          null
         ]
        }
       ],
       "layout": {
        "height": 300,
        "margin": {
         "b": 20,
         "l": 20,
         "r": 20,
         "t": 40
        },
        "shapes": [
         {
          "line": {
           "color": "#666",
           "width": 1
          },
          "opacity": 0.8,
          "type": "line",
          "x0": 0,
          "x1": 1,
          "xref": "x domain",
          "y0": 0,
          "y1": 0,
          "yref": "y"
         }
        ],
        "showlegend": false,
        "template": {
         "data": {
          "bar": [
           {
            "error_x": {
             "color": "#2a3f5f"
            },
            "error_y": {
             "color": "#2a3f5f"
            },
            "marker": {
             "line": {
              "color": "#E5ECF6",
              "width": 0.5
             },
             "pattern": {
              "fillmode": "overlay",
              "size": 10,
              "solidity": 0.2
             }
            },
            "type": "bar"
           }
          ],
          "barpolar": [
           {
            "marker": {
             "line": {
              "color": "#E5ECF6",
              "width": 0.5
             },
             "pattern": {
              "fillmode": "overlay",
              "size": 10,
              "solidity": 0.2
             }
            },
            "type": "barpolar"
           }
          ],
          "carpet": [
           {
            "aaxis": {
             "endlinecolor": "#2a3f5f",
             "gridcolor": "white",
             "linecolor": "white",
             "minorgridcolor": "white",
             "startlinecolor": "#2a3f5f"
            },
            "baxis": {
             "endlinecolor": "#2a3f5f",
             "gridcolor": "white",
             "linecolor": "white",
             "minorgridcolor": "white",
             "startlinecolor": "#2a3f5f"
            },
            "type": "carpet"
           }
          ],
          "choropleth": [
           {
            "colorbar": {
             "outlinewidth": 0,
             "ticks": ""
            },
            "type": "choropleth"
           }
          ],
          "contour": [
           {
            "colorbar": {
             "outlinewidth": 0,
             "ticks": ""
            },
            "colorscale": [
             [
              0,
              "#0d0887"
             ],
             [
              0.1111111111111111,
              "#46039f"
             ],
             [
              0.2222222222222222,
              "#7201a8"
             ],
             [
              0.3333333333333333,
              "#9c179e"
             ],
             [
              0.4444444444444444,
              "#bd3786"
             ],
             [
              0.5555555555555556,
              "#d8576b"
             ],
             [
              0.6666666666666666,
              "#ed7953"
             ],
             [
              0.7777777777777778,
              "#fb9f3a"
             ],
             [
              0.8888888888888888,
              "#fdca26"
             ],
             [
              1,
              "#f0f921"
             ]
            ],
            "type": "contour"
           }
          ],
          "contourcarpet": [
           {
            "colorbar": {
             "outlinewidth": 0,
             "ticks": ""
            },
            "type": "contourcarpet"
           }
          ],
          "heatmap": [
           {
            "colorbar": {
             "outlinewidth": 0,
             "ticks": ""
            },
            "colorscale": [
             [
              0,
              "#0d0887"
             ],
             [
              0.1111111111111111,
              "#46039f"
             ],
             [
              0.2222222222222222,
              "#7201a8"
             ],
             [
              0.3333333333333333,
              "#9c179e"
             ],
             [
              0.4444444444444444,
              "#bd3786"
             ],
             [
              0.5555555555555556,
              "#d8576b"
             ],
             [
              0.6666666666666666,
              "#ed7953"
             ],
             [
              0.7777777777777778,
              "#fb9f3a"
             ],
             [
              0.8888888888888888,
              "#fdca26"
             ],
             [
              1,
              "#f0f921"
             ]
            ],
            "type": "heatmap"
           }
          ],
          "histogram": [
           {
            "marker": {
             "pattern": {
              "fillmode": "overlay",
              "size": 10,
              "solidity": 0.2
             }
            },
            "type": "histogram"
           }
          ],
          "histogram2d": [
           {
            "colorbar": {
             "outlinewidth": 0,
             "ticks": ""
            },
            "colorscale": [
             [
              0,
              "#0d0887"
             ],
             [
              0.1111111111111111,
              "#46039f"
             ],
             [
              0.2222222222222222,
              "#7201a8"
             ],
             [
              0.3333333333333333,
              "#9c179e"
             ],
             [
              0.4444444444444444,
              "#bd3786"
             ],
             [
              0.5555555555555556,
              "#d8576b"
             ],
             [
              0.6666666666666666,
              "#ed7953"
             ],
             [
              0.7777777777777778,
              "#fb9f3a"
             ],
             [
              0.8888888888888888,
              "#fdca26"
             ],
             [
              1,
              "#f0f921"
             ]
            ],
            "type": "histogram2d"
           }
          ],
          "histogram2dcontour": [
           {
            "colorbar": {
             "outlinewidth": 0,
             "ticks": ""
            },
            "colorscale": [
             [
              0,
              "#0d0887"
             ],
             [
              0.1111111111111111,
              "#46039f"
             ],
             [
              0.2222222222222222,
              "#7201a8"
             ],
             [
              0.3333333333333333,
              "#9c179e"
             ],
             [
              0.4444444444444444,
              "#bd3786"
             ],
             [
              0.5555555555555556,
              "#d8576b"
             ],
             [
              0.6666666666666666,
              "#ed7953"
             ],
             [
              0.7777777777777778,
              "#fb9f3a"
             ],
             [
              0.8888888888888888,
              "#fdca26"
             ],
             [
              1,
              "#f0f921"
             ]
            ],
            "type": "histogram2dcontour"
           }
          ],
          "mesh3d": [
           {
            "colorbar": {
             "outlinewidth": 0,
             "ticks": ""
            },
            "type": "mesh3d"
           }
          ],
          "parcoords": [
           {
            "line": {
             "colorbar": {
              "outlinewidth": 0,
              "ticks": ""
             }
            },
            "type": "parcoords"
           }
          ],
          "pie": [
           {
            "automargin": true,
            "type": "pie"
           }
          ],
          "scatter": [
           {
            "fillpattern": {
             "fillmode": "overlay",
             "size": 10,
             "solidity": 0.2
            },
            "type": "scatter"
           }
          ],
          "scatter3d": [
           {
            "line": {
             "colorbar": {
              "outlinewidth": 0,
              "ticks": ""
             }
            },
            "marker": {
             "colorbar": {
              "outlinewidth": 0,
              "ticks": ""
             }
            },
            "type": "scatter3d"
           }
          ],
          "scattercarpet": [
           {
            "marker": {
             "colorbar": {
              "outlinewidth": 0,
              "ticks": ""
             }
            },
            "type": "scattercarpet"
           }
          ],
          "scattergeo": [
           {
            "marker": {
             "colorbar": {
              "outlinewidth": 0,
              "ticks": ""
             }
            },
            "type": "scattergeo"
           }
          ],
          "scattergl": [
           {
            "marker": {
             "colorbar": {
              "outlinewidth": 0,
              "ticks": ""
             }
            },
            "type": "scattergl"
           }
          ],
          "scattermap": [
           {
            "marker": {
             "colorbar": {
              "outlinewidth": 0,
              "ticks": ""
             }
            },
            "type": "scattermap"
           }
          ],
          "scattermapbox": [
           {
            "marker": {
             "colorbar": {
              "outlinewidth": 0,
              "ticks": ""
             }
            },
            "type": "scattermapbox"
           }
          ],
          "scatterpolar": [
           {
            "marker": {
             "colorbar": {
              "outlinewidth": 0,
              "ticks": ""
             }
            },
            "type": "scatterpolar"
           }
          ],
          "scatterpolargl": [
           {
            "marker": {
             "colorbar": {
              "outlinewidth": 0,
              "ticks": ""
             }
            },
            "type": "scatterpolargl"
           }
          ],
          "scatterternary": [
           {
            "marker": {
             "colorbar": {
              "outlinewidth": 0,
              "ticks": ""
             }
            },
            "type": "scatterternary"
           }
          ],
          "surface": [
           {
            "colorbar": {
             "outlinewidth": 0,
             "ticks": ""
            },
            "colorscale": [
             [
              0,
              "#0d0887"
             ],
             [
              0.1111111111111111,
              "#46039f"
             ],
             [
              0.2222222222222222,
              "#7201a8"
             ],
             [
              0.3333333333333333,
              "#9c179e"
             ],
             [
              0.4444444444444444,
              "#bd3786"
             ],
             [
              0.5555555555555556,
              "#d8576b"
             ],
             [
              0.6666666666666666,
              "#ed7953"
             ],
             [
              0.7777777777777778,
              "#fb9f3a"
             ],
             [
              0.8888888888888888,
              "#fdca26"
             ],
             [
              1,
              "#f0f921"
             ]
            ],
            "type": "surface"
           }
          ],
          "table": [
           {
            "cells": {
             "fill": {
              "color": "#EBF0F8"
             },
             "line": {
              "color": "white"
             }
            },
            "header": {
             "fill": {
              "color": "#C8D4E3"
             },
             "line": {
              "color": "white"
             }
            },
            "type": "table"
           }
          ]
         },
         "layout": {
          "annotationdefaults": {
           "arrowcolor": "#2a3f5f",
           "arrowhead": 0,
           "arrowwidth": 1
          },
          "autotypenumbers": "strict",
          "coloraxis": {
           "colorbar": {
            "outlinewidth": 0,
            "ticks": ""
           }
          },
          "colorscale": {
           "diverging": [
            [
             0,
             "#8e0152"
            ],
            [
             0.1,
             "#c51b7d"
            ],
            [
             0.2,
             "#de77ae"
            ],
            [
             0.3,
             "#f1b6da"
            ],
            [
             0.4,
             "#fde0ef"
            ],
            [
             0.5,
             "#f7f7f7"
            ],
            [
             0.6,
             "#e6f5d0"
            ],
            [
             0.7,
             "#b8e186"
            ],
            [
             0.8,
             "#7fbc41"
            ],
            [
             0.9,
             "#4d9221"
            ],
            [
             1,
             "#276419"
            ]
           ],
           "sequential": [
            [
             0,
             "#0d0887"
            ],
            [
             0.1111111111111111,
             "#46039f"
            ],
            [
             0.2222222222222222,
             "#7201a8"
            ],
            [
             0.3333333333333333,
             "#9c179e"
            ],
            [
             0.4444444444444444,
             "#bd3786"
            ],
            [
             0.5555555555555556,
             "#d8576b"
            ],
            [
             0.6666666666666666,
             "#ed7953"
            ],
            [
             0.7777777777777778,
             "#fb9f3a"
            ],
            [
             0.8888888888888888,
             "#fdca26"
            ],
            [
             1,
             "#f0f921"
            ]
           ],
           "sequentialminus": [
            [
             0,
             "#0d0887"
            ],
            [
             0.1111111111111111,
             "#46039f"
            ],
            [
             0.2222222222222222,
             "#7201a8"
            ],
            [
             0.3333333333333333,
             "#9c179e"
            ],
            [
             0.4444444444444444,
             "#bd3786"
            ],
            [
             0.5555555555555556,
             "#d8576b"
            ],
            [
             0.6666666666666666,
             "#ed7953"
            ],
            [
             0.7777777777777778,
             "#fb9f3a"
            ],
            [
             0.8888888888888888,
             "#fdca26"
            ],
            [
             1,
             "#f0f921"
            ]
           ]
          },
          "colorway": [
           "#636efa",
           "#EF553B",
           "#00cc96",
           "#ab63fa",
           "#FFA15A",
           "#19d3f3",
           "#FF6692",
           "#B6E880",
           "#FF97FF",
           "#FECB52"
          ],
          "font": {
           "color": "#2a3f5f"
          },
          "geo": {
           "bgcolor": "white",
           "lakecolor": "white",
           "landcolor": "#E5ECF6",
           "showlakes": true,
           "showland": true,
           "subunitcolor": "white"
          },
          "hoverlabel": {
           "align": "left"
          },
          "hovermode": "closest",
          "mapbox": {
           "style": "light"
          },
          "paper_bgcolor": "white",
          "plot_bgcolor": "#E5ECF6",
          "polar": {
           "angularaxis": {
            "gridcolor": "white",
            "linecolor": "white",
            "ticks": ""
           },
           "bgcolor": "#E5ECF6",
           "radialaxis": {
            "gridcolor": "white",
            "linecolor": "white",
            "ticks": ""
           }
          },
          "scene": {
           "xaxis": {
            "backgroundcolor": "#E5ECF6",
            "gridcolor": "white",
            "gridwidth": 2,
            "linecolor": "white",
            "showbackground": true,
            "ticks": "",
            "zerolinecolor": "white"
           },
           "yaxis": {
            "backgroundcolor": "#E5ECF6",
            "gridcolor": "white",
            "gridwidth": 2,
            "linecolor": "white",
            "showbackground": true,
            "ticks": "",
            "zerolinecolor": "white"
           },
           "zaxis": {
            "backgroundcolor": "#E5ECF6",
            "gridcolor": "white",
            "gridwidth": 2,
            "linecolor": "white",
            "showbackground": true,
            "ticks": "",
            "zerolinecolor": "white"
           }
          },
          "shapedefaults": {
           "line": {
            "color": "#2a3f5f"
           }
          },
          "ternary": {
           "aaxis": {
            "gridcolor": "white",
            "linecolor": "white",
            "ticks": ""
           },
           "baxis": {
            "gridcolor": "white",
            "linecolor": "white",
            "ticks": ""
           },
           "bgcolor": "#E5ECF6",
           "caxis": {
            "gridcolor": "white",
            "linecolor": "white",
            "ticks": ""
           }
          },
          "title": {
           "x": 0.05
          },
          "xaxis": {
           "automargin": true,
           "gridcolor": "white",
           "linecolor": "white",
           "ticks": "",
           "title": {
            "standoff": 15
           },
           "zerolinecolor": "white",
           "zerolinewidth": 2
          },
          "yaxis": {
           "automargin": true,
           "gridcolor": "white",
           "linecolor": "white",
           "ticks": "",
           "title": {
            "standoff": 15
           },
           "zerolinecolor": "white",
           "zerolinewidth": 2
          }
         }
        },
        "title": {
         "text": "adobe-mu1gamma9",
         "x": 0.5
        },
        "width": 650,
        "xaxis": {
         "range": [
          0,
          222.06111
         ],
         "title": {
          "text": "Time (s)"
         }
        },
        "yaxis": {
         "title": {
          "text": "Salience"
         }
        }
       }
      }
     },
     "metadata": {},
     "output_type": "display_data"
    }
   ],
   "source": [
    "est_contour_weight.plot().show()\n",
    "est_contour_weight.clean('absorb').plot().show()\n",
    "est_contour_weight.clean('kde').plot().show()"
   ]
  },
  {
   "cell_type": "code",
   "execution_count": 33,
   "id": "bab31ae5",
   "metadata": {},
   "outputs": [
    {
     "data": {
      "application/vnd.plotly.v1+json": {
       "config": {
        "plotlyServerURL": "https://plot.ly"
       },
       "data": [
        {
         "hovertemplate": "<b>Boundary</b><br>Time: %{x:.3f}s<br>Salience: %{y:.3f}<extra></extra>",
         "line": {
          "color": "#666",
          "width": 1
         },
         "mode": "lines",
         "type": "scatter",
         "x": [
          8.54,
          8.54,
          null,
          9.8,
          9.8,
          null,
          11.06,
          11.06,
          null,
          12.98,
          12.98,
          null,
          13.61,
          13.61,
          null,
          16.16,
          16.16,
          null,
          32.12,
          32.12,
          null,
          32.75,
          32.75,
          null,
          54.6,
          54.6,
          null,
          55.25,
          55.25,
          null,
          61.67,
          61.67,
          null,
          62.31,
          62.31,
          null,
          63.59,
          63.59,
          null,
          64.24,
          64.24,
          null,
          74.5,
          74.5,
          null,
          75.15,
          75.15,
          null,
          93.14,
          93.14,
          null,
          93.81,
          93.81,
          null,
          94.44,
          94.44,
          null,
          103.47,
          103.47,
          null,
          104.14,
          104.14,
          null,
          104.77,
          104.77,
          null,
          105.4,
          105.4,
          null,
          109.28,
          109.28,
          null,
          111.83,
          111.83,
          null,
          117.6,
          117.6,
          null,
          152.97,
          152.97,
          null,
          153.6,
          153.6,
          null,
          158.65,
          158.65,
          null,
          159.28,
          159.28,
          null,
          159.92,
          159.92,
          null,
          168.89,
          168.89,
          null,
          169.52,
          169.52,
          null,
          170.82,
          170.82,
          null,
          171.47,
          171.47,
          null,
          190.02,
          190.02,
          null,
          190.65,
          190.65,
          null,
          191.31,
          191.31,
          null
         ],
         "y": [
          0,
          6,
          null,
          0,
          2,
          null,
          0,
          5,
          null,
          0,
          11,
          null,
          0,
          7,
          null,
          0,
          4,
          null,
          0,
          17,
          null,
          0,
          2,
          null,
          0,
          8,
          null,
          0,
          2,
          null,
          0,
          3,
          null,
          0,
          2,
          null,
          0,
          5,
          null,
          0,
          4,
          null,
          0,
          12,
          null,
          0,
          5,
          null,
          0,
          16,
          null,
          0,
          5,
          null,
          0,
          15,
          null,
          0,
          14,
          null,
          0,
          20,
          null,
          0,
          5,
          null,
          0,
          2,
          null,
          0,
          1,
          null,
          0,
          14,
          null,
          0,
          1,
          null,
          0,
          18,
          null,
          0,
          19,
          null,
          0,
          2,
          null,
          0,
          2,
          null,
          0,
          2,
          null,
          0,
          2,
          null,
          0,
          9,
          null,
          0,
          1,
          null,
          0,
          2,
          null,
          0,
          10,
          null,
          0,
          13,
          null,
          0,
          21,
          null
         ]
        }
       ],
       "layout": {
        "height": 300,
        "margin": {
         "b": 20,
         "l": 20,
         "r": 20,
         "t": 40
        },
        "shapes": [
         {
          "line": {
           "color": "#666",
           "width": 1
          },
          "opacity": 0.8,
          "type": "line",
          "x0": 0,
          "x1": 1,
          "xref": "x domain",
          "y0": 0,
          "y1": 0,
          "yref": "y"
         }
        ],
        "showlegend": false,
        "template": {
         "data": {
          "bar": [
           {
            "error_x": {
             "color": "#2a3f5f"
            },
            "error_y": {
             "color": "#2a3f5f"
            },
            "marker": {
             "line": {
              "color": "#E5ECF6",
              "width": 0.5
             },
             "pattern": {
              "fillmode": "overlay",
              "size": 10,
              "solidity": 0.2
             }
            },
            "type": "bar"
           }
          ],
          "barpolar": [
           {
            "marker": {
             "line": {
              "color": "#E5ECF6",
              "width": 0.5
             },
             "pattern": {
              "fillmode": "overlay",
              "size": 10,
              "solidity": 0.2
             }
            },
            "type": "barpolar"
           }
          ],
          "carpet": [
           {
            "aaxis": {
             "endlinecolor": "#2a3f5f",
             "gridcolor": "white",
             "linecolor": "white",
             "minorgridcolor": "white",
             "startlinecolor": "#2a3f5f"
            },
            "baxis": {
             "endlinecolor": "#2a3f5f",
             "gridcolor": "white",
             "linecolor": "white",
             "minorgridcolor": "white",
             "startlinecolor": "#2a3f5f"
            },
            "type": "carpet"
           }
          ],
          "choropleth": [
           {
            "colorbar": {
             "outlinewidth": 0,
             "ticks": ""
            },
            "type": "choropleth"
           }
          ],
          "contour": [
           {
            "colorbar": {
             "outlinewidth": 0,
             "ticks": ""
            },
            "colorscale": [
             [
              0,
              "#0d0887"
             ],
             [
              0.1111111111111111,
              "#46039f"
             ],
             [
              0.2222222222222222,
              "#7201a8"
             ],
             [
              0.3333333333333333,
              "#9c179e"
             ],
             [
              0.4444444444444444,
              "#bd3786"
             ],
             [
              0.5555555555555556,
              "#d8576b"
             ],
             [
              0.6666666666666666,
              "#ed7953"
             ],
             [
              0.7777777777777778,
              "#fb9f3a"
             ],
             [
              0.8888888888888888,
              "#fdca26"
             ],
             [
              1,
              "#f0f921"
             ]
            ],
            "type": "contour"
           }
          ],
          "contourcarpet": [
           {
            "colorbar": {
             "outlinewidth": 0,
             "ticks": ""
            },
            "type": "contourcarpet"
           }
          ],
          "heatmap": [
           {
            "colorbar": {
             "outlinewidth": 0,
             "ticks": ""
            },
            "colorscale": [
             [
              0,
              "#0d0887"
             ],
             [
              0.1111111111111111,
              "#46039f"
             ],
             [
              0.2222222222222222,
              "#7201a8"
             ],
             [
              0.3333333333333333,
              "#9c179e"
             ],
             [
              0.4444444444444444,
              "#bd3786"
             ],
             [
              0.5555555555555556,
              "#d8576b"
             ],
             [
              0.6666666666666666,
              "#ed7953"
             ],
             [
              0.7777777777777778,
              "#fb9f3a"
             ],
             [
              0.8888888888888888,
              "#fdca26"
             ],
             [
              1,
              "#f0f921"
             ]
            ],
            "type": "heatmap"
           }
          ],
          "histogram": [
           {
            "marker": {
             "pattern": {
              "fillmode": "overlay",
              "size": 10,
              "solidity": 0.2
             }
            },
            "type": "histogram"
           }
          ],
          "histogram2d": [
           {
            "colorbar": {
             "outlinewidth": 0,
             "ticks": ""
            },
            "colorscale": [
             [
              0,
              "#0d0887"
             ],
             [
              0.1111111111111111,
              "#46039f"
             ],
             [
              0.2222222222222222,
              "#7201a8"
             ],
             [
              0.3333333333333333,
              "#9c179e"
             ],
             [
              0.4444444444444444,
              "#bd3786"
             ],
             [
              0.5555555555555556,
              "#d8576b"
             ],
             [
              0.6666666666666666,
              "#ed7953"
             ],
             [
              0.7777777777777778,
              "#fb9f3a"
             ],
             [
              0.8888888888888888,
              "#fdca26"
             ],
             [
              1,
              "#f0f921"
             ]
            ],
            "type": "histogram2d"
           }
          ],
          "histogram2dcontour": [
           {
            "colorbar": {
             "outlinewidth": 0,
             "ticks": ""
            },
            "colorscale": [
             [
              0,
              "#0d0887"
             ],
             [
              0.1111111111111111,
              "#46039f"
             ],
             [
              0.2222222222222222,
              "#7201a8"
             ],
             [
              0.3333333333333333,
              "#9c179e"
             ],
             [
              0.4444444444444444,
              "#bd3786"
             ],
             [
              0.5555555555555556,
              "#d8576b"
             ],
             [
              0.6666666666666666,
              "#ed7953"
             ],
             [
              0.7777777777777778,
              "#fb9f3a"
             ],
             [
              0.8888888888888888,
              "#fdca26"
             ],
             [
              1,
              "#f0f921"
             ]
            ],
            "type": "histogram2dcontour"
           }
          ],
          "mesh3d": [
           {
            "colorbar": {
             "outlinewidth": 0,
             "ticks": ""
            },
            "type": "mesh3d"
           }
          ],
          "parcoords": [
           {
            "line": {
             "colorbar": {
              "outlinewidth": 0,
              "ticks": ""
             }
            },
            "type": "parcoords"
           }
          ],
          "pie": [
           {
            "automargin": true,
            "type": "pie"
           }
          ],
          "scatter": [
           {
            "fillpattern": {
             "fillmode": "overlay",
             "size": 10,
             "solidity": 0.2
            },
            "type": "scatter"
           }
          ],
          "scatter3d": [
           {
            "line": {
             "colorbar": {
              "outlinewidth": 0,
              "ticks": ""
             }
            },
            "marker": {
             "colorbar": {
              "outlinewidth": 0,
              "ticks": ""
             }
            },
            "type": "scatter3d"
           }
          ],
          "scattercarpet": [
           {
            "marker": {
             "colorbar": {
              "outlinewidth": 0,
              "ticks": ""
             }
            },
            "type": "scattercarpet"
           }
          ],
          "scattergeo": [
           {
            "marker": {
             "colorbar": {
              "outlinewidth": 0,
              "ticks": ""
             }
            },
            "type": "scattergeo"
           }
          ],
          "scattergl": [
           {
            "marker": {
             "colorbar": {
              "outlinewidth": 0,
              "ticks": ""
             }
            },
            "type": "scattergl"
           }
          ],
          "scattermap": [
           {
            "marker": {
             "colorbar": {
              "outlinewidth": 0,
              "ticks": ""
             }
            },
            "type": "scattermap"
           }
          ],
          "scattermapbox": [
           {
            "marker": {
             "colorbar": {
              "outlinewidth": 0,
              "ticks": ""
             }
            },
            "type": "scattermapbox"
           }
          ],
          "scatterpolar": [
           {
            "marker": {
             "colorbar": {
              "outlinewidth": 0,
              "ticks": ""
             }
            },
            "type": "scatterpolar"
           }
          ],
          "scatterpolargl": [
           {
            "marker": {
             "colorbar": {
              "outlinewidth": 0,
              "ticks": ""
             }
            },
            "type": "scatterpolargl"
           }
          ],
          "scatterternary": [
           {
            "marker": {
             "colorbar": {
              "outlinewidth": 0,
              "ticks": ""
             }
            },
            "type": "scatterternary"
           }
          ],
          "surface": [
           {
            "colorbar": {
             "outlinewidth": 0,
             "ticks": ""
            },
            "colorscale": [
             [
              0,
              "#0d0887"
             ],
             [
              0.1111111111111111,
              "#46039f"
             ],
             [
              0.2222222222222222,
              "#7201a8"
             ],
             [
              0.3333333333333333,
              "#9c179e"
             ],
             [
              0.4444444444444444,
              "#bd3786"
             ],
             [
              0.5555555555555556,
              "#d8576b"
             ],
             [
              0.6666666666666666,
              "#ed7953"
             ],
             [
              0.7777777777777778,
              "#fb9f3a"
             ],
             [
              0.8888888888888888,
              "#fdca26"
             ],
             [
              1,
              "#f0f921"
             ]
            ],
            "type": "surface"
           }
          ],
          "table": [
           {
            "cells": {
             "fill": {
              "color": "#EBF0F8"
             },
             "line": {
              "color": "white"
             }
            },
            "header": {
             "fill": {
              "color": "#C8D4E3"
             },
             "line": {
              "color": "white"
             }
            },
            "type": "table"
           }
          ]
         },
         "layout": {
          "annotationdefaults": {
           "arrowcolor": "#2a3f5f",
           "arrowhead": 0,
           "arrowwidth": 1
          },
          "autotypenumbers": "strict",
          "coloraxis": {
           "colorbar": {
            "outlinewidth": 0,
            "ticks": ""
           }
          },
          "colorscale": {
           "diverging": [
            [
             0,
             "#8e0152"
            ],
            [
             0.1,
             "#c51b7d"
            ],
            [
             0.2,
             "#de77ae"
            ],
            [
             0.3,
             "#f1b6da"
            ],
            [
             0.4,
             "#fde0ef"
            ],
            [
             0.5,
             "#f7f7f7"
            ],
            [
             0.6,
             "#e6f5d0"
            ],
            [
             0.7,
             "#b8e186"
            ],
            [
             0.8,
             "#7fbc41"
            ],
            [
             0.9,
             "#4d9221"
            ],
            [
             1,
             "#276419"
            ]
           ],
           "sequential": [
            [
             0,
             "#0d0887"
            ],
            [
             0.1111111111111111,
             "#46039f"
            ],
            [
             0.2222222222222222,
             "#7201a8"
            ],
            [
             0.3333333333333333,
             "#9c179e"
            ],
            [
             0.4444444444444444,
             "#bd3786"
            ],
            [
             0.5555555555555556,
             "#d8576b"
            ],
            [
             0.6666666666666666,
             "#ed7953"
            ],
            [
             0.7777777777777778,
             "#fb9f3a"
            ],
            [
             0.8888888888888888,
             "#fdca26"
            ],
            [
             1,
             "#f0f921"
            ]
           ],
           "sequentialminus": [
            [
             0,
             "#0d0887"
            ],
            [
             0.1111111111111111,
             "#46039f"
            ],
            [
             0.2222222222222222,
             "#7201a8"
            ],
            [
             0.3333333333333333,
             "#9c179e"
            ],
            [
             0.4444444444444444,
             "#bd3786"
            ],
            [
             0.5555555555555556,
             "#d8576b"
            ],
            [
             0.6666666666666666,
             "#ed7953"
            ],
            [
             0.7777777777777778,
             "#fb9f3a"
            ],
            [
             0.8888888888888888,
             "#fdca26"
            ],
            [
             1,
             "#f0f921"
            ]
           ]
          },
          "colorway": [
           "#636efa",
           "#EF553B",
           "#00cc96",
           "#ab63fa",
           "#FFA15A",
           "#19d3f3",
           "#FF6692",
           "#B6E880",
           "#FF97FF",
           "#FECB52"
          ],
          "font": {
           "color": "#2a3f5f"
          },
          "geo": {
           "bgcolor": "white",
           "lakecolor": "white",
           "landcolor": "#E5ECF6",
           "showlakes": true,
           "showland": true,
           "subunitcolor": "white"
          },
          "hoverlabel": {
           "align": "left"
          },
          "hovermode": "closest",
          "mapbox": {
           "style": "light"
          },
          "paper_bgcolor": "white",
          "plot_bgcolor": "#E5ECF6",
          "polar": {
           "angularaxis": {
            "gridcolor": "white",
            "linecolor": "white",
            "ticks": ""
           },
           "bgcolor": "#E5ECF6",
           "radialaxis": {
            "gridcolor": "white",
            "linecolor": "white",
            "ticks": ""
           }
          },
          "scene": {
           "xaxis": {
            "backgroundcolor": "#E5ECF6",
            "gridcolor": "white",
            "gridwidth": 2,
            "linecolor": "white",
            "showbackground": true,
            "ticks": "",
            "zerolinecolor": "white"
           },
           "yaxis": {
            "backgroundcolor": "#E5ECF6",
            "gridcolor": "white",
            "gridwidth": 2,
            "linecolor": "white",
            "showbackground": true,
            "ticks": "",
            "zerolinecolor": "white"
           },
           "zaxis": {
            "backgroundcolor": "#E5ECF6",
            "gridcolor": "white",
            "gridwidth": 2,
            "linecolor": "white",
            "showbackground": true,
            "ticks": "",
            "zerolinecolor": "white"
           }
          },
          "shapedefaults": {
           "line": {
            "color": "#2a3f5f"
           }
          },
          "ternary": {
           "aaxis": {
            "gridcolor": "white",
            "linecolor": "white",
            "ticks": ""
           },
           "baxis": {
            "gridcolor": "white",
            "linecolor": "white",
            "ticks": ""
           },
           "bgcolor": "#E5ECF6",
           "caxis": {
            "gridcolor": "white",
            "linecolor": "white",
            "ticks": ""
           }
          },
          "title": {
           "x": 0.05
          },
          "xaxis": {
           "automargin": true,
           "gridcolor": "white",
           "linecolor": "white",
           "ticks": "",
           "title": {
            "standoff": 15
           },
           "zerolinecolor": "white",
           "zerolinewidth": 2
          },
          "yaxis": {
           "automargin": true,
           "gridcolor": "white",
           "linecolor": "white",
           "ticks": "",
           "title": {
            "standoff": 15
           },
           "zerolinecolor": "white",
           "zerolinewidth": 2
          }
         }
        },
        "title": {
         "text": "adobe-mu1gamma9",
         "x": 0.5
        },
        "width": 650,
        "xaxis": {
         "range": [
          0,
          222.06111
         ],
         "title": {
          "text": "Time (s)"
         }
        },
        "yaxis": {
         "title": {
          "text": "Salience"
         }
        }
       }
      }
     },
     "metadata": {},
     "output_type": "display_data"
    },
    {
     "data": {
      "application/vnd.plotly.v1+json": {
       "config": {
        "plotlyServerURL": "https://plot.ly"
       },
       "data": [
        {
         "hovertemplate": "<b>Boundary</b><br>Time: %{x:.3f}s<br>Salience: %{y:.3f}<extra></extra>",
         "line": {
          "color": "#666",
          "width": 1
         },
         "mode": "lines",
         "type": "scatter",
         "x": [
          8.54,
          8.54,
          null,
          9.8,
          9.8,
          null,
          11.06,
          11.06,
          null,
          12.98,
          12.98,
          null,
          13.61,
          13.61,
          null,
          16.16,
          16.16,
          null,
          32.12,
          32.12,
          null,
          32.75,
          32.75,
          null,
          54.6,
          54.6,
          null,
          55.25,
          55.25,
          null,
          61.67,
          61.67,
          null,
          62.31,
          62.31,
          null,
          63.59,
          63.59,
          null,
          64.24,
          64.24,
          null,
          74.5,
          74.5,
          null,
          75.15,
          75.15,
          null,
          93.14,
          93.14,
          null,
          93.81,
          93.81,
          null,
          94.44,
          94.44,
          null,
          103.47,
          103.47,
          null,
          104.14,
          104.14,
          null,
          104.77,
          104.77,
          null,
          105.4,
          105.4,
          null,
          109.28,
          109.28,
          null,
          111.83,
          111.83,
          null,
          117.6,
          117.6,
          null,
          152.97,
          152.97,
          null,
          153.6,
          153.6,
          null,
          158.65,
          158.65,
          null,
          159.28,
          159.28,
          null,
          159.92,
          159.92,
          null,
          168.89,
          168.89,
          null,
          169.52,
          169.52,
          null,
          170.82,
          170.82,
          null,
          171.47,
          171.47,
          null,
          190.02,
          190.02,
          null,
          190.65,
          190.65,
          null,
          191.31,
          191.31,
          null
         ],
         "y": [
          0,
          2,
          null,
          0,
          1,
          null,
          0,
          2,
          null,
          0,
          3,
          null,
          0,
          2,
          null,
          0,
          2,
          null,
          0,
          3,
          null,
          0,
          1,
          null,
          0,
          2,
          null,
          0,
          1,
          null,
          0,
          1,
          null,
          0,
          1,
          null,
          0,
          2,
          null,
          0,
          2,
          null,
          0,
          3,
          null,
          0,
          2,
          null,
          0,
          3,
          null,
          0,
          2,
          null,
          0,
          3,
          null,
          0,
          3,
          null,
          0,
          6,
          null,
          0,
          2,
          null,
          0,
          1,
          null,
          0,
          1,
          null,
          0,
          3,
          null,
          0,
          1,
          null,
          0,
          4,
          null,
          0,
          5,
          null,
          0,
          1,
          null,
          0,
          1,
          null,
          0,
          1,
          null,
          0,
          1,
          null,
          0,
          2,
          null,
          0,
          1,
          null,
          0,
          1,
          null,
          0,
          3,
          null,
          0,
          3,
          null,
          0,
          6,
          null
         ]
        }
       ],
       "layout": {
        "height": 300,
        "margin": {
         "b": 20,
         "l": 20,
         "r": 20,
         "t": 40
        },
        "shapes": [
         {
          "line": {
           "color": "#666",
           "width": 1
          },
          "opacity": 0.8,
          "type": "line",
          "x0": 0,
          "x1": 1,
          "xref": "x domain",
          "y0": 0,
          "y1": 0,
          "yref": "y"
         }
        ],
        "showlegend": false,
        "template": {
         "data": {
          "bar": [
           {
            "error_x": {
             "color": "#2a3f5f"
            },
            "error_y": {
             "color": "#2a3f5f"
            },
            "marker": {
             "line": {
              "color": "#E5ECF6",
              "width": 0.5
             },
             "pattern": {
              "fillmode": "overlay",
              "size": 10,
              "solidity": 0.2
             }
            },
            "type": "bar"
           }
          ],
          "barpolar": [
           {
            "marker": {
             "line": {
              "color": "#E5ECF6",
              "width": 0.5
             },
             "pattern": {
              "fillmode": "overlay",
              "size": 10,
              "solidity": 0.2
             }
            },
            "type": "barpolar"
           }
          ],
          "carpet": [
           {
            "aaxis": {
             "endlinecolor": "#2a3f5f",
             "gridcolor": "white",
             "linecolor": "white",
             "minorgridcolor": "white",
             "startlinecolor": "#2a3f5f"
            },
            "baxis": {
             "endlinecolor": "#2a3f5f",
             "gridcolor": "white",
             "linecolor": "white",
             "minorgridcolor": "white",
             "startlinecolor": "#2a3f5f"
            },
            "type": "carpet"
           }
          ],
          "choropleth": [
           {
            "colorbar": {
             "outlinewidth": 0,
             "ticks": ""
            },
            "type": "choropleth"
           }
          ],
          "contour": [
           {
            "colorbar": {
             "outlinewidth": 0,
             "ticks": ""
            },
            "colorscale": [
             [
              0,
              "#0d0887"
             ],
             [
              0.1111111111111111,
              "#46039f"
             ],
             [
              0.2222222222222222,
              "#7201a8"
             ],
             [
              0.3333333333333333,
              "#9c179e"
             ],
             [
              0.4444444444444444,
              "#bd3786"
             ],
             [
              0.5555555555555556,
              "#d8576b"
             ],
             [
              0.6666666666666666,
              "#ed7953"
             ],
             [
              0.7777777777777778,
              "#fb9f3a"
             ],
             [
              0.8888888888888888,
              "#fdca26"
             ],
             [
              1,
              "#f0f921"
             ]
            ],
            "type": "contour"
           }
          ],
          "contourcarpet": [
           {
            "colorbar": {
             "outlinewidth": 0,
             "ticks": ""
            },
            "type": "contourcarpet"
           }
          ],
          "heatmap": [
           {
            "colorbar": {
             "outlinewidth": 0,
             "ticks": ""
            },
            "colorscale": [
             [
              0,
              "#0d0887"
             ],
             [
              0.1111111111111111,
              "#46039f"
             ],
             [
              0.2222222222222222,
              "#7201a8"
             ],
             [
              0.3333333333333333,
              "#9c179e"
             ],
             [
              0.4444444444444444,
              "#bd3786"
             ],
             [
              0.5555555555555556,
              "#d8576b"
             ],
             [
              0.6666666666666666,
              "#ed7953"
             ],
             [
              0.7777777777777778,
              "#fb9f3a"
             ],
             [
              0.8888888888888888,
              "#fdca26"
             ],
             [
              1,
              "#f0f921"
             ]
            ],
            "type": "heatmap"
           }
          ],
          "histogram": [
           {
            "marker": {
             "pattern": {
              "fillmode": "overlay",
              "size": 10,
              "solidity": 0.2
             }
            },
            "type": "histogram"
           }
          ],
          "histogram2d": [
           {
            "colorbar": {
             "outlinewidth": 0,
             "ticks": ""
            },
            "colorscale": [
             [
              0,
              "#0d0887"
             ],
             [
              0.1111111111111111,
              "#46039f"
             ],
             [
              0.2222222222222222,
              "#7201a8"
             ],
             [
              0.3333333333333333,
              "#9c179e"
             ],
             [
              0.4444444444444444,
              "#bd3786"
             ],
             [
              0.5555555555555556,
              "#d8576b"
             ],
             [
              0.6666666666666666,
              "#ed7953"
             ],
             [
              0.7777777777777778,
              "#fb9f3a"
             ],
             [
              0.8888888888888888,
              "#fdca26"
             ],
             [
              1,
              "#f0f921"
             ]
            ],
            "type": "histogram2d"
           }
          ],
          "histogram2dcontour": [
           {
            "colorbar": {
             "outlinewidth": 0,
             "ticks": ""
            },
            "colorscale": [
             [
              0,
              "#0d0887"
             ],
             [
              0.1111111111111111,
              "#46039f"
             ],
             [
              0.2222222222222222,
              "#7201a8"
             ],
             [
              0.3333333333333333,
              "#9c179e"
             ],
             [
              0.4444444444444444,
              "#bd3786"
             ],
             [
              0.5555555555555556,
              "#d8576b"
             ],
             [
              0.6666666666666666,
              "#ed7953"
             ],
             [
              0.7777777777777778,
              "#fb9f3a"
             ],
             [
              0.8888888888888888,
              "#fdca26"
             ],
             [
              1,
              "#f0f921"
             ]
            ],
            "type": "histogram2dcontour"
           }
          ],
          "mesh3d": [
           {
            "colorbar": {
             "outlinewidth": 0,
             "ticks": ""
            },
            "type": "mesh3d"
           }
          ],
          "parcoords": [
           {
            "line": {
             "colorbar": {
              "outlinewidth": 0,
              "ticks": ""
             }
            },
            "type": "parcoords"
           }
          ],
          "pie": [
           {
            "automargin": true,
            "type": "pie"
           }
          ],
          "scatter": [
           {
            "fillpattern": {
             "fillmode": "overlay",
             "size": 10,
             "solidity": 0.2
            },
            "type": "scatter"
           }
          ],
          "scatter3d": [
           {
            "line": {
             "colorbar": {
              "outlinewidth": 0,
              "ticks": ""
             }
            },
            "marker": {
             "colorbar": {
              "outlinewidth": 0,
              "ticks": ""
             }
            },
            "type": "scatter3d"
           }
          ],
          "scattercarpet": [
           {
            "marker": {
             "colorbar": {
              "outlinewidth": 0,
              "ticks": ""
             }
            },
            "type": "scattercarpet"
           }
          ],
          "scattergeo": [
           {
            "marker": {
             "colorbar": {
              "outlinewidth": 0,
              "ticks": ""
             }
            },
            "type": "scattergeo"
           }
          ],
          "scattergl": [
           {
            "marker": {
             "colorbar": {
              "outlinewidth": 0,
              "ticks": ""
             }
            },
            "type": "scattergl"
           }
          ],
          "scattermap": [
           {
            "marker": {
             "colorbar": {
              "outlinewidth": 0,
              "ticks": ""
             }
            },
            "type": "scattermap"
           }
          ],
          "scattermapbox": [
           {
            "marker": {
             "colorbar": {
              "outlinewidth": 0,
              "ticks": ""
             }
            },
            "type": "scattermapbox"
           }
          ],
          "scatterpolar": [
           {
            "marker": {
             "colorbar": {
              "outlinewidth": 0,
              "ticks": ""
             }
            },
            "type": "scatterpolar"
           }
          ],
          "scatterpolargl": [
           {
            "marker": {
             "colorbar": {
              "outlinewidth": 0,
              "ticks": ""
             }
            },
            "type": "scatterpolargl"
           }
          ],
          "scatterternary": [
           {
            "marker": {
             "colorbar": {
              "outlinewidth": 0,
              "ticks": ""
             }
            },
            "type": "scatterternary"
           }
          ],
          "surface": [
           {
            "colorbar": {
             "outlinewidth": 0,
             "ticks": ""
            },
            "colorscale": [
             [
              0,
              "#0d0887"
             ],
             [
              0.1111111111111111,
              "#46039f"
             ],
             [
              0.2222222222222222,
              "#7201a8"
             ],
             [
              0.3333333333333333,
              "#9c179e"
             ],
             [
              0.4444444444444444,
              "#bd3786"
             ],
             [
              0.5555555555555556,
              "#d8576b"
             ],
             [
              0.6666666666666666,
              "#ed7953"
             ],
             [
              0.7777777777777778,
              "#fb9f3a"
             ],
             [
              0.8888888888888888,
              "#fdca26"
             ],
             [
              1,
              "#f0f921"
             ]
            ],
            "type": "surface"
           }
          ],
          "table": [
           {
            "cells": {
             "fill": {
              "color": "#EBF0F8"
             },
             "line": {
              "color": "white"
             }
            },
            "header": {
             "fill": {
              "color": "#C8D4E3"
             },
             "line": {
              "color": "white"
             }
            },
            "type": "table"
           }
          ]
         },
         "layout": {
          "annotationdefaults": {
           "arrowcolor": "#2a3f5f",
           "arrowhead": 0,
           "arrowwidth": 1
          },
          "autotypenumbers": "strict",
          "coloraxis": {
           "colorbar": {
            "outlinewidth": 0,
            "ticks": ""
           }
          },
          "colorscale": {
           "diverging": [
            [
             0,
             "#8e0152"
            ],
            [
             0.1,
             "#c51b7d"
            ],
            [
             0.2,
             "#de77ae"
            ],
            [
             0.3,
             "#f1b6da"
            ],
            [
             0.4,
             "#fde0ef"
            ],
            [
             0.5,
             "#f7f7f7"
            ],
            [
             0.6,
             "#e6f5d0"
            ],
            [
             0.7,
             "#b8e186"
            ],
            [
             0.8,
             "#7fbc41"
            ],
            [
             0.9,
             "#4d9221"
            ],
            [
             1,
             "#276419"
            ]
           ],
           "sequential": [
            [
             0,
             "#0d0887"
            ],
            [
             0.1111111111111111,
             "#46039f"
            ],
            [
             0.2222222222222222,
             "#7201a8"
            ],
            [
             0.3333333333333333,
             "#9c179e"
            ],
            [
             0.4444444444444444,
             "#bd3786"
            ],
            [
             0.5555555555555556,
             "#d8576b"
            ],
            [
             0.6666666666666666,
             "#ed7953"
            ],
            [
             0.7777777777777778,
             "#fb9f3a"
            ],
            [
             0.8888888888888888,
             "#fdca26"
            ],
            [
             1,
             "#f0f921"
            ]
           ],
           "sequentialminus": [
            [
             0,
             "#0d0887"
            ],
            [
             0.1111111111111111,
             "#46039f"
            ],
            [
             0.2222222222222222,
             "#7201a8"
            ],
            [
             0.3333333333333333,
             "#9c179e"
            ],
            [
             0.4444444444444444,
             "#bd3786"
            ],
            [
             0.5555555555555556,
             "#d8576b"
            ],
            [
             0.6666666666666666,
             "#ed7953"
            ],
            [
             0.7777777777777778,
             "#fb9f3a"
            ],
            [
             0.8888888888888888,
             "#fdca26"
            ],
            [
             1,
             "#f0f921"
            ]
           ]
          },
          "colorway": [
           "#636efa",
           "#EF553B",
           "#00cc96",
           "#ab63fa",
           "#FFA15A",
           "#19d3f3",
           "#FF6692",
           "#B6E880",
           "#FF97FF",
           "#FECB52"
          ],
          "font": {
           "color": "#2a3f5f"
          },
          "geo": {
           "bgcolor": "white",
           "lakecolor": "white",
           "landcolor": "#E5ECF6",
           "showlakes": true,
           "showland": true,
           "subunitcolor": "white"
          },
          "hoverlabel": {
           "align": "left"
          },
          "hovermode": "closest",
          "mapbox": {
           "style": "light"
          },
          "paper_bgcolor": "white",
          "plot_bgcolor": "#E5ECF6",
          "polar": {
           "angularaxis": {
            "gridcolor": "white",
            "linecolor": "white",
            "ticks": ""
           },
           "bgcolor": "#E5ECF6",
           "radialaxis": {
            "gridcolor": "white",
            "linecolor": "white",
            "ticks": ""
           }
          },
          "scene": {
           "xaxis": {
            "backgroundcolor": "#E5ECF6",
            "gridcolor": "white",
            "gridwidth": 2,
            "linecolor": "white",
            "showbackground": true,
            "ticks": "",
            "zerolinecolor": "white"
           },
           "yaxis": {
            "backgroundcolor": "#E5ECF6",
            "gridcolor": "white",
            "gridwidth": 2,
            "linecolor": "white",
            "showbackground": true,
            "ticks": "",
            "zerolinecolor": "white"
           },
           "zaxis": {
            "backgroundcolor": "#E5ECF6",
            "gridcolor": "white",
            "gridwidth": 2,
            "linecolor": "white",
            "showbackground": true,
            "ticks": "",
            "zerolinecolor": "white"
           }
          },
          "shapedefaults": {
           "line": {
            "color": "#2a3f5f"
           }
          },
          "ternary": {
           "aaxis": {
            "gridcolor": "white",
            "linecolor": "white",
            "ticks": ""
           },
           "baxis": {
            "gridcolor": "white",
            "linecolor": "white",
            "ticks": ""
           },
           "bgcolor": "#E5ECF6",
           "caxis": {
            "gridcolor": "white",
            "linecolor": "white",
            "ticks": ""
           }
          },
          "title": {
           "x": 0.05
          },
          "xaxis": {
           "automargin": true,
           "gridcolor": "white",
           "linecolor": "white",
           "ticks": "",
           "title": {
            "standoff": 15
           },
           "zerolinecolor": "white",
           "zerolinewidth": 2
          },
          "yaxis": {
           "automargin": true,
           "gridcolor": "white",
           "linecolor": "white",
           "ticks": "",
           "title": {
            "standoff": 15
           },
           "zerolinecolor": "white",
           "zerolinewidth": 2
          }
         }
        },
        "title": {
         "text": "adobe-mu1gamma9",
         "x": 0.5
        },
        "width": 650,
        "xaxis": {
         "range": [
          0,
          222.06111
         ],
         "title": {
          "text": "Time (s)"
         }
        },
        "yaxis": {
         "title": {
          "text": "Salience"
         }
        }
       }
      }
     },
     "metadata": {},
     "output_type": "display_data"
    }
   ],
   "source": [
    "est_contour_weight.level().plot().show()\n",
    "est_contour_weight.level('mean_shift', bw=0.1).plot().show()"
   ]
  },
  {
   "cell_type": "code",
   "execution_count": 36,
   "id": "f3925a81",
   "metadata": {},
   "outputs": [
    {
     "data": {
      "application/vnd.plotly.v1+json": {
       "config": {
        "plotlyServerURL": "https://plot.ly"
       },
       "data": [
        {
         "hovertemplate": "<b>Boundary</b><br>Time: %{x:.3f}s<br>Salience: %{y:.3f}<extra></extra>",
         "line": {
          "color": "#666",
          "width": 1
         },
         "mode": "lines",
         "type": "scatter",
         "x": [
          8.54,
          8.54,
          null,
          9.8,
          9.8,
          null,
          11.06,
          11.06,
          null,
          12.98,
          12.98,
          null,
          13.61,
          13.61,
          null,
          16.16,
          16.16,
          null,
          32.12,
          32.12,
          null,
          32.75,
          32.75,
          null,
          54.6,
          54.6,
          null,
          55.25,
          55.25,
          null,
          61.67,
          61.67,
          null,
          62.31,
          62.31,
          null,
          63.59,
          63.59,
          null,
          64.24,
          64.24,
          null,
          74.5,
          74.5,
          null,
          75.15,
          75.15,
          null,
          93.14,
          93.14,
          null,
          93.81,
          93.81,
          null,
          94.44,
          94.44,
          null,
          103.47,
          103.47,
          null,
          104.14,
          104.14,
          null,
          104.77,
          104.77,
          null,
          105.4,
          105.4,
          null,
          109.28,
          109.28,
          null,
          111.83,
          111.83,
          null,
          117.6,
          117.6,
          null,
          152.97,
          152.97,
          null,
          153.6,
          153.6,
          null,
          158.65,
          158.65,
          null,
          159.28,
          159.28,
          null,
          159.92,
          159.92,
          null,
          168.89,
          168.89,
          null,
          169.52,
          169.52,
          null,
          170.82,
          170.82,
          null,
          171.47,
          171.47,
          null,
          190.02,
          190.02,
          null,
          190.65,
          190.65,
          null,
          191.31,
          191.31,
          null
         ],
         "y": [
          0,
          1,
          null,
          0,
          1,
          null,
          0,
          1,
          null,
          0,
          3,
          null,
          0,
          2,
          null,
          0,
          2,
          null,
          0,
          5,
          null,
          0,
          1,
          null,
          0,
          3,
          null,
          0,
          1,
          null,
          0,
          1,
          null,
          0,
          1,
          null,
          0,
          2,
          null,
          0,
          2,
          null,
          0,
          4,
          null,
          0,
          2,
          null,
          0,
          4,
          null,
          0,
          2,
          null,
          0,
          3,
          null,
          0,
          3,
          null,
          0,
          4,
          null,
          0,
          2,
          null,
          0,
          1,
          null,
          0,
          1,
          null,
          0,
          3,
          null,
          0,
          1,
          null,
          0,
          4,
          null,
          0,
          4,
          null,
          0,
          1,
          null,
          0,
          1,
          null,
          0,
          1,
          null,
          0,
          1,
          null,
          0,
          3,
          null,
          0,
          1,
          null,
          0,
          1,
          null,
          0,
          2,
          null,
          0,
          3,
          null,
          0,
          6,
          null
         ]
        }
       ],
       "layout": {
        "height": 300,
        "margin": {
         "b": 20,
         "l": 20,
         "r": 20,
         "t": 40
        },
        "shapes": [
         {
          "line": {
           "color": "#666",
           "width": 1
          },
          "opacity": 0.8,
          "type": "line",
          "x0": 0,
          "x1": 1,
          "xref": "x domain",
          "y0": 0,
          "y1": 0,
          "yref": "y"
         }
        ],
        "showlegend": false,
        "template": {
         "data": {
          "bar": [
           {
            "error_x": {
             "color": "#2a3f5f"
            },
            "error_y": {
             "color": "#2a3f5f"
            },
            "marker": {
             "line": {
              "color": "#E5ECF6",
              "width": 0.5
             },
             "pattern": {
              "fillmode": "overlay",
              "size": 10,
              "solidity": 0.2
             }
            },
            "type": "bar"
           }
          ],
          "barpolar": [
           {
            "marker": {
             "line": {
              "color": "#E5ECF6",
              "width": 0.5
             },
             "pattern": {
              "fillmode": "overlay",
              "size": 10,
              "solidity": 0.2
             }
            },
            "type": "barpolar"
           }
          ],
          "carpet": [
           {
            "aaxis": {
             "endlinecolor": "#2a3f5f",
             "gridcolor": "white",
             "linecolor": "white",
             "minorgridcolor": "white",
             "startlinecolor": "#2a3f5f"
            },
            "baxis": {
             "endlinecolor": "#2a3f5f",
             "gridcolor": "white",
             "linecolor": "white",
             "minorgridcolor": "white",
             "startlinecolor": "#2a3f5f"
            },
            "type": "carpet"
           }
          ],
          "choropleth": [
           {
            "colorbar": {
             "outlinewidth": 0,
             "ticks": ""
            },
            "type": "choropleth"
           }
          ],
          "contour": [
           {
            "colorbar": {
             "outlinewidth": 0,
             "ticks": ""
            },
            "colorscale": [
             [
              0,
              "#0d0887"
             ],
             [
              0.1111111111111111,
              "#46039f"
             ],
             [
              0.2222222222222222,
              "#7201a8"
             ],
             [
              0.3333333333333333,
              "#9c179e"
             ],
             [
              0.4444444444444444,
              "#bd3786"
             ],
             [
              0.5555555555555556,
              "#d8576b"
             ],
             [
              0.6666666666666666,
              "#ed7953"
             ],
             [
              0.7777777777777778,
              "#fb9f3a"
             ],
             [
              0.8888888888888888,
              "#fdca26"
             ],
             [
              1,
              "#f0f921"
             ]
            ],
            "type": "contour"
           }
          ],
          "contourcarpet": [
           {
            "colorbar": {
             "outlinewidth": 0,
             "ticks": ""
            },
            "type": "contourcarpet"
           }
          ],
          "heatmap": [
           {
            "colorbar": {
             "outlinewidth": 0,
             "ticks": ""
            },
            "colorscale": [
             [
              0,
              "#0d0887"
             ],
             [
              0.1111111111111111,
              "#46039f"
             ],
             [
              0.2222222222222222,
              "#7201a8"
             ],
             [
              0.3333333333333333,
              "#9c179e"
             ],
             [
              0.4444444444444444,
              "#bd3786"
             ],
             [
              0.5555555555555556,
              "#d8576b"
             ],
             [
              0.6666666666666666,
              "#ed7953"
             ],
             [
              0.7777777777777778,
              "#fb9f3a"
             ],
             [
              0.8888888888888888,
              "#fdca26"
             ],
             [
              1,
              "#f0f921"
             ]
            ],
            "type": "heatmap"
           }
          ],
          "histogram": [
           {
            "marker": {
             "pattern": {
              "fillmode": "overlay",
              "size": 10,
              "solidity": 0.2
             }
            },
            "type": "histogram"
           }
          ],
          "histogram2d": [
           {
            "colorbar": {
             "outlinewidth": 0,
             "ticks": ""
            },
            "colorscale": [
             [
              0,
              "#0d0887"
             ],
             [
              0.1111111111111111,
              "#46039f"
             ],
             [
              0.2222222222222222,
              "#7201a8"
             ],
             [
              0.3333333333333333,
              "#9c179e"
             ],
             [
              0.4444444444444444,
              "#bd3786"
             ],
             [
              0.5555555555555556,
              "#d8576b"
             ],
             [
              0.6666666666666666,
              "#ed7953"
             ],
             [
              0.7777777777777778,
              "#fb9f3a"
             ],
             [
              0.8888888888888888,
              "#fdca26"
             ],
             [
              1,
              "#f0f921"
             ]
            ],
            "type": "histogram2d"
           }
          ],
          "histogram2dcontour": [
           {
            "colorbar": {
             "outlinewidth": 0,
             "ticks": ""
            },
            "colorscale": [
             [
              0,
              "#0d0887"
             ],
             [
              0.1111111111111111,
              "#46039f"
             ],
             [
              0.2222222222222222,
              "#7201a8"
             ],
             [
              0.3333333333333333,
              "#9c179e"
             ],
             [
              0.4444444444444444,
              "#bd3786"
             ],
             [
              0.5555555555555556,
              "#d8576b"
             ],
             [
              0.6666666666666666,
              "#ed7953"
             ],
             [
              0.7777777777777778,
              "#fb9f3a"
             ],
             [
              0.8888888888888888,
              "#fdca26"
             ],
             [
              1,
              "#f0f921"
             ]
            ],
            "type": "histogram2dcontour"
           }
          ],
          "mesh3d": [
           {
            "colorbar": {
             "outlinewidth": 0,
             "ticks": ""
            },
            "type": "mesh3d"
           }
          ],
          "parcoords": [
           {
            "line": {
             "colorbar": {
              "outlinewidth": 0,
              "ticks": ""
             }
            },
            "type": "parcoords"
           }
          ],
          "pie": [
           {
            "automargin": true,
            "type": "pie"
           }
          ],
          "scatter": [
           {
            "fillpattern": {
             "fillmode": "overlay",
             "size": 10,
             "solidity": 0.2
            },
            "type": "scatter"
           }
          ],
          "scatter3d": [
           {
            "line": {
             "colorbar": {
              "outlinewidth": 0,
              "ticks": ""
             }
            },
            "marker": {
             "colorbar": {
              "outlinewidth": 0,
              "ticks": ""
             }
            },
            "type": "scatter3d"
           }
          ],
          "scattercarpet": [
           {
            "marker": {
             "colorbar": {
              "outlinewidth": 0,
              "ticks": ""
             }
            },
            "type": "scattercarpet"
           }
          ],
          "scattergeo": [
           {
            "marker": {
             "colorbar": {
              "outlinewidth": 0,
              "ticks": ""
             }
            },
            "type": "scattergeo"
           }
          ],
          "scattergl": [
           {
            "marker": {
             "colorbar": {
              "outlinewidth": 0,
              "ticks": ""
             }
            },
            "type": "scattergl"
           }
          ],
          "scattermap": [
           {
            "marker": {
             "colorbar": {
              "outlinewidth": 0,
              "ticks": ""
             }
            },
            "type": "scattermap"
           }
          ],
          "scattermapbox": [
           {
            "marker": {
             "colorbar": {
              "outlinewidth": 0,
              "ticks": ""
             }
            },
            "type": "scattermapbox"
           }
          ],
          "scatterpolar": [
           {
            "marker": {
             "colorbar": {
              "outlinewidth": 0,
              "ticks": ""
             }
            },
            "type": "scatterpolar"
           }
          ],
          "scatterpolargl": [
           {
            "marker": {
             "colorbar": {
              "outlinewidth": 0,
              "ticks": ""
             }
            },
            "type": "scatterpolargl"
           }
          ],
          "scatterternary": [
           {
            "marker": {
             "colorbar": {
              "outlinewidth": 0,
              "ticks": ""
             }
            },
            "type": "scatterternary"
           }
          ],
          "surface": [
           {
            "colorbar": {
             "outlinewidth": 0,
             "ticks": ""
            },
            "colorscale": [
             [
              0,
              "#0d0887"
             ],
             [
              0.1111111111111111,
              "#46039f"
             ],
             [
              0.2222222222222222,
              "#7201a8"
             ],
             [
              0.3333333333333333,
              "#9c179e"
             ],
             [
              0.4444444444444444,
              "#bd3786"
             ],
             [
              0.5555555555555556,
              "#d8576b"
             ],
             [
              0.6666666666666666,
              "#ed7953"
             ],
             [
              0.7777777777777778,
              "#fb9f3a"
             ],
             [
              0.8888888888888888,
              "#fdca26"
             ],
             [
              1,
              "#f0f921"
             ]
            ],
            "type": "surface"
           }
          ],
          "table": [
           {
            "cells": {
             "fill": {
              "color": "#EBF0F8"
             },
             "line": {
              "color": "white"
             }
            },
            "header": {
             "fill": {
              "color": "#C8D4E3"
             },
             "line": {
              "color": "white"
             }
            },
            "type": "table"
           }
          ]
         },
         "layout": {
          "annotationdefaults": {
           "arrowcolor": "#2a3f5f",
           "arrowhead": 0,
           "arrowwidth": 1
          },
          "autotypenumbers": "strict",
          "coloraxis": {
           "colorbar": {
            "outlinewidth": 0,
            "ticks": ""
           }
          },
          "colorscale": {
           "diverging": [
            [
             0,
             "#8e0152"
            ],
            [
             0.1,
             "#c51b7d"
            ],
            [
             0.2,
             "#de77ae"
            ],
            [
             0.3,
             "#f1b6da"
            ],
            [
             0.4,
             "#fde0ef"
            ],
            [
             0.5,
             "#f7f7f7"
            ],
            [
             0.6,
             "#e6f5d0"
            ],
            [
             0.7,
             "#b8e186"
            ],
            [
             0.8,
             "#7fbc41"
            ],
            [
             0.9,
             "#4d9221"
            ],
            [
             1,
             "#276419"
            ]
           ],
           "sequential": [
            [
             0,
             "#0d0887"
            ],
            [
             0.1111111111111111,
             "#46039f"
            ],
            [
             0.2222222222222222,
             "#7201a8"
            ],
            [
             0.3333333333333333,
             "#9c179e"
            ],
            [
             0.4444444444444444,
             "#bd3786"
            ],
            [
             0.5555555555555556,
             "#d8576b"
            ],
            [
             0.6666666666666666,
             "#ed7953"
            ],
            [
             0.7777777777777778,
             "#fb9f3a"
            ],
            [
             0.8888888888888888,
             "#fdca26"
            ],
            [
             1,
             "#f0f921"
            ]
           ],
           "sequentialminus": [
            [
             0,
             "#0d0887"
            ],
            [
             0.1111111111111111,
             "#46039f"
            ],
            [
             0.2222222222222222,
             "#7201a8"
            ],
            [
             0.3333333333333333,
             "#9c179e"
            ],
            [
             0.4444444444444444,
             "#bd3786"
            ],
            [
             0.5555555555555556,
             "#d8576b"
            ],
            [
             0.6666666666666666,
             "#ed7953"
            ],
            [
             0.7777777777777778,
             "#fb9f3a"
            ],
            [
             0.8888888888888888,
             "#fdca26"
            ],
            [
             1,
             "#f0f921"
            ]
           ]
          },
          "colorway": [
           "#636efa",
           "#EF553B",
           "#00cc96",
           "#ab63fa",
           "#FFA15A",
           "#19d3f3",
           "#FF6692",
           "#B6E880",
           "#FF97FF",
           "#FECB52"
          ],
          "font": {
           "color": "#2a3f5f"
          },
          "geo": {
           "bgcolor": "white",
           "lakecolor": "white",
           "landcolor": "#E5ECF6",
           "showlakes": true,
           "showland": true,
           "subunitcolor": "white"
          },
          "hoverlabel": {
           "align": "left"
          },
          "hovermode": "closest",
          "mapbox": {
           "style": "light"
          },
          "paper_bgcolor": "white",
          "plot_bgcolor": "#E5ECF6",
          "polar": {
           "angularaxis": {
            "gridcolor": "white",
            "linecolor": "white",
            "ticks": ""
           },
           "bgcolor": "#E5ECF6",
           "radialaxis": {
            "gridcolor": "white",
            "linecolor": "white",
            "ticks": ""
           }
          },
          "scene": {
           "xaxis": {
            "backgroundcolor": "#E5ECF6",
            "gridcolor": "white",
            "gridwidth": 2,
            "linecolor": "white",
            "showbackground": true,
            "ticks": "",
            "zerolinecolor": "white"
           },
           "yaxis": {
            "backgroundcolor": "#E5ECF6",
            "gridcolor": "white",
            "gridwidth": 2,
            "linecolor": "white",
            "showbackground": true,
            "ticks": "",
            "zerolinecolor": "white"
           },
           "zaxis": {
            "backgroundcolor": "#E5ECF6",
            "gridcolor": "white",
            "gridwidth": 2,
            "linecolor": "white",
            "showbackground": true,
            "ticks": "",
            "zerolinecolor": "white"
           }
          },
          "shapedefaults": {
           "line": {
            "color": "#2a3f5f"
           }
          },
          "ternary": {
           "aaxis": {
            "gridcolor": "white",
            "linecolor": "white",
            "ticks": ""
           },
           "baxis": {
            "gridcolor": "white",
            "linecolor": "white",
            "ticks": ""
           },
           "bgcolor": "#E5ECF6",
           "caxis": {
            "gridcolor": "white",
            "linecolor": "white",
            "ticks": ""
           }
          },
          "title": {
           "x": 0.05
          },
          "xaxis": {
           "automargin": true,
           "gridcolor": "white",
           "linecolor": "white",
           "ticks": "",
           "title": {
            "standoff": 15
           },
           "zerolinecolor": "white",
           "zerolinewidth": 2
          },
          "yaxis": {
           "automargin": true,
           "gridcolor": "white",
           "linecolor": "white",
           "ticks": "",
           "title": {
            "standoff": 15
           },
           "zerolinecolor": "white",
           "zerolinewidth": 2
          }
         }
        },
        "title": {
         "text": "adobe-mu1gamma9",
         "x": 0.5
        },
        "width": 650,
        "xaxis": {
         "range": [
          0,
          222.06111
         ],
         "title": {
          "text": "Time (s)"
         }
        },
        "yaxis": {
         "title": {
          "text": "Salience"
         }
        }
       }
      }
     },
     "metadata": {},
     "output_type": "display_data"
    },
    {
     "data": {
      "application/vnd.plotly.v1+json": {
       "config": {
        "plotlyServerURL": "https://plot.ly"
       },
       "data": [
        {
         "hovertemplate": "<b>Boundary</b><br>Time: %{x:.3f}s<br>Salience: %{y:.3f}<extra></extra>",
         "line": {
          "color": "#666",
          "width": 1
         },
         "mode": "lines",
         "type": "scatter",
         "x": [
          8.54,
          8.54,
          null,
          9.8,
          9.8,
          null,
          11.06,
          11.06,
          null,
          12.98,
          12.98,
          null,
          13.61,
          13.61,
          null,
          16.16,
          16.16,
          null,
          32.12,
          32.12,
          null,
          32.75,
          32.75,
          null,
          54.6,
          54.6,
          null,
          55.25,
          55.25,
          null,
          61.67,
          61.67,
          null,
          62.31,
          62.31,
          null,
          63.59,
          63.59,
          null,
          64.24,
          64.24,
          null,
          74.5,
          74.5,
          null,
          75.15,
          75.15,
          null,
          93.14,
          93.14,
          null,
          93.81,
          93.81,
          null,
          94.44,
          94.44,
          null,
          103.47,
          103.47,
          null,
          104.14,
          104.14,
          null,
          104.77,
          104.77,
          null,
          105.4,
          105.4,
          null,
          109.28,
          109.28,
          null,
          111.83,
          111.83,
          null,
          117.6,
          117.6,
          null,
          152.97,
          152.97,
          null,
          153.6,
          153.6,
          null,
          158.65,
          158.65,
          null,
          159.28,
          159.28,
          null,
          159.92,
          159.92,
          null,
          168.89,
          168.89,
          null,
          169.52,
          169.52,
          null,
          170.82,
          170.82,
          null,
          171.47,
          171.47,
          null,
          190.02,
          190.02,
          null,
          190.65,
          190.65,
          null,
          191.31,
          191.31,
          null
         ],
         "y": [
          0,
          1,
          null,
          0,
          1,
          null,
          0,
          1,
          null,
          0,
          3,
          null,
          0,
          2,
          null,
          0,
          2,
          null,
          0,
          5,
          null,
          0,
          1,
          null,
          0,
          3,
          null,
          0,
          1,
          null,
          0,
          1,
          null,
          0,
          1,
          null,
          0,
          2,
          null,
          0,
          2,
          null,
          0,
          4,
          null,
          0,
          2,
          null,
          0,
          4,
          null,
          0,
          2,
          null,
          0,
          3,
          null,
          0,
          3,
          null,
          0,
          4,
          null,
          0,
          2,
          null,
          0,
          1,
          null,
          0,
          1,
          null,
          0,
          3,
          null,
          0,
          1,
          null,
          0,
          4,
          null,
          0,
          4,
          null,
          0,
          1,
          null,
          0,
          1,
          null,
          0,
          1,
          null,
          0,
          1,
          null,
          0,
          3,
          null,
          0,
          1,
          null,
          0,
          1,
          null,
          0,
          2,
          null,
          0,
          3,
          null,
          0,
          6,
          null
         ]
        }
       ],
       "layout": {
        "height": 300,
        "margin": {
         "b": 20,
         "l": 20,
         "r": 20,
         "t": 40
        },
        "shapes": [
         {
          "line": {
           "color": "#666",
           "width": 1
          },
          "opacity": 0.8,
          "type": "line",
          "x0": 0,
          "x1": 1,
          "xref": "x domain",
          "y0": 0,
          "y1": 0,
          "yref": "y"
         }
        ],
        "showlegend": false,
        "template": {
         "data": {
          "bar": [
           {
            "error_x": {
             "color": "#2a3f5f"
            },
            "error_y": {
             "color": "#2a3f5f"
            },
            "marker": {
             "line": {
              "color": "#E5ECF6",
              "width": 0.5
             },
             "pattern": {
              "fillmode": "overlay",
              "size": 10,
              "solidity": 0.2
             }
            },
            "type": "bar"
           }
          ],
          "barpolar": [
           {
            "marker": {
             "line": {
              "color": "#E5ECF6",
              "width": 0.5
             },
             "pattern": {
              "fillmode": "overlay",
              "size": 10,
              "solidity": 0.2
             }
            },
            "type": "barpolar"
           }
          ],
          "carpet": [
           {
            "aaxis": {
             "endlinecolor": "#2a3f5f",
             "gridcolor": "white",
             "linecolor": "white",
             "minorgridcolor": "white",
             "startlinecolor": "#2a3f5f"
            },
            "baxis": {
             "endlinecolor": "#2a3f5f",
             "gridcolor": "white",
             "linecolor": "white",
             "minorgridcolor": "white",
             "startlinecolor": "#2a3f5f"
            },
            "type": "carpet"
           }
          ],
          "choropleth": [
           {
            "colorbar": {
             "outlinewidth": 0,
             "ticks": ""
            },
            "type": "choropleth"
           }
          ],
          "contour": [
           {
            "colorbar": {
             "outlinewidth": 0,
             "ticks": ""
            },
            "colorscale": [
             [
              0,
              "#0d0887"
             ],
             [
              0.1111111111111111,
              "#46039f"
             ],
             [
              0.2222222222222222,
              "#7201a8"
             ],
             [
              0.3333333333333333,
              "#9c179e"
             ],
             [
              0.4444444444444444,
              "#bd3786"
             ],
             [
              0.5555555555555556,
              "#d8576b"
             ],
             [
              0.6666666666666666,
              "#ed7953"
             ],
             [
              0.7777777777777778,
              "#fb9f3a"
             ],
             [
              0.8888888888888888,
              "#fdca26"
             ],
             [
              1,
              "#f0f921"
             ]
            ],
            "type": "contour"
           }
          ],
          "contourcarpet": [
           {
            "colorbar": {
             "outlinewidth": 0,
             "ticks": ""
            },
            "type": "contourcarpet"
           }
          ],
          "heatmap": [
           {
            "colorbar": {
             "outlinewidth": 0,
             "ticks": ""
            },
            "colorscale": [
             [
              0,
              "#0d0887"
             ],
             [
              0.1111111111111111,
              "#46039f"
             ],
             [
              0.2222222222222222,
              "#7201a8"
             ],
             [
              0.3333333333333333,
              "#9c179e"
             ],
             [
              0.4444444444444444,
              "#bd3786"
             ],
             [
              0.5555555555555556,
              "#d8576b"
             ],
             [
              0.6666666666666666,
              "#ed7953"
             ],
             [
              0.7777777777777778,
              "#fb9f3a"
             ],
             [
              0.8888888888888888,
              "#fdca26"
             ],
             [
              1,
              "#f0f921"
             ]
            ],
            "type": "heatmap"
           }
          ],
          "histogram": [
           {
            "marker": {
             "pattern": {
              "fillmode": "overlay",
              "size": 10,
              "solidity": 0.2
             }
            },
            "type": "histogram"
           }
          ],
          "histogram2d": [
           {
            "colorbar": {
             "outlinewidth": 0,
             "ticks": ""
            },
            "colorscale": [
             [
              0,
              "#0d0887"
             ],
             [
              0.1111111111111111,
              "#46039f"
             ],
             [
              0.2222222222222222,
              "#7201a8"
             ],
             [
              0.3333333333333333,
              "#9c179e"
             ],
             [
              0.4444444444444444,
              "#bd3786"
             ],
             [
              0.5555555555555556,
              "#d8576b"
             ],
             [
              0.6666666666666666,
              "#ed7953"
             ],
             [
              0.7777777777777778,
              "#fb9f3a"
             ],
             [
              0.8888888888888888,
              "#fdca26"
             ],
             [
              1,
              "#f0f921"
             ]
            ],
            "type": "histogram2d"
           }
          ],
          "histogram2dcontour": [
           {
            "colorbar": {
             "outlinewidth": 0,
             "ticks": ""
            },
            "colorscale": [
             [
              0,
              "#0d0887"
             ],
             [
              0.1111111111111111,
              "#46039f"
             ],
             [
              0.2222222222222222,
              "#7201a8"
             ],
             [
              0.3333333333333333,
              "#9c179e"
             ],
             [
              0.4444444444444444,
              "#bd3786"
             ],
             [
              0.5555555555555556,
              "#d8576b"
             ],
             [
              0.6666666666666666,
              "#ed7953"
             ],
             [
              0.7777777777777778,
              "#fb9f3a"
             ],
             [
              0.8888888888888888,
              "#fdca26"
             ],
             [
              1,
              "#f0f921"
             ]
            ],
            "type": "histogram2dcontour"
           }
          ],
          "mesh3d": [
           {
            "colorbar": {
             "outlinewidth": 0,
             "ticks": ""
            },
            "type": "mesh3d"
           }
          ],
          "parcoords": [
           {
            "line": {
             "colorbar": {
              "outlinewidth": 0,
              "ticks": ""
             }
            },
            "type": "parcoords"
           }
          ],
          "pie": [
           {
            "automargin": true,
            "type": "pie"
           }
          ],
          "scatter": [
           {
            "fillpattern": {
             "fillmode": "overlay",
             "size": 10,
             "solidity": 0.2
            },
            "type": "scatter"
           }
          ],
          "scatter3d": [
           {
            "line": {
             "colorbar": {
              "outlinewidth": 0,
              "ticks": ""
             }
            },
            "marker": {
             "colorbar": {
              "outlinewidth": 0,
              "ticks": ""
             }
            },
            "type": "scatter3d"
           }
          ],
          "scattercarpet": [
           {
            "marker": {
             "colorbar": {
              "outlinewidth": 0,
              "ticks": ""
             }
            },
            "type": "scattercarpet"
           }
          ],
          "scattergeo": [
           {
            "marker": {
             "colorbar": {
              "outlinewidth": 0,
              "ticks": ""
             }
            },
            "type": "scattergeo"
           }
          ],
          "scattergl": [
           {
            "marker": {
             "colorbar": {
              "outlinewidth": 0,
              "ticks": ""
             }
            },
            "type": "scattergl"
           }
          ],
          "scattermap": [
           {
            "marker": {
             "colorbar": {
              "outlinewidth": 0,
              "ticks": ""
             }
            },
            "type": "scattermap"
           }
          ],
          "scattermapbox": [
           {
            "marker": {
             "colorbar": {
              "outlinewidth": 0,
              "ticks": ""
             }
            },
            "type": "scattermapbox"
           }
          ],
          "scatterpolar": [
           {
            "marker": {
             "colorbar": {
              "outlinewidth": 0,
              "ticks": ""
             }
            },
            "type": "scatterpolar"
           }
          ],
          "scatterpolargl": [
           {
            "marker": {
             "colorbar": {
              "outlinewidth": 0,
              "ticks": ""
             }
            },
            "type": "scatterpolargl"
           }
          ],
          "scatterternary": [
           {
            "marker": {
             "colorbar": {
              "outlinewidth": 0,
              "ticks": ""
             }
            },
            "type": "scatterternary"
           }
          ],
          "surface": [
           {
            "colorbar": {
             "outlinewidth": 0,
             "ticks": ""
            },
            "colorscale": [
             [
              0,
              "#0d0887"
             ],
             [
              0.1111111111111111,
              "#46039f"
             ],
             [
              0.2222222222222222,
              "#7201a8"
             ],
             [
              0.3333333333333333,
              "#9c179e"
             ],
             [
              0.4444444444444444,
              "#bd3786"
             ],
             [
              0.5555555555555556,
              "#d8576b"
             ],
             [
              0.6666666666666666,
              "#ed7953"
             ],
             [
              0.7777777777777778,
              "#fb9f3a"
             ],
             [
              0.8888888888888888,
              "#fdca26"
             ],
             [
              1,
              "#f0f921"
             ]
            ],
            "type": "surface"
           }
          ],
          "table": [
           {
            "cells": {
             "fill": {
              "color": "#EBF0F8"
             },
             "line": {
              "color": "white"
             }
            },
            "header": {
             "fill": {
              "color": "#C8D4E3"
             },
             "line": {
              "color": "white"
             }
            },
            "type": "table"
           }
          ]
         },
         "layout": {
          "annotationdefaults": {
           "arrowcolor": "#2a3f5f",
           "arrowhead": 0,
           "arrowwidth": 1
          },
          "autotypenumbers": "strict",
          "coloraxis": {
           "colorbar": {
            "outlinewidth": 0,
            "ticks": ""
           }
          },
          "colorscale": {
           "diverging": [
            [
             0,
             "#8e0152"
            ],
            [
             0.1,
             "#c51b7d"
            ],
            [
             0.2,
             "#de77ae"
            ],
            [
             0.3,
             "#f1b6da"
            ],
            [
             0.4,
             "#fde0ef"
            ],
            [
             0.5,
             "#f7f7f7"
            ],
            [
             0.6,
             "#e6f5d0"
            ],
            [
             0.7,
             "#b8e186"
            ],
            [
             0.8,
             "#7fbc41"
            ],
            [
             0.9,
             "#4d9221"
            ],
            [
             1,
             "#276419"
            ]
           ],
           "sequential": [
            [
             0,
             "#0d0887"
            ],
            [
             0.1111111111111111,
             "#46039f"
            ],
            [
             0.2222222222222222,
             "#7201a8"
            ],
            [
             0.3333333333333333,
             "#9c179e"
            ],
            [
             0.4444444444444444,
             "#bd3786"
            ],
            [
             0.5555555555555556,
             "#d8576b"
            ],
            [
             0.6666666666666666,
             "#ed7953"
            ],
            [
             0.7777777777777778,
             "#fb9f3a"
            ],
            [
             0.8888888888888888,
             "#fdca26"
            ],
            [
             1,
             "#f0f921"
            ]
           ],
           "sequentialminus": [
            [
             0,
             "#0d0887"
            ],
            [
             0.1111111111111111,
             "#46039f"
            ],
            [
             0.2222222222222222,
             "#7201a8"
            ],
            [
             0.3333333333333333,
             "#9c179e"
            ],
            [
             0.4444444444444444,
             "#bd3786"
            ],
            [
             0.5555555555555556,
             "#d8576b"
            ],
            [
             0.6666666666666666,
             "#ed7953"
            ],
            [
             0.7777777777777778,
             "#fb9f3a"
            ],
            [
             0.8888888888888888,
             "#fdca26"
            ],
            [
             1,
             "#f0f921"
            ]
           ]
          },
          "colorway": [
           "#636efa",
           "#EF553B",
           "#00cc96",
           "#ab63fa",
           "#FFA15A",
           "#19d3f3",
           "#FF6692",
           "#B6E880",
           "#FF97FF",
           "#FECB52"
          ],
          "font": {
           "color": "#2a3f5f"
          },
          "geo": {
           "bgcolor": "white",
           "lakecolor": "white",
           "landcolor": "#E5ECF6",
           "showlakes": true,
           "showland": true,
           "subunitcolor": "white"
          },
          "hoverlabel": {
           "align": "left"
          },
          "hovermode": "closest",
          "mapbox": {
           "style": "light"
          },
          "paper_bgcolor": "white",
          "plot_bgcolor": "#E5ECF6",
          "polar": {
           "angularaxis": {
            "gridcolor": "white",
            "linecolor": "white",
            "ticks": ""
           },
           "bgcolor": "#E5ECF6",
           "radialaxis": {
            "gridcolor": "white",
            "linecolor": "white",
            "ticks": ""
           }
          },
          "scene": {
           "xaxis": {
            "backgroundcolor": "#E5ECF6",
            "gridcolor": "white",
            "gridwidth": 2,
            "linecolor": "white",
            "showbackground": true,
            "ticks": "",
            "zerolinecolor": "white"
           },
           "yaxis": {
            "backgroundcolor": "#E5ECF6",
            "gridcolor": "white",
            "gridwidth": 2,
            "linecolor": "white",
            "showbackground": true,
            "ticks": "",
            "zerolinecolor": "white"
           },
           "zaxis": {
            "backgroundcolor": "#E5ECF6",
            "gridcolor": "white",
            "gridwidth": 2,
            "linecolor": "white",
            "showbackground": true,
            "ticks": "",
            "zerolinecolor": "white"
           }
          },
          "shapedefaults": {
           "line": {
            "color": "#2a3f5f"
           }
          },
          "ternary": {
           "aaxis": {
            "gridcolor": "white",
            "linecolor": "white",
            "ticks": ""
           },
           "baxis": {
            "gridcolor": "white",
            "linecolor": "white",
            "ticks": ""
           },
           "bgcolor": "#E5ECF6",
           "caxis": {
            "gridcolor": "white",
            "linecolor": "white",
            "ticks": ""
           }
          },
          "title": {
           "x": 0.05
          },
          "xaxis": {
           "automargin": true,
           "gridcolor": "white",
           "linecolor": "white",
           "ticks": "",
           "title": {
            "standoff": 15
           },
           "zerolinecolor": "white",
           "zerolinewidth": 2
          },
          "yaxis": {
           "automargin": true,
           "gridcolor": "white",
           "linecolor": "white",
           "ticks": "",
           "title": {
            "standoff": 15
           },
           "zerolinecolor": "white",
           "zerolinewidth": 2
          }
         }
        },
        "title": {
         "text": "adobe-mu1gamma9",
         "x": 0.5
        },
        "width": 650,
        "xaxis": {
         "range": [
          0,
          222.06111
         ],
         "title": {
          "text": "Time (s)"
         }
        },
        "yaxis": {
         "title": {
          "text": "Salience"
         }
        }
       }
      }
     },
     "metadata": {},
     "output_type": "display_data"
    }
   ],
   "source": [
    "est_contour_count.level().plot().show()\n",
    "est_contour_count.level('mean_shift', bw=0.1).plot().show()"
   ]
  },
  {
   "cell_type": "code",
   "execution_count": 38,
   "id": "abc4a13a",
   "metadata": {},
   "outputs": [
    {
     "data": {
      "application/vnd.plotly.v1+json": {
       "config": {
        "plotlyServerURL": "https://plot.ly"
       },
       "data": [
        {
         "hovertemplate": "<b>Boundary</b><br>Time: %{x:.3f}s<br>Salience: %{y:.3f}<extra></extra>",
         "line": {
          "color": "#666",
          "width": 1
         },
         "mode": "lines",
         "type": "scatter",
         "x": [
          8.54,
          8.54,
          null,
          9.8,
          9.8,
          null,
          11.06,
          11.06,
          null,
          12.98,
          12.98,
          null,
          13.61,
          13.61,
          null,
          16.16,
          16.16,
          null,
          32.12,
          32.12,
          null,
          32.75,
          32.75,
          null,
          54.6,
          54.6,
          null,
          55.25,
          55.25,
          null,
          61.67,
          61.67,
          null,
          62.31,
          62.31,
          null,
          63.59,
          63.59,
          null,
          64.24,
          64.24,
          null,
          74.5,
          74.5,
          null,
          75.15,
          75.15,
          null,
          93.14,
          93.14,
          null,
          93.81,
          93.81,
          null,
          94.44,
          94.44,
          null,
          103.47,
          103.47,
          null,
          104.14,
          104.14,
          null,
          104.77,
          104.77,
          null,
          105.4,
          105.4,
          null,
          109.28,
          109.28,
          null,
          111.83,
          111.83,
          null,
          117.6,
          117.6,
          null,
          152.97,
          152.97,
          null,
          153.6,
          153.6,
          null,
          158.65,
          158.65,
          null,
          159.28,
          159.28,
          null,
          159.92,
          159.92,
          null,
          168.89,
          168.89,
          null,
          169.52,
          169.52,
          null,
          170.82,
          170.82,
          null,
          171.47,
          171.47,
          null,
          190.02,
          190.02,
          null,
          190.65,
          190.65,
          null,
          191.31,
          191.31,
          null
         ],
         "y": [
          0,
          6,
          null,
          0,
          2,
          null,
          0,
          5,
          null,
          0,
          11,
          null,
          0,
          7,
          null,
          0,
          4,
          null,
          0,
          17,
          null,
          0,
          2,
          null,
          0,
          8,
          null,
          0,
          2,
          null,
          0,
          3,
          null,
          0,
          2,
          null,
          0,
          5,
          null,
          0,
          4,
          null,
          0,
          12,
          null,
          0,
          5,
          null,
          0,
          16,
          null,
          0,
          5,
          null,
          0,
          15,
          null,
          0,
          14,
          null,
          0,
          20,
          null,
          0,
          5,
          null,
          0,
          2,
          null,
          0,
          1,
          null,
          0,
          14,
          null,
          0,
          1,
          null,
          0,
          18,
          null,
          0,
          19,
          null,
          0,
          2,
          null,
          0,
          2,
          null,
          0,
          2,
          null,
          0,
          2,
          null,
          0,
          9,
          null,
          0,
          1,
          null,
          0,
          2,
          null,
          0,
          10,
          null,
          0,
          13,
          null,
          0,
          21,
          null
         ]
        }
       ],
       "layout": {
        "height": 300,
        "margin": {
         "b": 20,
         "l": 20,
         "r": 20,
         "t": 40
        },
        "shapes": [
         {
          "line": {
           "color": "#666",
           "width": 1
          },
          "opacity": 0.8,
          "type": "line",
          "x0": 0,
          "x1": 1,
          "xref": "x domain",
          "y0": 0,
          "y1": 0,
          "yref": "y"
         }
        ],
        "showlegend": false,
        "template": {
         "data": {
          "bar": [
           {
            "error_x": {
             "color": "#2a3f5f"
            },
            "error_y": {
             "color": "#2a3f5f"
            },
            "marker": {
             "line": {
              "color": "#E5ECF6",
              "width": 0.5
             },
             "pattern": {
              "fillmode": "overlay",
              "size": 10,
              "solidity": 0.2
             }
            },
            "type": "bar"
           }
          ],
          "barpolar": [
           {
            "marker": {
             "line": {
              "color": "#E5ECF6",
              "width": 0.5
             },
             "pattern": {
              "fillmode": "overlay",
              "size": 10,
              "solidity": 0.2
             }
            },
            "type": "barpolar"
           }
          ],
          "carpet": [
           {
            "aaxis": {
             "endlinecolor": "#2a3f5f",
             "gridcolor": "white",
             "linecolor": "white",
             "minorgridcolor": "white",
             "startlinecolor": "#2a3f5f"
            },
            "baxis": {
             "endlinecolor": "#2a3f5f",
             "gridcolor": "white",
             "linecolor": "white",
             "minorgridcolor": "white",
             "startlinecolor": "#2a3f5f"
            },
            "type": "carpet"
           }
          ],
          "choropleth": [
           {
            "colorbar": {
             "outlinewidth": 0,
             "ticks": ""
            },
            "type": "choropleth"
           }
          ],
          "contour": [
           {
            "colorbar": {
             "outlinewidth": 0,
             "ticks": ""
            },
            "colorscale": [
             [
              0,
              "#0d0887"
             ],
             [
              0.1111111111111111,
              "#46039f"
             ],
             [
              0.2222222222222222,
              "#7201a8"
             ],
             [
              0.3333333333333333,
              "#9c179e"
             ],
             [
              0.4444444444444444,
              "#bd3786"
             ],
             [
              0.5555555555555556,
              "#d8576b"
             ],
             [
              0.6666666666666666,
              "#ed7953"
             ],
             [
              0.7777777777777778,
              "#fb9f3a"
             ],
             [
              0.8888888888888888,
              "#fdca26"
             ],
             [
              1,
              "#f0f921"
             ]
            ],
            "type": "contour"
           }
          ],
          "contourcarpet": [
           {
            "colorbar": {
             "outlinewidth": 0,
             "ticks": ""
            },
            "type": "contourcarpet"
           }
          ],
          "heatmap": [
           {
            "colorbar": {
             "outlinewidth": 0,
             "ticks": ""
            },
            "colorscale": [
             [
              0,
              "#0d0887"
             ],
             [
              0.1111111111111111,
              "#46039f"
             ],
             [
              0.2222222222222222,
              "#7201a8"
             ],
             [
              0.3333333333333333,
              "#9c179e"
             ],
             [
              0.4444444444444444,
              "#bd3786"
             ],
             [
              0.5555555555555556,
              "#d8576b"
             ],
             [
              0.6666666666666666,
              "#ed7953"
             ],
             [
              0.7777777777777778,
              "#fb9f3a"
             ],
             [
              0.8888888888888888,
              "#fdca26"
             ],
             [
              1,
              "#f0f921"
             ]
            ],
            "type": "heatmap"
           }
          ],
          "histogram": [
           {
            "marker": {
             "pattern": {
              "fillmode": "overlay",
              "size": 10,
              "solidity": 0.2
             }
            },
            "type": "histogram"
           }
          ],
          "histogram2d": [
           {
            "colorbar": {
             "outlinewidth": 0,
             "ticks": ""
            },
            "colorscale": [
             [
              0,
              "#0d0887"
             ],
             [
              0.1111111111111111,
              "#46039f"
             ],
             [
              0.2222222222222222,
              "#7201a8"
             ],
             [
              0.3333333333333333,
              "#9c179e"
             ],
             [
              0.4444444444444444,
              "#bd3786"
             ],
             [
              0.5555555555555556,
              "#d8576b"
             ],
             [
              0.6666666666666666,
              "#ed7953"
             ],
             [
              0.7777777777777778,
              "#fb9f3a"
             ],
             [
              0.8888888888888888,
              "#fdca26"
             ],
             [
              1,
              "#f0f921"
             ]
            ],
            "type": "histogram2d"
           }
          ],
          "histogram2dcontour": [
           {
            "colorbar": {
             "outlinewidth": 0,
             "ticks": ""
            },
            "colorscale": [
             [
              0,
              "#0d0887"
             ],
             [
              0.1111111111111111,
              "#46039f"
             ],
             [
              0.2222222222222222,
              "#7201a8"
             ],
             [
              0.3333333333333333,
              "#9c179e"
             ],
             [
              0.4444444444444444,
              "#bd3786"
             ],
             [
              0.5555555555555556,
              "#d8576b"
             ],
             [
              0.6666666666666666,
              "#ed7953"
             ],
             [
              0.7777777777777778,
              "#fb9f3a"
             ],
             [
              0.8888888888888888,
              "#fdca26"
             ],
             [
              1,
              "#f0f921"
             ]
            ],
            "type": "histogram2dcontour"
           }
          ],
          "mesh3d": [
           {
            "colorbar": {
             "outlinewidth": 0,
             "ticks": ""
            },
            "type": "mesh3d"
           }
          ],
          "parcoords": [
           {
            "line": {
             "colorbar": {
              "outlinewidth": 0,
              "ticks": ""
             }
            },
            "type": "parcoords"
           }
          ],
          "pie": [
           {
            "automargin": true,
            "type": "pie"
           }
          ],
          "scatter": [
           {
            "fillpattern": {
             "fillmode": "overlay",
             "size": 10,
             "solidity": 0.2
            },
            "type": "scatter"
           }
          ],
          "scatter3d": [
           {
            "line": {
             "colorbar": {
              "outlinewidth": 0,
              "ticks": ""
             }
            },
            "marker": {
             "colorbar": {
              "outlinewidth": 0,
              "ticks": ""
             }
            },
            "type": "scatter3d"
           }
          ],
          "scattercarpet": [
           {
            "marker": {
             "colorbar": {
              "outlinewidth": 0,
              "ticks": ""
             }
            },
            "type": "scattercarpet"
           }
          ],
          "scattergeo": [
           {
            "marker": {
             "colorbar": {
              "outlinewidth": 0,
              "ticks": ""
             }
            },
            "type": "scattergeo"
           }
          ],
          "scattergl": [
           {
            "marker": {
             "colorbar": {
              "outlinewidth": 0,
              "ticks": ""
             }
            },
            "type": "scattergl"
           }
          ],
          "scattermap": [
           {
            "marker": {
             "colorbar": {
              "outlinewidth": 0,
              "ticks": ""
             }
            },
            "type": "scattermap"
           }
          ],
          "scattermapbox": [
           {
            "marker": {
             "colorbar": {
              "outlinewidth": 0,
              "ticks": ""
             }
            },
            "type": "scattermapbox"
           }
          ],
          "scatterpolar": [
           {
            "marker": {
             "colorbar": {
              "outlinewidth": 0,
              "ticks": ""
             }
            },
            "type": "scatterpolar"
           }
          ],
          "scatterpolargl": [
           {
            "marker": {
             "colorbar": {
              "outlinewidth": 0,
              "ticks": ""
             }
            },
            "type": "scatterpolargl"
           }
          ],
          "scatterternary": [
           {
            "marker": {
             "colorbar": {
              "outlinewidth": 0,
              "ticks": ""
             }
            },
            "type": "scatterternary"
           }
          ],
          "surface": [
           {
            "colorbar": {
             "outlinewidth": 0,
             "ticks": ""
            },
            "colorscale": [
             [
              0,
              "#0d0887"
             ],
             [
              0.1111111111111111,
              "#46039f"
             ],
             [
              0.2222222222222222,
              "#7201a8"
             ],
             [
              0.3333333333333333,
              "#9c179e"
             ],
             [
              0.4444444444444444,
              "#bd3786"
             ],
             [
              0.5555555555555556,
              "#d8576b"
             ],
             [
              0.6666666666666666,
              "#ed7953"
             ],
             [
              0.7777777777777778,
              "#fb9f3a"
             ],
             [
              0.8888888888888888,
              "#fdca26"
             ],
             [
              1,
              "#f0f921"
             ]
            ],
            "type": "surface"
           }
          ],
          "table": [
           {
            "cells": {
             "fill": {
              "color": "#EBF0F8"
             },
             "line": {
              "color": "white"
             }
            },
            "header": {
             "fill": {
              "color": "#C8D4E3"
             },
             "line": {
              "color": "white"
             }
            },
            "type": "table"
           }
          ]
         },
         "layout": {
          "annotationdefaults": {
           "arrowcolor": "#2a3f5f",
           "arrowhead": 0,
           "arrowwidth": 1
          },
          "autotypenumbers": "strict",
          "coloraxis": {
           "colorbar": {
            "outlinewidth": 0,
            "ticks": ""
           }
          },
          "colorscale": {
           "diverging": [
            [
             0,
             "#8e0152"
            ],
            [
             0.1,
             "#c51b7d"
            ],
            [
             0.2,
             "#de77ae"
            ],
            [
             0.3,
             "#f1b6da"
            ],
            [
             0.4,
             "#fde0ef"
            ],
            [
             0.5,
             "#f7f7f7"
            ],
            [
             0.6,
             "#e6f5d0"
            ],
            [
             0.7,
             "#b8e186"
            ],
            [
             0.8,
             "#7fbc41"
            ],
            [
             0.9,
             "#4d9221"
            ],
            [
             1,
             "#276419"
            ]
           ],
           "sequential": [
            [
             0,
             "#0d0887"
            ],
            [
             0.1111111111111111,
             "#46039f"
            ],
            [
             0.2222222222222222,
             "#7201a8"
            ],
            [
             0.3333333333333333,
             "#9c179e"
            ],
            [
             0.4444444444444444,
             "#bd3786"
            ],
            [
             0.5555555555555556,
             "#d8576b"
            ],
            [
             0.6666666666666666,
             "#ed7953"
            ],
            [
             0.7777777777777778,
             "#fb9f3a"
            ],
            [
             0.8888888888888888,
             "#fdca26"
            ],
            [
             1,
             "#f0f921"
            ]
           ],
           "sequentialminus": [
            [
             0,
             "#0d0887"
            ],
            [
             0.1111111111111111,
             "#46039f"
            ],
            [
             0.2222222222222222,
             "#7201a8"
            ],
            [
             0.3333333333333333,
             "#9c179e"
            ],
            [
             0.4444444444444444,
             "#bd3786"
            ],
            [
             0.5555555555555556,
             "#d8576b"
            ],
            [
             0.6666666666666666,
             "#ed7953"
            ],
            [
             0.7777777777777778,
             "#fb9f3a"
            ],
            [
             0.8888888888888888,
             "#fdca26"
            ],
            [
             1,
             "#f0f921"
            ]
           ]
          },
          "colorway": [
           "#636efa",
           "#EF553B",
           "#00cc96",
           "#ab63fa",
           "#FFA15A",
           "#19d3f3",
           "#FF6692",
           "#B6E880",
           "#FF97FF",
           "#FECB52"
          ],
          "font": {
           "color": "#2a3f5f"
          },
          "geo": {
           "bgcolor": "white",
           "lakecolor": "white",
           "landcolor": "#E5ECF6",
           "showlakes": true,
           "showland": true,
           "subunitcolor": "white"
          },
          "hoverlabel": {
           "align": "left"
          },
          "hovermode": "closest",
          "mapbox": {
           "style": "light"
          },
          "paper_bgcolor": "white",
          "plot_bgcolor": "#E5ECF6",
          "polar": {
           "angularaxis": {
            "gridcolor": "white",
            "linecolor": "white",
            "ticks": ""
           },
           "bgcolor": "#E5ECF6",
           "radialaxis": {
            "gridcolor": "white",
            "linecolor": "white",
            "ticks": ""
           }
          },
          "scene": {
           "xaxis": {
            "backgroundcolor": "#E5ECF6",
            "gridcolor": "white",
            "gridwidth": 2,
            "linecolor": "white",
            "showbackground": true,
            "ticks": "",
            "zerolinecolor": "white"
           },
           "yaxis": {
            "backgroundcolor": "#E5ECF6",
            "gridcolor": "white",
            "gridwidth": 2,
            "linecolor": "white",
            "showbackground": true,
            "ticks": "",
            "zerolinecolor": "white"
           },
           "zaxis": {
            "backgroundcolor": "#E5ECF6",
            "gridcolor": "white",
            "gridwidth": 2,
            "linecolor": "white",
            "showbackground": true,
            "ticks": "",
            "zerolinecolor": "white"
           }
          },
          "shapedefaults": {
           "line": {
            "color": "#2a3f5f"
           }
          },
          "ternary": {
           "aaxis": {
            "gridcolor": "white",
            "linecolor": "white",
            "ticks": ""
           },
           "baxis": {
            "gridcolor": "white",
            "linecolor": "white",
            "ticks": ""
           },
           "bgcolor": "#E5ECF6",
           "caxis": {
            "gridcolor": "white",
            "linecolor": "white",
            "ticks": ""
           }
          },
          "title": {
           "x": 0.05
          },
          "xaxis": {
           "automargin": true,
           "gridcolor": "white",
           "linecolor": "white",
           "ticks": "",
           "title": {
            "standoff": 15
           },
           "zerolinecolor": "white",
           "zerolinewidth": 2
          },
          "yaxis": {
           "automargin": true,
           "gridcolor": "white",
           "linecolor": "white",
           "ticks": "",
           "title": {
            "standoff": 15
           },
           "zerolinecolor": "white",
           "zerolinewidth": 2
          }
         }
        },
        "title": {
         "text": "adobe-mu1gamma9",
         "x": 0.5
        },
        "width": 650,
        "xaxis": {
         "range": [
          0,
          222.06111
         ],
         "title": {
          "text": "Time (s)"
         }
        },
        "yaxis": {
         "title": {
          "text": "Salience"
         }
        }
       }
      }
     },
     "metadata": {},
     "output_type": "display_data"
    },
    {
     "data": {
      "application/vnd.plotly.v1+json": {
       "config": {
        "plotlyServerURL": "https://plot.ly"
       },
       "data": [
        {
         "hovertemplate": "<b>Boundary</b><br>Time: %{x:.3f}s<br>Salience: %{y:.3f}<extra></extra>",
         "line": {
          "color": "#666",
          "width": 1
         },
         "mode": "lines",
         "type": "scatter",
         "x": [
          8.54,
          8.54,
          null,
          9.8,
          9.8,
          null,
          11.06,
          11.06,
          null,
          12.98,
          12.98,
          null,
          13.61,
          13.61,
          null,
          16.16,
          16.16,
          null,
          32.12,
          32.12,
          null,
          32.75,
          32.75,
          null,
          54.6,
          54.6,
          null,
          55.25,
          55.25,
          null,
          61.67,
          61.67,
          null,
          62.31,
          62.31,
          null,
          63.59,
          63.59,
          null,
          64.24,
          64.24,
          null,
          74.5,
          74.5,
          null,
          75.15,
          75.15,
          null,
          93.14,
          93.14,
          null,
          93.81,
          93.81,
          null,
          94.44,
          94.44,
          null,
          103.47,
          103.47,
          null,
          104.14,
          104.14,
          null,
          104.77,
          104.77,
          null,
          105.4,
          105.4,
          null,
          109.28,
          109.28,
          null,
          111.83,
          111.83,
          null,
          117.6,
          117.6,
          null,
          152.97,
          152.97,
          null,
          153.6,
          153.6,
          null,
          158.65,
          158.65,
          null,
          159.28,
          159.28,
          null,
          159.92,
          159.92,
          null,
          168.89,
          168.89,
          null,
          169.52,
          169.52,
          null,
          170.82,
          170.82,
          null,
          171.47,
          171.47,
          null,
          190.02,
          190.02,
          null,
          190.65,
          190.65,
          null,
          191.31,
          191.31,
          null
         ],
         "y": [
          0,
          2,
          null,
          0,
          1,
          null,
          0,
          2,
          null,
          0,
          3,
          null,
          0,
          2,
          null,
          0,
          2,
          null,
          0,
          3,
          null,
          0,
          1,
          null,
          0,
          2,
          null,
          0,
          1,
          null,
          0,
          1,
          null,
          0,
          1,
          null,
          0,
          2,
          null,
          0,
          2,
          null,
          0,
          3,
          null,
          0,
          2,
          null,
          0,
          3,
          null,
          0,
          2,
          null,
          0,
          3,
          null,
          0,
          3,
          null,
          0,
          6,
          null,
          0,
          2,
          null,
          0,
          1,
          null,
          0,
          1,
          null,
          0,
          3,
          null,
          0,
          1,
          null,
          0,
          4,
          null,
          0,
          5,
          null,
          0,
          1,
          null,
          0,
          1,
          null,
          0,
          1,
          null,
          0,
          1,
          null,
          0,
          2,
          null,
          0,
          1,
          null,
          0,
          1,
          null,
          0,
          3,
          null,
          0,
          3,
          null,
          0,
          6,
          null
         ]
        }
       ],
       "layout": {
        "height": 300,
        "margin": {
         "b": 20,
         "l": 20,
         "r": 20,
         "t": 40
        },
        "shapes": [
         {
          "line": {
           "color": "#666",
           "width": 1
          },
          "opacity": 0.8,
          "type": "line",
          "x0": 0,
          "x1": 1,
          "xref": "x domain",
          "y0": 0,
          "y1": 0,
          "yref": "y"
         }
        ],
        "showlegend": false,
        "template": {
         "data": {
          "bar": [
           {
            "error_x": {
             "color": "#2a3f5f"
            },
            "error_y": {
             "color": "#2a3f5f"
            },
            "marker": {
             "line": {
              "color": "#E5ECF6",
              "width": 0.5
             },
             "pattern": {
              "fillmode": "overlay",
              "size": 10,
              "solidity": 0.2
             }
            },
            "type": "bar"
           }
          ],
          "barpolar": [
           {
            "marker": {
             "line": {
              "color": "#E5ECF6",
              "width": 0.5
             },
             "pattern": {
              "fillmode": "overlay",
              "size": 10,
              "solidity": 0.2
             }
            },
            "type": "barpolar"
           }
          ],
          "carpet": [
           {
            "aaxis": {
             "endlinecolor": "#2a3f5f",
             "gridcolor": "white",
             "linecolor": "white",
             "minorgridcolor": "white",
             "startlinecolor": "#2a3f5f"
            },
            "baxis": {
             "endlinecolor": "#2a3f5f",
             "gridcolor": "white",
             "linecolor": "white",
             "minorgridcolor": "white",
             "startlinecolor": "#2a3f5f"
            },
            "type": "carpet"
           }
          ],
          "choropleth": [
           {
            "colorbar": {
             "outlinewidth": 0,
             "ticks": ""
            },
            "type": "choropleth"
           }
          ],
          "contour": [
           {
            "colorbar": {
             "outlinewidth": 0,
             "ticks": ""
            },
            "colorscale": [
             [
              0,
              "#0d0887"
             ],
             [
              0.1111111111111111,
              "#46039f"
             ],
             [
              0.2222222222222222,
              "#7201a8"
             ],
             [
              0.3333333333333333,
              "#9c179e"
             ],
             [
              0.4444444444444444,
              "#bd3786"
             ],
             [
              0.5555555555555556,
              "#d8576b"
             ],
             [
              0.6666666666666666,
              "#ed7953"
             ],
             [
              0.7777777777777778,
              "#fb9f3a"
             ],
             [
              0.8888888888888888,
              "#fdca26"
             ],
             [
              1,
              "#f0f921"
             ]
            ],
            "type": "contour"
           }
          ],
          "contourcarpet": [
           {
            "colorbar": {
             "outlinewidth": 0,
             "ticks": ""
            },
            "type": "contourcarpet"
           }
          ],
          "heatmap": [
           {
            "colorbar": {
             "outlinewidth": 0,
             "ticks": ""
            },
            "colorscale": [
             [
              0,
              "#0d0887"
             ],
             [
              0.1111111111111111,
              "#46039f"
             ],
             [
              0.2222222222222222,
              "#7201a8"
             ],
             [
              0.3333333333333333,
              "#9c179e"
             ],
             [
              0.4444444444444444,
              "#bd3786"
             ],
             [
              0.5555555555555556,
              "#d8576b"
             ],
             [
              0.6666666666666666,
              "#ed7953"
             ],
             [
              0.7777777777777778,
              "#fb9f3a"
             ],
             [
              0.8888888888888888,
              "#fdca26"
             ],
             [
              1,
              "#f0f921"
             ]
            ],
            "type": "heatmap"
           }
          ],
          "histogram": [
           {
            "marker": {
             "pattern": {
              "fillmode": "overlay",
              "size": 10,
              "solidity": 0.2
             }
            },
            "type": "histogram"
           }
          ],
          "histogram2d": [
           {
            "colorbar": {
             "outlinewidth": 0,
             "ticks": ""
            },
            "colorscale": [
             [
              0,
              "#0d0887"
             ],
             [
              0.1111111111111111,
              "#46039f"
             ],
             [
              0.2222222222222222,
              "#7201a8"
             ],
             [
              0.3333333333333333,
              "#9c179e"
             ],
             [
              0.4444444444444444,
              "#bd3786"
             ],
             [
              0.5555555555555556,
              "#d8576b"
             ],
             [
              0.6666666666666666,
              "#ed7953"
             ],
             [
              0.7777777777777778,
              "#fb9f3a"
             ],
             [
              0.8888888888888888,
              "#fdca26"
             ],
             [
              1,
              "#f0f921"
             ]
            ],
            "type": "histogram2d"
           }
          ],
          "histogram2dcontour": [
           {
            "colorbar": {
             "outlinewidth": 0,
             "ticks": ""
            },
            "colorscale": [
             [
              0,
              "#0d0887"
             ],
             [
              0.1111111111111111,
              "#46039f"
             ],
             [
              0.2222222222222222,
              "#7201a8"
             ],
             [
              0.3333333333333333,
              "#9c179e"
             ],
             [
              0.4444444444444444,
              "#bd3786"
             ],
             [
              0.5555555555555556,
              "#d8576b"
             ],
             [
              0.6666666666666666,
              "#ed7953"
             ],
             [
              0.7777777777777778,
              "#fb9f3a"
             ],
             [
              0.8888888888888888,
              "#fdca26"
             ],
             [
              1,
              "#f0f921"
             ]
            ],
            "type": "histogram2dcontour"
           }
          ],
          "mesh3d": [
           {
            "colorbar": {
             "outlinewidth": 0,
             "ticks": ""
            },
            "type": "mesh3d"
           }
          ],
          "parcoords": [
           {
            "line": {
             "colorbar": {
              "outlinewidth": 0,
              "ticks": ""
             }
            },
            "type": "parcoords"
           }
          ],
          "pie": [
           {
            "automargin": true,
            "type": "pie"
           }
          ],
          "scatter": [
           {
            "fillpattern": {
             "fillmode": "overlay",
             "size": 10,
             "solidity": 0.2
            },
            "type": "scatter"
           }
          ],
          "scatter3d": [
           {
            "line": {
             "colorbar": {
              "outlinewidth": 0,
              "ticks": ""
             }
            },
            "marker": {
             "colorbar": {
              "outlinewidth": 0,
              "ticks": ""
             }
            },
            "type": "scatter3d"
           }
          ],
          "scattercarpet": [
           {
            "marker": {
             "colorbar": {
              "outlinewidth": 0,
              "ticks": ""
             }
            },
            "type": "scattercarpet"
           }
          ],
          "scattergeo": [
           {
            "marker": {
             "colorbar": {
              "outlinewidth": 0,
              "ticks": ""
             }
            },
            "type": "scattergeo"
           }
          ],
          "scattergl": [
           {
            "marker": {
             "colorbar": {
              "outlinewidth": 0,
              "ticks": ""
             }
            },
            "type": "scattergl"
           }
          ],
          "scattermap": [
           {
            "marker": {
             "colorbar": {
              "outlinewidth": 0,
              "ticks": ""
             }
            },
            "type": "scattermap"
           }
          ],
          "scattermapbox": [
           {
            "marker": {
             "colorbar": {
              "outlinewidth": 0,
              "ticks": ""
             }
            },
            "type": "scattermapbox"
           }
          ],
          "scatterpolar": [
           {
            "marker": {
             "colorbar": {
              "outlinewidth": 0,
              "ticks": ""
             }
            },
            "type": "scatterpolar"
           }
          ],
          "scatterpolargl": [
           {
            "marker": {
             "colorbar": {
              "outlinewidth": 0,
              "ticks": ""
             }
            },
            "type": "scatterpolargl"
           }
          ],
          "scatterternary": [
           {
            "marker": {
             "colorbar": {
              "outlinewidth": 0,
              "ticks": ""
             }
            },
            "type": "scatterternary"
           }
          ],
          "surface": [
           {
            "colorbar": {
             "outlinewidth": 0,
             "ticks": ""
            },
            "colorscale": [
             [
              0,
              "#0d0887"
             ],
             [
              0.1111111111111111,
              "#46039f"
             ],
             [
              0.2222222222222222,
              "#7201a8"
             ],
             [
              0.3333333333333333,
              "#9c179e"
             ],
             [
              0.4444444444444444,
              "#bd3786"
             ],
             [
              0.5555555555555556,
              "#d8576b"
             ],
             [
              0.6666666666666666,
              "#ed7953"
             ],
             [
              0.7777777777777778,
              "#fb9f3a"
             ],
             [
              0.8888888888888888,
              "#fdca26"
             ],
             [
              1,
              "#f0f921"
             ]
            ],
            "type": "surface"
           }
          ],
          "table": [
           {
            "cells": {
             "fill": {
              "color": "#EBF0F8"
             },
             "line": {
              "color": "white"
             }
            },
            "header": {
             "fill": {
              "color": "#C8D4E3"
             },
             "line": {
              "color": "white"
             }
            },
            "type": "table"
           }
          ]
         },
         "layout": {
          "annotationdefaults": {
           "arrowcolor": "#2a3f5f",
           "arrowhead": 0,
           "arrowwidth": 1
          },
          "autotypenumbers": "strict",
          "coloraxis": {
           "colorbar": {
            "outlinewidth": 0,
            "ticks": ""
           }
          },
          "colorscale": {
           "diverging": [
            [
             0,
             "#8e0152"
            ],
            [
             0.1,
             "#c51b7d"
            ],
            [
             0.2,
             "#de77ae"
            ],
            [
             0.3,
             "#f1b6da"
            ],
            [
             0.4,
             "#fde0ef"
            ],
            [
             0.5,
             "#f7f7f7"
            ],
            [
             0.6,
             "#e6f5d0"
            ],
            [
             0.7,
             "#b8e186"
            ],
            [
             0.8,
             "#7fbc41"
            ],
            [
             0.9,
             "#4d9221"
            ],
            [
             1,
             "#276419"
            ]
           ],
           "sequential": [
            [
             0,
             "#0d0887"
            ],
            [
             0.1111111111111111,
             "#46039f"
            ],
            [
             0.2222222222222222,
             "#7201a8"
            ],
            [
             0.3333333333333333,
             "#9c179e"
            ],
            [
             0.4444444444444444,
             "#bd3786"
            ],
            [
             0.5555555555555556,
             "#d8576b"
            ],
            [
             0.6666666666666666,
             "#ed7953"
            ],
            [
             0.7777777777777778,
             "#fb9f3a"
            ],
            [
             0.8888888888888888,
             "#fdca26"
            ],
            [
             1,
             "#f0f921"
            ]
           ],
           "sequentialminus": [
            [
             0,
             "#0d0887"
            ],
            [
             0.1111111111111111,
             "#46039f"
            ],
            [
             0.2222222222222222,
             "#7201a8"
            ],
            [
             0.3333333333333333,
             "#9c179e"
            ],
            [
             0.4444444444444444,
             "#bd3786"
            ],
            [
             0.5555555555555556,
             "#d8576b"
            ],
            [
             0.6666666666666666,
             "#ed7953"
            ],
            [
             0.7777777777777778,
             "#fb9f3a"
            ],
            [
             0.8888888888888888,
             "#fdca26"
            ],
            [
             1,
             "#f0f921"
            ]
           ]
          },
          "colorway": [
           "#636efa",
           "#EF553B",
           "#00cc96",
           "#ab63fa",
           "#FFA15A",
           "#19d3f3",
           "#FF6692",
           "#B6E880",
           "#FF97FF",
           "#FECB52"
          ],
          "font": {
           "color": "#2a3f5f"
          },
          "geo": {
           "bgcolor": "white",
           "lakecolor": "white",
           "landcolor": "#E5ECF6",
           "showlakes": true,
           "showland": true,
           "subunitcolor": "white"
          },
          "hoverlabel": {
           "align": "left"
          },
          "hovermode": "closest",
          "mapbox": {
           "style": "light"
          },
          "paper_bgcolor": "white",
          "plot_bgcolor": "#E5ECF6",
          "polar": {
           "angularaxis": {
            "gridcolor": "white",
            "linecolor": "white",
            "ticks": ""
           },
           "bgcolor": "#E5ECF6",
           "radialaxis": {
            "gridcolor": "white",
            "linecolor": "white",
            "ticks": ""
           }
          },
          "scene": {
           "xaxis": {
            "backgroundcolor": "#E5ECF6",
            "gridcolor": "white",
            "gridwidth": 2,
            "linecolor": "white",
            "showbackground": true,
            "ticks": "",
            "zerolinecolor": "white"
           },
           "yaxis": {
            "backgroundcolor": "#E5ECF6",
            "gridcolor": "white",
            "gridwidth": 2,
            "linecolor": "white",
            "showbackground": true,
            "ticks": "",
            "zerolinecolor": "white"
           },
           "zaxis": {
            "backgroundcolor": "#E5ECF6",
            "gridcolor": "white",
            "gridwidth": 2,
            "linecolor": "white",
            "showbackground": true,
            "ticks": "",
            "zerolinecolor": "white"
           }
          },
          "shapedefaults": {
           "line": {
            "color": "#2a3f5f"
           }
          },
          "ternary": {
           "aaxis": {
            "gridcolor": "white",
            "linecolor": "white",
            "ticks": ""
           },
           "baxis": {
            "gridcolor": "white",
            "linecolor": "white",
            "ticks": ""
           },
           "bgcolor": "#E5ECF6",
           "caxis": {
            "gridcolor": "white",
            "linecolor": "white",
            "ticks": ""
           }
          },
          "title": {
           "x": 0.05
          },
          "xaxis": {
           "automargin": true,
           "gridcolor": "white",
           "linecolor": "white",
           "ticks": "",
           "title": {
            "standoff": 15
           },
           "zerolinecolor": "white",
           "zerolinewidth": 2
          },
          "yaxis": {
           "automargin": true,
           "gridcolor": "white",
           "linecolor": "white",
           "ticks": "",
           "title": {
            "standoff": 15
           },
           "zerolinecolor": "white",
           "zerolinewidth": 2
          }
         }
        },
        "title": {
         "text": "adobe-mu1gamma9",
         "x": 0.5
        },
        "width": 650,
        "xaxis": {
         "range": [
          0,
          222.06111
         ],
         "title": {
          "text": "Time (s)"
         }
        },
        "yaxis": {
         "title": {
          "text": "Salience"
         }
        }
       }
      }
     },
     "metadata": {},
     "output_type": "display_data"
    }
   ],
   "source": [
    "est_contour_weight.level().plot().show()\n",
    "est_contour_weight.level('mean_shift', bw=0.1).plot().show()"
   ]
  },
  {
   "cell_type": "code",
   "execution_count": null,
   "id": "9b1fcc10",
   "metadata": {},
   "outputs": [],
   "source": []
  },
  {
   "cell_type": "code",
   "execution_count": 3,
   "id": "2c010ed3",
   "metadata": {},
   "outputs": [
    {
     "data": {
      "application/vnd.jupyter.widget-view+json": {
       "model_id": "26c839ed6fa3411d837b2c034be3a592",
       "version_major": 2,
       "version_minor": 0
      },
      "text/plain": [
       "QUEUEING TASKS | :   0%|          | 0/1359 [00:00<?, ?it/s]"
      ]
     },
     "metadata": {},
     "output_type": "display_data"
    },
    {
     "data": {
      "application/vnd.jupyter.widget-view+json": {
       "model_id": "25dcdad35b0b4c238642a6652f5e140d",
       "version_major": 2,
       "version_minor": 0
      },
      "text/plain": [
       "PROCESSING TASKS | :   0%|          | 0/1359 [00:00<?, ?it/s]"
      ]
     },
     "metadata": {},
     "output_type": "display_data"
    },
    {
     "name": "stdout",
     "output_type": "stream",
     "text": [
      "Running experiment for track 6...\n",
      "Running experiment for track 7...\n",
      "Running experiment for track 4...\n",
      "Running experiment for track 10...\n",
      "Running experiment for track 8...\n",
      "Running experiment for track 3...\n",
      "Running experiment for track 5...\n",
      "Running experiment for track 2...\n",
      "Results for track 6 saved to ./monocasting_results/6.feather\n",
      "Loading existing results for track 11 from ./monocasting_results/11.feather\n",
      "Running experiment for track 12...\n",
      "Results for track 7 saved to ./monocasting_results/7.feather\n",
      "Running experiment for track 13...\n",
      "Results for track 8 saved to ./monocasting_results/8.feather\n",
      "Running experiment for track 14...\n",
      "Results for track 4 saved to ./monocasting_results/4.feather\n",
      "Running experiment for track 15...\n",
      "Results for track 2 saved to ./monocasting_results/2.feather\n",
      "Running experiment for track 16...\n",
      "Results for track 5 saved to ./monocasting_results/5.feather\n",
      "Running experiment for track 18...\n",
      "Results for track 13 saved to ./monocasting_results/13.feather\n",
      "Running experiment for track 19...\n",
      "Results for track 14 saved to ./monocasting_results/14.feather\n",
      "Running experiment for track 20...\n",
      "Results for track 10 saved to ./monocasting_results/10.feather\n",
      "Running experiment for track 21...\n",
      "Results for track 3 saved to ./monocasting_results/3.feather\n",
      "Running experiment for track 22...\n",
      "Results for track 12 saved to ./monocasting_results/12.feather\n",
      "Running experiment for track 23...\n",
      "Results for track 15 saved to ./monocasting_results/15.feather\n",
      "Running experiment for track 24...\n",
      "Results for track 20 saved to ./monocasting_results/20.feather\n",
      "Running experiment for track 26...\n",
      "Results for track 19 saved to ./monocasting_results/19.feather\n",
      "Running experiment for track 27...\n",
      "Results for track 16 saved to ./monocasting_results/16.feather\n",
      "Running experiment for track 28...\n",
      "Results for track 23 saved to ./monocasting_results/23.feather\n",
      "Running experiment for track 29...\n",
      "Results for track 18 saved to ./monocasting_results/18.feather\n",
      "Running experiment for track 30...\n",
      "Results for track 24 saved to ./monocasting_results/24.feather\n",
      "Running experiment for track 31...\n",
      "Results for track 31 saved to ./monocasting_results/31.feather\n",
      "Running experiment for track 32...\n",
      "Results for track 30 saved to ./monocasting_results/30.feather\n",
      "Running experiment for track 34...\n",
      "Results for track 22 saved to ./monocasting_results/22.feather\n",
      "Running experiment for track 35...\n",
      "Results for track 29 saved to ./monocasting_results/29.feather\n",
      "Running experiment for track 36...\n",
      "Results for track 21 saved to ./monocasting_results/21.feather\n",
      "Running experiment for track 37...\n",
      "Results for track 34 saved to ./monocasting_results/34.feather\n",
      "Running experiment for track 38...\n",
      "Results for track 32 saved to ./monocasting_results/32.feather\n",
      "Running experiment for track 39...\n",
      "Results for track 27 saved to ./monocasting_results/27.feather\n",
      "Running experiment for track 40...\n",
      "Results for track 26 saved to ./monocasting_results/26.feather\n",
      "Running experiment for track 42...\n",
      "Results for track 38 saved to ./monocasting_results/38.feather\n",
      "Running experiment for track 43...\n",
      "Results for track 36 saved to ./monocasting_results/36.feather\n",
      "Running experiment for track 44...\n",
      "Results for track 40 saved to ./monocasting_results/40.feather\n",
      "Running experiment for track 45...\n",
      "Results for track 39 saved to ./monocasting_results/39.feather\n",
      "Running experiment for track 46...\n",
      "Results for track 43 saved to ./monocasting_results/43.feather\n",
      "Running experiment for track 47...\n",
      "Results for track 35 saved to ./monocasting_results/35.feather\n",
      "Running experiment for track 48...\n",
      "Results for track 46 saved to ./monocasting_results/46.feather\n",
      "Running experiment for track 50...\n",
      "Results for track 45 saved to ./monocasting_results/45.feather\n",
      "Running experiment for track 51...\n",
      "Results for track 42 saved to ./monocasting_results/42.feather\n",
      "Running experiment for track 52...\n",
      "Results for track 47 saved to ./monocasting_results/47.feather\n",
      "Running experiment for track 53...\n",
      "Results for track 52 saved to ./monocasting_results/52.feather\n",
      "Running experiment for track 54...\n",
      "Results for track 48 saved to ./monocasting_results/48.feather\n",
      "Running experiment for track 55...\n",
      "Results for track 50 saved to ./monocasting_results/50.feather\n",
      "Running experiment for track 56...\n",
      "Results for track 54 saved to ./monocasting_results/54.feather\n",
      "Running experiment for track 58...\n",
      "Results for track 55 saved to ./monocasting_results/55.feather\n",
      "Running experiment for track 59...\n",
      "Results for track 51 saved to ./monocasting_results/51.feather\n",
      "Running experiment for track 60...\n",
      "Results for track 44 saved to ./monocasting_results/44.feather\n",
      "Running experiment for track 63...\n",
      "Results for track 56 saved to ./monocasting_results/56.feather\n",
      "Running experiment for track 64...\n",
      "Results for track 37 saved to ./monocasting_results/37.feather\n",
      "Running experiment for track 68...\n",
      "Results for track 53 saved to ./monocasting_results/53.feather\n",
      "Running experiment for track 70...\n",
      "Results for track 60 saved to ./monocasting_results/60.feather\n",
      "Running experiment for track 71...\n",
      "Results for track 28 saved to ./monocasting_results/28.feather\n",
      "Running experiment for track 72...\n",
      "Results for track 59 saved to ./monocasting_results/59.feather\n",
      "Running experiment for track 75...\n",
      "Results for track 71 saved to ./monocasting_results/71.feather\n",
      "Running experiment for track 78...\n",
      "Results for track 75 saved to ./monocasting_results/75.feather\n",
      "Running experiment for track 79...\n",
      "Results for track 58 saved to ./monocasting_results/58.feather\n",
      "Running experiment for track 82...\n",
      "Results for track 79 saved to ./monocasting_results/79.feather\n",
      "Running experiment for track 85...\n",
      "Results for track 82 saved to ./monocasting_results/82.feather\n",
      "Running experiment for track 86...\n",
      "Results for track 85 saved to ./monocasting_results/85.feather\n",
      "Running experiment for track 88...\n",
      "Results for track 72 saved to ./monocasting_results/72.feather\n",
      "Running experiment for track 90...\n",
      "Results for track 88 saved to ./monocasting_results/88.feather\n",
      "Running experiment for track 91...\n",
      "Results for track 78 saved to ./monocasting_results/78.feather\n",
      "Running experiment for track 92...\n",
      "Results for track 64 saved to ./monocasting_results/64.feather\n",
      "Running experiment for track 93...\n",
      "Results for track 68 saved to ./monocasting_results/68.feather\n",
      "Running experiment for track 94...\n",
      "Results for track 92 saved to ./monocasting_results/92.feather\n",
      "Running experiment for track 95...\n",
      "Results for track 94 saved to ./monocasting_results/94.feather\n",
      "Running experiment for track 98...\n",
      "Results for track 95 saved to ./monocasting_results/95.feather\n",
      "Running experiment for track 99...\n",
      "Results for track 98 saved to ./monocasting_results/98.feather\n",
      "Running experiment for track 100...\n",
      "Results for track 93 saved to ./monocasting_results/93.feather\n",
      "Running experiment for track 101...\n",
      "Results for track 101 saved to ./monocasting_results/101.feather\n",
      "Running experiment for track 103...\n",
      "Results for track 99 saved to ./monocasting_results/99.feather\n",
      "Running experiment for track 104...\n",
      "Results for track 100 saved to ./monocasting_results/100.feather\n",
      "Running experiment for track 107...\n",
      "Results for track 103 saved to ./monocasting_results/103.feather\n",
      "Running experiment for track 108...\n",
      "Results for track 107 saved to ./monocasting_results/107.feather\n",
      "Running experiment for track 109...\n",
      "Results for track 104 saved to ./monocasting_results/104.feather\n",
      "Running experiment for track 110...\n",
      "Results for track 91 saved to ./monocasting_results/91.feather\n",
      "Running experiment for track 111...\n",
      "Results for track 110 saved to ./monocasting_results/110.feather\n",
      "Running experiment for track 112...\n",
      "Results for track 111 saved to ./monocasting_results/111.feather\n",
      "Running experiment for track 114...\n",
      "Results for track 112 saved to ./monocasting_results/112.feather\n",
      "Running experiment for track 115...\n",
      "Results for track 86 saved to ./monocasting_results/86.feather\n",
      "Running experiment for track 116...\n",
      "Results for track 115 saved to ./monocasting_results/115.feather\n",
      "Running experiment for track 117...\n",
      "Results for track 117 saved to ./monocasting_results/117.feather\n",
      "Running experiment for track 118...\n",
      "Results for track 118 saved to ./monocasting_results/118.feather\n",
      "Running experiment for track 119...\n",
      "Results for track 114 saved to ./monocasting_results/114.feather\n",
      "Running experiment for track 120...\n",
      "Results for track 120 saved to ./monocasting_results/120.feather\n",
      "Running experiment for track 122...\n",
      "Results for track 108 saved to ./monocasting_results/108.feather\n",
      "Running experiment for track 123...\n",
      "Results for track 119 saved to ./monocasting_results/119.feather\n",
      "Running experiment for track 124...\n",
      "Results for track 116 saved to ./monocasting_results/116.feather\n",
      "Running experiment for track 125...\n",
      "Results for track 123 saved to ./monocasting_results/123.feather\n",
      "Running experiment for track 126...\n",
      "Results for track 109 saved to ./monocasting_results/109.feather\n",
      "Running experiment for track 127...\n",
      "Results for track 125 saved to ./monocasting_results/125.feather\n",
      "Running experiment for track 128...\n",
      "Results for track 127 saved to ./monocasting_results/127.feather\n",
      "Running experiment for track 130...\n",
      "Results for track 126 saved to ./monocasting_results/126.feather\n",
      "Running experiment for track 131...\n",
      "Results for track 128 saved to ./monocasting_results/128.feather\n",
      "Running experiment for track 132...\n",
      "Results for track 130 saved to ./monocasting_results/130.feather\n",
      "Running experiment for track 133...\n",
      "Results for track 131 saved to ./monocasting_results/131.feather\n",
      "Running experiment for track 135...\n",
      "Results for track 135 saved to ./monocasting_results/135.feather\n",
      "Running experiment for track 136...\n",
      "Results for track 132 saved to ./monocasting_results/132.feather\n",
      "Running experiment for track 138...\n",
      "Results for track 133 saved to ./monocasting_results/133.feather\n",
      "Running experiment for track 139...\n",
      "Results for track 136 saved to ./monocasting_results/136.feather\n",
      "Running experiment for track 140...\n",
      "Results for track 138 saved to ./monocasting_results/138.feather\n",
      "Running experiment for track 141...\n",
      "Results for track 140 saved to ./monocasting_results/140.feather\n",
      "Running experiment for track 142...\n",
      "Results for track 139 saved to ./monocasting_results/139.feather\n",
      "Running experiment for track 143...\n",
      "Results for track 142 saved to ./monocasting_results/142.feather\n",
      "Running experiment for track 146...\n",
      "Results for track 122 saved to ./monocasting_results/122.feather\n",
      "Running experiment for track 147...\n",
      "Results for track 146 saved to ./monocasting_results/146.feather\n",
      "Running experiment for track 148...\n",
      "Results for track 148 saved to ./monocasting_results/148.feather\n",
      "Running experiment for track 149...\n",
      "Results for track 147 saved to ./monocasting_results/147.feather\n",
      "Running experiment for track 150...\n",
      "Results for track 150 saved to ./monocasting_results/150.feather\n",
      "Running experiment for track 151...\n",
      "Results for track 151 saved to ./monocasting_results/151.feather\n",
      "Running experiment for track 152...\n",
      "Results for track 149 saved to ./monocasting_results/149.feather\n",
      "Running experiment for track 154...\n",
      "Results for track 143 saved to ./monocasting_results/143.feather\n",
      "Running experiment for track 155...\n",
      "Results for track 152 saved to ./monocasting_results/152.feather\n",
      "Running experiment for track 156...\n",
      "Results for track 154 saved to ./monocasting_results/154.feather\n",
      "Running experiment for track 158...\n",
      "Results for track 155 saved to ./monocasting_results/155.feather\n",
      "Running experiment for track 159...\n",
      "Results for track 141 saved to ./monocasting_results/141.feather\n",
      "Running experiment for track 160...\n",
      "Results for track 160 saved to ./monocasting_results/160.feather\n",
      "Running experiment for track 162...\n",
      "Results for track 162 saved to ./monocasting_results/162.feather\n",
      "Running experiment for track 163...\n",
      "Results for track 159 saved to ./monocasting_results/159.feather\n",
      "Running experiment for track 164...\n",
      "Results for track 156 saved to ./monocasting_results/156.feather\n",
      "Running experiment for track 165...\n",
      "Results for track 63 saved to ./monocasting_results/63.feather\n",
      "Running experiment for track 166...\n",
      "Results for track 163 saved to ./monocasting_results/163.feather\n",
      "Running experiment for track 168...\n",
      "Results for track 166 saved to ./monocasting_results/166.feather\n",
      "Running experiment for track 170...\n",
      "Results for track 168 saved to ./monocasting_results/168.feather\n",
      "Running experiment for track 171...\n",
      "Results for track 165 saved to ./monocasting_results/165.feather\n",
      "Running experiment for track 173...\n",
      "Results for track 171 saved to ./monocasting_results/171.feather\n",
      "Running experiment for track 176...\n",
      "Results for track 176 saved to ./monocasting_results/176.feather\n",
      "Running experiment for track 179...\n",
      "Results for track 158 saved to ./monocasting_results/158.feather\n",
      "Running experiment for track 180...\n",
      "Results for track 90 saved to ./monocasting_results/90.feather\n",
      "Running experiment for track 183...\n",
      "Results for track 173 saved to ./monocasting_results/173.feather\n",
      "Running experiment for track 184...\n",
      "Results for track 183 saved to ./monocasting_results/183.feather\n",
      "Running experiment for track 186...\n",
      "Results for track 170 saved to ./monocasting_results/170.feather\n",
      "Running experiment for track 188...\n",
      "Results for track 70 saved to ./monocasting_results/70.feather\n",
      "Running experiment for track 189...\n",
      "Results for track 179 saved to ./monocasting_results/179.feather\n",
      "Running experiment for track 190...\n",
      "Results for track 180 saved to ./monocasting_results/180.feather\n",
      "Running experiment for track 192...\n",
      "Results for track 190 saved to ./monocasting_results/190.feather\n",
      "Running experiment for track 197...\n"
     ]
    },
    {
     "name": "stderr",
     "output_type": "stream",
     "text": [
      "/Users/tomxi/miniforge3/envs/py311/lib/python3.11/site-packages/mir_eval/hierarchy.py:460: UserWarning: Segment hierarchy is inconsistent at level 1\n",
      "  warnings.warn(\n",
      "/Users/tomxi/miniforge3/envs/py311/lib/python3.11/site-packages/mir_eval/hierarchy.py:460: UserWarning: Segment hierarchy is inconsistent at level 1\n",
      "  warnings.warn(\n",
      "/Users/tomxi/miniforge3/envs/py311/lib/python3.11/site-packages/mir_eval/hierarchy.py:460: UserWarning: Segment hierarchy is inconsistent at level 1\n",
      "  warnings.warn(\n",
      "/Users/tomxi/miniforge3/envs/py311/lib/python3.11/site-packages/mir_eval/hierarchy.py:460: UserWarning: Segment hierarchy is inconsistent at level 1\n",
      "  warnings.warn(\n",
      "/Users/tomxi/miniforge3/envs/py311/lib/python3.11/site-packages/mir_eval/hierarchy.py:460: UserWarning: Segment hierarchy is inconsistent at level 1\n",
      "  warnings.warn(\n",
      "/Users/tomxi/miniforge3/envs/py311/lib/python3.11/site-packages/mir_eval/hierarchy.py:460: UserWarning: Segment hierarchy is inconsistent at level 1\n",
      "  warnings.warn(\n",
      "/Users/tomxi/miniforge3/envs/py311/lib/python3.11/site-packages/mir_eval/hierarchy.py:460: UserWarning: Segment hierarchy is inconsistent at level 1\n",
      "  warnings.warn(\n"
     ]
    },
    {
     "name": "stdout",
     "output_type": "stream",
     "text": [
      "Results for track 192 saved to ./monocasting_results/192.feather\n",
      "Running experiment for track 198...\n"
     ]
    },
    {
     "name": "stderr",
     "output_type": "stream",
     "text": [
      "/Users/tomxi/miniforge3/envs/py311/lib/python3.11/site-packages/mir_eval/hierarchy.py:460: UserWarning: Segment hierarchy is inconsistent at level 1\n",
      "  warnings.warn(\n"
     ]
    },
    {
     "name": "stdout",
     "output_type": "stream",
     "text": [
      "Results for track 188 saved to ./monocasting_results/188.feather\n",
      "Running experiment for track 200...\n"
     ]
    },
    {
     "name": "stderr",
     "output_type": "stream",
     "text": [
      "/Users/tomxi/miniforge3/envs/py311/lib/python3.11/site-packages/mir_eval/hierarchy.py:460: UserWarning: Segment hierarchy is inconsistent at level 1\n",
      "  warnings.warn(\n"
     ]
    },
    {
     "name": "stdout",
     "output_type": "stream",
     "text": [
      "Results for track 197 saved to ./monocasting_results/197.feather\n",
      "Running experiment for track 202...\n",
      "Results for track 198 saved to ./monocasting_results/198.feather\n",
      "Running experiment for track 203...\n",
      "Results for track 200 saved to ./monocasting_results/200.feather\n",
      "Running experiment for track 204...\n",
      "Results for track 204 saved to ./monocasting_results/204.feather\n",
      "Running experiment for track 205...\n",
      "Results for track 164 saved to ./monocasting_results/164.feather\n",
      "Running experiment for track 206...\n",
      "Results for track 205 saved to ./monocasting_results/205.feather\n",
      "Running experiment for track 207...\n",
      "Results for track 202 saved to ./monocasting_results/202.feather\n",
      "Running experiment for track 210...\n",
      "Results for track 210 saved to ./monocasting_results/210.feather\n",
      "Running experiment for track 211...\n",
      "Results for track 211 saved to ./monocasting_results/211.feather\n",
      "Running experiment for track 212...\n",
      "Results for track 206 saved to ./monocasting_results/206.feather\n",
      "Running experiment for track 213...\n",
      "Results for track 184 saved to ./monocasting_results/184.feather\n",
      "Running experiment for track 214...\n",
      "Results for track 207 saved to ./monocasting_results/207.feather\n",
      "Running experiment for track 215...\n",
      "Results for track 212 saved to ./monocasting_results/212.feather\n",
      "Running experiment for track 216...\n",
      "Results for track 214 saved to ./monocasting_results/214.feather\n",
      "Running experiment for track 218...\n",
      "Results for track 218 saved to ./monocasting_results/218.feather\n",
      "Running experiment for track 219...\n",
      "Results for track 216 saved to ./monocasting_results/216.feather\n",
      "Running experiment for track 220...\n",
      "Results for track 215 saved to ./monocasting_results/215.feather\n",
      "Running experiment for track 221...\n",
      "Results for track 213 saved to ./monocasting_results/213.feather\n",
      "Running experiment for track 222...\n",
      "Results for track 220 saved to ./monocasting_results/220.feather\n",
      "Running experiment for track 223...\n",
      "Results for track 219 saved to ./monocasting_results/219.feather\n",
      "Running experiment for track 227...\n",
      "Results for track 223 saved to ./monocasting_results/223.feather\n",
      "Running experiment for track 228...\n",
      "Results for track 203 saved to ./monocasting_results/203.feather\n",
      "Results for track 227 saved to ./monocasting_results/227.feather\n",
      "Running experiment for track 231...\n",
      "Running experiment for track 229...\n",
      "Results for track 228 saved to ./monocasting_results/228.feather\n",
      "Running experiment for track 232...\n",
      "Results for track 232 saved to ./monocasting_results/232.feather\n",
      "Running experiment for track 234...\n",
      "Results for track 229 saved to ./monocasting_results/229.feather\n",
      "Running experiment for track 235...\n",
      "Results for track 234 saved to ./monocasting_results/234.feather\n",
      "Running experiment for track 236...\n",
      "Results for track 235 saved to ./monocasting_results/235.feather\n",
      "Running experiment for track 237...\n",
      "Results for track 222 saved to ./monocasting_results/222.feather\n",
      "Running experiment for track 239...\n",
      "Results for track 186 saved to ./monocasting_results/186.feather\n",
      "Running experiment for track 240...\n",
      "Results for track 236 saved to ./monocasting_results/236.feather\n",
      "Running experiment for track 242...\n",
      "Results for track 240 saved to ./monocasting_results/240.feather\n",
      "Running experiment for track 243...\n",
      "Results for track 243 saved to ./monocasting_results/243.feather\n",
      "Running experiment for track 244...\n",
      "Results for track 242 saved to ./monocasting_results/242.feather\n",
      "Running experiment for track 245...\n",
      "Results for track 231 saved to ./monocasting_results/231.feather\n",
      "Running experiment for track 247...\n",
      "Results for track 244 saved to ./monocasting_results/244.feather\n",
      "Running experiment for track 248...\n",
      "Results for track 247 saved to ./monocasting_results/247.feather\n",
      "Running experiment for track 250...\n",
      "Results for track 239 saved to ./monocasting_results/239.feather\n",
      "Running experiment for track 251...\n",
      "Results for track 248 saved to ./monocasting_results/248.feather\n",
      "Running experiment for track 252...\n",
      "Results for track 221 saved to ./monocasting_results/221.feather\n",
      "Running experiment for track 254...\n",
      "Results for track 250 saved to ./monocasting_results/250.feather\n",
      "Running experiment for track 258...\n",
      "Results for track 252 saved to ./monocasting_results/252.feather\n",
      "Running experiment for track 260...\n",
      "Results for track 189 saved to ./monocasting_results/189.feather\n",
      "Running experiment for track 261...\n",
      "Results for track 245 saved to ./monocasting_results/245.feather\n",
      "Running experiment for track 262...\n",
      "Results for track 258 saved to ./monocasting_results/258.feather\n",
      "Running experiment for track 264...\n",
      "Results for track 237 saved to ./monocasting_results/237.feather\n",
      "Running experiment for track 266...\n",
      "Results for track 254 saved to ./monocasting_results/254.feather\n",
      "Running experiment for track 267...\n",
      "Results for track 262 saved to ./monocasting_results/262.feather\n",
      "Running experiment for track 268...\n",
      "Results for track 267 saved to ./monocasting_results/267.feather\n",
      "Running experiment for track 269...\n",
      "Results for track 266 saved to ./monocasting_results/266.feather\n",
      "Running experiment for track 270...\n",
      "Results for track 260 saved to ./monocasting_results/260.feather\n",
      "Running experiment for track 271...\n",
      "Results for track 271 saved to ./monocasting_results/271.feather\n",
      "Running experiment for track 272...\n",
      "Results for track 251 saved to ./monocasting_results/251.feather\n",
      "Running experiment for track 274...\n",
      "Results for track 272 saved to ./monocasting_results/272.feather\n",
      "Running experiment for track 275...\n",
      "Results for track 274 saved to ./monocasting_results/274.feather\n",
      "Running experiment for track 276...\n",
      "Results for track 275 saved to ./monocasting_results/275.feather\n",
      "Running experiment for track 277...\n",
      "Results for track 268 saved to ./monocasting_results/268.feather\n",
      "Running experiment for track 278...\n",
      "Results for track 124 saved to ./monocasting_results/124.feather\n",
      "Running experiment for track 279...\n",
      "Results for track 270 saved to ./monocasting_results/270.feather\n",
      "Running experiment for track 280...\n",
      "Results for track 278 saved to ./monocasting_results/278.feather\n",
      "Running experiment for track 282...\n",
      "Results for track 277 saved to ./monocasting_results/277.feather\n",
      "Running experiment for track 283...\n",
      "Results for track 283 saved to ./monocasting_results/283.feather\n",
      "Running experiment for track 284...\n"
     ]
    },
    {
     "name": "stderr",
     "output_type": "stream",
     "text": [
      "/Users/tomxi/miniforge3/envs/py311/lib/python3.11/site-packages/mir_eval/hierarchy.py:460: UserWarning: Segment hierarchy is inconsistent at level 1\n",
      "  warnings.warn(\n"
     ]
    },
    {
     "name": "stdout",
     "output_type": "stream",
     "text": [
      "Results for track 280 saved to ./monocasting_results/280.feather\n",
      "Running experiment for track 285...\n"
     ]
    },
    {
     "name": "stderr",
     "output_type": "stream",
     "text": [
      "/Users/tomxi/miniforge3/envs/py311/lib/python3.11/site-packages/mir_eval/hierarchy.py:460: UserWarning: Segment hierarchy is inconsistent at level 1\n",
      "  warnings.warn(\n",
      "/Users/tomxi/miniforge3/envs/py311/lib/python3.11/site-packages/mir_eval/hierarchy.py:460: UserWarning: Segment hierarchy is inconsistent at level 1\n",
      "  warnings.warn(\n"
     ]
    },
    {
     "name": "stdout",
     "output_type": "stream",
     "text": [
      "Results for track 285 saved to ./monocasting_results/285.feather\n",
      "Running experiment for track 286...\n",
      "Results for track 279 saved to ./monocasting_results/279.feather\n",
      "Running experiment for track 287...\n"
     ]
    },
    {
     "name": "stderr",
     "output_type": "stream",
     "text": [
      "/Users/tomxi/miniforge3/envs/py311/lib/python3.11/site-packages/mir_eval/hierarchy.py:460: UserWarning: Segment hierarchy is inconsistent at level 1\n",
      "  warnings.warn(\n"
     ]
    },
    {
     "name": "stdout",
     "output_type": "stream",
     "text": [
      "Results for track 269 saved to ./monocasting_results/269.feather\n",
      "Running experiment for track 288...\n"
     ]
    },
    {
     "name": "stderr",
     "output_type": "stream",
     "text": [
      "/Users/tomxi/miniforge3/envs/py311/lib/python3.11/site-packages/mir_eval/hierarchy.py:460: UserWarning: Segment hierarchy is inconsistent at level 1\n",
      "  warnings.warn(\n"
     ]
    },
    {
     "name": "stdout",
     "output_type": "stream",
     "text": [
      "Results for track 287 saved to ./monocasting_results/287.feather\n",
      "Running experiment for track 290...\n",
      "Results for track 286 saved to ./monocasting_results/286.feather\n",
      "Running experiment for track 291...\n",
      "Results for track 288 saved to ./monocasting_results/288.feather\n",
      "Running experiment for track 293...\n",
      "Results for track 291 saved to ./monocasting_results/291.feather\n",
      "Running experiment for track 294...\n"
     ]
    },
    {
     "name": "stderr",
     "output_type": "stream",
     "text": [
      "/Users/tomxi/miniforge3/envs/py311/lib/python3.11/site-packages/mir_eval/hierarchy.py:460: UserWarning: Segment hierarchy is inconsistent at level 1\n",
      "  warnings.warn(\n"
     ]
    },
    {
     "name": "stdout",
     "output_type": "stream",
     "text": [
      "Results for track 294 saved to ./monocasting_results/294.feather\n",
      "Running experiment for track 295...\n"
     ]
    },
    {
     "name": "stderr",
     "output_type": "stream",
     "text": [
      "/Users/tomxi/miniforge3/envs/py311/lib/python3.11/site-packages/mir_eval/hierarchy.py:460: UserWarning: Segment hierarchy is inconsistent at level 1\n",
      "  warnings.warn(\n"
     ]
    },
    {
     "name": "stdout",
     "output_type": "stream",
     "text": [
      "Results for track 264 saved to ./monocasting_results/264.feather\n",
      "Running experiment for track 296...\n",
      "Results for track 296 saved to ./monocasting_results/296.feather\n",
      "Running experiment for track 298...\n",
      "Results for track 298 saved to ./monocasting_results/298.feather\n",
      "Running experiment for track 299...\n"
     ]
    },
    {
     "name": "stderr",
     "output_type": "stream",
     "text": [
      "/Users/tomxi/miniforge3/envs/py311/lib/python3.11/site-packages/mir_eval/hierarchy.py:460: UserWarning: Segment hierarchy is inconsistent at level 1\n",
      "  warnings.warn(\n"
     ]
    },
    {
     "name": "stdout",
     "output_type": "stream",
     "text": [
      "Results for track 299 saved to ./monocasting_results/299.feather\n",
      "Running experiment for track 302...\n",
      "Results for track 295 saved to ./monocasting_results/295.feather\n",
      "Running experiment for track 303...\n",
      "Results for track 276 saved to ./monocasting_results/276.feather\n",
      "Running experiment for track 304...\n"
     ]
    },
    {
     "name": "stderr",
     "output_type": "stream",
     "text": [
      "/Users/tomxi/miniforge3/envs/py311/lib/python3.11/site-packages/mir_eval/hierarchy.py:460: UserWarning: Segment hierarchy is inconsistent at level 1\n",
      "  warnings.warn(\n"
     ]
    },
    {
     "name": "stdout",
     "output_type": "stream",
     "text": [
      "Results for track 284 saved to ./monocasting_results/284.feather\n",
      "Running experiment for track 306...\n",
      "Results for track 290 saved to ./monocasting_results/290.feather\n",
      "Running experiment for track 307...\n",
      "Results for track 303 saved to ./monocasting_results/303.feather\n",
      "Running experiment for track 308...\n",
      "Results for track 304 saved to ./monocasting_results/304.feather\n",
      "Running experiment for track 309...\n",
      "Results for track 306 saved to ./monocasting_results/306.feather\n",
      "Running experiment for track 310...\n",
      "Results for track 309 saved to ./monocasting_results/309.feather\n",
      "Running experiment for track 311...\n",
      "Results for track 311 saved to ./monocasting_results/311.feather\n",
      "Running experiment for track 312...\n",
      "Results for track 282 saved to ./monocasting_results/282.feather\n",
      "Running experiment for track 314...\n",
      "Results for track 310 saved to ./monocasting_results/310.feather\n",
      "Running experiment for track 315...\n",
      "Results for track 308 saved to ./monocasting_results/308.feather\n",
      "Running experiment for track 316...\n",
      "Results for track 315 saved to ./monocasting_results/315.feather\n",
      "Running experiment for track 317...\n",
      "Results for track 312 saved to ./monocasting_results/312.feather\n",
      "Running experiment for track 318...\n",
      "Results for track 314 saved to ./monocasting_results/314.feather\n",
      "Running experiment for track 319...\n",
      "Results for track 307 saved to ./monocasting_results/307.feather\n",
      "Running experiment for track 320...\n",
      "Results for track 317 saved to ./monocasting_results/317.feather\n",
      "Running experiment for track 322...\n",
      "Results for track 316 saved to ./monocasting_results/316.feather\n",
      "Running experiment for track 323...\n",
      "Results for track 302 saved to ./monocasting_results/302.feather\n",
      "Running experiment for track 324...\n",
      "Results for track 318 saved to ./monocasting_results/318.feather\n",
      "Running experiment for track 325...\n",
      "Results for track 319 saved to ./monocasting_results/319.feather\n",
      "Running experiment for track 326...\n",
      "Results for track 320 saved to ./monocasting_results/320.feather\n",
      "Running experiment for track 327...\n",
      "Results for track 324 saved to ./monocasting_results/324.feather\n",
      "Running experiment for track 328...\n",
      "Results for track 328 saved to ./monocasting_results/328.feather\n",
      "Running experiment for track 330...\n",
      "Results for track 326 saved to ./monocasting_results/326.feather\n",
      "Running experiment for track 331...\n",
      "Results for track 322 saved to ./monocasting_results/322.feather\n",
      "Running experiment for track 332...\n",
      "Results for track 325 saved to ./monocasting_results/325.feather\n",
      "Running experiment for track 333...\n",
      "Results for track 323 saved to ./monocasting_results/323.feather\n",
      "Running experiment for track 334...\n",
      "Results for track 327 saved to ./monocasting_results/327.feather\n",
      "Running experiment for track 335...\n",
      "Results for track 330 saved to ./monocasting_results/330.feather\n",
      "Running experiment for track 336...\n",
      "Results for track 333 saved to ./monocasting_results/333.feather\n",
      "Running experiment for track 338...\n",
      "Results for track 334 saved to ./monocasting_results/334.feather\n",
      "Running experiment for track 339...\n",
      "Results for track 331 saved to ./monocasting_results/331.feather\n",
      "Running experiment for track 340...\n",
      "Results for track 332 saved to ./monocasting_results/332.feather\n",
      "Running experiment for track 341...\n",
      "Results for track 341 saved to ./monocasting_results/341.feather\n",
      "Running experiment for track 342...\n",
      "Results for track 335 saved to ./monocasting_results/335.feather\n",
      "Running experiment for track 343...\n",
      "Results for track 336 saved to ./monocasting_results/336.feather\n",
      "Running experiment for track 344...\n",
      "Results for track 339 saved to ./monocasting_results/339.feather\n",
      "Running experiment for track 346...\n",
      "Results for track 338 saved to ./monocasting_results/338.feather\n",
      "Running experiment for track 347...\n",
      "Results for track 343 saved to ./monocasting_results/343.feather\n",
      "Running experiment for track 348...\n",
      "Results for track 340 saved to ./monocasting_results/340.feather\n",
      "Running experiment for track 349...\n",
      "Results for track 348 saved to ./monocasting_results/348.feather\n",
      "Running experiment for track 350...\n",
      "Results for track 346 saved to ./monocasting_results/346.feather\n",
      "Running experiment for track 351...\n",
      "Results for track 344 saved to ./monocasting_results/344.feather\n",
      "Running experiment for track 352...\n",
      "Results for track 347 saved to ./monocasting_results/347.feather\n",
      "Running experiment for track 354...\n",
      "Results for track 354 saved to ./monocasting_results/354.feather\n",
      "Running experiment for track 355...\n",
      "Results for track 342 saved to ./monocasting_results/342.feather\n",
      "Running experiment for track 356...\n",
      "Results for track 350 saved to ./monocasting_results/350.feather\n",
      "Running experiment for track 357...\n",
      "Results for track 351 saved to ./monocasting_results/351.feather\n",
      "Running experiment for track 358...\n",
      "Results for track 352 saved to ./monocasting_results/352.feather\n",
      "Running experiment for track 359...\n",
      "Results for track 359 saved to ./monocasting_results/359.feather\n",
      "Running experiment for track 360...\n",
      "Results for track 355 saved to ./monocasting_results/355.feather\n",
      "Running experiment for track 362...\n",
      "Results for track 360 saved to ./monocasting_results/360.feather\n",
      "Running experiment for track 363...\n",
      "Results for track 357 saved to ./monocasting_results/357.feather\n",
      "Running experiment for track 364...\n",
      "Results for track 349 saved to ./monocasting_results/349.feather\n",
      "Running experiment for track 365...\n",
      "Results for track 356 saved to ./monocasting_results/356.feather\n",
      "Running experiment for track 366...\n",
      "Results for track 358 saved to ./monocasting_results/358.feather\n",
      "Running experiment for track 367...\n",
      "Results for track 362 saved to ./monocasting_results/362.feather\n",
      "Running experiment for track 368...\n",
      "Results for track 363 saved to ./monocasting_results/363.feather\n",
      "Running experiment for track 370...\n",
      "Results for track 365 saved to ./monocasting_results/365.feather\n",
      "Running experiment for track 371...\n",
      "Results for track 364 saved to ./monocasting_results/364.feather\n",
      "Running experiment for track 372...\n",
      "Results for track 367 saved to ./monocasting_results/367.feather\n",
      "Running experiment for track 373...\n",
      "Results for track 370 saved to ./monocasting_results/370.feather\n",
      "Running experiment for track 374...\n",
      "Results for track 371 saved to ./monocasting_results/371.feather\n",
      "Running experiment for track 376...\n",
      "Results for track 373 saved to ./monocasting_results/373.feather\n",
      "Running experiment for track 378...\n",
      "Results for track 378 saved to ./monocasting_results/378.feather\n",
      "Running experiment for track 379...\n",
      "Results for track 374 saved to ./monocasting_results/374.feather\n",
      "Running experiment for track 380...\n",
      "Results for track 372 saved to ./monocasting_results/372.feather\n",
      "Running experiment for track 381...\n",
      "Results for track 380 saved to ./monocasting_results/380.feather\n",
      "Running experiment for track 382...\n",
      "Results for track 381 saved to ./monocasting_results/381.feather\n",
      "Running experiment for track 383...\n",
      "Results for track 366 saved to ./monocasting_results/366.feather\n",
      "Running experiment for track 384...\n",
      "Results for track 383 saved to ./monocasting_results/383.feather\n",
      "Running experiment for track 386...\n",
      "Results for track 368 saved to ./monocasting_results/368.feather\n",
      "Running experiment for track 387...\n",
      "Results for track 379 saved to ./monocasting_results/379.feather\n",
      "Running experiment for track 388...\n",
      "Results for track 376 saved to ./monocasting_results/376.feather\n",
      "Running experiment for track 389...\n",
      "Results for track 386 saved to ./monocasting_results/386.feather\n",
      "Results for track 387 saved to ./monocasting_results/387.feather\n",
      "Running experiment for track 390...\n",
      "Running experiment for track 391...\n",
      "Results for track 388 saved to ./monocasting_results/388.feather\n",
      "Running experiment for track 392...\n",
      "Results for track 384 saved to ./monocasting_results/384.feather\n",
      "Running experiment for track 394...\n",
      "Results for track 382 saved to ./monocasting_results/382.feather\n",
      "Running experiment for track 395...\n",
      "Results for track 395 saved to ./monocasting_results/395.feather\n",
      "Running experiment for track 396...\n",
      "Results for track 390 saved to ./monocasting_results/390.feather\n",
      "Running experiment for track 397...\n",
      "Results for track 392 saved to ./monocasting_results/392.feather\n",
      "Running experiment for track 398...\n",
      "Results for track 394 saved to ./monocasting_results/394.feather\n",
      "Running experiment for track 399...\n",
      "Results for track 398 saved to ./monocasting_results/398.feather\n",
      "Running experiment for track 400...\n",
      "Results for track 397 saved to ./monocasting_results/397.feather\n",
      "Running experiment for track 402...\n",
      "Results for track 396 saved to ./monocasting_results/396.feather\n",
      "Running experiment for track 403...\n",
      "Results for track 399 saved to ./monocasting_results/399.feather\n",
      "Running experiment for track 404...\n",
      "Results for track 400 saved to ./monocasting_results/400.feather\n",
      "Running experiment for track 405...\n",
      "Results for track 403 saved to ./monocasting_results/403.feather\n",
      "Running experiment for track 406...\n",
      "Results for track 391 saved to ./monocasting_results/391.feather\n",
      "Running experiment for track 407...\n",
      "Results for track 293 saved to ./monocasting_results/293.feather\n",
      "Running experiment for track 408...\n",
      "Results for track 402 saved to ./monocasting_results/402.feather\n",
      "Running experiment for track 410...\n",
      "Results for track 404 saved to ./monocasting_results/404.feather\n",
      "Running experiment for track 411...\n",
      "Results for track 407 saved to ./monocasting_results/407.feather\n",
      "Running experiment for track 412...\n",
      "Results for track 405 saved to ./monocasting_results/405.feather\n",
      "Running experiment for track 413...\n",
      "Results for track 410 saved to ./monocasting_results/410.feather\n",
      "Running experiment for track 414...\n",
      "Results for track 406 saved to ./monocasting_results/406.feather\n",
      "Running experiment for track 415...\n",
      "Results for track 411 saved to ./monocasting_results/411.feather\n",
      "Running experiment for track 416...\n",
      "Results for track 408 saved to ./monocasting_results/408.feather\n",
      "Running experiment for track 418...\n",
      "Results for track 415 saved to ./monocasting_results/415.feather\n",
      "Running experiment for track 420...\n",
      "Results for track 414 saved to ./monocasting_results/414.feather\n",
      "Running experiment for track 421...\n",
      "Results for track 420 saved to ./monocasting_results/420.feather\n",
      "Running experiment for track 422...\n",
      "Results for track 389 saved to ./monocasting_results/389.feather\n",
      "Running experiment for track 423...\n",
      "Results for track 416 saved to ./monocasting_results/416.feather\n",
      "Running experiment for track 424...\n",
      "Results for track 413 saved to ./monocasting_results/413.feather\n",
      "Running experiment for track 426...\n",
      "Results for track 412 saved to ./monocasting_results/412.feather\n",
      "Running experiment for track 427...\n",
      "Results for track 422 saved to ./monocasting_results/422.feather\n",
      "Running experiment for track 428...\n",
      "Results for track 418 saved to ./monocasting_results/418.feather\n",
      "Running experiment for track 429...\n",
      "Results for track 428 saved to ./monocasting_results/428.feather\n",
      "Running experiment for track 430...\n",
      "Results for track 430 saved to ./monocasting_results/430.feather\n",
      "Running experiment for track 431...\n",
      "Results for track 429 saved to ./monocasting_results/429.feather\n",
      "Running experiment for track 432...\n",
      "Results for track 431 saved to ./monocasting_results/431.feather\n",
      "Running experiment for track 434...\n",
      "Results for track 434 saved to ./monocasting_results/434.feather\n",
      "Running experiment for track 435...\n",
      "Results for track 435 saved to ./monocasting_results/435.feather\n",
      "Running experiment for track 436...\n",
      "Results for track 421 saved to ./monocasting_results/421.feather\n",
      "Running experiment for track 437...\n",
      "Results for track 426 saved to ./monocasting_results/426.feather\n",
      "Running experiment for track 438...\n",
      "Results for track 424 saved to ./monocasting_results/424.feather\n",
      "Running experiment for track 439...\n",
      "Results for track 439 saved to ./monocasting_results/439.feather\n",
      "Running experiment for track 440...\n",
      "Results for track 438 saved to ./monocasting_results/438.feather\n",
      "Running experiment for track 442...\n",
      "Results for track 427 saved to ./monocasting_results/427.feather\n",
      "Running experiment for track 443...\n",
      "Results for track 443 saved to ./monocasting_results/443.feather\n",
      "Running experiment for track 444...\n",
      "Results for track 437 saved to ./monocasting_results/437.feather\n",
      "Running experiment for track 445...\n",
      "Results for track 423 saved to ./monocasting_results/423.feather\n",
      "Running experiment for track 446...\n",
      "Results for track 442 saved to ./monocasting_results/442.feather\n",
      "Running experiment for track 447...\n",
      "Results for track 445 saved to ./monocasting_results/445.feather\n",
      "Running experiment for track 448...\n",
      "Results for track 446 saved to ./monocasting_results/446.feather\n",
      "Running experiment for track 450...\n",
      "Results for track 447 saved to ./monocasting_results/447.feather\n",
      "Running experiment for track 451...\n",
      "Results for track 450 saved to ./monocasting_results/450.feather\n",
      "Running experiment for track 452...\n",
      "Results for track 448 saved to ./monocasting_results/448.feather\n",
      "Running experiment for track 453...\n",
      "Results for track 440 saved to ./monocasting_results/440.feather\n",
      "Running experiment for track 454...\n",
      "Results for track 451 saved to ./monocasting_results/451.feather\n",
      "Running experiment for track 455...\n",
      "Results for track 452 saved to ./monocasting_results/452.feather\n",
      "Running experiment for track 456...\n",
      "Results for track 454 saved to ./monocasting_results/454.feather\n",
      "Running experiment for track 458...\n",
      "Results for track 456 saved to ./monocasting_results/456.feather\n",
      "Running experiment for track 460...\n",
      "Results for track 455 saved to ./monocasting_results/455.feather\n",
      "Running experiment for track 461...\n",
      "Results for track 436 saved to ./monocasting_results/436.feather\n",
      "Running experiment for track 462...\n",
      "Results for track 453 saved to ./monocasting_results/453.feather\n",
      "Running experiment for track 463...\n",
      "Results for track 461 saved to ./monocasting_results/461.feather\n",
      "Running experiment for track 464...\n",
      "Results for track 460 saved to ./monocasting_results/460.feather\n",
      "Running experiment for track 466...\n",
      "Results for track 458 saved to ./monocasting_results/458.feather\n",
      "Running experiment for track 467...\n",
      "Results for track 463 saved to ./monocasting_results/463.feather\n",
      "Running experiment for track 468...\n",
      "Results for track 462 saved to ./monocasting_results/462.feather\n",
      "Running experiment for track 469...\n",
      "Results for track 464 saved to ./monocasting_results/464.feather\n",
      "Running experiment for track 470...\n",
      "Results for track 466 saved to ./monocasting_results/466.feather\n",
      "Running experiment for track 471...\n",
      "Results for track 470 saved to ./monocasting_results/470.feather\n",
      "Running experiment for track 472...\n",
      "Results for track 444 saved to ./monocasting_results/444.feather\n",
      "Running experiment for track 474...\n",
      "Results for track 467 saved to ./monocasting_results/467.feather\n",
      "Running experiment for track 475...\n",
      "Results for track 471 saved to ./monocasting_results/471.feather\n",
      "Running experiment for track 476...\n"
     ]
    },
    {
     "name": "stderr",
     "output_type": "stream",
     "text": [
      "/Users/tomxi/miniforge3/envs/py311/lib/python3.11/site-packages/mir_eval/hierarchy.py:460: UserWarning: Segment hierarchy is inconsistent at level 1\n",
      "  warnings.warn(\n",
      "/Users/tomxi/miniforge3/envs/py311/lib/python3.11/site-packages/mir_eval/hierarchy.py:460: UserWarning: Segment hierarchy is inconsistent at level 1\n",
      "  warnings.warn(\n"
     ]
    },
    {
     "name": "stdout",
     "output_type": "stream",
     "text": [
      "Results for track 469 saved to ./monocasting_results/469.feather\n",
      "Running experiment for track 477...\n"
     ]
    },
    {
     "name": "stderr",
     "output_type": "stream",
     "text": [
      "/Users/tomxi/miniforge3/envs/py311/lib/python3.11/site-packages/mir_eval/hierarchy.py:460: UserWarning: Segment hierarchy is inconsistent at level 1\n",
      "  warnings.warn(\n"
     ]
    },
    {
     "name": "stdout",
     "output_type": "stream",
     "text": [
      "Results for track 475 saved to ./monocasting_results/475.feather\n",
      "Running experiment for track 478...\n",
      "Results for track 472 saved to ./monocasting_results/472.feather\n",
      "Running experiment for track 479...\n",
      "Results for track 474 saved to ./monocasting_results/474.feather\n",
      "Running experiment for track 480...\n"
     ]
    },
    {
     "name": "stderr",
     "output_type": "stream",
     "text": [
      "/Users/tomxi/miniforge3/envs/py311/lib/python3.11/site-packages/mir_eval/hierarchy.py:460: UserWarning: Segment hierarchy is inconsistent at level 1\n",
      "  warnings.warn(\n"
     ]
    },
    {
     "name": "stdout",
     "output_type": "stream",
     "text": [
      "Results for track 477 saved to ./monocasting_results/477.feather\n",
      "Running experiment for track 482...\n"
     ]
    },
    {
     "name": "stderr",
     "output_type": "stream",
     "text": [
      "/Users/tomxi/miniforge3/envs/py311/lib/python3.11/site-packages/mir_eval/hierarchy.py:460: UserWarning: Segment hierarchy is inconsistent at level 1\n",
      "  warnings.warn(\n"
     ]
    },
    {
     "name": "stdout",
     "output_type": "stream",
     "text": [
      "Results for track 482 saved to ./monocasting_results/482.feather\n",
      "Running experiment for track 483...\n",
      "Results for track 480 saved to ./monocasting_results/480.feather\n",
      "Running experiment for track 484...\n"
     ]
    },
    {
     "name": "stderr",
     "output_type": "stream",
     "text": [
      "/Users/tomxi/miniforge3/envs/py311/lib/python3.11/site-packages/mir_eval/hierarchy.py:460: UserWarning: Segment hierarchy is inconsistent at level 1\n",
      "  warnings.warn(\n"
     ]
    },
    {
     "name": "stdout",
     "output_type": "stream",
     "text": [
      "Results for track 483 saved to ./monocasting_results/483.feather\n",
      "Running experiment for track 485...\n",
      "Results for track 484 saved to ./monocasting_results/484.feather\n",
      "Running experiment for track 486...\n"
     ]
    },
    {
     "name": "stderr",
     "output_type": "stream",
     "text": [
      "/Users/tomxi/miniforge3/envs/py311/lib/python3.11/site-packages/mir_eval/hierarchy.py:460: UserWarning: Segment hierarchy is inconsistent at level 1\n",
      "  warnings.warn(\n"
     ]
    },
    {
     "name": "stdout",
     "output_type": "stream",
     "text": [
      "Results for track 486 saved to ./monocasting_results/486.feather\n",
      "Running experiment for track 487...\n",
      "Results for track 479 saved to ./monocasting_results/479.feather\n",
      "Running experiment for track 488...\n",
      "Results for track 468 saved to ./monocasting_results/468.feather\n",
      "Running experiment for track 490...\n",
      "Results for track 478 saved to ./monocasting_results/478.feather\n",
      "Running experiment for track 491...\n"
     ]
    },
    {
     "name": "stderr",
     "output_type": "stream",
     "text": [
      "/Users/tomxi/miniforge3/envs/py311/lib/python3.11/site-packages/mir_eval/hierarchy.py:460: UserWarning: Segment hierarchy is inconsistent at level 1\n",
      "  warnings.warn(\n"
     ]
    },
    {
     "name": "stdout",
     "output_type": "stream",
     "text": [
      "Results for track 491 saved to ./monocasting_results/491.feather\n",
      "Running experiment for track 492...\n",
      "Results for track 485 saved to ./monocasting_results/485.feather\n",
      "Running experiment for track 493...\n",
      "Results for track 487 saved to ./monocasting_results/487.feather\n",
      "Running experiment for track 494...\n",
      "Results for track 492 saved to ./monocasting_results/492.feather\n",
      "Running experiment for track 495...\n",
      "Results for track 493 saved to ./monocasting_results/493.feather\n",
      "Running experiment for track 496...\n",
      "Results for track 490 saved to ./monocasting_results/490.feather\n",
      "Running experiment for track 498...\n"
     ]
    },
    {
     "name": "stderr",
     "output_type": "stream",
     "text": [
      "/Users/tomxi/miniforge3/envs/py311/lib/python3.11/site-packages/mir_eval/hierarchy.py:460: UserWarning: Segment hierarchy is inconsistent at level 1\n",
      "  warnings.warn(\n"
     ]
    },
    {
     "name": "stdout",
     "output_type": "stream",
     "text": [
      "Results for track 476 saved to ./monocasting_results/476.feather\n",
      "Running experiment for track 499...\n",
      "Results for track 488 saved to ./monocasting_results/488.feather\n",
      "Running experiment for track 500...\n",
      "Results for track 494 saved to ./monocasting_results/494.feather\n",
      "Running experiment for track 501...\n",
      "Results for track 498 saved to ./monocasting_results/498.feather\n",
      "Running experiment for track 502...\n",
      "Results for track 496 saved to ./monocasting_results/496.feather\n",
      "Running experiment for track 503...\n",
      "Results for track 495 saved to ./monocasting_results/495.feather\n",
      "Running experiment for track 504...\n",
      "Results for track 501 saved to ./monocasting_results/501.feather\n",
      "Running experiment for track 506...\n",
      "Results for track 503 saved to ./monocasting_results/503.feather\n",
      "Running experiment for track 507...\n",
      "Results for track 502 saved to ./monocasting_results/502.feather\n",
      "Running experiment for track 508...\n",
      "Results for track 506 saved to ./monocasting_results/506.feather\n",
      "Running experiment for track 509...\n",
      "Results for track 432 saved to ./monocasting_results/432.feather\n",
      "Running experiment for track 510...\n",
      "Results for track 508 saved to ./monocasting_results/508.feather\n",
      "Running experiment for track 511...\n",
      "Results for track 500 saved to ./monocasting_results/500.feather\n",
      "Running experiment for track 512...\n",
      "Results for track 504 saved to ./monocasting_results/504.feather\n",
      "Running experiment for track 514...\n",
      "Results for track 511 saved to ./monocasting_results/511.feather\n",
      "Running experiment for track 515...\n",
      "Results for track 507 saved to ./monocasting_results/507.feather\n",
      "Running experiment for track 516...\n",
      "Results for track 512 saved to ./monocasting_results/512.feather\n",
      "Running experiment for track 517...\n",
      "Results for track 514 saved to ./monocasting_results/514.feather\n",
      "Running experiment for track 518...\n",
      "Results for track 499 saved to ./monocasting_results/499.feather\n",
      "Running experiment for track 519...\n",
      "Results for track 519 saved to ./monocasting_results/519.feather\n",
      "Running experiment for track 520...\n",
      "Results for track 518 saved to ./monocasting_results/518.feather\n",
      "Running experiment for track 522...\n",
      "Results for track 509 saved to ./monocasting_results/509.feather\n",
      "Running experiment for track 523...\n",
      "Results for track 510 saved to ./monocasting_results/510.feather\n",
      "Running experiment for track 524...\n",
      "Results for track 520 saved to ./monocasting_results/520.feather\n",
      "Running experiment for track 525...\n",
      "Results for track 523 saved to ./monocasting_results/523.feather\n",
      "Running experiment for track 526...\n",
      "Results for track 524 saved to ./monocasting_results/524.feather\n",
      "Running experiment for track 527...\n",
      "Results for track 525 saved to ./monocasting_results/525.feather\n",
      "Running experiment for track 528...\n",
      "Results for track 527 saved to ./monocasting_results/527.feather\n",
      "Running experiment for track 530...\n",
      "Results for track 522 saved to ./monocasting_results/522.feather\n",
      "Running experiment for track 531...\n",
      "Results for track 526 saved to ./monocasting_results/526.feather\n",
      "Running experiment for track 532...\n",
      "Results for track 517 saved to ./monocasting_results/517.feather\n",
      "Running experiment for track 533...\n",
      "Results for track 531 saved to ./monocasting_results/531.feather\n",
      "Running experiment for track 534...\n",
      "Results for track 530 saved to ./monocasting_results/530.feather\n",
      "Running experiment for track 535...\n",
      "Results for track 534 saved to ./monocasting_results/534.feather\n",
      "Running experiment for track 536...\n",
      "Results for track 533 saved to ./monocasting_results/533.feather\n",
      "Running experiment for track 538...\n",
      "Results for track 528 saved to ./monocasting_results/528.feather\n",
      "Running experiment for track 539...\n",
      "Results for track 538 saved to ./monocasting_results/538.feather\n",
      "Running experiment for track 540...\n",
      "Results for track 540 saved to ./monocasting_results/540.feather\n",
      "Running experiment for track 541...\n",
      "Results for track 535 saved to ./monocasting_results/535.feather\n",
      "Running experiment for track 542...\n",
      "Results for track 516 saved to ./monocasting_results/516.feather\n",
      "Running experiment for track 543...\n",
      "Results for track 541 saved to ./monocasting_results/541.feather\n",
      "Running experiment for track 544...\n",
      "Results for track 543 saved to ./monocasting_results/543.feather\n",
      "Running experiment for track 546...\n",
      "Results for track 532 saved to ./monocasting_results/532.feather\n",
      "Running experiment for track 547...\n",
      "Results for track 539 saved to ./monocasting_results/539.feather\n",
      "Running experiment for track 548...\n",
      "Results for track 515 saved to ./monocasting_results/515.feather\n",
      "Running experiment for track 549...\n",
      "Results for track 546 saved to ./monocasting_results/546.feather\n",
      "Running experiment for track 550...\n",
      "Results for track 547 saved to ./monocasting_results/547.feather\n",
      "Running experiment for track 551...\n",
      "Results for track 542 saved to ./monocasting_results/542.feather\n",
      "Running experiment for track 552...\n",
      "Results for track 536 saved to ./monocasting_results/536.feather\n",
      "Running experiment for track 554...\n",
      "Results for track 544 saved to ./monocasting_results/544.feather\n",
      "Running experiment for track 555...\n",
      "Results for track 554 saved to ./monocasting_results/554.feather\n",
      "Running experiment for track 556...\n",
      "Results for track 550 saved to ./monocasting_results/550.feather\n",
      "Running experiment for track 557...\n",
      "Results for track 549 saved to ./monocasting_results/549.feather\n",
      "Running experiment for track 558...\n",
      "Results for track 552 saved to ./monocasting_results/552.feather\n",
      "Running experiment for track 559...\n",
      "Results for track 555 saved to ./monocasting_results/555.feather\n",
      "Running experiment for track 562...\n",
      "Results for track 562 saved to ./monocasting_results/562.feather\n",
      "Results for track 557 saved to ./monocasting_results/557.feather\n",
      "Running experiment for track 563...\n",
      "Running experiment for track 564...\n",
      "Results for track 558 saved to ./monocasting_results/558.feather\n",
      "Running experiment for track 565...\n",
      "Results for track 551 saved to ./monocasting_results/551.feather\n",
      "Running experiment for track 566...\n",
      "Results for track 548 saved to ./monocasting_results/548.feather\n",
      "Running experiment for track 567...\n",
      "Results for track 556 saved to ./monocasting_results/556.feather\n",
      "Running experiment for track 568...\n",
      "Results for track 564 saved to ./monocasting_results/564.feather\n",
      "Running experiment for track 570...\n",
      "Results for track 559 saved to ./monocasting_results/559.feather\n",
      "Running experiment for track 571...\n",
      "Results for track 566 saved to ./monocasting_results/566.feather\n",
      "Running experiment for track 572...\n",
      "Results for track 563 saved to ./monocasting_results/563.feather\n",
      "Running experiment for track 573...\n",
      "Results for track 565 saved to ./monocasting_results/565.feather\n",
      "Running experiment for track 574...\n",
      "Results for track 570 saved to ./monocasting_results/570.feather\n",
      "Running experiment for track 575...\n",
      "Results for track 571 saved to ./monocasting_results/571.feather\n",
      "Running experiment for track 576...\n",
      "Results for track 567 saved to ./monocasting_results/567.feather\n",
      "Running experiment for track 578...\n",
      "Results for track 574 saved to ./monocasting_results/574.feather\n",
      "Running experiment for track 579...\n",
      "Results for track 261 saved to ./monocasting_results/261.feather\n",
      "Running experiment for track 580...\n",
      "Results for track 575 saved to ./monocasting_results/575.feather\n",
      "Running experiment for track 581...\n",
      "Results for track 572 saved to ./monocasting_results/572.feather\n",
      "Running experiment for track 582...\n",
      "Results for track 573 saved to ./monocasting_results/573.feather\n",
      "Running experiment for track 583...\n",
      "Results for track 576 saved to ./monocasting_results/576.feather\n",
      "Running experiment for track 584...\n",
      "Results for track 579 saved to ./monocasting_results/579.feather\n",
      "Running experiment for track 586...\n",
      "Results for track 578 saved to ./monocasting_results/578.feather\n",
      "Running experiment for track 587...\n",
      "Results for track 580 saved to ./monocasting_results/580.feather\n",
      "Running experiment for track 588...\n",
      "Results for track 586 saved to ./monocasting_results/586.feather\n",
      "Running experiment for track 589...\n",
      "Results for track 584 saved to ./monocasting_results/584.feather\n",
      "Running experiment for track 590...\n",
      "Results for track 582 saved to ./monocasting_results/582.feather\n",
      "Running experiment for track 591...\n",
      "Results for track 587 saved to ./monocasting_results/587.feather\n",
      "Running experiment for track 592...\n",
      "Results for track 590 saved to ./monocasting_results/590.feather\n",
      "Running experiment for track 594...\n"
     ]
    },
    {
     "name": "stderr",
     "output_type": "stream",
     "text": [
      "/Users/tomxi/miniforge3/envs/py311/lib/python3.11/site-packages/mir_eval/hierarchy.py:460: UserWarning: Segment hierarchy is inconsistent at level 1\n",
      "  warnings.warn(\n"
     ]
    },
    {
     "name": "stdout",
     "output_type": "stream",
     "text": [
      "Results for track 583 saved to ./monocasting_results/583.feather\n",
      "Running experiment for track 595...\n",
      "Results for track 589 saved to ./monocasting_results/589.feather\n",
      "Running experiment for track 596...\n",
      "Results for track 592 saved to ./monocasting_results/592.feather\n",
      "Running experiment for track 597...\n"
     ]
    },
    {
     "name": "stderr",
     "output_type": "stream",
     "text": [
      "/Users/tomxi/miniforge3/envs/py311/lib/python3.11/site-packages/mir_eval/hierarchy.py:460: UserWarning: Segment hierarchy is inconsistent at level 1\n",
      "  warnings.warn(\n",
      "/Users/tomxi/miniforge3/envs/py311/lib/python3.11/site-packages/mir_eval/hierarchy.py:460: UserWarning: Segment hierarchy is inconsistent at level 1\n",
      "  warnings.warn(\n"
     ]
    },
    {
     "name": "stdout",
     "output_type": "stream",
     "text": [
      "Results for track 595 saved to ./monocasting_results/595.feather\n",
      "Running experiment for track 598...\n",
      "Results for track 597 saved to ./monocasting_results/597.feather\n",
      "Running experiment for track 599...\n",
      "Results for track 591 saved to ./monocasting_results/591.feather\n",
      "Running experiment for track 600...\n",
      "Results for track 581 saved to ./monocasting_results/581.feather\n",
      "Running experiment for track 602...\n",
      "Results for track 588 saved to ./monocasting_results/588.feather\n",
      "Running experiment for track 604...\n"
     ]
    },
    {
     "name": "stderr",
     "output_type": "stream",
     "text": [
      "/Users/tomxi/miniforge3/envs/py311/lib/python3.11/site-packages/mir_eval/hierarchy.py:460: UserWarning: Segment hierarchy is inconsistent at level 1\n",
      "  warnings.warn(\n"
     ]
    },
    {
     "name": "stdout",
     "output_type": "stream",
     "text": [
      "Results for track 596 saved to ./monocasting_results/596.feather\n",
      "Running experiment for track 605...\n"
     ]
    },
    {
     "name": "stderr",
     "output_type": "stream",
     "text": [
      "/Users/tomxi/miniforge3/envs/py311/lib/python3.11/site-packages/mir_eval/hierarchy.py:460: UserWarning: Segment hierarchy is inconsistent at level 1\n",
      "  warnings.warn(\n"
     ]
    },
    {
     "name": "stdout",
     "output_type": "stream",
     "text": [
      "Results for track 604 saved to ./monocasting_results/604.feather\n",
      "Running experiment for track 606...\n",
      "Results for track 598 saved to ./monocasting_results/598.feather\n",
      "Running experiment for track 607...\n",
      "Results for track 605 saved to ./monocasting_results/605.feather\n",
      "Running experiment for track 608...\n",
      "Results for track 602 saved to ./monocasting_results/602.feather\n",
      "Running experiment for track 610...\n",
      "Results for track 600 saved to ./monocasting_results/600.feather\n",
      "Running experiment for track 611...\n",
      "Results for track 608 saved to ./monocasting_results/608.feather\n",
      "Running experiment for track 612...\n"
     ]
    },
    {
     "name": "stderr",
     "output_type": "stream",
     "text": [
      "/Users/tomxi/miniforge3/envs/py311/lib/python3.11/site-packages/mir_eval/hierarchy.py:460: UserWarning: Segment hierarchy is inconsistent at level 1\n",
      "  warnings.warn(\n",
      "/Users/tomxi/miniforge3/envs/py311/lib/python3.11/site-packages/mir_eval/hierarchy.py:460: UserWarning: Segment hierarchy is inconsistent at level 1\n",
      "  warnings.warn(\n"
     ]
    },
    {
     "name": "stdout",
     "output_type": "stream",
     "text": [
      "Results for track 606 saved to ./monocasting_results/606.feather\n",
      "Running experiment for track 613...\n",
      "Results for track 607 saved to ./monocasting_results/607.feather\n",
      "Running experiment for track 614...\n",
      "Results for track 612 saved to ./monocasting_results/612.feather\n",
      "Running experiment for track 615...\n",
      "Results for track 613 saved to ./monocasting_results/613.feather\n",
      "Running experiment for track 616...\n",
      "Results for track 614 saved to ./monocasting_results/614.feather\n",
      "Running experiment for track 618...\n"
     ]
    },
    {
     "name": "stderr",
     "output_type": "stream",
     "text": [
      "/Users/tomxi/miniforge3/envs/py311/lib/python3.11/site-packages/mir_eval/hierarchy.py:460: UserWarning: Segment hierarchy is inconsistent at level 1\n",
      "  warnings.warn(\n"
     ]
    },
    {
     "name": "stdout",
     "output_type": "stream",
     "text": [
      "Results for track 568 saved to ./monocasting_results/568.feather\n",
      "Running experiment for track 619...\n",
      "Results for track 615 saved to ./monocasting_results/615.feather\n",
      "Running experiment for track 620...\n",
      "Results for track 610 saved to ./monocasting_results/610.feather\n",
      "Running experiment for track 621...\n",
      "Results for track 616 saved to ./monocasting_results/616.feather\n",
      "Running experiment for track 622...\n"
     ]
    },
    {
     "name": "stderr",
     "output_type": "stream",
     "text": [
      "/Users/tomxi/miniforge3/envs/py311/lib/python3.11/site-packages/mir_eval/hierarchy.py:460: UserWarning: Segment hierarchy is inconsistent at level 1\n",
      "  warnings.warn(\n"
     ]
    },
    {
     "name": "stdout",
     "output_type": "stream",
     "text": [
      "Results for track 611 saved to ./monocasting_results/611.feather\n",
      "Running experiment for track 623...\n",
      "Results for track 619 saved to ./monocasting_results/619.feather\n",
      "Running experiment for track 624...\n",
      "Results for track 599 saved to ./monocasting_results/599.feather\n",
      "Running experiment for track 626...\n",
      "Results for track 620 saved to ./monocasting_results/620.feather\n",
      "Running experiment for track 627...\n",
      "Results for track 618 saved to ./monocasting_results/618.feather\n",
      "Running experiment for track 628...\n",
      "Results for track 594 saved to ./monocasting_results/594.feather\n",
      "Running experiment for track 629...\n",
      "Results for track 623 saved to ./monocasting_results/623.feather\n",
      "Running experiment for track 630...\n",
      "Results for track 627 saved to ./monocasting_results/627.feather\n",
      "Running experiment for track 631...\n",
      "Results for track 626 saved to ./monocasting_results/626.feather\n",
      "Running experiment for track 632...\n",
      "Results for track 628 saved to ./monocasting_results/628.feather\n",
      "Running experiment for track 634...\n",
      "Results for track 621 saved to ./monocasting_results/621.feather\n",
      "Running experiment for track 635...\n",
      "Results for track 624 saved to ./monocasting_results/624.feather\n",
      "Running experiment for track 636...\n",
      "Results for track 631 saved to ./monocasting_results/631.feather\n",
      "Running experiment for track 637...\n",
      "Results for track 635 saved to ./monocasting_results/635.feather\n",
      "Running experiment for track 638...\n",
      "Results for track 636 saved to ./monocasting_results/636.feather\n",
      "Running experiment for track 639...\n",
      "Results for track 634 saved to ./monocasting_results/634.feather\n",
      "Running experiment for track 640...\n",
      "Results for track 632 saved to ./monocasting_results/632.feather\n",
      "Running experiment for track 642...\n",
      "Results for track 622 saved to ./monocasting_results/622.feather\n",
      "Running experiment for track 643...\n",
      "Results for track 638 saved to ./monocasting_results/638.feather\n",
      "Running experiment for track 644...\n",
      "Results for track 639 saved to ./monocasting_results/639.feather\n",
      "Running experiment for track 645...\n",
      "Results for track 637 saved to ./monocasting_results/637.feather\n",
      "Running experiment for track 646...\n",
      "Results for track 640 saved to ./monocasting_results/640.feather\n",
      "Running experiment for track 647...\n",
      "Results for track 629 saved to ./monocasting_results/629.feather\n",
      "Running experiment for track 648...\n",
      "Results for track 645 saved to ./monocasting_results/645.feather\n",
      "Running experiment for track 650...\n",
      "Results for track 630 saved to ./monocasting_results/630.feather\n",
      "Running experiment for track 651...\n",
      "Results for track 643 saved to ./monocasting_results/643.feather\n",
      "Running experiment for track 652...\n",
      "Results for track 646 saved to ./monocasting_results/646.feather\n",
      "Running experiment for track 653...\n",
      "Results for track 651 saved to ./monocasting_results/651.feather\n",
      "Running experiment for track 654...\n",
      "Results for track 642 saved to ./monocasting_results/642.feather\n",
      "Running experiment for track 655...\n",
      "Results for track 644 saved to ./monocasting_results/644.feather\n",
      "Running experiment for track 656...\n",
      "Results for track 652 saved to ./monocasting_results/652.feather\n",
      "Running experiment for track 658...\n",
      "Results for track 653 saved to ./monocasting_results/653.feather\n",
      "Running experiment for track 659...\n",
      "Results for track 647 saved to ./monocasting_results/647.feather\n",
      "Running experiment for track 660...\n",
      "Results for track 650 saved to ./monocasting_results/650.feather\n",
      "Running experiment for track 661...\n",
      "Results for track 659 saved to ./monocasting_results/659.feather\n",
      "Running experiment for track 662...\n",
      "Results for track 656 saved to ./monocasting_results/656.feather\n",
      "Running experiment for track 663...\n",
      "Results for track 655 saved to ./monocasting_results/655.feather\n",
      "Running experiment for track 664...\n",
      "Results for track 648 saved to ./monocasting_results/648.feather\n",
      "Running experiment for track 666...\n",
      "Results for track 658 saved to ./monocasting_results/658.feather\n",
      "Running experiment for track 667...\n",
      "Results for track 660 saved to ./monocasting_results/660.feather\n",
      "Running experiment for track 668...\n",
      "Results for track 666 saved to ./monocasting_results/666.feather\n",
      "Running experiment for track 669...\n",
      "Results for track 661 saved to ./monocasting_results/661.feather\n",
      "Running experiment for track 670...\n",
      "Results for track 662 saved to ./monocasting_results/662.feather\n",
      "Running experiment for track 671...\n",
      "Results for track 669 saved to ./monocasting_results/669.feather\n",
      "Running experiment for track 672...\n",
      "Results for track 667 saved to ./monocasting_results/667.feather\n",
      "Running experiment for track 674...\n",
      "Results for track 664 saved to ./monocasting_results/664.feather\n",
      "Running experiment for track 675...\n",
      "Results for track 671 saved to ./monocasting_results/671.feather\n",
      "Running experiment for track 676...\n",
      "Results for track 654 saved to ./monocasting_results/654.feather\n",
      "Running experiment for track 677...\n",
      "Results for track 675 saved to ./monocasting_results/675.feather\n",
      "Running experiment for track 678...\n",
      "Results for track 674 saved to ./monocasting_results/674.feather\n",
      "Running experiment for track 679...\n",
      "Results for track 679 saved to ./monocasting_results/679.feather\n",
      "Running experiment for track 680...\n",
      "Results for track 672 saved to ./monocasting_results/672.feather\n",
      "Running experiment for track 682...\n",
      "Results for track 676 saved to ./monocasting_results/676.feather\n",
      "Running experiment for track 683...\n",
      "Results for track 663 saved to ./monocasting_results/663.feather\n",
      "Running experiment for track 684...\n",
      "Results for track 682 saved to ./monocasting_results/682.feather\n",
      "Running experiment for track 685...\n",
      "Results for track 668 saved to ./monocasting_results/668.feather\n",
      "Running experiment for track 686...\n",
      "Results for track 670 saved to ./monocasting_results/670.feather\n",
      "Running experiment for track 687...\n",
      "Results for track 684 saved to ./monocasting_results/684.feather\n",
      "Running experiment for track 688...\n",
      "Results for track 688 saved to ./monocasting_results/688.feather\n",
      "Running experiment for track 690...\n",
      "Results for track 683 saved to ./monocasting_results/683.feather\n",
      "Running experiment for track 691...\n",
      "Results for track 690 saved to ./monocasting_results/690.feather\n",
      "Running experiment for track 692...\n",
      "Results for track 687 saved to ./monocasting_results/687.feather\n",
      "Running experiment for track 693...\n",
      "Results for track 685 saved to ./monocasting_results/685.feather\n",
      "Running experiment for track 694...\n",
      "Results for track 686 saved to ./monocasting_results/686.feather\n",
      "Running experiment for track 695...\n",
      "Results for track 677 saved to ./monocasting_results/677.feather\n",
      "Running experiment for track 696...\n",
      "Results for track 694 saved to ./monocasting_results/694.feather\n",
      "Running experiment for track 698...\n",
      "Results for track 693 saved to ./monocasting_results/693.feather\n",
      "Running experiment for track 699...\n",
      "Results for track 691 saved to ./monocasting_results/691.feather\n",
      "Running experiment for track 700...\n",
      "Results for track 692 saved to ./monocasting_results/692.feather\n",
      "Running experiment for track 701...\n",
      "Results for track 696 saved to ./monocasting_results/696.feather\n",
      "Running experiment for track 702...\n",
      "Results for track 698 saved to ./monocasting_results/698.feather\n",
      "Running experiment for track 703...\n",
      "Results for track 699 saved to ./monocasting_results/699.feather\n",
      "Running experiment for track 704...\n",
      "Results for track 700 saved to ./monocasting_results/700.feather\n",
      "Running experiment for track 706...\n",
      "Results for track 702 saved to ./monocasting_results/702.feather\n",
      "Running experiment for track 707...\n",
      "Results for track 695 saved to ./monocasting_results/695.feather\n",
      "Running experiment for track 708...\n",
      "Results for track 701 saved to ./monocasting_results/701.feather\n",
      "Running experiment for track 709...\n",
      "Results for track 704 saved to ./monocasting_results/704.feather\n",
      "Running experiment for track 710...\n",
      "Results for track 707 saved to ./monocasting_results/707.feather\n",
      "Running experiment for track 711...\n",
      "Running experiment for track 712...\n",
      "Running experiment for track 714...\n",
      "Running experiment for track 715...\n",
      "Running experiment for track 716...\n",
      "Running experiment for track 717...\n",
      "Running experiment for track 718...\n",
      "Results for track 709 saved to ./monocasting_results/709.feather\n",
      "Running experiment for track 719...\n",
      "Running experiment for track 720...\n",
      "Running experiment for track 722...\n",
      "Results for track 718 saved to ./monocasting_results/718.feather\n",
      "Running experiment for track 723...\n",
      "Results for track 722 saved to ./monocasting_results/722.feather\n",
      "Running experiment for track 724...\n",
      "Running experiment for track 725...\n",
      "Results for track 723 saved to ./monocasting_results/723.feather\n",
      "Running experiment for track 726...\n",
      "Results for track 715 saved to ./monocasting_results/715.feather\n",
      "Running experiment for track 727...\n",
      "Results for track 703 saved to ./monocasting_results/703.feather\n",
      "Running experiment for track 728...\n",
      "Results for track 678 saved to ./monocasting_results/678.feather\n",
      "Running experiment for track 730...\n",
      "Results for track 725 saved to ./monocasting_results/725.feather\n",
      "Running experiment for track 731...\n",
      "Results for track 730 saved to ./monocasting_results/730.feather\n",
      "Running experiment for track 732...\n",
      "Results for track 731 saved to ./monocasting_results/731.feather\n",
      "Running experiment for track 733...\n",
      "Results for track 726 saved to ./monocasting_results/726.feather\n",
      "Running experiment for track 734...\n",
      "Results for track 706 saved to ./monocasting_results/706.feather\n",
      "Running experiment for track 735...\n",
      "Results for track 735 saved to ./monocasting_results/735.feather\n",
      "Running experiment for track 736...\n",
      "Results for track 736 saved to ./monocasting_results/736.feather\n",
      "Running experiment for track 738...\n",
      "Results for track 733 saved to ./monocasting_results/733.feather\n",
      "Running experiment for track 739...\n",
      "Results for track 739 saved to ./monocasting_results/739.feather\n",
      "Running experiment for track 740...\n",
      "Results for track 738 saved to ./monocasting_results/738.feather\n",
      "Running experiment for track 741...\n",
      "Results for track 727 saved to ./monocasting_results/727.feather\n",
      "Running experiment for track 742...\n",
      "Results for track 740 saved to ./monocasting_results/740.feather\n",
      "Running experiment for track 743...\n",
      "Results for track 741 saved to ./monocasting_results/741.feather\n",
      "Running experiment for track 744...\n",
      "Results for track 742 saved to ./monocasting_results/742.feather\n",
      "Running experiment for track 746...\n",
      "Results for track 708 saved to ./monocasting_results/708.feather\n",
      "Running experiment for track 747...\n",
      "Results for track 728 saved to ./monocasting_results/728.feather\n",
      "Running experiment for track 748...\n",
      "Results for track 732 saved to ./monocasting_results/732.feather\n",
      "Running experiment for track 749...\n",
      "Results for track 744 saved to ./monocasting_results/744.feather\n",
      "Running experiment for track 750...\n",
      "Results for track 734 saved to ./monocasting_results/734.feather\n",
      "Running experiment for track 751...\n",
      "Results for track 747 saved to ./monocasting_results/747.feather\n",
      "Running experiment for track 752...\n",
      "Results for track 751 saved to ./monocasting_results/751.feather\n",
      "Running experiment for track 754...\n",
      "Results for track 749 saved to ./monocasting_results/749.feather\n",
      "Running experiment for track 755...\n",
      "Results for track 748 saved to ./monocasting_results/748.feather\n",
      "Running experiment for track 756...\n",
      "Results for track 756 saved to ./monocasting_results/756.feather\n",
      "Running experiment for track 757...\n",
      "Results for track 754 saved to ./monocasting_results/754.feather\n",
      "Running experiment for track 758...\n",
      "Results for track 752 saved to ./monocasting_results/752.feather\n",
      "Running experiment for track 759...\n",
      "Results for track 757 saved to ./monocasting_results/757.feather\n",
      "Running experiment for track 760...\n",
      "Results for track 755 saved to ./monocasting_results/755.feather\n",
      "Running experiment for track 762...\n",
      "Results for track 758 saved to ./monocasting_results/758.feather\n",
      "Running experiment for track 763...\n",
      "Results for track 750 saved to ./monocasting_results/750.feather\n",
      "Running experiment for track 765...\n",
      "Results for track 759 saved to ./monocasting_results/759.feather\n",
      "Running experiment for track 766...\n",
      "Results for track 760 saved to ./monocasting_results/760.feather\n",
      "Running experiment for track 767...\n",
      "Results for track 766 saved to ./monocasting_results/766.feather\n",
      "Running experiment for track 768...\n",
      "Results for track 763 saved to ./monocasting_results/763.feather\n",
      "Running experiment for track 770...\n",
      "Results for track 767 saved to ./monocasting_results/767.feather\n",
      "Running experiment for track 771...\n",
      "Results for track 746 saved to ./monocasting_results/746.feather\n",
      "Running experiment for track 772...\n",
      "Results for track 762 saved to ./monocasting_results/762.feather\n",
      "Running experiment for track 773...\n",
      "Results for track 765 saved to ./monocasting_results/765.feather\n",
      "Running experiment for track 774...\n",
      "Results for track 770 saved to ./monocasting_results/770.feather\n",
      "Running experiment for track 775...\n",
      "Results for track 768 saved to ./monocasting_results/768.feather\n",
      "Running experiment for track 776...\n",
      "Results for track 773 saved to ./monocasting_results/773.feather\n",
      "Running experiment for track 778...\n",
      "Results for track 771 saved to ./monocasting_results/771.feather\n",
      "Running experiment for track 779...\n",
      "Results for track 776 saved to ./monocasting_results/776.feather\n",
      "Running experiment for track 780...\n",
      "Results for track 779 saved to ./monocasting_results/779.feather\n",
      "Running experiment for track 781...\n",
      "Results for track 774 saved to ./monocasting_results/774.feather\n",
      "Running experiment for track 782...\n",
      "Results for track 775 saved to ./monocasting_results/775.feather\n",
      "Running experiment for track 783...\n",
      "Results for track 778 saved to ./monocasting_results/778.feather\n",
      "Running experiment for track 784...\n",
      "Results for track 772 saved to ./monocasting_results/772.feather\n",
      "Running experiment for track 786...\n",
      "Results for track 781 saved to ./monocasting_results/781.feather\n",
      "Running experiment for track 787...\n",
      "Results for track 782 saved to ./monocasting_results/782.feather\n",
      "Running experiment for track 788...\n",
      "Results for track 786 saved to ./monocasting_results/786.feather\n",
      "Running experiment for track 789...\n",
      "Results for track 784 saved to ./monocasting_results/784.feather\n",
      "Running experiment for track 790...\n",
      "Results for track 783 saved to ./monocasting_results/783.feather\n",
      "Running experiment for track 791...\n",
      "Results for track 787 saved to ./monocasting_results/787.feather\n",
      "Running experiment for track 792...\n",
      "Results for track 780 saved to ./monocasting_results/780.feather\n",
      "Running experiment for track 794...\n",
      "Results for track 788 saved to ./monocasting_results/788.feather\n",
      "Running experiment for track 795...\n",
      "Results for track 794 saved to ./monocasting_results/794.feather\n",
      "Running experiment for track 796...\n",
      "Results for track 790 saved to ./monocasting_results/790.feather\n",
      "Running experiment for track 797...\n",
      "Results for track 789 saved to ./monocasting_results/789.feather\n",
      "Running experiment for track 798...\n",
      "Results for track 792 saved to ./monocasting_results/792.feather\n",
      "Running experiment for track 799...\n",
      "Results for track 796 saved to ./monocasting_results/796.feather\n",
      "Running experiment for track 800...\n",
      "Results for track 791 saved to ./monocasting_results/791.feather\n",
      "Running experiment for track 802...\n",
      "Results for track 795 saved to ./monocasting_results/795.feather\n",
      "Running experiment for track 803...\n",
      "Results for track 797 saved to ./monocasting_results/797.feather\n",
      "Running experiment for track 805...\n",
      "Results for track 803 saved to ./monocasting_results/803.feather\n",
      "Results for track 798 saved to ./monocasting_results/798.feather\n",
      "Running experiment for track 807...\n",
      "Running experiment for track 806...\n",
      "Results for track 799 saved to ./monocasting_results/799.feather\n",
      "Running experiment for track 808...\n",
      "Results for track 800 saved to ./monocasting_results/800.feather\n",
      "Running experiment for track 810...\n",
      "Results for track 805 saved to ./monocasting_results/805.feather\n",
      "Running experiment for track 811...\n",
      "Results for track 808 saved to ./monocasting_results/808.feather\n",
      "Running experiment for track 812...\n",
      "Results for track 802 saved to ./monocasting_results/802.feather\n",
      "Running experiment for track 813...\n",
      "Results for track 743 saved to ./monocasting_results/743.feather\n",
      "Running experiment for track 814...\n",
      "Results for track 807 saved to ./monocasting_results/807.feather\n",
      "Running experiment for track 815...\n",
      "Results for track 813 saved to ./monocasting_results/813.feather\n",
      "Running experiment for track 816...\n",
      "Results for track 816 saved to ./monocasting_results/816.feather\n",
      "Running experiment for track 818...\n",
      "Results for track 810 saved to ./monocasting_results/810.feather\n",
      "Running experiment for track 819...\n",
      "Results for track 812 saved to ./monocasting_results/812.feather\n",
      "Running experiment for track 820...\n",
      "Results for track 811 saved to ./monocasting_results/811.feather\n",
      "Running experiment for track 821...\n",
      "Results for track 806 saved to ./monocasting_results/806.feather\n",
      "Running experiment for track 822...\n",
      "Results for track 814 saved to ./monocasting_results/814.feather\n",
      "Running experiment for track 823...\n",
      "Results for track 821 saved to ./monocasting_results/821.feather\n",
      "Running experiment for track 824...\n",
      "Results for track 820 saved to ./monocasting_results/820.feather\n",
      "Running experiment for track 826...\n",
      "Results for track 823 saved to ./monocasting_results/823.feather\n",
      "Running experiment for track 827...\n",
      "Results for track 822 saved to ./monocasting_results/822.feather\n",
      "Running experiment for track 828...\n",
      "Results for track 824 saved to ./monocasting_results/824.feather\n",
      "Running experiment for track 829...\n",
      "Results for track 828 saved to ./monocasting_results/828.feather\n",
      "Running experiment for track 830...\n",
      "Results for track 829 saved to ./monocasting_results/829.feather\n",
      "Running experiment for track 831...\n",
      "Results for track 826 saved to ./monocasting_results/826.feather\n",
      "Running experiment for track 832...\n",
      "Results for track 815 saved to ./monocasting_results/815.feather\n",
      "Running experiment for track 834...\n",
      "Results for track 832 saved to ./monocasting_results/832.feather\n",
      "Running experiment for track 835...\n",
      "Results for track 831 saved to ./monocasting_results/831.feather\n",
      "Running experiment for track 836...\n",
      "Results for track 834 saved to ./monocasting_results/834.feather\n",
      "Running experiment for track 837...\n",
      "Results for track 835 saved to ./monocasting_results/835.feather\n",
      "Running experiment for track 838...\n",
      "Results for track 818 saved to ./monocasting_results/818.feather\n",
      "Running experiment for track 839...\n",
      "Results for track 836 saved to ./monocasting_results/836.feather\n",
      "Running experiment for track 840...\n",
      "Results for track 827 saved to ./monocasting_results/827.feather\n",
      "Running experiment for track 842...\n",
      "Results for track 842 saved to ./monocasting_results/842.feather\n",
      "Running experiment for track 843...\n",
      "Results for track 838 saved to ./monocasting_results/838.feather\n",
      "Results for track 830 saved to ./monocasting_results/830.feather\n",
      "Running experiment for track 844...\n",
      "Running experiment for track 845...\n",
      "Results for track 819 saved to ./monocasting_results/819.feather\n",
      "Running experiment for track 846...\n",
      "Results for track 839 saved to ./monocasting_results/839.feather\n",
      "Running experiment for track 847...\n",
      "Results for track 837 saved to ./monocasting_results/837.feather\n",
      "Running experiment for track 848...\n",
      "Results for track 843 saved to ./monocasting_results/843.feather\n",
      "Running experiment for track 850...\n",
      "Results for track 840 saved to ./monocasting_results/840.feather\n",
      "Running experiment for track 851...\n",
      "Results for track 845 saved to ./monocasting_results/845.feather\n",
      "Running experiment for track 852...\n",
      "Results for track 844 saved to ./monocasting_results/844.feather\n",
      "Running experiment for track 853...\n",
      "Results for track 847 saved to ./monocasting_results/847.feather\n",
      "Running experiment for track 854...\n",
      "Results for track 854 saved to ./monocasting_results/854.feather\n",
      "Running experiment for track 855...\n",
      "Results for track 848 saved to ./monocasting_results/848.feather\n",
      "Running experiment for track 856...\n",
      "Results for track 846 saved to ./monocasting_results/846.feather\n",
      "Running experiment for track 858...\n",
      "Results for track 855 saved to ./monocasting_results/855.feather\n",
      "Running experiment for track 860...\n",
      "Results for track 853 saved to ./monocasting_results/853.feather\n",
      "Running experiment for track 861...\n",
      "Results for track 851 saved to ./monocasting_results/851.feather\n",
      "Running experiment for track 862...\n",
      "Results for track 850 saved to ./monocasting_results/850.feather\n",
      "Running experiment for track 863...\n",
      "Results for track 860 saved to ./monocasting_results/860.feather\n",
      "Running experiment for track 864...\n",
      "Results for track 858 saved to ./monocasting_results/858.feather\n",
      "Running experiment for track 866...\n",
      "Results for track 856 saved to ./monocasting_results/856.feather\n",
      "Running experiment for track 867...\n",
      "Results for track 852 saved to ./monocasting_results/852.feather\n",
      "Running experiment for track 868...\n",
      "Results for track 867 saved to ./monocasting_results/867.feather\n",
      "Running experiment for track 869...\n",
      "Results for track 861 saved to ./monocasting_results/861.feather\n",
      "Running experiment for track 870...\n",
      "Results for track 864 saved to ./monocasting_results/864.feather\n",
      "Running experiment for track 871...\n",
      "Results for track 866 saved to ./monocasting_results/866.feather\n",
      "Running experiment for track 874...\n",
      "Results for track 870 saved to ./monocasting_results/870.feather\n",
      "Running experiment for track 875...\n",
      "Results for track 869 saved to ./monocasting_results/869.feather\n",
      "Running experiment for track 876...\n",
      "Results for track 871 saved to ./monocasting_results/871.feather\n",
      "Running experiment for track 877...\n",
      "Results for track 875 saved to ./monocasting_results/875.feather\n",
      "Running experiment for track 878...\n",
      "Results for track 874 saved to ./monocasting_results/874.feather\n",
      "Running experiment for track 879...\n",
      "Results for track 876 saved to ./monocasting_results/876.feather\n",
      "Running experiment for track 880...\n",
      "Results for track 868 saved to ./monocasting_results/868.feather\n",
      "Running experiment for track 882...\n",
      "Results for track 880 saved to ./monocasting_results/880.feather\n",
      "Running experiment for track 883...\n",
      "Results for track 863 saved to ./monocasting_results/863.feather\n",
      "Running experiment for track 884...\n",
      "Results for track 882 saved to ./monocasting_results/882.feather\n",
      "Running experiment for track 885...\n",
      "Results for track 862 saved to ./monocasting_results/862.feather\n",
      "Running experiment for track 886...\n",
      "Results for track 879 saved to ./monocasting_results/879.feather\n",
      "Running experiment for track 887...\n",
      "Results for track 877 saved to ./monocasting_results/877.feather\n",
      "Running experiment for track 888...\n",
      "Results for track 883 saved to ./monocasting_results/883.feather\n",
      "Running experiment for track 890...\n",
      "Results for track 887 saved to ./monocasting_results/887.feather\n",
      "Running experiment for track 891...\n",
      "Results for track 885 saved to ./monocasting_results/885.feather\n",
      "Running experiment for track 892...\n",
      "Results for track 884 saved to ./monocasting_results/884.feather\n",
      "Running experiment for track 893...\n",
      "Results for track 891 saved to ./monocasting_results/891.feather\n",
      "Running experiment for track 894...\n",
      "Results for track 893 saved to ./monocasting_results/893.feather\n",
      "Running experiment for track 895...\n",
      "Results for track 890 saved to ./monocasting_results/890.feather\n",
      "Running experiment for track 896...\n",
      "Results for track 892 saved to ./monocasting_results/892.feather\n",
      "Running experiment for track 898...\n",
      "Results for track 894 saved to ./monocasting_results/894.feather\n",
      "Running experiment for track 899...\n",
      "Results for track 899 saved to ./monocasting_results/899.feather\n",
      "Running experiment for track 900...\n",
      "Results for track 896 saved to ./monocasting_results/896.feather\n",
      "Running experiment for track 901...\n",
      "Results for track 901 saved to ./monocasting_results/901.feather\n",
      "Running experiment for track 902...\n",
      "Results for track 900 saved to ./monocasting_results/900.feather\n",
      "Running experiment for track 903...\n",
      "Results for track 902 saved to ./monocasting_results/902.feather\n",
      "Running experiment for track 904...\n",
      "Results for track 904 saved to ./monocasting_results/904.feather\n",
      "Running experiment for track 906...\n",
      "Results for track 680 saved to ./monocasting_results/680.feather\n",
      "Running experiment for track 907...\n",
      "Results for track 898 saved to ./monocasting_results/898.feather\n",
      "Running experiment for track 908...\n",
      "Results for track 886 saved to ./monocasting_results/886.feather\n",
      "Running experiment for track 909...\n",
      "Results for track 895 saved to ./monocasting_results/895.feather\n",
      "Running experiment for track 910...\n",
      "Results for track 908 saved to ./monocasting_results/908.feather\n",
      "Running experiment for track 911...\n",
      "Results for track 911 saved to ./monocasting_results/911.feather\n",
      "Running experiment for track 912...\n",
      "Results for track 903 saved to ./monocasting_results/903.feather\n",
      "Running experiment for track 914...\n",
      "Results for track 910 saved to ./monocasting_results/910.feather\n",
      "Running experiment for track 915...\n",
      "Results for track 906 saved to ./monocasting_results/906.feather\n",
      "Running experiment for track 916...\n",
      "Results for track 912 saved to ./monocasting_results/912.feather\n",
      "Running experiment for track 917...\n",
      "Results for track 917 saved to ./monocasting_results/917.feather\n",
      "Running experiment for track 919...\n",
      "Results for track 907 saved to ./monocasting_results/907.feather\n",
      "Running experiment for track 920...\n",
      "Results for track 919 saved to ./monocasting_results/919.feather\n",
      "Running experiment for track 922...\n",
      "Results for track 916 saved to ./monocasting_results/916.feather\n",
      "Running experiment for track 923...\n",
      "Results for track 909 saved to ./monocasting_results/909.feather\n",
      "Running experiment for track 924...\n",
      "Results for track 924 saved to ./monocasting_results/924.feather\n",
      "Running experiment for track 925...\n",
      "Results for track 923 saved to ./monocasting_results/923.feather\n",
      "Running experiment for track 926...\n",
      "Results for track 915 saved to ./monocasting_results/915.feather\n",
      "Running experiment for track 928...\n",
      "Results for track 926 saved to ./monocasting_results/926.feather\n",
      "Running experiment for track 930...\n",
      "Results for track 914 saved to ./monocasting_results/914.feather\n",
      "Running experiment for track 931...\n",
      "Results for track 925 saved to ./monocasting_results/925.feather\n",
      "Running experiment for track 932...\n",
      "Results for track 922 saved to ./monocasting_results/922.feather\n",
      "Running experiment for track 933...\n",
      "Results for track 928 saved to ./monocasting_results/928.feather\n",
      "Running experiment for track 934...\n",
      "Results for track 931 saved to ./monocasting_results/931.feather\n",
      "Running experiment for track 935...\n",
      "Results for track 920 saved to ./monocasting_results/920.feather\n",
      "Running experiment for track 936...\n",
      "Results for track 936 saved to ./monocasting_results/936.feather\n",
      "Running experiment for track 938...\n",
      "Results for track 938 saved to ./monocasting_results/938.feather\n",
      "Running experiment for track 939...\n",
      "Results for track 930 saved to ./monocasting_results/930.feather\n",
      "Running experiment for track 940...\n",
      "Results for track 933 saved to ./monocasting_results/933.feather\n",
      "Running experiment for track 941...\n",
      "Results for track 934 saved to ./monocasting_results/934.feather\n",
      "Running experiment for track 942...\n",
      "Results for track 942 saved to ./monocasting_results/942.feather\n",
      "Running experiment for track 943...\n",
      "Results for track 888 saved to ./monocasting_results/888.feather\n",
      "Running experiment for track 944...\n",
      "Results for track 941 saved to ./monocasting_results/941.feather\n",
      "Running experiment for track 946...\n",
      "Results for track 943 saved to ./monocasting_results/943.feather\n",
      "Running experiment for track 947...\n",
      "Results for track 939 saved to ./monocasting_results/939.feather\n",
      "Running experiment for track 948...\n",
      "Results for track 947 saved to ./monocasting_results/947.feather\n",
      "Running experiment for track 949...\n",
      "Results for track 946 saved to ./monocasting_results/946.feather\n",
      "Running experiment for track 950...\n",
      "Results for track 944 saved to ./monocasting_results/944.feather\n",
      "Running experiment for track 951...\n",
      "Results for track 940 saved to ./monocasting_results/940.feather\n",
      "Running experiment for track 952...\n",
      "Results for track 952 saved to ./monocasting_results/952.feather\n",
      "Running experiment for track 954...\n",
      "Results for track 951 saved to ./monocasting_results/951.feather\n",
      "Running experiment for track 955...\n",
      "Results for track 935 saved to ./monocasting_results/935.feather\n",
      "Running experiment for track 956...\n",
      "Results for track 949 saved to ./monocasting_results/949.feather\n",
      "Running experiment for track 957...\n",
      "Results for track 954 saved to ./monocasting_results/954.feather\n",
      "Running experiment for track 958...\n",
      "Results for track 950 saved to ./monocasting_results/950.feather\n",
      "Running experiment for track 959...\n",
      "Results for track 955 saved to ./monocasting_results/955.feather\n",
      "Running experiment for track 960...\n",
      "Results for track 948 saved to ./monocasting_results/948.feather\n",
      "Running experiment for track 962...\n",
      "Results for track 956 saved to ./monocasting_results/956.feather\n",
      "Running experiment for track 963...\n",
      "Results for track 957 saved to ./monocasting_results/957.feather\n",
      "Running experiment for track 964...\n",
      "Results for track 964 saved to ./monocasting_results/964.feather\n",
      "Running experiment for track 965...\n",
      "Results for track 958 saved to ./monocasting_results/958.feather\n",
      "Running experiment for track 967...\n",
      "Results for track 960 saved to ./monocasting_results/960.feather\n",
      "Running experiment for track 968...\n",
      "Results for track 963 saved to ./monocasting_results/963.feather\n",
      "Running experiment for track 970...\n",
      "Results for track 970 saved to ./monocasting_results/970.feather\n",
      "Running experiment for track 971...\n",
      "Results for track 971 saved to ./monocasting_results/971.feather\n",
      "Running experiment for track 972...\n",
      "Results for track 968 saved to ./monocasting_results/968.feather\n",
      "Running experiment for track 973...\n",
      "Results for track 972 saved to ./monocasting_results/972.feather\n",
      "Running experiment for track 974...\n",
      "Results for track 974 saved to ./monocasting_results/974.feather\n",
      "Running experiment for track 975...\n",
      "Results for track 962 saved to ./monocasting_results/962.feather\n",
      "Running experiment for track 976...\n",
      "Results for track 973 saved to ./monocasting_results/973.feather\n",
      "Running experiment for track 978...\n",
      "Results for track 965 saved to ./monocasting_results/965.feather\n",
      "Running experiment for track 979...\n",
      "Results for track 967 saved to ./monocasting_results/967.feather\n",
      "Running experiment for track 980...\n",
      "Results for track 979 saved to ./monocasting_results/979.feather\n",
      "Running experiment for track 981...\n",
      "Results for track 975 saved to ./monocasting_results/975.feather\n",
      "Running experiment for track 982...\n",
      "Results for track 976 saved to ./monocasting_results/976.feather\n",
      "Running experiment for track 983...\n",
      "Results for track 981 saved to ./monocasting_results/981.feather\n",
      "Running experiment for track 984...\n",
      "Results for track 959 saved to ./monocasting_results/959.feather\n",
      "Running experiment for track 986...\n",
      "Results for track 980 saved to ./monocasting_results/980.feather\n",
      "Running experiment for track 988...\n",
      "Results for track 983 saved to ./monocasting_results/983.feather\n",
      "Running experiment for track 989...\n",
      "Results for track 982 saved to ./monocasting_results/982.feather\n",
      "Running experiment for track 990...\n",
      "Results for track 990 saved to ./monocasting_results/990.feather\n",
      "Running experiment for track 991...\n",
      "Results for track 988 saved to ./monocasting_results/988.feather\n",
      "Running experiment for track 992...\n",
      "Results for track 989 saved to ./monocasting_results/989.feather\n",
      "Running experiment for track 994...\n",
      "Results for track 984 saved to ./monocasting_results/984.feather\n",
      "Running experiment for track 995...\n",
      "Results for track 992 saved to ./monocasting_results/992.feather\n",
      "Running experiment for track 996...\n",
      "Results for track 991 saved to ./monocasting_results/991.feather\n",
      "Running experiment for track 997...\n",
      "Results for track 994 saved to ./monocasting_results/994.feather\n",
      "Running experiment for track 998...\n",
      "Results for track 996 saved to ./monocasting_results/996.feather\n",
      "Running experiment for track 999...\n",
      "Results for track 986 saved to ./monocasting_results/986.feather\n",
      "Running experiment for track 1000...\n",
      "Results for track 997 saved to ./monocasting_results/997.feather\n",
      "Running experiment for track 1002...\n",
      "Results for track 1000 saved to ./monocasting_results/1000.feather\n",
      "Running experiment for track 1003...\n",
      "Results for track 998 saved to ./monocasting_results/998.feather\n",
      "Running experiment for track 1004...\n",
      "Results for track 932 saved to ./monocasting_results/932.feather\n",
      "Running experiment for track 1005...\n",
      "Results for track 978 saved to ./monocasting_results/978.feather\n",
      "Running experiment for track 1006...\n",
      "Results for track 995 saved to ./monocasting_results/995.feather\n",
      "Running experiment for track 1007...\n",
      "Results for track 1003 saved to ./monocasting_results/1003.feather\n",
      "Running experiment for track 1008...\n",
      "Results for track 1007 saved to ./monocasting_results/1007.feather\n",
      "Running experiment for track 1010...\n",
      "Results for track 1004 saved to ./monocasting_results/1004.feather\n",
      "Running experiment for track 1011...\n",
      "Results for track 1005 saved to ./monocasting_results/1005.feather\n",
      "Running experiment for track 1012...\n",
      "Results for track 1006 saved to ./monocasting_results/1006.feather\n",
      "Running experiment for track 1013...\n",
      "Results for track 1010 saved to ./monocasting_results/1010.feather\n",
      "Running experiment for track 1014...\n",
      "Results for track 1002 saved to ./monocasting_results/1002.feather\n",
      "Running experiment for track 1015...\n",
      "Results for track 1012 saved to ./monocasting_results/1012.feather\n",
      "Running experiment for track 1016...\n",
      "Results for track 1015 saved to ./monocasting_results/1015.feather\n",
      "Running experiment for track 1018...\n",
      "Results for track 999 saved to ./monocasting_results/999.feather\n",
      "Running experiment for track 1019...\n",
      "Results for track 1008 saved to ./monocasting_results/1008.feather\n",
      "Running experiment for track 1020...\n",
      "Results for track 1014 saved to ./monocasting_results/1014.feather\n",
      "Running experiment for track 1021...\n",
      "Results for track 1018 saved to ./monocasting_results/1018.feather\n",
      "Running experiment for track 1022...\n",
      "Results for track 1020 saved to ./monocasting_results/1020.feather\n",
      "Running experiment for track 1023...\n",
      "Results for track 1019 saved to ./monocasting_results/1019.feather\n",
      "Running experiment for track 1024...\n",
      "Results for track 1011 saved to ./monocasting_results/1011.feather\n",
      "Running experiment for track 1026...\n",
      "Results for track 1016 saved to ./monocasting_results/1016.feather\n",
      "Running experiment for track 1027...\n",
      "Results for track 1013 saved to ./monocasting_results/1013.feather\n",
      "Running experiment for track 1028...\n",
      "Results for track 1022 saved to ./monocasting_results/1022.feather\n",
      "Running experiment for track 1032...\n",
      "Results for track 1024 saved to ./monocasting_results/1024.feather\n",
      "Running experiment for track 1034...\n",
      "Results for track 1023 saved to ./monocasting_results/1023.feather\n",
      "Running experiment for track 1035...\n",
      "Results for track 1032 saved to ./monocasting_results/1032.feather\n",
      "Running experiment for track 1036...\n",
      "Results for track 1027 saved to ./monocasting_results/1027.feather\n",
      "Running experiment for track 1037...\n",
      "Results for track 1036 saved to ./monocasting_results/1036.feather\n",
      "Running experiment for track 1038...\n",
      "Results for track 1026 saved to ./monocasting_results/1026.feather\n",
      "Running experiment for track 1039...\n",
      "Results for track 1035 saved to ./monocasting_results/1035.feather\n",
      "Running experiment for track 1042...\n",
      "Results for track 1039 saved to ./monocasting_results/1039.feather\n",
      "Running experiment for track 1043...\n",
      "Results for track 1034 saved to ./monocasting_results/1034.feather\n",
      "Running experiment for track 1044...\n",
      "Results for track 1038 saved to ./monocasting_results/1038.feather\n",
      "Running experiment for track 1045...\n",
      "Results for track 1042 saved to ./monocasting_results/1042.feather\n",
      "Running experiment for track 1046...\n",
      "Results for track 1028 saved to ./monocasting_results/1028.feather\n",
      "Running experiment for track 1047...\n",
      "Results for track 1043 saved to ./monocasting_results/1043.feather\n",
      "Running experiment for track 1048...\n",
      "Results for track 1045 saved to ./monocasting_results/1045.feather\n",
      "Running experiment for track 1050...\n",
      "Results for track 1047 saved to ./monocasting_results/1047.feather\n",
      "Running experiment for track 1051...\n",
      "Results for track 1046 saved to ./monocasting_results/1046.feather\n",
      "Running experiment for track 1053...\n",
      "Results for track 1048 saved to ./monocasting_results/1048.feather\n",
      "Running experiment for track 1054...\n",
      "Results for track 1050 saved to ./monocasting_results/1050.feather\n",
      "Running experiment for track 1055...\n",
      "Results for track 1044 saved to ./monocasting_results/1044.feather\n",
      "Running experiment for track 1056...\n",
      "Results for track 1054 saved to ./monocasting_results/1054.feather\n",
      "Running experiment for track 1058...\n",
      "Results for track 1037 saved to ./monocasting_results/1037.feather\n",
      "Running experiment for track 1059...\n",
      "Results for track 1055 saved to ./monocasting_results/1055.feather\n",
      "Running experiment for track 1060...\n",
      "Results for track 1053 saved to ./monocasting_results/1053.feather\n",
      "Running experiment for track 1061...\n",
      "Results for track 1021 saved to ./monocasting_results/1021.feather\n",
      "Running experiment for track 1062...\n",
      "Results for track 1059 saved to ./monocasting_results/1059.feather\n",
      "Running experiment for track 1063...\n",
      "Results for track 1058 saved to ./monocasting_results/1058.feather\n",
      "Running experiment for track 1064...\n",
      "Results for track 1056 saved to ./monocasting_results/1056.feather\n",
      "Running experiment for track 1066...\n",
      "Results for track 1051 saved to ./monocasting_results/1051.feather\n",
      "Running experiment for track 1067...\n",
      "Results for track 1060 saved to ./monocasting_results/1060.feather\n",
      "Running experiment for track 1068...\n",
      "Results for track 1063 saved to ./monocasting_results/1063.feather\n",
      "Running experiment for track 1069...\n",
      "Results for track 1064 saved to ./monocasting_results/1064.feather\n",
      "Running experiment for track 1070...\n",
      "Results for track 1061 saved to ./monocasting_results/1061.feather\n",
      "Running experiment for track 1071...\n",
      "Results for track 1067 saved to ./monocasting_results/1067.feather\n",
      "Running experiment for track 1072...\n",
      "Results for track 1070 saved to ./monocasting_results/1070.feather\n",
      "Running experiment for track 1074...\n",
      "Results for track 1069 saved to ./monocasting_results/1069.feather\n",
      "Running experiment for track 1075...\n",
      "Results for track 1074 saved to ./monocasting_results/1074.feather\n",
      "Running experiment for track 1076...\n",
      "Results for track 1075 saved to ./monocasting_results/1075.feather\n",
      "Running experiment for track 1077...\n",
      "Results for track 1071 saved to ./monocasting_results/1071.feather\n",
      "Running experiment for track 1078...\n",
      "Results for track 1078 saved to ./monocasting_results/1078.feather\n",
      "Running experiment for track 1079...\n",
      "Results for track 1076 saved to ./monocasting_results/1076.feather\n",
      "Running experiment for track 1080...\n",
      "Results for track 1068 saved to ./monocasting_results/1068.feather\n",
      "Running experiment for track 1082...\n",
      "Results for track 1062 saved to ./monocasting_results/1062.feather\n",
      "Running experiment for track 1083...\n",
      "Results for track 1072 saved to ./monocasting_results/1072.feather\n",
      "Running experiment for track 1084...\n",
      "Results for track 1080 saved to ./monocasting_results/1080.feather\n",
      "Running experiment for track 1085...\n",
      "Results for track 1077 saved to ./monocasting_results/1077.feather\n",
      "Running experiment for track 1086...\n",
      "Results for track 1079 saved to ./monocasting_results/1079.feather\n",
      "Running experiment for track 1088...\n",
      "Results for track 1066 saved to ./monocasting_results/1066.feather\n",
      "Running experiment for track 1090...\n",
      "Results for track 1083 saved to ./monocasting_results/1083.feather\n",
      "Running experiment for track 1091...\n",
      "Results for track 1086 saved to ./monocasting_results/1086.feather\n",
      "Running experiment for track 1092...\n",
      "Results for track 1092 saved to ./monocasting_results/1092.feather\n",
      "Running experiment for track 1093...\n",
      "Results for track 1085 saved to ./monocasting_results/1085.feather\n",
      "Running experiment for track 1094...\n",
      "Results for track 1082 saved to ./monocasting_results/1082.feather\n",
      "Running experiment for track 1095...\n",
      "Results for track 1091 saved to ./monocasting_results/1091.feather\n",
      "Running experiment for track 1096...\n",
      "Results for track 1094 saved to ./monocasting_results/1094.feather\n",
      "Running experiment for track 1098...\n",
      "Results for track 1084 saved to ./monocasting_results/1084.feather\n",
      "Running experiment for track 1099...\n",
      "Results for track 1093 saved to ./monocasting_results/1093.feather\n",
      "Running experiment for track 1100...\n",
      "Results for track 1096 saved to ./monocasting_results/1096.feather\n",
      "Running experiment for track 1101...\n",
      "Results for track 1088 saved to ./monocasting_results/1088.feather\n",
      "Running experiment for track 1102...\n",
      "Results for track 1095 saved to ./monocasting_results/1095.feather\n",
      "Running experiment for track 1103...\n",
      "Results for track 1099 saved to ./monocasting_results/1099.feather\n",
      "Running experiment for track 1104...\n",
      "Results for track 1098 saved to ./monocasting_results/1098.feather\n",
      "Running experiment for track 1106...\n",
      "Results for track 1090 saved to ./monocasting_results/1090.feather\n",
      "Running experiment for track 1107...\n",
      "Results for track 1106 saved to ./monocasting_results/1106.feather\n",
      "Running experiment for track 1108...\n",
      "Results for track 1102 saved to ./monocasting_results/1102.feather\n",
      "Running experiment for track 1109...\n",
      "Results for track 1100 saved to ./monocasting_results/1100.feather\n",
      "Running experiment for track 1110...\n",
      "Results for track 1101 saved to ./monocasting_results/1101.feather\n",
      "Running experiment for track 1111...\n",
      "Results for track 1108 saved to ./monocasting_results/1108.feather\n",
      "Running experiment for track 1112...\n",
      "Results for track 1103 saved to ./monocasting_results/1103.feather\n",
      "Running experiment for track 1114...\n",
      "Results for track 1110 saved to ./monocasting_results/1110.feather\n",
      "Running experiment for track 1116...\n",
      "Results for track 1107 saved to ./monocasting_results/1107.feather\n",
      "Running experiment for track 1117...\n",
      "Results for track 1111 saved to ./monocasting_results/1111.feather\n",
      "Running experiment for track 1118...\n",
      "Results for track 1109 saved to ./monocasting_results/1109.feather\n",
      "Running experiment for track 1119...\n",
      "Results for track 1116 saved to ./monocasting_results/1116.feather\n",
      "Running experiment for track 1120...\n",
      "Results for track 1114 saved to ./monocasting_results/1114.feather\n",
      "Running experiment for track 1122...\n",
      "Results for track 1117 saved to ./monocasting_results/1117.feather\n",
      "Running experiment for track 1123...\n",
      "Results for track 1120 saved to ./monocasting_results/1120.feather\n",
      "Running experiment for track 1124...\n",
      "Results for track 1119 saved to ./monocasting_results/1119.feather\n",
      "Running experiment for track 1125...\n",
      "Results for track 1118 saved to ./monocasting_results/1118.feather\n",
      "Running experiment for track 1127...\n",
      "Results for track 1122 saved to ./monocasting_results/1122.feather\n",
      "Running experiment for track 1128...\n",
      "Results for track 1125 saved to ./monocasting_results/1125.feather\n",
      "Running experiment for track 1130...\n",
      "Results for track 1123 saved to ./monocasting_results/1123.feather\n",
      "Running experiment for track 1131...\n",
      "Results for track 1124 saved to ./monocasting_results/1124.feather\n",
      "Running experiment for track 1132...\n",
      "Results for track 1132 saved to ./monocasting_results/1132.feather\n",
      "Running experiment for track 1133...\n",
      "Results for track 1130 saved to ./monocasting_results/1130.feather\n",
      "Running experiment for track 1134...\n",
      "Results for track 1112 saved to ./monocasting_results/1112.feather\n",
      "Running experiment for track 1135...\n",
      "Results for track 878 saved to ./monocasting_results/878.feather\n",
      "Running experiment for track 1136...\n",
      "Results for track 1128 saved to ./monocasting_results/1128.feather\n",
      "Running experiment for track 1138...\n",
      "Results for track 1136 saved to ./monocasting_results/1136.feather\n",
      "Running experiment for track 1139...\n",
      "Results for track 1134 saved to ./monocasting_results/1134.feather\n",
      "Running experiment for track 1141...\n",
      "Results for track 1139 saved to ./monocasting_results/1139.feather\n",
      "Running experiment for track 1142...\n",
      "Results for track 1135 saved to ./monocasting_results/1135.feather\n",
      "Running experiment for track 1143...\n",
      "Results for track 1104 saved to ./monocasting_results/1104.feather\n",
      "Running experiment for track 1144...\n",
      "Results for track 1142 saved to ./monocasting_results/1142.feather\n",
      "Running experiment for track 1146...\n",
      "Results for track 1144 saved to ./monocasting_results/1144.feather\n",
      "Running experiment for track 1147...\n",
      "Results for track 1127 saved to ./monocasting_results/1127.feather\n",
      "Running experiment for track 1148...\n",
      "Results for track 1131 saved to ./monocasting_results/1131.feather\n",
      "Running experiment for track 1149...\n",
      "Results for track 1147 saved to ./monocasting_results/1147.feather\n",
      "Running experiment for track 1150...\n",
      "Results for track 1143 saved to ./monocasting_results/1143.feather\n",
      "Running experiment for track 1151...\n",
      "Results for track 1149 saved to ./monocasting_results/1149.feather\n",
      "Running experiment for track 1152...\n",
      "Results for track 1146 saved to ./monocasting_results/1146.feather\n",
      "Running experiment for track 1154...\n",
      "Results for track 1154 saved to ./monocasting_results/1154.feather\n",
      "Running experiment for track 1155...\n"
     ]
    },
    {
     "name": "stderr",
     "output_type": "stream",
     "text": [
      "/Users/tomxi/miniforge3/envs/py311/lib/python3.11/site-packages/mir_eval/hierarchy.py:460: UserWarning: Segment hierarchy is inconsistent at level 1\n",
      "  warnings.warn(\n"
     ]
    },
    {
     "name": "stdout",
     "output_type": "stream",
     "text": [
      "Results for track 1138 saved to ./monocasting_results/1138.feather\n",
      "Running experiment for track 1156...\n"
     ]
    },
    {
     "name": "stderr",
     "output_type": "stream",
     "text": [
      "/Users/tomxi/miniforge3/envs/py311/lib/python3.11/site-packages/mir_eval/hierarchy.py:460: UserWarning: Segment hierarchy is inconsistent at level 1\n",
      "  warnings.warn(\n",
      "/Users/tomxi/miniforge3/envs/py311/lib/python3.11/site-packages/mir_eval/hierarchy.py:460: UserWarning: Segment hierarchy is inconsistent at level 1\n",
      "  warnings.warn(\n"
     ]
    },
    {
     "name": "stdout",
     "output_type": "stream",
     "text": [
      "Results for track 1133 saved to ./monocasting_results/1133.feather\n",
      "Running experiment for track 1157...\n",
      "Results for track 1156 saved to ./monocasting_results/1156.feather\n",
      "Running experiment for track 1158...\n",
      "Results for track 1148 saved to ./monocasting_results/1148.feather\n",
      "Running experiment for track 1159...\n",
      "Results for track 1152 saved to ./monocasting_results/1152.feather\n",
      "Running experiment for track 1160...\n",
      "Results for track 1150 saved to ./monocasting_results/1150.feather\n",
      "Running experiment for track 1162...\n"
     ]
    },
    {
     "name": "stderr",
     "output_type": "stream",
     "text": [
      "/Users/tomxi/miniforge3/envs/py311/lib/python3.11/site-packages/mir_eval/hierarchy.py:460: UserWarning: Segment hierarchy is inconsistent at level 1\n",
      "  warnings.warn(\n",
      "/Users/tomxi/miniforge3/envs/py311/lib/python3.11/site-packages/mir_eval/hierarchy.py:460: UserWarning: Segment hierarchy is inconsistent at level 1\n",
      "  warnings.warn(\n"
     ]
    },
    {
     "name": "stdout",
     "output_type": "stream",
     "text": [
      "Results for track 1160 saved to ./monocasting_results/1160.feather\n",
      "Running experiment for track 1163...\n",
      "Results for track 1159 saved to ./monocasting_results/1159.feather\n",
      "Running experiment for track 1164...\n",
      "Results for track 1157 saved to ./monocasting_results/1157.feather\n",
      "Running experiment for track 1165...\n",
      "Results for track 1165 saved to ./monocasting_results/1165.feather\n",
      "Running experiment for track 1166...\n"
     ]
    },
    {
     "name": "stderr",
     "output_type": "stream",
     "text": [
      "/Users/tomxi/miniforge3/envs/py311/lib/python3.11/site-packages/mir_eval/hierarchy.py:460: UserWarning: Segment hierarchy is inconsistent at level 1\n",
      "  warnings.warn(\n"
     ]
    },
    {
     "name": "stdout",
     "output_type": "stream",
     "text": [
      "Results for track 1141 saved to ./monocasting_results/1141.feather\n",
      "Running experiment for track 1168...\n"
     ]
    },
    {
     "name": "stderr",
     "output_type": "stream",
     "text": [
      "/Users/tomxi/miniforge3/envs/py311/lib/python3.11/site-packages/mir_eval/hierarchy.py:460: UserWarning: Segment hierarchy is inconsistent at level 1\n",
      "  warnings.warn(\n"
     ]
    },
    {
     "name": "stdout",
     "output_type": "stream",
     "text": [
      "Results for track 1163 saved to ./monocasting_results/1163.feather\n",
      "Running experiment for track 1170...\n",
      "Results for track 1158 saved to ./monocasting_results/1158.feather\n",
      "Running experiment for track 1172...\n",
      "Results for track 1166 saved to ./monocasting_results/1166.feather\n",
      "Running experiment for track 1173...\n"
     ]
    },
    {
     "name": "stderr",
     "output_type": "stream",
     "text": [
      "/Users/tomxi/miniforge3/envs/py311/lib/python3.11/site-packages/mir_eval/hierarchy.py:460: UserWarning: Segment hierarchy is inconsistent at level 1\n",
      "  warnings.warn(\n"
     ]
    },
    {
     "name": "stdout",
     "output_type": "stream",
     "text": [
      "Results for track 1162 saved to ./monocasting_results/1162.feather\n",
      "Running experiment for track 1174...\n"
     ]
    },
    {
     "name": "stderr",
     "output_type": "stream",
     "text": [
      "/Users/tomxi/miniforge3/envs/py311/lib/python3.11/site-packages/mir_eval/hierarchy.py:460: UserWarning: Segment hierarchy is inconsistent at level 1\n",
      "  warnings.warn(\n"
     ]
    },
    {
     "name": "stdout",
     "output_type": "stream",
     "text": [
      "Results for track 1172 saved to ./monocasting_results/1172.feather\n",
      "Running experiment for track 1175...\n",
      "Results for track 1151 saved to ./monocasting_results/1151.feather\n",
      "Results for track 1155 saved to ./monocasting_results/1155.feather\n",
      "Running experiment for track 1176...\n",
      "Running experiment for track 1179...\n",
      "Results for track 1164 saved to ./monocasting_results/1164.feather\n",
      "Running experiment for track 1180...\n",
      "Results for track 1168 saved to ./monocasting_results/1168.feather\n",
      "Running experiment for track 1181...\n",
      "Results for track 1174 saved to ./monocasting_results/1174.feather\n",
      "Running experiment for track 1182...\n",
      "Results for track 1180 saved to ./monocasting_results/1180.feather\n",
      "Running experiment for track 1183...\n",
      "Results for track 1181 saved to ./monocasting_results/1181.feather\n",
      "Running experiment for track 1184...\n",
      "Results for track 1170 saved to ./monocasting_results/1170.feather\n",
      "Running experiment for track 1186...\n",
      "Results for track 1182 saved to ./monocasting_results/1182.feather\n",
      "Running experiment for track 1187...\n",
      "Results for track 1173 saved to ./monocasting_results/1173.feather\n",
      "Running experiment for track 1188...\n",
      "Results for track 1183 saved to ./monocasting_results/1183.feather\n",
      "Running experiment for track 1189...\n",
      "Results for track 1186 saved to ./monocasting_results/1186.feather\n",
      "Running experiment for track 1190...\n",
      "Results for track 1187 saved to ./monocasting_results/1187.feather\n",
      "Running experiment for track 1191...\n",
      "Results for track 1191 saved to ./monocasting_results/1191.feather\n",
      "Running experiment for track 1192...\n",
      "Results for track 1188 saved to ./monocasting_results/1188.feather\n",
      "Running experiment for track 1194...\n",
      "Results for track 1189 saved to ./monocasting_results/1189.feather\n",
      "Running experiment for track 1195...\n",
      "Results for track 1176 saved to ./monocasting_results/1176.feather\n",
      "Running experiment for track 1196...\n",
      "Results for track 1192 saved to ./monocasting_results/1192.feather\n",
      "Running experiment for track 1197...\n",
      "Results for track 1184 saved to ./monocasting_results/1184.feather\n",
      "Running experiment for track 1198...\n"
     ]
    },
    {
     "name": "stderr",
     "output_type": "stream",
     "text": [
      "/Users/tomxi/miniforge3/envs/py311/lib/python3.11/site-packages/mir_eval/hierarchy.py:460: UserWarning: Segment hierarchy is inconsistent at level 1\n",
      "  warnings.warn(\n",
      "/Users/tomxi/miniforge3/envs/py311/lib/python3.11/site-packages/mir_eval/hierarchy.py:460: UserWarning: Segment hierarchy is inconsistent at level 1\n",
      "  warnings.warn(\n",
      "/Users/tomxi/miniforge3/envs/py311/lib/python3.11/site-packages/mir_eval/hierarchy.py:460: UserWarning: Segment hierarchy is inconsistent at level 1\n",
      "  warnings.warn(\n"
     ]
    },
    {
     "name": "stdout",
     "output_type": "stream",
     "text": [
      "Results for track 1195 saved to ./monocasting_results/1195.feather\n",
      "Running experiment for track 1199...\n",
      "Results for track 1196 saved to ./monocasting_results/1196.feather\n",
      "Running experiment for track 1200...\n",
      "Results for track 1190 saved to ./monocasting_results/1190.feather\n",
      "Running experiment for track 1202...\n",
      "Results for track 1199 saved to ./monocasting_results/1199.feather\n",
      "Running experiment for track 1203...\n"
     ]
    },
    {
     "name": "stderr",
     "output_type": "stream",
     "text": [
      "/Users/tomxi/miniforge3/envs/py311/lib/python3.11/site-packages/mir_eval/hierarchy.py:460: UserWarning: Segment hierarchy is inconsistent at level 1\n",
      "  warnings.warn(\n"
     ]
    },
    {
     "name": "stdout",
     "output_type": "stream",
     "text": [
      "Results for track 1179 saved to ./monocasting_results/1179.feather\n",
      "Running experiment for track 1204...\n",
      "Results for track 1194 saved to ./monocasting_results/1194.feather\n",
      "Running experiment for track 1206...\n",
      "Results for track 1200 saved to ./monocasting_results/1200.feather\n",
      "Running experiment for track 1207...\n",
      "Results for track 1175 saved to ./monocasting_results/1175.feather\n",
      "Running experiment for track 1208...\n",
      "Results for track 1202 saved to ./monocasting_results/1202.feather\n",
      "Running experiment for track 1210...\n"
     ]
    },
    {
     "name": "stderr",
     "output_type": "stream",
     "text": [
      "/Users/tomxi/miniforge3/envs/py311/lib/python3.11/site-packages/mir_eval/hierarchy.py:460: UserWarning: Segment hierarchy is inconsistent at level 1\n",
      "  warnings.warn(\n"
     ]
    },
    {
     "name": "stdout",
     "output_type": "stream",
     "text": [
      "Results for track 1210 saved to ./monocasting_results/1210.feather\n",
      "Running experiment for track 1211...\n",
      "Results for track 1206 saved to ./monocasting_results/1206.feather\n",
      "Running experiment for track 1212...\n",
      "Results for track 1197 saved to ./monocasting_results/1197.feather\n",
      "Running experiment for track 1213...\n",
      "Results for track 1207 saved to ./monocasting_results/1207.feather\n",
      "Running experiment for track 1214...\n",
      "Results for track 1211 saved to ./monocasting_results/1211.feather\n",
      "Running experiment for track 1215...\n"
     ]
    },
    {
     "name": "stderr",
     "output_type": "stream",
     "text": [
      "/Users/tomxi/miniforge3/envs/py311/lib/python3.11/site-packages/mir_eval/hierarchy.py:460: UserWarning: Segment hierarchy is inconsistent at level 1\n",
      "  warnings.warn(\n",
      "/Users/tomxi/miniforge3/envs/py311/lib/python3.11/site-packages/mir_eval/hierarchy.py:460: UserWarning: Segment hierarchy is inconsistent at level 1\n",
      "  warnings.warn(\n"
     ]
    },
    {
     "name": "stdout",
     "output_type": "stream",
     "text": [
      "Results for track 1208 saved to ./monocasting_results/1208.feather\n",
      "Running experiment for track 1216...\n",
      "Results for track 1216 saved to ./monocasting_results/1216.feather\n",
      "Running experiment for track 1218...\n",
      "Results for track 1214 saved to ./monocasting_results/1214.feather\n",
      "Running experiment for track 1219...\n",
      "Results for track 1213 saved to ./monocasting_results/1213.feather\n",
      "Running experiment for track 1220...\n"
     ]
    },
    {
     "name": "stderr",
     "output_type": "stream",
     "text": [
      "/Users/tomxi/miniforge3/envs/py311/lib/python3.11/site-packages/mir_eval/hierarchy.py:460: UserWarning: Segment hierarchy is inconsistent at level 1\n",
      "  warnings.warn(\n"
     ]
    },
    {
     "name": "stdout",
     "output_type": "stream",
     "text": [
      "Results for track 1203 saved to ./monocasting_results/1203.feather\n",
      "Running experiment for track 1221...\n",
      "Results for track 1220 saved to ./monocasting_results/1220.feather\n",
      "Running experiment for track 1222...\n",
      "Results for track 1215 saved to ./monocasting_results/1215.feather\n",
      "Running experiment for track 1223...\n"
     ]
    },
    {
     "name": "stderr",
     "output_type": "stream",
     "text": [
      "/Users/tomxi/miniforge3/envs/py311/lib/python3.11/site-packages/mir_eval/hierarchy.py:460: UserWarning: Segment hierarchy is inconsistent at level 1\n",
      "  warnings.warn(\n"
     ]
    },
    {
     "name": "stdout",
     "output_type": "stream",
     "text": [
      "Results for track 1219 saved to ./monocasting_results/1219.feather\n",
      "Running experiment for track 1224...\n",
      "Results for track 1198 saved to ./monocasting_results/1198.feather\n",
      "Running experiment for track 1226...\n",
      "Results for track 1218 saved to ./monocasting_results/1218.feather\n",
      "Running experiment for track 1228...\n",
      "Results for track 1226 saved to ./monocasting_results/1226.feather\n",
      "Running experiment for track 1229...\n",
      "Results for track 1223 saved to ./monocasting_results/1223.feather\n",
      "Running experiment for track 1230...\n",
      "Results for track 1221 saved to ./monocasting_results/1221.feather\n",
      "Running experiment for track 1231...\n",
      "Results for track 1222 saved to ./monocasting_results/1222.feather\n",
      "Running experiment for track 1232...\n",
      "Results for track 1224 saved to ./monocasting_results/1224.feather\n",
      "Running experiment for track 1234...\n",
      "Results for track 1228 saved to ./monocasting_results/1228.feather\n",
      "Running experiment for track 1235...\n",
      "Results for track 1229 saved to ./monocasting_results/1229.feather\n",
      "Running experiment for track 1236...\n",
      "Results for track 1234 saved to ./monocasting_results/1234.feather\n",
      "Running experiment for track 1237...\n",
      "Results for track 1235 saved to ./monocasting_results/1235.feather\n",
      "Running experiment for track 1238...\n",
      "Results for track 1237 saved to ./monocasting_results/1237.feather\n",
      "Running experiment for track 1239...\n",
      "Results for track 1238 saved to ./monocasting_results/1238.feather\n",
      "Running experiment for track 1240...\n",
      "Results for track 1230 saved to ./monocasting_results/1230.feather\n",
      "Running experiment for track 1242...\n",
      "Results for track 1236 saved to ./monocasting_results/1236.feather\n",
      "Running experiment for track 1243...\n",
      "Results for track 1240 saved to ./monocasting_results/1240.feather\n",
      "Running experiment for track 1244...\n",
      "Results for track 1212 saved to ./monocasting_results/1212.feather\n",
      "Running experiment for track 1246...\n",
      "Results for track 1231 saved to ./monocasting_results/1231.feather\n",
      "Running experiment for track 1247...\n",
      "Results for track 1204 saved to ./monocasting_results/1204.feather\n",
      "Running experiment for track 1248...\n",
      "Results for track 1239 saved to ./monocasting_results/1239.feather\n",
      "Running experiment for track 1250...\n",
      "Results for track 1242 saved to ./monocasting_results/1242.feather\n",
      "Running experiment for track 1251...\n",
      "Results for track 1244 saved to ./monocasting_results/1244.feather\n",
      "Running experiment for track 1252...\n",
      "Results for track 1250 saved to ./monocasting_results/1250.feather\n",
      "Running experiment for track 1253...\n",
      "Results for track 1232 saved to ./monocasting_results/1232.feather\n",
      "Running experiment for track 1254...\n",
      "Results for track 1248 saved to ./monocasting_results/1248.feather\n",
      "Running experiment for track 1255...\n",
      "Results for track 1247 saved to ./monocasting_results/1247.feather\n",
      "Running experiment for track 1256...\n",
      "Results for track 1256 saved to ./monocasting_results/1256.feather\n",
      "Running experiment for track 1258...\n",
      "Results for track 1252 saved to ./monocasting_results/1252.feather\n",
      "Running experiment for track 1259...\n",
      "Results for track 1251 saved to ./monocasting_results/1251.feather\n",
      "Running experiment for track 1260...\n",
      "Results for track 1246 saved to ./monocasting_results/1246.feather\n",
      "Running experiment for track 1261...\n",
      "Results for track 1253 saved to ./monocasting_results/1253.feather\n",
      "Running experiment for track 1262...\n",
      "Results for track 1243 saved to ./monocasting_results/1243.feather\n",
      "Running experiment for track 1263...\n",
      "Results for track 1255 saved to ./monocasting_results/1255.feather\n",
      "Running experiment for track 1264...\n",
      "Results for track 1261 saved to ./monocasting_results/1261.feather\n",
      "Running experiment for track 1266...\n",
      "Results for track 1258 saved to ./monocasting_results/1258.feather\n",
      "Running experiment for track 1268...\n",
      "Results for track 1259 saved to ./monocasting_results/1259.feather\n",
      "Running experiment for track 1269...\n",
      "Results for track 1262 saved to ./monocasting_results/1262.feather\n",
      "Running experiment for track 1270...\n",
      "Results for track 1268 saved to ./monocasting_results/1268.feather\n",
      "Running experiment for track 1271...\n",
      "Results for track 1270 saved to ./monocasting_results/1270.feather\n",
      "Running experiment for track 1272...\n",
      "Results for track 1263 saved to ./monocasting_results/1263.feather\n",
      "Running experiment for track 1274...\n",
      "Results for track 1266 saved to ./monocasting_results/1266.feather\n",
      "Running experiment for track 1275...\n",
      "Results for track 1271 saved to ./monocasting_results/1271.feather\n",
      "Running experiment for track 1276...\n",
      "Results for track 1260 saved to ./monocasting_results/1260.feather\n",
      "Running experiment for track 1277...\n",
      "Results for track 1272 saved to ./monocasting_results/1272.feather\n",
      "Running experiment for track 1278...\n",
      "Results for track 1275 saved to ./monocasting_results/1275.feather\n",
      "Running experiment for track 1279...\n",
      "Results for track 1254 saved to ./monocasting_results/1254.feather\n",
      "Running experiment for track 1280...\n",
      "Results for track 1274 saved to ./monocasting_results/1274.feather\n",
      "Running experiment for track 1282...\n",
      "Results for track 1264 saved to ./monocasting_results/1264.feather\n",
      "Running experiment for track 1283...\n",
      "Results for track 1269 saved to ./monocasting_results/1269.feather\n",
      "Running experiment for track 1284...\n",
      "Results for track 1278 saved to ./monocasting_results/1278.feather\n",
      "Running experiment for track 1285...\n",
      "Results for track 1279 saved to ./monocasting_results/1279.feather\n",
      "Running experiment for track 1286...\n",
      "Results for track 1283 saved to ./monocasting_results/1283.feather\n",
      "Running experiment for track 1287...\n",
      "Results for track 1282 saved to ./monocasting_results/1282.feather\n",
      "Running experiment for track 1288...\n",
      "Results for track 1280 saved to ./monocasting_results/1280.feather\n",
      "Running experiment for track 1290...\n",
      "Results for track 1284 saved to ./monocasting_results/1284.feather\n",
      "Running experiment for track 1291...\n",
      "Results for track 1291 saved to ./monocasting_results/1291.feather\n",
      "Running experiment for track 1292...\n",
      "Results for track 1285 saved to ./monocasting_results/1285.feather\n",
      "Running experiment for track 1293...\n",
      "Results for track 1276 saved to ./monocasting_results/1276.feather\n",
      "Running experiment for track 1294...\n",
      "Results for track 1277 saved to ./monocasting_results/1277.feather\n",
      "Running experiment for track 1295...\n",
      "Results for track 1295 saved to ./monocasting_results/1295.feather\n",
      "Running experiment for track 1296...\n",
      "Results for track 1288 saved to ./monocasting_results/1288.feather\n",
      "Running experiment for track 1298...\n",
      "Results for track 1293 saved to ./monocasting_results/1293.feather\n",
      "Running experiment for track 1299...\n",
      "Results for track 1290 saved to ./monocasting_results/1290.feather\n",
      "Running experiment for track 1300...\n",
      "Results for track 1294 saved to ./monocasting_results/1294.feather\n",
      "Running experiment for track 1301...\n",
      "Results for track 1296 saved to ./monocasting_results/1296.feather\n",
      "Running experiment for track 1302...\n",
      "Results for track 1298 saved to ./monocasting_results/1298.feather\n",
      "Running experiment for track 1303...\n",
      "Results for track 1301 saved to ./monocasting_results/1301.feather\n",
      "Running experiment for track 1304...\n",
      "Results for track 1302 saved to ./monocasting_results/1302.feather\n",
      "Running experiment for track 1306...\n",
      "Results for track 1299 saved to ./monocasting_results/1299.feather\n",
      "Running experiment for track 1307...\n",
      "Results for track 1303 saved to ./monocasting_results/1303.feather\n",
      "Running experiment for track 1308...\n",
      "Results for track 1304 saved to ./monocasting_results/1304.feather\n",
      "Running experiment for track 1309...\n",
      "Results for track 1286 saved to ./monocasting_results/1286.feather\n",
      "Running experiment for track 1310...\n",
      "Results for track 1306 saved to ./monocasting_results/1306.feather\n",
      "Running experiment for track 1311...\n",
      "Results for track 1308 saved to ./monocasting_results/1308.feather\n",
      "Running experiment for track 1312...\n",
      "Results for track 1292 saved to ./monocasting_results/1292.feather\n",
      "Running experiment for track 1314...\n",
      "Results for track 1287 saved to ./monocasting_results/1287.feather\n",
      "Running experiment for track 1315...\n",
      "Results for track 1314 saved to ./monocasting_results/1314.feather\n",
      "Running experiment for track 1316...\n",
      "Results for track 1307 saved to ./monocasting_results/1307.feather\n",
      "Running experiment for track 1317...\n",
      "Results for track 1315 saved to ./monocasting_results/1315.feather\n",
      "Running experiment for track 1318...\n",
      "Results for track 1316 saved to ./monocasting_results/1316.feather\n",
      "Running experiment for track 1319...\n",
      "Results for track 1310 saved to ./monocasting_results/1310.feather\n",
      "Running experiment for track 1322...\n",
      "Results for track 1300 saved to ./monocasting_results/1300.feather\n",
      "Running experiment for track 1323...\n",
      "Results for track 1318 saved to ./monocasting_results/1318.feather\n",
      "Running experiment for track 1324...\n",
      "Results for track 1311 saved to ./monocasting_results/1311.feather\n",
      "Running experiment for track 1325...\n",
      "Results for track 1323 saved to ./monocasting_results/1323.feather\n",
      "Running experiment for track 1326...\n",
      "Results for track 1319 saved to ./monocasting_results/1319.feather\n",
      "Running experiment for track 1327...\n",
      "Results for track 1324 saved to ./monocasting_results/1324.feather\n",
      "Running experiment for track 1328...\n",
      "Results for track 1326 saved to ./monocasting_results/1326.feather\n",
      "Running experiment for track 1330...\n",
      "Results for track 1317 saved to ./monocasting_results/1317.feather\n",
      "Running experiment for track 1331...\n",
      "Results for track 1312 saved to ./monocasting_results/1312.feather\n",
      "Running experiment for track 1332...\n",
      "Results for track 1330 saved to ./monocasting_results/1330.feather\n",
      "Running experiment for track 1333...\n",
      "Results for track 1328 saved to ./monocasting_results/1328.feather\n",
      "Running experiment for track 1334...\n",
      "Results for track 1325 saved to ./monocasting_results/1325.feather\n",
      "Running experiment for track 1335...\n",
      "Results for track 1322 saved to ./monocasting_results/1322.feather\n",
      "Running experiment for track 1336...\n",
      "Results for track 1327 saved to ./monocasting_results/1327.feather\n",
      "Running experiment for track 1338...\n",
      "Results for track 1332 saved to ./monocasting_results/1332.feather\n",
      "Running experiment for track 1339...\n",
      "Results for track 1335 saved to ./monocasting_results/1335.feather\n",
      "Running experiment for track 1340...\n",
      "Results for track 1334 saved to ./monocasting_results/1334.feather\n",
      "Running experiment for track 1341...\n",
      "Results for track 1338 saved to ./monocasting_results/1338.feather\n",
      "Running experiment for track 1342...\n",
      "Results for track 1339 saved to ./monocasting_results/1339.feather\n",
      "Running experiment for track 1343...\n",
      "Results for track 1331 saved to ./monocasting_results/1331.feather\n",
      "Running experiment for track 1344...\n",
      "Results for track 1340 saved to ./monocasting_results/1340.feather\n",
      "Running experiment for track 1346...\n",
      "Results for track 1333 saved to ./monocasting_results/1333.feather\n",
      "Running experiment for track 1347...\n",
      "Results for track 1342 saved to ./monocasting_results/1342.feather\n",
      "Running experiment for track 1348...\n",
      "Results for track 1347 saved to ./monocasting_results/1347.feather\n",
      "Running experiment for track 1349...\n",
      "Results for track 1344 saved to ./monocasting_results/1344.feather\n",
      "Running experiment for track 1350...\n",
      "Results for track 1348 saved to ./monocasting_results/1348.feather\n",
      "Running experiment for track 1351...\n",
      "Results for track 1309 saved to ./monocasting_results/1309.feather\n",
      "Running experiment for track 1352...\n",
      "Results for track 1336 saved to ./monocasting_results/1336.feather\n",
      "Running experiment for track 1354...\n",
      "Results for track 1350 saved to ./monocasting_results/1350.feather\n",
      "Running experiment for track 1355...\n",
      "Results for track 1349 saved to ./monocasting_results/1349.feather\n",
      "Running experiment for track 1356...\n",
      "Results for track 1343 saved to ./monocasting_results/1343.feather\n",
      "Running experiment for track 1358...\n",
      "Results for track 1358 saved to ./monocasting_results/1358.feather\n",
      "Running experiment for track 1359...\n",
      "Results for track 1352 saved to ./monocasting_results/1352.feather\n",
      "Running experiment for track 1360...\n",
      "Results for track 1356 saved to ./monocasting_results/1356.feather\n",
      "Running experiment for track 1362...\n",
      "Results for track 1351 saved to ./monocasting_results/1351.feather\n",
      "Running experiment for track 1363...\n",
      "Results for track 1359 saved to ./monocasting_results/1359.feather\n",
      "Running experiment for track 1364...\n",
      "Results for track 1341 saved to ./monocasting_results/1341.feather\n",
      "Running experiment for track 1365...\n",
      "Results for track 1355 saved to ./monocasting_results/1355.feather\n",
      "Running experiment for track 1366...\n",
      "Results for track 1354 saved to ./monocasting_results/1354.feather\n",
      "Running experiment for track 1367...\n",
      "Results for track 1362 saved to ./monocasting_results/1362.feather\n",
      "Running experiment for track 1368...\n",
      "Results for track 1365 saved to ./monocasting_results/1365.feather\n",
      "Running experiment for track 1370...\n",
      "Results for track 1363 saved to ./monocasting_results/1363.feather\n",
      "Running experiment for track 1371...\n",
      "Results for track 1360 saved to ./monocasting_results/1360.feather\n",
      "Running experiment for track 1372...\n",
      "Results for track 1370 saved to ./monocasting_results/1370.feather\n",
      "Running experiment for track 1373...\n",
      "Results for track 1346 saved to ./monocasting_results/1346.feather\n",
      "Running experiment for track 1374...\n",
      "Results for track 1371 saved to ./monocasting_results/1371.feather\n",
      "Running experiment for track 1375...\n",
      "Results for track 1367 saved to ./monocasting_results/1367.feather\n",
      "Running experiment for track 1376...\n",
      "Results for track 1374 saved to ./monocasting_results/1374.feather\n",
      "Running experiment for track 1378...\n",
      "Results for track 1376 saved to ./monocasting_results/1376.feather\n",
      "Running experiment for track 1379...\n",
      "Results for track 1364 saved to ./monocasting_results/1364.feather\n",
      "Running experiment for track 1380...\n",
      "Results for track 1368 saved to ./monocasting_results/1368.feather\n",
      "Running experiment for track 1381...\n",
      "Results for track 1372 saved to ./monocasting_results/1372.feather\n",
      "Running experiment for track 1382...\n",
      "Results for track 1380 saved to ./monocasting_results/1380.feather\n",
      "Running experiment for track 1383...\n",
      "Results for track 1373 saved to ./monocasting_results/1373.feather\n",
      "Running experiment for track 1384...\n",
      "Results for track 1382 saved to ./monocasting_results/1382.feather\n",
      "Running experiment for track 1386...\n",
      "Results for track 1375 saved to ./monocasting_results/1375.feather\n",
      "Running experiment for track 1387...\n",
      "Results for track 1378 saved to ./monocasting_results/1378.feather\n",
      "Running experiment for track 1388...\n",
      "Results for track 1384 saved to ./monocasting_results/1384.feather\n",
      "Running experiment for track 1389...\n",
      "Results for track 1379 saved to ./monocasting_results/1379.feather\n",
      "Running experiment for track 1390...\n",
      "Results for track 1389 saved to ./monocasting_results/1389.feather\n",
      "Running experiment for track 1391...\n",
      "Results for track 1366 saved to ./monocasting_results/1366.feather\n",
      "Running experiment for track 1392...\n",
      "Results for track 1387 saved to ./monocasting_results/1387.feather\n",
      "Running experiment for track 1394...\n",
      "Results for track 1390 saved to ./monocasting_results/1390.feather\n",
      "Running experiment for track 1395...\n",
      "Results for track 1391 saved to ./monocasting_results/1391.feather\n",
      "Running experiment for track 1396...\n",
      "Results for track 1383 saved to ./monocasting_results/1383.feather\n",
      "Running experiment for track 1397...\n",
      "Results for track 1386 saved to ./monocasting_results/1386.feather\n",
      "Running experiment for track 1399...\n",
      "Results for track 1381 saved to ./monocasting_results/1381.feather\n",
      "Running experiment for track 1400...\n",
      "Results for track 1399 saved to ./monocasting_results/1399.feather\n",
      "Running experiment for track 1402...\n",
      "Results for track 1394 saved to ./monocasting_results/1394.feather\n",
      "Running experiment for track 1403...\n",
      "Results for track 1395 saved to ./monocasting_results/1395.feather\n",
      "Running experiment for track 1404...\n",
      "Results for track 1392 saved to ./monocasting_results/1392.feather\n",
      "Running experiment for track 1405...\n",
      "Results for track 1396 saved to ./monocasting_results/1396.feather\n",
      "Running experiment for track 1406...\n",
      "Results for track 1405 saved to ./monocasting_results/1405.feather\n",
      "Running experiment for track 1407...\n",
      "Results for track 1406 saved to ./monocasting_results/1406.feather\n",
      "Running experiment for track 1408...\n",
      "Results for track 1403 saved to ./monocasting_results/1403.feather\n",
      "Running experiment for track 1412...\n",
      "Results for track 1400 saved to ./monocasting_results/1400.feather\n",
      "Running experiment for track 1413...\n",
      "Results for track 1404 saved to ./monocasting_results/1404.feather\n",
      "Running experiment for track 1414...\n",
      "Results for track 1397 saved to ./monocasting_results/1397.feather\n",
      "Running experiment for track 1415...\n",
      "Results for track 1408 saved to ./monocasting_results/1408.feather\n",
      "Running experiment for track 1416...\n",
      "Results for track 1412 saved to ./monocasting_results/1412.feather\n",
      "Running experiment for track 1418...\n",
      "Results for track 1414 saved to ./monocasting_results/1414.feather\n",
      "Running experiment for track 1419...\n",
      "Results for track 1388 saved to ./monocasting_results/1388.feather\n",
      "Running experiment for track 1420...\n",
      "Results for track 1415 saved to ./monocasting_results/1415.feather\n",
      "Running experiment for track 1421...\n",
      "Results for track 1419 saved to ./monocasting_results/1419.feather\n",
      "Running experiment for track 1422...\n",
      "Results for track 1407 saved to ./monocasting_results/1407.feather\n",
      "Running experiment for track 1423...\n",
      "Results for track 1420 saved to ./monocasting_results/1420.feather\n",
      "Running experiment for track 1424...\n",
      "Results for track 1418 saved to ./monocasting_results/1418.feather\n",
      "Running experiment for track 1427...\n",
      "Results for track 1422 saved to ./monocasting_results/1422.feather\n",
      "Running experiment for track 1428...\n",
      "Results for track 1416 saved to ./monocasting_results/1416.feather\n",
      "Running experiment for track 1429...\n",
      "Results for track 1424 saved to ./monocasting_results/1424.feather\n",
      "Running experiment for track 1431...\n",
      "Results for track 1413 saved to ./monocasting_results/1413.feather\n",
      "Running experiment for track 1432...\n",
      "Results for track 1429 saved to ./monocasting_results/1429.feather\n",
      "Running experiment for track 1434...\n",
      "Results for track 1434 saved to ./monocasting_results/1434.feather\n",
      "Running experiment for track 1435...\n",
      "Results for track 1431 saved to ./monocasting_results/1431.feather\n",
      "Running experiment for track 1436...\n",
      "Results for track 1427 saved to ./monocasting_results/1427.feather\n",
      "Running experiment for track 1437...\n",
      "Results for track 1423 saved to ./monocasting_results/1423.feather\n",
      "Running experiment for track 1438...\n",
      "Results for track 1435 saved to ./monocasting_results/1435.feather\n",
      "Running experiment for track 1439...\n",
      "Results for track 1437 saved to ./monocasting_results/1437.feather\n",
      "Running experiment for track 1442...\n",
      "Results for track 1428 saved to ./monocasting_results/1428.feather\n",
      "Running experiment for track 1443...\n",
      "Results for track 1432 saved to ./monocasting_results/1432.feather\n",
      "Running experiment for track 1444...\n",
      "Results for track 1444 saved to ./monocasting_results/1444.feather\n",
      "Running experiment for track 1445...\n",
      "Results for track 1443 saved to ./monocasting_results/1443.feather\n",
      "Running experiment for track 1446...\n",
      "Results for track 1439 saved to ./monocasting_results/1439.feather\n",
      "Running experiment for track 1447...\n",
      "Results for track 1445 saved to ./monocasting_results/1445.feather\n",
      "Running experiment for track 1448...\n",
      "Results for track 1446 saved to ./monocasting_results/1446.feather\n",
      "Running experiment for track 1450...\n",
      "Results for track 1442 saved to ./monocasting_results/1442.feather\n",
      "Running experiment for track 1451...\n",
      "Results for track 1402 saved to ./monocasting_results/1402.feather\n",
      "Running experiment for track 1452...\n",
      "Results for track 1448 saved to ./monocasting_results/1448.feather\n",
      "Running experiment for track 1453...\n",
      "Results for track 1451 saved to ./monocasting_results/1451.feather\n",
      "Running experiment for track 1454...\n",
      "Results for track 1438 saved to ./monocasting_results/1438.feather\n",
      "Running experiment for track 1455...\n",
      "Results for track 1454 saved to ./monocasting_results/1454.feather\n",
      "Running experiment for track 1456...\n",
      "Results for track 1452 saved to ./monocasting_results/1452.feather\n",
      "Running experiment for track 1458...\n",
      "Results for track 1421 saved to ./monocasting_results/1421.feather\n",
      "Running experiment for track 1459...\n",
      "Results for track 1450 saved to ./monocasting_results/1450.feather\n",
      "Running experiment for track 1460...\n",
      "Results for track 1456 saved to ./monocasting_results/1456.feather\n",
      "Running experiment for track 1461...\n",
      "Results for track 1459 saved to ./monocasting_results/1459.feather\n",
      "Running experiment for track 1462...\n",
      "Results for track 1447 saved to ./monocasting_results/1447.feather\n",
      "Running experiment for track 1464...\n",
      "Results for track 1458 saved to ./monocasting_results/1458.feather\n",
      "Running experiment for track 1467...\n",
      "Results for track 1460 saved to ./monocasting_results/1460.feather\n",
      "Running experiment for track 1468...\n",
      "Results for track 1464 saved to ./monocasting_results/1464.feather\n",
      "Running experiment for track 1469...\n",
      "Results for track 1469 saved to ./monocasting_results/1469.feather\n",
      "Running experiment for track 1470...\n",
      "Results for track 1461 saved to ./monocasting_results/1461.feather\n",
      "Running experiment for track 1471...\n",
      "Results for track 1468 saved to ./monocasting_results/1468.feather\n",
      "Running experiment for track 1472...\n",
      "Results for track 1467 saved to ./monocasting_results/1467.feather\n",
      "Running experiment for track 1474...\n",
      "Results for track 1474 saved to ./monocasting_results/1474.feather\n",
      "Running experiment for track 1475...\n",
      "Results for track 1453 saved to ./monocasting_results/1453.feather\n",
      "Running experiment for track 1476...\n",
      "Results for track 1470 saved to ./monocasting_results/1470.feather\n",
      "Running experiment for track 1477...\n",
      "Results for track 1472 saved to ./monocasting_results/1472.feather\n",
      "Running experiment for track 1478...\n",
      "Results for track 1471 saved to ./monocasting_results/1471.feather\n",
      "Running experiment for track 1479...\n",
      "Results for track 1455 saved to ./monocasting_results/1455.feather\n",
      "Running experiment for track 1480...\n",
      "Results for track 1477 saved to ./monocasting_results/1477.feather\n",
      "Running experiment for track 1482...\n",
      "Results for track 1462 saved to ./monocasting_results/1462.feather\n",
      "Running experiment for track 1483...\n",
      "Results for track 1436 saved to ./monocasting_results/1436.feather\n",
      "Running experiment for track 1484...\n",
      "Results for track 1476 saved to ./monocasting_results/1476.feather\n",
      "Running experiment for track 1485...\n",
      "Results for track 1480 saved to ./monocasting_results/1480.feather\n",
      "Running experiment for track 1487...\n",
      "Results for track 1478 saved to ./monocasting_results/1478.feather\n",
      "Running experiment for track 1488...\n",
      "Results for track 1485 saved to ./monocasting_results/1485.feather\n",
      "Running experiment for track 1490...\n",
      "Results for track 1488 saved to ./monocasting_results/1488.feather\n",
      "Running experiment for track 1491...\n",
      "Results for track 1475 saved to ./monocasting_results/1475.feather\n",
      "Running experiment for track 1492...\n",
      "Results for track 1479 saved to ./monocasting_results/1479.feather\n",
      "Running experiment for track 1494...\n",
      "Results for track 1491 saved to ./monocasting_results/1491.feather\n",
      "Running experiment for track 1495...\n",
      "Results for track 1490 saved to ./monocasting_results/1490.feather\n",
      "Running experiment for track 1496...\n",
      "Results for track 1484 saved to ./monocasting_results/1484.feather\n",
      "Running experiment for track 1498...\n",
      "Results for track 1483 saved to ./monocasting_results/1483.feather\n",
      "Running experiment for track 1499...\n",
      "Results for track 1498 saved to ./monocasting_results/1498.feather\n",
      "Running experiment for track 1501...\n",
      "Results for track 1487 saved to ./monocasting_results/1487.feather\n",
      "Running experiment for track 1502...\n",
      "Results for track 1496 saved to ./monocasting_results/1496.feather\n",
      "Running experiment for track 1503...\n",
      "Results for track 1495 saved to ./monocasting_results/1495.feather\n",
      "Running experiment for track 1504...\n",
      "Results for track 1492 saved to ./monocasting_results/1492.feather\n",
      "Running experiment for track 1506...\n",
      "Results for track 1494 saved to ./monocasting_results/1494.feather\n",
      "Running experiment for track 1507...\n",
      "Results for track 1482 saved to ./monocasting_results/1482.feather\n",
      "Running experiment for track 1508...\n",
      "Results for track 1504 saved to ./monocasting_results/1504.feather\n",
      "Running experiment for track 1509...\n",
      "Results for track 1508 saved to ./monocasting_results/1508.feather\n",
      "Running experiment for track 1510...\n",
      "Results for track 1499 saved to ./monocasting_results/1499.feather\n",
      "Running experiment for track 1511...\n",
      "Results for track 1506 saved to ./monocasting_results/1506.feather\n",
      "Running experiment for track 1512...\n",
      "Results for track 1510 saved to ./monocasting_results/1510.feather\n",
      "Running experiment for track 1514...\n",
      "Results for track 1512 saved to ./monocasting_results/1512.feather\n",
      "Running experiment for track 1515...\n",
      "Results for track 1509 saved to ./monocasting_results/1509.feather\n",
      "Running experiment for track 1516...\n",
      "Results for track 1507 saved to ./monocasting_results/1507.feather\n",
      "Running experiment for track 1517...\n",
      "Results for track 1517 saved to ./monocasting_results/1517.feather\n",
      "Running experiment for track 1518...\n",
      "Results for track 1502 saved to ./monocasting_results/1502.feather\n",
      "Running experiment for track 1519...\n",
      "Results for track 1515 saved to ./monocasting_results/1515.feather\n",
      "Running experiment for track 1520...\n",
      "Results for track 1514 saved to ./monocasting_results/1514.feather\n",
      "Running experiment for track 1522...\n",
      "Results for track 1516 saved to ./monocasting_results/1516.feather\n",
      "Running experiment for track 1523...\n",
      "Results for track 1522 saved to ./monocasting_results/1522.feather\n",
      "Running experiment for track 1524...\n",
      "Results for track 1520 saved to ./monocasting_results/1520.feather\n",
      "Running experiment for track 1525...\n",
      "Results for track 1523 saved to ./monocasting_results/1523.feather\n",
      "Running experiment for track 1526...\n",
      "Results for track 1524 saved to ./monocasting_results/1524.feather\n",
      "Running experiment for track 1527...\n",
      "Results for track 1503 saved to ./monocasting_results/1503.feather\n",
      "Running experiment for track 1528...\n",
      "Results for track 1527 saved to ./monocasting_results/1527.feather\n",
      "Running experiment for track 1530...\n",
      "Results for track 1519 saved to ./monocasting_results/1519.feather\n",
      "Running experiment for track 1531...\n",
      "Results for track 1525 saved to ./monocasting_results/1525.feather\n",
      "Running experiment for track 1532...\n",
      "Results for track 1526 saved to ./monocasting_results/1526.feather\n",
      "Running experiment for track 1533...\n",
      "Results for track 1501 saved to ./monocasting_results/1501.feather\n",
      "Running experiment for track 1534...\n",
      "Results for track 1532 saved to ./monocasting_results/1532.feather\n",
      "Running experiment for track 1535...\n",
      "Results for track 1530 saved to ./monocasting_results/1530.feather\n",
      "Running experiment for track 1536...\n",
      "Results for track 1518 saved to ./monocasting_results/1518.feather\n",
      "Running experiment for track 1538...\n",
      "Results for track 1531 saved to ./monocasting_results/1531.feather\n",
      "Running experiment for track 1539...\n",
      "Results for track 1536 saved to ./monocasting_results/1536.feather\n",
      "Running experiment for track 1540...\n",
      "Results for track 1533 saved to ./monocasting_results/1533.feather\n",
      "Running experiment for track 1541...\n",
      "Results for track 1535 saved to ./monocasting_results/1535.feather\n",
      "Running experiment for track 1542...\n",
      "Results for track 1538 saved to ./monocasting_results/1538.feather\n",
      "Running experiment for track 1543...\n",
      "Results for track 1511 saved to ./monocasting_results/1511.feather\n",
      "Running experiment for track 1544...\n",
      "Results for track 1539 saved to ./monocasting_results/1539.feather\n",
      "Running experiment for track 1546...\n",
      "Results for track 1528 saved to ./monocasting_results/1528.feather\n",
      "Running experiment for track 1547...\n",
      "Results for track 1534 saved to ./monocasting_results/1534.feather\n",
      "Results for track 1546 saved to ./monocasting_results/1546.feather\n",
      "Running experiment for track 1548...\n",
      "Running experiment for track 1549...\n",
      "Results for track 1543 saved to ./monocasting_results/1543.feather\n",
      "Running experiment for track 1550...\n",
      "Results for track 1542 saved to ./monocasting_results/1542.feather\n",
      "Running experiment for track 1551...\n",
      "Results for track 1541 saved to ./monocasting_results/1541.feather\n",
      "Running experiment for track 1552...\n",
      "Results for track 1544 saved to ./monocasting_results/1544.feather\n",
      "Running experiment for track 1554...\n",
      "Results for track 1548 saved to ./monocasting_results/1548.feather\n",
      "Running experiment for track 1555...\n",
      "Results for track 1540 saved to ./monocasting_results/1540.feather\n",
      "Running experiment for track 1556...\n",
      "Results for track 1547 saved to ./monocasting_results/1547.feather\n",
      "Running experiment for track 1557...\n",
      "Results for track 1550 saved to ./monocasting_results/1550.feather\n",
      "Running experiment for track 1558...\n",
      "Results for track 1551 saved to ./monocasting_results/1551.feather\n",
      "Running experiment for track 1559...\n",
      "Results for track 1549 saved to ./monocasting_results/1549.feather\n",
      "Running experiment for track 1560...\n",
      "Results for track 1554 saved to ./monocasting_results/1554.feather\n",
      "Running experiment for track 1562...\n",
      "Results for track 1556 saved to ./monocasting_results/1556.feather\n",
      "Running experiment for track 1563...\n",
      "Results for track 1552 saved to ./monocasting_results/1552.feather\n",
      "Running experiment for track 1564...\n",
      "Results for track 1555 saved to ./monocasting_results/1555.feather\n",
      "Running experiment for track 1565...\n",
      "Results for track 1560 saved to ./monocasting_results/1560.feather\n",
      "Running experiment for track 1566...\n",
      "Results for track 1557 saved to ./monocasting_results/1557.feather\n",
      "Running experiment for track 1567...\n",
      "Results for track 1559 saved to ./monocasting_results/1559.feather\n",
      "Running experiment for track 1568...\n",
      "Results for track 1558 saved to ./monocasting_results/1558.feather\n",
      "Running experiment for track 1570...\n",
      "Results for track 1563 saved to ./monocasting_results/1563.feather\n",
      "Running experiment for track 1571...\n",
      "Results for track 1567 saved to ./monocasting_results/1567.feather\n",
      "Running experiment for track 1572...\n",
      "Results for track 1571 saved to ./monocasting_results/1571.feather\n",
      "Running experiment for track 1573...\n",
      "Results for track 1565 saved to ./monocasting_results/1565.feather\n",
      "Running experiment for track 1574...\n",
      "Results for track 1562 saved to ./monocasting_results/1562.feather\n",
      "Running experiment for track 1575...\n",
      "Results for track 1564 saved to ./monocasting_results/1564.feather\n",
      "Running experiment for track 1576...\n",
      "Results for track 1570 saved to ./monocasting_results/1570.feather\n",
      "Running experiment for track 1578...\n",
      "Results for track 1572 saved to ./monocasting_results/1572.feather\n",
      "Running experiment for track 1579...\n",
      "Results for track 1573 saved to ./monocasting_results/1573.feather\n",
      "Running experiment for track 1580...\n",
      "Results for track 1574 saved to ./monocasting_results/1574.feather\n",
      "Running experiment for track 1581...\n",
      "Results for track 1576 saved to ./monocasting_results/1576.feather\n",
      "Running experiment for track 1582...\n",
      "Results for track 1578 saved to ./monocasting_results/1578.feather\n",
      "Running experiment for track 1583...\n",
      "Results for track 1575 saved to ./monocasting_results/1575.feather\n",
      "Running experiment for track 1584...\n",
      "Results for track 1566 saved to ./monocasting_results/1566.feather\n",
      "Running experiment for track 1586...\n",
      "Results for track 1579 saved to ./monocasting_results/1579.feather\n",
      "Running experiment for track 1587...\n",
      "Results for track 1582 saved to ./monocasting_results/1582.feather\n",
      "Running experiment for track 1588...\n",
      "Results for track 1580 saved to ./monocasting_results/1580.feather\n",
      "Running experiment for track 1589...\n",
      "Results for track 1581 saved to ./monocasting_results/1581.feather\n",
      "Running experiment for track 1590...\n",
      "Results for track 1586 saved to ./monocasting_results/1586.feather\n",
      "Running experiment for track 1591...\n",
      "Results for track 1584 saved to ./monocasting_results/1584.feather\n",
      "Running experiment for track 1592...\n",
      "Results for track 1590 saved to ./monocasting_results/1590.feather\n",
      "Running experiment for track 1594...\n",
      "Results for track 1588 saved to ./monocasting_results/1588.feather\n",
      "Running experiment for track 1595...\n",
      "Results for track 1568 saved to ./monocasting_results/1568.feather\n",
      "Running experiment for track 1596...\n",
      "Results for track 1591 saved to ./monocasting_results/1591.feather\n",
      "Running experiment for track 1597...\n",
      "Results for track 1587 saved to ./monocasting_results/1587.feather\n",
      "Running experiment for track 1598...\n",
      "Results for track 1589 saved to ./monocasting_results/1589.feather\n",
      "Running experiment for track 1600...\n",
      "Results for track 1594 saved to ./monocasting_results/1594.feather\n",
      "Running experiment for track 1602...\n",
      "Results for track 1592 saved to ./monocasting_results/1592.feather\n",
      "Running experiment for track 1603...\n",
      "Results for track 1595 saved to ./monocasting_results/1595.feather\n",
      "Running experiment for track 1604...\n",
      "Results for track 1596 saved to ./monocasting_results/1596.feather\n",
      "Running experiment for track 1605...\n",
      "Results for track 1600 saved to ./monocasting_results/1600.feather\n",
      "Running experiment for track 1606...\n",
      "Results for track 1583 saved to ./monocasting_results/1583.feather\n",
      "Running experiment for track 1607...\n",
      "Results for track 1605 saved to ./monocasting_results/1605.feather\n",
      "Running experiment for track 1608...\n",
      "Results for track 1597 saved to ./monocasting_results/1597.feather\n",
      "Running experiment for track 1610...\n",
      "Results for track 1606 saved to ./monocasting_results/1606.feather\n",
      "Running experiment for track 1611...\n",
      "Results for track 1598 saved to ./monocasting_results/1598.feather\n",
      "Running experiment for track 1612...\n",
      "Results for track 1604 saved to ./monocasting_results/1604.feather\n",
      "Running experiment for track 1613...\n",
      "Results for track 1603 saved to ./monocasting_results/1603.feather\n",
      "Running experiment for track 1614...\n",
      "Results for track 1602 saved to ./monocasting_results/1602.feather\n",
      "Running experiment for track 1615...\n",
      "Results for track 1613 saved to ./monocasting_results/1613.feather\n",
      "Running experiment for track 1616...\n",
      "Results for track 1611 saved to ./monocasting_results/1611.feather\n",
      "Running experiment for track 1618...\n",
      "Results for track 1610 saved to ./monocasting_results/1610.feather\n",
      "Running experiment for track 1619...\n",
      "Results for track 1612 saved to ./monocasting_results/1612.feather\n",
      "Running experiment for track 1620...\n",
      "Results for track 1616 saved to ./monocasting_results/1616.feather\n",
      "Running experiment for track 1621...\n",
      "Results for track 1614 saved to ./monocasting_results/1614.feather\n",
      "Running experiment for track 1622...\n",
      "Results for track 1607 saved to ./monocasting_results/1607.feather\n",
      "Running experiment for track 1623...\n",
      "Results for track 1615 saved to ./monocasting_results/1615.feather\n",
      "Running experiment for track 1624...\n",
      "Results for track 1618 saved to ./monocasting_results/1618.feather\n",
      "Running experiment for track 1626...\n",
      "Results for track 1619 saved to ./monocasting_results/1619.feather\n",
      "Running experiment for track 1627...\n",
      "Results for track 1608 saved to ./monocasting_results/1608.feather\n",
      "Running experiment for track 1628...\n",
      "Results for track 1621 saved to ./monocasting_results/1621.feather\n",
      "Running experiment for track 1629...\n",
      "Results for track 1622 saved to ./monocasting_results/1622.feather\n",
      "Running experiment for track 1630...\n",
      "Results for track 1627 saved to ./monocasting_results/1627.feather\n",
      "Running experiment for track 1631...\n",
      "Results for track 1630 saved to ./monocasting_results/1630.feather\n",
      "Running experiment for track 1632...\n",
      "Results for track 1631 saved to ./monocasting_results/1631.feather\n",
      "Running experiment for track 1634...\n",
      "Results for track 1628 saved to ./monocasting_results/1628.feather\n",
      "Running experiment for track 1635...\n",
      "Results for track 1629 saved to ./monocasting_results/1629.feather\n",
      "Running experiment for track 1636...\n",
      "Results for track 1623 saved to ./monocasting_results/1623.feather\n",
      "Running experiment for track 1637...\n",
      "Results for track 1624 saved to ./monocasting_results/1624.feather\n",
      "Running experiment for track 1638...\n",
      "Results for track 1635 saved to ./monocasting_results/1635.feather\n",
      "Running experiment for track 1639...\n",
      "Results for track 1620 saved to ./monocasting_results/1620.feather\n",
      "Running experiment for track 1640...\n",
      "Results for track 1634 saved to ./monocasting_results/1634.feather\n",
      "Running experiment for track 1642...\n",
      "Results for track 1638 saved to ./monocasting_results/1638.feather\n",
      "Running experiment for track 1643...\n",
      "Results for track 1640 saved to ./monocasting_results/1640.feather\n",
      "Running experiment for track 1644...\n",
      "Results for track 1636 saved to ./monocasting_results/1636.feather\n",
      "Running experiment for track 1645...\n",
      "Results for track 1626 saved to ./monocasting_results/1626.feather\n",
      "Running experiment for track 1646...\n",
      "Results for track 1637 saved to ./monocasting_results/1637.feather\n",
      "Running experiment for track 1647...\n",
      "Results for track 1639 saved to ./monocasting_results/1639.feather\n",
      "Running experiment for track 1648...\n",
      "Results for track 1648 saved to ./monocasting_results/1648.feather\n",
      "Running experiment for track 1650...\n",
      "Results for track 1642 saved to ./monocasting_results/1642.feather\n",
      "Running experiment for track 1652...\n",
      "Results for track 1643 saved to ./monocasting_results/1643.feather\n",
      "Running experiment for track 1653...\n",
      "Results for track 1646 saved to ./monocasting_results/1646.feather\n",
      "Running experiment for track 1654...\n",
      "Results for track 1644 saved to ./monocasting_results/1644.feather\n",
      "Running experiment for track 1655...\n",
      "Results for track 1645 saved to ./monocasting_results/1645.feather\n",
      "Results for track 1632 saved to ./monocasting_results/1632.feather\n",
      "Results for track 1653 saved to ./monocasting_results/1653.feather\n",
      "Results for track 1654 saved to ./monocasting_results/1654.feather\n",
      "Results for track 1647 saved to ./monocasting_results/1647.feather\n",
      "Results for track 1650 saved to ./monocasting_results/1650.feather\n",
      "Results for track 1655 saved to ./monocasting_results/1655.feather\n",
      "Results for track 1652 saved to ./monocasting_results/1652.feather\n"
     ]
    },
    {
     "data": {
      "application/vnd.jupyter.widget-view+json": {
       "model_id": "2cc49b5ee8e6457dbb4206a6006f36a3",
       "version_major": 2,
       "version_minor": 0
      },
      "text/plain": [
       "COLLECTING RESULTS | :   0%|          | 0/1359 [00:00<?, ?it/s]"
      ]
     },
     "metadata": {},
     "output_type": "display_data"
    }
   ],
   "source": [
    "from pqdm.processes import pqdm\n",
    "from bnl.exp import test_mono_casting_effects as tmce\n",
    "import bnl\n",
    "\n",
    "slm_ds = bnl.data.Dataset(manifest_path=\"~/data/salami/metadata.csv\")\n",
    "list_of_dfs = pqdm(slm_ds, tmce, n_jobs=8)"
   ]
  },
  {
   "cell_type": "code",
   "execution_count": 12,
   "id": "ce20c326",
   "metadata": {},
   "outputs": [
    {
     "data": {
      "text/plain": [
       "True"
      ]
     },
     "execution_count": 12,
     "metadata": {},
     "output_type": "execute_result"
    }
   ],
   "source": [
    "type(list_of_dfs[1]) is pd.DataFrame"
   ]
  },
  {
   "cell_type": "code",
   "execution_count": 16,
   "id": "b68396f2",
   "metadata": {},
   "outputs": [],
   "source": [
    "valid_dfs = [df for df in list_of_dfs if type(df) is pd.DataFrame]"
   ]
  },
  {
   "cell_type": "code",
   "execution_count": 19,
   "id": "a515a93f",
   "metadata": {},
   "outputs": [
    {
     "data": {
      "text/plain": [
       "1350"
      ]
     },
     "execution_count": 19,
     "metadata": {},
     "output_type": "execute_result"
    }
   ],
   "source": [
    "len(valid_dfs)"
   ]
  },
  {
   "cell_type": "code",
   "execution_count": 17,
   "id": "5655596e",
   "metadata": {},
   "outputs": [],
   "source": [
    "import pandas as pd\n",
    "all_results_df = pd.concat(valid_dfs, ignore_index=True)"
   ]
  },
  {
   "cell_type": "code",
   "execution_count": null,
   "id": "e4104b0c",
   "metadata": {},
   "outputs": [],
   "source": [
    "all_results_df"
   ]
  },
  {
   "cell_type": "code",
   "execution_count": 77,
   "id": "8ecb9c8d",
   "metadata": {},
   "outputs": [
    {
     "data": {
      "application/vnd.plotly.v1+json": {
       "config": {
        "plotlyServerURL": "https://plot.ly"
       },
       "data": [
        {
         "base": [
          0
         ],
         "customdata": [
          "<b>4</b><br>Layer: L12<br>Start: 0.000s<br>End: 16.160s<br>Duration: 16.160s"
         ],
         "hovertemplate": "%{customdata}<extra></extra>",
         "insidetextanchor": "middle",
         "marker": {
          "color": "#1F77B4",
          "line": {
           "color": "white",
           "width": 0.5
          },
          "pattern": {
           "fgcolor": "white",
           "fgopacity": 0.5,
           "shape": "",
           "solidity": 0.25
          }
         },
         "name": "4",
         "orientation": "h",
         "showlegend": true,
         "text": [
          "4"
         ],
         "textposition": "inside",
         "type": "bar",
         "width": 1,
         "x": [
          16.16
         ],
         "y": [
          "L12"
         ]
        },
        {
         "base": [
          16.16,
          64.24
         ],
         "customdata": [
          "<b>6</b><br>Layer: L12<br>Start: 16.160s<br>End: 32.120s<br>Duration: 15.960s",
          "<b>6</b><br>Layer: L12<br>Start: 64.240s<br>End: 74.500s<br>Duration: 10.260s"
         ],
         "hovertemplate": "%{customdata}<extra></extra>",
         "insidetextanchor": "middle",
         "marker": {
          "color": "#FF7F0E",
          "line": {
           "color": "white",
           "width": 0.5
          },
          "pattern": {
           "fgcolor": "white",
           "fgopacity": 0.5,
           "shape": "",
           "solidity": 0.25
          }
         },
         "name": "6",
         "orientation": "h",
         "showlegend": true,
         "text": [
          "6",
          "6"
         ],
         "textposition": "inside",
         "type": "bar",
         "width": 1,
         "x": [
          15.959999999999997,
          10.260000000000005
         ],
         "y": [
          "L12",
          "L12"
         ]
        },
        {
         "base": [
          32.12,
          74.5
         ],
         "customdata": [
          "<b>0</b><br>Layer: L12<br>Start: 32.120s<br>End: 54.600s<br>Duration: 22.480s",
          "<b>0</b><br>Layer: L12<br>Start: 74.500s<br>End: 93.140s<br>Duration: 18.640s"
         ],
         "hovertemplate": "%{customdata}<extra></extra>",
         "insidetextanchor": "middle",
         "marker": {
          "color": "#2CA02C",
          "line": {
           "color": "white",
           "width": 0.5
          },
          "pattern": {
           "fgcolor": "white",
           "fgopacity": 0.5,
           "shape": "",
           "solidity": 0.25
          }
         },
         "name": "0",
         "orientation": "h",
         "showlegend": true,
         "text": [
          "0",
          "0"
         ],
         "textposition": "inside",
         "type": "bar",
         "width": 1,
         "x": [
          22.480000000000004,
          18.64
         ],
         "y": [
          "L12",
          "L12"
         ]
        },
        {
         "base": [
          54.6,
          93.14,
          170.82
         ],
         "customdata": [
          "<b>3</b><br>Layer: L12<br>Start: 54.600s<br>End: 64.240s<br>Duration: 9.640s",
          "<b>3</b><br>Layer: L12<br>Start: 93.140s<br>End: 109.280s<br>Duration: 16.140s",
          "<b>3</b><br>Layer: L12<br>Start: 170.820s<br>End: 191.310s<br>Duration: 20.490s"
         ],
         "hovertemplate": "%{customdata}<extra></extra>",
         "insidetextanchor": "middle",
         "marker": {
          "color": "#D62728",
          "line": {
           "color": "white",
           "width": 0.5
          },
          "pattern": {
           "fgcolor": "white",
           "fgopacity": 0.5,
           "shape": "",
           "solidity": 0.25
          }
         },
         "name": "3",
         "orientation": "h",
         "showlegend": true,
         "text": [
          "3",
          "3",
          "3"
         ],
         "textposition": "inside",
         "type": "bar",
         "width": 1,
         "x": [
          9.639999999999993,
          16.14,
          20.49000000000001
         ],
         "y": [
          "L12",
          "L12",
          "L12"
         ]
        },
        {
         "base": [
          109.28
         ],
         "customdata": [
          "<b>11</b><br>Layer: L12<br>Start: 109.280s<br>End: 117.600s<br>Duration: 8.320s"
         ],
         "hovertemplate": "%{customdata}<extra></extra>",
         "insidetextanchor": "middle",
         "marker": {
          "color": "#9467BD",
          "line": {
           "color": "white",
           "width": 0.5
          },
          "pattern": {
           "fgcolor": "white",
           "fgopacity": 0.5,
           "shape": "",
           "solidity": 0.25
          }
         },
         "name": "11",
         "orientation": "h",
         "showlegend": true,
         "text": [
          "11"
         ],
         "textposition": "inside",
         "type": "bar",
         "width": 1,
         "x": [
          8.319999999999993
         ],
         "y": [
          "L12"
         ]
        },
        {
         "base": [
          117.6
         ],
         "customdata": [
          "<b>1</b><br>Layer: L12<br>Start: 117.600s<br>End: 152.970s<br>Duration: 35.370s"
         ],
         "hovertemplate": "%{customdata}<extra></extra>",
         "insidetextanchor": "middle",
         "marker": {
          "color": "#8C564B",
          "line": {
           "color": "white",
           "width": 0.5
          },
          "pattern": {
           "fgcolor": "white",
           "fgopacity": 0.5,
           "shape": "",
           "solidity": 0.25
          }
         },
         "name": "1",
         "orientation": "h",
         "showlegend": true,
         "text": [
          "1"
         ],
         "textposition": "inside",
         "type": "bar",
         "width": 1,
         "x": [
          35.370000000000005
         ],
         "y": [
          "L12"
         ]
        },
        {
         "base": [
          152.97
         ],
         "customdata": [
          "<b>5</b><br>Layer: L12<br>Start: 152.970s<br>End: 170.820s<br>Duration: 17.850s"
         ],
         "hovertemplate": "%{customdata}<extra></extra>",
         "insidetextanchor": "middle",
         "marker": {
          "color": "#E377C2",
          "line": {
           "color": "white",
           "width": 0.5
          },
          "pattern": {
           "fgcolor": "white",
           "fgopacity": 0.5,
           "shape": "",
           "solidity": 0.25
          }
         },
         "name": "5",
         "orientation": "h",
         "showlegend": true,
         "text": [
          "5"
         ],
         "textposition": "inside",
         "type": "bar",
         "width": 1,
         "x": [
          17.849999999999994
         ],
         "y": [
          "L12"
         ]
        },
        {
         "base": [
          191.31
         ],
         "customdata": [
          "<b>2</b><br>Layer: L12<br>Start: 191.310s<br>End: 222.061s<br>Duration: 30.751s"
         ],
         "hovertemplate": "%{customdata}<extra></extra>",
         "insidetextanchor": "middle",
         "marker": {
          "color": "#7F7F7F",
          "line": {
           "color": "white",
           "width": 0.5
          },
          "pattern": {
           "fgcolor": "white",
           "fgopacity": 0.5,
           "shape": "",
           "solidity": 0.25
          }
         },
         "name": "2",
         "orientation": "h",
         "showlegend": true,
         "text": [
          "2"
         ],
         "textposition": "inside",
         "type": "bar",
         "width": 1,
         "x": [
          30.75111000000001
         ],
         "y": [
          "L12"
         ]
        }
       ],
       "layout": {
        "barmode": "overlay",
        "height": 95,
        "margin": {
         "b": 20,
         "l": 20,
         "r": 20,
         "t": 40
        },
        "showlegend": false,
        "template": {
         "data": {
          "bar": [
           {
            "error_x": {
             "color": "#2a3f5f"
            },
            "error_y": {
             "color": "#2a3f5f"
            },
            "marker": {
             "line": {
              "color": "#E5ECF6",
              "width": 0.5
             },
             "pattern": {
              "fillmode": "overlay",
              "size": 10,
              "solidity": 0.2
             }
            },
            "type": "bar"
           }
          ],
          "barpolar": [
           {
            "marker": {
             "line": {
              "color": "#E5ECF6",
              "width": 0.5
             },
             "pattern": {
              "fillmode": "overlay",
              "size": 10,
              "solidity": 0.2
             }
            },
            "type": "barpolar"
           }
          ],
          "carpet": [
           {
            "aaxis": {
             "endlinecolor": "#2a3f5f",
             "gridcolor": "white",
             "linecolor": "white",
             "minorgridcolor": "white",
             "startlinecolor": "#2a3f5f"
            },
            "baxis": {
             "endlinecolor": "#2a3f5f",
             "gridcolor": "white",
             "linecolor": "white",
             "minorgridcolor": "white",
             "startlinecolor": "#2a3f5f"
            },
            "type": "carpet"
           }
          ],
          "choropleth": [
           {
            "colorbar": {
             "outlinewidth": 0,
             "ticks": ""
            },
            "type": "choropleth"
           }
          ],
          "contour": [
           {
            "colorbar": {
             "outlinewidth": 0,
             "ticks": ""
            },
            "colorscale": [
             [
              0,
              "#0d0887"
             ],
             [
              0.1111111111111111,
              "#46039f"
             ],
             [
              0.2222222222222222,
              "#7201a8"
             ],
             [
              0.3333333333333333,
              "#9c179e"
             ],
             [
              0.4444444444444444,
              "#bd3786"
             ],
             [
              0.5555555555555556,
              "#d8576b"
             ],
             [
              0.6666666666666666,
              "#ed7953"
             ],
             [
              0.7777777777777778,
              "#fb9f3a"
             ],
             [
              0.8888888888888888,
              "#fdca26"
             ],
             [
              1,
              "#f0f921"
             ]
            ],
            "type": "contour"
           }
          ],
          "contourcarpet": [
           {
            "colorbar": {
             "outlinewidth": 0,
             "ticks": ""
            },
            "type": "contourcarpet"
           }
          ],
          "heatmap": [
           {
            "colorbar": {
             "outlinewidth": 0,
             "ticks": ""
            },
            "colorscale": [
             [
              0,
              "#0d0887"
             ],
             [
              0.1111111111111111,
              "#46039f"
             ],
             [
              0.2222222222222222,
              "#7201a8"
             ],
             [
              0.3333333333333333,
              "#9c179e"
             ],
             [
              0.4444444444444444,
              "#bd3786"
             ],
             [
              0.5555555555555556,
              "#d8576b"
             ],
             [
              0.6666666666666666,
              "#ed7953"
             ],
             [
              0.7777777777777778,
              "#fb9f3a"
             ],
             [
              0.8888888888888888,
              "#fdca26"
             ],
             [
              1,
              "#f0f921"
             ]
            ],
            "type": "heatmap"
           }
          ],
          "histogram": [
           {
            "marker": {
             "pattern": {
              "fillmode": "overlay",
              "size": 10,
              "solidity": 0.2
             }
            },
            "type": "histogram"
           }
          ],
          "histogram2d": [
           {
            "colorbar": {
             "outlinewidth": 0,
             "ticks": ""
            },
            "colorscale": [
             [
              0,
              "#0d0887"
             ],
             [
              0.1111111111111111,
              "#46039f"
             ],
             [
              0.2222222222222222,
              "#7201a8"
             ],
             [
              0.3333333333333333,
              "#9c179e"
             ],
             [
              0.4444444444444444,
              "#bd3786"
             ],
             [
              0.5555555555555556,
              "#d8576b"
             ],
             [
              0.6666666666666666,
              "#ed7953"
             ],
             [
              0.7777777777777778,
              "#fb9f3a"
             ],
             [
              0.8888888888888888,
              "#fdca26"
             ],
             [
              1,
              "#f0f921"
             ]
            ],
            "type": "histogram2d"
           }
          ],
          "histogram2dcontour": [
           {
            "colorbar": {
             "outlinewidth": 0,
             "ticks": ""
            },
            "colorscale": [
             [
              0,
              "#0d0887"
             ],
             [
              0.1111111111111111,
              "#46039f"
             ],
             [
              0.2222222222222222,
              "#7201a8"
             ],
             [
              0.3333333333333333,
              "#9c179e"
             ],
             [
              0.4444444444444444,
              "#bd3786"
             ],
             [
              0.5555555555555556,
              "#d8576b"
             ],
             [
              0.6666666666666666,
              "#ed7953"
             ],
             [
              0.7777777777777778,
              "#fb9f3a"
             ],
             [
              0.8888888888888888,
              "#fdca26"
             ],
             [
              1,
              "#f0f921"
             ]
            ],
            "type": "histogram2dcontour"
           }
          ],
          "mesh3d": [
           {
            "colorbar": {
             "outlinewidth": 0,
             "ticks": ""
            },
            "type": "mesh3d"
           }
          ],
          "parcoords": [
           {
            "line": {
             "colorbar": {
              "outlinewidth": 0,
              "ticks": ""
             }
            },
            "type": "parcoords"
           }
          ],
          "pie": [
           {
            "automargin": true,
            "type": "pie"
           }
          ],
          "scatter": [
           {
            "fillpattern": {
             "fillmode": "overlay",
             "size": 10,
             "solidity": 0.2
            },
            "type": "scatter"
           }
          ],
          "scatter3d": [
           {
            "line": {
             "colorbar": {
              "outlinewidth": 0,
              "ticks": ""
             }
            },
            "marker": {
             "colorbar": {
              "outlinewidth": 0,
              "ticks": ""
             }
            },
            "type": "scatter3d"
           }
          ],
          "scattercarpet": [
           {
            "marker": {
             "colorbar": {
              "outlinewidth": 0,
              "ticks": ""
             }
            },
            "type": "scattercarpet"
           }
          ],
          "scattergeo": [
           {
            "marker": {
             "colorbar": {
              "outlinewidth": 0,
              "ticks": ""
             }
            },
            "type": "scattergeo"
           }
          ],
          "scattergl": [
           {
            "marker": {
             "colorbar": {
              "outlinewidth": 0,
              "ticks": ""
             }
            },
            "type": "scattergl"
           }
          ],
          "scattermap": [
           {
            "marker": {
             "colorbar": {
              "outlinewidth": 0,
              "ticks": ""
             }
            },
            "type": "scattermap"
           }
          ],
          "scattermapbox": [
           {
            "marker": {
             "colorbar": {
              "outlinewidth": 0,
              "ticks": ""
             }
            },
            "type": "scattermapbox"
           }
          ],
          "scatterpolar": [
           {
            "marker": {
             "colorbar": {
              "outlinewidth": 0,
              "ticks": ""
             }
            },
            "type": "scatterpolar"
           }
          ],
          "scatterpolargl": [
           {
            "marker": {
             "colorbar": {
              "outlinewidth": 0,
              "ticks": ""
             }
            },
            "type": "scatterpolargl"
           }
          ],
          "scatterternary": [
           {
            "marker": {
             "colorbar": {
              "outlinewidth": 0,
              "ticks": ""
             }
            },
            "type": "scatterternary"
           }
          ],
          "surface": [
           {
            "colorbar": {
             "outlinewidth": 0,
             "ticks": ""
            },
            "colorscale": [
             [
              0,
              "#0d0887"
             ],
             [
              0.1111111111111111,
              "#46039f"
             ],
             [
              0.2222222222222222,
              "#7201a8"
             ],
             [
              0.3333333333333333,
              "#9c179e"
             ],
             [
              0.4444444444444444,
              "#bd3786"
             ],
             [
              0.5555555555555556,
              "#d8576b"
             ],
             [
              0.6666666666666666,
              "#ed7953"
             ],
             [
              0.7777777777777778,
              "#fb9f3a"
             ],
             [
              0.8888888888888888,
              "#fdca26"
             ],
             [
              1,
              "#f0f921"
             ]
            ],
            "type": "surface"
           }
          ],
          "table": [
           {
            "cells": {
             "fill": {
              "color": "#EBF0F8"
             },
             "line": {
              "color": "white"
             }
            },
            "header": {
             "fill": {
              "color": "#C8D4E3"
             },
             "line": {
              "color": "white"
             }
            },
            "type": "table"
           }
          ]
         },
         "layout": {
          "annotationdefaults": {
           "arrowcolor": "#2a3f5f",
           "arrowhead": 0,
           "arrowwidth": 1
          },
          "autotypenumbers": "strict",
          "coloraxis": {
           "colorbar": {
            "outlinewidth": 0,
            "ticks": ""
           }
          },
          "colorscale": {
           "diverging": [
            [
             0,
             "#8e0152"
            ],
            [
             0.1,
             "#c51b7d"
            ],
            [
             0.2,
             "#de77ae"
            ],
            [
             0.3,
             "#f1b6da"
            ],
            [
             0.4,
             "#fde0ef"
            ],
            [
             0.5,
             "#f7f7f7"
            ],
            [
             0.6,
             "#e6f5d0"
            ],
            [
             0.7,
             "#b8e186"
            ],
            [
             0.8,
             "#7fbc41"
            ],
            [
             0.9,
             "#4d9221"
            ],
            [
             1,
             "#276419"
            ]
           ],
           "sequential": [
            [
             0,
             "#0d0887"
            ],
            [
             0.1111111111111111,
             "#46039f"
            ],
            [
             0.2222222222222222,
             "#7201a8"
            ],
            [
             0.3333333333333333,
             "#9c179e"
            ],
            [
             0.4444444444444444,
             "#bd3786"
            ],
            [
             0.5555555555555556,
             "#d8576b"
            ],
            [
             0.6666666666666666,
             "#ed7953"
            ],
            [
             0.7777777777777778,
             "#fb9f3a"
            ],
            [
             0.8888888888888888,
             "#fdca26"
            ],
            [
             1,
             "#f0f921"
            ]
           ],
           "sequentialminus": [
            [
             0,
             "#0d0887"
            ],
            [
             0.1111111111111111,
             "#46039f"
            ],
            [
             0.2222222222222222,
             "#7201a8"
            ],
            [
             0.3333333333333333,
             "#9c179e"
            ],
            [
             0.4444444444444444,
             "#bd3786"
            ],
            [
             0.5555555555555556,
             "#d8576b"
            ],
            [
             0.6666666666666666,
             "#ed7953"
            ],
            [
             0.7777777777777778,
             "#fb9f3a"
            ],
            [
             0.8888888888888888,
             "#fdca26"
            ],
            [
             1,
             "#f0f921"
            ]
           ]
          },
          "colorway": [
           "#636efa",
           "#EF553B",
           "#00cc96",
           "#ab63fa",
           "#FFA15A",
           "#19d3f3",
           "#FF6692",
           "#B6E880",
           "#FF97FF",
           "#FECB52"
          ],
          "font": {
           "color": "#2a3f5f"
          },
          "geo": {
           "bgcolor": "white",
           "lakecolor": "white",
           "landcolor": "#E5ECF6",
           "showlakes": true,
           "showland": true,
           "subunitcolor": "white"
          },
          "hoverlabel": {
           "align": "left"
          },
          "hovermode": "closest",
          "mapbox": {
           "style": "light"
          },
          "paper_bgcolor": "white",
          "plot_bgcolor": "#E5ECF6",
          "polar": {
           "angularaxis": {
            "gridcolor": "white",
            "linecolor": "white",
            "ticks": ""
           },
           "bgcolor": "#E5ECF6",
           "radialaxis": {
            "gridcolor": "white",
            "linecolor": "white",
            "ticks": ""
           }
          },
          "scene": {
           "xaxis": {
            "backgroundcolor": "#E5ECF6",
            "gridcolor": "white",
            "gridwidth": 2,
            "linecolor": "white",
            "showbackground": true,
            "ticks": "",
            "zerolinecolor": "white"
           },
           "yaxis": {
            "backgroundcolor": "#E5ECF6",
            "gridcolor": "white",
            "gridwidth": 2,
            "linecolor": "white",
            "showbackground": true,
            "ticks": "",
            "zerolinecolor": "white"
           },
           "zaxis": {
            "backgroundcolor": "#E5ECF6",
            "gridcolor": "white",
            "gridwidth": 2,
            "linecolor": "white",
            "showbackground": true,
            "ticks": "",
            "zerolinecolor": "white"
           }
          },
          "shapedefaults": {
           "line": {
            "color": "#2a3f5f"
           }
          },
          "ternary": {
           "aaxis": {
            "gridcolor": "white",
            "linecolor": "white",
            "ticks": ""
           },
           "baxis": {
            "gridcolor": "white",
            "linecolor": "white",
            "ticks": ""
           },
           "bgcolor": "#E5ECF6",
           "caxis": {
            "gridcolor": "white",
            "linecolor": "white",
            "ticks": ""
           }
          },
          "title": {
           "x": 0.05
          },
          "xaxis": {
           "automargin": true,
           "gridcolor": "white",
           "linecolor": "white",
           "ticks": "",
           "title": {
            "standoff": 15
           },
           "zerolinecolor": "white",
           "zerolinewidth": 2
          },
          "yaxis": {
           "automargin": true,
           "gridcolor": "white",
           "linecolor": "white",
           "ticks": "",
           "title": {
            "standoff": 15
           },
           "zerolinecolor": "white",
           "zerolinewidth": 2
          }
         }
        },
        "title": {
         "text": "L12",
         "x": 0.5
        },
        "width": 650,
        "xaxis": {
         "range": [
          0,
          222.06111
         ],
         "title": {
          "text": "Time (s)"
         }
        },
        "yaxis": {
         "categoryarray": [
          "L12"
         ],
         "categoryorder": "array",
         "title": {},
         "visible": false
        }
       }
      }
     },
     "metadata": {},
     "output_type": "display_data"
    }
   ],
   "source": [
    "est[-1].plot()"
   ]
  },
  {
   "cell_type": "code",
   "execution_count": null,
   "id": "a42e6791",
   "metadata": {},
   "outputs": [],
   "source": []
  }
 ],
 "metadata": {
  "kernelspec": {
   "display_name": "py311",
   "language": "python",
   "name": "python3"
  },
  "language_info": {
   "codemirror_mode": {
    "name": "ipython",
    "version": 3
   },
   "file_extension": ".py",
   "mimetype": "text/x-python",
   "name": "python",
   "nbconvert_exporter": "python",
   "pygments_lexer": "ipython3",
   "version": "3.11.13"
  }
 },
 "nbformat": 4,
 "nbformat_minor": 5
}
