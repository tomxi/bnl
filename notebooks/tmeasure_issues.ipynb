{
 "cells": [
  {
   "cell_type": "code",
   "execution_count": null,
   "id": "f7dc866d",
   "metadata": {},
   "outputs": [],
   "source": [
    "%load_ext autoreload\n",
    "%autoreload 2\n",
    "\n",
    "import bnl\n",
    "import mir_eval\n",
    "import plotly\n",
    "import plotly.express as px\n",
    "import pandas as pd"
   ]
  },
  {
   "cell_type": "code",
   "execution_count": null,
   "id": "6587e0a7",
   "metadata": {},
   "outputs": [],
   "source": [
    "def px_metrics_bar(metrics, title=\"mir_eval hierarchy metrics\"):\n",
    "    # metrics: dict or OrderedDict of name -> float\n",
    "    df = pd.Series(metrics, dtype=float).rename_axis(\"metric\").reset_index(name=\"score\")\n",
    "    fig = px.bar(df, x=\"metric\", y=\"score\", title=title, text=\"score\", range_y=[0,1.2])\n",
    "    fig.update_traces(texttemplate=\"%{text:.3f}\", textposition=\"outside\")\n",
    "    fig.update_layout(xaxis_tickangle=-45, width=450, height=300, margin=dict(l=10, r=10, t=50, b=10))\n",
    "    return fig"
   ]
  },
  {
   "cell_type": "code",
   "execution_count": null,
   "id": "bf40b414",
   "metadata": {},
   "outputs": [],
   "source": [
    "# Get a couple fake reference and estimates going\n",
    "ref_coarse = bnl.S.from_bs([0, 5, 8, 16, 20])\n",
    "ref_fine = bnl.S.from_bs([0, 2, 5, 8, 13.3, 16, 18, 20])"
   ]
  },
  {
   "cell_type": "code",
   "execution_count": null,
   "id": "4d59a66f",
   "metadata": {},
   "outputs": [],
   "source": [
    "# Bad est 1: right boundaries but spread across multiple layers, and non monotonic.\n",
    "\n",
    "est = bnl.MS([\n",
    "    bnl.S.from_bs([0, x.time, 20]) for x in ref_coarse.bs[1:-1]],\n",
    "    name=\"est\"\n",
    ").prune_layers()\n",
    "ref = bnl.MS([ref_coarse, ref_fine], name=\"ref\")\n",
    "ref.plot().show()\n",
    "est.plot().show()"
   ]
  },
  {
   "cell_type": "code",
   "execution_count": null,
   "id": "616645b7",
   "metadata": {},
   "outputs": [],
   "source": [
    "est_mono = est.contour(\"depth\").level().to_ms()\n",
    "est_mono.plot()"
   ]
  },
  {
   "cell_type": "code",
   "execution_count": null,
   "id": "89a84286",
   "metadata": {},
   "outputs": [],
   "source": [
    "import warnings\n",
    "warnings.filterwarnings(\"ignore\")\n",
    "\n",
    "for window in [5, 10, 15, None]:\n",
    "    result = mir_eval.hierarchy.evaluate(ref.itvls, ref.labels, est.itvls, est.labels, window=window)\n",
    "    px_metrics_bar(result, title=f\"window = {window}\").show()"
   ]
  },
  {
   "cell_type": "code",
   "execution_count": null,
   "id": "d24f16c0",
   "metadata": {},
   "outputs": [],
   "source": [
    "for window in [5, 10, 15, None]:\n",
    "    result = mir_eval.hierarchy.evaluate(ref.itvls, ref.labels, est_mono.itvls, est_mono.labels, window=window)\n",
    "    px_metrics_bar(result, title=f\"window = {window}\").show()"
   ]
  },
  {
   "cell_type": "code",
   "execution_count": null,
   "id": "ef5f9512",
   "metadata": {},
   "outputs": [],
   "source": []
  }
 ],
 "metadata": {
  "kernelspec": {
   "display_name": "py311",
   "language": "python",
   "name": "python3"
  },
  "language_info": {
   "codemirror_mode": {
    "name": "ipython",
    "version": 3
   },
   "file_extension": ".py",
   "mimetype": "text/x-python",
   "name": "python",
   "nbconvert_exporter": "python",
   "pygments_lexer": "ipython3",
   "version": "3.11.13"
  }
 },
 "nbformat": 4,
 "nbformat_minor": 5
}
