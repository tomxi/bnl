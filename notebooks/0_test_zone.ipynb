{
 "cells": [
  {
   "cell_type": "code",
   "execution_count": null,
   "id": "5f639a7a",
   "metadata": {},
   "outputs": [],
   "source": [
    "%load_ext autoreload\n",
    "%autoreload 2\n",
    "\n",
    "import pandas as pd\n",
    "import bnl\n",
    "import numpy as np"
   ]
  },
  {
   "cell_type": "code",
   "execution_count": null,
   "id": "94c92dea",
   "metadata": {},
   "outputs": [],
   "source": [
    "slm_ds = bnl.data.Dataset('~/data/salami/metadata.csv')"
   ]
  },
  {
   "cell_type": "code",
   "execution_count": null,
   "id": "0ba9c8af",
   "metadata": {},
   "outputs": [],
   "source": [
    "est = slm_ds[2].ests['mu1gamma9']"
   ]
  },
  {
   "cell_type": "code",
   "execution_count": null,
   "id": "d2556c14",
   "metadata": {},
   "outputs": [],
   "source": [
    "t_est = est.contour('depth').clean('absorb').level().to_ms().scrub_labels()\n",
    "t_est.plot()"
   ]
  },
  {
   "cell_type": "code",
   "execution_count": null,
   "id": "91472c9b",
   "metadata": {},
   "outputs": [],
   "source": [
    "len(t_est[-1])"
   ]
  },
  {
   "cell_type": "code",
   "execution_count": null,
   "id": "b9c34d59",
   "metadata": {},
   "outputs": [],
   "source": [
    "b_est = est.contour('depth').clean('absorb').level()"
   ]
  },
  {
   "cell_type": "code",
   "execution_count": null,
   "id": "12b0e41c",
   "metadata": {},
   "outputs": [],
   "source": [
    "len(b_est)"
   ]
  },
  {
   "cell_type": "code",
   "execution_count": null,
   "id": "927aa2a9",
   "metadata": {},
   "outputs": [],
   "source": [
    "b_est[2]"
   ]
  },
  {
   "cell_type": "code",
   "execution_count": null,
   "id": "3b55c913",
   "metadata": {},
   "outputs": [],
   "source": []
  }
 ],
 "metadata": {
  "kernelspec": {
   "display_name": "py311",
   "language": "python",
   "name": "python3"
  },
  "language_info": {
   "codemirror_mode": {
    "name": "ipython",
    "version": 3
   },
   "file_extension": ".py",
   "mimetype": "text/x-python",
   "name": "python",
   "nbconvert_exporter": "python",
   "pygments_lexer": "ipython3",
   "version": "3.11.13"
  }
 },
 "nbformat": 4,
 "nbformat_minor": 5
}
