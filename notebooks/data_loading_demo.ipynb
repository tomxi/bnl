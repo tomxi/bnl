{
 "cells": [
  {
   "cell_type": "markdown",
   "metadata": {
    "vscode": {
     "languageId": "raw"
    }
   },
   "source": [
    "# BNL: Boundaries and Labels - Complete Demo\n",
    "\n",
    "This notebook demonstrates the key features of BNL, a Python library for hierarchical music segmentation analysis.\n",
    "\n",
    "## Key Features:\n",
    "- 🎵 **Core Data Structures**: TimeSpan, Segmentation, Hierarchy\n",
    "- 🔧 **Convenient Construction**: From boundaries, intervals, or manual creation\n",
    "- 📊 **Rich Visualization**: Plot segmentations with customizable styling\n",
    "- 📁 **Dataset Integration**: Load and work with SALAMI dataset\n",
    "- ✅ **Robust Design**: Input validation and error handling\n"
   ]
  },
  {
   "cell_type": "code",
   "execution_count": 16,
   "metadata": {},
   "outputs": [
    {
     "name": "stdout",
     "output_type": "stream",
     "text": [
      "The autoreload extension is already loaded. To reload it, use:\n",
      "  %reload_ext autoreload\n"
     ]
    }
   ],
   "source": [
    "%load_ext autoreload\n",
    "%autoreload 2\n",
    "import bnl\n",
    "import bnl.data as data\n",
    "import numpy as np\n",
    "import matplotlib.pyplot as plt\n",
    "\n",
    "# Set up matplotlib for inline plots\n",
    "%matplotlib inline\n",
    "plt.style.use('default')"
   ]
  },
  {
   "cell_type": "markdown",
   "metadata": {
    "vscode": {
     "languageId": "raw"
    }
   },
   "source": [
    "## 1. Core Data Structures\n",
    "\n",
    "BNL provides three main data structures for representing musical segments:\n"
   ]
  },
  {
   "cell_type": "code",
   "execution_count": 17,
   "metadata": {},
   "outputs": [
    {
     "name": "stdout",
     "output_type": "stream",
     "text": [
      "Verse: [0.00-30.00s] (verse)\n",
      "Chorus: [30.00-60.00s] (chorus)\n",
      "Bridge: [60.00-90.00s] (bridge)\n",
      "\n",
      "Duration calculation: verse lasts 30.0 seconds\n"
     ]
    }
   ],
   "source": [
    "# Create individual time spans with labels\n",
    "verse = bnl.TimeSpan(start=0.0, end=30.0, name=\"verse\")\n",
    "chorus = bnl.TimeSpan(start=30.0, end=60.0, name=\"chorus\")\n",
    "bridge = bnl.TimeSpan(start=60.0, end=90.0, name=\"bridge\")\n",
    "\n",
    "print(f\"Verse: {verse}\")\n",
    "print(f\"Chorus: {chorus}\")\n",
    "print(f\"Bridge: {bridge}\")\n",
    "\n",
    "# TimeSpan automatically validates start < end\n",
    "print(f\"\\nDuration calculation: verse lasts {verse.end - verse.start} seconds\")\n"
   ]
  },
  {
   "cell_type": "markdown",
   "metadata": {
    "vscode": {
     "languageId": "raw"
    }
   },
   "source": [
    "## 2. Building Segmentations\n",
    "\n",
    "Combine multiple TimeSpans into a Segmentation:\n"
   ]
  },
  {
   "cell_type": "code",
   "execution_count": 5,
   "metadata": {},
   "outputs": [
    {
     "name": "stdout",
     "output_type": "stream",
     "text": [
      "Segmentation: Segmentation(3 segments, duration=90.00s)\n",
      "Duration: 90.0 seconds\n",
      "Labels: ['verse', 'chorus', 'bridge']\n",
      "Boundaries: [0.0, 30.0, 60.0, 90.0]\n",
      "Number of segments: 3\n",
      "\n",
      "First segment: [0.00-30.00s] (verse)\n",
      "Intervals array shape: (3, 2)\n",
      "Segmentation(3 segments, duration=90.00s)\n"
     ]
    },
    {
     "data": {
      "image/png": "[encoded data removed]",
      "text/plain": [
       "<Figure size 600x60 with 1 Axes>"
      ]
     },
     "metadata": {},
     "output_type": "display_data"
    }
   ],
   "source": [
    "# Create a segmentation from individual time spans\n",
    "song_structure = bnl.Segmentation(segments=[verse, chorus, bridge])\n",
    "\n",
    "print(f\"Segmentation: {song_structure}\")\n",
    "print(f\"Duration: {song_structure.end - song_structure.start:.1f} seconds\")\n",
    "print(f\"Labels: {song_structure.labels}\")\n",
    "print(f\"Boundaries: {song_structure.bdrys}\")\n",
    "print(f\"Number of segments: {len(song_structure)}\")\n",
    "\n",
    "# Access individual segments\n",
    "print(f\"\\nFirst segment: {song_structure[0]}\")\n",
    "print(f\"Intervals array shape: {song_structure.itvls.shape}\")\n",
    "\n",
    "song_structure.plot()\n",
    "\n"
   ]
  },
  {
   "cell_type": "markdown",
   "metadata": {
    "vscode": {
     "languageId": "raw"
    }
   },
   "source": [
    "## 3. Convenient Construction Methods\n",
    "\n",
    "BNL provides utility functions for common segmentation creation patterns:\n"
   ]
  },
  {
   "cell_type": "code",
   "execution_count": 6,
   "metadata": {},
   "outputs": [
    {
     "name": "stdout",
     "output_type": "stream",
     "text": [
      "From boundaries: Segmentation(4 segments, duration=90.00s)\n",
      "From intervals: Segmentation(3 segments, duration=90.00s)\n",
      "Auto-sorted: [np.int64(0), np.int64(15), np.int64(45), np.int64(75), np.int64(90)]\n"
     ]
    }
   ],
   "source": [
    "# Method 1: From boundaries\n",
    "boundaries = [0, 15, 45, 75, 90]\n",
    "labels = [\"intro\", \"verse\", \"chorus\", \"verse\", \"outro\"]\n",
    "seg_from_boundaries = bnl.Segmentation.from_boundaries(boundaries, labels)\n",
    "\n",
    "print(f\"From boundaries: {seg_from_boundaries}\")\n",
    "\n",
    "# Method 2: From intervals (start, end pairs)\n",
    "intervals = np.array([[0, 30], [30, 60], [60, 90]])\n",
    "interval_labels = [\"A\", \"B\", \"A\"]\n",
    "seg_from_intervals = bnl.Segmentation.from_intervals(intervals, interval_labels)\n",
    "\n",
    "print(f\"From intervals: {seg_from_intervals}\")\n",
    "\n",
    "# Segments are automatically sorted and validated\n",
    "unsorted_boundaries = [90, 0, 45, 15, 75]\n",
    "seg_auto_sorted = bnl.Segmentation.from_boundaries(unsorted_boundaries, labels)\n",
    "print(f\"Auto-sorted: {seg_auto_sorted.bdrys}\")\n"
   ]
  },
  {
   "cell_type": "markdown",
   "metadata": {
    "vscode": {
     "languageId": "raw"
    }
   },
   "source": [
    "## 4. Visualization\n",
    "\n",
    "BNL provides rich visualization capabilities with automatic styling:\n"
   ]
  },
  {
   "cell_type": "code",
   "execution_count": 10,
   "metadata": {},
   "outputs": [
    {
     "name": "stderr",
     "output_type": "stream",
     "text": [
      "/var/folders/53/f13fy0gs1wdb_kybq06h266h0002m8/T/ipykernel_5738/1488067319.py:3: UserWarning: Tight layout not applied. The bottom and top margins cannot be made large enough to accommodate all Axes decorations.\n",
      "  plt.tight_layout()\n"
     ]
    },
    {
     "data": {
      "image/png": "[encoded data removed]",
      "text/plain": [
       "<Figure size 600x60 with 1 Axes>"
      ]
     },
     "metadata": {},
     "output_type": "display_data"
    },
    {
     "data": {
      "image/png": "[encoded data removed]",
      "text/plain": [
       "<Figure size 600x200 with 2 Axes>"
      ]
     },
     "metadata": {},
     "output_type": "display_data"
    }
   ],
   "source": [
    "# Plot a segmentation (convenient method)\n",
    "fig, ax = seg_from_boundaries.plot(title=True, ytick=\"Structure\")\n",
    "plt.tight_layout()\n",
    "plt.show()\n",
    "\n",
    "# Multiple segmentations comparison\n",
    "fig, axes = plt.subplots(2, 1, figsize=(6, 2))\n",
    "\n",
    "# Fine-grained segmentation\n",
    "fine_seg = bnl.Segmentation.from_boundaries([0, 15, 30, 45, 60, 75, 90], \n",
    "                              [\"intro\", \"verse1\", \"chorus1\", \"verse2\", \"chorus2\", \"bridge\", \"outro\"])\n",
    "fine_seg.name=\"Fine Level\"\n",
    "bnl.viz.plot_segment(fine_seg, ax=axes[1], ytick=fine_seg.name, title=False)\n",
    "\n",
    "# Coarse segmentation  \n",
    "coarse_seg = bnl.Segmentation.from_boundaries([0, 45, 90], [\"A\", \"B\"])\n",
    "coarse_seg.name=\"Coarse Level\"\n",
    "bnl.viz.plot_segment(coarse_seg, ax=axes[0], ytick=coarse_seg.name, title=False, time_ticks=False)\n",
    "\n",
    "plt.suptitle(\"Multi-Level Segmentation Comparison\")\n",
    "plt.tight_layout()\n",
    "plt.show()\n"
   ]
  },
  {
   "cell_type": "markdown",
   "metadata": {
    "vscode": {
     "languageId": "raw"
    }
   },
   "source": [
    "## 5. Hierarchical Structures\n",
    "\n",
    "Create multi-level hierarchies to represent different levels of musical structure:\n"
   ]
  },
  {
   "cell_type": "code",
   "execution_count": 11,
   "metadata": {},
   "outputs": [
    {
     "name": "stdout",
     "output_type": "stream",
     "text": [
      "Hierarchy: Hierarchy(3 levels, duration=90.00s)\n",
      "Number of levels: 3\n",
      "Labels by level: [['part_1', 'part_2'], ['section_A', 'section_B', 'section_C'], ['intro', 'verse', 'chorus', 'verse', 'chorus', 'bridge']]\n",
      "\n",
      "Coarsest level: Segmentation(2 segments, duration=90.00s)\n",
      "Finest level: Segmentation(6 segments, duration=90.00s)\n",
      "Boundaries by level: [[np.int64(0), np.int64(45), np.int64(90)], [np.int64(0), np.int64(30), np.int64(60), np.int64(90)], [np.int64(0), np.int64(15), np.int64(30), np.int64(45), np.int64(60), np.int64(75), np.int64(90)]]\n"
     ]
    }
   ],
   "source": [
    "# Create a hierarchy with multiple levels\n",
    "fine_level = bnl.Segmentation.from_boundaries([0, 15, 30, 45, 60, 75, 90],\n",
    "                                [\"intro\", \"verse\", \"chorus\", \"verse\", \"chorus\", \"bridge\", \"outro\"])\n",
    "\n",
    "medium_level = bnl.Segmentation.from_boundaries([0, 30, 60, 90], \n",
    "                                  [\"section_A\", \"section_B\", \"section_C\"])\n",
    "\n",
    "coarse_level = bnl.Segmentation.from_boundaries([0, 45, 90], [\"part_1\", \"part_2\"])\n",
    "\n",
    "hierarchy = bnl.Hierarchy(layers=[coarse_level, medium_level, fine_level])\n",
    "\n",
    "print(f\"Hierarchy: {hierarchy}\")\n",
    "print(f\"Number of levels: {len(hierarchy)}\")\n",
    "print(f\"Labels by level: {hierarchy.labels}\")\n",
    "\n",
    "# Access individual levels\n",
    "print(f\"\\nCoarsest level: {hierarchy[0]}\")\n",
    "print(f\"Finest level: {hierarchy[2]}\")\n",
    "\n",
    "# Get all boundaries across levels\n",
    "print(f\"Boundaries by level: {hierarchy.bdrys}\")\n"
   ]
  },
  {
   "cell_type": "markdown",
   "metadata": {
    "vscode": {
     "languageId": "raw"
    }
   },
   "source": [
    "## 6. Working with SALAMI Dataset\n",
    "\n",
    "BNL includes built-in support for the SALAMI music structure dataset:\n"
   ]
  },
  {
   "cell_type": "code",
   "execution_count": 12,
   "metadata": {},
   "outputs": [
    {
     "name": "stdout",
     "output_type": "stream",
     "text": [
      "Found 1359 SALAMI tracks\n",
      "Example track IDs: ['2', '3', '4', '5', '6']\n",
      "\n",
      "Loaded track: SALAMI Track(2 (The Smashing Pumpkins - For God And Country), 264.9s)\n",
      "Artist: The Smashing Pumpkins\n",
      "Title: For God And Country\n",
      "Duration: 264.9 seconds\n",
      "JAMS annotations: 8 annotation types\n"
     ]
    }
   ],
   "source": [
    "# List available track IDs (if dataset is available locally)\n",
    "track_ids = data.slm.list_tids()\n",
    "print(f\"Found {len(track_ids)} SALAMI tracks\")\n",
    "if track_ids:\n",
    "    print(f\"Example track IDs: {track_ids[:5]}\")\n",
    "\n",
    "# Try to load a track (if available)\n",
    "if track_ids:\n",
    "    try:\n",
    "        # Load the first available track\n",
    "        track = data.slm.load_track(track_ids[0])\n",
    "        print(f\"\\nLoaded track: {track}\")\n",
    "        \n",
    "        # Access track information\n",
    "        info = track.info\n",
    "        print(f\"Artist: {info.get('artist', 'Unknown')}\")\n",
    "        print(f\"Title: {info.get('title', 'Unknown')}\")\n",
    "        print(f\"Duration: {info.get('duration', 0):.1f} seconds\")\n",
    "        \n",
    "        # Access JAMS annotations\n",
    "        jams_data = track.jams\n",
    "        print(f\"JAMS annotations: {len(jams_data.annotations)} annotation types\")\n",
    "        \n",
    "    except Exception as e:\n",
    "        print(f\"Could not load track data: {e}\")\n",
    "        print(\"This is normal if SALAMI dataset is not locally available\")\n",
    "else:\n",
    "    print(\"No SALAMI tracks found. This is normal if the dataset is not installed locally.\")\n",
    "    print(\"You can still use all other BNL features with your own data!\")\n"
   ]
  },
  {
   "cell_type": "markdown",
   "metadata": {
    "vscode": {
     "languageId": "raw"
    }
   },
   "source": [
    "## 7. Custom Dataset Configuration\n",
    "\n",
    "Configure BNL to work with your own dataset paths:\n"
   ]
  },
  {
   "cell_type": "code",
   "execution_count": 13,
   "metadata": {},
   "outputs": [
    {
     "name": "stdout",
     "output_type": "stream",
     "text": [
      "Current data root: /Users/xi/data\n",
      "SALAMI annotations: /Users/xi/data/salami-jams\n",
      "\n",
      "Custom config created: /path/to/your/music/data\n",
      "You can set this config globally with: data.set_config(custom_config)\n",
      "Path type: <class 'pathlib.PosixPath'>\n"
     ]
    }
   ],
   "source": [
    "# Get current configuration\n",
    "current_config = data.get_config()\n",
    "print(f\"Current data root: {current_config.data_root}\")\n",
    "print(f\"SALAMI annotations: {current_config.salami_annotations_dir}\")\n",
    "\n",
    "# Create custom configuration (example)\n",
    "custom_config = data.base.DatasetConfig(\n",
    "    data_root=\"/path/to/your/music/data\",\n",
    "    salami_annotations_dir=\"/path/to/salami/jams\",\n",
    "    salami_audio_dir=\"/path/to/salami/audio\"\n",
    ")\n",
    "\n",
    "print(f\"\\nCustom config created: {custom_config.data_root}\")\n",
    "print(\"You can set this config globally with: data.set_config(custom_config)\")\n",
    "\n",
    "# The config system handles Path conversion automatically\n",
    "print(f\"Path type: {type(custom_config.data_root)}\")\n"
   ]
  },
  {
   "cell_type": "markdown",
   "metadata": {
    "vscode": {
     "languageId": "raw"
    }
   },
   "source": [
    "## 8. Robust Design & Error Handling\n",
    "\n",
    "BNL includes comprehensive validation and graceful error handling:\n"
   ]
  },
  {
   "cell_type": "code",
   "execution_count": 14,
   "metadata": {},
   "outputs": [
    {
     "name": "stdout",
     "output_type": "stream",
     "text": [
      "✅ Validation caught error: Start time (10.0) must be less than end time (5.0)\n",
      "\n",
      "Empty segmentation: Segmentation(0 segments): []\n",
      "Empty boundaries: []\n",
      "Empty intervals shape: (0,)\n"
     ]
    },
    {
     "name": "stderr",
     "output_type": "stream",
     "text": [
      "/Users/xi/code/bnl/src/bnl/viz.py:185: UserWarning: Attempting to set identical low and high xlims makes transformation singular; automatically expanding.\n",
      "  ax.set_xlim(t_start, t_end)\n"
     ]
    },
    {
     "data": {
      "image/png": "[encoded data removed]",
      "text/plain": [
       "<Figure size 800x200 with 1 Axes>"
      ]
     },
     "metadata": {},
     "output_type": "display_data"
    },
    {
     "name": "stdout",
     "output_type": "stream",
     "text": [
      "\\nLoading multiple tracks (some may fail gracefully):\n",
      "Warning: Could not load track 999999: JAMS file not found: /Users/xi/data/salami-jams/999999.jams\n",
      "Warning: Could not load track 999998: JAMS file not found: /Users/xi/data/salami-jams/999998.jams\n",
      "Successfully loaded: 0 tracks\n"
     ]
    }
   ],
   "source": [
    "# Input validation\n",
    "try:\n",
    "    invalid_span = bnl.TimeSpan(start=10.0, end=5.0)  # Invalid: start > end\n",
    "except ValueError as e:\n",
    "    print(f\"✅ Validation caught error: {e}\")\n",
    "\n",
    "# Empty segmentation handling\n",
    "empty_seg = bnl.Segmentation()\n",
    "print(f\"\\nEmpty segmentation: {empty_seg}\")\n",
    "print(f\"Empty boundaries: {empty_seg.bdrys}\")\n",
    "print(f\"Empty intervals shape: {empty_seg.itvls.shape}\")\n",
    "\n",
    "# Visualize empty segmentation\n",
    "fig, ax = plt.subplots(figsize=(8, 2))\n",
    "bnl.viz.plot_segment(empty_seg, ax=ax, title=True)\n",
    "ax.set_title(\"Empty Segmentation Handling\")\n",
    "plt.tight_layout()\n",
    "plt.show()\n",
    "\n",
    "# Multiple track loading with error handling\n",
    "print(\"\\\\nLoading multiple tracks (some may fail gracefully):\")\n",
    "test_tracks = data.slm.load_tracks([\"999999\", \"999998\"])  # Non-existent tracks\n",
    "print(f\"Successfully loaded: {len(test_tracks)} tracks\")\n"
   ]
  },
  {
   "cell_type": "markdown",
   "metadata": {
    "vscode": {
     "languageId": "raw"
    }
   },
   "source": [
    "## 🎉 Summary\n",
    "\n",
    "**BNL provides a complete toolkit for music segmentation analysis:**\n",
    "\n",
    "### Core Features ✅\n",
    "- **TimeSpan**: Basic labeled time intervals with validation\n",
    "- **Segmentation**: Collections of segments with rich properties\n",
    "- **Hierarchy**: Multi-level segmentation structures\n",
    "- **Construction utilities**: `Segmentation.from_boundaries()`, `Segmentation.from_intervals()`\n",
    "\n",
    "### Visualization ✅  \n",
    "- **Rich plotting**: Automatic styling and customization\n",
    "- **Comparative analysis**: Multi-level visualization\n",
    "- **Error-friendly**: Graceful handling of edge cases\n",
    "\n",
    "### Dataset Integration ✅\n",
    "- **SALAMI support**: Built-in dataset loading\n",
    "- **Flexible configuration**: Custom data paths\n",
    "- **Robust error handling**: Graceful degradation when data unavailable\n",
    "\n",
    "### Development-Ready ✅\n",
    "- **99%+ test coverage**: Thoroughly tested codebase\n",
    "- **Type hints**: Full static analysis support  \n",
    "- **Comprehensive docs**: Sphinx documentation\n",
    "- **Clean API**: Intuitive and consistent interface\n",
    "\n",
    "**Ready for your music analysis projects!** 🎵\n"
   ]
  },
  {
   "cell_type": "raw",
   "metadata": {},
   "source": []
  }
 ],
 "metadata": {
  "kernelspec": {
   "display_name": "py311",
   "language": "python",
   "name": "python3"
  },
  "language_info": {
   "codemirror_mode": {
    "name": "ipython",
    "version": 3
   },
   "file_extension": ".py",
   "mimetype": "text/x-python",
   "name": "python",
   "nbconvert_exporter": "python",
   "pygments_lexer": "ipython3",
   "version": "3.11.13"
  }
 },
 "nbformat": 4,
 "nbformat_minor": 2
}
