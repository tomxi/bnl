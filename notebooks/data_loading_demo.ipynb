{
  "cells": [
    {
      "cell_type": "raw",
      "metadata": {
        "vscode": {
          "languageId": "raw"
        }
      },
      "source": [
        "# BNL Data Loading Demo\n",
        "\n",
        "This notebook demonstrates how to use BNL's data loading functionality to work with the SALAMI dataset.\n"
      ]
    },
    {
      "cell_type": "code",
      "execution_count": null,
      "metadata": {},
      "outputs": [],
      "source": [
        "import bnl\n",
        "import bnl.data as data\n",
        "import matplotlib.pyplot as plt\n"
      ]
    },
    {
      "cell_type": "raw",
      "metadata": {
        "vscode": {
          "languageId": "raw"
        }
      },
      "source": [
        "## 1. Discovering Available Data\n",
        "\n",
        "First, let's see what SALAMI tracks are available in your local dataset:\n"
      ]
    },
    {
      "cell_type": "code",
      "execution_count": null,
      "metadata": {},
      "outputs": [],
      "source": [
        "# List all available tracks\n",
        "available_tracks = data.salami_info()\n",
        "print(f\"Found {len(available_tracks)} SALAMI tracks\")\n",
        "print(f\"Track IDs range from {available_tracks[0]} to {available_tracks[-1]}\")\n"
      ]
    },
    {
      "cell_type": "raw",
      "metadata": {
        "vscode": {
          "languageId": "raw"
        }
      },
      "source": [
        "## 2. Loading a Single Track\n",
        "\n",
        "Let's load one track and explore its annotations:\n"
      ]
    },
    {
      "cell_type": "code",
      "execution_count": null,
      "metadata": {},
      "outputs": [],
      "source": [
        "# Load a track\n",
        "track_id = \"10\"  # The Cure - How Beautiful You Are\n",
        "track = data.load_salami_track(track_id)\n",
        "\n",
        "print(f\"Loaded: {track}\")\n",
        "print(f\"Duration: {track.duration:.1f} seconds\")\n",
        "print(f\"Audio available: {track.audio_path is not None}\")\n"
      ]
    }
  ],
  "metadata": {
    "language_info": {
      "name": "python"
    }
  },
  "nbformat": 4,
  "nbformat_minor": 2
}
