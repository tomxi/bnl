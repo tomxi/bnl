{
 "cells": [
  {
   "cell_type": "code",
   "execution_count": null,
   "id": "de2a2c3e",
   "metadata": {},
   "outputs": [],
   "source": [
    "%load_ext autoreload\n",
    "%autoreload 2\n",
    "\n",
    "# I want to look at first how beta in f-measure work\n",
    "from mir_eval.util import f_measure\n",
    "import bnl"
   ]
  },
  {
   "cell_type": "code",
   "execution_count": null,
   "id": "e1202630",
   "metadata": {},
   "outputs": [],
   "source": [
    "# Get an example track\n",
    "slm_ds = bnl.Dataset('~/data/salami/metadata.csv')\n",
    "slm_track = slm_ds[667]\n",
    "\n",
    "ref = list(slm_track.refs.values())[0]\n",
    "est = slm_track.ests['mu1gamma9'].align(ref)\n",
    "\n",
    "ref_bc = ref.contour('depth')\n",
    "est_bc = est.contour('prob').clean('kde').level('mean_shift')\n",
    "\n",
    "ref.plot().show()\n",
    "est.plot().show()\n",
    "\n",
    "ref_bc.plot().show()\n",
    "est_bc.plot().show()\n",
    "\n"
   ]
  },
  {
   "cell_type": "code",
   "execution_count": null,
   "id": "89738080",
   "metadata": {},
   "outputs": [],
   "source": [
    "bnl.metrics.bmeasure(ref_bc, est_bc, matched_poa=False, trim=False, raw=True)"
   ]
  },
  {
   "cell_type": "code",
   "execution_count": null,
   "id": "ebb8e81f",
   "metadata": {},
   "outputs": [],
   "source": [
    "bnl.metrics.bmeasure(ref_bc, est_bc, matched_poa=False, trim=False, raw=True)"
   ]
  },
  {
   "cell_type": "code",
   "execution_count": null,
   "id": "1c6cb818",
   "metadata": {},
   "outputs": [],
   "source": [
    "bnl.metrics.bmeasure(ref_bc, est_bc, matched_poa=True, trim=True, raw=True)"
   ]
  },
  {
   "cell_type": "code",
   "execution_count": null,
   "id": "cfbdafe2",
   "metadata": {},
   "outputs": [],
   "source": [
    "bnl.metrics.bmeasure(ref_bc, est_bc, matched_poa=True, trim=True, raw=True)"
   ]
  },
  {
   "cell_type": "code",
   "execution_count": null,
   "id": "3499bbdc",
   "metadata": {},
   "outputs": [],
   "source": [
    "bnl.metrics.bmeasure_suite(ref_bc, est_bc, trim=False).pivot_table(\n",
    "    index=[\"track_id\", \"window\"], columns=[ \"prf\", \"metric\"], values=\"score\"\n",
    ")"
   ]
  },
  {
   "cell_type": "code",
   "execution_count": null,
   "id": "bd7c3487",
   "metadata": {},
   "outputs": [],
   "source": [
    "bnl.metrics.bmeasure_suite(ref_bc, est_bc, trim=True).pivot_table(\n",
    "    index=[\"track_id\", \"window\"], columns=[ \"prf\", \"metric\"], values=\"score\"\n",
    ")"
   ]
  },
  {
   "cell_type": "code",
   "execution_count": null,
   "id": "608969be",
   "metadata": {},
   "outputs": [],
   "source": [
    "hr = 0.3\n",
    "poa = 0.8\n",
    "psr_list = [1e-3, 0.05, 0.1, 0.25, 0.5, 0.75, 0.95, 0.999]\n",
    "\n",
    "for psr in psr_list:\n",
    "    hm = f_measure(hr, poa, beta=psr)\n",
    "    gm = (poa**psr * hr)**(1/(1+psr))\n",
    "    print(f\"PSR: {psr:.3f}, HM: {hm:.3f}, GM: {gm:.3f}\")"
   ]
  },
  {
   "cell_type": "code",
   "execution_count": null,
   "id": "6bd11ed5",
   "metadata": {},
   "outputs": [],
   "source": [
    "hr = 0.1\n",
    "poa = 0.8\n",
    "psr_list = [0.05, 0.2, 0.5, 0.8, 1]\n",
    "\n",
    "for psr in psr_list:\n",
    "    hm = f_measure(hr, poa, beta=psr)\n",
    "    hm_sqrt = f_measure(hr, poa, beta=psr**0.5)\n",
    "    gm = (poa**psr * hr)**(1/(1+psr))\n",
    "    gm_test = bnl.metrics.geom_mean(hr, poa, beta=psr)\n",
    "    print(f\"PSR: {psr:.3f}, HM: {hm:.3f}, HM_SQRT: {hm_sqrt:.3f}, GM: {gm:.3f}, GM_TEST: {gm_test:.3f}\")"
   ]
  },
  {
   "cell_type": "code",
   "execution_count": null,
   "id": "6ab06b11",
   "metadata": {},
   "outputs": [],
   "source": [
    "hr = 0.8\n",
    "poa = 0.1\n",
    "psr_list = [0.05, 0.2, 0.5, 0.8, 1]\n",
    "\n",
    "for psr in psr_list:\n",
    "    hm = f_measure(hr, poa, beta=psr)\n",
    "    hm_sqrt = f_measure(hr, poa, beta=psr**0.5)\n",
    "    gm = (poa**psr * hr)**(1/(1+psr))\n",
    "    gm_sq = bnl.metrics.geom_mean(hr, poa, beta=psr)\n",
    "    print(f\"PSR: {psr:.3f}, HM: {hm:.3f}, HM_SQRT: {hm_sqrt:.3f}, GM: {gm:.3f}, GM_SQ: {gm_sq:.3f}\")"
   ]
  },
  {
   "cell_type": "code",
   "execution_count": null,
   "id": "2eaa7d10",
   "metadata": {},
   "outputs": [],
   "source": []
  }
 ],
 "metadata": {
  "kernelspec": {
   "display_name": "py311",
   "language": "python",
   "name": "python3"
  },
  "language_info": {
   "codemirror_mode": {
    "name": "ipython",
    "version": 3
   },
   "file_extension": ".py",
   "mimetype": "text/x-python",
   "name": "python",
   "nbconvert_exporter": "python",
   "pygments_lexer": "ipython3",
   "version": "3.11.13"
  }
 },
 "nbformat": 4,
 "nbformat_minor": 5
}
