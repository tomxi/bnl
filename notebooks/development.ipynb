{
 "cells": [
  {
   "cell_type": "markdown",
   "metadata": {},
   "source": [
    "# BNL Development Notebook\n",
    "\n",
    "This notebook is for developing and testing the BNL package.\n"
   ]
  },
  {
   "cell_type": "code",
   "execution_count": null,
   "metadata": {},
   "outputs": [],
   "source": [
    "%load_ext autoreload\n",
    "%autoreload 2\n",
    "\n",
    "import bnl\n",
    "\n",
    "# R2_BUCKET_PUBLIC_URL = \"https://pub-05e404c031184ec4bbf69b0c2321b98e.r2.dev\"\n",
    "\n",
    "# slm_ds = bnl.data.Dataset(manifest_path=f\"{R2_BUCKET_PUBLIC_URL}/manifest_cloud_boolean.csv\")\n",
    "slm_ds = bnl.data.Dataset(manifest_path=\"~/data/salami/metadata.csv\")\n",
    "track = slm_ds[8]\n",
    "est = track.load_annotation(\"adobe-mu1gamma1\")\n",
    "ref = track.load_annotation(\"reference\")"
   ]
  },
  {
   "cell_type": "code",
   "execution_count": null,
   "metadata": {},
   "outputs": [],
   "source": [
    "ref.plot().show()\n",
    "est.plot().show()"
   ]
  },
  {
   "cell_type": "code",
   "execution_count": null,
   "metadata": {},
   "outputs": [],
   "source": [
    "est.to_contour().plot()"
   ]
  },
  {
   "cell_type": "code",
   "execution_count": null,
   "metadata": {},
   "outputs": [],
   "source": []
  },
  {
   "cell_type": "code",
   "execution_count": null,
   "metadata": {},
   "outputs": [],
   "source": []
  },
  {
   "cell_type": "code",
   "execution_count": null,
   "metadata": {},
   "outputs": [],
   "source": []
  }
 ],
 "metadata": {
  "kernelspec": {
   "display_name": "default",
   "language": "python",
   "name": "python3"
  },
  "language_info": {
   "codemirror_mode": {
    "name": "ipython",
    "version": 3
   },
   "file_extension": ".py",
   "mimetype": "text/x-python",
   "name": "python",
   "nbconvert_exporter": "python",
   "pygments_lexer": "ipython3",
   "version": "3.12.11"
  }
 },
 "nbformat": 4,
 "nbformat_minor": 2
}
