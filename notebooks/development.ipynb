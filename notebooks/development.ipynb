{
 "cells": [
  {
   "cell_type": "markdown",
   "metadata": {},
   "source": [
    "# BNL Development Notebook\n",
    "\n",
    "This notebook is for developing and testing the BNL package.\n"
   ]
  },
  {
   "cell_type": "code",
   "execution_count": 1,
   "metadata": {},
   "outputs": [],
   "source": [
    "%load_ext autoreload\n",
    "%autoreload 2"
   ]
  },
  {
   "cell_type": "code",
   "execution_count": 2,
   "metadata": {},
   "outputs": [
    {
     "name": "stdout",
     "output_type": "stream",
     "text": [
      "703 ['6', '5'] ['mu1gamma1', 'mu1gamma9', 'mu5gamma5']\n"
     ]
    }
   ],
   "source": [
    "import bnl\n",
    "from random import choice\n",
    "\n",
    "slm_ds = bnl.data.Dataset(manifest_path=\"~/data/salami/metadata.csv\")\n",
    "track = choice(slm_ds)\n",
    "\n",
    "available_refs = list(track.refs)\n",
    "available_ests = list(track.ests)\n",
    "print(track.track_id, available_refs, available_ests)\n",
    "\n",
    "est = track.ests[choice(available_ests)]\n",
    "ref = track.refs[choice(available_refs)]"
   ]
  },
  {
   "cell_type": "code",
   "execution_count": 3,
   "metadata": {},
   "outputs": [],
   "source": [
    "# I want to test the localmax call and peak_indices etc...\n",
    "\n",
    "kde_strat = bnl.ops.CleanByKDE(bw=1.0)"
   ]
  },
  {
   "cell_type": "code",
   "execution_count": 4,
   "metadata": {},
   "outputs": [
    {
     "data": {
      "application/vnd.plotly.v1+json": {
       "config": {
        "plotlyServerURL": "https://plot.ly"
       },
       "data": [
        {
         "hovertemplate": "<b>Boundary</b><br>Time: %{x:.3f}s<br>Salience: %{y:.3f}<extra></extra>",
         "line": {
          "color": "#666",
          "width": 1
         },
         "mode": "lines",
         "type": "scatter",
         "x": [
          17.34,
          17.34,
          null,
          38.33,
          38.33,
          null,
          49.92,
          49.92,
          null,
          50.62,
          50.62,
          null,
          60.8,
          60.8,
          null,
          61.47,
          61.47,
          null,
          82.87,
          82.87,
          null,
          83.54,
          83.54,
          null,
          98.63,
          98.63,
          null,
          120.64,
          120.64,
          null,
          121.31,
          121.31,
          null,
          122.02,
          122.02,
          null,
          142.66,
          142.66,
          null,
          144.68,
          144.68,
          null,
          146.74,
          146.74,
          null,
          156.98,
          156.98,
          null,
          158.34,
          158.34,
          null,
          159.03,
          159.03,
          null,
          175.47,
          175.47,
          null,
          183.66,
          183.66,
          null,
          197.36,
          197.36,
          null,
          198.02,
          198.02,
          null,
          198.67,
          198.67,
          null,
          212.1,
          212.1,
          null,
          212.76,
          212.76,
          null,
          214.08,
          214.08,
          null,
          214.76,
          214.76,
          null,
          225.61,
          225.61,
          null,
          233.69,
          233.69,
          null,
          234.36,
          234.36,
          null,
          235.66,
          235.66,
          null,
          249.92,
          249.92,
          null,
          251.25,
          251.25,
          null,
          251.9,
          251.9,
          null,
          252.61,
          252.61,
          null,
          289.47,
          289.47,
          null,
          290.12,
          290.12,
          null,
          290.81,
          290.81,
          null
         ],
         "y": [
          0,
          1.2898692810457517,
          null,
          0,
          1.7898692810457515,
          null,
          0,
          0.1843137254901961,
          null,
          0,
          0.13333333333333333,
          null,
          0,
          0.1843137254901961,
          null,
          0,
          0.43888888888888883,
          null,
          0,
          0.25098039215686274,
          null,
          0,
          0.06666666666666667,
          null,
          0,
          0.623202614379085,
          null,
          0,
          0.11764705882352941,
          null,
          0,
          0.13333333333333333,
          null,
          0,
          0.3722222222222222,
          null,
          0,
          0.25882352941176473,
          null,
          0,
          0.08333333333333333,
          null,
          0,
          0.058823529411764705,
          null,
          0,
          0.058823529411764705,
          null,
          0,
          0.08333333333333333,
          null,
          0,
          0.4810457516339869,
          null,
          0,
          0.11764705882352941,
          null,
          0,
          0.11764705882352941,
          null,
          0,
          0.06666666666666667,
          null,
          0,
          0.2676470588235294,
          null,
          0,
          0.06666666666666667,
          null,
          0,
          0.06666666666666667,
          null,
          0,
          0.08333333333333333,
          null,
          0,
          0.06666666666666667,
          null,
          0,
          0.1843137254901961,
          null,
          0,
          0.31764705882352945,
          null,
          0,
          0.058823529411764705,
          null,
          0,
          0.19215686274509802,
          null,
          0,
          0.3722222222222222,
          null,
          0,
          0.06666666666666667,
          null,
          0,
          0.3055555555555555,
          null,
          0,
          0.19215686274509802,
          null,
          0,
          0.058823529411764705,
          null,
          0,
          0.08333333333333333,
          null,
          0,
          0.873202614379085,
          null,
          0,
          0.8333333333333333,
          null
         ]
        }
       ],
       "layout": {
        "height": 300,
        "margin": {
         "b": 20,
         "l": 20,
         "r": 20,
         "t": 40
        },
        "shapes": [
         {
          "line": {
           "color": "#666",
           "width": 1
          },
          "opacity": 0.8,
          "type": "line",
          "x0": 0,
          "x1": 1,
          "xref": "x domain",
          "y0": 0,
          "y1": 0,
          "yref": "y"
         }
        ],
        "showlegend": false,
        "template": {
         "data": {
          "bar": [
           {
            "error_x": {
             "color": "#2a3f5f"
            },
            "error_y": {
             "color": "#2a3f5f"
            },
            "marker": {
             "line": {
              "color": "#E5ECF6",
              "width": 0.5
             },
             "pattern": {
              "fillmode": "overlay",
              "size": 10,
              "solidity": 0.2
             }
            },
            "type": "bar"
           }
          ],
          "barpolar": [
           {
            "marker": {
             "line": {
              "color": "#E5ECF6",
              "width": 0.5
             },
             "pattern": {
              "fillmode": "overlay",
              "size": 10,
              "solidity": 0.2
             }
            },
            "type": "barpolar"
           }
          ],
          "carpet": [
           {
            "aaxis": {
             "endlinecolor": "#2a3f5f",
             "gridcolor": "white",
             "linecolor": "white",
             "minorgridcolor": "white",
             "startlinecolor": "#2a3f5f"
            },
            "baxis": {
             "endlinecolor": "#2a3f5f",
             "gridcolor": "white",
             "linecolor": "white",
             "minorgridcolor": "white",
             "startlinecolor": "#2a3f5f"
            },
            "type": "carpet"
           }
          ],
          "choropleth": [
           {
            "colorbar": {
             "outlinewidth": 0,
             "ticks": ""
            },
            "type": "choropleth"
           }
          ],
          "contour": [
           {
            "colorbar": {
             "outlinewidth": 0,
             "ticks": ""
            },
            "colorscale": [
             [
              0,
              "#0d0887"
             ],
             [
              0.1111111111111111,
              "#46039f"
             ],
             [
              0.2222222222222222,
              "#7201a8"
             ],
             [
              0.3333333333333333,
              "#9c179e"
             ],
             [
              0.4444444444444444,
              "#bd3786"
             ],
             [
              0.5555555555555556,
              "#d8576b"
             ],
             [
              0.6666666666666666,
              "#ed7953"
             ],
             [
              0.7777777777777778,
              "#fb9f3a"
             ],
             [
              0.8888888888888888,
              "#fdca26"
             ],
             [
              1,
              "#f0f921"
             ]
            ],
            "type": "contour"
           }
          ],
          "contourcarpet": [
           {
            "colorbar": {
             "outlinewidth": 0,
             "ticks": ""
            },
            "type": "contourcarpet"
           }
          ],
          "heatmap": [
           {
            "colorbar": {
             "outlinewidth": 0,
             "ticks": ""
            },
            "colorscale": [
             [
              0,
              "#0d0887"
             ],
             [
              0.1111111111111111,
              "#46039f"
             ],
             [
              0.2222222222222222,
              "#7201a8"
             ],
             [
              0.3333333333333333,
              "#9c179e"
             ],
             [
              0.4444444444444444,
              "#bd3786"
             ],
             [
              0.5555555555555556,
              "#d8576b"
             ],
             [
              0.6666666666666666,
              "#ed7953"
             ],
             [
              0.7777777777777778,
              "#fb9f3a"
             ],
             [
              0.8888888888888888,
              "#fdca26"
             ],
             [
              1,
              "#f0f921"
             ]
            ],
            "type": "heatmap"
           }
          ],
          "histogram": [
           {
            "marker": {
             "pattern": {
              "fillmode": "overlay",
              "size": 10,
              "solidity": 0.2
             }
            },
            "type": "histogram"
           }
          ],
          "histogram2d": [
           {
            "colorbar": {
             "outlinewidth": 0,
             "ticks": ""
            },
            "colorscale": [
             [
              0,
              "#0d0887"
             ],
             [
              0.1111111111111111,
              "#46039f"
             ],
             [
              0.2222222222222222,
              "#7201a8"
             ],
             [
              0.3333333333333333,
              "#9c179e"
             ],
             [
              0.4444444444444444,
              "#bd3786"
             ],
             [
              0.5555555555555556,
              "#d8576b"
             ],
             [
              0.6666666666666666,
              "#ed7953"
             ],
             [
              0.7777777777777778,
              "#fb9f3a"
             ],
             [
              0.8888888888888888,
              "#fdca26"
             ],
             [
              1,
              "#f0f921"
             ]
            ],
            "type": "histogram2d"
           }
          ],
          "histogram2dcontour": [
           {
            "colorbar": {
             "outlinewidth": 0,
             "ticks": ""
            },
            "colorscale": [
             [
              0,
              "#0d0887"
             ],
             [
              0.1111111111111111,
              "#46039f"
             ],
             [
              0.2222222222222222,
              "#7201a8"
             ],
             [
              0.3333333333333333,
              "#9c179e"
             ],
             [
              0.4444444444444444,
              "#bd3786"
             ],
             [
              0.5555555555555556,
              "#d8576b"
             ],
             [
              0.6666666666666666,
              "#ed7953"
             ],
             [
              0.7777777777777778,
              "#fb9f3a"
             ],
             [
              0.8888888888888888,
              "#fdca26"
             ],
             [
              1,
              "#f0f921"
             ]
            ],
            "type": "histogram2dcontour"
           }
          ],
          "mesh3d": [
           {
            "colorbar": {
             "outlinewidth": 0,
             "ticks": ""
            },
            "type": "mesh3d"
           }
          ],
          "parcoords": [
           {
            "line": {
             "colorbar": {
              "outlinewidth": 0,
              "ticks": ""
             }
            },
            "type": "parcoords"
           }
          ],
          "pie": [
           {
            "automargin": true,
            "type": "pie"
           }
          ],
          "scatter": [
           {
            "fillpattern": {
             "fillmode": "overlay",
             "size": 10,
             "solidity": 0.2
            },
            "type": "scatter"
           }
          ],
          "scatter3d": [
           {
            "line": {
             "colorbar": {
              "outlinewidth": 0,
              "ticks": ""
             }
            },
            "marker": {
             "colorbar": {
              "outlinewidth": 0,
              "ticks": ""
             }
            },
            "type": "scatter3d"
           }
          ],
          "scattercarpet": [
           {
            "marker": {
             "colorbar": {
              "outlinewidth": 0,
              "ticks": ""
             }
            },
            "type": "scattercarpet"
           }
          ],
          "scattergeo": [
           {
            "marker": {
             "colorbar": {
              "outlinewidth": 0,
              "ticks": ""
             }
            },
            "type": "scattergeo"
           }
          ],
          "scattergl": [
           {
            "marker": {
             "colorbar": {
              "outlinewidth": 0,
              "ticks": ""
             }
            },
            "type": "scattergl"
           }
          ],
          "scattermap": [
           {
            "marker": {
             "colorbar": {
              "outlinewidth": 0,
              "ticks": ""
             }
            },
            "type": "scattermap"
           }
          ],
          "scattermapbox": [
           {
            "marker": {
             "colorbar": {
              "outlinewidth": 0,
              "ticks": ""
             }
            },
            "type": "scattermapbox"
           }
          ],
          "scatterpolar": [
           {
            "marker": {
             "colorbar": {
              "outlinewidth": 0,
              "ticks": ""
             }
            },
            "type": "scatterpolar"
           }
          ],
          "scatterpolargl": [
           {
            "marker": {
             "colorbar": {
              "outlinewidth": 0,
              "ticks": ""
             }
            },
            "type": "scatterpolargl"
           }
          ],
          "scatterternary": [
           {
            "marker": {
             "colorbar": {
              "outlinewidth": 0,
              "ticks": ""
             }
            },
            "type": "scatterternary"
           }
          ],
          "surface": [
           {
            "colorbar": {
             "outlinewidth": 0,
             "ticks": ""
            },
            "colorscale": [
             [
              0,
              "#0d0887"
             ],
             [
              0.1111111111111111,
              "#46039f"
             ],
             [
              0.2222222222222222,
              "#7201a8"
             ],
             [
              0.3333333333333333,
              "#9c179e"
             ],
             [
              0.4444444444444444,
              "#bd3786"
             ],
             [
              0.5555555555555556,
              "#d8576b"
             ],
             [
              0.6666666666666666,
              "#ed7953"
             ],
             [
              0.7777777777777778,
              "#fb9f3a"
             ],
             [
              0.8888888888888888,
              "#fdca26"
             ],
             [
              1,
              "#f0f921"
             ]
            ],
            "type": "surface"
           }
          ],
          "table": [
           {
            "cells": {
             "fill": {
              "color": "#EBF0F8"
             },
             "line": {
              "color": "white"
             }
            },
            "header": {
             "fill": {
              "color": "#C8D4E3"
             },
             "line": {
              "color": "white"
             }
            },
            "type": "table"
           }
          ]
         },
         "layout": {
          "annotationdefaults": {
           "arrowcolor": "#2a3f5f",
           "arrowhead": 0,
           "arrowwidth": 1
          },
          "autotypenumbers": "strict",
          "coloraxis": {
           "colorbar": {
            "outlinewidth": 0,
            "ticks": ""
           }
          },
          "colorscale": {
           "diverging": [
            [
             0,
             "#8e0152"
            ],
            [
             0.1,
             "#c51b7d"
            ],
            [
             0.2,
             "#de77ae"
            ],
            [
             0.3,
             "#f1b6da"
            ],
            [
             0.4,
             "#fde0ef"
            ],
            [
             0.5,
             "#f7f7f7"
            ],
            [
             0.6,
             "#e6f5d0"
            ],
            [
             0.7,
             "#b8e186"
            ],
            [
             0.8,
             "#7fbc41"
            ],
            [
             0.9,
             "#4d9221"
            ],
            [
             1,
             "#276419"
            ]
           ],
           "sequential": [
            [
             0,
             "#0d0887"
            ],
            [
             0.1111111111111111,
             "#46039f"
            ],
            [
             0.2222222222222222,
             "#7201a8"
            ],
            [
             0.3333333333333333,
             "#9c179e"
            ],
            [
             0.4444444444444444,
             "#bd3786"
            ],
            [
             0.5555555555555556,
             "#d8576b"
            ],
            [
             0.6666666666666666,
             "#ed7953"
            ],
            [
             0.7777777777777778,
             "#fb9f3a"
            ],
            [
             0.8888888888888888,
             "#fdca26"
            ],
            [
             1,
             "#f0f921"
            ]
           ],
           "sequentialminus": [
            [
             0,
             "#0d0887"
            ],
            [
             0.1111111111111111,
             "#46039f"
            ],
            [
             0.2222222222222222,
             "#7201a8"
            ],
            [
             0.3333333333333333,
             "#9c179e"
            ],
            [
             0.4444444444444444,
             "#bd3786"
            ],
            [
             0.5555555555555556,
             "#d8576b"
            ],
            [
             0.6666666666666666,
             "#ed7953"
            ],
            [
             0.7777777777777778,
             "#fb9f3a"
            ],
            [
             0.8888888888888888,
             "#fdca26"
            ],
            [
             1,
             "#f0f921"
            ]
           ]
          },
          "colorway": [
           "#636efa",
           "#EF553B",
           "#00cc96",
           "#ab63fa",
           "#FFA15A",
           "#19d3f3",
           "#FF6692",
           "#B6E880",
           "#FF97FF",
           "#FECB52"
          ],
          "font": {
           "color": "#2a3f5f"
          },
          "geo": {
           "bgcolor": "white",
           "lakecolor": "white",
           "landcolor": "#E5ECF6",
           "showlakes": true,
           "showland": true,
           "subunitcolor": "white"
          },
          "hoverlabel": {
           "align": "left"
          },
          "hovermode": "closest",
          "mapbox": {
           "style": "light"
          },
          "paper_bgcolor": "white",
          "plot_bgcolor": "#E5ECF6",
          "polar": {
           "angularaxis": {
            "gridcolor": "white",
            "linecolor": "white",
            "ticks": ""
           },
           "bgcolor": "#E5ECF6",
           "radialaxis": {
            "gridcolor": "white",
            "linecolor": "white",
            "ticks": ""
           }
          },
          "scene": {
           "xaxis": {
            "backgroundcolor": "#E5ECF6",
            "gridcolor": "white",
            "gridwidth": 2,
            "linecolor": "white",
            "showbackground": true,
            "ticks": "",
            "zerolinecolor": "white"
           },
           "yaxis": {
            "backgroundcolor": "#E5ECF6",
            "gridcolor": "white",
            "gridwidth": 2,
            "linecolor": "white",
            "showbackground": true,
            "ticks": "",
            "zerolinecolor": "white"
           },
           "zaxis": {
            "backgroundcolor": "#E5ECF6",
            "gridcolor": "white",
            "gridwidth": 2,
            "linecolor": "white",
            "showbackground": true,
            "ticks": "",
            "zerolinecolor": "white"
           }
          },
          "shapedefaults": {
           "line": {
            "color": "#2a3f5f"
           }
          },
          "ternary": {
           "aaxis": {
            "gridcolor": "white",
            "linecolor": "white",
            "ticks": ""
           },
           "baxis": {
            "gridcolor": "white",
            "linecolor": "white",
            "ticks": ""
           },
           "bgcolor": "#E5ECF6",
           "caxis": {
            "gridcolor": "white",
            "linecolor": "white",
            "ticks": ""
           }
          },
          "title": {
           "x": 0.05
          },
          "xaxis": {
           "automargin": true,
           "gridcolor": "white",
           "linecolor": "white",
           "ticks": "",
           "title": {
            "standoff": 15
           },
           "zerolinecolor": "white",
           "zerolinewidth": 2
          },
          "yaxis": {
           "automargin": true,
           "gridcolor": "white",
           "linecolor": "white",
           "ticks": "",
           "title": {
            "standoff": 15
           },
           "zerolinecolor": "white",
           "zerolinewidth": 2
          }
         }
        },
        "title": {
         "text": "adobe-mu5gamma5",
         "x": 0.5
        },
        "width": 650,
        "xaxis": {
         "range": [
          0,
          320.88816
         ],
         "title": {
          "text": "Time (s)"
         }
        },
        "yaxis": {
         "title": {
          "text": "Salience"
         }
        }
       }
      }
     },
     "metadata": {},
     "output_type": "display_data"
    }
   ],
   "source": [
    "bc = est.contour(\"prob\")\n",
    "bc.plot()"
   ]
  },
  {
   "cell_type": "code",
   "execution_count": 5,
   "metadata": {},
   "outputs": [
    {
     "data": {
      "text/plain": [
       "BoundaryContour(start=RB(0.0, 0.06), end=RB(320.9, 0.06), name='adobe-mu5gamma5', bs=[RB(0.0, 0.06), RB(17.3, 0.05), RB(38.3, 0.06), RB(50.2, 0.01), RB(61.3, 0.02), RB(83.0, 0.01), RB(98.6, 0.02), RB(121.7, 0.02), RB(142.8, 0.01), RB(158.9, 0.02), RB(175.5, 0.00), RB(183.7, 0.00), RB(198.0, 0.01), RB(214.4, 0.01), RB(225.6, 0.01), RB(235.2, 0.02), RB(251.5, 0.02), RB(290.4, 0.06), RB(320.9, 0.06)])"
      ]
     },
     "execution_count": 5,
     "metadata": {},
     "output_type": "execute_result"
    }
   ],
   "source": [
    "kde_strat(bc)"
   ]
  },
  {
   "cell_type": "code",
   "execution_count": 7,
   "metadata": {},
   "outputs": [],
   "source": [
    "\n",
    "ticks = kde_strat._build_time_grid(bc, frame_size=0.1)\n",
    "log_density = kde_strat.time_kde.score_samples(ticks.reshape(-1, 1))"
   ]
  },
  {
   "cell_type": "code",
   "execution_count": 15,
   "metadata": {},
   "outputs": [
    {
     "data": {
      "application/vnd.plotly.v1+json": {
       "config": {
        "plotlyServerURL": "https://plot.ly"
       },
       "data": [
        {
         "hovertemplate": "variable=0<br>index=%{x}<br>value=%{y}<extra></extra>",
         "legendgroup": "0",
         "line": {
          "color": "#636efa",
          "dash": "solid"
         },
         "marker": {
          "symbol": "circle"
         },
         "mode": "lines",
         "name": "0",
         "showlegend": true,
         "type": "scattergl",
         "x": {
          "bdata": "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",
          "dtype": "i2"
         },
         "xaxis": "x",
         "y": {
          "bdata": "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",
          "dtype": "f8"
         },
         "yaxis": "y"
        }
       ],
       "layout": {
        "legend": {
         "title": {
          "text": "variable"
         },
         "tracegroupgap": 0
        },
        "margin": {
         "t": 60
        },
        "template": {
         "data": {
          "bar": [
           {
            "error_x": {
             "color": "#2a3f5f"
            },
            "error_y": {
             "color": "#2a3f5f"
            },
            "marker": {
             "line": {
              "color": "#E5ECF6",
              "width": 0.5
             },
             "pattern": {
              "fillmode": "overlay",
              "size": 10,
              "solidity": 0.2
             }
            },
            "type": "bar"
           }
          ],
          "barpolar": [
           {
            "marker": {
             "line": {
              "color": "#E5ECF6",
              "width": 0.5
             },
             "pattern": {
              "fillmode": "overlay",
              "size": 10,
              "solidity": 0.2
             }
            },
            "type": "barpolar"
           }
          ],
          "carpet": [
           {
            "aaxis": {
             "endlinecolor": "#2a3f5f",
             "gridcolor": "white",
             "linecolor": "white",
             "minorgridcolor": "white",
             "startlinecolor": "#2a3f5f"
            },
            "baxis": {
             "endlinecolor": "#2a3f5f",
             "gridcolor": "white",
             "linecolor": "white",
             "minorgridcolor": "white",
             "startlinecolor": "#2a3f5f"
            },
            "type": "carpet"
           }
          ],
          "choropleth": [
           {
            "colorbar": {
             "outlinewidth": 0,
             "ticks": ""
            },
            "type": "choropleth"
           }
          ],
          "contour": [
           {
            "colorbar": {
             "outlinewidth": 0,
             "ticks": ""
            },
            "colorscale": [
             [
              0,
              "#0d0887"
             ],
             [
              0.1111111111111111,
              "#46039f"
             ],
             [
              0.2222222222222222,
              "#7201a8"
             ],
             [
              0.3333333333333333,
              "#9c179e"
             ],
             [
              0.4444444444444444,
              "#bd3786"
             ],
             [
              0.5555555555555556,
              "#d8576b"
             ],
             [
              0.6666666666666666,
              "#ed7953"
             ],
             [
              0.7777777777777778,
              "#fb9f3a"
             ],
             [
              0.8888888888888888,
              "#fdca26"
             ],
             [
              1,
              "#f0f921"
             ]
            ],
            "type": "contour"
           }
          ],
          "contourcarpet": [
           {
            "colorbar": {
             "outlinewidth": 0,
             "ticks": ""
            },
            "type": "contourcarpet"
           }
          ],
          "heatmap": [
           {
            "colorbar": {
             "outlinewidth": 0,
             "ticks": ""
            },
            "colorscale": [
             [
              0,
              "#0d0887"
             ],
             [
              0.1111111111111111,
              "#46039f"
             ],
             [
              0.2222222222222222,
              "#7201a8"
             ],
             [
              0.3333333333333333,
              "#9c179e"
             ],
             [
              0.4444444444444444,
              "#bd3786"
             ],
             [
              0.5555555555555556,
              "#d8576b"
             ],
             [
              0.6666666666666666,
              "#ed7953"
             ],
             [
              0.7777777777777778,
              "#fb9f3a"
             ],
             [
              0.8888888888888888,
              "#fdca26"
             ],
             [
              1,
              "#f0f921"
             ]
            ],
            "type": "heatmap"
           }
          ],
          "histogram": [
           {
            "marker": {
             "pattern": {
              "fillmode": "overlay",
              "size": 10,
              "solidity": 0.2
             }
            },
            "type": "histogram"
           }
          ],
          "histogram2d": [
           {
            "colorbar": {
             "outlinewidth": 0,
             "ticks": ""
            },
            "colorscale": [
             [
              0,
              "#0d0887"
             ],
             [
              0.1111111111111111,
              "#46039f"
             ],
             [
              0.2222222222222222,
              "#7201a8"
             ],
             [
              0.3333333333333333,
              "#9c179e"
             ],
             [
              0.4444444444444444,
              "#bd3786"
             ],
             [
              0.5555555555555556,
              "#d8576b"
             ],
             [
              0.6666666666666666,
              "#ed7953"
             ],
             [
              0.7777777777777778,
              "#fb9f3a"
             ],
             [
              0.8888888888888888,
              "#fdca26"
             ],
             [
              1,
              "#f0f921"
             ]
            ],
            "type": "histogram2d"
           }
          ],
          "histogram2dcontour": [
           {
            "colorbar": {
             "outlinewidth": 0,
             "ticks": ""
            },
            "colorscale": [
             [
              0,
              "#0d0887"
             ],
             [
              0.1111111111111111,
              "#46039f"
             ],
             [
              0.2222222222222222,
              "#7201a8"
             ],
             [
              0.3333333333333333,
              "#9c179e"
             ],
             [
              0.4444444444444444,
              "#bd3786"
             ],
             [
              0.5555555555555556,
              "#d8576b"
             ],
             [
              0.6666666666666666,
              "#ed7953"
             ],
             [
              0.7777777777777778,
              "#fb9f3a"
             ],
             [
              0.8888888888888888,
              "#fdca26"
             ],
             [
              1,
              "#f0f921"
             ]
            ],
            "type": "histogram2dcontour"
           }
          ],
          "mesh3d": [
           {
            "colorbar": {
             "outlinewidth": 0,
             "ticks": ""
            },
            "type": "mesh3d"
           }
          ],
          "parcoords": [
           {
            "line": {
             "colorbar": {
              "outlinewidth": 0,
              "ticks": ""
             }
            },
            "type": "parcoords"
           }
          ],
          "pie": [
           {
            "automargin": true,
            "type": "pie"
           }
          ],
          "scatter": [
           {
            "fillpattern": {
             "fillmode": "overlay",
             "size": 10,
             "solidity": 0.2
            },
            "type": "scatter"
           }
          ],
          "scatter3d": [
           {
            "line": {
             "colorbar": {
              "outlinewidth": 0,
              "ticks": ""
             }
            },
            "marker": {
             "colorbar": {
              "outlinewidth": 0,
              "ticks": ""
             }
            },
            "type": "scatter3d"
           }
          ],
          "scattercarpet": [
           {
            "marker": {
             "colorbar": {
              "outlinewidth": 0,
              "ticks": ""
             }
            },
            "type": "scattercarpet"
           }
          ],
          "scattergeo": [
           {
            "marker": {
             "colorbar": {
              "outlinewidth": 0,
              "ticks": ""
             }
            },
            "type": "scattergeo"
           }
          ],
          "scattergl": [
           {
            "marker": {
             "colorbar": {
              "outlinewidth": 0,
              "ticks": ""
             }
            },
            "type": "scattergl"
           }
          ],
          "scattermap": [
           {
            "marker": {
             "colorbar": {
              "outlinewidth": 0,
              "ticks": ""
             }
            },
            "type": "scattermap"
           }
          ],
          "scattermapbox": [
           {
            "marker": {
             "colorbar": {
              "outlinewidth": 0,
              "ticks": ""
             }
            },
            "type": "scattermapbox"
           }
          ],
          "scatterpolar": [
           {
            "marker": {
             "colorbar": {
              "outlinewidth": 0,
              "ticks": ""
             }
            },
            "type": "scatterpolar"
           }
          ],
          "scatterpolargl": [
           {
            "marker": {
             "colorbar": {
              "outlinewidth": 0,
              "ticks": ""
             }
            },
            "type": "scatterpolargl"
           }
          ],
          "scatterternary": [
           {
            "marker": {
             "colorbar": {
              "outlinewidth": 0,
              "ticks": ""
             }
            },
            "type": "scatterternary"
           }
          ],
          "surface": [
           {
            "colorbar": {
             "outlinewidth": 0,
             "ticks": ""
            },
            "colorscale": [
             [
              0,
              "#0d0887"
             ],
             [
              0.1111111111111111,
              "#46039f"
             ],
             [
              0.2222222222222222,
              "#7201a8"
             ],
             [
              0.3333333333333333,
              "#9c179e"
             ],
             [
              0.4444444444444444,
              "#bd3786"
             ],
             [
              0.5555555555555556,
              "#d8576b"
             ],
             [
              0.6666666666666666,
              "#ed7953"
             ],
             [
              0.7777777777777778,
              "#fb9f3a"
             ],
             [
              0.8888888888888888,
              "#fdca26"
             ],
             [
              1,
              "#f0f921"
             ]
            ],
            "type": "surface"
           }
          ],
          "table": [
           {
            "cells": {
             "fill": {
              "color": "#EBF0F8"
             },
             "line": {
              "color": "white"
             }
            },
            "header": {
             "fill": {
              "color": "#C8D4E3"
             },
             "line": {
              "color": "white"
             }
            },
            "type": "table"
           }
          ]
         },
         "layout": {
          "annotationdefaults": {
           "arrowcolor": "#2a3f5f",
           "arrowhead": 0,
           "arrowwidth": 1
          },
          "autotypenumbers": "strict",
          "coloraxis": {
           "colorbar": {
            "outlinewidth": 0,
            "ticks": ""
           }
          },
          "colorscale": {
           "diverging": [
            [
             0,
             "#8e0152"
            ],
            [
             0.1,
             "#c51b7d"
            ],
            [
             0.2,
             "#de77ae"
            ],
            [
             0.3,
             "#f1b6da"
            ],
            [
             0.4,
             "#fde0ef"
            ],
            [
             0.5,
             "#f7f7f7"
            ],
            [
             0.6,
             "#e6f5d0"
            ],
            [
             0.7,
             "#b8e186"
            ],
            [
             0.8,
             "#7fbc41"
            ],
            [
             0.9,
             "#4d9221"
            ],
            [
             1,
             "#276419"
            ]
           ],
           "sequential": [
            [
             0,
             "#0d0887"
            ],
            [
             0.1111111111111111,
             "#46039f"
            ],
            [
             0.2222222222222222,
             "#7201a8"
            ],
            [
             0.3333333333333333,
             "#9c179e"
            ],
            [
             0.4444444444444444,
             "#bd3786"
            ],
            [
             0.5555555555555556,
             "#d8576b"
            ],
            [
             0.6666666666666666,
             "#ed7953"
            ],
            [
             0.7777777777777778,
             "#fb9f3a"
            ],
            [
             0.8888888888888888,
             "#fdca26"
            ],
            [
             1,
             "#f0f921"
            ]
           ],
           "sequentialminus": [
            [
             0,
             "#0d0887"
            ],
            [
             0.1111111111111111,
             "#46039f"
            ],
            [
             0.2222222222222222,
             "#7201a8"
            ],
            [
             0.3333333333333333,
             "#9c179e"
            ],
            [
             0.4444444444444444,
             "#bd3786"
            ],
            [
             0.5555555555555556,
             "#d8576b"
            ],
            [
             0.6666666666666666,
             "#ed7953"
            ],
            [
             0.7777777777777778,
             "#fb9f3a"
            ],
            [
             0.8888888888888888,
             "#fdca26"
            ],
            [
             1,
             "#f0f921"
            ]
           ]
          },
          "colorway": [
           "#636efa",
           "#EF553B",
           "#00cc96",
           "#ab63fa",
           "#FFA15A",
           "#19d3f3",
           "#FF6692",
           "#B6E880",
           "#FF97FF",
           "#FECB52"
          ],
          "font": {
           "color": "#2a3f5f"
          },
          "geo": {
           "bgcolor": "white",
           "lakecolor": "white",
           "landcolor": "#E5ECF6",
           "showlakes": true,
           "showland": true,
           "subunitcolor": "white"
          },
          "hoverlabel": {
           "align": "left"
          },
          "hovermode": "closest",
          "mapbox": {
           "style": "light"
          },
          "paper_bgcolor": "white",
          "plot_bgcolor": "#E5ECF6",
          "polar": {
           "angularaxis": {
            "gridcolor": "white",
            "linecolor": "white",
            "ticks": ""
           },
           "bgcolor": "#E5ECF6",
           "radialaxis": {
            "gridcolor": "white",
            "linecolor": "white",
            "ticks": ""
           }
          },
          "scene": {
           "xaxis": {
            "backgroundcolor": "#E5ECF6",
            "gridcolor": "white",
            "gridwidth": 2,
            "linecolor": "white",
            "showbackground": true,
            "ticks": "",
            "zerolinecolor": "white"
           },
           "yaxis": {
            "backgroundcolor": "#E5ECF6",
            "gridcolor": "white",
            "gridwidth": 2,
            "linecolor": "white",
            "showbackground": true,
            "ticks": "",
            "zerolinecolor": "white"
           },
           "zaxis": {
            "backgroundcolor": "#E5ECF6",
            "gridcolor": "white",
            "gridwidth": 2,
            "linecolor": "white",
            "showbackground": true,
            "ticks": "",
            "zerolinecolor": "white"
           }
          },
          "shapedefaults": {
           "line": {
            "color": "#2a3f5f"
           }
          },
          "ternary": {
           "aaxis": {
            "gridcolor": "white",
            "linecolor": "white",
            "ticks": ""
           },
           "baxis": {
            "gridcolor": "white",
            "linecolor": "white",
            "ticks": ""
           },
           "bgcolor": "#E5ECF6",
           "caxis": {
            "gridcolor": "white",
            "linecolor": "white",
            "ticks": ""
           }
          },
          "title": {
           "x": 0.05
          },
          "xaxis": {
           "automargin": true,
           "gridcolor": "white",
           "linecolor": "white",
           "ticks": "",
           "title": {
            "standoff": 15
           },
           "zerolinecolor": "white",
           "zerolinewidth": 2
          },
          "yaxis": {
           "automargin": true,
           "gridcolor": "white",
           "linecolor": "white",
           "ticks": "",
           "title": {
            "standoff": 15
           },
           "zerolinecolor": "white",
           "zerolinewidth": 2
          }
         }
        },
        "xaxis": {
         "anchor": "y",
         "domain": [
          0,
          1
         ],
         "title": {
          "text": "index"
         }
        },
        "yaxis": {
         "anchor": "x",
         "domain": [
          0,
          1
         ],
         "title": {
          "text": "value"
         }
        }
       }
      }
     },
     "metadata": {},
     "output_type": "display_data"
    },
    {
     "data": {
      "application/vnd.plotly.v1+json": {
       "config": {
        "plotlyServerURL": "https://plot.ly"
       },
       "data": [
        {
         "hovertemplate": "variable=0<br>index=%{x}<br>value=%{y}<extra></extra>",
         "legendgroup": "0",
         "line": {
          "color": "#636efa",
          "dash": "solid"
         },
         "marker": {
          "symbol": "circle"
         },
         "mode": "lines",
         "name": "0",
         "showlegend": true,
         "type": "scattergl",
         "x": {
          "bdata": "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",
          "dtype": "i2"
         },
         "xaxis": "x",
         "y": {
          "bdata": "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",
          "dtype": "f8"
         },
         "yaxis": "y"
        }
       ],
       "layout": {
        "legend": {
         "title": {
          "text": "variable"
         },
         "tracegroupgap": 0
        },
        "margin": {
         "t": 60
        },
        "template": {
         "data": {
          "bar": [
           {
            "error_x": {
             "color": "#2a3f5f"
            },
            "error_y": {
             "color": "#2a3f5f"
            },
            "marker": {
             "line": {
              "color": "#E5ECF6",
              "width": 0.5
             },
             "pattern": {
              "fillmode": "overlay",
              "size": 10,
              "solidity": 0.2
             }
            },
            "type": "bar"
           }
          ],
          "barpolar": [
           {
            "marker": {
             "line": {
              "color": "#E5ECF6",
              "width": 0.5
             },
             "pattern": {
              "fillmode": "overlay",
              "size": 10,
              "solidity": 0.2
             }
            },
            "type": "barpolar"
           }
          ],
          "carpet": [
           {
            "aaxis": {
             "endlinecolor": "#2a3f5f",
             "gridcolor": "white",
             "linecolor": "white",
             "minorgridcolor": "white",
             "startlinecolor": "#2a3f5f"
            },
            "baxis": {
             "endlinecolor": "#2a3f5f",
             "gridcolor": "white",
             "linecolor": "white",
             "minorgridcolor": "white",
             "startlinecolor": "#2a3f5f"
            },
            "type": "carpet"
           }
          ],
          "choropleth": [
           {
            "colorbar": {
             "outlinewidth": 0,
             "ticks": ""
            },
            "type": "choropleth"
           }
          ],
          "contour": [
           {
            "colorbar": {
             "outlinewidth": 0,
             "ticks": ""
            },
            "colorscale": [
             [
              0,
              "#0d0887"
             ],
             [
              0.1111111111111111,
              "#46039f"
             ],
             [
              0.2222222222222222,
              "#7201a8"
             ],
             [
              0.3333333333333333,
              "#9c179e"
             ],
             [
              0.4444444444444444,
              "#bd3786"
             ],
             [
              0.5555555555555556,
              "#d8576b"
             ],
             [
              0.6666666666666666,
              "#ed7953"
             ],
             [
              0.7777777777777778,
              "#fb9f3a"
             ],
             [
              0.8888888888888888,
              "#fdca26"
             ],
             [
              1,
              "#f0f921"
             ]
            ],
            "type": "contour"
           }
          ],
          "contourcarpet": [
           {
            "colorbar": {
             "outlinewidth": 0,
             "ticks": ""
            },
            "type": "contourcarpet"
           }
          ],
          "heatmap": [
           {
            "colorbar": {
             "outlinewidth": 0,
             "ticks": ""
            },
            "colorscale": [
             [
              0,
              "#0d0887"
             ],
             [
              0.1111111111111111,
              "#46039f"
             ],
             [
              0.2222222222222222,
              "#7201a8"
             ],
             [
              0.3333333333333333,
              "#9c179e"
             ],
             [
              0.4444444444444444,
              "#bd3786"
             ],
             [
              0.5555555555555556,
              "#d8576b"
             ],
             [
              0.6666666666666666,
              "#ed7953"
             ],
             [
              0.7777777777777778,
              "#fb9f3a"
             ],
             [
              0.8888888888888888,
              "#fdca26"
             ],
             [
              1,
              "#f0f921"
             ]
            ],
            "type": "heatmap"
           }
          ],
          "histogram": [
           {
            "marker": {
             "pattern": {
              "fillmode": "overlay",
              "size": 10,
              "solidity": 0.2
             }
            },
            "type": "histogram"
           }
          ],
          "histogram2d": [
           {
            "colorbar": {
             "outlinewidth": 0,
             "ticks": ""
            },
            "colorscale": [
             [
              0,
              "#0d0887"
             ],
             [
              0.1111111111111111,
              "#46039f"
             ],
             [
              0.2222222222222222,
              "#7201a8"
             ],
             [
              0.3333333333333333,
              "#9c179e"
             ],
             [
              0.4444444444444444,
              "#bd3786"
             ],
             [
              0.5555555555555556,
              "#d8576b"
             ],
             [
              0.6666666666666666,
              "#ed7953"
             ],
             [
              0.7777777777777778,
              "#fb9f3a"
             ],
             [
              0.8888888888888888,
              "#fdca26"
             ],
             [
              1,
              "#f0f921"
             ]
            ],
            "type": "histogram2d"
           }
          ],
          "histogram2dcontour": [
           {
            "colorbar": {
             "outlinewidth": 0,
             "ticks": ""
            },
            "colorscale": [
             [
              0,
              "#0d0887"
             ],
             [
              0.1111111111111111,
              "#46039f"
             ],
             [
              0.2222222222222222,
              "#7201a8"
             ],
             [
              0.3333333333333333,
              "#9c179e"
             ],
             [
              0.4444444444444444,
              "#bd3786"
             ],
             [
              0.5555555555555556,
              "#d8576b"
             ],
             [
              0.6666666666666666,
              "#ed7953"
             ],
             [
              0.7777777777777778,
              "#fb9f3a"
             ],
             [
              0.8888888888888888,
              "#fdca26"
             ],
             [
              1,
              "#f0f921"
             ]
            ],
            "type": "histogram2dcontour"
           }
          ],
          "mesh3d": [
           {
            "colorbar": {
             "outlinewidth": 0,
             "ticks": ""
            },
            "type": "mesh3d"
           }
          ],
          "parcoords": [
           {
            "line": {
             "colorbar": {
              "outlinewidth": 0,
              "ticks": ""
             }
            },
            "type": "parcoords"
           }
          ],
          "pie": [
           {
            "automargin": true,
            "type": "pie"
           }
          ],
          "scatter": [
           {
            "fillpattern": {
             "fillmode": "overlay",
             "size": 10,
             "solidity": 0.2
            },
            "type": "scatter"
           }
          ],
          "scatter3d": [
           {
            "line": {
             "colorbar": {
              "outlinewidth": 0,
              "ticks": ""
             }
            },
            "marker": {
             "colorbar": {
              "outlinewidth": 0,
              "ticks": ""
             }
            },
            "type": "scatter3d"
           }
          ],
          "scattercarpet": [
           {
            "marker": {
             "colorbar": {
              "outlinewidth": 0,
              "ticks": ""
             }
            },
            "type": "scattercarpet"
           }
          ],
          "scattergeo": [
           {
            "marker": {
             "colorbar": {
              "outlinewidth": 0,
              "ticks": ""
             }
            },
            "type": "scattergeo"
           }
          ],
          "scattergl": [
           {
            "marker": {
             "colorbar": {
              "outlinewidth": 0,
              "ticks": ""
             }
            },
            "type": "scattergl"
           }
          ],
          "scattermap": [
           {
            "marker": {
             "colorbar": {
              "outlinewidth": 0,
              "ticks": ""
             }
            },
            "type": "scattermap"
           }
          ],
          "scattermapbox": [
           {
            "marker": {
             "colorbar": {
              "outlinewidth": 0,
              "ticks": ""
             }
            },
            "type": "scattermapbox"
           }
          ],
          "scatterpolar": [
           {
            "marker": {
             "colorbar": {
              "outlinewidth": 0,
              "ticks": ""
             }
            },
            "type": "scatterpolar"
           }
          ],
          "scatterpolargl": [
           {
            "marker": {
             "colorbar": {
              "outlinewidth": 0,
              "ticks": ""
             }
            },
            "type": "scatterpolargl"
           }
          ],
          "scatterternary": [
           {
            "marker": {
             "colorbar": {
              "outlinewidth": 0,
              "ticks": ""
             }
            },
            "type": "scatterternary"
           }
          ],
          "surface": [
           {
            "colorbar": {
             "outlinewidth": 0,
             "ticks": ""
            },
            "colorscale": [
             [
              0,
              "#0d0887"
             ],
             [
              0.1111111111111111,
              "#46039f"
             ],
             [
              0.2222222222222222,
              "#7201a8"
             ],
             [
              0.3333333333333333,
              "#9c179e"
             ],
             [
              0.4444444444444444,
              "#bd3786"
             ],
             [
              0.5555555555555556,
              "#d8576b"
             ],
             [
              0.6666666666666666,
              "#ed7953"
             ],
             [
              0.7777777777777778,
              "#fb9f3a"
             ],
             [
              0.8888888888888888,
              "#fdca26"
             ],
             [
              1,
              "#f0f921"
             ]
            ],
            "type": "surface"
           }
          ],
          "table": [
           {
            "cells": {
             "fill": {
              "color": "#EBF0F8"
             },
             "line": {
              "color": "white"
             }
            },
            "header": {
             "fill": {
              "color": "#C8D4E3"
             },
             "line": {
              "color": "white"
             }
            },
            "type": "table"
           }
          ]
         },
         "layout": {
          "annotationdefaults": {
           "arrowcolor": "#2a3f5f",
           "arrowhead": 0,
           "arrowwidth": 1
          },
          "autotypenumbers": "strict",
          "coloraxis": {
           "colorbar": {
            "outlinewidth": 0,
            "ticks": ""
           }
          },
          "colorscale": {
           "diverging": [
            [
             0,
             "#8e0152"
            ],
            [
             0.1,
             "#c51b7d"
            ],
            [
             0.2,
             "#de77ae"
            ],
            [
             0.3,
             "#f1b6da"
            ],
            [
             0.4,
             "#fde0ef"
            ],
            [
             0.5,
             "#f7f7f7"
            ],
            [
             0.6,
             "#e6f5d0"
            ],
            [
             0.7,
             "#b8e186"
            ],
            [
             0.8,
             "#7fbc41"
            ],
            [
             0.9,
             "#4d9221"
            ],
            [
             1,
             "#276419"
            ]
           ],
           "sequential": [
            [
             0,
             "#0d0887"
            ],
            [
             0.1111111111111111,
             "#46039f"
            ],
            [
             0.2222222222222222,
             "#7201a8"
            ],
            [
             0.3333333333333333,
             "#9c179e"
            ],
            [
             0.4444444444444444,
             "#bd3786"
            ],
            [
             0.5555555555555556,
             "#d8576b"
            ],
            [
             0.6666666666666666,
             "#ed7953"
            ],
            [
             0.7777777777777778,
             "#fb9f3a"
            ],
            [
             0.8888888888888888,
             "#fdca26"
            ],
            [
             1,
             "#f0f921"
            ]
           ],
           "sequentialminus": [
            [
             0,
             "#0d0887"
            ],
            [
             0.1111111111111111,
             "#46039f"
            ],
            [
             0.2222222222222222,
             "#7201a8"
            ],
            [
             0.3333333333333333,
             "#9c179e"
            ],
            [
             0.4444444444444444,
             "#bd3786"
            ],
            [
             0.5555555555555556,
             "#d8576b"
            ],
            [
             0.6666666666666666,
             "#ed7953"
            ],
            [
             0.7777777777777778,
             "#fb9f3a"
            ],
            [
             0.8888888888888888,
             "#fdca26"
            ],
            [
             1,
             "#f0f921"
            ]
           ]
          },
          "colorway": [
           "#636efa",
           "#EF553B",
           "#00cc96",
           "#ab63fa",
           "#FFA15A",
           "#19d3f3",
           "#FF6692",
           "#B6E880",
           "#FF97FF",
           "#FECB52"
          ],
          "font": {
           "color": "#2a3f5f"
          },
          "geo": {
           "bgcolor": "white",
           "lakecolor": "white",
           "landcolor": "#E5ECF6",
           "showlakes": true,
           "showland": true,
           "subunitcolor": "white"
          },
          "hoverlabel": {
           "align": "left"
          },
          "hovermode": "closest",
          "mapbox": {
           "style": "light"
          },
          "paper_bgcolor": "white",
          "plot_bgcolor": "#E5ECF6",
          "polar": {
           "angularaxis": {
            "gridcolor": "white",
            "linecolor": "white",
            "ticks": ""
           },
           "bgcolor": "#E5ECF6",
           "radialaxis": {
            "gridcolor": "white",
            "linecolor": "white",
            "ticks": ""
           }
          },
          "scene": {
           "xaxis": {
            "backgroundcolor": "#E5ECF6",
            "gridcolor": "white",
            "gridwidth": 2,
            "linecolor": "white",
            "showbackground": true,
            "ticks": "",
            "zerolinecolor": "white"
           },
           "yaxis": {
            "backgroundcolor": "#E5ECF6",
            "gridcolor": "white",
            "gridwidth": 2,
            "linecolor": "white",
            "showbackground": true,
            "ticks": "",
            "zerolinecolor": "white"
           },
           "zaxis": {
            "backgroundcolor": "#E5ECF6",
            "gridcolor": "white",
            "gridwidth": 2,
            "linecolor": "white",
            "showbackground": true,
            "ticks": "",
            "zerolinecolor": "white"
           }
          },
          "shapedefaults": {
           "line": {
            "color": "#2a3f5f"
           }
          },
          "ternary": {
           "aaxis": {
            "gridcolor": "white",
            "linecolor": "white",
            "ticks": ""
           },
           "baxis": {
            "gridcolor": "white",
            "linecolor": "white",
            "ticks": ""
           },
           "bgcolor": "#E5ECF6",
           "caxis": {
            "gridcolor": "white",
            "linecolor": "white",
            "ticks": ""
           }
          },
          "title": {
           "x": 0.05
          },
          "xaxis": {
           "automargin": true,
           "gridcolor": "white",
           "linecolor": "white",
           "ticks": "",
           "title": {
            "standoff": 15
           },
           "zerolinecolor": "white",
           "zerolinewidth": 2
          },
          "yaxis": {
           "automargin": true,
           "gridcolor": "white",
           "linecolor": "white",
           "ticks": "",
           "title": {
            "standoff": 15
           },
           "zerolinecolor": "white",
           "zerolinewidth": 2
          }
         }
        },
        "xaxis": {
         "anchor": "y",
         "domain": [
          0,
          1
         ],
         "title": {
          "text": "index"
         }
        },
        "yaxis": {
         "anchor": "x",
         "domain": [
          0,
          1
         ],
         "title": {
          "text": "value"
         }
        }
       }
      }
     },
     "metadata": {},
     "output_type": "display_data"
    }
   ],
   "source": [
    "import plotly.express as px\n",
    "import numpy as np\n",
    "\n",
    "px.line(log_density).show()\n",
    "px.line(np.exp(log_density)).show()"
   ]
  },
  {
   "cell_type": "code",
   "execution_count": 50,
   "metadata": {},
   "outputs": [
    {
     "data": {
      "application/vnd.plotly.v1+json": {
       "config": {
        "plotlyServerURL": "https://plot.ly"
       },
       "data": [
        {
         "hovertemplate": "x=%{x}<br>y=%{y}<extra></extra>",
         "legendgroup": "",
         "line": {
          "color": "#636efa",
          "dash": "solid"
         },
         "marker": {
          "symbol": "circle"
         },
         "mode": "lines",
         "name": "",
         "orientation": "v",
         "showlegend": false,
         "type": "scatter",
         "x": {
          "bdata": "zczMzMxMMUDNzMzMzEwxQAAAAAAAAPh/Z2ZmZmYmQ0BnZmZmZiZDQAAAAAAAAPh/mpmZmZkZSUCamZmZmRlJQAAAAAAAAPh/Z2ZmZmamTkBnZmZmZqZOQAAAAAAAAPh/AAAAAADAVEAAAAAAAMBUQAAAAAAAAPh/Z2ZmZmamWEBnZmZmZqZYQAAAAAAAAPh/zczMzMxsXkDNzMzMzGxeQAAAAAAAAPh/mpmZmZnZYUCamZmZmdlhQAAAAAAAAPh/zczMzMzcY0DNzMzMzNxjQAAAAAAAAPh/AAAAAADwZUAAAAAAAPBlQAAAAAAAAPh/Z2ZmZmb2ZkBnZmZmZvZmQAAAAAAAAPh/AAAAAADAaEAAAAAAAMBoQAAAAAAAAPh/zczMzMzMakDNzMzMzMxqQAAAAAAAAPh/NDMzMzMzbEA0MzMzMzNsQAAAAAAAAPh/Z2ZmZmZmbUBnZmZmZmZtQAAAAAAAAPh/AAAAAABwb0AAAAAAAHBvQAAAAAAAAPh/Z2ZmZmYmckBnZmZmZiZyQAAAAAAAAPh/",
          "dtype": "f8"
         },
         "xaxis": "x",
         "y": {
          "bdata": "AAAAAAAAAAC9mhJur+6nPwAAAAAAAPh/AAAAAAAAAABjbo8JS5ywPwAAAAAAAPh/AAAAAAAAAAA05wGxLDuGPwAAAAAAAPh/AAAAAAAAAAC3c8DrNRuWPwAAAAAAAPh/AAAAAAAAAAAoVvoTzMOGPwAAAAAAAPh/AAAAAAAAAACwpEJcTyKXPwAAAAAAAPh/AAAAAAAAAADF+SibwzaUPwAAAAAAAPh/AAAAAAAAAABfZBsXkRiEPwAAAAAAAPh/AAAAAAAAAAD2T4/Ty7SUPwAAAAAAAPh/AAAAAAAAAAAU5t8BA3hxPwAAAAAAAPh/AAAAAAAAAACYW5ticnZxPwAAAAAAAPh/AAAAAAAAAADG2AMc3N2LPwAAAAAAAPh/AAAAAAAAAAAmpze3DYCDPwAAAAAAAPh/AAAAAAAAAABPwi2YoZeHPwAAAAAAAPh/AAAAAAAAAAAWk2MiMCaSPwAAAAAAAPh/AAAAAAAAAAC81P8dBnqTPwAAAAAAAPh/AAAAAAAAAABPq6avbNKuPwAAAAAAAPh/",
          "dtype": "f8"
         },
         "yaxis": "y"
        }
       ],
       "layout": {
        "legend": {
         "tracegroupgap": 0
        },
        "template": {
         "data": {
          "bar": [
           {
            "error_x": {
             "color": "#2a3f5f"
            },
            "error_y": {
             "color": "#2a3f5f"
            },
            "marker": {
             "line": {
              "color": "#E5ECF6",
              "width": 0.5
             },
             "pattern": {
              "fillmode": "overlay",
              "size": 10,
              "solidity": 0.2
             }
            },
            "type": "bar"
           }
          ],
          "barpolar": [
           {
            "marker": {
             "line": {
              "color": "#E5ECF6",
              "width": 0.5
             },
             "pattern": {
              "fillmode": "overlay",
              "size": 10,
              "solidity": 0.2
             }
            },
            "type": "barpolar"
           }
          ],
          "carpet": [
           {
            "aaxis": {
             "endlinecolor": "#2a3f5f",
             "gridcolor": "white",
             "linecolor": "white",
             "minorgridcolor": "white",
             "startlinecolor": "#2a3f5f"
            },
            "baxis": {
             "endlinecolor": "#2a3f5f",
             "gridcolor": "white",
             "linecolor": "white",
             "minorgridcolor": "white",
             "startlinecolor": "#2a3f5f"
            },
            "type": "carpet"
           }
          ],
          "choropleth": [
           {
            "colorbar": {
             "outlinewidth": 0,
             "ticks": ""
            },
            "type": "choropleth"
           }
          ],
          "contour": [
           {
            "colorbar": {
             "outlinewidth": 0,
             "ticks": ""
            },
            "colorscale": [
             [
              0,
              "#0d0887"
             ],
             [
              0.1111111111111111,
              "#46039f"
             ],
             [
              0.2222222222222222,
              "#7201a8"
             ],
             [
              0.3333333333333333,
              "#9c179e"
             ],
             [
              0.4444444444444444,
              "#bd3786"
             ],
             [
              0.5555555555555556,
              "#d8576b"
             ],
             [
              0.6666666666666666,
              "#ed7953"
             ],
             [
              0.7777777777777778,
              "#fb9f3a"
             ],
             [
              0.8888888888888888,
              "#fdca26"
             ],
             [
              1,
              "#f0f921"
             ]
            ],
            "type": "contour"
           }
          ],
          "contourcarpet": [
           {
            "colorbar": {
             "outlinewidth": 0,
             "ticks": ""
            },
            "type": "contourcarpet"
           }
          ],
          "heatmap": [
           {
            "colorbar": {
             "outlinewidth": 0,
             "ticks": ""
            },
            "colorscale": [
             [
              0,
              "#0d0887"
             ],
             [
              0.1111111111111111,
              "#46039f"
             ],
             [
              0.2222222222222222,
              "#7201a8"
             ],
             [
              0.3333333333333333,
              "#9c179e"
             ],
             [
              0.4444444444444444,
              "#bd3786"
             ],
             [
              0.5555555555555556,
              "#d8576b"
             ],
             [
              0.6666666666666666,
              "#ed7953"
             ],
             [
              0.7777777777777778,
              "#fb9f3a"
             ],
             [
              0.8888888888888888,
              "#fdca26"
             ],
             [
              1,
              "#f0f921"
             ]
            ],
            "type": "heatmap"
           }
          ],
          "histogram": [
           {
            "marker": {
             "pattern": {
              "fillmode": "overlay",
              "size": 10,
              "solidity": 0.2
             }
            },
            "type": "histogram"
           }
          ],
          "histogram2d": [
           {
            "colorbar": {
             "outlinewidth": 0,
             "ticks": ""
            },
            "colorscale": [
             [
              0,
              "#0d0887"
             ],
             [
              0.1111111111111111,
              "#46039f"
             ],
             [
              0.2222222222222222,
              "#7201a8"
             ],
             [
              0.3333333333333333,
              "#9c179e"
             ],
             [
              0.4444444444444444,
              "#bd3786"
             ],
             [
              0.5555555555555556,
              "#d8576b"
             ],
             [
              0.6666666666666666,
              "#ed7953"
             ],
             [
              0.7777777777777778,
              "#fb9f3a"
             ],
             [
              0.8888888888888888,
              "#fdca26"
             ],
             [
              1,
              "#f0f921"
             ]
            ],
            "type": "histogram2d"
           }
          ],
          "histogram2dcontour": [
           {
            "colorbar": {
             "outlinewidth": 0,
             "ticks": ""
            },
            "colorscale": [
             [
              0,
              "#0d0887"
             ],
             [
              0.1111111111111111,
              "#46039f"
             ],
             [
              0.2222222222222222,
              "#7201a8"
             ],
             [
              0.3333333333333333,
              "#9c179e"
             ],
             [
              0.4444444444444444,
              "#bd3786"
             ],
             [
              0.5555555555555556,
              "#d8576b"
             ],
             [
              0.6666666666666666,
              "#ed7953"
             ],
             [
              0.7777777777777778,
              "#fb9f3a"
             ],
             [
              0.8888888888888888,
              "#fdca26"
             ],
             [
              1,
              "#f0f921"
             ]
            ],
            "type": "histogram2dcontour"
           }
          ],
          "mesh3d": [
           {
            "colorbar": {
             "outlinewidth": 0,
             "ticks": ""
            },
            "type": "mesh3d"
           }
          ],
          "parcoords": [
           {
            "line": {
             "colorbar": {
              "outlinewidth": 0,
              "ticks": ""
             }
            },
            "type": "parcoords"
           }
          ],
          "pie": [
           {
            "automargin": true,
            "type": "pie"
           }
          ],
          "scatter": [
           {
            "fillpattern": {
             "fillmode": "overlay",
             "size": 10,
             "solidity": 0.2
            },
            "type": "scatter"
           }
          ],
          "scatter3d": [
           {
            "line": {
             "colorbar": {
              "outlinewidth": 0,
              "ticks": ""
             }
            },
            "marker": {
             "colorbar": {
              "outlinewidth": 0,
              "ticks": ""
             }
            },
            "type": "scatter3d"
           }
          ],
          "scattercarpet": [
           {
            "marker": {
             "colorbar": {
              "outlinewidth": 0,
              "ticks": ""
             }
            },
            "type": "scattercarpet"
           }
          ],
          "scattergeo": [
           {
            "marker": {
             "colorbar": {
              "outlinewidth": 0,
              "ticks": ""
             }
            },
            "type": "scattergeo"
           }
          ],
          "scattergl": [
           {
            "marker": {
             "colorbar": {
              "outlinewidth": 0,
              "ticks": ""
             }
            },
            "type": "scattergl"
           }
          ],
          "scattermap": [
           {
            "marker": {
             "colorbar": {
              "outlinewidth": 0,
              "ticks": ""
             }
            },
            "type": "scattermap"
           }
          ],
          "scattermapbox": [
           {
            "marker": {
             "colorbar": {
              "outlinewidth": 0,
              "ticks": ""
             }
            },
            "type": "scattermapbox"
           }
          ],
          "scatterpolar": [
           {
            "marker": {
             "colorbar": {
              "outlinewidth": 0,
              "ticks": ""
             }
            },
            "type": "scatterpolar"
           }
          ],
          "scatterpolargl": [
           {
            "marker": {
             "colorbar": {
              "outlinewidth": 0,
              "ticks": ""
             }
            },
            "type": "scatterpolargl"
           }
          ],
          "scatterternary": [
           {
            "marker": {
             "colorbar": {
              "outlinewidth": 0,
              "ticks": ""
             }
            },
            "type": "scatterternary"
           }
          ],
          "surface": [
           {
            "colorbar": {
             "outlinewidth": 0,
             "ticks": ""
            },
            "colorscale": [
             [
              0,
              "#0d0887"
             ],
             [
              0.1111111111111111,
              "#46039f"
             ],
             [
              0.2222222222222222,
              "#7201a8"
             ],
             [
              0.3333333333333333,
              "#9c179e"
             ],
             [
              0.4444444444444444,
              "#bd3786"
             ],
             [
              0.5555555555555556,
              "#d8576b"
             ],
             [
              0.6666666666666666,
              "#ed7953"
             ],
             [
              0.7777777777777778,
              "#fb9f3a"
             ],
             [
              0.8888888888888888,
              "#fdca26"
             ],
             [
              1,
              "#f0f921"
             ]
            ],
            "type": "surface"
           }
          ],
          "table": [
           {
            "cells": {
             "fill": {
              "color": "#EBF0F8"
             },
             "line": {
              "color": "white"
             }
            },
            "header": {
             "fill": {
              "color": "#C8D4E3"
             },
             "line": {
              "color": "white"
             }
            },
            "type": "table"
           }
          ]
         },
         "layout": {
          "annotationdefaults": {
           "arrowcolor": "#2a3f5f",
           "arrowhead": 0,
           "arrowwidth": 1
          },
          "autotypenumbers": "strict",
          "coloraxis": {
           "colorbar": {
            "outlinewidth": 0,
            "ticks": ""
           }
          },
          "colorscale": {
           "diverging": [
            [
             0,
             "#8e0152"
            ],
            [
             0.1,
             "#c51b7d"
            ],
            [
             0.2,
             "#de77ae"
            ],
            [
             0.3,
             "#f1b6da"
            ],
            [
             0.4,
             "#fde0ef"
            ],
            [
             0.5,
             "#f7f7f7"
            ],
            [
             0.6,
             "#e6f5d0"
            ],
            [
             0.7,
             "#b8e186"
            ],
            [
             0.8,
             "#7fbc41"
            ],
            [
             0.9,
             "#4d9221"
            ],
            [
             1,
             "#276419"
            ]
           ],
           "sequential": [
            [
             0,
             "#0d0887"
            ],
            [
             0.1111111111111111,
             "#46039f"
            ],
            [
             0.2222222222222222,
             "#7201a8"
            ],
            [
             0.3333333333333333,
             "#9c179e"
            ],
            [
             0.4444444444444444,
             "#bd3786"
            ],
            [
             0.5555555555555556,
             "#d8576b"
            ],
            [
             0.6666666666666666,
             "#ed7953"
            ],
            [
             0.7777777777777778,
             "#fb9f3a"
            ],
            [
             0.8888888888888888,
             "#fdca26"
            ],
            [
             1,
             "#f0f921"
            ]
           ],
           "sequentialminus": [
            [
             0,
             "#0d0887"
            ],
            [
             0.1111111111111111,
             "#46039f"
            ],
            [
             0.2222222222222222,
             "#7201a8"
            ],
            [
             0.3333333333333333,
             "#9c179e"
            ],
            [
             0.4444444444444444,
             "#bd3786"
            ],
            [
             0.5555555555555556,
             "#d8576b"
            ],
            [
             0.6666666666666666,
             "#ed7953"
            ],
            [
             0.7777777777777778,
             "#fb9f3a"
            ],
            [
             0.8888888888888888,
             "#fdca26"
            ],
            [
             1,
             "#f0f921"
            ]
           ]
          },
          "colorway": [
           "#636efa",
           "#EF553B",
           "#00cc96",
           "#ab63fa",
           "#FFA15A",
           "#19d3f3",
           "#FF6692",
           "#B6E880",
           "#FF97FF",
           "#FECB52"
          ],
          "font": {
           "color": "#2a3f5f"
          },
          "geo": {
           "bgcolor": "white",
           "lakecolor": "white",
           "landcolor": "#E5ECF6",
           "showlakes": true,
           "showland": true,
           "subunitcolor": "white"
          },
          "hoverlabel": {
           "align": "left"
          },
          "hovermode": "closest",
          "mapbox": {
           "style": "light"
          },
          "paper_bgcolor": "white",
          "plot_bgcolor": "#E5ECF6",
          "polar": {
           "angularaxis": {
            "gridcolor": "white",
            "linecolor": "white",
            "ticks": ""
           },
           "bgcolor": "#E5ECF6",
           "radialaxis": {
            "gridcolor": "white",
            "linecolor": "white",
            "ticks": ""
           }
          },
          "scene": {
           "xaxis": {
            "backgroundcolor": "#E5ECF6",
            "gridcolor": "white",
            "gridwidth": 2,
            "linecolor": "white",
            "showbackground": true,
            "ticks": "",
            "zerolinecolor": "white"
           },
           "yaxis": {
            "backgroundcolor": "#E5ECF6",
            "gridcolor": "white",
            "gridwidth": 2,
            "linecolor": "white",
            "showbackground": true,
            "ticks": "",
            "zerolinecolor": "white"
           },
           "zaxis": {
            "backgroundcolor": "#E5ECF6",
            "gridcolor": "white",
            "gridwidth": 2,
            "linecolor": "white",
            "showbackground": true,
            "ticks": "",
            "zerolinecolor": "white"
           }
          },
          "shapedefaults": {
           "line": {
            "color": "#2a3f5f"
           }
          },
          "ternary": {
           "aaxis": {
            "gridcolor": "white",
            "linecolor": "white",
            "ticks": ""
           },
           "baxis": {
            "gridcolor": "white",
            "linecolor": "white",
            "ticks": ""
           },
           "bgcolor": "#E5ECF6",
           "caxis": {
            "gridcolor": "white",
            "linecolor": "white",
            "ticks": ""
           }
          },
          "title": {
           "x": 0.05
          },
          "xaxis": {
           "automargin": true,
           "gridcolor": "white",
           "linecolor": "white",
           "ticks": "",
           "title": {
            "standoff": 15
           },
           "zerolinecolor": "white",
           "zerolinewidth": 2
          },
          "yaxis": {
           "automargin": true,
           "gridcolor": "white",
           "linecolor": "white",
           "ticks": "",
           "title": {
            "standoff": 15
           },
           "zerolinecolor": "white",
           "zerolinewidth": 2
          }
         }
        },
        "title": {
         "text": "Peak Densities"
        },
        "xaxis": {
         "anchor": "y",
         "domain": [
          0,
          1
         ],
         "title": {
          "text": "x"
         }
        },
        "yaxis": {
         "anchor": "x",
         "domain": [
          0,
          1
         ],
         "title": {
          "text": "y"
         }
        }
       }
      }
     },
     "metadata": {},
     "output_type": "display_data"
    }
   ],
   "source": [
    "from scipy.signal import find_peaks\n",
    "import plotly.express as px\n",
    "import pandas as pd\n",
    "import numpy as np\n",
    "\n",
    "# Assuming 'log_density' and 'ticks' are defined\n",
    "peaks = find_peaks(log_density)[0]\n",
    "\n",
    "# Create a pandas DataFrame, which is the standard input for plotly.express\n",
    "df = pd.DataFrame({\n",
    "    'time': ticks.flatten()[peaks],\n",
    "    'density': np.exp(log_density.flatten()[peaks])\n",
    "})\n",
    "\n",
    "stem_x = [v for t in df['time'] for v in (t, t, None)]\n",
    "stem_y = [v for s in df['density'] for v in (0, s, None)]\n",
    "\n",
    "# Create a bar chart that looks like a stem plot\n",
    "fig = px.line(x=stem_x, y=stem_y, title=\"Peak Densities\")\n",
    "\n",
    "fig.show()"
   ]
  },
  {
   "cell_type": "code",
   "execution_count": null,
   "metadata": {},
   "outputs": [
    {
     "data": {
      "text/plain": [
       "(array([ 173,  383,  502,  613,  830,  986, 1217, 1428, 1589, 1755, 1837,\n",
       "        1980, 2144, 2256, 2352, 2515, 2904]),\n",
       " {})"
      ]
     },
     "execution_count": 18,
     "metadata": {},
     "output_type": "execute_result"
    }
   ],
   "source": [
    "find_peaks(np.exp(log_density))"
   ]
  },
  {
   "cell_type": "code",
   "execution_count": 12,
   "metadata": {},
   "outputs": [
    {
     "data": {
      "application/vnd.plotly.v1+json": {
       "config": {
        "plotlyServerURL": "https://plot.ly"
       },
       "data": [
        {
         "base": [
          0,
          215.63494
         ],
         "customdata": [
          "<b>silence</b><br>Layer: coarse<br>Start: 0.000s<br>End: 0.418s<br>Duration: 0.418s",
          "<b>silence</b><br>Layer: coarse<br>Start: 215.635s<br>End: 220.149s<br>Duration: 4.514s"
         ],
         "hovertemplate": "%{customdata}<extra></extra>",
         "insidetextanchor": "middle",
         "marker": {
          "color": "#1F77B4",
          "line": {
           "color": "white",
           "width": 0.5
          },
          "pattern": {
           "fgcolor": "white",
           "fgopacity": 0.5,
           "shape": "",
           "solidity": 0.25
          }
         },
         "name": "silence",
         "orientation": "h",
         "showlegend": true,
         "text": [
          "silence",
          "silence"
         ],
         "textposition": "inside",
         "type": "bar",
         "width": 1,
         "x": [
          0.41796,
          4.513990000000007
         ],
         "y": [
          "coarse",
          "coarse"
         ]
        },
        {
         "base": [
          0.41796
         ],
         "customdata": [
          "<b>intro</b><br>Layer: coarse<br>Start: 0.418s<br>End: 14.632s<br>Duration: 14.214s"
         ],
         "hovertemplate": "%{customdata}<extra></extra>",
         "insidetextanchor": "middle",
         "marker": {
          "color": "#FF7F0E",
          "line": {
           "color": "white",
           "width": 0.5
          },
          "pattern": {
           "fgcolor": "white",
           "fgopacity": 0.5,
           "shape": "",
           "solidity": 0.25
          }
         },
         "name": "intro",
         "orientation": "h",
         "showlegend": true,
         "text": [
          "intro"
         ],
         "textposition": "inside",
         "type": "bar",
         "width": 1,
         "x": [
          14.213849999999999
         ],
         "y": [
          "coarse"
         ]
        },
        {
         "base": [
          14.63181,
          38.40311,
          76.03066,
          99.4251
         ],
         "customdata": [
          "<b>verse</b><br>Layer: coarse<br>Start: 14.632s<br>End: 28.851s<br>Duration: 14.219s",
          "<b>verse</b><br>Layer: coarse<br>Start: 38.403s<br>End: 52.410s<br>Duration: 14.007s",
          "<b>verse</b><br>Layer: coarse<br>Start: 76.031s<br>End: 90.073s<br>Duration: 14.042s",
          "<b>verse</b><br>Layer: coarse<br>Start: 99.425s<br>End: 113.337s<br>Duration: 13.912s"
         ],
         "hovertemplate": "%{customdata}<extra></extra>",
         "insidetextanchor": "middle",
         "marker": {
          "color": "#2CA02C",
          "line": {
           "color": "white",
           "width": 0.5
          },
          "pattern": {
           "fgcolor": "white",
           "fgopacity": 0.5,
           "shape": "",
           "solidity": 0.25
          }
         },
         "name": "verse",
         "orientation": "h",
         "showlegend": true,
         "text": [
          "verse",
          "verse",
          "verse",
          "verse"
         ],
         "textposition": "inside",
         "type": "bar",
         "width": 1,
         "x": [
          14.219030000000002,
          14.007370000000002,
          14.04195,
          13.911770000000004
         ],
         "y": [
          "coarse",
          "coarse",
          "coarse",
          "coarse"
         ]
        },
        {
         "base": [
          28.85084,
          52.41048,
          90.07261,
          113.33687,
          136.7929,
          179.42526,
          193.36435
         ],
         "customdata": [
          "<b>chorus</b><br>Layer: coarse<br>Start: 28.851s<br>End: 38.403s<br>Duration: 9.552s",
          "<b>chorus</b><br>Layer: coarse<br>Start: 52.410s<br>End: 61.839s<br>Duration: 9.429s",
          "<b>chorus</b><br>Layer: coarse<br>Start: 90.073s<br>End: 99.425s<br>Duration: 9.352s",
          "<b>chorus</b><br>Layer: coarse<br>Start: 113.337s<br>End: 122.833s<br>Duration: 9.496s",
          "<b>chorus</b><br>Layer: coarse<br>Start: 136.793s<br>End: 151.058s<br>Duration: 14.265s",
          "<b>chorus</b><br>Layer: coarse<br>Start: 179.425s<br>End: 193.364s<br>Duration: 13.939s",
          "<b>chorus</b><br>Layer: coarse<br>Start: 193.364s<br>End: 207.633s<br>Duration: 14.269s"
         ],
         "hovertemplate": "%{customdata}<extra></extra>",
         "insidetextanchor": "middle",
         "marker": {
          "color": "#D62728",
          "line": {
           "color": "white",
           "width": 0.5
          },
          "pattern": {
           "fgcolor": "white",
           "fgopacity": 0.5,
           "shape": "",
           "solidity": 0.25
          }
         },
         "name": "chorus",
         "orientation": "h",
         "showlegend": true,
         "text": [
          "chorus",
          "chorus",
          "chorus",
          "chorus",
          "chorus",
          "chorus",
          "chorus"
         ],
         "textposition": "inside",
         "type": "bar",
         "width": 1,
         "x": [
          9.552269999999996,
          9.428730000000002,
          9.352490000000003,
          9.496009999999998,
          14.265150000000006,
          13.939089999999993,
          14.268730000000005
         ],
         "y": [
          "coarse",
          "coarse",
          "coarse",
          "coarse",
          "coarse",
          "coarse",
          "coarse"
         ]
        },
        {
         "base": [
          61.83921,
          122.83288,
          151.05805,
          165.22547
         ],
         "customdata": [
          "<b>solo</b><br>Layer: coarse<br>Start: 61.839s<br>End: 76.031s<br>Duration: 14.191s",
          "<b>solo</b><br>Layer: coarse<br>Start: 122.833s<br>End: 136.793s<br>Duration: 13.960s",
          "<b>solo</b><br>Layer: coarse<br>Start: 151.058s<br>End: 165.225s<br>Duration: 14.167s",
          "<b>solo</b><br>Layer: coarse<br>Start: 165.225s<br>End: 179.425s<br>Duration: 14.200s"
         ],
         "hovertemplate": "%{customdata}<extra></extra>",
         "insidetextanchor": "middle",
         "marker": {
          "color": "#9467BD",
          "line": {
           "color": "white",
           "width": 0.5
          },
          "pattern": {
           "fgcolor": "white",
           "fgopacity": 0.5,
           "shape": "",
           "solidity": 0.25
          }
         },
         "name": "solo",
         "orientation": "h",
         "showlegend": true,
         "text": [
          "solo",
          "solo",
          "solo",
          "solo"
         ],
         "textposition": "inside",
         "type": "bar",
         "width": 1,
         "x": [
          14.191449999999996,
          13.96002,
          14.167419999999993,
          14.199790000000007
         ],
         "y": [
          "coarse",
          "coarse",
          "coarse",
          "coarse"
         ]
        },
        {
         "base": [
          207.63308
         ],
         "customdata": [
          "<b>outro</b><br>Layer: coarse<br>Start: 207.633s<br>End: 215.635s<br>Duration: 8.002s"
         ],
         "hovertemplate": "%{customdata}<extra></extra>",
         "insidetextanchor": "middle",
         "marker": {
          "color": "#8C564B",
          "line": {
           "color": "white",
           "width": 0.5
          },
          "pattern": {
           "fgcolor": "white",
           "fgopacity": 0.5,
           "shape": "",
           "solidity": 0.25
          }
         },
         "name": "outro",
         "orientation": "h",
         "showlegend": true,
         "text": [
          "outro"
         ],
         "textposition": "inside",
         "type": "bar",
         "width": 1,
         "x": [
          8.001859999999994
         ],
         "y": [
          "coarse"
         ]
        },
        {
         "base": [
          0,
          215.63494
         ],
         "customdata": [
          "<b>Silence</b><br>Layer: fine<br>Start: 0.000s<br>End: 0.418s<br>Duration: 0.418s",
          "<b>Silence</b><br>Layer: fine<br>Start: 215.635s<br>End: 220.149s<br>Duration: 4.514s"
         ],
         "hovertemplate": "%{customdata}<extra></extra>",
         "insidetextanchor": "middle",
         "marker": {
          "color": "#E377C2",
          "line": {
           "color": "white",
           "width": 0.5
          },
          "pattern": {
           "fgcolor": "white",
           "fgopacity": 0.5,
           "shape": "",
           "solidity": 0.25
          }
         },
         "name": "Silence",
         "orientation": "h",
         "showlegend": true,
         "text": [
          "Silence",
          "Silence"
         ],
         "textposition": "inside",
         "type": "bar",
         "width": 1,
         "x": [
          0.41796,
          4.513990000000007
         ],
         "y": [
          "fine",
          "fine"
         ]
        },
        {
         "base": [
          0.41796,
          14.63181,
          38.40311,
          61.83921,
          76.03066,
          99.4251,
          122.83288,
          151.05805,
          165.22547
         ],
         "customdata": [
          "<b>a</b><br>Layer: fine<br>Start: 0.418s<br>End: 5.316s<br>Duration: 4.898s",
          "<b>a</b><br>Layer: fine<br>Start: 14.632s<br>End: 19.535s<br>Duration: 4.903s",
          "<b>a</b><br>Layer: fine<br>Start: 38.403s<br>End: 43.202s<br>Duration: 4.799s",
          "<b>a</b><br>Layer: fine<br>Start: 61.839s<br>End: 66.546s<br>Duration: 4.707s",
          "<b>a</b><br>Layer: fine<br>Start: 76.031s<br>End: 80.691s<br>Duration: 4.660s",
          "<b>a</b><br>Layer: fine<br>Start: 99.425s<br>End: 104.041s<br>Duration: 4.616s",
          "<b>a</b><br>Layer: fine<br>Start: 122.833s<br>End: 127.601s<br>Duration: 4.768s",
          "<b>a</b><br>Layer: fine<br>Start: 151.058s<br>End: 155.898s<br>Duration: 4.840s",
          "<b>a</b><br>Layer: fine<br>Start: 165.225s<br>End: 169.977s<br>Duration: 4.752s"
         ],
         "hovertemplate": "%{customdata}<extra></extra>",
         "insidetextanchor": "middle",
         "marker": {
          "color": "#7F7F7F",
          "line": {
           "color": "white",
           "width": 0.5
          },
          "pattern": {
           "fgcolor": "white",
           "fgopacity": 0.5,
           "shape": "",
           "solidity": 0.25
          }
         },
         "name": "a",
         "orientation": "h",
         "showlegend": true,
         "text": [
          "a",
          "a",
          "a",
          "a",
          "a",
          "a",
          "a",
          "a",
          "a"
         ],
         "textposition": "inside",
         "type": "bar",
         "width": 1,
         "x": [
          4.89782,
          4.903270000000001,
          4.79927,
          4.707230000000003,
          4.659860000000009,
          4.6157599999999945,
          4.767849999999996,
          4.8402499999999975,
          4.751720000000006
         ],
         "y": [
          "fine",
          "fine",
          "fine",
          "fine",
          "fine",
          "fine",
          "fine",
          "fine",
          "fine"
         ]
        },
        {
         "base": [
          5.31578,
          19.53508,
          43.20238,
          66.54644,
          80.69052,
          104.04086,
          127.60073,
          155.8983,
          169.97719
         ],
         "customdata": [
          "<b>b</b><br>Layer: fine<br>Start: 5.316s<br>End: 9.990s<br>Duration: 4.675s",
          "<b>b</b><br>Layer: fine<br>Start: 19.535s<br>End: 24.247s<br>Duration: 4.712s",
          "<b>b</b><br>Layer: fine<br>Start: 43.202s<br>End: 47.786s<br>Duration: 4.584s",
          "<b>b</b><br>Layer: fine<br>Start: 66.546s<br>End: 71.258s<br>Duration: 4.712s",
          "<b>b</b><br>Layer: fine<br>Start: 80.691s<br>End: 85.387s<br>Duration: 4.696s",
          "<b>b</b><br>Layer: fine<br>Start: 104.041s<br>End: 108.755s<br>Duration: 4.714s",
          "<b>b</b><br>Layer: fine<br>Start: 127.601s<br>End: 132.169s<br>Duration: 4.568s",
          "<b>b</b><br>Layer: fine<br>Start: 155.898s<br>End: 160.553s<br>Duration: 4.655s",
          "<b>b</b><br>Layer: fine<br>Start: 169.977s<br>End: 174.753s<br>Duration: 4.776s"
         ],
         "hovertemplate": "%{customdata}<extra></extra>",
         "insidetextanchor": "middle",
         "marker": {
          "color": "#BCBD22",
          "line": {
           "color": "white",
           "width": 0.5
          },
          "pattern": {
           "fgcolor": "white",
           "fgopacity": 0.5,
           "shape": "",
           "solidity": 0.25
          }
         },
         "name": "b",
         "orientation": "h",
         "showlegend": true,
         "text": [
          "b",
          "b",
          "b",
          "b",
          "b",
          "b",
          "b",
          "b",
          "b"
         ],
         "textposition": "inside",
         "type": "bar",
         "width": 1,
         "x": [
          4.6746300000000005,
          4.7117,
          4.58408,
          4.711969999999994,
          4.696079999999995,
          4.7138300000000015,
          4.56828999999999,
          4.654939999999982,
          4.775689999999997
         ],
         "y": [
          "fine",
          "fine",
          "fine",
          "fine",
          "fine",
          "fine",
          "fine",
          "fine",
          "fine"
         ]
        },
        {
         "base": [
          9.99041,
          24.24678,
          47.78646,
          71.25841,
          85.3866,
          108.75469,
          132.16902,
          160.55324,
          174.75288
         ],
         "customdata": [
          "<b>c</b><br>Layer: fine<br>Start: 9.990s<br>End: 14.632s<br>Duration: 4.641s",
          "<b>c</b><br>Layer: fine<br>Start: 24.247s<br>End: 28.851s<br>Duration: 4.604s",
          "<b>c</b><br>Layer: fine<br>Start: 47.786s<br>End: 52.410s<br>Duration: 4.624s",
          "<b>c</b><br>Layer: fine<br>Start: 71.258s<br>End: 76.031s<br>Duration: 4.772s",
          "<b>c</b><br>Layer: fine<br>Start: 85.387s<br>End: 90.073s<br>Duration: 4.686s",
          "<b>c</b><br>Layer: fine<br>Start: 108.755s<br>End: 113.337s<br>Duration: 4.582s",
          "<b>c</b><br>Layer: fine<br>Start: 132.169s<br>End: 136.793s<br>Duration: 4.624s",
          "<b>c</b><br>Layer: fine<br>Start: 160.553s<br>End: 165.225s<br>Duration: 4.672s",
          "<b>c</b><br>Layer: fine<br>Start: 174.753s<br>End: 179.425s<br>Duration: 4.672s"
         ],
         "hovertemplate": "%{customdata}<extra></extra>",
         "insidetextanchor": "middle",
         "marker": {
          "color": "#17BECF",
          "line": {
           "color": "white",
           "width": 0.5
          },
          "pattern": {
           "fgcolor": "white",
           "fgopacity": 0.5,
           "shape": "",
           "solidity": 0.25
          }
         },
         "name": "c",
         "orientation": "h",
         "showlegend": true,
         "text": [
          "c",
          "c",
          "c",
          "c",
          "c",
          "c",
          "c",
          "c",
          "c"
         ],
         "textposition": "inside",
         "type": "bar",
         "width": 1,
         "x": [
          4.641399999999999,
          4.6040600000000005,
          4.624020000000002,
          4.77225,
          4.686009999999996,
          4.582180000000008,
          4.623880000000014,
          4.672230000000013,
          4.672380000000004
         ],
         "y": [
          "fine",
          "fine",
          "fine",
          "fine",
          "fine",
          "fine",
          "fine",
          "fine",
          "fine"
         ]
        },
        {
         "base": [
          28.85084,
          52.41048,
          90.07261,
          113.33687
         ],
         "customdata": [
          "<b>d</b><br>Layer: fine<br>Start: 28.851s<br>End: 33.698s<br>Duration: 4.848s",
          "<b>d</b><br>Layer: fine<br>Start: 52.410s<br>End: 57.282s<br>Duration: 4.872s",
          "<b>d</b><br>Layer: fine<br>Start: 90.073s<br>End: 94.833s<br>Duration: 4.760s",
          "<b>d</b><br>Layer: fine<br>Start: 113.337s<br>End: 118.169s<br>Duration: 4.832s"
         ],
         "hovertemplate": "%{customdata}<extra></extra>",
         "insidetextanchor": "middle",
         "marker": {
          "color": "#1F77B4",
          "line": {
           "color": "white",
           "width": 0.5
          },
          "pattern": {
           "fgcolor": "white",
           "fgopacity": 0.5,
           "shape": ".",
           "solidity": 0.25
          }
         },
         "name": "d",
         "orientation": "h",
         "showlegend": true,
         "text": [
          "d",
          "d",
          "d",
          "d"
         ],
         "textposition": "inside",
         "type": "bar",
         "width": 1,
         "x": [
          4.847619999999996,
          4.871630000000003,
          4.760180000000005,
          4.83202
         ],
         "y": [
          "fine",
          "fine",
          "fine",
          "fine"
         ]
        },
        {
         "base": [
          33.69846,
          57.28211,
          94.83279,
          118.16889,
          146.28147,
          188.57372,
          202.88109
         ],
         "customdata": [
          "<b>e</b><br>Layer: fine<br>Start: 33.698s<br>End: 38.403s<br>Duration: 4.705s",
          "<b>e</b><br>Layer: fine<br>Start: 57.282s<br>End: 61.839s<br>Duration: 4.557s",
          "<b>e</b><br>Layer: fine<br>Start: 94.833s<br>End: 99.425s<br>Duration: 4.592s",
          "<b>e</b><br>Layer: fine<br>Start: 118.169s<br>End: 122.833s<br>Duration: 4.664s",
          "<b>e</b><br>Layer: fine<br>Start: 146.281s<br>End: 151.058s<br>Duration: 4.777s",
          "<b>e</b><br>Layer: fine<br>Start: 188.574s<br>End: 193.364s<br>Duration: 4.791s",
          "<b>e</b><br>Layer: fine<br>Start: 202.881s<br>End: 207.633s<br>Duration: 4.752s"
         ],
         "hovertemplate": "%{customdata}<extra></extra>",
         "insidetextanchor": "middle",
         "marker": {
          "color": "#FF7F0E",
          "line": {
           "color": "white",
           "width": 0.5
          },
          "pattern": {
           "fgcolor": "white",
           "fgopacity": 0.5,
           "shape": ".",
           "solidity": 0.25
          }
         },
         "name": "e",
         "orientation": "h",
         "showlegend": true,
         "text": [
          "e",
          "e",
          "e",
          "e",
          "e",
          "e",
          "e"
         ],
         "textposition": "inside",
         "type": "bar",
         "width": 1,
         "x": [
          4.704650000000001,
          4.557099999999998,
          4.592309999999998,
          4.663989999999998,
          4.776579999999996,
          4.790629999999993,
          4.751990000000006
         ],
         "y": [
          "fine",
          "fine",
          "fine",
          "fine",
          "fine",
          "fine",
          "fine"
         ]
        },
        {
         "base": [
          136.7929,
          141.64882,
          179.42526,
          184.04923,
          193.36435,
          198.24143
         ],
         "customdata": [
          "<b>d'</b><br>Layer: fine<br>Start: 136.793s<br>End: 141.649s<br>Duration: 4.856s",
          "<b>d'</b><br>Layer: fine<br>Start: 141.649s<br>End: 146.281s<br>Duration: 4.633s",
          "<b>d'</b><br>Layer: fine<br>Start: 179.425s<br>End: 184.049s<br>Duration: 4.624s",
          "<b>d'</b><br>Layer: fine<br>Start: 184.049s<br>End: 188.574s<br>Duration: 4.524s",
          "<b>d'</b><br>Layer: fine<br>Start: 193.364s<br>End: 198.241s<br>Duration: 4.877s",
          "<b>d'</b><br>Layer: fine<br>Start: 198.241s<br>End: 202.881s<br>Duration: 4.640s"
         ],
         "hovertemplate": "%{customdata}<extra></extra>",
         "insidetextanchor": "middle",
         "marker": {
          "color": "#2CA02C",
          "line": {
           "color": "white",
           "width": 0.5
          },
          "pattern": {
           "fgcolor": "white",
           "fgopacity": 0.5,
           "shape": ".",
           "solidity": 0.25
          }
         },
         "name": "d'",
         "orientation": "h",
         "showlegend": true,
         "text": [
          "d'",
          "d'",
          "d'",
          "d'",
          "d'",
          "d'"
         ],
         "textposition": "inside",
         "type": "bar",
         "width": 1,
         "x": [
          4.855919999999998,
          4.632650000000012,
          4.623969999999986,
          4.524490000000014,
          4.8770800000000065,
          4.639659999999992
         ],
         "y": [
          "fine",
          "fine",
          "fine",
          "fine",
          "fine",
          "fine"
         ]
        },
        {
         "base": [
          207.63308
         ],
         "customdata": [
          "<b>f</b><br>Layer: fine<br>Start: 207.633s<br>End: 215.635s<br>Duration: 8.002s"
         ],
         "hovertemplate": "%{customdata}<extra></extra>",
         "insidetextanchor": "middle",
         "marker": {
          "color": "#D62728",
          "line": {
           "color": "white",
           "width": 0.5
          },
          "pattern": {
           "fgcolor": "white",
           "fgopacity": 0.5,
           "shape": ".",
           "solidity": 0.25
          }
         },
         "name": "f",
         "orientation": "h",
         "showlegend": true,
         "text": [
          "f"
         ],
         "textposition": "inside",
         "type": "bar",
         "width": 1,
         "x": [
          8.001859999999994
         ],
         "y": [
          "fine"
         ]
        }
       ],
       "layout": {
        "barmode": "overlay",
        "height": 120,
        "margin": {
         "b": 20,
         "l": 20,
         "r": 20,
         "t": 40
        },
        "showlegend": false,
        "template": {
         "data": {
          "bar": [
           {
            "error_x": {
             "color": "#2a3f5f"
            },
            "error_y": {
             "color": "#2a3f5f"
            },
            "marker": {
             "line": {
              "color": "#E5ECF6",
              "width": 0.5
             },
             "pattern": {
              "fillmode": "overlay",
              "size": 10,
              "solidity": 0.2
             }
            },
            "type": "bar"
           }
          ],
          "barpolar": [
           {
            "marker": {
             "line": {
              "color": "#E5ECF6",
              "width": 0.5
             },
             "pattern": {
              "fillmode": "overlay",
              "size": 10,
              "solidity": 0.2
             }
            },
            "type": "barpolar"
           }
          ],
          "carpet": [
           {
            "aaxis": {
             "endlinecolor": "#2a3f5f",
             "gridcolor": "white",
             "linecolor": "white",
             "minorgridcolor": "white",
             "startlinecolor": "#2a3f5f"
            },
            "baxis": {
             "endlinecolor": "#2a3f5f",
             "gridcolor": "white",
             "linecolor": "white",
             "minorgridcolor": "white",
             "startlinecolor": "#2a3f5f"
            },
            "type": "carpet"
           }
          ],
          "choropleth": [
           {
            "colorbar": {
             "outlinewidth": 0,
             "ticks": ""
            },
            "type": "choropleth"
           }
          ],
          "contour": [
           {
            "colorbar": {
             "outlinewidth": 0,
             "ticks": ""
            },
            "colorscale": [
             [
              0,
              "#0d0887"
             ],
             [
              0.1111111111111111,
              "#46039f"
             ],
             [
              0.2222222222222222,
              "#7201a8"
             ],
             [
              0.3333333333333333,
              "#9c179e"
             ],
             [
              0.4444444444444444,
              "#bd3786"
             ],
             [
              0.5555555555555556,
              "#d8576b"
             ],
             [
              0.6666666666666666,
              "#ed7953"
             ],
             [
              0.7777777777777778,
              "#fb9f3a"
             ],
             [
              0.8888888888888888,
              "#fdca26"
             ],
             [
              1,
              "#f0f921"
             ]
            ],
            "type": "contour"
           }
          ],
          "contourcarpet": [
           {
            "colorbar": {
             "outlinewidth": 0,
             "ticks": ""
            },
            "type": "contourcarpet"
           }
          ],
          "heatmap": [
           {
            "colorbar": {
             "outlinewidth": 0,
             "ticks": ""
            },
            "colorscale": [
             [
              0,
              "#0d0887"
             ],
             [
              0.1111111111111111,
              "#46039f"
             ],
             [
              0.2222222222222222,
              "#7201a8"
             ],
             [
              0.3333333333333333,
              "#9c179e"
             ],
             [
              0.4444444444444444,
              "#bd3786"
             ],
             [
              0.5555555555555556,
              "#d8576b"
             ],
             [
              0.6666666666666666,
              "#ed7953"
             ],
             [
              0.7777777777777778,
              "#fb9f3a"
             ],
             [
              0.8888888888888888,
              "#fdca26"
             ],
             [
              1,
              "#f0f921"
             ]
            ],
            "type": "heatmap"
           }
          ],
          "histogram": [
           {
            "marker": {
             "pattern": {
              "fillmode": "overlay",
              "size": 10,
              "solidity": 0.2
             }
            },
            "type": "histogram"
           }
          ],
          "histogram2d": [
           {
            "colorbar": {
             "outlinewidth": 0,
             "ticks": ""
            },
            "colorscale": [
             [
              0,
              "#0d0887"
             ],
             [
              0.1111111111111111,
              "#46039f"
             ],
             [
              0.2222222222222222,
              "#7201a8"
             ],
             [
              0.3333333333333333,
              "#9c179e"
             ],
             [
              0.4444444444444444,
              "#bd3786"
             ],
             [
              0.5555555555555556,
              "#d8576b"
             ],
             [
              0.6666666666666666,
              "#ed7953"
             ],
             [
              0.7777777777777778,
              "#fb9f3a"
             ],
             [
              0.8888888888888888,
              "#fdca26"
             ],
             [
              1,
              "#f0f921"
             ]
            ],
            "type": "histogram2d"
           }
          ],
          "histogram2dcontour": [
           {
            "colorbar": {
             "outlinewidth": 0,
             "ticks": ""
            },
            "colorscale": [
             [
              0,
              "#0d0887"
             ],
             [
              0.1111111111111111,
              "#46039f"
             ],
             [
              0.2222222222222222,
              "#7201a8"
             ],
             [
              0.3333333333333333,
              "#9c179e"
             ],
             [
              0.4444444444444444,
              "#bd3786"
             ],
             [
              0.5555555555555556,
              "#d8576b"
             ],
             [
              0.6666666666666666,
              "#ed7953"
             ],
             [
              0.7777777777777778,
              "#fb9f3a"
             ],
             [
              0.8888888888888888,
              "#fdca26"
             ],
             [
              1,
              "#f0f921"
             ]
            ],
            "type": "histogram2dcontour"
           }
          ],
          "mesh3d": [
           {
            "colorbar": {
             "outlinewidth": 0,
             "ticks": ""
            },
            "type": "mesh3d"
           }
          ],
          "parcoords": [
           {
            "line": {
             "colorbar": {
              "outlinewidth": 0,
              "ticks": ""
             }
            },
            "type": "parcoords"
           }
          ],
          "pie": [
           {
            "automargin": true,
            "type": "pie"
           }
          ],
          "scatter": [
           {
            "fillpattern": {
             "fillmode": "overlay",
             "size": 10,
             "solidity": 0.2
            },
            "type": "scatter"
           }
          ],
          "scatter3d": [
           {
            "line": {
             "colorbar": {
              "outlinewidth": 0,
              "ticks": ""
             }
            },
            "marker": {
             "colorbar": {
              "outlinewidth": 0,
              "ticks": ""
             }
            },
            "type": "scatter3d"
           }
          ],
          "scattercarpet": [
           {
            "marker": {
             "colorbar": {
              "outlinewidth": 0,
              "ticks": ""
             }
            },
            "type": "scattercarpet"
           }
          ],
          "scattergeo": [
           {
            "marker": {
             "colorbar": {
              "outlinewidth": 0,
              "ticks": ""
             }
            },
            "type": "scattergeo"
           }
          ],
          "scattergl": [
           {
            "marker": {
             "colorbar": {
              "outlinewidth": 0,
              "ticks": ""
             }
            },
            "type": "scattergl"
           }
          ],
          "scattermap": [
           {
            "marker": {
             "colorbar": {
              "outlinewidth": 0,
              "ticks": ""
             }
            },
            "type": "scattermap"
           }
          ],
          "scattermapbox": [
           {
            "marker": {
             "colorbar": {
              "outlinewidth": 0,
              "ticks": ""
             }
            },
            "type": "scattermapbox"
           }
          ],
          "scatterpolar": [
           {
            "marker": {
             "colorbar": {
              "outlinewidth": 0,
              "ticks": ""
             }
            },
            "type": "scatterpolar"
           }
          ],
          "scatterpolargl": [
           {
            "marker": {
             "colorbar": {
              "outlinewidth": 0,
              "ticks": ""
             }
            },
            "type": "scatterpolargl"
           }
          ],
          "scatterternary": [
           {
            "marker": {
             "colorbar": {
              "outlinewidth": 0,
              "ticks": ""
             }
            },
            "type": "scatterternary"
           }
          ],
          "surface": [
           {
            "colorbar": {
             "outlinewidth": 0,
             "ticks": ""
            },
            "colorscale": [
             [
              0,
              "#0d0887"
             ],
             [
              0.1111111111111111,
              "#46039f"
             ],
             [
              0.2222222222222222,
              "#7201a8"
             ],
             [
              0.3333333333333333,
              "#9c179e"
             ],
             [
              0.4444444444444444,
              "#bd3786"
             ],
             [
              0.5555555555555556,
              "#d8576b"
             ],
             [
              0.6666666666666666,
              "#ed7953"
             ],
             [
              0.7777777777777778,
              "#fb9f3a"
             ],
             [
              0.8888888888888888,
              "#fdca26"
             ],
             [
              1,
              "#f0f921"
             ]
            ],
            "type": "surface"
           }
          ],
          "table": [
           {
            "cells": {
             "fill": {
              "color": "#EBF0F8"
             },
             "line": {
              "color": "white"
             }
            },
            "header": {
             "fill": {
              "color": "#C8D4E3"
             },
             "line": {
              "color": "white"
             }
            },
            "type": "table"
           }
          ]
         },
         "layout": {
          "annotationdefaults": {
           "arrowcolor": "#2a3f5f",
           "arrowhead": 0,
           "arrowwidth": 1
          },
          "autotypenumbers": "strict",
          "coloraxis": {
           "colorbar": {
            "outlinewidth": 0,
            "ticks": ""
           }
          },
          "colorscale": {
           "diverging": [
            [
             0,
             "#8e0152"
            ],
            [
             0.1,
             "#c51b7d"
            ],
            [
             0.2,
             "#de77ae"
            ],
            [
             0.3,
             "#f1b6da"
            ],
            [
             0.4,
             "#fde0ef"
            ],
            [
             0.5,
             "#f7f7f7"
            ],
            [
             0.6,
             "#e6f5d0"
            ],
            [
             0.7,
             "#b8e186"
            ],
            [
             0.8,
             "#7fbc41"
            ],
            [
             0.9,
             "#4d9221"
            ],
            [
             1,
             "#276419"
            ]
           ],
           "sequential": [
            [
             0,
             "#0d0887"
            ],
            [
             0.1111111111111111,
             "#46039f"
            ],
            [
             0.2222222222222222,
             "#7201a8"
            ],
            [
             0.3333333333333333,
             "#9c179e"
            ],
            [
             0.4444444444444444,
             "#bd3786"
            ],
            [
             0.5555555555555556,
             "#d8576b"
            ],
            [
             0.6666666666666666,
             "#ed7953"
            ],
            [
             0.7777777777777778,
             "#fb9f3a"
            ],
            [
             0.8888888888888888,
             "#fdca26"
            ],
            [
             1,
             "#f0f921"
            ]
           ],
           "sequentialminus": [
            [
             0,
             "#0d0887"
            ],
            [
             0.1111111111111111,
             "#46039f"
            ],
            [
             0.2222222222222222,
             "#7201a8"
            ],
            [
             0.3333333333333333,
             "#9c179e"
            ],
            [
             0.4444444444444444,
             "#bd3786"
            ],
            [
             0.5555555555555556,
             "#d8576b"
            ],
            [
             0.6666666666666666,
             "#ed7953"
            ],
            [
             0.7777777777777778,
             "#fb9f3a"
            ],
            [
             0.8888888888888888,
             "#fdca26"
            ],
            [
             1,
             "#f0f921"
            ]
           ]
          },
          "colorway": [
           "#636efa",
           "#EF553B",
           "#00cc96",
           "#ab63fa",
           "#FFA15A",
           "#19d3f3",
           "#FF6692",
           "#B6E880",
           "#FF97FF",
           "#FECB52"
          ],
          "font": {
           "color": "#2a3f5f"
          },
          "geo": {
           "bgcolor": "white",
           "lakecolor": "white",
           "landcolor": "#E5ECF6",
           "showlakes": true,
           "showland": true,
           "subunitcolor": "white"
          },
          "hoverlabel": {
           "align": "left"
          },
          "hovermode": "closest",
          "mapbox": {
           "style": "light"
          },
          "paper_bgcolor": "white",
          "plot_bgcolor": "#E5ECF6",
          "polar": {
           "angularaxis": {
            "gridcolor": "white",
            "linecolor": "white",
            "ticks": ""
           },
           "bgcolor": "#E5ECF6",
           "radialaxis": {
            "gridcolor": "white",
            "linecolor": "white",
            "ticks": ""
           }
          },
          "scene": {
           "xaxis": {
            "backgroundcolor": "#E5ECF6",
            "gridcolor": "white",
            "gridwidth": 2,
            "linecolor": "white",
            "showbackground": true,
            "ticks": "",
            "zerolinecolor": "white"
           },
           "yaxis": {
            "backgroundcolor": "#E5ECF6",
            "gridcolor": "white",
            "gridwidth": 2,
            "linecolor": "white",
            "showbackground": true,
            "ticks": "",
            "zerolinecolor": "white"
           },
           "zaxis": {
            "backgroundcolor": "#E5ECF6",
            "gridcolor": "white",
            "gridwidth": 2,
            "linecolor": "white",
            "showbackground": true,
            "ticks": "",
            "zerolinecolor": "white"
           }
          },
          "shapedefaults": {
           "line": {
            "color": "#2a3f5f"
           }
          },
          "ternary": {
           "aaxis": {
            "gridcolor": "white",
            "linecolor": "white",
            "ticks": ""
           },
           "baxis": {
            "gridcolor": "white",
            "linecolor": "white",
            "ticks": ""
           },
           "bgcolor": "#E5ECF6",
           "caxis": {
            "gridcolor": "white",
            "linecolor": "white",
            "ticks": ""
           }
          },
          "title": {
           "x": 0.05
          },
          "xaxis": {
           "automargin": true,
           "gridcolor": "white",
           "linecolor": "white",
           "ticks": "",
           "title": {
            "standoff": 15
           },
           "zerolinecolor": "white",
           "zerolinewidth": 2
          },
          "yaxis": {
           "automargin": true,
           "gridcolor": "white",
           "linecolor": "white",
           "ticks": "",
           "title": {
            "standoff": 15
           },
           "zerolinecolor": "white",
           "zerolinewidth": 2
          }
         }
        },
        "title": {
         "text": "annotator-5",
         "x": 0.5
        },
        "width": 650,
        "xaxis": {
         "range": [
          0,
          220.14893
         ],
         "title": {
          "text": "Time (s)"
         }
        },
        "yaxis": {
         "categoryarray": [
          "fine",
          "coarse"
         ],
         "categoryorder": "array",
         "title": {}
        }
       }
      }
     },
     "metadata": {},
     "output_type": "display_data"
    }
   ],
   "source": [
    "ref.plot()"
   ]
  },
  {
   "cell_type": "code",
   "execution_count": 13,
   "metadata": {},
   "outputs": [
    {
     "data": {
      "application/vnd.plotly.v1+json": {
       "config": {
        "plotlyServerURL": "https://plot.ly"
       },
       "data": [
        {
         "base": [
          0,
          0,
          0,
          76.29,
          135.82,
          165.9,
          0,
          76.29,
          165.9,
          202.68,
          0,
          76.29,
          165.9,
          202.68,
          0,
          76.29,
          165.6,
          202.68,
          0,
          76.59,
          165.6,
          202.68,
          0,
          76.59,
          165.6,
          202.68,
          14.43,
          76.29,
          14.71,
          76.29,
          14.71,
          76.29,
          14.71,
          76.29
         ],
         "customdata": [
          "<b>0</b><br>Layer: L01<br>Start: 0.000s<br>End: 220.134s<br>Duration: 220.134s",
          "<b>0</b><br>Layer: L02<br>Start: 0.000s<br>End: 220.134s<br>Duration: 220.134s",
          "<b>0</b><br>Layer: L03<br>Start: 0.000s<br>End: 61.860s<br>Duration: 61.860s",
          "<b>0</b><br>Layer: L03<br>Start: 76.290s<br>End: 123.220s<br>Duration: 46.930s",
          "<b>0</b><br>Layer: L03<br>Start: 135.820s<br>End: 151.390s<br>Duration: 15.570s",
          "<b>0</b><br>Layer: L03<br>Start: 165.900s<br>End: 220.134s<br>Duration: 54.234s",
          "<b>0</b><br>Layer: L04<br>Start: 0.000s<br>End: 61.860s<br>Duration: 61.860s",
          "<b>0</b><br>Layer: L04<br>Start: 76.290s<br>End: 123.220s<br>Duration: 46.930s",
          "<b>0</b><br>Layer: L04<br>Start: 165.900s<br>End: 179.160s<br>Duration: 13.260s",
          "<b>0</b><br>Layer: L04<br>Start: 202.680s<br>End: 220.134s<br>Duration: 17.454s",
          "<b>0</b><br>Layer: L05<br>Start: 0.000s<br>End: 61.860s<br>Duration: 61.860s",
          "<b>0</b><br>Layer: L05<br>Start: 76.290s<br>End: 123.220s<br>Duration: 46.930s",
          "<b>0</b><br>Layer: L05<br>Start: 165.900s<br>End: 178.570s<br>Duration: 12.670s",
          "<b>0</b><br>Layer: L05<br>Start: 202.680s<br>End: 220.134s<br>Duration: 17.454s",
          "<b>0</b><br>Layer: L06<br>Start: 0.000s<br>End: 61.860s<br>Duration: 61.860s",
          "<b>0</b><br>Layer: L06<br>Start: 76.290s<br>End: 122.920s<br>Duration: 46.630s",
          "<b>0</b><br>Layer: L06<br>Start: 165.600s<br>End: 178.570s<br>Duration: 12.970s",
          "<b>0</b><br>Layer: L06<br>Start: 202.680s<br>End: 220.134s<br>Duration: 17.454s",
          "<b>0</b><br>Layer: L07<br>Start: 0.000s<br>End: 61.860s<br>Duration: 61.860s",
          "<b>0</b><br>Layer: L07<br>Start: 76.590s<br>End: 122.920s<br>Duration: 46.330s",
          "<b>0</b><br>Layer: L07<br>Start: 165.600s<br>End: 178.570s<br>Duration: 12.970s",
          "<b>0</b><br>Layer: L07<br>Start: 202.680s<br>End: 220.134s<br>Duration: 17.454s",
          "<b>0</b><br>Layer: L08<br>Start: 0.000s<br>End: 61.860s<br>Duration: 61.860s",
          "<b>0</b><br>Layer: L08<br>Start: 76.590s<br>End: 122.920s<br>Duration: 46.330s",
          "<b>0</b><br>Layer: L08<br>Start: 165.600s<br>End: 178.570s<br>Duration: 12.970s",
          "<b>0</b><br>Layer: L08<br>Start: 202.680s<br>End: 220.134s<br>Duration: 17.454s",
          "<b>0</b><br>Layer: L09<br>Start: 14.430s<br>End: 61.860s<br>Duration: 47.430s",
          "<b>0</b><br>Layer: L09<br>Start: 76.290s<br>End: 122.920s<br>Duration: 46.630s",
          "<b>0</b><br>Layer: L10<br>Start: 14.710s<br>End: 61.860s<br>Duration: 47.150s",
          "<b>0</b><br>Layer: L10<br>Start: 76.290s<br>End: 122.920s<br>Duration: 46.630s",
          "<b>0</b><br>Layer: L11<br>Start: 14.710s<br>End: 62.470s<br>Duration: 47.760s",
          "<b>0</b><br>Layer: L11<br>Start: 76.290s<br>End: 123.220s<br>Duration: 46.930s",
          "<b>0</b><br>Layer: L12<br>Start: 14.710s<br>End: 62.470s<br>Duration: 47.760s",
          "<b>0</b><br>Layer: L12<br>Start: 76.290s<br>End: 123.220s<br>Duration: 46.930s"
         ],
         "hovertemplate": "%{customdata}<extra></extra>",
         "insidetextanchor": "middle",
         "marker": {
          "color": "#1F77B4",
          "line": {
           "color": "white",
           "width": 0.5
          },
          "pattern": {
           "fgcolor": "white",
           "fgopacity": 0.5,
           "shape": "",
           "solidity": 0.25
          }
         },
         "name": "0",
         "orientation": "h",
         "showlegend": true,
         "text": [
          "0",
          "0",
          "0",
          "0",
          "0",
          "0",
          "0",
          "0",
          "0",
          "0",
          "0",
          "0",
          "0",
          "0",
          "0",
          "0",
          "0",
          "0",
          "0",
          "0",
          "0",
          "0",
          "0",
          "0",
          "0",
          "0",
          "0",
          "0",
          "0",
          "0",
          "0",
          "0",
          "0",
          "0"
         ],
         "textposition": "inside",
         "type": "bar",
         "width": 1,
         "x": [
          220.13388,
          220.13388,
          61.86,
          46.92999999999999,
          15.569999999999993,
          54.23388,
          61.86,
          46.92999999999999,
          13.259999999999991,
          17.453879999999998,
          61.86,
          46.92999999999999,
          12.669999999999987,
          17.453879999999998,
          61.86,
          46.629999999999995,
          12.969999999999999,
          17.453879999999998,
          61.86,
          46.33,
          12.969999999999999,
          17.453879999999998,
          61.86,
          46.33,
          12.969999999999999,
          17.453879999999998,
          47.43,
          46.629999999999995,
          47.15,
          46.629999999999995,
          47.76,
          46.92999999999999,
          47.76,
          46.92999999999999
         ],
         "y": [
          "L01",
          "L02",
          "L03",
          "L03",
          "L03",
          "L03",
          "L04",
          "L04",
          "L04",
          "L04",
          "L05",
          "L05",
          "L05",
          "L05",
          "L06",
          "L06",
          "L06",
          "L06",
          "L07",
          "L07",
          "L07",
          "L07",
          "L08",
          "L08",
          "L08",
          "L08",
          "L09",
          "L09",
          "L10",
          "L10",
          "L11",
          "L11",
          "L12",
          "L12"
         ]
        },
        {
         "base": [
          61.86,
          123.22,
          151.39,
          61.86,
          123.22,
          151.39,
          61.86,
          146.09,
          61.86,
          151.39,
          61.86,
          146.39,
          61.86,
          146.09,
          61.86,
          151.39,
          61.86,
          146.09,
          62.47,
          151.99,
          62.47,
          146.39
         ],
         "customdata": [
          "<b>2</b><br>Layer: L03<br>Start: 61.860s<br>End: 76.290s<br>Duration: 14.430s",
          "<b>2</b><br>Layer: L03<br>Start: 123.220s<br>End: 135.820s<br>Duration: 12.600s",
          "<b>2</b><br>Layer: L03<br>Start: 151.390s<br>End: 165.900s<br>Duration: 14.510s",
          "<b>2</b><br>Layer: L04<br>Start: 61.860s<br>End: 76.290s<br>Duration: 14.430s",
          "<b>2</b><br>Layer: L04<br>Start: 123.220s<br>End: 136.110s<br>Duration: 12.890s",
          "<b>2</b><br>Layer: L04<br>Start: 151.390s<br>End: 165.900s<br>Duration: 14.510s",
          "<b>2</b><br>Layer: L05<br>Start: 61.860s<br>End: 76.290s<br>Duration: 14.430s",
          "<b>2</b><br>Layer: L05<br>Start: 146.090s<br>End: 165.900s<br>Duration: 19.810s",
          "<b>2</b><br>Layer: L06<br>Start: 61.860s<br>End: 76.290s<br>Duration: 14.430s",
          "<b>2</b><br>Layer: L06<br>Start: 151.390s<br>End: 165.600s<br>Duration: 14.210s",
          "<b>2</b><br>Layer: L07<br>Start: 61.860s<br>End: 76.590s<br>Duration: 14.730s",
          "<b>2</b><br>Layer: L07<br>Start: 146.390s<br>End: 165.600s<br>Duration: 19.210s",
          "<b>2</b><br>Layer: L08<br>Start: 61.860s<br>End: 76.590s<br>Duration: 14.730s",
          "<b>2</b><br>Layer: L08<br>Start: 146.090s<br>End: 165.600s<br>Duration: 19.510s",
          "<b>2</b><br>Layer: L09<br>Start: 61.860s<br>End: 76.290s<br>Duration: 14.430s",
          "<b>2</b><br>Layer: L09<br>Start: 151.390s<br>End: 178.570s<br>Duration: 27.180s",
          "<b>2</b><br>Layer: L10<br>Start: 61.860s<br>End: 76.290s<br>Duration: 14.430s",
          "<b>2</b><br>Layer: L10<br>Start: 146.090s<br>End: 178.570s<br>Duration: 32.480s",
          "<b>2</b><br>Layer: L11<br>Start: 62.470s<br>End: 76.290s<br>Duration: 13.820s",
          "<b>2</b><br>Layer: L11<br>Start: 151.990s<br>End: 178.570s<br>Duration: 26.580s",
          "<b>2</b><br>Layer: L12<br>Start: 62.470s<br>End: 76.290s<br>Duration: 13.820s",
          "<b>2</b><br>Layer: L12<br>Start: 146.390s<br>End: 178.570s<br>Duration: 32.180s"
         ],
         "hovertemplate": "%{customdata}<extra></extra>",
         "insidetextanchor": "middle",
         "marker": {
          "color": "#FF7F0E",
          "line": {
           "color": "white",
           "width": 0.5
          },
          "pattern": {
           "fgcolor": "white",
           "fgopacity": 0.5,
           "shape": "",
           "solidity": 0.25
          }
         },
         "name": "2",
         "orientation": "h",
         "showlegend": true,
         "text": [
          "2",
          "2",
          "2",
          "2",
          "2",
          "2",
          "2",
          "2",
          "2",
          "2",
          "2",
          "2",
          "2",
          "2",
          "2",
          "2",
          "2",
          "2",
          "2",
          "2",
          "2",
          "2"
         ],
         "textposition": "inside",
         "type": "bar",
         "width": 1,
         "x": [
          14.430000000000007,
          12.599999999999994,
          14.51000000000002,
          14.430000000000007,
          12.890000000000015,
          14.51000000000002,
          14.430000000000007,
          19.810000000000002,
          14.430000000000007,
          14.210000000000008,
          14.730000000000004,
          19.210000000000008,
          14.730000000000004,
          19.50999999999999,
          14.430000000000007,
          27.180000000000007,
          14.430000000000007,
          32.47999999999999,
          13.820000000000007,
          26.579999999999984,
          13.820000000000007,
          32.18000000000001
         ],
         "y": [
          "L03",
          "L03",
          "L03",
          "L04",
          "L04",
          "L04",
          "L05",
          "L05",
          "L06",
          "L06",
          "L07",
          "L07",
          "L08",
          "L08",
          "L09",
          "L09",
          "L10",
          "L10",
          "L11",
          "L11",
          "L12",
          "L12"
         ]
        },
        {
         "base": [
          136.11,
          179.16,
          135.82,
          178.57,
          136.11,
          178.57,
          136.11,
          178.57,
          136.11,
          178.57,
          136.11,
          178.57,
          136.11,
          178.57,
          136.11,
          178.57,
          136.11,
          178.57
         ],
         "customdata": [
          "<b>3</b><br>Layer: L04<br>Start: 136.110s<br>End: 151.390s<br>Duration: 15.280s",
          "<b>3</b><br>Layer: L04<br>Start: 179.160s<br>End: 202.680s<br>Duration: 23.520s",
          "<b>3</b><br>Layer: L05<br>Start: 135.820s<br>End: 146.090s<br>Duration: 10.270s",
          "<b>3</b><br>Layer: L05<br>Start: 178.570s<br>End: 202.680s<br>Duration: 24.110s",
          "<b>3</b><br>Layer: L06<br>Start: 136.110s<br>End: 151.390s<br>Duration: 15.280s",
          "<b>3</b><br>Layer: L06<br>Start: 178.570s<br>End: 202.680s<br>Duration: 24.110s",
          "<b>3</b><br>Layer: L07<br>Start: 136.110s<br>End: 146.390s<br>Duration: 10.280s",
          "<b>3</b><br>Layer: L07<br>Start: 178.570s<br>End: 202.680s<br>Duration: 24.110s",
          "<b>3</b><br>Layer: L08<br>Start: 136.110s<br>End: 146.090s<br>Duration: 9.980s",
          "<b>3</b><br>Layer: L08<br>Start: 178.570s<br>End: 202.680s<br>Duration: 24.110s",
          "<b>3</b><br>Layer: L09<br>Start: 136.110s<br>End: 151.390s<br>Duration: 15.280s",
          "<b>3</b><br>Layer: L09<br>Start: 178.570s<br>End: 204.180s<br>Duration: 25.610s",
          "<b>3</b><br>Layer: L10<br>Start: 136.110s<br>End: 146.090s<br>Duration: 9.980s",
          "<b>3</b><br>Layer: L10<br>Start: 178.570s<br>End: 204.480s<br>Duration: 25.910s",
          "<b>3</b><br>Layer: L11<br>Start: 136.110s<br>End: 151.990s<br>Duration: 15.880s",
          "<b>3</b><br>Layer: L11<br>Start: 178.570s<br>End: 202.680s<br>Duration: 24.110s",
          "<b>3</b><br>Layer: L12<br>Start: 136.110s<br>End: 146.390s<br>Duration: 10.280s",
          "<b>3</b><br>Layer: L12<br>Start: 178.570s<br>End: 202.680s<br>Duration: 24.110s"
         ],
         "hovertemplate": "%{customdata}<extra></extra>",
         "insidetextanchor": "middle",
         "marker": {
          "color": "#2CA02C",
          "line": {
           "color": "white",
           "width": 0.5
          },
          "pattern": {
           "fgcolor": "white",
           "fgopacity": 0.5,
           "shape": "",
           "solidity": 0.25
          }
         },
         "name": "3",
         "orientation": "h",
         "showlegend": true,
         "text": [
          "3",
          "3",
          "3",
          "3",
          "3",
          "3",
          "3",
          "3",
          "3",
          "3",
          "3",
          "3",
          "3",
          "3",
          "3",
          "3",
          "3",
          "3"
         ],
         "textposition": "inside",
         "type": "bar",
         "width": 1,
         "x": [
          15.279999999999973,
          23.52000000000001,
          10.27000000000001,
          24.110000000000014,
          15.279999999999973,
          24.110000000000014,
          10.279999999999973,
          24.110000000000014,
          9.97999999999999,
          24.110000000000014,
          15.279999999999973,
          25.610000000000014,
          9.97999999999999,
          25.909999999999997,
          15.879999999999995,
          24.110000000000014,
          10.279999999999973,
          24.110000000000014
         ],
         "y": [
          "L04",
          "L04",
          "L05",
          "L05",
          "L06",
          "L06",
          "L07",
          "L07",
          "L08",
          "L08",
          "L09",
          "L09",
          "L10",
          "L10",
          "L11",
          "L11",
          "L12",
          "L12"
         ]
        },
        {
         "base": [
          123.22
         ],
         "customdata": [
          "<b>4</b><br>Layer: L05<br>Start: 123.220s<br>End: 135.820s<br>Duration: 12.600s"
         ],
         "hovertemplate": "%{customdata}<extra></extra>",
         "insidetextanchor": "middle",
         "marker": {
          "color": "#D62728",
          "line": {
           "color": "white",
           "width": 0.5
          },
          "pattern": {
           "fgcolor": "white",
           "fgopacity": 0.5,
           "shape": "",
           "solidity": 0.25
          }
         },
         "name": "4",
         "orientation": "h",
         "showlegend": true,
         "text": [
          "4"
         ],
         "textposition": "inside",
         "type": "bar",
         "width": 1,
         "x": [
          12.599999999999994
         ],
         "y": [
          "L05"
         ]
        },
        {
         "base": [
          122.92,
          122.92,
          122.92,
          122.92,
          122.92,
          123.22,
          123.22
         ],
         "customdata": [
          "<b>5</b><br>Layer: L06<br>Start: 122.920s<br>End: 136.110s<br>Duration: 13.190s",
          "<b>5</b><br>Layer: L07<br>Start: 122.920s<br>End: 136.110s<br>Duration: 13.190s",
          "<b>5</b><br>Layer: L08<br>Start: 122.920s<br>End: 136.110s<br>Duration: 13.190s",
          "<b>5</b><br>Layer: L09<br>Start: 122.920s<br>End: 136.110s<br>Duration: 13.190s",
          "<b>5</b><br>Layer: L10<br>Start: 122.920s<br>End: 136.110s<br>Duration: 13.190s",
          "<b>5</b><br>Layer: L11<br>Start: 123.220s<br>End: 136.110s<br>Duration: 12.890s",
          "<b>5</b><br>Layer: L12<br>Start: 123.220s<br>End: 136.110s<br>Duration: 12.890s"
         ],
         "hovertemplate": "%{customdata}<extra></extra>",
         "insidetextanchor": "middle",
         "marker": {
          "color": "#9467BD",
          "line": {
           "color": "white",
           "width": 0.5
          },
          "pattern": {
           "fgcolor": "white",
           "fgopacity": 0.5,
           "shape": "",
           "solidity": 0.25
          }
         },
         "name": "5",
         "orientation": "h",
         "showlegend": true,
         "text": [
          "5",
          "5",
          "5",
          "5",
          "5",
          "5",
          "5"
         ],
         "textposition": "inside",
         "type": "bar",
         "width": 1,
         "x": [
          13.190000000000012,
          13.190000000000012,
          13.190000000000012,
          13.190000000000012,
          13.190000000000012,
          12.890000000000015,
          12.890000000000015
         ],
         "y": [
          "L06",
          "L07",
          "L08",
          "L09",
          "L10",
          "L11",
          "L12"
         ]
        },
        {
         "base": [
          0,
          0,
          0,
          202.68,
          0,
          202.68
         ],
         "customdata": [
          "<b>8</b><br>Layer: L09<br>Start: 0.000s<br>End: 14.430s<br>Duration: 14.430s",
          "<b>8</b><br>Layer: L10<br>Start: 0.000s<br>End: 14.710s<br>Duration: 14.710s",
          "<b>8</b><br>Layer: L11<br>Start: 0.000s<br>End: 14.710s<br>Duration: 14.710s",
          "<b>8</b><br>Layer: L11<br>Start: 202.680s<br>End: 220.134s<br>Duration: 17.454s",
          "<b>8</b><br>Layer: L12<br>Start: 0.000s<br>End: 14.710s<br>Duration: 14.710s",
          "<b>8</b><br>Layer: L12<br>Start: 202.680s<br>End: 220.134s<br>Duration: 17.454s"
         ],
         "hovertemplate": "%{customdata}<extra></extra>",
         "insidetextanchor": "middle",
         "marker": {
          "color": "#8C564B",
          "line": {
           "color": "white",
           "width": 0.5
          },
          "pattern": {
           "fgcolor": "white",
           "fgopacity": 0.5,
           "shape": "",
           "solidity": 0.25
          }
         },
         "name": "8",
         "orientation": "h",
         "showlegend": true,
         "text": [
          "8",
          "8",
          "8",
          "8",
          "8",
          "8"
         ],
         "textposition": "inside",
         "type": "bar",
         "width": 1,
         "x": [
          14.43,
          14.71,
          14.71,
          17.453879999999998,
          14.71,
          17.453879999999998
         ],
         "y": [
          "L09",
          "L10",
          "L11",
          "L11",
          "L12",
          "L12"
         ]
        },
        {
         "base": [
          204.18,
          204.48
         ],
         "customdata": [
          "<b>1</b><br>Layer: L09<br>Start: 204.180s<br>End: 220.134s<br>Duration: 15.954s",
          "<b>1</b><br>Layer: L10<br>Start: 204.480s<br>End: 220.134s<br>Duration: 15.654s"
         ],
         "hovertemplate": "%{customdata}<extra></extra>",
         "insidetextanchor": "middle",
         "marker": {
          "color": "#E377C2",
          "line": {
           "color": "white",
           "width": 0.5
          },
          "pattern": {
           "fgcolor": "white",
           "fgopacity": 0.5,
           "shape": "",
           "solidity": 0.25
          }
         },
         "name": "1",
         "orientation": "h",
         "showlegend": true,
         "text": [
          "1",
          "1"
         ],
         "textposition": "inside",
         "type": "bar",
         "width": 1,
         "x": [
          15.953879999999998,
          15.653880000000015
         ],
         "y": [
          "L09",
          "L10"
         ]
        }
       ],
       "layout": {
        "barmode": "overlay",
        "height": 370,
        "margin": {
         "b": 20,
         "l": 20,
         "r": 20,
         "t": 40
        },
        "showlegend": false,
        "template": {
         "data": {
          "bar": [
           {
            "error_x": {
             "color": "#2a3f5f"
            },
            "error_y": {
             "color": "#2a3f5f"
            },
            "marker": {
             "line": {
              "color": "#E5ECF6",
              "width": 0.5
             },
             "pattern": {
              "fillmode": "overlay",
              "size": 10,
              "solidity": 0.2
             }
            },
            "type": "bar"
           }
          ],
          "barpolar": [
           {
            "marker": {
             "line": {
              "color": "#E5ECF6",
              "width": 0.5
             },
             "pattern": {
              "fillmode": "overlay",
              "size": 10,
              "solidity": 0.2
             }
            },
            "type": "barpolar"
           }
          ],
          "carpet": [
           {
            "aaxis": {
             "endlinecolor": "#2a3f5f",
             "gridcolor": "white",
             "linecolor": "white",
             "minorgridcolor": "white",
             "startlinecolor": "#2a3f5f"
            },
            "baxis": {
             "endlinecolor": "#2a3f5f",
             "gridcolor": "white",
             "linecolor": "white",
             "minorgridcolor": "white",
             "startlinecolor": "#2a3f5f"
            },
            "type": "carpet"
           }
          ],
          "choropleth": [
           {
            "colorbar": {
             "outlinewidth": 0,
             "ticks": ""
            },
            "type": "choropleth"
           }
          ],
          "contour": [
           {
            "colorbar": {
             "outlinewidth": 0,
             "ticks": ""
            },
            "colorscale": [
             [
              0,
              "#0d0887"
             ],
             [
              0.1111111111111111,
              "#46039f"
             ],
             [
              0.2222222222222222,
              "#7201a8"
             ],
             [
              0.3333333333333333,
              "#9c179e"
             ],
             [
              0.4444444444444444,
              "#bd3786"
             ],
             [
              0.5555555555555556,
              "#d8576b"
             ],
             [
              0.6666666666666666,
              "#ed7953"
             ],
             [
              0.7777777777777778,
              "#fb9f3a"
             ],
             [
              0.8888888888888888,
              "#fdca26"
             ],
             [
              1,
              "#f0f921"
             ]
            ],
            "type": "contour"
           }
          ],
          "contourcarpet": [
           {
            "colorbar": {
             "outlinewidth": 0,
             "ticks": ""
            },
            "type": "contourcarpet"
           }
          ],
          "heatmap": [
           {
            "colorbar": {
             "outlinewidth": 0,
             "ticks": ""
            },
            "colorscale": [
             [
              0,
              "#0d0887"
             ],
             [
              0.1111111111111111,
              "#46039f"
             ],
             [
              0.2222222222222222,
              "#7201a8"
             ],
             [
              0.3333333333333333,
              "#9c179e"
             ],
             [
              0.4444444444444444,
              "#bd3786"
             ],
             [
              0.5555555555555556,
              "#d8576b"
             ],
             [
              0.6666666666666666,
              "#ed7953"
             ],
             [
              0.7777777777777778,
              "#fb9f3a"
             ],
             [
              0.8888888888888888,
              "#fdca26"
             ],
             [
              1,
              "#f0f921"
             ]
            ],
            "type": "heatmap"
           }
          ],
          "histogram": [
           {
            "marker": {
             "pattern": {
              "fillmode": "overlay",
              "size": 10,
              "solidity": 0.2
             }
            },
            "type": "histogram"
           }
          ],
          "histogram2d": [
           {
            "colorbar": {
             "outlinewidth": 0,
             "ticks": ""
            },
            "colorscale": [
             [
              0,
              "#0d0887"
             ],
             [
              0.1111111111111111,
              "#46039f"
             ],
             [
              0.2222222222222222,
              "#7201a8"
             ],
             [
              0.3333333333333333,
              "#9c179e"
             ],
             [
              0.4444444444444444,
              "#bd3786"
             ],
             [
              0.5555555555555556,
              "#d8576b"
             ],
             [
              0.6666666666666666,
              "#ed7953"
             ],
             [
              0.7777777777777778,
              "#fb9f3a"
             ],
             [
              0.8888888888888888,
              "#fdca26"
             ],
             [
              1,
              "#f0f921"
             ]
            ],
            "type": "histogram2d"
           }
          ],
          "histogram2dcontour": [
           {
            "colorbar": {
             "outlinewidth": 0,
             "ticks": ""
            },
            "colorscale": [
             [
              0,
              "#0d0887"
             ],
             [
              0.1111111111111111,
              "#46039f"
             ],
             [
              0.2222222222222222,
              "#7201a8"
             ],
             [
              0.3333333333333333,
              "#9c179e"
             ],
             [
              0.4444444444444444,
              "#bd3786"
             ],
             [
              0.5555555555555556,
              "#d8576b"
             ],
             [
              0.6666666666666666,
              "#ed7953"
             ],
             [
              0.7777777777777778,
              "#fb9f3a"
             ],
             [
              0.8888888888888888,
              "#fdca26"
             ],
             [
              1,
              "#f0f921"
             ]
            ],
            "type": "histogram2dcontour"
           }
          ],
          "mesh3d": [
           {
            "colorbar": {
             "outlinewidth": 0,
             "ticks": ""
            },
            "type": "mesh3d"
           }
          ],
          "parcoords": [
           {
            "line": {
             "colorbar": {
              "outlinewidth": 0,
              "ticks": ""
             }
            },
            "type": "parcoords"
           }
          ],
          "pie": [
           {
            "automargin": true,
            "type": "pie"
           }
          ],
          "scatter": [
           {
            "fillpattern": {
             "fillmode": "overlay",
             "size": 10,
             "solidity": 0.2
            },
            "type": "scatter"
           }
          ],
          "scatter3d": [
           {
            "line": {
             "colorbar": {
              "outlinewidth": 0,
              "ticks": ""
             }
            },
            "marker": {
             "colorbar": {
              "outlinewidth": 0,
              "ticks": ""
             }
            },
            "type": "scatter3d"
           }
          ],
          "scattercarpet": [
           {
            "marker": {
             "colorbar": {
              "outlinewidth": 0,
              "ticks": ""
             }
            },
            "type": "scattercarpet"
           }
          ],
          "scattergeo": [
           {
            "marker": {
             "colorbar": {
              "outlinewidth": 0,
              "ticks": ""
             }
            },
            "type": "scattergeo"
           }
          ],
          "scattergl": [
           {
            "marker": {
             "colorbar": {
              "outlinewidth": 0,
              "ticks": ""
             }
            },
            "type": "scattergl"
           }
          ],
          "scattermap": [
           {
            "marker": {
             "colorbar": {
              "outlinewidth": 0,
              "ticks": ""
             }
            },
            "type": "scattermap"
           }
          ],
          "scattermapbox": [
           {
            "marker": {
             "colorbar": {
              "outlinewidth": 0,
              "ticks": ""
             }
            },
            "type": "scattermapbox"
           }
          ],
          "scatterpolar": [
           {
            "marker": {
             "colorbar": {
              "outlinewidth": 0,
              "ticks": ""
             }
            },
            "type": "scatterpolar"
           }
          ],
          "scatterpolargl": [
           {
            "marker": {
             "colorbar": {
              "outlinewidth": 0,
              "ticks": ""
             }
            },
            "type": "scatterpolargl"
           }
          ],
          "scatterternary": [
           {
            "marker": {
             "colorbar": {
              "outlinewidth": 0,
              "ticks": ""
             }
            },
            "type": "scatterternary"
           }
          ],
          "surface": [
           {
            "colorbar": {
             "outlinewidth": 0,
             "ticks": ""
            },
            "colorscale": [
             [
              0,
              "#0d0887"
             ],
             [
              0.1111111111111111,
              "#46039f"
             ],
             [
              0.2222222222222222,
              "#7201a8"
             ],
             [
              0.3333333333333333,
              "#9c179e"
             ],
             [
              0.4444444444444444,
              "#bd3786"
             ],
             [
              0.5555555555555556,
              "#d8576b"
             ],
             [
              0.6666666666666666,
              "#ed7953"
             ],
             [
              0.7777777777777778,
              "#fb9f3a"
             ],
             [
              0.8888888888888888,
              "#fdca26"
             ],
             [
              1,
              "#f0f921"
             ]
            ],
            "type": "surface"
           }
          ],
          "table": [
           {
            "cells": {
             "fill": {
              "color": "#EBF0F8"
             },
             "line": {
              "color": "white"
             }
            },
            "header": {
             "fill": {
              "color": "#C8D4E3"
             },
             "line": {
              "color": "white"
             }
            },
            "type": "table"
           }
          ]
         },
         "layout": {
          "annotationdefaults": {
           "arrowcolor": "#2a3f5f",
           "arrowhead": 0,
           "arrowwidth": 1
          },
          "autotypenumbers": "strict",
          "coloraxis": {
           "colorbar": {
            "outlinewidth": 0,
            "ticks": ""
           }
          },
          "colorscale": {
           "diverging": [
            [
             0,
             "#8e0152"
            ],
            [
             0.1,
             "#c51b7d"
            ],
            [
             0.2,
             "#de77ae"
            ],
            [
             0.3,
             "#f1b6da"
            ],
            [
             0.4,
             "#fde0ef"
            ],
            [
             0.5,
             "#f7f7f7"
            ],
            [
             0.6,
             "#e6f5d0"
            ],
            [
             0.7,
             "#b8e186"
            ],
            [
             0.8,
             "#7fbc41"
            ],
            [
             0.9,
             "#4d9221"
            ],
            [
             1,
             "#276419"
            ]
           ],
           "sequential": [
            [
             0,
             "#0d0887"
            ],
            [
             0.1111111111111111,
             "#46039f"
            ],
            [
             0.2222222222222222,
             "#7201a8"
            ],
            [
             0.3333333333333333,
             "#9c179e"
            ],
            [
             0.4444444444444444,
             "#bd3786"
            ],
            [
             0.5555555555555556,
             "#d8576b"
            ],
            [
             0.6666666666666666,
             "#ed7953"
            ],
            [
             0.7777777777777778,
             "#fb9f3a"
            ],
            [
             0.8888888888888888,
             "#fdca26"
            ],
            [
             1,
             "#f0f921"
            ]
           ],
           "sequentialminus": [
            [
             0,
             "#0d0887"
            ],
            [
             0.1111111111111111,
             "#46039f"
            ],
            [
             0.2222222222222222,
             "#7201a8"
            ],
            [
             0.3333333333333333,
             "#9c179e"
            ],
            [
             0.4444444444444444,
             "#bd3786"
            ],
            [
             0.5555555555555556,
             "#d8576b"
            ],
            [
             0.6666666666666666,
             "#ed7953"
            ],
            [
             0.7777777777777778,
             "#fb9f3a"
            ],
            [
             0.8888888888888888,
             "#fdca26"
            ],
            [
             1,
             "#f0f921"
            ]
           ]
          },
          "colorway": [
           "#636efa",
           "#EF553B",
           "#00cc96",
           "#ab63fa",
           "#FFA15A",
           "#19d3f3",
           "#FF6692",
           "#B6E880",
           "#FF97FF",
           "#FECB52"
          ],
          "font": {
           "color": "#2a3f5f"
          },
          "geo": {
           "bgcolor": "white",
           "lakecolor": "white",
           "landcolor": "#E5ECF6",
           "showlakes": true,
           "showland": true,
           "subunitcolor": "white"
          },
          "hoverlabel": {
           "align": "left"
          },
          "hovermode": "closest",
          "mapbox": {
           "style": "light"
          },
          "paper_bgcolor": "white",
          "plot_bgcolor": "#E5ECF6",
          "polar": {
           "angularaxis": {
            "gridcolor": "white",
            "linecolor": "white",
            "ticks": ""
           },
           "bgcolor": "#E5ECF6",
           "radialaxis": {
            "gridcolor": "white",
            "linecolor": "white",
            "ticks": ""
           }
          },
          "scene": {
           "xaxis": {
            "backgroundcolor": "#E5ECF6",
            "gridcolor": "white",
            "gridwidth": 2,
            "linecolor": "white",
            "showbackground": true,
            "ticks": "",
            "zerolinecolor": "white"
           },
           "yaxis": {
            "backgroundcolor": "#E5ECF6",
            "gridcolor": "white",
            "gridwidth": 2,
            "linecolor": "white",
            "showbackground": true,
            "ticks": "",
            "zerolinecolor": "white"
           },
           "zaxis": {
            "backgroundcolor": "#E5ECF6",
            "gridcolor": "white",
            "gridwidth": 2,
            "linecolor": "white",
            "showbackground": true,
            "ticks": "",
            "zerolinecolor": "white"
           }
          },
          "shapedefaults": {
           "line": {
            "color": "#2a3f5f"
           }
          },
          "ternary": {
           "aaxis": {
            "gridcolor": "white",
            "linecolor": "white",
            "ticks": ""
           },
           "baxis": {
            "gridcolor": "white",
            "linecolor": "white",
            "ticks": ""
           },
           "bgcolor": "#E5ECF6",
           "caxis": {
            "gridcolor": "white",
            "linecolor": "white",
            "ticks": ""
           }
          },
          "title": {
           "x": 0.05
          },
          "xaxis": {
           "automargin": true,
           "gridcolor": "white",
           "linecolor": "white",
           "ticks": "",
           "title": {
            "standoff": 15
           },
           "zerolinecolor": "white",
           "zerolinewidth": 2
          },
          "yaxis": {
           "automargin": true,
           "gridcolor": "white",
           "linecolor": "white",
           "ticks": "",
           "title": {
            "standoff": 15
           },
           "zerolinecolor": "white",
           "zerolinewidth": 2
          }
         }
        },
        "title": {
         "text": "adobe-mu5gamma5",
         "x": 0.5
        },
        "width": 650,
        "xaxis": {
         "range": [
          0,
          220.13388
         ],
         "title": {
          "text": "Time (s)"
         }
        },
        "yaxis": {
         "categoryarray": [
          "L12",
          "L11",
          "L10",
          "L09",
          "L08",
          "L07",
          "L06",
          "L05",
          "L04",
          "L03",
          "L02",
          "L01"
         ],
         "categoryorder": "array",
         "title": {}
        }
       }
      }
     },
     "metadata": {},
     "output_type": "display_data"
    }
   ],
   "source": [
    "est.plot().show()\n",
    "needs_leveling = est.contour(strategy='prob').clean(strategy='kde')"
   ]
  },
  {
   "cell_type": "code",
   "execution_count": 62,
   "metadata": {},
   "outputs": [
    {
     "data": {
      "application/vnd.plotly.v1+json": {
       "config": {
        "plotlyServerURL": "https://plot.ly"
       },
       "data": [
        {
         "base": [
          0,
          119.5,
          134,
          0,
          16.9,
          28.5,
          34,
          53.3,
          81.6,
          87.4,
          93.6,
          110,
          119.5,
          134,
          144.2,
          164.7,
          0,
          16.9,
          28.5,
          34,
          39.9,
          45.9,
          53.3,
          81.6,
          87.4,
          93.6,
          101.4,
          110,
          119.5,
          125.6,
          134,
          144.2,
          164.7,
          0,
          8.3,
          16.9,
          28.5,
          34,
          39.9,
          45.9,
          53.3,
          76.3,
          81.6,
          87.4,
          93.6,
          101.4,
          110,
          119.5,
          125.6,
          134,
          144.2,
          155.5,
          164.7
         ],
         "customdata": [
          "<b></b><br>Layer: L01<br>Start: 0.000s<br>End: 119.500s<br>Duration: 119.500s",
          "<b></b><br>Layer: L01<br>Start: 119.500s<br>End: 134.000s<br>Duration: 14.500s",
          "<b></b><br>Layer: L01<br>Start: 134.000s<br>End: 191.896s<br>Duration: 57.896s",
          "<b></b><br>Layer: L02<br>Start: 0.000s<br>End: 16.900s<br>Duration: 16.900s",
          "<b></b><br>Layer: L02<br>Start: 16.900s<br>End: 28.500s<br>Duration: 11.600s",
          "<b></b><br>Layer: L02<br>Start: 28.500s<br>End: 34.000s<br>Duration: 5.500s",
          "<b></b><br>Layer: L02<br>Start: 34.000s<br>End: 53.300s<br>Duration: 19.300s",
          "<b></b><br>Layer: L02<br>Start: 53.300s<br>End: 81.600s<br>Duration: 28.300s",
          "<b></b><br>Layer: L02<br>Start: 81.600s<br>End: 87.400s<br>Duration: 5.800s",
          "<b></b><br>Layer: L02<br>Start: 87.400s<br>End: 93.600s<br>Duration: 6.200s",
          "<b></b><br>Layer: L02<br>Start: 93.600s<br>End: 110.000s<br>Duration: 16.400s",
          "<b></b><br>Layer: L02<br>Start: 110.000s<br>End: 119.500s<br>Duration: 9.500s",
          "<b></b><br>Layer: L02<br>Start: 119.500s<br>End: 134.000s<br>Duration: 14.500s",
          "<b></b><br>Layer: L02<br>Start: 134.000s<br>End: 144.200s<br>Duration: 10.200s",
          "<b></b><br>Layer: L02<br>Start: 144.200s<br>End: 164.700s<br>Duration: 20.500s",
          "<b></b><br>Layer: L02<br>Start: 164.700s<br>End: 191.896s<br>Duration: 27.196s",
          "<b></b><br>Layer: L03<br>Start: 0.000s<br>End: 16.900s<br>Duration: 16.900s",
          "<b></b><br>Layer: L03<br>Start: 16.900s<br>End: 28.500s<br>Duration: 11.600s",
          "<b></b><br>Layer: L03<br>Start: 28.500s<br>End: 34.000s<br>Duration: 5.500s",
          "<b></b><br>Layer: L03<br>Start: 34.000s<br>End: 39.900s<br>Duration: 5.900s",
          "<b></b><br>Layer: L03<br>Start: 39.900s<br>End: 45.900s<br>Duration: 6.000s",
          "<b></b><br>Layer: L03<br>Start: 45.900s<br>End: 53.300s<br>Duration: 7.400s",
          "<b></b><br>Layer: L03<br>Start: 53.300s<br>End: 81.600s<br>Duration: 28.300s",
          "<b></b><br>Layer: L03<br>Start: 81.600s<br>End: 87.400s<br>Duration: 5.800s",
          "<b></b><br>Layer: L03<br>Start: 87.400s<br>End: 93.600s<br>Duration: 6.200s",
          "<b></b><br>Layer: L03<br>Start: 93.600s<br>End: 101.400s<br>Duration: 7.800s",
          "<b></b><br>Layer: L03<br>Start: 101.400s<br>End: 110.000s<br>Duration: 8.600s",
          "<b></b><br>Layer: L03<br>Start: 110.000s<br>End: 119.500s<br>Duration: 9.500s",
          "<b></b><br>Layer: L03<br>Start: 119.500s<br>End: 125.600s<br>Duration: 6.100s",
          "<b></b><br>Layer: L03<br>Start: 125.600s<br>End: 134.000s<br>Duration: 8.400s",
          "<b></b><br>Layer: L03<br>Start: 134.000s<br>End: 144.200s<br>Duration: 10.200s",
          "<b></b><br>Layer: L03<br>Start: 144.200s<br>End: 164.700s<br>Duration: 20.500s",
          "<b></b><br>Layer: L03<br>Start: 164.700s<br>End: 191.896s<br>Duration: 27.196s",
          "<b></b><br>Layer: L04<br>Start: 0.000s<br>End: 8.300s<br>Duration: 8.300s",
          "<b></b><br>Layer: L04<br>Start: 8.300s<br>End: 16.900s<br>Duration: 8.600s",
          "<b></b><br>Layer: L04<br>Start: 16.900s<br>End: 28.500s<br>Duration: 11.600s",
          "<b></b><br>Layer: L04<br>Start: 28.500s<br>End: 34.000s<br>Duration: 5.500s",
          "<b></b><br>Layer: L04<br>Start: 34.000s<br>End: 39.900s<br>Duration: 5.900s",
          "<b></b><br>Layer: L04<br>Start: 39.900s<br>End: 45.900s<br>Duration: 6.000s",
          "<b></b><br>Layer: L04<br>Start: 45.900s<br>End: 53.300s<br>Duration: 7.400s",
          "<b></b><br>Layer: L04<br>Start: 53.300s<br>End: 76.300s<br>Duration: 23.000s",
          "<b></b><br>Layer: L04<br>Start: 76.300s<br>End: 81.600s<br>Duration: 5.300s",
          "<b></b><br>Layer: L04<br>Start: 81.600s<br>End: 87.400s<br>Duration: 5.800s",
          "<b></b><br>Layer: L04<br>Start: 87.400s<br>End: 93.600s<br>Duration: 6.200s",
          "<b></b><br>Layer: L04<br>Start: 93.600s<br>End: 101.400s<br>Duration: 7.800s",
          "<b></b><br>Layer: L04<br>Start: 101.400s<br>End: 110.000s<br>Duration: 8.600s",
          "<b></b><br>Layer: L04<br>Start: 110.000s<br>End: 119.500s<br>Duration: 9.500s",
          "<b></b><br>Layer: L04<br>Start: 119.500s<br>End: 125.600s<br>Duration: 6.100s",
          "<b></b><br>Layer: L04<br>Start: 125.600s<br>End: 134.000s<br>Duration: 8.400s",
          "<b></b><br>Layer: L04<br>Start: 134.000s<br>End: 144.200s<br>Duration: 10.200s",
          "<b></b><br>Layer: L04<br>Start: 144.200s<br>End: 155.500s<br>Duration: 11.300s",
          "<b></b><br>Layer: L04<br>Start: 155.500s<br>End: 164.700s<br>Duration: 9.200s",
          "<b></b><br>Layer: L04<br>Start: 164.700s<br>End: 191.896s<br>Duration: 27.196s"
         ],
         "hovertemplate": "%{customdata}<extra></extra>",
         "insidetextanchor": "middle",
         "marker": {
          "color": "#1F77B4",
          "line": {
           "color": "white",
           "width": 0.5
          },
          "pattern": {
           "fgcolor": "white",
           "fgopacity": 0.5,
           "shape": "",
           "solidity": 0.25
          }
         },
         "name": "",
         "orientation": "h",
         "showlegend": true,
         "text": [
          "",
          "",
          "",
          "",
          "",
          "",
          "",
          "",
          "",
          "",
          "",
          "",
          "",
          "",
          "",
          "",
          "",
          "",
          "",
          "",
          "",
          "",
          "",
          "",
          "",
          "",
          "",
          "",
          "",
          "",
          "",
          "",
          "",
          "",
          "",
          "",
          "",
          "",
          "",
          "",
          "",
          "",
          "",
          "",
          "",
          "",
          "",
          "",
          "",
          "",
          "",
          "",
          ""
         ],
         "textposition": "inside",
         "type": "bar",
         "width": 1,
         "x": [
          119.5,
          14.5,
          57.89551,
          16.9,
          11.600000000000001,
          5.5,
          19.299999999999997,
          28.299999999999997,
          5.800000000000011,
          6.199999999999989,
          16.400000000000006,
          9.5,
          14.5,
          10.199999999999989,
          20.5,
          27.195510000000013,
          16.9,
          11.600000000000001,
          5.5,
          5.899999999999999,
          6,
          7.399999999999999,
          28.299999999999997,
          5.800000000000011,
          6.199999999999989,
          7.800000000000011,
          8.599999999999994,
          9.5,
          6.099999999999994,
          8.400000000000006,
          10.199999999999989,
          20.5,
          27.195510000000013,
          8.3,
          8.599999999999998,
          11.600000000000001,
          5.5,
          5.899999999999999,
          6,
          7.399999999999999,
          23,
          5.299999999999997,
          5.800000000000011,
          6.199999999999989,
          7.800000000000011,
          8.599999999999994,
          9.5,
          6.099999999999994,
          8.400000000000006,
          10.199999999999989,
          11.300000000000011,
          9.199999999999989,
          27.195510000000013
         ],
         "y": [
          "L01",
          "L01",
          "L01",
          "L02",
          "L02",
          "L02",
          "L02",
          "L02",
          "L02",
          "L02",
          "L02",
          "L02",
          "L02",
          "L02",
          "L02",
          "L02",
          "L03",
          "L03",
          "L03",
          "L03",
          "L03",
          "L03",
          "L03",
          "L03",
          "L03",
          "L03",
          "L03",
          "L03",
          "L03",
          "L03",
          "L03",
          "L03",
          "L03",
          "L04",
          "L04",
          "L04",
          "L04",
          "L04",
          "L04",
          "L04",
          "L04",
          "L04",
          "L04",
          "L04",
          "L04",
          "L04",
          "L04",
          "L04",
          "L04",
          "L04",
          "L04",
          "L04",
          "L04"
         ]
        }
       ],
       "layout": {
        "barmode": "overlay",
        "height": 170,
        "margin": {
         "b": 20,
         "l": 20,
         "r": 20,
         "t": 40
        },
        "showlegend": false,
        "template": {
         "data": {
          "bar": [
           {
            "error_x": {
             "color": "#2a3f5f"
            },
            "error_y": {
             "color": "#2a3f5f"
            },
            "marker": {
             "line": {
              "color": "#E5ECF6",
              "width": 0.5
             },
             "pattern": {
              "fillmode": "overlay",
              "size": 10,
              "solidity": 0.2
             }
            },
            "type": "bar"
           }
          ],
          "barpolar": [
           {
            "marker": {
             "line": {
              "color": "#E5ECF6",
              "width": 0.5
             },
             "pattern": {
              "fillmode": "overlay",
              "size": 10,
              "solidity": 0.2
             }
            },
            "type": "barpolar"
           }
          ],
          "carpet": [
           {
            "aaxis": {
             "endlinecolor": "#2a3f5f",
             "gridcolor": "white",
             "linecolor": "white",
             "minorgridcolor": "white",
             "startlinecolor": "#2a3f5f"
            },
            "baxis": {
             "endlinecolor": "#2a3f5f",
             "gridcolor": "white",
             "linecolor": "white",
             "minorgridcolor": "white",
             "startlinecolor": "#2a3f5f"
            },
            "type": "carpet"
           }
          ],
          "choropleth": [
           {
            "colorbar": {
             "outlinewidth": 0,
             "ticks": ""
            },
            "type": "choropleth"
           }
          ],
          "contour": [
           {
            "colorbar": {
             "outlinewidth": 0,
             "ticks": ""
            },
            "colorscale": [
             [
              0,
              "#0d0887"
             ],
             [
              0.1111111111111111,
              "#46039f"
             ],
             [
              0.2222222222222222,
              "#7201a8"
             ],
             [
              0.3333333333333333,
              "#9c179e"
             ],
             [
              0.4444444444444444,
              "#bd3786"
             ],
             [
              0.5555555555555556,
              "#d8576b"
             ],
             [
              0.6666666666666666,
              "#ed7953"
             ],
             [
              0.7777777777777778,
              "#fb9f3a"
             ],
             [
              0.8888888888888888,
              "#fdca26"
             ],
             [
              1,
              "#f0f921"
             ]
            ],
            "type": "contour"
           }
          ],
          "contourcarpet": [
           {
            "colorbar": {
             "outlinewidth": 0,
             "ticks": ""
            },
            "type": "contourcarpet"
           }
          ],
          "heatmap": [
           {
            "colorbar": {
             "outlinewidth": 0,
             "ticks": ""
            },
            "colorscale": [
             [
              0,
              "#0d0887"
             ],
             [
              0.1111111111111111,
              "#46039f"
             ],
             [
              0.2222222222222222,
              "#7201a8"
             ],
             [
              0.3333333333333333,
              "#9c179e"
             ],
             [
              0.4444444444444444,
              "#bd3786"
             ],
             [
              0.5555555555555556,
              "#d8576b"
             ],
             [
              0.6666666666666666,
              "#ed7953"
             ],
             [
              0.7777777777777778,
              "#fb9f3a"
             ],
             [
              0.8888888888888888,
              "#fdca26"
             ],
             [
              1,
              "#f0f921"
             ]
            ],
            "type": "heatmap"
           }
          ],
          "histogram": [
           {
            "marker": {
             "pattern": {
              "fillmode": "overlay",
              "size": 10,
              "solidity": 0.2
             }
            },
            "type": "histogram"
           }
          ],
          "histogram2d": [
           {
            "colorbar": {
             "outlinewidth": 0,
             "ticks": ""
            },
            "colorscale": [
             [
              0,
              "#0d0887"
             ],
             [
              0.1111111111111111,
              "#46039f"
             ],
             [
              0.2222222222222222,
              "#7201a8"
             ],
             [
              0.3333333333333333,
              "#9c179e"
             ],
             [
              0.4444444444444444,
              "#bd3786"
             ],
             [
              0.5555555555555556,
              "#d8576b"
             ],
             [
              0.6666666666666666,
              "#ed7953"
             ],
             [
              0.7777777777777778,
              "#fb9f3a"
             ],
             [
              0.8888888888888888,
              "#fdca26"
             ],
             [
              1,
              "#f0f921"
             ]
            ],
            "type": "histogram2d"
           }
          ],
          "histogram2dcontour": [
           {
            "colorbar": {
             "outlinewidth": 0,
             "ticks": ""
            },
            "colorscale": [
             [
              0,
              "#0d0887"
             ],
             [
              0.1111111111111111,
              "#46039f"
             ],
             [
              0.2222222222222222,
              "#7201a8"
             ],
             [
              0.3333333333333333,
              "#9c179e"
             ],
             [
              0.4444444444444444,
              "#bd3786"
             ],
             [
              0.5555555555555556,
              "#d8576b"
             ],
             [
              0.6666666666666666,
              "#ed7953"
             ],
             [
              0.7777777777777778,
              "#fb9f3a"
             ],
             [
              0.8888888888888888,
              "#fdca26"
             ],
             [
              1,
              "#f0f921"
             ]
            ],
            "type": "histogram2dcontour"
           }
          ],
          "mesh3d": [
           {
            "colorbar": {
             "outlinewidth": 0,
             "ticks": ""
            },
            "type": "mesh3d"
           }
          ],
          "parcoords": [
           {
            "line": {
             "colorbar": {
              "outlinewidth": 0,
              "ticks": ""
             }
            },
            "type": "parcoords"
           }
          ],
          "pie": [
           {
            "automargin": true,
            "type": "pie"
           }
          ],
          "scatter": [
           {
            "fillpattern": {
             "fillmode": "overlay",
             "size": 10,
             "solidity": 0.2
            },
            "type": "scatter"
           }
          ],
          "scatter3d": [
           {
            "line": {
             "colorbar": {
              "outlinewidth": 0,
              "ticks": ""
             }
            },
            "marker": {
             "colorbar": {
              "outlinewidth": 0,
              "ticks": ""
             }
            },
            "type": "scatter3d"
           }
          ],
          "scattercarpet": [
           {
            "marker": {
             "colorbar": {
              "outlinewidth": 0,
              "ticks": ""
             }
            },
            "type": "scattercarpet"
           }
          ],
          "scattergeo": [
           {
            "marker": {
             "colorbar": {
              "outlinewidth": 0,
              "ticks": ""
             }
            },
            "type": "scattergeo"
           }
          ],
          "scattergl": [
           {
            "marker": {
             "colorbar": {
              "outlinewidth": 0,
              "ticks": ""
             }
            },
            "type": "scattergl"
           }
          ],
          "scattermap": [
           {
            "marker": {
             "colorbar": {
              "outlinewidth": 0,
              "ticks": ""
             }
            },
            "type": "scattermap"
           }
          ],
          "scattermapbox": [
           {
            "marker": {
             "colorbar": {
              "outlinewidth": 0,
              "ticks": ""
             }
            },
            "type": "scattermapbox"
           }
          ],
          "scatterpolar": [
           {
            "marker": {
             "colorbar": {
              "outlinewidth": 0,
              "ticks": ""
             }
            },
            "type": "scatterpolar"
           }
          ],
          "scatterpolargl": [
           {
            "marker": {
             "colorbar": {
              "outlinewidth": 0,
              "ticks": ""
             }
            },
            "type": "scatterpolargl"
           }
          ],
          "scatterternary": [
           {
            "marker": {
             "colorbar": {
              "outlinewidth": 0,
              "ticks": ""
             }
            },
            "type": "scatterternary"
           }
          ],
          "surface": [
           {
            "colorbar": {
             "outlinewidth": 0,
             "ticks": ""
            },
            "colorscale": [
             [
              0,
              "#0d0887"
             ],
             [
              0.1111111111111111,
              "#46039f"
             ],
             [
              0.2222222222222222,
              "#7201a8"
             ],
             [
              0.3333333333333333,
              "#9c179e"
             ],
             [
              0.4444444444444444,
              "#bd3786"
             ],
             [
              0.5555555555555556,
              "#d8576b"
             ],
             [
              0.6666666666666666,
              "#ed7953"
             ],
             [
              0.7777777777777778,
              "#fb9f3a"
             ],
             [
              0.8888888888888888,
              "#fdca26"
             ],
             [
              1,
              "#f0f921"
             ]
            ],
            "type": "surface"
           }
          ],
          "table": [
           {
            "cells": {
             "fill": {
              "color": "#EBF0F8"
             },
             "line": {
              "color": "white"
             }
            },
            "header": {
             "fill": {
              "color": "#C8D4E3"
             },
             "line": {
              "color": "white"
             }
            },
            "type": "table"
           }
          ]
         },
         "layout": {
          "annotationdefaults": {
           "arrowcolor": "#2a3f5f",
           "arrowhead": 0,
           "arrowwidth": 1
          },
          "autotypenumbers": "strict",
          "coloraxis": {
           "colorbar": {
            "outlinewidth": 0,
            "ticks": ""
           }
          },
          "colorscale": {
           "diverging": [
            [
             0,
             "#8e0152"
            ],
            [
             0.1,
             "#c51b7d"
            ],
            [
             0.2,
             "#de77ae"
            ],
            [
             0.3,
             "#f1b6da"
            ],
            [
             0.4,
             "#fde0ef"
            ],
            [
             0.5,
             "#f7f7f7"
            ],
            [
             0.6,
             "#e6f5d0"
            ],
            [
             0.7,
             "#b8e186"
            ],
            [
             0.8,
             "#7fbc41"
            ],
            [
             0.9,
             "#4d9221"
            ],
            [
             1,
             "#276419"
            ]
           ],
           "sequential": [
            [
             0,
             "#0d0887"
            ],
            [
             0.1111111111111111,
             "#46039f"
            ],
            [
             0.2222222222222222,
             "#7201a8"
            ],
            [
             0.3333333333333333,
             "#9c179e"
            ],
            [
             0.4444444444444444,
             "#bd3786"
            ],
            [
             0.5555555555555556,
             "#d8576b"
            ],
            [
             0.6666666666666666,
             "#ed7953"
            ],
            [
             0.7777777777777778,
             "#fb9f3a"
            ],
            [
             0.8888888888888888,
             "#fdca26"
            ],
            [
             1,
             "#f0f921"
            ]
           ],
           "sequentialminus": [
            [
             0,
             "#0d0887"
            ],
            [
             0.1111111111111111,
             "#46039f"
            ],
            [
             0.2222222222222222,
             "#7201a8"
            ],
            [
             0.3333333333333333,
             "#9c179e"
            ],
            [
             0.4444444444444444,
             "#bd3786"
            ],
            [
             0.5555555555555556,
             "#d8576b"
            ],
            [
             0.6666666666666666,
             "#ed7953"
            ],
            [
             0.7777777777777778,
             "#fb9f3a"
            ],
            [
             0.8888888888888888,
             "#fdca26"
            ],
            [
             1,
             "#f0f921"
            ]
           ]
          },
          "colorway": [
           "#636efa",
           "#EF553B",
           "#00cc96",
           "#ab63fa",
           "#FFA15A",
           "#19d3f3",
           "#FF6692",
           "#B6E880",
           "#FF97FF",
           "#FECB52"
          ],
          "font": {
           "color": "#2a3f5f"
          },
          "geo": {
           "bgcolor": "white",
           "lakecolor": "white",
           "landcolor": "#E5ECF6",
           "showlakes": true,
           "showland": true,
           "subunitcolor": "white"
          },
          "hoverlabel": {
           "align": "left"
          },
          "hovermode": "closest",
          "mapbox": {
           "style": "light"
          },
          "paper_bgcolor": "white",
          "plot_bgcolor": "#E5ECF6",
          "polar": {
           "angularaxis": {
            "gridcolor": "white",
            "linecolor": "white",
            "ticks": ""
           },
           "bgcolor": "#E5ECF6",
           "radialaxis": {
            "gridcolor": "white",
            "linecolor": "white",
            "ticks": ""
           }
          },
          "scene": {
           "xaxis": {
            "backgroundcolor": "#E5ECF6",
            "gridcolor": "white",
            "gridwidth": 2,
            "linecolor": "white",
            "showbackground": true,
            "ticks": "",
            "zerolinecolor": "white"
           },
           "yaxis": {
            "backgroundcolor": "#E5ECF6",
            "gridcolor": "white",
            "gridwidth": 2,
            "linecolor": "white",
            "showbackground": true,
            "ticks": "",
            "zerolinecolor": "white"
           },
           "zaxis": {
            "backgroundcolor": "#E5ECF6",
            "gridcolor": "white",
            "gridwidth": 2,
            "linecolor": "white",
            "showbackground": true,
            "ticks": "",
            "zerolinecolor": "white"
           }
          },
          "shapedefaults": {
           "line": {
            "color": "#2a3f5f"
           }
          },
          "ternary": {
           "aaxis": {
            "gridcolor": "white",
            "linecolor": "white",
            "ticks": ""
           },
           "baxis": {
            "gridcolor": "white",
            "linecolor": "white",
            "ticks": ""
           },
           "bgcolor": "#E5ECF6",
           "caxis": {
            "gridcolor": "white",
            "linecolor": "white",
            "ticks": ""
           }
          },
          "title": {
           "x": 0.05
          },
          "xaxis": {
           "automargin": true,
           "gridcolor": "white",
           "linecolor": "white",
           "ticks": "",
           "title": {
            "standoff": 15
           },
           "zerolinecolor": "white",
           "zerolinewidth": 2
          },
          "yaxis": {
           "automargin": true,
           "gridcolor": "white",
           "linecolor": "white",
           "ticks": "",
           "title": {
            "standoff": 15
           },
           "zerolinecolor": "white",
           "zerolinewidth": 2
          }
         }
        },
        "title": {
         "text": "adobe-mu1gamma1 Monotonic MS",
         "x": 0.5
        },
        "width": 650,
        "xaxis": {
         "range": [
          0,
          191.89551
         ],
         "title": {
          "text": "Time (s)"
         }
        },
        "yaxis": {
         "categoryarray": [
          "L04",
          "L03",
          "L02",
          "L01"
         ],
         "categoryorder": "array",
         "title": {}
        }
       }
      }
     },
     "metadata": {},
     "output_type": "display_data"
    }
   ],
   "source": [
    "est.contour(strategy='prob').clean(\"kde\", bw=1).level('mean_shift', bw=0.004).to_ms().plot().show()"
   ]
  },
  {
   "cell_type": "code",
   "execution_count": 24,
   "metadata": {},
   "outputs": [
    {
     "data": {
      "application/vnd.plotly.v1+json": {
       "config": {
        "plotlyServerURL": "https://plot.ly"
       },
       "data": [
        {
         "hovertemplate": "<b>Boundary</b><br>Time: %{x:.3f}s<br>Salience: %{y:.3f}<extra></extra>",
         "line": {
          "color": "#666",
          "width": 1
         },
         "mode": "lines",
         "type": "scatter",
         "x": [
          8.7,
          8.7,
          null,
          10.4,
          10.4,
          null,
          23,
          23,
          null,
          51.2,
          51.2,
          null,
          63,
          63,
          null,
          64.7,
          64.7,
          null,
          82.3,
          82.3,
          null,
          91.8,
          91.8,
          null,
          104.7,
          104.7,
          null,
          112.7,
          112.7,
          null,
          126,
          126,
          null,
          134.8,
          134.8,
          null,
          139.6,
          139.6,
          null,
          144.1,
          144.1,
          null,
          145.4,
          145.4,
          null,
          152.7,
          152.7,
          null,
          154.8,
          154.8,
          null,
          166.9,
          166.9,
          null,
          178.6,
          178.6,
          null,
          191.9,
          191.9,
          null
         ],
         "y": [
          0,
          16,
          null,
          0,
          8,
          null,
          0,
          15,
          null,
          0,
          13,
          null,
          0,
          7,
          null,
          0,
          14,
          null,
          0,
          2,
          null,
          0,
          12,
          null,
          0,
          19,
          null,
          0,
          5,
          null,
          0,
          1,
          null,
          0,
          4,
          null,
          0,
          9,
          null,
          0,
          3,
          null,
          0,
          6,
          null,
          0,
          10,
          null,
          0,
          11,
          null,
          0,
          17,
          null,
          0,
          18,
          null,
          0,
          20,
          null
         ]
        }
       ],
       "layout": {
        "height": 300,
        "margin": {
         "b": 20,
         "l": 20,
         "r": 20,
         "t": 40
        },
        "shapes": [
         {
          "line": {
           "color": "#666",
           "width": 1
          },
          "opacity": 0.8,
          "type": "line",
          "x0": 0,
          "x1": 1,
          "xref": "x domain",
          "y0": 0,
          "y1": 0,
          "yref": "y"
         }
        ],
        "showlegend": false,
        "template": {
         "data": {
          "bar": [
           {
            "error_x": {
             "color": "#2a3f5f"
            },
            "error_y": {
             "color": "#2a3f5f"
            },
            "marker": {
             "line": {
              "color": "#E5ECF6",
              "width": 0.5
             },
             "pattern": {
              "fillmode": "overlay",
              "size": 10,
              "solidity": 0.2
             }
            },
            "type": "bar"
           }
          ],
          "barpolar": [
           {
            "marker": {
             "line": {
              "color": "#E5ECF6",
              "width": 0.5
             },
             "pattern": {
              "fillmode": "overlay",
              "size": 10,
              "solidity": 0.2
             }
            },
            "type": "barpolar"
           }
          ],
          "carpet": [
           {
            "aaxis": {
             "endlinecolor": "#2a3f5f",
             "gridcolor": "white",
             "linecolor": "white",
             "minorgridcolor": "white",
             "startlinecolor": "#2a3f5f"
            },
            "baxis": {
             "endlinecolor": "#2a3f5f",
             "gridcolor": "white",
             "linecolor": "white",
             "minorgridcolor": "white",
             "startlinecolor": "#2a3f5f"
            },
            "type": "carpet"
           }
          ],
          "choropleth": [
           {
            "colorbar": {
             "outlinewidth": 0,
             "ticks": ""
            },
            "type": "choropleth"
           }
          ],
          "contour": [
           {
            "colorbar": {
             "outlinewidth": 0,
             "ticks": ""
            },
            "colorscale": [
             [
              0,
              "#0d0887"
             ],
             [
              0.1111111111111111,
              "#46039f"
             ],
             [
              0.2222222222222222,
              "#7201a8"
             ],
             [
              0.3333333333333333,
              "#9c179e"
             ],
             [
              0.4444444444444444,
              "#bd3786"
             ],
             [
              0.5555555555555556,
              "#d8576b"
             ],
             [
              0.6666666666666666,
              "#ed7953"
             ],
             [
              0.7777777777777778,
              "#fb9f3a"
             ],
             [
              0.8888888888888888,
              "#fdca26"
             ],
             [
              1,
              "#f0f921"
             ]
            ],
            "type": "contour"
           }
          ],
          "contourcarpet": [
           {
            "colorbar": {
             "outlinewidth": 0,
             "ticks": ""
            },
            "type": "contourcarpet"
           }
          ],
          "heatmap": [
           {
            "colorbar": {
             "outlinewidth": 0,
             "ticks": ""
            },
            "colorscale": [
             [
              0,
              "#0d0887"
             ],
             [
              0.1111111111111111,
              "#46039f"
             ],
             [
              0.2222222222222222,
              "#7201a8"
             ],
             [
              0.3333333333333333,
              "#9c179e"
             ],
             [
              0.4444444444444444,
              "#bd3786"
             ],
             [
              0.5555555555555556,
              "#d8576b"
             ],
             [
              0.6666666666666666,
              "#ed7953"
             ],
             [
              0.7777777777777778,
              "#fb9f3a"
             ],
             [
              0.8888888888888888,
              "#fdca26"
             ],
             [
              1,
              "#f0f921"
             ]
            ],
            "type": "heatmap"
           }
          ],
          "histogram": [
           {
            "marker": {
             "pattern": {
              "fillmode": "overlay",
              "size": 10,
              "solidity": 0.2
             }
            },
            "type": "histogram"
           }
          ],
          "histogram2d": [
           {
            "colorbar": {
             "outlinewidth": 0,
             "ticks": ""
            },
            "colorscale": [
             [
              0,
              "#0d0887"
             ],
             [
              0.1111111111111111,
              "#46039f"
             ],
             [
              0.2222222222222222,
              "#7201a8"
             ],
             [
              0.3333333333333333,
              "#9c179e"
             ],
             [
              0.4444444444444444,
              "#bd3786"
             ],
             [
              0.5555555555555556,
              "#d8576b"
             ],
             [
              0.6666666666666666,
              "#ed7953"
             ],
             [
              0.7777777777777778,
              "#fb9f3a"
             ],
             [
              0.8888888888888888,
              "#fdca26"
             ],
             [
              1,
              "#f0f921"
             ]
            ],
            "type": "histogram2d"
           }
          ],
          "histogram2dcontour": [
           {
            "colorbar": {
             "outlinewidth": 0,
             "ticks": ""
            },
            "colorscale": [
             [
              0,
              "#0d0887"
             ],
             [
              0.1111111111111111,
              "#46039f"
             ],
             [
              0.2222222222222222,
              "#7201a8"
             ],
             [
              0.3333333333333333,
              "#9c179e"
             ],
             [
              0.4444444444444444,
              "#bd3786"
             ],
             [
              0.5555555555555556,
              "#d8576b"
             ],
             [
              0.6666666666666666,
              "#ed7953"
             ],
             [
              0.7777777777777778,
              "#fb9f3a"
             ],
             [
              0.8888888888888888,
              "#fdca26"
             ],
             [
              1,
              "#f0f921"
             ]
            ],
            "type": "histogram2dcontour"
           }
          ],
          "mesh3d": [
           {
            "colorbar": {
             "outlinewidth": 0,
             "ticks": ""
            },
            "type": "mesh3d"
           }
          ],
          "parcoords": [
           {
            "line": {
             "colorbar": {
              "outlinewidth": 0,
              "ticks": ""
             }
            },
            "type": "parcoords"
           }
          ],
          "pie": [
           {
            "automargin": true,
            "type": "pie"
           }
          ],
          "scatter": [
           {
            "fillpattern": {
             "fillmode": "overlay",
             "size": 10,
             "solidity": 0.2
            },
            "type": "scatter"
           }
          ],
          "scatter3d": [
           {
            "line": {
             "colorbar": {
              "outlinewidth": 0,
              "ticks": ""
             }
            },
            "marker": {
             "colorbar": {
              "outlinewidth": 0,
              "ticks": ""
             }
            },
            "type": "scatter3d"
           }
          ],
          "scattercarpet": [
           {
            "marker": {
             "colorbar": {
              "outlinewidth": 0,
              "ticks": ""
             }
            },
            "type": "scattercarpet"
           }
          ],
          "scattergeo": [
           {
            "marker": {
             "colorbar": {
              "outlinewidth": 0,
              "ticks": ""
             }
            },
            "type": "scattergeo"
           }
          ],
          "scattergl": [
           {
            "marker": {
             "colorbar": {
              "outlinewidth": 0,
              "ticks": ""
             }
            },
            "type": "scattergl"
           }
          ],
          "scattermap": [
           {
            "marker": {
             "colorbar": {
              "outlinewidth": 0,
              "ticks": ""
             }
            },
            "type": "scattermap"
           }
          ],
          "scattermapbox": [
           {
            "marker": {
             "colorbar": {
              "outlinewidth": 0,
              "ticks": ""
             }
            },
            "type": "scattermapbox"
           }
          ],
          "scatterpolar": [
           {
            "marker": {
             "colorbar": {
              "outlinewidth": 0,
              "ticks": ""
             }
            },
            "type": "scatterpolar"
           }
          ],
          "scatterpolargl": [
           {
            "marker": {
             "colorbar": {
              "outlinewidth": 0,
              "ticks": ""
             }
            },
            "type": "scatterpolargl"
           }
          ],
          "scatterternary": [
           {
            "marker": {
             "colorbar": {
              "outlinewidth": 0,
              "ticks": ""
             }
            },
            "type": "scatterternary"
           }
          ],
          "surface": [
           {
            "colorbar": {
             "outlinewidth": 0,
             "ticks": ""
            },
            "colorscale": [
             [
              0,
              "#0d0887"
             ],
             [
              0.1111111111111111,
              "#46039f"
             ],
             [
              0.2222222222222222,
              "#7201a8"
             ],
             [
              0.3333333333333333,
              "#9c179e"
             ],
             [
              0.4444444444444444,
              "#bd3786"
             ],
             [
              0.5555555555555556,
              "#d8576b"
             ],
             [
              0.6666666666666666,
              "#ed7953"
             ],
             [
              0.7777777777777778,
              "#fb9f3a"
             ],
             [
              0.8888888888888888,
              "#fdca26"
             ],
             [
              1,
              "#f0f921"
             ]
            ],
            "type": "surface"
           }
          ],
          "table": [
           {
            "cells": {
             "fill": {
              "color": "#EBF0F8"
             },
             "line": {
              "color": "white"
             }
            },
            "header": {
             "fill": {
              "color": "#C8D4E3"
             },
             "line": {
              "color": "white"
             }
            },
            "type": "table"
           }
          ]
         },
         "layout": {
          "annotationdefaults": {
           "arrowcolor": "#2a3f5f",
           "arrowhead": 0,
           "arrowwidth": 1
          },
          "autotypenumbers": "strict",
          "coloraxis": {
           "colorbar": {
            "outlinewidth": 0,
            "ticks": ""
           }
          },
          "colorscale": {
           "diverging": [
            [
             0,
             "#8e0152"
            ],
            [
             0.1,
             "#c51b7d"
            ],
            [
             0.2,
             "#de77ae"
            ],
            [
             0.3,
             "#f1b6da"
            ],
            [
             0.4,
             "#fde0ef"
            ],
            [
             0.5,
             "#f7f7f7"
            ],
            [
             0.6,
             "#e6f5d0"
            ],
            [
             0.7,
             "#b8e186"
            ],
            [
             0.8,
             "#7fbc41"
            ],
            [
             0.9,
             "#4d9221"
            ],
            [
             1,
             "#276419"
            ]
           ],
           "sequential": [
            [
             0,
             "#0d0887"
            ],
            [
             0.1111111111111111,
             "#46039f"
            ],
            [
             0.2222222222222222,
             "#7201a8"
            ],
            [
             0.3333333333333333,
             "#9c179e"
            ],
            [
             0.4444444444444444,
             "#bd3786"
            ],
            [
             0.5555555555555556,
             "#d8576b"
            ],
            [
             0.6666666666666666,
             "#ed7953"
            ],
            [
             0.7777777777777778,
             "#fb9f3a"
            ],
            [
             0.8888888888888888,
             "#fdca26"
            ],
            [
             1,
             "#f0f921"
            ]
           ],
           "sequentialminus": [
            [
             0,
             "#0d0887"
            ],
            [
             0.1111111111111111,
             "#46039f"
            ],
            [
             0.2222222222222222,
             "#7201a8"
            ],
            [
             0.3333333333333333,
             "#9c179e"
            ],
            [
             0.4444444444444444,
             "#bd3786"
            ],
            [
             0.5555555555555556,
             "#d8576b"
            ],
            [
             0.6666666666666666,
             "#ed7953"
            ],
            [
             0.7777777777777778,
             "#fb9f3a"
            ],
            [
             0.8888888888888888,
             "#fdca26"
            ],
            [
             1,
             "#f0f921"
            ]
           ]
          },
          "colorway": [
           "#636efa",
           "#EF553B",
           "#00cc96",
           "#ab63fa",
           "#FFA15A",
           "#19d3f3",
           "#FF6692",
           "#B6E880",
           "#FF97FF",
           "#FECB52"
          ],
          "font": {
           "color": "#2a3f5f"
          },
          "geo": {
           "bgcolor": "white",
           "lakecolor": "white",
           "landcolor": "#E5ECF6",
           "showlakes": true,
           "showland": true,
           "subunitcolor": "white"
          },
          "hoverlabel": {
           "align": "left"
          },
          "hovermode": "closest",
          "mapbox": {
           "style": "light"
          },
          "paper_bgcolor": "white",
          "plot_bgcolor": "#E5ECF6",
          "polar": {
           "angularaxis": {
            "gridcolor": "white",
            "linecolor": "white",
            "ticks": ""
           },
           "bgcolor": "#E5ECF6",
           "radialaxis": {
            "gridcolor": "white",
            "linecolor": "white",
            "ticks": ""
           }
          },
          "scene": {
           "xaxis": {
            "backgroundcolor": "#E5ECF6",
            "gridcolor": "white",
            "gridwidth": 2,
            "linecolor": "white",
            "showbackground": true,
            "ticks": "",
            "zerolinecolor": "white"
           },
           "yaxis": {
            "backgroundcolor": "#E5ECF6",
            "gridcolor": "white",
            "gridwidth": 2,
            "linecolor": "white",
            "showbackground": true,
            "ticks": "",
            "zerolinecolor": "white"
           },
           "zaxis": {
            "backgroundcolor": "#E5ECF6",
            "gridcolor": "white",
            "gridwidth": 2,
            "linecolor": "white",
            "showbackground": true,
            "ticks": "",
            "zerolinecolor": "white"
           }
          },
          "shapedefaults": {
           "line": {
            "color": "#2a3f5f"
           }
          },
          "ternary": {
           "aaxis": {
            "gridcolor": "white",
            "linecolor": "white",
            "ticks": ""
           },
           "baxis": {
            "gridcolor": "white",
            "linecolor": "white",
            "ticks": ""
           },
           "bgcolor": "#E5ECF6",
           "caxis": {
            "gridcolor": "white",
            "linecolor": "white",
            "ticks": ""
           }
          },
          "title": {
           "x": 0.05
          },
          "xaxis": {
           "automargin": true,
           "gridcolor": "white",
           "linecolor": "white",
           "ticks": "",
           "title": {
            "standoff": 15
           },
           "zerolinecolor": "white",
           "zerolinewidth": 2
          },
          "yaxis": {
           "automargin": true,
           "gridcolor": "white",
           "linecolor": "white",
           "ticks": "",
           "title": {
            "standoff": 15
           },
           "zerolinecolor": "white",
           "zerolinewidth": 2
          }
         }
        },
        "title": {
         "text": "adobe-mu1gamma1",
         "x": 0.5
        },
        "width": 650,
        "xaxis": {
         "range": [
          0,
          222.04082
         ],
         "title": {
          "text": "Time (s)"
         }
        },
        "yaxis": {
         "title": {
          "text": "Salience"
         }
        }
       }
      }
     },
     "metadata": {},
     "output_type": "display_data"
    }
   ],
   "source": [
    "to_level.level(\"unique\").plot()"
   ]
  },
  {
   "cell_type": "code",
   "execution_count": null,
   "metadata": {},
   "outputs": [
    {
     "name": "stdout",
     "output_type": "stream",
     "text": [
      "0.01 [[0.03032457]\n",
      " [0.00666923]]\n"
     ]
    },
    {
     "data": {
      "text/plain": [
       "array([0, 0, 0, 0, 1, 0, 0, 1, 1, 1, 1, 1, 0, 0, 0, 0])"
      ]
     },
     "metadata": {},
     "output_type": "display_data"
    }
   ],
   "source": [
    "from sklearn.cluster import MeanShift\n",
    "\n",
    "ms_strat = MeanShift(bandwidth=0.01)\n",
    "ms_strat.fit(sal_val.reshape(-1, 1))\n",
    "print(ms_strat.bandwidth, ms_strat.cluster_centers_)\n",
    "ms_strat.labels_"
   ]
  },
  {
   "cell_type": "code",
   "execution_count": 40,
   "metadata": {},
   "outputs": [
    {
     "name": "stdout",
     "output_type": "stream",
     "text": [
      "0.001\n"
     ]
    },
    {
     "data": {
      "application/vnd.plotly.v1+json": {
       "config": {
        "plotlyServerURL": "https://plot.ly"
       },
       "data": [
        {
         "hovertemplate": "<b>Boundary</b><br>Time: %{x:.3f}s<br>Salience: %{y:.3f}<extra></extra>",
         "line": {
          "color": "#666",
          "width": 1
         },
         "mode": "lines",
         "type": "scatter",
         "x": [
          8.7,
          8.7,
          null,
          10.4,
          10.4,
          null,
          23,
          23,
          null,
          51.2,
          51.2,
          null,
          63,
          63,
          null,
          64.7,
          64.7,
          null,
          82.3,
          82.3,
          null,
          91.8,
          91.8,
          null,
          104.7,
          104.7,
          null,
          112.7,
          112.7,
          null,
          126,
          126,
          null,
          134.8,
          134.8,
          null,
          139.6,
          139.6,
          null,
          144.1,
          144.1,
          null,
          145.4,
          145.4,
          null,
          152.7,
          152.7,
          null,
          154.8,
          154.8,
          null,
          166.9,
          166.9,
          null,
          178.6,
          178.6,
          null,
          191.9,
          191.9,
          null
         ],
         "y": [
          0,
          10,
          null,
          0,
          4,
          null,
          0,
          10,
          null,
          0,
          9,
          null,
          0,
          4,
          null,
          0,
          10,
          null,
          0,
          1,
          null,
          0,
          8,
          null,
          0,
          12,
          null,
          0,
          2,
          null,
          0,
          1,
          null,
          0,
          2,
          null,
          0,
          5,
          null,
          0,
          1,
          null,
          0,
          3,
          null,
          0,
          6,
          null,
          0,
          7,
          null,
          0,
          11,
          null,
          0,
          11,
          null,
          0,
          13,
          null
         ]
        }
       ],
       "layout": {
        "height": 300,
        "margin": {
         "b": 20,
         "l": 20,
         "r": 20,
         "t": 40
        },
        "shapes": [
         {
          "line": {
           "color": "#666",
           "width": 1
          },
          "opacity": 0.8,
          "type": "line",
          "x0": 0,
          "x1": 1,
          "xref": "x domain",
          "y0": 0,
          "y1": 0,
          "yref": "y"
         }
        ],
        "showlegend": false,
        "template": {
         "data": {
          "bar": [
           {
            "error_x": {
             "color": "#2a3f5f"
            },
            "error_y": {
             "color": "#2a3f5f"
            },
            "marker": {
             "line": {
              "color": "#E5ECF6",
              "width": 0.5
             },
             "pattern": {
              "fillmode": "overlay",
              "size": 10,
              "solidity": 0.2
             }
            },
            "type": "bar"
           }
          ],
          "barpolar": [
           {
            "marker": {
             "line": {
              "color": "#E5ECF6",
              "width": 0.5
             },
             "pattern": {
              "fillmode": "overlay",
              "size": 10,
              "solidity": 0.2
             }
            },
            "type": "barpolar"
           }
          ],
          "carpet": [
           {
            "aaxis": {
             "endlinecolor": "#2a3f5f",
             "gridcolor": "white",
             "linecolor": "white",
             "minorgridcolor": "white",
             "startlinecolor": "#2a3f5f"
            },
            "baxis": {
             "endlinecolor": "#2a3f5f",
             "gridcolor": "white",
             "linecolor": "white",
             "minorgridcolor": "white",
             "startlinecolor": "#2a3f5f"
            },
            "type": "carpet"
           }
          ],
          "choropleth": [
           {
            "colorbar": {
             "outlinewidth": 0,
             "ticks": ""
            },
            "type": "choropleth"
           }
          ],
          "contour": [
           {
            "colorbar": {
             "outlinewidth": 0,
             "ticks": ""
            },
            "colorscale": [
             [
              0,
              "#0d0887"
             ],
             [
              0.1111111111111111,
              "#46039f"
             ],
             [
              0.2222222222222222,
              "#7201a8"
             ],
             [
              0.3333333333333333,
              "#9c179e"
             ],
             [
              0.4444444444444444,
              "#bd3786"
             ],
             [
              0.5555555555555556,
              "#d8576b"
             ],
             [
              0.6666666666666666,
              "#ed7953"
             ],
             [
              0.7777777777777778,
              "#fb9f3a"
             ],
             [
              0.8888888888888888,
              "#fdca26"
             ],
             [
              1,
              "#f0f921"
             ]
            ],
            "type": "contour"
           }
          ],
          "contourcarpet": [
           {
            "colorbar": {
             "outlinewidth": 0,
             "ticks": ""
            },
            "type": "contourcarpet"
           }
          ],
          "heatmap": [
           {
            "colorbar": {
             "outlinewidth": 0,
             "ticks": ""
            },
            "colorscale": [
             [
              0,
              "#0d0887"
             ],
             [
              0.1111111111111111,
              "#46039f"
             ],
             [
              0.2222222222222222,
              "#7201a8"
             ],
             [
              0.3333333333333333,
              "#9c179e"
             ],
             [
              0.4444444444444444,
              "#bd3786"
             ],
             [
              0.5555555555555556,
              "#d8576b"
             ],
             [
              0.6666666666666666,
              "#ed7953"
             ],
             [
              0.7777777777777778,
              "#fb9f3a"
             ],
             [
              0.8888888888888888,
              "#fdca26"
             ],
             [
              1,
              "#f0f921"
             ]
            ],
            "type": "heatmap"
           }
          ],
          "histogram": [
           {
            "marker": {
             "pattern": {
              "fillmode": "overlay",
              "size": 10,
              "solidity": 0.2
             }
            },
            "type": "histogram"
           }
          ],
          "histogram2d": [
           {
            "colorbar": {
             "outlinewidth": 0,
             "ticks": ""
            },
            "colorscale": [
             [
              0,
              "#0d0887"
             ],
             [
              0.1111111111111111,
              "#46039f"
             ],
             [
              0.2222222222222222,
              "#7201a8"
             ],
             [
              0.3333333333333333,
              "#9c179e"
             ],
             [
              0.4444444444444444,
              "#bd3786"
             ],
             [
              0.5555555555555556,
              "#d8576b"
             ],
             [
              0.6666666666666666,
              "#ed7953"
             ],
             [
              0.7777777777777778,
              "#fb9f3a"
             ],
             [
              0.8888888888888888,
              "#fdca26"
             ],
             [
              1,
              "#f0f921"
             ]
            ],
            "type": "histogram2d"
           }
          ],
          "histogram2dcontour": [
           {
            "colorbar": {
             "outlinewidth": 0,
             "ticks": ""
            },
            "colorscale": [
             [
              0,
              "#0d0887"
             ],
             [
              0.1111111111111111,
              "#46039f"
             ],
             [
              0.2222222222222222,
              "#7201a8"
             ],
             [
              0.3333333333333333,
              "#9c179e"
             ],
             [
              0.4444444444444444,
              "#bd3786"
             ],
             [
              0.5555555555555556,
              "#d8576b"
             ],
             [
              0.6666666666666666,
              "#ed7953"
             ],
             [
              0.7777777777777778,
              "#fb9f3a"
             ],
             [
              0.8888888888888888,
              "#fdca26"
             ],
             [
              1,
              "#f0f921"
             ]
            ],
            "type": "histogram2dcontour"
           }
          ],
          "mesh3d": [
           {
            "colorbar": {
             "outlinewidth": 0,
             "ticks": ""
            },
            "type": "mesh3d"
           }
          ],
          "parcoords": [
           {
            "line": {
             "colorbar": {
              "outlinewidth": 0,
              "ticks": ""
             }
            },
            "type": "parcoords"
           }
          ],
          "pie": [
           {
            "automargin": true,
            "type": "pie"
           }
          ],
          "scatter": [
           {
            "fillpattern": {
             "fillmode": "overlay",
             "size": 10,
             "solidity": 0.2
            },
            "type": "scatter"
           }
          ],
          "scatter3d": [
           {
            "line": {
             "colorbar": {
              "outlinewidth": 0,
              "ticks": ""
             }
            },
            "marker": {
             "colorbar": {
              "outlinewidth": 0,
              "ticks": ""
             }
            },
            "type": "scatter3d"
           }
          ],
          "scattercarpet": [
           {
            "marker": {
             "colorbar": {
              "outlinewidth": 0,
              "ticks": ""
             }
            },
            "type": "scattercarpet"
           }
          ],
          "scattergeo": [
           {
            "marker": {
             "colorbar": {
              "outlinewidth": 0,
              "ticks": ""
             }
            },
            "type": "scattergeo"
           }
          ],
          "scattergl": [
           {
            "marker": {
             "colorbar": {
              "outlinewidth": 0,
              "ticks": ""
             }
            },
            "type": "scattergl"
           }
          ],
          "scattermap": [
           {
            "marker": {
             "colorbar": {
              "outlinewidth": 0,
              "ticks": ""
             }
            },
            "type": "scattermap"
           }
          ],
          "scattermapbox": [
           {
            "marker": {
             "colorbar": {
              "outlinewidth": 0,
              "ticks": ""
             }
            },
            "type": "scattermapbox"
           }
          ],
          "scatterpolar": [
           {
            "marker": {
             "colorbar": {
              "outlinewidth": 0,
              "ticks": ""
             }
            },
            "type": "scatterpolar"
           }
          ],
          "scatterpolargl": [
           {
            "marker": {
             "colorbar": {
              "outlinewidth": 0,
              "ticks": ""
             }
            },
            "type": "scatterpolargl"
           }
          ],
          "scatterternary": [
           {
            "marker": {
             "colorbar": {
              "outlinewidth": 0,
              "ticks": ""
             }
            },
            "type": "scatterternary"
           }
          ],
          "surface": [
           {
            "colorbar": {
             "outlinewidth": 0,
             "ticks": ""
            },
            "colorscale": [
             [
              0,
              "#0d0887"
             ],
             [
              0.1111111111111111,
              "#46039f"
             ],
             [
              0.2222222222222222,
              "#7201a8"
             ],
             [
              0.3333333333333333,
              "#9c179e"
             ],
             [
              0.4444444444444444,
              "#bd3786"
             ],
             [
              0.5555555555555556,
              "#d8576b"
             ],
             [
              0.6666666666666666,
              "#ed7953"
             ],
             [
              0.7777777777777778,
              "#fb9f3a"
             ],
             [
              0.8888888888888888,
              "#fdca26"
             ],
             [
              1,
              "#f0f921"
             ]
            ],
            "type": "surface"
           }
          ],
          "table": [
           {
            "cells": {
             "fill": {
              "color": "#EBF0F8"
             },
             "line": {
              "color": "white"
             }
            },
            "header": {
             "fill": {
              "color": "#C8D4E3"
             },
             "line": {
              "color": "white"
             }
            },
            "type": "table"
           }
          ]
         },
         "layout": {
          "annotationdefaults": {
           "arrowcolor": "#2a3f5f",
           "arrowhead": 0,
           "arrowwidth": 1
          },
          "autotypenumbers": "strict",
          "coloraxis": {
           "colorbar": {
            "outlinewidth": 0,
            "ticks": ""
           }
          },
          "colorscale": {
           "diverging": [
            [
             0,
             "#8e0152"
            ],
            [
             0.1,
             "#c51b7d"
            ],
            [
             0.2,
             "#de77ae"
            ],
            [
             0.3,
             "#f1b6da"
            ],
            [
             0.4,
             "#fde0ef"
            ],
            [
             0.5,
             "#f7f7f7"
            ],
            [
             0.6,
             "#e6f5d0"
            ],
            [
             0.7,
             "#b8e186"
            ],
            [
             0.8,
             "#7fbc41"
            ],
            [
             0.9,
             "#4d9221"
            ],
            [
             1,
             "#276419"
            ]
           ],
           "sequential": [
            [
             0,
             "#0d0887"
            ],
            [
             0.1111111111111111,
             "#46039f"
            ],
            [
             0.2222222222222222,
             "#7201a8"
            ],
            [
             0.3333333333333333,
             "#9c179e"
            ],
            [
             0.4444444444444444,
             "#bd3786"
            ],
            [
             0.5555555555555556,
             "#d8576b"
            ],
            [
             0.6666666666666666,
             "#ed7953"
            ],
            [
             0.7777777777777778,
             "#fb9f3a"
            ],
            [
             0.8888888888888888,
             "#fdca26"
            ],
            [
             1,
             "#f0f921"
            ]
           ],
           "sequentialminus": [
            [
             0,
             "#0d0887"
            ],
            [
             0.1111111111111111,
             "#46039f"
            ],
            [
             0.2222222222222222,
             "#7201a8"
            ],
            [
             0.3333333333333333,
             "#9c179e"
            ],
            [
             0.4444444444444444,
             "#bd3786"
            ],
            [
             0.5555555555555556,
             "#d8576b"
            ],
            [
             0.6666666666666666,
             "#ed7953"
            ],
            [
             0.7777777777777778,
             "#fb9f3a"
            ],
            [
             0.8888888888888888,
             "#fdca26"
            ],
            [
             1,
             "#f0f921"
            ]
           ]
          },
          "colorway": [
           "#636efa",
           "#EF553B",
           "#00cc96",
           "#ab63fa",
           "#FFA15A",
           "#19d3f3",
           "#FF6692",
           "#B6E880",
           "#FF97FF",
           "#FECB52"
          ],
          "font": {
           "color": "#2a3f5f"
          },
          "geo": {
           "bgcolor": "white",
           "lakecolor": "white",
           "landcolor": "#E5ECF6",
           "showlakes": true,
           "showland": true,
           "subunitcolor": "white"
          },
          "hoverlabel": {
           "align": "left"
          },
          "hovermode": "closest",
          "mapbox": {
           "style": "light"
          },
          "paper_bgcolor": "white",
          "plot_bgcolor": "#E5ECF6",
          "polar": {
           "angularaxis": {
            "gridcolor": "white",
            "linecolor": "white",
            "ticks": ""
           },
           "bgcolor": "#E5ECF6",
           "radialaxis": {
            "gridcolor": "white",
            "linecolor": "white",
            "ticks": ""
           }
          },
          "scene": {
           "xaxis": {
            "backgroundcolor": "#E5ECF6",
            "gridcolor": "white",
            "gridwidth": 2,
            "linecolor": "white",
            "showbackground": true,
            "ticks": "",
            "zerolinecolor": "white"
           },
           "yaxis": {
            "backgroundcolor": "#E5ECF6",
            "gridcolor": "white",
            "gridwidth": 2,
            "linecolor": "white",
            "showbackground": true,
            "ticks": "",
            "zerolinecolor": "white"
           },
           "zaxis": {
            "backgroundcolor": "#E5ECF6",
            "gridcolor": "white",
            "gridwidth": 2,
            "linecolor": "white",
            "showbackground": true,
            "ticks": "",
            "zerolinecolor": "white"
           }
          },
          "shapedefaults": {
           "line": {
            "color": "#2a3f5f"
           }
          },
          "ternary": {
           "aaxis": {
            "gridcolor": "white",
            "linecolor": "white",
            "ticks": ""
           },
           "baxis": {
            "gridcolor": "white",
            "linecolor": "white",
            "ticks": ""
           },
           "bgcolor": "#E5ECF6",
           "caxis": {
            "gridcolor": "white",
            "linecolor": "white",
            "ticks": ""
           }
          },
          "title": {
           "x": 0.05
          },
          "xaxis": {
           "automargin": true,
           "gridcolor": "white",
           "linecolor": "white",
           "ticks": "",
           "title": {
            "standoff": 15
           },
           "zerolinecolor": "white",
           "zerolinewidth": 2
          },
          "yaxis": {
           "automargin": true,
           "gridcolor": "white",
           "linecolor": "white",
           "ticks": "",
           "title": {
            "standoff": 15
           },
           "zerolinecolor": "white",
           "zerolinewidth": 2
          }
         }
        },
        "title": {
         "text": "adobe-mu1gamma1",
         "x": 0.5
        },
        "width": 650,
        "xaxis": {
         "range": [
          0,
          222.04082
         ],
         "title": {
          "text": "Time (s)"
         }
        },
        "yaxis": {
         "title": {
          "text": "Salience"
         }
        }
       }
      }
     },
     "metadata": {},
     "output_type": "display_data"
    },
    {
     "name": "stdout",
     "output_type": "stream",
     "text": [
      "0.003\n"
     ]
    },
    {
     "data": {
      "application/vnd.plotly.v1+json": {
       "config": {
        "plotlyServerURL": "https://plot.ly"
       },
       "data": [
        {
         "hovertemplate": "<b>Boundary</b><br>Time: %{x:.3f}s<br>Salience: %{y:.3f}<extra></extra>",
         "line": {
          "color": "#666",
          "width": 1
         },
         "mode": "lines",
         "type": "scatter",
         "x": [
          8.7,
          8.7,
          null,
          10.4,
          10.4,
          null,
          23,
          23,
          null,
          51.2,
          51.2,
          null,
          63,
          63,
          null,
          64.7,
          64.7,
          null,
          82.3,
          82.3,
          null,
          91.8,
          91.8,
          null,
          104.7,
          104.7,
          null,
          112.7,
          112.7,
          null,
          126,
          126,
          null,
          134.8,
          134.8,
          null,
          139.6,
          139.6,
          null,
          144.1,
          144.1,
          null,
          145.4,
          145.4,
          null,
          152.7,
          152.7,
          null,
          154.8,
          154.8,
          null,
          166.9,
          166.9,
          null,
          178.6,
          178.6,
          null,
          191.9,
          191.9,
          null
         ],
         "y": [
          0,
          7,
          null,
          0,
          3,
          null,
          0,
          7,
          null,
          0,
          6,
          null,
          0,
          3,
          null,
          0,
          7,
          null,
          0,
          1,
          null,
          0,
          6,
          null,
          0,
          9,
          null,
          0,
          2,
          null,
          0,
          1,
          null,
          0,
          2,
          null,
          0,
          4,
          null,
          0,
          1,
          null,
          0,
          3,
          null,
          0,
          4,
          null,
          0,
          5,
          null,
          0,
          8,
          null,
          0,
          8,
          null,
          0,
          10,
          null
         ]
        }
       ],
       "layout": {
        "height": 300,
        "margin": {
         "b": 20,
         "l": 20,
         "r": 20,
         "t": 40
        },
        "shapes": [
         {
          "line": {
           "color": "#666",
           "width": 1
          },
          "opacity": 0.8,
          "type": "line",
          "x0": 0,
          "x1": 1,
          "xref": "x domain",
          "y0": 0,
          "y1": 0,
          "yref": "y"
         }
        ],
        "showlegend": false,
        "template": {
         "data": {
          "bar": [
           {
            "error_x": {
             "color": "#2a3f5f"
            },
            "error_y": {
             "color": "#2a3f5f"
            },
            "marker": {
             "line": {
              "color": "#E5ECF6",
              "width": 0.5
             },
             "pattern": {
              "fillmode": "overlay",
              "size": 10,
              "solidity": 0.2
             }
            },
            "type": "bar"
           }
          ],
          "barpolar": [
           {
            "marker": {
             "line": {
              "color": "#E5ECF6",
              "width": 0.5
             },
             "pattern": {
              "fillmode": "overlay",
              "size": 10,
              "solidity": 0.2
             }
            },
            "type": "barpolar"
           }
          ],
          "carpet": [
           {
            "aaxis": {
             "endlinecolor": "#2a3f5f",
             "gridcolor": "white",
             "linecolor": "white",
             "minorgridcolor": "white",
             "startlinecolor": "#2a3f5f"
            },
            "baxis": {
             "endlinecolor": "#2a3f5f",
             "gridcolor": "white",
             "linecolor": "white",
             "minorgridcolor": "white",
             "startlinecolor": "#2a3f5f"
            },
            "type": "carpet"
           }
          ],
          "choropleth": [
           {
            "colorbar": {
             "outlinewidth": 0,
             "ticks": ""
            },
            "type": "choropleth"
           }
          ],
          "contour": [
           {
            "colorbar": {
             "outlinewidth": 0,
             "ticks": ""
            },
            "colorscale": [
             [
              0,
              "#0d0887"
             ],
             [
              0.1111111111111111,
              "#46039f"
             ],
             [
              0.2222222222222222,
              "#7201a8"
             ],
             [
              0.3333333333333333,
              "#9c179e"
             ],
             [
              0.4444444444444444,
              "#bd3786"
             ],
             [
              0.5555555555555556,
              "#d8576b"
             ],
             [
              0.6666666666666666,
              "#ed7953"
             ],
             [
              0.7777777777777778,
              "#fb9f3a"
             ],
             [
              0.8888888888888888,
              "#fdca26"
             ],
             [
              1,
              "#f0f921"
             ]
            ],
            "type": "contour"
           }
          ],
          "contourcarpet": [
           {
            "colorbar": {
             "outlinewidth": 0,
             "ticks": ""
            },
            "type": "contourcarpet"
           }
          ],
          "heatmap": [
           {
            "colorbar": {
             "outlinewidth": 0,
             "ticks": ""
            },
            "colorscale": [
             [
              0,
              "#0d0887"
             ],
             [
              0.1111111111111111,
              "#46039f"
             ],
             [
              0.2222222222222222,
              "#7201a8"
             ],
             [
              0.3333333333333333,
              "#9c179e"
             ],
             [
              0.4444444444444444,
              "#bd3786"
             ],
             [
              0.5555555555555556,
              "#d8576b"
             ],
             [
              0.6666666666666666,
              "#ed7953"
             ],
             [
              0.7777777777777778,
              "#fb9f3a"
             ],
             [
              0.8888888888888888,
              "#fdca26"
             ],
             [
              1,
              "#f0f921"
             ]
            ],
            "type": "heatmap"
           }
          ],
          "histogram": [
           {
            "marker": {
             "pattern": {
              "fillmode": "overlay",
              "size": 10,
              "solidity": 0.2
             }
            },
            "type": "histogram"
           }
          ],
          "histogram2d": [
           {
            "colorbar": {
             "outlinewidth": 0,
             "ticks": ""
            },
            "colorscale": [
             [
              0,
              "#0d0887"
             ],
             [
              0.1111111111111111,
              "#46039f"
             ],
             [
              0.2222222222222222,
              "#7201a8"
             ],
             [
              0.3333333333333333,
              "#9c179e"
             ],
             [
              0.4444444444444444,
              "#bd3786"
             ],
             [
              0.5555555555555556,
              "#d8576b"
             ],
             [
              0.6666666666666666,
              "#ed7953"
             ],
             [
              0.7777777777777778,
              "#fb9f3a"
             ],
             [
              0.8888888888888888,
              "#fdca26"
             ],
             [
              1,
              "#f0f921"
             ]
            ],
            "type": "histogram2d"
           }
          ],
          "histogram2dcontour": [
           {
            "colorbar": {
             "outlinewidth": 0,
             "ticks": ""
            },
            "colorscale": [
             [
              0,
              "#0d0887"
             ],
             [
              0.1111111111111111,
              "#46039f"
             ],
             [
              0.2222222222222222,
              "#7201a8"
             ],
             [
              0.3333333333333333,
              "#9c179e"
             ],
             [
              0.4444444444444444,
              "#bd3786"
             ],
             [
              0.5555555555555556,
              "#d8576b"
             ],
             [
              0.6666666666666666,
              "#ed7953"
             ],
             [
              0.7777777777777778,
              "#fb9f3a"
             ],
             [
              0.8888888888888888,
              "#fdca26"
             ],
             [
              1,
              "#f0f921"
             ]
            ],
            "type": "histogram2dcontour"
           }
          ],
          "mesh3d": [
           {
            "colorbar": {
             "outlinewidth": 0,
             "ticks": ""
            },
            "type": "mesh3d"
           }
          ],
          "parcoords": [
           {
            "line": {
             "colorbar": {
              "outlinewidth": 0,
              "ticks": ""
             }
            },
            "type": "parcoords"
           }
          ],
          "pie": [
           {
            "automargin": true,
            "type": "pie"
           }
          ],
          "scatter": [
           {
            "fillpattern": {
             "fillmode": "overlay",
             "size": 10,
             "solidity": 0.2
            },
            "type": "scatter"
           }
          ],
          "scatter3d": [
           {
            "line": {
             "colorbar": {
              "outlinewidth": 0,
              "ticks": ""
             }
            },
            "marker": {
             "colorbar": {
              "outlinewidth": 0,
              "ticks": ""
             }
            },
            "type": "scatter3d"
           }
          ],
          "scattercarpet": [
           {
            "marker": {
             "colorbar": {
              "outlinewidth": 0,
              "ticks": ""
             }
            },
            "type": "scattercarpet"
           }
          ],
          "scattergeo": [
           {
            "marker": {
             "colorbar": {
              "outlinewidth": 0,
              "ticks": ""
             }
            },
            "type": "scattergeo"
           }
          ],
          "scattergl": [
           {
            "marker": {
             "colorbar": {
              "outlinewidth": 0,
              "ticks": ""
             }
            },
            "type": "scattergl"
           }
          ],
          "scattermap": [
           {
            "marker": {
             "colorbar": {
              "outlinewidth": 0,
              "ticks": ""
             }
            },
            "type": "scattermap"
           }
          ],
          "scattermapbox": [
           {
            "marker": {
             "colorbar": {
              "outlinewidth": 0,
              "ticks": ""
             }
            },
            "type": "scattermapbox"
           }
          ],
          "scatterpolar": [
           {
            "marker": {
             "colorbar": {
              "outlinewidth": 0,
              "ticks": ""
             }
            },
            "type": "scatterpolar"
           }
          ],
          "scatterpolargl": [
           {
            "marker": {
             "colorbar": {
              "outlinewidth": 0,
              "ticks": ""
             }
            },
            "type": "scatterpolargl"
           }
          ],
          "scatterternary": [
           {
            "marker": {
             "colorbar": {
              "outlinewidth": 0,
              "ticks": ""
             }
            },
            "type": "scatterternary"
           }
          ],
          "surface": [
           {
            "colorbar": {
             "outlinewidth": 0,
             "ticks": ""
            },
            "colorscale": [
             [
              0,
              "#0d0887"
             ],
             [
              0.1111111111111111,
              "#46039f"
             ],
             [
              0.2222222222222222,
              "#7201a8"
             ],
             [
              0.3333333333333333,
              "#9c179e"
             ],
             [
              0.4444444444444444,
              "#bd3786"
             ],
             [
              0.5555555555555556,
              "#d8576b"
             ],
             [
              0.6666666666666666,
              "#ed7953"
             ],
             [
              0.7777777777777778,
              "#fb9f3a"
             ],
             [
              0.8888888888888888,
              "#fdca26"
             ],
             [
              1,
              "#f0f921"
             ]
            ],
            "type": "surface"
           }
          ],
          "table": [
           {
            "cells": {
             "fill": {
              "color": "#EBF0F8"
             },
             "line": {
              "color": "white"
             }
            },
            "header": {
             "fill": {
              "color": "#C8D4E3"
             },
             "line": {
              "color": "white"
             }
            },
            "type": "table"
           }
          ]
         },
         "layout": {
          "annotationdefaults": {
           "arrowcolor": "#2a3f5f",
           "arrowhead": 0,
           "arrowwidth": 1
          },
          "autotypenumbers": "strict",
          "coloraxis": {
           "colorbar": {
            "outlinewidth": 0,
            "ticks": ""
           }
          },
          "colorscale": {
           "diverging": [
            [
             0,
             "#8e0152"
            ],
            [
             0.1,
             "#c51b7d"
            ],
            [
             0.2,
             "#de77ae"
            ],
            [
             0.3,
             "#f1b6da"
            ],
            [
             0.4,
             "#fde0ef"
            ],
            [
             0.5,
             "#f7f7f7"
            ],
            [
             0.6,
             "#e6f5d0"
            ],
            [
             0.7,
             "#b8e186"
            ],
            [
             0.8,
             "#7fbc41"
            ],
            [
             0.9,
             "#4d9221"
            ],
            [
             1,
             "#276419"
            ]
           ],
           "sequential": [
            [
             0,
             "#0d0887"
            ],
            [
             0.1111111111111111,
             "#46039f"
            ],
            [
             0.2222222222222222,
             "#7201a8"
            ],
            [
             0.3333333333333333,
             "#9c179e"
            ],
            [
             0.4444444444444444,
             "#bd3786"
            ],
            [
             0.5555555555555556,
             "#d8576b"
            ],
            [
             0.6666666666666666,
             "#ed7953"
            ],
            [
             0.7777777777777778,
             "#fb9f3a"
            ],
            [
             0.8888888888888888,
             "#fdca26"
            ],
            [
             1,
             "#f0f921"
            ]
           ],
           "sequentialminus": [
            [
             0,
             "#0d0887"
            ],
            [
             0.1111111111111111,
             "#46039f"
            ],
            [
             0.2222222222222222,
             "#7201a8"
            ],
            [
             0.3333333333333333,
             "#9c179e"
            ],
            [
             0.4444444444444444,
             "#bd3786"
            ],
            [
             0.5555555555555556,
             "#d8576b"
            ],
            [
             0.6666666666666666,
             "#ed7953"
            ],
            [
             0.7777777777777778,
             "#fb9f3a"
            ],
            [
             0.8888888888888888,
             "#fdca26"
            ],
            [
             1,
             "#f0f921"
            ]
           ]
          },
          "colorway": [
           "#636efa",
           "#EF553B",
           "#00cc96",
           "#ab63fa",
           "#FFA15A",
           "#19d3f3",
           "#FF6692",
           "#B6E880",
           "#FF97FF",
           "#FECB52"
          ],
          "font": {
           "color": "#2a3f5f"
          },
          "geo": {
           "bgcolor": "white",
           "lakecolor": "white",
           "landcolor": "#E5ECF6",
           "showlakes": true,
           "showland": true,
           "subunitcolor": "white"
          },
          "hoverlabel": {
           "align": "left"
          },
          "hovermode": "closest",
          "mapbox": {
           "style": "light"
          },
          "paper_bgcolor": "white",
          "plot_bgcolor": "#E5ECF6",
          "polar": {
           "angularaxis": {
            "gridcolor": "white",
            "linecolor": "white",
            "ticks": ""
           },
           "bgcolor": "#E5ECF6",
           "radialaxis": {
            "gridcolor": "white",
            "linecolor": "white",
            "ticks": ""
           }
          },
          "scene": {
           "xaxis": {
            "backgroundcolor": "#E5ECF6",
            "gridcolor": "white",
            "gridwidth": 2,
            "linecolor": "white",
            "showbackground": true,
            "ticks": "",
            "zerolinecolor": "white"
           },
           "yaxis": {
            "backgroundcolor": "#E5ECF6",
            "gridcolor": "white",
            "gridwidth": 2,
            "linecolor": "white",
            "showbackground": true,
            "ticks": "",
            "zerolinecolor": "white"
           },
           "zaxis": {
            "backgroundcolor": "#E5ECF6",
            "gridcolor": "white",
            "gridwidth": 2,
            "linecolor": "white",
            "showbackground": true,
            "ticks": "",
            "zerolinecolor": "white"
           }
          },
          "shapedefaults": {
           "line": {
            "color": "#2a3f5f"
           }
          },
          "ternary": {
           "aaxis": {
            "gridcolor": "white",
            "linecolor": "white",
            "ticks": ""
           },
           "baxis": {
            "gridcolor": "white",
            "linecolor": "white",
            "ticks": ""
           },
           "bgcolor": "#E5ECF6",
           "caxis": {
            "gridcolor": "white",
            "linecolor": "white",
            "ticks": ""
           }
          },
          "title": {
           "x": 0.05
          },
          "xaxis": {
           "automargin": true,
           "gridcolor": "white",
           "linecolor": "white",
           "ticks": "",
           "title": {
            "standoff": 15
           },
           "zerolinecolor": "white",
           "zerolinewidth": 2
          },
          "yaxis": {
           "automargin": true,
           "gridcolor": "white",
           "linecolor": "white",
           "ticks": "",
           "title": {
            "standoff": 15
           },
           "zerolinecolor": "white",
           "zerolinewidth": 2
          }
         }
        },
        "title": {
         "text": "adobe-mu1gamma1",
         "x": 0.5
        },
        "width": 650,
        "xaxis": {
         "range": [
          0,
          222.04082
         ],
         "title": {
          "text": "Time (s)"
         }
        },
        "yaxis": {
         "title": {
          "text": "Salience"
         }
        }
       }
      }
     },
     "metadata": {},
     "output_type": "display_data"
    },
    {
     "name": "stdout",
     "output_type": "stream",
     "text": [
      "0.005\n"
     ]
    },
    {
     "data": {
      "application/vnd.plotly.v1+json": {
       "config": {
        "plotlyServerURL": "https://plot.ly"
       },
       "data": [
        {
         "hovertemplate": "<b>Boundary</b><br>Time: %{x:.3f}s<br>Salience: %{y:.3f}<extra></extra>",
         "line": {
          "color": "#666",
          "width": 1
         },
         "mode": "lines",
         "type": "scatter",
         "x": [
          8.7,
          8.7,
          null,
          10.4,
          10.4,
          null,
          23,
          23,
          null,
          51.2,
          51.2,
          null,
          63,
          63,
          null,
          64.7,
          64.7,
          null,
          82.3,
          82.3,
          null,
          91.8,
          91.8,
          null,
          104.7,
          104.7,
          null,
          112.7,
          112.7,
          null,
          126,
          126,
          null,
          134.8,
          134.8,
          null,
          139.6,
          139.6,
          null,
          144.1,
          144.1,
          null,
          145.4,
          145.4,
          null,
          152.7,
          152.7,
          null,
          154.8,
          154.8,
          null,
          166.9,
          166.9,
          null,
          178.6,
          178.6,
          null,
          191.9,
          191.9,
          null
         ],
         "y": [
          0,
          4,
          null,
          0,
          2,
          null,
          0,
          4,
          null,
          0,
          4,
          null,
          0,
          2,
          null,
          0,
          4,
          null,
          0,
          1,
          null,
          0,
          4,
          null,
          0,
          5,
          null,
          0,
          1,
          null,
          0,
          1,
          null,
          0,
          1,
          null,
          0,
          3,
          null,
          0,
          1,
          null,
          0,
          2,
          null,
          0,
          3,
          null,
          0,
          3,
          null,
          0,
          5,
          null,
          0,
          5,
          null,
          0,
          6,
          null
         ]
        }
       ],
       "layout": {
        "height": 300,
        "margin": {
         "b": 20,
         "l": 20,
         "r": 20,
         "t": 40
        },
        "shapes": [
         {
          "line": {
           "color": "#666",
           "width": 1
          },
          "opacity": 0.8,
          "type": "line",
          "x0": 0,
          "x1": 1,
          "xref": "x domain",
          "y0": 0,
          "y1": 0,
          "yref": "y"
         }
        ],
        "showlegend": false,
        "template": {
         "data": {
          "bar": [
           {
            "error_x": {
             "color": "#2a3f5f"
            },
            "error_y": {
             "color": "#2a3f5f"
            },
            "marker": {
             "line": {
              "color": "#E5ECF6",
              "width": 0.5
             },
             "pattern": {
              "fillmode": "overlay",
              "size": 10,
              "solidity": 0.2
             }
            },
            "type": "bar"
           }
          ],
          "barpolar": [
           {
            "marker": {
             "line": {
              "color": "#E5ECF6",
              "width": 0.5
             },
             "pattern": {
              "fillmode": "overlay",
              "size": 10,
              "solidity": 0.2
             }
            },
            "type": "barpolar"
           }
          ],
          "carpet": [
           {
            "aaxis": {
             "endlinecolor": "#2a3f5f",
             "gridcolor": "white",
             "linecolor": "white",
             "minorgridcolor": "white",
             "startlinecolor": "#2a3f5f"
            },
            "baxis": {
             "endlinecolor": "#2a3f5f",
             "gridcolor": "white",
             "linecolor": "white",
             "minorgridcolor": "white",
             "startlinecolor": "#2a3f5f"
            },
            "type": "carpet"
           }
          ],
          "choropleth": [
           {
            "colorbar": {
             "outlinewidth": 0,
             "ticks": ""
            },
            "type": "choropleth"
           }
          ],
          "contour": [
           {
            "colorbar": {
             "outlinewidth": 0,
             "ticks": ""
            },
            "colorscale": [
             [
              0,
              "#0d0887"
             ],
             [
              0.1111111111111111,
              "#46039f"
             ],
             [
              0.2222222222222222,
              "#7201a8"
             ],
             [
              0.3333333333333333,
              "#9c179e"
             ],
             [
              0.4444444444444444,
              "#bd3786"
             ],
             [
              0.5555555555555556,
              "#d8576b"
             ],
             [
              0.6666666666666666,
              "#ed7953"
             ],
             [
              0.7777777777777778,
              "#fb9f3a"
             ],
             [
              0.8888888888888888,
              "#fdca26"
             ],
             [
              1,
              "#f0f921"
             ]
            ],
            "type": "contour"
           }
          ],
          "contourcarpet": [
           {
            "colorbar": {
             "outlinewidth": 0,
             "ticks": ""
            },
            "type": "contourcarpet"
           }
          ],
          "heatmap": [
           {
            "colorbar": {
             "outlinewidth": 0,
             "ticks": ""
            },
            "colorscale": [
             [
              0,
              "#0d0887"
             ],
             [
              0.1111111111111111,
              "#46039f"
             ],
             [
              0.2222222222222222,
              "#7201a8"
             ],
             [
              0.3333333333333333,
              "#9c179e"
             ],
             [
              0.4444444444444444,
              "#bd3786"
             ],
             [
              0.5555555555555556,
              "#d8576b"
             ],
             [
              0.6666666666666666,
              "#ed7953"
             ],
             [
              0.7777777777777778,
              "#fb9f3a"
             ],
             [
              0.8888888888888888,
              "#fdca26"
             ],
             [
              1,
              "#f0f921"
             ]
            ],
            "type": "heatmap"
           }
          ],
          "histogram": [
           {
            "marker": {
             "pattern": {
              "fillmode": "overlay",
              "size": 10,
              "solidity": 0.2
             }
            },
            "type": "histogram"
           }
          ],
          "histogram2d": [
           {
            "colorbar": {
             "outlinewidth": 0,
             "ticks": ""
            },
            "colorscale": [
             [
              0,
              "#0d0887"
             ],
             [
              0.1111111111111111,
              "#46039f"
             ],
             [
              0.2222222222222222,
              "#7201a8"
             ],
             [
              0.3333333333333333,
              "#9c179e"
             ],
             [
              0.4444444444444444,
              "#bd3786"
             ],
             [
              0.5555555555555556,
              "#d8576b"
             ],
             [
              0.6666666666666666,
              "#ed7953"
             ],
             [
              0.7777777777777778,
              "#fb9f3a"
             ],
             [
              0.8888888888888888,
              "#fdca26"
             ],
             [
              1,
              "#f0f921"
             ]
            ],
            "type": "histogram2d"
           }
          ],
          "histogram2dcontour": [
           {
            "colorbar": {
             "outlinewidth": 0,
             "ticks": ""
            },
            "colorscale": [
             [
              0,
              "#0d0887"
             ],
             [
              0.1111111111111111,
              "#46039f"
             ],
             [
              0.2222222222222222,
              "#7201a8"
             ],
             [
              0.3333333333333333,
              "#9c179e"
             ],
             [
              0.4444444444444444,
              "#bd3786"
             ],
             [
              0.5555555555555556,
              "#d8576b"
             ],
             [
              0.6666666666666666,
              "#ed7953"
             ],
             [
              0.7777777777777778,
              "#fb9f3a"
             ],
             [
              0.8888888888888888,
              "#fdca26"
             ],
             [
              1,
              "#f0f921"
             ]
            ],
            "type": "histogram2dcontour"
           }
          ],
          "mesh3d": [
           {
            "colorbar": {
             "outlinewidth": 0,
             "ticks": ""
            },
            "type": "mesh3d"
           }
          ],
          "parcoords": [
           {
            "line": {
             "colorbar": {
              "outlinewidth": 0,
              "ticks": ""
             }
            },
            "type": "parcoords"
           }
          ],
          "pie": [
           {
            "automargin": true,
            "type": "pie"
           }
          ],
          "scatter": [
           {
            "fillpattern": {
             "fillmode": "overlay",
             "size": 10,
             "solidity": 0.2
            },
            "type": "scatter"
           }
          ],
          "scatter3d": [
           {
            "line": {
             "colorbar": {
              "outlinewidth": 0,
              "ticks": ""
             }
            },
            "marker": {
             "colorbar": {
              "outlinewidth": 0,
              "ticks": ""
             }
            },
            "type": "scatter3d"
           }
          ],
          "scattercarpet": [
           {
            "marker": {
             "colorbar": {
              "outlinewidth": 0,
              "ticks": ""
             }
            },
            "type": "scattercarpet"
           }
          ],
          "scattergeo": [
           {
            "marker": {
             "colorbar": {
              "outlinewidth": 0,
              "ticks": ""
             }
            },
            "type": "scattergeo"
           }
          ],
          "scattergl": [
           {
            "marker": {
             "colorbar": {
              "outlinewidth": 0,
              "ticks": ""
             }
            },
            "type": "scattergl"
           }
          ],
          "scattermap": [
           {
            "marker": {
             "colorbar": {
              "outlinewidth": 0,
              "ticks": ""
             }
            },
            "type": "scattermap"
           }
          ],
          "scattermapbox": [
           {
            "marker": {
             "colorbar": {
              "outlinewidth": 0,
              "ticks": ""
             }
            },
            "type": "scattermapbox"
           }
          ],
          "scatterpolar": [
           {
            "marker": {
             "colorbar": {
              "outlinewidth": 0,
              "ticks": ""
             }
            },
            "type": "scatterpolar"
           }
          ],
          "scatterpolargl": [
           {
            "marker": {
             "colorbar": {
              "outlinewidth": 0,
              "ticks": ""
             }
            },
            "type": "scatterpolargl"
           }
          ],
          "scatterternary": [
           {
            "marker": {
             "colorbar": {
              "outlinewidth": 0,
              "ticks": ""
             }
            },
            "type": "scatterternary"
           }
          ],
          "surface": [
           {
            "colorbar": {
             "outlinewidth": 0,
             "ticks": ""
            },
            "colorscale": [
             [
              0,
              "#0d0887"
             ],
             [
              0.1111111111111111,
              "#46039f"
             ],
             [
              0.2222222222222222,
              "#7201a8"
             ],
             [
              0.3333333333333333,
              "#9c179e"
             ],
             [
              0.4444444444444444,
              "#bd3786"
             ],
             [
              0.5555555555555556,
              "#d8576b"
             ],
             [
              0.6666666666666666,
              "#ed7953"
             ],
             [
              0.7777777777777778,
              "#fb9f3a"
             ],
             [
              0.8888888888888888,
              "#fdca26"
             ],
             [
              1,
              "#f0f921"
             ]
            ],
            "type": "surface"
           }
          ],
          "table": [
           {
            "cells": {
             "fill": {
              "color": "#EBF0F8"
             },
             "line": {
              "color": "white"
             }
            },
            "header": {
             "fill": {
              "color": "#C8D4E3"
             },
             "line": {
              "color": "white"
             }
            },
            "type": "table"
           }
          ]
         },
         "layout": {
          "annotationdefaults": {
           "arrowcolor": "#2a3f5f",
           "arrowhead": 0,
           "arrowwidth": 1
          },
          "autotypenumbers": "strict",
          "coloraxis": {
           "colorbar": {
            "outlinewidth": 0,
            "ticks": ""
           }
          },
          "colorscale": {
           "diverging": [
            [
             0,
             "#8e0152"
            ],
            [
             0.1,
             "#c51b7d"
            ],
            [
             0.2,
             "#de77ae"
            ],
            [
             0.3,
             "#f1b6da"
            ],
            [
             0.4,
             "#fde0ef"
            ],
            [
             0.5,
             "#f7f7f7"
            ],
            [
             0.6,
             "#e6f5d0"
            ],
            [
             0.7,
             "#b8e186"
            ],
            [
             0.8,
             "#7fbc41"
            ],
            [
             0.9,
             "#4d9221"
            ],
            [
             1,
             "#276419"
            ]
           ],
           "sequential": [
            [
             0,
             "#0d0887"
            ],
            [
             0.1111111111111111,
             "#46039f"
            ],
            [
             0.2222222222222222,
             "#7201a8"
            ],
            [
             0.3333333333333333,
             "#9c179e"
            ],
            [
             0.4444444444444444,
             "#bd3786"
            ],
            [
             0.5555555555555556,
             "#d8576b"
            ],
            [
             0.6666666666666666,
             "#ed7953"
            ],
            [
             0.7777777777777778,
             "#fb9f3a"
            ],
            [
             0.8888888888888888,
             "#fdca26"
            ],
            [
             1,
             "#f0f921"
            ]
           ],
           "sequentialminus": [
            [
             0,
             "#0d0887"
            ],
            [
             0.1111111111111111,
             "#46039f"
            ],
            [
             0.2222222222222222,
             "#7201a8"
            ],
            [
             0.3333333333333333,
             "#9c179e"
            ],
            [
             0.4444444444444444,
             "#bd3786"
            ],
            [
             0.5555555555555556,
             "#d8576b"
            ],
            [
             0.6666666666666666,
             "#ed7953"
            ],
            [
             0.7777777777777778,
             "#fb9f3a"
            ],
            [
             0.8888888888888888,
             "#fdca26"
            ],
            [
             1,
             "#f0f921"
            ]
           ]
          },
          "colorway": [
           "#636efa",
           "#EF553B",
           "#00cc96",
           "#ab63fa",
           "#FFA15A",
           "#19d3f3",
           "#FF6692",
           "#B6E880",
           "#FF97FF",
           "#FECB52"
          ],
          "font": {
           "color": "#2a3f5f"
          },
          "geo": {
           "bgcolor": "white",
           "lakecolor": "white",
           "landcolor": "#E5ECF6",
           "showlakes": true,
           "showland": true,
           "subunitcolor": "white"
          },
          "hoverlabel": {
           "align": "left"
          },
          "hovermode": "closest",
          "mapbox": {
           "style": "light"
          },
          "paper_bgcolor": "white",
          "plot_bgcolor": "#E5ECF6",
          "polar": {
           "angularaxis": {
            "gridcolor": "white",
            "linecolor": "white",
            "ticks": ""
           },
           "bgcolor": "#E5ECF6",
           "radialaxis": {
            "gridcolor": "white",
            "linecolor": "white",
            "ticks": ""
           }
          },
          "scene": {
           "xaxis": {
            "backgroundcolor": "#E5ECF6",
            "gridcolor": "white",
            "gridwidth": 2,
            "linecolor": "white",
            "showbackground": true,
            "ticks": "",
            "zerolinecolor": "white"
           },
           "yaxis": {
            "backgroundcolor": "#E5ECF6",
            "gridcolor": "white",
            "gridwidth": 2,
            "linecolor": "white",
            "showbackground": true,
            "ticks": "",
            "zerolinecolor": "white"
           },
           "zaxis": {
            "backgroundcolor": "#E5ECF6",
            "gridcolor": "white",
            "gridwidth": 2,
            "linecolor": "white",
            "showbackground": true,
            "ticks": "",
            "zerolinecolor": "white"
           }
          },
          "shapedefaults": {
           "line": {
            "color": "#2a3f5f"
           }
          },
          "ternary": {
           "aaxis": {
            "gridcolor": "white",
            "linecolor": "white",
            "ticks": ""
           },
           "baxis": {
            "gridcolor": "white",
            "linecolor": "white",
            "ticks": ""
           },
           "bgcolor": "#E5ECF6",
           "caxis": {
            "gridcolor": "white",
            "linecolor": "white",
            "ticks": ""
           }
          },
          "title": {
           "x": 0.05
          },
          "xaxis": {
           "automargin": true,
           "gridcolor": "white",
           "linecolor": "white",
           "ticks": "",
           "title": {
            "standoff": 15
           },
           "zerolinecolor": "white",
           "zerolinewidth": 2
          },
          "yaxis": {
           "automargin": true,
           "gridcolor": "white",
           "linecolor": "white",
           "ticks": "",
           "title": {
            "standoff": 15
           },
           "zerolinecolor": "white",
           "zerolinewidth": 2
          }
         }
        },
        "title": {
         "text": "adobe-mu1gamma1",
         "x": 0.5
        },
        "width": 650,
        "xaxis": {
         "range": [
          0,
          222.04082
         ],
         "title": {
          "text": "Time (s)"
         }
        },
        "yaxis": {
         "title": {
          "text": "Salience"
         }
        }
       }
      }
     },
     "metadata": {},
     "output_type": "display_data"
    },
    {
     "name": "stdout",
     "output_type": "stream",
     "text": [
      "0.007\n"
     ]
    },
    {
     "data": {
      "application/vnd.plotly.v1+json": {
       "config": {
        "plotlyServerURL": "https://plot.ly"
       },
       "data": [
        {
         "hovertemplate": "<b>Boundary</b><br>Time: %{x:.3f}s<br>Salience: %{y:.3f}<extra></extra>",
         "line": {
          "color": "#666",
          "width": 1
         },
         "mode": "lines",
         "type": "scatter",
         "x": [
          8.7,
          8.7,
          null,
          10.4,
          10.4,
          null,
          23,
          23,
          null,
          51.2,
          51.2,
          null,
          63,
          63,
          null,
          64.7,
          64.7,
          null,
          82.3,
          82.3,
          null,
          91.8,
          91.8,
          null,
          104.7,
          104.7,
          null,
          112.7,
          112.7,
          null,
          126,
          126,
          null,
          134.8,
          134.8,
          null,
          139.6,
          139.6,
          null,
          144.1,
          144.1,
          null,
          145.4,
          145.4,
          null,
          152.7,
          152.7,
          null,
          154.8,
          154.8,
          null,
          166.9,
          166.9,
          null,
          178.6,
          178.6,
          null,
          191.9,
          191.9,
          null
         ],
         "y": [
          0,
          3,
          null,
          0,
          1,
          null,
          0,
          3,
          null,
          0,
          3,
          null,
          0,
          1,
          null,
          0,
          3,
          null,
          0,
          1,
          null,
          0,
          3,
          null,
          0,
          4,
          null,
          0,
          1,
          null,
          0,
          1,
          null,
          0,
          1,
          null,
          0,
          2,
          null,
          0,
          1,
          null,
          0,
          1,
          null,
          0,
          2,
          null,
          0,
          2,
          null,
          0,
          4,
          null,
          0,
          4,
          null,
          0,
          5,
          null
         ]
        }
       ],
       "layout": {
        "height": 300,
        "margin": {
         "b": 20,
         "l": 20,
         "r": 20,
         "t": 40
        },
        "shapes": [
         {
          "line": {
           "color": "#666",
           "width": 1
          },
          "opacity": 0.8,
          "type": "line",
          "x0": 0,
          "x1": 1,
          "xref": "x domain",
          "y0": 0,
          "y1": 0,
          "yref": "y"
         }
        ],
        "showlegend": false,
        "template": {
         "data": {
          "bar": [
           {
            "error_x": {
             "color": "#2a3f5f"
            },
            "error_y": {
             "color": "#2a3f5f"
            },
            "marker": {
             "line": {
              "color": "#E5ECF6",
              "width": 0.5
             },
             "pattern": {
              "fillmode": "overlay",
              "size": 10,
              "solidity": 0.2
             }
            },
            "type": "bar"
           }
          ],
          "barpolar": [
           {
            "marker": {
             "line": {
              "color": "#E5ECF6",
              "width": 0.5
             },
             "pattern": {
              "fillmode": "overlay",
              "size": 10,
              "solidity": 0.2
             }
            },
            "type": "barpolar"
           }
          ],
          "carpet": [
           {
            "aaxis": {
             "endlinecolor": "#2a3f5f",
             "gridcolor": "white",
             "linecolor": "white",
             "minorgridcolor": "white",
             "startlinecolor": "#2a3f5f"
            },
            "baxis": {
             "endlinecolor": "#2a3f5f",
             "gridcolor": "white",
             "linecolor": "white",
             "minorgridcolor": "white",
             "startlinecolor": "#2a3f5f"
            },
            "type": "carpet"
           }
          ],
          "choropleth": [
           {
            "colorbar": {
             "outlinewidth": 0,
             "ticks": ""
            },
            "type": "choropleth"
           }
          ],
          "contour": [
           {
            "colorbar": {
             "outlinewidth": 0,
             "ticks": ""
            },
            "colorscale": [
             [
              0,
              "#0d0887"
             ],
             [
              0.1111111111111111,
              "#46039f"
             ],
             [
              0.2222222222222222,
              "#7201a8"
             ],
             [
              0.3333333333333333,
              "#9c179e"
             ],
             [
              0.4444444444444444,
              "#bd3786"
             ],
             [
              0.5555555555555556,
              "#d8576b"
             ],
             [
              0.6666666666666666,
              "#ed7953"
             ],
             [
              0.7777777777777778,
              "#fb9f3a"
             ],
             [
              0.8888888888888888,
              "#fdca26"
             ],
             [
              1,
              "#f0f921"
             ]
            ],
            "type": "contour"
           }
          ],
          "contourcarpet": [
           {
            "colorbar": {
             "outlinewidth": 0,
             "ticks": ""
            },
            "type": "contourcarpet"
           }
          ],
          "heatmap": [
           {
            "colorbar": {
             "outlinewidth": 0,
             "ticks": ""
            },
            "colorscale": [
             [
              0,
              "#0d0887"
             ],
             [
              0.1111111111111111,
              "#46039f"
             ],
             [
              0.2222222222222222,
              "#7201a8"
             ],
             [
              0.3333333333333333,
              "#9c179e"
             ],
             [
              0.4444444444444444,
              "#bd3786"
             ],
             [
              0.5555555555555556,
              "#d8576b"
             ],
             [
              0.6666666666666666,
              "#ed7953"
             ],
             [
              0.7777777777777778,
              "#fb9f3a"
             ],
             [
              0.8888888888888888,
              "#fdca26"
             ],
             [
              1,
              "#f0f921"
             ]
            ],
            "type": "heatmap"
           }
          ],
          "histogram": [
           {
            "marker": {
             "pattern": {
              "fillmode": "overlay",
              "size": 10,
              "solidity": 0.2
             }
            },
            "type": "histogram"
           }
          ],
          "histogram2d": [
           {
            "colorbar": {
             "outlinewidth": 0,
             "ticks": ""
            },
            "colorscale": [
             [
              0,
              "#0d0887"
             ],
             [
              0.1111111111111111,
              "#46039f"
             ],
             [
              0.2222222222222222,
              "#7201a8"
             ],
             [
              0.3333333333333333,
              "#9c179e"
             ],
             [
              0.4444444444444444,
              "#bd3786"
             ],
             [
              0.5555555555555556,
              "#d8576b"
             ],
             [
              0.6666666666666666,
              "#ed7953"
             ],
             [
              0.7777777777777778,
              "#fb9f3a"
             ],
             [
              0.8888888888888888,
              "#fdca26"
             ],
             [
              1,
              "#f0f921"
             ]
            ],
            "type": "histogram2d"
           }
          ],
          "histogram2dcontour": [
           {
            "colorbar": {
             "outlinewidth": 0,
             "ticks": ""
            },
            "colorscale": [
             [
              0,
              "#0d0887"
             ],
             [
              0.1111111111111111,
              "#46039f"
             ],
             [
              0.2222222222222222,
              "#7201a8"
             ],
             [
              0.3333333333333333,
              "#9c179e"
             ],
             [
              0.4444444444444444,
              "#bd3786"
             ],
             [
              0.5555555555555556,
              "#d8576b"
             ],
             [
              0.6666666666666666,
              "#ed7953"
             ],
             [
              0.7777777777777778,
              "#fb9f3a"
             ],
             [
              0.8888888888888888,
              "#fdca26"
             ],
             [
              1,
              "#f0f921"
             ]
            ],
            "type": "histogram2dcontour"
           }
          ],
          "mesh3d": [
           {
            "colorbar": {
             "outlinewidth": 0,
             "ticks": ""
            },
            "type": "mesh3d"
           }
          ],
          "parcoords": [
           {
            "line": {
             "colorbar": {
              "outlinewidth": 0,
              "ticks": ""
             }
            },
            "type": "parcoords"
           }
          ],
          "pie": [
           {
            "automargin": true,
            "type": "pie"
           }
          ],
          "scatter": [
           {
            "fillpattern": {
             "fillmode": "overlay",
             "size": 10,
             "solidity": 0.2
            },
            "type": "scatter"
           }
          ],
          "scatter3d": [
           {
            "line": {
             "colorbar": {
              "outlinewidth": 0,
              "ticks": ""
             }
            },
            "marker": {
             "colorbar": {
              "outlinewidth": 0,
              "ticks": ""
             }
            },
            "type": "scatter3d"
           }
          ],
          "scattercarpet": [
           {
            "marker": {
             "colorbar": {
              "outlinewidth": 0,
              "ticks": ""
             }
            },
            "type": "scattercarpet"
           }
          ],
          "scattergeo": [
           {
            "marker": {
             "colorbar": {
              "outlinewidth": 0,
              "ticks": ""
             }
            },
            "type": "scattergeo"
           }
          ],
          "scattergl": [
           {
            "marker": {
             "colorbar": {
              "outlinewidth": 0,
              "ticks": ""
             }
            },
            "type": "scattergl"
           }
          ],
          "scattermap": [
           {
            "marker": {
             "colorbar": {
              "outlinewidth": 0,
              "ticks": ""
             }
            },
            "type": "scattermap"
           }
          ],
          "scattermapbox": [
           {
            "marker": {
             "colorbar": {
              "outlinewidth": 0,
              "ticks": ""
             }
            },
            "type": "scattermapbox"
           }
          ],
          "scatterpolar": [
           {
            "marker": {
             "colorbar": {
              "outlinewidth": 0,
              "ticks": ""
             }
            },
            "type": "scatterpolar"
           }
          ],
          "scatterpolargl": [
           {
            "marker": {
             "colorbar": {
              "outlinewidth": 0,
              "ticks": ""
             }
            },
            "type": "scatterpolargl"
           }
          ],
          "scatterternary": [
           {
            "marker": {
             "colorbar": {
              "outlinewidth": 0,
              "ticks": ""
             }
            },
            "type": "scatterternary"
           }
          ],
          "surface": [
           {
            "colorbar": {
             "outlinewidth": 0,
             "ticks": ""
            },
            "colorscale": [
             [
              0,
              "#0d0887"
             ],
             [
              0.1111111111111111,
              "#46039f"
             ],
             [
              0.2222222222222222,
              "#7201a8"
             ],
             [
              0.3333333333333333,
              "#9c179e"
             ],
             [
              0.4444444444444444,
              "#bd3786"
             ],
             [
              0.5555555555555556,
              "#d8576b"
             ],
             [
              0.6666666666666666,
              "#ed7953"
             ],
             [
              0.7777777777777778,
              "#fb9f3a"
             ],
             [
              0.8888888888888888,
              "#fdca26"
             ],
             [
              1,
              "#f0f921"
             ]
            ],
            "type": "surface"
           }
          ],
          "table": [
           {
            "cells": {
             "fill": {
              "color": "#EBF0F8"
             },
             "line": {
              "color": "white"
             }
            },
            "header": {
             "fill": {
              "color": "#C8D4E3"
             },
             "line": {
              "color": "white"
             }
            },
            "type": "table"
           }
          ]
         },
         "layout": {
          "annotationdefaults": {
           "arrowcolor": "#2a3f5f",
           "arrowhead": 0,
           "arrowwidth": 1
          },
          "autotypenumbers": "strict",
          "coloraxis": {
           "colorbar": {
            "outlinewidth": 0,
            "ticks": ""
           }
          },
          "colorscale": {
           "diverging": [
            [
             0,
             "#8e0152"
            ],
            [
             0.1,
             "#c51b7d"
            ],
            [
             0.2,
             "#de77ae"
            ],
            [
             0.3,
             "#f1b6da"
            ],
            [
             0.4,
             "#fde0ef"
            ],
            [
             0.5,
             "#f7f7f7"
            ],
            [
             0.6,
             "#e6f5d0"
            ],
            [
             0.7,
             "#b8e186"
            ],
            [
             0.8,
             "#7fbc41"
            ],
            [
             0.9,
             "#4d9221"
            ],
            [
             1,
             "#276419"
            ]
           ],
           "sequential": [
            [
             0,
             "#0d0887"
            ],
            [
             0.1111111111111111,
             "#46039f"
            ],
            [
             0.2222222222222222,
             "#7201a8"
            ],
            [
             0.3333333333333333,
             "#9c179e"
            ],
            [
             0.4444444444444444,
             "#bd3786"
            ],
            [
             0.5555555555555556,
             "#d8576b"
            ],
            [
             0.6666666666666666,
             "#ed7953"
            ],
            [
             0.7777777777777778,
             "#fb9f3a"
            ],
            [
             0.8888888888888888,
             "#fdca26"
            ],
            [
             1,
             "#f0f921"
            ]
           ],
           "sequentialminus": [
            [
             0,
             "#0d0887"
            ],
            [
             0.1111111111111111,
             "#46039f"
            ],
            [
             0.2222222222222222,
             "#7201a8"
            ],
            [
             0.3333333333333333,
             "#9c179e"
            ],
            [
             0.4444444444444444,
             "#bd3786"
            ],
            [
             0.5555555555555556,
             "#d8576b"
            ],
            [
             0.6666666666666666,
             "#ed7953"
            ],
            [
             0.7777777777777778,
             "#fb9f3a"
            ],
            [
             0.8888888888888888,
             "#fdca26"
            ],
            [
             1,
             "#f0f921"
            ]
           ]
          },
          "colorway": [
           "#636efa",
           "#EF553B",
           "#00cc96",
           "#ab63fa",
           "#FFA15A",
           "#19d3f3",
           "#FF6692",
           "#B6E880",
           "#FF97FF",
           "#FECB52"
          ],
          "font": {
           "color": "#2a3f5f"
          },
          "geo": {
           "bgcolor": "white",
           "lakecolor": "white",
           "landcolor": "#E5ECF6",
           "showlakes": true,
           "showland": true,
           "subunitcolor": "white"
          },
          "hoverlabel": {
           "align": "left"
          },
          "hovermode": "closest",
          "mapbox": {
           "style": "light"
          },
          "paper_bgcolor": "white",
          "plot_bgcolor": "#E5ECF6",
          "polar": {
           "angularaxis": {
            "gridcolor": "white",
            "linecolor": "white",
            "ticks": ""
           },
           "bgcolor": "#E5ECF6",
           "radialaxis": {
            "gridcolor": "white",
            "linecolor": "white",
            "ticks": ""
           }
          },
          "scene": {
           "xaxis": {
            "backgroundcolor": "#E5ECF6",
            "gridcolor": "white",
            "gridwidth": 2,
            "linecolor": "white",
            "showbackground": true,
            "ticks": "",
            "zerolinecolor": "white"
           },
           "yaxis": {
            "backgroundcolor": "#E5ECF6",
            "gridcolor": "white",
            "gridwidth": 2,
            "linecolor": "white",
            "showbackground": true,
            "ticks": "",
            "zerolinecolor": "white"
           },
           "zaxis": {
            "backgroundcolor": "#E5ECF6",
            "gridcolor": "white",
            "gridwidth": 2,
            "linecolor": "white",
            "showbackground": true,
            "ticks": "",
            "zerolinecolor": "white"
           }
          },
          "shapedefaults": {
           "line": {
            "color": "#2a3f5f"
           }
          },
          "ternary": {
           "aaxis": {
            "gridcolor": "white",
            "linecolor": "white",
            "ticks": ""
           },
           "baxis": {
            "gridcolor": "white",
            "linecolor": "white",
            "ticks": ""
           },
           "bgcolor": "#E5ECF6",
           "caxis": {
            "gridcolor": "white",
            "linecolor": "white",
            "ticks": ""
           }
          },
          "title": {
           "x": 0.05
          },
          "xaxis": {
           "automargin": true,
           "gridcolor": "white",
           "linecolor": "white",
           "ticks": "",
           "title": {
            "standoff": 15
           },
           "zerolinecolor": "white",
           "zerolinewidth": 2
          },
          "yaxis": {
           "automargin": true,
           "gridcolor": "white",
           "linecolor": "white",
           "ticks": "",
           "title": {
            "standoff": 15
           },
           "zerolinecolor": "white",
           "zerolinewidth": 2
          }
         }
        },
        "title": {
         "text": "adobe-mu1gamma1",
         "x": 0.5
        },
        "width": 650,
        "xaxis": {
         "range": [
          0,
          222.04082
         ],
         "title": {
          "text": "Time (s)"
         }
        },
        "yaxis": {
         "title": {
          "text": "Salience"
         }
        }
       }
      }
     },
     "metadata": {},
     "output_type": "display_data"
    },
    {
     "name": "stdout",
     "output_type": "stream",
     "text": [
      "0.01\n"
     ]
    },
    {
     "data": {
      "application/vnd.plotly.v1+json": {
       "config": {
        "plotlyServerURL": "https://plot.ly"
       },
       "data": [
        {
         "hovertemplate": "<b>Boundary</b><br>Time: %{x:.3f}s<br>Salience: %{y:.3f}<extra></extra>",
         "line": {
          "color": "#666",
          "width": 1
         },
         "mode": "lines",
         "type": "scatter",
         "x": [
          8.7,
          8.7,
          null,
          10.4,
          10.4,
          null,
          23,
          23,
          null,
          51.2,
          51.2,
          null,
          63,
          63,
          null,
          64.7,
          64.7,
          null,
          82.3,
          82.3,
          null,
          91.8,
          91.8,
          null,
          104.7,
          104.7,
          null,
          112.7,
          112.7,
          null,
          126,
          126,
          null,
          134.8,
          134.8,
          null,
          139.6,
          139.6,
          null,
          144.1,
          144.1,
          null,
          145.4,
          145.4,
          null,
          152.7,
          152.7,
          null,
          154.8,
          154.8,
          null,
          166.9,
          166.9,
          null,
          178.6,
          178.6,
          null,
          191.9,
          191.9,
          null
         ],
         "y": [
          0,
          3,
          null,
          0,
          2,
          null,
          0,
          3,
          null,
          0,
          3,
          null,
          0,
          2,
          null,
          0,
          3,
          null,
          0,
          1,
          null,
          0,
          3,
          null,
          0,
          4,
          null,
          0,
          1,
          null,
          0,
          1,
          null,
          0,
          1,
          null,
          0,
          2,
          null,
          0,
          1,
          null,
          0,
          1,
          null,
          0,
          2,
          null,
          0,
          2,
          null,
          0,
          4,
          null,
          0,
          4,
          null,
          0,
          4,
          null
         ]
        }
       ],
       "layout": {
        "height": 300,
        "margin": {
         "b": 20,
         "l": 20,
         "r": 20,
         "t": 40
        },
        "shapes": [
         {
          "line": {
           "color": "#666",
           "width": 1
          },
          "opacity": 0.8,
          "type": "line",
          "x0": 0,
          "x1": 1,
          "xref": "x domain",
          "y0": 0,
          "y1": 0,
          "yref": "y"
         }
        ],
        "showlegend": false,
        "template": {
         "data": {
          "bar": [
           {
            "error_x": {
             "color": "#2a3f5f"
            },
            "error_y": {
             "color": "#2a3f5f"
            },
            "marker": {
             "line": {
              "color": "#E5ECF6",
              "width": 0.5
             },
             "pattern": {
              "fillmode": "overlay",
              "size": 10,
              "solidity": 0.2
             }
            },
            "type": "bar"
           }
          ],
          "barpolar": [
           {
            "marker": {
             "line": {
              "color": "#E5ECF6",
              "width": 0.5
             },
             "pattern": {
              "fillmode": "overlay",
              "size": 10,
              "solidity": 0.2
             }
            },
            "type": "barpolar"
           }
          ],
          "carpet": [
           {
            "aaxis": {
             "endlinecolor": "#2a3f5f",
             "gridcolor": "white",
             "linecolor": "white",
             "minorgridcolor": "white",
             "startlinecolor": "#2a3f5f"
            },
            "baxis": {
             "endlinecolor": "#2a3f5f",
             "gridcolor": "white",
             "linecolor": "white",
             "minorgridcolor": "white",
             "startlinecolor": "#2a3f5f"
            },
            "type": "carpet"
           }
          ],
          "choropleth": [
           {
            "colorbar": {
             "outlinewidth": 0,
             "ticks": ""
            },
            "type": "choropleth"
           }
          ],
          "contour": [
           {
            "colorbar": {
             "outlinewidth": 0,
             "ticks": ""
            },
            "colorscale": [
             [
              0,
              "#0d0887"
             ],
             [
              0.1111111111111111,
              "#46039f"
             ],
             [
              0.2222222222222222,
              "#7201a8"
             ],
             [
              0.3333333333333333,
              "#9c179e"
             ],
             [
              0.4444444444444444,
              "#bd3786"
             ],
             [
              0.5555555555555556,
              "#d8576b"
             ],
             [
              0.6666666666666666,
              "#ed7953"
             ],
             [
              0.7777777777777778,
              "#fb9f3a"
             ],
             [
              0.8888888888888888,
              "#fdca26"
             ],
             [
              1,
              "#f0f921"
             ]
            ],
            "type": "contour"
           }
          ],
          "contourcarpet": [
           {
            "colorbar": {
             "outlinewidth": 0,
             "ticks": ""
            },
            "type": "contourcarpet"
           }
          ],
          "heatmap": [
           {
            "colorbar": {
             "outlinewidth": 0,
             "ticks": ""
            },
            "colorscale": [
             [
              0,
              "#0d0887"
             ],
             [
              0.1111111111111111,
              "#46039f"
             ],
             [
              0.2222222222222222,
              "#7201a8"
             ],
             [
              0.3333333333333333,
              "#9c179e"
             ],
             [
              0.4444444444444444,
              "#bd3786"
             ],
             [
              0.5555555555555556,
              "#d8576b"
             ],
             [
              0.6666666666666666,
              "#ed7953"
             ],
             [
              0.7777777777777778,
              "#fb9f3a"
             ],
             [
              0.8888888888888888,
              "#fdca26"
             ],
             [
              1,
              "#f0f921"
             ]
            ],
            "type": "heatmap"
           }
          ],
          "histogram": [
           {
            "marker": {
             "pattern": {
              "fillmode": "overlay",
              "size": 10,
              "solidity": 0.2
             }
            },
            "type": "histogram"
           }
          ],
          "histogram2d": [
           {
            "colorbar": {
             "outlinewidth": 0,
             "ticks": ""
            },
            "colorscale": [
             [
              0,
              "#0d0887"
             ],
             [
              0.1111111111111111,
              "#46039f"
             ],
             [
              0.2222222222222222,
              "#7201a8"
             ],
             [
              0.3333333333333333,
              "#9c179e"
             ],
             [
              0.4444444444444444,
              "#bd3786"
             ],
             [
              0.5555555555555556,
              "#d8576b"
             ],
             [
              0.6666666666666666,
              "#ed7953"
             ],
             [
              0.7777777777777778,
              "#fb9f3a"
             ],
             [
              0.8888888888888888,
              "#fdca26"
             ],
             [
              1,
              "#f0f921"
             ]
            ],
            "type": "histogram2d"
           }
          ],
          "histogram2dcontour": [
           {
            "colorbar": {
             "outlinewidth": 0,
             "ticks": ""
            },
            "colorscale": [
             [
              0,
              "#0d0887"
             ],
             [
              0.1111111111111111,
              "#46039f"
             ],
             [
              0.2222222222222222,
              "#7201a8"
             ],
             [
              0.3333333333333333,
              "#9c179e"
             ],
             [
              0.4444444444444444,
              "#bd3786"
             ],
             [
              0.5555555555555556,
              "#d8576b"
             ],
             [
              0.6666666666666666,
              "#ed7953"
             ],
             [
              0.7777777777777778,
              "#fb9f3a"
             ],
             [
              0.8888888888888888,
              "#fdca26"
             ],
             [
              1,
              "#f0f921"
             ]
            ],
            "type": "histogram2dcontour"
           }
          ],
          "mesh3d": [
           {
            "colorbar": {
             "outlinewidth": 0,
             "ticks": ""
            },
            "type": "mesh3d"
           }
          ],
          "parcoords": [
           {
            "line": {
             "colorbar": {
              "outlinewidth": 0,
              "ticks": ""
             }
            },
            "type": "parcoords"
           }
          ],
          "pie": [
           {
            "automargin": true,
            "type": "pie"
           }
          ],
          "scatter": [
           {
            "fillpattern": {
             "fillmode": "overlay",
             "size": 10,
             "solidity": 0.2
            },
            "type": "scatter"
           }
          ],
          "scatter3d": [
           {
            "line": {
             "colorbar": {
              "outlinewidth": 0,
              "ticks": ""
             }
            },
            "marker": {
             "colorbar": {
              "outlinewidth": 0,
              "ticks": ""
             }
            },
            "type": "scatter3d"
           }
          ],
          "scattercarpet": [
           {
            "marker": {
             "colorbar": {
              "outlinewidth": 0,
              "ticks": ""
             }
            },
            "type": "scattercarpet"
           }
          ],
          "scattergeo": [
           {
            "marker": {
             "colorbar": {
              "outlinewidth": 0,
              "ticks": ""
             }
            },
            "type": "scattergeo"
           }
          ],
          "scattergl": [
           {
            "marker": {
             "colorbar": {
              "outlinewidth": 0,
              "ticks": ""
             }
            },
            "type": "scattergl"
           }
          ],
          "scattermap": [
           {
            "marker": {
             "colorbar": {
              "outlinewidth": 0,
              "ticks": ""
             }
            },
            "type": "scattermap"
           }
          ],
          "scattermapbox": [
           {
            "marker": {
             "colorbar": {
              "outlinewidth": 0,
              "ticks": ""
             }
            },
            "type": "scattermapbox"
           }
          ],
          "scatterpolar": [
           {
            "marker": {
             "colorbar": {
              "outlinewidth": 0,
              "ticks": ""
             }
            },
            "type": "scatterpolar"
           }
          ],
          "scatterpolargl": [
           {
            "marker": {
             "colorbar": {
              "outlinewidth": 0,
              "ticks": ""
             }
            },
            "type": "scatterpolargl"
           }
          ],
          "scatterternary": [
           {
            "marker": {
             "colorbar": {
              "outlinewidth": 0,
              "ticks": ""
             }
            },
            "type": "scatterternary"
           }
          ],
          "surface": [
           {
            "colorbar": {
             "outlinewidth": 0,
             "ticks": ""
            },
            "colorscale": [
             [
              0,
              "#0d0887"
             ],
             [
              0.1111111111111111,
              "#46039f"
             ],
             [
              0.2222222222222222,
              "#7201a8"
             ],
             [
              0.3333333333333333,
              "#9c179e"
             ],
             [
              0.4444444444444444,
              "#bd3786"
             ],
             [
              0.5555555555555556,
              "#d8576b"
             ],
             [
              0.6666666666666666,
              "#ed7953"
             ],
             [
              0.7777777777777778,
              "#fb9f3a"
             ],
             [
              0.8888888888888888,
              "#fdca26"
             ],
             [
              1,
              "#f0f921"
             ]
            ],
            "type": "surface"
           }
          ],
          "table": [
           {
            "cells": {
             "fill": {
              "color": "#EBF0F8"
             },
             "line": {
              "color": "white"
             }
            },
            "header": {
             "fill": {
              "color": "#C8D4E3"
             },
             "line": {
              "color": "white"
             }
            },
            "type": "table"
           }
          ]
         },
         "layout": {
          "annotationdefaults": {
           "arrowcolor": "#2a3f5f",
           "arrowhead": 0,
           "arrowwidth": 1
          },
          "autotypenumbers": "strict",
          "coloraxis": {
           "colorbar": {
            "outlinewidth": 0,
            "ticks": ""
           }
          },
          "colorscale": {
           "diverging": [
            [
             0,
             "#8e0152"
            ],
            [
             0.1,
             "#c51b7d"
            ],
            [
             0.2,
             "#de77ae"
            ],
            [
             0.3,
             "#f1b6da"
            ],
            [
             0.4,
             "#fde0ef"
            ],
            [
             0.5,
             "#f7f7f7"
            ],
            [
             0.6,
             "#e6f5d0"
            ],
            [
             0.7,
             "#b8e186"
            ],
            [
             0.8,
             "#7fbc41"
            ],
            [
             0.9,
             "#4d9221"
            ],
            [
             1,
             "#276419"
            ]
           ],
           "sequential": [
            [
             0,
             "#0d0887"
            ],
            [
             0.1111111111111111,
             "#46039f"
            ],
            [
             0.2222222222222222,
             "#7201a8"
            ],
            [
             0.3333333333333333,
             "#9c179e"
            ],
            [
             0.4444444444444444,
             "#bd3786"
            ],
            [
             0.5555555555555556,
             "#d8576b"
            ],
            [
             0.6666666666666666,
             "#ed7953"
            ],
            [
             0.7777777777777778,
             "#fb9f3a"
            ],
            [
             0.8888888888888888,
             "#fdca26"
            ],
            [
             1,
             "#f0f921"
            ]
           ],
           "sequentialminus": [
            [
             0,
             "#0d0887"
            ],
            [
             0.1111111111111111,
             "#46039f"
            ],
            [
             0.2222222222222222,
             "#7201a8"
            ],
            [
             0.3333333333333333,
             "#9c179e"
            ],
            [
             0.4444444444444444,
             "#bd3786"
            ],
            [
             0.5555555555555556,
             "#d8576b"
            ],
            [
             0.6666666666666666,
             "#ed7953"
            ],
            [
             0.7777777777777778,
             "#fb9f3a"
            ],
            [
             0.8888888888888888,
             "#fdca26"
            ],
            [
             1,
             "#f0f921"
            ]
           ]
          },
          "colorway": [
           "#636efa",
           "#EF553B",
           "#00cc96",
           "#ab63fa",
           "#FFA15A",
           "#19d3f3",
           "#FF6692",
           "#B6E880",
           "#FF97FF",
           "#FECB52"
          ],
          "font": {
           "color": "#2a3f5f"
          },
          "geo": {
           "bgcolor": "white",
           "lakecolor": "white",
           "landcolor": "#E5ECF6",
           "showlakes": true,
           "showland": true,
           "subunitcolor": "white"
          },
          "hoverlabel": {
           "align": "left"
          },
          "hovermode": "closest",
          "mapbox": {
           "style": "light"
          },
          "paper_bgcolor": "white",
          "plot_bgcolor": "#E5ECF6",
          "polar": {
           "angularaxis": {
            "gridcolor": "white",
            "linecolor": "white",
            "ticks": ""
           },
           "bgcolor": "#E5ECF6",
           "radialaxis": {
            "gridcolor": "white",
            "linecolor": "white",
            "ticks": ""
           }
          },
          "scene": {
           "xaxis": {
            "backgroundcolor": "#E5ECF6",
            "gridcolor": "white",
            "gridwidth": 2,
            "linecolor": "white",
            "showbackground": true,
            "ticks": "",
            "zerolinecolor": "white"
           },
           "yaxis": {
            "backgroundcolor": "#E5ECF6",
            "gridcolor": "white",
            "gridwidth": 2,
            "linecolor": "white",
            "showbackground": true,
            "ticks": "",
            "zerolinecolor": "white"
           },
           "zaxis": {
            "backgroundcolor": "#E5ECF6",
            "gridcolor": "white",
            "gridwidth": 2,
            "linecolor": "white",
            "showbackground": true,
            "ticks": "",
            "zerolinecolor": "white"
           }
          },
          "shapedefaults": {
           "line": {
            "color": "#2a3f5f"
           }
          },
          "ternary": {
           "aaxis": {
            "gridcolor": "white",
            "linecolor": "white",
            "ticks": ""
           },
           "baxis": {
            "gridcolor": "white",
            "linecolor": "white",
            "ticks": ""
           },
           "bgcolor": "#E5ECF6",
           "caxis": {
            "gridcolor": "white",
            "linecolor": "white",
            "ticks": ""
           }
          },
          "title": {
           "x": 0.05
          },
          "xaxis": {
           "automargin": true,
           "gridcolor": "white",
           "linecolor": "white",
           "ticks": "",
           "title": {
            "standoff": 15
           },
           "zerolinecolor": "white",
           "zerolinewidth": 2
          },
          "yaxis": {
           "automargin": true,
           "gridcolor": "white",
           "linecolor": "white",
           "ticks": "",
           "title": {
            "standoff": 15
           },
           "zerolinecolor": "white",
           "zerolinewidth": 2
          }
         }
        },
        "title": {
         "text": "adobe-mu1gamma1",
         "x": 0.5
        },
        "width": 650,
        "xaxis": {
         "range": [
          0,
          222.04082
         ],
         "title": {
          "text": "Time (s)"
         }
        },
        "yaxis": {
         "title": {
          "text": "Salience"
         }
        }
       }
      }
     },
     "metadata": {},
     "output_type": "display_data"
    },
    {
     "name": "stdout",
     "output_type": "stream",
     "text": [
      "0.02\n"
     ]
    },
    {
     "data": {
      "application/vnd.plotly.v1+json": {
       "config": {
        "plotlyServerURL": "https://plot.ly"
       },
       "data": [
        {
         "hovertemplate": "<b>Boundary</b><br>Time: %{x:.3f}s<br>Salience: %{y:.3f}<extra></extra>",
         "line": {
          "color": "#666",
          "width": 1
         },
         "mode": "lines",
         "type": "scatter",
         "x": [
          8.7,
          8.7,
          null,
          10.4,
          10.4,
          null,
          23,
          23,
          null,
          51.2,
          51.2,
          null,
          63,
          63,
          null,
          64.7,
          64.7,
          null,
          82.3,
          82.3,
          null,
          91.8,
          91.8,
          null,
          104.7,
          104.7,
          null,
          112.7,
          112.7,
          null,
          126,
          126,
          null,
          134.8,
          134.8,
          null,
          139.6,
          139.6,
          null,
          144.1,
          144.1,
          null,
          145.4,
          145.4,
          null,
          152.7,
          152.7,
          null,
          154.8,
          154.8,
          null,
          166.9,
          166.9,
          null,
          178.6,
          178.6,
          null,
          191.9,
          191.9,
          null
         ],
         "y": [
          0,
          2,
          null,
          0,
          1,
          null,
          0,
          2,
          null,
          0,
          2,
          null,
          0,
          1,
          null,
          0,
          2,
          null,
          0,
          1,
          null,
          0,
          1,
          null,
          0,
          2,
          null,
          0,
          1,
          null,
          0,
          1,
          null,
          0,
          1,
          null,
          0,
          1,
          null,
          0,
          1,
          null,
          0,
          1,
          null,
          0,
          1,
          null,
          0,
          1,
          null,
          0,
          2,
          null,
          0,
          2,
          null,
          0,
          2,
          null
         ]
        }
       ],
       "layout": {
        "height": 300,
        "margin": {
         "b": 20,
         "l": 20,
         "r": 20,
         "t": 40
        },
        "shapes": [
         {
          "line": {
           "color": "#666",
           "width": 1
          },
          "opacity": 0.8,
          "type": "line",
          "x0": 0,
          "x1": 1,
          "xref": "x domain",
          "y0": 0,
          "y1": 0,
          "yref": "y"
         }
        ],
        "showlegend": false,
        "template": {
         "data": {
          "bar": [
           {
            "error_x": {
             "color": "#2a3f5f"
            },
            "error_y": {
             "color": "#2a3f5f"
            },
            "marker": {
             "line": {
              "color": "#E5ECF6",
              "width": 0.5
             },
             "pattern": {
              "fillmode": "overlay",
              "size": 10,
              "solidity": 0.2
             }
            },
            "type": "bar"
           }
          ],
          "barpolar": [
           {
            "marker": {
             "line": {
              "color": "#E5ECF6",
              "width": 0.5
             },
             "pattern": {
              "fillmode": "overlay",
              "size": 10,
              "solidity": 0.2
             }
            },
            "type": "barpolar"
           }
          ],
          "carpet": [
           {
            "aaxis": {
             "endlinecolor": "#2a3f5f",
             "gridcolor": "white",
             "linecolor": "white",
             "minorgridcolor": "white",
             "startlinecolor": "#2a3f5f"
            },
            "baxis": {
             "endlinecolor": "#2a3f5f",
             "gridcolor": "white",
             "linecolor": "white",
             "minorgridcolor": "white",
             "startlinecolor": "#2a3f5f"
            },
            "type": "carpet"
           }
          ],
          "choropleth": [
           {
            "colorbar": {
             "outlinewidth": 0,
             "ticks": ""
            },
            "type": "choropleth"
           }
          ],
          "contour": [
           {
            "colorbar": {
             "outlinewidth": 0,
             "ticks": ""
            },
            "colorscale": [
             [
              0,
              "#0d0887"
             ],
             [
              0.1111111111111111,
              "#46039f"
             ],
             [
              0.2222222222222222,
              "#7201a8"
             ],
             [
              0.3333333333333333,
              "#9c179e"
             ],
             [
              0.4444444444444444,
              "#bd3786"
             ],
             [
              0.5555555555555556,
              "#d8576b"
             ],
             [
              0.6666666666666666,
              "#ed7953"
             ],
             [
              0.7777777777777778,
              "#fb9f3a"
             ],
             [
              0.8888888888888888,
              "#fdca26"
             ],
             [
              1,
              "#f0f921"
             ]
            ],
            "type": "contour"
           }
          ],
          "contourcarpet": [
           {
            "colorbar": {
             "outlinewidth": 0,
             "ticks": ""
            },
            "type": "contourcarpet"
           }
          ],
          "heatmap": [
           {
            "colorbar": {
             "outlinewidth": 0,
             "ticks": ""
            },
            "colorscale": [
             [
              0,
              "#0d0887"
             ],
             [
              0.1111111111111111,
              "#46039f"
             ],
             [
              0.2222222222222222,
              "#7201a8"
             ],
             [
              0.3333333333333333,
              "#9c179e"
             ],
             [
              0.4444444444444444,
              "#bd3786"
             ],
             [
              0.5555555555555556,
              "#d8576b"
             ],
             [
              0.6666666666666666,
              "#ed7953"
             ],
             [
              0.7777777777777778,
              "#fb9f3a"
             ],
             [
              0.8888888888888888,
              "#fdca26"
             ],
             [
              1,
              "#f0f921"
             ]
            ],
            "type": "heatmap"
           }
          ],
          "histogram": [
           {
            "marker": {
             "pattern": {
              "fillmode": "overlay",
              "size": 10,
              "solidity": 0.2
             }
            },
            "type": "histogram"
           }
          ],
          "histogram2d": [
           {
            "colorbar": {
             "outlinewidth": 0,
             "ticks": ""
            },
            "colorscale": [
             [
              0,
              "#0d0887"
             ],
             [
              0.1111111111111111,
              "#46039f"
             ],
             [
              0.2222222222222222,
              "#7201a8"
             ],
             [
              0.3333333333333333,
              "#9c179e"
             ],
             [
              0.4444444444444444,
              "#bd3786"
             ],
             [
              0.5555555555555556,
              "#d8576b"
             ],
             [
              0.6666666666666666,
              "#ed7953"
             ],
             [
              0.7777777777777778,
              "#fb9f3a"
             ],
             [
              0.8888888888888888,
              "#fdca26"
             ],
             [
              1,
              "#f0f921"
             ]
            ],
            "type": "histogram2d"
           }
          ],
          "histogram2dcontour": [
           {
            "colorbar": {
             "outlinewidth": 0,
             "ticks": ""
            },
            "colorscale": [
             [
              0,
              "#0d0887"
             ],
             [
              0.1111111111111111,
              "#46039f"
             ],
             [
              0.2222222222222222,
              "#7201a8"
             ],
             [
              0.3333333333333333,
              "#9c179e"
             ],
             [
              0.4444444444444444,
              "#bd3786"
             ],
             [
              0.5555555555555556,
              "#d8576b"
             ],
             [
              0.6666666666666666,
              "#ed7953"
             ],
             [
              0.7777777777777778,
              "#fb9f3a"
             ],
             [
              0.8888888888888888,
              "#fdca26"
             ],
             [
              1,
              "#f0f921"
             ]
            ],
            "type": "histogram2dcontour"
           }
          ],
          "mesh3d": [
           {
            "colorbar": {
             "outlinewidth": 0,
             "ticks": ""
            },
            "type": "mesh3d"
           }
          ],
          "parcoords": [
           {
            "line": {
             "colorbar": {
              "outlinewidth": 0,
              "ticks": ""
             }
            },
            "type": "parcoords"
           }
          ],
          "pie": [
           {
            "automargin": true,
            "type": "pie"
           }
          ],
          "scatter": [
           {
            "fillpattern": {
             "fillmode": "overlay",
             "size": 10,
             "solidity": 0.2
            },
            "type": "scatter"
           }
          ],
          "scatter3d": [
           {
            "line": {
             "colorbar": {
              "outlinewidth": 0,
              "ticks": ""
             }
            },
            "marker": {
             "colorbar": {
              "outlinewidth": 0,
              "ticks": ""
             }
            },
            "type": "scatter3d"
           }
          ],
          "scattercarpet": [
           {
            "marker": {
             "colorbar": {
              "outlinewidth": 0,
              "ticks": ""
             }
            },
            "type": "scattercarpet"
           }
          ],
          "scattergeo": [
           {
            "marker": {
             "colorbar": {
              "outlinewidth": 0,
              "ticks": ""
             }
            },
            "type": "scattergeo"
           }
          ],
          "scattergl": [
           {
            "marker": {
             "colorbar": {
              "outlinewidth": 0,
              "ticks": ""
             }
            },
            "type": "scattergl"
           }
          ],
          "scattermap": [
           {
            "marker": {
             "colorbar": {
              "outlinewidth": 0,
              "ticks": ""
             }
            },
            "type": "scattermap"
           }
          ],
          "scattermapbox": [
           {
            "marker": {
             "colorbar": {
              "outlinewidth": 0,
              "ticks": ""
             }
            },
            "type": "scattermapbox"
           }
          ],
          "scatterpolar": [
           {
            "marker": {
             "colorbar": {
              "outlinewidth": 0,
              "ticks": ""
             }
            },
            "type": "scatterpolar"
           }
          ],
          "scatterpolargl": [
           {
            "marker": {
             "colorbar": {
              "outlinewidth": 0,
              "ticks": ""
             }
            },
            "type": "scatterpolargl"
           }
          ],
          "scatterternary": [
           {
            "marker": {
             "colorbar": {
              "outlinewidth": 0,
              "ticks": ""
             }
            },
            "type": "scatterternary"
           }
          ],
          "surface": [
           {
            "colorbar": {
             "outlinewidth": 0,
             "ticks": ""
            },
            "colorscale": [
             [
              0,
              "#0d0887"
             ],
             [
              0.1111111111111111,
              "#46039f"
             ],
             [
              0.2222222222222222,
              "#7201a8"
             ],
             [
              0.3333333333333333,
              "#9c179e"
             ],
             [
              0.4444444444444444,
              "#bd3786"
             ],
             [
              0.5555555555555556,
              "#d8576b"
             ],
             [
              0.6666666666666666,
              "#ed7953"
             ],
             [
              0.7777777777777778,
              "#fb9f3a"
             ],
             [
              0.8888888888888888,
              "#fdca26"
             ],
             [
              1,
              "#f0f921"
             ]
            ],
            "type": "surface"
           }
          ],
          "table": [
           {
            "cells": {
             "fill": {
              "color": "#EBF0F8"
             },
             "line": {
              "color": "white"
             }
            },
            "header": {
             "fill": {
              "color": "#C8D4E3"
             },
             "line": {
              "color": "white"
             }
            },
            "type": "table"
           }
          ]
         },
         "layout": {
          "annotationdefaults": {
           "arrowcolor": "#2a3f5f",
           "arrowhead": 0,
           "arrowwidth": 1
          },
          "autotypenumbers": "strict",
          "coloraxis": {
           "colorbar": {
            "outlinewidth": 0,
            "ticks": ""
           }
          },
          "colorscale": {
           "diverging": [
            [
             0,
             "#8e0152"
            ],
            [
             0.1,
             "#c51b7d"
            ],
            [
             0.2,
             "#de77ae"
            ],
            [
             0.3,
             "#f1b6da"
            ],
            [
             0.4,
             "#fde0ef"
            ],
            [
             0.5,
             "#f7f7f7"
            ],
            [
             0.6,
             "#e6f5d0"
            ],
            [
             0.7,
             "#b8e186"
            ],
            [
             0.8,
             "#7fbc41"
            ],
            [
             0.9,
             "#4d9221"
            ],
            [
             1,
             "#276419"
            ]
           ],
           "sequential": [
            [
             0,
             "#0d0887"
            ],
            [
             0.1111111111111111,
             "#46039f"
            ],
            [
             0.2222222222222222,
             "#7201a8"
            ],
            [
             0.3333333333333333,
             "#9c179e"
            ],
            [
             0.4444444444444444,
             "#bd3786"
            ],
            [
             0.5555555555555556,
             "#d8576b"
            ],
            [
             0.6666666666666666,
             "#ed7953"
            ],
            [
             0.7777777777777778,
             "#fb9f3a"
            ],
            [
             0.8888888888888888,
             "#fdca26"
            ],
            [
             1,
             "#f0f921"
            ]
           ],
           "sequentialminus": [
            [
             0,
             "#0d0887"
            ],
            [
             0.1111111111111111,
             "#46039f"
            ],
            [
             0.2222222222222222,
             "#7201a8"
            ],
            [
             0.3333333333333333,
             "#9c179e"
            ],
            [
             0.4444444444444444,
             "#bd3786"
            ],
            [
             0.5555555555555556,
             "#d8576b"
            ],
            [
             0.6666666666666666,
             "#ed7953"
            ],
            [
             0.7777777777777778,
             "#fb9f3a"
            ],
            [
             0.8888888888888888,
             "#fdca26"
            ],
            [
             1,
             "#f0f921"
            ]
           ]
          },
          "colorway": [
           "#636efa",
           "#EF553B",
           "#00cc96",
           "#ab63fa",
           "#FFA15A",
           "#19d3f3",
           "#FF6692",
           "#B6E880",
           "#FF97FF",
           "#FECB52"
          ],
          "font": {
           "color": "#2a3f5f"
          },
          "geo": {
           "bgcolor": "white",
           "lakecolor": "white",
           "landcolor": "#E5ECF6",
           "showlakes": true,
           "showland": true,
           "subunitcolor": "white"
          },
          "hoverlabel": {
           "align": "left"
          },
          "hovermode": "closest",
          "mapbox": {
           "style": "light"
          },
          "paper_bgcolor": "white",
          "plot_bgcolor": "#E5ECF6",
          "polar": {
           "angularaxis": {
            "gridcolor": "white",
            "linecolor": "white",
            "ticks": ""
           },
           "bgcolor": "#E5ECF6",
           "radialaxis": {
            "gridcolor": "white",
            "linecolor": "white",
            "ticks": ""
           }
          },
          "scene": {
           "xaxis": {
            "backgroundcolor": "#E5ECF6",
            "gridcolor": "white",
            "gridwidth": 2,
            "linecolor": "white",
            "showbackground": true,
            "ticks": "",
            "zerolinecolor": "white"
           },
           "yaxis": {
            "backgroundcolor": "#E5ECF6",
            "gridcolor": "white",
            "gridwidth": 2,
            "linecolor": "white",
            "showbackground": true,
            "ticks": "",
            "zerolinecolor": "white"
           },
           "zaxis": {
            "backgroundcolor": "#E5ECF6",
            "gridcolor": "white",
            "gridwidth": 2,
            "linecolor": "white",
            "showbackground": true,
            "ticks": "",
            "zerolinecolor": "white"
           }
          },
          "shapedefaults": {
           "line": {
            "color": "#2a3f5f"
           }
          },
          "ternary": {
           "aaxis": {
            "gridcolor": "white",
            "linecolor": "white",
            "ticks": ""
           },
           "baxis": {
            "gridcolor": "white",
            "linecolor": "white",
            "ticks": ""
           },
           "bgcolor": "#E5ECF6",
           "caxis": {
            "gridcolor": "white",
            "linecolor": "white",
            "ticks": ""
           }
          },
          "title": {
           "x": 0.05
          },
          "xaxis": {
           "automargin": true,
           "gridcolor": "white",
           "linecolor": "white",
           "ticks": "",
           "title": {
            "standoff": 15
           },
           "zerolinecolor": "white",
           "zerolinewidth": 2
          },
          "yaxis": {
           "automargin": true,
           "gridcolor": "white",
           "linecolor": "white",
           "ticks": "",
           "title": {
            "standoff": 15
           },
           "zerolinecolor": "white",
           "zerolinewidth": 2
          }
         }
        },
        "title": {
         "text": "adobe-mu1gamma1",
         "x": 0.5
        },
        "width": 650,
        "xaxis": {
         "range": [
          0,
          222.04082
         ],
         "title": {
          "text": "Time (s)"
         }
        },
        "yaxis": {
         "title": {
          "text": "Salience"
         }
        }
       }
      }
     },
     "metadata": {},
     "output_type": "display_data"
    },
    {
     "name": "stdout",
     "output_type": "stream",
     "text": [
      "0.05\n"
     ]
    },
    {
     "data": {
      "application/vnd.plotly.v1+json": {
       "config": {
        "plotlyServerURL": "https://plot.ly"
       },
       "data": [
        {
         "hovertemplate": "<b>Boundary</b><br>Time: %{x:.3f}s<br>Salience: %{y:.3f}<extra></extra>",
         "line": {
          "color": "#666",
          "width": 1
         },
         "mode": "lines",
         "type": "scatter",
         "x": [
          8.7,
          8.7,
          null,
          10.4,
          10.4,
          null,
          23,
          23,
          null,
          51.2,
          51.2,
          null,
          63,
          63,
          null,
          64.7,
          64.7,
          null,
          82.3,
          82.3,
          null,
          91.8,
          91.8,
          null,
          104.7,
          104.7,
          null,
          112.7,
          112.7,
          null,
          126,
          126,
          null,
          134.8,
          134.8,
          null,
          139.6,
          139.6,
          null,
          144.1,
          144.1,
          null,
          145.4,
          145.4,
          null,
          152.7,
          152.7,
          null,
          154.8,
          154.8,
          null,
          166.9,
          166.9,
          null,
          178.6,
          178.6,
          null,
          191.9,
          191.9,
          null
         ],
         "y": [
          0,
          1,
          null,
          0,
          1,
          null,
          0,
          1,
          null,
          0,
          1,
          null,
          0,
          1,
          null,
          0,
          1,
          null,
          0,
          1,
          null,
          0,
          1,
          null,
          0,
          1,
          null,
          0,
          1,
          null,
          0,
          1,
          null,
          0,
          1,
          null,
          0,
          1,
          null,
          0,
          1,
          null,
          0,
          1,
          null,
          0,
          1,
          null,
          0,
          1,
          null,
          0,
          1,
          null,
          0,
          1,
          null,
          0,
          1,
          null
         ]
        }
       ],
       "layout": {
        "height": 300,
        "margin": {
         "b": 20,
         "l": 20,
         "r": 20,
         "t": 40
        },
        "shapes": [
         {
          "line": {
           "color": "#666",
           "width": 1
          },
          "opacity": 0.8,
          "type": "line",
          "x0": 0,
          "x1": 1,
          "xref": "x domain",
          "y0": 0,
          "y1": 0,
          "yref": "y"
         }
        ],
        "showlegend": false,
        "template": {
         "data": {
          "bar": [
           {
            "error_x": {
             "color": "#2a3f5f"
            },
            "error_y": {
             "color": "#2a3f5f"
            },
            "marker": {
             "line": {
              "color": "#E5ECF6",
              "width": 0.5
             },
             "pattern": {
              "fillmode": "overlay",
              "size": 10,
              "solidity": 0.2
             }
            },
            "type": "bar"
           }
          ],
          "barpolar": [
           {
            "marker": {
             "line": {
              "color": "#E5ECF6",
              "width": 0.5
             },
             "pattern": {
              "fillmode": "overlay",
              "size": 10,
              "solidity": 0.2
             }
            },
            "type": "barpolar"
           }
          ],
          "carpet": [
           {
            "aaxis": {
             "endlinecolor": "#2a3f5f",
             "gridcolor": "white",
             "linecolor": "white",
             "minorgridcolor": "white",
             "startlinecolor": "#2a3f5f"
            },
            "baxis": {
             "endlinecolor": "#2a3f5f",
             "gridcolor": "white",
             "linecolor": "white",
             "minorgridcolor": "white",
             "startlinecolor": "#2a3f5f"
            },
            "type": "carpet"
           }
          ],
          "choropleth": [
           {
            "colorbar": {
             "outlinewidth": 0,
             "ticks": ""
            },
            "type": "choropleth"
           }
          ],
          "contour": [
           {
            "colorbar": {
             "outlinewidth": 0,
             "ticks": ""
            },
            "colorscale": [
             [
              0,
              "#0d0887"
             ],
             [
              0.1111111111111111,
              "#46039f"
             ],
             [
              0.2222222222222222,
              "#7201a8"
             ],
             [
              0.3333333333333333,
              "#9c179e"
             ],
             [
              0.4444444444444444,
              "#bd3786"
             ],
             [
              0.5555555555555556,
              "#d8576b"
             ],
             [
              0.6666666666666666,
              "#ed7953"
             ],
             [
              0.7777777777777778,
              "#fb9f3a"
             ],
             [
              0.8888888888888888,
              "#fdca26"
             ],
             [
              1,
              "#f0f921"
             ]
            ],
            "type": "contour"
           }
          ],
          "contourcarpet": [
           {
            "colorbar": {
             "outlinewidth": 0,
             "ticks": ""
            },
            "type": "contourcarpet"
           }
          ],
          "heatmap": [
           {
            "colorbar": {
             "outlinewidth": 0,
             "ticks": ""
            },
            "colorscale": [
             [
              0,
              "#0d0887"
             ],
             [
              0.1111111111111111,
              "#46039f"
             ],
             [
              0.2222222222222222,
              "#7201a8"
             ],
             [
              0.3333333333333333,
              "#9c179e"
             ],
             [
              0.4444444444444444,
              "#bd3786"
             ],
             [
              0.5555555555555556,
              "#d8576b"
             ],
             [
              0.6666666666666666,
              "#ed7953"
             ],
             [
              0.7777777777777778,
              "#fb9f3a"
             ],
             [
              0.8888888888888888,
              "#fdca26"
             ],
             [
              1,
              "#f0f921"
             ]
            ],
            "type": "heatmap"
           }
          ],
          "histogram": [
           {
            "marker": {
             "pattern": {
              "fillmode": "overlay",
              "size": 10,
              "solidity": 0.2
             }
            },
            "type": "histogram"
           }
          ],
          "histogram2d": [
           {
            "colorbar": {
             "outlinewidth": 0,
             "ticks": ""
            },
            "colorscale": [
             [
              0,
              "#0d0887"
             ],
             [
              0.1111111111111111,
              "#46039f"
             ],
             [
              0.2222222222222222,
              "#7201a8"
             ],
             [
              0.3333333333333333,
              "#9c179e"
             ],
             [
              0.4444444444444444,
              "#bd3786"
             ],
             [
              0.5555555555555556,
              "#d8576b"
             ],
             [
              0.6666666666666666,
              "#ed7953"
             ],
             [
              0.7777777777777778,
              "#fb9f3a"
             ],
             [
              0.8888888888888888,
              "#fdca26"
             ],
             [
              1,
              "#f0f921"
             ]
            ],
            "type": "histogram2d"
           }
          ],
          "histogram2dcontour": [
           {
            "colorbar": {
             "outlinewidth": 0,
             "ticks": ""
            },
            "colorscale": [
             [
              0,
              "#0d0887"
             ],
             [
              0.1111111111111111,
              "#46039f"
             ],
             [
              0.2222222222222222,
              "#7201a8"
             ],
             [
              0.3333333333333333,
              "#9c179e"
             ],
             [
              0.4444444444444444,
              "#bd3786"
             ],
             [
              0.5555555555555556,
              "#d8576b"
             ],
             [
              0.6666666666666666,
              "#ed7953"
             ],
             [
              0.7777777777777778,
              "#fb9f3a"
             ],
             [
              0.8888888888888888,
              "#fdca26"
             ],
             [
              1,
              "#f0f921"
             ]
            ],
            "type": "histogram2dcontour"
           }
          ],
          "mesh3d": [
           {
            "colorbar": {
             "outlinewidth": 0,
             "ticks": ""
            },
            "type": "mesh3d"
           }
          ],
          "parcoords": [
           {
            "line": {
             "colorbar": {
              "outlinewidth": 0,
              "ticks": ""
             }
            },
            "type": "parcoords"
           }
          ],
          "pie": [
           {
            "automargin": true,
            "type": "pie"
           }
          ],
          "scatter": [
           {
            "fillpattern": {
             "fillmode": "overlay",
             "size": 10,
             "solidity": 0.2
            },
            "type": "scatter"
           }
          ],
          "scatter3d": [
           {
            "line": {
             "colorbar": {
              "outlinewidth": 0,
              "ticks": ""
             }
            },
            "marker": {
             "colorbar": {
              "outlinewidth": 0,
              "ticks": ""
             }
            },
            "type": "scatter3d"
           }
          ],
          "scattercarpet": [
           {
            "marker": {
             "colorbar": {
              "outlinewidth": 0,
              "ticks": ""
             }
            },
            "type": "scattercarpet"
           }
          ],
          "scattergeo": [
           {
            "marker": {
             "colorbar": {
              "outlinewidth": 0,
              "ticks": ""
             }
            },
            "type": "scattergeo"
           }
          ],
          "scattergl": [
           {
            "marker": {
             "colorbar": {
              "outlinewidth": 0,
              "ticks": ""
             }
            },
            "type": "scattergl"
           }
          ],
          "scattermap": [
           {
            "marker": {
             "colorbar": {
              "outlinewidth": 0,
              "ticks": ""
             }
            },
            "type": "scattermap"
           }
          ],
          "scattermapbox": [
           {
            "marker": {
             "colorbar": {
              "outlinewidth": 0,
              "ticks": ""
             }
            },
            "type": "scattermapbox"
           }
          ],
          "scatterpolar": [
           {
            "marker": {
             "colorbar": {
              "outlinewidth": 0,
              "ticks": ""
             }
            },
            "type": "scatterpolar"
           }
          ],
          "scatterpolargl": [
           {
            "marker": {
             "colorbar": {
              "outlinewidth": 0,
              "ticks": ""
             }
            },
            "type": "scatterpolargl"
           }
          ],
          "scatterternary": [
           {
            "marker": {
             "colorbar": {
              "outlinewidth": 0,
              "ticks": ""
             }
            },
            "type": "scatterternary"
           }
          ],
          "surface": [
           {
            "colorbar": {
             "outlinewidth": 0,
             "ticks": ""
            },
            "colorscale": [
             [
              0,
              "#0d0887"
             ],
             [
              0.1111111111111111,
              "#46039f"
             ],
             [
              0.2222222222222222,
              "#7201a8"
             ],
             [
              0.3333333333333333,
              "#9c179e"
             ],
             [
              0.4444444444444444,
              "#bd3786"
             ],
             [
              0.5555555555555556,
              "#d8576b"
             ],
             [
              0.6666666666666666,
              "#ed7953"
             ],
             [
              0.7777777777777778,
              "#fb9f3a"
             ],
             [
              0.8888888888888888,
              "#fdca26"
             ],
             [
              1,
              "#f0f921"
             ]
            ],
            "type": "surface"
           }
          ],
          "table": [
           {
            "cells": {
             "fill": {
              "color": "#EBF0F8"
             },
             "line": {
              "color": "white"
             }
            },
            "header": {
             "fill": {
              "color": "#C8D4E3"
             },
             "line": {
              "color": "white"
             }
            },
            "type": "table"
           }
          ]
         },
         "layout": {
          "annotationdefaults": {
           "arrowcolor": "#2a3f5f",
           "arrowhead": 0,
           "arrowwidth": 1
          },
          "autotypenumbers": "strict",
          "coloraxis": {
           "colorbar": {
            "outlinewidth": 0,
            "ticks": ""
           }
          },
          "colorscale": {
           "diverging": [
            [
             0,
             "#8e0152"
            ],
            [
             0.1,
             "#c51b7d"
            ],
            [
             0.2,
             "#de77ae"
            ],
            [
             0.3,
             "#f1b6da"
            ],
            [
             0.4,
             "#fde0ef"
            ],
            [
             0.5,
             "#f7f7f7"
            ],
            [
             0.6,
             "#e6f5d0"
            ],
            [
             0.7,
             "#b8e186"
            ],
            [
             0.8,
             "#7fbc41"
            ],
            [
             0.9,
             "#4d9221"
            ],
            [
             1,
             "#276419"
            ]
           ],
           "sequential": [
            [
             0,
             "#0d0887"
            ],
            [
             0.1111111111111111,
             "#46039f"
            ],
            [
             0.2222222222222222,
             "#7201a8"
            ],
            [
             0.3333333333333333,
             "#9c179e"
            ],
            [
             0.4444444444444444,
             "#bd3786"
            ],
            [
             0.5555555555555556,
             "#d8576b"
            ],
            [
             0.6666666666666666,
             "#ed7953"
            ],
            [
             0.7777777777777778,
             "#fb9f3a"
            ],
            [
             0.8888888888888888,
             "#fdca26"
            ],
            [
             1,
             "#f0f921"
            ]
           ],
           "sequentialminus": [
            [
             0,
             "#0d0887"
            ],
            [
             0.1111111111111111,
             "#46039f"
            ],
            [
             0.2222222222222222,
             "#7201a8"
            ],
            [
             0.3333333333333333,
             "#9c179e"
            ],
            [
             0.4444444444444444,
             "#bd3786"
            ],
            [
             0.5555555555555556,
             "#d8576b"
            ],
            [
             0.6666666666666666,
             "#ed7953"
            ],
            [
             0.7777777777777778,
             "#fb9f3a"
            ],
            [
             0.8888888888888888,
             "#fdca26"
            ],
            [
             1,
             "#f0f921"
            ]
           ]
          },
          "colorway": [
           "#636efa",
           "#EF553B",
           "#00cc96",
           "#ab63fa",
           "#FFA15A",
           "#19d3f3",
           "#FF6692",
           "#B6E880",
           "#FF97FF",
           "#FECB52"
          ],
          "font": {
           "color": "#2a3f5f"
          },
          "geo": {
           "bgcolor": "white",
           "lakecolor": "white",
           "landcolor": "#E5ECF6",
           "showlakes": true,
           "showland": true,
           "subunitcolor": "white"
          },
          "hoverlabel": {
           "align": "left"
          },
          "hovermode": "closest",
          "mapbox": {
           "style": "light"
          },
          "paper_bgcolor": "white",
          "plot_bgcolor": "#E5ECF6",
          "polar": {
           "angularaxis": {
            "gridcolor": "white",
            "linecolor": "white",
            "ticks": ""
           },
           "bgcolor": "#E5ECF6",
           "radialaxis": {
            "gridcolor": "white",
            "linecolor": "white",
            "ticks": ""
           }
          },
          "scene": {
           "xaxis": {
            "backgroundcolor": "#E5ECF6",
            "gridcolor": "white",
            "gridwidth": 2,
            "linecolor": "white",
            "showbackground": true,
            "ticks": "",
            "zerolinecolor": "white"
           },
           "yaxis": {
            "backgroundcolor": "#E5ECF6",
            "gridcolor": "white",
            "gridwidth": 2,
            "linecolor": "white",
            "showbackground": true,
            "ticks": "",
            "zerolinecolor": "white"
           },
           "zaxis": {
            "backgroundcolor": "#E5ECF6",
            "gridcolor": "white",
            "gridwidth": 2,
            "linecolor": "white",
            "showbackground": true,
            "ticks": "",
            "zerolinecolor": "white"
           }
          },
          "shapedefaults": {
           "line": {
            "color": "#2a3f5f"
           }
          },
          "ternary": {
           "aaxis": {
            "gridcolor": "white",
            "linecolor": "white",
            "ticks": ""
           },
           "baxis": {
            "gridcolor": "white",
            "linecolor": "white",
            "ticks": ""
           },
           "bgcolor": "#E5ECF6",
           "caxis": {
            "gridcolor": "white",
            "linecolor": "white",
            "ticks": ""
           }
          },
          "title": {
           "x": 0.05
          },
          "xaxis": {
           "automargin": true,
           "gridcolor": "white",
           "linecolor": "white",
           "ticks": "",
           "title": {
            "standoff": 15
           },
           "zerolinecolor": "white",
           "zerolinewidth": 2
          },
          "yaxis": {
           "automargin": true,
           "gridcolor": "white",
           "linecolor": "white",
           "ticks": "",
           "title": {
            "standoff": 15
           },
           "zerolinecolor": "white",
           "zerolinewidth": 2
          }
         }
        },
        "title": {
         "text": "adobe-mu1gamma1",
         "x": 0.5
        },
        "width": 650,
        "xaxis": {
         "range": [
          0,
          222.04082
         ],
         "title": {
          "text": "Time (s)"
         }
        },
        "yaxis": {
         "title": {
          "text": "Salience"
         }
        }
       }
      }
     },
     "metadata": {},
     "output_type": "display_data"
    }
   ],
   "source": [
    "for bw in [0.001, 0.003, 0.005, 0.007, 0.01, 0.02, 0.05]:\n",
    "    print(bw)\n",
    "    to_level.level(\"mean_shift\", sal_bw=bw).plot().show()\n"
   ]
  },
  {
   "cell_type": "code",
   "execution_count": null,
   "metadata": {},
   "outputs": [],
   "source": []
  },
  {
   "cell_type": "code",
   "execution_count": 26,
   "metadata": {},
   "outputs": [
    {
     "data": {
      "application/vnd.plotly.v1+json": {
       "config": {
        "plotlyServerURL": "https://plot.ly"
       },
       "data": [
        {
         "hovertemplate": "<b>Boundary</b><br>Time: %{x:.3f}s<br>Salience: %{y:.3f}<extra></extra>",
         "line": {
          "color": "#666",
          "width": 1
         },
         "mode": "lines",
         "type": "scatter",
         "x": [
          8.54,
          8.54,
          null,
          9.8,
          9.8,
          null,
          11.06,
          11.06,
          null,
          12.98,
          12.98,
          null,
          13.61,
          13.61,
          null,
          16.16,
          16.16,
          null,
          32.12,
          32.12,
          null,
          32.75,
          32.75,
          null,
          54.6,
          54.6,
          null,
          55.25,
          55.25,
          null,
          61.67,
          61.67,
          null,
          62.31,
          62.31,
          null,
          63.59,
          63.59,
          null,
          64.24,
          64.24,
          null,
          74.5,
          74.5,
          null,
          75.15,
          75.15,
          null,
          93.14,
          93.14,
          null,
          93.81,
          93.81,
          null,
          94.44,
          94.44,
          null,
          103.47,
          103.47,
          null,
          104.14,
          104.14,
          null,
          104.77,
          104.77,
          null,
          105.4,
          105.4,
          null,
          109.28,
          109.28,
          null,
          111.83,
          111.83,
          null,
          117.6,
          117.6,
          null,
          152.97,
          152.97,
          null,
          153.6,
          153.6,
          null,
          158.65,
          158.65,
          null,
          159.28,
          159.28,
          null,
          159.92,
          159.92,
          null,
          168.89,
          168.89,
          null,
          169.52,
          169.52,
          null,
          170.82,
          170.82,
          null,
          171.47,
          171.47,
          null,
          190.02,
          190.02,
          null,
          190.65,
          190.65,
          null,
          191.31,
          191.31,
          null
         ],
         "y": [
          0,
          1,
          null,
          0,
          1,
          null,
          0,
          1,
          null,
          0,
          3,
          null,
          0,
          2,
          null,
          0,
          2,
          null,
          0,
          5,
          null,
          0,
          1,
          null,
          0,
          3,
          null,
          0,
          1,
          null,
          0,
          1,
          null,
          0,
          1,
          null,
          0,
          2,
          null,
          0,
          2,
          null,
          0,
          4,
          null,
          0,
          2,
          null,
          0,
          4,
          null,
          0,
          2,
          null,
          0,
          3,
          null,
          0,
          3,
          null,
          0,
          4,
          null,
          0,
          2,
          null,
          0,
          1,
          null,
          0,
          1,
          null,
          0,
          3,
          null,
          0,
          1,
          null,
          0,
          4,
          null,
          0,
          4,
          null,
          0,
          1,
          null,
          0,
          1,
          null,
          0,
          1,
          null,
          0,
          1,
          null,
          0,
          3,
          null,
          0,
          1,
          null,
          0,
          1,
          null,
          0,
          2,
          null,
          0,
          3,
          null,
          0,
          6,
          null
         ]
        }
       ],
       "layout": {
        "height": 300,
        "margin": {
         "b": 20,
         "l": 20,
         "r": 20,
         "t": 40
        },
        "shapes": [
         {
          "line": {
           "color": "#666",
           "width": 1
          },
          "opacity": 0.8,
          "type": "line",
          "x0": 0,
          "x1": 1,
          "xref": "x domain",
          "y0": 0,
          "y1": 0,
          "yref": "y"
         }
        ],
        "showlegend": false,
        "template": {
         "data": {
          "bar": [
           {
            "error_x": {
             "color": "#2a3f5f"
            },
            "error_y": {
             "color": "#2a3f5f"
            },
            "marker": {
             "line": {
              "color": "#E5ECF6",
              "width": 0.5
             },
             "pattern": {
              "fillmode": "overlay",
              "size": 10,
              "solidity": 0.2
             }
            },
            "type": "bar"
           }
          ],
          "barpolar": [
           {
            "marker": {
             "line": {
              "color": "#E5ECF6",
              "width": 0.5
             },
             "pattern": {
              "fillmode": "overlay",
              "size": 10,
              "solidity": 0.2
             }
            },
            "type": "barpolar"
           }
          ],
          "carpet": [
           {
            "aaxis": {
             "endlinecolor": "#2a3f5f",
             "gridcolor": "white",
             "linecolor": "white",
             "minorgridcolor": "white",
             "startlinecolor": "#2a3f5f"
            },
            "baxis": {
             "endlinecolor": "#2a3f5f",
             "gridcolor": "white",
             "linecolor": "white",
             "minorgridcolor": "white",
             "startlinecolor": "#2a3f5f"
            },
            "type": "carpet"
           }
          ],
          "choropleth": [
           {
            "colorbar": {
             "outlinewidth": 0,
             "ticks": ""
            },
            "type": "choropleth"
           }
          ],
          "contour": [
           {
            "colorbar": {
             "outlinewidth": 0,
             "ticks": ""
            },
            "colorscale": [
             [
              0,
              "#0d0887"
             ],
             [
              0.1111111111111111,
              "#46039f"
             ],
             [
              0.2222222222222222,
              "#7201a8"
             ],
             [
              0.3333333333333333,
              "#9c179e"
             ],
             [
              0.4444444444444444,
              "#bd3786"
             ],
             [
              0.5555555555555556,
              "#d8576b"
             ],
             [
              0.6666666666666666,
              "#ed7953"
             ],
             [
              0.7777777777777778,
              "#fb9f3a"
             ],
             [
              0.8888888888888888,
              "#fdca26"
             ],
             [
              1,
              "#f0f921"
             ]
            ],
            "type": "contour"
           }
          ],
          "contourcarpet": [
           {
            "colorbar": {
             "outlinewidth": 0,
             "ticks": ""
            },
            "type": "contourcarpet"
           }
          ],
          "heatmap": [
           {
            "colorbar": {
             "outlinewidth": 0,
             "ticks": ""
            },
            "colorscale": [
             [
              0,
              "#0d0887"
             ],
             [
              0.1111111111111111,
              "#46039f"
             ],
             [
              0.2222222222222222,
              "#7201a8"
             ],
             [
              0.3333333333333333,
              "#9c179e"
             ],
             [
              0.4444444444444444,
              "#bd3786"
             ],
             [
              0.5555555555555556,
              "#d8576b"
             ],
             [
              0.6666666666666666,
              "#ed7953"
             ],
             [
              0.7777777777777778,
              "#fb9f3a"
             ],
             [
              0.8888888888888888,
              "#fdca26"
             ],
             [
              1,
              "#f0f921"
             ]
            ],
            "type": "heatmap"
           }
          ],
          "histogram": [
           {
            "marker": {
             "pattern": {
              "fillmode": "overlay",
              "size": 10,
              "solidity": 0.2
             }
            },
            "type": "histogram"
           }
          ],
          "histogram2d": [
           {
            "colorbar": {
             "outlinewidth": 0,
             "ticks": ""
            },
            "colorscale": [
             [
              0,
              "#0d0887"
             ],
             [
              0.1111111111111111,
              "#46039f"
             ],
             [
              0.2222222222222222,
              "#7201a8"
             ],
             [
              0.3333333333333333,
              "#9c179e"
             ],
             [
              0.4444444444444444,
              "#bd3786"
             ],
             [
              0.5555555555555556,
              "#d8576b"
             ],
             [
              0.6666666666666666,
              "#ed7953"
             ],
             [
              0.7777777777777778,
              "#fb9f3a"
             ],
             [
              0.8888888888888888,
              "#fdca26"
             ],
             [
              1,
              "#f0f921"
             ]
            ],
            "type": "histogram2d"
           }
          ],
          "histogram2dcontour": [
           {
            "colorbar": {
             "outlinewidth": 0,
             "ticks": ""
            },
            "colorscale": [
             [
              0,
              "#0d0887"
             ],
             [
              0.1111111111111111,
              "#46039f"
             ],
             [
              0.2222222222222222,
              "#7201a8"
             ],
             [
              0.3333333333333333,
              "#9c179e"
             ],
             [
              0.4444444444444444,
              "#bd3786"
             ],
             [
              0.5555555555555556,
              "#d8576b"
             ],
             [
              0.6666666666666666,
              "#ed7953"
             ],
             [
              0.7777777777777778,
              "#fb9f3a"
             ],
             [
              0.8888888888888888,
              "#fdca26"
             ],
             [
              1,
              "#f0f921"
             ]
            ],
            "type": "histogram2dcontour"
           }
          ],
          "mesh3d": [
           {
            "colorbar": {
             "outlinewidth": 0,
             "ticks": ""
            },
            "type": "mesh3d"
           }
          ],
          "parcoords": [
           {
            "line": {
             "colorbar": {
              "outlinewidth": 0,
              "ticks": ""
             }
            },
            "type": "parcoords"
           }
          ],
          "pie": [
           {
            "automargin": true,
            "type": "pie"
           }
          ],
          "scatter": [
           {
            "fillpattern": {
             "fillmode": "overlay",
             "size": 10,
             "solidity": 0.2
            },
            "type": "scatter"
           }
          ],
          "scatter3d": [
           {
            "line": {
             "colorbar": {
              "outlinewidth": 0,
              "ticks": ""
             }
            },
            "marker": {
             "colorbar": {
              "outlinewidth": 0,
              "ticks": ""
             }
            },
            "type": "scatter3d"
           }
          ],
          "scattercarpet": [
           {
            "marker": {
             "colorbar": {
              "outlinewidth": 0,
              "ticks": ""
             }
            },
            "type": "scattercarpet"
           }
          ],
          "scattergeo": [
           {
            "marker": {
             "colorbar": {
              "outlinewidth": 0,
              "ticks": ""
             }
            },
            "type": "scattergeo"
           }
          ],
          "scattergl": [
           {
            "marker": {
             "colorbar": {
              "outlinewidth": 0,
              "ticks": ""
             }
            },
            "type": "scattergl"
           }
          ],
          "scattermap": [
           {
            "marker": {
             "colorbar": {
              "outlinewidth": 0,
              "ticks": ""
             }
            },
            "type": "scattermap"
           }
          ],
          "scattermapbox": [
           {
            "marker": {
             "colorbar": {
              "outlinewidth": 0,
              "ticks": ""
             }
            },
            "type": "scattermapbox"
           }
          ],
          "scatterpolar": [
           {
            "marker": {
             "colorbar": {
              "outlinewidth": 0,
              "ticks": ""
             }
            },
            "type": "scatterpolar"
           }
          ],
          "scatterpolargl": [
           {
            "marker": {
             "colorbar": {
              "outlinewidth": 0,
              "ticks": ""
             }
            },
            "type": "scatterpolargl"
           }
          ],
          "scatterternary": [
           {
            "marker": {
             "colorbar": {
              "outlinewidth": 0,
              "ticks": ""
             }
            },
            "type": "scatterternary"
           }
          ],
          "surface": [
           {
            "colorbar": {
             "outlinewidth": 0,
             "ticks": ""
            },
            "colorscale": [
             [
              0,
              "#0d0887"
             ],
             [
              0.1111111111111111,
              "#46039f"
             ],
             [
              0.2222222222222222,
              "#7201a8"
             ],
             [
              0.3333333333333333,
              "#9c179e"
             ],
             [
              0.4444444444444444,
              "#bd3786"
             ],
             [
              0.5555555555555556,
              "#d8576b"
             ],
             [
              0.6666666666666666,
              "#ed7953"
             ],
             [
              0.7777777777777778,
              "#fb9f3a"
             ],
             [
              0.8888888888888888,
              "#fdca26"
             ],
             [
              1,
              "#f0f921"
             ]
            ],
            "type": "surface"
           }
          ],
          "table": [
           {
            "cells": {
             "fill": {
              "color": "#EBF0F8"
             },
             "line": {
              "color": "white"
             }
            },
            "header": {
             "fill": {
              "color": "#C8D4E3"
             },
             "line": {
              "color": "white"
             }
            },
            "type": "table"
           }
          ]
         },
         "layout": {
          "annotationdefaults": {
           "arrowcolor": "#2a3f5f",
           "arrowhead": 0,
           "arrowwidth": 1
          },
          "autotypenumbers": "strict",
          "coloraxis": {
           "colorbar": {
            "outlinewidth": 0,
            "ticks": ""
           }
          },
          "colorscale": {
           "diverging": [
            [
             0,
             "#8e0152"
            ],
            [
             0.1,
             "#c51b7d"
            ],
            [
             0.2,
             "#de77ae"
            ],
            [
             0.3,
             "#f1b6da"
            ],
            [
             0.4,
             "#fde0ef"
            ],
            [
             0.5,
             "#f7f7f7"
            ],
            [
             0.6,
             "#e6f5d0"
            ],
            [
             0.7,
             "#b8e186"
            ],
            [
             0.8,
             "#7fbc41"
            ],
            [
             0.9,
             "#4d9221"
            ],
            [
             1,
             "#276419"
            ]
           ],
           "sequential": [
            [
             0,
             "#0d0887"
            ],
            [
             0.1111111111111111,
             "#46039f"
            ],
            [
             0.2222222222222222,
             "#7201a8"
            ],
            [
             0.3333333333333333,
             "#9c179e"
            ],
            [
             0.4444444444444444,
             "#bd3786"
            ],
            [
             0.5555555555555556,
             "#d8576b"
            ],
            [
             0.6666666666666666,
             "#ed7953"
            ],
            [
             0.7777777777777778,
             "#fb9f3a"
            ],
            [
             0.8888888888888888,
             "#fdca26"
            ],
            [
             1,
             "#f0f921"
            ]
           ],
           "sequentialminus": [
            [
             0,
             "#0d0887"
            ],
            [
             0.1111111111111111,
             "#46039f"
            ],
            [
             0.2222222222222222,
             "#7201a8"
            ],
            [
             0.3333333333333333,
             "#9c179e"
            ],
            [
             0.4444444444444444,
             "#bd3786"
            ],
            [
             0.5555555555555556,
             "#d8576b"
            ],
            [
             0.6666666666666666,
             "#ed7953"
            ],
            [
             0.7777777777777778,
             "#fb9f3a"
            ],
            [
             0.8888888888888888,
             "#fdca26"
            ],
            [
             1,
             "#f0f921"
            ]
           ]
          },
          "colorway": [
           "#636efa",
           "#EF553B",
           "#00cc96",
           "#ab63fa",
           "#FFA15A",
           "#19d3f3",
           "#FF6692",
           "#B6E880",
           "#FF97FF",
           "#FECB52"
          ],
          "font": {
           "color": "#2a3f5f"
          },
          "geo": {
           "bgcolor": "white",
           "lakecolor": "white",
           "landcolor": "#E5ECF6",
           "showlakes": true,
           "showland": true,
           "subunitcolor": "white"
          },
          "hoverlabel": {
           "align": "left"
          },
          "hovermode": "closest",
          "mapbox": {
           "style": "light"
          },
          "paper_bgcolor": "white",
          "plot_bgcolor": "#E5ECF6",
          "polar": {
           "angularaxis": {
            "gridcolor": "white",
            "linecolor": "white",
            "ticks": ""
           },
           "bgcolor": "#E5ECF6",
           "radialaxis": {
            "gridcolor": "white",
            "linecolor": "white",
            "ticks": ""
           }
          },
          "scene": {
           "xaxis": {
            "backgroundcolor": "#E5ECF6",
            "gridcolor": "white",
            "gridwidth": 2,
            "linecolor": "white",
            "showbackground": true,
            "ticks": "",
            "zerolinecolor": "white"
           },
           "yaxis": {
            "backgroundcolor": "#E5ECF6",
            "gridcolor": "white",
            "gridwidth": 2,
            "linecolor": "white",
            "showbackground": true,
            "ticks": "",
            "zerolinecolor": "white"
           },
           "zaxis": {
            "backgroundcolor": "#E5ECF6",
            "gridcolor": "white",
            "gridwidth": 2,
            "linecolor": "white",
            "showbackground": true,
            "ticks": "",
            "zerolinecolor": "white"
           }
          },
          "shapedefaults": {
           "line": {
            "color": "#2a3f5f"
           }
          },
          "ternary": {
           "aaxis": {
            "gridcolor": "white",
            "linecolor": "white",
            "ticks": ""
           },
           "baxis": {
            "gridcolor": "white",
            "linecolor": "white",
            "ticks": ""
           },
           "bgcolor": "#E5ECF6",
           "caxis": {
            "gridcolor": "white",
            "linecolor": "white",
            "ticks": ""
           }
          },
          "title": {
           "x": 0.05
          },
          "xaxis": {
           "automargin": true,
           "gridcolor": "white",
           "linecolor": "white",
           "ticks": "",
           "title": {
            "standoff": 15
           },
           "zerolinecolor": "white",
           "zerolinewidth": 2
          },
          "yaxis": {
           "automargin": true,
           "gridcolor": "white",
           "linecolor": "white",
           "ticks": "",
           "title": {
            "standoff": 15
           },
           "zerolinecolor": "white",
           "zerolinewidth": 2
          }
         }
        },
        "title": {
         "text": "adobe-mu1gamma9",
         "x": 0.5
        },
        "width": 650,
        "xaxis": {
         "range": [
          0,
          222.04082
         ],
         "title": {
          "text": "Time (s)"
         }
        },
        "yaxis": {
         "title": {
          "text": "Salience"
         }
        }
       }
      }
     },
     "metadata": {},
     "output_type": "display_data"
    }
   ],
   "source": [
    "est.contour(strategy='count').plot()"
   ]
  },
  {
   "cell_type": "code",
   "execution_count": 12,
   "metadata": {},
   "outputs": [
    {
     "data": {
      "application/vnd.plotly.v1+json": {
       "config": {
        "plotlyServerURL": "https://plot.ly"
       },
       "data": [
        {
         "hovertemplate": "<b>Boundary</b><br>Time: %{x:.3f}s<br>Salience: %{y:.3f}<extra></extra>",
         "line": {
          "color": "#666",
          "width": 1
         },
         "mode": "lines",
         "type": "scatter",
         "x": [
          8.54,
          8.54,
          null,
          9.8,
          9.8,
          null,
          11.06,
          11.06,
          null,
          12.98,
          12.98,
          null,
          13.61,
          13.61,
          null,
          16.16,
          16.16,
          null,
          32.12,
          32.12,
          null,
          32.75,
          32.75,
          null,
          54.6,
          54.6,
          null,
          55.25,
          55.25,
          null,
          61.67,
          61.67,
          null,
          62.31,
          62.31,
          null,
          63.59,
          63.59,
          null,
          64.24,
          64.24,
          null,
          74.5,
          74.5,
          null,
          75.15,
          75.15,
          null,
          93.14,
          93.14,
          null,
          93.81,
          93.81,
          null,
          94.44,
          94.44,
          null,
          103.47,
          103.47,
          null,
          104.14,
          104.14,
          null,
          104.77,
          104.77,
          null,
          105.4,
          105.4,
          null,
          109.28,
          109.28,
          null,
          111.83,
          111.83,
          null,
          117.6,
          117.6,
          null,
          152.97,
          152.97,
          null,
          153.6,
          153.6,
          null,
          158.65,
          158.65,
          null,
          159.28,
          159.28,
          null,
          159.92,
          159.92,
          null,
          168.89,
          168.89,
          null,
          169.52,
          169.52,
          null,
          170.82,
          170.82,
          null,
          171.47,
          171.47,
          null,
          190.02,
          190.02,
          null,
          190.65,
          190.65,
          null,
          191.31,
          191.31,
          null
         ],
         "y": [
          0,
          0.25,
          null,
          0,
          0.1,
          null,
          0,
          0.2,
          null,
          0,
          0.37777777777777777,
          null,
          0,
          0.26666666666666666,
          null,
          0,
          0.19090909090909092,
          null,
          0,
          0.502020202020202,
          null,
          0,
          0.1,
          null,
          0,
          0.2909090909090909,
          null,
          0,
          0.1,
          null,
          0,
          0.1111111111111111,
          null,
          0,
          0.1,
          null,
          0,
          0.2,
          null,
          0,
          0.19090909090909092,
          null,
          0,
          0.40202020202020206,
          null,
          0,
          0.2,
          null,
          0,
          0.49090909090909096,
          null,
          0,
          0.2,
          null,
          0,
          0.4444444444444444,
          null,
          0,
          0.43333333333333335,
          null,
          0,
          0.8944444444444444,
          null,
          0,
          0.2,
          null,
          0,
          0.1,
          null,
          0,
          0.09090909090909091,
          null,
          0,
          0.43333333333333335,
          null,
          0,
          0.09090909090909091,
          null,
          0,
          0.6353535353535354,
          null,
          0,
          0.7833333333333333,
          null,
          0,
          0.1,
          null,
          0,
          0.1,
          null,
          0,
          0.1,
          null,
          0,
          0.1,
          null,
          0,
          0.3111111111111111,
          null,
          0,
          0.09090909090909091,
          null,
          0,
          0.1,
          null,
          0,
          0.3333333333333333,
          null,
          0,
          0.41111111111111115,
          null,
          0,
          0.9742424242424241,
          null
         ]
        }
       ],
       "layout": {
        "height": 300,
        "margin": {
         "b": 20,
         "l": 20,
         "r": 20,
         "t": 40
        },
        "shapes": [
         {
          "line": {
           "color": "#666",
           "width": 1
          },
          "opacity": 0.8,
          "type": "line",
          "x0": 0,
          "x1": 1,
          "xref": "x domain",
          "y0": 0,
          "y1": 0,
          "yref": "y"
         }
        ],
        "showlegend": false,
        "template": {
         "data": {
          "bar": [
           {
            "error_x": {
             "color": "#2a3f5f"
            },
            "error_y": {
             "color": "#2a3f5f"
            },
            "marker": {
             "line": {
              "color": "#E5ECF6",
              "width": 0.5
             },
             "pattern": {
              "fillmode": "overlay",
              "size": 10,
              "solidity": 0.2
             }
            },
            "type": "bar"
           }
          ],
          "barpolar": [
           {
            "marker": {
             "line": {
              "color": "#E5ECF6",
              "width": 0.5
             },
             "pattern": {
              "fillmode": "overlay",
              "size": 10,
              "solidity": 0.2
             }
            },
            "type": "barpolar"
           }
          ],
          "carpet": [
           {
            "aaxis": {
             "endlinecolor": "#2a3f5f",
             "gridcolor": "white",
             "linecolor": "white",
             "minorgridcolor": "white",
             "startlinecolor": "#2a3f5f"
            },
            "baxis": {
             "endlinecolor": "#2a3f5f",
             "gridcolor": "white",
             "linecolor": "white",
             "minorgridcolor": "white",
             "startlinecolor": "#2a3f5f"
            },
            "type": "carpet"
           }
          ],
          "choropleth": [
           {
            "colorbar": {
             "outlinewidth": 0,
             "ticks": ""
            },
            "type": "choropleth"
           }
          ],
          "contour": [
           {
            "colorbar": {
             "outlinewidth": 0,
             "ticks": ""
            },
            "colorscale": [
             [
              0,
              "#0d0887"
             ],
             [
              0.1111111111111111,
              "#46039f"
             ],
             [
              0.2222222222222222,
              "#7201a8"
             ],
             [
              0.3333333333333333,
              "#9c179e"
             ],
             [
              0.4444444444444444,
              "#bd3786"
             ],
             [
              0.5555555555555556,
              "#d8576b"
             ],
             [
              0.6666666666666666,
              "#ed7953"
             ],
             [
              0.7777777777777778,
              "#fb9f3a"
             ],
             [
              0.8888888888888888,
              "#fdca26"
             ],
             [
              1,
              "#f0f921"
             ]
            ],
            "type": "contour"
           }
          ],
          "contourcarpet": [
           {
            "colorbar": {
             "outlinewidth": 0,
             "ticks": ""
            },
            "type": "contourcarpet"
           }
          ],
          "heatmap": [
           {
            "colorbar": {
             "outlinewidth": 0,
             "ticks": ""
            },
            "colorscale": [
             [
              0,
              "#0d0887"
             ],
             [
              0.1111111111111111,
              "#46039f"
             ],
             [
              0.2222222222222222,
              "#7201a8"
             ],
             [
              0.3333333333333333,
              "#9c179e"
             ],
             [
              0.4444444444444444,
              "#bd3786"
             ],
             [
              0.5555555555555556,
              "#d8576b"
             ],
             [
              0.6666666666666666,
              "#ed7953"
             ],
             [
              0.7777777777777778,
              "#fb9f3a"
             ],
             [
              0.8888888888888888,
              "#fdca26"
             ],
             [
              1,
              "#f0f921"
             ]
            ],
            "type": "heatmap"
           }
          ],
          "histogram": [
           {
            "marker": {
             "pattern": {
              "fillmode": "overlay",
              "size": 10,
              "solidity": 0.2
             }
            },
            "type": "histogram"
           }
          ],
          "histogram2d": [
           {
            "colorbar": {
             "outlinewidth": 0,
             "ticks": ""
            },
            "colorscale": [
             [
              0,
              "#0d0887"
             ],
             [
              0.1111111111111111,
              "#46039f"
             ],
             [
              0.2222222222222222,
              "#7201a8"
             ],
             [
              0.3333333333333333,
              "#9c179e"
             ],
             [
              0.4444444444444444,
              "#bd3786"
             ],
             [
              0.5555555555555556,
              "#d8576b"
             ],
             [
              0.6666666666666666,
              "#ed7953"
             ],
             [
              0.7777777777777778,
              "#fb9f3a"
             ],
             [
              0.8888888888888888,
              "#fdca26"
             ],
             [
              1,
              "#f0f921"
             ]
            ],
            "type": "histogram2d"
           }
          ],
          "histogram2dcontour": [
           {
            "colorbar": {
             "outlinewidth": 0,
             "ticks": ""
            },
            "colorscale": [
             [
              0,
              "#0d0887"
             ],
             [
              0.1111111111111111,
              "#46039f"
             ],
             [
              0.2222222222222222,
              "#7201a8"
             ],
             [
              0.3333333333333333,
              "#9c179e"
             ],
             [
              0.4444444444444444,
              "#bd3786"
             ],
             [
              0.5555555555555556,
              "#d8576b"
             ],
             [
              0.6666666666666666,
              "#ed7953"
             ],
             [
              0.7777777777777778,
              "#fb9f3a"
             ],
             [
              0.8888888888888888,
              "#fdca26"
             ],
             [
              1,
              "#f0f921"
             ]
            ],
            "type": "histogram2dcontour"
           }
          ],
          "mesh3d": [
           {
            "colorbar": {
             "outlinewidth": 0,
             "ticks": ""
            },
            "type": "mesh3d"
           }
          ],
          "parcoords": [
           {
            "line": {
             "colorbar": {
              "outlinewidth": 0,
              "ticks": ""
             }
            },
            "type": "parcoords"
           }
          ],
          "pie": [
           {
            "automargin": true,
            "type": "pie"
           }
          ],
          "scatter": [
           {
            "fillpattern": {
             "fillmode": "overlay",
             "size": 10,
             "solidity": 0.2
            },
            "type": "scatter"
           }
          ],
          "scatter3d": [
           {
            "line": {
             "colorbar": {
              "outlinewidth": 0,
              "ticks": ""
             }
            },
            "marker": {
             "colorbar": {
              "outlinewidth": 0,
              "ticks": ""
             }
            },
            "type": "scatter3d"
           }
          ],
          "scattercarpet": [
           {
            "marker": {
             "colorbar": {
              "outlinewidth": 0,
              "ticks": ""
             }
            },
            "type": "scattercarpet"
           }
          ],
          "scattergeo": [
           {
            "marker": {
             "colorbar": {
              "outlinewidth": 0,
              "ticks": ""
             }
            },
            "type": "scattergeo"
           }
          ],
          "scattergl": [
           {
            "marker": {
             "colorbar": {
              "outlinewidth": 0,
              "ticks": ""
             }
            },
            "type": "scattergl"
           }
          ],
          "scattermap": [
           {
            "marker": {
             "colorbar": {
              "outlinewidth": 0,
              "ticks": ""
             }
            },
            "type": "scattermap"
           }
          ],
          "scattermapbox": [
           {
            "marker": {
             "colorbar": {
              "outlinewidth": 0,
              "ticks": ""
             }
            },
            "type": "scattermapbox"
           }
          ],
          "scatterpolar": [
           {
            "marker": {
             "colorbar": {
              "outlinewidth": 0,
              "ticks": ""
             }
            },
            "type": "scatterpolar"
           }
          ],
          "scatterpolargl": [
           {
            "marker": {
             "colorbar": {
              "outlinewidth": 0,
              "ticks": ""
             }
            },
            "type": "scatterpolargl"
           }
          ],
          "scatterternary": [
           {
            "marker": {
             "colorbar": {
              "outlinewidth": 0,
              "ticks": ""
             }
            },
            "type": "scatterternary"
           }
          ],
          "surface": [
           {
            "colorbar": {
             "outlinewidth": 0,
             "ticks": ""
            },
            "colorscale": [
             [
              0,
              "#0d0887"
             ],
             [
              0.1111111111111111,
              "#46039f"
             ],
             [
              0.2222222222222222,
              "#7201a8"
             ],
             [
              0.3333333333333333,
              "#9c179e"
             ],
             [
              0.4444444444444444,
              "#bd3786"
             ],
             [
              0.5555555555555556,
              "#d8576b"
             ],
             [
              0.6666666666666666,
              "#ed7953"
             ],
             [
              0.7777777777777778,
              "#fb9f3a"
             ],
             [
              0.8888888888888888,
              "#fdca26"
             ],
             [
              1,
              "#f0f921"
             ]
            ],
            "type": "surface"
           }
          ],
          "table": [
           {
            "cells": {
             "fill": {
              "color": "#EBF0F8"
             },
             "line": {
              "color": "white"
             }
            },
            "header": {
             "fill": {
              "color": "#C8D4E3"
             },
             "line": {
              "color": "white"
             }
            },
            "type": "table"
           }
          ]
         },
         "layout": {
          "annotationdefaults": {
           "arrowcolor": "#2a3f5f",
           "arrowhead": 0,
           "arrowwidth": 1
          },
          "autotypenumbers": "strict",
          "coloraxis": {
           "colorbar": {
            "outlinewidth": 0,
            "ticks": ""
           }
          },
          "colorscale": {
           "diverging": [
            [
             0,
             "#8e0152"
            ],
            [
             0.1,
             "#c51b7d"
            ],
            [
             0.2,
             "#de77ae"
            ],
            [
             0.3,
             "#f1b6da"
            ],
            [
             0.4,
             "#fde0ef"
            ],
            [
             0.5,
             "#f7f7f7"
            ],
            [
             0.6,
             "#e6f5d0"
            ],
            [
             0.7,
             "#b8e186"
            ],
            [
             0.8,
             "#7fbc41"
            ],
            [
             0.9,
             "#4d9221"
            ],
            [
             1,
             "#276419"
            ]
           ],
           "sequential": [
            [
             0,
             "#0d0887"
            ],
            [
             0.1111111111111111,
             "#46039f"
            ],
            [
             0.2222222222222222,
             "#7201a8"
            ],
            [
             0.3333333333333333,
             "#9c179e"
            ],
            [
             0.4444444444444444,
             "#bd3786"
            ],
            [
             0.5555555555555556,
             "#d8576b"
            ],
            [
             0.6666666666666666,
             "#ed7953"
            ],
            [
             0.7777777777777778,
             "#fb9f3a"
            ],
            [
             0.8888888888888888,
             "#fdca26"
            ],
            [
             1,
             "#f0f921"
            ]
           ],
           "sequentialminus": [
            [
             0,
             "#0d0887"
            ],
            [
             0.1111111111111111,
             "#46039f"
            ],
            [
             0.2222222222222222,
             "#7201a8"
            ],
            [
             0.3333333333333333,
             "#9c179e"
            ],
            [
             0.4444444444444444,
             "#bd3786"
            ],
            [
             0.5555555555555556,
             "#d8576b"
            ],
            [
             0.6666666666666666,
             "#ed7953"
            ],
            [
             0.7777777777777778,
             "#fb9f3a"
            ],
            [
             0.8888888888888888,
             "#fdca26"
            ],
            [
             1,
             "#f0f921"
            ]
           ]
          },
          "colorway": [
           "#636efa",
           "#EF553B",
           "#00cc96",
           "#ab63fa",
           "#FFA15A",
           "#19d3f3",
           "#FF6692",
           "#B6E880",
           "#FF97FF",
           "#FECB52"
          ],
          "font": {
           "color": "#2a3f5f"
          },
          "geo": {
           "bgcolor": "white",
           "lakecolor": "white",
           "landcolor": "#E5ECF6",
           "showlakes": true,
           "showland": true,
           "subunitcolor": "white"
          },
          "hoverlabel": {
           "align": "left"
          },
          "hovermode": "closest",
          "mapbox": {
           "style": "light"
          },
          "paper_bgcolor": "white",
          "plot_bgcolor": "#E5ECF6",
          "polar": {
           "angularaxis": {
            "gridcolor": "white",
            "linecolor": "white",
            "ticks": ""
           },
           "bgcolor": "#E5ECF6",
           "radialaxis": {
            "gridcolor": "white",
            "linecolor": "white",
            "ticks": ""
           }
          },
          "scene": {
           "xaxis": {
            "backgroundcolor": "#E5ECF6",
            "gridcolor": "white",
            "gridwidth": 2,
            "linecolor": "white",
            "showbackground": true,
            "ticks": "",
            "zerolinecolor": "white"
           },
           "yaxis": {
            "backgroundcolor": "#E5ECF6",
            "gridcolor": "white",
            "gridwidth": 2,
            "linecolor": "white",
            "showbackground": true,
            "ticks": "",
            "zerolinecolor": "white"
           },
           "zaxis": {
            "backgroundcolor": "#E5ECF6",
            "gridcolor": "white",
            "gridwidth": 2,
            "linecolor": "white",
            "showbackground": true,
            "ticks": "",
            "zerolinecolor": "white"
           }
          },
          "shapedefaults": {
           "line": {
            "color": "#2a3f5f"
           }
          },
          "ternary": {
           "aaxis": {
            "gridcolor": "white",
            "linecolor": "white",
            "ticks": ""
           },
           "baxis": {
            "gridcolor": "white",
            "linecolor": "white",
            "ticks": ""
           },
           "bgcolor": "#E5ECF6",
           "caxis": {
            "gridcolor": "white",
            "linecolor": "white",
            "ticks": ""
           }
          },
          "title": {
           "x": 0.05
          },
          "xaxis": {
           "automargin": true,
           "gridcolor": "white",
           "linecolor": "white",
           "ticks": "",
           "title": {
            "standoff": 15
           },
           "zerolinecolor": "white",
           "zerolinewidth": 2
          },
          "yaxis": {
           "automargin": true,
           "gridcolor": "white",
           "linecolor": "white",
           "ticks": "",
           "title": {
            "standoff": 15
           },
           "zerolinecolor": "white",
           "zerolinewidth": 2
          }
         }
        },
        "title": {
         "text": "adobe-mu1gamma9",
         "x": 0.5
        },
        "width": 650,
        "xaxis": {
         "range": [
          0,
          222.04082
         ],
         "title": {
          "text": "Time (s)"
         }
        },
        "yaxis": {
         "title": {
          "text": "Salience"
         }
        }
       }
      }
     },
     "metadata": {},
     "output_type": "display_data"
    }
   ],
   "source": [
    "est.contour(strategy='prob').plot()"
   ]
  },
  {
   "cell_type": "code",
   "execution_count": 17,
   "metadata": {},
   "outputs": [
    {
     "data": {
      "application/vnd.plotly.v1+json": {
       "config": {
        "plotlyServerURL": "https://plot.ly"
       },
       "data": [
        {
         "base": [
          0,
          191,
          0,
          104.1,
          191,
          0,
          104.1,
          153.3,
          191,
          0,
          93.8,
          104.1,
          153.3,
          191,
          0,
          13.2,
          93.8,
          104.1,
          153.3,
          191,
          0,
          13.2,
          32.2,
          93.8,
          104.1,
          153.3,
          191,
          0,
          13.2,
          32.2,
          74.7,
          93.8,
          104.1,
          153.3,
          191,
          0,
          13.2,
          32.2,
          74.7,
          93.8,
          104.1,
          153.3,
          169.6,
          191,
          0,
          13.2,
          32.2,
          74.7,
          93.8,
          104.1,
          111.8,
          153.3,
          169.6,
          191,
          0,
          13.2,
          32.2,
          63.6,
          74.7,
          93.8,
          104.1,
          111.8,
          153.3,
          169.6,
          191,
          0,
          13.2,
          32.2,
          54.8,
          63.6,
          74.7,
          93.8,
          104.1,
          111.8,
          153.3,
          169.6,
          191,
          0,
          9,
          13.2,
          32.2,
          54.8,
          63.6,
          74.7,
          93.8,
          104.1,
          111.8,
          153.3,
          169.6,
          191,
          0,
          9,
          13.2,
          32.2,
          54.8,
          63.6,
          74.7,
          93.8,
          104.1,
          111.8,
          153.3,
          159.3,
          169.6,
          191,
          0,
          9,
          13.2,
          32.2,
          54.8,
          63.6,
          74.7,
          93.8,
          104.1,
          111.8,
          117.6,
          153.3,
          159.3,
          169.6,
          191
         ],
         "customdata": [
          "<b></b><br>Layer: L01<br>Start: 0.000s<br>End: 191.000s<br>Duration: 191.000s",
          "<b></b><br>Layer: L01<br>Start: 191.000s<br>End: 222.041s<br>Duration: 31.041s",
          "<b></b><br>Layer: L02<br>Start: 0.000s<br>End: 104.100s<br>Duration: 104.100s",
          "<b></b><br>Layer: L02<br>Start: 104.100s<br>End: 191.000s<br>Duration: 86.900s",
          "<b></b><br>Layer: L02<br>Start: 191.000s<br>End: 222.041s<br>Duration: 31.041s",
          "<b></b><br>Layer: L03<br>Start: 0.000s<br>End: 104.100s<br>Duration: 104.100s",
          "<b></b><br>Layer: L03<br>Start: 104.100s<br>End: 153.300s<br>Duration: 49.200s",
          "<b></b><br>Layer: L03<br>Start: 153.300s<br>End: 191.000s<br>Duration: 37.700s",
          "<b></b><br>Layer: L03<br>Start: 191.000s<br>End: 222.041s<br>Duration: 31.041s",
          "<b></b><br>Layer: L04<br>Start: 0.000s<br>End: 93.800s<br>Duration: 93.800s",
          "<b></b><br>Layer: L04<br>Start: 93.800s<br>End: 104.100s<br>Duration: 10.300s",
          "<b></b><br>Layer: L04<br>Start: 104.100s<br>End: 153.300s<br>Duration: 49.200s",
          "<b></b><br>Layer: L04<br>Start: 153.300s<br>End: 191.000s<br>Duration: 37.700s",
          "<b></b><br>Layer: L04<br>Start: 191.000s<br>End: 222.041s<br>Duration: 31.041s",
          "<b></b><br>Layer: L05<br>Start: 0.000s<br>End: 13.200s<br>Duration: 13.200s",
          "<b></b><br>Layer: L05<br>Start: 13.200s<br>End: 93.800s<br>Duration: 80.600s",
          "<b></b><br>Layer: L05<br>Start: 93.800s<br>End: 104.100s<br>Duration: 10.300s",
          "<b></b><br>Layer: L05<br>Start: 104.100s<br>End: 153.300s<br>Duration: 49.200s",
          "<b></b><br>Layer: L05<br>Start: 153.300s<br>End: 191.000s<br>Duration: 37.700s",
          "<b></b><br>Layer: L05<br>Start: 191.000s<br>End: 222.041s<br>Duration: 31.041s",
          "<b></b><br>Layer: L06<br>Start: 0.000s<br>End: 13.200s<br>Duration: 13.200s",
          "<b></b><br>Layer: L06<br>Start: 13.200s<br>End: 32.200s<br>Duration: 19.000s",
          "<b></b><br>Layer: L06<br>Start: 32.200s<br>End: 93.800s<br>Duration: 61.600s",
          "<b></b><br>Layer: L06<br>Start: 93.800s<br>End: 104.100s<br>Duration: 10.300s",
          "<b></b><br>Layer: L06<br>Start: 104.100s<br>End: 153.300s<br>Duration: 49.200s",
          "<b></b><br>Layer: L06<br>Start: 153.300s<br>End: 191.000s<br>Duration: 37.700s",
          "<b></b><br>Layer: L06<br>Start: 191.000s<br>End: 222.041s<br>Duration: 31.041s",
          "<b></b><br>Layer: L07<br>Start: 0.000s<br>End: 13.200s<br>Duration: 13.200s",
          "<b></b><br>Layer: L07<br>Start: 13.200s<br>End: 32.200s<br>Duration: 19.000s",
          "<b></b><br>Layer: L07<br>Start: 32.200s<br>End: 74.700s<br>Duration: 42.500s",
          "<b></b><br>Layer: L07<br>Start: 74.700s<br>End: 93.800s<br>Duration: 19.100s",
          "<b></b><br>Layer: L07<br>Start: 93.800s<br>End: 104.100s<br>Duration: 10.300s",
          "<b></b><br>Layer: L07<br>Start: 104.100s<br>End: 153.300s<br>Duration: 49.200s",
          "<b></b><br>Layer: L07<br>Start: 153.300s<br>End: 191.000s<br>Duration: 37.700s",
          "<b></b><br>Layer: L07<br>Start: 191.000s<br>End: 222.041s<br>Duration: 31.041s",
          "<b></b><br>Layer: L08<br>Start: 0.000s<br>End: 13.200s<br>Duration: 13.200s",
          "<b></b><br>Layer: L08<br>Start: 13.200s<br>End: 32.200s<br>Duration: 19.000s",
          "<b></b><br>Layer: L08<br>Start: 32.200s<br>End: 74.700s<br>Duration: 42.500s",
          "<b></b><br>Layer: L08<br>Start: 74.700s<br>End: 93.800s<br>Duration: 19.100s",
          "<b></b><br>Layer: L08<br>Start: 93.800s<br>End: 104.100s<br>Duration: 10.300s",
          "<b></b><br>Layer: L08<br>Start: 104.100s<br>End: 153.300s<br>Duration: 49.200s",
          "<b></b><br>Layer: L08<br>Start: 153.300s<br>End: 169.600s<br>Duration: 16.300s",
          "<b></b><br>Layer: L08<br>Start: 169.600s<br>End: 191.000s<br>Duration: 21.400s",
          "<b></b><br>Layer: L08<br>Start: 191.000s<br>End: 222.041s<br>Duration: 31.041s",
          "<b></b><br>Layer: L09<br>Start: 0.000s<br>End: 13.200s<br>Duration: 13.200s",
          "<b></b><br>Layer: L09<br>Start: 13.200s<br>End: 32.200s<br>Duration: 19.000s",
          "<b></b><br>Layer: L09<br>Start: 32.200s<br>End: 74.700s<br>Duration: 42.500s",
          "<b></b><br>Layer: L09<br>Start: 74.700s<br>End: 93.800s<br>Duration: 19.100s",
          "<b></b><br>Layer: L09<br>Start: 93.800s<br>End: 104.100s<br>Duration: 10.300s",
          "<b></b><br>Layer: L09<br>Start: 104.100s<br>End: 111.800s<br>Duration: 7.700s",
          "<b></b><br>Layer: L09<br>Start: 111.800s<br>End: 153.300s<br>Duration: 41.500s",
          "<b></b><br>Layer: L09<br>Start: 153.300s<br>End: 169.600s<br>Duration: 16.300s",
          "<b></b><br>Layer: L09<br>Start: 169.600s<br>End: 191.000s<br>Duration: 21.400s",
          "<b></b><br>Layer: L09<br>Start: 191.000s<br>End: 222.041s<br>Duration: 31.041s",
          "<b></b><br>Layer: L10<br>Start: 0.000s<br>End: 13.200s<br>Duration: 13.200s",
          "<b></b><br>Layer: L10<br>Start: 13.200s<br>End: 32.200s<br>Duration: 19.000s",
          "<b></b><br>Layer: L10<br>Start: 32.200s<br>End: 63.600s<br>Duration: 31.400s",
          "<b></b><br>Layer: L10<br>Start: 63.600s<br>End: 74.700s<br>Duration: 11.100s",
          "<b></b><br>Layer: L10<br>Start: 74.700s<br>End: 93.800s<br>Duration: 19.100s",
          "<b></b><br>Layer: L10<br>Start: 93.800s<br>End: 104.100s<br>Duration: 10.300s",
          "<b></b><br>Layer: L10<br>Start: 104.100s<br>End: 111.800s<br>Duration: 7.700s",
          "<b></b><br>Layer: L10<br>Start: 111.800s<br>End: 153.300s<br>Duration: 41.500s",
          "<b></b><br>Layer: L10<br>Start: 153.300s<br>End: 169.600s<br>Duration: 16.300s",
          "<b></b><br>Layer: L10<br>Start: 169.600s<br>End: 191.000s<br>Duration: 21.400s",
          "<b></b><br>Layer: L10<br>Start: 191.000s<br>End: 222.041s<br>Duration: 31.041s",
          "<b></b><br>Layer: L11<br>Start: 0.000s<br>End: 13.200s<br>Duration: 13.200s",
          "<b></b><br>Layer: L11<br>Start: 13.200s<br>End: 32.200s<br>Duration: 19.000s",
          "<b></b><br>Layer: L11<br>Start: 32.200s<br>End: 54.800s<br>Duration: 22.600s",
          "<b></b><br>Layer: L11<br>Start: 54.800s<br>End: 63.600s<br>Duration: 8.800s",
          "<b></b><br>Layer: L11<br>Start: 63.600s<br>End: 74.700s<br>Duration: 11.100s",
          "<b></b><br>Layer: L11<br>Start: 74.700s<br>End: 93.800s<br>Duration: 19.100s",
          "<b></b><br>Layer: L11<br>Start: 93.800s<br>End: 104.100s<br>Duration: 10.300s",
          "<b></b><br>Layer: L11<br>Start: 104.100s<br>End: 111.800s<br>Duration: 7.700s",
          "<b></b><br>Layer: L11<br>Start: 111.800s<br>End: 153.300s<br>Duration: 41.500s",
          "<b></b><br>Layer: L11<br>Start: 153.300s<br>End: 169.600s<br>Duration: 16.300s",
          "<b></b><br>Layer: L11<br>Start: 169.600s<br>End: 191.000s<br>Duration: 21.400s",
          "<b></b><br>Layer: L11<br>Start: 191.000s<br>End: 222.041s<br>Duration: 31.041s",
          "<b></b><br>Layer: L12<br>Start: 0.000s<br>End: 9.000s<br>Duration: 9.000s",
          "<b></b><br>Layer: L12<br>Start: 9.000s<br>End: 13.200s<br>Duration: 4.200s",
          "<b></b><br>Layer: L12<br>Start: 13.200s<br>End: 32.200s<br>Duration: 19.000s",
          "<b></b><br>Layer: L12<br>Start: 32.200s<br>End: 54.800s<br>Duration: 22.600s",
          "<b></b><br>Layer: L12<br>Start: 54.800s<br>End: 63.600s<br>Duration: 8.800s",
          "<b></b><br>Layer: L12<br>Start: 63.600s<br>End: 74.700s<br>Duration: 11.100s",
          "<b></b><br>Layer: L12<br>Start: 74.700s<br>End: 93.800s<br>Duration: 19.100s",
          "<b></b><br>Layer: L12<br>Start: 93.800s<br>End: 104.100s<br>Duration: 10.300s",
          "<b></b><br>Layer: L12<br>Start: 104.100s<br>End: 111.800s<br>Duration: 7.700s",
          "<b></b><br>Layer: L12<br>Start: 111.800s<br>End: 153.300s<br>Duration: 41.500s",
          "<b></b><br>Layer: L12<br>Start: 153.300s<br>End: 169.600s<br>Duration: 16.300s",
          "<b></b><br>Layer: L12<br>Start: 169.600s<br>End: 191.000s<br>Duration: 21.400s",
          "<b></b><br>Layer: L12<br>Start: 191.000s<br>End: 222.041s<br>Duration: 31.041s",
          "<b></b><br>Layer: L13<br>Start: 0.000s<br>End: 9.000s<br>Duration: 9.000s",
          "<b></b><br>Layer: L13<br>Start: 9.000s<br>End: 13.200s<br>Duration: 4.200s",
          "<b></b><br>Layer: L13<br>Start: 13.200s<br>End: 32.200s<br>Duration: 19.000s",
          "<b></b><br>Layer: L13<br>Start: 32.200s<br>End: 54.800s<br>Duration: 22.600s",
          "<b></b><br>Layer: L13<br>Start: 54.800s<br>End: 63.600s<br>Duration: 8.800s",
          "<b></b><br>Layer: L13<br>Start: 63.600s<br>End: 74.700s<br>Duration: 11.100s",
          "<b></b><br>Layer: L13<br>Start: 74.700s<br>End: 93.800s<br>Duration: 19.100s",
          "<b></b><br>Layer: L13<br>Start: 93.800s<br>End: 104.100s<br>Duration: 10.300s",
          "<b></b><br>Layer: L13<br>Start: 104.100s<br>End: 111.800s<br>Duration: 7.700s",
          "<b></b><br>Layer: L13<br>Start: 111.800s<br>End: 153.300s<br>Duration: 41.500s",
          "<b></b><br>Layer: L13<br>Start: 153.300s<br>End: 159.300s<br>Duration: 6.000s",
          "<b></b><br>Layer: L13<br>Start: 159.300s<br>End: 169.600s<br>Duration: 10.300s",
          "<b></b><br>Layer: L13<br>Start: 169.600s<br>End: 191.000s<br>Duration: 21.400s",
          "<b></b><br>Layer: L13<br>Start: 191.000s<br>End: 222.041s<br>Duration: 31.041s",
          "<b></b><br>Layer: L14<br>Start: 0.000s<br>End: 9.000s<br>Duration: 9.000s",
          "<b></b><br>Layer: L14<br>Start: 9.000s<br>End: 13.200s<br>Duration: 4.200s",
          "<b></b><br>Layer: L14<br>Start: 13.200s<br>End: 32.200s<br>Duration: 19.000s",
          "<b></b><br>Layer: L14<br>Start: 32.200s<br>End: 54.800s<br>Duration: 22.600s",
          "<b></b><br>Layer: L14<br>Start: 54.800s<br>End: 63.600s<br>Duration: 8.800s",
          "<b></b><br>Layer: L14<br>Start: 63.600s<br>End: 74.700s<br>Duration: 11.100s",
          "<b></b><br>Layer: L14<br>Start: 74.700s<br>End: 93.800s<br>Duration: 19.100s",
          "<b></b><br>Layer: L14<br>Start: 93.800s<br>End: 104.100s<br>Duration: 10.300s",
          "<b></b><br>Layer: L14<br>Start: 104.100s<br>End: 111.800s<br>Duration: 7.700s",
          "<b></b><br>Layer: L14<br>Start: 111.800s<br>End: 117.600s<br>Duration: 5.800s",
          "<b></b><br>Layer: L14<br>Start: 117.600s<br>End: 153.300s<br>Duration: 35.700s",
          "<b></b><br>Layer: L14<br>Start: 153.300s<br>End: 159.300s<br>Duration: 6.000s",
          "<b></b><br>Layer: L14<br>Start: 159.300s<br>End: 169.600s<br>Duration: 10.300s",
          "<b></b><br>Layer: L14<br>Start: 169.600s<br>End: 191.000s<br>Duration: 21.400s",
          "<b></b><br>Layer: L14<br>Start: 191.000s<br>End: 222.041s<br>Duration: 31.041s"
         ],
         "hovertemplate": "%{customdata}<extra></extra>",
         "insidetextanchor": "middle",
         "marker": {
          "color": "#1F77B4",
          "line": {
           "color": "white",
           "width": 0.5
          },
          "pattern": {
           "fgcolor": "white",
           "fgopacity": 0.5,
           "shape": "",
           "solidity": 0.25
          }
         },
         "name": "",
         "orientation": "h",
         "showlegend": true,
         "text": [
          "",
          "",
          "",
          "",
          "",
          "",
          "",
          "",
          "",
          "",
          "",
          "",
          "",
          "",
          "",
          "",
          "",
          "",
          "",
          "",
          "",
          "",
          "",
          "",
          "",
          "",
          "",
          "",
          "",
          "",
          "",
          "",
          "",
          "",
          "",
          "",
          "",
          "",
          "",
          "",
          "",
          "",
          "",
          "",
          "",
          "",
          "",
          "",
          "",
          "",
          "",
          "",
          "",
          "",
          "",
          "",
          "",
          "",
          "",
          "",
          "",
          "",
          "",
          "",
          "",
          "",
          "",
          "",
          "",
          "",
          "",
          "",
          "",
          "",
          "",
          "",
          "",
          "",
          "",
          "",
          "",
          "",
          "",
          "",
          "",
          "",
          "",
          "",
          "",
          "",
          "",
          "",
          "",
          "",
          "",
          "",
          "",
          "",
          "",
          "",
          "",
          "",
          "",
          "",
          "",
          "",
          "",
          "",
          "",
          "",
          "",
          "",
          "",
          "",
          "",
          "",
          "",
          "",
          ""
         ],
         "textposition": "inside",
         "type": "bar",
         "width": 1,
         "x": [
          191,
          31.040819999999997,
          104.1,
          86.9,
          31.040819999999997,
          104.1,
          49.20000000000002,
          37.69999999999999,
          31.040819999999997,
          93.8,
          10.299999999999997,
          49.20000000000002,
          37.69999999999999,
          31.040819999999997,
          13.2,
          80.6,
          10.299999999999997,
          49.20000000000002,
          37.69999999999999,
          31.040819999999997,
          13.2,
          19.000000000000004,
          61.599999999999994,
          10.299999999999997,
          49.20000000000002,
          37.69999999999999,
          31.040819999999997,
          13.2,
          19.000000000000004,
          42.5,
          19.099999999999994,
          10.299999999999997,
          49.20000000000002,
          37.69999999999999,
          31.040819999999997,
          13.2,
          19.000000000000004,
          42.5,
          19.099999999999994,
          10.299999999999997,
          49.20000000000002,
          16.299999999999983,
          21.400000000000006,
          31.040819999999997,
          13.2,
          19.000000000000004,
          42.5,
          19.099999999999994,
          10.299999999999997,
          7.700000000000003,
          41.500000000000014,
          16.299999999999983,
          21.400000000000006,
          31.040819999999997,
          13.2,
          19.000000000000004,
          31.4,
          11.100000000000001,
          19.099999999999994,
          10.299999999999997,
          7.700000000000003,
          41.500000000000014,
          16.299999999999983,
          21.400000000000006,
          31.040819999999997,
          13.2,
          19.000000000000004,
          22.599999999999994,
          8.800000000000004,
          11.100000000000001,
          19.099999999999994,
          10.299999999999997,
          7.700000000000003,
          41.500000000000014,
          16.299999999999983,
          21.400000000000006,
          31.040819999999997,
          9,
          4.199999999999999,
          19.000000000000004,
          22.599999999999994,
          8.800000000000004,
          11.100000000000001,
          19.099999999999994,
          10.299999999999997,
          7.700000000000003,
          41.500000000000014,
          16.299999999999983,
          21.400000000000006,
          31.040819999999997,
          9,
          4.199999999999999,
          19.000000000000004,
          22.599999999999994,
          8.800000000000004,
          11.100000000000001,
          19.099999999999994,
          10.299999999999997,
          7.700000000000003,
          41.500000000000014,
          6,
          10.299999999999983,
          21.400000000000006,
          31.040819999999997,
          9,
          4.199999999999999,
          19.000000000000004,
          22.599999999999994,
          8.800000000000004,
          11.100000000000001,
          19.099999999999994,
          10.299999999999997,
          7.700000000000003,
          5.799999999999997,
          35.70000000000002,
          6,
          10.299999999999983,
          21.400000000000006,
          31.040819999999997
         ],
         "y": [
          "L01",
          "L01",
          "L02",
          "L02",
          "L02",
          "L03",
          "L03",
          "L03",
          "L03",
          "L04",
          "L04",
          "L04",
          "L04",
          "L04",
          "L05",
          "L05",
          "L05",
          "L05",
          "L05",
          "L05",
          "L06",
          "L06",
          "L06",
          "L06",
          "L06",
          "L06",
          "L06",
          "L07",
          "L07",
          "L07",
          "L07",
          "L07",
          "L07",
          "L07",
          "L07",
          "L08",
          "L08",
          "L08",
          "L08",
          "L08",
          "L08",
          "L08",
          "L08",
          "L08",
          "L09",
          "L09",
          "L09",
          "L09",
          "L09",
          "L09",
          "L09",
          "L09",
          "L09",
          "L09",
          "L10",
          "L10",
          "L10",
          "L10",
          "L10",
          "L10",
          "L10",
          "L10",
          "L10",
          "L10",
          "L10",
          "L11",
          "L11",
          "L11",
          "L11",
          "L11",
          "L11",
          "L11",
          "L11",
          "L11",
          "L11",
          "L11",
          "L11",
          "L12",
          "L12",
          "L12",
          "L12",
          "L12",
          "L12",
          "L12",
          "L12",
          "L12",
          "L12",
          "L12",
          "L12",
          "L12",
          "L13",
          "L13",
          "L13",
          "L13",
          "L13",
          "L13",
          "L13",
          "L13",
          "L13",
          "L13",
          "L13",
          "L13",
          "L13",
          "L13",
          "L14",
          "L14",
          "L14",
          "L14",
          "L14",
          "L14",
          "L14",
          "L14",
          "L14",
          "L14",
          "L14",
          "L14",
          "L14",
          "L14",
          "L14"
         ]
        }
       ],
       "layout": {
        "barmode": "overlay",
        "height": 420,
        "margin": {
         "b": 20,
         "l": 20,
         "r": 20,
         "t": 40
        },
        "showlegend": false,
        "template": {
         "data": {
          "bar": [
           {
            "error_x": {
             "color": "#2a3f5f"
            },
            "error_y": {
             "color": "#2a3f5f"
            },
            "marker": {
             "line": {
              "color": "#E5ECF6",
              "width": 0.5
             },
             "pattern": {
              "fillmode": "overlay",
              "size": 10,
              "solidity": 0.2
             }
            },
            "type": "bar"
           }
          ],
          "barpolar": [
           {
            "marker": {
             "line": {
              "color": "#E5ECF6",
              "width": 0.5
             },
             "pattern": {
              "fillmode": "overlay",
              "size": 10,
              "solidity": 0.2
             }
            },
            "type": "barpolar"
           }
          ],
          "carpet": [
           {
            "aaxis": {
             "endlinecolor": "#2a3f5f",
             "gridcolor": "white",
             "linecolor": "white",
             "minorgridcolor": "white",
             "startlinecolor": "#2a3f5f"
            },
            "baxis": {
             "endlinecolor": "#2a3f5f",
             "gridcolor": "white",
             "linecolor": "white",
             "minorgridcolor": "white",
             "startlinecolor": "#2a3f5f"
            },
            "type": "carpet"
           }
          ],
          "choropleth": [
           {
            "colorbar": {
             "outlinewidth": 0,
             "ticks": ""
            },
            "type": "choropleth"
           }
          ],
          "contour": [
           {
            "colorbar": {
             "outlinewidth": 0,
             "ticks": ""
            },
            "colorscale": [
             [
              0,
              "#0d0887"
             ],
             [
              0.1111111111111111,
              "#46039f"
             ],
             [
              0.2222222222222222,
              "#7201a8"
             ],
             [
              0.3333333333333333,
              "#9c179e"
             ],
             [
              0.4444444444444444,
              "#bd3786"
             ],
             [
              0.5555555555555556,
              "#d8576b"
             ],
             [
              0.6666666666666666,
              "#ed7953"
             ],
             [
              0.7777777777777778,
              "#fb9f3a"
             ],
             [
              0.8888888888888888,
              "#fdca26"
             ],
             [
              1,
              "#f0f921"
             ]
            ],
            "type": "contour"
           }
          ],
          "contourcarpet": [
           {
            "colorbar": {
             "outlinewidth": 0,
             "ticks": ""
            },
            "type": "contourcarpet"
           }
          ],
          "heatmap": [
           {
            "colorbar": {
             "outlinewidth": 0,
             "ticks": ""
            },
            "colorscale": [
             [
              0,
              "#0d0887"
             ],
             [
              0.1111111111111111,
              "#46039f"
             ],
             [
              0.2222222222222222,
              "#7201a8"
             ],
             [
              0.3333333333333333,
              "#9c179e"
             ],
             [
              0.4444444444444444,
              "#bd3786"
             ],
             [
              0.5555555555555556,
              "#d8576b"
             ],
             [
              0.6666666666666666,
              "#ed7953"
             ],
             [
              0.7777777777777778,
              "#fb9f3a"
             ],
             [
              0.8888888888888888,
              "#fdca26"
             ],
             [
              1,
              "#f0f921"
             ]
            ],
            "type": "heatmap"
           }
          ],
          "histogram": [
           {
            "marker": {
             "pattern": {
              "fillmode": "overlay",
              "size": 10,
              "solidity": 0.2
             }
            },
            "type": "histogram"
           }
          ],
          "histogram2d": [
           {
            "colorbar": {
             "outlinewidth": 0,
             "ticks": ""
            },
            "colorscale": [
             [
              0,
              "#0d0887"
             ],
             [
              0.1111111111111111,
              "#46039f"
             ],
             [
              0.2222222222222222,
              "#7201a8"
             ],
             [
              0.3333333333333333,
              "#9c179e"
             ],
             [
              0.4444444444444444,
              "#bd3786"
             ],
             [
              0.5555555555555556,
              "#d8576b"
             ],
             [
              0.6666666666666666,
              "#ed7953"
             ],
             [
              0.7777777777777778,
              "#fb9f3a"
             ],
             [
              0.8888888888888888,
              "#fdca26"
             ],
             [
              1,
              "#f0f921"
             ]
            ],
            "type": "histogram2d"
           }
          ],
          "histogram2dcontour": [
           {
            "colorbar": {
             "outlinewidth": 0,
             "ticks": ""
            },
            "colorscale": [
             [
              0,
              "#0d0887"
             ],
             [
              0.1111111111111111,
              "#46039f"
             ],
             [
              0.2222222222222222,
              "#7201a8"
             ],
             [
              0.3333333333333333,
              "#9c179e"
             ],
             [
              0.4444444444444444,
              "#bd3786"
             ],
             [
              0.5555555555555556,
              "#d8576b"
             ],
             [
              0.6666666666666666,
              "#ed7953"
             ],
             [
              0.7777777777777778,
              "#fb9f3a"
             ],
             [
              0.8888888888888888,
              "#fdca26"
             ],
             [
              1,
              "#f0f921"
             ]
            ],
            "type": "histogram2dcontour"
           }
          ],
          "mesh3d": [
           {
            "colorbar": {
             "outlinewidth": 0,
             "ticks": ""
            },
            "type": "mesh3d"
           }
          ],
          "parcoords": [
           {
            "line": {
             "colorbar": {
              "outlinewidth": 0,
              "ticks": ""
             }
            },
            "type": "parcoords"
           }
          ],
          "pie": [
           {
            "automargin": true,
            "type": "pie"
           }
          ],
          "scatter": [
           {
            "fillpattern": {
             "fillmode": "overlay",
             "size": 10,
             "solidity": 0.2
            },
            "type": "scatter"
           }
          ],
          "scatter3d": [
           {
            "line": {
             "colorbar": {
              "outlinewidth": 0,
              "ticks": ""
             }
            },
            "marker": {
             "colorbar": {
              "outlinewidth": 0,
              "ticks": ""
             }
            },
            "type": "scatter3d"
           }
          ],
          "scattercarpet": [
           {
            "marker": {
             "colorbar": {
              "outlinewidth": 0,
              "ticks": ""
             }
            },
            "type": "scattercarpet"
           }
          ],
          "scattergeo": [
           {
            "marker": {
             "colorbar": {
              "outlinewidth": 0,
              "ticks": ""
             }
            },
            "type": "scattergeo"
           }
          ],
          "scattergl": [
           {
            "marker": {
             "colorbar": {
              "outlinewidth": 0,
              "ticks": ""
             }
            },
            "type": "scattergl"
           }
          ],
          "scattermap": [
           {
            "marker": {
             "colorbar": {
              "outlinewidth": 0,
              "ticks": ""
             }
            },
            "type": "scattermap"
           }
          ],
          "scattermapbox": [
           {
            "marker": {
             "colorbar": {
              "outlinewidth": 0,
              "ticks": ""
             }
            },
            "type": "scattermapbox"
           }
          ],
          "scatterpolar": [
           {
            "marker": {
             "colorbar": {
              "outlinewidth": 0,
              "ticks": ""
             }
            },
            "type": "scatterpolar"
           }
          ],
          "scatterpolargl": [
           {
            "marker": {
             "colorbar": {
              "outlinewidth": 0,
              "ticks": ""
             }
            },
            "type": "scatterpolargl"
           }
          ],
          "scatterternary": [
           {
            "marker": {
             "colorbar": {
              "outlinewidth": 0,
              "ticks": ""
             }
            },
            "type": "scatterternary"
           }
          ],
          "surface": [
           {
            "colorbar": {
             "outlinewidth": 0,
             "ticks": ""
            },
            "colorscale": [
             [
              0,
              "#0d0887"
             ],
             [
              0.1111111111111111,
              "#46039f"
             ],
             [
              0.2222222222222222,
              "#7201a8"
             ],
             [
              0.3333333333333333,
              "#9c179e"
             ],
             [
              0.4444444444444444,
              "#bd3786"
             ],
             [
              0.5555555555555556,
              "#d8576b"
             ],
             [
              0.6666666666666666,
              "#ed7953"
             ],
             [
              0.7777777777777778,
              "#fb9f3a"
             ],
             [
              0.8888888888888888,
              "#fdca26"
             ],
             [
              1,
              "#f0f921"
             ]
            ],
            "type": "surface"
           }
          ],
          "table": [
           {
            "cells": {
             "fill": {
              "color": "#EBF0F8"
             },
             "line": {
              "color": "white"
             }
            },
            "header": {
             "fill": {
              "color": "#C8D4E3"
             },
             "line": {
              "color": "white"
             }
            },
            "type": "table"
           }
          ]
         },
         "layout": {
          "annotationdefaults": {
           "arrowcolor": "#2a3f5f",
           "arrowhead": 0,
           "arrowwidth": 1
          },
          "autotypenumbers": "strict",
          "coloraxis": {
           "colorbar": {
            "outlinewidth": 0,
            "ticks": ""
           }
          },
          "colorscale": {
           "diverging": [
            [
             0,
             "#8e0152"
            ],
            [
             0.1,
             "#c51b7d"
            ],
            [
             0.2,
             "#de77ae"
            ],
            [
             0.3,
             "#f1b6da"
            ],
            [
             0.4,
             "#fde0ef"
            ],
            [
             0.5,
             "#f7f7f7"
            ],
            [
             0.6,
             "#e6f5d0"
            ],
            [
             0.7,
             "#b8e186"
            ],
            [
             0.8,
             "#7fbc41"
            ],
            [
             0.9,
             "#4d9221"
            ],
            [
             1,
             "#276419"
            ]
           ],
           "sequential": [
            [
             0,
             "#0d0887"
            ],
            [
             0.1111111111111111,
             "#46039f"
            ],
            [
             0.2222222222222222,
             "#7201a8"
            ],
            [
             0.3333333333333333,
             "#9c179e"
            ],
            [
             0.4444444444444444,
             "#bd3786"
            ],
            [
             0.5555555555555556,
             "#d8576b"
            ],
            [
             0.6666666666666666,
             "#ed7953"
            ],
            [
             0.7777777777777778,
             "#fb9f3a"
            ],
            [
             0.8888888888888888,
             "#fdca26"
            ],
            [
             1,
             "#f0f921"
            ]
           ],
           "sequentialminus": [
            [
             0,
             "#0d0887"
            ],
            [
             0.1111111111111111,
             "#46039f"
            ],
            [
             0.2222222222222222,
             "#7201a8"
            ],
            [
             0.3333333333333333,
             "#9c179e"
            ],
            [
             0.4444444444444444,
             "#bd3786"
            ],
            [
             0.5555555555555556,
             "#d8576b"
            ],
            [
             0.6666666666666666,
             "#ed7953"
            ],
            [
             0.7777777777777778,
             "#fb9f3a"
            ],
            [
             0.8888888888888888,
             "#fdca26"
            ],
            [
             1,
             "#f0f921"
            ]
           ]
          },
          "colorway": [
           "#636efa",
           "#EF553B",
           "#00cc96",
           "#ab63fa",
           "#FFA15A",
           "#19d3f3",
           "#FF6692",
           "#B6E880",
           "#FF97FF",
           "#FECB52"
          ],
          "font": {
           "color": "#2a3f5f"
          },
          "geo": {
           "bgcolor": "white",
           "lakecolor": "white",
           "landcolor": "#E5ECF6",
           "showlakes": true,
           "showland": true,
           "subunitcolor": "white"
          },
          "hoverlabel": {
           "align": "left"
          },
          "hovermode": "closest",
          "mapbox": {
           "style": "light"
          },
          "paper_bgcolor": "white",
          "plot_bgcolor": "#E5ECF6",
          "polar": {
           "angularaxis": {
            "gridcolor": "white",
            "linecolor": "white",
            "ticks": ""
           },
           "bgcolor": "#E5ECF6",
           "radialaxis": {
            "gridcolor": "white",
            "linecolor": "white",
            "ticks": ""
           }
          },
          "scene": {
           "xaxis": {
            "backgroundcolor": "#E5ECF6",
            "gridcolor": "white",
            "gridwidth": 2,
            "linecolor": "white",
            "showbackground": true,
            "ticks": "",
            "zerolinecolor": "white"
           },
           "yaxis": {
            "backgroundcolor": "#E5ECF6",
            "gridcolor": "white",
            "gridwidth": 2,
            "linecolor": "white",
            "showbackground": true,
            "ticks": "",
            "zerolinecolor": "white"
           },
           "zaxis": {
            "backgroundcolor": "#E5ECF6",
            "gridcolor": "white",
            "gridwidth": 2,
            "linecolor": "white",
            "showbackground": true,
            "ticks": "",
            "zerolinecolor": "white"
           }
          },
          "shapedefaults": {
           "line": {
            "color": "#2a3f5f"
           }
          },
          "ternary": {
           "aaxis": {
            "gridcolor": "white",
            "linecolor": "white",
            "ticks": ""
           },
           "baxis": {
            "gridcolor": "white",
            "linecolor": "white",
            "ticks": ""
           },
           "bgcolor": "#E5ECF6",
           "caxis": {
            "gridcolor": "white",
            "linecolor": "white",
            "ticks": ""
           }
          },
          "title": {
           "x": 0.05
          },
          "xaxis": {
           "automargin": true,
           "gridcolor": "white",
           "linecolor": "white",
           "ticks": "",
           "title": {
            "standoff": 15
           },
           "zerolinecolor": "white",
           "zerolinewidth": 2
          },
          "yaxis": {
           "automargin": true,
           "gridcolor": "white",
           "linecolor": "white",
           "ticks": "",
           "title": {
            "standoff": 15
           },
           "zerolinecolor": "white",
           "zerolinewidth": 2
          }
         }
        },
        "title": {
         "text": "adobe-mu1gamma9 Monotonic MS",
         "x": 0.5
        },
        "width": 650,
        "xaxis": {
         "range": [
          0,
          222.04082
         ],
         "title": {
          "text": "Time (s)"
         }
        },
        "yaxis": {
         "categoryarray": [
          "L14",
          "L13",
          "L12",
          "L11",
          "L10",
          "L09",
          "L08",
          "L07",
          "L06",
          "L05",
          "L04",
          "L03",
          "L02",
          "L01"
         ],
         "categoryorder": "array",
         "title": {}
        }
       }
      }
     },
     "metadata": {},
     "output_type": "display_data"
    }
   ],
   "source": []
  },
  {
   "cell_type": "code",
   "execution_count": null,
   "metadata": {},
   "outputs": [],
   "source": [
    "mock_empty_layer = bnl.S(\n",
    "    bs=[ref.start, ref.end], labels=[None], \n",
    "    name='empty'\n",
    ")\n",
    "mock_layer = bnl.S(\n",
    "    bs=ref[1].bs, labels=[f'lab_{lab}' for lab in ref[1].labels], \n",
    "    name='redundant'\n",
    ")\n",
    "mock_ref = bnl.MS(\n",
    "    layers=[mock_empty_layer] + ref.layers + [mock_layer], \n",
    "    name='mock_ref'\n",
    ")\n",
    "\n",
    "mock_ref.plot().show()\n",
    "mock_ref.prune_layers().plot().show()"
   ]
  },
  {
   "cell_type": "code",
   "execution_count": null,
   "metadata": {},
   "outputs": [],
   "source": [
    "# First figure: we need to show for T-measure, what's it's deal with monotonicity.\n",
    "import mir_eval\n",
    "import numpy as np\n",
    "from random import choice\n",
    "from bnl.data import Dataset\n",
    "from plotly.subplots import make_subplots\n",
    "\n",
    "slm_ds = Dataset()\n",
    "track = slm_ds[18]\n",
    "\n",
    "est = track.ests[choice(list(track.ests))]\n",
    "ref = track.refs[choice(list(track.refs))]\n",
    "aligned_est = est.align(span=ref)\n"
   ]
  },
  {
   "cell_type": "code",
   "execution_count": null,
   "metadata": {},
   "outputs": [],
   "source": [
    "mono_est_count = aligned_est.contour('count').level().to_ms()\n",
    "mono_est_depth = aligned_est.contour('depth').level().to_ms()\n",
    "mono_est_prob = aligned_est.contour('prob').level().to_ms()\n"
   ]
  },
  {
   "cell_type": "code",
   "execution_count": null,
   "metadata": {},
   "outputs": [],
   "source": [
    "fig = make_subplots(\n",
    "    rows=4, cols=1, shared_xaxes=True, vertical_spacing=0.04,\n",
    "    subplot_titles=[\"Reference\", \"Estimated Raw\", \"Count\", \"Depth\"],\n",
    "    row_heights=[0.1, 0.3, 0.2, 0.2],\n",
    ")\n",
    "[fig.add_trace(labeld_timespans, row=1, col=1) for labeld_timespans in ref.plot().data]\n",
    "[fig.add_trace(labeld_timespans, row=2, col=1) for labeld_timespans in aligned_est.plot().data]\n",
    "[fig.add_trace(labeld_timespans, row=3, col=1) for labeld_timespans in mono_est_count.plot().data]\n",
    "[fig.add_trace(labeld_timespans, row=4, col=1) for labeld_timespans in mono_est_depth.plot().data]\n",
    "fig.update_layout(barmode=\"overlay\", legend_visible=False, height=1000, width=800)\n",
    "fig.update_xaxes(autorangeoptions=dict(minallowed=ref.start.time, maxallowed=ref.end.time))\n",
    "fig.show()"
   ]
  },
  {
   "cell_type": "code",
   "execution_count": null,
   "metadata": {},
   "outputs": [],
   "source": [
    "import mir_eval\n",
    "import numpy as np\n",
    "from warnings import filterwarnings\n",
    "filterwarnings(\"ignore\")\n",
    "\n",
    "mono_est_depth = aligned_est.to_contour('depth').to_multisegment()\n",
    "\n",
    "a = mir_eval.hierarchy.tmeasure(ref.itvls, aligned_est.itvls[2:6], transitive=True)\n",
    "b = mir_eval.hierarchy.tmeasure(ref.itvls, mono_est_depth.itvls[2:6], transitive=True)\n",
    "c = mir_eval.hierarchy.tmeasure(ref.itvls, aligned_est.itvls[2:6], transitive=False)\n",
    "d = mir_eval.hierarchy.tmeasure(ref.itvls, mono_est_depth.itvls[2:6], transitive=False)\n",
    "\n",
    "\n",
    "print(np.array([a, b, c, d]))"
   ]
  },
  {
   "cell_type": "code",
   "execution_count": null,
   "metadata": {},
   "outputs": [],
   "source": [
    "from mir_eval.hierarchy import tmeasure\n",
    "\n",
    "annos = [\n",
    "    ref.scrub_labels(), \n",
    "    MS(aligned_est[2:6], 'Raw').scrub_labels(), \n",
    "    MS(mono_est_depth[2:6], 'Mono')\n",
    "]\n",
    "\n",
    "fig = make_subplots(\n",
    "    rows=3, cols=1, shared_xaxes=True,\n",
    "    subplot_titles=[\"Reference\", \"Raw\", \"Mono\"]\n",
    ")\n",
    "fig.update_layout(\n",
    "    barmode=\"overlay\", legend_visible=False, height=650, width=650, \n",
    "    margin=dict(l=10, r=10, t=50, b=10)\n",
    ")\n",
    "fig.update_xaxes(\n",
    "    autorangeoptions=dict(minallowed=ref.start.time, maxallowed=ref.end.time)\n",
    ")\n",
    "\n",
    "for row, anno in enumerate(annos, start=1):\n",
    "    if row != 1:\n",
    "        print(f\"{anno}: reduced (tran=False)\\n  {tmeasure(ref.itvls, anno.itvls)}\")\n",
    "        print(f\"{anno}: full (tran=True)\\n  {tmeasure(ref.itvls, anno.itvls, transitive=True)}\")\n",
    "    for bar_trace in anno.plot().data:\n",
    "        fig.add_trace(bar_trace, row=row, col=1)\n",
    "\n",
    "fig.show()"
   ]
  },
  {
   "cell_type": "code",
   "execution_count": null,
   "metadata": {},
   "outputs": [],
   "source": [
    "# Study the effect of monotonic casting and T-measure"
   ]
  }
 ],
 "metadata": {
  "kernelspec": {
   "display_name": "py311",
   "language": "python",
   "name": "python3"
  },
  "language_info": {
   "codemirror_mode": {
    "name": "ipython",
    "version": 3
   },
   "file_extension": ".py",
   "mimetype": "text/x-python",
   "name": "python",
   "nbconvert_exporter": "python",
   "pygments_lexer": "ipython3",
   "version": "3.11.13"
  }
 },
 "nbformat": 4,
 "nbformat_minor": 4
}
