{
 "cells": [
  {
   "cell_type": "markdown",
   "metadata": {},
   "source": [
    "# BNL Development Notebook",
    "",
    "This notebook is for developing and testing the BNL package.",
    ""
   ]
  },
  {
   "cell_type": "code",
   "execution_count": 13,
   "metadata": {},
   "outputs": [
    {
     "name": "stdout",
     "output_type": "stream",
     "text": [
      "The autoreload extension is already loaded. To reload it, use:\n",
      "  %reload_ext autoreload\n"
     ]
    }
   ],
   "source": [
    "%load_ext autoreload",
    "%autoreload 2",
    "",
    "import bnl"
   ]
  },
  {
   "cell_type": "code",
   "execution_count": 15,
   "metadata": {},
   "outputs": [
    {
     "data": {
      "text/plain": [
       "(<Figure size 600x60 with 1 Axes>, <Axes: xlabel='Time (s)'>)"
      ]
     },
     "execution_count": 15,
     "metadata": {},
     "output_type": "execute_result"
    },
    {
     "data": {
      "image/png": "[encoded data removed]",
      "text/plain": [
       "<Figure size 600x60 with 1 Axes>"
      ]
     },
     "metadata": {},
     "output_type": "display_data"
    }
   ],
   "source": [
    "# Create a Segmentation object using the new construction utility",
    "seg = bnl.Segmentation.from_boundaries((1,3,5,6), labels=['vocals', 'drums', 'bass'])",
    "seg.plot()"
   ]
  },
  {
   "cell_type": "markdown",
   "metadata": {},
   "source": [
    "## Todo items:",
    "- [x] Add a `Hierarchy` class to core.py",
    "- [x] Add a module for dealing with jams and datasets, currently only SALAMI. ",
    "- [ ] Add a `Hierarchy.plot()`",
    "- [ ] add eval.py a module for evaluating metrics.",
    "    - [ ] get the fast and mir_eval version of the flat metrics working. eval/flat.py",
    "    - [ ] get the fast and mir_eval version of L-measure and T-measure working. eval/hier.py",
    "    - [ ] get bmeasure working. eval/hier.py",
    "    - [ ] logic, processing, and hidden functions in eval/utils.py",
    "- [ ] Boundary salience curve for Hierarchy, and coding and decoding to monotonic hierarchies.",
    "",
    "So the consideration is whether to make aother class that's Monotonic Hierarchy, or to add casting methods to the Hierarchy class.",
    "",
    "Yea.. I think we should have a different class for Monotonic Hierarchy, and then add casting methods to the Hierarchy class for conversion.",
    "",
    "",
    ""
   ]
  },
  {
   "cell_type": "code",
   "execution_count": null,
   "metadata": {},
   "outputs": [],
   "source": [
    ""
   ]
  },
  {
   "cell_type": "markdown",
   "metadata": {},
   "source": [
    "## More thinking on API",
    "",
    "Good progress",
    "",
    "We then introduce ProperHierarchy, which inherits from Hierarchy, and has monotonoic boundaires.",
    "",
    "ProperHierarchy has Boundary to Layer mapping, and has monotonic boundaires across its levels.",
    "",
    "Let's only do input checking during construction of objects, so assumn things are well formed elsewhere.",
    "",
    "Ok, idea about plotting: the TimeSpan should also have a plot function, that draws a rect objects on an axis, if its provided; it can take a bunch of style args. then this should be called in the segmentation.plot function.  Right now. The drawing of the rects are just in a forloop.",
    "This is a nice to have refactor that benefits my mental model.",
    "",
    "We need a constructor in core.py for seg_from_jams_anno, where anno is either a open_segment annotation, in which case the output would be a Segmentation, or a multilevel one, in whichcase the output would be a Hierarchy. actually hier_from_jams_anno for the hierarchy one.",
    "look at formatting.py from old version to see if anything else is needed.",
    "",
    "",
    ""
   ]
  },
  {
   "cell_type": "code",
   "execution_count": null,
   "metadata": {},
   "outputs": [],
   "source": [
    ""
   ]
  },
  {
   "cell_type": "code",
   "execution_count": null,
   "metadata": {},
   "outputs": [],
   "source": [
    ""
   ]
  },
  {
   "cell_type": "code",
   "execution_count": null,
   "metadata": {},
   "outputs": [],
   "source": [
    "## Add a `Hierarchy` class to core.py"
   ]
  }
 ],
 "metadata": {
  "kernelspec": {
   "display_name": "py311",
   "language": "python",
   "name": "python3"
  },
  "language_info": {
   "codemirror_mode": {
    "name": "ipython",
    "version": 3
   },
   "file_extension": ".py",
   "mimetype": "text/x-python",
   "name": "python",
   "nbconvert_exporter": "python",
   "pygments_lexer": "ipython3",
   "version": "3.11.13"
  }
 },
 "nbformat": 4,
 "nbformat_minor": 2
}