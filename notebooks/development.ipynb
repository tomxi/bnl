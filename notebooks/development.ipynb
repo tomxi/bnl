{
 "cells": [
  {
   "cell_type": "markdown",
   "metadata": {},
   "source": [
    "# BNL Development Notebook\n",
    "\n",
    "This notebook is for developing and testing the BNL package.\n"
   ]
  },
  {
   "cell_type": "code",
   "execution_count": 1,
   "metadata": {},
   "outputs": [],
   "source": [
    "%load_ext autoreload\n",
    "%autoreload 2\n",
    "\n",
    "import bnl\n",
    "\n",
    "# R2_BUCKET_PUBLIC_URL = \"https://pub-05e404c031184ec4bbf69b0c2321b98e.r2.dev\"\n",
    "\n",
    "# slm_ds = bnl.data.Dataset(manifest_path=f\"{R2_BUCKET_PUBLIC_URL}/manifest_cloud_boolean.csv\")\n",
    "slm_ds = bnl.data.Dataset(manifest_path=\"~/data/salami/metadata.csv\")\n",
    "track = slm_ds[8]\n",
    "est = track.load_annotation(\"adobe-mu1gamma1\")\n",
    "ref = track.load_annotation(\"reference\")"
   ]
  },
  {
   "cell_type": "code",
   "execution_count": 73,
   "metadata": {},
   "outputs": [
    {
     "data": {
      "application/vnd.plotly.v1+json": {
       "config": {
        "plotlyServerURL": "https://plot.ly"
       },
       "data": [
        {
         "base": [
          0,
          218.70875
         ],
         "customdata": [
          "<b>silence</b><br>Layer: coarse<br>Start: 0.000s<br>End: 0.224s<br>Duration: 0.224s",
          "<b>silence</b><br>Layer: coarse<br>Start: 218.709s<br>End: 222.061s<br>Duration: 3.352s"
         ],
         "hovertemplate": "%{customdata}<extra></extra>",
         "insidetextanchor": "middle",
         "marker": {
          "color": "#1F77B4",
          "line": {
           "color": "white",
           "width": 0.5
          },
          "pattern": {
           "fgcolor": "white",
           "fgopacity": 0.5,
           "shape": "",
           "solidity": 0.25
          }
         },
         "name": "silence",
         "orientation": "h",
         "showlegend": true,
         "text": [
          "silence",
          "silence"
         ],
         "textposition": "inside",
         "type": "bar",
         "width": 1,
         "x": [
          0.22449,
          3.3523600000000044
         ],
         "xaxis": "x",
         "y": [
          "coarse",
          "coarse"
         ],
         "yaxis": "y"
        },
        {
         "base": [
          0.22449
         ],
         "customdata": [
          "<b>intro</b><br>Layer: coarse<br>Start: 0.224s<br>End: 11.086s<br>Duration: 10.861s"
         ],
         "hovertemplate": "%{customdata}<extra></extra>",
         "insidetextanchor": "middle",
         "marker": {
          "color": "#FF7F0E",
          "line": {
           "color": "white",
           "width": 0.5
          },
          "pattern": {
           "fgcolor": "white",
           "fgopacity": 0.5,
           "shape": "",
           "solidity": 0.25
          }
         },
         "name": "intro",
         "orientation": "h",
         "showlegend": true,
         "text": [
          "intro"
         ],
         "textposition": "inside",
         "type": "bar",
         "width": 1,
         "x": [
          10.861220000000001
         ],
         "xaxis": "x",
         "y": [
          "coarse"
         ],
         "yaxis": "y"
        },
        {
         "base": [
          11.08571,
          52.04735,
          93.1551,
          154.83674,
          180.40816
         ],
         "customdata": [
          "<b>chorus</b><br>Layer: coarse<br>Start: 11.086s<br>End: 21.290s<br>Duration: 10.204s",
          "<b>chorus</b><br>Layer: coarse<br>Start: 52.047s<br>End: 62.310s<br>Duration: 10.263s",
          "<b>chorus</b><br>Layer: coarse<br>Start: 93.155s<br>End: 103.465s<br>Duration: 10.310s",
          "<b>chorus</b><br>Layer: coarse<br>Start: 154.837s<br>End: 165.049s<br>Duration: 10.212s",
          "<b>chorus</b><br>Layer: coarse<br>Start: 180.408s<br>End: 190.637s<br>Duration: 10.229s"
         ],
         "hovertemplate": "%{customdata}<extra></extra>",
         "insidetextanchor": "middle",
         "marker": {
          "color": "#2CA02C",
          "line": {
           "color": "white",
           "width": 0.5
          },
          "pattern": {
           "fgcolor": "white",
           "fgopacity": 0.5,
           "shape": "",
           "solidity": 0.25
          }
         },
         "name": "chorus",
         "orientation": "h",
         "showlegend": true,
         "text": [
          "chorus",
          "chorus",
          "chorus",
          "chorus",
          "chorus"
         ],
         "textposition": "inside",
         "type": "bar",
         "width": 1,
         "x": [
          10.204089999999999,
          10.26285,
          10.310209999999998,
          10.212240000000008,
          10.228579999999994
         ],
         "xaxis": "x",
         "y": [
          "coarse",
          "coarse",
          "coarse",
          "coarse",
          "coarse"
         ],
         "yaxis": "y"
        },
        {
         "base": [
          21.2898,
          62.3102
         ],
         "customdata": [
          "<b>pre-verse</b><br>Layer: coarse<br>Start: 21.290s<br>End: 31.507s<br>Duration: 10.218s",
          "<b>pre-verse</b><br>Layer: coarse<br>Start: 62.310s<br>End: 72.608s<br>Duration: 10.298s"
         ],
         "hovertemplate": "%{customdata}<extra></extra>",
         "insidetextanchor": "middle",
         "marker": {
          "color": "#D62728",
          "line": {
           "color": "white",
           "width": 0.5
          },
          "pattern": {
           "fgcolor": "white",
           "fgopacity": 0.5,
           "shape": "",
           "solidity": 0.25
          }
         },
         "name": "pre-verse",
         "orientation": "h",
         "showlegend": true,
         "text": [
          "pre-verse",
          "pre-verse"
         ],
         "textposition": "inside",
         "type": "bar",
         "width": 1,
         "x": [
          10.217659999999999,
          10.297959999999996
         ],
         "xaxis": "x",
         "y": [
          "coarse",
          "coarse"
         ],
         "yaxis": "y"
        },
        {
         "base": [
          31.50746,
          72.60816,
          165.04898
         ],
         "customdata": [
          "<b>verse</b><br>Layer: coarse<br>Start: 31.507s<br>End: 52.047s<br>Duration: 20.540s",
          "<b>verse</b><br>Layer: coarse<br>Start: 72.608s<br>End: 93.155s<br>Duration: 20.547s",
          "<b>verse</b><br>Layer: coarse<br>Start: 165.049s<br>End: 180.408s<br>Duration: 15.359s"
         ],
         "hovertemplate": "%{customdata}<extra></extra>",
         "insidetextanchor": "middle",
         "marker": {
          "color": "#9467BD",
          "line": {
           "color": "white",
           "width": 0.5
          },
          "pattern": {
           "fgcolor": "white",
           "fgopacity": 0.5,
           "shape": "",
           "solidity": 0.25
          }
         },
         "name": "verse",
         "orientation": "h",
         "showlegend": true,
         "text": [
          "verse",
          "verse",
          "verse"
         ],
         "textposition": "inside",
         "type": "bar",
         "width": 1,
         "x": [
          20.539890000000003,
          20.546940000000006,
          15.35918000000001
         ],
         "xaxis": "x",
         "y": [
          "coarse",
          "coarse",
          "coarse"
         ],
         "yaxis": "y"
        },
        {
         "base": [
          103.46531
         ],
         "customdata": [
          "<b>break</b><br>Layer: coarse<br>Start: 103.465s<br>End: 134.485s<br>Duration: 31.020s"
         ],
         "hovertemplate": "%{customdata}<extra></extra>",
         "insidetextanchor": "middle",
         "marker": {
          "color": "#8C564B",
          "line": {
           "color": "white",
           "width": 0.5
          },
          "pattern": {
           "fgcolor": "white",
           "fgopacity": 0.5,
           "shape": "",
           "solidity": 0.25
          }
         },
         "name": "break",
         "orientation": "h",
         "showlegend": true,
         "text": [
          "break"
         ],
         "textposition": "inside",
         "type": "bar",
         "width": 1,
         "x": [
          31.019999999999996
         ],
         "xaxis": "x",
         "y": [
          "coarse"
         ],
         "yaxis": "y"
        },
        {
         "base": [
          134.48531
         ],
         "customdata": [
          "<b>no_function</b><br>Layer: coarse<br>Start: 134.485s<br>End: 154.837s<br>Duration: 20.351s"
         ],
         "hovertemplate": "%{customdata}<extra></extra>",
         "insidetextanchor": "middle",
         "marker": {
          "color": "#E377C2",
          "line": {
           "color": "white",
           "width": 0.5
          },
          "pattern": {
           "fgcolor": "white",
           "fgopacity": 0.5,
           "shape": "",
           "solidity": 0.25
          }
         },
         "name": "no_function",
         "orientation": "h",
         "showlegend": true,
         "text": [
          "no_function"
         ],
         "textposition": "inside",
         "type": "bar",
         "width": 1,
         "x": [
          20.351429999999993
         ],
         "xaxis": "x",
         "y": [
          "coarse"
         ],
         "yaxis": "y"
        },
        {
         "base": [
          190.63674
         ],
         "customdata": [
          "<b>outro</b><br>Layer: coarse<br>Start: 190.637s<br>End: 218.709s<br>Duration: 28.072s"
         ],
         "hovertemplate": "%{customdata}<extra></extra>",
         "insidetextanchor": "middle",
         "marker": {
          "color": "#7F7F7F",
          "line": {
           "color": "white",
           "width": 0.5
          },
          "pattern": {
           "fgcolor": "white",
           "fgopacity": 0.5,
           "shape": "",
           "solidity": 0.25
          }
         },
         "name": "outro",
         "orientation": "h",
         "showlegend": true,
         "text": [
          "outro"
         ],
         "textposition": "inside",
         "type": "bar",
         "width": 1,
         "x": [
          28.072010000000006
         ],
         "xaxis": "x",
         "y": [
          "coarse"
         ],
         "yaxis": "y"
        },
        {
         "base": [
          0,
          218.70875
         ],
         "customdata": [
          "<b>Silence</b><br>Layer: fine<br>Start: 0.000s<br>End: 0.224s<br>Duration: 0.224s",
          "<b>Silence</b><br>Layer: fine<br>Start: 218.709s<br>End: 222.061s<br>Duration: 3.352s"
         ],
         "hovertemplate": "%{customdata}<extra></extra>",
         "insidetextanchor": "middle",
         "marker": {
          "color": "#BCBD22",
          "line": {
           "color": "white",
           "width": 0.5
          },
          "pattern": {
           "fgcolor": "white",
           "fgopacity": 0.5,
           "shape": "",
           "solidity": 0.25
          }
         },
         "name": "Silence",
         "orientation": "h",
         "showlegend": true,
         "text": [
          "Silence",
          "Silence"
         ],
         "textposition": "inside",
         "type": "bar",
         "width": 1,
         "x": [
          0.22449,
          3.3523600000000044
         ],
         "xaxis": "x",
         "y": [
          "fine",
          "fine"
         ],
         "yaxis": "y"
        },
        {
         "base": [
          0.22449
         ],
         "customdata": [
          "<b>b</b><br>Layer: fine<br>Start: 0.224s<br>End: 11.086s<br>Duration: 10.861s"
         ],
         "hovertemplate": "%{customdata}<extra></extra>",
         "insidetextanchor": "middle",
         "marker": {
          "color": "#17BECF",
          "line": {
           "color": "white",
           "width": 0.5
          },
          "pattern": {
           "fgcolor": "white",
           "fgopacity": 0.5,
           "shape": "",
           "solidity": 0.25
          }
         },
         "name": "b",
         "orientation": "h",
         "showlegend": true,
         "text": [
          "b"
         ],
         "textposition": "inside",
         "type": "bar",
         "width": 1,
         "x": [
          10.861220000000001
         ],
         "xaxis": "x",
         "y": [
          "fine"
         ],
         "yaxis": "y"
        },
        {
         "base": [
          11.08571
         ],
         "customdata": [
          "<b>c</b><br>Layer: fine<br>Start: 11.086s<br>End: 21.290s<br>Duration: 10.204s"
         ],
         "hovertemplate": "%{customdata}<extra></extra>",
         "insidetextanchor": "middle",
         "marker": {
          "color": "#1F77B4",
          "line": {
           "color": "white",
           "width": 0.5
          },
          "pattern": {
           "fgcolor": "white",
           "fgopacity": 0.5,
           "shape": ".",
           "solidity": 0.25
          }
         },
         "name": "c",
         "orientation": "h",
         "showlegend": true,
         "text": [
          "c"
         ],
         "textposition": "inside",
         "type": "bar",
         "width": 1,
         "x": [
          10.204089999999999
         ],
         "xaxis": "x",
         "y": [
          "fine"
         ],
         "yaxis": "y"
        },
        {
         "base": [
          21.2898
         ],
         "customdata": [
          "<b>d</b><br>Layer: fine<br>Start: 21.290s<br>End: 31.507s<br>Duration: 10.218s"
         ],
         "hovertemplate": "%{customdata}<extra></extra>",
         "insidetextanchor": "middle",
         "marker": {
          "color": "#FF7F0E",
          "line": {
           "color": "white",
           "width": 0.5
          },
          "pattern": {
           "fgcolor": "white",
           "fgopacity": 0.5,
           "shape": ".",
           "solidity": 0.25
          }
         },
         "name": "d",
         "orientation": "h",
         "showlegend": true,
         "text": [
          "d"
         ],
         "textposition": "inside",
         "type": "bar",
         "width": 1,
         "x": [
          10.217659999999999
         ],
         "xaxis": "x",
         "y": [
          "fine"
         ],
         "yaxis": "y"
        },
        {
         "base": [
          31.50746
         ],
         "customdata": [
          "<b>e</b><br>Layer: fine<br>Start: 31.507s<br>End: 41.759s<br>Duration: 10.252s"
         ],
         "hovertemplate": "%{customdata}<extra></extra>",
         "insidetextanchor": "middle",
         "marker": {
          "color": "#2CA02C",
          "line": {
           "color": "white",
           "width": 0.5
          },
          "pattern": {
           "fgcolor": "white",
           "fgopacity": 0.5,
           "shape": ".",
           "solidity": 0.25
          }
         },
         "name": "e",
         "orientation": "h",
         "showlegend": true,
         "text": [
          "e"
         ],
         "textposition": "inside",
         "type": "bar",
         "width": 1,
         "x": [
          10.251720000000002
         ],
         "xaxis": "x",
         "y": [
          "fine"
         ],
         "yaxis": "y"
        },
        {
         "base": [
          41.75918
         ],
         "customdata": [
          "<b>f</b><br>Layer: fine<br>Start: 41.759s<br>End: 52.047s<br>Duration: 10.288s"
         ],
         "hovertemplate": "%{customdata}<extra></extra>",
         "insidetextanchor": "middle",
         "marker": {
          "color": "#D62728",
          "line": {
           "color": "white",
           "width": 0.5
          },
          "pattern": {
           "fgcolor": "white",
           "fgopacity": 0.5,
           "shape": ".",
           "solidity": 0.25
          }
         },
         "name": "f",
         "orientation": "h",
         "showlegend": true,
         "text": [
          "f"
         ],
         "textposition": "inside",
         "type": "bar",
         "width": 1,
         "x": [
          10.288170000000001
         ],
         "xaxis": "x",
         "y": [
          "fine"
         ],
         "yaxis": "y"
        },
        {
         "base": [
          52.04735
         ],
         "customdata": [
          "<b>g</b><br>Layer: fine<br>Start: 52.047s<br>End: 62.310s<br>Duration: 10.263s"
         ],
         "hovertemplate": "%{customdata}<extra></extra>",
         "insidetextanchor": "middle",
         "marker": {
          "color": "#9467BD",
          "line": {
           "color": "white",
           "width": 0.5
          },
          "pattern": {
           "fgcolor": "white",
           "fgopacity": 0.5,
           "shape": ".",
           "solidity": 0.25
          }
         },
         "name": "g",
         "orientation": "h",
         "showlegend": true,
         "text": [
          "g"
         ],
         "textposition": "inside",
         "type": "bar",
         "width": 1,
         "x": [
          10.26285
         ],
         "xaxis": "x",
         "y": [
          "fine"
         ],
         "yaxis": "y"
        },
        {
         "base": [
          62.3102
         ],
         "customdata": [
          "<b>h</b><br>Layer: fine<br>Start: 62.310s<br>End: 72.608s<br>Duration: 10.298s"
         ],
         "hovertemplate": "%{customdata}<extra></extra>",
         "insidetextanchor": "middle",
         "marker": {
          "color": "#8C564B",
          "line": {
           "color": "white",
           "width": 0.5
          },
          "pattern": {
           "fgcolor": "white",
           "fgopacity": 0.5,
           "shape": ".",
           "solidity": 0.25
          }
         },
         "name": "h",
         "orientation": "h",
         "showlegend": true,
         "text": [
          "h"
         ],
         "textposition": "inside",
         "type": "bar",
         "width": 1,
         "x": [
          10.297959999999996
         ],
         "xaxis": "x",
         "y": [
          "fine"
         ],
         "yaxis": "y"
        },
        {
         "base": [
          72.60816
         ],
         "customdata": [
          "<b>i</b><br>Layer: fine<br>Start: 72.608s<br>End: 82.914s<br>Duration: 10.306s"
         ],
         "hovertemplate": "%{customdata}<extra></extra>",
         "insidetextanchor": "middle",
         "marker": {
          "color": "#E377C2",
          "line": {
           "color": "white",
           "width": 0.5
          },
          "pattern": {
           "fgcolor": "white",
           "fgopacity": 0.5,
           "shape": ".",
           "solidity": 0.25
          }
         },
         "name": "i",
         "orientation": "h",
         "showlegend": true,
         "text": [
          "i"
         ],
         "textposition": "inside",
         "type": "bar",
         "width": 1,
         "x": [
          10.306129999999996
         ],
         "xaxis": "x",
         "y": [
          "fine"
         ],
         "yaxis": "y"
        },
        {
         "base": [
          82.91429
         ],
         "customdata": [
          "<b>j</b><br>Layer: fine<br>Start: 82.914s<br>End: 93.155s<br>Duration: 10.241s"
         ],
         "hovertemplate": "%{customdata}<extra></extra>",
         "insidetextanchor": "middle",
         "marker": {
          "color": "#7F7F7F",
          "line": {
           "color": "white",
           "width": 0.5
          },
          "pattern": {
           "fgcolor": "white",
           "fgopacity": 0.5,
           "shape": ".",
           "solidity": 0.25
          }
         },
         "name": "j",
         "orientation": "h",
         "showlegend": true,
         "text": [
          "j"
         ],
         "textposition": "inside",
         "type": "bar",
         "width": 1,
         "x": [
          10.24081000000001
         ],
         "xaxis": "x",
         "y": [
          "fine"
         ],
         "yaxis": "y"
        },
        {
         "base": [
          93.1551
         ],
         "customdata": [
          "<b>k</b><br>Layer: fine<br>Start: 93.155s<br>End: 103.465s<br>Duration: 10.310s"
         ],
         "hovertemplate": "%{customdata}<extra></extra>",
         "insidetextanchor": "middle",
         "marker": {
          "color": "#BCBD22",
          "line": {
           "color": "white",
           "width": 0.5
          },
          "pattern": {
           "fgcolor": "white",
           "fgopacity": 0.5,
           "shape": ".",
           "solidity": 0.25
          }
         },
         "name": "k",
         "orientation": "h",
         "showlegend": true,
         "text": [
          "k"
         ],
         "textposition": "inside",
         "type": "bar",
         "width": 1,
         "x": [
          10.310209999999998
         ],
         "xaxis": "x",
         "y": [
          "fine"
         ],
         "yaxis": "y"
        },
        {
         "base": [
          103.46531
         ],
         "customdata": [
          "<b>l</b><br>Layer: fine<br>Start: 103.465s<br>End: 113.759s<br>Duration: 10.294s"
         ],
         "hovertemplate": "%{customdata}<extra></extra>",
         "insidetextanchor": "middle",
         "marker": {
          "color": "#17BECF",
          "line": {
           "color": "white",
           "width": 0.5
          },
          "pattern": {
           "fgcolor": "white",
           "fgopacity": 0.5,
           "shape": ".",
           "solidity": 0.25
          }
         },
         "name": "l",
         "orientation": "h",
         "showlegend": true,
         "text": [
          "l"
         ],
         "textposition": "inside",
         "type": "bar",
         "width": 1,
         "x": [
          10.293869999999998
         ],
         "xaxis": "x",
         "y": [
          "fine"
         ],
         "yaxis": "y"
        },
        {
         "base": [
          113.75918
         ],
         "customdata": [
          "<b>m</b><br>Layer: fine<br>Start: 113.759s<br>End: 124.086s<br>Duration: 10.327s"
         ],
         "hovertemplate": "%{customdata}<extra></extra>",
         "insidetextanchor": "middle",
         "marker": {
          "color": "#1F77B4",
          "line": {
           "color": "white",
           "width": 0.5
          },
          "pattern": {
           "fgcolor": "white",
           "fgopacity": 0.5,
           "shape": "x",
           "solidity": 0.25
          }
         },
         "name": "m",
         "orientation": "h",
         "showlegend": true,
         "text": [
          "m"
         ],
         "textposition": "inside",
         "type": "bar",
         "width": 1,
         "x": [
          10.326530000000005
         ],
         "xaxis": "x",
         "y": [
          "fine"
         ],
         "yaxis": "y"
        },
        {
         "base": [
          124.08571
         ],
         "customdata": [
          "<b>n</b><br>Layer: fine<br>Start: 124.086s<br>End: 134.485s<br>Duration: 10.400s"
         ],
         "hovertemplate": "%{customdata}<extra></extra>",
         "insidetextanchor": "middle",
         "marker": {
          "color": "#FF7F0E",
          "line": {
           "color": "white",
           "width": 0.5
          },
          "pattern": {
           "fgcolor": "white",
           "fgopacity": 0.5,
           "shape": "x",
           "solidity": 0.25
          }
         },
         "name": "n",
         "orientation": "h",
         "showlegend": true,
         "text": [
          "n"
         ],
         "textposition": "inside",
         "type": "bar",
         "width": 1,
         "x": [
          10.399599999999992
         ],
         "xaxis": "x",
         "y": [
          "fine"
         ],
         "yaxis": "y"
        },
        {
         "base": [
          134.48531
         ],
         "customdata": [
          "<b>o</b><br>Layer: fine<br>Start: 134.485s<br>End: 144.698s<br>Duration: 10.212s"
         ],
         "hovertemplate": "%{customdata}<extra></extra>",
         "insidetextanchor": "middle",
         "marker": {
          "color": "#2CA02C",
          "line": {
           "color": "white",
           "width": 0.5
          },
          "pattern": {
           "fgcolor": "white",
           "fgopacity": 0.5,
           "shape": "x",
           "solidity": 0.25
          }
         },
         "name": "o",
         "orientation": "h",
         "showlegend": true,
         "text": [
          "o"
         ],
         "textposition": "inside",
         "type": "bar",
         "width": 1,
         "x": [
          10.21244999999999
         ],
         "xaxis": "x",
         "y": [
          "fine"
         ],
         "yaxis": "y"
        },
        {
         "base": [
          144.69776
         ],
         "customdata": [
          "<b>p</b><br>Layer: fine<br>Start: 144.698s<br>End: 154.837s<br>Duration: 10.139s"
         ],
         "hovertemplate": "%{customdata}<extra></extra>",
         "insidetextanchor": "middle",
         "marker": {
          "color": "#D62728",
          "line": {
           "color": "white",
           "width": 0.5
          },
          "pattern": {
           "fgcolor": "white",
           "fgopacity": 0.5,
           "shape": "x",
           "solidity": 0.25
          }
         },
         "name": "p",
         "orientation": "h",
         "showlegend": true,
         "text": [
          "p"
         ],
         "textposition": "inside",
         "type": "bar",
         "width": 1,
         "x": [
          10.138980000000004
         ],
         "xaxis": "x",
         "y": [
          "fine"
         ],
         "yaxis": "y"
        },
        {
         "base": [
          154.83674
         ],
         "customdata": [
          "<b>q</b><br>Layer: fine<br>Start: 154.837s<br>End: 165.049s<br>Duration: 10.212s"
         ],
         "hovertemplate": "%{customdata}<extra></extra>",
         "insidetextanchor": "middle",
         "marker": {
          "color": "#9467BD",
          "line": {
           "color": "white",
           "width": 0.5
          },
          "pattern": {
           "fgcolor": "white",
           "fgopacity": 0.5,
           "shape": "x",
           "solidity": 0.25
          }
         },
         "name": "q",
         "orientation": "h",
         "showlegend": true,
         "text": [
          "q"
         ],
         "textposition": "inside",
         "type": "bar",
         "width": 1,
         "x": [
          10.212240000000008
         ],
         "xaxis": "x",
         "y": [
          "fine"
         ],
         "yaxis": "y"
        },
        {
         "base": [
          165.04898
         ],
         "customdata": [
          "<b>r</b><br>Layer: fine<br>Start: 165.049s<br>End: 175.278s<br>Duration: 10.229s"
         ],
         "hovertemplate": "%{customdata}<extra></extra>",
         "insidetextanchor": "middle",
         "marker": {
          "color": "#8C564B",
          "line": {
           "color": "white",
           "width": 0.5
          },
          "pattern": {
           "fgcolor": "white",
           "fgopacity": 0.5,
           "shape": "x",
           "solidity": 0.25
          }
         },
         "name": "r",
         "orientation": "h",
         "showlegend": true,
         "text": [
          "r"
         ],
         "textposition": "inside",
         "type": "bar",
         "width": 1,
         "x": [
          10.22856999999999
         ],
         "xaxis": "x",
         "y": [
          "fine"
         ],
         "yaxis": "y"
        },
        {
         "base": [
          175.27755
         ],
         "customdata": [
          "<b>s</b><br>Layer: fine<br>Start: 175.278s<br>End: 180.408s<br>Duration: 5.131s"
         ],
         "hovertemplate": "%{customdata}<extra></extra>",
         "insidetextanchor": "middle",
         "marker": {
          "color": "#E377C2",
          "line": {
           "color": "white",
           "width": 0.5
          },
          "pattern": {
           "fgcolor": "white",
           "fgopacity": 0.5,
           "shape": "x",
           "solidity": 0.25
          }
         },
         "name": "s",
         "orientation": "h",
         "showlegend": true,
         "text": [
          "s"
         ],
         "textposition": "inside",
         "type": "bar",
         "width": 1,
         "x": [
          5.1306100000000185
         ],
         "xaxis": "x",
         "y": [
          "fine"
         ],
         "yaxis": "y"
        },
        {
         "base": [
          180.40816
         ],
         "customdata": [
          "<b>t</b><br>Layer: fine<br>Start: 180.408s<br>End: 190.637s<br>Duration: 10.229s"
         ],
         "hovertemplate": "%{customdata}<extra></extra>",
         "insidetextanchor": "middle",
         "marker": {
          "color": "#7F7F7F",
          "line": {
           "color": "white",
           "width": 0.5
          },
          "pattern": {
           "fgcolor": "white",
           "fgopacity": 0.5,
           "shape": "x",
           "solidity": 0.25
          }
         },
         "name": "t",
         "orientation": "h",
         "showlegend": true,
         "text": [
          "t"
         ],
         "textposition": "inside",
         "type": "bar",
         "width": 1,
         "x": [
          10.228579999999994
         ],
         "xaxis": "x",
         "y": [
          "fine"
         ],
         "yaxis": "y"
        },
        {
         "base": [
          190.63674
         ],
         "customdata": [
          "<b>u</b><br>Layer: fine<br>Start: 190.637s<br>End: 200.845s<br>Duration: 10.208s"
         ],
         "hovertemplate": "%{customdata}<extra></extra>",
         "insidetextanchor": "middle",
         "marker": {
          "color": "#BCBD22",
          "line": {
           "color": "white",
           "width": 0.5
          },
          "pattern": {
           "fgcolor": "white",
           "fgopacity": 0.5,
           "shape": "x",
           "solidity": 0.25
          }
         },
         "name": "u",
         "orientation": "h",
         "showlegend": true,
         "text": [
          "u"
         ],
         "textposition": "inside",
         "type": "bar",
         "width": 1,
         "x": [
          10.208159999999992
         ],
         "xaxis": "x",
         "y": [
          "fine"
         ],
         "yaxis": "y"
        },
        {
         "base": [
          200.8449,
          210.98367
         ],
         "customdata": [
          "<b>v</b><br>Layer: fine<br>Start: 200.845s<br>End: 210.984s<br>Duration: 10.139s",
          "<b>v</b><br>Layer: fine<br>Start: 210.984s<br>End: 218.709s<br>Duration: 7.725s"
         ],
         "hovertemplate": "%{customdata}<extra></extra>",
         "insidetextanchor": "middle",
         "marker": {
          "color": "#17BECF",
          "line": {
           "color": "white",
           "width": 0.5
          },
          "pattern": {
           "fgcolor": "white",
           "fgopacity": 0.5,
           "shape": "x",
           "solidity": 0.25
          }
         },
         "name": "v",
         "orientation": "h",
         "showlegend": true,
         "text": [
          "v",
          "v"
         ],
         "textposition": "inside",
         "type": "bar",
         "width": 1,
         "x": [
          10.138769999999994,
          7.72508000000002
         ],
         "xaxis": "x",
         "y": [
          "fine",
          "fine"
         ],
         "yaxis": "y"
        },
        {
         "base": [
          0,
          0,
          152.97,
          8.54,
          153.6,
          11.06,
          12.98,
          13.61,
          32.75,
          75.15,
          32.12,
          74.5,
          32.12,
          74.5,
          32.12,
          75.15,
          32.12,
          74.5,
          32.12,
          74.5
         ],
         "customdata": [
          "<b>0</b><br>Layer: L01<br>Start: 0.000s<br>End: 222.041s<br>Duration: 222.041s",
          "<b>0</b><br>Layer: L02<br>Start: 0.000s<br>End: 104.140s<br>Duration: 104.140s",
          "<b>0</b><br>Layer: L02<br>Start: 152.970s<br>End: 191.310s<br>Duration: 38.340s",
          "<b>0</b><br>Layer: L03<br>Start: 8.540s<br>End: 104.140s<br>Duration: 95.600s",
          "<b>0</b><br>Layer: L03<br>Start: 153.600s<br>End: 191.310s<br>Duration: 37.710s",
          "<b>0</b><br>Layer: L04<br>Start: 11.060s<br>End: 93.140s<br>Duration: 82.080s",
          "<b>0</b><br>Layer: L05<br>Start: 12.980s<br>End: 94.440s<br>Duration: 81.460s",
          "<b>0</b><br>Layer: L06<br>Start: 13.610s<br>End: 94.440s<br>Duration: 80.830s",
          "<b>0</b><br>Layer: L07<br>Start: 32.750s<br>End: 62.310s<br>Duration: 29.560s",
          "<b>0</b><br>Layer: L07<br>Start: 75.150s<br>End: 93.140s<br>Duration: 17.990s",
          "<b>0</b><br>Layer: L08<br>Start: 32.120s<br>End: 61.670s<br>Duration: 29.550s",
          "<b>0</b><br>Layer: L08<br>Start: 74.500s<br>End: 94.440s<br>Duration: 19.940s",
          "<b>0</b><br>Layer: L09<br>Start: 32.120s<br>End: 54.600s<br>Duration: 22.480s",
          "<b>0</b><br>Layer: L09<br>Start: 74.500s<br>End: 93.810s<br>Duration: 19.310s",
          "<b>0</b><br>Layer: L10<br>Start: 32.120s<br>End: 55.250s<br>Duration: 23.130s",
          "<b>0</b><br>Layer: L10<br>Start: 75.150s<br>End: 93.810s<br>Duration: 18.660s",
          "<b>0</b><br>Layer: L11<br>Start: 32.120s<br>End: 54.600s<br>Duration: 22.480s",
          "<b>0</b><br>Layer: L11<br>Start: 74.500s<br>End: 93.140s<br>Duration: 18.640s",
          "<b>0</b><br>Layer: L12<br>Start: 32.120s<br>End: 54.600s<br>Duration: 22.480s",
          "<b>0</b><br>Layer: L12<br>Start: 74.500s<br>End: 93.140s<br>Duration: 18.640s"
         ],
         "hovertemplate": "%{customdata}<extra></extra>",
         "insidetextanchor": "middle",
         "marker": {
          "color": "#1F77B4",
          "line": {
           "color": "white",
           "width": 0.5
          },
          "pattern": {
           "fgcolor": "white",
           "fgopacity": 0.5,
           "shape": "",
           "solidity": 0.25
          }
         },
         "name": "0",
         "orientation": "h",
         "showlegend": true,
         "text": [
          "0",
          "0",
          "0",
          "0",
          "0",
          "0",
          "0",
          "0",
          "0",
          "0",
          "0",
          "0",
          "0",
          "0",
          "0",
          "0",
          "0",
          "0",
          "0",
          "0"
         ],
         "textposition": "inside",
         "type": "bar",
         "width": 1,
         "x": [
          222.04082,
          104.14,
          38.34,
          95.6,
          37.71000000000001,
          82.08,
          81.46,
          80.83,
          29.560000000000002,
          17.989999999999995,
          29.550000000000004,
          19.939999999999998,
          22.480000000000004,
          19.310000000000002,
          23.130000000000003,
          18.659999999999997,
          22.480000000000004,
          18.64,
          22.480000000000004,
          18.64
         ],
         "xaxis": "x2",
         "y": [
          "L01",
          "L02",
          "L02",
          "L03",
          "L03",
          "L04",
          "L05",
          "L06",
          "L07",
          "L07",
          "L08",
          "L08",
          "L09",
          "L09",
          "L10",
          "L10",
          "L11",
          "L11",
          "L12",
          "L12"
         ],
         "yaxis": "y2"
        },
        {
         "base": [
          104.14,
          191.31,
          0,
          104.14,
          191.31,
          104.14,
          111.83,
          111.83,
          111.83,
          104.14,
          104.77,
          104.77,
          105.4,
          117.6
         ],
         "customdata": [
          "<b>1</b><br>Layer: L02<br>Start: 104.140s<br>End: 152.970s<br>Duration: 48.830s",
          "<b>1</b><br>Layer: L02<br>Start: 191.310s<br>End: 222.041s<br>Duration: 30.731s",
          "<b>1</b><br>Layer: L03<br>Start: 0.000s<br>End: 8.540s<br>Duration: 8.540s",
          "<b>1</b><br>Layer: L03<br>Start: 104.140s<br>End: 153.600s<br>Duration: 49.460s",
          "<b>1</b><br>Layer: L03<br>Start: 191.310s<br>End: 222.041s<br>Duration: 30.731s",
          "<b>1</b><br>Layer: L04<br>Start: 104.140s<br>End: 153.600s<br>Duration: 49.460s",
          "<b>1</b><br>Layer: L05<br>Start: 111.830s<br>End: 153.600s<br>Duration: 41.770s",
          "<b>1</b><br>Layer: L06<br>Start: 111.830s<br>End: 153.600s<br>Duration: 41.770s",
          "<b>1</b><br>Layer: L07<br>Start: 111.830s<br>End: 152.970s<br>Duration: 41.140s",
          "<b>1</b><br>Layer: L08<br>Start: 104.140s<br>End: 152.970s<br>Duration: 48.830s",
          "<b>1</b><br>Layer: L09<br>Start: 104.770s<br>End: 159.920s<br>Duration: 55.150s",
          "<b>1</b><br>Layer: L10<br>Start: 104.770s<br>End: 159.280s<br>Duration: 54.510s",
          "<b>1</b><br>Layer: L11<br>Start: 105.400s<br>End: 158.650s<br>Duration: 53.250s",
          "<b>1</b><br>Layer: L12<br>Start: 117.600s<br>End: 152.970s<br>Duration: 35.370s"
         ],
         "hovertemplate": "%{customdata}<extra></extra>",
         "insidetextanchor": "middle",
         "marker": {
          "color": "#FF7F0E",
          "line": {
           "color": "white",
           "width": 0.5
          },
          "pattern": {
           "fgcolor": "white",
           "fgopacity": 0.5,
           "shape": "",
           "solidity": 0.25
          }
         },
         "name": "1",
         "orientation": "h",
         "showlegend": true,
         "text": [
          "1",
          "1",
          "1",
          "1",
          "1",
          "1",
          "1",
          "1",
          "1",
          "1",
          "1",
          "1",
          "1",
          "1"
         ],
         "textposition": "inside",
         "type": "bar",
         "width": 1,
         "x": [
          48.83,
          30.730819999999994,
          8.54,
          49.459999999999994,
          30.730819999999994,
          49.459999999999994,
          41.769999999999996,
          41.769999999999996,
          41.14,
          48.83,
          55.14999999999999,
          54.510000000000005,
          53.25,
          35.370000000000005
         ],
         "xaxis": "x2",
         "y": [
          "L02",
          "L02",
          "L03",
          "L03",
          "L03",
          "L04",
          "L05",
          "L06",
          "L07",
          "L08",
          "L09",
          "L10",
          "L11",
          "L12"
         ],
         "yaxis": "y2"
        },
        {
         "base": [
          0,
          190.65,
          103.47,
          190.02,
          103.47,
          190.02,
          103.47,
          190.65,
          190.65,
          191.31,
          191.31,
          191.31,
          191.31
         ],
         "customdata": [
          "<b>2</b><br>Layer: L04<br>Start: 0.000s<br>End: 11.060s<br>Duration: 11.060s",
          "<b>2</b><br>Layer: L04<br>Start: 190.650s<br>End: 222.041s<br>Duration: 31.391s",
          "<b>2</b><br>Layer: L05<br>Start: 103.470s<br>End: 111.830s<br>Duration: 8.360s",
          "<b>2</b><br>Layer: L05<br>Start: 190.020s<br>End: 222.041s<br>Duration: 32.021s",
          "<b>2</b><br>Layer: L06<br>Start: 103.470s<br>End: 111.830s<br>Duration: 8.360s",
          "<b>2</b><br>Layer: L06<br>Start: 190.020s<br>End: 222.041s<br>Duration: 32.021s",
          "<b>2</b><br>Layer: L07<br>Start: 103.470s<br>End: 111.830s<br>Duration: 8.360s",
          "<b>2</b><br>Layer: L07<br>Start: 190.650s<br>End: 222.041s<br>Duration: 31.391s",
          "<b>2</b><br>Layer: L08<br>Start: 190.650s<br>End: 222.041s<br>Duration: 31.391s",
          "<b>2</b><br>Layer: L09<br>Start: 191.310s<br>End: 222.041s<br>Duration: 30.731s",
          "<b>2</b><br>Layer: L10<br>Start: 191.310s<br>End: 222.041s<br>Duration: 30.731s",
          "<b>2</b><br>Layer: L11<br>Start: 191.310s<br>End: 222.041s<br>Duration: 30.731s",
          "<b>2</b><br>Layer: L12<br>Start: 191.310s<br>End: 222.041s<br>Duration: 30.731s"
         ],
         "hovertemplate": "%{customdata}<extra></extra>",
         "insidetextanchor": "middle",
         "marker": {
          "color": "#2CA02C",
          "line": {
           "color": "white",
           "width": 0.5
          },
          "pattern": {
           "fgcolor": "white",
           "fgopacity": 0.5,
           "shape": "",
           "solidity": 0.25
          }
         },
         "name": "2",
         "orientation": "h",
         "showlegend": true,
         "text": [
          "2",
          "2",
          "2",
          "2",
          "2",
          "2",
          "2",
          "2",
          "2",
          "2",
          "2",
          "2",
          "2"
         ],
         "textposition": "inside",
         "type": "bar",
         "width": 1,
         "x": [
          11.06,
          31.39081999999999,
          8.36,
          32.020819999999986,
          8.36,
          32.020819999999986,
          8.36,
          31.39081999999999,
          31.39081999999999,
          30.730819999999994,
          30.730819999999994,
          30.730819999999994,
          30.730819999999994
         ],
         "xaxis": "x2",
         "y": [
          "L04",
          "L04",
          "L05",
          "L05",
          "L06",
          "L06",
          "L07",
          "L07",
          "L08",
          "L09",
          "L10",
          "L11",
          "L12"
         ],
         "yaxis": "y2"
        },
        {
         "base": [
          93.14,
          153.6,
          94.44,
          153.6,
          94.44,
          153.6,
          93.14,
          169.52,
          94.44,
          169.52,
          54.6,
          93.81,
          169.52,
          55.25,
          93.81,
          168.89,
          54.6,
          93.14,
          171.47,
          54.6,
          93.14,
          170.82
         ],
         "customdata": [
          "<b>3</b><br>Layer: L04<br>Start: 93.140s<br>End: 104.140s<br>Duration: 11.000s",
          "<b>3</b><br>Layer: L04<br>Start: 153.600s<br>End: 190.650s<br>Duration: 37.050s",
          "<b>3</b><br>Layer: L05<br>Start: 94.440s<br>End: 103.470s<br>Duration: 9.030s",
          "<b>3</b><br>Layer: L05<br>Start: 153.600s<br>End: 190.020s<br>Duration: 36.420s",
          "<b>3</b><br>Layer: L06<br>Start: 94.440s<br>End: 103.470s<br>Duration: 9.030s",
          "<b>3</b><br>Layer: L06<br>Start: 153.600s<br>End: 190.020s<br>Duration: 36.420s",
          "<b>3</b><br>Layer: L07<br>Start: 93.140s<br>End: 103.470s<br>Duration: 10.330s",
          "<b>3</b><br>Layer: L07<br>Start: 169.520s<br>End: 190.650s<br>Duration: 21.130s",
          "<b>3</b><br>Layer: L08<br>Start: 94.440s<br>End: 104.140s<br>Duration: 9.700s",
          "<b>3</b><br>Layer: L08<br>Start: 169.520s<br>End: 190.650s<br>Duration: 21.130s",
          "<b>3</b><br>Layer: L09<br>Start: 54.600s<br>End: 63.590s<br>Duration: 8.990s",
          "<b>3</b><br>Layer: L09<br>Start: 93.810s<br>End: 104.770s<br>Duration: 10.960s",
          "<b>3</b><br>Layer: L09<br>Start: 169.520s<br>End: 191.310s<br>Duration: 21.790s",
          "<b>3</b><br>Layer: L10<br>Start: 55.250s<br>End: 63.590s<br>Duration: 8.340s",
          "<b>3</b><br>Layer: L10<br>Start: 93.810s<br>End: 104.770s<br>Duration: 10.960s",
          "<b>3</b><br>Layer: L10<br>Start: 168.890s<br>End: 191.310s<br>Duration: 22.420s",
          "<b>3</b><br>Layer: L11<br>Start: 54.600s<br>End: 64.240s<br>Duration: 9.640s",
          "<b>3</b><br>Layer: L11<br>Start: 93.140s<br>End: 105.400s<br>Duration: 12.260s",
          "<b>3</b><br>Layer: L11<br>Start: 171.470s<br>End: 191.310s<br>Duration: 19.840s",
          "<b>3</b><br>Layer: L12<br>Start: 54.600s<br>End: 64.240s<br>Duration: 9.640s",
          "<b>3</b><br>Layer: L12<br>Start: 93.140s<br>End: 109.280s<br>Duration: 16.140s",
          "<b>3</b><br>Layer: L12<br>Start: 170.820s<br>End: 191.310s<br>Duration: 20.490s"
         ],
         "hovertemplate": "%{customdata}<extra></extra>",
         "insidetextanchor": "middle",
         "marker": {
          "color": "#D62728",
          "line": {
           "color": "white",
           "width": 0.5
          },
          "pattern": {
           "fgcolor": "white",
           "fgopacity": 0.5,
           "shape": "",
           "solidity": 0.25
          }
         },
         "name": "3",
         "orientation": "h",
         "showlegend": true,
         "text": [
          "3",
          "3",
          "3",
          "3",
          "3",
          "3",
          "3",
          "3",
          "3",
          "3",
          "3",
          "3",
          "3",
          "3",
          "3",
          "3",
          "3",
          "3",
          "3",
          "3",
          "3",
          "3"
         ],
         "textposition": "inside",
         "type": "bar",
         "width": 1,
         "x": [
          11,
          37.05000000000001,
          9.030000000000001,
          36.420000000000016,
          9.030000000000001,
          36.420000000000016,
          10.329999999999998,
          21.129999999999995,
          9.700000000000003,
          21.129999999999995,
          8.990000000000002,
          10.959999999999994,
          21.789999999999992,
          8.340000000000003,
          10.959999999999994,
          22.420000000000016,
          9.639999999999993,
          12.260000000000005,
          19.840000000000003,
          9.639999999999993,
          16.14,
          20.49000000000001
         ],
         "xaxis": "x2",
         "y": [
          "L04",
          "L04",
          "L05",
          "L05",
          "L06",
          "L06",
          "L07",
          "L07",
          "L08",
          "L08",
          "L09",
          "L09",
          "L09",
          "L10",
          "L10",
          "L10",
          "L11",
          "L11",
          "L11",
          "L12",
          "L12",
          "L12"
         ],
         "yaxis": "y2"
        },
        {
         "base": [
          0,
          0,
          0,
          0,
          0,
          0,
          0,
          0
         ],
         "customdata": [
          "<b>4</b><br>Layer: L05<br>Start: 0.000s<br>End: 12.980s<br>Duration: 12.980s",
          "<b>4</b><br>Layer: L06<br>Start: 0.000s<br>End: 13.610s<br>Duration: 13.610s",
          "<b>4</b><br>Layer: L07<br>Start: 0.000s<br>End: 13.610s<br>Duration: 13.610s",
          "<b>4</b><br>Layer: L08<br>Start: 0.000s<br>End: 12.980s<br>Duration: 12.980s",
          "<b>4</b><br>Layer: L09<br>Start: 0.000s<br>End: 12.980s<br>Duration: 12.980s",
          "<b>4</b><br>Layer: L10<br>Start: 0.000s<br>End: 9.800s<br>Duration: 9.800s",
          "<b>4</b><br>Layer: L11<br>Start: 0.000s<br>End: 16.160s<br>Duration: 16.160s",
          "<b>4</b><br>Layer: L12<br>Start: 0.000s<br>End: 16.160s<br>Duration: 16.160s"
         ],
         "hovertemplate": "%{customdata}<extra></extra>",
         "insidetextanchor": "middle",
         "marker": {
          "color": "#9467BD",
          "line": {
           "color": "white",
           "width": 0.5
          },
          "pattern": {
           "fgcolor": "white",
           "fgopacity": 0.5,
           "shape": "",
           "solidity": 0.25
          }
         },
         "name": "4",
         "orientation": "h",
         "showlegend": true,
         "text": [
          "4",
          "4",
          "4",
          "4",
          "4",
          "4",
          "4",
          "4"
         ],
         "textposition": "inside",
         "type": "bar",
         "width": 1,
         "x": [
          12.98,
          13.61,
          13.61,
          12.98,
          12.98,
          9.8,
          16.16,
          16.16
         ],
         "xaxis": "x2",
         "y": [
          "L05",
          "L06",
          "L07",
          "L08",
          "L09",
          "L10",
          "L11",
          "L12"
         ],
         "yaxis": "y2"
        },
        {
         "base": [
          13.61,
          62.31,
          12.98,
          61.67,
          12.98,
          63.59,
          9.8,
          63.59,
          16.16,
          64.24,
          16.16,
          64.24
         ],
         "customdata": [
          "<b>6</b><br>Layer: L07<br>Start: 13.610s<br>End: 32.750s<br>Duration: 19.140s",
          "<b>6</b><br>Layer: L07<br>Start: 62.310s<br>End: 75.150s<br>Duration: 12.840s",
          "<b>6</b><br>Layer: L08<br>Start: 12.980s<br>End: 32.120s<br>Duration: 19.140s",
          "<b>6</b><br>Layer: L08<br>Start: 61.670s<br>End: 74.500s<br>Duration: 12.830s",
          "<b>6</b><br>Layer: L09<br>Start: 12.980s<br>End: 32.120s<br>Duration: 19.140s",
          "<b>6</b><br>Layer: L09<br>Start: 63.590s<br>End: 74.500s<br>Duration: 10.910s",
          "<b>6</b><br>Layer: L10<br>Start: 9.800s<br>End: 32.120s<br>Duration: 22.320s",
          "<b>6</b><br>Layer: L10<br>Start: 63.590s<br>End: 75.150s<br>Duration: 11.560s",
          "<b>6</b><br>Layer: L11<br>Start: 16.160s<br>End: 32.120s<br>Duration: 15.960s",
          "<b>6</b><br>Layer: L11<br>Start: 64.240s<br>End: 74.500s<br>Duration: 10.260s",
          "<b>6</b><br>Layer: L12<br>Start: 16.160s<br>End: 32.120s<br>Duration: 15.960s",
          "<b>6</b><br>Layer: L12<br>Start: 64.240s<br>End: 74.500s<br>Duration: 10.260s"
         ],
         "hovertemplate": "%{customdata}<extra></extra>",
         "insidetextanchor": "middle",
         "marker": {
          "color": "#8C564B",
          "line": {
           "color": "white",
           "width": 0.5
          },
          "pattern": {
           "fgcolor": "white",
           "fgopacity": 0.5,
           "shape": "",
           "solidity": 0.25
          }
         },
         "name": "6",
         "orientation": "h",
         "showlegend": true,
         "text": [
          "6",
          "6",
          "6",
          "6",
          "6",
          "6",
          "6",
          "6",
          "6",
          "6",
          "6",
          "6"
         ],
         "textposition": "inside",
         "type": "bar",
         "width": 1,
         "x": [
          19.14,
          12.840000000000003,
          19.139999999999997,
          12.829999999999998,
          19.139999999999997,
          10.909999999999997,
          22.319999999999997,
          11.560000000000002,
          15.959999999999997,
          10.260000000000005,
          15.959999999999997,
          10.260000000000005
         ],
         "xaxis": "x2",
         "y": [
          "L07",
          "L07",
          "L08",
          "L08",
          "L09",
          "L09",
          "L10",
          "L10",
          "L11",
          "L11",
          "L12",
          "L12"
         ],
         "yaxis": "y2"
        },
        {
         "base": [
          152.97,
          152.97,
          159.92,
          159.28,
          158.65,
          152.97
         ],
         "customdata": [
          "<b>5</b><br>Layer: L07<br>Start: 152.970s<br>End: 169.520s<br>Duration: 16.550s",
          "<b>5</b><br>Layer: L08<br>Start: 152.970s<br>End: 169.520s<br>Duration: 16.550s",
          "<b>5</b><br>Layer: L09<br>Start: 159.920s<br>End: 169.520s<br>Duration: 9.600s",
          "<b>5</b><br>Layer: L10<br>Start: 159.280s<br>End: 168.890s<br>Duration: 9.610s",
          "<b>5</b><br>Layer: L11<br>Start: 158.650s<br>End: 171.470s<br>Duration: 12.820s",
          "<b>5</b><br>Layer: L12<br>Start: 152.970s<br>End: 170.820s<br>Duration: 17.850s"
         ],
         "hovertemplate": "%{customdata}<extra></extra>",
         "insidetextanchor": "middle",
         "marker": {
          "color": "#E377C2",
          "line": {
           "color": "white",
           "width": 0.5
          },
          "pattern": {
           "fgcolor": "white",
           "fgopacity": 0.5,
           "shape": "",
           "solidity": 0.25
          }
         },
         "name": "5",
         "orientation": "h",
         "showlegend": true,
         "text": [
          "5",
          "5",
          "5",
          "5",
          "5",
          "5"
         ],
         "textposition": "inside",
         "type": "bar",
         "width": 1,
         "x": [
          16.55000000000001,
          16.55000000000001,
          9.600000000000023,
          9.609999999999985,
          12.819999999999993,
          17.849999999999994
         ],
         "xaxis": "x2",
         "y": [
          "L07",
          "L08",
          "L09",
          "L10",
          "L11",
          "L12"
         ],
         "yaxis": "y2"
        },
        {
         "base": [
          109.28
         ],
         "customdata": [
          "<b>11</b><br>Layer: L12<br>Start: 109.280s<br>End: 117.600s<br>Duration: 8.320s"
         ],
         "hovertemplate": "%{customdata}<extra></extra>",
         "insidetextanchor": "middle",
         "marker": {
          "color": "#7F7F7F",
          "line": {
           "color": "white",
           "width": 0.5
          },
          "pattern": {
           "fgcolor": "white",
           "fgopacity": 0.5,
           "shape": "",
           "solidity": 0.25
          }
         },
         "name": "11",
         "orientation": "h",
         "showlegend": true,
         "text": [
          "11"
         ],
         "textposition": "inside",
         "type": "bar",
         "width": 1,
         "x": [
          8.319999999999993
         ],
         "xaxis": "x2",
         "y": [
          "L12"
         ],
         "yaxis": "y2"
        },
        {
         "hovertemplate": "<b>Boundary</b><br>Time: %{x:.3f}s<br>Salience: %{y:.3f}<extra></extra>",
         "line": {
          "color": "black",
          "width": 1.5
         },
         "mode": "lines",
         "type": "scatter",
         "x": [
          8.54,
          8.54,
          null,
          9.8,
          9.8,
          null,
          11.06,
          11.06,
          null,
          12.98,
          12.98,
          null,
          13.61,
          13.61,
          null,
          16.16,
          16.16,
          null,
          32.12,
          32.12,
          null,
          32.75,
          32.75,
          null,
          54.6,
          54.6,
          null,
          55.25,
          55.25,
          null,
          61.67,
          61.67,
          null,
          62.31,
          62.31,
          null,
          63.59,
          63.59,
          null,
          64.24,
          64.24,
          null,
          74.5,
          74.5,
          null,
          75.15,
          75.15,
          null,
          93.14,
          93.14,
          null,
          93.81,
          93.81,
          null,
          94.44,
          94.44,
          null,
          103.47,
          103.47,
          null,
          104.14,
          104.14,
          null,
          104.77,
          104.77,
          null,
          105.4,
          105.4,
          null,
          109.28,
          109.28,
          null,
          111.83,
          111.83,
          null,
          117.6,
          117.6,
          null,
          152.97,
          152.97,
          null,
          153.6,
          153.6,
          null,
          158.65,
          158.65,
          null,
          159.28,
          159.28,
          null,
          159.92,
          159.92,
          null,
          168.89,
          168.89,
          null,
          169.52,
          169.52,
          null,
          170.82,
          170.82,
          null,
          171.47,
          171.47,
          null,
          190.02,
          190.02,
          null,
          190.65,
          190.65,
          null,
          191.31,
          191.31,
          null
         ],
         "xaxis": "x3",
         "y": [
          0,
          0.25,
          null,
          0,
          0.1,
          null,
          0,
          0.2,
          null,
          0,
          0.37777777777777777,
          null,
          0,
          0.26666666666666666,
          null,
          0,
          0.19090909090909092,
          null,
          0,
          0.502020202020202,
          null,
          0,
          0.1,
          null,
          0,
          0.2909090909090909,
          null,
          0,
          0.1,
          null,
          0,
          0.1111111111111111,
          null,
          0,
          0.1,
          null,
          0,
          0.2,
          null,
          0,
          0.19090909090909092,
          null,
          0,
          0.40202020202020206,
          null,
          0,
          0.2,
          null,
          0,
          0.49090909090909096,
          null,
          0,
          0.2,
          null,
          0,
          0.4444444444444444,
          null,
          0,
          0.43333333333333335,
          null,
          0,
          0.8944444444444444,
          null,
          0,
          0.2,
          null,
          0,
          0.1,
          null,
          0,
          0.09090909090909091,
          null,
          0,
          0.43333333333333335,
          null,
          0,
          0.09090909090909091,
          null,
          0,
          0.6353535353535354,
          null,
          0,
          0.7833333333333333,
          null,
          0,
          0.1,
          null,
          0,
          0.1,
          null,
          0,
          0.1,
          null,
          0,
          0.1,
          null,
          0,
          0.3111111111111111,
          null,
          0,
          0.09090909090909091,
          null,
          0,
          0.1,
          null,
          0,
          0.3333333333333333,
          null,
          0,
          0.41111111111111115,
          null,
          0,
          0.9742424242424241,
          null
         ],
         "yaxis": "y3"
        }
       ],
       "layout": {
        "barmode": "overlay",
        "height": 800,
        "legend": {
         "visible": false
        },
        "template": {
         "data": {
          "bar": [
           {
            "error_x": {
             "color": "#2a3f5f"
            },
            "error_y": {
             "color": "#2a3f5f"
            },
            "marker": {
             "line": {
              "color": "#E5ECF6",
              "width": 0.5
             },
             "pattern": {
              "fillmode": "overlay",
              "size": 10,
              "solidity": 0.2
             }
            },
            "type": "bar"
           }
          ],
          "barpolar": [
           {
            "marker": {
             "line": {
              "color": "#E5ECF6",
              "width": 0.5
             },
             "pattern": {
              "fillmode": "overlay",
              "size": 10,
              "solidity": 0.2
             }
            },
            "type": "barpolar"
           }
          ],
          "carpet": [
           {
            "aaxis": {
             "endlinecolor": "#2a3f5f",
             "gridcolor": "white",
             "linecolor": "white",
             "minorgridcolor": "white",
             "startlinecolor": "#2a3f5f"
            },
            "baxis": {
             "endlinecolor": "#2a3f5f",
             "gridcolor": "white",
             "linecolor": "white",
             "minorgridcolor": "white",
             "startlinecolor": "#2a3f5f"
            },
            "type": "carpet"
           }
          ],
          "choropleth": [
           {
            "colorbar": {
             "outlinewidth": 0,
             "ticks": ""
            },
            "type": "choropleth"
           }
          ],
          "contour": [
           {
            "colorbar": {
             "outlinewidth": 0,
             "ticks": ""
            },
            "colorscale": [
             [
              0,
              "#0d0887"
             ],
             [
              0.1111111111111111,
              "#46039f"
             ],
             [
              0.2222222222222222,
              "#7201a8"
             ],
             [
              0.3333333333333333,
              "#9c179e"
             ],
             [
              0.4444444444444444,
              "#bd3786"
             ],
             [
              0.5555555555555556,
              "#d8576b"
             ],
             [
              0.6666666666666666,
              "#ed7953"
             ],
             [
              0.7777777777777778,
              "#fb9f3a"
             ],
             [
              0.8888888888888888,
              "#fdca26"
             ],
             [
              1,
              "#f0f921"
             ]
            ],
            "type": "contour"
           }
          ],
          "contourcarpet": [
           {
            "colorbar": {
             "outlinewidth": 0,
             "ticks": ""
            },
            "type": "contourcarpet"
           }
          ],
          "heatmap": [
           {
            "colorbar": {
             "outlinewidth": 0,
             "ticks": ""
            },
            "colorscale": [
             [
              0,
              "#0d0887"
             ],
             [
              0.1111111111111111,
              "#46039f"
             ],
             [
              0.2222222222222222,
              "#7201a8"
             ],
             [
              0.3333333333333333,
              "#9c179e"
             ],
             [
              0.4444444444444444,
              "#bd3786"
             ],
             [
              0.5555555555555556,
              "#d8576b"
             ],
             [
              0.6666666666666666,
              "#ed7953"
             ],
             [
              0.7777777777777778,
              "#fb9f3a"
             ],
             [
              0.8888888888888888,
              "#fdca26"
             ],
             [
              1,
              "#f0f921"
             ]
            ],
            "type": "heatmap"
           }
          ],
          "histogram": [
           {
            "marker": {
             "pattern": {
              "fillmode": "overlay",
              "size": 10,
              "solidity": 0.2
             }
            },
            "type": "histogram"
           }
          ],
          "histogram2d": [
           {
            "colorbar": {
             "outlinewidth": 0,
             "ticks": ""
            },
            "colorscale": [
             [
              0,
              "#0d0887"
             ],
             [
              0.1111111111111111,
              "#46039f"
             ],
             [
              0.2222222222222222,
              "#7201a8"
             ],
             [
              0.3333333333333333,
              "#9c179e"
             ],
             [
              0.4444444444444444,
              "#bd3786"
             ],
             [
              0.5555555555555556,
              "#d8576b"
             ],
             [
              0.6666666666666666,
              "#ed7953"
             ],
             [
              0.7777777777777778,
              "#fb9f3a"
             ],
             [
              0.8888888888888888,
              "#fdca26"
             ],
             [
              1,
              "#f0f921"
             ]
            ],
            "type": "histogram2d"
           }
          ],
          "histogram2dcontour": [
           {
            "colorbar": {
             "outlinewidth": 0,
             "ticks": ""
            },
            "colorscale": [
             [
              0,
              "#0d0887"
             ],
             [
              0.1111111111111111,
              "#46039f"
             ],
             [
              0.2222222222222222,
              "#7201a8"
             ],
             [
              0.3333333333333333,
              "#9c179e"
             ],
             [
              0.4444444444444444,
              "#bd3786"
             ],
             [
              0.5555555555555556,
              "#d8576b"
             ],
             [
              0.6666666666666666,
              "#ed7953"
             ],
             [
              0.7777777777777778,
              "#fb9f3a"
             ],
             [
              0.8888888888888888,
              "#fdca26"
             ],
             [
              1,
              "#f0f921"
             ]
            ],
            "type": "histogram2dcontour"
           }
          ],
          "mesh3d": [
           {
            "colorbar": {
             "outlinewidth": 0,
             "ticks": ""
            },
            "type": "mesh3d"
           }
          ],
          "parcoords": [
           {
            "line": {
             "colorbar": {
              "outlinewidth": 0,
              "ticks": ""
             }
            },
            "type": "parcoords"
           }
          ],
          "pie": [
           {
            "automargin": true,
            "type": "pie"
           }
          ],
          "scatter": [
           {
            "fillpattern": {
             "fillmode": "overlay",
             "size": 10,
             "solidity": 0.2
            },
            "type": "scatter"
           }
          ],
          "scatter3d": [
           {
            "line": {
             "colorbar": {
              "outlinewidth": 0,
              "ticks": ""
             }
            },
            "marker": {
             "colorbar": {
              "outlinewidth": 0,
              "ticks": ""
             }
            },
            "type": "scatter3d"
           }
          ],
          "scattercarpet": [
           {
            "marker": {
             "colorbar": {
              "outlinewidth": 0,
              "ticks": ""
             }
            },
            "type": "scattercarpet"
           }
          ],
          "scattergeo": [
           {
            "marker": {
             "colorbar": {
              "outlinewidth": 0,
              "ticks": ""
             }
            },
            "type": "scattergeo"
           }
          ],
          "scattergl": [
           {
            "marker": {
             "colorbar": {
              "outlinewidth": 0,
              "ticks": ""
             }
            },
            "type": "scattergl"
           }
          ],
          "scattermap": [
           {
            "marker": {
             "colorbar": {
              "outlinewidth": 0,
              "ticks": ""
             }
            },
            "type": "scattermap"
           }
          ],
          "scattermapbox": [
           {
            "marker": {
             "colorbar": {
              "outlinewidth": 0,
              "ticks": ""
             }
            },
            "type": "scattermapbox"
           }
          ],
          "scatterpolar": [
           {
            "marker": {
             "colorbar": {
              "outlinewidth": 0,
              "ticks": ""
             }
            },
            "type": "scatterpolar"
           }
          ],
          "scatterpolargl": [
           {
            "marker": {
             "colorbar": {
              "outlinewidth": 0,
              "ticks": ""
             }
            },
            "type": "scatterpolargl"
           }
          ],
          "scatterternary": [
           {
            "marker": {
             "colorbar": {
              "outlinewidth": 0,
              "ticks": ""
             }
            },
            "type": "scatterternary"
           }
          ],
          "surface": [
           {
            "colorbar": {
             "outlinewidth": 0,
             "ticks": ""
            },
            "colorscale": [
             [
              0,
              "#0d0887"
             ],
             [
              0.1111111111111111,
              "#46039f"
             ],
             [
              0.2222222222222222,
              "#7201a8"
             ],
             [
              0.3333333333333333,
              "#9c179e"
             ],
             [
              0.4444444444444444,
              "#bd3786"
             ],
             [
              0.5555555555555556,
              "#d8576b"
             ],
             [
              0.6666666666666666,
              "#ed7953"
             ],
             [
              0.7777777777777778,
              "#fb9f3a"
             ],
             [
              0.8888888888888888,
              "#fdca26"
             ],
             [
              1,
              "#f0f921"
             ]
            ],
            "type": "surface"
           }
          ],
          "table": [
           {
            "cells": {
             "fill": {
              "color": "#EBF0F8"
             },
             "line": {
              "color": "white"
             }
            },
            "header": {
             "fill": {
              "color": "#C8D4E3"
             },
             "line": {
              "color": "white"
             }
            },
            "type": "table"
           }
          ]
         },
         "layout": {
          "annotationdefaults": {
           "arrowcolor": "#2a3f5f",
           "arrowhead": 0,
           "arrowwidth": 1
          },
          "autotypenumbers": "strict",
          "coloraxis": {
           "colorbar": {
            "outlinewidth": 0,
            "ticks": ""
           }
          },
          "colorscale": {
           "diverging": [
            [
             0,
             "#8e0152"
            ],
            [
             0.1,
             "#c51b7d"
            ],
            [
             0.2,
             "#de77ae"
            ],
            [
             0.3,
             "#f1b6da"
            ],
            [
             0.4,
             "#fde0ef"
            ],
            [
             0.5,
             "#f7f7f7"
            ],
            [
             0.6,
             "#e6f5d0"
            ],
            [
             0.7,
             "#b8e186"
            ],
            [
             0.8,
             "#7fbc41"
            ],
            [
             0.9,
             "#4d9221"
            ],
            [
             1,
             "#276419"
            ]
           ],
           "sequential": [
            [
             0,
             "#0d0887"
            ],
            [
             0.1111111111111111,
             "#46039f"
            ],
            [
             0.2222222222222222,
             "#7201a8"
            ],
            [
             0.3333333333333333,
             "#9c179e"
            ],
            [
             0.4444444444444444,
             "#bd3786"
            ],
            [
             0.5555555555555556,
             "#d8576b"
            ],
            [
             0.6666666666666666,
             "#ed7953"
            ],
            [
             0.7777777777777778,
             "#fb9f3a"
            ],
            [
             0.8888888888888888,
             "#fdca26"
            ],
            [
             1,
             "#f0f921"
            ]
           ],
           "sequentialminus": [
            [
             0,
             "#0d0887"
            ],
            [
             0.1111111111111111,
             "#46039f"
            ],
            [
             0.2222222222222222,
             "#7201a8"
            ],
            [
             0.3333333333333333,
             "#9c179e"
            ],
            [
             0.4444444444444444,
             "#bd3786"
            ],
            [
             0.5555555555555556,
             "#d8576b"
            ],
            [
             0.6666666666666666,
             "#ed7953"
            ],
            [
             0.7777777777777778,
             "#fb9f3a"
            ],
            [
             0.8888888888888888,
             "#fdca26"
            ],
            [
             1,
             "#f0f921"
            ]
           ]
          },
          "colorway": [
           "#636efa",
           "#EF553B",
           "#00cc96",
           "#ab63fa",
           "#FFA15A",
           "#19d3f3",
           "#FF6692",
           "#B6E880",
           "#FF97FF",
           "#FECB52"
          ],
          "font": {
           "color": "#2a3f5f"
          },
          "geo": {
           "bgcolor": "white",
           "lakecolor": "white",
           "landcolor": "#E5ECF6",
           "showlakes": true,
           "showland": true,
           "subunitcolor": "white"
          },
          "hoverlabel": {
           "align": "left"
          },
          "hovermode": "closest",
          "mapbox": {
           "style": "light"
          },
          "paper_bgcolor": "white",
          "plot_bgcolor": "#E5ECF6",
          "polar": {
           "angularaxis": {
            "gridcolor": "white",
            "linecolor": "white",
            "ticks": ""
           },
           "bgcolor": "#E5ECF6",
           "radialaxis": {
            "gridcolor": "white",
            "linecolor": "white",
            "ticks": ""
           }
          },
          "scene": {
           "xaxis": {
            "backgroundcolor": "#E5ECF6",
            "gridcolor": "white",
            "gridwidth": 2,
            "linecolor": "white",
            "showbackground": true,
            "ticks": "",
            "zerolinecolor": "white"
           },
           "yaxis": {
            "backgroundcolor": "#E5ECF6",
            "gridcolor": "white",
            "gridwidth": 2,
            "linecolor": "white",
            "showbackground": true,
            "ticks": "",
            "zerolinecolor": "white"
           },
           "zaxis": {
            "backgroundcolor": "#E5ECF6",
            "gridcolor": "white",
            "gridwidth": 2,
            "linecolor": "white",
            "showbackground": true,
            "ticks": "",
            "zerolinecolor": "white"
           }
          },
          "shapedefaults": {
           "line": {
            "color": "#2a3f5f"
           }
          },
          "ternary": {
           "aaxis": {
            "gridcolor": "white",
            "linecolor": "white",
            "ticks": ""
           },
           "baxis": {
            "gridcolor": "white",
            "linecolor": "white",
            "ticks": ""
           },
           "bgcolor": "#E5ECF6",
           "caxis": {
            "gridcolor": "white",
            "linecolor": "white",
            "ticks": ""
           }
          },
          "title": {
           "x": 0.05
          },
          "xaxis": {
           "automargin": true,
           "gridcolor": "white",
           "linecolor": "white",
           "ticks": "",
           "title": {
            "standoff": 15
           },
           "zerolinecolor": "white",
           "zerolinewidth": 2
          },
          "yaxis": {
           "automargin": true,
           "gridcolor": "white",
           "linecolor": "white",
           "ticks": "",
           "title": {
            "standoff": 15
           },
           "zerolinecolor": "white",
           "zerolinewidth": 2
          }
         }
        },
        "width": 650,
        "xaxis": {
         "anchor": "y",
         "domain": [
          0,
          1
         ],
         "matches": "x3",
         "showticklabels": false
        },
        "xaxis2": {
         "anchor": "y2",
         "domain": [
          0,
          1
         ],
         "matches": "x3",
         "showticklabels": false
        },
        "xaxis3": {
         "anchor": "y3",
         "domain": [
          0,
          1
         ],
         "range": [
          0,
          222.06111
         ]
        },
        "yaxis": {
         "anchor": "x",
         "categoryarray": [
          "L12",
          "L11",
          "L10",
          "L09",
          "L08",
          "L07",
          "L06",
          "L05",
          "L04",
          "L03",
          "L02",
          "L01"
         ],
         "categoryorder": "array",
         "domain": [
          0.8650000000000001,
          1
         ]
        },
        "yaxis2": {
         "anchor": "x2",
         "categoryarray": [
          "fine",
          "coarse"
         ],
         "categoryorder": "array",
         "domain": [
          0.455,
          0.8150000000000001
         ]
        },
        "yaxis3": {
         "anchor": "x3",
         "domain": [
          0,
          0.405
         ]
        }
       }
      }
     },
     "metadata": {},
     "output_type": "display_data"
    }
   ],
   "source": [
    "# Put the two figures top and bottom with shared x-axis\n",
    "from plotly.subplots import make_subplots\n",
    "\n",
    "track = slm_ds[11]\n",
    "est = track.load_annotation(\"adobe-mu1gamma9\")\n",
    "ref = track.load_annotation(\"reference\")\n",
    "fig_est = est.plot(colorscale=\"D3\")\n",
    "fig_ref = ref.plot(colorscale=\"D3\")\n",
    "\n",
    "fig = make_subplots(\n",
    "    rows=3,\n",
    "    cols=1,\n",
    "    shared_xaxes=True,\n",
    "    vertical_spacing=0.05,\n",
    "    row_heights=[0.15, 0.4, 0.45],\n",
    ")\n",
    "\n",
    "for trace in fig_ref.data:\n",
    "    fig.add_trace(trace, row=1, col=1)\n",
    "for trace in fig_est.data:\n",
    "    fig.add_trace(trace, row=2, col=1)\n",
    "for trace in est.to_contour('prob').plot().data:\n",
    "    fig.add_trace(trace, row=3, col=1)\n",
    "\n",
    "fig.update_layout(\n",
    "    xaxis3_range=[ref.start.time, ref.end.time],\n",
    "    barmode=\"overlay\",\n",
    "    yaxis1=dict(\n",
    "        categoryorder=\"array\",\n",
    "        categoryarray=[layer.name for layer in reversed(est)],\n",
    "    ),\n",
    "    yaxis2=dict(\n",
    "        categoryorder=\"array\",\n",
    "        categoryarray=[layer.name for layer in reversed(ref)],\n",
    "    ),\n",
    ")\n",
    "fig.update_layout(height=800, width=650, legend_visible=False)\n",
    "fig.show()"
   ]
  },
  {
   "cell_type": "code",
   "execution_count": 86,
   "metadata": {},
   "outputs": [
    {
     "data": {
      "application/vnd.plotly.v1+json": {
       "config": {
        "plotlyServerURL": "https://plot.ly"
       },
       "data": [
        {
         "hovertemplate": "<b>Boundary</b><br>Time: %{x:.3f}s<br>Salience: %{y:.3f}<extra></extra>",
         "line": {
          "color": "black",
          "width": 1.5
         },
         "mode": "lines",
         "type": "scatter",
         "x": [
          8.54,
          8.54,
          null,
          9.8,
          9.8,
          null,
          11.06,
          11.06,
          null,
          12.98,
          12.98,
          null,
          13.61,
          13.61,
          null,
          16.16,
          16.16,
          null,
          32.12,
          32.12,
          null,
          32.75,
          32.75,
          null,
          54.6,
          54.6,
          null,
          55.25,
          55.25,
          null,
          61.67,
          61.67,
          null,
          62.31,
          62.31,
          null,
          63.59,
          63.59,
          null,
          64.24,
          64.24,
          null,
          74.5,
          74.5,
          null,
          75.15,
          75.15,
          null,
          93.14,
          93.14,
          null,
          93.81,
          93.81,
          null,
          94.44,
          94.44,
          null,
          103.47,
          103.47,
          null,
          104.14,
          104.14,
          null,
          104.77,
          104.77,
          null,
          105.4,
          105.4,
          null,
          109.28,
          109.28,
          null,
          111.83,
          111.83,
          null,
          117.6,
          117.6,
          null,
          152.97,
          152.97,
          null,
          153.6,
          153.6,
          null,
          158.65,
          158.65,
          null,
          159.28,
          159.28,
          null,
          159.92,
          159.92,
          null,
          168.89,
          168.89,
          null,
          169.52,
          169.52,
          null,
          170.82,
          170.82,
          null,
          171.47,
          171.47,
          null,
          190.02,
          190.02,
          null,
          190.65,
          190.65,
          null,
          191.31,
          191.31,
          null
         ],
         "y": [
          0,
          0.25,
          null,
          0,
          0.1,
          null,
          0,
          0.2,
          null,
          0,
          0.37777777777777777,
          null,
          0,
          0.26666666666666666,
          null,
          0,
          0.19090909090909092,
          null,
          0,
          0.502020202020202,
          null,
          0,
          0.1,
          null,
          0,
          0.2909090909090909,
          null,
          0,
          0.1,
          null,
          0,
          0.1111111111111111,
          null,
          0,
          0.1,
          null,
          0,
          0.2,
          null,
          0,
          0.19090909090909092,
          null,
          0,
          0.40202020202020206,
          null,
          0,
          0.2,
          null,
          0,
          0.49090909090909096,
          null,
          0,
          0.2,
          null,
          0,
          0.4444444444444444,
          null,
          0,
          0.43333333333333335,
          null,
          0,
          0.8944444444444444,
          null,
          0,
          0.2,
          null,
          0,
          0.1,
          null,
          0,
          0.09090909090909091,
          null,
          0,
          0.43333333333333335,
          null,
          0,
          0.09090909090909091,
          null,
          0,
          0.6353535353535354,
          null,
          0,
          0.7833333333333333,
          null,
          0,
          0.1,
          null,
          0,
          0.1,
          null,
          0,
          0.1,
          null,
          0,
          0.1,
          null,
          0,
          0.3111111111111111,
          null,
          0,
          0.09090909090909091,
          null,
          0,
          0.1,
          null,
          0,
          0.3333333333333333,
          null,
          0,
          0.41111111111111115,
          null,
          0,
          0.9742424242424241,
          null
         ]
        }
       ],
       "layout": {
        "height": 300,
        "margin": {
         "b": 20,
         "l": 20,
         "r": 20,
         "t": 40
        },
        "shapes": [
         {
          "line": {
           "color": "black",
           "width": 1
          },
          "opacity": 0.5,
          "type": "line",
          "x0": 0,
          "x1": 1,
          "xref": "x domain",
          "y0": 0,
          "y1": 0,
          "yref": "y"
         }
        ],
        "showlegend": false,
        "template": {
         "data": {
          "bar": [
           {
            "error_x": {
             "color": "#2a3f5f"
            },
            "error_y": {
             "color": "#2a3f5f"
            },
            "marker": {
             "line": {
              "color": "#E5ECF6",
              "width": 0.5
             },
             "pattern": {
              "fillmode": "overlay",
              "size": 10,
              "solidity": 0.2
             }
            },
            "type": "bar"
           }
          ],
          "barpolar": [
           {
            "marker": {
             "line": {
              "color": "#E5ECF6",
              "width": 0.5
             },
             "pattern": {
              "fillmode": "overlay",
              "size": 10,
              "solidity": 0.2
             }
            },
            "type": "barpolar"
           }
          ],
          "carpet": [
           {
            "aaxis": {
             "endlinecolor": "#2a3f5f",
             "gridcolor": "white",
             "linecolor": "white",
             "minorgridcolor": "white",
             "startlinecolor": "#2a3f5f"
            },
            "baxis": {
             "endlinecolor": "#2a3f5f",
             "gridcolor": "white",
             "linecolor": "white",
             "minorgridcolor": "white",
             "startlinecolor": "#2a3f5f"
            },
            "type": "carpet"
           }
          ],
          "choropleth": [
           {
            "colorbar": {
             "outlinewidth": 0,
             "ticks": ""
            },
            "type": "choropleth"
           }
          ],
          "contour": [
           {
            "colorbar": {
             "outlinewidth": 0,
             "ticks": ""
            },
            "colorscale": [
             [
              0,
              "#0d0887"
             ],
             [
              0.1111111111111111,
              "#46039f"
             ],
             [
              0.2222222222222222,
              "#7201a8"
             ],
             [
              0.3333333333333333,
              "#9c179e"
             ],
             [
              0.4444444444444444,
              "#bd3786"
             ],
             [
              0.5555555555555556,
              "#d8576b"
             ],
             [
              0.6666666666666666,
              "#ed7953"
             ],
             [
              0.7777777777777778,
              "#fb9f3a"
             ],
             [
              0.8888888888888888,
              "#fdca26"
             ],
             [
              1,
              "#f0f921"
             ]
            ],
            "type": "contour"
           }
          ],
          "contourcarpet": [
           {
            "colorbar": {
             "outlinewidth": 0,
             "ticks": ""
            },
            "type": "contourcarpet"
           }
          ],
          "heatmap": [
           {
            "colorbar": {
             "outlinewidth": 0,
             "ticks": ""
            },
            "colorscale": [
             [
              0,
              "#0d0887"
             ],
             [
              0.1111111111111111,
              "#46039f"
             ],
             [
              0.2222222222222222,
              "#7201a8"
             ],
             [
              0.3333333333333333,
              "#9c179e"
             ],
             [
              0.4444444444444444,
              "#bd3786"
             ],
             [
              0.5555555555555556,
              "#d8576b"
             ],
             [
              0.6666666666666666,
              "#ed7953"
             ],
             [
              0.7777777777777778,
              "#fb9f3a"
             ],
             [
              0.8888888888888888,
              "#fdca26"
             ],
             [
              1,
              "#f0f921"
             ]
            ],
            "type": "heatmap"
           }
          ],
          "histogram": [
           {
            "marker": {
             "pattern": {
              "fillmode": "overlay",
              "size": 10,
              "solidity": 0.2
             }
            },
            "type": "histogram"
           }
          ],
          "histogram2d": [
           {
            "colorbar": {
             "outlinewidth": 0,
             "ticks": ""
            },
            "colorscale": [
             [
              0,
              "#0d0887"
             ],
             [
              0.1111111111111111,
              "#46039f"
             ],
             [
              0.2222222222222222,
              "#7201a8"
             ],
             [
              0.3333333333333333,
              "#9c179e"
             ],
             [
              0.4444444444444444,
              "#bd3786"
             ],
             [
              0.5555555555555556,
              "#d8576b"
             ],
             [
              0.6666666666666666,
              "#ed7953"
             ],
             [
              0.7777777777777778,
              "#fb9f3a"
             ],
             [
              0.8888888888888888,
              "#fdca26"
             ],
             [
              1,
              "#f0f921"
             ]
            ],
            "type": "histogram2d"
           }
          ],
          "histogram2dcontour": [
           {
            "colorbar": {
             "outlinewidth": 0,
             "ticks": ""
            },
            "colorscale": [
             [
              0,
              "#0d0887"
             ],
             [
              0.1111111111111111,
              "#46039f"
             ],
             [
              0.2222222222222222,
              "#7201a8"
             ],
             [
              0.3333333333333333,
              "#9c179e"
             ],
             [
              0.4444444444444444,
              "#bd3786"
             ],
             [
              0.5555555555555556,
              "#d8576b"
             ],
             [
              0.6666666666666666,
              "#ed7953"
             ],
             [
              0.7777777777777778,
              "#fb9f3a"
             ],
             [
              0.8888888888888888,
              "#fdca26"
             ],
             [
              1,
              "#f0f921"
             ]
            ],
            "type": "histogram2dcontour"
           }
          ],
          "mesh3d": [
           {
            "colorbar": {
             "outlinewidth": 0,
             "ticks": ""
            },
            "type": "mesh3d"
           }
          ],
          "parcoords": [
           {
            "line": {
             "colorbar": {
              "outlinewidth": 0,
              "ticks": ""
             }
            },
            "type": "parcoords"
           }
          ],
          "pie": [
           {
            "automargin": true,
            "type": "pie"
           }
          ],
          "scatter": [
           {
            "fillpattern": {
             "fillmode": "overlay",
             "size": 10,
             "solidity": 0.2
            },
            "type": "scatter"
           }
          ],
          "scatter3d": [
           {
            "line": {
             "colorbar": {
              "outlinewidth": 0,
              "ticks": ""
             }
            },
            "marker": {
             "colorbar": {
              "outlinewidth": 0,
              "ticks": ""
             }
            },
            "type": "scatter3d"
           }
          ],
          "scattercarpet": [
           {
            "marker": {
             "colorbar": {
              "outlinewidth": 0,
              "ticks": ""
             }
            },
            "type": "scattercarpet"
           }
          ],
          "scattergeo": [
           {
            "marker": {
             "colorbar": {
              "outlinewidth": 0,
              "ticks": ""
             }
            },
            "type": "scattergeo"
           }
          ],
          "scattergl": [
           {
            "marker": {
             "colorbar": {
              "outlinewidth": 0,
              "ticks": ""
             }
            },
            "type": "scattergl"
           }
          ],
          "scattermap": [
           {
            "marker": {
             "colorbar": {
              "outlinewidth": 0,
              "ticks": ""
             }
            },
            "type": "scattermap"
           }
          ],
          "scattermapbox": [
           {
            "marker": {
             "colorbar": {
              "outlinewidth": 0,
              "ticks": ""
             }
            },
            "type": "scattermapbox"
           }
          ],
          "scatterpolar": [
           {
            "marker": {
             "colorbar": {
              "outlinewidth": 0,
              "ticks": ""
             }
            },
            "type": "scatterpolar"
           }
          ],
          "scatterpolargl": [
           {
            "marker": {
             "colorbar": {
              "outlinewidth": 0,
              "ticks": ""
             }
            },
            "type": "scatterpolargl"
           }
          ],
          "scatterternary": [
           {
            "marker": {
             "colorbar": {
              "outlinewidth": 0,
              "ticks": ""
             }
            },
            "type": "scatterternary"
           }
          ],
          "surface": [
           {
            "colorbar": {
             "outlinewidth": 0,
             "ticks": ""
            },
            "colorscale": [
             [
              0,
              "#0d0887"
             ],
             [
              0.1111111111111111,
              "#46039f"
             ],
             [
              0.2222222222222222,
              "#7201a8"
             ],
             [
              0.3333333333333333,
              "#9c179e"
             ],
             [
              0.4444444444444444,
              "#bd3786"
             ],
             [
              0.5555555555555556,
              "#d8576b"
             ],
             [
              0.6666666666666666,
              "#ed7953"
             ],
             [
              0.7777777777777778,
              "#fb9f3a"
             ],
             [
              0.8888888888888888,
              "#fdca26"
             ],
             [
              1,
              "#f0f921"
             ]
            ],
            "type": "surface"
           }
          ],
          "table": [
           {
            "cells": {
             "fill": {
              "color": "#EBF0F8"
             },
             "line": {
              "color": "white"
             }
            },
            "header": {
             "fill": {
              "color": "#C8D4E3"
             },
             "line": {
              "color": "white"
             }
            },
            "type": "table"
           }
          ]
         },
         "layout": {
          "annotationdefaults": {
           "arrowcolor": "#2a3f5f",
           "arrowhead": 0,
           "arrowwidth": 1
          },
          "autotypenumbers": "strict",
          "coloraxis": {
           "colorbar": {
            "outlinewidth": 0,
            "ticks": ""
           }
          },
          "colorscale": {
           "diverging": [
            [
             0,
             "#8e0152"
            ],
            [
             0.1,
             "#c51b7d"
            ],
            [
             0.2,
             "#de77ae"
            ],
            [
             0.3,
             "#f1b6da"
            ],
            [
             0.4,
             "#fde0ef"
            ],
            [
             0.5,
             "#f7f7f7"
            ],
            [
             0.6,
             "#e6f5d0"
            ],
            [
             0.7,
             "#b8e186"
            ],
            [
             0.8,
             "#7fbc41"
            ],
            [
             0.9,
             "#4d9221"
            ],
            [
             1,
             "#276419"
            ]
           ],
           "sequential": [
            [
             0,
             "#0d0887"
            ],
            [
             0.1111111111111111,
             "#46039f"
            ],
            [
             0.2222222222222222,
             "#7201a8"
            ],
            [
             0.3333333333333333,
             "#9c179e"
            ],
            [
             0.4444444444444444,
             "#bd3786"
            ],
            [
             0.5555555555555556,
             "#d8576b"
            ],
            [
             0.6666666666666666,
             "#ed7953"
            ],
            [
             0.7777777777777778,
             "#fb9f3a"
            ],
            [
             0.8888888888888888,
             "#fdca26"
            ],
            [
             1,
             "#f0f921"
            ]
           ],
           "sequentialminus": [
            [
             0,
             "#0d0887"
            ],
            [
             0.1111111111111111,
             "#46039f"
            ],
            [
             0.2222222222222222,
             "#7201a8"
            ],
            [
             0.3333333333333333,
             "#9c179e"
            ],
            [
             0.4444444444444444,
             "#bd3786"
            ],
            [
             0.5555555555555556,
             "#d8576b"
            ],
            [
             0.6666666666666666,
             "#ed7953"
            ],
            [
             0.7777777777777778,
             "#fb9f3a"
            ],
            [
             0.8888888888888888,
             "#fdca26"
            ],
            [
             1,
             "#f0f921"
            ]
           ]
          },
          "colorway": [
           "#636efa",
           "#EF553B",
           "#00cc96",
           "#ab63fa",
           "#FFA15A",
           "#19d3f3",
           "#FF6692",
           "#B6E880",
           "#FF97FF",
           "#FECB52"
          ],
          "font": {
           "color": "#2a3f5f"
          },
          "geo": {
           "bgcolor": "white",
           "lakecolor": "white",
           "landcolor": "#E5ECF6",
           "showlakes": true,
           "showland": true,
           "subunitcolor": "white"
          },
          "hoverlabel": {
           "align": "left"
          },
          "hovermode": "closest",
          "mapbox": {
           "style": "light"
          },
          "paper_bgcolor": "white",
          "plot_bgcolor": "#E5ECF6",
          "polar": {
           "angularaxis": {
            "gridcolor": "white",
            "linecolor": "white",
            "ticks": ""
           },
           "bgcolor": "#E5ECF6",
           "radialaxis": {
            "gridcolor": "white",
            "linecolor": "white",
            "ticks": ""
           }
          },
          "scene": {
           "xaxis": {
            "backgroundcolor": "#E5ECF6",
            "gridcolor": "white",
            "gridwidth": 2,
            "linecolor": "white",
            "showbackground": true,
            "ticks": "",
            "zerolinecolor": "white"
           },
           "yaxis": {
            "backgroundcolor": "#E5ECF6",
            "gridcolor": "white",
            "gridwidth": 2,
            "linecolor": "white",
            "showbackground": true,
            "ticks": "",
            "zerolinecolor": "white"
           },
           "zaxis": {
            "backgroundcolor": "#E5ECF6",
            "gridcolor": "white",
            "gridwidth": 2,
            "linecolor": "white",
            "showbackground": true,
            "ticks": "",
            "zerolinecolor": "white"
           }
          },
          "shapedefaults": {
           "line": {
            "color": "#2a3f5f"
           }
          },
          "ternary": {
           "aaxis": {
            "gridcolor": "white",
            "linecolor": "white",
            "ticks": ""
           },
           "baxis": {
            "gridcolor": "white",
            "linecolor": "white",
            "ticks": ""
           },
           "bgcolor": "#E5ECF6",
           "caxis": {
            "gridcolor": "white",
            "linecolor": "white",
            "ticks": ""
           }
          },
          "title": {
           "x": 0.05
          },
          "xaxis": {
           "automargin": true,
           "gridcolor": "white",
           "linecolor": "white",
           "ticks": "",
           "title": {
            "standoff": 15
           },
           "zerolinecolor": "white",
           "zerolinewidth": 2
          },
          "yaxis": {
           "automargin": true,
           "gridcolor": "white",
           "linecolor": "white",
           "ticks": "",
           "title": {
            "standoff": 15
           },
           "zerolinecolor": "white",
           "zerolinewidth": 2
          }
         }
        },
        "title": {
         "text": "adobe-mu1gamma9",
         "x": 0.5
        },
        "width": 750,
        "xaxis": {
         "range": [
          0,
          222.04082
         ],
         "title": {
          "text": "Time (s)"
         }
        },
        "yaxis": {
         "title": {
          "text": "Salience"
         }
        }
       }
      }
     },
     "metadata": {},
     "output_type": "display_data"
    }
   ],
   "source": [
    "(est.to_contour('prob')\n",
    " .plot()\n",
    " .update_layout(height=300, width=750)\n",
    " .show()\n",
    ")"
   ]
  },
  {
   "cell_type": "code",
   "execution_count": null,
   "metadata": {},
   "outputs": [],
   "source": []
  }
 ],
 "metadata": {
  "kernelspec": {
   "display_name": "default",
   "language": "python",
   "name": "python3"
  },
  "language_info": {
   "codemirror_mode": {
    "name": "ipython",
    "version": 3
   },
   "file_extension": ".py",
   "mimetype": "text/x-python",
   "name": "python",
   "nbconvert_exporter": "python",
   "pygments_lexer": "ipython3",
   "version": "3.12.11"
  }
 },
 "nbformat": 4,
 "nbformat_minor": 2
}
