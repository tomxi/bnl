{
 "cells": [
  {
   "cell_type": "markdown",
   "metadata": {},
   "source": [
    "# BNL Development Notebook\n",
    "\n",
    "This notebook is for developing and testing the BNL package.\n"
   ]
  },
  {
   "cell_type": "code",
   "execution_count": 27,
   "metadata": {},
   "outputs": [
    {
     "data": {
      "text/plain": [
       "<bnl.data.Dataset at 0x147d87f50>"
      ]
     },
     "execution_count": 27,
     "metadata": {},
     "output_type": "execute_result"
    }
   ],
   "source": [
    "from bnl import data\n",
    "from pathlib import Path\n",
    "\n",
    "TRACK_ID = \"8\"\n",
    "FIXTURES_DIR = Path(\"../tests/fixtures\")\n",
    "TEST_MANIFEST = FIXTURES_DIR / \"test_manifest.csv\"\n",
    "\n",
    "dataset = data.Dataset(TEST_MANIFEST)\n",
    "\n",
    "dataset"
   ]
  },
  {
   "cell_type": "code",
   "execution_count": 34,
   "metadata": {},
   "outputs": [],
   "source": [
    "slm_ds = bnl.data.Dataset(manifest_path=\"~/data/salami/metadata.csv\")"
   ]
  },
  {
   "cell_type": "code",
   "execution_count": 36,
   "metadata": {},
   "outputs": [
    {
     "data": {
      "text/html": [
       "<div>\n",
       "<style scoped>\n",
       "    .dataframe tbody tr th:only-of-type {\n",
       "        vertical-align: middle;\n",
       "    }\n",
       "\n",
       "    .dataframe tbody tr th {\n",
       "        vertical-align: top;\n",
       "    }\n",
       "\n",
       "    .dataframe thead th {\n",
       "        text-align: right;\n",
       "    }\n",
       "</style>\n",
       "<table border=\"1\" class=\"dataframe\">\n",
       "  <thead>\n",
       "    <tr style=\"text-align: right;\">\n",
       "      <th></th>\n",
       "      <th>track_id</th>\n",
       "      <th>has_annotation_adobe-mu1gamma1</th>\n",
       "      <th>has_annotation_adobe-mu1gamma9</th>\n",
       "      <th>has_annotation_adobe-mu5gamma5</th>\n",
       "      <th>has_annotation_reference</th>\n",
       "      <th>has_audio_mp3</th>\n",
       "    </tr>\n",
       "    <tr>\n",
       "      <th>track_id</th>\n",
       "      <th></th>\n",
       "      <th></th>\n",
       "      <th></th>\n",
       "      <th></th>\n",
       "      <th></th>\n",
       "      <th></th>\n",
       "    </tr>\n",
       "  </thead>\n",
       "  <tbody>\n",
       "    <tr>\n",
       "      <th>2</th>\n",
       "      <td>2</td>\n",
       "      <td>True</td>\n",
       "      <td>True</td>\n",
       "      <td>True</td>\n",
       "      <td>True</td>\n",
       "      <td>True</td>\n",
       "    </tr>\n",
       "    <tr>\n",
       "      <th>3</th>\n",
       "      <td>3</td>\n",
       "      <td>True</td>\n",
       "      <td>True</td>\n",
       "      <td>True</td>\n",
       "      <td>True</td>\n",
       "      <td>True</td>\n",
       "    </tr>\n",
       "    <tr>\n",
       "      <th>4</th>\n",
       "      <td>4</td>\n",
       "      <td>True</td>\n",
       "      <td>True</td>\n",
       "      <td>True</td>\n",
       "      <td>True</td>\n",
       "      <td>True</td>\n",
       "    </tr>\n",
       "    <tr>\n",
       "      <th>5</th>\n",
       "      <td>5</td>\n",
       "      <td>True</td>\n",
       "      <td>True</td>\n",
       "      <td>True</td>\n",
       "      <td>True</td>\n",
       "      <td>True</td>\n",
       "    </tr>\n",
       "    <tr>\n",
       "      <th>6</th>\n",
       "      <td>6</td>\n",
       "      <td>True</td>\n",
       "      <td>True</td>\n",
       "      <td>True</td>\n",
       "      <td>True</td>\n",
       "      <td>True</td>\n",
       "    </tr>\n",
       "    <tr>\n",
       "      <th>...</th>\n",
       "      <td>...</td>\n",
       "      <td>...</td>\n",
       "      <td>...</td>\n",
       "      <td>...</td>\n",
       "      <td>...</td>\n",
       "      <td>...</td>\n",
       "    </tr>\n",
       "    <tr>\n",
       "      <th>1650</th>\n",
       "      <td>1650</td>\n",
       "      <td>True</td>\n",
       "      <td>True</td>\n",
       "      <td>True</td>\n",
       "      <td>True</td>\n",
       "      <td>True</td>\n",
       "    </tr>\n",
       "    <tr>\n",
       "      <th>1652</th>\n",
       "      <td>1652</td>\n",
       "      <td>True</td>\n",
       "      <td>True</td>\n",
       "      <td>True</td>\n",
       "      <td>True</td>\n",
       "      <td>True</td>\n",
       "    </tr>\n",
       "    <tr>\n",
       "      <th>1653</th>\n",
       "      <td>1653</td>\n",
       "      <td>True</td>\n",
       "      <td>True</td>\n",
       "      <td>True</td>\n",
       "      <td>True</td>\n",
       "      <td>True</td>\n",
       "    </tr>\n",
       "    <tr>\n",
       "      <th>1654</th>\n",
       "      <td>1654</td>\n",
       "      <td>True</td>\n",
       "      <td>True</td>\n",
       "      <td>True</td>\n",
       "      <td>True</td>\n",
       "      <td>True</td>\n",
       "    </tr>\n",
       "    <tr>\n",
       "      <th>1655</th>\n",
       "      <td>1655</td>\n",
       "      <td>True</td>\n",
       "      <td>True</td>\n",
       "      <td>True</td>\n",
       "      <td>True</td>\n",
       "      <td>True</td>\n",
       "    </tr>\n",
       "  </tbody>\n",
       "</table>\n",
       "<p>1359 rows × 6 columns</p>\n",
       "</div>"
      ],
      "text/plain": [
       "         track_id  has_annotation_adobe-mu1gamma1  \\\n",
       "track_id                                            \n",
       "2               2                            True   \n",
       "3               3                            True   \n",
       "4               4                            True   \n",
       "5               5                            True   \n",
       "6               6                            True   \n",
       "...           ...                             ...   \n",
       "1650         1650                            True   \n",
       "1652         1652                            True   \n",
       "1653         1653                            True   \n",
       "1654         1654                            True   \n",
       "1655         1655                            True   \n",
       "\n",
       "          has_annotation_adobe-mu1gamma9  has_annotation_adobe-mu5gamma5  \\\n",
       "track_id                                                                   \n",
       "2                                   True                            True   \n",
       "3                                   True                            True   \n",
       "4                                   True                            True   \n",
       "5                                   True                            True   \n",
       "6                                   True                            True   \n",
       "...                                  ...                             ...   \n",
       "1650                                True                            True   \n",
       "1652                                True                            True   \n",
       "1653                                True                            True   \n",
       "1654                                True                            True   \n",
       "1655                                True                            True   \n",
       "\n",
       "          has_annotation_reference  has_audio_mp3  \n",
       "track_id                                           \n",
       "2                             True           True  \n",
       "3                             True           True  \n",
       "4                             True           True  \n",
       "5                             True           True  \n",
       "6                             True           True  \n",
       "...                            ...            ...  \n",
       "1650                          True           True  \n",
       "1652                          True           True  \n",
       "1653                          True           True  \n",
       "1654                          True           True  \n",
       "1655                          True           True  \n",
       "\n",
       "[1359 rows x 6 columns]"
      ]
     },
     "execution_count": 36,
     "metadata": {},
     "output_type": "execute_result"
    }
   ],
   "source": [
    "slm_ds.manifest"
   ]
  },
  {
   "cell_type": "code",
   "execution_count": 33,
   "metadata": {},
   "outputs": [
    {
     "data": {
      "text/plain": [
       "Track(track_id='2', num_assets=5, source='cloud')"
      ]
     },
     "execution_count": 33,
     "metadata": {},
     "output_type": "execute_result"
    }
   ],
   "source": [
    "dataset[2]"
   ]
  },
  {
   "cell_type": "code",
   "execution_count": 23,
   "metadata": {},
   "outputs": [
    {
     "name": "stdout",
     "output_type": "stream",
     "text": [
      "The autoreload extension is already loaded. To reload it, use:\n",
      "  %reload_ext autoreload\n"
     ]
    },
    {
     "ename": "ValueError",
     "evalue": "All layers must have the same end time.",
     "output_type": "error",
     "traceback": [
      "\u001b[31m---------------------------------------------------------------------------\u001b[39m",
      "\u001b[31mValueError\u001b[39m                                Traceback (most recent call last)",
      "\u001b[36mCell\u001b[39m\u001b[36m \u001b[39m\u001b[32mIn[23]\u001b[39m\u001b[32m, line 11\u001b[39m\n\u001b[32m      8\u001b[39m \u001b[38;5;66;03m# slm_ds = bnl.data.Dataset()\u001b[39;00m\n\u001b[32m      9\u001b[39m track = slm_ds[\u001b[32m11\u001b[39m]\n\u001b[32m---> \u001b[39m\u001b[32m11\u001b[39m available_refs = \u001b[38;5;28mlist\u001b[39m(\u001b[43mtrack\u001b[49m\u001b[43m.\u001b[49m\u001b[43mrefs\u001b[49m)\n\u001b[32m     12\u001b[39m available_ests = \u001b[38;5;28mlist\u001b[39m(track.ests)\n\u001b[32m     13\u001b[39m \u001b[38;5;28mprint\u001b[39m(available_refs, available_ests)\n",
      "\u001b[36mFile \u001b[39m\u001b[32m~/code/bnl/src/bnl/data.py:85\u001b[39m, in \u001b[36mTrack.refs\u001b[39m\u001b[34m(self)\u001b[39m\n\u001b[32m     83\u001b[39m \u001b[38;5;28;01melse\u001b[39;00m:\n\u001b[32m     84\u001b[39m     annotators = []\n\u001b[32m---> \u001b[39m\u001b[32m85\u001b[39m \u001b[38;5;28mself\u001b[39m._refs = \u001b[43m{\u001b[49m\u001b[43ma_id\u001b[49m\u001b[43m:\u001b[49m\u001b[43m \u001b[49m\u001b[38;5;28;43mself\u001b[39;49m\u001b[43m.\u001b[49m\u001b[43mload_annotation\u001b[49m\u001b[43m(\u001b[49m\u001b[33;43m\"\u001b[39;49m\u001b[33;43mreference\u001b[39;49m\u001b[33;43m\"\u001b[39;49m\u001b[43m,\u001b[49m\u001b[43m \u001b[49m\u001b[43ma_id\u001b[49m\u001b[43m)\u001b[49m\u001b[43m \u001b[49m\u001b[38;5;28;43;01mfor\u001b[39;49;00m\u001b[43m \u001b[49m\u001b[43ma_id\u001b[49m\u001b[43m \u001b[49m\u001b[38;5;129;43;01min\u001b[39;49;00m\u001b[43m \u001b[49m\u001b[43mannotators\u001b[49m\u001b[43m}\u001b[49m\n\u001b[32m     86\u001b[39m \u001b[38;5;28;01mreturn\u001b[39;00m \u001b[38;5;28mself\u001b[39m._refs\n",
      "\u001b[36mFile \u001b[39m\u001b[32m~/code/bnl/src/bnl/data.py:85\u001b[39m, in \u001b[36m<dictcomp>\u001b[39m\u001b[34m(.0)\u001b[39m\n\u001b[32m     83\u001b[39m \u001b[38;5;28;01melse\u001b[39;00m:\n\u001b[32m     84\u001b[39m     annotators = []\n\u001b[32m---> \u001b[39m\u001b[32m85\u001b[39m \u001b[38;5;28mself\u001b[39m._refs = {a_id: \u001b[38;5;28;43mself\u001b[39;49m\u001b[43m.\u001b[49m\u001b[43mload_annotation\u001b[49m\u001b[43m(\u001b[49m\u001b[33;43m\"\u001b[39;49m\u001b[33;43mreference\u001b[39;49m\u001b[33;43m\"\u001b[39;49m\u001b[43m,\u001b[49m\u001b[43m \u001b[49m\u001b[43ma_id\u001b[49m\u001b[43m)\u001b[49m \u001b[38;5;28;01mfor\u001b[39;00m a_id \u001b[38;5;129;01min\u001b[39;00m annotators}\n\u001b[32m     86\u001b[39m \u001b[38;5;28;01mreturn\u001b[39;00m \u001b[38;5;28mself\u001b[39m._refs\n",
      "\u001b[36mFile \u001b[39m\u001b[32m~/code/bnl/src/bnl/data.py:120\u001b[39m, in \u001b[36mTrack.load_annotation\u001b[39m\u001b[34m(self, annotation_type, annotator)\u001b[39m\n\u001b[32m    117\u001b[39m annotation_path = \u001b[38;5;28mself\u001b[39m.info[annotation_key]\n\u001b[32m    119\u001b[39m \u001b[38;5;28;01mif\u001b[39;00m \u001b[38;5;28mstr\u001b[39m(annotation_path).lower().endswith(\u001b[33m\"\u001b[39m\u001b[33m.jams\u001b[39m\u001b[33m\"\u001b[39m):\n\u001b[32m--> \u001b[39m\u001b[32m120\u001b[39m     \u001b[38;5;28;01mreturn\u001b[39;00m \u001b[38;5;28;43mself\u001b[39;49m\u001b[43m.\u001b[49m\u001b[43m_load_jams_anno\u001b[49m\u001b[43m(\u001b[49m\u001b[43mannotation_path\u001b[49m\u001b[43m,\u001b[49m\u001b[43m \u001b[49m\u001b[43mname\u001b[49m\u001b[43m=\u001b[49m\u001b[43mannotator\u001b[49m\u001b[43m)\u001b[49m\n\u001b[32m    121\u001b[39m \u001b[38;5;28;01melif\u001b[39;00m \u001b[38;5;28mstr\u001b[39m(annotation_path).lower().endswith(\u001b[33m\"\u001b[39m\u001b[33m.json\u001b[39m\u001b[33m\"\u001b[39m):\n\u001b[32m    122\u001b[39m     \u001b[38;5;28;01mreturn\u001b[39;00m \u001b[38;5;28mself\u001b[39m._load_json(annotation_path, name=annotation_type)\n",
      "\u001b[36mFile \u001b[39m\u001b[32m~/code/bnl/src/bnl/data.py:142\u001b[39m, in \u001b[36mTrack._load_jams_anno\u001b[39m\u001b[34m(self, path, name)\u001b[39m\n\u001b[32m    139\u001b[39m \u001b[38;5;28;01mif\u001b[39;00m \u001b[38;5;28mlen\u001b[39m(uppers) == \u001b[32m0\u001b[39m \u001b[38;5;129;01mor\u001b[39;00m \u001b[38;5;28mlen\u001b[39m(lowers) == \u001b[32m0\u001b[39m:\n\u001b[32m    140\u001b[39m     \u001b[38;5;28;01mraise\u001b[39;00m \u001b[38;5;167;01mValueError\u001b[39;00m(\u001b[33mf\u001b[39m\u001b[33m\"\u001b[39m\u001b[33mNo annotator found for \u001b[39m\u001b[38;5;132;01m{\u001b[39;00mname\u001b[38;5;132;01m}\u001b[39;00m\u001b[33m\"\u001b[39m)\n\u001b[32m--> \u001b[39m\u001b[32m142\u001b[39m \u001b[38;5;28;01mreturn\u001b[39;00m \u001b[43mMultiSegment\u001b[49m\u001b[43m(\u001b[49m\n\u001b[32m    143\u001b[39m \u001b[43m    \u001b[49m\u001b[43mlayers\u001b[49m\u001b[43m=\u001b[49m\u001b[43m[\u001b[49m\n\u001b[32m    144\u001b[39m \u001b[43m        \u001b[49m\u001b[43mSegment\u001b[49m\u001b[43m.\u001b[49m\u001b[43mfrom_jams\u001b[49m\u001b[43m(\u001b[49m\u001b[43muppers\u001b[49m\u001b[43m[\u001b[49m\u001b[32;43m0\u001b[39;49m\u001b[43m]\u001b[49m\u001b[43m,\u001b[49m\u001b[43m \u001b[49m\u001b[43mname\u001b[49m\u001b[43m=\u001b[49m\u001b[33;43m\"\u001b[39;49m\u001b[33;43mcoarse\u001b[39;49m\u001b[33;43m\"\u001b[39;49m\u001b[43m)\u001b[49m\u001b[43m,\u001b[49m\n\u001b[32m    145\u001b[39m \u001b[43m        \u001b[49m\u001b[43mSegment\u001b[49m\u001b[43m.\u001b[49m\u001b[43mfrom_jams\u001b[49m\u001b[43m(\u001b[49m\u001b[43mlowers\u001b[49m\u001b[43m[\u001b[49m\u001b[32;43m0\u001b[39;49m\u001b[43m]\u001b[49m\u001b[43m,\u001b[49m\u001b[43m \u001b[49m\u001b[43mname\u001b[49m\u001b[43m=\u001b[49m\u001b[33;43m\"\u001b[39;49m\u001b[33;43mfine\u001b[39;49m\u001b[33;43m\"\u001b[39;49m\u001b[43m)\u001b[49m\u001b[43m,\u001b[49m\n\u001b[32m    146\u001b[39m \u001b[43m    \u001b[49m\u001b[43m]\u001b[49m\u001b[43m,\u001b[49m\n\u001b[32m    147\u001b[39m \u001b[43m    \u001b[49m\u001b[43mname\u001b[49m\u001b[43m=\u001b[49m\u001b[33;43mf\u001b[39;49m\u001b[33;43m\"\u001b[39;49m\u001b[33;43mannotator-\u001b[39;49m\u001b[38;5;132;43;01m{\u001b[39;49;00m\u001b[43muppers\u001b[49m\u001b[43m[\u001b[49m\u001b[32;43m0\u001b[39;49m\u001b[43m]\u001b[49m\u001b[43m.\u001b[49m\u001b[43mannotation_metadata\u001b[49m\u001b[43m.\u001b[49m\u001b[43mannotator\u001b[49m\u001b[43m.\u001b[49m\u001b[43mname\u001b[49m\u001b[38;5;132;43;01m}\u001b[39;49;00m\u001b[33;43m\"\u001b[39;49m\u001b[43m,\u001b[49m\n\u001b[32m    148\u001b[39m \u001b[43m\u001b[49m\u001b[43m)\u001b[49m\n",
      "\u001b[36mFile \u001b[39m\u001b[32m~/code/bnl/src/bnl/core.py:277\u001b[39m, in \u001b[36mMultiSegment.__init__\u001b[39m\u001b[34m(self, layers, name)\u001b[39m\n\u001b[32m    275\u001b[39m     \u001b[38;5;28;01mraise\u001b[39;00m \u001b[38;5;167;01mValueError\u001b[39;00m(\u001b[33m\"\u001b[39m\u001b[33mAll layers must have the same start time.\u001b[39m\u001b[33m\"\u001b[39m)\n\u001b[32m    276\u001b[39m \u001b[38;5;28;01mif\u001b[39;00m \u001b[38;5;129;01mnot\u001b[39;00m \u001b[38;5;28mall\u001b[39m(layer.end == end_time \u001b[38;5;28;01mfor\u001b[39;00m layer \u001b[38;5;129;01min\u001b[39;00m layers):\n\u001b[32m--> \u001b[39m\u001b[32m277\u001b[39m     \u001b[38;5;28;01mraise\u001b[39;00m \u001b[38;5;167;01mValueError\u001b[39;00m(\u001b[33m\"\u001b[39m\u001b[33mAll layers must have the same end time.\u001b[39m\u001b[33m\"\u001b[39m)\n\u001b[32m    279\u001b[39m \u001b[38;5;28mself\u001b[39m.layers = \u001b[38;5;28mlist\u001b[39m(layers)\n\u001b[32m    280\u001b[39m \u001b[38;5;28msuper\u001b[39m().\u001b[34m__init__\u001b[39m(start=\u001b[38;5;28mself\u001b[39m.layers[\u001b[32m0\u001b[39m].start, end=\u001b[38;5;28mself\u001b[39m.layers[\u001b[32m0\u001b[39m].end, name=name)\n",
      "\u001b[31mValueError\u001b[39m: All layers must have the same end time."
     ]
    }
   ],
   "source": [
    "%load_ext autoreload\n",
    "%autoreload 2\n",
    "\n",
    "import bnl\n",
    "from random import choice\n",
    "\n",
    "slm_ds = bnl.data.Dataset(manifest_path=\"~/data/salami/metadata.csv\")\n",
    "# slm_ds = bnl.data.Dataset()\n",
    "track = slm_ds[11]\n",
    "\n",
    "available_refs = list(track.refs)\n",
    "available_ests = list(track.ests)\n",
    "print(available_refs, available_ests)\n",
    "\n",
    "est = track.ests[choice(available_ests)]\n",
    "ref = track.refs[choice(available_refs)]\n",
    "\n",
    "ref.plot().show()\n",
    "est.plot().show()\n",
    "\n"
   ]
  },
  {
   "cell_type": "code",
   "execution_count": 27,
   "metadata": {},
   "outputs": [
    {
     "data": {
      "application/vnd.plotly.v1+json": {
       "config": {
        "plotlyServerURL": "https://plot.ly"
       },
       "data": [
        {
         "base": [
          0
         ],
         "customdata": [
          "<b>[0.00-222.06]</b><br>Layer: empty<br>Start: 0.000s<br>End: 222.061s<br>Duration: 222.061s"
         ],
         "hovertemplate": "%{customdata}<extra></extra>",
         "insidetextanchor": "middle",
         "marker": {
          "color": "#1F77B4",
          "line": {
           "color": "white",
           "width": 0.5
          },
          "pattern": {
           "fgcolor": "white",
           "fgopacity": 0.5,
           "shape": "",
           "solidity": 0.25
          }
         },
         "name": "[0.00-222.06]",
         "orientation": "h",
         "showlegend": true,
         "text": [
          "[0.00-222.06]"
         ],
         "textposition": "inside",
         "type": "bar",
         "width": 1,
         "x": [
          222.06111
         ],
         "y": [
          "empty"
         ]
        },
        {
         "base": [
          0
         ],
         "customdata": [
          "<b>silence</b><br>Layer: coarse<br>Start: 0.000s<br>End: 0.244s<br>Duration: 0.244s"
         ],
         "hovertemplate": "%{customdata}<extra></extra>",
         "insidetextanchor": "middle",
         "marker": {
          "color": "#FF7F0E",
          "line": {
           "color": "white",
           "width": 0.5
          },
          "pattern": {
           "fgcolor": "white",
           "fgopacity": 0.5,
           "shape": "",
           "solidity": 0.25
          }
         },
         "name": "silence",
         "orientation": "h",
         "showlegend": true,
         "text": [
          "silence"
         ],
         "textposition": "inside",
         "type": "bar",
         "width": 1,
         "x": [
          0.24381
         ],
         "y": [
          "coarse"
         ]
        },
        {
         "base": [
          0.24381
         ],
         "customdata": [
          "<b>intro</b><br>Layer: coarse<br>Start: 0.244s<br>End: 31.504s<br>Duration: 31.260s"
         ],
         "hovertemplate": "%{customdata}<extra></extra>",
         "insidetextanchor": "middle",
         "marker": {
          "color": "#2CA02C",
          "line": {
           "color": "white",
           "width": 0.5
          },
          "pattern": {
           "fgcolor": "white",
           "fgopacity": 0.5,
           "shape": "",
           "solidity": 0.25
          }
         },
         "name": "intro",
         "orientation": "h",
         "showlegend": true,
         "text": [
          "intro"
         ],
         "textposition": "inside",
         "type": "bar",
         "width": 1,
         "x": [
          31.26023
         ],
         "y": [
          "coarse"
         ]
        },
        {
         "base": [
          31.50404,
          72.63848,
          165.00934
         ],
         "customdata": [
          "<b>verse</b><br>Layer: coarse<br>Start: 31.504s<br>End: 52.075s<br>Duration: 20.571s",
          "<b>verse</b><br>Layer: coarse<br>Start: 72.638s<br>End: 93.223s<br>Duration: 20.585s",
          "<b>verse</b><br>Layer: coarse<br>Start: 165.009s<br>End: 180.447s<br>Duration: 15.437s"
         ],
         "hovertemplate": "%{customdata}<extra></extra>",
         "insidetextanchor": "middle",
         "marker": {
          "color": "#D62728",
          "line": {
           "color": "white",
           "width": 0.5
          },
          "pattern": {
           "fgcolor": "white",
           "fgopacity": 0.5,
           "shape": "",
           "solidity": 0.25
          }
         },
         "name": "verse",
         "orientation": "h",
         "showlegend": true,
         "text": [
          "verse",
          "verse",
          "verse"
         ],
         "textposition": "inside",
         "type": "bar",
         "width": 1,
         "x": [
          20.57138,
          20.58488,
          15.437369999999987
         ],
         "y": [
          "coarse",
          "coarse",
          "coarse"
         ]
        },
        {
         "base": [
          52.07542
         ],
         "customdata": [
          "<b>chorus</b><br>Layer: coarse<br>Start: 52.075s<br>End: 62.362s<br>Duration: 10.287s"
         ],
         "hovertemplate": "%{customdata}<extra></extra>",
         "insidetextanchor": "middle",
         "marker": {
          "color": "#9467BD",
          "line": {
           "color": "white",
           "width": 0.5
          },
          "pattern": {
           "fgcolor": "white",
           "fgopacity": 0.5,
           "shape": "",
           "solidity": 0.25
          }
         },
         "name": "chorus",
         "orientation": "h",
         "showlegend": true,
         "text": [
          "chorus"
         ],
         "textposition": "inside",
         "type": "bar",
         "width": 1,
         "x": [
          10.287030000000001
         ],
         "y": [
          "coarse"
         ]
        },
        {
         "base": [
          62.36245
         ],
         "customdata": [
          "<b>interlude</b><br>Layer: coarse<br>Start: 62.362s<br>End: 72.638s<br>Duration: 10.276s"
         ],
         "hovertemplate": "%{customdata}<extra></extra>",
         "insidetextanchor": "middle",
         "marker": {
          "color": "#8C564B",
          "line": {
           "color": "white",
           "width": 0.5
          },
          "pattern": {
           "fgcolor": "white",
           "fgopacity": 0.5,
           "shape": "",
           "solidity": 0.25
          }
         },
         "name": "interlude",
         "orientation": "h",
         "showlegend": true,
         "text": [
          "interlude"
         ],
         "textposition": "inside",
         "type": "bar",
         "width": 1,
         "x": [
          10.276029999999999
         ],
         "y": [
          "coarse"
         ]
        },
        {
         "base": [
          93.22336,
          103.57853,
          154.88533,
          180.44671,
          190.76401
         ],
         "customdata": [
          "<b>no_function</b><br>Layer: coarse<br>Start: 93.223s<br>End: 103.579s<br>Duration: 10.355s",
          "<b>no_function</b><br>Layer: coarse<br>Start: 103.579s<br>End: 154.885s<br>Duration: 51.307s",
          "<b>no_function</b><br>Layer: coarse<br>Start: 154.885s<br>End: 165.009s<br>Duration: 10.124s",
          "<b>no_function</b><br>Layer: coarse<br>Start: 180.447s<br>End: 190.764s<br>Duration: 10.317s",
          "<b>no_function</b><br>Layer: coarse<br>Start: 190.764s<br>End: 222.061s<br>Duration: 31.297s"
         ],
         "hovertemplate": "%{customdata}<extra></extra>",
         "insidetextanchor": "middle",
         "marker": {
          "color": "#E377C2",
          "line": {
           "color": "white",
           "width": 0.5
          },
          "pattern": {
           "fgcolor": "white",
           "fgopacity": 0.5,
           "shape": "",
           "solidity": 0.25
          }
         },
         "name": "no_function",
         "orientation": "h",
         "showlegend": true,
         "text": [
          "no_function",
          "no_function",
          "no_function",
          "no_function",
          "no_function"
         ],
         "textposition": "inside",
         "type": "bar",
         "width": 1,
         "x": [
          10.355170000000001,
          51.30680000000001,
          10.124009999999998,
          10.317300000000017,
          31.2971
         ],
         "y": [
          "coarse",
          "coarse",
          "coarse",
          "coarse",
          "coarse"
         ]
        },
        {
         "base": [
          0
         ],
         "customdata": [
          "<b>Silence</b><br>Layer: fine<br>Start: 0.000s<br>End: 0.244s<br>Duration: 0.244s"
         ],
         "hovertemplate": "%{customdata}<extra></extra>",
         "insidetextanchor": "middle",
         "marker": {
          "color": "#7F7F7F",
          "line": {
           "color": "white",
           "width": 0.5
          },
          "pattern": {
           "fgcolor": "white",
           "fgopacity": 0.5,
           "shape": "",
           "solidity": 0.25
          }
         },
         "name": "Silence",
         "orientation": "h",
         "showlegend": true,
         "text": [
          "Silence"
         ],
         "textposition": "inside",
         "type": "bar",
         "width": 1,
         "x": [
          0.24381
         ],
         "y": [
          "fine"
         ]
        },
        {
         "base": [
          0.24381,
          134.47696,
          144.71481
         ],
         "customdata": [
          "<b>a</b><br>Layer: fine<br>Start: 0.244s<br>End: 11.052s<br>Duration: 10.808s",
          "<b>a</b><br>Layer: fine<br>Start: 134.477s<br>End: 144.715s<br>Duration: 10.238s",
          "<b>a</b><br>Layer: fine<br>Start: 144.715s<br>End: 154.885s<br>Duration: 10.171s"
         ],
         "hovertemplate": "%{customdata}<extra></extra>",
         "insidetextanchor": "middle",
         "marker": {
          "color": "#BCBD22",
          "line": {
           "color": "white",
           "width": 0.5
          },
          "pattern": {
           "fgcolor": "white",
           "fgopacity": 0.5,
           "shape": "",
           "solidity": 0.25
          }
         },
         "name": "a",
         "orientation": "h",
         "showlegend": true,
         "text": [
          "a",
          "a",
          "a"
         ],
         "textposition": "inside",
         "type": "bar",
         "width": 1,
         "x": [
          10.80787,
          10.237850000000009,
          10.17052000000001
         ],
         "y": [
          "fine",
          "fine",
          "fine"
         ]
        },
        {
         "base": [
          11.05168
         ],
         "customdata": [
          "<b>b</b><br>Layer: fine<br>Start: 11.052s<br>End: 21.271s<br>Duration: 10.219s"
         ],
         "hovertemplate": "%{customdata}<extra></extra>",
         "insidetextanchor": "middle",
         "marker": {
          "color": "#17BECF",
          "line": {
           "color": "white",
           "width": 0.5
          },
          "pattern": {
           "fgcolor": "white",
           "fgopacity": 0.5,
           "shape": "",
           "solidity": 0.25
          }
         },
         "name": "b",
         "orientation": "h",
         "showlegend": true,
         "text": [
          "b"
         ],
         "textposition": "inside",
         "type": "bar",
         "width": 1,
         "x": [
          10.21898
         ],
         "y": [
          "fine"
         ]
        },
        {
         "base": [
          21.27066,
          62.36245
         ],
         "customdata": [
          "<b>c</b><br>Layer: fine<br>Start: 21.271s<br>End: 31.504s<br>Duration: 10.233s",
          "<b>c</b><br>Layer: fine<br>Start: 62.362s<br>End: 72.638s<br>Duration: 10.276s"
         ],
         "hovertemplate": "%{customdata}<extra></extra>",
         "insidetextanchor": "middle",
         "marker": {
          "color": "#1F77B4",
          "line": {
           "color": "white",
           "width": 0.5
          },
          "pattern": {
           "fgcolor": "white",
           "fgopacity": 0.5,
           "shape": ".",
           "solidity": 0.25
          }
         },
         "name": "c",
         "orientation": "h",
         "showlegend": true,
         "text": [
          "c",
          "c"
         ],
         "textposition": "inside",
         "type": "bar",
         "width": 1,
         "x": [
          10.23338,
          10.276029999999999
         ],
         "y": [
          "fine",
          "fine"
         ]
        },
        {
         "base": [
          31.50404,
          41.80308,
          72.63848,
          83.00048,
          165.00934
         ],
         "customdata": [
          "<b>d</b><br>Layer: fine<br>Start: 31.504s<br>End: 41.803s<br>Duration: 10.299s",
          "<b>d</b><br>Layer: fine<br>Start: 41.803s<br>End: 52.075s<br>Duration: 10.272s",
          "<b>d</b><br>Layer: fine<br>Start: 72.638s<br>End: 83.000s<br>Duration: 10.362s",
          "<b>d</b><br>Layer: fine<br>Start: 83.000s<br>End: 93.223s<br>Duration: 10.223s",
          "<b>d</b><br>Layer: fine<br>Start: 165.009s<br>End: 175.356s<br>Duration: 10.346s"
         ],
         "hovertemplate": "%{customdata}<extra></extra>",
         "insidetextanchor": "middle",
         "marker": {
          "color": "#FF7F0E",
          "line": {
           "color": "white",
           "width": 0.5
          },
          "pattern": {
           "fgcolor": "white",
           "fgopacity": 0.5,
           "shape": ".",
           "solidity": 0.25
          }
         },
         "name": "d",
         "orientation": "h",
         "showlegend": true,
         "text": [
          "d",
          "d",
          "d",
          "d",
          "d"
         ],
         "textposition": "inside",
         "type": "bar",
         "width": 1,
         "x": [
          10.299040000000002,
          10.27234,
          10.361999999999995,
          10.222880000000004,
          10.34645999999998
         ],
         "y": [
          "fine",
          "fine",
          "fine",
          "fine",
          "fine"
         ]
        },
        {
         "base": [
          52.07542,
          93.22336,
          154.88533,
          180.44671
         ],
         "customdata": [
          "<b>b'</b><br>Layer: fine<br>Start: 52.075s<br>End: 62.362s<br>Duration: 10.287s",
          "<b>b'</b><br>Layer: fine<br>Start: 93.223s<br>End: 103.579s<br>Duration: 10.355s",
          "<b>b'</b><br>Layer: fine<br>Start: 154.885s<br>End: 165.009s<br>Duration: 10.124s",
          "<b>b'</b><br>Layer: fine<br>Start: 180.447s<br>End: 190.764s<br>Duration: 10.317s"
         ],
         "hovertemplate": "%{customdata}<extra></extra>",
         "insidetextanchor": "middle",
         "marker": {
          "color": "#2CA02C",
          "line": {
           "color": "white",
           "width": 0.5
          },
          "pattern": {
           "fgcolor": "white",
           "fgopacity": 0.5,
           "shape": ".",
           "solidity": 0.25
          }
         },
         "name": "b'",
         "orientation": "h",
         "showlegend": true,
         "text": [
          "b'",
          "b'",
          "b'",
          "b'"
         ],
         "textposition": "inside",
         "type": "bar",
         "width": 1,
         "x": [
          10.287030000000001,
          10.355170000000001,
          10.124009999999998,
          10.317300000000017
         ],
         "y": [
          "fine",
          "fine",
          "fine",
          "fine"
         ]
        },
        {
         "base": [
          103.57853,
          190.76401
         ],
         "customdata": [
          "<b>e</b><br>Layer: fine<br>Start: 103.579s<br>End: 113.906s<br>Duration: 10.328s",
          "<b>e</b><br>Layer: fine<br>Start: 190.764s<br>End: 200.920s<br>Duration: 10.156s"
         ],
         "hovertemplate": "%{customdata}<extra></extra>",
         "insidetextanchor": "middle",
         "marker": {
          "color": "#D62728",
          "line": {
           "color": "white",
           "width": 0.5
          },
          "pattern": {
           "fgcolor": "white",
           "fgopacity": 0.5,
           "shape": ".",
           "solidity": 0.25
          }
         },
         "name": "e",
         "orientation": "h",
         "showlegend": true,
         "text": [
          "e",
          "e"
         ],
         "textposition": "inside",
         "type": "bar",
         "width": 1,
         "x": [
          10.327820000000003,
          10.156469999999985
         ],
         "y": [
          "fine",
          "fine"
         ]
        },
        {
         "base": [
          113.90635
         ],
         "customdata": [
          "<b>e'</b><br>Layer: fine<br>Start: 113.906s<br>End: 124.068s<br>Duration: 10.161s"
         ],
         "hovertemplate": "%{customdata}<extra></extra>",
         "insidetextanchor": "middle",
         "marker": {
          "color": "#9467BD",
          "line": {
           "color": "white",
           "width": 0.5
          },
          "pattern": {
           "fgcolor": "white",
           "fgopacity": 0.5,
           "shape": ".",
           "solidity": 0.25
          }
         },
         "name": "e'",
         "orientation": "h",
         "showlegend": true,
         "text": [
          "e'"
         ],
         "textposition": "inside",
         "type": "bar",
         "width": 1,
         "x": [
          10.161450000000002
         ],
         "y": [
          "fine"
         ]
        },
        {
         "base": [
          124.0678
         ],
         "customdata": [
          "<b>e''</b><br>Layer: fine<br>Start: 124.068s<br>End: 134.477s<br>Duration: 10.409s"
         ],
         "hovertemplate": "%{customdata}<extra></extra>",
         "insidetextanchor": "middle",
         "marker": {
          "color": "#8C564B",
          "line": {
           "color": "white",
           "width": 0.5
          },
          "pattern": {
           "fgcolor": "white",
           "fgopacity": 0.5,
           "shape": ".",
           "solidity": 0.25
          }
         },
         "name": "e''",
         "orientation": "h",
         "showlegend": true,
         "text": [
          "e''"
         ],
         "textposition": "inside",
         "type": "bar",
         "width": 1,
         "x": [
          10.409159999999986
         ],
         "y": [
          "fine"
         ]
        },
        {
         "base": [
          175.3558
         ],
         "customdata": [
          "<b>d'</b><br>Layer: fine<br>Start: 175.356s<br>End: 180.447s<br>Duration: 5.091s"
         ],
         "hovertemplate": "%{customdata}<extra></extra>",
         "insidetextanchor": "middle",
         "marker": {
          "color": "#E377C2",
          "line": {
           "color": "white",
           "width": 0.5
          },
          "pattern": {
           "fgcolor": "white",
           "fgopacity": 0.5,
           "shape": ".",
           "solidity": 0.25
          }
         },
         "name": "d'",
         "orientation": "h",
         "showlegend": true,
         "text": [
          "d'"
         ],
         "textposition": "inside",
         "type": "bar",
         "width": 1,
         "x": [
          5.090910000000008
         ],
         "y": [
          "fine"
         ]
        },
        {
         "base": [
          200.92048,
          211.08254
         ],
         "customdata": [
          "<b>e'''</b><br>Layer: fine<br>Start: 200.920s<br>End: 211.083s<br>Duration: 10.162s",
          "<b>e'''</b><br>Layer: fine<br>Start: 211.083s<br>End: 222.061s<br>Duration: 10.979s"
         ],
         "hovertemplate": "%{customdata}<extra></extra>",
         "insidetextanchor": "middle",
         "marker": {
          "color": "#7F7F7F",
          "line": {
           "color": "white",
           "width": 0.5
          },
          "pattern": {
           "fgcolor": "white",
           "fgopacity": 0.5,
           "shape": ".",
           "solidity": 0.25
          }
         },
         "name": "e'''",
         "orientation": "h",
         "showlegend": true,
         "text": [
          "e'''",
          "e'''"
         ],
         "textposition": "inside",
         "type": "bar",
         "width": 1,
         "x": [
          10.162059999999997,
          10.978570000000019
         ],
         "y": [
          "fine",
          "fine"
         ]
        },
        {
         "base": [
          0
         ],
         "customdata": [
          "<b>SilenceSilence</b><br>Layer: redundant<br>Start: 0.000s<br>End: 0.244s<br>Duration: 0.244s"
         ],
         "hovertemplate": "%{customdata}<extra></extra>",
         "insidetextanchor": "middle",
         "marker": {
          "color": "#BCBD22",
          "line": {
           "color": "white",
           "width": 0.5
          },
          "pattern": {
           "fgcolor": "white",
           "fgopacity": 0.5,
           "shape": ".",
           "solidity": 0.25
          }
         },
         "name": "SilenceSilence",
         "orientation": "h",
         "showlegend": true,
         "text": [
          "SilenceSilence"
         ],
         "textposition": "inside",
         "type": "bar",
         "width": 1,
         "x": [
          0.24381
         ],
         "y": [
          "redundant"
         ]
        },
        {
         "base": [
          0.24381,
          134.47696,
          144.71481
         ],
         "customdata": [
          "<b>aa</b><br>Layer: redundant<br>Start: 0.244s<br>End: 11.052s<br>Duration: 10.808s",
          "<b>aa</b><br>Layer: redundant<br>Start: 134.477s<br>End: 144.715s<br>Duration: 10.238s",
          "<b>aa</b><br>Layer: redundant<br>Start: 144.715s<br>End: 154.885s<br>Duration: 10.171s"
         ],
         "hovertemplate": "%{customdata}<extra></extra>",
         "insidetextanchor": "middle",
         "marker": {
          "color": "#17BECF",
          "line": {
           "color": "white",
           "width": 0.5
          },
          "pattern": {
           "fgcolor": "white",
           "fgopacity": 0.5,
           "shape": ".",
           "solidity": 0.25
          }
         },
         "name": "aa",
         "orientation": "h",
         "showlegend": true,
         "text": [
          "aa",
          "aa",
          "aa"
         ],
         "textposition": "inside",
         "type": "bar",
         "width": 1,
         "x": [
          10.80787,
          10.237850000000009,
          10.17052000000001
         ],
         "y": [
          "redundant",
          "redundant",
          "redundant"
         ]
        },
        {
         "base": [
          11.05168
         ],
         "customdata": [
          "<b>bb</b><br>Layer: redundant<br>Start: 11.052s<br>End: 21.271s<br>Duration: 10.219s"
         ],
         "hovertemplate": "%{customdata}<extra></extra>",
         "insidetextanchor": "middle",
         "marker": {
          "color": "#1F77B4",
          "line": {
           "color": "white",
           "width": 0.5
          },
          "pattern": {
           "fgcolor": "white",
           "fgopacity": 0.5,
           "shape": "x",
           "solidity": 0.25
          }
         },
         "name": "bb",
         "orientation": "h",
         "showlegend": true,
         "text": [
          "bb"
         ],
         "textposition": "inside",
         "type": "bar",
         "width": 1,
         "x": [
          10.21898
         ],
         "y": [
          "redundant"
         ]
        },
        {
         "base": [
          21.27066,
          62.36245
         ],
         "customdata": [
          "<b>cc</b><br>Layer: redundant<br>Start: 21.271s<br>End: 31.504s<br>Duration: 10.233s",
          "<b>cc</b><br>Layer: redundant<br>Start: 62.362s<br>End: 72.638s<br>Duration: 10.276s"
         ],
         "hovertemplate": "%{customdata}<extra></extra>",
         "insidetextanchor": "middle",
         "marker": {
          "color": "#FF7F0E",
          "line": {
           "color": "white",
           "width": 0.5
          },
          "pattern": {
           "fgcolor": "white",
           "fgopacity": 0.5,
           "shape": "x",
           "solidity": 0.25
          }
         },
         "name": "cc",
         "orientation": "h",
         "showlegend": true,
         "text": [
          "cc",
          "cc"
         ],
         "textposition": "inside",
         "type": "bar",
         "width": 1,
         "x": [
          10.23338,
          10.276029999999999
         ],
         "y": [
          "redundant",
          "redundant"
         ]
        },
        {
         "base": [
          31.50404,
          41.80308,
          72.63848,
          83.00048,
          165.00934
         ],
         "customdata": [
          "<b>dd</b><br>Layer: redundant<br>Start: 31.504s<br>End: 41.803s<br>Duration: 10.299s",
          "<b>dd</b><br>Layer: redundant<br>Start: 41.803s<br>End: 52.075s<br>Duration: 10.272s",
          "<b>dd</b><br>Layer: redundant<br>Start: 72.638s<br>End: 83.000s<br>Duration: 10.362s",
          "<b>dd</b><br>Layer: redundant<br>Start: 83.000s<br>End: 93.223s<br>Duration: 10.223s",
          "<b>dd</b><br>Layer: redundant<br>Start: 165.009s<br>End: 175.356s<br>Duration: 10.346s"
         ],
         "hovertemplate": "%{customdata}<extra></extra>",
         "insidetextanchor": "middle",
         "marker": {
          "color": "#2CA02C",
          "line": {
           "color": "white",
           "width": 0.5
          },
          "pattern": {
           "fgcolor": "white",
           "fgopacity": 0.5,
           "shape": "x",
           "solidity": 0.25
          }
         },
         "name": "dd",
         "orientation": "h",
         "showlegend": true,
         "text": [
          "dd",
          "dd",
          "dd",
          "dd",
          "dd"
         ],
         "textposition": "inside",
         "type": "bar",
         "width": 1,
         "x": [
          10.299040000000002,
          10.27234,
          10.361999999999995,
          10.222880000000004,
          10.34645999999998
         ],
         "y": [
          "redundant",
          "redundant",
          "redundant",
          "redundant",
          "redundant"
         ]
        },
        {
         "base": [
          52.07542,
          93.22336,
          154.88533,
          180.44671
         ],
         "customdata": [
          "<b>b'b'</b><br>Layer: redundant<br>Start: 52.075s<br>End: 62.362s<br>Duration: 10.287s",
          "<b>b'b'</b><br>Layer: redundant<br>Start: 93.223s<br>End: 103.579s<br>Duration: 10.355s",
          "<b>b'b'</b><br>Layer: redundant<br>Start: 154.885s<br>End: 165.009s<br>Duration: 10.124s",
          "<b>b'b'</b><br>Layer: redundant<br>Start: 180.447s<br>End: 190.764s<br>Duration: 10.317s"
         ],
         "hovertemplate": "%{customdata}<extra></extra>",
         "insidetextanchor": "middle",
         "marker": {
          "color": "#D62728",
          "line": {
           "color": "white",
           "width": 0.5
          },
          "pattern": {
           "fgcolor": "white",
           "fgopacity": 0.5,
           "shape": "x",
           "solidity": 0.25
          }
         },
         "name": "b'b'",
         "orientation": "h",
         "showlegend": true,
         "text": [
          "b'b'",
          "b'b'",
          "b'b'",
          "b'b'"
         ],
         "textposition": "inside",
         "type": "bar",
         "width": 1,
         "x": [
          10.287030000000001,
          10.355170000000001,
          10.124009999999998,
          10.317300000000017
         ],
         "y": [
          "redundant",
          "redundant",
          "redundant",
          "redundant"
         ]
        },
        {
         "base": [
          103.57853,
          190.76401
         ],
         "customdata": [
          "<b>ee</b><br>Layer: redundant<br>Start: 103.579s<br>End: 113.906s<br>Duration: 10.328s",
          "<b>ee</b><br>Layer: redundant<br>Start: 190.764s<br>End: 200.920s<br>Duration: 10.156s"
         ],
         "hovertemplate": "%{customdata}<extra></extra>",
         "insidetextanchor": "middle",
         "marker": {
          "color": "#9467BD",
          "line": {
           "color": "white",
           "width": 0.5
          },
          "pattern": {
           "fgcolor": "white",
           "fgopacity": 0.5,
           "shape": "x",
           "solidity": 0.25
          }
         },
         "name": "ee",
         "orientation": "h",
         "showlegend": true,
         "text": [
          "ee",
          "ee"
         ],
         "textposition": "inside",
         "type": "bar",
         "width": 1,
         "x": [
          10.327820000000003,
          10.156469999999985
         ],
         "y": [
          "redundant",
          "redundant"
         ]
        },
        {
         "base": [
          113.90635
         ],
         "customdata": [
          "<b>e'e'</b><br>Layer: redundant<br>Start: 113.906s<br>End: 124.068s<br>Duration: 10.161s"
         ],
         "hovertemplate": "%{customdata}<extra></extra>",
         "insidetextanchor": "middle",
         "marker": {
          "color": "#8C564B",
          "line": {
           "color": "white",
           "width": 0.5
          },
          "pattern": {
           "fgcolor": "white",
           "fgopacity": 0.5,
           "shape": "x",
           "solidity": 0.25
          }
         },
         "name": "e'e'",
         "orientation": "h",
         "showlegend": true,
         "text": [
          "e'e'"
         ],
         "textposition": "inside",
         "type": "bar",
         "width": 1,
         "x": [
          10.161450000000002
         ],
         "y": [
          "redundant"
         ]
        },
        {
         "base": [
          124.0678
         ],
         "customdata": [
          "<b>e''e''</b><br>Layer: redundant<br>Start: 124.068s<br>End: 134.477s<br>Duration: 10.409s"
         ],
         "hovertemplate": "%{customdata}<extra></extra>",
         "insidetextanchor": "middle",
         "marker": {
          "color": "#E377C2",
          "line": {
           "color": "white",
           "width": 0.5
          },
          "pattern": {
           "fgcolor": "white",
           "fgopacity": 0.5,
           "shape": "x",
           "solidity": 0.25
          }
         },
         "name": "e''e''",
         "orientation": "h",
         "showlegend": true,
         "text": [
          "e''e''"
         ],
         "textposition": "inside",
         "type": "bar",
         "width": 1,
         "x": [
          10.409159999999986
         ],
         "y": [
          "redundant"
         ]
        },
        {
         "base": [
          175.3558
         ],
         "customdata": [
          "<b>d'd'</b><br>Layer: redundant<br>Start: 175.356s<br>End: 180.447s<br>Duration: 5.091s"
         ],
         "hovertemplate": "%{customdata}<extra></extra>",
         "insidetextanchor": "middle",
         "marker": {
          "color": "#7F7F7F",
          "line": {
           "color": "white",
           "width": 0.5
          },
          "pattern": {
           "fgcolor": "white",
           "fgopacity": 0.5,
           "shape": "x",
           "solidity": 0.25
          }
         },
         "name": "d'd'",
         "orientation": "h",
         "showlegend": true,
         "text": [
          "d'd'"
         ],
         "textposition": "inside",
         "type": "bar",
         "width": 1,
         "x": [
          5.090910000000008
         ],
         "y": [
          "redundant"
         ]
        },
        {
         "base": [
          200.92048,
          211.08254
         ],
         "customdata": [
          "<b>e'''e'''</b><br>Layer: redundant<br>Start: 200.920s<br>End: 211.083s<br>Duration: 10.162s",
          "<b>e'''e'''</b><br>Layer: redundant<br>Start: 211.083s<br>End: 222.061s<br>Duration: 10.979s"
         ],
         "hovertemplate": "%{customdata}<extra></extra>",
         "insidetextanchor": "middle",
         "marker": {
          "color": "#BCBD22",
          "line": {
           "color": "white",
           "width": 0.5
          },
          "pattern": {
           "fgcolor": "white",
           "fgopacity": 0.5,
           "shape": "x",
           "solidity": 0.25
          }
         },
         "name": "e'''e'''",
         "orientation": "h",
         "showlegend": true,
         "text": [
          "e'''e'''",
          "e'''e'''"
         ],
         "textposition": "inside",
         "type": "bar",
         "width": 1,
         "x": [
          10.162059999999997,
          10.978570000000019
         ],
         "y": [
          "redundant",
          "redundant"
         ]
        }
       ],
       "layout": {
        "barmode": "overlay",
        "height": 170,
        "margin": {
         "b": 20,
         "l": 20,
         "r": 20,
         "t": 40
        },
        "showlegend": false,
        "template": {
         "data": {
          "bar": [
           {
            "error_x": {
             "color": "#2a3f5f"
            },
            "error_y": {
             "color": "#2a3f5f"
            },
            "marker": {
             "line": {
              "color": "#E5ECF6",
              "width": 0.5
             },
             "pattern": {
              "fillmode": "overlay",
              "size": 10,
              "solidity": 0.2
             }
            },
            "type": "bar"
           }
          ],
          "barpolar": [
           {
            "marker": {
             "line": {
              "color": "#E5ECF6",
              "width": 0.5
             },
             "pattern": {
              "fillmode": "overlay",
              "size": 10,
              "solidity": 0.2
             }
            },
            "type": "barpolar"
           }
          ],
          "carpet": [
           {
            "aaxis": {
             "endlinecolor": "#2a3f5f",
             "gridcolor": "white",
             "linecolor": "white",
             "minorgridcolor": "white",
             "startlinecolor": "#2a3f5f"
            },
            "baxis": {
             "endlinecolor": "#2a3f5f",
             "gridcolor": "white",
             "linecolor": "white",
             "minorgridcolor": "white",
             "startlinecolor": "#2a3f5f"
            },
            "type": "carpet"
           }
          ],
          "choropleth": [
           {
            "colorbar": {
             "outlinewidth": 0,
             "ticks": ""
            },
            "type": "choropleth"
           }
          ],
          "contour": [
           {
            "colorbar": {
             "outlinewidth": 0,
             "ticks": ""
            },
            "colorscale": [
             [
              0,
              "#0d0887"
             ],
             [
              0.1111111111111111,
              "#46039f"
             ],
             [
              0.2222222222222222,
              "#7201a8"
             ],
             [
              0.3333333333333333,
              "#9c179e"
             ],
             [
              0.4444444444444444,
              "#bd3786"
             ],
             [
              0.5555555555555556,
              "#d8576b"
             ],
             [
              0.6666666666666666,
              "#ed7953"
             ],
             [
              0.7777777777777778,
              "#fb9f3a"
             ],
             [
              0.8888888888888888,
              "#fdca26"
             ],
             [
              1,
              "#f0f921"
             ]
            ],
            "type": "contour"
           }
          ],
          "contourcarpet": [
           {
            "colorbar": {
             "outlinewidth": 0,
             "ticks": ""
            },
            "type": "contourcarpet"
           }
          ],
          "heatmap": [
           {
            "colorbar": {
             "outlinewidth": 0,
             "ticks": ""
            },
            "colorscale": [
             [
              0,
              "#0d0887"
             ],
             [
              0.1111111111111111,
              "#46039f"
             ],
             [
              0.2222222222222222,
              "#7201a8"
             ],
             [
              0.3333333333333333,
              "#9c179e"
             ],
             [
              0.4444444444444444,
              "#bd3786"
             ],
             [
              0.5555555555555556,
              "#d8576b"
             ],
             [
              0.6666666666666666,
              "#ed7953"
             ],
             [
              0.7777777777777778,
              "#fb9f3a"
             ],
             [
              0.8888888888888888,
              "#fdca26"
             ],
             [
              1,
              "#f0f921"
             ]
            ],
            "type": "heatmap"
           }
          ],
          "histogram": [
           {
            "marker": {
             "pattern": {
              "fillmode": "overlay",
              "size": 10,
              "solidity": 0.2
             }
            },
            "type": "histogram"
           }
          ],
          "histogram2d": [
           {
            "colorbar": {
             "outlinewidth": 0,
             "ticks": ""
            },
            "colorscale": [
             [
              0,
              "#0d0887"
             ],
             [
              0.1111111111111111,
              "#46039f"
             ],
             [
              0.2222222222222222,
              "#7201a8"
             ],
             [
              0.3333333333333333,
              "#9c179e"
             ],
             [
              0.4444444444444444,
              "#bd3786"
             ],
             [
              0.5555555555555556,
              "#d8576b"
             ],
             [
              0.6666666666666666,
              "#ed7953"
             ],
             [
              0.7777777777777778,
              "#fb9f3a"
             ],
             [
              0.8888888888888888,
              "#fdca26"
             ],
             [
              1,
              "#f0f921"
             ]
            ],
            "type": "histogram2d"
           }
          ],
          "histogram2dcontour": [
           {
            "colorbar": {
             "outlinewidth": 0,
             "ticks": ""
            },
            "colorscale": [
             [
              0,
              "#0d0887"
             ],
             [
              0.1111111111111111,
              "#46039f"
             ],
             [
              0.2222222222222222,
              "#7201a8"
             ],
             [
              0.3333333333333333,
              "#9c179e"
             ],
             [
              0.4444444444444444,
              "#bd3786"
             ],
             [
              0.5555555555555556,
              "#d8576b"
             ],
             [
              0.6666666666666666,
              "#ed7953"
             ],
             [
              0.7777777777777778,
              "#fb9f3a"
             ],
             [
              0.8888888888888888,
              "#fdca26"
             ],
             [
              1,
              "#f0f921"
             ]
            ],
            "type": "histogram2dcontour"
           }
          ],
          "mesh3d": [
           {
            "colorbar": {
             "outlinewidth": 0,
             "ticks": ""
            },
            "type": "mesh3d"
           }
          ],
          "parcoords": [
           {
            "line": {
             "colorbar": {
              "outlinewidth": 0,
              "ticks": ""
             }
            },
            "type": "parcoords"
           }
          ],
          "pie": [
           {
            "automargin": true,
            "type": "pie"
           }
          ],
          "scatter": [
           {
            "fillpattern": {
             "fillmode": "overlay",
             "size": 10,
             "solidity": 0.2
            },
            "type": "scatter"
           }
          ],
          "scatter3d": [
           {
            "line": {
             "colorbar": {
              "outlinewidth": 0,
              "ticks": ""
             }
            },
            "marker": {
             "colorbar": {
              "outlinewidth": 0,
              "ticks": ""
             }
            },
            "type": "scatter3d"
           }
          ],
          "scattercarpet": [
           {
            "marker": {
             "colorbar": {
              "outlinewidth": 0,
              "ticks": ""
             }
            },
            "type": "scattercarpet"
           }
          ],
          "scattergeo": [
           {
            "marker": {
             "colorbar": {
              "outlinewidth": 0,
              "ticks": ""
             }
            },
            "type": "scattergeo"
           }
          ],
          "scattergl": [
           {
            "marker": {
             "colorbar": {
              "outlinewidth": 0,
              "ticks": ""
             }
            },
            "type": "scattergl"
           }
          ],
          "scattermap": [
           {
            "marker": {
             "colorbar": {
              "outlinewidth": 0,
              "ticks": ""
             }
            },
            "type": "scattermap"
           }
          ],
          "scattermapbox": [
           {
            "marker": {
             "colorbar": {
              "outlinewidth": 0,
              "ticks": ""
             }
            },
            "type": "scattermapbox"
           }
          ],
          "scatterpolar": [
           {
            "marker": {
             "colorbar": {
              "outlinewidth": 0,
              "ticks": ""
             }
            },
            "type": "scatterpolar"
           }
          ],
          "scatterpolargl": [
           {
            "marker": {
             "colorbar": {
              "outlinewidth": 0,
              "ticks": ""
             }
            },
            "type": "scatterpolargl"
           }
          ],
          "scatterternary": [
           {
            "marker": {
             "colorbar": {
              "outlinewidth": 0,
              "ticks": ""
             }
            },
            "type": "scatterternary"
           }
          ],
          "surface": [
           {
            "colorbar": {
             "outlinewidth": 0,
             "ticks": ""
            },
            "colorscale": [
             [
              0,
              "#0d0887"
             ],
             [
              0.1111111111111111,
              "#46039f"
             ],
             [
              0.2222222222222222,
              "#7201a8"
             ],
             [
              0.3333333333333333,
              "#9c179e"
             ],
             [
              0.4444444444444444,
              "#bd3786"
             ],
             [
              0.5555555555555556,
              "#d8576b"
             ],
             [
              0.6666666666666666,
              "#ed7953"
             ],
             [
              0.7777777777777778,
              "#fb9f3a"
             ],
             [
              0.8888888888888888,
              "#fdca26"
             ],
             [
              1,
              "#f0f921"
             ]
            ],
            "type": "surface"
           }
          ],
          "table": [
           {
            "cells": {
             "fill": {
              "color": "#EBF0F8"
             },
             "line": {
              "color": "white"
             }
            },
            "header": {
             "fill": {
              "color": "#C8D4E3"
             },
             "line": {
              "color": "white"
             }
            },
            "type": "table"
           }
          ]
         },
         "layout": {
          "annotationdefaults": {
           "arrowcolor": "#2a3f5f",
           "arrowhead": 0,
           "arrowwidth": 1
          },
          "autotypenumbers": "strict",
          "coloraxis": {
           "colorbar": {
            "outlinewidth": 0,
            "ticks": ""
           }
          },
          "colorscale": {
           "diverging": [
            [
             0,
             "#8e0152"
            ],
            [
             0.1,
             "#c51b7d"
            ],
            [
             0.2,
             "#de77ae"
            ],
            [
             0.3,
             "#f1b6da"
            ],
            [
             0.4,
             "#fde0ef"
            ],
            [
             0.5,
             "#f7f7f7"
            ],
            [
             0.6,
             "#e6f5d0"
            ],
            [
             0.7,
             "#b8e186"
            ],
            [
             0.8,
             "#7fbc41"
            ],
            [
             0.9,
             "#4d9221"
            ],
            [
             1,
             "#276419"
            ]
           ],
           "sequential": [
            [
             0,
             "#0d0887"
            ],
            [
             0.1111111111111111,
             "#46039f"
            ],
            [
             0.2222222222222222,
             "#7201a8"
            ],
            [
             0.3333333333333333,
             "#9c179e"
            ],
            [
             0.4444444444444444,
             "#bd3786"
            ],
            [
             0.5555555555555556,
             "#d8576b"
            ],
            [
             0.6666666666666666,
             "#ed7953"
            ],
            [
             0.7777777777777778,
             "#fb9f3a"
            ],
            [
             0.8888888888888888,
             "#fdca26"
            ],
            [
             1,
             "#f0f921"
            ]
           ],
           "sequentialminus": [
            [
             0,
             "#0d0887"
            ],
            [
             0.1111111111111111,
             "#46039f"
            ],
            [
             0.2222222222222222,
             "#7201a8"
            ],
            [
             0.3333333333333333,
             "#9c179e"
            ],
            [
             0.4444444444444444,
             "#bd3786"
            ],
            [
             0.5555555555555556,
             "#d8576b"
            ],
            [
             0.6666666666666666,
             "#ed7953"
            ],
            [
             0.7777777777777778,
             "#fb9f3a"
            ],
            [
             0.8888888888888888,
             "#fdca26"
            ],
            [
             1,
             "#f0f921"
            ]
           ]
          },
          "colorway": [
           "#636efa",
           "#EF553B",
           "#00cc96",
           "#ab63fa",
           "#FFA15A",
           "#19d3f3",
           "#FF6692",
           "#B6E880",
           "#FF97FF",
           "#FECB52"
          ],
          "font": {
           "color": "#2a3f5f"
          },
          "geo": {
           "bgcolor": "white",
           "lakecolor": "white",
           "landcolor": "#E5ECF6",
           "showlakes": true,
           "showland": true,
           "subunitcolor": "white"
          },
          "hoverlabel": {
           "align": "left"
          },
          "hovermode": "closest",
          "mapbox": {
           "style": "light"
          },
          "paper_bgcolor": "white",
          "plot_bgcolor": "#E5ECF6",
          "polar": {
           "angularaxis": {
            "gridcolor": "white",
            "linecolor": "white",
            "ticks": ""
           },
           "bgcolor": "#E5ECF6",
           "radialaxis": {
            "gridcolor": "white",
            "linecolor": "white",
            "ticks": ""
           }
          },
          "scene": {
           "xaxis": {
            "backgroundcolor": "#E5ECF6",
            "gridcolor": "white",
            "gridwidth": 2,
            "linecolor": "white",
            "showbackground": true,
            "ticks": "",
            "zerolinecolor": "white"
           },
           "yaxis": {
            "backgroundcolor": "#E5ECF6",
            "gridcolor": "white",
            "gridwidth": 2,
            "linecolor": "white",
            "showbackground": true,
            "ticks": "",
            "zerolinecolor": "white"
           },
           "zaxis": {
            "backgroundcolor": "#E5ECF6",
            "gridcolor": "white",
            "gridwidth": 2,
            "linecolor": "white",
            "showbackground": true,
            "ticks": "",
            "zerolinecolor": "white"
           }
          },
          "shapedefaults": {
           "line": {
            "color": "#2a3f5f"
           }
          },
          "ternary": {
           "aaxis": {
            "gridcolor": "white",
            "linecolor": "white",
            "ticks": ""
           },
           "baxis": {
            "gridcolor": "white",
            "linecolor": "white",
            "ticks": ""
           },
           "bgcolor": "#E5ECF6",
           "caxis": {
            "gridcolor": "white",
            "linecolor": "white",
            "ticks": ""
           }
          },
          "title": {
           "x": 0.05
          },
          "xaxis": {
           "automargin": true,
           "gridcolor": "white",
           "linecolor": "white",
           "ticks": "",
           "title": {
            "standoff": 15
           },
           "zerolinecolor": "white",
           "zerolinewidth": 2
          },
          "yaxis": {
           "automargin": true,
           "gridcolor": "white",
           "linecolor": "white",
           "ticks": "",
           "title": {
            "standoff": 15
           },
           "zerolinecolor": "white",
           "zerolinewidth": 2
          }
         }
        },
        "title": {
         "text": "mock_ref",
         "x": 0.5
        },
        "width": 650,
        "xaxis": {
         "range": [
          0,
          222.06111
         ],
         "title": {
          "text": "Time (s)"
         }
        },
        "yaxis": {
         "categoryarray": [
          "redundant",
          "fine",
          "coarse",
          "empty"
         ],
         "categoryorder": "array",
         "title": {}
        }
       }
      }
     },
     "metadata": {},
     "output_type": "display_data"
    },
    {
     "name": "stdout",
     "output_type": "stream",
     "text": [
      "Skipping layer redundant\n"
     ]
    },
    {
     "data": {
      "application/vnd.plotly.v1+json": {
       "config": {
        "plotlyServerURL": "https://plot.ly"
       },
       "data": [
        {
         "base": [
          0
         ],
         "customdata": [
          "<b>silence</b><br>Layer: coarse<br>Start: 0.000s<br>End: 0.244s<br>Duration: 0.244s"
         ],
         "hovertemplate": "%{customdata}<extra></extra>",
         "insidetextanchor": "middle",
         "marker": {
          "color": "#1F77B4",
          "line": {
           "color": "white",
           "width": 0.5
          },
          "pattern": {
           "fgcolor": "white",
           "fgopacity": 0.5,
           "shape": "",
           "solidity": 0.25
          }
         },
         "name": "silence",
         "orientation": "h",
         "showlegend": true,
         "text": [
          "silence"
         ],
         "textposition": "inside",
         "type": "bar",
         "width": 1,
         "x": [
          0.24381
         ],
         "y": [
          "coarse"
         ]
        },
        {
         "base": [
          0.24381
         ],
         "customdata": [
          "<b>intro</b><br>Layer: coarse<br>Start: 0.244s<br>End: 31.504s<br>Duration: 31.260s"
         ],
         "hovertemplate": "%{customdata}<extra></extra>",
         "insidetextanchor": "middle",
         "marker": {
          "color": "#FF7F0E",
          "line": {
           "color": "white",
           "width": 0.5
          },
          "pattern": {
           "fgcolor": "white",
           "fgopacity": 0.5,
           "shape": "",
           "solidity": 0.25
          }
         },
         "name": "intro",
         "orientation": "h",
         "showlegend": true,
         "text": [
          "intro"
         ],
         "textposition": "inside",
         "type": "bar",
         "width": 1,
         "x": [
          31.26023
         ],
         "y": [
          "coarse"
         ]
        },
        {
         "base": [
          31.50404,
          72.63848,
          165.00934
         ],
         "customdata": [
          "<b>verse</b><br>Layer: coarse<br>Start: 31.504s<br>End: 52.075s<br>Duration: 20.571s",
          "<b>verse</b><br>Layer: coarse<br>Start: 72.638s<br>End: 93.223s<br>Duration: 20.585s",
          "<b>verse</b><br>Layer: coarse<br>Start: 165.009s<br>End: 180.447s<br>Duration: 15.437s"
         ],
         "hovertemplate": "%{customdata}<extra></extra>",
         "insidetextanchor": "middle",
         "marker": {
          "color": "#2CA02C",
          "line": {
           "color": "white",
           "width": 0.5
          },
          "pattern": {
           "fgcolor": "white",
           "fgopacity": 0.5,
           "shape": "",
           "solidity": 0.25
          }
         },
         "name": "verse",
         "orientation": "h",
         "showlegend": true,
         "text": [
          "verse",
          "verse",
          "verse"
         ],
         "textposition": "inside",
         "type": "bar",
         "width": 1,
         "x": [
          20.57138,
          20.58488,
          15.437369999999987
         ],
         "y": [
          "coarse",
          "coarse",
          "coarse"
         ]
        },
        {
         "base": [
          52.07542
         ],
         "customdata": [
          "<b>chorus</b><br>Layer: coarse<br>Start: 52.075s<br>End: 62.362s<br>Duration: 10.287s"
         ],
         "hovertemplate": "%{customdata}<extra></extra>",
         "insidetextanchor": "middle",
         "marker": {
          "color": "#D62728",
          "line": {
           "color": "white",
           "width": 0.5
          },
          "pattern": {
           "fgcolor": "white",
           "fgopacity": 0.5,
           "shape": "",
           "solidity": 0.25
          }
         },
         "name": "chorus",
         "orientation": "h",
         "showlegend": true,
         "text": [
          "chorus"
         ],
         "textposition": "inside",
         "type": "bar",
         "width": 1,
         "x": [
          10.287030000000001
         ],
         "y": [
          "coarse"
         ]
        },
        {
         "base": [
          62.36245
         ],
         "customdata": [
          "<b>interlude</b><br>Layer: coarse<br>Start: 62.362s<br>End: 72.638s<br>Duration: 10.276s"
         ],
         "hovertemplate": "%{customdata}<extra></extra>",
         "insidetextanchor": "middle",
         "marker": {
          "color": "#9467BD",
          "line": {
           "color": "white",
           "width": 0.5
          },
          "pattern": {
           "fgcolor": "white",
           "fgopacity": 0.5,
           "shape": "",
           "solidity": 0.25
          }
         },
         "name": "interlude",
         "orientation": "h",
         "showlegend": true,
         "text": [
          "interlude"
         ],
         "textposition": "inside",
         "type": "bar",
         "width": 1,
         "x": [
          10.276029999999999
         ],
         "y": [
          "coarse"
         ]
        },
        {
         "base": [
          93.22336,
          103.57853,
          154.88533,
          180.44671,
          190.76401
         ],
         "customdata": [
          "<b>no_function</b><br>Layer: coarse<br>Start: 93.223s<br>End: 103.579s<br>Duration: 10.355s",
          "<b>no_function</b><br>Layer: coarse<br>Start: 103.579s<br>End: 154.885s<br>Duration: 51.307s",
          "<b>no_function</b><br>Layer: coarse<br>Start: 154.885s<br>End: 165.009s<br>Duration: 10.124s",
          "<b>no_function</b><br>Layer: coarse<br>Start: 180.447s<br>End: 190.764s<br>Duration: 10.317s",
          "<b>no_function</b><br>Layer: coarse<br>Start: 190.764s<br>End: 222.061s<br>Duration: 31.297s"
         ],
         "hovertemplate": "%{customdata}<extra></extra>",
         "insidetextanchor": "middle",
         "marker": {
          "color": "#8C564B",
          "line": {
           "color": "white",
           "width": 0.5
          },
          "pattern": {
           "fgcolor": "white",
           "fgopacity": 0.5,
           "shape": "",
           "solidity": 0.25
          }
         },
         "name": "no_function",
         "orientation": "h",
         "showlegend": true,
         "text": [
          "no_function",
          "no_function",
          "no_function",
          "no_function",
          "no_function"
         ],
         "textposition": "inside",
         "type": "bar",
         "width": 1,
         "x": [
          10.355170000000001,
          51.30680000000001,
          10.124009999999998,
          10.317300000000017,
          31.2971
         ],
         "y": [
          "coarse",
          "coarse",
          "coarse",
          "coarse",
          "coarse"
         ]
        },
        {
         "base": [
          0
         ],
         "customdata": [
          "<b>Silence</b><br>Layer: fine<br>Start: 0.000s<br>End: 0.244s<br>Duration: 0.244s"
         ],
         "hovertemplate": "%{customdata}<extra></extra>",
         "insidetextanchor": "middle",
         "marker": {
          "color": "#E377C2",
          "line": {
           "color": "white",
           "width": 0.5
          },
          "pattern": {
           "fgcolor": "white",
           "fgopacity": 0.5,
           "shape": "",
           "solidity": 0.25
          }
         },
         "name": "Silence",
         "orientation": "h",
         "showlegend": true,
         "text": [
          "Silence"
         ],
         "textposition": "inside",
         "type": "bar",
         "width": 1,
         "x": [
          0.24381
         ],
         "y": [
          "fine"
         ]
        },
        {
         "base": [
          0.24381,
          134.47696,
          144.71481
         ],
         "customdata": [
          "<b>a</b><br>Layer: fine<br>Start: 0.244s<br>End: 11.052s<br>Duration: 10.808s",
          "<b>a</b><br>Layer: fine<br>Start: 134.477s<br>End: 144.715s<br>Duration: 10.238s",
          "<b>a</b><br>Layer: fine<br>Start: 144.715s<br>End: 154.885s<br>Duration: 10.171s"
         ],
         "hovertemplate": "%{customdata}<extra></extra>",
         "insidetextanchor": "middle",
         "marker": {
          "color": "#7F7F7F",
          "line": {
           "color": "white",
           "width": 0.5
          },
          "pattern": {
           "fgcolor": "white",
           "fgopacity": 0.5,
           "shape": "",
           "solidity": 0.25
          }
         },
         "name": "a",
         "orientation": "h",
         "showlegend": true,
         "text": [
          "a",
          "a",
          "a"
         ],
         "textposition": "inside",
         "type": "bar",
         "width": 1,
         "x": [
          10.80787,
          10.237850000000009,
          10.17052000000001
         ],
         "y": [
          "fine",
          "fine",
          "fine"
         ]
        },
        {
         "base": [
          11.05168
         ],
         "customdata": [
          "<b>b</b><br>Layer: fine<br>Start: 11.052s<br>End: 21.271s<br>Duration: 10.219s"
         ],
         "hovertemplate": "%{customdata}<extra></extra>",
         "insidetextanchor": "middle",
         "marker": {
          "color": "#BCBD22",
          "line": {
           "color": "white",
           "width": 0.5
          },
          "pattern": {
           "fgcolor": "white",
           "fgopacity": 0.5,
           "shape": "",
           "solidity": 0.25
          }
         },
         "name": "b",
         "orientation": "h",
         "showlegend": true,
         "text": [
          "b"
         ],
         "textposition": "inside",
         "type": "bar",
         "width": 1,
         "x": [
          10.21898
         ],
         "y": [
          "fine"
         ]
        },
        {
         "base": [
          21.27066,
          62.36245
         ],
         "customdata": [
          "<b>c</b><br>Layer: fine<br>Start: 21.271s<br>End: 31.504s<br>Duration: 10.233s",
          "<b>c</b><br>Layer: fine<br>Start: 62.362s<br>End: 72.638s<br>Duration: 10.276s"
         ],
         "hovertemplate": "%{customdata}<extra></extra>",
         "insidetextanchor": "middle",
         "marker": {
          "color": "#17BECF",
          "line": {
           "color": "white",
           "width": 0.5
          },
          "pattern": {
           "fgcolor": "white",
           "fgopacity": 0.5,
           "shape": "",
           "solidity": 0.25
          }
         },
         "name": "c",
         "orientation": "h",
         "showlegend": true,
         "text": [
          "c",
          "c"
         ],
         "textposition": "inside",
         "type": "bar",
         "width": 1,
         "x": [
          10.23338,
          10.276029999999999
         ],
         "y": [
          "fine",
          "fine"
         ]
        },
        {
         "base": [
          31.50404,
          41.80308,
          72.63848,
          83.00048,
          165.00934
         ],
         "customdata": [
          "<b>d</b><br>Layer: fine<br>Start: 31.504s<br>End: 41.803s<br>Duration: 10.299s",
          "<b>d</b><br>Layer: fine<br>Start: 41.803s<br>End: 52.075s<br>Duration: 10.272s",
          "<b>d</b><br>Layer: fine<br>Start: 72.638s<br>End: 83.000s<br>Duration: 10.362s",
          "<b>d</b><br>Layer: fine<br>Start: 83.000s<br>End: 93.223s<br>Duration: 10.223s",
          "<b>d</b><br>Layer: fine<br>Start: 165.009s<br>End: 175.356s<br>Duration: 10.346s"
         ],
         "hovertemplate": "%{customdata}<extra></extra>",
         "insidetextanchor": "middle",
         "marker": {
          "color": "#1F77B4",
          "line": {
           "color": "white",
           "width": 0.5
          },
          "pattern": {
           "fgcolor": "white",
           "fgopacity": 0.5,
           "shape": ".",
           "solidity": 0.25
          }
         },
         "name": "d",
         "orientation": "h",
         "showlegend": true,
         "text": [
          "d",
          "d",
          "d",
          "d",
          "d"
         ],
         "textposition": "inside",
         "type": "bar",
         "width": 1,
         "x": [
          10.299040000000002,
          10.27234,
          10.361999999999995,
          10.222880000000004,
          10.34645999999998
         ],
         "y": [
          "fine",
          "fine",
          "fine",
          "fine",
          "fine"
         ]
        },
        {
         "base": [
          52.07542,
          93.22336,
          154.88533,
          180.44671
         ],
         "customdata": [
          "<b>b'</b><br>Layer: fine<br>Start: 52.075s<br>End: 62.362s<br>Duration: 10.287s",
          "<b>b'</b><br>Layer: fine<br>Start: 93.223s<br>End: 103.579s<br>Duration: 10.355s",
          "<b>b'</b><br>Layer: fine<br>Start: 154.885s<br>End: 165.009s<br>Duration: 10.124s",
          "<b>b'</b><br>Layer: fine<br>Start: 180.447s<br>End: 190.764s<br>Duration: 10.317s"
         ],
         "hovertemplate": "%{customdata}<extra></extra>",
         "insidetextanchor": "middle",
         "marker": {
          "color": "#FF7F0E",
          "line": {
           "color": "white",
           "width": 0.5
          },
          "pattern": {
           "fgcolor": "white",
           "fgopacity": 0.5,
           "shape": ".",
           "solidity": 0.25
          }
         },
         "name": "b'",
         "orientation": "h",
         "showlegend": true,
         "text": [
          "b'",
          "b'",
          "b'",
          "b'"
         ],
         "textposition": "inside",
         "type": "bar",
         "width": 1,
         "x": [
          10.287030000000001,
          10.355170000000001,
          10.124009999999998,
          10.317300000000017
         ],
         "y": [
          "fine",
          "fine",
          "fine",
          "fine"
         ]
        },
        {
         "base": [
          103.57853,
          190.76401
         ],
         "customdata": [
          "<b>e</b><br>Layer: fine<br>Start: 103.579s<br>End: 113.906s<br>Duration: 10.328s",
          "<b>e</b><br>Layer: fine<br>Start: 190.764s<br>End: 200.920s<br>Duration: 10.156s"
         ],
         "hovertemplate": "%{customdata}<extra></extra>",
         "insidetextanchor": "middle",
         "marker": {
          "color": "#2CA02C",
          "line": {
           "color": "white",
           "width": 0.5
          },
          "pattern": {
           "fgcolor": "white",
           "fgopacity": 0.5,
           "shape": ".",
           "solidity": 0.25
          }
         },
         "name": "e",
         "orientation": "h",
         "showlegend": true,
         "text": [
          "e",
          "e"
         ],
         "textposition": "inside",
         "type": "bar",
         "width": 1,
         "x": [
          10.327820000000003,
          10.156469999999985
         ],
         "y": [
          "fine",
          "fine"
         ]
        },
        {
         "base": [
          113.90635
         ],
         "customdata": [
          "<b>e'</b><br>Layer: fine<br>Start: 113.906s<br>End: 124.068s<br>Duration: 10.161s"
         ],
         "hovertemplate": "%{customdata}<extra></extra>",
         "insidetextanchor": "middle",
         "marker": {
          "color": "#D62728",
          "line": {
           "color": "white",
           "width": 0.5
          },
          "pattern": {
           "fgcolor": "white",
           "fgopacity": 0.5,
           "shape": ".",
           "solidity": 0.25
          }
         },
         "name": "e'",
         "orientation": "h",
         "showlegend": true,
         "text": [
          "e'"
         ],
         "textposition": "inside",
         "type": "bar",
         "width": 1,
         "x": [
          10.161450000000002
         ],
         "y": [
          "fine"
         ]
        },
        {
         "base": [
          124.0678
         ],
         "customdata": [
          "<b>e''</b><br>Layer: fine<br>Start: 124.068s<br>End: 134.477s<br>Duration: 10.409s"
         ],
         "hovertemplate": "%{customdata}<extra></extra>",
         "insidetextanchor": "middle",
         "marker": {
          "color": "#9467BD",
          "line": {
           "color": "white",
           "width": 0.5
          },
          "pattern": {
           "fgcolor": "white",
           "fgopacity": 0.5,
           "shape": ".",
           "solidity": 0.25
          }
         },
         "name": "e''",
         "orientation": "h",
         "showlegend": true,
         "text": [
          "e''"
         ],
         "textposition": "inside",
         "type": "bar",
         "width": 1,
         "x": [
          10.409159999999986
         ],
         "y": [
          "fine"
         ]
        },
        {
         "base": [
          175.3558
         ],
         "customdata": [
          "<b>d'</b><br>Layer: fine<br>Start: 175.356s<br>End: 180.447s<br>Duration: 5.091s"
         ],
         "hovertemplate": "%{customdata}<extra></extra>",
         "insidetextanchor": "middle",
         "marker": {
          "color": "#8C564B",
          "line": {
           "color": "white",
           "width": 0.5
          },
          "pattern": {
           "fgcolor": "white",
           "fgopacity": 0.5,
           "shape": ".",
           "solidity": 0.25
          }
         },
         "name": "d'",
         "orientation": "h",
         "showlegend": true,
         "text": [
          "d'"
         ],
         "textposition": "inside",
         "type": "bar",
         "width": 1,
         "x": [
          5.090910000000008
         ],
         "y": [
          "fine"
         ]
        },
        {
         "base": [
          200.92048,
          211.08254
         ],
         "customdata": [
          "<b>e'''</b><br>Layer: fine<br>Start: 200.920s<br>End: 211.083s<br>Duration: 10.162s",
          "<b>e'''</b><br>Layer: fine<br>Start: 211.083s<br>End: 222.061s<br>Duration: 10.979s"
         ],
         "hovertemplate": "%{customdata}<extra></extra>",
         "insidetextanchor": "middle",
         "marker": {
          "color": "#E377C2",
          "line": {
           "color": "white",
           "width": 0.5
          },
          "pattern": {
           "fgcolor": "white",
           "fgopacity": 0.5,
           "shape": ".",
           "solidity": 0.25
          }
         },
         "name": "e'''",
         "orientation": "h",
         "showlegend": true,
         "text": [
          "e'''",
          "e'''"
         ],
         "textposition": "inside",
         "type": "bar",
         "width": 1,
         "x": [
          10.162059999999997,
          10.978570000000019
         ],
         "y": [
          "fine",
          "fine"
         ]
        }
       ],
       "layout": {
        "barmode": "overlay",
        "height": 120,
        "margin": {
         "b": 20,
         "l": 20,
         "r": 20,
         "t": 40
        },
        "showlegend": false,
        "template": {
         "data": {
          "bar": [
           {
            "error_x": {
             "color": "#2a3f5f"
            },
            "error_y": {
             "color": "#2a3f5f"
            },
            "marker": {
             "line": {
              "color": "#E5ECF6",
              "width": 0.5
             },
             "pattern": {
              "fillmode": "overlay",
              "size": 10,
              "solidity": 0.2
             }
            },
            "type": "bar"
           }
          ],
          "barpolar": [
           {
            "marker": {
             "line": {
              "color": "#E5ECF6",
              "width": 0.5
             },
             "pattern": {
              "fillmode": "overlay",
              "size": 10,
              "solidity": 0.2
             }
            },
            "type": "barpolar"
           }
          ],
          "carpet": [
           {
            "aaxis": {
             "endlinecolor": "#2a3f5f",
             "gridcolor": "white",
             "linecolor": "white",
             "minorgridcolor": "white",
             "startlinecolor": "#2a3f5f"
            },
            "baxis": {
             "endlinecolor": "#2a3f5f",
             "gridcolor": "white",
             "linecolor": "white",
             "minorgridcolor": "white",
             "startlinecolor": "#2a3f5f"
            },
            "type": "carpet"
           }
          ],
          "choropleth": [
           {
            "colorbar": {
             "outlinewidth": 0,
             "ticks": ""
            },
            "type": "choropleth"
           }
          ],
          "contour": [
           {
            "colorbar": {
             "outlinewidth": 0,
             "ticks": ""
            },
            "colorscale": [
             [
              0,
              "#0d0887"
             ],
             [
              0.1111111111111111,
              "#46039f"
             ],
             [
              0.2222222222222222,
              "#7201a8"
             ],
             [
              0.3333333333333333,
              "#9c179e"
             ],
             [
              0.4444444444444444,
              "#bd3786"
             ],
             [
              0.5555555555555556,
              "#d8576b"
             ],
             [
              0.6666666666666666,
              "#ed7953"
             ],
             [
              0.7777777777777778,
              "#fb9f3a"
             ],
             [
              0.8888888888888888,
              "#fdca26"
             ],
             [
              1,
              "#f0f921"
             ]
            ],
            "type": "contour"
           }
          ],
          "contourcarpet": [
           {
            "colorbar": {
             "outlinewidth": 0,
             "ticks": ""
            },
            "type": "contourcarpet"
           }
          ],
          "heatmap": [
           {
            "colorbar": {
             "outlinewidth": 0,
             "ticks": ""
            },
            "colorscale": [
             [
              0,
              "#0d0887"
             ],
             [
              0.1111111111111111,
              "#46039f"
             ],
             [
              0.2222222222222222,
              "#7201a8"
             ],
             [
              0.3333333333333333,
              "#9c179e"
             ],
             [
              0.4444444444444444,
              "#bd3786"
             ],
             [
              0.5555555555555556,
              "#d8576b"
             ],
             [
              0.6666666666666666,
              "#ed7953"
             ],
             [
              0.7777777777777778,
              "#fb9f3a"
             ],
             [
              0.8888888888888888,
              "#fdca26"
             ],
             [
              1,
              "#f0f921"
             ]
            ],
            "type": "heatmap"
           }
          ],
          "histogram": [
           {
            "marker": {
             "pattern": {
              "fillmode": "overlay",
              "size": 10,
              "solidity": 0.2
             }
            },
            "type": "histogram"
           }
          ],
          "histogram2d": [
           {
            "colorbar": {
             "outlinewidth": 0,
             "ticks": ""
            },
            "colorscale": [
             [
              0,
              "#0d0887"
             ],
             [
              0.1111111111111111,
              "#46039f"
             ],
             [
              0.2222222222222222,
              "#7201a8"
             ],
             [
              0.3333333333333333,
              "#9c179e"
             ],
             [
              0.4444444444444444,
              "#bd3786"
             ],
             [
              0.5555555555555556,
              "#d8576b"
             ],
             [
              0.6666666666666666,
              "#ed7953"
             ],
             [
              0.7777777777777778,
              "#fb9f3a"
             ],
             [
              0.8888888888888888,
              "#fdca26"
             ],
             [
              1,
              "#f0f921"
             ]
            ],
            "type": "histogram2d"
           }
          ],
          "histogram2dcontour": [
           {
            "colorbar": {
             "outlinewidth": 0,
             "ticks": ""
            },
            "colorscale": [
             [
              0,
              "#0d0887"
             ],
             [
              0.1111111111111111,
              "#46039f"
             ],
             [
              0.2222222222222222,
              "#7201a8"
             ],
             [
              0.3333333333333333,
              "#9c179e"
             ],
             [
              0.4444444444444444,
              "#bd3786"
             ],
             [
              0.5555555555555556,
              "#d8576b"
             ],
             [
              0.6666666666666666,
              "#ed7953"
             ],
             [
              0.7777777777777778,
              "#fb9f3a"
             ],
             [
              0.8888888888888888,
              "#fdca26"
             ],
             [
              1,
              "#f0f921"
             ]
            ],
            "type": "histogram2dcontour"
           }
          ],
          "mesh3d": [
           {
            "colorbar": {
             "outlinewidth": 0,
             "ticks": ""
            },
            "type": "mesh3d"
           }
          ],
          "parcoords": [
           {
            "line": {
             "colorbar": {
              "outlinewidth": 0,
              "ticks": ""
             }
            },
            "type": "parcoords"
           }
          ],
          "pie": [
           {
            "automargin": true,
            "type": "pie"
           }
          ],
          "scatter": [
           {
            "fillpattern": {
             "fillmode": "overlay",
             "size": 10,
             "solidity": 0.2
            },
            "type": "scatter"
           }
          ],
          "scatter3d": [
           {
            "line": {
             "colorbar": {
              "outlinewidth": 0,
              "ticks": ""
             }
            },
            "marker": {
             "colorbar": {
              "outlinewidth": 0,
              "ticks": ""
             }
            },
            "type": "scatter3d"
           }
          ],
          "scattercarpet": [
           {
            "marker": {
             "colorbar": {
              "outlinewidth": 0,
              "ticks": ""
             }
            },
            "type": "scattercarpet"
           }
          ],
          "scattergeo": [
           {
            "marker": {
             "colorbar": {
              "outlinewidth": 0,
              "ticks": ""
             }
            },
            "type": "scattergeo"
           }
          ],
          "scattergl": [
           {
            "marker": {
             "colorbar": {
              "outlinewidth": 0,
              "ticks": ""
             }
            },
            "type": "scattergl"
           }
          ],
          "scattermap": [
           {
            "marker": {
             "colorbar": {
              "outlinewidth": 0,
              "ticks": ""
             }
            },
            "type": "scattermap"
           }
          ],
          "scattermapbox": [
           {
            "marker": {
             "colorbar": {
              "outlinewidth": 0,
              "ticks": ""
             }
            },
            "type": "scattermapbox"
           }
          ],
          "scatterpolar": [
           {
            "marker": {
             "colorbar": {
              "outlinewidth": 0,
              "ticks": ""
             }
            },
            "type": "scatterpolar"
           }
          ],
          "scatterpolargl": [
           {
            "marker": {
             "colorbar": {
              "outlinewidth": 0,
              "ticks": ""
             }
            },
            "type": "scatterpolargl"
           }
          ],
          "scatterternary": [
           {
            "marker": {
             "colorbar": {
              "outlinewidth": 0,
              "ticks": ""
             }
            },
            "type": "scatterternary"
           }
          ],
          "surface": [
           {
            "colorbar": {
             "outlinewidth": 0,
             "ticks": ""
            },
            "colorscale": [
             [
              0,
              "#0d0887"
             ],
             [
              0.1111111111111111,
              "#46039f"
             ],
             [
              0.2222222222222222,
              "#7201a8"
             ],
             [
              0.3333333333333333,
              "#9c179e"
             ],
             [
              0.4444444444444444,
              "#bd3786"
             ],
             [
              0.5555555555555556,
              "#d8576b"
             ],
             [
              0.6666666666666666,
              "#ed7953"
             ],
             [
              0.7777777777777778,
              "#fb9f3a"
             ],
             [
              0.8888888888888888,
              "#fdca26"
             ],
             [
              1,
              "#f0f921"
             ]
            ],
            "type": "surface"
           }
          ],
          "table": [
           {
            "cells": {
             "fill": {
              "color": "#EBF0F8"
             },
             "line": {
              "color": "white"
             }
            },
            "header": {
             "fill": {
              "color": "#C8D4E3"
             },
             "line": {
              "color": "white"
             }
            },
            "type": "table"
           }
          ]
         },
         "layout": {
          "annotationdefaults": {
           "arrowcolor": "#2a3f5f",
           "arrowhead": 0,
           "arrowwidth": 1
          },
          "autotypenumbers": "strict",
          "coloraxis": {
           "colorbar": {
            "outlinewidth": 0,
            "ticks": ""
           }
          },
          "colorscale": {
           "diverging": [
            [
             0,
             "#8e0152"
            ],
            [
             0.1,
             "#c51b7d"
            ],
            [
             0.2,
             "#de77ae"
            ],
            [
             0.3,
             "#f1b6da"
            ],
            [
             0.4,
             "#fde0ef"
            ],
            [
             0.5,
             "#f7f7f7"
            ],
            [
             0.6,
             "#e6f5d0"
            ],
            [
             0.7,
             "#b8e186"
            ],
            [
             0.8,
             "#7fbc41"
            ],
            [
             0.9,
             "#4d9221"
            ],
            [
             1,
             "#276419"
            ]
           ],
           "sequential": [
            [
             0,
             "#0d0887"
            ],
            [
             0.1111111111111111,
             "#46039f"
            ],
            [
             0.2222222222222222,
             "#7201a8"
            ],
            [
             0.3333333333333333,
             "#9c179e"
            ],
            [
             0.4444444444444444,
             "#bd3786"
            ],
            [
             0.5555555555555556,
             "#d8576b"
            ],
            [
             0.6666666666666666,
             "#ed7953"
            ],
            [
             0.7777777777777778,
             "#fb9f3a"
            ],
            [
             0.8888888888888888,
             "#fdca26"
            ],
            [
             1,
             "#f0f921"
            ]
           ],
           "sequentialminus": [
            [
             0,
             "#0d0887"
            ],
            [
             0.1111111111111111,
             "#46039f"
            ],
            [
             0.2222222222222222,
             "#7201a8"
            ],
            [
             0.3333333333333333,
             "#9c179e"
            ],
            [
             0.4444444444444444,
             "#bd3786"
            ],
            [
             0.5555555555555556,
             "#d8576b"
            ],
            [
             0.6666666666666666,
             "#ed7953"
            ],
            [
             0.7777777777777778,
             "#fb9f3a"
            ],
            [
             0.8888888888888888,
             "#fdca26"
            ],
            [
             1,
             "#f0f921"
            ]
           ]
          },
          "colorway": [
           "#636efa",
           "#EF553B",
           "#00cc96",
           "#ab63fa",
           "#FFA15A",
           "#19d3f3",
           "#FF6692",
           "#B6E880",
           "#FF97FF",
           "#FECB52"
          ],
          "font": {
           "color": "#2a3f5f"
          },
          "geo": {
           "bgcolor": "white",
           "lakecolor": "white",
           "landcolor": "#E5ECF6",
           "showlakes": true,
           "showland": true,
           "subunitcolor": "white"
          },
          "hoverlabel": {
           "align": "left"
          },
          "hovermode": "closest",
          "mapbox": {
           "style": "light"
          },
          "paper_bgcolor": "white",
          "plot_bgcolor": "#E5ECF6",
          "polar": {
           "angularaxis": {
            "gridcolor": "white",
            "linecolor": "white",
            "ticks": ""
           },
           "bgcolor": "#E5ECF6",
           "radialaxis": {
            "gridcolor": "white",
            "linecolor": "white",
            "ticks": ""
           }
          },
          "scene": {
           "xaxis": {
            "backgroundcolor": "#E5ECF6",
            "gridcolor": "white",
            "gridwidth": 2,
            "linecolor": "white",
            "showbackground": true,
            "ticks": "",
            "zerolinecolor": "white"
           },
           "yaxis": {
            "backgroundcolor": "#E5ECF6",
            "gridcolor": "white",
            "gridwidth": 2,
            "linecolor": "white",
            "showbackground": true,
            "ticks": "",
            "zerolinecolor": "white"
           },
           "zaxis": {
            "backgroundcolor": "#E5ECF6",
            "gridcolor": "white",
            "gridwidth": 2,
            "linecolor": "white",
            "showbackground": true,
            "ticks": "",
            "zerolinecolor": "white"
           }
          },
          "shapedefaults": {
           "line": {
            "color": "#2a3f5f"
           }
          },
          "ternary": {
           "aaxis": {
            "gridcolor": "white",
            "linecolor": "white",
            "ticks": ""
           },
           "baxis": {
            "gridcolor": "white",
            "linecolor": "white",
            "ticks": ""
           },
           "bgcolor": "#E5ECF6",
           "caxis": {
            "gridcolor": "white",
            "linecolor": "white",
            "ticks": ""
           }
          },
          "title": {
           "x": 0.05
          },
          "xaxis": {
           "automargin": true,
           "gridcolor": "white",
           "linecolor": "white",
           "ticks": "",
           "title": {
            "standoff": 15
           },
           "zerolinecolor": "white",
           "zerolinewidth": 2
          },
          "yaxis": {
           "automargin": true,
           "gridcolor": "white",
           "linecolor": "white",
           "ticks": "",
           "title": {
            "standoff": 15
           },
           "zerolinecolor": "white",
           "zerolinewidth": 2
          }
         }
        },
        "title": {
         "text": "mock_ref",
         "x": 0.5
        },
        "width": 650,
        "xaxis": {
         "range": [
          0,
          222.06111
         ],
         "title": {
          "text": "Time (s)"
         }
        },
        "yaxis": {
         "categoryarray": [
          "fine",
          "coarse"
         ],
         "categoryorder": "array",
         "title": {}
        }
       }
      }
     },
     "metadata": {},
     "output_type": "display_data"
    }
   ],
   "source": [
    "from bnl import Segment as S, MultiSegment as MS\n",
    "\n",
    "mock_empty_layer = S([ref.start, ref.end], [None], 'empty')\n",
    "mock_layer = S(ref[1].boundaries, [lab*2 for lab in ref[1].labels], 'redundant')\n",
    "mock_ref = MS([mock_empty_layer] + ref.layers + [mock_layer], name='mock_ref')\n",
    "\n",
    "mock_ref.plot().show()\n",
    "mock_ref.prune_layers().plot().show()\n"
   ]
  },
  {
   "cell_type": "code",
   "execution_count": 19,
   "metadata": {},
   "outputs": [],
   "source": [
    "est1 = est[0].copy()\n",
    "est1.name = \"5\"\n",
    "est1.boundaries[-1] = bnl.Boundary(225)"
   ]
  },
  {
   "cell_type": "code",
   "execution_count": 22,
   "metadata": {},
   "outputs": [
    {
     "data": {
      "text/plain": [
       "TS(B(0.0)-B(222.04082), 5)"
      ]
     },
     "execution_count": 22,
     "metadata": {},
     "output_type": "execute_result"
    }
   ],
   "source": [
    "est1"
   ]
  },
  {
   "cell_type": "code",
   "execution_count": 4,
   "metadata": {},
   "outputs": [
    {
     "data": {
      "application/vnd.plotly.v1+json": {
       "config": {
        "plotlyServerURL": "https://plot.ly"
       },
       "data": [
        {
         "base": [
          0,
          103.47,
          190.65,
          0,
          104.14,
          191.31,
          0,
          104.77,
          191.95,
          0,
          104.77,
          191.95,
          0,
          191.95,
          0,
          191.31,
          191.31,
          191.31,
          183.6,
          183.6
         ],
         "customdata": [
          "<b>0</b><br>Layer: L01<br>Start: 0.000s<br>End: 11.060s<br>Duration: 11.060s",
          "<b>0</b><br>Layer: L01<br>Start: 103.470s<br>End: 153.600s<br>Duration: 50.130s",
          "<b>0</b><br>Layer: L01<br>Start: 190.650s<br>End: 222.041s<br>Duration: 31.391s",
          "<b>0</b><br>Layer: L02<br>Start: 0.000s<br>End: 12.350s<br>Duration: 12.350s",
          "<b>0</b><br>Layer: L02<br>Start: 104.140s<br>End: 152.970s<br>Duration: 48.830s",
          "<b>0</b><br>Layer: L02<br>Start: 191.310s<br>End: 222.041s<br>Duration: 30.731s",
          "<b>0</b><br>Layer: L03<br>Start: 0.000s<br>End: 11.060s<br>Duration: 11.060s",
          "<b>0</b><br>Layer: L03<br>Start: 104.770s<br>End: 152.970s<br>Duration: 48.200s",
          "<b>0</b><br>Layer: L03<br>Start: 191.950s<br>End: 222.041s<br>Duration: 30.091s",
          "<b>0</b><br>Layer: L04<br>Start: 0.000s<br>End: 11.060s<br>Duration: 11.060s",
          "<b>0</b><br>Layer: L04<br>Start: 104.770s<br>End: 152.970s<br>Duration: 48.200s",
          "<b>0</b><br>Layer: L04<br>Start: 191.950s<br>End: 222.041s<br>Duration: 30.091s",
          "<b>0</b><br>Layer: L05<br>Start: 0.000s<br>End: 9.800s<br>Duration: 9.800s",
          "<b>0</b><br>Layer: L05<br>Start: 191.950s<br>End: 222.041s<br>Duration: 30.091s",
          "<b>0</b><br>Layer: L06<br>Start: 0.000s<br>End: 9.160s<br>Duration: 9.160s",
          "<b>0</b><br>Layer: L06<br>Start: 191.310s<br>End: 222.041s<br>Duration: 30.731s",
          "<b>0</b><br>Layer: L07<br>Start: 191.310s<br>End: 222.041s<br>Duration: 30.731s",
          "<b>0</b><br>Layer: L08<br>Start: 191.310s<br>End: 222.041s<br>Duration: 30.731s",
          "<b>0</b><br>Layer: L09<br>Start: 183.600s<br>End: 222.041s<br>Duration: 38.441s",
          "<b>0</b><br>Layer: L10<br>Start: 183.600s<br>End: 222.041s<br>Duration: 38.441s"
         ],
         "hovertemplate": "%{customdata}<extra></extra>",
         "insidetextanchor": "middle",
         "marker": {
          "color": "#1F77B4",
          "line": {
           "color": "white",
           "width": 0.5
          },
          "pattern": {
           "fgcolor": "white",
           "fgopacity": 0.5,
           "shape": "",
           "solidity": 0.25
          }
         },
         "name": "0",
         "orientation": "h",
         "showlegend": true,
         "text": [
          "0",
          "0",
          "0",
          "0",
          "0",
          "0",
          "0",
          "0",
          "0",
          "0",
          "0",
          "0",
          "0",
          "0",
          "0",
          "0",
          "0",
          "0",
          "0",
          "0"
         ],
         "textposition": "inside",
         "type": "bar",
         "width": 1,
         "x": [
          11.06,
          50.129999999999995,
          31.39081999999999,
          12.35,
          48.83,
          30.730819999999994,
          11.06,
          48.2,
          30.090820000000008,
          11.06,
          48.2,
          30.090820000000008,
          9.8,
          30.090820000000008,
          9.16,
          30.730819999999994,
          30.730819999999994,
          30.730819999999994,
          38.44082,
          38.44082
         ],
         "y": [
          "L01",
          "L01",
          "L01",
          "L02",
          "L02",
          "L02",
          "L03",
          "L03",
          "L03",
          "L04",
          "L04",
          "L04",
          "L05",
          "L05",
          "L06",
          "L06",
          "L07",
          "L08",
          "L09",
          "L10"
         ]
        },
        {
         "base": [
          11.06,
          52.02,
          92.5,
          153.6,
          12.35,
          53.96,
          94.44,
          152.97,
          179.12,
          11.06,
          52.68,
          93.14,
          152.97,
          179.12,
          11.06,
          53.31,
          91.88,
          152.97,
          180.4,
          9.8,
          51.38,
          91.88,
          152.97,
          177.21,
          9.16,
          51.38,
          91.88,
          152.97,
          179.12,
          9.8,
          51.38,
          91.88,
          152.97,
          179.12,
          9.8,
          53.96,
          91.88,
          152.97,
          178.47,
          9.16,
          52.68,
          91.88,
          152.36,
          9.8,
          52.68,
          91.25,
          152.97
         ],
         "customdata": [
          "<b>1</b><br>Layer: L01<br>Start: 11.060s<br>End: 21.280s<br>Duration: 10.220s",
          "<b>1</b><br>Layer: L01<br>Start: 52.020s<br>End: 62.310s<br>Duration: 10.290s",
          "<b>1</b><br>Layer: L01<br>Start: 92.500s<br>End: 103.470s<br>Duration: 10.970s",
          "<b>1</b><br>Layer: L01<br>Start: 153.600s<br>End: 190.650s<br>Duration: 37.050s",
          "<b>1</b><br>Layer: L02<br>Start: 12.350s<br>End: 21.930s<br>Duration: 9.580s",
          "<b>1</b><br>Layer: L02<br>Start: 53.960s<br>End: 62.950s<br>Duration: 8.990s",
          "<b>1</b><br>Layer: L02<br>Start: 94.440s<br>End: 104.140s<br>Duration: 9.700s",
          "<b>1</b><br>Layer: L02<br>Start: 152.970s<br>End: 166.310s<br>Duration: 13.340s",
          "<b>1</b><br>Layer: L02<br>Start: 179.120s<br>End: 191.310s<br>Duration: 12.190s",
          "<b>1</b><br>Layer: L03<br>Start: 11.060s<br>End: 21.930s<br>Duration: 10.870s",
          "<b>1</b><br>Layer: L03<br>Start: 52.680s<br>End: 63.590s<br>Duration: 10.910s",
          "<b>1</b><br>Layer: L03<br>Start: 93.140s<br>End: 104.770s<br>Duration: 11.630s",
          "<b>1</b><br>Layer: L03<br>Start: 152.970s<br>End: 166.310s<br>Duration: 13.340s",
          "<b>1</b><br>Layer: L03<br>Start: 179.120s<br>End: 191.950s<br>Duration: 12.830s",
          "<b>1</b><br>Layer: L04<br>Start: 11.060s<br>End: 21.930s<br>Duration: 10.870s",
          "<b>1</b><br>Layer: L04<br>Start: 53.310s<br>End: 63.590s<br>Duration: 10.280s",
          "<b>1</b><br>Layer: L04<br>Start: 91.880s<br>End: 104.770s<br>Duration: 12.890s",
          "<b>1</b><br>Layer: L04<br>Start: 152.970s<br>End: 169.520s<br>Duration: 16.550s",
          "<b>1</b><br>Layer: L04<br>Start: 180.400s<br>End: 191.950s<br>Duration: 11.550s",
          "<b>1</b><br>Layer: L05<br>Start: 9.800s<br>End: 21.930s<br>Duration: 12.130s",
          "<b>1</b><br>Layer: L05<br>Start: 51.380s<br>End: 63.590s<br>Duration: 12.210s",
          "<b>1</b><br>Layer: L05<br>Start: 91.880s<br>End: 104.770s<br>Duration: 12.890s",
          "<b>1</b><br>Layer: L05<br>Start: 152.970s<br>End: 166.310s<br>Duration: 13.340s",
          "<b>1</b><br>Layer: L05<br>Start: 177.210s<br>End: 191.950s<br>Duration: 14.740s",
          "<b>1</b><br>Layer: L06<br>Start: 9.160s<br>End: 21.930s<br>Duration: 12.770s",
          "<b>1</b><br>Layer: L06<br>Start: 51.380s<br>End: 63.590s<br>Duration: 12.210s",
          "<b>1</b><br>Layer: L06<br>Start: 91.880s<br>End: 112.480s<br>Duration: 20.600s",
          "<b>1</b><br>Layer: L06<br>Start: 152.970s<br>End: 166.310s<br>Duration: 13.340s",
          "<b>1</b><br>Layer: L06<br>Start: 179.120s<br>End: 191.310s<br>Duration: 12.190s",
          "<b>1</b><br>Layer: L07<br>Start: 9.800s<br>End: 21.930s<br>Duration: 12.130s",
          "<b>1</b><br>Layer: L07<br>Start: 51.380s<br>End: 63.590s<br>Duration: 12.210s",
          "<b>1</b><br>Layer: L07<br>Start: 91.880s<br>End: 112.480s<br>Duration: 20.600s",
          "<b>1</b><br>Layer: L07<br>Start: 152.970s<br>End: 166.310s<br>Duration: 13.340s",
          "<b>1</b><br>Layer: L07<br>Start: 179.120s<br>End: 191.310s<br>Duration: 12.190s",
          "<b>1</b><br>Layer: L08<br>Start: 9.800s<br>End: 21.930s<br>Duration: 12.130s",
          "<b>1</b><br>Layer: L08<br>Start: 53.960s<br>End: 63.590s<br>Duration: 9.630s",
          "<b>1</b><br>Layer: L08<br>Start: 91.880s<br>End: 104.770s<br>Duration: 12.890s",
          "<b>1</b><br>Layer: L08<br>Start: 152.970s<br>End: 166.310s<br>Duration: 13.340s",
          "<b>1</b><br>Layer: L08<br>Start: 178.470s<br>End: 191.310s<br>Duration: 12.840s",
          "<b>1</b><br>Layer: L09<br>Start: 9.160s<br>End: 21.930s<br>Duration: 12.770s",
          "<b>1</b><br>Layer: L09<br>Start: 52.680s<br>End: 63.590s<br>Duration: 10.910s",
          "<b>1</b><br>Layer: L09<br>Start: 91.880s<br>End: 111.830s<br>Duration: 19.950s",
          "<b>1</b><br>Layer: L09<br>Start: 152.360s<br>End: 166.310s<br>Duration: 13.950s",
          "<b>1</b><br>Layer: L10<br>Start: 9.800s<br>End: 21.930s<br>Duration: 12.130s",
          "<b>1</b><br>Layer: L10<br>Start: 52.680s<br>End: 63.590s<br>Duration: 10.910s",
          "<b>1</b><br>Layer: L10<br>Start: 91.250s<br>End: 104.770s<br>Duration: 13.520s",
          "<b>1</b><br>Layer: L10<br>Start: 152.970s<br>End: 168.890s<br>Duration: 15.920s"
         ],
         "hovertemplate": "%{customdata}<extra></extra>",
         "insidetextanchor": "middle",
         "marker": {
          "color": "#FF7F0E",
          "line": {
           "color": "white",
           "width": 0.5
          },
          "pattern": {
           "fgcolor": "white",
           "fgopacity": 0.5,
           "shape": "",
           "solidity": 0.25
          }
         },
         "name": "1",
         "orientation": "h",
         "showlegend": true,
         "text": [
          "1",
          "1",
          "1",
          "1",
          "1",
          "1",
          "1",
          "1",
          "1",
          "1",
          "1",
          "1",
          "1",
          "1",
          "1",
          "1",
          "1",
          "1",
          "1",
          "1",
          "1",
          "1",
          "1",
          "1",
          "1",
          "1",
          "1",
          "1",
          "1",
          "1",
          "1",
          "1",
          "1",
          "1",
          "1",
          "1",
          "1",
          "1",
          "1",
          "1",
          "1",
          "1",
          "1",
          "1",
          "1",
          "1",
          "1"
         ],
         "textposition": "inside",
         "type": "bar",
         "width": 1,
         "x": [
          10.22,
          10.29,
          10.969999999999999,
          37.05000000000001,
          9.58,
          8.990000000000002,
          9.700000000000003,
          13.340000000000003,
          12.189999999999998,
          10.87,
          10.910000000000004,
          11.629999999999995,
          13.340000000000003,
          12.829999999999984,
          10.87,
          10.280000000000001,
          12.89,
          16.55000000000001,
          11.549999999999983,
          12.129999999999999,
          12.21,
          12.89,
          13.340000000000003,
          14.73999999999998,
          12.77,
          12.21,
          20.60000000000001,
          13.340000000000003,
          12.189999999999998,
          12.129999999999999,
          12.21,
          20.60000000000001,
          13.340000000000003,
          12.189999999999998,
          12.129999999999999,
          9.630000000000003,
          12.89,
          13.340000000000003,
          12.840000000000003,
          12.77,
          10.910000000000004,
          19.950000000000003,
          13.949999999999989,
          12.129999999999999,
          10.910000000000004,
          13.519999999999996,
          15.919999999999987
         ],
         "y": [
          "L01",
          "L01",
          "L01",
          "L01",
          "L02",
          "L02",
          "L02",
          "L02",
          "L02",
          "L03",
          "L03",
          "L03",
          "L03",
          "L03",
          "L04",
          "L04",
          "L04",
          "L04",
          "L04",
          "L05",
          "L05",
          "L05",
          "L05",
          "L05",
          "L06",
          "L06",
          "L06",
          "L06",
          "L06",
          "L07",
          "L07",
          "L07",
          "L07",
          "L07",
          "L08",
          "L08",
          "L08",
          "L08",
          "L08",
          "L09",
          "L09",
          "L09",
          "L09",
          "L10",
          "L10",
          "L10",
          "L10"
         ]
        },
        {
         "base": [
          21.28,
          62.31,
          21.93,
          62.95,
          166.31,
          21.93,
          63.59,
          166.31,
          21.93,
          63.59,
          21.93,
          63.59,
          166.31,
          33.38,
          75.15,
          166.31,
          32.75,
          75.15,
          166.31,
          32.75,
          75.15,
          166.31,
          32.12,
          75.15,
          33.38,
          75.15
         ],
         "customdata": [
          "<b>2</b><br>Layer: L01<br>Start: 21.280s<br>End: 52.020s<br>Duration: 30.740s",
          "<b>2</b><br>Layer: L01<br>Start: 62.310s<br>End: 92.500s<br>Duration: 30.190s",
          "<b>2</b><br>Layer: L02<br>Start: 21.930s<br>End: 53.960s<br>Duration: 32.030s",
          "<b>2</b><br>Layer: L02<br>Start: 62.950s<br>End: 94.440s<br>Duration: 31.490s",
          "<b>2</b><br>Layer: L02<br>Start: 166.310s<br>End: 179.120s<br>Duration: 12.810s",
          "<b>2</b><br>Layer: L03<br>Start: 21.930s<br>End: 52.680s<br>Duration: 30.750s",
          "<b>2</b><br>Layer: L03<br>Start: 63.590s<br>End: 93.140s<br>Duration: 29.550s",
          "<b>2</b><br>Layer: L03<br>Start: 166.310s<br>End: 179.120s<br>Duration: 12.810s",
          "<b>2</b><br>Layer: L04<br>Start: 21.930s<br>End: 53.310s<br>Duration: 31.380s",
          "<b>2</b><br>Layer: L04<br>Start: 63.590s<br>End: 91.880s<br>Duration: 28.290s",
          "<b>2</b><br>Layer: L05<br>Start: 21.930s<br>End: 51.380s<br>Duration: 29.450s",
          "<b>2</b><br>Layer: L05<br>Start: 63.590s<br>End: 91.880s<br>Duration: 28.290s",
          "<b>2</b><br>Layer: L05<br>Start: 166.310s<br>End: 177.210s<br>Duration: 10.900s",
          "<b>2</b><br>Layer: L06<br>Start: 33.380s<br>End: 51.380s<br>Duration: 18.000s",
          "<b>2</b><br>Layer: L06<br>Start: 75.150s<br>End: 91.880s<br>Duration: 16.730s",
          "<b>2</b><br>Layer: L06<br>Start: 166.310s<br>End: 179.120s<br>Duration: 12.810s",
          "<b>2</b><br>Layer: L07<br>Start: 32.750s<br>End: 51.380s<br>Duration: 18.630s",
          "<b>2</b><br>Layer: L07<br>Start: 75.150s<br>End: 91.880s<br>Duration: 16.730s",
          "<b>2</b><br>Layer: L07<br>Start: 166.310s<br>End: 179.120s<br>Duration: 12.810s",
          "<b>2</b><br>Layer: L08<br>Start: 32.750s<br>End: 53.960s<br>Duration: 21.210s",
          "<b>2</b><br>Layer: L08<br>Start: 75.150s<br>End: 91.880s<br>Duration: 16.730s",
          "<b>2</b><br>Layer: L08<br>Start: 166.310s<br>End: 178.470s<br>Duration: 12.160s",
          "<b>2</b><br>Layer: L09<br>Start: 32.120s<br>End: 52.680s<br>Duration: 20.560s",
          "<b>2</b><br>Layer: L09<br>Start: 75.150s<br>End: 91.880s<br>Duration: 16.730s",
          "<b>2</b><br>Layer: L10<br>Start: 33.380s<br>End: 52.680s<br>Duration: 19.300s",
          "<b>2</b><br>Layer: L10<br>Start: 75.150s<br>End: 91.250s<br>Duration: 16.100s"
         ],
         "hovertemplate": "%{customdata}<extra></extra>",
         "insidetextanchor": "middle",
         "marker": {
          "color": "#2CA02C",
          "line": {
           "color": "white",
           "width": 0.5
          },
          "pattern": {
           "fgcolor": "white",
           "fgopacity": 0.5,
           "shape": "",
           "solidity": 0.25
          }
         },
         "name": "2",
         "orientation": "h",
         "showlegend": true,
         "text": [
          "2",
          "2",
          "2",
          "2",
          "2",
          "2",
          "2",
          "2",
          "2",
          "2",
          "2",
          "2",
          "2",
          "2",
          "2",
          "2",
          "2",
          "2",
          "2",
          "2",
          "2",
          "2",
          "2",
          "2",
          "2",
          "2"
         ],
         "textposition": "inside",
         "type": "bar",
         "width": 1,
         "x": [
          30.740000000000002,
          30.189999999999998,
          32.03,
          31.489999999999995,
          12.810000000000002,
          30.75,
          29.549999999999997,
          12.810000000000002,
          31.380000000000003,
          28.289999999999992,
          29.450000000000003,
          28.289999999999992,
          10.900000000000006,
          18,
          16.72999999999999,
          12.810000000000002,
          18.630000000000003,
          16.72999999999999,
          12.810000000000002,
          21.21,
          16.72999999999999,
          12.159999999999997,
          20.560000000000002,
          16.72999999999999,
          19.299999999999997,
          16.099999999999994
         ],
         "y": [
          "L01",
          "L01",
          "L02",
          "L02",
          "L02",
          "L03",
          "L03",
          "L03",
          "L04",
          "L04",
          "L05",
          "L05",
          "L05",
          "L06",
          "L06",
          "L06",
          "L07",
          "L07",
          "L07",
          "L08",
          "L08",
          "L08",
          "L09",
          "L09",
          "L10",
          "L10"
         ]
        },
        {
         "base": [
          169.52,
          166.31,
          168.89
         ],
         "customdata": [
          "<b>5</b><br>Layer: L04<br>Start: 169.520s<br>End: 180.400s<br>Duration: 10.880s",
          "<b>5</b><br>Layer: L09<br>Start: 166.310s<br>End: 183.600s<br>Duration: 17.290s",
          "<b>5</b><br>Layer: L10<br>Start: 168.890s<br>End: 183.600s<br>Duration: 14.710s"
         ],
         "hovertemplate": "%{customdata}<extra></extra>",
         "insidetextanchor": "middle",
         "marker": {
          "color": "#D62728",
          "line": {
           "color": "white",
           "width": 0.5
          },
          "pattern": {
           "fgcolor": "white",
           "fgopacity": 0.5,
           "shape": "",
           "solidity": 0.25
          }
         },
         "name": "5",
         "orientation": "h",
         "showlegend": true,
         "text": [
          "5",
          "5",
          "5"
         ],
         "textposition": "inside",
         "type": "bar",
         "width": 1,
         "x": [
          10.879999999999995,
          17.289999999999992,
          14.710000000000008
         ],
         "y": [
          "L04",
          "L09",
          "L10"
         ]
        },
        {
         "base": [
          104.77,
          112.48,
          112.48,
          104.77,
          111.83,
          104.77
         ],
         "customdata": [
          "<b>6</b><br>Layer: L05<br>Start: 104.770s<br>End: 152.970s<br>Duration: 48.200s",
          "<b>6</b><br>Layer: L06<br>Start: 112.480s<br>End: 152.970s<br>Duration: 40.490s",
          "<b>6</b><br>Layer: L07<br>Start: 112.480s<br>End: 152.970s<br>Duration: 40.490s",
          "<b>6</b><br>Layer: L08<br>Start: 104.770s<br>End: 152.970s<br>Duration: 48.200s",
          "<b>6</b><br>Layer: L09<br>Start: 111.830s<br>End: 134.480s<br>Duration: 22.650s",
          "<b>6</b><br>Layer: L10<br>Start: 104.770s<br>End: 134.480s<br>Duration: 29.710s"
         ],
         "hovertemplate": "%{customdata}<extra></extra>",
         "insidetextanchor": "middle",
         "marker": {
          "color": "#9467BD",
          "line": {
           "color": "white",
           "width": 0.5
          },
          "pattern": {
           "fgcolor": "white",
           "fgopacity": 0.5,
           "shape": "",
           "solidity": 0.25
          }
         },
         "name": "6",
         "orientation": "h",
         "showlegend": true,
         "text": [
          "6",
          "6",
          "6",
          "6",
          "6",
          "6"
         ],
         "textposition": "inside",
         "type": "bar",
         "width": 1,
         "x": [
          48.2,
          40.489999999999995,
          40.489999999999995,
          48.2,
          22.64999999999999,
          29.709999999999994
         ],
         "y": [
          "L05",
          "L06",
          "L07",
          "L08",
          "L09",
          "L10"
         ]
        },
        {
         "base": [
          21.93,
          63.59,
          21.93,
          63.59,
          21.93,
          63.59,
          21.93,
          63.59,
          21.93,
          63.59
         ],
         "customdata": [
          "<b>7</b><br>Layer: L06<br>Start: 21.930s<br>End: 33.380s<br>Duration: 11.450s",
          "<b>7</b><br>Layer: L06<br>Start: 63.590s<br>End: 75.150s<br>Duration: 11.560s",
          "<b>7</b><br>Layer: L07<br>Start: 21.930s<br>End: 32.750s<br>Duration: 10.820s",
          "<b>7</b><br>Layer: L07<br>Start: 63.590s<br>End: 75.150s<br>Duration: 11.560s",
          "<b>7</b><br>Layer: L08<br>Start: 21.930s<br>End: 32.750s<br>Duration: 10.820s",
          "<b>7</b><br>Layer: L08<br>Start: 63.590s<br>End: 75.150s<br>Duration: 11.560s",
          "<b>7</b><br>Layer: L09<br>Start: 21.930s<br>End: 32.120s<br>Duration: 10.190s",
          "<b>7</b><br>Layer: L09<br>Start: 63.590s<br>End: 75.150s<br>Duration: 11.560s",
          "<b>7</b><br>Layer: L10<br>Start: 21.930s<br>End: 33.380s<br>Duration: 11.450s",
          "<b>7</b><br>Layer: L10<br>Start: 63.590s<br>End: 75.150s<br>Duration: 11.560s"
         ],
         "hovertemplate": "%{customdata}<extra></extra>",
         "insidetextanchor": "middle",
         "marker": {
          "color": "#8C564B",
          "line": {
           "color": "white",
           "width": 0.5
          },
          "pattern": {
           "fgcolor": "white",
           "fgopacity": 0.5,
           "shape": "",
           "solidity": 0.25
          }
         },
         "name": "7",
         "orientation": "h",
         "showlegend": true,
         "text": [
          "7",
          "7",
          "7",
          "7",
          "7",
          "7",
          "7",
          "7",
          "7",
          "7"
         ],
         "textposition": "inside",
         "type": "bar",
         "width": 1,
         "x": [
          11.450000000000003,
          11.560000000000002,
          10.82,
          11.560000000000002,
          10.82,
          11.560000000000002,
          10.189999999999998,
          11.560000000000002,
          11.450000000000003,
          11.560000000000002
         ],
         "y": [
          "L06",
          "L06",
          "L07",
          "L07",
          "L08",
          "L08",
          "L09",
          "L09",
          "L10",
          "L10"
         ]
        },
        {
         "base": [
          0,
          0,
          0,
          0
         ],
         "customdata": [
          "<b>8</b><br>Layer: L07<br>Start: 0.000s<br>End: 9.800s<br>Duration: 9.800s",
          "<b>8</b><br>Layer: L08<br>Start: 0.000s<br>End: 9.800s<br>Duration: 9.800s",
          "<b>8</b><br>Layer: L09<br>Start: 0.000s<br>End: 9.160s<br>Duration: 9.160s",
          "<b>8</b><br>Layer: L10<br>Start: 0.000s<br>End: 9.800s<br>Duration: 9.800s"
         ],
         "hovertemplate": "%{customdata}<extra></extra>",
         "insidetextanchor": "middle",
         "marker": {
          "color": "#E377C2",
          "line": {
           "color": "white",
           "width": 0.5
          },
          "pattern": {
           "fgcolor": "white",
           "fgopacity": 0.5,
           "shape": "",
           "solidity": 0.25
          }
         },
         "name": "8",
         "orientation": "h",
         "showlegend": true,
         "text": [
          "8",
          "8",
          "8",
          "8"
         ],
         "textposition": "inside",
         "type": "bar",
         "width": 1,
         "x": [
          9.8,
          9.8,
          9.16,
          9.8
         ],
         "y": [
          "L07",
          "L08",
          "L09",
          "L10"
         ]
        },
        {
         "base": [
          134.48,
          134.48
         ],
         "customdata": [
          "<b>9</b><br>Layer: L09<br>Start: 134.480s<br>End: 152.360s<br>Duration: 17.880s",
          "<b>9</b><br>Layer: L10<br>Start: 134.480s<br>End: 152.970s<br>Duration: 18.490s"
         ],
         "hovertemplate": "%{customdata}<extra></extra>",
         "insidetextanchor": "middle",
         "marker": {
          "color": "#7F7F7F",
          "line": {
           "color": "white",
           "width": 0.5
          },
          "pattern": {
           "fgcolor": "white",
           "fgopacity": 0.5,
           "shape": "",
           "solidity": 0.25
          }
         },
         "name": "9",
         "orientation": "h",
         "showlegend": true,
         "text": [
          "9",
          "9"
         ],
         "textposition": "inside",
         "type": "bar",
         "width": 1,
         "x": [
          17.880000000000024,
          18.49000000000001
         ],
         "y": [
          "L09",
          "L10"
         ]
        }
       ],
       "layout": {
        "barmode": "overlay",
        "height": 320,
        "margin": {
         "b": 20,
         "l": 20,
         "r": 20,
         "t": 40
        },
        "showlegend": false,
        "template": {
         "data": {
          "bar": [
           {
            "error_x": {
             "color": "#2a3f5f"
            },
            "error_y": {
             "color": "#2a3f5f"
            },
            "marker": {
             "line": {
              "color": "#E5ECF6",
              "width": 0.5
             },
             "pattern": {
              "fillmode": "overlay",
              "size": 10,
              "solidity": 0.2
             }
            },
            "type": "bar"
           }
          ],
          "barpolar": [
           {
            "marker": {
             "line": {
              "color": "#E5ECF6",
              "width": 0.5
             },
             "pattern": {
              "fillmode": "overlay",
              "size": 10,
              "solidity": 0.2
             }
            },
            "type": "barpolar"
           }
          ],
          "carpet": [
           {
            "aaxis": {
             "endlinecolor": "#2a3f5f",
             "gridcolor": "white",
             "linecolor": "white",
             "minorgridcolor": "white",
             "startlinecolor": "#2a3f5f"
            },
            "baxis": {
             "endlinecolor": "#2a3f5f",
             "gridcolor": "white",
             "linecolor": "white",
             "minorgridcolor": "white",
             "startlinecolor": "#2a3f5f"
            },
            "type": "carpet"
           }
          ],
          "choropleth": [
           {
            "colorbar": {
             "outlinewidth": 0,
             "ticks": ""
            },
            "type": "choropleth"
           }
          ],
          "contour": [
           {
            "colorbar": {
             "outlinewidth": 0,
             "ticks": ""
            },
            "colorscale": [
             [
              0,
              "#0d0887"
             ],
             [
              0.1111111111111111,
              "#46039f"
             ],
             [
              0.2222222222222222,
              "#7201a8"
             ],
             [
              0.3333333333333333,
              "#9c179e"
             ],
             [
              0.4444444444444444,
              "#bd3786"
             ],
             [
              0.5555555555555556,
              "#d8576b"
             ],
             [
              0.6666666666666666,
              "#ed7953"
             ],
             [
              0.7777777777777778,
              "#fb9f3a"
             ],
             [
              0.8888888888888888,
              "#fdca26"
             ],
             [
              1,
              "#f0f921"
             ]
            ],
            "type": "contour"
           }
          ],
          "contourcarpet": [
           {
            "colorbar": {
             "outlinewidth": 0,
             "ticks": ""
            },
            "type": "contourcarpet"
           }
          ],
          "heatmap": [
           {
            "colorbar": {
             "outlinewidth": 0,
             "ticks": ""
            },
            "colorscale": [
             [
              0,
              "#0d0887"
             ],
             [
              0.1111111111111111,
              "#46039f"
             ],
             [
              0.2222222222222222,
              "#7201a8"
             ],
             [
              0.3333333333333333,
              "#9c179e"
             ],
             [
              0.4444444444444444,
              "#bd3786"
             ],
             [
              0.5555555555555556,
              "#d8576b"
             ],
             [
              0.6666666666666666,
              "#ed7953"
             ],
             [
              0.7777777777777778,
              "#fb9f3a"
             ],
             [
              0.8888888888888888,
              "#fdca26"
             ],
             [
              1,
              "#f0f921"
             ]
            ],
            "type": "heatmap"
           }
          ],
          "histogram": [
           {
            "marker": {
             "pattern": {
              "fillmode": "overlay",
              "size": 10,
              "solidity": 0.2
             }
            },
            "type": "histogram"
           }
          ],
          "histogram2d": [
           {
            "colorbar": {
             "outlinewidth": 0,
             "ticks": ""
            },
            "colorscale": [
             [
              0,
              "#0d0887"
             ],
             [
              0.1111111111111111,
              "#46039f"
             ],
             [
              0.2222222222222222,
              "#7201a8"
             ],
             [
              0.3333333333333333,
              "#9c179e"
             ],
             [
              0.4444444444444444,
              "#bd3786"
             ],
             [
              0.5555555555555556,
              "#d8576b"
             ],
             [
              0.6666666666666666,
              "#ed7953"
             ],
             [
              0.7777777777777778,
              "#fb9f3a"
             ],
             [
              0.8888888888888888,
              "#fdca26"
             ],
             [
              1,
              "#f0f921"
             ]
            ],
            "type": "histogram2d"
           }
          ],
          "histogram2dcontour": [
           {
            "colorbar": {
             "outlinewidth": 0,
             "ticks": ""
            },
            "colorscale": [
             [
              0,
              "#0d0887"
             ],
             [
              0.1111111111111111,
              "#46039f"
             ],
             [
              0.2222222222222222,
              "#7201a8"
             ],
             [
              0.3333333333333333,
              "#9c179e"
             ],
             [
              0.4444444444444444,
              "#bd3786"
             ],
             [
              0.5555555555555556,
              "#d8576b"
             ],
             [
              0.6666666666666666,
              "#ed7953"
             ],
             [
              0.7777777777777778,
              "#fb9f3a"
             ],
             [
              0.8888888888888888,
              "#fdca26"
             ],
             [
              1,
              "#f0f921"
             ]
            ],
            "type": "histogram2dcontour"
           }
          ],
          "mesh3d": [
           {
            "colorbar": {
             "outlinewidth": 0,
             "ticks": ""
            },
            "type": "mesh3d"
           }
          ],
          "parcoords": [
           {
            "line": {
             "colorbar": {
              "outlinewidth": 0,
              "ticks": ""
             }
            },
            "type": "parcoords"
           }
          ],
          "pie": [
           {
            "automargin": true,
            "type": "pie"
           }
          ],
          "scatter": [
           {
            "fillpattern": {
             "fillmode": "overlay",
             "size": 10,
             "solidity": 0.2
            },
            "type": "scatter"
           }
          ],
          "scatter3d": [
           {
            "line": {
             "colorbar": {
              "outlinewidth": 0,
              "ticks": ""
             }
            },
            "marker": {
             "colorbar": {
              "outlinewidth": 0,
              "ticks": ""
             }
            },
            "type": "scatter3d"
           }
          ],
          "scattercarpet": [
           {
            "marker": {
             "colorbar": {
              "outlinewidth": 0,
              "ticks": ""
             }
            },
            "type": "scattercarpet"
           }
          ],
          "scattergeo": [
           {
            "marker": {
             "colorbar": {
              "outlinewidth": 0,
              "ticks": ""
             }
            },
            "type": "scattergeo"
           }
          ],
          "scattergl": [
           {
            "marker": {
             "colorbar": {
              "outlinewidth": 0,
              "ticks": ""
             }
            },
            "type": "scattergl"
           }
          ],
          "scattermap": [
           {
            "marker": {
             "colorbar": {
              "outlinewidth": 0,
              "ticks": ""
             }
            },
            "type": "scattermap"
           }
          ],
          "scattermapbox": [
           {
            "marker": {
             "colorbar": {
              "outlinewidth": 0,
              "ticks": ""
             }
            },
            "type": "scattermapbox"
           }
          ],
          "scatterpolar": [
           {
            "marker": {
             "colorbar": {
              "outlinewidth": 0,
              "ticks": ""
             }
            },
            "type": "scatterpolar"
           }
          ],
          "scatterpolargl": [
           {
            "marker": {
             "colorbar": {
              "outlinewidth": 0,
              "ticks": ""
             }
            },
            "type": "scatterpolargl"
           }
          ],
          "scatterternary": [
           {
            "marker": {
             "colorbar": {
              "outlinewidth": 0,
              "ticks": ""
             }
            },
            "type": "scatterternary"
           }
          ],
          "surface": [
           {
            "colorbar": {
             "outlinewidth": 0,
             "ticks": ""
            },
            "colorscale": [
             [
              0,
              "#0d0887"
             ],
             [
              0.1111111111111111,
              "#46039f"
             ],
             [
              0.2222222222222222,
              "#7201a8"
             ],
             [
              0.3333333333333333,
              "#9c179e"
             ],
             [
              0.4444444444444444,
              "#bd3786"
             ],
             [
              0.5555555555555556,
              "#d8576b"
             ],
             [
              0.6666666666666666,
              "#ed7953"
             ],
             [
              0.7777777777777778,
              "#fb9f3a"
             ],
             [
              0.8888888888888888,
              "#fdca26"
             ],
             [
              1,
              "#f0f921"
             ]
            ],
            "type": "surface"
           }
          ],
          "table": [
           {
            "cells": {
             "fill": {
              "color": "#EBF0F8"
             },
             "line": {
              "color": "white"
             }
            },
            "header": {
             "fill": {
              "color": "#C8D4E3"
             },
             "line": {
              "color": "white"
             }
            },
            "type": "table"
           }
          ]
         },
         "layout": {
          "annotationdefaults": {
           "arrowcolor": "#2a3f5f",
           "arrowhead": 0,
           "arrowwidth": 1
          },
          "autotypenumbers": "strict",
          "coloraxis": {
           "colorbar": {
            "outlinewidth": 0,
            "ticks": ""
           }
          },
          "colorscale": {
           "diverging": [
            [
             0,
             "#8e0152"
            ],
            [
             0.1,
             "#c51b7d"
            ],
            [
             0.2,
             "#de77ae"
            ],
            [
             0.3,
             "#f1b6da"
            ],
            [
             0.4,
             "#fde0ef"
            ],
            [
             0.5,
             "#f7f7f7"
            ],
            [
             0.6,
             "#e6f5d0"
            ],
            [
             0.7,
             "#b8e186"
            ],
            [
             0.8,
             "#7fbc41"
            ],
            [
             0.9,
             "#4d9221"
            ],
            [
             1,
             "#276419"
            ]
           ],
           "sequential": [
            [
             0,
             "#0d0887"
            ],
            [
             0.1111111111111111,
             "#46039f"
            ],
            [
             0.2222222222222222,
             "#7201a8"
            ],
            [
             0.3333333333333333,
             "#9c179e"
            ],
            [
             0.4444444444444444,
             "#bd3786"
            ],
            [
             0.5555555555555556,
             "#d8576b"
            ],
            [
             0.6666666666666666,
             "#ed7953"
            ],
            [
             0.7777777777777778,
             "#fb9f3a"
            ],
            [
             0.8888888888888888,
             "#fdca26"
            ],
            [
             1,
             "#f0f921"
            ]
           ],
           "sequentialminus": [
            [
             0,
             "#0d0887"
            ],
            [
             0.1111111111111111,
             "#46039f"
            ],
            [
             0.2222222222222222,
             "#7201a8"
            ],
            [
             0.3333333333333333,
             "#9c179e"
            ],
            [
             0.4444444444444444,
             "#bd3786"
            ],
            [
             0.5555555555555556,
             "#d8576b"
            ],
            [
             0.6666666666666666,
             "#ed7953"
            ],
            [
             0.7777777777777778,
             "#fb9f3a"
            ],
            [
             0.8888888888888888,
             "#fdca26"
            ],
            [
             1,
             "#f0f921"
            ]
           ]
          },
          "colorway": [
           "#636efa",
           "#EF553B",
           "#00cc96",
           "#ab63fa",
           "#FFA15A",
           "#19d3f3",
           "#FF6692",
           "#B6E880",
           "#FF97FF",
           "#FECB52"
          ],
          "font": {
           "color": "#2a3f5f"
          },
          "geo": {
           "bgcolor": "white",
           "lakecolor": "white",
           "landcolor": "#E5ECF6",
           "showlakes": true,
           "showland": true,
           "subunitcolor": "white"
          },
          "hoverlabel": {
           "align": "left"
          },
          "hovermode": "closest",
          "mapbox": {
           "style": "light"
          },
          "paper_bgcolor": "white",
          "plot_bgcolor": "#E5ECF6",
          "polar": {
           "angularaxis": {
            "gridcolor": "white",
            "linecolor": "white",
            "ticks": ""
           },
           "bgcolor": "#E5ECF6",
           "radialaxis": {
            "gridcolor": "white",
            "linecolor": "white",
            "ticks": ""
           }
          },
          "scene": {
           "xaxis": {
            "backgroundcolor": "#E5ECF6",
            "gridcolor": "white",
            "gridwidth": 2,
            "linecolor": "white",
            "showbackground": true,
            "ticks": "",
            "zerolinecolor": "white"
           },
           "yaxis": {
            "backgroundcolor": "#E5ECF6",
            "gridcolor": "white",
            "gridwidth": 2,
            "linecolor": "white",
            "showbackground": true,
            "ticks": "",
            "zerolinecolor": "white"
           },
           "zaxis": {
            "backgroundcolor": "#E5ECF6",
            "gridcolor": "white",
            "gridwidth": 2,
            "linecolor": "white",
            "showbackground": true,
            "ticks": "",
            "zerolinecolor": "white"
           }
          },
          "shapedefaults": {
           "line": {
            "color": "#2a3f5f"
           }
          },
          "ternary": {
           "aaxis": {
            "gridcolor": "white",
            "linecolor": "white",
            "ticks": ""
           },
           "baxis": {
            "gridcolor": "white",
            "linecolor": "white",
            "ticks": ""
           },
           "bgcolor": "#E5ECF6",
           "caxis": {
            "gridcolor": "white",
            "linecolor": "white",
            "ticks": ""
           }
          },
          "title": {
           "x": 0.05
          },
          "xaxis": {
           "automargin": true,
           "gridcolor": "white",
           "linecolor": "white",
           "ticks": "",
           "title": {
            "standoff": 15
           },
           "zerolinecolor": "white",
           "zerolinewidth": 2
          },
          "yaxis": {
           "automargin": true,
           "gridcolor": "white",
           "linecolor": "white",
           "ticks": "",
           "title": {
            "standoff": 15
           },
           "zerolinecolor": "white",
           "zerolinewidth": 2
          }
         }
        },
        "title": {
         "text": "adobe-mu5gamma5",
         "x": 0.5
        },
        "width": 650,
        "xaxis": {
         "range": [
          0,
          222.04082
         ],
         "title": {
          "text": "Time (s)"
         }
        },
        "yaxis": {
         "categoryarray": [
          "L10",
          "L09",
          "L08",
          "L07",
          "L06",
          "L05",
          "L04",
          "L03",
          "L02",
          "L01"
         ],
         "categoryorder": "array",
         "title": {}
        }
       }
      }
     },
     "metadata": {},
     "output_type": "display_data"
    }
   ],
   "source": [
    "est.prune_layers(relabel=False).plot()"
   ]
  },
  {
   "cell_type": "code",
   "execution_count": 3,
   "metadata": {},
   "outputs": [],
   "source": [
    "# First figure: we need to show for T-measure, what's it's deal with monotonicity.\n",
    "import mir_eval\n",
    "import numpy as np\n",
    "\n",
    "aligned_est = ref.align_layers(est)\n",
    "mono_est_count = aligned_est.to_contour('count').to_hierarchy().to_multisegment()\n",
    "mono_est_depth = aligned_est.to_contour('depth').to_hierarchy().to_multisegment()\n",
    "mono_est_prob = aligned_est.to_contour('prob').to_hierarchy().to_multisegment()\n"
   ]
  },
  {
   "cell_type": "code",
   "execution_count": 29,
   "metadata": {},
   "outputs": [
    {
     "data": {
      "application/vnd.plotly.v1+json": {
       "config": {
        "plotlyServerURL": "https://plot.ly"
       },
       "data": [
        {
         "base": [
          0
         ],
         "customdata": [
          "<b>silence</b><br>Layer: coarse<br>Start: 0.000s<br>End: 0.244s<br>Duration: 0.244s"
         ],
         "hovertemplate": "%{customdata}<extra></extra>",
         "insidetextanchor": "middle",
         "marker": {
          "color": "#1F77B4",
          "line": {
           "color": "white",
           "width": 0.5
          },
          "pattern": {
           "fgcolor": "white",
           "fgopacity": 0.5,
           "shape": "",
           "solidity": 0.25
          }
         },
         "name": "silence",
         "orientation": "h",
         "showlegend": true,
         "text": [
          "silence"
         ],
         "textposition": "inside",
         "type": "bar",
         "width": 1,
         "x": [
          0.24381
         ],
         "xaxis": "x",
         "y": [
          "coarse"
         ],
         "yaxis": "y"
        },
        {
         "base": [
          0.24381
         ],
         "customdata": [
          "<b>intro</b><br>Layer: coarse<br>Start: 0.244s<br>End: 31.504s<br>Duration: 31.260s"
         ],
         "hovertemplate": "%{customdata}<extra></extra>",
         "insidetextanchor": "middle",
         "marker": {
          "color": "#FF7F0E",
          "line": {
           "color": "white",
           "width": 0.5
          },
          "pattern": {
           "fgcolor": "white",
           "fgopacity": 0.5,
           "shape": "",
           "solidity": 0.25
          }
         },
         "name": "intro",
         "orientation": "h",
         "showlegend": true,
         "text": [
          "intro"
         ],
         "textposition": "inside",
         "type": "bar",
         "width": 1,
         "x": [
          31.26023
         ],
         "xaxis": "x",
         "y": [
          "coarse"
         ],
         "yaxis": "y"
        },
        {
         "base": [
          31.50404,
          72.63848,
          165.00934
         ],
         "customdata": [
          "<b>verse</b><br>Layer: coarse<br>Start: 31.504s<br>End: 52.075s<br>Duration: 20.571s",
          "<b>verse</b><br>Layer: coarse<br>Start: 72.638s<br>End: 93.223s<br>Duration: 20.585s",
          "<b>verse</b><br>Layer: coarse<br>Start: 165.009s<br>End: 180.447s<br>Duration: 15.437s"
         ],
         "hovertemplate": "%{customdata}<extra></extra>",
         "insidetextanchor": "middle",
         "marker": {
          "color": "#2CA02C",
          "line": {
           "color": "white",
           "width": 0.5
          },
          "pattern": {
           "fgcolor": "white",
           "fgopacity": 0.5,
           "shape": "",
           "solidity": 0.25
          }
         },
         "name": "verse",
         "orientation": "h",
         "showlegend": true,
         "text": [
          "verse",
          "verse",
          "verse"
         ],
         "textposition": "inside",
         "type": "bar",
         "width": 1,
         "x": [
          20.57138,
          20.58488,
          15.437369999999987
         ],
         "xaxis": "x",
         "y": [
          "coarse",
          "coarse",
          "coarse"
         ],
         "yaxis": "y"
        },
        {
         "base": [
          52.07542
         ],
         "customdata": [
          "<b>chorus</b><br>Layer: coarse<br>Start: 52.075s<br>End: 62.362s<br>Duration: 10.287s"
         ],
         "hovertemplate": "%{customdata}<extra></extra>",
         "insidetextanchor": "middle",
         "marker": {
          "color": "#D62728",
          "line": {
           "color": "white",
           "width": 0.5
          },
          "pattern": {
           "fgcolor": "white",
           "fgopacity": 0.5,
           "shape": "",
           "solidity": 0.25
          }
         },
         "name": "chorus",
         "orientation": "h",
         "showlegend": true,
         "text": [
          "chorus"
         ],
         "textposition": "inside",
         "type": "bar",
         "width": 1,
         "x": [
          10.287030000000001
         ],
         "xaxis": "x",
         "y": [
          "coarse"
         ],
         "yaxis": "y"
        },
        {
         "base": [
          62.36245
         ],
         "customdata": [
          "<b>interlude</b><br>Layer: coarse<br>Start: 62.362s<br>End: 72.638s<br>Duration: 10.276s"
         ],
         "hovertemplate": "%{customdata}<extra></extra>",
         "insidetextanchor": "middle",
         "marker": {
          "color": "#9467BD",
          "line": {
           "color": "white",
           "width": 0.5
          },
          "pattern": {
           "fgcolor": "white",
           "fgopacity": 0.5,
           "shape": "",
           "solidity": 0.25
          }
         },
         "name": "interlude",
         "orientation": "h",
         "showlegend": true,
         "text": [
          "interlude"
         ],
         "textposition": "inside",
         "type": "bar",
         "width": 1,
         "x": [
          10.276029999999999
         ],
         "xaxis": "x",
         "y": [
          "coarse"
         ],
         "yaxis": "y"
        },
        {
         "base": [
          93.22336,
          103.57853,
          154.88533,
          180.44671,
          190.76401
         ],
         "customdata": [
          "<b>no_function</b><br>Layer: coarse<br>Start: 93.223s<br>End: 103.579s<br>Duration: 10.355s",
          "<b>no_function</b><br>Layer: coarse<br>Start: 103.579s<br>End: 154.885s<br>Duration: 51.307s",
          "<b>no_function</b><br>Layer: coarse<br>Start: 154.885s<br>End: 165.009s<br>Duration: 10.124s",
          "<b>no_function</b><br>Layer: coarse<br>Start: 180.447s<br>End: 190.764s<br>Duration: 10.317s",
          "<b>no_function</b><br>Layer: coarse<br>Start: 190.764s<br>End: 222.061s<br>Duration: 31.297s"
         ],
         "hovertemplate": "%{customdata}<extra></extra>",
         "insidetextanchor": "middle",
         "marker": {
          "color": "#8C564B",
          "line": {
           "color": "white",
           "width": 0.5
          },
          "pattern": {
           "fgcolor": "white",
           "fgopacity": 0.5,
           "shape": "",
           "solidity": 0.25
          }
         },
         "name": "no_function",
         "orientation": "h",
         "showlegend": true,
         "text": [
          "no_function",
          "no_function",
          "no_function",
          "no_function",
          "no_function"
         ],
         "textposition": "inside",
         "type": "bar",
         "width": 1,
         "x": [
          10.355170000000001,
          51.30680000000001,
          10.124009999999998,
          10.317300000000017,
          31.2971
         ],
         "xaxis": "x",
         "y": [
          "coarse",
          "coarse",
          "coarse",
          "coarse",
          "coarse"
         ],
         "yaxis": "y"
        },
        {
         "base": [
          0
         ],
         "customdata": [
          "<b>Silence</b><br>Layer: fine<br>Start: 0.000s<br>End: 0.244s<br>Duration: 0.244s"
         ],
         "hovertemplate": "%{customdata}<extra></extra>",
         "insidetextanchor": "middle",
         "marker": {
          "color": "#E377C2",
          "line": {
           "color": "white",
           "width": 0.5
          },
          "pattern": {
           "fgcolor": "white",
           "fgopacity": 0.5,
           "shape": "",
           "solidity": 0.25
          }
         },
         "name": "Silence",
         "orientation": "h",
         "showlegend": true,
         "text": [
          "Silence"
         ],
         "textposition": "inside",
         "type": "bar",
         "width": 1,
         "x": [
          0.24381
         ],
         "xaxis": "x",
         "y": [
          "fine"
         ],
         "yaxis": "y"
        },
        {
         "base": [
          0.24381,
          134.47696,
          144.71481
         ],
         "customdata": [
          "<b>a</b><br>Layer: fine<br>Start: 0.244s<br>End: 11.052s<br>Duration: 10.808s",
          "<b>a</b><br>Layer: fine<br>Start: 134.477s<br>End: 144.715s<br>Duration: 10.238s",
          "<b>a</b><br>Layer: fine<br>Start: 144.715s<br>End: 154.885s<br>Duration: 10.171s"
         ],
         "hovertemplate": "%{customdata}<extra></extra>",
         "insidetextanchor": "middle",
         "marker": {
          "color": "#7F7F7F",
          "line": {
           "color": "white",
           "width": 0.5
          },
          "pattern": {
           "fgcolor": "white",
           "fgopacity": 0.5,
           "shape": "",
           "solidity": 0.25
          }
         },
         "name": "a",
         "orientation": "h",
         "showlegend": true,
         "text": [
          "a",
          "a",
          "a"
         ],
         "textposition": "inside",
         "type": "bar",
         "width": 1,
         "x": [
          10.80787,
          10.237850000000009,
          10.17052000000001
         ],
         "xaxis": "x",
         "y": [
          "fine",
          "fine",
          "fine"
         ],
         "yaxis": "y"
        },
        {
         "base": [
          11.05168
         ],
         "customdata": [
          "<b>b</b><br>Layer: fine<br>Start: 11.052s<br>End: 21.271s<br>Duration: 10.219s"
         ],
         "hovertemplate": "%{customdata}<extra></extra>",
         "insidetextanchor": "middle",
         "marker": {
          "color": "#BCBD22",
          "line": {
           "color": "white",
           "width": 0.5
          },
          "pattern": {
           "fgcolor": "white",
           "fgopacity": 0.5,
           "shape": "",
           "solidity": 0.25
          }
         },
         "name": "b",
         "orientation": "h",
         "showlegend": true,
         "text": [
          "b"
         ],
         "textposition": "inside",
         "type": "bar",
         "width": 1,
         "x": [
          10.21898
         ],
         "xaxis": "x",
         "y": [
          "fine"
         ],
         "yaxis": "y"
        },
        {
         "base": [
          21.27066,
          62.36245
         ],
         "customdata": [
          "<b>c</b><br>Layer: fine<br>Start: 21.271s<br>End: 31.504s<br>Duration: 10.233s",
          "<b>c</b><br>Layer: fine<br>Start: 62.362s<br>End: 72.638s<br>Duration: 10.276s"
         ],
         "hovertemplate": "%{customdata}<extra></extra>",
         "insidetextanchor": "middle",
         "marker": {
          "color": "#17BECF",
          "line": {
           "color": "white",
           "width": 0.5
          },
          "pattern": {
           "fgcolor": "white",
           "fgopacity": 0.5,
           "shape": "",
           "solidity": 0.25
          }
         },
         "name": "c",
         "orientation": "h",
         "showlegend": true,
         "text": [
          "c",
          "c"
         ],
         "textposition": "inside",
         "type": "bar",
         "width": 1,
         "x": [
          10.23338,
          10.276029999999999
         ],
         "xaxis": "x",
         "y": [
          "fine",
          "fine"
         ],
         "yaxis": "y"
        },
        {
         "base": [
          31.50404,
          41.80308,
          72.63848,
          83.00048,
          165.00934
         ],
         "customdata": [
          "<b>d</b><br>Layer: fine<br>Start: 31.504s<br>End: 41.803s<br>Duration: 10.299s",
          "<b>d</b><br>Layer: fine<br>Start: 41.803s<br>End: 52.075s<br>Duration: 10.272s",
          "<b>d</b><br>Layer: fine<br>Start: 72.638s<br>End: 83.000s<br>Duration: 10.362s",
          "<b>d</b><br>Layer: fine<br>Start: 83.000s<br>End: 93.223s<br>Duration: 10.223s",
          "<b>d</b><br>Layer: fine<br>Start: 165.009s<br>End: 175.356s<br>Duration: 10.346s"
         ],
         "hovertemplate": "%{customdata}<extra></extra>",
         "insidetextanchor": "middle",
         "marker": {
          "color": "#1F77B4",
          "line": {
           "color": "white",
           "width": 0.5
          },
          "pattern": {
           "fgcolor": "white",
           "fgopacity": 0.5,
           "shape": ".",
           "solidity": 0.25
          }
         },
         "name": "d",
         "orientation": "h",
         "showlegend": true,
         "text": [
          "d",
          "d",
          "d",
          "d",
          "d"
         ],
         "textposition": "inside",
         "type": "bar",
         "width": 1,
         "x": [
          10.299040000000002,
          10.27234,
          10.361999999999995,
          10.222880000000004,
          10.34645999999998
         ],
         "xaxis": "x",
         "y": [
          "fine",
          "fine",
          "fine",
          "fine",
          "fine"
         ],
         "yaxis": "y"
        },
        {
         "base": [
          52.07542,
          93.22336,
          154.88533,
          180.44671
         ],
         "customdata": [
          "<b>b'</b><br>Layer: fine<br>Start: 52.075s<br>End: 62.362s<br>Duration: 10.287s",
          "<b>b'</b><br>Layer: fine<br>Start: 93.223s<br>End: 103.579s<br>Duration: 10.355s",
          "<b>b'</b><br>Layer: fine<br>Start: 154.885s<br>End: 165.009s<br>Duration: 10.124s",
          "<b>b'</b><br>Layer: fine<br>Start: 180.447s<br>End: 190.764s<br>Duration: 10.317s"
         ],
         "hovertemplate": "%{customdata}<extra></extra>",
         "insidetextanchor": "middle",
         "marker": {
          "color": "#FF7F0E",
          "line": {
           "color": "white",
           "width": 0.5
          },
          "pattern": {
           "fgcolor": "white",
           "fgopacity": 0.5,
           "shape": ".",
           "solidity": 0.25
          }
         },
         "name": "b'",
         "orientation": "h",
         "showlegend": true,
         "text": [
          "b'",
          "b'",
          "b'",
          "b'"
         ],
         "textposition": "inside",
         "type": "bar",
         "width": 1,
         "x": [
          10.287030000000001,
          10.355170000000001,
          10.124009999999998,
          10.317300000000017
         ],
         "xaxis": "x",
         "y": [
          "fine",
          "fine",
          "fine",
          "fine"
         ],
         "yaxis": "y"
        },
        {
         "base": [
          103.57853,
          190.76401
         ],
         "customdata": [
          "<b>e</b><br>Layer: fine<br>Start: 103.579s<br>End: 113.906s<br>Duration: 10.328s",
          "<b>e</b><br>Layer: fine<br>Start: 190.764s<br>End: 200.920s<br>Duration: 10.156s"
         ],
         "hovertemplate": "%{customdata}<extra></extra>",
         "insidetextanchor": "middle",
         "marker": {
          "color": "#2CA02C",
          "line": {
           "color": "white",
           "width": 0.5
          },
          "pattern": {
           "fgcolor": "white",
           "fgopacity": 0.5,
           "shape": ".",
           "solidity": 0.25
          }
         },
         "name": "e",
         "orientation": "h",
         "showlegend": true,
         "text": [
          "e",
          "e"
         ],
         "textposition": "inside",
         "type": "bar",
         "width": 1,
         "x": [
          10.327820000000003,
          10.156469999999985
         ],
         "xaxis": "x",
         "y": [
          "fine",
          "fine"
         ],
         "yaxis": "y"
        },
        {
         "base": [
          113.90635
         ],
         "customdata": [
          "<b>e'</b><br>Layer: fine<br>Start: 113.906s<br>End: 124.068s<br>Duration: 10.161s"
         ],
         "hovertemplate": "%{customdata}<extra></extra>",
         "insidetextanchor": "middle",
         "marker": {
          "color": "#D62728",
          "line": {
           "color": "white",
           "width": 0.5
          },
          "pattern": {
           "fgcolor": "white",
           "fgopacity": 0.5,
           "shape": ".",
           "solidity": 0.25
          }
         },
         "name": "e'",
         "orientation": "h",
         "showlegend": true,
         "text": [
          "e'"
         ],
         "textposition": "inside",
         "type": "bar",
         "width": 1,
         "x": [
          10.161450000000002
         ],
         "xaxis": "x",
         "y": [
          "fine"
         ],
         "yaxis": "y"
        },
        {
         "base": [
          124.0678
         ],
         "customdata": [
          "<b>e''</b><br>Layer: fine<br>Start: 124.068s<br>End: 134.477s<br>Duration: 10.409s"
         ],
         "hovertemplate": "%{customdata}<extra></extra>",
         "insidetextanchor": "middle",
         "marker": {
          "color": "#9467BD",
          "line": {
           "color": "white",
           "width": 0.5
          },
          "pattern": {
           "fgcolor": "white",
           "fgopacity": 0.5,
           "shape": ".",
           "solidity": 0.25
          }
         },
         "name": "e''",
         "orientation": "h",
         "showlegend": true,
         "text": [
          "e''"
         ],
         "textposition": "inside",
         "type": "bar",
         "width": 1,
         "x": [
          10.409159999999986
         ],
         "xaxis": "x",
         "y": [
          "fine"
         ],
         "yaxis": "y"
        },
        {
         "base": [
          175.3558
         ],
         "customdata": [
          "<b>d'</b><br>Layer: fine<br>Start: 175.356s<br>End: 180.447s<br>Duration: 5.091s"
         ],
         "hovertemplate": "%{customdata}<extra></extra>",
         "insidetextanchor": "middle",
         "marker": {
          "color": "#8C564B",
          "line": {
           "color": "white",
           "width": 0.5
          },
          "pattern": {
           "fgcolor": "white",
           "fgopacity": 0.5,
           "shape": ".",
           "solidity": 0.25
          }
         },
         "name": "d'",
         "orientation": "h",
         "showlegend": true,
         "text": [
          "d'"
         ],
         "textposition": "inside",
         "type": "bar",
         "width": 1,
         "x": [
          5.090910000000008
         ],
         "xaxis": "x",
         "y": [
          "fine"
         ],
         "yaxis": "y"
        },
        {
         "base": [
          200.92048,
          211.08254
         ],
         "customdata": [
          "<b>e'''</b><br>Layer: fine<br>Start: 200.920s<br>End: 211.083s<br>Duration: 10.162s",
          "<b>e'''</b><br>Layer: fine<br>Start: 211.083s<br>End: 222.061s<br>Duration: 10.979s"
         ],
         "hovertemplate": "%{customdata}<extra></extra>",
         "insidetextanchor": "middle",
         "marker": {
          "color": "#E377C2",
          "line": {
           "color": "white",
           "width": 0.5
          },
          "pattern": {
           "fgcolor": "white",
           "fgopacity": 0.5,
           "shape": ".",
           "solidity": 0.25
          }
         },
         "name": "e'''",
         "orientation": "h",
         "showlegend": true,
         "text": [
          "e'''",
          "e'''"
         ],
         "textposition": "inside",
         "type": "bar",
         "width": 1,
         "x": [
          10.162059999999997,
          10.978570000000019
         ],
         "xaxis": "x",
         "y": [
          "fine",
          "fine"
         ],
         "yaxis": "y"
        },
        {
         "base": [
          0,
          0,
          0,
          21.93,
          62.95,
          104.14,
          166.31,
          191.31,
          0,
          104.14,
          191.31,
          0,
          104.77,
          191.95,
          0,
          104.77,
          191.95,
          0,
          104.77,
          191.95,
          0,
          104.77,
          191.95,
          0,
          104.77,
          191.95,
          0,
          104.77,
          191.95,
          0,
          104.77,
          126.02,
          191.95,
          0,
          191.95
         ],
         "customdata": [
          "<b>0</b><br>Layer: L01<br>Start: 0.000s<br>End: 222.045s<br>Duration: 222.045s",
          "<b>0</b><br>Layer: L02<br>Start: 0.000s<br>End: 222.045s<br>Duration: 222.045s",
          "<b>0</b><br>Layer: L03<br>Start: 0.000s<br>End: 10.430s<br>Duration: 10.430s",
          "<b>0</b><br>Layer: L03<br>Start: 21.930s<br>End: 51.380s<br>Duration: 29.450s",
          "<b>0</b><br>Layer: L03<br>Start: 62.950s<br>End: 91.880s<br>Duration: 28.930s",
          "<b>0</b><br>Layer: L03<br>Start: 104.140s<br>End: 152.970s<br>Duration: 48.830s",
          "<b>0</b><br>Layer: L03<br>Start: 166.310s<br>End: 178.470s<br>Duration: 12.160s",
          "<b>0</b><br>Layer: L03<br>Start: 191.310s<br>End: 222.045s<br>Duration: 30.735s",
          "<b>0</b><br>Layer: L04<br>Start: 0.000s<br>End: 10.430s<br>Duration: 10.430s",
          "<b>0</b><br>Layer: L04<br>Start: 104.140s<br>End: 153.600s<br>Duration: 49.460s",
          "<b>0</b><br>Layer: L04<br>Start: 191.310s<br>End: 222.045s<br>Duration: 30.735s",
          "<b>0</b><br>Layer: L05<br>Start: 0.000s<br>End: 9.160s<br>Duration: 9.160s",
          "<b>0</b><br>Layer: L05<br>Start: 104.770s<br>End: 152.360s<br>Duration: 47.590s",
          "<b>0</b><br>Layer: L05<br>Start: 191.950s<br>End: 222.045s<br>Duration: 30.095s",
          "<b>0</b><br>Layer: L06<br>Start: 0.000s<br>End: 9.160s<br>Duration: 9.160s",
          "<b>0</b><br>Layer: L06<br>Start: 104.770s<br>End: 134.480s<br>Duration: 29.710s",
          "<b>0</b><br>Layer: L06<br>Start: 191.950s<br>End: 222.045s<br>Duration: 30.095s",
          "<b>0</b><br>Layer: L07<br>Start: 0.000s<br>End: 9.160s<br>Duration: 9.160s",
          "<b>0</b><br>Layer: L07<br>Start: 104.770s<br>End: 139.600s<br>Duration: 34.830s",
          "<b>0</b><br>Layer: L07<br>Start: 191.950s<br>End: 222.045s<br>Duration: 30.095s",
          "<b>0</b><br>Layer: L08<br>Start: 0.000s<br>End: 8.540s<br>Duration: 8.540s",
          "<b>0</b><br>Layer: L08<br>Start: 104.770s<br>End: 139.600s<br>Duration: 34.830s",
          "<b>0</b><br>Layer: L08<br>Start: 191.950s<br>End: 222.045s<br>Duration: 30.095s",
          "<b>0</b><br>Layer: L09<br>Start: 0.000s<br>End: 8.540s<br>Duration: 8.540s",
          "<b>0</b><br>Layer: L09<br>Start: 104.770s<br>End: 139.600s<br>Duration: 34.830s",
          "<b>0</b><br>Layer: L09<br>Start: 191.950s<br>End: 222.045s<br>Duration: 30.095s",
          "<b>0</b><br>Layer: L10<br>Start: 0.000s<br>End: 8.540s<br>Duration: 8.540s",
          "<b>0</b><br>Layer: L10<br>Start: 104.770s<br>End: 135.780s<br>Duration: 31.010s",
          "<b>0</b><br>Layer: L10<br>Start: 191.950s<br>End: 222.045s<br>Duration: 30.095s",
          "<b>0</b><br>Layer: L11<br>Start: 0.000s<br>End: 8.540s<br>Duration: 8.540s",
          "<b>0</b><br>Layer: L11<br>Start: 104.770s<br>End: 113.100s<br>Duration: 8.330s",
          "<b>0</b><br>Layer: L11<br>Start: 126.020s<br>End: 135.140s<br>Duration: 9.120s",
          "<b>0</b><br>Layer: L11<br>Start: 191.950s<br>End: 222.045s<br>Duration: 30.095s",
          "<b>0</b><br>Layer: L12<br>Start: 0.000s<br>End: 8.540s<br>Duration: 8.540s",
          "<b>0</b><br>Layer: L12<br>Start: 191.950s<br>End: 222.045s<br>Duration: 30.095s"
         ],
         "hovertemplate": "%{customdata}<extra></extra>",
         "insidetextanchor": "middle",
         "marker": {
          "color": "#1F77B4",
          "line": {
           "color": "white",
           "width": 0.5
          },
          "pattern": {
           "fgcolor": "white",
           "fgopacity": 0.5,
           "shape": "",
           "solidity": 0.25
          }
         },
         "name": "0",
         "orientation": "h",
         "showlegend": true,
         "text": [
          "0",
          "0",
          "0",
          "0",
          "0",
          "0",
          "0",
          "0",
          "0",
          "0",
          "0",
          "0",
          "0",
          "0",
          "0",
          "0",
          "0",
          "0",
          "0",
          "0",
          "0",
          "0",
          "0",
          "0",
          "0",
          "0",
          "0",
          "0",
          "0",
          "0",
          "0",
          "0",
          "0",
          "0",
          "0"
         ],
         "textposition": "inside",
         "type": "bar",
         "width": 1,
         "x": [
          222.04481,
          222.04481,
          10.43,
          29.450000000000003,
          28.929999999999993,
          48.83,
          12.159999999999997,
          30.73481000000001,
          10.43,
          49.459999999999994,
          30.73481000000001,
          9.16,
          47.59000000000002,
          30.094810000000024,
          9.16,
          29.709999999999994,
          30.094810000000024,
          9.16,
          34.83,
          30.094810000000024,
          8.54,
          34.83,
          30.094810000000024,
          8.54,
          34.83,
          30.094810000000024,
          8.54,
          31.010000000000005,
          30.094810000000024,
          8.54,
          8.329999999999998,
          9.11999999999999,
          30.094810000000024,
          8.54,
          30.094810000000024
         ],
         "xaxis": "x2",
         "y": [
          "L01",
          "L02",
          "L03",
          "L03",
          "L03",
          "L03",
          "L03",
          "L03",
          "L04",
          "L04",
          "L04",
          "L05",
          "L05",
          "L05",
          "L06",
          "L06",
          "L06",
          "L07",
          "L07",
          "L07",
          "L08",
          "L08",
          "L08",
          "L09",
          "L09",
          "L09",
          "L10",
          "L10",
          "L10",
          "L11",
          "L11",
          "L11",
          "L11",
          "L12",
          "L12"
         ],
         "yaxis": "y2"
        },
        {
         "base": [
          10.43,
          51.38,
          91.88,
          152.97,
          178.47,
          10.43,
          52.02,
          92.5,
          153.6,
          179.12,
          9.16,
          51.38,
          91.88,
          152.36,
          178.47,
          9.16,
          51.38,
          91.88,
          152.36,
          178.47,
          9.16,
          51.38,
          91.88,
          152.97,
          179.12,
          8.54,
          50.74,
          91.25,
          151.71,
          177.83,
          8.54,
          50.74,
          91.25,
          154.84,
          178.47,
          8.54,
          50.74,
          90.6,
          154.84,
          178.47,
          8.54,
          50.11,
          90.6,
          154.84,
          178.47,
          8.54,
          50.11,
          90.6,
          179.12
         ],
         "customdata": [
          "<b>2</b><br>Layer: L03<br>Start: 10.430s<br>End: 21.930s<br>Duration: 11.500s",
          "<b>2</b><br>Layer: L03<br>Start: 51.380s<br>End: 62.950s<br>Duration: 11.570s",
          "<b>2</b><br>Layer: L03<br>Start: 91.880s<br>End: 104.140s<br>Duration: 12.260s",
          "<b>2</b><br>Layer: L03<br>Start: 152.970s<br>End: 166.310s<br>Duration: 13.340s",
          "<b>2</b><br>Layer: L03<br>Start: 178.470s<br>End: 191.310s<br>Duration: 12.840s",
          "<b>2</b><br>Layer: L04<br>Start: 10.430s<br>End: 21.930s<br>Duration: 11.500s",
          "<b>2</b><br>Layer: L04<br>Start: 52.020s<br>End: 62.950s<br>Duration: 10.930s",
          "<b>2</b><br>Layer: L04<br>Start: 92.500s<br>End: 104.140s<br>Duration: 11.640s",
          "<b>2</b><br>Layer: L04<br>Start: 153.600s<br>End: 165.670s<br>Duration: 12.070s",
          "<b>2</b><br>Layer: L04<br>Start: 179.120s<br>End: 191.310s<br>Duration: 12.190s",
          "<b>2</b><br>Layer: L05<br>Start: 9.160s<br>End: 22.560s<br>Duration: 13.400s",
          "<b>2</b><br>Layer: L05<br>Start: 51.380s<br>End: 64.240s<br>Duration: 12.860s",
          "<b>2</b><br>Layer: L05<br>Start: 91.880s<br>End: 104.770s<br>Duration: 12.890s",
          "<b>2</b><br>Layer: L05<br>Start: 152.360s<br>End: 166.960s<br>Duration: 14.600s",
          "<b>2</b><br>Layer: L05<br>Start: 178.470s<br>End: 191.950s<br>Duration: 13.480s",
          "<b>2</b><br>Layer: L06<br>Start: 9.160s<br>End: 22.560s<br>Duration: 13.400s",
          "<b>2</b><br>Layer: L06<br>Start: 51.380s<br>End: 64.240s<br>Duration: 12.860s",
          "<b>2</b><br>Layer: L06<br>Start: 91.880s<br>End: 104.770s<br>Duration: 12.890s",
          "<b>2</b><br>Layer: L06<br>Start: 152.360s<br>End: 166.960s<br>Duration: 14.600s",
          "<b>2</b><br>Layer: L06<br>Start: 178.470s<br>End: 191.950s<br>Duration: 13.480s",
          "<b>2</b><br>Layer: L07<br>Start: 9.160s<br>End: 22.560s<br>Duration: 13.400s",
          "<b>2</b><br>Layer: L07<br>Start: 51.380s<br>End: 64.240s<br>Duration: 12.860s",
          "<b>2</b><br>Layer: L07<br>Start: 91.880s<br>End: 104.770s<br>Duration: 12.890s",
          "<b>2</b><br>Layer: L07<br>Start: 152.970s<br>End: 166.960s<br>Duration: 13.990s",
          "<b>2</b><br>Layer: L07<br>Start: 179.120s<br>End: 191.950s<br>Duration: 12.830s",
          "<b>2</b><br>Layer: L08<br>Start: 8.540s<br>End: 23.210s<br>Duration: 14.670s",
          "<b>2</b><br>Layer: L08<br>Start: 50.740s<br>End: 64.900s<br>Duration: 14.160s",
          "<b>2</b><br>Layer: L08<br>Start: 91.250s<br>End: 104.770s<br>Duration: 13.520s",
          "<b>2</b><br>Layer: L08<br>Start: 151.710s<br>End: 166.960s<br>Duration: 15.250s",
          "<b>2</b><br>Layer: L08<br>Start: 177.830s<br>End: 191.950s<br>Duration: 14.120s",
          "<b>2</b><br>Layer: L09<br>Start: 8.540s<br>End: 23.210s<br>Duration: 14.670s",
          "<b>2</b><br>Layer: L09<br>Start: 50.740s<br>End: 64.900s<br>Duration: 14.160s",
          "<b>2</b><br>Layer: L09<br>Start: 91.250s<br>End: 104.770s<br>Duration: 13.520s",
          "<b>2</b><br>Layer: L09<br>Start: 154.840s<br>End: 166.960s<br>Duration: 12.120s",
          "<b>2</b><br>Layer: L09<br>Start: 178.470s<br>End: 191.950s<br>Duration: 13.480s",
          "<b>2</b><br>Layer: L10<br>Start: 8.540s<br>End: 23.210s<br>Duration: 14.670s",
          "<b>2</b><br>Layer: L10<br>Start: 50.740s<br>End: 64.900s<br>Duration: 14.160s",
          "<b>2</b><br>Layer: L10<br>Start: 90.600s<br>End: 104.770s<br>Duration: 14.170s",
          "<b>2</b><br>Layer: L10<br>Start: 154.840s<br>End: 166.960s<br>Duration: 12.120s",
          "<b>2</b><br>Layer: L10<br>Start: 178.470s<br>End: 191.950s<br>Duration: 13.480s",
          "<b>2</b><br>Layer: L11<br>Start: 8.540s<br>End: 23.210s<br>Duration: 14.670s",
          "<b>2</b><br>Layer: L11<br>Start: 50.110s<br>End: 64.900s<br>Duration: 14.790s",
          "<b>2</b><br>Layer: L11<br>Start: 90.600s<br>End: 104.770s<br>Duration: 14.170s",
          "<b>2</b><br>Layer: L11<br>Start: 154.840s<br>End: 166.960s<br>Duration: 12.120s",
          "<b>2</b><br>Layer: L11<br>Start: 178.470s<br>End: 191.950s<br>Duration: 13.480s",
          "<b>2</b><br>Layer: L12<br>Start: 8.540s<br>End: 23.210s<br>Duration: 14.670s",
          "<b>2</b><br>Layer: L12<br>Start: 50.110s<br>End: 64.900s<br>Duration: 14.790s",
          "<b>2</b><br>Layer: L12<br>Start: 90.600s<br>End: 112.480s<br>Duration: 21.880s",
          "<b>2</b><br>Layer: L12<br>Start: 179.120s<br>End: 191.950s<br>Duration: 12.830s"
         ],
         "hovertemplate": "%{customdata}<extra></extra>",
         "insidetextanchor": "middle",
         "marker": {
          "color": "#FF7F0E",
          "line": {
           "color": "white",
           "width": 0.5
          },
          "pattern": {
           "fgcolor": "white",
           "fgopacity": 0.5,
           "shape": "",
           "solidity": 0.25
          }
         },
         "name": "2",
         "orientation": "h",
         "showlegend": true,
         "text": [
          "2",
          "2",
          "2",
          "2",
          "2",
          "2",
          "2",
          "2",
          "2",
          "2",
          "2",
          "2",
          "2",
          "2",
          "2",
          "2",
          "2",
          "2",
          "2",
          "2",
          "2",
          "2",
          "2",
          "2",
          "2",
          "2",
          "2",
          "2",
          "2",
          "2",
          "2",
          "2",
          "2",
          "2",
          "2",
          "2",
          "2",
          "2",
          "2",
          "2",
          "2",
          "2",
          "2",
          "2",
          "2",
          "2",
          "2",
          "2",
          "2"
         ],
         "textposition": "inside",
         "type": "bar",
         "width": 1,
         "x": [
          11.5,
          11.57,
          12.260000000000005,
          13.340000000000003,
          12.840000000000003,
          11.5,
          10.93,
          11.64,
          12.069999999999993,
          12.189999999999998,
          13.399999999999999,
          12.859999999999992,
          12.89,
          14.599999999999994,
          13.47999999999999,
          13.399999999999999,
          12.859999999999992,
          12.89,
          14.599999999999994,
          13.47999999999999,
          13.399999999999999,
          12.859999999999992,
          12.89,
          13.990000000000009,
          12.829999999999984,
          14.670000000000002,
          14.160000000000004,
          13.519999999999996,
          15.25,
          14.119999999999976,
          14.670000000000002,
          14.160000000000004,
          13.519999999999996,
          12.120000000000005,
          13.47999999999999,
          14.670000000000002,
          14.160000000000004,
          14.170000000000002,
          12.120000000000005,
          13.47999999999999,
          14.670000000000002,
          14.790000000000006,
          14.170000000000002,
          12.120000000000005,
          13.47999999999999,
          14.670000000000002,
          14.790000000000006,
          21.88000000000001,
          12.829999999999984
         ],
         "xaxis": "x2",
         "y": [
          "L03",
          "L03",
          "L03",
          "L03",
          "L03",
          "L04",
          "L04",
          "L04",
          "L04",
          "L04",
          "L05",
          "L05",
          "L05",
          "L05",
          "L05",
          "L06",
          "L06",
          "L06",
          "L06",
          "L06",
          "L07",
          "L07",
          "L07",
          "L07",
          "L07",
          "L08",
          "L08",
          "L08",
          "L08",
          "L08",
          "L09",
          "L09",
          "L09",
          "L09",
          "L09",
          "L10",
          "L10",
          "L10",
          "L10",
          "L10",
          "L11",
          "L11",
          "L11",
          "L11",
          "L11",
          "L12",
          "L12",
          "L12",
          "L12"
         ],
         "yaxis": "y2"
        },
        {
         "base": [
          21.93,
          62.95,
          165.67,
          22.56,
          64.24,
          166.96,
          22.56,
          64.24,
          166.96,
          22.56,
          64.24,
          166.96,
          23.21,
          64.9,
          166.96,
          23.21,
          64.9,
          166.96,
          23.21,
          64.9,
          166.96,
          23.21,
          64.9,
          166.96,
          23.21,
          64.9
         ],
         "customdata": [
          "<b>3</b><br>Layer: L04<br>Start: 21.930s<br>End: 52.020s<br>Duration: 30.090s",
          "<b>3</b><br>Layer: L04<br>Start: 62.950s<br>End: 92.500s<br>Duration: 29.550s",
          "<b>3</b><br>Layer: L04<br>Start: 165.670s<br>End: 179.120s<br>Duration: 13.450s",
          "<b>3</b><br>Layer: L05<br>Start: 22.560s<br>End: 51.380s<br>Duration: 28.820s",
          "<b>3</b><br>Layer: L05<br>Start: 64.240s<br>End: 91.880s<br>Duration: 27.640s",
          "<b>3</b><br>Layer: L05<br>Start: 166.960s<br>End: 178.470s<br>Duration: 11.510s",
          "<b>3</b><br>Layer: L06<br>Start: 22.560s<br>End: 51.380s<br>Duration: 28.820s",
          "<b>3</b><br>Layer: L06<br>Start: 64.240s<br>End: 91.880s<br>Duration: 27.640s",
          "<b>3</b><br>Layer: L06<br>Start: 166.960s<br>End: 178.470s<br>Duration: 11.510s",
          "<b>3</b><br>Layer: L07<br>Start: 22.560s<br>End: 51.380s<br>Duration: 28.820s",
          "<b>3</b><br>Layer: L07<br>Start: 64.240s<br>End: 91.880s<br>Duration: 27.640s",
          "<b>3</b><br>Layer: L07<br>Start: 166.960s<br>End: 179.120s<br>Duration: 12.160s",
          "<b>3</b><br>Layer: L08<br>Start: 23.210s<br>End: 50.740s<br>Duration: 27.530s",
          "<b>3</b><br>Layer: L08<br>Start: 64.900s<br>End: 91.250s<br>Duration: 26.350s",
          "<b>3</b><br>Layer: L08<br>Start: 166.960s<br>End: 177.830s<br>Duration: 10.870s",
          "<b>3</b><br>Layer: L09<br>Start: 23.210s<br>End: 50.740s<br>Duration: 27.530s",
          "<b>3</b><br>Layer: L09<br>Start: 64.900s<br>End: 91.250s<br>Duration: 26.350s",
          "<b>3</b><br>Layer: L09<br>Start: 166.960s<br>End: 178.470s<br>Duration: 11.510s",
          "<b>3</b><br>Layer: L10<br>Start: 23.210s<br>End: 50.740s<br>Duration: 27.530s",
          "<b>3</b><br>Layer: L10<br>Start: 64.900s<br>End: 82.260s<br>Duration: 17.360s",
          "<b>3</b><br>Layer: L10<br>Start: 166.960s<br>End: 178.470s<br>Duration: 11.510s",
          "<b>3</b><br>Layer: L11<br>Start: 23.210s<br>End: 50.110s<br>Duration: 26.900s",
          "<b>3</b><br>Layer: L11<br>Start: 64.900s<br>End: 90.600s<br>Duration: 25.700s",
          "<b>3</b><br>Layer: L11<br>Start: 166.960s<br>End: 178.470s<br>Duration: 11.510s",
          "<b>3</b><br>Layer: L12<br>Start: 23.210s<br>End: 50.110s<br>Duration: 26.900s",
          "<b>3</b><br>Layer: L12<br>Start: 64.900s<br>End: 90.600s<br>Duration: 25.700s"
         ],
         "hovertemplate": "%{customdata}<extra></extra>",
         "insidetextanchor": "middle",
         "marker": {
          "color": "#2CA02C",
          "line": {
           "color": "white",
           "width": 0.5
          },
          "pattern": {
           "fgcolor": "white",
           "fgopacity": 0.5,
           "shape": "",
           "solidity": 0.25
          }
         },
         "name": "3",
         "orientation": "h",
         "showlegend": true,
         "text": [
          "3",
          "3",
          "3",
          "3",
          "3",
          "3",
          "3",
          "3",
          "3",
          "3",
          "3",
          "3",
          "3",
          "3",
          "3",
          "3",
          "3",
          "3",
          "3",
          "3",
          "3",
          "3",
          "3",
          "3",
          "3",
          "3"
         ],
         "textposition": "inside",
         "type": "bar",
         "width": 1,
         "x": [
          30.090000000000003,
          29.549999999999997,
          13.450000000000017,
          28.820000000000004,
          27.64,
          11.509999999999991,
          28.820000000000004,
          27.64,
          11.509999999999991,
          28.820000000000004,
          27.64,
          12.159999999999997,
          27.53,
          26.349999999999994,
          10.870000000000005,
          27.53,
          26.349999999999994,
          11.509999999999991,
          27.53,
          17.36,
          11.509999999999991,
          26.9,
          25.69999999999999,
          11.509999999999991,
          26.9,
          25.69999999999999
         ],
         "xaxis": "x2",
         "y": [
          "L04",
          "L04",
          "L04",
          "L05",
          "L05",
          "L05",
          "L06",
          "L06",
          "L06",
          "L07",
          "L07",
          "L07",
          "L08",
          "L08",
          "L08",
          "L09",
          "L09",
          "L09",
          "L10",
          "L10",
          "L10",
          "L11",
          "L11",
          "L11",
          "L12",
          "L12"
         ],
         "yaxis": "y2"
        },
        {
         "base": [
          134.48,
          139.6,
          139.6,
          139.6,
          135.78,
          113.1,
          135.14,
          112.48
         ],
         "customdata": [
          "<b>5</b><br>Layer: L06<br>Start: 134.480s<br>End: 152.360s<br>Duration: 17.880s",
          "<b>5</b><br>Layer: L07<br>Start: 139.600s<br>End: 152.970s<br>Duration: 13.370s",
          "<b>5</b><br>Layer: L08<br>Start: 139.600s<br>End: 151.710s<br>Duration: 12.110s",
          "<b>5</b><br>Layer: L09<br>Start: 139.600s<br>End: 154.840s<br>Duration: 15.240s",
          "<b>5</b><br>Layer: L10<br>Start: 135.780s<br>End: 144.070s<br>Duration: 8.290s",
          "<b>5</b><br>Layer: L11<br>Start: 113.100s<br>End: 126.020s<br>Duration: 12.920s",
          "<b>5</b><br>Layer: L11<br>Start: 135.140s<br>End: 145.360s<br>Duration: 10.220s",
          "<b>5</b><br>Layer: L12<br>Start: 112.480s<br>End: 145.360s<br>Duration: 32.880s"
         ],
         "hovertemplate": "%{customdata}<extra></extra>",
         "insidetextanchor": "middle",
         "marker": {
          "color": "#D62728",
          "line": {
           "color": "white",
           "width": 0.5
          },
          "pattern": {
           "fgcolor": "white",
           "fgopacity": 0.5,
           "shape": "",
           "solidity": 0.25
          }
         },
         "name": "5",
         "orientation": "h",
         "showlegend": true,
         "text": [
          "5",
          "5",
          "5",
          "5",
          "5",
          "5",
          "5",
          "5"
         ],
         "textposition": "inside",
         "type": "bar",
         "width": 1,
         "x": [
          17.880000000000024,
          13.370000000000005,
          12.110000000000014,
          15.240000000000009,
          8.289999999999992,
          12.920000000000002,
          10.220000000000027,
          32.88000000000001
         ],
         "xaxis": "x2",
         "y": [
          "L06",
          "L07",
          "L08",
          "L09",
          "L10",
          "L11",
          "L11",
          "L12"
         ],
         "yaxis": "y2"
        },
        {
         "base": [
          82.26
         ],
         "customdata": [
          "<b>8</b><br>Layer: L10<br>Start: 82.260s<br>End: 90.600s<br>Duration: 8.340s"
         ],
         "hovertemplate": "%{customdata}<extra></extra>",
         "insidetextanchor": "middle",
         "marker": {
          "color": "#9467BD",
          "line": {
           "color": "white",
           "width": 0.5
          },
          "pattern": {
           "fgcolor": "white",
           "fgopacity": 0.5,
           "shape": "",
           "solidity": 0.25
          }
         },
         "name": "8",
         "orientation": "h",
         "showlegend": true,
         "text": [
          "8"
         ],
         "textposition": "inside",
         "type": "bar",
         "width": 1,
         "x": [
          8.33999999999999
         ],
         "xaxis": "x2",
         "y": [
          "L10"
         ],
         "yaxis": "y2"
        },
        {
         "base": [
          144.07,
          145.36,
          145.36
         ],
         "customdata": [
          "<b>6</b><br>Layer: L10<br>Start: 144.070s<br>End: 154.840s<br>Duration: 10.770s",
          "<b>6</b><br>Layer: L11<br>Start: 145.360s<br>End: 154.840s<br>Duration: 9.480s",
          "<b>6</b><br>Layer: L12<br>Start: 145.360s<br>End: 154.840s<br>Duration: 9.480s"
         ],
         "hovertemplate": "%{customdata}<extra></extra>",
         "insidetextanchor": "middle",
         "marker": {
          "color": "#8C564B",
          "line": {
           "color": "white",
           "width": 0.5
          },
          "pattern": {
           "fgcolor": "white",
           "fgopacity": 0.5,
           "shape": "",
           "solidity": 0.25
          }
         },
         "name": "6",
         "orientation": "h",
         "showlegend": true,
         "text": [
          "6",
          "6",
          "6"
         ],
         "textposition": "inside",
         "type": "bar",
         "width": 1,
         "x": [
          10.77000000000001,
          9.47999999999999,
          9.47999999999999
         ],
         "xaxis": "x2",
         "y": [
          "L10",
          "L11",
          "L12"
         ],
         "yaxis": "y2"
        },
        {
         "base": [
          154.84
         ],
         "customdata": [
          "<b>11</b><br>Layer: L12<br>Start: 154.840s<br>End: 179.120s<br>Duration: 24.280s"
         ],
         "hovertemplate": "%{customdata}<extra></extra>",
         "insidetextanchor": "middle",
         "marker": {
          "color": "#E377C2",
          "line": {
           "color": "white",
           "width": 0.5
          },
          "pattern": {
           "fgcolor": "white",
           "fgopacity": 0.5,
           "shape": "",
           "solidity": 0.25
          }
         },
         "name": "11",
         "orientation": "h",
         "showlegend": true,
         "text": [
          "11"
         ],
         "textposition": "inside",
         "type": "bar",
         "width": 1,
         "x": [
          24.28
         ],
         "xaxis": "x2",
         "y": [
          "L12"
         ],
         "yaxis": "y2"
        },
        {
         "base": [
          0,
          191.95,
          0,
          104.77,
          166.96,
          191.95,
          0,
          104.77,
          166.96,
          178.47,
          191.95,
          0,
          8.54,
          23.21,
          64.9,
          104.77,
          166.96,
          178.47,
          191.95,
          0,
          8.54,
          23.21,
          51.38,
          64.9,
          91.88,
          104.77,
          154.84,
          166.96,
          178.47,
          191.95,
          0,
          8.54,
          9.16,
          22.56,
          23.21,
          50.74,
          51.38,
          64.24,
          64.9,
          90.6,
          91.88,
          104.77,
          139.6,
          154.84,
          166.96,
          178.47,
          179.12,
          191.95,
          0,
          8.54,
          9.16,
          10.43,
          21.93,
          22.56,
          23.21,
          50.11,
          50.74,
          51.38,
          62.95,
          64.24,
          64.9,
          90.6,
          91.25,
          91.88,
          104.14,
          104.77,
          139.6,
          145.36,
          152.36,
          152.97,
          154.84,
          166.96,
          178.47,
          179.12,
          191.31,
          191.95,
          0,
          8.54,
          9.16,
          10.43,
          21.93,
          22.56,
          23.21,
          50.11,
          50.74,
          51.38,
          52.02,
          62.95,
          64.24,
          64.9,
          82.26,
          90.6,
          91.25,
          91.88,
          92.5,
          104.14,
          104.77,
          112.48,
          113.1,
          126.02,
          134.48,
          135.14,
          135.78,
          139.6,
          144.07,
          145.36,
          151.71,
          152.36,
          152.97,
          153.6,
          154.84,
          165.67,
          166.31,
          166.96,
          177.83,
          178.47,
          179.12,
          191.31,
          191.95
         ],
         "customdata": [
          "<b></b><br>Layer: L01<br>Start: 0.000s<br>End: 191.950s<br>Duration: 191.950s",
          "<b></b><br>Layer: L01<br>Start: 191.950s<br>End: 222.045s<br>Duration: 30.095s",
          "<b></b><br>Layer: L02<br>Start: 0.000s<br>End: 104.770s<br>Duration: 104.770s",
          "<b></b><br>Layer: L02<br>Start: 104.770s<br>End: 166.960s<br>Duration: 62.190s",
          "<b></b><br>Layer: L02<br>Start: 166.960s<br>End: 191.950s<br>Duration: 24.990s",
          "<b></b><br>Layer: L02<br>Start: 191.950s<br>End: 222.045s<br>Duration: 30.095s",
          "<b></b><br>Layer: L03<br>Start: 0.000s<br>End: 104.770s<br>Duration: 104.770s",
          "<b></b><br>Layer: L03<br>Start: 104.770s<br>End: 166.960s<br>Duration: 62.190s",
          "<b></b><br>Layer: L03<br>Start: 166.960s<br>End: 178.470s<br>Duration: 11.510s",
          "<b></b><br>Layer: L03<br>Start: 178.470s<br>End: 191.950s<br>Duration: 13.480s",
          "<b></b><br>Layer: L03<br>Start: 191.950s<br>End: 222.045s<br>Duration: 30.095s",
          "<b></b><br>Layer: L04<br>Start: 0.000s<br>End: 8.540s<br>Duration: 8.540s",
          "<b></b><br>Layer: L04<br>Start: 8.540s<br>End: 23.210s<br>Duration: 14.670s",
          "<b></b><br>Layer: L04<br>Start: 23.210s<br>End: 64.900s<br>Duration: 41.690s",
          "<b></b><br>Layer: L04<br>Start: 64.900s<br>End: 104.770s<br>Duration: 39.870s",
          "<b></b><br>Layer: L04<br>Start: 104.770s<br>End: 166.960s<br>Duration: 62.190s",
          "<b></b><br>Layer: L04<br>Start: 166.960s<br>End: 178.470s<br>Duration: 11.510s",
          "<b></b><br>Layer: L04<br>Start: 178.470s<br>End: 191.950s<br>Duration: 13.480s",
          "<b></b><br>Layer: L04<br>Start: 191.950s<br>End: 222.045s<br>Duration: 30.095s",
          "<b></b><br>Layer: L05<br>Start: 0.000s<br>End: 8.540s<br>Duration: 8.540s",
          "<b></b><br>Layer: L05<br>Start: 8.540s<br>End: 23.210s<br>Duration: 14.670s",
          "<b></b><br>Layer: L05<br>Start: 23.210s<br>End: 51.380s<br>Duration: 28.170s",
          "<b></b><br>Layer: L05<br>Start: 51.380s<br>End: 64.900s<br>Duration: 13.520s",
          "<b></b><br>Layer: L05<br>Start: 64.900s<br>End: 91.880s<br>Duration: 26.980s",
          "<b></b><br>Layer: L05<br>Start: 91.880s<br>End: 104.770s<br>Duration: 12.890s",
          "<b></b><br>Layer: L05<br>Start: 104.770s<br>End: 154.840s<br>Duration: 50.070s",
          "<b></b><br>Layer: L05<br>Start: 154.840s<br>End: 166.960s<br>Duration: 12.120s",
          "<b></b><br>Layer: L05<br>Start: 166.960s<br>End: 178.470s<br>Duration: 11.510s",
          "<b></b><br>Layer: L05<br>Start: 178.470s<br>End: 191.950s<br>Duration: 13.480s",
          "<b></b><br>Layer: L05<br>Start: 191.950s<br>End: 222.045s<br>Duration: 30.095s",
          "<b></b><br>Layer: L06<br>Start: 0.000s<br>End: 8.540s<br>Duration: 8.540s",
          "<b></b><br>Layer: L06<br>Start: 8.540s<br>End: 9.160s<br>Duration: 0.620s",
          "<b></b><br>Layer: L06<br>Start: 9.160s<br>End: 22.560s<br>Duration: 13.400s",
          "<b></b><br>Layer: L06<br>Start: 22.560s<br>End: 23.210s<br>Duration: 0.650s",
          "<b></b><br>Layer: L06<br>Start: 23.210s<br>End: 50.740s<br>Duration: 27.530s",
          "<b></b><br>Layer: L06<br>Start: 50.740s<br>End: 51.380s<br>Duration: 0.640s",
          "<b></b><br>Layer: L06<br>Start: 51.380s<br>End: 64.240s<br>Duration: 12.860s",
          "<b></b><br>Layer: L06<br>Start: 64.240s<br>End: 64.900s<br>Duration: 0.660s",
          "<b></b><br>Layer: L06<br>Start: 64.900s<br>End: 90.600s<br>Duration: 25.700s",
          "<b></b><br>Layer: L06<br>Start: 90.600s<br>End: 91.880s<br>Duration: 1.280s",
          "<b></b><br>Layer: L06<br>Start: 91.880s<br>End: 104.770s<br>Duration: 12.890s",
          "<b></b><br>Layer: L06<br>Start: 104.770s<br>End: 139.600s<br>Duration: 34.830s",
          "<b></b><br>Layer: L06<br>Start: 139.600s<br>End: 154.840s<br>Duration: 15.240s",
          "<b></b><br>Layer: L06<br>Start: 154.840s<br>End: 166.960s<br>Duration: 12.120s",
          "<b></b><br>Layer: L06<br>Start: 166.960s<br>End: 178.470s<br>Duration: 11.510s",
          "<b></b><br>Layer: L06<br>Start: 178.470s<br>End: 179.120s<br>Duration: 0.650s",
          "<b></b><br>Layer: L06<br>Start: 179.120s<br>End: 191.950s<br>Duration: 12.830s",
          "<b></b><br>Layer: L06<br>Start: 191.950s<br>End: 222.045s<br>Duration: 30.095s",
          "<b></b><br>Layer: L07<br>Start: 0.000s<br>End: 8.540s<br>Duration: 8.540s",
          "<b></b><br>Layer: L07<br>Start: 8.540s<br>End: 9.160s<br>Duration: 0.620s",
          "<b></b><br>Layer: L07<br>Start: 9.160s<br>End: 10.430s<br>Duration: 1.270s",
          "<b></b><br>Layer: L07<br>Start: 10.430s<br>End: 21.930s<br>Duration: 11.500s",
          "<b></b><br>Layer: L07<br>Start: 21.930s<br>End: 22.560s<br>Duration: 0.630s",
          "<b></b><br>Layer: L07<br>Start: 22.560s<br>End: 23.210s<br>Duration: 0.650s",
          "<b></b><br>Layer: L07<br>Start: 23.210s<br>End: 50.110s<br>Duration: 26.900s",
          "<b></b><br>Layer: L07<br>Start: 50.110s<br>End: 50.740s<br>Duration: 0.630s",
          "<b></b><br>Layer: L07<br>Start: 50.740s<br>End: 51.380s<br>Duration: 0.640s",
          "<b></b><br>Layer: L07<br>Start: 51.380s<br>End: 62.950s<br>Duration: 11.570s",
          "<b></b><br>Layer: L07<br>Start: 62.950s<br>End: 64.240s<br>Duration: 1.290s",
          "<b></b><br>Layer: L07<br>Start: 64.240s<br>End: 64.900s<br>Duration: 0.660s",
          "<b></b><br>Layer: L07<br>Start: 64.900s<br>End: 90.600s<br>Duration: 25.700s",
          "<b></b><br>Layer: L07<br>Start: 90.600s<br>End: 91.250s<br>Duration: 0.650s",
          "<b></b><br>Layer: L07<br>Start: 91.250s<br>End: 91.880s<br>Duration: 0.630s",
          "<b></b><br>Layer: L07<br>Start: 91.880s<br>End: 104.140s<br>Duration: 12.260s",
          "<b></b><br>Layer: L07<br>Start: 104.140s<br>End: 104.770s<br>Duration: 0.630s",
          "<b></b><br>Layer: L07<br>Start: 104.770s<br>End: 139.600s<br>Duration: 34.830s",
          "<b></b><br>Layer: L07<br>Start: 139.600s<br>End: 145.360s<br>Duration: 5.760s",
          "<b></b><br>Layer: L07<br>Start: 145.360s<br>End: 152.360s<br>Duration: 7.000s",
          "<b></b><br>Layer: L07<br>Start: 152.360s<br>End: 152.970s<br>Duration: 0.610s",
          "<b></b><br>Layer: L07<br>Start: 152.970s<br>End: 154.840s<br>Duration: 1.870s",
          "<b></b><br>Layer: L07<br>Start: 154.840s<br>End: 166.960s<br>Duration: 12.120s",
          "<b></b><br>Layer: L07<br>Start: 166.960s<br>End: 178.470s<br>Duration: 11.510s",
          "<b></b><br>Layer: L07<br>Start: 178.470s<br>End: 179.120s<br>Duration: 0.650s",
          "<b></b><br>Layer: L07<br>Start: 179.120s<br>End: 191.310s<br>Duration: 12.190s",
          "<b></b><br>Layer: L07<br>Start: 191.310s<br>End: 191.950s<br>Duration: 0.640s",
          "<b></b><br>Layer: L07<br>Start: 191.950s<br>End: 222.045s<br>Duration: 30.095s",
          "<b></b><br>Layer: L08<br>Start: 0.000s<br>End: 8.540s<br>Duration: 8.540s",
          "<b></b><br>Layer: L08<br>Start: 8.540s<br>End: 9.160s<br>Duration: 0.620s",
          "<b></b><br>Layer: L08<br>Start: 9.160s<br>End: 10.430s<br>Duration: 1.270s",
          "<b></b><br>Layer: L08<br>Start: 10.430s<br>End: 21.930s<br>Duration: 11.500s",
          "<b></b><br>Layer: L08<br>Start: 21.930s<br>End: 22.560s<br>Duration: 0.630s",
          "<b></b><br>Layer: L08<br>Start: 22.560s<br>End: 23.210s<br>Duration: 0.650s",
          "<b></b><br>Layer: L08<br>Start: 23.210s<br>End: 50.110s<br>Duration: 26.900s",
          "<b></b><br>Layer: L08<br>Start: 50.110s<br>End: 50.740s<br>Duration: 0.630s",
          "<b></b><br>Layer: L08<br>Start: 50.740s<br>End: 51.380s<br>Duration: 0.640s",
          "<b></b><br>Layer: L08<br>Start: 51.380s<br>End: 52.020s<br>Duration: 0.640s",
          "<b></b><br>Layer: L08<br>Start: 52.020s<br>End: 62.950s<br>Duration: 10.930s",
          "<b></b><br>Layer: L08<br>Start: 62.950s<br>End: 64.240s<br>Duration: 1.290s",
          "<b></b><br>Layer: L08<br>Start: 64.240s<br>End: 64.900s<br>Duration: 0.660s",
          "<b></b><br>Layer: L08<br>Start: 64.900s<br>End: 82.260s<br>Duration: 17.360s",
          "<b></b><br>Layer: L08<br>Start: 82.260s<br>End: 90.600s<br>Duration: 8.340s",
          "<b></b><br>Layer: L08<br>Start: 90.600s<br>End: 91.250s<br>Duration: 0.650s",
          "<b></b><br>Layer: L08<br>Start: 91.250s<br>End: 91.880s<br>Duration: 0.630s",
          "<b></b><br>Layer: L08<br>Start: 91.880s<br>End: 92.500s<br>Duration: 0.620s",
          "<b></b><br>Layer: L08<br>Start: 92.500s<br>End: 104.140s<br>Duration: 11.640s",
          "<b></b><br>Layer: L08<br>Start: 104.140s<br>End: 104.770s<br>Duration: 0.630s",
          "<b></b><br>Layer: L08<br>Start: 104.770s<br>End: 112.480s<br>Duration: 7.710s",
          "<b></b><br>Layer: L08<br>Start: 112.480s<br>End: 113.100s<br>Duration: 0.620s",
          "<b></b><br>Layer: L08<br>Start: 113.100s<br>End: 126.020s<br>Duration: 12.920s",
          "<b></b><br>Layer: L08<br>Start: 126.020s<br>End: 134.480s<br>Duration: 8.460s",
          "<b></b><br>Layer: L08<br>Start: 134.480s<br>End: 135.140s<br>Duration: 0.660s",
          "<b></b><br>Layer: L08<br>Start: 135.140s<br>End: 135.780s<br>Duration: 0.640s",
          "<b></b><br>Layer: L08<br>Start: 135.780s<br>End: 139.600s<br>Duration: 3.820s",
          "<b></b><br>Layer: L08<br>Start: 139.600s<br>End: 144.070s<br>Duration: 4.470s",
          "<b></b><br>Layer: L08<br>Start: 144.070s<br>End: 145.360s<br>Duration: 1.290s",
          "<b></b><br>Layer: L08<br>Start: 145.360s<br>End: 151.710s<br>Duration: 6.350s",
          "<b></b><br>Layer: L08<br>Start: 151.710s<br>End: 152.360s<br>Duration: 0.650s",
          "<b></b><br>Layer: L08<br>Start: 152.360s<br>End: 152.970s<br>Duration: 0.610s",
          "<b></b><br>Layer: L08<br>Start: 152.970s<br>End: 153.600s<br>Duration: 0.630s",
          "<b></b><br>Layer: L08<br>Start: 153.600s<br>End: 154.840s<br>Duration: 1.240s",
          "<b></b><br>Layer: L08<br>Start: 154.840s<br>End: 165.670s<br>Duration: 10.830s",
          "<b></b><br>Layer: L08<br>Start: 165.670s<br>End: 166.310s<br>Duration: 0.640s",
          "<b></b><br>Layer: L08<br>Start: 166.310s<br>End: 166.960s<br>Duration: 0.650s",
          "<b></b><br>Layer: L08<br>Start: 166.960s<br>End: 177.830s<br>Duration: 10.870s",
          "<b></b><br>Layer: L08<br>Start: 177.830s<br>End: 178.470s<br>Duration: 0.640s",
          "<b></b><br>Layer: L08<br>Start: 178.470s<br>End: 179.120s<br>Duration: 0.650s",
          "<b></b><br>Layer: L08<br>Start: 179.120s<br>End: 191.310s<br>Duration: 12.190s",
          "<b></b><br>Layer: L08<br>Start: 191.310s<br>End: 191.950s<br>Duration: 0.640s",
          "<b></b><br>Layer: L08<br>Start: 191.950s<br>End: 222.045s<br>Duration: 30.095s"
         ],
         "hovertemplate": "%{customdata}<extra></extra>",
         "insidetextanchor": "middle",
         "marker": {
          "color": "#1F77B4",
          "line": {
           "color": "white",
           "width": 0.5
          },
          "pattern": {
           "fgcolor": "white",
           "fgopacity": 0.5,
           "shape": "",
           "solidity": 0.25
          }
         },
         "name": "",
         "orientation": "h",
         "showlegend": true,
         "text": [
          "",
          "",
          "",
          "",
          "",
          "",
          "",
          "",
          "",
          "",
          "",
          "",
          "",
          "",
          "",
          "",
          "",
          "",
          "",
          "",
          "",
          "",
          "",
          "",
          "",
          "",
          "",
          "",
          "",
          "",
          "",
          "",
          "",
          "",
          "",
          "",
          "",
          "",
          "",
          "",
          "",
          "",
          "",
          "",
          "",
          "",
          "",
          "",
          "",
          "",
          "",
          "",
          "",
          "",
          "",
          "",
          "",
          "",
          "",
          "",
          "",
          "",
          "",
          "",
          "",
          "",
          "",
          "",
          "",
          "",
          "",
          "",
          "",
          "",
          "",
          "",
          "",
          "",
          "",
          "",
          "",
          "",
          "",
          "",
          "",
          "",
          "",
          "",
          "",
          "",
          "",
          "",
          "",
          "",
          "",
          "",
          "",
          "",
          "",
          "",
          "",
          "",
          "",
          "",
          "",
          "",
          "",
          "",
          "",
          "",
          "",
          "",
          "",
          "",
          "",
          "",
          "",
          "",
          ""
         ],
         "textposition": "inside",
         "type": "bar",
         "width": 1,
         "x": [
          191.95,
          30.094810000000024,
          104.77,
          62.19000000000001,
          24.98999999999998,
          30.094810000000024,
          104.77,
          62.19000000000001,
          11.509999999999991,
          13.47999999999999,
          30.094810000000024,
          8.54,
          14.670000000000002,
          41.690000000000005,
          39.86999999999999,
          62.19000000000001,
          11.509999999999991,
          13.47999999999999,
          30.094810000000024,
          8.54,
          14.670000000000002,
          28.17,
          13.520000000000003,
          26.97999999999999,
          12.89,
          50.07000000000001,
          12.120000000000005,
          11.509999999999991,
          13.47999999999999,
          30.094810000000024,
          8.54,
          0.620000000000001,
          13.399999999999999,
          0.6500000000000021,
          27.53,
          0.6400000000000006,
          12.859999999999992,
          0.6600000000000108,
          25.69999999999999,
          1.2800000000000011,
          12.89,
          34.83,
          15.240000000000009,
          12.120000000000005,
          11.509999999999991,
          0.6500000000000057,
          12.829999999999984,
          30.094810000000024,
          8.54,
          0.620000000000001,
          1.2699999999999996,
          11.5,
          0.629999999999999,
          0.6500000000000021,
          26.9,
          0.6300000000000026,
          0.6400000000000006,
          11.57,
          1.289999999999992,
          0.6600000000000108,
          25.69999999999999,
          0.6500000000000057,
          0.6299999999999955,
          12.260000000000005,
          0.6299999999999955,
          34.83,
          5.760000000000019,
          7,
          0.6099999999999852,
          1.8700000000000045,
          12.120000000000005,
          11.509999999999991,
          0.6500000000000057,
          12.189999999999998,
          0.6399999999999864,
          30.094810000000024,
          8.54,
          0.620000000000001,
          1.2699999999999996,
          11.5,
          0.629999999999999,
          0.6500000000000021,
          26.9,
          0.6300000000000026,
          0.6400000000000006,
          0.6400000000000006,
          10.93,
          1.289999999999992,
          0.6600000000000108,
          17.36,
          8.33999999999999,
          0.6500000000000057,
          0.6299999999999955,
          0.6200000000000045,
          11.64,
          0.6299999999999955,
          7.710000000000008,
          0.6199999999999903,
          12.920000000000002,
          8.459999999999994,
          0.6599999999999966,
          0.6400000000000148,
          3.819999999999993,
          4.469999999999999,
          1.2900000000000205,
          6.349999999999994,
          0.6500000000000057,
          0.6099999999999852,
          0.6299999999999955,
          1.240000000000009,
          10.829999999999984,
          0.6400000000000148,
          0.6500000000000057,
          10.870000000000005,
          0.6399999999999864,
          0.6500000000000057,
          12.189999999999998,
          0.6399999999999864,
          30.094810000000024
         ],
         "xaxis": "x3",
         "y": [
          "L01",
          "L01",
          "L02",
          "L02",
          "L02",
          "L02",
          "L03",
          "L03",
          "L03",
          "L03",
          "L03",
          "L04",
          "L04",
          "L04",
          "L04",
          "L04",
          "L04",
          "L04",
          "L04",
          "L05",
          "L05",
          "L05",
          "L05",
          "L05",
          "L05",
          "L05",
          "L05",
          "L05",
          "L05",
          "L05",
          "L06",
          "L06",
          "L06",
          "L06",
          "L06",
          "L06",
          "L06",
          "L06",
          "L06",
          "L06",
          "L06",
          "L06",
          "L06",
          "L06",
          "L06",
          "L06",
          "L06",
          "L06",
          "L07",
          "L07",
          "L07",
          "L07",
          "L07",
          "L07",
          "L07",
          "L07",
          "L07",
          "L07",
          "L07",
          "L07",
          "L07",
          "L07",
          "L07",
          "L07",
          "L07",
          "L07",
          "L07",
          "L07",
          "L07",
          "L07",
          "L07",
          "L07",
          "L07",
          "L07",
          "L07",
          "L07",
          "L08",
          "L08",
          "L08",
          "L08",
          "L08",
          "L08",
          "L08",
          "L08",
          "L08",
          "L08",
          "L08",
          "L08",
          "L08",
          "L08",
          "L08",
          "L08",
          "L08",
          "L08",
          "L08",
          "L08",
          "L08",
          "L08",
          "L08",
          "L08",
          "L08",
          "L08",
          "L08",
          "L08",
          "L08",
          "L08",
          "L08",
          "L08",
          "L08",
          "L08",
          "L08",
          "L08",
          "L08",
          "L08",
          "L08",
          "L08",
          "L08",
          "L08",
          "L08"
         ],
         "yaxis": "y3"
        },
        {
         "base": [
          0,
          10.43,
          21.93,
          51.38,
          62.95,
          91.88,
          104.14,
          152.97,
          166.31,
          178.47,
          191.31,
          0,
          10.43,
          21.93,
          51.38,
          52.02,
          62.95,
          91.88,
          92.5,
          104.14,
          152.97,
          153.6,
          165.67,
          166.31,
          178.47,
          179.12,
          191.31,
          0,
          9.16,
          10.43,
          21.93,
          22.56,
          51.38,
          52.02,
          62.95,
          64.24,
          91.88,
          92.5,
          104.14,
          104.77,
          152.36,
          152.97,
          153.6,
          165.67,
          166.31,
          166.96,
          178.47,
          179.12,
          191.31,
          191.95,
          0,
          9.16,
          10.43,
          21.93,
          22.56,
          51.38,
          52.02,
          62.95,
          64.24,
          91.88,
          92.5,
          104.14,
          104.77,
          134.48,
          152.36,
          152.97,
          153.6,
          165.67,
          166.31,
          166.96,
          178.47,
          179.12,
          191.31,
          191.95,
          0,
          9.16,
          10.43,
          21.93,
          22.56,
          51.38,
          52.02,
          62.95,
          64.24,
          91.88,
          92.5,
          104.14,
          104.77,
          134.48,
          139.6,
          152.36,
          152.97,
          153.6,
          165.67,
          166.31,
          166.96,
          178.47,
          179.12,
          191.31,
          191.95,
          0,
          8.54,
          9.16,
          10.43,
          21.93,
          22.56,
          23.21,
          50.74,
          51.38,
          52.02,
          62.95,
          64.24,
          64.9,
          91.25,
          91.88,
          92.5,
          104.14,
          104.77,
          134.48,
          139.6,
          151.71,
          152.36,
          152.97,
          153.6,
          165.67,
          166.31,
          166.96,
          177.83,
          178.47,
          179.12,
          191.31,
          191.95,
          0,
          8.54,
          9.16,
          10.43,
          21.93,
          22.56,
          23.21,
          50.74,
          51.38,
          52.02,
          62.95,
          64.24,
          64.9,
          91.25,
          91.88,
          92.5,
          104.14,
          104.77,
          134.48,
          139.6,
          151.71,
          152.36,
          152.97,
          153.6,
          154.84,
          165.67,
          166.31,
          166.96,
          177.83,
          178.47,
          179.12,
          191.31,
          191.95,
          0,
          8.54,
          9.16,
          10.43,
          21.93,
          22.56,
          23.21,
          50.74,
          51.38,
          52.02,
          62.95,
          64.24,
          64.9,
          82.26,
          90.6,
          91.25,
          91.88,
          92.5,
          104.14,
          104.77,
          134.48,
          135.78,
          139.6,
          144.07,
          151.71,
          152.36,
          152.97,
          153.6,
          154.84,
          165.67,
          166.31,
          166.96,
          177.83,
          178.47,
          179.12,
          191.31,
          191.95,
          0,
          8.54,
          9.16,
          10.43,
          21.93,
          22.56,
          23.21,
          50.11,
          50.74,
          51.38,
          52.02,
          62.95,
          64.24,
          64.9,
          82.26,
          90.6,
          91.25,
          91.88,
          92.5,
          104.14,
          104.77,
          113.1,
          126.02,
          134.48,
          135.14,
          135.78,
          139.6,
          144.07,
          145.36,
          151.71,
          152.36,
          152.97,
          153.6,
          154.84,
          165.67,
          166.31,
          166.96,
          177.83,
          178.47,
          179.12,
          191.31,
          191.95,
          0,
          8.54,
          9.16,
          10.43,
          21.93,
          22.56,
          23.21,
          50.11,
          50.74,
          51.38,
          52.02,
          62.95,
          64.24,
          64.9,
          82.26,
          90.6,
          91.25,
          91.88,
          92.5,
          104.14,
          104.77,
          112.48,
          113.1,
          126.02,
          134.48,
          135.14,
          135.78,
          139.6,
          144.07,
          145.36,
          151.71,
          152.36,
          152.97,
          153.6,
          154.84,
          165.67,
          166.31,
          166.96,
          177.83,
          178.47,
          179.12,
          191.31,
          191.95
         ],
         "customdata": [
          "<b></b><br>Layer: L01<br>Start: 0.000s<br>End: 10.430s<br>Duration: 10.430s",
          "<b></b><br>Layer: L01<br>Start: 10.430s<br>End: 21.930s<br>Duration: 11.500s",
          "<b></b><br>Layer: L01<br>Start: 21.930s<br>End: 51.380s<br>Duration: 29.450s",
          "<b></b><br>Layer: L01<br>Start: 51.380s<br>End: 62.950s<br>Duration: 11.570s",
          "<b></b><br>Layer: L01<br>Start: 62.950s<br>End: 91.880s<br>Duration: 28.930s",
          "<b></b><br>Layer: L01<br>Start: 91.880s<br>End: 104.140s<br>Duration: 12.260s",
          "<b></b><br>Layer: L01<br>Start: 104.140s<br>End: 152.970s<br>Duration: 48.830s",
          "<b></b><br>Layer: L01<br>Start: 152.970s<br>End: 166.310s<br>Duration: 13.340s",
          "<b></b><br>Layer: L01<br>Start: 166.310s<br>End: 178.470s<br>Duration: 12.160s",
          "<b></b><br>Layer: L01<br>Start: 178.470s<br>End: 191.310s<br>Duration: 12.840s",
          "<b></b><br>Layer: L01<br>Start: 191.310s<br>End: 222.045s<br>Duration: 30.735s",
          "<b></b><br>Layer: L02<br>Start: 0.000s<br>End: 10.430s<br>Duration: 10.430s",
          "<b></b><br>Layer: L02<br>Start: 10.430s<br>End: 21.930s<br>Duration: 11.500s",
          "<b></b><br>Layer: L02<br>Start: 21.930s<br>End: 51.380s<br>Duration: 29.450s",
          "<b></b><br>Layer: L02<br>Start: 51.380s<br>End: 52.020s<br>Duration: 0.640s",
          "<b></b><br>Layer: L02<br>Start: 52.020s<br>End: 62.950s<br>Duration: 10.930s",
          "<b></b><br>Layer: L02<br>Start: 62.950s<br>End: 91.880s<br>Duration: 28.930s",
          "<b></b><br>Layer: L02<br>Start: 91.880s<br>End: 92.500s<br>Duration: 0.620s",
          "<b></b><br>Layer: L02<br>Start: 92.500s<br>End: 104.140s<br>Duration: 11.640s",
          "<b></b><br>Layer: L02<br>Start: 104.140s<br>End: 152.970s<br>Duration: 48.830s",
          "<b></b><br>Layer: L02<br>Start: 152.970s<br>End: 153.600s<br>Duration: 0.630s",
          "<b></b><br>Layer: L02<br>Start: 153.600s<br>End: 165.670s<br>Duration: 12.070s",
          "<b></b><br>Layer: L02<br>Start: 165.670s<br>End: 166.310s<br>Duration: 0.640s",
          "<b></b><br>Layer: L02<br>Start: 166.310s<br>End: 178.470s<br>Duration: 12.160s",
          "<b></b><br>Layer: L02<br>Start: 178.470s<br>End: 179.120s<br>Duration: 0.650s",
          "<b></b><br>Layer: L02<br>Start: 179.120s<br>End: 191.310s<br>Duration: 12.190s",
          "<b></b><br>Layer: L02<br>Start: 191.310s<br>End: 222.045s<br>Duration: 30.735s",
          "<b></b><br>Layer: L03<br>Start: 0.000s<br>End: 9.160s<br>Duration: 9.160s",
          "<b></b><br>Layer: L03<br>Start: 9.160s<br>End: 10.430s<br>Duration: 1.270s",
          "<b></b><br>Layer: L03<br>Start: 10.430s<br>End: 21.930s<br>Duration: 11.500s",
          "<b></b><br>Layer: L03<br>Start: 21.930s<br>End: 22.560s<br>Duration: 0.630s",
          "<b></b><br>Layer: L03<br>Start: 22.560s<br>End: 51.380s<br>Duration: 28.820s",
          "<b></b><br>Layer: L03<br>Start: 51.380s<br>End: 52.020s<br>Duration: 0.640s",
          "<b></b><br>Layer: L03<br>Start: 52.020s<br>End: 62.950s<br>Duration: 10.930s",
          "<b></b><br>Layer: L03<br>Start: 62.950s<br>End: 64.240s<br>Duration: 1.290s",
          "<b></b><br>Layer: L03<br>Start: 64.240s<br>End: 91.880s<br>Duration: 27.640s",
          "<b></b><br>Layer: L03<br>Start: 91.880s<br>End: 92.500s<br>Duration: 0.620s",
          "<b></b><br>Layer: L03<br>Start: 92.500s<br>End: 104.140s<br>Duration: 11.640s",
          "<b></b><br>Layer: L03<br>Start: 104.140s<br>End: 104.770s<br>Duration: 0.630s",
          "<b></b><br>Layer: L03<br>Start: 104.770s<br>End: 152.360s<br>Duration: 47.590s",
          "<b></b><br>Layer: L03<br>Start: 152.360s<br>End: 152.970s<br>Duration: 0.610s",
          "<b></b><br>Layer: L03<br>Start: 152.970s<br>End: 153.600s<br>Duration: 0.630s",
          "<b></b><br>Layer: L03<br>Start: 153.600s<br>End: 165.670s<br>Duration: 12.070s",
          "<b></b><br>Layer: L03<br>Start: 165.670s<br>End: 166.310s<br>Duration: 0.640s",
          "<b></b><br>Layer: L03<br>Start: 166.310s<br>End: 166.960s<br>Duration: 0.650s",
          "<b></b><br>Layer: L03<br>Start: 166.960s<br>End: 178.470s<br>Duration: 11.510s",
          "<b></b><br>Layer: L03<br>Start: 178.470s<br>End: 179.120s<br>Duration: 0.650s",
          "<b></b><br>Layer: L03<br>Start: 179.120s<br>End: 191.310s<br>Duration: 12.190s",
          "<b></b><br>Layer: L03<br>Start: 191.310s<br>End: 191.950s<br>Duration: 0.640s",
          "<b></b><br>Layer: L03<br>Start: 191.950s<br>End: 222.045s<br>Duration: 30.095s",
          "<b></b><br>Layer: L04<br>Start: 0.000s<br>End: 9.160s<br>Duration: 9.160s",
          "<b></b><br>Layer: L04<br>Start: 9.160s<br>End: 10.430s<br>Duration: 1.270s",
          "<b></b><br>Layer: L04<br>Start: 10.430s<br>End: 21.930s<br>Duration: 11.500s",
          "<b></b><br>Layer: L04<br>Start: 21.930s<br>End: 22.560s<br>Duration: 0.630s",
          "<b></b><br>Layer: L04<br>Start: 22.560s<br>End: 51.380s<br>Duration: 28.820s",
          "<b></b><br>Layer: L04<br>Start: 51.380s<br>End: 52.020s<br>Duration: 0.640s",
          "<b></b><br>Layer: L04<br>Start: 52.020s<br>End: 62.950s<br>Duration: 10.930s",
          "<b></b><br>Layer: L04<br>Start: 62.950s<br>End: 64.240s<br>Duration: 1.290s",
          "<b></b><br>Layer: L04<br>Start: 64.240s<br>End: 91.880s<br>Duration: 27.640s",
          "<b></b><br>Layer: L04<br>Start: 91.880s<br>End: 92.500s<br>Duration: 0.620s",
          "<b></b><br>Layer: L04<br>Start: 92.500s<br>End: 104.140s<br>Duration: 11.640s",
          "<b></b><br>Layer: L04<br>Start: 104.140s<br>End: 104.770s<br>Duration: 0.630s",
          "<b></b><br>Layer: L04<br>Start: 104.770s<br>End: 134.480s<br>Duration: 29.710s",
          "<b></b><br>Layer: L04<br>Start: 134.480s<br>End: 152.360s<br>Duration: 17.880s",
          "<b></b><br>Layer: L04<br>Start: 152.360s<br>End: 152.970s<br>Duration: 0.610s",
          "<b></b><br>Layer: L04<br>Start: 152.970s<br>End: 153.600s<br>Duration: 0.630s",
          "<b></b><br>Layer: L04<br>Start: 153.600s<br>End: 165.670s<br>Duration: 12.070s",
          "<b></b><br>Layer: L04<br>Start: 165.670s<br>End: 166.310s<br>Duration: 0.640s",
          "<b></b><br>Layer: L04<br>Start: 166.310s<br>End: 166.960s<br>Duration: 0.650s",
          "<b></b><br>Layer: L04<br>Start: 166.960s<br>End: 178.470s<br>Duration: 11.510s",
          "<b></b><br>Layer: L04<br>Start: 178.470s<br>End: 179.120s<br>Duration: 0.650s",
          "<b></b><br>Layer: L04<br>Start: 179.120s<br>End: 191.310s<br>Duration: 12.190s",
          "<b></b><br>Layer: L04<br>Start: 191.310s<br>End: 191.950s<br>Duration: 0.640s",
          "<b></b><br>Layer: L04<br>Start: 191.950s<br>End: 222.045s<br>Duration: 30.095s",
          "<b></b><br>Layer: L05<br>Start: 0.000s<br>End: 9.160s<br>Duration: 9.160s",
          "<b></b><br>Layer: L05<br>Start: 9.160s<br>End: 10.430s<br>Duration: 1.270s",
          "<b></b><br>Layer: L05<br>Start: 10.430s<br>End: 21.930s<br>Duration: 11.500s",
          "<b></b><br>Layer: L05<br>Start: 21.930s<br>End: 22.560s<br>Duration: 0.630s",
          "<b></b><br>Layer: L05<br>Start: 22.560s<br>End: 51.380s<br>Duration: 28.820s",
          "<b></b><br>Layer: L05<br>Start: 51.380s<br>End: 52.020s<br>Duration: 0.640s",
          "<b></b><br>Layer: L05<br>Start: 52.020s<br>End: 62.950s<br>Duration: 10.930s",
          "<b></b><br>Layer: L05<br>Start: 62.950s<br>End: 64.240s<br>Duration: 1.290s",
          "<b></b><br>Layer: L05<br>Start: 64.240s<br>End: 91.880s<br>Duration: 27.640s",
          "<b></b><br>Layer: L05<br>Start: 91.880s<br>End: 92.500s<br>Duration: 0.620s",
          "<b></b><br>Layer: L05<br>Start: 92.500s<br>End: 104.140s<br>Duration: 11.640s",
          "<b></b><br>Layer: L05<br>Start: 104.140s<br>End: 104.770s<br>Duration: 0.630s",
          "<b></b><br>Layer: L05<br>Start: 104.770s<br>End: 134.480s<br>Duration: 29.710s",
          "<b></b><br>Layer: L05<br>Start: 134.480s<br>End: 139.600s<br>Duration: 5.120s",
          "<b></b><br>Layer: L05<br>Start: 139.600s<br>End: 152.360s<br>Duration: 12.760s",
          "<b></b><br>Layer: L05<br>Start: 152.360s<br>End: 152.970s<br>Duration: 0.610s",
          "<b></b><br>Layer: L05<br>Start: 152.970s<br>End: 153.600s<br>Duration: 0.630s",
          "<b></b><br>Layer: L05<br>Start: 153.600s<br>End: 165.670s<br>Duration: 12.070s",
          "<b></b><br>Layer: L05<br>Start: 165.670s<br>End: 166.310s<br>Duration: 0.640s",
          "<b></b><br>Layer: L05<br>Start: 166.310s<br>End: 166.960s<br>Duration: 0.650s",
          "<b></b><br>Layer: L05<br>Start: 166.960s<br>End: 178.470s<br>Duration: 11.510s",
          "<b></b><br>Layer: L05<br>Start: 178.470s<br>End: 179.120s<br>Duration: 0.650s",
          "<b></b><br>Layer: L05<br>Start: 179.120s<br>End: 191.310s<br>Duration: 12.190s",
          "<b></b><br>Layer: L05<br>Start: 191.310s<br>End: 191.950s<br>Duration: 0.640s",
          "<b></b><br>Layer: L05<br>Start: 191.950s<br>End: 222.045s<br>Duration: 30.095s",
          "<b></b><br>Layer: L06<br>Start: 0.000s<br>End: 8.540s<br>Duration: 8.540s",
          "<b></b><br>Layer: L06<br>Start: 8.540s<br>End: 9.160s<br>Duration: 0.620s",
          "<b></b><br>Layer: L06<br>Start: 9.160s<br>End: 10.430s<br>Duration: 1.270s",
          "<b></b><br>Layer: L06<br>Start: 10.430s<br>End: 21.930s<br>Duration: 11.500s",
          "<b></b><br>Layer: L06<br>Start: 21.930s<br>End: 22.560s<br>Duration: 0.630s",
          "<b></b><br>Layer: L06<br>Start: 22.560s<br>End: 23.210s<br>Duration: 0.650s",
          "<b></b><br>Layer: L06<br>Start: 23.210s<br>End: 50.740s<br>Duration: 27.530s",
          "<b></b><br>Layer: L06<br>Start: 50.740s<br>End: 51.380s<br>Duration: 0.640s",
          "<b></b><br>Layer: L06<br>Start: 51.380s<br>End: 52.020s<br>Duration: 0.640s",
          "<b></b><br>Layer: L06<br>Start: 52.020s<br>End: 62.950s<br>Duration: 10.930s",
          "<b></b><br>Layer: L06<br>Start: 62.950s<br>End: 64.240s<br>Duration: 1.290s",
          "<b></b><br>Layer: L06<br>Start: 64.240s<br>End: 64.900s<br>Duration: 0.660s",
          "<b></b><br>Layer: L06<br>Start: 64.900s<br>End: 91.250s<br>Duration: 26.350s",
          "<b></b><br>Layer: L06<br>Start: 91.250s<br>End: 91.880s<br>Duration: 0.630s",
          "<b></b><br>Layer: L06<br>Start: 91.880s<br>End: 92.500s<br>Duration: 0.620s",
          "<b></b><br>Layer: L06<br>Start: 92.500s<br>End: 104.140s<br>Duration: 11.640s",
          "<b></b><br>Layer: L06<br>Start: 104.140s<br>End: 104.770s<br>Duration: 0.630s",
          "<b></b><br>Layer: L06<br>Start: 104.770s<br>End: 134.480s<br>Duration: 29.710s",
          "<b></b><br>Layer: L06<br>Start: 134.480s<br>End: 139.600s<br>Duration: 5.120s",
          "<b></b><br>Layer: L06<br>Start: 139.600s<br>End: 151.710s<br>Duration: 12.110s",
          "<b></b><br>Layer: L06<br>Start: 151.710s<br>End: 152.360s<br>Duration: 0.650s",
          "<b></b><br>Layer: L06<br>Start: 152.360s<br>End: 152.970s<br>Duration: 0.610s",
          "<b></b><br>Layer: L06<br>Start: 152.970s<br>End: 153.600s<br>Duration: 0.630s",
          "<b></b><br>Layer: L06<br>Start: 153.600s<br>End: 165.670s<br>Duration: 12.070s",
          "<b></b><br>Layer: L06<br>Start: 165.670s<br>End: 166.310s<br>Duration: 0.640s",
          "<b></b><br>Layer: L06<br>Start: 166.310s<br>End: 166.960s<br>Duration: 0.650s",
          "<b></b><br>Layer: L06<br>Start: 166.960s<br>End: 177.830s<br>Duration: 10.870s",
          "<b></b><br>Layer: L06<br>Start: 177.830s<br>End: 178.470s<br>Duration: 0.640s",
          "<b></b><br>Layer: L06<br>Start: 178.470s<br>End: 179.120s<br>Duration: 0.650s",
          "<b></b><br>Layer: L06<br>Start: 179.120s<br>End: 191.310s<br>Duration: 12.190s",
          "<b></b><br>Layer: L06<br>Start: 191.310s<br>End: 191.950s<br>Duration: 0.640s",
          "<b></b><br>Layer: L06<br>Start: 191.950s<br>End: 222.045s<br>Duration: 30.095s",
          "<b></b><br>Layer: L07<br>Start: 0.000s<br>End: 8.540s<br>Duration: 8.540s",
          "<b></b><br>Layer: L07<br>Start: 8.540s<br>End: 9.160s<br>Duration: 0.620s",
          "<b></b><br>Layer: L07<br>Start: 9.160s<br>End: 10.430s<br>Duration: 1.270s",
          "<b></b><br>Layer: L07<br>Start: 10.430s<br>End: 21.930s<br>Duration: 11.500s",
          "<b></b><br>Layer: L07<br>Start: 21.930s<br>End: 22.560s<br>Duration: 0.630s",
          "<b></b><br>Layer: L07<br>Start: 22.560s<br>End: 23.210s<br>Duration: 0.650s",
          "<b></b><br>Layer: L07<br>Start: 23.210s<br>End: 50.740s<br>Duration: 27.530s",
          "<b></b><br>Layer: L07<br>Start: 50.740s<br>End: 51.380s<br>Duration: 0.640s",
          "<b></b><br>Layer: L07<br>Start: 51.380s<br>End: 52.020s<br>Duration: 0.640s",
          "<b></b><br>Layer: L07<br>Start: 52.020s<br>End: 62.950s<br>Duration: 10.930s",
          "<b></b><br>Layer: L07<br>Start: 62.950s<br>End: 64.240s<br>Duration: 1.290s",
          "<b></b><br>Layer: L07<br>Start: 64.240s<br>End: 64.900s<br>Duration: 0.660s",
          "<b></b><br>Layer: L07<br>Start: 64.900s<br>End: 91.250s<br>Duration: 26.350s",
          "<b></b><br>Layer: L07<br>Start: 91.250s<br>End: 91.880s<br>Duration: 0.630s",
          "<b></b><br>Layer: L07<br>Start: 91.880s<br>End: 92.500s<br>Duration: 0.620s",
          "<b></b><br>Layer: L07<br>Start: 92.500s<br>End: 104.140s<br>Duration: 11.640s",
          "<b></b><br>Layer: L07<br>Start: 104.140s<br>End: 104.770s<br>Duration: 0.630s",
          "<b></b><br>Layer: L07<br>Start: 104.770s<br>End: 134.480s<br>Duration: 29.710s",
          "<b></b><br>Layer: L07<br>Start: 134.480s<br>End: 139.600s<br>Duration: 5.120s",
          "<b></b><br>Layer: L07<br>Start: 139.600s<br>End: 151.710s<br>Duration: 12.110s",
          "<b></b><br>Layer: L07<br>Start: 151.710s<br>End: 152.360s<br>Duration: 0.650s",
          "<b></b><br>Layer: L07<br>Start: 152.360s<br>End: 152.970s<br>Duration: 0.610s",
          "<b></b><br>Layer: L07<br>Start: 152.970s<br>End: 153.600s<br>Duration: 0.630s",
          "<b></b><br>Layer: L07<br>Start: 153.600s<br>End: 154.840s<br>Duration: 1.240s",
          "<b></b><br>Layer: L07<br>Start: 154.840s<br>End: 165.670s<br>Duration: 10.830s",
          "<b></b><br>Layer: L07<br>Start: 165.670s<br>End: 166.310s<br>Duration: 0.640s",
          "<b></b><br>Layer: L07<br>Start: 166.310s<br>End: 166.960s<br>Duration: 0.650s",
          "<b></b><br>Layer: L07<br>Start: 166.960s<br>End: 177.830s<br>Duration: 10.870s",
          "<b></b><br>Layer: L07<br>Start: 177.830s<br>End: 178.470s<br>Duration: 0.640s",
          "<b></b><br>Layer: L07<br>Start: 178.470s<br>End: 179.120s<br>Duration: 0.650s",
          "<b></b><br>Layer: L07<br>Start: 179.120s<br>End: 191.310s<br>Duration: 12.190s",
          "<b></b><br>Layer: L07<br>Start: 191.310s<br>End: 191.950s<br>Duration: 0.640s",
          "<b></b><br>Layer: L07<br>Start: 191.950s<br>End: 222.045s<br>Duration: 30.095s",
          "<b></b><br>Layer: L08<br>Start: 0.000s<br>End: 8.540s<br>Duration: 8.540s",
          "<b></b><br>Layer: L08<br>Start: 8.540s<br>End: 9.160s<br>Duration: 0.620s",
          "<b></b><br>Layer: L08<br>Start: 9.160s<br>End: 10.430s<br>Duration: 1.270s",
          "<b></b><br>Layer: L08<br>Start: 10.430s<br>End: 21.930s<br>Duration: 11.500s",
          "<b></b><br>Layer: L08<br>Start: 21.930s<br>End: 22.560s<br>Duration: 0.630s",
          "<b></b><br>Layer: L08<br>Start: 22.560s<br>End: 23.210s<br>Duration: 0.650s",
          "<b></b><br>Layer: L08<br>Start: 23.210s<br>End: 50.740s<br>Duration: 27.530s",
          "<b></b><br>Layer: L08<br>Start: 50.740s<br>End: 51.380s<br>Duration: 0.640s",
          "<b></b><br>Layer: L08<br>Start: 51.380s<br>End: 52.020s<br>Duration: 0.640s",
          "<b></b><br>Layer: L08<br>Start: 52.020s<br>End: 62.950s<br>Duration: 10.930s",
          "<b></b><br>Layer: L08<br>Start: 62.950s<br>End: 64.240s<br>Duration: 1.290s",
          "<b></b><br>Layer: L08<br>Start: 64.240s<br>End: 64.900s<br>Duration: 0.660s",
          "<b></b><br>Layer: L08<br>Start: 64.900s<br>End: 82.260s<br>Duration: 17.360s",
          "<b></b><br>Layer: L08<br>Start: 82.260s<br>End: 90.600s<br>Duration: 8.340s",
          "<b></b><br>Layer: L08<br>Start: 90.600s<br>End: 91.250s<br>Duration: 0.650s",
          "<b></b><br>Layer: L08<br>Start: 91.250s<br>End: 91.880s<br>Duration: 0.630s",
          "<b></b><br>Layer: L08<br>Start: 91.880s<br>End: 92.500s<br>Duration: 0.620s",
          "<b></b><br>Layer: L08<br>Start: 92.500s<br>End: 104.140s<br>Duration: 11.640s",
          "<b></b><br>Layer: L08<br>Start: 104.140s<br>End: 104.770s<br>Duration: 0.630s",
          "<b></b><br>Layer: L08<br>Start: 104.770s<br>End: 134.480s<br>Duration: 29.710s",
          "<b></b><br>Layer: L08<br>Start: 134.480s<br>End: 135.780s<br>Duration: 1.300s",
          "<b></b><br>Layer: L08<br>Start: 135.780s<br>End: 139.600s<br>Duration: 3.820s",
          "<b></b><br>Layer: L08<br>Start: 139.600s<br>End: 144.070s<br>Duration: 4.470s",
          "<b></b><br>Layer: L08<br>Start: 144.070s<br>End: 151.710s<br>Duration: 7.640s",
          "<b></b><br>Layer: L08<br>Start: 151.710s<br>End: 152.360s<br>Duration: 0.650s",
          "<b></b><br>Layer: L08<br>Start: 152.360s<br>End: 152.970s<br>Duration: 0.610s",
          "<b></b><br>Layer: L08<br>Start: 152.970s<br>End: 153.600s<br>Duration: 0.630s",
          "<b></b><br>Layer: L08<br>Start: 153.600s<br>End: 154.840s<br>Duration: 1.240s",
          "<b></b><br>Layer: L08<br>Start: 154.840s<br>End: 165.670s<br>Duration: 10.830s",
          "<b></b><br>Layer: L08<br>Start: 165.670s<br>End: 166.310s<br>Duration: 0.640s",
          "<b></b><br>Layer: L08<br>Start: 166.310s<br>End: 166.960s<br>Duration: 0.650s",
          "<b></b><br>Layer: L08<br>Start: 166.960s<br>End: 177.830s<br>Duration: 10.870s",
          "<b></b><br>Layer: L08<br>Start: 177.830s<br>End: 178.470s<br>Duration: 0.640s",
          "<b></b><br>Layer: L08<br>Start: 178.470s<br>End: 179.120s<br>Duration: 0.650s",
          "<b></b><br>Layer: L08<br>Start: 179.120s<br>End: 191.310s<br>Duration: 12.190s",
          "<b></b><br>Layer: L08<br>Start: 191.310s<br>End: 191.950s<br>Duration: 0.640s",
          "<b></b><br>Layer: L08<br>Start: 191.950s<br>End: 222.045s<br>Duration: 30.095s",
          "<b></b><br>Layer: L09<br>Start: 0.000s<br>End: 8.540s<br>Duration: 8.540s",
          "<b></b><br>Layer: L09<br>Start: 8.540s<br>End: 9.160s<br>Duration: 0.620s",
          "<b></b><br>Layer: L09<br>Start: 9.160s<br>End: 10.430s<br>Duration: 1.270s",
          "<b></b><br>Layer: L09<br>Start: 10.430s<br>End: 21.930s<br>Duration: 11.500s",
          "<b></b><br>Layer: L09<br>Start: 21.930s<br>End: 22.560s<br>Duration: 0.630s",
          "<b></b><br>Layer: L09<br>Start: 22.560s<br>End: 23.210s<br>Duration: 0.650s",
          "<b></b><br>Layer: L09<br>Start: 23.210s<br>End: 50.110s<br>Duration: 26.900s",
          "<b></b><br>Layer: L09<br>Start: 50.110s<br>End: 50.740s<br>Duration: 0.630s",
          "<b></b><br>Layer: L09<br>Start: 50.740s<br>End: 51.380s<br>Duration: 0.640s",
          "<b></b><br>Layer: L09<br>Start: 51.380s<br>End: 52.020s<br>Duration: 0.640s",
          "<b></b><br>Layer: L09<br>Start: 52.020s<br>End: 62.950s<br>Duration: 10.930s",
          "<b></b><br>Layer: L09<br>Start: 62.950s<br>End: 64.240s<br>Duration: 1.290s",
          "<b></b><br>Layer: L09<br>Start: 64.240s<br>End: 64.900s<br>Duration: 0.660s",
          "<b></b><br>Layer: L09<br>Start: 64.900s<br>End: 82.260s<br>Duration: 17.360s",
          "<b></b><br>Layer: L09<br>Start: 82.260s<br>End: 90.600s<br>Duration: 8.340s",
          "<b></b><br>Layer: L09<br>Start: 90.600s<br>End: 91.250s<br>Duration: 0.650s",
          "<b></b><br>Layer: L09<br>Start: 91.250s<br>End: 91.880s<br>Duration: 0.630s",
          "<b></b><br>Layer: L09<br>Start: 91.880s<br>End: 92.500s<br>Duration: 0.620s",
          "<b></b><br>Layer: L09<br>Start: 92.500s<br>End: 104.140s<br>Duration: 11.640s",
          "<b></b><br>Layer: L09<br>Start: 104.140s<br>End: 104.770s<br>Duration: 0.630s",
          "<b></b><br>Layer: L09<br>Start: 104.770s<br>End: 113.100s<br>Duration: 8.330s",
          "<b></b><br>Layer: L09<br>Start: 113.100s<br>End: 126.020s<br>Duration: 12.920s",
          "<b></b><br>Layer: L09<br>Start: 126.020s<br>End: 134.480s<br>Duration: 8.460s",
          "<b></b><br>Layer: L09<br>Start: 134.480s<br>End: 135.140s<br>Duration: 0.660s",
          "<b></b><br>Layer: L09<br>Start: 135.140s<br>End: 135.780s<br>Duration: 0.640s",
          "<b></b><br>Layer: L09<br>Start: 135.780s<br>End: 139.600s<br>Duration: 3.820s",
          "<b></b><br>Layer: L09<br>Start: 139.600s<br>End: 144.070s<br>Duration: 4.470s",
          "<b></b><br>Layer: L09<br>Start: 144.070s<br>End: 145.360s<br>Duration: 1.290s",
          "<b></b><br>Layer: L09<br>Start: 145.360s<br>End: 151.710s<br>Duration: 6.350s",
          "<b></b><br>Layer: L09<br>Start: 151.710s<br>End: 152.360s<br>Duration: 0.650s",
          "<b></b><br>Layer: L09<br>Start: 152.360s<br>End: 152.970s<br>Duration: 0.610s",
          "<b></b><br>Layer: L09<br>Start: 152.970s<br>End: 153.600s<br>Duration: 0.630s",
          "<b></b><br>Layer: L09<br>Start: 153.600s<br>End: 154.840s<br>Duration: 1.240s",
          "<b></b><br>Layer: L09<br>Start: 154.840s<br>End: 165.670s<br>Duration: 10.830s",
          "<b></b><br>Layer: L09<br>Start: 165.670s<br>End: 166.310s<br>Duration: 0.640s",
          "<b></b><br>Layer: L09<br>Start: 166.310s<br>End: 166.960s<br>Duration: 0.650s",
          "<b></b><br>Layer: L09<br>Start: 166.960s<br>End: 177.830s<br>Duration: 10.870s",
          "<b></b><br>Layer: L09<br>Start: 177.830s<br>End: 178.470s<br>Duration: 0.640s",
          "<b></b><br>Layer: L09<br>Start: 178.470s<br>End: 179.120s<br>Duration: 0.650s",
          "<b></b><br>Layer: L09<br>Start: 179.120s<br>End: 191.310s<br>Duration: 12.190s",
          "<b></b><br>Layer: L09<br>Start: 191.310s<br>End: 191.950s<br>Duration: 0.640s",
          "<b></b><br>Layer: L09<br>Start: 191.950s<br>End: 222.045s<br>Duration: 30.095s",
          "<b></b><br>Layer: L10<br>Start: 0.000s<br>End: 8.540s<br>Duration: 8.540s",
          "<b></b><br>Layer: L10<br>Start: 8.540s<br>End: 9.160s<br>Duration: 0.620s",
          "<b></b><br>Layer: L10<br>Start: 9.160s<br>End: 10.430s<br>Duration: 1.270s",
          "<b></b><br>Layer: L10<br>Start: 10.430s<br>End: 21.930s<br>Duration: 11.500s",
          "<b></b><br>Layer: L10<br>Start: 21.930s<br>End: 22.560s<br>Duration: 0.630s",
          "<b></b><br>Layer: L10<br>Start: 22.560s<br>End: 23.210s<br>Duration: 0.650s",
          "<b></b><br>Layer: L10<br>Start: 23.210s<br>End: 50.110s<br>Duration: 26.900s",
          "<b></b><br>Layer: L10<br>Start: 50.110s<br>End: 50.740s<br>Duration: 0.630s",
          "<b></b><br>Layer: L10<br>Start: 50.740s<br>End: 51.380s<br>Duration: 0.640s",
          "<b></b><br>Layer: L10<br>Start: 51.380s<br>End: 52.020s<br>Duration: 0.640s",
          "<b></b><br>Layer: L10<br>Start: 52.020s<br>End: 62.950s<br>Duration: 10.930s",
          "<b></b><br>Layer: L10<br>Start: 62.950s<br>End: 64.240s<br>Duration: 1.290s",
          "<b></b><br>Layer: L10<br>Start: 64.240s<br>End: 64.900s<br>Duration: 0.660s",
          "<b></b><br>Layer: L10<br>Start: 64.900s<br>End: 82.260s<br>Duration: 17.360s",
          "<b></b><br>Layer: L10<br>Start: 82.260s<br>End: 90.600s<br>Duration: 8.340s",
          "<b></b><br>Layer: L10<br>Start: 90.600s<br>End: 91.250s<br>Duration: 0.650s",
          "<b></b><br>Layer: L10<br>Start: 91.250s<br>End: 91.880s<br>Duration: 0.630s",
          "<b></b><br>Layer: L10<br>Start: 91.880s<br>End: 92.500s<br>Duration: 0.620s",
          "<b></b><br>Layer: L10<br>Start: 92.500s<br>End: 104.140s<br>Duration: 11.640s",
          "<b></b><br>Layer: L10<br>Start: 104.140s<br>End: 104.770s<br>Duration: 0.630s",
          "<b></b><br>Layer: L10<br>Start: 104.770s<br>End: 112.480s<br>Duration: 7.710s",
          "<b></b><br>Layer: L10<br>Start: 112.480s<br>End: 113.100s<br>Duration: 0.620s",
          "<b></b><br>Layer: L10<br>Start: 113.100s<br>End: 126.020s<br>Duration: 12.920s",
          "<b></b><br>Layer: L10<br>Start: 126.020s<br>End: 134.480s<br>Duration: 8.460s",
          "<b></b><br>Layer: L10<br>Start: 134.480s<br>End: 135.140s<br>Duration: 0.660s",
          "<b></b><br>Layer: L10<br>Start: 135.140s<br>End: 135.780s<br>Duration: 0.640s",
          "<b></b><br>Layer: L10<br>Start: 135.780s<br>End: 139.600s<br>Duration: 3.820s",
          "<b></b><br>Layer: L10<br>Start: 139.600s<br>End: 144.070s<br>Duration: 4.470s",
          "<b></b><br>Layer: L10<br>Start: 144.070s<br>End: 145.360s<br>Duration: 1.290s",
          "<b></b><br>Layer: L10<br>Start: 145.360s<br>End: 151.710s<br>Duration: 6.350s",
          "<b></b><br>Layer: L10<br>Start: 151.710s<br>End: 152.360s<br>Duration: 0.650s",
          "<b></b><br>Layer: L10<br>Start: 152.360s<br>End: 152.970s<br>Duration: 0.610s",
          "<b></b><br>Layer: L10<br>Start: 152.970s<br>End: 153.600s<br>Duration: 0.630s",
          "<b></b><br>Layer: L10<br>Start: 153.600s<br>End: 154.840s<br>Duration: 1.240s",
          "<b></b><br>Layer: L10<br>Start: 154.840s<br>End: 165.670s<br>Duration: 10.830s",
          "<b></b><br>Layer: L10<br>Start: 165.670s<br>End: 166.310s<br>Duration: 0.640s",
          "<b></b><br>Layer: L10<br>Start: 166.310s<br>End: 166.960s<br>Duration: 0.650s",
          "<b></b><br>Layer: L10<br>Start: 166.960s<br>End: 177.830s<br>Duration: 10.870s",
          "<b></b><br>Layer: L10<br>Start: 177.830s<br>End: 178.470s<br>Duration: 0.640s",
          "<b></b><br>Layer: L10<br>Start: 178.470s<br>End: 179.120s<br>Duration: 0.650s",
          "<b></b><br>Layer: L10<br>Start: 179.120s<br>End: 191.310s<br>Duration: 12.190s",
          "<b></b><br>Layer: L10<br>Start: 191.310s<br>End: 191.950s<br>Duration: 0.640s",
          "<b></b><br>Layer: L10<br>Start: 191.950s<br>End: 222.045s<br>Duration: 30.095s"
         ],
         "hovertemplate": "%{customdata}<extra></extra>",
         "insidetextanchor": "middle",
         "marker": {
          "color": "#1F77B4",
          "line": {
           "color": "white",
           "width": 0.5
          },
          "pattern": {
           "fgcolor": "white",
           "fgopacity": 0.5,
           "shape": "",
           "solidity": 0.25
          }
         },
         "name": "",
         "orientation": "h",
         "showlegend": true,
         "text": [
          "",
          "",
          "",
          "",
          "",
          "",
          "",
          "",
          "",
          "",
          "",
          "",
          "",
          "",
          "",
          "",
          "",
          "",
          "",
          "",
          "",
          "",
          "",
          "",
          "",
          "",
          "",
          "",
          "",
          "",
          "",
          "",
          "",
          "",
          "",
          "",
          "",
          "",
          "",
          "",
          "",
          "",
          "",
          "",
          "",
          "",
          "",
          "",
          "",
          "",
          "",
          "",
          "",
          "",
          "",
          "",
          "",
          "",
          "",
          "",
          "",
          "",
          "",
          "",
          "",
          "",
          "",
          "",
          "",
          "",
          "",
          "",
          "",
          "",
          "",
          "",
          "",
          "",
          "",
          "",
          "",
          "",
          "",
          "",
          "",
          "",
          "",
          "",
          "",
          "",
          "",
          "",
          "",
          "",
          "",
          "",
          "",
          "",
          "",
          "",
          "",
          "",
          "",
          "",
          "",
          "",
          "",
          "",
          "",
          "",
          "",
          "",
          "",
          "",
          "",
          "",
          "",
          "",
          "",
          "",
          "",
          "",
          "",
          "",
          "",
          "",
          "",
          "",
          "",
          "",
          "",
          "",
          "",
          "",
          "",
          "",
          "",
          "",
          "",
          "",
          "",
          "",
          "",
          "",
          "",
          "",
          "",
          "",
          "",
          "",
          "",
          "",
          "",
          "",
          "",
          "",
          "",
          "",
          "",
          "",
          "",
          "",
          "",
          "",
          "",
          "",
          "",
          "",
          "",
          "",
          "",
          "",
          "",
          "",
          "",
          "",
          "",
          "",
          "",
          "",
          "",
          "",
          "",
          "",
          "",
          "",
          "",
          "",
          "",
          "",
          "",
          "",
          "",
          "",
          "",
          "",
          "",
          "",
          "",
          "",
          "",
          "",
          "",
          "",
          "",
          "",
          "",
          "",
          "",
          "",
          "",
          "",
          "",
          "",
          "",
          "",
          "",
          "",
          "",
          "",
          "",
          "",
          "",
          "",
          "",
          "",
          "",
          "",
          "",
          "",
          "",
          "",
          "",
          "",
          "",
          "",
          "",
          "",
          "",
          "",
          "",
          "",
          "",
          "",
          "",
          "",
          "",
          "",
          "",
          "",
          "",
          "",
          "",
          "",
          "",
          "",
          "",
          "",
          "",
          "",
          "",
          "",
          "",
          "",
          "",
          "",
          "",
          "",
          "",
          "",
          "",
          "",
          "",
          "",
          "",
          "",
          "",
          "",
          "",
          "",
          "",
          "",
          "",
          "",
          "",
          ""
         ],
         "textposition": "inside",
         "type": "bar",
         "width": 1,
         "x": [
          10.43,
          11.5,
          29.450000000000003,
          11.57,
          28.929999999999993,
          12.260000000000005,
          48.83,
          13.340000000000003,
          12.159999999999997,
          12.840000000000003,
          30.73481000000001,
          10.43,
          11.5,
          29.450000000000003,
          0.6400000000000006,
          10.93,
          28.929999999999993,
          0.6200000000000045,
          11.64,
          48.83,
          0.6299999999999955,
          12.069999999999993,
          0.6400000000000148,
          12.159999999999997,
          0.6500000000000057,
          12.189999999999998,
          30.73481000000001,
          9.16,
          1.2699999999999996,
          11.5,
          0.629999999999999,
          28.820000000000004,
          0.6400000000000006,
          10.93,
          1.289999999999992,
          27.64,
          0.6200000000000045,
          11.64,
          0.6299999999999955,
          47.59000000000002,
          0.6099999999999852,
          0.6299999999999955,
          12.069999999999993,
          0.6400000000000148,
          0.6500000000000057,
          11.509999999999991,
          0.6500000000000057,
          12.189999999999998,
          0.6399999999999864,
          30.094810000000024,
          9.16,
          1.2699999999999996,
          11.5,
          0.629999999999999,
          28.820000000000004,
          0.6400000000000006,
          10.93,
          1.289999999999992,
          27.64,
          0.6200000000000045,
          11.64,
          0.6299999999999955,
          29.709999999999994,
          17.880000000000024,
          0.6099999999999852,
          0.6299999999999955,
          12.069999999999993,
          0.6400000000000148,
          0.6500000000000057,
          11.509999999999991,
          0.6500000000000057,
          12.189999999999998,
          0.6399999999999864,
          30.094810000000024,
          9.16,
          1.2699999999999996,
          11.5,
          0.629999999999999,
          28.820000000000004,
          0.6400000000000006,
          10.93,
          1.289999999999992,
          27.64,
          0.6200000000000045,
          11.64,
          0.6299999999999955,
          29.709999999999994,
          5.1200000000000045,
          12.76000000000002,
          0.6099999999999852,
          0.6299999999999955,
          12.069999999999993,
          0.6400000000000148,
          0.6500000000000057,
          11.509999999999991,
          0.6500000000000057,
          12.189999999999998,
          0.6399999999999864,
          30.094810000000024,
          8.54,
          0.620000000000001,
          1.2699999999999996,
          11.5,
          0.629999999999999,
          0.6500000000000021,
          27.53,
          0.6400000000000006,
          0.6400000000000006,
          10.93,
          1.289999999999992,
          0.6600000000000108,
          26.349999999999994,
          0.6299999999999955,
          0.6200000000000045,
          11.64,
          0.6299999999999955,
          29.709999999999994,
          5.1200000000000045,
          12.110000000000014,
          0.6500000000000057,
          0.6099999999999852,
          0.6299999999999955,
          12.069999999999993,
          0.6400000000000148,
          0.6500000000000057,
          10.870000000000005,
          0.6399999999999864,
          0.6500000000000057,
          12.189999999999998,
          0.6399999999999864,
          30.094810000000024,
          8.54,
          0.620000000000001,
          1.2699999999999996,
          11.5,
          0.629999999999999,
          0.6500000000000021,
          27.53,
          0.6400000000000006,
          0.6400000000000006,
          10.93,
          1.289999999999992,
          0.6600000000000108,
          26.349999999999994,
          0.6299999999999955,
          0.6200000000000045,
          11.64,
          0.6299999999999955,
          29.709999999999994,
          5.1200000000000045,
          12.110000000000014,
          0.6500000000000057,
          0.6099999999999852,
          0.6299999999999955,
          1.240000000000009,
          10.829999999999984,
          0.6400000000000148,
          0.6500000000000057,
          10.870000000000005,
          0.6399999999999864,
          0.6500000000000057,
          12.189999999999998,
          0.6399999999999864,
          30.094810000000024,
          8.54,
          0.620000000000001,
          1.2699999999999996,
          11.5,
          0.629999999999999,
          0.6500000000000021,
          27.53,
          0.6400000000000006,
          0.6400000000000006,
          10.93,
          1.289999999999992,
          0.6600000000000108,
          17.36,
          8.33999999999999,
          0.6500000000000057,
          0.6299999999999955,
          0.6200000000000045,
          11.64,
          0.6299999999999955,
          29.709999999999994,
          1.3000000000000114,
          3.819999999999993,
          4.469999999999999,
          7.640000000000015,
          0.6500000000000057,
          0.6099999999999852,
          0.6299999999999955,
          1.240000000000009,
          10.829999999999984,
          0.6400000000000148,
          0.6500000000000057,
          10.870000000000005,
          0.6399999999999864,
          0.6500000000000057,
          12.189999999999998,
          0.6399999999999864,
          30.094810000000024,
          8.54,
          0.620000000000001,
          1.2699999999999996,
          11.5,
          0.629999999999999,
          0.6500000000000021,
          26.9,
          0.6300000000000026,
          0.6400000000000006,
          0.6400000000000006,
          10.93,
          1.289999999999992,
          0.6600000000000108,
          17.36,
          8.33999999999999,
          0.6500000000000057,
          0.6299999999999955,
          0.6200000000000045,
          11.64,
          0.6299999999999955,
          8.329999999999998,
          12.920000000000002,
          8.459999999999994,
          0.6599999999999966,
          0.6400000000000148,
          3.819999999999993,
          4.469999999999999,
          1.2900000000000205,
          6.349999999999994,
          0.6500000000000057,
          0.6099999999999852,
          0.6299999999999955,
          1.240000000000009,
          10.829999999999984,
          0.6400000000000148,
          0.6500000000000057,
          10.870000000000005,
          0.6399999999999864,
          0.6500000000000057,
          12.189999999999998,
          0.6399999999999864,
          30.094810000000024,
          8.54,
          0.620000000000001,
          1.2699999999999996,
          11.5,
          0.629999999999999,
          0.6500000000000021,
          26.9,
          0.6300000000000026,
          0.6400000000000006,
          0.6400000000000006,
          10.93,
          1.289999999999992,
          0.6600000000000108,
          17.36,
          8.33999999999999,
          0.6500000000000057,
          0.6299999999999955,
          0.6200000000000045,
          11.64,
          0.6299999999999955,
          7.710000000000008,
          0.6199999999999903,
          12.920000000000002,
          8.459999999999994,
          0.6599999999999966,
          0.6400000000000148,
          3.819999999999993,
          4.469999999999999,
          1.2900000000000205,
          6.349999999999994,
          0.6500000000000057,
          0.6099999999999852,
          0.6299999999999955,
          1.240000000000009,
          10.829999999999984,
          0.6400000000000148,
          0.6500000000000057,
          10.870000000000005,
          0.6399999999999864,
          0.6500000000000057,
          12.189999999999998,
          0.6399999999999864,
          30.094810000000024
         ],
         "xaxis": "x4",
         "y": [
          "L01",
          "L01",
          "L01",
          "L01",
          "L01",
          "L01",
          "L01",
          "L01",
          "L01",
          "L01",
          "L01",
          "L02",
          "L02",
          "L02",
          "L02",
          "L02",
          "L02",
          "L02",
          "L02",
          "L02",
          "L02",
          "L02",
          "L02",
          "L02",
          "L02",
          "L02",
          "L02",
          "L03",
          "L03",
          "L03",
          "L03",
          "L03",
          "L03",
          "L03",
          "L03",
          "L03",
          "L03",
          "L03",
          "L03",
          "L03",
          "L03",
          "L03",
          "L03",
          "L03",
          "L03",
          "L03",
          "L03",
          "L03",
          "L03",
          "L03",
          "L04",
          "L04",
          "L04",
          "L04",
          "L04",
          "L04",
          "L04",
          "L04",
          "L04",
          "L04",
          "L04",
          "L04",
          "L04",
          "L04",
          "L04",
          "L04",
          "L04",
          "L04",
          "L04",
          "L04",
          "L04",
          "L04",
          "L04",
          "L04",
          "L05",
          "L05",
          "L05",
          "L05",
          "L05",
          "L05",
          "L05",
          "L05",
          "L05",
          "L05",
          "L05",
          "L05",
          "L05",
          "L05",
          "L05",
          "L05",
          "L05",
          "L05",
          "L05",
          "L05",
          "L05",
          "L05",
          "L05",
          "L05",
          "L05",
          "L06",
          "L06",
          "L06",
          "L06",
          "L06",
          "L06",
          "L06",
          "L06",
          "L06",
          "L06",
          "L06",
          "L06",
          "L06",
          "L06",
          "L06",
          "L06",
          "L06",
          "L06",
          "L06",
          "L06",
          "L06",
          "L06",
          "L06",
          "L06",
          "L06",
          "L06",
          "L06",
          "L06",
          "L06",
          "L06",
          "L06",
          "L06",
          "L07",
          "L07",
          "L07",
          "L07",
          "L07",
          "L07",
          "L07",
          "L07",
          "L07",
          "L07",
          "L07",
          "L07",
          "L07",
          "L07",
          "L07",
          "L07",
          "L07",
          "L07",
          "L07",
          "L07",
          "L07",
          "L07",
          "L07",
          "L07",
          "L07",
          "L07",
          "L07",
          "L07",
          "L07",
          "L07",
          "L07",
          "L07",
          "L07",
          "L08",
          "L08",
          "L08",
          "L08",
          "L08",
          "L08",
          "L08",
          "L08",
          "L08",
          "L08",
          "L08",
          "L08",
          "L08",
          "L08",
          "L08",
          "L08",
          "L08",
          "L08",
          "L08",
          "L08",
          "L08",
          "L08",
          "L08",
          "L08",
          "L08",
          "L08",
          "L08",
          "L08",
          "L08",
          "L08",
          "L08",
          "L08",
          "L08",
          "L08",
          "L08",
          "L08",
          "L08",
          "L09",
          "L09",
          "L09",
          "L09",
          "L09",
          "L09",
          "L09",
          "L09",
          "L09",
          "L09",
          "L09",
          "L09",
          "L09",
          "L09",
          "L09",
          "L09",
          "L09",
          "L09",
          "L09",
          "L09",
          "L09",
          "L09",
          "L09",
          "L09",
          "L09",
          "L09",
          "L09",
          "L09",
          "L09",
          "L09",
          "L09",
          "L09",
          "L09",
          "L09",
          "L09",
          "L09",
          "L09",
          "L09",
          "L09",
          "L09",
          "L09",
          "L09",
          "L10",
          "L10",
          "L10",
          "L10",
          "L10",
          "L10",
          "L10",
          "L10",
          "L10",
          "L10",
          "L10",
          "L10",
          "L10",
          "L10",
          "L10",
          "L10",
          "L10",
          "L10",
          "L10",
          "L10",
          "L10",
          "L10",
          "L10",
          "L10",
          "L10",
          "L10",
          "L10",
          "L10",
          "L10",
          "L10",
          "L10",
          "L10",
          "L10",
          "L10",
          "L10",
          "L10",
          "L10",
          "L10",
          "L10",
          "L10",
          "L10",
          "L10",
          "L10"
         ],
         "yaxis": "y4"
        }
       ],
       "layout": {
        "annotations": [
         {
          "font": {
           "size": 16
          },
          "showarrow": false,
          "text": "Reference",
          "x": 0.5,
          "xanchor": "center",
          "xref": "paper",
          "y": 1,
          "yanchor": "bottom",
          "yref": "paper"
         },
         {
          "font": {
           "size": 16
          },
          "showarrow": false,
          "text": "Estimated Raw",
          "x": 0.5,
          "xanchor": "center",
          "xref": "paper",
          "y": 0.85,
          "yanchor": "bottom",
          "yref": "paper"
         },
         {
          "font": {
           "size": 16
          },
          "showarrow": false,
          "text": "Count",
          "x": 0.5,
          "xanchor": "center",
          "xref": "paper",
          "y": 0.48,
          "yanchor": "bottom",
          "yref": "paper"
         },
         {
          "font": {
           "size": 16
          },
          "showarrow": false,
          "text": "Depth",
          "x": 0.5,
          "xanchor": "center",
          "xref": "paper",
          "y": 0.22,
          "yanchor": "bottom",
          "yref": "paper"
         }
        ],
        "barmode": "overlay",
        "height": 1000,
        "legend": {
         "visible": false
        },
        "template": {
         "data": {
          "bar": [
           {
            "error_x": {
             "color": "#2a3f5f"
            },
            "error_y": {
             "color": "#2a3f5f"
            },
            "marker": {
             "line": {
              "color": "#E5ECF6",
              "width": 0.5
             },
             "pattern": {
              "fillmode": "overlay",
              "size": 10,
              "solidity": 0.2
             }
            },
            "type": "bar"
           }
          ],
          "barpolar": [
           {
            "marker": {
             "line": {
              "color": "#E5ECF6",
              "width": 0.5
             },
             "pattern": {
              "fillmode": "overlay",
              "size": 10,
              "solidity": 0.2
             }
            },
            "type": "barpolar"
           }
          ],
          "carpet": [
           {
            "aaxis": {
             "endlinecolor": "#2a3f5f",
             "gridcolor": "white",
             "linecolor": "white",
             "minorgridcolor": "white",
             "startlinecolor": "#2a3f5f"
            },
            "baxis": {
             "endlinecolor": "#2a3f5f",
             "gridcolor": "white",
             "linecolor": "white",
             "minorgridcolor": "white",
             "startlinecolor": "#2a3f5f"
            },
            "type": "carpet"
           }
          ],
          "choropleth": [
           {
            "colorbar": {
             "outlinewidth": 0,
             "ticks": ""
            },
            "type": "choropleth"
           }
          ],
          "contour": [
           {
            "colorbar": {
             "outlinewidth": 0,
             "ticks": ""
            },
            "colorscale": [
             [
              0,
              "#0d0887"
             ],
             [
              0.1111111111111111,
              "#46039f"
             ],
             [
              0.2222222222222222,
              "#7201a8"
             ],
             [
              0.3333333333333333,
              "#9c179e"
             ],
             [
              0.4444444444444444,
              "#bd3786"
             ],
             [
              0.5555555555555556,
              "#d8576b"
             ],
             [
              0.6666666666666666,
              "#ed7953"
             ],
             [
              0.7777777777777778,
              "#fb9f3a"
             ],
             [
              0.8888888888888888,
              "#fdca26"
             ],
             [
              1,
              "#f0f921"
             ]
            ],
            "type": "contour"
           }
          ],
          "contourcarpet": [
           {
            "colorbar": {
             "outlinewidth": 0,
             "ticks": ""
            },
            "type": "contourcarpet"
           }
          ],
          "heatmap": [
           {
            "colorbar": {
             "outlinewidth": 0,
             "ticks": ""
            },
            "colorscale": [
             [
              0,
              "#0d0887"
             ],
             [
              0.1111111111111111,
              "#46039f"
             ],
             [
              0.2222222222222222,
              "#7201a8"
             ],
             [
              0.3333333333333333,
              "#9c179e"
             ],
             [
              0.4444444444444444,
              "#bd3786"
             ],
             [
              0.5555555555555556,
              "#d8576b"
             ],
             [
              0.6666666666666666,
              "#ed7953"
             ],
             [
              0.7777777777777778,
              "#fb9f3a"
             ],
             [
              0.8888888888888888,
              "#fdca26"
             ],
             [
              1,
              "#f0f921"
             ]
            ],
            "type": "heatmap"
           }
          ],
          "histogram": [
           {
            "marker": {
             "pattern": {
              "fillmode": "overlay",
              "size": 10,
              "solidity": 0.2
             }
            },
            "type": "histogram"
           }
          ],
          "histogram2d": [
           {
            "colorbar": {
             "outlinewidth": 0,
             "ticks": ""
            },
            "colorscale": [
             [
              0,
              "#0d0887"
             ],
             [
              0.1111111111111111,
              "#46039f"
             ],
             [
              0.2222222222222222,
              "#7201a8"
             ],
             [
              0.3333333333333333,
              "#9c179e"
             ],
             [
              0.4444444444444444,
              "#bd3786"
             ],
             [
              0.5555555555555556,
              "#d8576b"
             ],
             [
              0.6666666666666666,
              "#ed7953"
             ],
             [
              0.7777777777777778,
              "#fb9f3a"
             ],
             [
              0.8888888888888888,
              "#fdca26"
             ],
             [
              1,
              "#f0f921"
             ]
            ],
            "type": "histogram2d"
           }
          ],
          "histogram2dcontour": [
           {
            "colorbar": {
             "outlinewidth": 0,
             "ticks": ""
            },
            "colorscale": [
             [
              0,
              "#0d0887"
             ],
             [
              0.1111111111111111,
              "#46039f"
             ],
             [
              0.2222222222222222,
              "#7201a8"
             ],
             [
              0.3333333333333333,
              "#9c179e"
             ],
             [
              0.4444444444444444,
              "#bd3786"
             ],
             [
              0.5555555555555556,
              "#d8576b"
             ],
             [
              0.6666666666666666,
              "#ed7953"
             ],
             [
              0.7777777777777778,
              "#fb9f3a"
             ],
             [
              0.8888888888888888,
              "#fdca26"
             ],
             [
              1,
              "#f0f921"
             ]
            ],
            "type": "histogram2dcontour"
           }
          ],
          "mesh3d": [
           {
            "colorbar": {
             "outlinewidth": 0,
             "ticks": ""
            },
            "type": "mesh3d"
           }
          ],
          "parcoords": [
           {
            "line": {
             "colorbar": {
              "outlinewidth": 0,
              "ticks": ""
             }
            },
            "type": "parcoords"
           }
          ],
          "pie": [
           {
            "automargin": true,
            "type": "pie"
           }
          ],
          "scatter": [
           {
            "fillpattern": {
             "fillmode": "overlay",
             "size": 10,
             "solidity": 0.2
            },
            "type": "scatter"
           }
          ],
          "scatter3d": [
           {
            "line": {
             "colorbar": {
              "outlinewidth": 0,
              "ticks": ""
             }
            },
            "marker": {
             "colorbar": {
              "outlinewidth": 0,
              "ticks": ""
             }
            },
            "type": "scatter3d"
           }
          ],
          "scattercarpet": [
           {
            "marker": {
             "colorbar": {
              "outlinewidth": 0,
              "ticks": ""
             }
            },
            "type": "scattercarpet"
           }
          ],
          "scattergeo": [
           {
            "marker": {
             "colorbar": {
              "outlinewidth": 0,
              "ticks": ""
             }
            },
            "type": "scattergeo"
           }
          ],
          "scattergl": [
           {
            "marker": {
             "colorbar": {
              "outlinewidth": 0,
              "ticks": ""
             }
            },
            "type": "scattergl"
           }
          ],
          "scattermap": [
           {
            "marker": {
             "colorbar": {
              "outlinewidth": 0,
              "ticks": ""
             }
            },
            "type": "scattermap"
           }
          ],
          "scattermapbox": [
           {
            "marker": {
             "colorbar": {
              "outlinewidth": 0,
              "ticks": ""
             }
            },
            "type": "scattermapbox"
           }
          ],
          "scatterpolar": [
           {
            "marker": {
             "colorbar": {
              "outlinewidth": 0,
              "ticks": ""
             }
            },
            "type": "scatterpolar"
           }
          ],
          "scatterpolargl": [
           {
            "marker": {
             "colorbar": {
              "outlinewidth": 0,
              "ticks": ""
             }
            },
            "type": "scatterpolargl"
           }
          ],
          "scatterternary": [
           {
            "marker": {
             "colorbar": {
              "outlinewidth": 0,
              "ticks": ""
             }
            },
            "type": "scatterternary"
           }
          ],
          "surface": [
           {
            "colorbar": {
             "outlinewidth": 0,
             "ticks": ""
            },
            "colorscale": [
             [
              0,
              "#0d0887"
             ],
             [
              0.1111111111111111,
              "#46039f"
             ],
             [
              0.2222222222222222,
              "#7201a8"
             ],
             [
              0.3333333333333333,
              "#9c179e"
             ],
             [
              0.4444444444444444,
              "#bd3786"
             ],
             [
              0.5555555555555556,
              "#d8576b"
             ],
             [
              0.6666666666666666,
              "#ed7953"
             ],
             [
              0.7777777777777778,
              "#fb9f3a"
             ],
             [
              0.8888888888888888,
              "#fdca26"
             ],
             [
              1,
              "#f0f921"
             ]
            ],
            "type": "surface"
           }
          ],
          "table": [
           {
            "cells": {
             "fill": {
              "color": "#EBF0F8"
             },
             "line": {
              "color": "white"
             }
            },
            "header": {
             "fill": {
              "color": "#C8D4E3"
             },
             "line": {
              "color": "white"
             }
            },
            "type": "table"
           }
          ]
         },
         "layout": {
          "annotationdefaults": {
           "arrowcolor": "#2a3f5f",
           "arrowhead": 0,
           "arrowwidth": 1
          },
          "autotypenumbers": "strict",
          "coloraxis": {
           "colorbar": {
            "outlinewidth": 0,
            "ticks": ""
           }
          },
          "colorscale": {
           "diverging": [
            [
             0,
             "#8e0152"
            ],
            [
             0.1,
             "#c51b7d"
            ],
            [
             0.2,
             "#de77ae"
            ],
            [
             0.3,
             "#f1b6da"
            ],
            [
             0.4,
             "#fde0ef"
            ],
            [
             0.5,
             "#f7f7f7"
            ],
            [
             0.6,
             "#e6f5d0"
            ],
            [
             0.7,
             "#b8e186"
            ],
            [
             0.8,
             "#7fbc41"
            ],
            [
             0.9,
             "#4d9221"
            ],
            [
             1,
             "#276419"
            ]
           ],
           "sequential": [
            [
             0,
             "#0d0887"
            ],
            [
             0.1111111111111111,
             "#46039f"
            ],
            [
             0.2222222222222222,
             "#7201a8"
            ],
            [
             0.3333333333333333,
             "#9c179e"
            ],
            [
             0.4444444444444444,
             "#bd3786"
            ],
            [
             0.5555555555555556,
             "#d8576b"
            ],
            [
             0.6666666666666666,
             "#ed7953"
            ],
            [
             0.7777777777777778,
             "#fb9f3a"
            ],
            [
             0.8888888888888888,
             "#fdca26"
            ],
            [
             1,
             "#f0f921"
            ]
           ],
           "sequentialminus": [
            [
             0,
             "#0d0887"
            ],
            [
             0.1111111111111111,
             "#46039f"
            ],
            [
             0.2222222222222222,
             "#7201a8"
            ],
            [
             0.3333333333333333,
             "#9c179e"
            ],
            [
             0.4444444444444444,
             "#bd3786"
            ],
            [
             0.5555555555555556,
             "#d8576b"
            ],
            [
             0.6666666666666666,
             "#ed7953"
            ],
            [
             0.7777777777777778,
             "#fb9f3a"
            ],
            [
             0.8888888888888888,
             "#fdca26"
            ],
            [
             1,
             "#f0f921"
            ]
           ]
          },
          "colorway": [
           "#636efa",
           "#EF553B",
           "#00cc96",
           "#ab63fa",
           "#FFA15A",
           "#19d3f3",
           "#FF6692",
           "#B6E880",
           "#FF97FF",
           "#FECB52"
          ],
          "font": {
           "color": "#2a3f5f"
          },
          "geo": {
           "bgcolor": "white",
           "lakecolor": "white",
           "landcolor": "#E5ECF6",
           "showlakes": true,
           "showland": true,
           "subunitcolor": "white"
          },
          "hoverlabel": {
           "align": "left"
          },
          "hovermode": "closest",
          "mapbox": {
           "style": "light"
          },
          "paper_bgcolor": "white",
          "plot_bgcolor": "#E5ECF6",
          "polar": {
           "angularaxis": {
            "gridcolor": "white",
            "linecolor": "white",
            "ticks": ""
           },
           "bgcolor": "#E5ECF6",
           "radialaxis": {
            "gridcolor": "white",
            "linecolor": "white",
            "ticks": ""
           }
          },
          "scene": {
           "xaxis": {
            "backgroundcolor": "#E5ECF6",
            "gridcolor": "white",
            "gridwidth": 2,
            "linecolor": "white",
            "showbackground": true,
            "ticks": "",
            "zerolinecolor": "white"
           },
           "yaxis": {
            "backgroundcolor": "#E5ECF6",
            "gridcolor": "white",
            "gridwidth": 2,
            "linecolor": "white",
            "showbackground": true,
            "ticks": "",
            "zerolinecolor": "white"
           },
           "zaxis": {
            "backgroundcolor": "#E5ECF6",
            "gridcolor": "white",
            "gridwidth": 2,
            "linecolor": "white",
            "showbackground": true,
            "ticks": "",
            "zerolinecolor": "white"
           }
          },
          "shapedefaults": {
           "line": {
            "color": "#2a3f5f"
           }
          },
          "ternary": {
           "aaxis": {
            "gridcolor": "white",
            "linecolor": "white",
            "ticks": ""
           },
           "baxis": {
            "gridcolor": "white",
            "linecolor": "white",
            "ticks": ""
           },
           "bgcolor": "#E5ECF6",
           "caxis": {
            "gridcolor": "white",
            "linecolor": "white",
            "ticks": ""
           }
          },
          "title": {
           "x": 0.05
          },
          "xaxis": {
           "automargin": true,
           "gridcolor": "white",
           "linecolor": "white",
           "ticks": "",
           "title": {
            "standoff": 15
           },
           "zerolinecolor": "white",
           "zerolinewidth": 2
          },
          "yaxis": {
           "automargin": true,
           "gridcolor": "white",
           "linecolor": "white",
           "ticks": "",
           "title": {
            "standoff": 15
           },
           "zerolinecolor": "white",
           "zerolinewidth": 2
          }
         }
        },
        "width": 800,
        "xaxis": {
         "anchor": "y",
         "autorangeoptions": {
          "maxallowed": 222.06111,
          "minallowed": 0
         },
         "domain": [
          0,
          1
         ],
         "matches": "x4",
         "showticklabels": false
        },
        "xaxis2": {
         "anchor": "y2",
         "autorangeoptions": {
          "maxallowed": 222.06111,
          "minallowed": 0
         },
         "domain": [
          0,
          1
         ],
         "matches": "x4",
         "showticklabels": false
        },
        "xaxis3": {
         "anchor": "y3",
         "autorangeoptions": {
          "maxallowed": 222.06111,
          "minallowed": 0
         },
         "domain": [
          0,
          1
         ],
         "matches": "x4",
         "showticklabels": false
        },
        "xaxis4": {
         "anchor": "y4",
         "autorangeoptions": {
          "maxallowed": 222.06111,
          "minallowed": 0
         },
         "domain": [
          0,
          1
         ]
        },
        "yaxis": {
         "anchor": "x",
         "domain": [
          0.89,
          1
         ]
        },
        "yaxis2": {
         "anchor": "x2",
         "domain": [
          0.52,
          0.85
         ]
        },
        "yaxis3": {
         "anchor": "x3",
         "domain": [
          0.26,
          0.48
         ]
        },
        "yaxis4": {
         "anchor": "x4",
         "domain": [
          0,
          0.22
         ]
        }
       }
      }
     },
     "metadata": {},
     "output_type": "display_data"
    }
   ],
   "source": [
    "from plotly.subplots import make_subplots\n",
    "\n",
    "fig = make_subplots(\n",
    "    rows=4, cols=1, shared_xaxes=True, vertical_spacing=0.04,\n",
    "    subplot_titles=[\"Reference\", \"Estimated Raw\", \"Count\", \"Depth\"],\n",
    "    row_heights=[0.1, 0.3, 0.2, 0.2],\n",
    ")\n",
    "[fig.add_trace(labeld_timespans, row=1, col=1) for labeld_timespans in ref.plot().data]\n",
    "[fig.add_trace(labeld_timespans, row=2, col=1) for labeld_timespans in aligned_est.plot().data]\n",
    "[fig.add_trace(labeld_timespans, row=3, col=1) for labeld_timespans in mono_est_count.plot().data]\n",
    "[fig.add_trace(labeld_timespans, row=4, col=1) for labeld_timespans in mono_est_depth.plot().data]\n",
    "fig.update_layout(barmode=\"overlay\", legend_visible=False, height=1000, width=800)\n",
    "fig.update_xaxes(autorangeoptions=dict(minallowed=ref.start.time, maxallowed=ref.end.time))\n",
    "fig.show()"
   ]
  },
  {
   "cell_type": "code",
   "execution_count": 30,
   "metadata": {},
   "outputs": [
    {
     "data": {
      "application/vnd.plotly.v1+json": {
       "config": {
        "plotlyServerURL": "https://plot.ly"
       },
       "data": [
        {
         "base": [
          0,
          10.43,
          21.93,
          51.38,
          62.95,
          91.88,
          104.14,
          152.97,
          166.31,
          178.47,
          191.31,
          0,
          10.43,
          21.93,
          51.38,
          52.02,
          62.95,
          91.88,
          92.5,
          104.14,
          152.97,
          153.6,
          165.67,
          166.31,
          178.47,
          179.12,
          191.31,
          0,
          9.16,
          10.43,
          21.93,
          22.56,
          51.38,
          52.02,
          62.95,
          64.24,
          91.88,
          92.5,
          104.14,
          104.77,
          152.36,
          152.97,
          153.6,
          165.67,
          166.31,
          166.96,
          178.47,
          179.12,
          191.31,
          191.95,
          0,
          9.16,
          10.43,
          21.93,
          22.56,
          51.38,
          52.02,
          62.95,
          64.24,
          91.88,
          92.5,
          104.14,
          104.77,
          134.48,
          152.36,
          152.97,
          153.6,
          165.67,
          166.31,
          166.96,
          178.47,
          179.12,
          191.31,
          191.95,
          0,
          9.16,
          10.43,
          21.93,
          22.56,
          51.38,
          52.02,
          62.95,
          64.24,
          91.88,
          92.5,
          104.14,
          104.77,
          134.48,
          139.6,
          152.36,
          152.97,
          153.6,
          165.67,
          166.31,
          166.96,
          178.47,
          179.12,
          191.31,
          191.95,
          0,
          8.54,
          9.16,
          10.43,
          21.93,
          22.56,
          23.21,
          50.74,
          51.38,
          52.02,
          62.95,
          64.24,
          64.9,
          91.25,
          91.88,
          92.5,
          104.14,
          104.77,
          134.48,
          139.6,
          151.71,
          152.36,
          152.97,
          153.6,
          165.67,
          166.31,
          166.96,
          177.83,
          178.47,
          179.12,
          191.31,
          191.95,
          0,
          8.54,
          9.16,
          10.43,
          21.93,
          22.56,
          23.21,
          50.74,
          51.38,
          52.02,
          62.95,
          64.24,
          64.9,
          91.25,
          91.88,
          92.5,
          104.14,
          104.77,
          134.48,
          139.6,
          151.71,
          152.36,
          152.97,
          153.6,
          154.84,
          165.67,
          166.31,
          166.96,
          177.83,
          178.47,
          179.12,
          191.31,
          191.95,
          0,
          8.54,
          9.16,
          10.43,
          21.93,
          22.56,
          23.21,
          50.74,
          51.38,
          52.02,
          62.95,
          64.24,
          64.9,
          82.26,
          90.6,
          91.25,
          91.88,
          92.5,
          104.14,
          104.77,
          134.48,
          135.78,
          139.6,
          144.07,
          151.71,
          152.36,
          152.97,
          153.6,
          154.84,
          165.67,
          166.31,
          166.96,
          177.83,
          178.47,
          179.12,
          191.31,
          191.95,
          0,
          8.54,
          9.16,
          10.43,
          21.93,
          22.56,
          23.21,
          50.11,
          50.74,
          51.38,
          52.02,
          62.95,
          64.24,
          64.9,
          82.26,
          90.6,
          91.25,
          91.88,
          92.5,
          104.14,
          104.77,
          113.1,
          126.02,
          134.48,
          135.14,
          135.78,
          139.6,
          144.07,
          145.36,
          151.71,
          152.36,
          152.97,
          153.6,
          154.84,
          165.67,
          166.31,
          166.96,
          177.83,
          178.47,
          179.12,
          191.31,
          191.95,
          0,
          8.54,
          9.16,
          10.43,
          21.93,
          22.56,
          23.21,
          50.11,
          50.74,
          51.38,
          52.02,
          62.95,
          64.24,
          64.9,
          82.26,
          90.6,
          91.25,
          91.88,
          92.5,
          104.14,
          104.77,
          112.48,
          113.1,
          126.02,
          134.48,
          135.14,
          135.78,
          139.6,
          144.07,
          145.36,
          151.71,
          152.36,
          152.97,
          153.6,
          154.84,
          165.67,
          166.31,
          166.96,
          177.83,
          178.47,
          179.12,
          191.31,
          191.95
         ],
         "customdata": [
          "<b></b><br>Layer: L01<br>Start: 0.000s<br>End: 10.430s<br>Duration: 10.430s",
          "<b></b><br>Layer: L01<br>Start: 10.430s<br>End: 21.930s<br>Duration: 11.500s",
          "<b></b><br>Layer: L01<br>Start: 21.930s<br>End: 51.380s<br>Duration: 29.450s",
          "<b></b><br>Layer: L01<br>Start: 51.380s<br>End: 62.950s<br>Duration: 11.570s",
          "<b></b><br>Layer: L01<br>Start: 62.950s<br>End: 91.880s<br>Duration: 28.930s",
          "<b></b><br>Layer: L01<br>Start: 91.880s<br>End: 104.140s<br>Duration: 12.260s",
          "<b></b><br>Layer: L01<br>Start: 104.140s<br>End: 152.970s<br>Duration: 48.830s",
          "<b></b><br>Layer: L01<br>Start: 152.970s<br>End: 166.310s<br>Duration: 13.340s",
          "<b></b><br>Layer: L01<br>Start: 166.310s<br>End: 178.470s<br>Duration: 12.160s",
          "<b></b><br>Layer: L01<br>Start: 178.470s<br>End: 191.310s<br>Duration: 12.840s",
          "<b></b><br>Layer: L01<br>Start: 191.310s<br>End: 222.045s<br>Duration: 30.735s",
          "<b></b><br>Layer: L02<br>Start: 0.000s<br>End: 10.430s<br>Duration: 10.430s",
          "<b></b><br>Layer: L02<br>Start: 10.430s<br>End: 21.930s<br>Duration: 11.500s",
          "<b></b><br>Layer: L02<br>Start: 21.930s<br>End: 51.380s<br>Duration: 29.450s",
          "<b></b><br>Layer: L02<br>Start: 51.380s<br>End: 52.020s<br>Duration: 0.640s",
          "<b></b><br>Layer: L02<br>Start: 52.020s<br>End: 62.950s<br>Duration: 10.930s",
          "<b></b><br>Layer: L02<br>Start: 62.950s<br>End: 91.880s<br>Duration: 28.930s",
          "<b></b><br>Layer: L02<br>Start: 91.880s<br>End: 92.500s<br>Duration: 0.620s",
          "<b></b><br>Layer: L02<br>Start: 92.500s<br>End: 104.140s<br>Duration: 11.640s",
          "<b></b><br>Layer: L02<br>Start: 104.140s<br>End: 152.970s<br>Duration: 48.830s",
          "<b></b><br>Layer: L02<br>Start: 152.970s<br>End: 153.600s<br>Duration: 0.630s",
          "<b></b><br>Layer: L02<br>Start: 153.600s<br>End: 165.670s<br>Duration: 12.070s",
          "<b></b><br>Layer: L02<br>Start: 165.670s<br>End: 166.310s<br>Duration: 0.640s",
          "<b></b><br>Layer: L02<br>Start: 166.310s<br>End: 178.470s<br>Duration: 12.160s",
          "<b></b><br>Layer: L02<br>Start: 178.470s<br>End: 179.120s<br>Duration: 0.650s",
          "<b></b><br>Layer: L02<br>Start: 179.120s<br>End: 191.310s<br>Duration: 12.190s",
          "<b></b><br>Layer: L02<br>Start: 191.310s<br>End: 222.045s<br>Duration: 30.735s",
          "<b></b><br>Layer: L03<br>Start: 0.000s<br>End: 9.160s<br>Duration: 9.160s",
          "<b></b><br>Layer: L03<br>Start: 9.160s<br>End: 10.430s<br>Duration: 1.270s",
          "<b></b><br>Layer: L03<br>Start: 10.430s<br>End: 21.930s<br>Duration: 11.500s",
          "<b></b><br>Layer: L03<br>Start: 21.930s<br>End: 22.560s<br>Duration: 0.630s",
          "<b></b><br>Layer: L03<br>Start: 22.560s<br>End: 51.380s<br>Duration: 28.820s",
          "<b></b><br>Layer: L03<br>Start: 51.380s<br>End: 52.020s<br>Duration: 0.640s",
          "<b></b><br>Layer: L03<br>Start: 52.020s<br>End: 62.950s<br>Duration: 10.930s",
          "<b></b><br>Layer: L03<br>Start: 62.950s<br>End: 64.240s<br>Duration: 1.290s",
          "<b></b><br>Layer: L03<br>Start: 64.240s<br>End: 91.880s<br>Duration: 27.640s",
          "<b></b><br>Layer: L03<br>Start: 91.880s<br>End: 92.500s<br>Duration: 0.620s",
          "<b></b><br>Layer: L03<br>Start: 92.500s<br>End: 104.140s<br>Duration: 11.640s",
          "<b></b><br>Layer: L03<br>Start: 104.140s<br>End: 104.770s<br>Duration: 0.630s",
          "<b></b><br>Layer: L03<br>Start: 104.770s<br>End: 152.360s<br>Duration: 47.590s",
          "<b></b><br>Layer: L03<br>Start: 152.360s<br>End: 152.970s<br>Duration: 0.610s",
          "<b></b><br>Layer: L03<br>Start: 152.970s<br>End: 153.600s<br>Duration: 0.630s",
          "<b></b><br>Layer: L03<br>Start: 153.600s<br>End: 165.670s<br>Duration: 12.070s",
          "<b></b><br>Layer: L03<br>Start: 165.670s<br>End: 166.310s<br>Duration: 0.640s",
          "<b></b><br>Layer: L03<br>Start: 166.310s<br>End: 166.960s<br>Duration: 0.650s",
          "<b></b><br>Layer: L03<br>Start: 166.960s<br>End: 178.470s<br>Duration: 11.510s",
          "<b></b><br>Layer: L03<br>Start: 178.470s<br>End: 179.120s<br>Duration: 0.650s",
          "<b></b><br>Layer: L03<br>Start: 179.120s<br>End: 191.310s<br>Duration: 12.190s",
          "<b></b><br>Layer: L03<br>Start: 191.310s<br>End: 191.950s<br>Duration: 0.640s",
          "<b></b><br>Layer: L03<br>Start: 191.950s<br>End: 222.045s<br>Duration: 30.095s",
          "<b></b><br>Layer: L04<br>Start: 0.000s<br>End: 9.160s<br>Duration: 9.160s",
          "<b></b><br>Layer: L04<br>Start: 9.160s<br>End: 10.430s<br>Duration: 1.270s",
          "<b></b><br>Layer: L04<br>Start: 10.430s<br>End: 21.930s<br>Duration: 11.500s",
          "<b></b><br>Layer: L04<br>Start: 21.930s<br>End: 22.560s<br>Duration: 0.630s",
          "<b></b><br>Layer: L04<br>Start: 22.560s<br>End: 51.380s<br>Duration: 28.820s",
          "<b></b><br>Layer: L04<br>Start: 51.380s<br>End: 52.020s<br>Duration: 0.640s",
          "<b></b><br>Layer: L04<br>Start: 52.020s<br>End: 62.950s<br>Duration: 10.930s",
          "<b></b><br>Layer: L04<br>Start: 62.950s<br>End: 64.240s<br>Duration: 1.290s",
          "<b></b><br>Layer: L04<br>Start: 64.240s<br>End: 91.880s<br>Duration: 27.640s",
          "<b></b><br>Layer: L04<br>Start: 91.880s<br>End: 92.500s<br>Duration: 0.620s",
          "<b></b><br>Layer: L04<br>Start: 92.500s<br>End: 104.140s<br>Duration: 11.640s",
          "<b></b><br>Layer: L04<br>Start: 104.140s<br>End: 104.770s<br>Duration: 0.630s",
          "<b></b><br>Layer: L04<br>Start: 104.770s<br>End: 134.480s<br>Duration: 29.710s",
          "<b></b><br>Layer: L04<br>Start: 134.480s<br>End: 152.360s<br>Duration: 17.880s",
          "<b></b><br>Layer: L04<br>Start: 152.360s<br>End: 152.970s<br>Duration: 0.610s",
          "<b></b><br>Layer: L04<br>Start: 152.970s<br>End: 153.600s<br>Duration: 0.630s",
          "<b></b><br>Layer: L04<br>Start: 153.600s<br>End: 165.670s<br>Duration: 12.070s",
          "<b></b><br>Layer: L04<br>Start: 165.670s<br>End: 166.310s<br>Duration: 0.640s",
          "<b></b><br>Layer: L04<br>Start: 166.310s<br>End: 166.960s<br>Duration: 0.650s",
          "<b></b><br>Layer: L04<br>Start: 166.960s<br>End: 178.470s<br>Duration: 11.510s",
          "<b></b><br>Layer: L04<br>Start: 178.470s<br>End: 179.120s<br>Duration: 0.650s",
          "<b></b><br>Layer: L04<br>Start: 179.120s<br>End: 191.310s<br>Duration: 12.190s",
          "<b></b><br>Layer: L04<br>Start: 191.310s<br>End: 191.950s<br>Duration: 0.640s",
          "<b></b><br>Layer: L04<br>Start: 191.950s<br>End: 222.045s<br>Duration: 30.095s",
          "<b></b><br>Layer: L05<br>Start: 0.000s<br>End: 9.160s<br>Duration: 9.160s",
          "<b></b><br>Layer: L05<br>Start: 9.160s<br>End: 10.430s<br>Duration: 1.270s",
          "<b></b><br>Layer: L05<br>Start: 10.430s<br>End: 21.930s<br>Duration: 11.500s",
          "<b></b><br>Layer: L05<br>Start: 21.930s<br>End: 22.560s<br>Duration: 0.630s",
          "<b></b><br>Layer: L05<br>Start: 22.560s<br>End: 51.380s<br>Duration: 28.820s",
          "<b></b><br>Layer: L05<br>Start: 51.380s<br>End: 52.020s<br>Duration: 0.640s",
          "<b></b><br>Layer: L05<br>Start: 52.020s<br>End: 62.950s<br>Duration: 10.930s",
          "<b></b><br>Layer: L05<br>Start: 62.950s<br>End: 64.240s<br>Duration: 1.290s",
          "<b></b><br>Layer: L05<br>Start: 64.240s<br>End: 91.880s<br>Duration: 27.640s",
          "<b></b><br>Layer: L05<br>Start: 91.880s<br>End: 92.500s<br>Duration: 0.620s",
          "<b></b><br>Layer: L05<br>Start: 92.500s<br>End: 104.140s<br>Duration: 11.640s",
          "<b></b><br>Layer: L05<br>Start: 104.140s<br>End: 104.770s<br>Duration: 0.630s",
          "<b></b><br>Layer: L05<br>Start: 104.770s<br>End: 134.480s<br>Duration: 29.710s",
          "<b></b><br>Layer: L05<br>Start: 134.480s<br>End: 139.600s<br>Duration: 5.120s",
          "<b></b><br>Layer: L05<br>Start: 139.600s<br>End: 152.360s<br>Duration: 12.760s",
          "<b></b><br>Layer: L05<br>Start: 152.360s<br>End: 152.970s<br>Duration: 0.610s",
          "<b></b><br>Layer: L05<br>Start: 152.970s<br>End: 153.600s<br>Duration: 0.630s",
          "<b></b><br>Layer: L05<br>Start: 153.600s<br>End: 165.670s<br>Duration: 12.070s",
          "<b></b><br>Layer: L05<br>Start: 165.670s<br>End: 166.310s<br>Duration: 0.640s",
          "<b></b><br>Layer: L05<br>Start: 166.310s<br>End: 166.960s<br>Duration: 0.650s",
          "<b></b><br>Layer: L05<br>Start: 166.960s<br>End: 178.470s<br>Duration: 11.510s",
          "<b></b><br>Layer: L05<br>Start: 178.470s<br>End: 179.120s<br>Duration: 0.650s",
          "<b></b><br>Layer: L05<br>Start: 179.120s<br>End: 191.310s<br>Duration: 12.190s",
          "<b></b><br>Layer: L05<br>Start: 191.310s<br>End: 191.950s<br>Duration: 0.640s",
          "<b></b><br>Layer: L05<br>Start: 191.950s<br>End: 222.045s<br>Duration: 30.095s",
          "<b></b><br>Layer: L06<br>Start: 0.000s<br>End: 8.540s<br>Duration: 8.540s",
          "<b></b><br>Layer: L06<br>Start: 8.540s<br>End: 9.160s<br>Duration: 0.620s",
          "<b></b><br>Layer: L06<br>Start: 9.160s<br>End: 10.430s<br>Duration: 1.270s",
          "<b></b><br>Layer: L06<br>Start: 10.430s<br>End: 21.930s<br>Duration: 11.500s",
          "<b></b><br>Layer: L06<br>Start: 21.930s<br>End: 22.560s<br>Duration: 0.630s",
          "<b></b><br>Layer: L06<br>Start: 22.560s<br>End: 23.210s<br>Duration: 0.650s",
          "<b></b><br>Layer: L06<br>Start: 23.210s<br>End: 50.740s<br>Duration: 27.530s",
          "<b></b><br>Layer: L06<br>Start: 50.740s<br>End: 51.380s<br>Duration: 0.640s",
          "<b></b><br>Layer: L06<br>Start: 51.380s<br>End: 52.020s<br>Duration: 0.640s",
          "<b></b><br>Layer: L06<br>Start: 52.020s<br>End: 62.950s<br>Duration: 10.930s",
          "<b></b><br>Layer: L06<br>Start: 62.950s<br>End: 64.240s<br>Duration: 1.290s",
          "<b></b><br>Layer: L06<br>Start: 64.240s<br>End: 64.900s<br>Duration: 0.660s",
          "<b></b><br>Layer: L06<br>Start: 64.900s<br>End: 91.250s<br>Duration: 26.350s",
          "<b></b><br>Layer: L06<br>Start: 91.250s<br>End: 91.880s<br>Duration: 0.630s",
          "<b></b><br>Layer: L06<br>Start: 91.880s<br>End: 92.500s<br>Duration: 0.620s",
          "<b></b><br>Layer: L06<br>Start: 92.500s<br>End: 104.140s<br>Duration: 11.640s",
          "<b></b><br>Layer: L06<br>Start: 104.140s<br>End: 104.770s<br>Duration: 0.630s",
          "<b></b><br>Layer: L06<br>Start: 104.770s<br>End: 134.480s<br>Duration: 29.710s",
          "<b></b><br>Layer: L06<br>Start: 134.480s<br>End: 139.600s<br>Duration: 5.120s",
          "<b></b><br>Layer: L06<br>Start: 139.600s<br>End: 151.710s<br>Duration: 12.110s",
          "<b></b><br>Layer: L06<br>Start: 151.710s<br>End: 152.360s<br>Duration: 0.650s",
          "<b></b><br>Layer: L06<br>Start: 152.360s<br>End: 152.970s<br>Duration: 0.610s",
          "<b></b><br>Layer: L06<br>Start: 152.970s<br>End: 153.600s<br>Duration: 0.630s",
          "<b></b><br>Layer: L06<br>Start: 153.600s<br>End: 165.670s<br>Duration: 12.070s",
          "<b></b><br>Layer: L06<br>Start: 165.670s<br>End: 166.310s<br>Duration: 0.640s",
          "<b></b><br>Layer: L06<br>Start: 166.310s<br>End: 166.960s<br>Duration: 0.650s",
          "<b></b><br>Layer: L06<br>Start: 166.960s<br>End: 177.830s<br>Duration: 10.870s",
          "<b></b><br>Layer: L06<br>Start: 177.830s<br>End: 178.470s<br>Duration: 0.640s",
          "<b></b><br>Layer: L06<br>Start: 178.470s<br>End: 179.120s<br>Duration: 0.650s",
          "<b></b><br>Layer: L06<br>Start: 179.120s<br>End: 191.310s<br>Duration: 12.190s",
          "<b></b><br>Layer: L06<br>Start: 191.310s<br>End: 191.950s<br>Duration: 0.640s",
          "<b></b><br>Layer: L06<br>Start: 191.950s<br>End: 222.045s<br>Duration: 30.095s",
          "<b></b><br>Layer: L07<br>Start: 0.000s<br>End: 8.540s<br>Duration: 8.540s",
          "<b></b><br>Layer: L07<br>Start: 8.540s<br>End: 9.160s<br>Duration: 0.620s",
          "<b></b><br>Layer: L07<br>Start: 9.160s<br>End: 10.430s<br>Duration: 1.270s",
          "<b></b><br>Layer: L07<br>Start: 10.430s<br>End: 21.930s<br>Duration: 11.500s",
          "<b></b><br>Layer: L07<br>Start: 21.930s<br>End: 22.560s<br>Duration: 0.630s",
          "<b></b><br>Layer: L07<br>Start: 22.560s<br>End: 23.210s<br>Duration: 0.650s",
          "<b></b><br>Layer: L07<br>Start: 23.210s<br>End: 50.740s<br>Duration: 27.530s",
          "<b></b><br>Layer: L07<br>Start: 50.740s<br>End: 51.380s<br>Duration: 0.640s",
          "<b></b><br>Layer: L07<br>Start: 51.380s<br>End: 52.020s<br>Duration: 0.640s",
          "<b></b><br>Layer: L07<br>Start: 52.020s<br>End: 62.950s<br>Duration: 10.930s",
          "<b></b><br>Layer: L07<br>Start: 62.950s<br>End: 64.240s<br>Duration: 1.290s",
          "<b></b><br>Layer: L07<br>Start: 64.240s<br>End: 64.900s<br>Duration: 0.660s",
          "<b></b><br>Layer: L07<br>Start: 64.900s<br>End: 91.250s<br>Duration: 26.350s",
          "<b></b><br>Layer: L07<br>Start: 91.250s<br>End: 91.880s<br>Duration: 0.630s",
          "<b></b><br>Layer: L07<br>Start: 91.880s<br>End: 92.500s<br>Duration: 0.620s",
          "<b></b><br>Layer: L07<br>Start: 92.500s<br>End: 104.140s<br>Duration: 11.640s",
          "<b></b><br>Layer: L07<br>Start: 104.140s<br>End: 104.770s<br>Duration: 0.630s",
          "<b></b><br>Layer: L07<br>Start: 104.770s<br>End: 134.480s<br>Duration: 29.710s",
          "<b></b><br>Layer: L07<br>Start: 134.480s<br>End: 139.600s<br>Duration: 5.120s",
          "<b></b><br>Layer: L07<br>Start: 139.600s<br>End: 151.710s<br>Duration: 12.110s",
          "<b></b><br>Layer: L07<br>Start: 151.710s<br>End: 152.360s<br>Duration: 0.650s",
          "<b></b><br>Layer: L07<br>Start: 152.360s<br>End: 152.970s<br>Duration: 0.610s",
          "<b></b><br>Layer: L07<br>Start: 152.970s<br>End: 153.600s<br>Duration: 0.630s",
          "<b></b><br>Layer: L07<br>Start: 153.600s<br>End: 154.840s<br>Duration: 1.240s",
          "<b></b><br>Layer: L07<br>Start: 154.840s<br>End: 165.670s<br>Duration: 10.830s",
          "<b></b><br>Layer: L07<br>Start: 165.670s<br>End: 166.310s<br>Duration: 0.640s",
          "<b></b><br>Layer: L07<br>Start: 166.310s<br>End: 166.960s<br>Duration: 0.650s",
          "<b></b><br>Layer: L07<br>Start: 166.960s<br>End: 177.830s<br>Duration: 10.870s",
          "<b></b><br>Layer: L07<br>Start: 177.830s<br>End: 178.470s<br>Duration: 0.640s",
          "<b></b><br>Layer: L07<br>Start: 178.470s<br>End: 179.120s<br>Duration: 0.650s",
          "<b></b><br>Layer: L07<br>Start: 179.120s<br>End: 191.310s<br>Duration: 12.190s",
          "<b></b><br>Layer: L07<br>Start: 191.310s<br>End: 191.950s<br>Duration: 0.640s",
          "<b></b><br>Layer: L07<br>Start: 191.950s<br>End: 222.045s<br>Duration: 30.095s",
          "<b></b><br>Layer: L08<br>Start: 0.000s<br>End: 8.540s<br>Duration: 8.540s",
          "<b></b><br>Layer: L08<br>Start: 8.540s<br>End: 9.160s<br>Duration: 0.620s",
          "<b></b><br>Layer: L08<br>Start: 9.160s<br>End: 10.430s<br>Duration: 1.270s",
          "<b></b><br>Layer: L08<br>Start: 10.430s<br>End: 21.930s<br>Duration: 11.500s",
          "<b></b><br>Layer: L08<br>Start: 21.930s<br>End: 22.560s<br>Duration: 0.630s",
          "<b></b><br>Layer: L08<br>Start: 22.560s<br>End: 23.210s<br>Duration: 0.650s",
          "<b></b><br>Layer: L08<br>Start: 23.210s<br>End: 50.740s<br>Duration: 27.530s",
          "<b></b><br>Layer: L08<br>Start: 50.740s<br>End: 51.380s<br>Duration: 0.640s",
          "<b></b><br>Layer: L08<br>Start: 51.380s<br>End: 52.020s<br>Duration: 0.640s",
          "<b></b><br>Layer: L08<br>Start: 52.020s<br>End: 62.950s<br>Duration: 10.930s",
          "<b></b><br>Layer: L08<br>Start: 62.950s<br>End: 64.240s<br>Duration: 1.290s",
          "<b></b><br>Layer: L08<br>Start: 64.240s<br>End: 64.900s<br>Duration: 0.660s",
          "<b></b><br>Layer: L08<br>Start: 64.900s<br>End: 82.260s<br>Duration: 17.360s",
          "<b></b><br>Layer: L08<br>Start: 82.260s<br>End: 90.600s<br>Duration: 8.340s",
          "<b></b><br>Layer: L08<br>Start: 90.600s<br>End: 91.250s<br>Duration: 0.650s",
          "<b></b><br>Layer: L08<br>Start: 91.250s<br>End: 91.880s<br>Duration: 0.630s",
          "<b></b><br>Layer: L08<br>Start: 91.880s<br>End: 92.500s<br>Duration: 0.620s",
          "<b></b><br>Layer: L08<br>Start: 92.500s<br>End: 104.140s<br>Duration: 11.640s",
          "<b></b><br>Layer: L08<br>Start: 104.140s<br>End: 104.770s<br>Duration: 0.630s",
          "<b></b><br>Layer: L08<br>Start: 104.770s<br>End: 134.480s<br>Duration: 29.710s",
          "<b></b><br>Layer: L08<br>Start: 134.480s<br>End: 135.780s<br>Duration: 1.300s",
          "<b></b><br>Layer: L08<br>Start: 135.780s<br>End: 139.600s<br>Duration: 3.820s",
          "<b></b><br>Layer: L08<br>Start: 139.600s<br>End: 144.070s<br>Duration: 4.470s",
          "<b></b><br>Layer: L08<br>Start: 144.070s<br>End: 151.710s<br>Duration: 7.640s",
          "<b></b><br>Layer: L08<br>Start: 151.710s<br>End: 152.360s<br>Duration: 0.650s",
          "<b></b><br>Layer: L08<br>Start: 152.360s<br>End: 152.970s<br>Duration: 0.610s",
          "<b></b><br>Layer: L08<br>Start: 152.970s<br>End: 153.600s<br>Duration: 0.630s",
          "<b></b><br>Layer: L08<br>Start: 153.600s<br>End: 154.840s<br>Duration: 1.240s",
          "<b></b><br>Layer: L08<br>Start: 154.840s<br>End: 165.670s<br>Duration: 10.830s",
          "<b></b><br>Layer: L08<br>Start: 165.670s<br>End: 166.310s<br>Duration: 0.640s",
          "<b></b><br>Layer: L08<br>Start: 166.310s<br>End: 166.960s<br>Duration: 0.650s",
          "<b></b><br>Layer: L08<br>Start: 166.960s<br>End: 177.830s<br>Duration: 10.870s",
          "<b></b><br>Layer: L08<br>Start: 177.830s<br>End: 178.470s<br>Duration: 0.640s",
          "<b></b><br>Layer: L08<br>Start: 178.470s<br>End: 179.120s<br>Duration: 0.650s",
          "<b></b><br>Layer: L08<br>Start: 179.120s<br>End: 191.310s<br>Duration: 12.190s",
          "<b></b><br>Layer: L08<br>Start: 191.310s<br>End: 191.950s<br>Duration: 0.640s",
          "<b></b><br>Layer: L08<br>Start: 191.950s<br>End: 222.045s<br>Duration: 30.095s",
          "<b></b><br>Layer: L09<br>Start: 0.000s<br>End: 8.540s<br>Duration: 8.540s",
          "<b></b><br>Layer: L09<br>Start: 8.540s<br>End: 9.160s<br>Duration: 0.620s",
          "<b></b><br>Layer: L09<br>Start: 9.160s<br>End: 10.430s<br>Duration: 1.270s",
          "<b></b><br>Layer: L09<br>Start: 10.430s<br>End: 21.930s<br>Duration: 11.500s",
          "<b></b><br>Layer: L09<br>Start: 21.930s<br>End: 22.560s<br>Duration: 0.630s",
          "<b></b><br>Layer: L09<br>Start: 22.560s<br>End: 23.210s<br>Duration: 0.650s",
          "<b></b><br>Layer: L09<br>Start: 23.210s<br>End: 50.110s<br>Duration: 26.900s",
          "<b></b><br>Layer: L09<br>Start: 50.110s<br>End: 50.740s<br>Duration: 0.630s",
          "<b></b><br>Layer: L09<br>Start: 50.740s<br>End: 51.380s<br>Duration: 0.640s",
          "<b></b><br>Layer: L09<br>Start: 51.380s<br>End: 52.020s<br>Duration: 0.640s",
          "<b></b><br>Layer: L09<br>Start: 52.020s<br>End: 62.950s<br>Duration: 10.930s",
          "<b></b><br>Layer: L09<br>Start: 62.950s<br>End: 64.240s<br>Duration: 1.290s",
          "<b></b><br>Layer: L09<br>Start: 64.240s<br>End: 64.900s<br>Duration: 0.660s",
          "<b></b><br>Layer: L09<br>Start: 64.900s<br>End: 82.260s<br>Duration: 17.360s",
          "<b></b><br>Layer: L09<br>Start: 82.260s<br>End: 90.600s<br>Duration: 8.340s",
          "<b></b><br>Layer: L09<br>Start: 90.600s<br>End: 91.250s<br>Duration: 0.650s",
          "<b></b><br>Layer: L09<br>Start: 91.250s<br>End: 91.880s<br>Duration: 0.630s",
          "<b></b><br>Layer: L09<br>Start: 91.880s<br>End: 92.500s<br>Duration: 0.620s",
          "<b></b><br>Layer: L09<br>Start: 92.500s<br>End: 104.140s<br>Duration: 11.640s",
          "<b></b><br>Layer: L09<br>Start: 104.140s<br>End: 104.770s<br>Duration: 0.630s",
          "<b></b><br>Layer: L09<br>Start: 104.770s<br>End: 113.100s<br>Duration: 8.330s",
          "<b></b><br>Layer: L09<br>Start: 113.100s<br>End: 126.020s<br>Duration: 12.920s",
          "<b></b><br>Layer: L09<br>Start: 126.020s<br>End: 134.480s<br>Duration: 8.460s",
          "<b></b><br>Layer: L09<br>Start: 134.480s<br>End: 135.140s<br>Duration: 0.660s",
          "<b></b><br>Layer: L09<br>Start: 135.140s<br>End: 135.780s<br>Duration: 0.640s",
          "<b></b><br>Layer: L09<br>Start: 135.780s<br>End: 139.600s<br>Duration: 3.820s",
          "<b></b><br>Layer: L09<br>Start: 139.600s<br>End: 144.070s<br>Duration: 4.470s",
          "<b></b><br>Layer: L09<br>Start: 144.070s<br>End: 145.360s<br>Duration: 1.290s",
          "<b></b><br>Layer: L09<br>Start: 145.360s<br>End: 151.710s<br>Duration: 6.350s",
          "<b></b><br>Layer: L09<br>Start: 151.710s<br>End: 152.360s<br>Duration: 0.650s",
          "<b></b><br>Layer: L09<br>Start: 152.360s<br>End: 152.970s<br>Duration: 0.610s",
          "<b></b><br>Layer: L09<br>Start: 152.970s<br>End: 153.600s<br>Duration: 0.630s",
          "<b></b><br>Layer: L09<br>Start: 153.600s<br>End: 154.840s<br>Duration: 1.240s",
          "<b></b><br>Layer: L09<br>Start: 154.840s<br>End: 165.670s<br>Duration: 10.830s",
          "<b></b><br>Layer: L09<br>Start: 165.670s<br>End: 166.310s<br>Duration: 0.640s",
          "<b></b><br>Layer: L09<br>Start: 166.310s<br>End: 166.960s<br>Duration: 0.650s",
          "<b></b><br>Layer: L09<br>Start: 166.960s<br>End: 177.830s<br>Duration: 10.870s",
          "<b></b><br>Layer: L09<br>Start: 177.830s<br>End: 178.470s<br>Duration: 0.640s",
          "<b></b><br>Layer: L09<br>Start: 178.470s<br>End: 179.120s<br>Duration: 0.650s",
          "<b></b><br>Layer: L09<br>Start: 179.120s<br>End: 191.310s<br>Duration: 12.190s",
          "<b></b><br>Layer: L09<br>Start: 191.310s<br>End: 191.950s<br>Duration: 0.640s",
          "<b></b><br>Layer: L09<br>Start: 191.950s<br>End: 222.045s<br>Duration: 30.095s",
          "<b></b><br>Layer: L10<br>Start: 0.000s<br>End: 8.540s<br>Duration: 8.540s",
          "<b></b><br>Layer: L10<br>Start: 8.540s<br>End: 9.160s<br>Duration: 0.620s",
          "<b></b><br>Layer: L10<br>Start: 9.160s<br>End: 10.430s<br>Duration: 1.270s",
          "<b></b><br>Layer: L10<br>Start: 10.430s<br>End: 21.930s<br>Duration: 11.500s",
          "<b></b><br>Layer: L10<br>Start: 21.930s<br>End: 22.560s<br>Duration: 0.630s",
          "<b></b><br>Layer: L10<br>Start: 22.560s<br>End: 23.210s<br>Duration: 0.650s",
          "<b></b><br>Layer: L10<br>Start: 23.210s<br>End: 50.110s<br>Duration: 26.900s",
          "<b></b><br>Layer: L10<br>Start: 50.110s<br>End: 50.740s<br>Duration: 0.630s",
          "<b></b><br>Layer: L10<br>Start: 50.740s<br>End: 51.380s<br>Duration: 0.640s",
          "<b></b><br>Layer: L10<br>Start: 51.380s<br>End: 52.020s<br>Duration: 0.640s",
          "<b></b><br>Layer: L10<br>Start: 52.020s<br>End: 62.950s<br>Duration: 10.930s",
          "<b></b><br>Layer: L10<br>Start: 62.950s<br>End: 64.240s<br>Duration: 1.290s",
          "<b></b><br>Layer: L10<br>Start: 64.240s<br>End: 64.900s<br>Duration: 0.660s",
          "<b></b><br>Layer: L10<br>Start: 64.900s<br>End: 82.260s<br>Duration: 17.360s",
          "<b></b><br>Layer: L10<br>Start: 82.260s<br>End: 90.600s<br>Duration: 8.340s",
          "<b></b><br>Layer: L10<br>Start: 90.600s<br>End: 91.250s<br>Duration: 0.650s",
          "<b></b><br>Layer: L10<br>Start: 91.250s<br>End: 91.880s<br>Duration: 0.630s",
          "<b></b><br>Layer: L10<br>Start: 91.880s<br>End: 92.500s<br>Duration: 0.620s",
          "<b></b><br>Layer: L10<br>Start: 92.500s<br>End: 104.140s<br>Duration: 11.640s",
          "<b></b><br>Layer: L10<br>Start: 104.140s<br>End: 104.770s<br>Duration: 0.630s",
          "<b></b><br>Layer: L10<br>Start: 104.770s<br>End: 112.480s<br>Duration: 7.710s",
          "<b></b><br>Layer: L10<br>Start: 112.480s<br>End: 113.100s<br>Duration: 0.620s",
          "<b></b><br>Layer: L10<br>Start: 113.100s<br>End: 126.020s<br>Duration: 12.920s",
          "<b></b><br>Layer: L10<br>Start: 126.020s<br>End: 134.480s<br>Duration: 8.460s",
          "<b></b><br>Layer: L10<br>Start: 134.480s<br>End: 135.140s<br>Duration: 0.660s",
          "<b></b><br>Layer: L10<br>Start: 135.140s<br>End: 135.780s<br>Duration: 0.640s",
          "<b></b><br>Layer: L10<br>Start: 135.780s<br>End: 139.600s<br>Duration: 3.820s",
          "<b></b><br>Layer: L10<br>Start: 139.600s<br>End: 144.070s<br>Duration: 4.470s",
          "<b></b><br>Layer: L10<br>Start: 144.070s<br>End: 145.360s<br>Duration: 1.290s",
          "<b></b><br>Layer: L10<br>Start: 145.360s<br>End: 151.710s<br>Duration: 6.350s",
          "<b></b><br>Layer: L10<br>Start: 151.710s<br>End: 152.360s<br>Duration: 0.650s",
          "<b></b><br>Layer: L10<br>Start: 152.360s<br>End: 152.970s<br>Duration: 0.610s",
          "<b></b><br>Layer: L10<br>Start: 152.970s<br>End: 153.600s<br>Duration: 0.630s",
          "<b></b><br>Layer: L10<br>Start: 153.600s<br>End: 154.840s<br>Duration: 1.240s",
          "<b></b><br>Layer: L10<br>Start: 154.840s<br>End: 165.670s<br>Duration: 10.830s",
          "<b></b><br>Layer: L10<br>Start: 165.670s<br>End: 166.310s<br>Duration: 0.640s",
          "<b></b><br>Layer: L10<br>Start: 166.310s<br>End: 166.960s<br>Duration: 0.650s",
          "<b></b><br>Layer: L10<br>Start: 166.960s<br>End: 177.830s<br>Duration: 10.870s",
          "<b></b><br>Layer: L10<br>Start: 177.830s<br>End: 178.470s<br>Duration: 0.640s",
          "<b></b><br>Layer: L10<br>Start: 178.470s<br>End: 179.120s<br>Duration: 0.650s",
          "<b></b><br>Layer: L10<br>Start: 179.120s<br>End: 191.310s<br>Duration: 12.190s",
          "<b></b><br>Layer: L10<br>Start: 191.310s<br>End: 191.950s<br>Duration: 0.640s",
          "<b></b><br>Layer: L10<br>Start: 191.950s<br>End: 222.045s<br>Duration: 30.095s"
         ],
         "hovertemplate": "%{customdata}<extra></extra>",
         "insidetextanchor": "middle",
         "marker": {
          "color": "#1F77B4",
          "line": {
           "color": "white",
           "width": 0.5
          },
          "pattern": {
           "fgcolor": "white",
           "fgopacity": 0.5,
           "shape": "",
           "solidity": 0.25
          }
         },
         "name": "",
         "orientation": "h",
         "showlegend": true,
         "text": [
          "",
          "",
          "",
          "",
          "",
          "",
          "",
          "",
          "",
          "",
          "",
          "",
          "",
          "",
          "",
          "",
          "",
          "",
          "",
          "",
          "",
          "",
          "",
          "",
          "",
          "",
          "",
          "",
          "",
          "",
          "",
          "",
          "",
          "",
          "",
          "",
          "",
          "",
          "",
          "",
          "",
          "",
          "",
          "",
          "",
          "",
          "",
          "",
          "",
          "",
          "",
          "",
          "",
          "",
          "",
          "",
          "",
          "",
          "",
          "",
          "",
          "",
          "",
          "",
          "",
          "",
          "",
          "",
          "",
          "",
          "",
          "",
          "",
          "",
          "",
          "",
          "",
          "",
          "",
          "",
          "",
          "",
          "",
          "",
          "",
          "",
          "",
          "",
          "",
          "",
          "",
          "",
          "",
          "",
          "",
          "",
          "",
          "",
          "",
          "",
          "",
          "",
          "",
          "",
          "",
          "",
          "",
          "",
          "",
          "",
          "",
          "",
          "",
          "",
          "",
          "",
          "",
          "",
          "",
          "",
          "",
          "",
          "",
          "",
          "",
          "",
          "",
          "",
          "",
          "",
          "",
          "",
          "",
          "",
          "",
          "",
          "",
          "",
          "",
          "",
          "",
          "",
          "",
          "",
          "",
          "",
          "",
          "",
          "",
          "",
          "",
          "",
          "",
          "",
          "",
          "",
          "",
          "",
          "",
          "",
          "",
          "",
          "",
          "",
          "",
          "",
          "",
          "",
          "",
          "",
          "",
          "",
          "",
          "",
          "",
          "",
          "",
          "",
          "",
          "",
          "",
          "",
          "",
          "",
          "",
          "",
          "",
          "",
          "",
          "",
          "",
          "",
          "",
          "",
          "",
          "",
          "",
          "",
          "",
          "",
          "",
          "",
          "",
          "",
          "",
          "",
          "",
          "",
          "",
          "",
          "",
          "",
          "",
          "",
          "",
          "",
          "",
          "",
          "",
          "",
          "",
          "",
          "",
          "",
          "",
          "",
          "",
          "",
          "",
          "",
          "",
          "",
          "",
          "",
          "",
          "",
          "",
          "",
          "",
          "",
          "",
          "",
          "",
          "",
          "",
          "",
          "",
          "",
          "",
          "",
          "",
          "",
          "",
          "",
          "",
          "",
          "",
          "",
          "",
          "",
          "",
          "",
          "",
          "",
          "",
          "",
          "",
          "",
          "",
          "",
          "",
          "",
          "",
          "",
          "",
          "",
          "",
          "",
          "",
          "",
          "",
          "",
          "",
          "",
          "",
          ""
         ],
         "textposition": "inside",
         "type": "bar",
         "width": 1,
         "x": [
          10.43,
          11.5,
          29.450000000000003,
          11.57,
          28.929999999999993,
          12.260000000000005,
          48.83,
          13.340000000000003,
          12.159999999999997,
          12.840000000000003,
          30.73481000000001,
          10.43,
          11.5,
          29.450000000000003,
          0.6400000000000006,
          10.93,
          28.929999999999993,
          0.6200000000000045,
          11.64,
          48.83,
          0.6299999999999955,
          12.069999999999993,
          0.6400000000000148,
          12.159999999999997,
          0.6500000000000057,
          12.189999999999998,
          30.73481000000001,
          9.16,
          1.2699999999999996,
          11.5,
          0.629999999999999,
          28.820000000000004,
          0.6400000000000006,
          10.93,
          1.289999999999992,
          27.64,
          0.6200000000000045,
          11.64,
          0.6299999999999955,
          47.59000000000002,
          0.6099999999999852,
          0.6299999999999955,
          12.069999999999993,
          0.6400000000000148,
          0.6500000000000057,
          11.509999999999991,
          0.6500000000000057,
          12.189999999999998,
          0.6399999999999864,
          30.094810000000024,
          9.16,
          1.2699999999999996,
          11.5,
          0.629999999999999,
          28.820000000000004,
          0.6400000000000006,
          10.93,
          1.289999999999992,
          27.64,
          0.6200000000000045,
          11.64,
          0.6299999999999955,
          29.709999999999994,
          17.880000000000024,
          0.6099999999999852,
          0.6299999999999955,
          12.069999999999993,
          0.6400000000000148,
          0.6500000000000057,
          11.509999999999991,
          0.6500000000000057,
          12.189999999999998,
          0.6399999999999864,
          30.094810000000024,
          9.16,
          1.2699999999999996,
          11.5,
          0.629999999999999,
          28.820000000000004,
          0.6400000000000006,
          10.93,
          1.289999999999992,
          27.64,
          0.6200000000000045,
          11.64,
          0.6299999999999955,
          29.709999999999994,
          5.1200000000000045,
          12.76000000000002,
          0.6099999999999852,
          0.6299999999999955,
          12.069999999999993,
          0.6400000000000148,
          0.6500000000000057,
          11.509999999999991,
          0.6500000000000057,
          12.189999999999998,
          0.6399999999999864,
          30.094810000000024,
          8.54,
          0.620000000000001,
          1.2699999999999996,
          11.5,
          0.629999999999999,
          0.6500000000000021,
          27.53,
          0.6400000000000006,
          0.6400000000000006,
          10.93,
          1.289999999999992,
          0.6600000000000108,
          26.349999999999994,
          0.6299999999999955,
          0.6200000000000045,
          11.64,
          0.6299999999999955,
          29.709999999999994,
          5.1200000000000045,
          12.110000000000014,
          0.6500000000000057,
          0.6099999999999852,
          0.6299999999999955,
          12.069999999999993,
          0.6400000000000148,
          0.6500000000000057,
          10.870000000000005,
          0.6399999999999864,
          0.6500000000000057,
          12.189999999999998,
          0.6399999999999864,
          30.094810000000024,
          8.54,
          0.620000000000001,
          1.2699999999999996,
          11.5,
          0.629999999999999,
          0.6500000000000021,
          27.53,
          0.6400000000000006,
          0.6400000000000006,
          10.93,
          1.289999999999992,
          0.6600000000000108,
          26.349999999999994,
          0.6299999999999955,
          0.6200000000000045,
          11.64,
          0.6299999999999955,
          29.709999999999994,
          5.1200000000000045,
          12.110000000000014,
          0.6500000000000057,
          0.6099999999999852,
          0.6299999999999955,
          1.240000000000009,
          10.829999999999984,
          0.6400000000000148,
          0.6500000000000057,
          10.870000000000005,
          0.6399999999999864,
          0.6500000000000057,
          12.189999999999998,
          0.6399999999999864,
          30.094810000000024,
          8.54,
          0.620000000000001,
          1.2699999999999996,
          11.5,
          0.629999999999999,
          0.6500000000000021,
          27.53,
          0.6400000000000006,
          0.6400000000000006,
          10.93,
          1.289999999999992,
          0.6600000000000108,
          17.36,
          8.33999999999999,
          0.6500000000000057,
          0.6299999999999955,
          0.6200000000000045,
          11.64,
          0.6299999999999955,
          29.709999999999994,
          1.3000000000000114,
          3.819999999999993,
          4.469999999999999,
          7.640000000000015,
          0.6500000000000057,
          0.6099999999999852,
          0.6299999999999955,
          1.240000000000009,
          10.829999999999984,
          0.6400000000000148,
          0.6500000000000057,
          10.870000000000005,
          0.6399999999999864,
          0.6500000000000057,
          12.189999999999998,
          0.6399999999999864,
          30.094810000000024,
          8.54,
          0.620000000000001,
          1.2699999999999996,
          11.5,
          0.629999999999999,
          0.6500000000000021,
          26.9,
          0.6300000000000026,
          0.6400000000000006,
          0.6400000000000006,
          10.93,
          1.289999999999992,
          0.6600000000000108,
          17.36,
          8.33999999999999,
          0.6500000000000057,
          0.6299999999999955,
          0.6200000000000045,
          11.64,
          0.6299999999999955,
          8.329999999999998,
          12.920000000000002,
          8.459999999999994,
          0.6599999999999966,
          0.6400000000000148,
          3.819999999999993,
          4.469999999999999,
          1.2900000000000205,
          6.349999999999994,
          0.6500000000000057,
          0.6099999999999852,
          0.6299999999999955,
          1.240000000000009,
          10.829999999999984,
          0.6400000000000148,
          0.6500000000000057,
          10.870000000000005,
          0.6399999999999864,
          0.6500000000000057,
          12.189999999999998,
          0.6399999999999864,
          30.094810000000024,
          8.54,
          0.620000000000001,
          1.2699999999999996,
          11.5,
          0.629999999999999,
          0.6500000000000021,
          26.9,
          0.6300000000000026,
          0.6400000000000006,
          0.6400000000000006,
          10.93,
          1.289999999999992,
          0.6600000000000108,
          17.36,
          8.33999999999999,
          0.6500000000000057,
          0.6299999999999955,
          0.6200000000000045,
          11.64,
          0.6299999999999955,
          7.710000000000008,
          0.6199999999999903,
          12.920000000000002,
          8.459999999999994,
          0.6599999999999966,
          0.6400000000000148,
          3.819999999999993,
          4.469999999999999,
          1.2900000000000205,
          6.349999999999994,
          0.6500000000000057,
          0.6099999999999852,
          0.6299999999999955,
          1.240000000000009,
          10.829999999999984,
          0.6400000000000148,
          0.6500000000000057,
          10.870000000000005,
          0.6399999999999864,
          0.6500000000000057,
          12.189999999999998,
          0.6399999999999864,
          30.094810000000024
         ],
         "y": [
          "L01",
          "L01",
          "L01",
          "L01",
          "L01",
          "L01",
          "L01",
          "L01",
          "L01",
          "L01",
          "L01",
          "L02",
          "L02",
          "L02",
          "L02",
          "L02",
          "L02",
          "L02",
          "L02",
          "L02",
          "L02",
          "L02",
          "L02",
          "L02",
          "L02",
          "L02",
          "L02",
          "L03",
          "L03",
          "L03",
          "L03",
          "L03",
          "L03",
          "L03",
          "L03",
          "L03",
          "L03",
          "L03",
          "L03",
          "L03",
          "L03",
          "L03",
          "L03",
          "L03",
          "L03",
          "L03",
          "L03",
          "L03",
          "L03",
          "L03",
          "L04",
          "L04",
          "L04",
          "L04",
          "L04",
          "L04",
          "L04",
          "L04",
          "L04",
          "L04",
          "L04",
          "L04",
          "L04",
          "L04",
          "L04",
          "L04",
          "L04",
          "L04",
          "L04",
          "L04",
          "L04",
          "L04",
          "L04",
          "L04",
          "L05",
          "L05",
          "L05",
          "L05",
          "L05",
          "L05",
          "L05",
          "L05",
          "L05",
          "L05",
          "L05",
          "L05",
          "L05",
          "L05",
          "L05",
          "L05",
          "L05",
          "L05",
          "L05",
          "L05",
          "L05",
          "L05",
          "L05",
          "L05",
          "L05",
          "L06",
          "L06",
          "L06",
          "L06",
          "L06",
          "L06",
          "L06",
          "L06",
          "L06",
          "L06",
          "L06",
          "L06",
          "L06",
          "L06",
          "L06",
          "L06",
          "L06",
          "L06",
          "L06",
          "L06",
          "L06",
          "L06",
          "L06",
          "L06",
          "L06",
          "L06",
          "L06",
          "L06",
          "L06",
          "L06",
          "L06",
          "L06",
          "L07",
          "L07",
          "L07",
          "L07",
          "L07",
          "L07",
          "L07",
          "L07",
          "L07",
          "L07",
          "L07",
          "L07",
          "L07",
          "L07",
          "L07",
          "L07",
          "L07",
          "L07",
          "L07",
          "L07",
          "L07",
          "L07",
          "L07",
          "L07",
          "L07",
          "L07",
          "L07",
          "L07",
          "L07",
          "L07",
          "L07",
          "L07",
          "L07",
          "L08",
          "L08",
          "L08",
          "L08",
          "L08",
          "L08",
          "L08",
          "L08",
          "L08",
          "L08",
          "L08",
          "L08",
          "L08",
          "L08",
          "L08",
          "L08",
          "L08",
          "L08",
          "L08",
          "L08",
          "L08",
          "L08",
          "L08",
          "L08",
          "L08",
          "L08",
          "L08",
          "L08",
          "L08",
          "L08",
          "L08",
          "L08",
          "L08",
          "L08",
          "L08",
          "L08",
          "L08",
          "L09",
          "L09",
          "L09",
          "L09",
          "L09",
          "L09",
          "L09",
          "L09",
          "L09",
          "L09",
          "L09",
          "L09",
          "L09",
          "L09",
          "L09",
          "L09",
          "L09",
          "L09",
          "L09",
          "L09",
          "L09",
          "L09",
          "L09",
          "L09",
          "L09",
          "L09",
          "L09",
          "L09",
          "L09",
          "L09",
          "L09",
          "L09",
          "L09",
          "L09",
          "L09",
          "L09",
          "L09",
          "L09",
          "L09",
          "L09",
          "L09",
          "L09",
          "L10",
          "L10",
          "L10",
          "L10",
          "L10",
          "L10",
          "L10",
          "L10",
          "L10",
          "L10",
          "L10",
          "L10",
          "L10",
          "L10",
          "L10",
          "L10",
          "L10",
          "L10",
          "L10",
          "L10",
          "L10",
          "L10",
          "L10",
          "L10",
          "L10",
          "L10",
          "L10",
          "L10",
          "L10",
          "L10",
          "L10",
          "L10",
          "L10",
          "L10",
          "L10",
          "L10",
          "L10",
          "L10",
          "L10",
          "L10",
          "L10",
          "L10",
          "L10"
         ]
        }
       ],
       "layout": {
        "barmode": "overlay",
        "height": 320,
        "margin": {
         "b": 20,
         "l": 20,
         "r": 20,
         "t": 40
        },
        "showlegend": false,
        "template": {
         "data": {
          "bar": [
           {
            "error_x": {
             "color": "#2a3f5f"
            },
            "error_y": {
             "color": "#2a3f5f"
            },
            "marker": {
             "line": {
              "color": "#E5ECF6",
              "width": 0.5
             },
             "pattern": {
              "fillmode": "overlay",
              "size": 10,
              "solidity": 0.2
             }
            },
            "type": "bar"
           }
          ],
          "barpolar": [
           {
            "marker": {
             "line": {
              "color": "#E5ECF6",
              "width": 0.5
             },
             "pattern": {
              "fillmode": "overlay",
              "size": 10,
              "solidity": 0.2
             }
            },
            "type": "barpolar"
           }
          ],
          "carpet": [
           {
            "aaxis": {
             "endlinecolor": "#2a3f5f",
             "gridcolor": "white",
             "linecolor": "white",
             "minorgridcolor": "white",
             "startlinecolor": "#2a3f5f"
            },
            "baxis": {
             "endlinecolor": "#2a3f5f",
             "gridcolor": "white",
             "linecolor": "white",
             "minorgridcolor": "white",
             "startlinecolor": "#2a3f5f"
            },
            "type": "carpet"
           }
          ],
          "choropleth": [
           {
            "colorbar": {
             "outlinewidth": 0,
             "ticks": ""
            },
            "type": "choropleth"
           }
          ],
          "contour": [
           {
            "colorbar": {
             "outlinewidth": 0,
             "ticks": ""
            },
            "colorscale": [
             [
              0,
              "#0d0887"
             ],
             [
              0.1111111111111111,
              "#46039f"
             ],
             [
              0.2222222222222222,
              "#7201a8"
             ],
             [
              0.3333333333333333,
              "#9c179e"
             ],
             [
              0.4444444444444444,
              "#bd3786"
             ],
             [
              0.5555555555555556,
              "#d8576b"
             ],
             [
              0.6666666666666666,
              "#ed7953"
             ],
             [
              0.7777777777777778,
              "#fb9f3a"
             ],
             [
              0.8888888888888888,
              "#fdca26"
             ],
             [
              1,
              "#f0f921"
             ]
            ],
            "type": "contour"
           }
          ],
          "contourcarpet": [
           {
            "colorbar": {
             "outlinewidth": 0,
             "ticks": ""
            },
            "type": "contourcarpet"
           }
          ],
          "heatmap": [
           {
            "colorbar": {
             "outlinewidth": 0,
             "ticks": ""
            },
            "colorscale": [
             [
              0,
              "#0d0887"
             ],
             [
              0.1111111111111111,
              "#46039f"
             ],
             [
              0.2222222222222222,
              "#7201a8"
             ],
             [
              0.3333333333333333,
              "#9c179e"
             ],
             [
              0.4444444444444444,
              "#bd3786"
             ],
             [
              0.5555555555555556,
              "#d8576b"
             ],
             [
              0.6666666666666666,
              "#ed7953"
             ],
             [
              0.7777777777777778,
              "#fb9f3a"
             ],
             [
              0.8888888888888888,
              "#fdca26"
             ],
             [
              1,
              "#f0f921"
             ]
            ],
            "type": "heatmap"
           }
          ],
          "histogram": [
           {
            "marker": {
             "pattern": {
              "fillmode": "overlay",
              "size": 10,
              "solidity": 0.2
             }
            },
            "type": "histogram"
           }
          ],
          "histogram2d": [
           {
            "colorbar": {
             "outlinewidth": 0,
             "ticks": ""
            },
            "colorscale": [
             [
              0,
              "#0d0887"
             ],
             [
              0.1111111111111111,
              "#46039f"
             ],
             [
              0.2222222222222222,
              "#7201a8"
             ],
             [
              0.3333333333333333,
              "#9c179e"
             ],
             [
              0.4444444444444444,
              "#bd3786"
             ],
             [
              0.5555555555555556,
              "#d8576b"
             ],
             [
              0.6666666666666666,
              "#ed7953"
             ],
             [
              0.7777777777777778,
              "#fb9f3a"
             ],
             [
              0.8888888888888888,
              "#fdca26"
             ],
             [
              1,
              "#f0f921"
             ]
            ],
            "type": "histogram2d"
           }
          ],
          "histogram2dcontour": [
           {
            "colorbar": {
             "outlinewidth": 0,
             "ticks": ""
            },
            "colorscale": [
             [
              0,
              "#0d0887"
             ],
             [
              0.1111111111111111,
              "#46039f"
             ],
             [
              0.2222222222222222,
              "#7201a8"
             ],
             [
              0.3333333333333333,
              "#9c179e"
             ],
             [
              0.4444444444444444,
              "#bd3786"
             ],
             [
              0.5555555555555556,
              "#d8576b"
             ],
             [
              0.6666666666666666,
              "#ed7953"
             ],
             [
              0.7777777777777778,
              "#fb9f3a"
             ],
             [
              0.8888888888888888,
              "#fdca26"
             ],
             [
              1,
              "#f0f921"
             ]
            ],
            "type": "histogram2dcontour"
           }
          ],
          "mesh3d": [
           {
            "colorbar": {
             "outlinewidth": 0,
             "ticks": ""
            },
            "type": "mesh3d"
           }
          ],
          "parcoords": [
           {
            "line": {
             "colorbar": {
              "outlinewidth": 0,
              "ticks": ""
             }
            },
            "type": "parcoords"
           }
          ],
          "pie": [
           {
            "automargin": true,
            "type": "pie"
           }
          ],
          "scatter": [
           {
            "fillpattern": {
             "fillmode": "overlay",
             "size": 10,
             "solidity": 0.2
            },
            "type": "scatter"
           }
          ],
          "scatter3d": [
           {
            "line": {
             "colorbar": {
              "outlinewidth": 0,
              "ticks": ""
             }
            },
            "marker": {
             "colorbar": {
              "outlinewidth": 0,
              "ticks": ""
             }
            },
            "type": "scatter3d"
           }
          ],
          "scattercarpet": [
           {
            "marker": {
             "colorbar": {
              "outlinewidth": 0,
              "ticks": ""
             }
            },
            "type": "scattercarpet"
           }
          ],
          "scattergeo": [
           {
            "marker": {
             "colorbar": {
              "outlinewidth": 0,
              "ticks": ""
             }
            },
            "type": "scattergeo"
           }
          ],
          "scattergl": [
           {
            "marker": {
             "colorbar": {
              "outlinewidth": 0,
              "ticks": ""
             }
            },
            "type": "scattergl"
           }
          ],
          "scattermap": [
           {
            "marker": {
             "colorbar": {
              "outlinewidth": 0,
              "ticks": ""
             }
            },
            "type": "scattermap"
           }
          ],
          "scattermapbox": [
           {
            "marker": {
             "colorbar": {
              "outlinewidth": 0,
              "ticks": ""
             }
            },
            "type": "scattermapbox"
           }
          ],
          "scatterpolar": [
           {
            "marker": {
             "colorbar": {
              "outlinewidth": 0,
              "ticks": ""
             }
            },
            "type": "scatterpolar"
           }
          ],
          "scatterpolargl": [
           {
            "marker": {
             "colorbar": {
              "outlinewidth": 0,
              "ticks": ""
             }
            },
            "type": "scatterpolargl"
           }
          ],
          "scatterternary": [
           {
            "marker": {
             "colorbar": {
              "outlinewidth": 0,
              "ticks": ""
             }
            },
            "type": "scatterternary"
           }
          ],
          "surface": [
           {
            "colorbar": {
             "outlinewidth": 0,
             "ticks": ""
            },
            "colorscale": [
             [
              0,
              "#0d0887"
             ],
             [
              0.1111111111111111,
              "#46039f"
             ],
             [
              0.2222222222222222,
              "#7201a8"
             ],
             [
              0.3333333333333333,
              "#9c179e"
             ],
             [
              0.4444444444444444,
              "#bd3786"
             ],
             [
              0.5555555555555556,
              "#d8576b"
             ],
             [
              0.6666666666666666,
              "#ed7953"
             ],
             [
              0.7777777777777778,
              "#fb9f3a"
             ],
             [
              0.8888888888888888,
              "#fdca26"
             ],
             [
              1,
              "#f0f921"
             ]
            ],
            "type": "surface"
           }
          ],
          "table": [
           {
            "cells": {
             "fill": {
              "color": "#EBF0F8"
             },
             "line": {
              "color": "white"
             }
            },
            "header": {
             "fill": {
              "color": "#C8D4E3"
             },
             "line": {
              "color": "white"
             }
            },
            "type": "table"
           }
          ]
         },
         "layout": {
          "annotationdefaults": {
           "arrowcolor": "#2a3f5f",
           "arrowhead": 0,
           "arrowwidth": 1
          },
          "autotypenumbers": "strict",
          "coloraxis": {
           "colorbar": {
            "outlinewidth": 0,
            "ticks": ""
           }
          },
          "colorscale": {
           "diverging": [
            [
             0,
             "#8e0152"
            ],
            [
             0.1,
             "#c51b7d"
            ],
            [
             0.2,
             "#de77ae"
            ],
            [
             0.3,
             "#f1b6da"
            ],
            [
             0.4,
             "#fde0ef"
            ],
            [
             0.5,
             "#f7f7f7"
            ],
            [
             0.6,
             "#e6f5d0"
            ],
            [
             0.7,
             "#b8e186"
            ],
            [
             0.8,
             "#7fbc41"
            ],
            [
             0.9,
             "#4d9221"
            ],
            [
             1,
             "#276419"
            ]
           ],
           "sequential": [
            [
             0,
             "#0d0887"
            ],
            [
             0.1111111111111111,
             "#46039f"
            ],
            [
             0.2222222222222222,
             "#7201a8"
            ],
            [
             0.3333333333333333,
             "#9c179e"
            ],
            [
             0.4444444444444444,
             "#bd3786"
            ],
            [
             0.5555555555555556,
             "#d8576b"
            ],
            [
             0.6666666666666666,
             "#ed7953"
            ],
            [
             0.7777777777777778,
             "#fb9f3a"
            ],
            [
             0.8888888888888888,
             "#fdca26"
            ],
            [
             1,
             "#f0f921"
            ]
           ],
           "sequentialminus": [
            [
             0,
             "#0d0887"
            ],
            [
             0.1111111111111111,
             "#46039f"
            ],
            [
             0.2222222222222222,
             "#7201a8"
            ],
            [
             0.3333333333333333,
             "#9c179e"
            ],
            [
             0.4444444444444444,
             "#bd3786"
            ],
            [
             0.5555555555555556,
             "#d8576b"
            ],
            [
             0.6666666666666666,
             "#ed7953"
            ],
            [
             0.7777777777777778,
             "#fb9f3a"
            ],
            [
             0.8888888888888888,
             "#fdca26"
            ],
            [
             1,
             "#f0f921"
            ]
           ]
          },
          "colorway": [
           "#636efa",
           "#EF553B",
           "#00cc96",
           "#ab63fa",
           "#FFA15A",
           "#19d3f3",
           "#FF6692",
           "#B6E880",
           "#FF97FF",
           "#FECB52"
          ],
          "font": {
           "color": "#2a3f5f"
          },
          "geo": {
           "bgcolor": "white",
           "lakecolor": "white",
           "landcolor": "#E5ECF6",
           "showlakes": true,
           "showland": true,
           "subunitcolor": "white"
          },
          "hoverlabel": {
           "align": "left"
          },
          "hovermode": "closest",
          "mapbox": {
           "style": "light"
          },
          "paper_bgcolor": "white",
          "plot_bgcolor": "#E5ECF6",
          "polar": {
           "angularaxis": {
            "gridcolor": "white",
            "linecolor": "white",
            "ticks": ""
           },
           "bgcolor": "#E5ECF6",
           "radialaxis": {
            "gridcolor": "white",
            "linecolor": "white",
            "ticks": ""
           }
          },
          "scene": {
           "xaxis": {
            "backgroundcolor": "#E5ECF6",
            "gridcolor": "white",
            "gridwidth": 2,
            "linecolor": "white",
            "showbackground": true,
            "ticks": "",
            "zerolinecolor": "white"
           },
           "yaxis": {
            "backgroundcolor": "#E5ECF6",
            "gridcolor": "white",
            "gridwidth": 2,
            "linecolor": "white",
            "showbackground": true,
            "ticks": "",
            "zerolinecolor": "white"
           },
           "zaxis": {
            "backgroundcolor": "#E5ECF6",
            "gridcolor": "white",
            "gridwidth": 2,
            "linecolor": "white",
            "showbackground": true,
            "ticks": "",
            "zerolinecolor": "white"
           }
          },
          "shapedefaults": {
           "line": {
            "color": "#2a3f5f"
           }
          },
          "ternary": {
           "aaxis": {
            "gridcolor": "white",
            "linecolor": "white",
            "ticks": ""
           },
           "baxis": {
            "gridcolor": "white",
            "linecolor": "white",
            "ticks": ""
           },
           "bgcolor": "#E5ECF6",
           "caxis": {
            "gridcolor": "white",
            "linecolor": "white",
            "ticks": ""
           }
          },
          "title": {
           "x": 0.05
          },
          "xaxis": {
           "automargin": true,
           "gridcolor": "white",
           "linecolor": "white",
           "ticks": "",
           "title": {
            "standoff": 15
           },
           "zerolinecolor": "white",
           "zerolinewidth": 2
          },
          "yaxis": {
           "automargin": true,
           "gridcolor": "white",
           "linecolor": "white",
           "ticks": "",
           "title": {
            "standoff": 15
           },
           "zerolinecolor": "white",
           "zerolinewidth": 2
          }
         }
        },
        "title": {
         "text": "adobe-mu1gamma1",
         "x": 0.5
        },
        "width": 650,
        "xaxis": {
         "range": [
          0,
          222.04481
         ],
         "title": {
          "text": "Time (s)"
         }
        },
        "yaxis": {
         "categoryarray": [
          "L10",
          "L09",
          "L08",
          "L07",
          "L06",
          "L05",
          "L04",
          "L03",
          "L02",
          "L01"
         ],
         "categoryorder": "array",
         "title": {}
        }
       }
      }
     },
     "metadata": {},
     "output_type": "display_data"
    }
   ],
   "source": [
    "mono_est_depth.plot()"
   ]
  },
  {
   "cell_type": "code",
   "execution_count": 31,
   "metadata": {},
   "outputs": [
    {
     "data": {
      "application/vnd.plotly.v1+json": {
       "config": {
        "plotlyServerURL": "https://plot.ly"
       },
       "data": [
        {
         "base": [
          0,
          0,
          0,
          21.93,
          62.95,
          104.14,
          166.31,
          191.31,
          0,
          104.14,
          191.31,
          0,
          104.77,
          191.95,
          0,
          104.77,
          191.95,
          0,
          104.77,
          191.95,
          0,
          104.77,
          191.95,
          0,
          104.77,
          191.95,
          0,
          104.77,
          191.95,
          0,
          104.77,
          126.02,
          191.95,
          0,
          191.95
         ],
         "customdata": [
          "<b>0</b><br>Layer: L01<br>Start: 0.000s<br>End: 222.045s<br>Duration: 222.045s",
          "<b>0</b><br>Layer: L02<br>Start: 0.000s<br>End: 222.045s<br>Duration: 222.045s",
          "<b>0</b><br>Layer: L03<br>Start: 0.000s<br>End: 10.430s<br>Duration: 10.430s",
          "<b>0</b><br>Layer: L03<br>Start: 21.930s<br>End: 51.380s<br>Duration: 29.450s",
          "<b>0</b><br>Layer: L03<br>Start: 62.950s<br>End: 91.880s<br>Duration: 28.930s",
          "<b>0</b><br>Layer: L03<br>Start: 104.140s<br>End: 152.970s<br>Duration: 48.830s",
          "<b>0</b><br>Layer: L03<br>Start: 166.310s<br>End: 178.470s<br>Duration: 12.160s",
          "<b>0</b><br>Layer: L03<br>Start: 191.310s<br>End: 222.045s<br>Duration: 30.735s",
          "<b>0</b><br>Layer: L04<br>Start: 0.000s<br>End: 10.430s<br>Duration: 10.430s",
          "<b>0</b><br>Layer: L04<br>Start: 104.140s<br>End: 153.600s<br>Duration: 49.460s",
          "<b>0</b><br>Layer: L04<br>Start: 191.310s<br>End: 222.045s<br>Duration: 30.735s",
          "<b>0</b><br>Layer: L05<br>Start: 0.000s<br>End: 9.160s<br>Duration: 9.160s",
          "<b>0</b><br>Layer: L05<br>Start: 104.770s<br>End: 152.360s<br>Duration: 47.590s",
          "<b>0</b><br>Layer: L05<br>Start: 191.950s<br>End: 222.045s<br>Duration: 30.095s",
          "<b>0</b><br>Layer: L06<br>Start: 0.000s<br>End: 9.160s<br>Duration: 9.160s",
          "<b>0</b><br>Layer: L06<br>Start: 104.770s<br>End: 134.480s<br>Duration: 29.710s",
          "<b>0</b><br>Layer: L06<br>Start: 191.950s<br>End: 222.045s<br>Duration: 30.095s",
          "<b>0</b><br>Layer: L07<br>Start: 0.000s<br>End: 9.160s<br>Duration: 9.160s",
          "<b>0</b><br>Layer: L07<br>Start: 104.770s<br>End: 139.600s<br>Duration: 34.830s",
          "<b>0</b><br>Layer: L07<br>Start: 191.950s<br>End: 222.045s<br>Duration: 30.095s",
          "<b>0</b><br>Layer: L08<br>Start: 0.000s<br>End: 8.540s<br>Duration: 8.540s",
          "<b>0</b><br>Layer: L08<br>Start: 104.770s<br>End: 139.600s<br>Duration: 34.830s",
          "<b>0</b><br>Layer: L08<br>Start: 191.950s<br>End: 222.045s<br>Duration: 30.095s",
          "<b>0</b><br>Layer: L09<br>Start: 0.000s<br>End: 8.540s<br>Duration: 8.540s",
          "<b>0</b><br>Layer: L09<br>Start: 104.770s<br>End: 139.600s<br>Duration: 34.830s",
          "<b>0</b><br>Layer: L09<br>Start: 191.950s<br>End: 222.045s<br>Duration: 30.095s",
          "<b>0</b><br>Layer: L10<br>Start: 0.000s<br>End: 8.540s<br>Duration: 8.540s",
          "<b>0</b><br>Layer: L10<br>Start: 104.770s<br>End: 135.780s<br>Duration: 31.010s",
          "<b>0</b><br>Layer: L10<br>Start: 191.950s<br>End: 222.045s<br>Duration: 30.095s",
          "<b>0</b><br>Layer: L11<br>Start: 0.000s<br>End: 8.540s<br>Duration: 8.540s",
          "<b>0</b><br>Layer: L11<br>Start: 104.770s<br>End: 113.100s<br>Duration: 8.330s",
          "<b>0</b><br>Layer: L11<br>Start: 126.020s<br>End: 135.140s<br>Duration: 9.120s",
          "<b>0</b><br>Layer: L11<br>Start: 191.950s<br>End: 222.045s<br>Duration: 30.095s",
          "<b>0</b><br>Layer: L12<br>Start: 0.000s<br>End: 8.540s<br>Duration: 8.540s",
          "<b>0</b><br>Layer: L12<br>Start: 191.950s<br>End: 222.045s<br>Duration: 30.095s"
         ],
         "hovertemplate": "%{customdata}<extra></extra>",
         "insidetextanchor": "middle",
         "marker": {
          "color": "#1F77B4",
          "line": {
           "color": "white",
           "width": 0.5
          },
          "pattern": {
           "fgcolor": "white",
           "fgopacity": 0.5,
           "shape": "",
           "solidity": 0.25
          }
         },
         "name": "0",
         "orientation": "h",
         "showlegend": true,
         "text": [
          "0",
          "0",
          "0",
          "0",
          "0",
          "0",
          "0",
          "0",
          "0",
          "0",
          "0",
          "0",
          "0",
          "0",
          "0",
          "0",
          "0",
          "0",
          "0",
          "0",
          "0",
          "0",
          "0",
          "0",
          "0",
          "0",
          "0",
          "0",
          "0",
          "0",
          "0",
          "0",
          "0",
          "0",
          "0"
         ],
         "textposition": "inside",
         "type": "bar",
         "width": 1,
         "x": [
          222.04481,
          222.04481,
          10.43,
          29.450000000000003,
          28.929999999999993,
          48.83,
          12.159999999999997,
          30.73481000000001,
          10.43,
          49.459999999999994,
          30.73481000000001,
          9.16,
          47.59000000000002,
          30.094810000000024,
          9.16,
          29.709999999999994,
          30.094810000000024,
          9.16,
          34.83,
          30.094810000000024,
          8.54,
          34.83,
          30.094810000000024,
          8.54,
          34.83,
          30.094810000000024,
          8.54,
          31.010000000000005,
          30.094810000000024,
          8.54,
          8.329999999999998,
          9.11999999999999,
          30.094810000000024,
          8.54,
          30.094810000000024
         ],
         "y": [
          "L01",
          "L02",
          "L03",
          "L03",
          "L03",
          "L03",
          "L03",
          "L03",
          "L04",
          "L04",
          "L04",
          "L05",
          "L05",
          "L05",
          "L06",
          "L06",
          "L06",
          "L07",
          "L07",
          "L07",
          "L08",
          "L08",
          "L08",
          "L09",
          "L09",
          "L09",
          "L10",
          "L10",
          "L10",
          "L11",
          "L11",
          "L11",
          "L11",
          "L12",
          "L12"
         ]
        },
        {
         "base": [
          10.43,
          51.38,
          91.88,
          152.97,
          178.47,
          10.43,
          52.02,
          92.5,
          153.6,
          179.12,
          9.16,
          51.38,
          91.88,
          152.36,
          178.47,
          9.16,
          51.38,
          91.88,
          152.36,
          178.47,
          9.16,
          51.38,
          91.88,
          152.97,
          179.12,
          8.54,
          50.74,
          91.25,
          151.71,
          177.83,
          8.54,
          50.74,
          91.25,
          154.84,
          178.47,
          8.54,
          50.74,
          90.6,
          154.84,
          178.47,
          8.54,
          50.11,
          90.6,
          154.84,
          178.47,
          8.54,
          50.11,
          90.6,
          179.12
         ],
         "customdata": [
          "<b>2</b><br>Layer: L03<br>Start: 10.430s<br>End: 21.930s<br>Duration: 11.500s",
          "<b>2</b><br>Layer: L03<br>Start: 51.380s<br>End: 62.950s<br>Duration: 11.570s",
          "<b>2</b><br>Layer: L03<br>Start: 91.880s<br>End: 104.140s<br>Duration: 12.260s",
          "<b>2</b><br>Layer: L03<br>Start: 152.970s<br>End: 166.310s<br>Duration: 13.340s",
          "<b>2</b><br>Layer: L03<br>Start: 178.470s<br>End: 191.310s<br>Duration: 12.840s",
          "<b>2</b><br>Layer: L04<br>Start: 10.430s<br>End: 21.930s<br>Duration: 11.500s",
          "<b>2</b><br>Layer: L04<br>Start: 52.020s<br>End: 62.950s<br>Duration: 10.930s",
          "<b>2</b><br>Layer: L04<br>Start: 92.500s<br>End: 104.140s<br>Duration: 11.640s",
          "<b>2</b><br>Layer: L04<br>Start: 153.600s<br>End: 165.670s<br>Duration: 12.070s",
          "<b>2</b><br>Layer: L04<br>Start: 179.120s<br>End: 191.310s<br>Duration: 12.190s",
          "<b>2</b><br>Layer: L05<br>Start: 9.160s<br>End: 22.560s<br>Duration: 13.400s",
          "<b>2</b><br>Layer: L05<br>Start: 51.380s<br>End: 64.240s<br>Duration: 12.860s",
          "<b>2</b><br>Layer: L05<br>Start: 91.880s<br>End: 104.770s<br>Duration: 12.890s",
          "<b>2</b><br>Layer: L05<br>Start: 152.360s<br>End: 166.960s<br>Duration: 14.600s",
          "<b>2</b><br>Layer: L05<br>Start: 178.470s<br>End: 191.950s<br>Duration: 13.480s",
          "<b>2</b><br>Layer: L06<br>Start: 9.160s<br>End: 22.560s<br>Duration: 13.400s",
          "<b>2</b><br>Layer: L06<br>Start: 51.380s<br>End: 64.240s<br>Duration: 12.860s",
          "<b>2</b><br>Layer: L06<br>Start: 91.880s<br>End: 104.770s<br>Duration: 12.890s",
          "<b>2</b><br>Layer: L06<br>Start: 152.360s<br>End: 166.960s<br>Duration: 14.600s",
          "<b>2</b><br>Layer: L06<br>Start: 178.470s<br>End: 191.950s<br>Duration: 13.480s",
          "<b>2</b><br>Layer: L07<br>Start: 9.160s<br>End: 22.560s<br>Duration: 13.400s",
          "<b>2</b><br>Layer: L07<br>Start: 51.380s<br>End: 64.240s<br>Duration: 12.860s",
          "<b>2</b><br>Layer: L07<br>Start: 91.880s<br>End: 104.770s<br>Duration: 12.890s",
          "<b>2</b><br>Layer: L07<br>Start: 152.970s<br>End: 166.960s<br>Duration: 13.990s",
          "<b>2</b><br>Layer: L07<br>Start: 179.120s<br>End: 191.950s<br>Duration: 12.830s",
          "<b>2</b><br>Layer: L08<br>Start: 8.540s<br>End: 23.210s<br>Duration: 14.670s",
          "<b>2</b><br>Layer: L08<br>Start: 50.740s<br>End: 64.900s<br>Duration: 14.160s",
          "<b>2</b><br>Layer: L08<br>Start: 91.250s<br>End: 104.770s<br>Duration: 13.520s",
          "<b>2</b><br>Layer: L08<br>Start: 151.710s<br>End: 166.960s<br>Duration: 15.250s",
          "<b>2</b><br>Layer: L08<br>Start: 177.830s<br>End: 191.950s<br>Duration: 14.120s",
          "<b>2</b><br>Layer: L09<br>Start: 8.540s<br>End: 23.210s<br>Duration: 14.670s",
          "<b>2</b><br>Layer: L09<br>Start: 50.740s<br>End: 64.900s<br>Duration: 14.160s",
          "<b>2</b><br>Layer: L09<br>Start: 91.250s<br>End: 104.770s<br>Duration: 13.520s",
          "<b>2</b><br>Layer: L09<br>Start: 154.840s<br>End: 166.960s<br>Duration: 12.120s",
          "<b>2</b><br>Layer: L09<br>Start: 178.470s<br>End: 191.950s<br>Duration: 13.480s",
          "<b>2</b><br>Layer: L10<br>Start: 8.540s<br>End: 23.210s<br>Duration: 14.670s",
          "<b>2</b><br>Layer: L10<br>Start: 50.740s<br>End: 64.900s<br>Duration: 14.160s",
          "<b>2</b><br>Layer: L10<br>Start: 90.600s<br>End: 104.770s<br>Duration: 14.170s",
          "<b>2</b><br>Layer: L10<br>Start: 154.840s<br>End: 166.960s<br>Duration: 12.120s",
          "<b>2</b><br>Layer: L10<br>Start: 178.470s<br>End: 191.950s<br>Duration: 13.480s",
          "<b>2</b><br>Layer: L11<br>Start: 8.540s<br>End: 23.210s<br>Duration: 14.670s",
          "<b>2</b><br>Layer: L11<br>Start: 50.110s<br>End: 64.900s<br>Duration: 14.790s",
          "<b>2</b><br>Layer: L11<br>Start: 90.600s<br>End: 104.770s<br>Duration: 14.170s",
          "<b>2</b><br>Layer: L11<br>Start: 154.840s<br>End: 166.960s<br>Duration: 12.120s",
          "<b>2</b><br>Layer: L11<br>Start: 178.470s<br>End: 191.950s<br>Duration: 13.480s",
          "<b>2</b><br>Layer: L12<br>Start: 8.540s<br>End: 23.210s<br>Duration: 14.670s",
          "<b>2</b><br>Layer: L12<br>Start: 50.110s<br>End: 64.900s<br>Duration: 14.790s",
          "<b>2</b><br>Layer: L12<br>Start: 90.600s<br>End: 112.480s<br>Duration: 21.880s",
          "<b>2</b><br>Layer: L12<br>Start: 179.120s<br>End: 191.950s<br>Duration: 12.830s"
         ],
         "hovertemplate": "%{customdata}<extra></extra>",
         "insidetextanchor": "middle",
         "marker": {
          "color": "#FF7F0E",
          "line": {
           "color": "white",
           "width": 0.5
          },
          "pattern": {
           "fgcolor": "white",
           "fgopacity": 0.5,
           "shape": "",
           "solidity": 0.25
          }
         },
         "name": "2",
         "orientation": "h",
         "showlegend": true,
         "text": [
          "2",
          "2",
          "2",
          "2",
          "2",
          "2",
          "2",
          "2",
          "2",
          "2",
          "2",
          "2",
          "2",
          "2",
          "2",
          "2",
          "2",
          "2",
          "2",
          "2",
          "2",
          "2",
          "2",
          "2",
          "2",
          "2",
          "2",
          "2",
          "2",
          "2",
          "2",
          "2",
          "2",
          "2",
          "2",
          "2",
          "2",
          "2",
          "2",
          "2",
          "2",
          "2",
          "2",
          "2",
          "2",
          "2",
          "2",
          "2",
          "2"
         ],
         "textposition": "inside",
         "type": "bar",
         "width": 1,
         "x": [
          11.5,
          11.57,
          12.260000000000005,
          13.340000000000003,
          12.840000000000003,
          11.5,
          10.93,
          11.64,
          12.069999999999993,
          12.189999999999998,
          13.399999999999999,
          12.859999999999992,
          12.89,
          14.599999999999994,
          13.47999999999999,
          13.399999999999999,
          12.859999999999992,
          12.89,
          14.599999999999994,
          13.47999999999999,
          13.399999999999999,
          12.859999999999992,
          12.89,
          13.990000000000009,
          12.829999999999984,
          14.670000000000002,
          14.160000000000004,
          13.519999999999996,
          15.25,
          14.119999999999976,
          14.670000000000002,
          14.160000000000004,
          13.519999999999996,
          12.120000000000005,
          13.47999999999999,
          14.670000000000002,
          14.160000000000004,
          14.170000000000002,
          12.120000000000005,
          13.47999999999999,
          14.670000000000002,
          14.790000000000006,
          14.170000000000002,
          12.120000000000005,
          13.47999999999999,
          14.670000000000002,
          14.790000000000006,
          21.88000000000001,
          12.829999999999984
         ],
         "y": [
          "L03",
          "L03",
          "L03",
          "L03",
          "L03",
          "L04",
          "L04",
          "L04",
          "L04",
          "L04",
          "L05",
          "L05",
          "L05",
          "L05",
          "L05",
          "L06",
          "L06",
          "L06",
          "L06",
          "L06",
          "L07",
          "L07",
          "L07",
          "L07",
          "L07",
          "L08",
          "L08",
          "L08",
          "L08",
          "L08",
          "L09",
          "L09",
          "L09",
          "L09",
          "L09",
          "L10",
          "L10",
          "L10",
          "L10",
          "L10",
          "L11",
          "L11",
          "L11",
          "L11",
          "L11",
          "L12",
          "L12",
          "L12",
          "L12"
         ]
        },
        {
         "base": [
          21.93,
          62.95,
          165.67,
          22.56,
          64.24,
          166.96,
          22.56,
          64.24,
          166.96,
          22.56,
          64.24,
          166.96,
          23.21,
          64.9,
          166.96,
          23.21,
          64.9,
          166.96,
          23.21,
          64.9,
          166.96,
          23.21,
          64.9,
          166.96,
          23.21,
          64.9
         ],
         "customdata": [
          "<b>3</b><br>Layer: L04<br>Start: 21.930s<br>End: 52.020s<br>Duration: 30.090s",
          "<b>3</b><br>Layer: L04<br>Start: 62.950s<br>End: 92.500s<br>Duration: 29.550s",
          "<b>3</b><br>Layer: L04<br>Start: 165.670s<br>End: 179.120s<br>Duration: 13.450s",
          "<b>3</b><br>Layer: L05<br>Start: 22.560s<br>End: 51.380s<br>Duration: 28.820s",
          "<b>3</b><br>Layer: L05<br>Start: 64.240s<br>End: 91.880s<br>Duration: 27.640s",
          "<b>3</b><br>Layer: L05<br>Start: 166.960s<br>End: 178.470s<br>Duration: 11.510s",
          "<b>3</b><br>Layer: L06<br>Start: 22.560s<br>End: 51.380s<br>Duration: 28.820s",
          "<b>3</b><br>Layer: L06<br>Start: 64.240s<br>End: 91.880s<br>Duration: 27.640s",
          "<b>3</b><br>Layer: L06<br>Start: 166.960s<br>End: 178.470s<br>Duration: 11.510s",
          "<b>3</b><br>Layer: L07<br>Start: 22.560s<br>End: 51.380s<br>Duration: 28.820s",
          "<b>3</b><br>Layer: L07<br>Start: 64.240s<br>End: 91.880s<br>Duration: 27.640s",
          "<b>3</b><br>Layer: L07<br>Start: 166.960s<br>End: 179.120s<br>Duration: 12.160s",
          "<b>3</b><br>Layer: L08<br>Start: 23.210s<br>End: 50.740s<br>Duration: 27.530s",
          "<b>3</b><br>Layer: L08<br>Start: 64.900s<br>End: 91.250s<br>Duration: 26.350s",
          "<b>3</b><br>Layer: L08<br>Start: 166.960s<br>End: 177.830s<br>Duration: 10.870s",
          "<b>3</b><br>Layer: L09<br>Start: 23.210s<br>End: 50.740s<br>Duration: 27.530s",
          "<b>3</b><br>Layer: L09<br>Start: 64.900s<br>End: 91.250s<br>Duration: 26.350s",
          "<b>3</b><br>Layer: L09<br>Start: 166.960s<br>End: 178.470s<br>Duration: 11.510s",
          "<b>3</b><br>Layer: L10<br>Start: 23.210s<br>End: 50.740s<br>Duration: 27.530s",
          "<b>3</b><br>Layer: L10<br>Start: 64.900s<br>End: 82.260s<br>Duration: 17.360s",
          "<b>3</b><br>Layer: L10<br>Start: 166.960s<br>End: 178.470s<br>Duration: 11.510s",
          "<b>3</b><br>Layer: L11<br>Start: 23.210s<br>End: 50.110s<br>Duration: 26.900s",
          "<b>3</b><br>Layer: L11<br>Start: 64.900s<br>End: 90.600s<br>Duration: 25.700s",
          "<b>3</b><br>Layer: L11<br>Start: 166.960s<br>End: 178.470s<br>Duration: 11.510s",
          "<b>3</b><br>Layer: L12<br>Start: 23.210s<br>End: 50.110s<br>Duration: 26.900s",
          "<b>3</b><br>Layer: L12<br>Start: 64.900s<br>End: 90.600s<br>Duration: 25.700s"
         ],
         "hovertemplate": "%{customdata}<extra></extra>",
         "insidetextanchor": "middle",
         "marker": {
          "color": "#2CA02C",
          "line": {
           "color": "white",
           "width": 0.5
          },
          "pattern": {
           "fgcolor": "white",
           "fgopacity": 0.5,
           "shape": "",
           "solidity": 0.25
          }
         },
         "name": "3",
         "orientation": "h",
         "showlegend": true,
         "text": [
          "3",
          "3",
          "3",
          "3",
          "3",
          "3",
          "3",
          "3",
          "3",
          "3",
          "3",
          "3",
          "3",
          "3",
          "3",
          "3",
          "3",
          "3",
          "3",
          "3",
          "3",
          "3",
          "3",
          "3",
          "3",
          "3"
         ],
         "textposition": "inside",
         "type": "bar",
         "width": 1,
         "x": [
          30.090000000000003,
          29.549999999999997,
          13.450000000000017,
          28.820000000000004,
          27.64,
          11.509999999999991,
          28.820000000000004,
          27.64,
          11.509999999999991,
          28.820000000000004,
          27.64,
          12.159999999999997,
          27.53,
          26.349999999999994,
          10.870000000000005,
          27.53,
          26.349999999999994,
          11.509999999999991,
          27.53,
          17.36,
          11.509999999999991,
          26.9,
          25.69999999999999,
          11.509999999999991,
          26.9,
          25.69999999999999
         ],
         "y": [
          "L04",
          "L04",
          "L04",
          "L05",
          "L05",
          "L05",
          "L06",
          "L06",
          "L06",
          "L07",
          "L07",
          "L07",
          "L08",
          "L08",
          "L08",
          "L09",
          "L09",
          "L09",
          "L10",
          "L10",
          "L10",
          "L11",
          "L11",
          "L11",
          "L12",
          "L12"
         ]
        },
        {
         "base": [
          134.48,
          139.6,
          139.6,
          139.6,
          135.78,
          113.1,
          135.14,
          112.48
         ],
         "customdata": [
          "<b>5</b><br>Layer: L06<br>Start: 134.480s<br>End: 152.360s<br>Duration: 17.880s",
          "<b>5</b><br>Layer: L07<br>Start: 139.600s<br>End: 152.970s<br>Duration: 13.370s",
          "<b>5</b><br>Layer: L08<br>Start: 139.600s<br>End: 151.710s<br>Duration: 12.110s",
          "<b>5</b><br>Layer: L09<br>Start: 139.600s<br>End: 154.840s<br>Duration: 15.240s",
          "<b>5</b><br>Layer: L10<br>Start: 135.780s<br>End: 144.070s<br>Duration: 8.290s",
          "<b>5</b><br>Layer: L11<br>Start: 113.100s<br>End: 126.020s<br>Duration: 12.920s",
          "<b>5</b><br>Layer: L11<br>Start: 135.140s<br>End: 145.360s<br>Duration: 10.220s",
          "<b>5</b><br>Layer: L12<br>Start: 112.480s<br>End: 145.360s<br>Duration: 32.880s"
         ],
         "hovertemplate": "%{customdata}<extra></extra>",
         "insidetextanchor": "middle",
         "marker": {
          "color": "#D62728",
          "line": {
           "color": "white",
           "width": 0.5
          },
          "pattern": {
           "fgcolor": "white",
           "fgopacity": 0.5,
           "shape": "",
           "solidity": 0.25
          }
         },
         "name": "5",
         "orientation": "h",
         "showlegend": true,
         "text": [
          "5",
          "5",
          "5",
          "5",
          "5",
          "5",
          "5",
          "5"
         ],
         "textposition": "inside",
         "type": "bar",
         "width": 1,
         "x": [
          17.880000000000024,
          13.370000000000005,
          12.110000000000014,
          15.240000000000009,
          8.289999999999992,
          12.920000000000002,
          10.220000000000027,
          32.88000000000001
         ],
         "y": [
          "L06",
          "L07",
          "L08",
          "L09",
          "L10",
          "L11",
          "L11",
          "L12"
         ]
        },
        {
         "base": [
          82.26
         ],
         "customdata": [
          "<b>8</b><br>Layer: L10<br>Start: 82.260s<br>End: 90.600s<br>Duration: 8.340s"
         ],
         "hovertemplate": "%{customdata}<extra></extra>",
         "insidetextanchor": "middle",
         "marker": {
          "color": "#9467BD",
          "line": {
           "color": "white",
           "width": 0.5
          },
          "pattern": {
           "fgcolor": "white",
           "fgopacity": 0.5,
           "shape": "",
           "solidity": 0.25
          }
         },
         "name": "8",
         "orientation": "h",
         "showlegend": true,
         "text": [
          "8"
         ],
         "textposition": "inside",
         "type": "bar",
         "width": 1,
         "x": [
          8.33999999999999
         ],
         "y": [
          "L10"
         ]
        },
        {
         "base": [
          144.07,
          145.36,
          145.36
         ],
         "customdata": [
          "<b>6</b><br>Layer: L10<br>Start: 144.070s<br>End: 154.840s<br>Duration: 10.770s",
          "<b>6</b><br>Layer: L11<br>Start: 145.360s<br>End: 154.840s<br>Duration: 9.480s",
          "<b>6</b><br>Layer: L12<br>Start: 145.360s<br>End: 154.840s<br>Duration: 9.480s"
         ],
         "hovertemplate": "%{customdata}<extra></extra>",
         "insidetextanchor": "middle",
         "marker": {
          "color": "#8C564B",
          "line": {
           "color": "white",
           "width": 0.5
          },
          "pattern": {
           "fgcolor": "white",
           "fgopacity": 0.5,
           "shape": "",
           "solidity": 0.25
          }
         },
         "name": "6",
         "orientation": "h",
         "showlegend": true,
         "text": [
          "6",
          "6",
          "6"
         ],
         "textposition": "inside",
         "type": "bar",
         "width": 1,
         "x": [
          10.77000000000001,
          9.47999999999999,
          9.47999999999999
         ],
         "y": [
          "L10",
          "L11",
          "L12"
         ]
        },
        {
         "base": [
          154.84
         ],
         "customdata": [
          "<b>11</b><br>Layer: L12<br>Start: 154.840s<br>End: 179.120s<br>Duration: 24.280s"
         ],
         "hovertemplate": "%{customdata}<extra></extra>",
         "insidetextanchor": "middle",
         "marker": {
          "color": "#E377C2",
          "line": {
           "color": "white",
           "width": 0.5
          },
          "pattern": {
           "fgcolor": "white",
           "fgopacity": 0.5,
           "shape": "",
           "solidity": 0.25
          }
         },
         "name": "11",
         "orientation": "h",
         "showlegend": true,
         "text": [
          "11"
         ],
         "textposition": "inside",
         "type": "bar",
         "width": 1,
         "x": [
          24.28
         ],
         "y": [
          "L12"
         ]
        }
       ],
       "layout": {
        "barmode": "overlay",
        "height": 370,
        "margin": {
         "b": 20,
         "l": 20,
         "r": 20,
         "t": 40
        },
        "showlegend": false,
        "template": {
         "data": {
          "bar": [
           {
            "error_x": {
             "color": "#2a3f5f"
            },
            "error_y": {
             "color": "#2a3f5f"
            },
            "marker": {
             "line": {
              "color": "#E5ECF6",
              "width": 0.5
             },
             "pattern": {
              "fillmode": "overlay",
              "size": 10,
              "solidity": 0.2
             }
            },
            "type": "bar"
           }
          ],
          "barpolar": [
           {
            "marker": {
             "line": {
              "color": "#E5ECF6",
              "width": 0.5
             },
             "pattern": {
              "fillmode": "overlay",
              "size": 10,
              "solidity": 0.2
             }
            },
            "type": "barpolar"
           }
          ],
          "carpet": [
           {
            "aaxis": {
             "endlinecolor": "#2a3f5f",
             "gridcolor": "white",
             "linecolor": "white",
             "minorgridcolor": "white",
             "startlinecolor": "#2a3f5f"
            },
            "baxis": {
             "endlinecolor": "#2a3f5f",
             "gridcolor": "white",
             "linecolor": "white",
             "minorgridcolor": "white",
             "startlinecolor": "#2a3f5f"
            },
            "type": "carpet"
           }
          ],
          "choropleth": [
           {
            "colorbar": {
             "outlinewidth": 0,
             "ticks": ""
            },
            "type": "choropleth"
           }
          ],
          "contour": [
           {
            "colorbar": {
             "outlinewidth": 0,
             "ticks": ""
            },
            "colorscale": [
             [
              0,
              "#0d0887"
             ],
             [
              0.1111111111111111,
              "#46039f"
             ],
             [
              0.2222222222222222,
              "#7201a8"
             ],
             [
              0.3333333333333333,
              "#9c179e"
             ],
             [
              0.4444444444444444,
              "#bd3786"
             ],
             [
              0.5555555555555556,
              "#d8576b"
             ],
             [
              0.6666666666666666,
              "#ed7953"
             ],
             [
              0.7777777777777778,
              "#fb9f3a"
             ],
             [
              0.8888888888888888,
              "#fdca26"
             ],
             [
              1,
              "#f0f921"
             ]
            ],
            "type": "contour"
           }
          ],
          "contourcarpet": [
           {
            "colorbar": {
             "outlinewidth": 0,
             "ticks": ""
            },
            "type": "contourcarpet"
           }
          ],
          "heatmap": [
           {
            "colorbar": {
             "outlinewidth": 0,
             "ticks": ""
            },
            "colorscale": [
             [
              0,
              "#0d0887"
             ],
             [
              0.1111111111111111,
              "#46039f"
             ],
             [
              0.2222222222222222,
              "#7201a8"
             ],
             [
              0.3333333333333333,
              "#9c179e"
             ],
             [
              0.4444444444444444,
              "#bd3786"
             ],
             [
              0.5555555555555556,
              "#d8576b"
             ],
             [
              0.6666666666666666,
              "#ed7953"
             ],
             [
              0.7777777777777778,
              "#fb9f3a"
             ],
             [
              0.8888888888888888,
              "#fdca26"
             ],
             [
              1,
              "#f0f921"
             ]
            ],
            "type": "heatmap"
           }
          ],
          "histogram": [
           {
            "marker": {
             "pattern": {
              "fillmode": "overlay",
              "size": 10,
              "solidity": 0.2
             }
            },
            "type": "histogram"
           }
          ],
          "histogram2d": [
           {
            "colorbar": {
             "outlinewidth": 0,
             "ticks": ""
            },
            "colorscale": [
             [
              0,
              "#0d0887"
             ],
             [
              0.1111111111111111,
              "#46039f"
             ],
             [
              0.2222222222222222,
              "#7201a8"
             ],
             [
              0.3333333333333333,
              "#9c179e"
             ],
             [
              0.4444444444444444,
              "#bd3786"
             ],
             [
              0.5555555555555556,
              "#d8576b"
             ],
             [
              0.6666666666666666,
              "#ed7953"
             ],
             [
              0.7777777777777778,
              "#fb9f3a"
             ],
             [
              0.8888888888888888,
              "#fdca26"
             ],
             [
              1,
              "#f0f921"
             ]
            ],
            "type": "histogram2d"
           }
          ],
          "histogram2dcontour": [
           {
            "colorbar": {
             "outlinewidth": 0,
             "ticks": ""
            },
            "colorscale": [
             [
              0,
              "#0d0887"
             ],
             [
              0.1111111111111111,
              "#46039f"
             ],
             [
              0.2222222222222222,
              "#7201a8"
             ],
             [
              0.3333333333333333,
              "#9c179e"
             ],
             [
              0.4444444444444444,
              "#bd3786"
             ],
             [
              0.5555555555555556,
              "#d8576b"
             ],
             [
              0.6666666666666666,
              "#ed7953"
             ],
             [
              0.7777777777777778,
              "#fb9f3a"
             ],
             [
              0.8888888888888888,
              "#fdca26"
             ],
             [
              1,
              "#f0f921"
             ]
            ],
            "type": "histogram2dcontour"
           }
          ],
          "mesh3d": [
           {
            "colorbar": {
             "outlinewidth": 0,
             "ticks": ""
            },
            "type": "mesh3d"
           }
          ],
          "parcoords": [
           {
            "line": {
             "colorbar": {
              "outlinewidth": 0,
              "ticks": ""
             }
            },
            "type": "parcoords"
           }
          ],
          "pie": [
           {
            "automargin": true,
            "type": "pie"
           }
          ],
          "scatter": [
           {
            "fillpattern": {
             "fillmode": "overlay",
             "size": 10,
             "solidity": 0.2
            },
            "type": "scatter"
           }
          ],
          "scatter3d": [
           {
            "line": {
             "colorbar": {
              "outlinewidth": 0,
              "ticks": ""
             }
            },
            "marker": {
             "colorbar": {
              "outlinewidth": 0,
              "ticks": ""
             }
            },
            "type": "scatter3d"
           }
          ],
          "scattercarpet": [
           {
            "marker": {
             "colorbar": {
              "outlinewidth": 0,
              "ticks": ""
             }
            },
            "type": "scattercarpet"
           }
          ],
          "scattergeo": [
           {
            "marker": {
             "colorbar": {
              "outlinewidth": 0,
              "ticks": ""
             }
            },
            "type": "scattergeo"
           }
          ],
          "scattergl": [
           {
            "marker": {
             "colorbar": {
              "outlinewidth": 0,
              "ticks": ""
             }
            },
            "type": "scattergl"
           }
          ],
          "scattermap": [
           {
            "marker": {
             "colorbar": {
              "outlinewidth": 0,
              "ticks": ""
             }
            },
            "type": "scattermap"
           }
          ],
          "scattermapbox": [
           {
            "marker": {
             "colorbar": {
              "outlinewidth": 0,
              "ticks": ""
             }
            },
            "type": "scattermapbox"
           }
          ],
          "scatterpolar": [
           {
            "marker": {
             "colorbar": {
              "outlinewidth": 0,
              "ticks": ""
             }
            },
            "type": "scatterpolar"
           }
          ],
          "scatterpolargl": [
           {
            "marker": {
             "colorbar": {
              "outlinewidth": 0,
              "ticks": ""
             }
            },
            "type": "scatterpolargl"
           }
          ],
          "scatterternary": [
           {
            "marker": {
             "colorbar": {
              "outlinewidth": 0,
              "ticks": ""
             }
            },
            "type": "scatterternary"
           }
          ],
          "surface": [
           {
            "colorbar": {
             "outlinewidth": 0,
             "ticks": ""
            },
            "colorscale": [
             [
              0,
              "#0d0887"
             ],
             [
              0.1111111111111111,
              "#46039f"
             ],
             [
              0.2222222222222222,
              "#7201a8"
             ],
             [
              0.3333333333333333,
              "#9c179e"
             ],
             [
              0.4444444444444444,
              "#bd3786"
             ],
             [
              0.5555555555555556,
              "#d8576b"
             ],
             [
              0.6666666666666666,
              "#ed7953"
             ],
             [
              0.7777777777777778,
              "#fb9f3a"
             ],
             [
              0.8888888888888888,
              "#fdca26"
             ],
             [
              1,
              "#f0f921"
             ]
            ],
            "type": "surface"
           }
          ],
          "table": [
           {
            "cells": {
             "fill": {
              "color": "#EBF0F8"
             },
             "line": {
              "color": "white"
             }
            },
            "header": {
             "fill": {
              "color": "#C8D4E3"
             },
             "line": {
              "color": "white"
             }
            },
            "type": "table"
           }
          ]
         },
         "layout": {
          "annotationdefaults": {
           "arrowcolor": "#2a3f5f",
           "arrowhead": 0,
           "arrowwidth": 1
          },
          "autotypenumbers": "strict",
          "coloraxis": {
           "colorbar": {
            "outlinewidth": 0,
            "ticks": ""
           }
          },
          "colorscale": {
           "diverging": [
            [
             0,
             "#8e0152"
            ],
            [
             0.1,
             "#c51b7d"
            ],
            [
             0.2,
             "#de77ae"
            ],
            [
             0.3,
             "#f1b6da"
            ],
            [
             0.4,
             "#fde0ef"
            ],
            [
             0.5,
             "#f7f7f7"
            ],
            [
             0.6,
             "#e6f5d0"
            ],
            [
             0.7,
             "#b8e186"
            ],
            [
             0.8,
             "#7fbc41"
            ],
            [
             0.9,
             "#4d9221"
            ],
            [
             1,
             "#276419"
            ]
           ],
           "sequential": [
            [
             0,
             "#0d0887"
            ],
            [
             0.1111111111111111,
             "#46039f"
            ],
            [
             0.2222222222222222,
             "#7201a8"
            ],
            [
             0.3333333333333333,
             "#9c179e"
            ],
            [
             0.4444444444444444,
             "#bd3786"
            ],
            [
             0.5555555555555556,
             "#d8576b"
            ],
            [
             0.6666666666666666,
             "#ed7953"
            ],
            [
             0.7777777777777778,
             "#fb9f3a"
            ],
            [
             0.8888888888888888,
             "#fdca26"
            ],
            [
             1,
             "#f0f921"
            ]
           ],
           "sequentialminus": [
            [
             0,
             "#0d0887"
            ],
            [
             0.1111111111111111,
             "#46039f"
            ],
            [
             0.2222222222222222,
             "#7201a8"
            ],
            [
             0.3333333333333333,
             "#9c179e"
            ],
            [
             0.4444444444444444,
             "#bd3786"
            ],
            [
             0.5555555555555556,
             "#d8576b"
            ],
            [
             0.6666666666666666,
             "#ed7953"
            ],
            [
             0.7777777777777778,
             "#fb9f3a"
            ],
            [
             0.8888888888888888,
             "#fdca26"
            ],
            [
             1,
             "#f0f921"
            ]
           ]
          },
          "colorway": [
           "#636efa",
           "#EF553B",
           "#00cc96",
           "#ab63fa",
           "#FFA15A",
           "#19d3f3",
           "#FF6692",
           "#B6E880",
           "#FF97FF",
           "#FECB52"
          ],
          "font": {
           "color": "#2a3f5f"
          },
          "geo": {
           "bgcolor": "white",
           "lakecolor": "white",
           "landcolor": "#E5ECF6",
           "showlakes": true,
           "showland": true,
           "subunitcolor": "white"
          },
          "hoverlabel": {
           "align": "left"
          },
          "hovermode": "closest",
          "mapbox": {
           "style": "light"
          },
          "paper_bgcolor": "white",
          "plot_bgcolor": "#E5ECF6",
          "polar": {
           "angularaxis": {
            "gridcolor": "white",
            "linecolor": "white",
            "ticks": ""
           },
           "bgcolor": "#E5ECF6",
           "radialaxis": {
            "gridcolor": "white",
            "linecolor": "white",
            "ticks": ""
           }
          },
          "scene": {
           "xaxis": {
            "backgroundcolor": "#E5ECF6",
            "gridcolor": "white",
            "gridwidth": 2,
            "linecolor": "white",
            "showbackground": true,
            "ticks": "",
            "zerolinecolor": "white"
           },
           "yaxis": {
            "backgroundcolor": "#E5ECF6",
            "gridcolor": "white",
            "gridwidth": 2,
            "linecolor": "white",
            "showbackground": true,
            "ticks": "",
            "zerolinecolor": "white"
           },
           "zaxis": {
            "backgroundcolor": "#E5ECF6",
            "gridcolor": "white",
            "gridwidth": 2,
            "linecolor": "white",
            "showbackground": true,
            "ticks": "",
            "zerolinecolor": "white"
           }
          },
          "shapedefaults": {
           "line": {
            "color": "#2a3f5f"
           }
          },
          "ternary": {
           "aaxis": {
            "gridcolor": "white",
            "linecolor": "white",
            "ticks": ""
           },
           "baxis": {
            "gridcolor": "white",
            "linecolor": "white",
            "ticks": ""
           },
           "bgcolor": "#E5ECF6",
           "caxis": {
            "gridcolor": "white",
            "linecolor": "white",
            "ticks": ""
           }
          },
          "title": {
           "x": 0.05
          },
          "xaxis": {
           "automargin": true,
           "gridcolor": "white",
           "linecolor": "white",
           "ticks": "",
           "title": {
            "standoff": 15
           },
           "zerolinecolor": "white",
           "zerolinewidth": 2
          },
          "yaxis": {
           "automargin": true,
           "gridcolor": "white",
           "linecolor": "white",
           "ticks": "",
           "title": {
            "standoff": 15
           },
           "zerolinecolor": "white",
           "zerolinewidth": 2
          }
         }
        },
        "title": {
         "text": "adobe-mu1gamma1",
         "x": 0.5
        },
        "width": 650,
        "xaxis": {
         "range": [
          0,
          222.04481
         ],
         "title": {
          "text": "Time (s)"
         }
        },
        "yaxis": {
         "categoryarray": [
          "L12",
          "L11",
          "L10",
          "L09",
          "L08",
          "L07",
          "L06",
          "L05",
          "L04",
          "L03",
          "L02",
          "L01"
         ],
         "categoryorder": "array",
         "title": {}
        }
       }
      }
     },
     "metadata": {},
     "output_type": "display_data"
    }
   ],
   "source": [
    "aligned_est.plot()"
   ]
  },
  {
   "cell_type": "code",
   "execution_count": 53,
   "metadata": {},
   "outputs": [
    {
     "name": "stdout",
     "output_type": "stream",
     "text": [
      "[[0.66127564 0.51144347 0.57678792]\n",
      " [0.69308449 0.53833029 0.60598327]\n",
      " [0.4956261  0.39625926 0.44040734]\n",
      " [0.21179284 0.40614068 0.27840434]]\n"
     ]
    }
   ],
   "source": [
    "import mir_eval\n",
    "import numpy as np\n",
    "from warnings import filterwarnings\n",
    "filterwarnings(\"ignore\")\n",
    "\n",
    "mono_est_depth = aligned_est.to_contour('depth').to_multisegment()\n",
    "\n",
    "a = mir_eval.hierarchy.tmeasure(ref.itvls, aligned_est.itvls[2:6], transitive=True)\n",
    "b = mir_eval.hierarchy.tmeasure(ref.itvls, mono_est_depth.itvls[2:6], transitive=True)\n",
    "c = mir_eval.hierarchy.tmeasure(ref.itvls, aligned_est.itvls[2:6], transitive=False)\n",
    "d = mir_eval.hierarchy.tmeasure(ref.itvls, mono_est_depth.itvls[2:6], transitive=False)\n",
    "\n",
    "\n",
    "print(np.array([a, b, c, d]))"
   ]
  },
  {
   "cell_type": "code",
   "execution_count": 77,
   "metadata": {},
   "outputs": [
    {
     "name": "stdout",
     "output_type": "stream",
     "text": [
      "Raw: reduced (tran=False)\n",
      "  (0.49562610225667814, 0.3962592551085229, 0.44040734264942816)\n",
      "Raw: full (tran=True)\n",
      "  (0.6612756416093231, 0.5114434653772998, 0.576787917412396)\n",
      "Mono: reduced (tran=False)\n",
      "  (0.21179283577992608, 0.40614068329499714, 0.27840434087284016)\n",
      "Mono: full (tran=True)\n",
      "  (0.6930844877333746, 0.5383302933543088, 0.60598326629029)\n"
     ]
    },
    {
     "data": {
      "application/vnd.plotly.v1+json": {
       "config": {
        "plotlyServerURL": "https://plot.ly"
       },
       "data": [
        {
         "base": [
          0,
          0.24381,
          31.50404,
          52.07542,
          62.36245,
          72.63848,
          93.22336,
          103.57853,
          154.88533,
          165.00934,
          180.44671,
          190.76401,
          0,
          0.24381,
          11.05168,
          21.27066,
          31.50404,
          41.80308,
          52.07542,
          62.36245,
          72.63848,
          83.00048,
          93.22336,
          103.57853,
          113.90635,
          124.0678,
          134.47696,
          144.71481,
          154.88533,
          165.00934,
          175.3558,
          180.44671,
          190.76401,
          200.92048,
          211.08254
         ],
         "customdata": [
          "<b></b><br>Layer: coarse<br>Start: 0.000s<br>End: 0.244s<br>Duration: 0.244s",
          "<b></b><br>Layer: coarse<br>Start: 0.244s<br>End: 31.504s<br>Duration: 31.260s",
          "<b></b><br>Layer: coarse<br>Start: 31.504s<br>End: 52.075s<br>Duration: 20.571s",
          "<b></b><br>Layer: coarse<br>Start: 52.075s<br>End: 62.362s<br>Duration: 10.287s",
          "<b></b><br>Layer: coarse<br>Start: 62.362s<br>End: 72.638s<br>Duration: 10.276s",
          "<b></b><br>Layer: coarse<br>Start: 72.638s<br>End: 93.223s<br>Duration: 20.585s",
          "<b></b><br>Layer: coarse<br>Start: 93.223s<br>End: 103.579s<br>Duration: 10.355s",
          "<b></b><br>Layer: coarse<br>Start: 103.579s<br>End: 154.885s<br>Duration: 51.307s",
          "<b></b><br>Layer: coarse<br>Start: 154.885s<br>End: 165.009s<br>Duration: 10.124s",
          "<b></b><br>Layer: coarse<br>Start: 165.009s<br>End: 180.447s<br>Duration: 15.437s",
          "<b></b><br>Layer: coarse<br>Start: 180.447s<br>End: 190.764s<br>Duration: 10.317s",
          "<b></b><br>Layer: coarse<br>Start: 190.764s<br>End: 222.061s<br>Duration: 31.297s",
          "<b></b><br>Layer: fine<br>Start: 0.000s<br>End: 0.244s<br>Duration: 0.244s",
          "<b></b><br>Layer: fine<br>Start: 0.244s<br>End: 11.052s<br>Duration: 10.808s",
          "<b></b><br>Layer: fine<br>Start: 11.052s<br>End: 21.271s<br>Duration: 10.219s",
          "<b></b><br>Layer: fine<br>Start: 21.271s<br>End: 31.504s<br>Duration: 10.233s",
          "<b></b><br>Layer: fine<br>Start: 31.504s<br>End: 41.803s<br>Duration: 10.299s",
          "<b></b><br>Layer: fine<br>Start: 41.803s<br>End: 52.075s<br>Duration: 10.272s",
          "<b></b><br>Layer: fine<br>Start: 52.075s<br>End: 62.362s<br>Duration: 10.287s",
          "<b></b><br>Layer: fine<br>Start: 62.362s<br>End: 72.638s<br>Duration: 10.276s",
          "<b></b><br>Layer: fine<br>Start: 72.638s<br>End: 83.000s<br>Duration: 10.362s",
          "<b></b><br>Layer: fine<br>Start: 83.000s<br>End: 93.223s<br>Duration: 10.223s",
          "<b></b><br>Layer: fine<br>Start: 93.223s<br>End: 103.579s<br>Duration: 10.355s",
          "<b></b><br>Layer: fine<br>Start: 103.579s<br>End: 113.906s<br>Duration: 10.328s",
          "<b></b><br>Layer: fine<br>Start: 113.906s<br>End: 124.068s<br>Duration: 10.161s",
          "<b></b><br>Layer: fine<br>Start: 124.068s<br>End: 134.477s<br>Duration: 10.409s",
          "<b></b><br>Layer: fine<br>Start: 134.477s<br>End: 144.715s<br>Duration: 10.238s",
          "<b></b><br>Layer: fine<br>Start: 144.715s<br>End: 154.885s<br>Duration: 10.171s",
          "<b></b><br>Layer: fine<br>Start: 154.885s<br>End: 165.009s<br>Duration: 10.124s",
          "<b></b><br>Layer: fine<br>Start: 165.009s<br>End: 175.356s<br>Duration: 10.346s",
          "<b></b><br>Layer: fine<br>Start: 175.356s<br>End: 180.447s<br>Duration: 5.091s",
          "<b></b><br>Layer: fine<br>Start: 180.447s<br>End: 190.764s<br>Duration: 10.317s",
          "<b></b><br>Layer: fine<br>Start: 190.764s<br>End: 200.920s<br>Duration: 10.156s",
          "<b></b><br>Layer: fine<br>Start: 200.920s<br>End: 211.083s<br>Duration: 10.162s",
          "<b></b><br>Layer: fine<br>Start: 211.083s<br>End: 222.061s<br>Duration: 10.979s"
         ],
         "hovertemplate": "%{customdata}<extra></extra>",
         "insidetextanchor": "middle",
         "marker": {
          "color": "#1F77B4",
          "line": {
           "color": "white",
           "width": 0.5
          },
          "pattern": {
           "fgcolor": "white",
           "fgopacity": 0.5,
           "shape": "",
           "solidity": 0.25
          }
         },
         "name": "",
         "orientation": "h",
         "showlegend": true,
         "text": [
          "",
          "",
          "",
          "",
          "",
          "",
          "",
          "",
          "",
          "",
          "",
          "",
          "",
          "",
          "",
          "",
          "",
          "",
          "",
          "",
          "",
          "",
          "",
          "",
          "",
          "",
          "",
          "",
          "",
          "",
          "",
          "",
          "",
          "",
          ""
         ],
         "textposition": "inside",
         "type": "bar",
         "width": 1,
         "x": [
          0.24381,
          31.26023,
          20.57138,
          10.287030000000001,
          10.276029999999999,
          20.58488,
          10.355170000000001,
          51.30680000000001,
          10.124009999999998,
          15.437369999999987,
          10.317300000000017,
          31.2971,
          0.24381,
          10.80787,
          10.21898,
          10.23338,
          10.299040000000002,
          10.27234,
          10.287030000000001,
          10.276029999999999,
          10.361999999999995,
          10.222880000000004,
          10.355170000000001,
          10.327820000000003,
          10.161450000000002,
          10.409159999999986,
          10.237850000000009,
          10.17052000000001,
          10.124009999999998,
          10.34645999999998,
          5.090910000000008,
          10.317300000000017,
          10.156469999999985,
          10.162059999999997,
          10.978570000000019
         ],
         "xaxis": "x",
         "y": [
          "coarse",
          "coarse",
          "coarse",
          "coarse",
          "coarse",
          "coarse",
          "coarse",
          "coarse",
          "coarse",
          "coarse",
          "coarse",
          "coarse",
          "fine",
          "fine",
          "fine",
          "fine",
          "fine",
          "fine",
          "fine",
          "fine",
          "fine",
          "fine",
          "fine",
          "fine",
          "fine",
          "fine",
          "fine",
          "fine",
          "fine",
          "fine",
          "fine",
          "fine",
          "fine",
          "fine",
          "fine"
         ],
         "yaxis": "y"
        },
        {
         "base": [
          0,
          10.43,
          21.93,
          51.38,
          62.95,
          91.88,
          104.14,
          152.97,
          166.31,
          178.47,
          191.31,
          0,
          10.43,
          21.93,
          52.02,
          62.95,
          92.5,
          104.14,
          153.6,
          165.67,
          179.12,
          191.31,
          0,
          9.16,
          22.56,
          51.38,
          64.24,
          91.88,
          104.77,
          152.36,
          166.96,
          178.47,
          191.95,
          0,
          9.16,
          22.56,
          51.38,
          64.24,
          91.88,
          104.77,
          134.48,
          152.36,
          166.96,
          178.47,
          191.95
         ],
         "customdata": [
          "<b></b><br>Layer: L03<br>Start: 0.000s<br>End: 10.430s<br>Duration: 10.430s",
          "<b></b><br>Layer: L03<br>Start: 10.430s<br>End: 21.930s<br>Duration: 11.500s",
          "<b></b><br>Layer: L03<br>Start: 21.930s<br>End: 51.380s<br>Duration: 29.450s",
          "<b></b><br>Layer: L03<br>Start: 51.380s<br>End: 62.950s<br>Duration: 11.570s",
          "<b></b><br>Layer: L03<br>Start: 62.950s<br>End: 91.880s<br>Duration: 28.930s",
          "<b></b><br>Layer: L03<br>Start: 91.880s<br>End: 104.140s<br>Duration: 12.260s",
          "<b></b><br>Layer: L03<br>Start: 104.140s<br>End: 152.970s<br>Duration: 48.830s",
          "<b></b><br>Layer: L03<br>Start: 152.970s<br>End: 166.310s<br>Duration: 13.340s",
          "<b></b><br>Layer: L03<br>Start: 166.310s<br>End: 178.470s<br>Duration: 12.160s",
          "<b></b><br>Layer: L03<br>Start: 178.470s<br>End: 191.310s<br>Duration: 12.840s",
          "<b></b><br>Layer: L03<br>Start: 191.310s<br>End: 222.045s<br>Duration: 30.735s",
          "<b></b><br>Layer: L04<br>Start: 0.000s<br>End: 10.430s<br>Duration: 10.430s",
          "<b></b><br>Layer: L04<br>Start: 10.430s<br>End: 21.930s<br>Duration: 11.500s",
          "<b></b><br>Layer: L04<br>Start: 21.930s<br>End: 52.020s<br>Duration: 30.090s",
          "<b></b><br>Layer: L04<br>Start: 52.020s<br>End: 62.950s<br>Duration: 10.930s",
          "<b></b><br>Layer: L04<br>Start: 62.950s<br>End: 92.500s<br>Duration: 29.550s",
          "<b></b><br>Layer: L04<br>Start: 92.500s<br>End: 104.140s<br>Duration: 11.640s",
          "<b></b><br>Layer: L04<br>Start: 104.140s<br>End: 153.600s<br>Duration: 49.460s",
          "<b></b><br>Layer: L04<br>Start: 153.600s<br>End: 165.670s<br>Duration: 12.070s",
          "<b></b><br>Layer: L04<br>Start: 165.670s<br>End: 179.120s<br>Duration: 13.450s",
          "<b></b><br>Layer: L04<br>Start: 179.120s<br>End: 191.310s<br>Duration: 12.190s",
          "<b></b><br>Layer: L04<br>Start: 191.310s<br>End: 222.045s<br>Duration: 30.735s",
          "<b></b><br>Layer: L05<br>Start: 0.000s<br>End: 9.160s<br>Duration: 9.160s",
          "<b></b><br>Layer: L05<br>Start: 9.160s<br>End: 22.560s<br>Duration: 13.400s",
          "<b></b><br>Layer: L05<br>Start: 22.560s<br>End: 51.380s<br>Duration: 28.820s",
          "<b></b><br>Layer: L05<br>Start: 51.380s<br>End: 64.240s<br>Duration: 12.860s",
          "<b></b><br>Layer: L05<br>Start: 64.240s<br>End: 91.880s<br>Duration: 27.640s",
          "<b></b><br>Layer: L05<br>Start: 91.880s<br>End: 104.770s<br>Duration: 12.890s",
          "<b></b><br>Layer: L05<br>Start: 104.770s<br>End: 152.360s<br>Duration: 47.590s",
          "<b></b><br>Layer: L05<br>Start: 152.360s<br>End: 166.960s<br>Duration: 14.600s",
          "<b></b><br>Layer: L05<br>Start: 166.960s<br>End: 178.470s<br>Duration: 11.510s",
          "<b></b><br>Layer: L05<br>Start: 178.470s<br>End: 191.950s<br>Duration: 13.480s",
          "<b></b><br>Layer: L05<br>Start: 191.950s<br>End: 222.045s<br>Duration: 30.095s",
          "<b></b><br>Layer: L06<br>Start: 0.000s<br>End: 9.160s<br>Duration: 9.160s",
          "<b></b><br>Layer: L06<br>Start: 9.160s<br>End: 22.560s<br>Duration: 13.400s",
          "<b></b><br>Layer: L06<br>Start: 22.560s<br>End: 51.380s<br>Duration: 28.820s",
          "<b></b><br>Layer: L06<br>Start: 51.380s<br>End: 64.240s<br>Duration: 12.860s",
          "<b></b><br>Layer: L06<br>Start: 64.240s<br>End: 91.880s<br>Duration: 27.640s",
          "<b></b><br>Layer: L06<br>Start: 91.880s<br>End: 104.770s<br>Duration: 12.890s",
          "<b></b><br>Layer: L06<br>Start: 104.770s<br>End: 134.480s<br>Duration: 29.710s",
          "<b></b><br>Layer: L06<br>Start: 134.480s<br>End: 152.360s<br>Duration: 17.880s",
          "<b></b><br>Layer: L06<br>Start: 152.360s<br>End: 166.960s<br>Duration: 14.600s",
          "<b></b><br>Layer: L06<br>Start: 166.960s<br>End: 178.470s<br>Duration: 11.510s",
          "<b></b><br>Layer: L06<br>Start: 178.470s<br>End: 191.950s<br>Duration: 13.480s",
          "<b></b><br>Layer: L06<br>Start: 191.950s<br>End: 222.045s<br>Duration: 30.095s"
         ],
         "hovertemplate": "%{customdata}<extra></extra>",
         "insidetextanchor": "middle",
         "marker": {
          "color": "#1F77B4",
          "line": {
           "color": "white",
           "width": 0.5
          },
          "pattern": {
           "fgcolor": "white",
           "fgopacity": 0.5,
           "shape": "",
           "solidity": 0.25
          }
         },
         "name": "",
         "orientation": "h",
         "showlegend": true,
         "text": [
          "",
          "",
          "",
          "",
          "",
          "",
          "",
          "",
          "",
          "",
          "",
          "",
          "",
          "",
          "",
          "",
          "",
          "",
          "",
          "",
          "",
          "",
          "",
          "",
          "",
          "",
          "",
          "",
          "",
          "",
          "",
          "",
          "",
          "",
          "",
          "",
          "",
          "",
          "",
          "",
          "",
          "",
          "",
          "",
          ""
         ],
         "textposition": "inside",
         "type": "bar",
         "width": 1,
         "x": [
          10.43,
          11.5,
          29.450000000000003,
          11.57,
          28.929999999999993,
          12.260000000000005,
          48.83,
          13.340000000000003,
          12.159999999999997,
          12.840000000000003,
          30.73481000000001,
          10.43,
          11.5,
          30.090000000000003,
          10.93,
          29.549999999999997,
          11.64,
          49.459999999999994,
          12.069999999999993,
          13.450000000000017,
          12.189999999999998,
          30.73481000000001,
          9.16,
          13.399999999999999,
          28.820000000000004,
          12.859999999999992,
          27.64,
          12.89,
          47.59000000000002,
          14.599999999999994,
          11.509999999999991,
          13.47999999999999,
          30.094810000000024,
          9.16,
          13.399999999999999,
          28.820000000000004,
          12.859999999999992,
          27.64,
          12.89,
          29.709999999999994,
          17.880000000000024,
          14.599999999999994,
          11.509999999999991,
          13.47999999999999,
          30.094810000000024
         ],
         "xaxis": "x2",
         "y": [
          "L03",
          "L03",
          "L03",
          "L03",
          "L03",
          "L03",
          "L03",
          "L03",
          "L03",
          "L03",
          "L03",
          "L04",
          "L04",
          "L04",
          "L04",
          "L04",
          "L04",
          "L04",
          "L04",
          "L04",
          "L04",
          "L04",
          "L05",
          "L05",
          "L05",
          "L05",
          "L05",
          "L05",
          "L05",
          "L05",
          "L05",
          "L05",
          "L05",
          "L06",
          "L06",
          "L06",
          "L06",
          "L06",
          "L06",
          "L06",
          "L06",
          "L06",
          "L06",
          "L06",
          "L06"
         ],
         "yaxis": "y2"
        },
        {
         "base": [
          0,
          10.43,
          21.93,
          51.38,
          62.95,
          91.88,
          104.14,
          152.97,
          166.31,
          178.47,
          191.31,
          0,
          10.43,
          21.93,
          51.38,
          52.02,
          62.95,
          91.88,
          92.5,
          104.14,
          152.97,
          153.6,
          165.67,
          166.31,
          178.47,
          179.12,
          191.31,
          0,
          9.16,
          10.43,
          21.93,
          22.56,
          51.38,
          52.02,
          62.95,
          64.24,
          91.88,
          92.5,
          104.14,
          104.77,
          152.36,
          152.97,
          153.6,
          165.67,
          166.31,
          166.96,
          178.47,
          179.12,
          191.31,
          191.95,
          0,
          9.16,
          10.43,
          21.93,
          22.56,
          51.38,
          52.02,
          62.95,
          64.24,
          91.88,
          92.5,
          104.14,
          104.77,
          134.48,
          152.36,
          152.97,
          153.6,
          165.67,
          166.31,
          166.96,
          178.47,
          179.12,
          191.31,
          191.95
         ],
         "customdata": [
          "<b></b><br>Layer: L03<br>Start: 0.000s<br>End: 10.430s<br>Duration: 10.430s",
          "<b></b><br>Layer: L03<br>Start: 10.430s<br>End: 21.930s<br>Duration: 11.500s",
          "<b></b><br>Layer: L03<br>Start: 21.930s<br>End: 51.380s<br>Duration: 29.450s",
          "<b></b><br>Layer: L03<br>Start: 51.380s<br>End: 62.950s<br>Duration: 11.570s",
          "<b></b><br>Layer: L03<br>Start: 62.950s<br>End: 91.880s<br>Duration: 28.930s",
          "<b></b><br>Layer: L03<br>Start: 91.880s<br>End: 104.140s<br>Duration: 12.260s",
          "<b></b><br>Layer: L03<br>Start: 104.140s<br>End: 152.970s<br>Duration: 48.830s",
          "<b></b><br>Layer: L03<br>Start: 152.970s<br>End: 166.310s<br>Duration: 13.340s",
          "<b></b><br>Layer: L03<br>Start: 166.310s<br>End: 178.470s<br>Duration: 12.160s",
          "<b></b><br>Layer: L03<br>Start: 178.470s<br>End: 191.310s<br>Duration: 12.840s",
          "<b></b><br>Layer: L03<br>Start: 191.310s<br>End: 222.045s<br>Duration: 30.735s",
          "<b></b><br>Layer: L04<br>Start: 0.000s<br>End: 10.430s<br>Duration: 10.430s",
          "<b></b><br>Layer: L04<br>Start: 10.430s<br>End: 21.930s<br>Duration: 11.500s",
          "<b></b><br>Layer: L04<br>Start: 21.930s<br>End: 51.380s<br>Duration: 29.450s",
          "<b></b><br>Layer: L04<br>Start: 51.380s<br>End: 52.020s<br>Duration: 0.640s",
          "<b></b><br>Layer: L04<br>Start: 52.020s<br>End: 62.950s<br>Duration: 10.930s",
          "<b></b><br>Layer: L04<br>Start: 62.950s<br>End: 91.880s<br>Duration: 28.930s",
          "<b></b><br>Layer: L04<br>Start: 91.880s<br>End: 92.500s<br>Duration: 0.620s",
          "<b></b><br>Layer: L04<br>Start: 92.500s<br>End: 104.140s<br>Duration: 11.640s",
          "<b></b><br>Layer: L04<br>Start: 104.140s<br>End: 152.970s<br>Duration: 48.830s",
          "<b></b><br>Layer: L04<br>Start: 152.970s<br>End: 153.600s<br>Duration: 0.630s",
          "<b></b><br>Layer: L04<br>Start: 153.600s<br>End: 165.670s<br>Duration: 12.070s",
          "<b></b><br>Layer: L04<br>Start: 165.670s<br>End: 166.310s<br>Duration: 0.640s",
          "<b></b><br>Layer: L04<br>Start: 166.310s<br>End: 178.470s<br>Duration: 12.160s",
          "<b></b><br>Layer: L04<br>Start: 178.470s<br>End: 179.120s<br>Duration: 0.650s",
          "<b></b><br>Layer: L04<br>Start: 179.120s<br>End: 191.310s<br>Duration: 12.190s",
          "<b></b><br>Layer: L04<br>Start: 191.310s<br>End: 222.045s<br>Duration: 30.735s",
          "<b></b><br>Layer: L05<br>Start: 0.000s<br>End: 9.160s<br>Duration: 9.160s",
          "<b></b><br>Layer: L05<br>Start: 9.160s<br>End: 10.430s<br>Duration: 1.270s",
          "<b></b><br>Layer: L05<br>Start: 10.430s<br>End: 21.930s<br>Duration: 11.500s",
          "<b></b><br>Layer: L05<br>Start: 21.930s<br>End: 22.560s<br>Duration: 0.630s",
          "<b></b><br>Layer: L05<br>Start: 22.560s<br>End: 51.380s<br>Duration: 28.820s",
          "<b></b><br>Layer: L05<br>Start: 51.380s<br>End: 52.020s<br>Duration: 0.640s",
          "<b></b><br>Layer: L05<br>Start: 52.020s<br>End: 62.950s<br>Duration: 10.930s",
          "<b></b><br>Layer: L05<br>Start: 62.950s<br>End: 64.240s<br>Duration: 1.290s",
          "<b></b><br>Layer: L05<br>Start: 64.240s<br>End: 91.880s<br>Duration: 27.640s",
          "<b></b><br>Layer: L05<br>Start: 91.880s<br>End: 92.500s<br>Duration: 0.620s",
          "<b></b><br>Layer: L05<br>Start: 92.500s<br>End: 104.140s<br>Duration: 11.640s",
          "<b></b><br>Layer: L05<br>Start: 104.140s<br>End: 104.770s<br>Duration: 0.630s",
          "<b></b><br>Layer: L05<br>Start: 104.770s<br>End: 152.360s<br>Duration: 47.590s",
          "<b></b><br>Layer: L05<br>Start: 152.360s<br>End: 152.970s<br>Duration: 0.610s",
          "<b></b><br>Layer: L05<br>Start: 152.970s<br>End: 153.600s<br>Duration: 0.630s",
          "<b></b><br>Layer: L05<br>Start: 153.600s<br>End: 165.670s<br>Duration: 12.070s",
          "<b></b><br>Layer: L05<br>Start: 165.670s<br>End: 166.310s<br>Duration: 0.640s",
          "<b></b><br>Layer: L05<br>Start: 166.310s<br>End: 166.960s<br>Duration: 0.650s",
          "<b></b><br>Layer: L05<br>Start: 166.960s<br>End: 178.470s<br>Duration: 11.510s",
          "<b></b><br>Layer: L05<br>Start: 178.470s<br>End: 179.120s<br>Duration: 0.650s",
          "<b></b><br>Layer: L05<br>Start: 179.120s<br>End: 191.310s<br>Duration: 12.190s",
          "<b></b><br>Layer: L05<br>Start: 191.310s<br>End: 191.950s<br>Duration: 0.640s",
          "<b></b><br>Layer: L05<br>Start: 191.950s<br>End: 222.045s<br>Duration: 30.095s",
          "<b></b><br>Layer: L06<br>Start: 0.000s<br>End: 9.160s<br>Duration: 9.160s",
          "<b></b><br>Layer: L06<br>Start: 9.160s<br>End: 10.430s<br>Duration: 1.270s",
          "<b></b><br>Layer: L06<br>Start: 10.430s<br>End: 21.930s<br>Duration: 11.500s",
          "<b></b><br>Layer: L06<br>Start: 21.930s<br>End: 22.560s<br>Duration: 0.630s",
          "<b></b><br>Layer: L06<br>Start: 22.560s<br>End: 51.380s<br>Duration: 28.820s",
          "<b></b><br>Layer: L06<br>Start: 51.380s<br>End: 52.020s<br>Duration: 0.640s",
          "<b></b><br>Layer: L06<br>Start: 52.020s<br>End: 62.950s<br>Duration: 10.930s",
          "<b></b><br>Layer: L06<br>Start: 62.950s<br>End: 64.240s<br>Duration: 1.290s",
          "<b></b><br>Layer: L06<br>Start: 64.240s<br>End: 91.880s<br>Duration: 27.640s",
          "<b></b><br>Layer: L06<br>Start: 91.880s<br>End: 92.500s<br>Duration: 0.620s",
          "<b></b><br>Layer: L06<br>Start: 92.500s<br>End: 104.140s<br>Duration: 11.640s",
          "<b></b><br>Layer: L06<br>Start: 104.140s<br>End: 104.770s<br>Duration: 0.630s",
          "<b></b><br>Layer: L06<br>Start: 104.770s<br>End: 134.480s<br>Duration: 29.710s",
          "<b></b><br>Layer: L06<br>Start: 134.480s<br>End: 152.360s<br>Duration: 17.880s",
          "<b></b><br>Layer: L06<br>Start: 152.360s<br>End: 152.970s<br>Duration: 0.610s",
          "<b></b><br>Layer: L06<br>Start: 152.970s<br>End: 153.600s<br>Duration: 0.630s",
          "<b></b><br>Layer: L06<br>Start: 153.600s<br>End: 165.670s<br>Duration: 12.070s",
          "<b></b><br>Layer: L06<br>Start: 165.670s<br>End: 166.310s<br>Duration: 0.640s",
          "<b></b><br>Layer: L06<br>Start: 166.310s<br>End: 166.960s<br>Duration: 0.650s",
          "<b></b><br>Layer: L06<br>Start: 166.960s<br>End: 178.470s<br>Duration: 11.510s",
          "<b></b><br>Layer: L06<br>Start: 178.470s<br>End: 179.120s<br>Duration: 0.650s",
          "<b></b><br>Layer: L06<br>Start: 179.120s<br>End: 191.310s<br>Duration: 12.190s",
          "<b></b><br>Layer: L06<br>Start: 191.310s<br>End: 191.950s<br>Duration: 0.640s",
          "<b></b><br>Layer: L06<br>Start: 191.950s<br>End: 222.045s<br>Duration: 30.095s"
         ],
         "hovertemplate": "%{customdata}<extra></extra>",
         "insidetextanchor": "middle",
         "marker": {
          "color": "#1F77B4",
          "line": {
           "color": "white",
           "width": 0.5
          },
          "pattern": {
           "fgcolor": "white",
           "fgopacity": 0.5,
           "shape": "",
           "solidity": 0.25
          }
         },
         "name": "",
         "orientation": "h",
         "showlegend": true,
         "text": [
          "",
          "",
          "",
          "",
          "",
          "",
          "",
          "",
          "",
          "",
          "",
          "",
          "",
          "",
          "",
          "",
          "",
          "",
          "",
          "",
          "",
          "",
          "",
          "",
          "",
          "",
          "",
          "",
          "",
          "",
          "",
          "",
          "",
          "",
          "",
          "",
          "",
          "",
          "",
          "",
          "",
          "",
          "",
          "",
          "",
          "",
          "",
          "",
          "",
          "",
          "",
          "",
          "",
          "",
          "",
          "",
          "",
          "",
          "",
          "",
          "",
          "",
          "",
          "",
          "",
          "",
          "",
          "",
          "",
          "",
          "",
          "",
          "",
          ""
         ],
         "textposition": "inside",
         "type": "bar",
         "width": 1,
         "x": [
          10.43,
          11.5,
          29.450000000000003,
          11.57,
          28.929999999999993,
          12.260000000000005,
          48.83,
          13.340000000000003,
          12.159999999999997,
          12.840000000000003,
          30.73481000000001,
          10.43,
          11.5,
          29.450000000000003,
          0.6400000000000006,
          10.93,
          28.929999999999993,
          0.6200000000000045,
          11.64,
          48.83,
          0.6299999999999955,
          12.069999999999993,
          0.6400000000000148,
          12.159999999999997,
          0.6500000000000057,
          12.189999999999998,
          30.73481000000001,
          9.16,
          1.2699999999999996,
          11.5,
          0.629999999999999,
          28.820000000000004,
          0.6400000000000006,
          10.93,
          1.289999999999992,
          27.64,
          0.6200000000000045,
          11.64,
          0.6299999999999955,
          47.59000000000002,
          0.6099999999999852,
          0.6299999999999955,
          12.069999999999993,
          0.6400000000000148,
          0.6500000000000057,
          11.509999999999991,
          0.6500000000000057,
          12.189999999999998,
          0.6399999999999864,
          30.094810000000024,
          9.16,
          1.2699999999999996,
          11.5,
          0.629999999999999,
          28.820000000000004,
          0.6400000000000006,
          10.93,
          1.289999999999992,
          27.64,
          0.6200000000000045,
          11.64,
          0.6299999999999955,
          29.709999999999994,
          17.880000000000024,
          0.6099999999999852,
          0.6299999999999955,
          12.069999999999993,
          0.6400000000000148,
          0.6500000000000057,
          11.509999999999991,
          0.6500000000000057,
          12.189999999999998,
          0.6399999999999864,
          30.094810000000024
         ],
         "xaxis": "x3",
         "y": [
          "L03",
          "L03",
          "L03",
          "L03",
          "L03",
          "L03",
          "L03",
          "L03",
          "L03",
          "L03",
          "L03",
          "L04",
          "L04",
          "L04",
          "L04",
          "L04",
          "L04",
          "L04",
          "L04",
          "L04",
          "L04",
          "L04",
          "L04",
          "L04",
          "L04",
          "L04",
          "L04",
          "L05",
          "L05",
          "L05",
          "L05",
          "L05",
          "L05",
          "L05",
          "L05",
          "L05",
          "L05",
          "L05",
          "L05",
          "L05",
          "L05",
          "L05",
          "L05",
          "L05",
          "L05",
          "L05",
          "L05",
          "L05",
          "L05",
          "L05",
          "L06",
          "L06",
          "L06",
          "L06",
          "L06",
          "L06",
          "L06",
          "L06",
          "L06",
          "L06",
          "L06",
          "L06",
          "L06",
          "L06",
          "L06",
          "L06",
          "L06",
          "L06",
          "L06",
          "L06",
          "L06",
          "L06",
          "L06",
          "L06"
         ],
         "yaxis": "y3"
        }
       ],
       "layout": {
        "annotations": [
         {
          "font": {
           "size": 16
          },
          "showarrow": false,
          "text": "Reference",
          "x": 0.5,
          "xanchor": "center",
          "xref": "paper",
          "y": 1,
          "yanchor": "bottom",
          "yref": "paper"
         },
         {
          "font": {
           "size": 16
          },
          "showarrow": false,
          "text": "Raw",
          "x": 0.5,
          "xanchor": "center",
          "xref": "paper",
          "y": 0.6111111111111112,
          "yanchor": "bottom",
          "yref": "paper"
         },
         {
          "font": {
           "size": 16
          },
          "showarrow": false,
          "text": "Mono",
          "x": 0.5,
          "xanchor": "center",
          "xref": "paper",
          "y": 0.22222222222222224,
          "yanchor": "bottom",
          "yref": "paper"
         }
        ],
        "barmode": "overlay",
        "height": 650,
        "legend": {
         "visible": false
        },
        "margin": {
         "b": 10,
         "l": 10,
         "r": 10,
         "t": 50
        },
        "template": {
         "data": {
          "bar": [
           {
            "error_x": {
             "color": "#2a3f5f"
            },
            "error_y": {
             "color": "#2a3f5f"
            },
            "marker": {
             "line": {
              "color": "#E5ECF6",
              "width": 0.5
             },
             "pattern": {
              "fillmode": "overlay",
              "size": 10,
              "solidity": 0.2
             }
            },
            "type": "bar"
           }
          ],
          "barpolar": [
           {
            "marker": {
             "line": {
              "color": "#E5ECF6",
              "width": 0.5
             },
             "pattern": {
              "fillmode": "overlay",
              "size": 10,
              "solidity": 0.2
             }
            },
            "type": "barpolar"
           }
          ],
          "carpet": [
           {
            "aaxis": {
             "endlinecolor": "#2a3f5f",
             "gridcolor": "white",
             "linecolor": "white",
             "minorgridcolor": "white",
             "startlinecolor": "#2a3f5f"
            },
            "baxis": {
             "endlinecolor": "#2a3f5f",
             "gridcolor": "white",
             "linecolor": "white",
             "minorgridcolor": "white",
             "startlinecolor": "#2a3f5f"
            },
            "type": "carpet"
           }
          ],
          "choropleth": [
           {
            "colorbar": {
             "outlinewidth": 0,
             "ticks": ""
            },
            "type": "choropleth"
           }
          ],
          "contour": [
           {
            "colorbar": {
             "outlinewidth": 0,
             "ticks": ""
            },
            "colorscale": [
             [
              0,
              "#0d0887"
             ],
             [
              0.1111111111111111,
              "#46039f"
             ],
             [
              0.2222222222222222,
              "#7201a8"
             ],
             [
              0.3333333333333333,
              "#9c179e"
             ],
             [
              0.4444444444444444,
              "#bd3786"
             ],
             [
              0.5555555555555556,
              "#d8576b"
             ],
             [
              0.6666666666666666,
              "#ed7953"
             ],
             [
              0.7777777777777778,
              "#fb9f3a"
             ],
             [
              0.8888888888888888,
              "#fdca26"
             ],
             [
              1,
              "#f0f921"
             ]
            ],
            "type": "contour"
           }
          ],
          "contourcarpet": [
           {
            "colorbar": {
             "outlinewidth": 0,
             "ticks": ""
            },
            "type": "contourcarpet"
           }
          ],
          "heatmap": [
           {
            "colorbar": {
             "outlinewidth": 0,
             "ticks": ""
            },
            "colorscale": [
             [
              0,
              "#0d0887"
             ],
             [
              0.1111111111111111,
              "#46039f"
             ],
             [
              0.2222222222222222,
              "#7201a8"
             ],
             [
              0.3333333333333333,
              "#9c179e"
             ],
             [
              0.4444444444444444,
              "#bd3786"
             ],
             [
              0.5555555555555556,
              "#d8576b"
             ],
             [
              0.6666666666666666,
              "#ed7953"
             ],
             [
              0.7777777777777778,
              "#fb9f3a"
             ],
             [
              0.8888888888888888,
              "#fdca26"
             ],
             [
              1,
              "#f0f921"
             ]
            ],
            "type": "heatmap"
           }
          ],
          "histogram": [
           {
            "marker": {
             "pattern": {
              "fillmode": "overlay",
              "size": 10,
              "solidity": 0.2
             }
            },
            "type": "histogram"
           }
          ],
          "histogram2d": [
           {
            "colorbar": {
             "outlinewidth": 0,
             "ticks": ""
            },
            "colorscale": [
             [
              0,
              "#0d0887"
             ],
             [
              0.1111111111111111,
              "#46039f"
             ],
             [
              0.2222222222222222,
              "#7201a8"
             ],
             [
              0.3333333333333333,
              "#9c179e"
             ],
             [
              0.4444444444444444,
              "#bd3786"
             ],
             [
              0.5555555555555556,
              "#d8576b"
             ],
             [
              0.6666666666666666,
              "#ed7953"
             ],
             [
              0.7777777777777778,
              "#fb9f3a"
             ],
             [
              0.8888888888888888,
              "#fdca26"
             ],
             [
              1,
              "#f0f921"
             ]
            ],
            "type": "histogram2d"
           }
          ],
          "histogram2dcontour": [
           {
            "colorbar": {
             "outlinewidth": 0,
             "ticks": ""
            },
            "colorscale": [
             [
              0,
              "#0d0887"
             ],
             [
              0.1111111111111111,
              "#46039f"
             ],
             [
              0.2222222222222222,
              "#7201a8"
             ],
             [
              0.3333333333333333,
              "#9c179e"
             ],
             [
              0.4444444444444444,
              "#bd3786"
             ],
             [
              0.5555555555555556,
              "#d8576b"
             ],
             [
              0.6666666666666666,
              "#ed7953"
             ],
             [
              0.7777777777777778,
              "#fb9f3a"
             ],
             [
              0.8888888888888888,
              "#fdca26"
             ],
             [
              1,
              "#f0f921"
             ]
            ],
            "type": "histogram2dcontour"
           }
          ],
          "mesh3d": [
           {
            "colorbar": {
             "outlinewidth": 0,
             "ticks": ""
            },
            "type": "mesh3d"
           }
          ],
          "parcoords": [
           {
            "line": {
             "colorbar": {
              "outlinewidth": 0,
              "ticks": ""
             }
            },
            "type": "parcoords"
           }
          ],
          "pie": [
           {
            "automargin": true,
            "type": "pie"
           }
          ],
          "scatter": [
           {
            "fillpattern": {
             "fillmode": "overlay",
             "size": 10,
             "solidity": 0.2
            },
            "type": "scatter"
           }
          ],
          "scatter3d": [
           {
            "line": {
             "colorbar": {
              "outlinewidth": 0,
              "ticks": ""
             }
            },
            "marker": {
             "colorbar": {
              "outlinewidth": 0,
              "ticks": ""
             }
            },
            "type": "scatter3d"
           }
          ],
          "scattercarpet": [
           {
            "marker": {
             "colorbar": {
              "outlinewidth": 0,
              "ticks": ""
             }
            },
            "type": "scattercarpet"
           }
          ],
          "scattergeo": [
           {
            "marker": {
             "colorbar": {
              "outlinewidth": 0,
              "ticks": ""
             }
            },
            "type": "scattergeo"
           }
          ],
          "scattergl": [
           {
            "marker": {
             "colorbar": {
              "outlinewidth": 0,
              "ticks": ""
             }
            },
            "type": "scattergl"
           }
          ],
          "scattermap": [
           {
            "marker": {
             "colorbar": {
              "outlinewidth": 0,
              "ticks": ""
             }
            },
            "type": "scattermap"
           }
          ],
          "scattermapbox": [
           {
            "marker": {
             "colorbar": {
              "outlinewidth": 0,
              "ticks": ""
             }
            },
            "type": "scattermapbox"
           }
          ],
          "scatterpolar": [
           {
            "marker": {
             "colorbar": {
              "outlinewidth": 0,
              "ticks": ""
             }
            },
            "type": "scatterpolar"
           }
          ],
          "scatterpolargl": [
           {
            "marker": {
             "colorbar": {
              "outlinewidth": 0,
              "ticks": ""
             }
            },
            "type": "scatterpolargl"
           }
          ],
          "scatterternary": [
           {
            "marker": {
             "colorbar": {
              "outlinewidth": 0,
              "ticks": ""
             }
            },
            "type": "scatterternary"
           }
          ],
          "surface": [
           {
            "colorbar": {
             "outlinewidth": 0,
             "ticks": ""
            },
            "colorscale": [
             [
              0,
              "#0d0887"
             ],
             [
              0.1111111111111111,
              "#46039f"
             ],
             [
              0.2222222222222222,
              "#7201a8"
             ],
             [
              0.3333333333333333,
              "#9c179e"
             ],
             [
              0.4444444444444444,
              "#bd3786"
             ],
             [
              0.5555555555555556,
              "#d8576b"
             ],
             [
              0.6666666666666666,
              "#ed7953"
             ],
             [
              0.7777777777777778,
              "#fb9f3a"
             ],
             [
              0.8888888888888888,
              "#fdca26"
             ],
             [
              1,
              "#f0f921"
             ]
            ],
            "type": "surface"
           }
          ],
          "table": [
           {
            "cells": {
             "fill": {
              "color": "#EBF0F8"
             },
             "line": {
              "color": "white"
             }
            },
            "header": {
             "fill": {
              "color": "#C8D4E3"
             },
             "line": {
              "color": "white"
             }
            },
            "type": "table"
           }
          ]
         },
         "layout": {
          "annotationdefaults": {
           "arrowcolor": "#2a3f5f",
           "arrowhead": 0,
           "arrowwidth": 1
          },
          "autotypenumbers": "strict",
          "coloraxis": {
           "colorbar": {
            "outlinewidth": 0,
            "ticks": ""
           }
          },
          "colorscale": {
           "diverging": [
            [
             0,
             "#8e0152"
            ],
            [
             0.1,
             "#c51b7d"
            ],
            [
             0.2,
             "#de77ae"
            ],
            [
             0.3,
             "#f1b6da"
            ],
            [
             0.4,
             "#fde0ef"
            ],
            [
             0.5,
             "#f7f7f7"
            ],
            [
             0.6,
             "#e6f5d0"
            ],
            [
             0.7,
             "#b8e186"
            ],
            [
             0.8,
             "#7fbc41"
            ],
            [
             0.9,
             "#4d9221"
            ],
            [
             1,
             "#276419"
            ]
           ],
           "sequential": [
            [
             0,
             "#0d0887"
            ],
            [
             0.1111111111111111,
             "#46039f"
            ],
            [
             0.2222222222222222,
             "#7201a8"
            ],
            [
             0.3333333333333333,
             "#9c179e"
            ],
            [
             0.4444444444444444,
             "#bd3786"
            ],
            [
             0.5555555555555556,
             "#d8576b"
            ],
            [
             0.6666666666666666,
             "#ed7953"
            ],
            [
             0.7777777777777778,
             "#fb9f3a"
            ],
            [
             0.8888888888888888,
             "#fdca26"
            ],
            [
             1,
             "#f0f921"
            ]
           ],
           "sequentialminus": [
            [
             0,
             "#0d0887"
            ],
            [
             0.1111111111111111,
             "#46039f"
            ],
            [
             0.2222222222222222,
             "#7201a8"
            ],
            [
             0.3333333333333333,
             "#9c179e"
            ],
            [
             0.4444444444444444,
             "#bd3786"
            ],
            [
             0.5555555555555556,
             "#d8576b"
            ],
            [
             0.6666666666666666,
             "#ed7953"
            ],
            [
             0.7777777777777778,
             "#fb9f3a"
            ],
            [
             0.8888888888888888,
             "#fdca26"
            ],
            [
             1,
             "#f0f921"
            ]
           ]
          },
          "colorway": [
           "#636efa",
           "#EF553B",
           "#00cc96",
           "#ab63fa",
           "#FFA15A",
           "#19d3f3",
           "#FF6692",
           "#B6E880",
           "#FF97FF",
           "#FECB52"
          ],
          "font": {
           "color": "#2a3f5f"
          },
          "geo": {
           "bgcolor": "white",
           "lakecolor": "white",
           "landcolor": "#E5ECF6",
           "showlakes": true,
           "showland": true,
           "subunitcolor": "white"
          },
          "hoverlabel": {
           "align": "left"
          },
          "hovermode": "closest",
          "mapbox": {
           "style": "light"
          },
          "paper_bgcolor": "white",
          "plot_bgcolor": "#E5ECF6",
          "polar": {
           "angularaxis": {
            "gridcolor": "white",
            "linecolor": "white",
            "ticks": ""
           },
           "bgcolor": "#E5ECF6",
           "radialaxis": {
            "gridcolor": "white",
            "linecolor": "white",
            "ticks": ""
           }
          },
          "scene": {
           "xaxis": {
            "backgroundcolor": "#E5ECF6",
            "gridcolor": "white",
            "gridwidth": 2,
            "linecolor": "white",
            "showbackground": true,
            "ticks": "",
            "zerolinecolor": "white"
           },
           "yaxis": {
            "backgroundcolor": "#E5ECF6",
            "gridcolor": "white",
            "gridwidth": 2,
            "linecolor": "white",
            "showbackground": true,
            "ticks": "",
            "zerolinecolor": "white"
           },
           "zaxis": {
            "backgroundcolor": "#E5ECF6",
            "gridcolor": "white",
            "gridwidth": 2,
            "linecolor": "white",
            "showbackground": true,
            "ticks": "",
            "zerolinecolor": "white"
           }
          },
          "shapedefaults": {
           "line": {
            "color": "#2a3f5f"
           }
          },
          "ternary": {
           "aaxis": {
            "gridcolor": "white",
            "linecolor": "white",
            "ticks": ""
           },
           "baxis": {
            "gridcolor": "white",
            "linecolor": "white",
            "ticks": ""
           },
           "bgcolor": "#E5ECF6",
           "caxis": {
            "gridcolor": "white",
            "linecolor": "white",
            "ticks": ""
           }
          },
          "title": {
           "x": 0.05
          },
          "xaxis": {
           "automargin": true,
           "gridcolor": "white",
           "linecolor": "white",
           "ticks": "",
           "title": {
            "standoff": 15
           },
           "zerolinecolor": "white",
           "zerolinewidth": 2
          },
          "yaxis": {
           "automargin": true,
           "gridcolor": "white",
           "linecolor": "white",
           "ticks": "",
           "title": {
            "standoff": 15
           },
           "zerolinecolor": "white",
           "zerolinewidth": 2
          }
         }
        },
        "width": 650,
        "xaxis": {
         "anchor": "y",
         "autorangeoptions": {
          "maxallowed": 222.06111,
          "minallowed": 0
         },
         "domain": [
          0,
          1
         ],
         "matches": "x3",
         "showticklabels": false
        },
        "xaxis2": {
         "anchor": "y2",
         "autorangeoptions": {
          "maxallowed": 222.06111,
          "minallowed": 0
         },
         "domain": [
          0,
          1
         ],
         "matches": "x3",
         "showticklabels": false
        },
        "xaxis3": {
         "anchor": "y3",
         "autorangeoptions": {
          "maxallowed": 222.06111,
          "minallowed": 0
         },
         "domain": [
          0,
          1
         ]
        },
        "yaxis": {
         "anchor": "x",
         "domain": [
          0.7777777777777778,
          1
         ]
        },
        "yaxis2": {
         "anchor": "x2",
         "domain": [
          0.3888888888888889,
          0.6111111111111112
         ]
        },
        "yaxis3": {
         "anchor": "x3",
         "domain": [
          0,
          0.22222222222222224
         ]
        }
       }
      }
     },
     "metadata": {},
     "output_type": "display_data"
    }
   ],
   "source": [
    "from mir_eval.hierarchy import tmeasure\n",
    "\n",
    "annos = [\n",
    "    ref.scrub_labels(), \n",
    "    MS(aligned_est[2:6], 'Raw').scrub_labels(), \n",
    "    MS(mono_est_depth[2:6], 'Mono')\n",
    "]\n",
    "\n",
    "fig = make_subplots(\n",
    "    rows=3, cols=1, shared_xaxes=True,\n",
    "    subplot_titles=[\"Reference\", \"Raw\", \"Mono\"]\n",
    ")\n",
    "fig.update_layout(\n",
    "    barmode=\"overlay\", legend_visible=False, height=650, width=650, \n",
    "    margin=dict(l=10, r=10, t=50, b=10)\n",
    ")\n",
    "fig.update_xaxes(\n",
    "    autorangeoptions=dict(minallowed=ref.start.time, maxallowed=ref.end.time)\n",
    ")\n",
    "\n",
    "for row, anno in enumerate(annos, start=1):\n",
    "    if row != 1:\n",
    "        print(f\"{anno}: reduced (tran=False)\\n  {tmeasure(ref.itvls, anno.itvls)}\")\n",
    "        print(f\"{anno}: full (tran=True)\\n  {tmeasure(ref.itvls, anno.itvls, transitive=True)}\")\n",
    "    for bar_trace in anno.plot().data:\n",
    "        fig.add_trace(bar_trace, row=row, col=1)\n",
    "\n",
    "fig.show()"
   ]
  },
  {
   "cell_type": "code",
   "execution_count": 69,
   "metadata": {},
   "outputs": [
    {
     "data": {
      "text/plain": [
       "['align_layers',\n",
       " 'duration',\n",
       " 'from_json',\n",
       " 'itvls',\n",
       " 'labels',\n",
       " 'name',\n",
       " 'plot',\n",
       " 'to_contour']"
      ]
     },
     "execution_count": 69,
     "metadata": {},
     "output_type": "execute_result"
    }
   ],
   "source": [
    "[attr for attr in dir(MS) if not attr.startswith(\"__\")]"
   ]
  },
  {
   "cell_type": "code",
   "execution_count": null,
   "metadata": {},
   "outputs": [
    {
     "ename": "ValueError",
     "evalue": "Number of labels must be one less than the number of boundaries.",
     "output_type": "error",
     "traceback": [
      "\u001b[31m---------------------------------------------------------------------------\u001b[39m",
      "\u001b[31mValueError\u001b[39m                                Traceback (most recent call last)",
      "\u001b[36mCell\u001b[39m\u001b[36m \u001b[39m\u001b[32mIn[75]\u001b[39m\u001b[32m, line 3\u001b[39m\n\u001b[32m      1\u001b[39m \u001b[38;5;28;01mfrom\u001b[39;00m\u001b[38;5;250m \u001b[39m\u001b[34;01mbnl\u001b[39;00m\u001b[38;5;250m \u001b[39m\u001b[38;5;28;01mimport\u001b[39;00m Segment \u001b[38;5;28;01mas\u001b[39;00m S\n\u001b[32m      2\u001b[39m layer_itvls = annos[\u001b[32m1\u001b[39m].itvls[\u001b[32m0\u001b[39m]\n\u001b[32m----> \u001b[39m\u001b[32m3\u001b[39m layer = \u001b[43mS\u001b[49m\u001b[43m.\u001b[49m\u001b[43mfrom_itvls\u001b[49m\u001b[43m(\u001b[49m\u001b[43mlayer_itvls\u001b[49m\u001b[43m,\u001b[49m\u001b[43m \u001b[49m\u001b[43mlabels\u001b[49m\u001b[43m=\u001b[49m\u001b[43m[\u001b[49m\u001b[33;43m\"\u001b[39;49m\u001b[33;43m\"\u001b[39;49m\u001b[43m]\u001b[49m\u001b[43m)\u001b[49m\n\u001b[32m      4\u001b[39m layer.plot()\n",
      "\u001b[36mFile \u001b[39m\u001b[32m~/code/bnl/src/bnl/core.py:202\u001b[39m, in \u001b[36mSegment.from_itvls\u001b[39m\u001b[34m(cls, itvls, labels, name)\u001b[39m\n\u001b[32m    198\u001b[39m boundaries = [\n\u001b[32m    199\u001b[39m     Boundary(itvl[\u001b[32m0\u001b[39m]) \u001b[38;5;28;01mfor\u001b[39;00m itvl \u001b[38;5;129;01min\u001b[39;00m itvls\n\u001b[32m    200\u001b[39m ]  \u001b[38;5;66;03m# assume intervals have no overlap or gaps\u001b[39;00m\n\u001b[32m    201\u001b[39m boundaries.append(Boundary(itvls[-\u001b[32m1\u001b[39m][\u001b[32m1\u001b[39m]))  \u001b[38;5;66;03m# tag on the end time of the last interval\u001b[39;00m\n\u001b[32m--> \u001b[39m\u001b[32m202\u001b[39m \u001b[38;5;28;01mreturn\u001b[39;00m \u001b[38;5;28;43mcls\u001b[39;49m\u001b[43m(\u001b[49m\u001b[43mboundaries\u001b[49m\u001b[43m=\u001b[49m\u001b[43mboundaries\u001b[49m\u001b[43m,\u001b[49m\u001b[43m \u001b[49m\u001b[43mlabels\u001b[49m\u001b[43m=\u001b[49m\u001b[43mlabels\u001b[49m\u001b[43m,\u001b[49m\u001b[43m \u001b[49m\u001b[43mname\u001b[49m\u001b[43m=\u001b[49m\u001b[43mname\u001b[49m\u001b[43m)\u001b[49m\n",
      "\u001b[36mFile \u001b[39m\u001b[32m~/code/bnl/src/bnl/core.py:151\u001b[39m, in \u001b[36mSegment.__init__\u001b[39m\u001b[34m(self, boundaries, labels, name)\u001b[39m\n\u001b[32m    149\u001b[39m     \u001b[38;5;28;01mraise\u001b[39;00m \u001b[38;5;167;01mValueError\u001b[39;00m(\u001b[33m\"\u001b[39m\u001b[33mA Segment requires at least two boundaries.\u001b[39m\u001b[33m\"\u001b[39m)\n\u001b[32m    150\u001b[39m \u001b[38;5;28;01mif\u001b[39;00m \u001b[38;5;28mlen\u001b[39m(labels) != \u001b[38;5;28mlen\u001b[39m(boundaries) - \u001b[32m1\u001b[39m:\n\u001b[32m--> \u001b[39m\u001b[32m151\u001b[39m     \u001b[38;5;28;01mraise\u001b[39;00m \u001b[38;5;167;01mValueError\u001b[39;00m(\u001b[33m\"\u001b[39m\u001b[33mNumber of labels must be one less than the number of boundaries.\u001b[39m\u001b[33m\"\u001b[39m)\n\u001b[32m    153\u001b[39m \u001b[38;5;28mself\u001b[39m.boundaries = \u001b[38;5;28mlist\u001b[39m(boundaries)\n\u001b[32m    154\u001b[39m \u001b[38;5;28;01mif\u001b[39;00m \u001b[38;5;28mself\u001b[39m.boundaries != \u001b[38;5;28msorted\u001b[39m(\u001b[38;5;28mself\u001b[39m.boundaries):\n",
      "\u001b[31mValueError\u001b[39m: Number of labels must be one less than the number of boundaries."
     ]
    }
   ],
   "source": [
    "from bnl import Segment as S\n",
    "layer_itvls = annos[1].itvls[0]\n",
    "layer = S.from_itvls(layer_itvls, labels=[\"\"] * len(layer_itvls))\n",
    "layer.plot()\n"
   ]
  },
  {
   "cell_type": "code",
   "execution_count": 38,
   "metadata": {},
   "outputs": [
    {
     "data": {
      "application/vnd.plotly.v1+json": {
       "config": {
        "plotlyServerURL": "https://plot.ly"
       },
       "data": [
        {
         "base": [
          0,
          21.93,
          62.95,
          104.14,
          166.31,
          191.31,
          0,
          104.14,
          191.31,
          0,
          104.77,
          191.95,
          0,
          104.77,
          191.95,
          0,
          104.77,
          191.95,
          0,
          104.77,
          191.95,
          0,
          104.77,
          191.95,
          0,
          104.77,
          191.95,
          0,
          104.77,
          126.02,
          191.95,
          0,
          191.95
         ],
         "customdata": [
          "<b>0</b><br>Layer: L03<br>Start: 0.000s<br>End: 10.430s<br>Duration: 10.430s",
          "<b>0</b><br>Layer: L03<br>Start: 21.930s<br>End: 51.380s<br>Duration: 29.450s",
          "<b>0</b><br>Layer: L03<br>Start: 62.950s<br>End: 91.880s<br>Duration: 28.930s",
          "<b>0</b><br>Layer: L03<br>Start: 104.140s<br>End: 152.970s<br>Duration: 48.830s",
          "<b>0</b><br>Layer: L03<br>Start: 166.310s<br>End: 178.470s<br>Duration: 12.160s",
          "<b>0</b><br>Layer: L03<br>Start: 191.310s<br>End: 222.045s<br>Duration: 30.735s",
          "<b>0</b><br>Layer: L04<br>Start: 0.000s<br>End: 10.430s<br>Duration: 10.430s",
          "<b>0</b><br>Layer: L04<br>Start: 104.140s<br>End: 153.600s<br>Duration: 49.460s",
          "<b>0</b><br>Layer: L04<br>Start: 191.310s<br>End: 222.045s<br>Duration: 30.735s",
          "<b>0</b><br>Layer: L05<br>Start: 0.000s<br>End: 9.160s<br>Duration: 9.160s",
          "<b>0</b><br>Layer: L05<br>Start: 104.770s<br>End: 152.360s<br>Duration: 47.590s",
          "<b>0</b><br>Layer: L05<br>Start: 191.950s<br>End: 222.045s<br>Duration: 30.095s",
          "<b>0</b><br>Layer: L06<br>Start: 0.000s<br>End: 9.160s<br>Duration: 9.160s",
          "<b>0</b><br>Layer: L06<br>Start: 104.770s<br>End: 134.480s<br>Duration: 29.710s",
          "<b>0</b><br>Layer: L06<br>Start: 191.950s<br>End: 222.045s<br>Duration: 30.095s",
          "<b>0</b><br>Layer: L07<br>Start: 0.000s<br>End: 9.160s<br>Duration: 9.160s",
          "<b>0</b><br>Layer: L07<br>Start: 104.770s<br>End: 139.600s<br>Duration: 34.830s",
          "<b>0</b><br>Layer: L07<br>Start: 191.950s<br>End: 222.045s<br>Duration: 30.095s",
          "<b>0</b><br>Layer: L08<br>Start: 0.000s<br>End: 8.540s<br>Duration: 8.540s",
          "<b>0</b><br>Layer: L08<br>Start: 104.770s<br>End: 139.600s<br>Duration: 34.830s",
          "<b>0</b><br>Layer: L08<br>Start: 191.950s<br>End: 222.045s<br>Duration: 30.095s",
          "<b>0</b><br>Layer: L09<br>Start: 0.000s<br>End: 8.540s<br>Duration: 8.540s",
          "<b>0</b><br>Layer: L09<br>Start: 104.770s<br>End: 139.600s<br>Duration: 34.830s",
          "<b>0</b><br>Layer: L09<br>Start: 191.950s<br>End: 222.045s<br>Duration: 30.095s",
          "<b>0</b><br>Layer: L10<br>Start: 0.000s<br>End: 8.540s<br>Duration: 8.540s",
          "<b>0</b><br>Layer: L10<br>Start: 104.770s<br>End: 135.780s<br>Duration: 31.010s",
          "<b>0</b><br>Layer: L10<br>Start: 191.950s<br>End: 222.045s<br>Duration: 30.095s",
          "<b>0</b><br>Layer: L11<br>Start: 0.000s<br>End: 8.540s<br>Duration: 8.540s",
          "<b>0</b><br>Layer: L11<br>Start: 104.770s<br>End: 113.100s<br>Duration: 8.330s",
          "<b>0</b><br>Layer: L11<br>Start: 126.020s<br>End: 135.140s<br>Duration: 9.120s",
          "<b>0</b><br>Layer: L11<br>Start: 191.950s<br>End: 222.045s<br>Duration: 30.095s",
          "<b>0</b><br>Layer: L12<br>Start: 0.000s<br>End: 8.540s<br>Duration: 8.540s",
          "<b>0</b><br>Layer: L12<br>Start: 191.950s<br>End: 222.045s<br>Duration: 30.095s"
         ],
         "hovertemplate": "%{customdata}<extra></extra>",
         "insidetextanchor": "middle",
         "marker": {
          "color": "#1F77B4",
          "line": {
           "color": "white",
           "width": 0.5
          },
          "pattern": {
           "fgcolor": "white",
           "fgopacity": 0.5,
           "shape": "",
           "solidity": 0.25
          }
         },
         "name": "0",
         "orientation": "h",
         "showlegend": true,
         "text": [
          "0",
          "0",
          "0",
          "0",
          "0",
          "0",
          "0",
          "0",
          "0",
          "0",
          "0",
          "0",
          "0",
          "0",
          "0",
          "0",
          "0",
          "0",
          "0",
          "0",
          "0",
          "0",
          "0",
          "0",
          "0",
          "0",
          "0",
          "0",
          "0",
          "0",
          "0",
          "0",
          "0"
         ],
         "textposition": "inside",
         "type": "bar",
         "width": 1,
         "x": [
          10.43,
          29.450000000000003,
          28.929999999999993,
          48.83,
          12.159999999999997,
          30.73481000000001,
          10.43,
          49.459999999999994,
          30.73481000000001,
          9.16,
          47.59000000000002,
          30.094810000000024,
          9.16,
          29.709999999999994,
          30.094810000000024,
          9.16,
          34.83,
          30.094810000000024,
          8.54,
          34.83,
          30.094810000000024,
          8.54,
          34.83,
          30.094810000000024,
          8.54,
          31.010000000000005,
          30.094810000000024,
          8.54,
          8.329999999999998,
          9.11999999999999,
          30.094810000000024,
          8.54,
          30.094810000000024
         ],
         "y": [
          "L03",
          "L03",
          "L03",
          "L03",
          "L03",
          "L03",
          "L04",
          "L04",
          "L04",
          "L05",
          "L05",
          "L05",
          "L06",
          "L06",
          "L06",
          "L07",
          "L07",
          "L07",
          "L08",
          "L08",
          "L08",
          "L09",
          "L09",
          "L09",
          "L10",
          "L10",
          "L10",
          "L11",
          "L11",
          "L11",
          "L11",
          "L12",
          "L12"
         ]
        },
        {
         "base": [
          10.43,
          51.38,
          91.88,
          152.97,
          178.47,
          10.43,
          52.02,
          92.5,
          153.6,
          179.12,
          9.16,
          51.38,
          91.88,
          152.36,
          178.47,
          9.16,
          51.38,
          91.88,
          152.36,
          178.47,
          9.16,
          51.38,
          91.88,
          152.97,
          179.12,
          8.54,
          50.74,
          91.25,
          151.71,
          177.83,
          8.54,
          50.74,
          91.25,
          154.84,
          178.47,
          8.54,
          50.74,
          90.6,
          154.84,
          178.47,
          8.54,
          50.11,
          90.6,
          154.84,
          178.47,
          8.54,
          50.11,
          90.6,
          179.12
         ],
         "customdata": [
          "<b>2</b><br>Layer: L03<br>Start: 10.430s<br>End: 21.930s<br>Duration: 11.500s",
          "<b>2</b><br>Layer: L03<br>Start: 51.380s<br>End: 62.950s<br>Duration: 11.570s",
          "<b>2</b><br>Layer: L03<br>Start: 91.880s<br>End: 104.140s<br>Duration: 12.260s",
          "<b>2</b><br>Layer: L03<br>Start: 152.970s<br>End: 166.310s<br>Duration: 13.340s",
          "<b>2</b><br>Layer: L03<br>Start: 178.470s<br>End: 191.310s<br>Duration: 12.840s",
          "<b>2</b><br>Layer: L04<br>Start: 10.430s<br>End: 21.930s<br>Duration: 11.500s",
          "<b>2</b><br>Layer: L04<br>Start: 52.020s<br>End: 62.950s<br>Duration: 10.930s",
          "<b>2</b><br>Layer: L04<br>Start: 92.500s<br>End: 104.140s<br>Duration: 11.640s",
          "<b>2</b><br>Layer: L04<br>Start: 153.600s<br>End: 165.670s<br>Duration: 12.070s",
          "<b>2</b><br>Layer: L04<br>Start: 179.120s<br>End: 191.310s<br>Duration: 12.190s",
          "<b>2</b><br>Layer: L05<br>Start: 9.160s<br>End: 22.560s<br>Duration: 13.400s",
          "<b>2</b><br>Layer: L05<br>Start: 51.380s<br>End: 64.240s<br>Duration: 12.860s",
          "<b>2</b><br>Layer: L05<br>Start: 91.880s<br>End: 104.770s<br>Duration: 12.890s",
          "<b>2</b><br>Layer: L05<br>Start: 152.360s<br>End: 166.960s<br>Duration: 14.600s",
          "<b>2</b><br>Layer: L05<br>Start: 178.470s<br>End: 191.950s<br>Duration: 13.480s",
          "<b>2</b><br>Layer: L06<br>Start: 9.160s<br>End: 22.560s<br>Duration: 13.400s",
          "<b>2</b><br>Layer: L06<br>Start: 51.380s<br>End: 64.240s<br>Duration: 12.860s",
          "<b>2</b><br>Layer: L06<br>Start: 91.880s<br>End: 104.770s<br>Duration: 12.890s",
          "<b>2</b><br>Layer: L06<br>Start: 152.360s<br>End: 166.960s<br>Duration: 14.600s",
          "<b>2</b><br>Layer: L06<br>Start: 178.470s<br>End: 191.950s<br>Duration: 13.480s",
          "<b>2</b><br>Layer: L07<br>Start: 9.160s<br>End: 22.560s<br>Duration: 13.400s",
          "<b>2</b><br>Layer: L07<br>Start: 51.380s<br>End: 64.240s<br>Duration: 12.860s",
          "<b>2</b><br>Layer: L07<br>Start: 91.880s<br>End: 104.770s<br>Duration: 12.890s",
          "<b>2</b><br>Layer: L07<br>Start: 152.970s<br>End: 166.960s<br>Duration: 13.990s",
          "<b>2</b><br>Layer: L07<br>Start: 179.120s<br>End: 191.950s<br>Duration: 12.830s",
          "<b>2</b><br>Layer: L08<br>Start: 8.540s<br>End: 23.210s<br>Duration: 14.670s",
          "<b>2</b><br>Layer: L08<br>Start: 50.740s<br>End: 64.900s<br>Duration: 14.160s",
          "<b>2</b><br>Layer: L08<br>Start: 91.250s<br>End: 104.770s<br>Duration: 13.520s",
          "<b>2</b><br>Layer: L08<br>Start: 151.710s<br>End: 166.960s<br>Duration: 15.250s",
          "<b>2</b><br>Layer: L08<br>Start: 177.830s<br>End: 191.950s<br>Duration: 14.120s",
          "<b>2</b><br>Layer: L09<br>Start: 8.540s<br>End: 23.210s<br>Duration: 14.670s",
          "<b>2</b><br>Layer: L09<br>Start: 50.740s<br>End: 64.900s<br>Duration: 14.160s",
          "<b>2</b><br>Layer: L09<br>Start: 91.250s<br>End: 104.770s<br>Duration: 13.520s",
          "<b>2</b><br>Layer: L09<br>Start: 154.840s<br>End: 166.960s<br>Duration: 12.120s",
          "<b>2</b><br>Layer: L09<br>Start: 178.470s<br>End: 191.950s<br>Duration: 13.480s",
          "<b>2</b><br>Layer: L10<br>Start: 8.540s<br>End: 23.210s<br>Duration: 14.670s",
          "<b>2</b><br>Layer: L10<br>Start: 50.740s<br>End: 64.900s<br>Duration: 14.160s",
          "<b>2</b><br>Layer: L10<br>Start: 90.600s<br>End: 104.770s<br>Duration: 14.170s",
          "<b>2</b><br>Layer: L10<br>Start: 154.840s<br>End: 166.960s<br>Duration: 12.120s",
          "<b>2</b><br>Layer: L10<br>Start: 178.470s<br>End: 191.950s<br>Duration: 13.480s",
          "<b>2</b><br>Layer: L11<br>Start: 8.540s<br>End: 23.210s<br>Duration: 14.670s",
          "<b>2</b><br>Layer: L11<br>Start: 50.110s<br>End: 64.900s<br>Duration: 14.790s",
          "<b>2</b><br>Layer: L11<br>Start: 90.600s<br>End: 104.770s<br>Duration: 14.170s",
          "<b>2</b><br>Layer: L11<br>Start: 154.840s<br>End: 166.960s<br>Duration: 12.120s",
          "<b>2</b><br>Layer: L11<br>Start: 178.470s<br>End: 191.950s<br>Duration: 13.480s",
          "<b>2</b><br>Layer: L12<br>Start: 8.540s<br>End: 23.210s<br>Duration: 14.670s",
          "<b>2</b><br>Layer: L12<br>Start: 50.110s<br>End: 64.900s<br>Duration: 14.790s",
          "<b>2</b><br>Layer: L12<br>Start: 90.600s<br>End: 112.480s<br>Duration: 21.880s",
          "<b>2</b><br>Layer: L12<br>Start: 179.120s<br>End: 191.950s<br>Duration: 12.830s"
         ],
         "hovertemplate": "%{customdata}<extra></extra>",
         "insidetextanchor": "middle",
         "marker": {
          "color": "#FF7F0E",
          "line": {
           "color": "white",
           "width": 0.5
          },
          "pattern": {
           "fgcolor": "white",
           "fgopacity": 0.5,
           "shape": "",
           "solidity": 0.25
          }
         },
         "name": "2",
         "orientation": "h",
         "showlegend": true,
         "text": [
          "2",
          "2",
          "2",
          "2",
          "2",
          "2",
          "2",
          "2",
          "2",
          "2",
          "2",
          "2",
          "2",
          "2",
          "2",
          "2",
          "2",
          "2",
          "2",
          "2",
          "2",
          "2",
          "2",
          "2",
          "2",
          "2",
          "2",
          "2",
          "2",
          "2",
          "2",
          "2",
          "2",
          "2",
          "2",
          "2",
          "2",
          "2",
          "2",
          "2",
          "2",
          "2",
          "2",
          "2",
          "2",
          "2",
          "2",
          "2",
          "2"
         ],
         "textposition": "inside",
         "type": "bar",
         "width": 1,
         "x": [
          11.5,
          11.57,
          12.260000000000005,
          13.340000000000003,
          12.840000000000003,
          11.5,
          10.93,
          11.64,
          12.069999999999993,
          12.189999999999998,
          13.399999999999999,
          12.859999999999992,
          12.89,
          14.599999999999994,
          13.47999999999999,
          13.399999999999999,
          12.859999999999992,
          12.89,
          14.599999999999994,
          13.47999999999999,
          13.399999999999999,
          12.859999999999992,
          12.89,
          13.990000000000009,
          12.829999999999984,
          14.670000000000002,
          14.160000000000004,
          13.519999999999996,
          15.25,
          14.119999999999976,
          14.670000000000002,
          14.160000000000004,
          13.519999999999996,
          12.120000000000005,
          13.47999999999999,
          14.670000000000002,
          14.160000000000004,
          14.170000000000002,
          12.120000000000005,
          13.47999999999999,
          14.670000000000002,
          14.790000000000006,
          14.170000000000002,
          12.120000000000005,
          13.47999999999999,
          14.670000000000002,
          14.790000000000006,
          21.88000000000001,
          12.829999999999984
         ],
         "y": [
          "L03",
          "L03",
          "L03",
          "L03",
          "L03",
          "L04",
          "L04",
          "L04",
          "L04",
          "L04",
          "L05",
          "L05",
          "L05",
          "L05",
          "L05",
          "L06",
          "L06",
          "L06",
          "L06",
          "L06",
          "L07",
          "L07",
          "L07",
          "L07",
          "L07",
          "L08",
          "L08",
          "L08",
          "L08",
          "L08",
          "L09",
          "L09",
          "L09",
          "L09",
          "L09",
          "L10",
          "L10",
          "L10",
          "L10",
          "L10",
          "L11",
          "L11",
          "L11",
          "L11",
          "L11",
          "L12",
          "L12",
          "L12",
          "L12"
         ]
        },
        {
         "base": [
          21.93,
          62.95,
          165.67,
          22.56,
          64.24,
          166.96,
          22.56,
          64.24,
          166.96,
          22.56,
          64.24,
          166.96,
          23.21,
          64.9,
          166.96,
          23.21,
          64.9,
          166.96,
          23.21,
          64.9,
          166.96,
          23.21,
          64.9,
          166.96,
          23.21,
          64.9
         ],
         "customdata": [
          "<b>3</b><br>Layer: L04<br>Start: 21.930s<br>End: 52.020s<br>Duration: 30.090s",
          "<b>3</b><br>Layer: L04<br>Start: 62.950s<br>End: 92.500s<br>Duration: 29.550s",
          "<b>3</b><br>Layer: L04<br>Start: 165.670s<br>End: 179.120s<br>Duration: 13.450s",
          "<b>3</b><br>Layer: L05<br>Start: 22.560s<br>End: 51.380s<br>Duration: 28.820s",
          "<b>3</b><br>Layer: L05<br>Start: 64.240s<br>End: 91.880s<br>Duration: 27.640s",
          "<b>3</b><br>Layer: L05<br>Start: 166.960s<br>End: 178.470s<br>Duration: 11.510s",
          "<b>3</b><br>Layer: L06<br>Start: 22.560s<br>End: 51.380s<br>Duration: 28.820s",
          "<b>3</b><br>Layer: L06<br>Start: 64.240s<br>End: 91.880s<br>Duration: 27.640s",
          "<b>3</b><br>Layer: L06<br>Start: 166.960s<br>End: 178.470s<br>Duration: 11.510s",
          "<b>3</b><br>Layer: L07<br>Start: 22.560s<br>End: 51.380s<br>Duration: 28.820s",
          "<b>3</b><br>Layer: L07<br>Start: 64.240s<br>End: 91.880s<br>Duration: 27.640s",
          "<b>3</b><br>Layer: L07<br>Start: 166.960s<br>End: 179.120s<br>Duration: 12.160s",
          "<b>3</b><br>Layer: L08<br>Start: 23.210s<br>End: 50.740s<br>Duration: 27.530s",
          "<b>3</b><br>Layer: L08<br>Start: 64.900s<br>End: 91.250s<br>Duration: 26.350s",
          "<b>3</b><br>Layer: L08<br>Start: 166.960s<br>End: 177.830s<br>Duration: 10.870s",
          "<b>3</b><br>Layer: L09<br>Start: 23.210s<br>End: 50.740s<br>Duration: 27.530s",
          "<b>3</b><br>Layer: L09<br>Start: 64.900s<br>End: 91.250s<br>Duration: 26.350s",
          "<b>3</b><br>Layer: L09<br>Start: 166.960s<br>End: 178.470s<br>Duration: 11.510s",
          "<b>3</b><br>Layer: L10<br>Start: 23.210s<br>End: 50.740s<br>Duration: 27.530s",
          "<b>3</b><br>Layer: L10<br>Start: 64.900s<br>End: 82.260s<br>Duration: 17.360s",
          "<b>3</b><br>Layer: L10<br>Start: 166.960s<br>End: 178.470s<br>Duration: 11.510s",
          "<b>3</b><br>Layer: L11<br>Start: 23.210s<br>End: 50.110s<br>Duration: 26.900s",
          "<b>3</b><br>Layer: L11<br>Start: 64.900s<br>End: 90.600s<br>Duration: 25.700s",
          "<b>3</b><br>Layer: L11<br>Start: 166.960s<br>End: 178.470s<br>Duration: 11.510s",
          "<b>3</b><br>Layer: L12<br>Start: 23.210s<br>End: 50.110s<br>Duration: 26.900s",
          "<b>3</b><br>Layer: L12<br>Start: 64.900s<br>End: 90.600s<br>Duration: 25.700s"
         ],
         "hovertemplate": "%{customdata}<extra></extra>",
         "insidetextanchor": "middle",
         "marker": {
          "color": "#2CA02C",
          "line": {
           "color": "white",
           "width": 0.5
          },
          "pattern": {
           "fgcolor": "white",
           "fgopacity": 0.5,
           "shape": "",
           "solidity": 0.25
          }
         },
         "name": "3",
         "orientation": "h",
         "showlegend": true,
         "text": [
          "3",
          "3",
          "3",
          "3",
          "3",
          "3",
          "3",
          "3",
          "3",
          "3",
          "3",
          "3",
          "3",
          "3",
          "3",
          "3",
          "3",
          "3",
          "3",
          "3",
          "3",
          "3",
          "3",
          "3",
          "3",
          "3"
         ],
         "textposition": "inside",
         "type": "bar",
         "width": 1,
         "x": [
          30.090000000000003,
          29.549999999999997,
          13.450000000000017,
          28.820000000000004,
          27.64,
          11.509999999999991,
          28.820000000000004,
          27.64,
          11.509999999999991,
          28.820000000000004,
          27.64,
          12.159999999999997,
          27.53,
          26.349999999999994,
          10.870000000000005,
          27.53,
          26.349999999999994,
          11.509999999999991,
          27.53,
          17.36,
          11.509999999999991,
          26.9,
          25.69999999999999,
          11.509999999999991,
          26.9,
          25.69999999999999
         ],
         "y": [
          "L04",
          "L04",
          "L04",
          "L05",
          "L05",
          "L05",
          "L06",
          "L06",
          "L06",
          "L07",
          "L07",
          "L07",
          "L08",
          "L08",
          "L08",
          "L09",
          "L09",
          "L09",
          "L10",
          "L10",
          "L10",
          "L11",
          "L11",
          "L11",
          "L12",
          "L12"
         ]
        },
        {
         "base": [
          134.48,
          139.6,
          139.6,
          139.6,
          135.78,
          113.1,
          135.14,
          112.48
         ],
         "customdata": [
          "<b>5</b><br>Layer: L06<br>Start: 134.480s<br>End: 152.360s<br>Duration: 17.880s",
          "<b>5</b><br>Layer: L07<br>Start: 139.600s<br>End: 152.970s<br>Duration: 13.370s",
          "<b>5</b><br>Layer: L08<br>Start: 139.600s<br>End: 151.710s<br>Duration: 12.110s",
          "<b>5</b><br>Layer: L09<br>Start: 139.600s<br>End: 154.840s<br>Duration: 15.240s",
          "<b>5</b><br>Layer: L10<br>Start: 135.780s<br>End: 144.070s<br>Duration: 8.290s",
          "<b>5</b><br>Layer: L11<br>Start: 113.100s<br>End: 126.020s<br>Duration: 12.920s",
          "<b>5</b><br>Layer: L11<br>Start: 135.140s<br>End: 145.360s<br>Duration: 10.220s",
          "<b>5</b><br>Layer: L12<br>Start: 112.480s<br>End: 145.360s<br>Duration: 32.880s"
         ],
         "hovertemplate": "%{customdata}<extra></extra>",
         "insidetextanchor": "middle",
         "marker": {
          "color": "#D62728",
          "line": {
           "color": "white",
           "width": 0.5
          },
          "pattern": {
           "fgcolor": "white",
           "fgopacity": 0.5,
           "shape": "",
           "solidity": 0.25
          }
         },
         "name": "5",
         "orientation": "h",
         "showlegend": true,
         "text": [
          "5",
          "5",
          "5",
          "5",
          "5",
          "5",
          "5",
          "5"
         ],
         "textposition": "inside",
         "type": "bar",
         "width": 1,
         "x": [
          17.880000000000024,
          13.370000000000005,
          12.110000000000014,
          15.240000000000009,
          8.289999999999992,
          12.920000000000002,
          10.220000000000027,
          32.88000000000001
         ],
         "y": [
          "L06",
          "L07",
          "L08",
          "L09",
          "L10",
          "L11",
          "L11",
          "L12"
         ]
        },
        {
         "base": [
          82.26
         ],
         "customdata": [
          "<b>8</b><br>Layer: L10<br>Start: 82.260s<br>End: 90.600s<br>Duration: 8.340s"
         ],
         "hovertemplate": "%{customdata}<extra></extra>",
         "insidetextanchor": "middle",
         "marker": {
          "color": "#9467BD",
          "line": {
           "color": "white",
           "width": 0.5
          },
          "pattern": {
           "fgcolor": "white",
           "fgopacity": 0.5,
           "shape": "",
           "solidity": 0.25
          }
         },
         "name": "8",
         "orientation": "h",
         "showlegend": true,
         "text": [
          "8"
         ],
         "textposition": "inside",
         "type": "bar",
         "width": 1,
         "x": [
          8.33999999999999
         ],
         "y": [
          "L10"
         ]
        },
        {
         "base": [
          144.07,
          145.36,
          145.36
         ],
         "customdata": [
          "<b>6</b><br>Layer: L10<br>Start: 144.070s<br>End: 154.840s<br>Duration: 10.770s",
          "<b>6</b><br>Layer: L11<br>Start: 145.360s<br>End: 154.840s<br>Duration: 9.480s",
          "<b>6</b><br>Layer: L12<br>Start: 145.360s<br>End: 154.840s<br>Duration: 9.480s"
         ],
         "hovertemplate": "%{customdata}<extra></extra>",
         "insidetextanchor": "middle",
         "marker": {
          "color": "#8C564B",
          "line": {
           "color": "white",
           "width": 0.5
          },
          "pattern": {
           "fgcolor": "white",
           "fgopacity": 0.5,
           "shape": "",
           "solidity": 0.25
          }
         },
         "name": "6",
         "orientation": "h",
         "showlegend": true,
         "text": [
          "6",
          "6",
          "6"
         ],
         "textposition": "inside",
         "type": "bar",
         "width": 1,
         "x": [
          10.77000000000001,
          9.47999999999999,
          9.47999999999999
         ],
         "y": [
          "L10",
          "L11",
          "L12"
         ]
        },
        {
         "base": [
          154.84
         ],
         "customdata": [
          "<b>11</b><br>Layer: L12<br>Start: 154.840s<br>End: 179.120s<br>Duration: 24.280s"
         ],
         "hovertemplate": "%{customdata}<extra></extra>",
         "insidetextanchor": "middle",
         "marker": {
          "color": "#E377C2",
          "line": {
           "color": "white",
           "width": 0.5
          },
          "pattern": {
           "fgcolor": "white",
           "fgopacity": 0.5,
           "shape": "",
           "solidity": 0.25
          }
         },
         "name": "11",
         "orientation": "h",
         "showlegend": true,
         "text": [
          "11"
         ],
         "textposition": "inside",
         "type": "bar",
         "width": 1,
         "x": [
          24.28
         ],
         "y": [
          "L12"
         ]
        }
       ],
       "layout": {
        "barmode": "overlay",
        "height": 320,
        "margin": {
         "b": 20,
         "l": 20,
         "r": 20,
         "t": 40
        },
        "showlegend": false,
        "template": {
         "data": {
          "bar": [
           {
            "error_x": {
             "color": "#2a3f5f"
            },
            "error_y": {
             "color": "#2a3f5f"
            },
            "marker": {
             "line": {
              "color": "#E5ECF6",
              "width": 0.5
             },
             "pattern": {
              "fillmode": "overlay",
              "size": 10,
              "solidity": 0.2
             }
            },
            "type": "bar"
           }
          ],
          "barpolar": [
           {
            "marker": {
             "line": {
              "color": "#E5ECF6",
              "width": 0.5
             },
             "pattern": {
              "fillmode": "overlay",
              "size": 10,
              "solidity": 0.2
             }
            },
            "type": "barpolar"
           }
          ],
          "carpet": [
           {
            "aaxis": {
             "endlinecolor": "#2a3f5f",
             "gridcolor": "white",
             "linecolor": "white",
             "minorgridcolor": "white",
             "startlinecolor": "#2a3f5f"
            },
            "baxis": {
             "endlinecolor": "#2a3f5f",
             "gridcolor": "white",
             "linecolor": "white",
             "minorgridcolor": "white",
             "startlinecolor": "#2a3f5f"
            },
            "type": "carpet"
           }
          ],
          "choropleth": [
           {
            "colorbar": {
             "outlinewidth": 0,
             "ticks": ""
            },
            "type": "choropleth"
           }
          ],
          "contour": [
           {
            "colorbar": {
             "outlinewidth": 0,
             "ticks": ""
            },
            "colorscale": [
             [
              0,
              "#0d0887"
             ],
             [
              0.1111111111111111,
              "#46039f"
             ],
             [
              0.2222222222222222,
              "#7201a8"
             ],
             [
              0.3333333333333333,
              "#9c179e"
             ],
             [
              0.4444444444444444,
              "#bd3786"
             ],
             [
              0.5555555555555556,
              "#d8576b"
             ],
             [
              0.6666666666666666,
              "#ed7953"
             ],
             [
              0.7777777777777778,
              "#fb9f3a"
             ],
             [
              0.8888888888888888,
              "#fdca26"
             ],
             [
              1,
              "#f0f921"
             ]
            ],
            "type": "contour"
           }
          ],
          "contourcarpet": [
           {
            "colorbar": {
             "outlinewidth": 0,
             "ticks": ""
            },
            "type": "contourcarpet"
           }
          ],
          "heatmap": [
           {
            "colorbar": {
             "outlinewidth": 0,
             "ticks": ""
            },
            "colorscale": [
             [
              0,
              "#0d0887"
             ],
             [
              0.1111111111111111,
              "#46039f"
             ],
             [
              0.2222222222222222,
              "#7201a8"
             ],
             [
              0.3333333333333333,
              "#9c179e"
             ],
             [
              0.4444444444444444,
              "#bd3786"
             ],
             [
              0.5555555555555556,
              "#d8576b"
             ],
             [
              0.6666666666666666,
              "#ed7953"
             ],
             [
              0.7777777777777778,
              "#fb9f3a"
             ],
             [
              0.8888888888888888,
              "#fdca26"
             ],
             [
              1,
              "#f0f921"
             ]
            ],
            "type": "heatmap"
           }
          ],
          "histogram": [
           {
            "marker": {
             "pattern": {
              "fillmode": "overlay",
              "size": 10,
              "solidity": 0.2
             }
            },
            "type": "histogram"
           }
          ],
          "histogram2d": [
           {
            "colorbar": {
             "outlinewidth": 0,
             "ticks": ""
            },
            "colorscale": [
             [
              0,
              "#0d0887"
             ],
             [
              0.1111111111111111,
              "#46039f"
             ],
             [
              0.2222222222222222,
              "#7201a8"
             ],
             [
              0.3333333333333333,
              "#9c179e"
             ],
             [
              0.4444444444444444,
              "#bd3786"
             ],
             [
              0.5555555555555556,
              "#d8576b"
             ],
             [
              0.6666666666666666,
              "#ed7953"
             ],
             [
              0.7777777777777778,
              "#fb9f3a"
             ],
             [
              0.8888888888888888,
              "#fdca26"
             ],
             [
              1,
              "#f0f921"
             ]
            ],
            "type": "histogram2d"
           }
          ],
          "histogram2dcontour": [
           {
            "colorbar": {
             "outlinewidth": 0,
             "ticks": ""
            },
            "colorscale": [
             [
              0,
              "#0d0887"
             ],
             [
              0.1111111111111111,
              "#46039f"
             ],
             [
              0.2222222222222222,
              "#7201a8"
             ],
             [
              0.3333333333333333,
              "#9c179e"
             ],
             [
              0.4444444444444444,
              "#bd3786"
             ],
             [
              0.5555555555555556,
              "#d8576b"
             ],
             [
              0.6666666666666666,
              "#ed7953"
             ],
             [
              0.7777777777777778,
              "#fb9f3a"
             ],
             [
              0.8888888888888888,
              "#fdca26"
             ],
             [
              1,
              "#f0f921"
             ]
            ],
            "type": "histogram2dcontour"
           }
          ],
          "mesh3d": [
           {
            "colorbar": {
             "outlinewidth": 0,
             "ticks": ""
            },
            "type": "mesh3d"
           }
          ],
          "parcoords": [
           {
            "line": {
             "colorbar": {
              "outlinewidth": 0,
              "ticks": ""
             }
            },
            "type": "parcoords"
           }
          ],
          "pie": [
           {
            "automargin": true,
            "type": "pie"
           }
          ],
          "scatter": [
           {
            "fillpattern": {
             "fillmode": "overlay",
             "size": 10,
             "solidity": 0.2
            },
            "type": "scatter"
           }
          ],
          "scatter3d": [
           {
            "line": {
             "colorbar": {
              "outlinewidth": 0,
              "ticks": ""
             }
            },
            "marker": {
             "colorbar": {
              "outlinewidth": 0,
              "ticks": ""
             }
            },
            "type": "scatter3d"
           }
          ],
          "scattercarpet": [
           {
            "marker": {
             "colorbar": {
              "outlinewidth": 0,
              "ticks": ""
             }
            },
            "type": "scattercarpet"
           }
          ],
          "scattergeo": [
           {
            "marker": {
             "colorbar": {
              "outlinewidth": 0,
              "ticks": ""
             }
            },
            "type": "scattergeo"
           }
          ],
          "scattergl": [
           {
            "marker": {
             "colorbar": {
              "outlinewidth": 0,
              "ticks": ""
             }
            },
            "type": "scattergl"
           }
          ],
          "scattermap": [
           {
            "marker": {
             "colorbar": {
              "outlinewidth": 0,
              "ticks": ""
             }
            },
            "type": "scattermap"
           }
          ],
          "scattermapbox": [
           {
            "marker": {
             "colorbar": {
              "outlinewidth": 0,
              "ticks": ""
             }
            },
            "type": "scattermapbox"
           }
          ],
          "scatterpolar": [
           {
            "marker": {
             "colorbar": {
              "outlinewidth": 0,
              "ticks": ""
             }
            },
            "type": "scatterpolar"
           }
          ],
          "scatterpolargl": [
           {
            "marker": {
             "colorbar": {
              "outlinewidth": 0,
              "ticks": ""
             }
            },
            "type": "scatterpolargl"
           }
          ],
          "scatterternary": [
           {
            "marker": {
             "colorbar": {
              "outlinewidth": 0,
              "ticks": ""
             }
            },
            "type": "scatterternary"
           }
          ],
          "surface": [
           {
            "colorbar": {
             "outlinewidth": 0,
             "ticks": ""
            },
            "colorscale": [
             [
              0,
              "#0d0887"
             ],
             [
              0.1111111111111111,
              "#46039f"
             ],
             [
              0.2222222222222222,
              "#7201a8"
             ],
             [
              0.3333333333333333,
              "#9c179e"
             ],
             [
              0.4444444444444444,
              "#bd3786"
             ],
             [
              0.5555555555555556,
              "#d8576b"
             ],
             [
              0.6666666666666666,
              "#ed7953"
             ],
             [
              0.7777777777777778,
              "#fb9f3a"
             ],
             [
              0.8888888888888888,
              "#fdca26"
             ],
             [
              1,
              "#f0f921"
             ]
            ],
            "type": "surface"
           }
          ],
          "table": [
           {
            "cells": {
             "fill": {
              "color": "#EBF0F8"
             },
             "line": {
              "color": "white"
             }
            },
            "header": {
             "fill": {
              "color": "#C8D4E3"
             },
             "line": {
              "color": "white"
             }
            },
            "type": "table"
           }
          ]
         },
         "layout": {
          "annotationdefaults": {
           "arrowcolor": "#2a3f5f",
           "arrowhead": 0,
           "arrowwidth": 1
          },
          "autotypenumbers": "strict",
          "coloraxis": {
           "colorbar": {
            "outlinewidth": 0,
            "ticks": ""
           }
          },
          "colorscale": {
           "diverging": [
            [
             0,
             "#8e0152"
            ],
            [
             0.1,
             "#c51b7d"
            ],
            [
             0.2,
             "#de77ae"
            ],
            [
             0.3,
             "#f1b6da"
            ],
            [
             0.4,
             "#fde0ef"
            ],
            [
             0.5,
             "#f7f7f7"
            ],
            [
             0.6,
             "#e6f5d0"
            ],
            [
             0.7,
             "#b8e186"
            ],
            [
             0.8,
             "#7fbc41"
            ],
            [
             0.9,
             "#4d9221"
            ],
            [
             1,
             "#276419"
            ]
           ],
           "sequential": [
            [
             0,
             "#0d0887"
            ],
            [
             0.1111111111111111,
             "#46039f"
            ],
            [
             0.2222222222222222,
             "#7201a8"
            ],
            [
             0.3333333333333333,
             "#9c179e"
            ],
            [
             0.4444444444444444,
             "#bd3786"
            ],
            [
             0.5555555555555556,
             "#d8576b"
            ],
            [
             0.6666666666666666,
             "#ed7953"
            ],
            [
             0.7777777777777778,
             "#fb9f3a"
            ],
            [
             0.8888888888888888,
             "#fdca26"
            ],
            [
             1,
             "#f0f921"
            ]
           ],
           "sequentialminus": [
            [
             0,
             "#0d0887"
            ],
            [
             0.1111111111111111,
             "#46039f"
            ],
            [
             0.2222222222222222,
             "#7201a8"
            ],
            [
             0.3333333333333333,
             "#9c179e"
            ],
            [
             0.4444444444444444,
             "#bd3786"
            ],
            [
             0.5555555555555556,
             "#d8576b"
            ],
            [
             0.6666666666666666,
             "#ed7953"
            ],
            [
             0.7777777777777778,
             "#fb9f3a"
            ],
            [
             0.8888888888888888,
             "#fdca26"
            ],
            [
             1,
             "#f0f921"
            ]
           ]
          },
          "colorway": [
           "#636efa",
           "#EF553B",
           "#00cc96",
           "#ab63fa",
           "#FFA15A",
           "#19d3f3",
           "#FF6692",
           "#B6E880",
           "#FF97FF",
           "#FECB52"
          ],
          "font": {
           "color": "#2a3f5f"
          },
          "geo": {
           "bgcolor": "white",
           "lakecolor": "white",
           "landcolor": "#E5ECF6",
           "showlakes": true,
           "showland": true,
           "subunitcolor": "white"
          },
          "hoverlabel": {
           "align": "left"
          },
          "hovermode": "closest",
          "mapbox": {
           "style": "light"
          },
          "paper_bgcolor": "white",
          "plot_bgcolor": "#E5ECF6",
          "polar": {
           "angularaxis": {
            "gridcolor": "white",
            "linecolor": "white",
            "ticks": ""
           },
           "bgcolor": "#E5ECF6",
           "radialaxis": {
            "gridcolor": "white",
            "linecolor": "white",
            "ticks": ""
           }
          },
          "scene": {
           "xaxis": {
            "backgroundcolor": "#E5ECF6",
            "gridcolor": "white",
            "gridwidth": 2,
            "linecolor": "white",
            "showbackground": true,
            "ticks": "",
            "zerolinecolor": "white"
           },
           "yaxis": {
            "backgroundcolor": "#E5ECF6",
            "gridcolor": "white",
            "gridwidth": 2,
            "linecolor": "white",
            "showbackground": true,
            "ticks": "",
            "zerolinecolor": "white"
           },
           "zaxis": {
            "backgroundcolor": "#E5ECF6",
            "gridcolor": "white",
            "gridwidth": 2,
            "linecolor": "white",
            "showbackground": true,
            "ticks": "",
            "zerolinecolor": "white"
           }
          },
          "shapedefaults": {
           "line": {
            "color": "#2a3f5f"
           }
          },
          "ternary": {
           "aaxis": {
            "gridcolor": "white",
            "linecolor": "white",
            "ticks": ""
           },
           "baxis": {
            "gridcolor": "white",
            "linecolor": "white",
            "ticks": ""
           },
           "bgcolor": "#E5ECF6",
           "caxis": {
            "gridcolor": "white",
            "linecolor": "white",
            "ticks": ""
           }
          },
          "title": {
           "x": 0.05
          },
          "xaxis": {
           "automargin": true,
           "gridcolor": "white",
           "linecolor": "white",
           "ticks": "",
           "title": {
            "standoff": 15
           },
           "zerolinecolor": "white",
           "zerolinewidth": 2
          },
          "yaxis": {
           "automargin": true,
           "gridcolor": "white",
           "linecolor": "white",
           "ticks": "",
           "title": {
            "standoff": 15
           },
           "zerolinecolor": "white",
           "zerolinewidth": 2
          }
         }
        },
        "title": {
         "text": "Hierarchical Segmentation",
         "x": 0.5
        },
        "width": 650,
        "xaxis": {
         "range": [
          0,
          222.04481
         ],
         "title": {
          "text": "Time (s)"
         }
        },
        "yaxis": {
         "categoryarray": [
          "L12",
          "L11",
          "L10",
          "L09",
          "L08",
          "L07",
          "L06",
          "L05",
          "L04",
          "L03"
         ],
         "categoryorder": "array",
         "title": {}
        }
       }
      }
     },
     "metadata": {},
     "output_type": "display_data"
    }
   ],
   "source": [
    "from bnl import MultiSegment as MS\n",
    "MS(aligned_est[2:]).plot()"
   ]
  },
  {
   "cell_type": "code",
   "execution_count": null,
   "metadata": {},
   "outputs": [],
   "source": [
    "# Study the effect of monotonic casting and T-measure"
   ]
  }
 ],
 "metadata": {
  "kernelspec": {
   "display_name": "py311",
   "language": "python",
   "name": "python3"
  },
  "language_info": {
   "codemirror_mode": {
    "name": "ipython",
    "version": 3
   },
   "file_extension": ".py",
   "mimetype": "text/x-python",
   "name": "python",
   "nbconvert_exporter": "python",
   "pygments_lexer": "ipython3",
   "version": "3.11.13"
  }
 },
 "nbformat": 4,
 "nbformat_minor": 4
}
