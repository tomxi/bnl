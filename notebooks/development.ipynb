{
 "cells": [
  {
   "cell_type": "markdown",
   "metadata": {},
   "source": [
    "# BNL Development Notebook\n",
    "\n",
    "This notebook is for developing and testing the BNL package.\n"
   ]
  },
  {
   "cell_type": "code",
   "execution_count": 59,
   "metadata": {},
   "outputs": [
    {
     "name": "stdout",
     "output_type": "stream",
     "text": [
      "The autoreload extension is already loaded. To reload it, use:\n",
      "  %reload_ext autoreload\n"
     ]
    }
   ],
   "source": [
    "%load_ext autoreload\n",
    "%autoreload 2\n",
    "\n",
    "import bnl\n",
    "\n",
    "# R2_BUCKET_PUBLIC_URL = \"https://pub-05e404c031184ec4bbf69b0c2321b98e.r2.dev\"\n",
    "\n",
    "# slm_ds = bnl.data.Dataset(manifest_path=f\"{R2_BUCKET_PUBLIC_URL}/manifest_cloud_boolean.csv\")\n",
    "slm_ds = bnl.data.Dataset(manifest_path=\"~/data/salami/metadata.csv\")\n",
    "# slm_ds = bnl.data.Dataset()\n",
    "track = slm_ds[11]\n",
    "est = track.load_annotation(\"adobe-mu1gamma1\")\n",
    "ref = track.load_annotation(\"reference\")"
   ]
  },
  {
   "cell_type": "code",
   "execution_count": 60,
   "metadata": {},
   "outputs": [
    {
     "data": {
      "application/vnd.plotly.v1+json": {
       "config": {
        "plotlyServerURL": "https://plot.ly"
       },
       "data": [
        {
         "base": [
          0,
          218.70875
         ],
         "customdata": [
          "<b>silence</b><br>Layer: coarse<br>Start: 0.000s<br>End: 0.224s<br>Duration: 0.224s",
          "<b>silence</b><br>Layer: coarse<br>Start: 218.709s<br>End: 222.045s<br>Duration: 3.336s"
         ],
         "hovertemplate": "%{customdata}<extra></extra>",
         "insidetextanchor": "middle",
         "marker": {
          "color": "#1F77B4",
          "line": {
           "color": "white",
           "width": 0.5
          },
          "pattern": {
           "fgcolor": "white",
           "fgopacity": 0.5,
           "shape": "",
           "solidity": 0.25
          }
         },
         "name": "silence",
         "orientation": "h",
         "showlegend": true,
         "text": [
          "silence",
          "silence"
         ],
         "textposition": "inside",
         "type": "bar",
         "width": 1,
         "x": [
          0.22449,
          3.3360600000000034
         ],
         "y": [
          "coarse",
          "coarse"
         ]
        },
        {
         "base": [
          0.22449
         ],
         "customdata": [
          "<b>intro</b><br>Layer: coarse<br>Start: 0.224s<br>End: 11.086s<br>Duration: 10.861s"
         ],
         "hovertemplate": "%{customdata}<extra></extra>",
         "insidetextanchor": "middle",
         "marker": {
          "color": "#FF7F0E",
          "line": {
           "color": "white",
           "width": 0.5
          },
          "pattern": {
           "fgcolor": "white",
           "fgopacity": 0.5,
           "shape": "",
           "solidity": 0.25
          }
         },
         "name": "intro",
         "orientation": "h",
         "showlegend": true,
         "text": [
          "intro"
         ],
         "textposition": "inside",
         "type": "bar",
         "width": 1,
         "x": [
          10.861220000000001
         ],
         "y": [
          "coarse"
         ]
        },
        {
         "base": [
          11.08571,
          52.04735,
          93.1551,
          154.83674,
          180.40816
         ],
         "customdata": [
          "<b>chorus</b><br>Layer: coarse<br>Start: 11.086s<br>End: 21.290s<br>Duration: 10.204s",
          "<b>chorus</b><br>Layer: coarse<br>Start: 52.047s<br>End: 62.310s<br>Duration: 10.263s",
          "<b>chorus</b><br>Layer: coarse<br>Start: 93.155s<br>End: 103.465s<br>Duration: 10.310s",
          "<b>chorus</b><br>Layer: coarse<br>Start: 154.837s<br>End: 165.049s<br>Duration: 10.212s",
          "<b>chorus</b><br>Layer: coarse<br>Start: 180.408s<br>End: 190.637s<br>Duration: 10.229s"
         ],
         "hovertemplate": "%{customdata}<extra></extra>",
         "insidetextanchor": "middle",
         "marker": {
          "color": "#2CA02C",
          "line": {
           "color": "white",
           "width": 0.5
          },
          "pattern": {
           "fgcolor": "white",
           "fgopacity": 0.5,
           "shape": "",
           "solidity": 0.25
          }
         },
         "name": "chorus",
         "orientation": "h",
         "showlegend": true,
         "text": [
          "chorus",
          "chorus",
          "chorus",
          "chorus",
          "chorus"
         ],
         "textposition": "inside",
         "type": "bar",
         "width": 1,
         "x": [
          10.204089999999999,
          10.26285,
          10.310209999999998,
          10.212240000000008,
          10.228579999999994
         ],
         "y": [
          "coarse",
          "coarse",
          "coarse",
          "coarse",
          "coarse"
         ]
        },
        {
         "base": [
          21.2898,
          62.3102
         ],
         "customdata": [
          "<b>pre-verse</b><br>Layer: coarse<br>Start: 21.290s<br>End: 31.507s<br>Duration: 10.218s",
          "<b>pre-verse</b><br>Layer: coarse<br>Start: 62.310s<br>End: 72.608s<br>Duration: 10.298s"
         ],
         "hovertemplate": "%{customdata}<extra></extra>",
         "insidetextanchor": "middle",
         "marker": {
          "color": "#D62728",
          "line": {
           "color": "white",
           "width": 0.5
          },
          "pattern": {
           "fgcolor": "white",
           "fgopacity": 0.5,
           "shape": "",
           "solidity": 0.25
          }
         },
         "name": "pre-verse",
         "orientation": "h",
         "showlegend": true,
         "text": [
          "pre-verse",
          "pre-verse"
         ],
         "textposition": "inside",
         "type": "bar",
         "width": 1,
         "x": [
          10.217659999999999,
          10.297959999999996
         ],
         "y": [
          "coarse",
          "coarse"
         ]
        },
        {
         "base": [
          31.50746,
          72.60816,
          165.04898
         ],
         "customdata": [
          "<b>verse</b><br>Layer: coarse<br>Start: 31.507s<br>End: 52.047s<br>Duration: 20.540s",
          "<b>verse</b><br>Layer: coarse<br>Start: 72.608s<br>End: 93.155s<br>Duration: 20.547s",
          "<b>verse</b><br>Layer: coarse<br>Start: 165.049s<br>End: 180.408s<br>Duration: 15.359s"
         ],
         "hovertemplate": "%{customdata}<extra></extra>",
         "insidetextanchor": "middle",
         "marker": {
          "color": "#9467BD",
          "line": {
           "color": "white",
           "width": 0.5
          },
          "pattern": {
           "fgcolor": "white",
           "fgopacity": 0.5,
           "shape": "",
           "solidity": 0.25
          }
         },
         "name": "verse",
         "orientation": "h",
         "showlegend": true,
         "text": [
          "verse",
          "verse",
          "verse"
         ],
         "textposition": "inside",
         "type": "bar",
         "width": 1,
         "x": [
          20.539890000000003,
          20.546940000000006,
          15.35918000000001
         ],
         "y": [
          "coarse",
          "coarse",
          "coarse"
         ]
        },
        {
         "base": [
          103.46531
         ],
         "customdata": [
          "<b>break</b><br>Layer: coarse<br>Start: 103.465s<br>End: 134.485s<br>Duration: 31.020s"
         ],
         "hovertemplate": "%{customdata}<extra></extra>",
         "insidetextanchor": "middle",
         "marker": {
          "color": "#8C564B",
          "line": {
           "color": "white",
           "width": 0.5
          },
          "pattern": {
           "fgcolor": "white",
           "fgopacity": 0.5,
           "shape": "",
           "solidity": 0.25
          }
         },
         "name": "break",
         "orientation": "h",
         "showlegend": true,
         "text": [
          "break"
         ],
         "textposition": "inside",
         "type": "bar",
         "width": 1,
         "x": [
          31.019999999999996
         ],
         "y": [
          "coarse"
         ]
        },
        {
         "base": [
          134.48531
         ],
         "customdata": [
          "<b>no_function</b><br>Layer: coarse<br>Start: 134.485s<br>End: 154.837s<br>Duration: 20.351s"
         ],
         "hovertemplate": "%{customdata}<extra></extra>",
         "insidetextanchor": "middle",
         "marker": {
          "color": "#E377C2",
          "line": {
           "color": "white",
           "width": 0.5
          },
          "pattern": {
           "fgcolor": "white",
           "fgopacity": 0.5,
           "shape": "",
           "solidity": 0.25
          }
         },
         "name": "no_function",
         "orientation": "h",
         "showlegend": true,
         "text": [
          "no_function"
         ],
         "textposition": "inside",
         "type": "bar",
         "width": 1,
         "x": [
          20.351429999999993
         ],
         "y": [
          "coarse"
         ]
        },
        {
         "base": [
          190.63674
         ],
         "customdata": [
          "<b>outro</b><br>Layer: coarse<br>Start: 190.637s<br>End: 218.709s<br>Duration: 28.072s"
         ],
         "hovertemplate": "%{customdata}<extra></extra>",
         "insidetextanchor": "middle",
         "marker": {
          "color": "#7F7F7F",
          "line": {
           "color": "white",
           "width": 0.5
          },
          "pattern": {
           "fgcolor": "white",
           "fgopacity": 0.5,
           "shape": "",
           "solidity": 0.25
          }
         },
         "name": "outro",
         "orientation": "h",
         "showlegend": true,
         "text": [
          "outro"
         ],
         "textposition": "inside",
         "type": "bar",
         "width": 1,
         "x": [
          28.072010000000006
         ],
         "y": [
          "coarse"
         ]
        },
        {
         "base": [
          0,
          218.70875
         ],
         "customdata": [
          "<b>Silence</b><br>Layer: fine<br>Start: 0.000s<br>End: 0.224s<br>Duration: 0.224s",
          "<b>Silence</b><br>Layer: fine<br>Start: 218.709s<br>End: 222.045s<br>Duration: 3.336s"
         ],
         "hovertemplate": "%{customdata}<extra></extra>",
         "insidetextanchor": "middle",
         "marker": {
          "color": "#BCBD22",
          "line": {
           "color": "white",
           "width": 0.5
          },
          "pattern": {
           "fgcolor": "white",
           "fgopacity": 0.5,
           "shape": "",
           "solidity": 0.25
          }
         },
         "name": "Silence",
         "orientation": "h",
         "showlegend": true,
         "text": [
          "Silence",
          "Silence"
         ],
         "textposition": "inside",
         "type": "bar",
         "width": 1,
         "x": [
          0.22449,
          3.3360600000000034
         ],
         "y": [
          "fine",
          "fine"
         ]
        },
        {
         "base": [
          0.22449
         ],
         "customdata": [
          "<b>b</b><br>Layer: fine<br>Start: 0.224s<br>End: 11.086s<br>Duration: 10.861s"
         ],
         "hovertemplate": "%{customdata}<extra></extra>",
         "insidetextanchor": "middle",
         "marker": {
          "color": "#17BECF",
          "line": {
           "color": "white",
           "width": 0.5
          },
          "pattern": {
           "fgcolor": "white",
           "fgopacity": 0.5,
           "shape": "",
           "solidity": 0.25
          }
         },
         "name": "b",
         "orientation": "h",
         "showlegend": true,
         "text": [
          "b"
         ],
         "textposition": "inside",
         "type": "bar",
         "width": 1,
         "x": [
          10.861220000000001
         ],
         "y": [
          "fine"
         ]
        },
        {
         "base": [
          11.08571
         ],
         "customdata": [
          "<b>c</b><br>Layer: fine<br>Start: 11.086s<br>End: 21.290s<br>Duration: 10.204s"
         ],
         "hovertemplate": "%{customdata}<extra></extra>",
         "insidetextanchor": "middle",
         "marker": {
          "color": "#1F77B4",
          "line": {
           "color": "white",
           "width": 0.5
          },
          "pattern": {
           "fgcolor": "white",
           "fgopacity": 0.5,
           "shape": ".",
           "solidity": 0.25
          }
         },
         "name": "c",
         "orientation": "h",
         "showlegend": true,
         "text": [
          "c"
         ],
         "textposition": "inside",
         "type": "bar",
         "width": 1,
         "x": [
          10.204089999999999
         ],
         "y": [
          "fine"
         ]
        },
        {
         "base": [
          21.2898
         ],
         "customdata": [
          "<b>d</b><br>Layer: fine<br>Start: 21.290s<br>End: 31.507s<br>Duration: 10.218s"
         ],
         "hovertemplate": "%{customdata}<extra></extra>",
         "insidetextanchor": "middle",
         "marker": {
          "color": "#FF7F0E",
          "line": {
           "color": "white",
           "width": 0.5
          },
          "pattern": {
           "fgcolor": "white",
           "fgopacity": 0.5,
           "shape": ".",
           "solidity": 0.25
          }
         },
         "name": "d",
         "orientation": "h",
         "showlegend": true,
         "text": [
          "d"
         ],
         "textposition": "inside",
         "type": "bar",
         "width": 1,
         "x": [
          10.217659999999999
         ],
         "y": [
          "fine"
         ]
        },
        {
         "base": [
          31.50746
         ],
         "customdata": [
          "<b>e</b><br>Layer: fine<br>Start: 31.507s<br>End: 41.759s<br>Duration: 10.252s"
         ],
         "hovertemplate": "%{customdata}<extra></extra>",
         "insidetextanchor": "middle",
         "marker": {
          "color": "#2CA02C",
          "line": {
           "color": "white",
           "width": 0.5
          },
          "pattern": {
           "fgcolor": "white",
           "fgopacity": 0.5,
           "shape": ".",
           "solidity": 0.25
          }
         },
         "name": "e",
         "orientation": "h",
         "showlegend": true,
         "text": [
          "e"
         ],
         "textposition": "inside",
         "type": "bar",
         "width": 1,
         "x": [
          10.251720000000002
         ],
         "y": [
          "fine"
         ]
        },
        {
         "base": [
          41.75918
         ],
         "customdata": [
          "<b>f</b><br>Layer: fine<br>Start: 41.759s<br>End: 52.047s<br>Duration: 10.288s"
         ],
         "hovertemplate": "%{customdata}<extra></extra>",
         "insidetextanchor": "middle",
         "marker": {
          "color": "#D62728",
          "line": {
           "color": "white",
           "width": 0.5
          },
          "pattern": {
           "fgcolor": "white",
           "fgopacity": 0.5,
           "shape": ".",
           "solidity": 0.25
          }
         },
         "name": "f",
         "orientation": "h",
         "showlegend": true,
         "text": [
          "f"
         ],
         "textposition": "inside",
         "type": "bar",
         "width": 1,
         "x": [
          10.288170000000001
         ],
         "y": [
          "fine"
         ]
        },
        {
         "base": [
          52.04735
         ],
         "customdata": [
          "<b>g</b><br>Layer: fine<br>Start: 52.047s<br>End: 62.310s<br>Duration: 10.263s"
         ],
         "hovertemplate": "%{customdata}<extra></extra>",
         "insidetextanchor": "middle",
         "marker": {
          "color": "#9467BD",
          "line": {
           "color": "white",
           "width": 0.5
          },
          "pattern": {
           "fgcolor": "white",
           "fgopacity": 0.5,
           "shape": ".",
           "solidity": 0.25
          }
         },
         "name": "g",
         "orientation": "h",
         "showlegend": true,
         "text": [
          "g"
         ],
         "textposition": "inside",
         "type": "bar",
         "width": 1,
         "x": [
          10.26285
         ],
         "y": [
          "fine"
         ]
        },
        {
         "base": [
          62.3102
         ],
         "customdata": [
          "<b>h</b><br>Layer: fine<br>Start: 62.310s<br>End: 72.608s<br>Duration: 10.298s"
         ],
         "hovertemplate": "%{customdata}<extra></extra>",
         "insidetextanchor": "middle",
         "marker": {
          "color": "#8C564B",
          "line": {
           "color": "white",
           "width": 0.5
          },
          "pattern": {
           "fgcolor": "white",
           "fgopacity": 0.5,
           "shape": ".",
           "solidity": 0.25
          }
         },
         "name": "h",
         "orientation": "h",
         "showlegend": true,
         "text": [
          "h"
         ],
         "textposition": "inside",
         "type": "bar",
         "width": 1,
         "x": [
          10.297959999999996
         ],
         "y": [
          "fine"
         ]
        },
        {
         "base": [
          72.60816
         ],
         "customdata": [
          "<b>i</b><br>Layer: fine<br>Start: 72.608s<br>End: 82.914s<br>Duration: 10.306s"
         ],
         "hovertemplate": "%{customdata}<extra></extra>",
         "insidetextanchor": "middle",
         "marker": {
          "color": "#E377C2",
          "line": {
           "color": "white",
           "width": 0.5
          },
          "pattern": {
           "fgcolor": "white",
           "fgopacity": 0.5,
           "shape": ".",
           "solidity": 0.25
          }
         },
         "name": "i",
         "orientation": "h",
         "showlegend": true,
         "text": [
          "i"
         ],
         "textposition": "inside",
         "type": "bar",
         "width": 1,
         "x": [
          10.306129999999996
         ],
         "y": [
          "fine"
         ]
        },
        {
         "base": [
          82.91429
         ],
         "customdata": [
          "<b>j</b><br>Layer: fine<br>Start: 82.914s<br>End: 93.155s<br>Duration: 10.241s"
         ],
         "hovertemplate": "%{customdata}<extra></extra>",
         "insidetextanchor": "middle",
         "marker": {
          "color": "#7F7F7F",
          "line": {
           "color": "white",
           "width": 0.5
          },
          "pattern": {
           "fgcolor": "white",
           "fgopacity": 0.5,
           "shape": ".",
           "solidity": 0.25
          }
         },
         "name": "j",
         "orientation": "h",
         "showlegend": true,
         "text": [
          "j"
         ],
         "textposition": "inside",
         "type": "bar",
         "width": 1,
         "x": [
          10.24081000000001
         ],
         "y": [
          "fine"
         ]
        },
        {
         "base": [
          93.1551
         ],
         "customdata": [
          "<b>k</b><br>Layer: fine<br>Start: 93.155s<br>End: 103.465s<br>Duration: 10.310s"
         ],
         "hovertemplate": "%{customdata}<extra></extra>",
         "insidetextanchor": "middle",
         "marker": {
          "color": "#BCBD22",
          "line": {
           "color": "white",
           "width": 0.5
          },
          "pattern": {
           "fgcolor": "white",
           "fgopacity": 0.5,
           "shape": ".",
           "solidity": 0.25
          }
         },
         "name": "k",
         "orientation": "h",
         "showlegend": true,
         "text": [
          "k"
         ],
         "textposition": "inside",
         "type": "bar",
         "width": 1,
         "x": [
          10.310209999999998
         ],
         "y": [
          "fine"
         ]
        },
        {
         "base": [
          103.46531
         ],
         "customdata": [
          "<b>l</b><br>Layer: fine<br>Start: 103.465s<br>End: 113.759s<br>Duration: 10.294s"
         ],
         "hovertemplate": "%{customdata}<extra></extra>",
         "insidetextanchor": "middle",
         "marker": {
          "color": "#17BECF",
          "line": {
           "color": "white",
           "width": 0.5
          },
          "pattern": {
           "fgcolor": "white",
           "fgopacity": 0.5,
           "shape": ".",
           "solidity": 0.25
          }
         },
         "name": "l",
         "orientation": "h",
         "showlegend": true,
         "text": [
          "l"
         ],
         "textposition": "inside",
         "type": "bar",
         "width": 1,
         "x": [
          10.293869999999998
         ],
         "y": [
          "fine"
         ]
        },
        {
         "base": [
          113.75918
         ],
         "customdata": [
          "<b>m</b><br>Layer: fine<br>Start: 113.759s<br>End: 124.086s<br>Duration: 10.327s"
         ],
         "hovertemplate": "%{customdata}<extra></extra>",
         "insidetextanchor": "middle",
         "marker": {
          "color": "#1F77B4",
          "line": {
           "color": "white",
           "width": 0.5
          },
          "pattern": {
           "fgcolor": "white",
           "fgopacity": 0.5,
           "shape": "x",
           "solidity": 0.25
          }
         },
         "name": "m",
         "orientation": "h",
         "showlegend": true,
         "text": [
          "m"
         ],
         "textposition": "inside",
         "type": "bar",
         "width": 1,
         "x": [
          10.326530000000005
         ],
         "y": [
          "fine"
         ]
        },
        {
         "base": [
          124.08571
         ],
         "customdata": [
          "<b>n</b><br>Layer: fine<br>Start: 124.086s<br>End: 134.485s<br>Duration: 10.400s"
         ],
         "hovertemplate": "%{customdata}<extra></extra>",
         "insidetextanchor": "middle",
         "marker": {
          "color": "#FF7F0E",
          "line": {
           "color": "white",
           "width": 0.5
          },
          "pattern": {
           "fgcolor": "white",
           "fgopacity": 0.5,
           "shape": "x",
           "solidity": 0.25
          }
         },
         "name": "n",
         "orientation": "h",
         "showlegend": true,
         "text": [
          "n"
         ],
         "textposition": "inside",
         "type": "bar",
         "width": 1,
         "x": [
          10.399599999999992
         ],
         "y": [
          "fine"
         ]
        },
        {
         "base": [
          134.48531
         ],
         "customdata": [
          "<b>o</b><br>Layer: fine<br>Start: 134.485s<br>End: 144.698s<br>Duration: 10.212s"
         ],
         "hovertemplate": "%{customdata}<extra></extra>",
         "insidetextanchor": "middle",
         "marker": {
          "color": "#2CA02C",
          "line": {
           "color": "white",
           "width": 0.5
          },
          "pattern": {
           "fgcolor": "white",
           "fgopacity": 0.5,
           "shape": "x",
           "solidity": 0.25
          }
         },
         "name": "o",
         "orientation": "h",
         "showlegend": true,
         "text": [
          "o"
         ],
         "textposition": "inside",
         "type": "bar",
         "width": 1,
         "x": [
          10.21244999999999
         ],
         "y": [
          "fine"
         ]
        },
        {
         "base": [
          144.69776
         ],
         "customdata": [
          "<b>p</b><br>Layer: fine<br>Start: 144.698s<br>End: 154.837s<br>Duration: 10.139s"
         ],
         "hovertemplate": "%{customdata}<extra></extra>",
         "insidetextanchor": "middle",
         "marker": {
          "color": "#D62728",
          "line": {
           "color": "white",
           "width": 0.5
          },
          "pattern": {
           "fgcolor": "white",
           "fgopacity": 0.5,
           "shape": "x",
           "solidity": 0.25
          }
         },
         "name": "p",
         "orientation": "h",
         "showlegend": true,
         "text": [
          "p"
         ],
         "textposition": "inside",
         "type": "bar",
         "width": 1,
         "x": [
          10.138980000000004
         ],
         "y": [
          "fine"
         ]
        },
        {
         "base": [
          154.83674
         ],
         "customdata": [
          "<b>q</b><br>Layer: fine<br>Start: 154.837s<br>End: 165.049s<br>Duration: 10.212s"
         ],
         "hovertemplate": "%{customdata}<extra></extra>",
         "insidetextanchor": "middle",
         "marker": {
          "color": "#9467BD",
          "line": {
           "color": "white",
           "width": 0.5
          },
          "pattern": {
           "fgcolor": "white",
           "fgopacity": 0.5,
           "shape": "x",
           "solidity": 0.25
          }
         },
         "name": "q",
         "orientation": "h",
         "showlegend": true,
         "text": [
          "q"
         ],
         "textposition": "inside",
         "type": "bar",
         "width": 1,
         "x": [
          10.212240000000008
         ],
         "y": [
          "fine"
         ]
        },
        {
         "base": [
          165.04898
         ],
         "customdata": [
          "<b>r</b><br>Layer: fine<br>Start: 165.049s<br>End: 175.278s<br>Duration: 10.229s"
         ],
         "hovertemplate": "%{customdata}<extra></extra>",
         "insidetextanchor": "middle",
         "marker": {
          "color": "#8C564B",
          "line": {
           "color": "white",
           "width": 0.5
          },
          "pattern": {
           "fgcolor": "white",
           "fgopacity": 0.5,
           "shape": "x",
           "solidity": 0.25
          }
         },
         "name": "r",
         "orientation": "h",
         "showlegend": true,
         "text": [
          "r"
         ],
         "textposition": "inside",
         "type": "bar",
         "width": 1,
         "x": [
          10.22856999999999
         ],
         "y": [
          "fine"
         ]
        },
        {
         "base": [
          175.27755
         ],
         "customdata": [
          "<b>s</b><br>Layer: fine<br>Start: 175.278s<br>End: 180.408s<br>Duration: 5.131s"
         ],
         "hovertemplate": "%{customdata}<extra></extra>",
         "insidetextanchor": "middle",
         "marker": {
          "color": "#E377C2",
          "line": {
           "color": "white",
           "width": 0.5
          },
          "pattern": {
           "fgcolor": "white",
           "fgopacity": 0.5,
           "shape": "x",
           "solidity": 0.25
          }
         },
         "name": "s",
         "orientation": "h",
         "showlegend": true,
         "text": [
          "s"
         ],
         "textposition": "inside",
         "type": "bar",
         "width": 1,
         "x": [
          5.1306100000000185
         ],
         "y": [
          "fine"
         ]
        },
        {
         "base": [
          180.40816
         ],
         "customdata": [
          "<b>t</b><br>Layer: fine<br>Start: 180.408s<br>End: 190.637s<br>Duration: 10.229s"
         ],
         "hovertemplate": "%{customdata}<extra></extra>",
         "insidetextanchor": "middle",
         "marker": {
          "color": "#7F7F7F",
          "line": {
           "color": "white",
           "width": 0.5
          },
          "pattern": {
           "fgcolor": "white",
           "fgopacity": 0.5,
           "shape": "x",
           "solidity": 0.25
          }
         },
         "name": "t",
         "orientation": "h",
         "showlegend": true,
         "text": [
          "t"
         ],
         "textposition": "inside",
         "type": "bar",
         "width": 1,
         "x": [
          10.228579999999994
         ],
         "y": [
          "fine"
         ]
        },
        {
         "base": [
          190.63674
         ],
         "customdata": [
          "<b>u</b><br>Layer: fine<br>Start: 190.637s<br>End: 200.845s<br>Duration: 10.208s"
         ],
         "hovertemplate": "%{customdata}<extra></extra>",
         "insidetextanchor": "middle",
         "marker": {
          "color": "#BCBD22",
          "line": {
           "color": "white",
           "width": 0.5
          },
          "pattern": {
           "fgcolor": "white",
           "fgopacity": 0.5,
           "shape": "x",
           "solidity": 0.25
          }
         },
         "name": "u",
         "orientation": "h",
         "showlegend": true,
         "text": [
          "u"
         ],
         "textposition": "inside",
         "type": "bar",
         "width": 1,
         "x": [
          10.208159999999992
         ],
         "y": [
          "fine"
         ]
        },
        {
         "base": [
          200.8449,
          210.98367
         ],
         "customdata": [
          "<b>v</b><br>Layer: fine<br>Start: 200.845s<br>End: 210.984s<br>Duration: 10.139s",
          "<b>v</b><br>Layer: fine<br>Start: 210.984s<br>End: 218.709s<br>Duration: 7.725s"
         ],
         "hovertemplate": "%{customdata}<extra></extra>",
         "insidetextanchor": "middle",
         "marker": {
          "color": "#17BECF",
          "line": {
           "color": "white",
           "width": 0.5
          },
          "pattern": {
           "fgcolor": "white",
           "fgopacity": 0.5,
           "shape": "x",
           "solidity": 0.25
          }
         },
         "name": "v",
         "orientation": "h",
         "showlegend": true,
         "text": [
          "v",
          "v"
         ],
         "textposition": "inside",
         "type": "bar",
         "width": 1,
         "x": [
          10.138769999999994,
          7.72508000000002
         ],
         "y": [
          "fine",
          "fine"
         ]
        }
       ],
       "layout": {
        "barmode": "overlay",
        "height": 120,
        "margin": {
         "b": 20,
         "l": 20,
         "r": 20,
         "t": 40
        },
        "showlegend": false,
        "template": {
         "data": {
          "bar": [
           {
            "error_x": {
             "color": "#2a3f5f"
            },
            "error_y": {
             "color": "#2a3f5f"
            },
            "marker": {
             "line": {
              "color": "#E5ECF6",
              "width": 0.5
             },
             "pattern": {
              "fillmode": "overlay",
              "size": 10,
              "solidity": 0.2
             }
            },
            "type": "bar"
           }
          ],
          "barpolar": [
           {
            "marker": {
             "line": {
              "color": "#E5ECF6",
              "width": 0.5
             },
             "pattern": {
              "fillmode": "overlay",
              "size": 10,
              "solidity": 0.2
             }
            },
            "type": "barpolar"
           }
          ],
          "carpet": [
           {
            "aaxis": {
             "endlinecolor": "#2a3f5f",
             "gridcolor": "white",
             "linecolor": "white",
             "minorgridcolor": "white",
             "startlinecolor": "#2a3f5f"
            },
            "baxis": {
             "endlinecolor": "#2a3f5f",
             "gridcolor": "white",
             "linecolor": "white",
             "minorgridcolor": "white",
             "startlinecolor": "#2a3f5f"
            },
            "type": "carpet"
           }
          ],
          "choropleth": [
           {
            "colorbar": {
             "outlinewidth": 0,
             "ticks": ""
            },
            "type": "choropleth"
           }
          ],
          "contour": [
           {
            "colorbar": {
             "outlinewidth": 0,
             "ticks": ""
            },
            "colorscale": [
             [
              0,
              "#0d0887"
             ],
             [
              0.1111111111111111,
              "#46039f"
             ],
             [
              0.2222222222222222,
              "#7201a8"
             ],
             [
              0.3333333333333333,
              "#9c179e"
             ],
             [
              0.4444444444444444,
              "#bd3786"
             ],
             [
              0.5555555555555556,
              "#d8576b"
             ],
             [
              0.6666666666666666,
              "#ed7953"
             ],
             [
              0.7777777777777778,
              "#fb9f3a"
             ],
             [
              0.8888888888888888,
              "#fdca26"
             ],
             [
              1,
              "#f0f921"
             ]
            ],
            "type": "contour"
           }
          ],
          "contourcarpet": [
           {
            "colorbar": {
             "outlinewidth": 0,
             "ticks": ""
            },
            "type": "contourcarpet"
           }
          ],
          "heatmap": [
           {
            "colorbar": {
             "outlinewidth": 0,
             "ticks": ""
            },
            "colorscale": [
             [
              0,
              "#0d0887"
             ],
             [
              0.1111111111111111,
              "#46039f"
             ],
             [
              0.2222222222222222,
              "#7201a8"
             ],
             [
              0.3333333333333333,
              "#9c179e"
             ],
             [
              0.4444444444444444,
              "#bd3786"
             ],
             [
              0.5555555555555556,
              "#d8576b"
             ],
             [
              0.6666666666666666,
              "#ed7953"
             ],
             [
              0.7777777777777778,
              "#fb9f3a"
             ],
             [
              0.8888888888888888,
              "#fdca26"
             ],
             [
              1,
              "#f0f921"
             ]
            ],
            "type": "heatmap"
           }
          ],
          "histogram": [
           {
            "marker": {
             "pattern": {
              "fillmode": "overlay",
              "size": 10,
              "solidity": 0.2
             }
            },
            "type": "histogram"
           }
          ],
          "histogram2d": [
           {
            "colorbar": {
             "outlinewidth": 0,
             "ticks": ""
            },
            "colorscale": [
             [
              0,
              "#0d0887"
             ],
             [
              0.1111111111111111,
              "#46039f"
             ],
             [
              0.2222222222222222,
              "#7201a8"
             ],
             [
              0.3333333333333333,
              "#9c179e"
             ],
             [
              0.4444444444444444,
              "#bd3786"
             ],
             [
              0.5555555555555556,
              "#d8576b"
             ],
             [
              0.6666666666666666,
              "#ed7953"
             ],
             [
              0.7777777777777778,
              "#fb9f3a"
             ],
             [
              0.8888888888888888,
              "#fdca26"
             ],
             [
              1,
              "#f0f921"
             ]
            ],
            "type": "histogram2d"
           }
          ],
          "histogram2dcontour": [
           {
            "colorbar": {
             "outlinewidth": 0,
             "ticks": ""
            },
            "colorscale": [
             [
              0,
              "#0d0887"
             ],
             [
              0.1111111111111111,
              "#46039f"
             ],
             [
              0.2222222222222222,
              "#7201a8"
             ],
             [
              0.3333333333333333,
              "#9c179e"
             ],
             [
              0.4444444444444444,
              "#bd3786"
             ],
             [
              0.5555555555555556,
              "#d8576b"
             ],
             [
              0.6666666666666666,
              "#ed7953"
             ],
             [
              0.7777777777777778,
              "#fb9f3a"
             ],
             [
              0.8888888888888888,
              "#fdca26"
             ],
             [
              1,
              "#f0f921"
             ]
            ],
            "type": "histogram2dcontour"
           }
          ],
          "mesh3d": [
           {
            "colorbar": {
             "outlinewidth": 0,
             "ticks": ""
            },
            "type": "mesh3d"
           }
          ],
          "parcoords": [
           {
            "line": {
             "colorbar": {
              "outlinewidth": 0,
              "ticks": ""
             }
            },
            "type": "parcoords"
           }
          ],
          "pie": [
           {
            "automargin": true,
            "type": "pie"
           }
          ],
          "scatter": [
           {
            "fillpattern": {
             "fillmode": "overlay",
             "size": 10,
             "solidity": 0.2
            },
            "type": "scatter"
           }
          ],
          "scatter3d": [
           {
            "line": {
             "colorbar": {
              "outlinewidth": 0,
              "ticks": ""
             }
            },
            "marker": {
             "colorbar": {
              "outlinewidth": 0,
              "ticks": ""
             }
            },
            "type": "scatter3d"
           }
          ],
          "scattercarpet": [
           {
            "marker": {
             "colorbar": {
              "outlinewidth": 0,
              "ticks": ""
             }
            },
            "type": "scattercarpet"
           }
          ],
          "scattergeo": [
           {
            "marker": {
             "colorbar": {
              "outlinewidth": 0,
              "ticks": ""
             }
            },
            "type": "scattergeo"
           }
          ],
          "scattergl": [
           {
            "marker": {
             "colorbar": {
              "outlinewidth": 0,
              "ticks": ""
             }
            },
            "type": "scattergl"
           }
          ],
          "scattermap": [
           {
            "marker": {
             "colorbar": {
              "outlinewidth": 0,
              "ticks": ""
             }
            },
            "type": "scattermap"
           }
          ],
          "scattermapbox": [
           {
            "marker": {
             "colorbar": {
              "outlinewidth": 0,
              "ticks": ""
             }
            },
            "type": "scattermapbox"
           }
          ],
          "scatterpolar": [
           {
            "marker": {
             "colorbar": {
              "outlinewidth": 0,
              "ticks": ""
             }
            },
            "type": "scatterpolar"
           }
          ],
          "scatterpolargl": [
           {
            "marker": {
             "colorbar": {
              "outlinewidth": 0,
              "ticks": ""
             }
            },
            "type": "scatterpolargl"
           }
          ],
          "scatterternary": [
           {
            "marker": {
             "colorbar": {
              "outlinewidth": 0,
              "ticks": ""
             }
            },
            "type": "scatterternary"
           }
          ],
          "surface": [
           {
            "colorbar": {
             "outlinewidth": 0,
             "ticks": ""
            },
            "colorscale": [
             [
              0,
              "#0d0887"
             ],
             [
              0.1111111111111111,
              "#46039f"
             ],
             [
              0.2222222222222222,
              "#7201a8"
             ],
             [
              0.3333333333333333,
              "#9c179e"
             ],
             [
              0.4444444444444444,
              "#bd3786"
             ],
             [
              0.5555555555555556,
              "#d8576b"
             ],
             [
              0.6666666666666666,
              "#ed7953"
             ],
             [
              0.7777777777777778,
              "#fb9f3a"
             ],
             [
              0.8888888888888888,
              "#fdca26"
             ],
             [
              1,
              "#f0f921"
             ]
            ],
            "type": "surface"
           }
          ],
          "table": [
           {
            "cells": {
             "fill": {
              "color": "#EBF0F8"
             },
             "line": {
              "color": "white"
             }
            },
            "header": {
             "fill": {
              "color": "#C8D4E3"
             },
             "line": {
              "color": "white"
             }
            },
            "type": "table"
           }
          ]
         },
         "layout": {
          "annotationdefaults": {
           "arrowcolor": "#2a3f5f",
           "arrowhead": 0,
           "arrowwidth": 1
          },
          "autotypenumbers": "strict",
          "coloraxis": {
           "colorbar": {
            "outlinewidth": 0,
            "ticks": ""
           }
          },
          "colorscale": {
           "diverging": [
            [
             0,
             "#8e0152"
            ],
            [
             0.1,
             "#c51b7d"
            ],
            [
             0.2,
             "#de77ae"
            ],
            [
             0.3,
             "#f1b6da"
            ],
            [
             0.4,
             "#fde0ef"
            ],
            [
             0.5,
             "#f7f7f7"
            ],
            [
             0.6,
             "#e6f5d0"
            ],
            [
             0.7,
             "#b8e186"
            ],
            [
             0.8,
             "#7fbc41"
            ],
            [
             0.9,
             "#4d9221"
            ],
            [
             1,
             "#276419"
            ]
           ],
           "sequential": [
            [
             0,
             "#0d0887"
            ],
            [
             0.1111111111111111,
             "#46039f"
            ],
            [
             0.2222222222222222,
             "#7201a8"
            ],
            [
             0.3333333333333333,
             "#9c179e"
            ],
            [
             0.4444444444444444,
             "#bd3786"
            ],
            [
             0.5555555555555556,
             "#d8576b"
            ],
            [
             0.6666666666666666,
             "#ed7953"
            ],
            [
             0.7777777777777778,
             "#fb9f3a"
            ],
            [
             0.8888888888888888,
             "#fdca26"
            ],
            [
             1,
             "#f0f921"
            ]
           ],
           "sequentialminus": [
            [
             0,
             "#0d0887"
            ],
            [
             0.1111111111111111,
             "#46039f"
            ],
            [
             0.2222222222222222,
             "#7201a8"
            ],
            [
             0.3333333333333333,
             "#9c179e"
            ],
            [
             0.4444444444444444,
             "#bd3786"
            ],
            [
             0.5555555555555556,
             "#d8576b"
            ],
            [
             0.6666666666666666,
             "#ed7953"
            ],
            [
             0.7777777777777778,
             "#fb9f3a"
            ],
            [
             0.8888888888888888,
             "#fdca26"
            ],
            [
             1,
             "#f0f921"
            ]
           ]
          },
          "colorway": [
           "#636efa",
           "#EF553B",
           "#00cc96",
           "#ab63fa",
           "#FFA15A",
           "#19d3f3",
           "#FF6692",
           "#B6E880",
           "#FF97FF",
           "#FECB52"
          ],
          "font": {
           "color": "#2a3f5f"
          },
          "geo": {
           "bgcolor": "white",
           "lakecolor": "white",
           "landcolor": "#E5ECF6",
           "showlakes": true,
           "showland": true,
           "subunitcolor": "white"
          },
          "hoverlabel": {
           "align": "left"
          },
          "hovermode": "closest",
          "mapbox": {
           "style": "light"
          },
          "paper_bgcolor": "white",
          "plot_bgcolor": "#E5ECF6",
          "polar": {
           "angularaxis": {
            "gridcolor": "white",
            "linecolor": "white",
            "ticks": ""
           },
           "bgcolor": "#E5ECF6",
           "radialaxis": {
            "gridcolor": "white",
            "linecolor": "white",
            "ticks": ""
           }
          },
          "scene": {
           "xaxis": {
            "backgroundcolor": "#E5ECF6",
            "gridcolor": "white",
            "gridwidth": 2,
            "linecolor": "white",
            "showbackground": true,
            "ticks": "",
            "zerolinecolor": "white"
           },
           "yaxis": {
            "backgroundcolor": "#E5ECF6",
            "gridcolor": "white",
            "gridwidth": 2,
            "linecolor": "white",
            "showbackground": true,
            "ticks": "",
            "zerolinecolor": "white"
           },
           "zaxis": {
            "backgroundcolor": "#E5ECF6",
            "gridcolor": "white",
            "gridwidth": 2,
            "linecolor": "white",
            "showbackground": true,
            "ticks": "",
            "zerolinecolor": "white"
           }
          },
          "shapedefaults": {
           "line": {
            "color": "#2a3f5f"
           }
          },
          "ternary": {
           "aaxis": {
            "gridcolor": "white",
            "linecolor": "white",
            "ticks": ""
           },
           "baxis": {
            "gridcolor": "white",
            "linecolor": "white",
            "ticks": ""
           },
           "bgcolor": "#E5ECF6",
           "caxis": {
            "gridcolor": "white",
            "linecolor": "white",
            "ticks": ""
           }
          },
          "title": {
           "x": 0.05
          },
          "xaxis": {
           "automargin": true,
           "gridcolor": "white",
           "linecolor": "white",
           "ticks": "",
           "title": {
            "standoff": 15
           },
           "zerolinecolor": "white",
           "zerolinewidth": 2
          },
          "yaxis": {
           "automargin": true,
           "gridcolor": "white",
           "linecolor": "white",
           "ticks": "",
           "title": {
            "standoff": 15
           },
           "zerolinecolor": "white",
           "zerolinewidth": 2
          }
         }
        },
        "title": {
         "text": "annotator-2",
         "x": 0.5
        },
        "width": 650,
        "xaxis": {
         "range": [
          0,
          222.04481
         ],
         "title": {
          "text": "Time (s)"
         }
        },
        "yaxis": {
         "categoryarray": [
          "fine",
          "coarse"
         ],
         "categoryorder": "array",
         "title": {}
        }
       }
      }
     },
     "metadata": {},
     "output_type": "display_data"
    },
    {
     "data": {
      "application/vnd.plotly.v1+json": {
       "config": {
        "plotlyServerURL": "https://plot.ly"
       },
       "data": [
        {
         "base": [
          0,
          0,
          0,
          21.93,
          62.95,
          104.14,
          166.31,
          191.31,
          0,
          104.14,
          191.31,
          0,
          104.77,
          191.95,
          0,
          104.77,
          191.95,
          0,
          104.77,
          191.95,
          0,
          104.77,
          191.95,
          0,
          104.77,
          191.95,
          0,
          104.77,
          191.95,
          0,
          104.77,
          126.02,
          191.95,
          0,
          191.95
         ],
         "customdata": [
          "<b>0</b><br>Layer: L01<br>Start: 0.000s<br>End: 222.041s<br>Duration: 222.041s",
          "<b>0</b><br>Layer: L02<br>Start: 0.000s<br>End: 222.041s<br>Duration: 222.041s",
          "<b>0</b><br>Layer: L03<br>Start: 0.000s<br>End: 10.430s<br>Duration: 10.430s",
          "<b>0</b><br>Layer: L03<br>Start: 21.930s<br>End: 51.380s<br>Duration: 29.450s",
          "<b>0</b><br>Layer: L03<br>Start: 62.950s<br>End: 91.880s<br>Duration: 28.930s",
          "<b>0</b><br>Layer: L03<br>Start: 104.140s<br>End: 152.970s<br>Duration: 48.830s",
          "<b>0</b><br>Layer: L03<br>Start: 166.310s<br>End: 178.470s<br>Duration: 12.160s",
          "<b>0</b><br>Layer: L03<br>Start: 191.310s<br>End: 222.041s<br>Duration: 30.731s",
          "<b>0</b><br>Layer: L04<br>Start: 0.000s<br>End: 10.430s<br>Duration: 10.430s",
          "<b>0</b><br>Layer: L04<br>Start: 104.140s<br>End: 153.600s<br>Duration: 49.460s",
          "<b>0</b><br>Layer: L04<br>Start: 191.310s<br>End: 222.041s<br>Duration: 30.731s",
          "<b>0</b><br>Layer: L05<br>Start: 0.000s<br>End: 9.160s<br>Duration: 9.160s",
          "<b>0</b><br>Layer: L05<br>Start: 104.770s<br>End: 152.360s<br>Duration: 47.590s",
          "<b>0</b><br>Layer: L05<br>Start: 191.950s<br>End: 222.041s<br>Duration: 30.091s",
          "<b>0</b><br>Layer: L06<br>Start: 0.000s<br>End: 9.160s<br>Duration: 9.160s",
          "<b>0</b><br>Layer: L06<br>Start: 104.770s<br>End: 134.480s<br>Duration: 29.710s",
          "<b>0</b><br>Layer: L06<br>Start: 191.950s<br>End: 222.041s<br>Duration: 30.091s",
          "<b>0</b><br>Layer: L07<br>Start: 0.000s<br>End: 9.160s<br>Duration: 9.160s",
          "<b>0</b><br>Layer: L07<br>Start: 104.770s<br>End: 139.600s<br>Duration: 34.830s",
          "<b>0</b><br>Layer: L07<br>Start: 191.950s<br>End: 222.041s<br>Duration: 30.091s",
          "<b>0</b><br>Layer: L08<br>Start: 0.000s<br>End: 8.540s<br>Duration: 8.540s",
          "<b>0</b><br>Layer: L08<br>Start: 104.770s<br>End: 139.600s<br>Duration: 34.830s",
          "<b>0</b><br>Layer: L08<br>Start: 191.950s<br>End: 222.041s<br>Duration: 30.091s",
          "<b>0</b><br>Layer: L09<br>Start: 0.000s<br>End: 8.540s<br>Duration: 8.540s",
          "<b>0</b><br>Layer: L09<br>Start: 104.770s<br>End: 139.600s<br>Duration: 34.830s",
          "<b>0</b><br>Layer: L09<br>Start: 191.950s<br>End: 222.041s<br>Duration: 30.091s",
          "<b>0</b><br>Layer: L10<br>Start: 0.000s<br>End: 8.540s<br>Duration: 8.540s",
          "<b>0</b><br>Layer: L10<br>Start: 104.770s<br>End: 135.780s<br>Duration: 31.010s",
          "<b>0</b><br>Layer: L10<br>Start: 191.950s<br>End: 222.041s<br>Duration: 30.091s",
          "<b>0</b><br>Layer: L11<br>Start: 0.000s<br>End: 8.540s<br>Duration: 8.540s",
          "<b>0</b><br>Layer: L11<br>Start: 104.770s<br>End: 113.100s<br>Duration: 8.330s",
          "<b>0</b><br>Layer: L11<br>Start: 126.020s<br>End: 135.140s<br>Duration: 9.120s",
          "<b>0</b><br>Layer: L11<br>Start: 191.950s<br>End: 222.041s<br>Duration: 30.091s",
          "<b>0</b><br>Layer: L12<br>Start: 0.000s<br>End: 8.540s<br>Duration: 8.540s",
          "<b>0</b><br>Layer: L12<br>Start: 191.950s<br>End: 222.041s<br>Duration: 30.091s"
         ],
         "hovertemplate": "%{customdata}<extra></extra>",
         "insidetextanchor": "middle",
         "marker": {
          "color": "#1F77B4",
          "line": {
           "color": "white",
           "width": 0.5
          },
          "pattern": {
           "fgcolor": "white",
           "fgopacity": 0.5,
           "shape": "",
           "solidity": 0.25
          }
         },
         "name": "0",
         "orientation": "h",
         "showlegend": true,
         "text": [
          "0",
          "0",
          "0",
          "0",
          "0",
          "0",
          "0",
          "0",
          "0",
          "0",
          "0",
          "0",
          "0",
          "0",
          "0",
          "0",
          "0",
          "0",
          "0",
          "0",
          "0",
          "0",
          "0",
          "0",
          "0",
          "0",
          "0",
          "0",
          "0",
          "0",
          "0",
          "0",
          "0",
          "0",
          "0"
         ],
         "textposition": "inside",
         "type": "bar",
         "width": 1,
         "x": [
          222.04082,
          222.04082,
          10.43,
          29.450000000000003,
          28.929999999999993,
          48.83,
          12.159999999999997,
          30.730819999999994,
          10.43,
          49.459999999999994,
          30.730819999999994,
          9.16,
          47.59000000000002,
          30.090820000000008,
          9.16,
          29.709999999999994,
          30.090820000000008,
          9.16,
          34.83,
          30.090820000000008,
          8.54,
          34.83,
          30.090820000000008,
          8.54,
          34.83,
          30.090820000000008,
          8.54,
          31.010000000000005,
          30.090820000000008,
          8.54,
          8.329999999999998,
          9.11999999999999,
          30.090820000000008,
          8.54,
          30.090820000000008
         ],
         "y": [
          "L01",
          "L02",
          "L03",
          "L03",
          "L03",
          "L03",
          "L03",
          "L03",
          "L04",
          "L04",
          "L04",
          "L05",
          "L05",
          "L05",
          "L06",
          "L06",
          "L06",
          "L07",
          "L07",
          "L07",
          "L08",
          "L08",
          "L08",
          "L09",
          "L09",
          "L09",
          "L10",
          "L10",
          "L10",
          "L11",
          "L11",
          "L11",
          "L11",
          "L12",
          "L12"
         ]
        },
        {
         "base": [
          10.43,
          51.38,
          91.88,
          152.97,
          178.47,
          10.43,
          52.02,
          92.5,
          153.6,
          179.12,
          9.16,
          51.38,
          91.88,
          152.36,
          178.47,
          9.16,
          51.38,
          91.88,
          152.36,
          178.47,
          9.16,
          51.38,
          91.88,
          152.97,
          179.12,
          8.54,
          50.74,
          91.25,
          151.71,
          177.83,
          8.54,
          50.74,
          91.25,
          154.84,
          178.47,
          8.54,
          50.74,
          90.6,
          154.84,
          178.47,
          8.54,
          50.11,
          90.6,
          154.84,
          178.47,
          8.54,
          50.11,
          90.6,
          179.12
         ],
         "customdata": [
          "<b>2</b><br>Layer: L03<br>Start: 10.430s<br>End: 21.930s<br>Duration: 11.500s",
          "<b>2</b><br>Layer: L03<br>Start: 51.380s<br>End: 62.950s<br>Duration: 11.570s",
          "<b>2</b><br>Layer: L03<br>Start: 91.880s<br>End: 104.140s<br>Duration: 12.260s",
          "<b>2</b><br>Layer: L03<br>Start: 152.970s<br>End: 166.310s<br>Duration: 13.340s",
          "<b>2</b><br>Layer: L03<br>Start: 178.470s<br>End: 191.310s<br>Duration: 12.840s",
          "<b>2</b><br>Layer: L04<br>Start: 10.430s<br>End: 21.930s<br>Duration: 11.500s",
          "<b>2</b><br>Layer: L04<br>Start: 52.020s<br>End: 62.950s<br>Duration: 10.930s",
          "<b>2</b><br>Layer: L04<br>Start: 92.500s<br>End: 104.140s<br>Duration: 11.640s",
          "<b>2</b><br>Layer: L04<br>Start: 153.600s<br>End: 165.670s<br>Duration: 12.070s",
          "<b>2</b><br>Layer: L04<br>Start: 179.120s<br>End: 191.310s<br>Duration: 12.190s",
          "<b>2</b><br>Layer: L05<br>Start: 9.160s<br>End: 22.560s<br>Duration: 13.400s",
          "<b>2</b><br>Layer: L05<br>Start: 51.380s<br>End: 64.240s<br>Duration: 12.860s",
          "<b>2</b><br>Layer: L05<br>Start: 91.880s<br>End: 104.770s<br>Duration: 12.890s",
          "<b>2</b><br>Layer: L05<br>Start: 152.360s<br>End: 166.960s<br>Duration: 14.600s",
          "<b>2</b><br>Layer: L05<br>Start: 178.470s<br>End: 191.950s<br>Duration: 13.480s",
          "<b>2</b><br>Layer: L06<br>Start: 9.160s<br>End: 22.560s<br>Duration: 13.400s",
          "<b>2</b><br>Layer: L06<br>Start: 51.380s<br>End: 64.240s<br>Duration: 12.860s",
          "<b>2</b><br>Layer: L06<br>Start: 91.880s<br>End: 104.770s<br>Duration: 12.890s",
          "<b>2</b><br>Layer: L06<br>Start: 152.360s<br>End: 166.960s<br>Duration: 14.600s",
          "<b>2</b><br>Layer: L06<br>Start: 178.470s<br>End: 191.950s<br>Duration: 13.480s",
          "<b>2</b><br>Layer: L07<br>Start: 9.160s<br>End: 22.560s<br>Duration: 13.400s",
          "<b>2</b><br>Layer: L07<br>Start: 51.380s<br>End: 64.240s<br>Duration: 12.860s",
          "<b>2</b><br>Layer: L07<br>Start: 91.880s<br>End: 104.770s<br>Duration: 12.890s",
          "<b>2</b><br>Layer: L07<br>Start: 152.970s<br>End: 166.960s<br>Duration: 13.990s",
          "<b>2</b><br>Layer: L07<br>Start: 179.120s<br>End: 191.950s<br>Duration: 12.830s",
          "<b>2</b><br>Layer: L08<br>Start: 8.540s<br>End: 23.210s<br>Duration: 14.670s",
          "<b>2</b><br>Layer: L08<br>Start: 50.740s<br>End: 64.900s<br>Duration: 14.160s",
          "<b>2</b><br>Layer: L08<br>Start: 91.250s<br>End: 104.770s<br>Duration: 13.520s",
          "<b>2</b><br>Layer: L08<br>Start: 151.710s<br>End: 166.960s<br>Duration: 15.250s",
          "<b>2</b><br>Layer: L08<br>Start: 177.830s<br>End: 191.950s<br>Duration: 14.120s",
          "<b>2</b><br>Layer: L09<br>Start: 8.540s<br>End: 23.210s<br>Duration: 14.670s",
          "<b>2</b><br>Layer: L09<br>Start: 50.740s<br>End: 64.900s<br>Duration: 14.160s",
          "<b>2</b><br>Layer: L09<br>Start: 91.250s<br>End: 104.770s<br>Duration: 13.520s",
          "<b>2</b><br>Layer: L09<br>Start: 154.840s<br>End: 166.960s<br>Duration: 12.120s",
          "<b>2</b><br>Layer: L09<br>Start: 178.470s<br>End: 191.950s<br>Duration: 13.480s",
          "<b>2</b><br>Layer: L10<br>Start: 8.540s<br>End: 23.210s<br>Duration: 14.670s",
          "<b>2</b><br>Layer: L10<br>Start: 50.740s<br>End: 64.900s<br>Duration: 14.160s",
          "<b>2</b><br>Layer: L10<br>Start: 90.600s<br>End: 104.770s<br>Duration: 14.170s",
          "<b>2</b><br>Layer: L10<br>Start: 154.840s<br>End: 166.960s<br>Duration: 12.120s",
          "<b>2</b><br>Layer: L10<br>Start: 178.470s<br>End: 191.950s<br>Duration: 13.480s",
          "<b>2</b><br>Layer: L11<br>Start: 8.540s<br>End: 23.210s<br>Duration: 14.670s",
          "<b>2</b><br>Layer: L11<br>Start: 50.110s<br>End: 64.900s<br>Duration: 14.790s",
          "<b>2</b><br>Layer: L11<br>Start: 90.600s<br>End: 104.770s<br>Duration: 14.170s",
          "<b>2</b><br>Layer: L11<br>Start: 154.840s<br>End: 166.960s<br>Duration: 12.120s",
          "<b>2</b><br>Layer: L11<br>Start: 178.470s<br>End: 191.950s<br>Duration: 13.480s",
          "<b>2</b><br>Layer: L12<br>Start: 8.540s<br>End: 23.210s<br>Duration: 14.670s",
          "<b>2</b><br>Layer: L12<br>Start: 50.110s<br>End: 64.900s<br>Duration: 14.790s",
          "<b>2</b><br>Layer: L12<br>Start: 90.600s<br>End: 112.480s<br>Duration: 21.880s",
          "<b>2</b><br>Layer: L12<br>Start: 179.120s<br>End: 191.950s<br>Duration: 12.830s"
         ],
         "hovertemplate": "%{customdata}<extra></extra>",
         "insidetextanchor": "middle",
         "marker": {
          "color": "#FF7F0E",
          "line": {
           "color": "white",
           "width": 0.5
          },
          "pattern": {
           "fgcolor": "white",
           "fgopacity": 0.5,
           "shape": "",
           "solidity": 0.25
          }
         },
         "name": "2",
         "orientation": "h",
         "showlegend": true,
         "text": [
          "2",
          "2",
          "2",
          "2",
          "2",
          "2",
          "2",
          "2",
          "2",
          "2",
          "2",
          "2",
          "2",
          "2",
          "2",
          "2",
          "2",
          "2",
          "2",
          "2",
          "2",
          "2",
          "2",
          "2",
          "2",
          "2",
          "2",
          "2",
          "2",
          "2",
          "2",
          "2",
          "2",
          "2",
          "2",
          "2",
          "2",
          "2",
          "2",
          "2",
          "2",
          "2",
          "2",
          "2",
          "2",
          "2",
          "2",
          "2",
          "2"
         ],
         "textposition": "inside",
         "type": "bar",
         "width": 1,
         "x": [
          11.5,
          11.57,
          12.260000000000005,
          13.340000000000003,
          12.840000000000003,
          11.5,
          10.93,
          11.64,
          12.069999999999993,
          12.189999999999998,
          13.399999999999999,
          12.859999999999992,
          12.89,
          14.599999999999994,
          13.47999999999999,
          13.399999999999999,
          12.859999999999992,
          12.89,
          14.599999999999994,
          13.47999999999999,
          13.399999999999999,
          12.859999999999992,
          12.89,
          13.990000000000009,
          12.829999999999984,
          14.670000000000002,
          14.160000000000004,
          13.519999999999996,
          15.25,
          14.119999999999976,
          14.670000000000002,
          14.160000000000004,
          13.519999999999996,
          12.120000000000005,
          13.47999999999999,
          14.670000000000002,
          14.160000000000004,
          14.170000000000002,
          12.120000000000005,
          13.47999999999999,
          14.670000000000002,
          14.790000000000006,
          14.170000000000002,
          12.120000000000005,
          13.47999999999999,
          14.670000000000002,
          14.790000000000006,
          21.88000000000001,
          12.829999999999984
         ],
         "y": [
          "L03",
          "L03",
          "L03",
          "L03",
          "L03",
          "L04",
          "L04",
          "L04",
          "L04",
          "L04",
          "L05",
          "L05",
          "L05",
          "L05",
          "L05",
          "L06",
          "L06",
          "L06",
          "L06",
          "L06",
          "L07",
          "L07",
          "L07",
          "L07",
          "L07",
          "L08",
          "L08",
          "L08",
          "L08",
          "L08",
          "L09",
          "L09",
          "L09",
          "L09",
          "L09",
          "L10",
          "L10",
          "L10",
          "L10",
          "L10",
          "L11",
          "L11",
          "L11",
          "L11",
          "L11",
          "L12",
          "L12",
          "L12",
          "L12"
         ]
        },
        {
         "base": [
          21.93,
          62.95,
          165.67,
          22.56,
          64.24,
          166.96,
          22.56,
          64.24,
          166.96,
          22.56,
          64.24,
          166.96,
          23.21,
          64.9,
          166.96,
          23.21,
          64.9,
          166.96,
          23.21,
          64.9,
          166.96,
          23.21,
          64.9,
          166.96,
          23.21,
          64.9
         ],
         "customdata": [
          "<b>3</b><br>Layer: L04<br>Start: 21.930s<br>End: 52.020s<br>Duration: 30.090s",
          "<b>3</b><br>Layer: L04<br>Start: 62.950s<br>End: 92.500s<br>Duration: 29.550s",
          "<b>3</b><br>Layer: L04<br>Start: 165.670s<br>End: 179.120s<br>Duration: 13.450s",
          "<b>3</b><br>Layer: L05<br>Start: 22.560s<br>End: 51.380s<br>Duration: 28.820s",
          "<b>3</b><br>Layer: L05<br>Start: 64.240s<br>End: 91.880s<br>Duration: 27.640s",
          "<b>3</b><br>Layer: L05<br>Start: 166.960s<br>End: 178.470s<br>Duration: 11.510s",
          "<b>3</b><br>Layer: L06<br>Start: 22.560s<br>End: 51.380s<br>Duration: 28.820s",
          "<b>3</b><br>Layer: L06<br>Start: 64.240s<br>End: 91.880s<br>Duration: 27.640s",
          "<b>3</b><br>Layer: L06<br>Start: 166.960s<br>End: 178.470s<br>Duration: 11.510s",
          "<b>3</b><br>Layer: L07<br>Start: 22.560s<br>End: 51.380s<br>Duration: 28.820s",
          "<b>3</b><br>Layer: L07<br>Start: 64.240s<br>End: 91.880s<br>Duration: 27.640s",
          "<b>3</b><br>Layer: L07<br>Start: 166.960s<br>End: 179.120s<br>Duration: 12.160s",
          "<b>3</b><br>Layer: L08<br>Start: 23.210s<br>End: 50.740s<br>Duration: 27.530s",
          "<b>3</b><br>Layer: L08<br>Start: 64.900s<br>End: 91.250s<br>Duration: 26.350s",
          "<b>3</b><br>Layer: L08<br>Start: 166.960s<br>End: 177.830s<br>Duration: 10.870s",
          "<b>3</b><br>Layer: L09<br>Start: 23.210s<br>End: 50.740s<br>Duration: 27.530s",
          "<b>3</b><br>Layer: L09<br>Start: 64.900s<br>End: 91.250s<br>Duration: 26.350s",
          "<b>3</b><br>Layer: L09<br>Start: 166.960s<br>End: 178.470s<br>Duration: 11.510s",
          "<b>3</b><br>Layer: L10<br>Start: 23.210s<br>End: 50.740s<br>Duration: 27.530s",
          "<b>3</b><br>Layer: L10<br>Start: 64.900s<br>End: 82.260s<br>Duration: 17.360s",
          "<b>3</b><br>Layer: L10<br>Start: 166.960s<br>End: 178.470s<br>Duration: 11.510s",
          "<b>3</b><br>Layer: L11<br>Start: 23.210s<br>End: 50.110s<br>Duration: 26.900s",
          "<b>3</b><br>Layer: L11<br>Start: 64.900s<br>End: 90.600s<br>Duration: 25.700s",
          "<b>3</b><br>Layer: L11<br>Start: 166.960s<br>End: 178.470s<br>Duration: 11.510s",
          "<b>3</b><br>Layer: L12<br>Start: 23.210s<br>End: 50.110s<br>Duration: 26.900s",
          "<b>3</b><br>Layer: L12<br>Start: 64.900s<br>End: 90.600s<br>Duration: 25.700s"
         ],
         "hovertemplate": "%{customdata}<extra></extra>",
         "insidetextanchor": "middle",
         "marker": {
          "color": "#2CA02C",
          "line": {
           "color": "white",
           "width": 0.5
          },
          "pattern": {
           "fgcolor": "white",
           "fgopacity": 0.5,
           "shape": "",
           "solidity": 0.25
          }
         },
         "name": "3",
         "orientation": "h",
         "showlegend": true,
         "text": [
          "3",
          "3",
          "3",
          "3",
          "3",
          "3",
          "3",
          "3",
          "3",
          "3",
          "3",
          "3",
          "3",
          "3",
          "3",
          "3",
          "3",
          "3",
          "3",
          "3",
          "3",
          "3",
          "3",
          "3",
          "3",
          "3"
         ],
         "textposition": "inside",
         "type": "bar",
         "width": 1,
         "x": [
          30.090000000000003,
          29.549999999999997,
          13.450000000000017,
          28.820000000000004,
          27.64,
          11.509999999999991,
          28.820000000000004,
          27.64,
          11.509999999999991,
          28.820000000000004,
          27.64,
          12.159999999999997,
          27.53,
          26.349999999999994,
          10.870000000000005,
          27.53,
          26.349999999999994,
          11.509999999999991,
          27.53,
          17.36,
          11.509999999999991,
          26.9,
          25.69999999999999,
          11.509999999999991,
          26.9,
          25.69999999999999
         ],
         "y": [
          "L04",
          "L04",
          "L04",
          "L05",
          "L05",
          "L05",
          "L06",
          "L06",
          "L06",
          "L07",
          "L07",
          "L07",
          "L08",
          "L08",
          "L08",
          "L09",
          "L09",
          "L09",
          "L10",
          "L10",
          "L10",
          "L11",
          "L11",
          "L11",
          "L12",
          "L12"
         ]
        },
        {
         "base": [
          134.48,
          139.6,
          139.6,
          139.6,
          135.78,
          113.1,
          135.14,
          112.48
         ],
         "customdata": [
          "<b>5</b><br>Layer: L06<br>Start: 134.480s<br>End: 152.360s<br>Duration: 17.880s",
          "<b>5</b><br>Layer: L07<br>Start: 139.600s<br>End: 152.970s<br>Duration: 13.370s",
          "<b>5</b><br>Layer: L08<br>Start: 139.600s<br>End: 151.710s<br>Duration: 12.110s",
          "<b>5</b><br>Layer: L09<br>Start: 139.600s<br>End: 154.840s<br>Duration: 15.240s",
          "<b>5</b><br>Layer: L10<br>Start: 135.780s<br>End: 144.070s<br>Duration: 8.290s",
          "<b>5</b><br>Layer: L11<br>Start: 113.100s<br>End: 126.020s<br>Duration: 12.920s",
          "<b>5</b><br>Layer: L11<br>Start: 135.140s<br>End: 145.360s<br>Duration: 10.220s",
          "<b>5</b><br>Layer: L12<br>Start: 112.480s<br>End: 145.360s<br>Duration: 32.880s"
         ],
         "hovertemplate": "%{customdata}<extra></extra>",
         "insidetextanchor": "middle",
         "marker": {
          "color": "#D62728",
          "line": {
           "color": "white",
           "width": 0.5
          },
          "pattern": {
           "fgcolor": "white",
           "fgopacity": 0.5,
           "shape": "",
           "solidity": 0.25
          }
         },
         "name": "5",
         "orientation": "h",
         "showlegend": true,
         "text": [
          "5",
          "5",
          "5",
          "5",
          "5",
          "5",
          "5",
          "5"
         ],
         "textposition": "inside",
         "type": "bar",
         "width": 1,
         "x": [
          17.880000000000024,
          13.370000000000005,
          12.110000000000014,
          15.240000000000009,
          8.289999999999992,
          12.920000000000002,
          10.220000000000027,
          32.88000000000001
         ],
         "y": [
          "L06",
          "L07",
          "L08",
          "L09",
          "L10",
          "L11",
          "L11",
          "L12"
         ]
        },
        {
         "base": [
          82.26
         ],
         "customdata": [
          "<b>8</b><br>Layer: L10<br>Start: 82.260s<br>End: 90.600s<br>Duration: 8.340s"
         ],
         "hovertemplate": "%{customdata}<extra></extra>",
         "insidetextanchor": "middle",
         "marker": {
          "color": "#9467BD",
          "line": {
           "color": "white",
           "width": 0.5
          },
          "pattern": {
           "fgcolor": "white",
           "fgopacity": 0.5,
           "shape": "",
           "solidity": 0.25
          }
         },
         "name": "8",
         "orientation": "h",
         "showlegend": true,
         "text": [
          "8"
         ],
         "textposition": "inside",
         "type": "bar",
         "width": 1,
         "x": [
          8.33999999999999
         ],
         "y": [
          "L10"
         ]
        },
        {
         "base": [
          144.07,
          145.36,
          145.36
         ],
         "customdata": [
          "<b>6</b><br>Layer: L10<br>Start: 144.070s<br>End: 154.840s<br>Duration: 10.770s",
          "<b>6</b><br>Layer: L11<br>Start: 145.360s<br>End: 154.840s<br>Duration: 9.480s",
          "<b>6</b><br>Layer: L12<br>Start: 145.360s<br>End: 154.840s<br>Duration: 9.480s"
         ],
         "hovertemplate": "%{customdata}<extra></extra>",
         "insidetextanchor": "middle",
         "marker": {
          "color": "#8C564B",
          "line": {
           "color": "white",
           "width": 0.5
          },
          "pattern": {
           "fgcolor": "white",
           "fgopacity": 0.5,
           "shape": "",
           "solidity": 0.25
          }
         },
         "name": "6",
         "orientation": "h",
         "showlegend": true,
         "text": [
          "6",
          "6",
          "6"
         ],
         "textposition": "inside",
         "type": "bar",
         "width": 1,
         "x": [
          10.77000000000001,
          9.47999999999999,
          9.47999999999999
         ],
         "y": [
          "L10",
          "L11",
          "L12"
         ]
        },
        {
         "base": [
          154.84
         ],
         "customdata": [
          "<b>11</b><br>Layer: L12<br>Start: 154.840s<br>End: 179.120s<br>Duration: 24.280s"
         ],
         "hovertemplate": "%{customdata}<extra></extra>",
         "insidetextanchor": "middle",
         "marker": {
          "color": "#E377C2",
          "line": {
           "color": "white",
           "width": 0.5
          },
          "pattern": {
           "fgcolor": "white",
           "fgopacity": 0.5,
           "shape": "",
           "solidity": 0.25
          }
         },
         "name": "11",
         "orientation": "h",
         "showlegend": true,
         "text": [
          "11"
         ],
         "textposition": "inside",
         "type": "bar",
         "width": 1,
         "x": [
          24.28
         ],
         "y": [
          "L12"
         ]
        }
       ],
       "layout": {
        "barmode": "overlay",
        "height": 370,
        "margin": {
         "b": 20,
         "l": 20,
         "r": 20,
         "t": 40
        },
        "showlegend": false,
        "template": {
         "data": {
          "bar": [
           {
            "error_x": {
             "color": "#2a3f5f"
            },
            "error_y": {
             "color": "#2a3f5f"
            },
            "marker": {
             "line": {
              "color": "#E5ECF6",
              "width": 0.5
             },
             "pattern": {
              "fillmode": "overlay",
              "size": 10,
              "solidity": 0.2
             }
            },
            "type": "bar"
           }
          ],
          "barpolar": [
           {
            "marker": {
             "line": {
              "color": "#E5ECF6",
              "width": 0.5
             },
             "pattern": {
              "fillmode": "overlay",
              "size": 10,
              "solidity": 0.2
             }
            },
            "type": "barpolar"
           }
          ],
          "carpet": [
           {
            "aaxis": {
             "endlinecolor": "#2a3f5f",
             "gridcolor": "white",
             "linecolor": "white",
             "minorgridcolor": "white",
             "startlinecolor": "#2a3f5f"
            },
            "baxis": {
             "endlinecolor": "#2a3f5f",
             "gridcolor": "white",
             "linecolor": "white",
             "minorgridcolor": "white",
             "startlinecolor": "#2a3f5f"
            },
            "type": "carpet"
           }
          ],
          "choropleth": [
           {
            "colorbar": {
             "outlinewidth": 0,
             "ticks": ""
            },
            "type": "choropleth"
           }
          ],
          "contour": [
           {
            "colorbar": {
             "outlinewidth": 0,
             "ticks": ""
            },
            "colorscale": [
             [
              0,
              "#0d0887"
             ],
             [
              0.1111111111111111,
              "#46039f"
             ],
             [
              0.2222222222222222,
              "#7201a8"
             ],
             [
              0.3333333333333333,
              "#9c179e"
             ],
             [
              0.4444444444444444,
              "#bd3786"
             ],
             [
              0.5555555555555556,
              "#d8576b"
             ],
             [
              0.6666666666666666,
              "#ed7953"
             ],
             [
              0.7777777777777778,
              "#fb9f3a"
             ],
             [
              0.8888888888888888,
              "#fdca26"
             ],
             [
              1,
              "#f0f921"
             ]
            ],
            "type": "contour"
           }
          ],
          "contourcarpet": [
           {
            "colorbar": {
             "outlinewidth": 0,
             "ticks": ""
            },
            "type": "contourcarpet"
           }
          ],
          "heatmap": [
           {
            "colorbar": {
             "outlinewidth": 0,
             "ticks": ""
            },
            "colorscale": [
             [
              0,
              "#0d0887"
             ],
             [
              0.1111111111111111,
              "#46039f"
             ],
             [
              0.2222222222222222,
              "#7201a8"
             ],
             [
              0.3333333333333333,
              "#9c179e"
             ],
             [
              0.4444444444444444,
              "#bd3786"
             ],
             [
              0.5555555555555556,
              "#d8576b"
             ],
             [
              0.6666666666666666,
              "#ed7953"
             ],
             [
              0.7777777777777778,
              "#fb9f3a"
             ],
             [
              0.8888888888888888,
              "#fdca26"
             ],
             [
              1,
              "#f0f921"
             ]
            ],
            "type": "heatmap"
           }
          ],
          "histogram": [
           {
            "marker": {
             "pattern": {
              "fillmode": "overlay",
              "size": 10,
              "solidity": 0.2
             }
            },
            "type": "histogram"
           }
          ],
          "histogram2d": [
           {
            "colorbar": {
             "outlinewidth": 0,
             "ticks": ""
            },
            "colorscale": [
             [
              0,
              "#0d0887"
             ],
             [
              0.1111111111111111,
              "#46039f"
             ],
             [
              0.2222222222222222,
              "#7201a8"
             ],
             [
              0.3333333333333333,
              "#9c179e"
             ],
             [
              0.4444444444444444,
              "#bd3786"
             ],
             [
              0.5555555555555556,
              "#d8576b"
             ],
             [
              0.6666666666666666,
              "#ed7953"
             ],
             [
              0.7777777777777778,
              "#fb9f3a"
             ],
             [
              0.8888888888888888,
              "#fdca26"
             ],
             [
              1,
              "#f0f921"
             ]
            ],
            "type": "histogram2d"
           }
          ],
          "histogram2dcontour": [
           {
            "colorbar": {
             "outlinewidth": 0,
             "ticks": ""
            },
            "colorscale": [
             [
              0,
              "#0d0887"
             ],
             [
              0.1111111111111111,
              "#46039f"
             ],
             [
              0.2222222222222222,
              "#7201a8"
             ],
             [
              0.3333333333333333,
              "#9c179e"
             ],
             [
              0.4444444444444444,
              "#bd3786"
             ],
             [
              0.5555555555555556,
              "#d8576b"
             ],
             [
              0.6666666666666666,
              "#ed7953"
             ],
             [
              0.7777777777777778,
              "#fb9f3a"
             ],
             [
              0.8888888888888888,
              "#fdca26"
             ],
             [
              1,
              "#f0f921"
             ]
            ],
            "type": "histogram2dcontour"
           }
          ],
          "mesh3d": [
           {
            "colorbar": {
             "outlinewidth": 0,
             "ticks": ""
            },
            "type": "mesh3d"
           }
          ],
          "parcoords": [
           {
            "line": {
             "colorbar": {
              "outlinewidth": 0,
              "ticks": ""
             }
            },
            "type": "parcoords"
           }
          ],
          "pie": [
           {
            "automargin": true,
            "type": "pie"
           }
          ],
          "scatter": [
           {
            "fillpattern": {
             "fillmode": "overlay",
             "size": 10,
             "solidity": 0.2
            },
            "type": "scatter"
           }
          ],
          "scatter3d": [
           {
            "line": {
             "colorbar": {
              "outlinewidth": 0,
              "ticks": ""
             }
            },
            "marker": {
             "colorbar": {
              "outlinewidth": 0,
              "ticks": ""
             }
            },
            "type": "scatter3d"
           }
          ],
          "scattercarpet": [
           {
            "marker": {
             "colorbar": {
              "outlinewidth": 0,
              "ticks": ""
             }
            },
            "type": "scattercarpet"
           }
          ],
          "scattergeo": [
           {
            "marker": {
             "colorbar": {
              "outlinewidth": 0,
              "ticks": ""
             }
            },
            "type": "scattergeo"
           }
          ],
          "scattergl": [
           {
            "marker": {
             "colorbar": {
              "outlinewidth": 0,
              "ticks": ""
             }
            },
            "type": "scattergl"
           }
          ],
          "scattermap": [
           {
            "marker": {
             "colorbar": {
              "outlinewidth": 0,
              "ticks": ""
             }
            },
            "type": "scattermap"
           }
          ],
          "scattermapbox": [
           {
            "marker": {
             "colorbar": {
              "outlinewidth": 0,
              "ticks": ""
             }
            },
            "type": "scattermapbox"
           }
          ],
          "scatterpolar": [
           {
            "marker": {
             "colorbar": {
              "outlinewidth": 0,
              "ticks": ""
             }
            },
            "type": "scatterpolar"
           }
          ],
          "scatterpolargl": [
           {
            "marker": {
             "colorbar": {
              "outlinewidth": 0,
              "ticks": ""
             }
            },
            "type": "scatterpolargl"
           }
          ],
          "scatterternary": [
           {
            "marker": {
             "colorbar": {
              "outlinewidth": 0,
              "ticks": ""
             }
            },
            "type": "scatterternary"
           }
          ],
          "surface": [
           {
            "colorbar": {
             "outlinewidth": 0,
             "ticks": ""
            },
            "colorscale": [
             [
              0,
              "#0d0887"
             ],
             [
              0.1111111111111111,
              "#46039f"
             ],
             [
              0.2222222222222222,
              "#7201a8"
             ],
             [
              0.3333333333333333,
              "#9c179e"
             ],
             [
              0.4444444444444444,
              "#bd3786"
             ],
             [
              0.5555555555555556,
              "#d8576b"
             ],
             [
              0.6666666666666666,
              "#ed7953"
             ],
             [
              0.7777777777777778,
              "#fb9f3a"
             ],
             [
              0.8888888888888888,
              "#fdca26"
             ],
             [
              1,
              "#f0f921"
             ]
            ],
            "type": "surface"
           }
          ],
          "table": [
           {
            "cells": {
             "fill": {
              "color": "#EBF0F8"
             },
             "line": {
              "color": "white"
             }
            },
            "header": {
             "fill": {
              "color": "#C8D4E3"
             },
             "line": {
              "color": "white"
             }
            },
            "type": "table"
           }
          ]
         },
         "layout": {
          "annotationdefaults": {
           "arrowcolor": "#2a3f5f",
           "arrowhead": 0,
           "arrowwidth": 1
          },
          "autotypenumbers": "strict",
          "coloraxis": {
           "colorbar": {
            "outlinewidth": 0,
            "ticks": ""
           }
          },
          "colorscale": {
           "diverging": [
            [
             0,
             "#8e0152"
            ],
            [
             0.1,
             "#c51b7d"
            ],
            [
             0.2,
             "#de77ae"
            ],
            [
             0.3,
             "#f1b6da"
            ],
            [
             0.4,
             "#fde0ef"
            ],
            [
             0.5,
             "#f7f7f7"
            ],
            [
             0.6,
             "#e6f5d0"
            ],
            [
             0.7,
             "#b8e186"
            ],
            [
             0.8,
             "#7fbc41"
            ],
            [
             0.9,
             "#4d9221"
            ],
            [
             1,
             "#276419"
            ]
           ],
           "sequential": [
            [
             0,
             "#0d0887"
            ],
            [
             0.1111111111111111,
             "#46039f"
            ],
            [
             0.2222222222222222,
             "#7201a8"
            ],
            [
             0.3333333333333333,
             "#9c179e"
            ],
            [
             0.4444444444444444,
             "#bd3786"
            ],
            [
             0.5555555555555556,
             "#d8576b"
            ],
            [
             0.6666666666666666,
             "#ed7953"
            ],
            [
             0.7777777777777778,
             "#fb9f3a"
            ],
            [
             0.8888888888888888,
             "#fdca26"
            ],
            [
             1,
             "#f0f921"
            ]
           ],
           "sequentialminus": [
            [
             0,
             "#0d0887"
            ],
            [
             0.1111111111111111,
             "#46039f"
            ],
            [
             0.2222222222222222,
             "#7201a8"
            ],
            [
             0.3333333333333333,
             "#9c179e"
            ],
            [
             0.4444444444444444,
             "#bd3786"
            ],
            [
             0.5555555555555556,
             "#d8576b"
            ],
            [
             0.6666666666666666,
             "#ed7953"
            ],
            [
             0.7777777777777778,
             "#fb9f3a"
            ],
            [
             0.8888888888888888,
             "#fdca26"
            ],
            [
             1,
             "#f0f921"
            ]
           ]
          },
          "colorway": [
           "#636efa",
           "#EF553B",
           "#00cc96",
           "#ab63fa",
           "#FFA15A",
           "#19d3f3",
           "#FF6692",
           "#B6E880",
           "#FF97FF",
           "#FECB52"
          ],
          "font": {
           "color": "#2a3f5f"
          },
          "geo": {
           "bgcolor": "white",
           "lakecolor": "white",
           "landcolor": "#E5ECF6",
           "showlakes": true,
           "showland": true,
           "subunitcolor": "white"
          },
          "hoverlabel": {
           "align": "left"
          },
          "hovermode": "closest",
          "mapbox": {
           "style": "light"
          },
          "paper_bgcolor": "white",
          "plot_bgcolor": "#E5ECF6",
          "polar": {
           "angularaxis": {
            "gridcolor": "white",
            "linecolor": "white",
            "ticks": ""
           },
           "bgcolor": "#E5ECF6",
           "radialaxis": {
            "gridcolor": "white",
            "linecolor": "white",
            "ticks": ""
           }
          },
          "scene": {
           "xaxis": {
            "backgroundcolor": "#E5ECF6",
            "gridcolor": "white",
            "gridwidth": 2,
            "linecolor": "white",
            "showbackground": true,
            "ticks": "",
            "zerolinecolor": "white"
           },
           "yaxis": {
            "backgroundcolor": "#E5ECF6",
            "gridcolor": "white",
            "gridwidth": 2,
            "linecolor": "white",
            "showbackground": true,
            "ticks": "",
            "zerolinecolor": "white"
           },
           "zaxis": {
            "backgroundcolor": "#E5ECF6",
            "gridcolor": "white",
            "gridwidth": 2,
            "linecolor": "white",
            "showbackground": true,
            "ticks": "",
            "zerolinecolor": "white"
           }
          },
          "shapedefaults": {
           "line": {
            "color": "#2a3f5f"
           }
          },
          "ternary": {
           "aaxis": {
            "gridcolor": "white",
            "linecolor": "white",
            "ticks": ""
           },
           "baxis": {
            "gridcolor": "white",
            "linecolor": "white",
            "ticks": ""
           },
           "bgcolor": "#E5ECF6",
           "caxis": {
            "gridcolor": "white",
            "linecolor": "white",
            "ticks": ""
           }
          },
          "title": {
           "x": 0.05
          },
          "xaxis": {
           "automargin": true,
           "gridcolor": "white",
           "linecolor": "white",
           "ticks": "",
           "title": {
            "standoff": 15
           },
           "zerolinecolor": "white",
           "zerolinewidth": 2
          },
          "yaxis": {
           "automargin": true,
           "gridcolor": "white",
           "linecolor": "white",
           "ticks": "",
           "title": {
            "standoff": 15
           },
           "zerolinecolor": "white",
           "zerolinewidth": 2
          }
         }
        },
        "title": {
         "text": "adobe-mu1gamma1",
         "x": 0.5
        },
        "width": 650,
        "xaxis": {
         "range": [
          0,
          222.04082
         ],
         "title": {
          "text": "Time (s)"
         }
        },
        "yaxis": {
         "categoryarray": [
          "L12",
          "L11",
          "L10",
          "L09",
          "L08",
          "L07",
          "L06",
          "L05",
          "L04",
          "L03",
          "L02",
          "L01"
         ],
         "categoryorder": "array",
         "title": {}
        }
       }
      }
     },
     "metadata": {},
     "output_type": "display_data"
    }
   ],
   "source": [
    "ref.plot().show()\n",
    "est.plot().show()\n"
   ]
  },
  {
   "cell_type": "code",
   "execution_count": 84,
   "metadata": {},
   "outputs": [
    {
     "name": "stderr",
     "output_type": "stream",
     "text": [
      "/Users/tomxi/code/bnl/.venv/lib/python3.12/site-packages/mir_eval/hierarchy.py:460: UserWarning:\n",
      "\n",
      "Segment hierarchy is inconsistent at level 6\n",
      "\n",
      "/Users/tomxi/code/bnl/.venv/lib/python3.12/site-packages/mir_eval/hierarchy.py:460: UserWarning:\n",
      "\n",
      "Segment hierarchy is inconsistent at level 7\n",
      "\n",
      "/Users/tomxi/code/bnl/.venv/lib/python3.12/site-packages/mir_eval/hierarchy.py:460: UserWarning:\n",
      "\n",
      "Segment hierarchy is inconsistent at level 8\n",
      "\n",
      "/Users/tomxi/code/bnl/.venv/lib/python3.12/site-packages/mir_eval/hierarchy.py:460: UserWarning:\n",
      "\n",
      "Segment hierarchy is inconsistent at level 9\n",
      "\n",
      "/Users/tomxi/code/bnl/.venv/lib/python3.12/site-packages/mir_eval/hierarchy.py:460: UserWarning:\n",
      "\n",
      "Segment hierarchy is inconsistent at level 10\n",
      "\n",
      "/Users/tomxi/code/bnl/.venv/lib/python3.12/site-packages/mir_eval/hierarchy.py:460: UserWarning:\n",
      "\n",
      "Segment hierarchy is inconsistent at level 11\n",
      "\n"
     ]
    },
    {
     "name": "stdout",
     "output_type": "stream",
     "text": [
      "[[0.61329638 0.34236616 0.43942693]\n",
      " [0.28435288 0.52712114 0.36942258]\n",
      " [0.5417733  0.50039929 0.52026503]\n",
      " [0.45868704 0.52010819 0.48747047]]\n"
     ]
    }
   ],
   "source": [
    "# First figure: we need to show for T-measure, what's it's deal with monotonicity.\n",
    "import mir_eval\n",
    "import numpy as np\n",
    "\n",
    "aligned_est = ref.align_layers(est)\n",
    "mono_est_count = aligned_est.to_contour('count').to_hierarchy().to_multisegment()\n",
    "mono_est_depth = aligned_est.to_contour('depth').to_hierarchy().to_multisegment()\n",
    "mono_est_prob = aligned_est.to_contour('prob').to_hierarchy().to_multisegment()\n",
    "\n",
    "a = mir_eval.hierarchy.tmeasure(ref.itvls, aligned_est.itvls)\n",
    "b = mir_eval.hierarchy.tmeasure(ref.itvls, mono_est_depth.itvls)\n",
    "c = mir_eval.hierarchy.tmeasure(ref.itvls, mono_est_count.itvls)\n",
    "d = mir_eval.hierarchy.tmeasure(ref.itvls, mono_est_prob.itvls)\n",
    "print(np.array([a, b, c, d]))"
   ]
  },
  {
   "cell_type": "code",
   "execution_count": null,
   "metadata": {},
   "outputs": [],
   "source": [
    "# Study the effect of monotonic casting and T-measure"
   ]
  }
 ],
 "metadata": {
  "kernelspec": {
   "display_name": ".venv",
   "language": "python",
   "name": "python3"
  },
  "language_info": {
   "codemirror_mode": {
    "name": "ipython",
    "version": 3
   },
   "file_extension": ".py",
   "mimetype": "text/x-python",
   "name": "python",
   "nbconvert_exporter": "python",
   "pygments_lexer": "ipython3",
   "version": "3.12.11"
  }
 },
 "nbformat": 4,
 "nbformat_minor": 4
}
