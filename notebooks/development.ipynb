{
 "cells": [
  {
   "cell_type": "markdown",
   "metadata": {},
   "source": [
    "# BNL Development Notebook\n",
    "\n",
    "This notebook is for developing and testing the BNL package.\n"
   ]
  },
  {
   "cell_type": "code",
   "execution_count": null,
   "metadata": {},
   "outputs": [],
   "source": [
    "%load_ext autoreload\n",
    "%autoreload 2\n",
    "\n",
    "import bnl\n",
    "from random import choice\n",
    "\n",
    "slm_ds = bnl.data.Dataset(manifest_path=\"~/data/salami/metadata.csv\")\n",
    "track = slm_ds[11]\n",
    "\n",
    "available_refs = list(track.refs)\n",
    "available_ests = list(track.ests)\n",
    "print(available_refs, available_ests)\n",
    "\n",
    "est = track.ests[choice(available_ests)]\n",
    "ref = track.refs[choice(available_refs)]"
   ]
  },
  {
   "cell_type": "code",
   "execution_count": null,
   "metadata": {},
   "outputs": [],
   "source": [
    "est = track.ests[choice(available_ests)]\n",
    "est1 = est.prune_layers(relabel=False)\n",
    "est2 = est.prune_layers(relabel=True)\n",
    "est.plot().show()\n",
    "est1.plot().show()\n",
    "est2.plot().show()"
   ]
  },
  {
   "cell_type": "code",
   "execution_count": null,
   "metadata": {},
   "outputs": [],
   "source": [
    "mock_empty_layer = bnl.S(\n",
    "    bs=[ref.start, ref.end], labels=[None], \n",
    "    name='empty'\n",
    ")\n",
    "mock_layer = bnl.S(\n",
    "    bs=ref[1].bs, labels=[f'lab_{lab}' for lab in ref[1].labels], \n",
    "    name='redundant'\n",
    ")\n",
    "mock_ref = bnl.MS(\n",
    "    layers=[mock_empty_layer] + ref.layers + [mock_layer], \n",
    "    name='mock_ref'\n",
    ")\n",
    "\n",
    "mock_ref.plot().show()\n",
    "mock_ref.prune_layers().plot().show()"
   ]
  },
  {
   "cell_type": "code",
   "execution_count": null,
   "metadata": {},
   "outputs": [],
   "source": [
    "# First figure: we need to show for T-measure, what's it's deal with monotonicity.\n",
    "import mir_eval\n",
    "import numpy as np\n",
    "from random import choice\n",
    "from bnl.data import Dataset\n",
    "from plotly.subplots import make_subplots\n",
    "\n",
    "slm_ds = Dataset()\n",
    "track = slm_ds[18]\n",
    "\n",
    "est = track.ests[choice(list(track.ests))]\n",
    "ref = track.refs[choice(list(track.refs))]\n",
    "aligned_est = est.align(span=ref)\n"
   ]
  },
  {
   "cell_type": "code",
   "execution_count": null,
   "metadata": {},
   "outputs": [],
   "source": [
    "mono_est_count = aligned_est.contour('count').level().to_ms()\n",
    "mono_est_depth = aligned_est.contour('depth').level().to_ms()\n",
    "mono_est_prob = aligned_est.contour('prob').level().to_ms()\n"
   ]
  },
  {
   "cell_type": "code",
   "execution_count": null,
   "metadata": {},
   "outputs": [],
   "source": [
    "fig = make_subplots(\n",
    "    rows=4, cols=1, shared_xaxes=True, vertical_spacing=0.04,\n",
    "    subplot_titles=[\"Reference\", \"Estimated Raw\", \"Count\", \"Depth\"],\n",
    "    row_heights=[0.1, 0.3, 0.2, 0.2],\n",
    ")\n",
    "[fig.add_trace(labeld_timespans, row=1, col=1) for labeld_timespans in ref.plot().data]\n",
    "[fig.add_trace(labeld_timespans, row=2, col=1) for labeld_timespans in aligned_est.plot().data]\n",
    "[fig.add_trace(labeld_timespans, row=3, col=1) for labeld_timespans in mono_est_count.plot().data]\n",
    "[fig.add_trace(labeld_timespans, row=4, col=1) for labeld_timespans in mono_est_depth.plot().data]\n",
    "fig.update_layout(barmode=\"overlay\", legend_visible=False, height=1000, width=800)\n",
    "fig.update_xaxes(autorangeoptions=dict(minallowed=ref.start.time, maxallowed=ref.end.time))\n",
    "fig.show()"
   ]
  },
  {
   "cell_type": "code",
   "execution_count": null,
   "metadata": {},
   "outputs": [],
   "source": [
    "import mir_eval\n",
    "import numpy as np\n",
    "from warnings import filterwarnings\n",
    "filterwarnings(\"ignore\")\n",
    "\n",
    "mono_est_depth = aligned_est.to_contour('depth').to_multisegment()\n",
    "\n",
    "a = mir_eval.hierarchy.tmeasure(ref.itvls, aligned_est.itvls[2:6], transitive=True)\n",
    "b = mir_eval.hierarchy.tmeasure(ref.itvls, mono_est_depth.itvls[2:6], transitive=True)\n",
    "c = mir_eval.hierarchy.tmeasure(ref.itvls, aligned_est.itvls[2:6], transitive=False)\n",
    "d = mir_eval.hierarchy.tmeasure(ref.itvls, mono_est_depth.itvls[2:6], transitive=False)\n",
    "\n",
    "\n",
    "print(np.array([a, b, c, d]))"
   ]
  },
  {
   "cell_type": "code",
   "execution_count": null,
   "metadata": {},
   "outputs": [],
   "source": [
    "from mir_eval.hierarchy import tmeasure\n",
    "\n",
    "annos = [\n",
    "    ref.scrub_labels(), \n",
    "    MS(aligned_est[2:6], 'Raw').scrub_labels(), \n",
    "    MS(mono_est_depth[2:6], 'Mono')\n",
    "]\n",
    "\n",
    "fig = make_subplots(\n",
    "    rows=3, cols=1, shared_xaxes=True,\n",
    "    subplot_titles=[\"Reference\", \"Raw\", \"Mono\"]\n",
    ")\n",
    "fig.update_layout(\n",
    "    barmode=\"overlay\", legend_visible=False, height=650, width=650, \n",
    "    margin=dict(l=10, r=10, t=50, b=10)\n",
    ")\n",
    "fig.update_xaxes(\n",
    "    autorangeoptions=dict(minallowed=ref.start.time, maxallowed=ref.end.time)\n",
    ")\n",
    "\n",
    "for row, anno in enumerate(annos, start=1):\n",
    "    if row != 1:\n",
    "        print(f\"{anno}: reduced (tran=False)\\n  {tmeasure(ref.itvls, anno.itvls)}\")\n",
    "        print(f\"{anno}: full (tran=True)\\n  {tmeasure(ref.itvls, anno.itvls, transitive=True)}\")\n",
    "    for bar_trace in anno.plot().data:\n",
    "        fig.add_trace(bar_trace, row=row, col=1)\n",
    "\n",
    "fig.show()"
   ]
  },
  {
   "cell_type": "code",
   "execution_count": null,
   "metadata": {},
   "outputs": [],
   "source": [
    "# Study the effect of monotonic casting and T-measure"
   ]
  }
 ],
 "metadata": {
  "kernelspec": {
   "display_name": "py311",
   "language": "python",
   "name": "python3"
  },
  "language_info": {
   "codemirror_mode": {
    "name": "ipython",
    "version": 3
   },
   "file_extension": ".py",
   "mimetype": "text/x-python",
   "name": "python",
   "nbconvert_exporter": "python",
   "pygments_lexer": "ipython3",
   "version": "3.11.13"
  }
 },
 "nbformat": 4,
 "nbformat_minor": 4
}
