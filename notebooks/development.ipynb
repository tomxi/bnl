{
 "cells": [
  {
   "cell_type": "markdown",
   "metadata": {},
   "source": [
    "# BNL Development Notebook\n",
    "\n",
    "This notebook is for developing and testing the BNL package.\n"
   ]
  },
  {
   "cell_type": "markdown",
   "metadata": {},
   "source": []
  },
  {
   "cell_type": "code",
   "execution_count": 4,
   "metadata": {},
   "outputs": [
    {
     "name": "stdout",
     "output_type": "stream",
     "text": [
      "The autoreload extension is already loaded. To reload it, use:\n",
      "  %reload_ext autoreload\n"
     ]
    }
   ],
   "source": [
    "%load_ext autoreload\n",
    "%autoreload 2\n",
    "\n",
    "import bnl"
   ]
  },
  {
   "cell_type": "code",
   "execution_count": 5,
   "metadata": {},
   "outputs": [
    {
     "ename": "NameError",
     "evalue": "name 'TimeSpan' is not defined",
     "output_type": "error",
     "traceback": [
      "\u001b[31m---------------------------------------------------------------------------\u001b[39m",
      "\u001b[31mNameError\u001b[39m                                 Traceback (most recent call last)",
      "\u001b[36mCell\u001b[39m\u001b[36m \u001b[39m\u001b[32mIn[5]\u001b[39m\u001b[32m, line 2\u001b[39m\n\u001b[32m      1\u001b[39m \u001b[38;5;66;03m# Create a Segmentation object using the new construction utility\u001b[39;00m\n\u001b[32m----> \u001b[39m\u001b[32m2\u001b[39m seg = \u001b[43mbnl\u001b[49m\u001b[43m.\u001b[49m\u001b[43mseg_from_brdys\u001b[49m\u001b[43m(\u001b[49m\u001b[43m(\u001b[49m\u001b[32;43m1\u001b[39;49m\u001b[43m,\u001b[49m\u001b[32;43m3\u001b[39;49m\u001b[43m,\u001b[49m\u001b[32;43m5\u001b[39;49m\u001b[43m,\u001b[49m\u001b[32;43m6\u001b[39;49m\u001b[43m)\u001b[49m\u001b[43m,\u001b[49m\u001b[43m \u001b[49m\u001b[43mlabels\u001b[49m\u001b[43m=\u001b[49m\u001b[43m[\u001b[49m\u001b[33;43m'\u001b[39;49m\u001b[33;43mvocals\u001b[39;49m\u001b[33;43m'\u001b[39;49m\u001b[43m,\u001b[49m\u001b[43m \u001b[49m\u001b[33;43m'\u001b[39;49m\u001b[33;43mdrums\u001b[39;49m\u001b[33;43m'\u001b[39;49m\u001b[43m,\u001b[49m\u001b[43m \u001b[49m\u001b[33;43m'\u001b[39;49m\u001b[33;43mbass\u001b[39;49m\u001b[33;43m'\u001b[39;49m\u001b[43m]\u001b[49m\u001b[43m)\u001b[49m\n\u001b[32m      3\u001b[39m seg.plot(text=\u001b[38;5;28;01mTrue\u001b[39;00m)\n",
      "\u001b[36mFile \u001b[39m\u001b[32m<string>:43\u001b[39m, in \u001b[36mseg_from_brdys\u001b[39m\u001b[34m(boundaries, labels)\u001b[39m\n",
      "\u001b[31mNameError\u001b[39m: name 'TimeSpan' is not defined"
     ]
    }
   ],
   "source": [
    "# Create a Segmentation object using the new construction utility\n",
    "seg = bnl.seg_from_brdys((1,3,5,6), labels=['vocals', 'drums', 'bass'])\n",
    "seg.plot(text=True)\n",
    "\n"
   ]
  },
  {
   "cell_type": "markdown",
   "metadata": {},
   "source": [
    "## Todo items:\n",
    "- [x] Add a `Hierarchy` class to core.py\n",
    "\n",
    "- [ ] Add a module for dealing with jams and datasets, currently only SALAMI. \n",
    "- [ ] Add a `Hierarchy.plot()`\n",
    "- [ ] add eval.py a module for evaluating metrics.\n",
    "\n",
    "## Think about this one:\n",
    "- [ ] Boundary salience curve for Hierarchy, and coding and decoding to monotonic hierarchies.\n",
    "\n",
    "So the consideration is whether to make aother class that's Monotonic Hierarchy, or to add casting methods to the Hierarchy class.\n",
    "\n",
    "Yea.. I think we should have a different class for Monotonic Hierarchy, and then add casting methods to the Hierarchy class for conversion.\n",
    "\n",
    "\n"
   ]
  },
  {
   "cell_type": "markdown",
   "metadata": {},
   "source": [
    "## More thinking on API\n",
    "\n",
    "So after more thinking, I think it'll be good to break things down further.\n",
    "Let's have a TimeSpan class that's just a labeled time span: it has start time, end time. check that start time is less than end time.\n",
    "It'll have an optional label. It'll have a duration property, and that's it.\n",
    "\n",
    "- TimeSpan has .start, .end, .label (optional),\n",
    "  dirivitive: .duration, .itvls, .bdrys\n",
    "\n",
    "The current Segment class will be renamed to Segmentation, which inherits from TimeSpan.\n",
    "It also has a segments property, which is a list of TimeSpan objects.\n",
    "During init, we have to check that segments are sorted, non-overlapping, and covers the entire duration of the Segmentation.\n",
    "\n",
    "- Segmentation has .segments, \n",
    "    Derivatives: .duration, .itvls, and .labels, .bdrys, \n",
    "\n",
    "Hierarchy will be a TimeSpan, and then have a list of Segmentation objects as its layers, each of which has a list of labeled TimeSpan as its segments.\n",
    "\n",
    "Hierarchy has .layers, which is a list of Segmentation objects.\n",
    "\n",
    "We then introduce ProperHierarchy, which inherits from Hierarchy, and has monotonoic boundaires.\n",
    "\n",
    "ProperHierarchy has Boundary to Layer mapping, and has monotonic boundaires across its levels.\n"
   ]
  },
  {
   "cell_type": "code",
   "execution_count": null,
   "metadata": {},
   "outputs": [],
   "source": [
    "## Add a `Hierarchy` class to core.py"
   ]
  }
 ],
 "metadata": {
  "kernelspec": {
   "display_name": "py311",
   "language": "python",
   "name": "python3"
  },
  "language_info": {
   "codemirror_mode": {
    "name": "ipython",
    "version": 3
   },
   "file_extension": ".py",
   "mimetype": "text/x-python",
   "name": "python",
   "nbconvert_exporter": "python",
   "pygments_lexer": "ipython3",
   "version": "3.11.12"
  }
 },
 "nbformat": 4,
 "nbformat_minor": 2
}
