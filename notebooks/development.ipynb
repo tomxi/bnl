{
 "cells": [
  {
   "cell_type": "markdown",
   "metadata": {},
   "source": [
    "# BNL Development Notebook\n",
    "\n",
    "This notebook is for developing and testing the BNL package.\n"
   ]
  },
  {
   "cell_type": "code",
   "execution_count": null,
   "metadata": {},
   "outputs": [],
   "source": [
    "%load_ext autoreload\n",
    "%autoreload 2\n",
    "\n",
    "import bnl\n",
    "\n",
    "# R2_BUCKET_PUBLIC_URL = \"https://pub-05e404c031184ec4bbf69b0c2321b98e.r2.dev\"\n",
    "\n",
    "# slm_ds_cloud = bnl.data.Dataset(manifest_path=f\"{R2_BUCKET_PUBLIC_URL}/manifest_cloud_boolean.csv\")\n",
    "slm_ds = bnl.data.Dataset(manifest_path=\"~/data/salami/metadata.csv\")\n",
    "track = slm_ds[8]\n",
    "est = track.load_annotation(\"adobe-mu1gamma1\")\n",
    "ref = track.load_annotation(\"reference\")"
   ]
  },
  {
   "cell_type": "code",
   "execution_count": null,
   "metadata": {},
   "outputs": [],
   "source": [
    "\n",
    "# Try loading an Adobe annotation that exists\n",
    "est = track.load_annotation(\"adobe-mu1gamma1\")\n",
    "est.plot_plotly(figsize=(600, 400))"
   ]
  },
  {
   "cell_type": "code",
   "execution_count": null,
   "metadata": {},
   "outputs": [],
   "source": [
    "ref = track.load_annotation(\"reference\")\n",
    "ref.plot_plotly()"
   ]
  },
  {
   "cell_type": "code",
   "execution_count": null,
   "metadata": {},
   "outputs": [],
   "source": [
    "ref.plot_plotly(figsize=None)"
   ]
  },
  {
   "cell_type": "code",
   "execution_count": null,
   "metadata": {},
   "outputs": [],
   "source": [
    "for strategy in [\"depth\", \"count\", \"prob\"]:\n",
    "    # Using the new fluent API\n",
    "    contour = est.to_contour(strategy=strategy)\n",
    "    contour.plot(figsize=(6,3))\n",
    "\n",
    "    # Convert to hierarchy and then to multisegment for visualization\n",
    "    hierarchy = contour.to_hierarchy()\n",
    "    mono_ms = hierarchy.to_multisegment()\n",
    "    mono_ms.plot(figsize=(6, 3))"
   ]
  },
  {
   "cell_type": "code",
   "execution_count": null,
   "metadata": {},
   "outputs": [],
   "source": [
    "# Demonstrating the new boundary cleaning functionality\n",
    "print(\"Original boundary cleaning strategies:\")\n",
    "\n",
    "# Get a boundary contour\n",
    "contour = est.to_contour(strategy=\"depth\")\n",
    "print(f\"Original contour has {len(contour.boundaries)} boundaries\")\n",
    "\n",
    "# Try different cleaning strategies\n",
    "for strategy in [\"absorb\", \"kde\"]:\n",
    "    print(f\"\\nCleaning with {strategy} strategy:\")\n",
    "\n",
    "    if strategy == \"absorb\":\n",
    "        # For absorb, we can specify a window parameter\n",
    "        cleaned = contour.clean(strategy=strategy, window=1.0)\n",
    "    else:  # kde\n",
    "        # For kde, we can specify bandwidth and frame_size\n",
    "        cleaned = contour.clean(strategy=strategy, bandwidth=1.0, frame_size=0.1)\n",
    "\n",
    "    print(f\"  Cleaned contour has {len(cleaned.boundaries)} boundaries\")\n",
    "    cleaned.plot(figsize=(6, 2))\n"
   ]
  },
  {
   "cell_type": "code",
   "execution_count": null,
   "metadata": {},
   "outputs": [],
   "source": [
    "# Demonstrating the new boundary cleaning functionality\n",
    "print(\"Original boundary cleaning strategies:\")\n",
    "\n",
    "# Get a boundary contour\n",
    "contour = est.to_contour(strategy=\"depth\")\n",
    "print(f\"Original contour has {len(contour.boundaries)} boundaries\")\n",
    "\n",
    "# Try different cleaning strategies\n",
    "for strategy in [\"absorb\", \"kde\"]:\n",
    "    print(f\"\\nCleaning with {strategy} strategy:\")\n",
    "    \n",
    "    if strategy == \"absorb\":\n",
    "        # For absorb, we can specify a window parameter\n",
    "        cleaned = contour.clean(strategy=strategy, window=1.0)\n",
    "    else:  # kde\n",
    "        # For kde, we can specify bandwidth and frame_size\n",
    "        cleaned = contour.clean(strategy=strategy, bandwidth=1.0, frame_size=0.1)\n",
    "    \n",
    "    print(f\"  Cleaned contour has {len(cleaned.boundaries)} boundaries\")\n",
    "    cleaned.plot(figsize=(6, 2))\n"
   ]
  },
  {
   "cell_type": "code",
   "execution_count": null,
   "metadata": {},
   "outputs": [],
   "source": [
    "# Demonstrating the new boundary cleaning functionality\n",
    "print(\"Original boundary cleaning strategies:\")\n",
    "\n",
    "# Get a boundary contour\n",
    "contour = est.to_contour(strategy=\"depth\")\n",
    "print(f\"Original contour has {len(contour.boundaries)} boundaries\")\n",
    "\n",
    "# Try different cleaning strategies\n",
    "for strategy in [\"absorb\", \"kde\"]:\n",
    "    print(f\"\\nCleaning with {strategy} strategy:\")\n",
    "    \n",
    "    if strategy == \"absorb\":\n",
    "        # For absorb, we can specify a window parameter\n",
    "        cleaned = contour.clean(strategy=strategy, window=1.0)\n",
    "    else:  # kde\n",
    "        # For kde, we can specify bandwidth and frame_size\n",
    "        cleaned = contour.clean(strategy=strategy, bandwidth=1.0, frame_size=0.1)\n",
    "    \n",
    "    print(f\"  Cleaned contour has {len(cleaned.boundaries)} boundaries\")\n",
    "    cleaned.plot(figsize=(6, 2))\n"
   ]
  },
  {
   "cell_type": "code",
   "execution_count": null,
   "metadata": {},
   "outputs": [],
   "source": [
    "# Demonstrating the beautiful fluent API chaining\n",
    "print(\"Fluent API chaining - the full pipeline in one expression:\")\n",
    "\n",
    "# The complete pipeline: estimate -> contour -> clean -> hierarchy -> multisegment\n",
    "final_result = (\n",
    "    est.to_contour(strategy=\"depth\")\n",
    "       .clean(strategy=\"absorb\", window=0.5)\n",
    "       .to_hierarchy()\n",
    "       .to_multisegment()\n",
    ")\n",
    "\n",
    "print(f\"Final result has {len(final_result)} layers\")\n",
    "final_result.plot(figsize=(8, 4))\n"
   ]
  },
  {
   "cell_type": "code",
   "execution_count": null,
   "metadata": {},
   "outputs": [],
   "source": []
  }
 ],
 "metadata": {
  "kernelspec": {
   "display_name": "default",
   "language": "python",
   "name": "python3"
  },
  "language_info": {
   "codemirror_mode": {
    "name": "ipython",
    "version": 3
   },
   "file_extension": ".py",
   "mimetype": "text/x-python",
   "name": "python",
   "nbconvert_exporter": "python",
   "pygments_lexer": "ipython3",
   "version": "3.12.11"
  }
 },
 "nbformat": 4,
 "nbformat_minor": 2
}
