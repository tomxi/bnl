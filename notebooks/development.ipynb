{
 "cells": [
  {
   "cell_type": "markdown",
   "metadata": {},
   "source": [
    "# BNL Development Notebook\n",
    "\n",
    "This notebook is for developing and testing the BNL package.\n"
   ]
  },
  {
   "cell_type": "code",
   "execution_count": 9,
   "metadata": {},
   "outputs": [
    {
     "name": "stdout",
     "output_type": "stream",
     "text": [
      "['4', '2'] ['mu1gamma1', 'mu1gamma9', 'mu5gamma5']\n"
     ]
    },
    {
     "data": {
      "application/vnd.plotly.v1+json": {
       "config": {
        "plotlyServerURL": "https://plot.ly"
       },
       "data": [
        {
         "base": [
          0
         ],
         "customdata": [
          "<b>silence</b><br>Layer: coarse<br>Start: 0.000s<br>End: 0.244s<br>Duration: 0.244s"
         ],
         "hovertemplate": "%{customdata}<extra></extra>",
         "insidetextanchor": "middle",
         "marker": {
          "color": "#1F77B4",
          "line": {
           "color": "white",
           "width": 0.5
          },
          "pattern": {
           "fgcolor": "white",
           "fgopacity": 0.5,
           "shape": "",
           "solidity": 0.25
          }
         },
         "name": "silence",
         "orientation": "h",
         "showlegend": true,
         "text": [
          "silence"
         ],
         "textposition": "inside",
         "type": "bar",
         "width": 1,
         "x": [
          0.24381
         ],
         "y": [
          "coarse"
         ]
        },
        {
         "base": [
          0.24381
         ],
         "customdata": [
          "<b>intro</b><br>Layer: coarse<br>Start: 0.244s<br>End: 31.504s<br>Duration: 31.260s"
         ],
         "hovertemplate": "%{customdata}<extra></extra>",
         "insidetextanchor": "middle",
         "marker": {
          "color": "#FF7F0E",
          "line": {
           "color": "white",
           "width": 0.5
          },
          "pattern": {
           "fgcolor": "white",
           "fgopacity": 0.5,
           "shape": "",
           "solidity": 0.25
          }
         },
         "name": "intro",
         "orientation": "h",
         "showlegend": true,
         "text": [
          "intro"
         ],
         "textposition": "inside",
         "type": "bar",
         "width": 1,
         "x": [
          31.26023
         ],
         "y": [
          "coarse"
         ]
        },
        {
         "base": [
          31.50404,
          72.63848,
          165.00934
         ],
         "customdata": [
          "<b>verse</b><br>Layer: coarse<br>Start: 31.504s<br>End: 52.075s<br>Duration: 20.571s",
          "<b>verse</b><br>Layer: coarse<br>Start: 72.638s<br>End: 93.223s<br>Duration: 20.585s",
          "<b>verse</b><br>Layer: coarse<br>Start: 165.009s<br>End: 180.447s<br>Duration: 15.437s"
         ],
         "hovertemplate": "%{customdata}<extra></extra>",
         "insidetextanchor": "middle",
         "marker": {
          "color": "#2CA02C",
          "line": {
           "color": "white",
           "width": 0.5
          },
          "pattern": {
           "fgcolor": "white",
           "fgopacity": 0.5,
           "shape": "",
           "solidity": 0.25
          }
         },
         "name": "verse",
         "orientation": "h",
         "showlegend": true,
         "text": [
          "verse",
          "verse",
          "verse"
         ],
         "textposition": "inside",
         "type": "bar",
         "width": 1,
         "x": [
          20.57138,
          20.58488,
          15.437369999999987
         ],
         "y": [
          "coarse",
          "coarse",
          "coarse"
         ]
        },
        {
         "base": [
          52.07542
         ],
         "customdata": [
          "<b>chorus</b><br>Layer: coarse<br>Start: 52.075s<br>End: 62.362s<br>Duration: 10.287s"
         ],
         "hovertemplate": "%{customdata}<extra></extra>",
         "insidetextanchor": "middle",
         "marker": {
          "color": "#D62728",
          "line": {
           "color": "white",
           "width": 0.5
          },
          "pattern": {
           "fgcolor": "white",
           "fgopacity": 0.5,
           "shape": "",
           "solidity": 0.25
          }
         },
         "name": "chorus",
         "orientation": "h",
         "showlegend": true,
         "text": [
          "chorus"
         ],
         "textposition": "inside",
         "type": "bar",
         "width": 1,
         "x": [
          10.287030000000001
         ],
         "y": [
          "coarse"
         ]
        },
        {
         "base": [
          62.36245
         ],
         "customdata": [
          "<b>interlude</b><br>Layer: coarse<br>Start: 62.362s<br>End: 72.638s<br>Duration: 10.276s"
         ],
         "hovertemplate": "%{customdata}<extra></extra>",
         "insidetextanchor": "middle",
         "marker": {
          "color": "#9467BD",
          "line": {
           "color": "white",
           "width": 0.5
          },
          "pattern": {
           "fgcolor": "white",
           "fgopacity": 0.5,
           "shape": "",
           "solidity": 0.25
          }
         },
         "name": "interlude",
         "orientation": "h",
         "showlegend": true,
         "text": [
          "interlude"
         ],
         "textposition": "inside",
         "type": "bar",
         "width": 1,
         "x": [
          10.276029999999999
         ],
         "y": [
          "coarse"
         ]
        },
        {
         "base": [
          93.22336,
          103.57853,
          154.88533,
          180.44671,
          190.76401
         ],
         "customdata": [
          "<b>no_function</b><br>Layer: coarse<br>Start: 93.223s<br>End: 103.579s<br>Duration: 10.355s",
          "<b>no_function</b><br>Layer: coarse<br>Start: 103.579s<br>End: 154.885s<br>Duration: 51.307s",
          "<b>no_function</b><br>Layer: coarse<br>Start: 154.885s<br>End: 165.009s<br>Duration: 10.124s",
          "<b>no_function</b><br>Layer: coarse<br>Start: 180.447s<br>End: 190.764s<br>Duration: 10.317s",
          "<b>no_function</b><br>Layer: coarse<br>Start: 190.764s<br>End: 222.061s<br>Duration: 31.297s"
         ],
         "hovertemplate": "%{customdata}<extra></extra>",
         "insidetextanchor": "middle",
         "marker": {
          "color": "#8C564B",
          "line": {
           "color": "white",
           "width": 0.5
          },
          "pattern": {
           "fgcolor": "white",
           "fgopacity": 0.5,
           "shape": "",
           "solidity": 0.25
          }
         },
         "name": "no_function",
         "orientation": "h",
         "showlegend": true,
         "text": [
          "no_function",
          "no_function",
          "no_function",
          "no_function",
          "no_function"
         ],
         "textposition": "inside",
         "type": "bar",
         "width": 1,
         "x": [
          10.355170000000001,
          51.30680000000001,
          10.124009999999998,
          10.317300000000017,
          31.2971
         ],
         "y": [
          "coarse",
          "coarse",
          "coarse",
          "coarse",
          "coarse"
         ]
        },
        {
         "base": [
          0
         ],
         "customdata": [
          "<b>Silence</b><br>Layer: fine<br>Start: 0.000s<br>End: 0.244s<br>Duration: 0.244s"
         ],
         "hovertemplate": "%{customdata}<extra></extra>",
         "insidetextanchor": "middle",
         "marker": {
          "color": "#E377C2",
          "line": {
           "color": "white",
           "width": 0.5
          },
          "pattern": {
           "fgcolor": "white",
           "fgopacity": 0.5,
           "shape": "",
           "solidity": 0.25
          }
         },
         "name": "Silence",
         "orientation": "h",
         "showlegend": true,
         "text": [
          "Silence"
         ],
         "textposition": "inside",
         "type": "bar",
         "width": 1,
         "x": [
          0.24381
         ],
         "y": [
          "fine"
         ]
        },
        {
         "base": [
          0.24381,
          134.47696,
          144.71481
         ],
         "customdata": [
          "<b>a</b><br>Layer: fine<br>Start: 0.244s<br>End: 11.052s<br>Duration: 10.808s",
          "<b>a</b><br>Layer: fine<br>Start: 134.477s<br>End: 144.715s<br>Duration: 10.238s",
          "<b>a</b><br>Layer: fine<br>Start: 144.715s<br>End: 154.885s<br>Duration: 10.171s"
         ],
         "hovertemplate": "%{customdata}<extra></extra>",
         "insidetextanchor": "middle",
         "marker": {
          "color": "#7F7F7F",
          "line": {
           "color": "white",
           "width": 0.5
          },
          "pattern": {
           "fgcolor": "white",
           "fgopacity": 0.5,
           "shape": "",
           "solidity": 0.25
          }
         },
         "name": "a",
         "orientation": "h",
         "showlegend": true,
         "text": [
          "a",
          "a",
          "a"
         ],
         "textposition": "inside",
         "type": "bar",
         "width": 1,
         "x": [
          10.80787,
          10.237850000000009,
          10.17052000000001
         ],
         "y": [
          "fine",
          "fine",
          "fine"
         ]
        },
        {
         "base": [
          11.05168
         ],
         "customdata": [
          "<b>b</b><br>Layer: fine<br>Start: 11.052s<br>End: 21.271s<br>Duration: 10.219s"
         ],
         "hovertemplate": "%{customdata}<extra></extra>",
         "insidetextanchor": "middle",
         "marker": {
          "color": "#BCBD22",
          "line": {
           "color": "white",
           "width": 0.5
          },
          "pattern": {
           "fgcolor": "white",
           "fgopacity": 0.5,
           "shape": "",
           "solidity": 0.25
          }
         },
         "name": "b",
         "orientation": "h",
         "showlegend": true,
         "text": [
          "b"
         ],
         "textposition": "inside",
         "type": "bar",
         "width": 1,
         "x": [
          10.21898
         ],
         "y": [
          "fine"
         ]
        },
        {
         "base": [
          21.27066,
          62.36245
         ],
         "customdata": [
          "<b>c</b><br>Layer: fine<br>Start: 21.271s<br>End: 31.504s<br>Duration: 10.233s",
          "<b>c</b><br>Layer: fine<br>Start: 62.362s<br>End: 72.638s<br>Duration: 10.276s"
         ],
         "hovertemplate": "%{customdata}<extra></extra>",
         "insidetextanchor": "middle",
         "marker": {
          "color": "#17BECF",
          "line": {
           "color": "white",
           "width": 0.5
          },
          "pattern": {
           "fgcolor": "white",
           "fgopacity": 0.5,
           "shape": "",
           "solidity": 0.25
          }
         },
         "name": "c",
         "orientation": "h",
         "showlegend": true,
         "text": [
          "c",
          "c"
         ],
         "textposition": "inside",
         "type": "bar",
         "width": 1,
         "x": [
          10.23338,
          10.276029999999999
         ],
         "y": [
          "fine",
          "fine"
         ]
        },
        {
         "base": [
          31.50404,
          41.80308,
          72.63848,
          83.00048,
          165.00934
         ],
         "customdata": [
          "<b>d</b><br>Layer: fine<br>Start: 31.504s<br>End: 41.803s<br>Duration: 10.299s",
          "<b>d</b><br>Layer: fine<br>Start: 41.803s<br>End: 52.075s<br>Duration: 10.272s",
          "<b>d</b><br>Layer: fine<br>Start: 72.638s<br>End: 83.000s<br>Duration: 10.362s",
          "<b>d</b><br>Layer: fine<br>Start: 83.000s<br>End: 93.223s<br>Duration: 10.223s",
          "<b>d</b><br>Layer: fine<br>Start: 165.009s<br>End: 175.356s<br>Duration: 10.346s"
         ],
         "hovertemplate": "%{customdata}<extra></extra>",
         "insidetextanchor": "middle",
         "marker": {
          "color": "#1F77B4",
          "line": {
           "color": "white",
           "width": 0.5
          },
          "pattern": {
           "fgcolor": "white",
           "fgopacity": 0.5,
           "shape": ".",
           "solidity": 0.25
          }
         },
         "name": "d",
         "orientation": "h",
         "showlegend": true,
         "text": [
          "d",
          "d",
          "d",
          "d",
          "d"
         ],
         "textposition": "inside",
         "type": "bar",
         "width": 1,
         "x": [
          10.299040000000002,
          10.27234,
          10.361999999999995,
          10.222880000000004,
          10.34645999999998
         ],
         "y": [
          "fine",
          "fine",
          "fine",
          "fine",
          "fine"
         ]
        },
        {
         "base": [
          52.07542,
          93.22336,
          154.88533,
          180.44671
         ],
         "customdata": [
          "<b>b'</b><br>Layer: fine<br>Start: 52.075s<br>End: 62.362s<br>Duration: 10.287s",
          "<b>b'</b><br>Layer: fine<br>Start: 93.223s<br>End: 103.579s<br>Duration: 10.355s",
          "<b>b'</b><br>Layer: fine<br>Start: 154.885s<br>End: 165.009s<br>Duration: 10.124s",
          "<b>b'</b><br>Layer: fine<br>Start: 180.447s<br>End: 190.764s<br>Duration: 10.317s"
         ],
         "hovertemplate": "%{customdata}<extra></extra>",
         "insidetextanchor": "middle",
         "marker": {
          "color": "#FF7F0E",
          "line": {
           "color": "white",
           "width": 0.5
          },
          "pattern": {
           "fgcolor": "white",
           "fgopacity": 0.5,
           "shape": ".",
           "solidity": 0.25
          }
         },
         "name": "b'",
         "orientation": "h",
         "showlegend": true,
         "text": [
          "b'",
          "b'",
          "b'",
          "b'"
         ],
         "textposition": "inside",
         "type": "bar",
         "width": 1,
         "x": [
          10.287030000000001,
          10.355170000000001,
          10.124009999999998,
          10.317300000000017
         ],
         "y": [
          "fine",
          "fine",
          "fine",
          "fine"
         ]
        },
        {
         "base": [
          103.57853,
          190.76401
         ],
         "customdata": [
          "<b>e</b><br>Layer: fine<br>Start: 103.579s<br>End: 113.906s<br>Duration: 10.328s",
          "<b>e</b><br>Layer: fine<br>Start: 190.764s<br>End: 200.920s<br>Duration: 10.156s"
         ],
         "hovertemplate": "%{customdata}<extra></extra>",
         "insidetextanchor": "middle",
         "marker": {
          "color": "#2CA02C",
          "line": {
           "color": "white",
           "width": 0.5
          },
          "pattern": {
           "fgcolor": "white",
           "fgopacity": 0.5,
           "shape": ".",
           "solidity": 0.25
          }
         },
         "name": "e",
         "orientation": "h",
         "showlegend": true,
         "text": [
          "e",
          "e"
         ],
         "textposition": "inside",
         "type": "bar",
         "width": 1,
         "x": [
          10.327820000000003,
          10.156469999999985
         ],
         "y": [
          "fine",
          "fine"
         ]
        },
        {
         "base": [
          113.90635
         ],
         "customdata": [
          "<b>e'</b><br>Layer: fine<br>Start: 113.906s<br>End: 124.068s<br>Duration: 10.161s"
         ],
         "hovertemplate": "%{customdata}<extra></extra>",
         "insidetextanchor": "middle",
         "marker": {
          "color": "#D62728",
          "line": {
           "color": "white",
           "width": 0.5
          },
          "pattern": {
           "fgcolor": "white",
           "fgopacity": 0.5,
           "shape": ".",
           "solidity": 0.25
          }
         },
         "name": "e'",
         "orientation": "h",
         "showlegend": true,
         "text": [
          "e'"
         ],
         "textposition": "inside",
         "type": "bar",
         "width": 1,
         "x": [
          10.161450000000002
         ],
         "y": [
          "fine"
         ]
        },
        {
         "base": [
          124.0678
         ],
         "customdata": [
          "<b>e''</b><br>Layer: fine<br>Start: 124.068s<br>End: 134.477s<br>Duration: 10.409s"
         ],
         "hovertemplate": "%{customdata}<extra></extra>",
         "insidetextanchor": "middle",
         "marker": {
          "color": "#9467BD",
          "line": {
           "color": "white",
           "width": 0.5
          },
          "pattern": {
           "fgcolor": "white",
           "fgopacity": 0.5,
           "shape": ".",
           "solidity": 0.25
          }
         },
         "name": "e''",
         "orientation": "h",
         "showlegend": true,
         "text": [
          "e''"
         ],
         "textposition": "inside",
         "type": "bar",
         "width": 1,
         "x": [
          10.409159999999986
         ],
         "y": [
          "fine"
         ]
        },
        {
         "base": [
          175.3558
         ],
         "customdata": [
          "<b>d'</b><br>Layer: fine<br>Start: 175.356s<br>End: 180.447s<br>Duration: 5.091s"
         ],
         "hovertemplate": "%{customdata}<extra></extra>",
         "insidetextanchor": "middle",
         "marker": {
          "color": "#8C564B",
          "line": {
           "color": "white",
           "width": 0.5
          },
          "pattern": {
           "fgcolor": "white",
           "fgopacity": 0.5,
           "shape": ".",
           "solidity": 0.25
          }
         },
         "name": "d'",
         "orientation": "h",
         "showlegend": true,
         "text": [
          "d'"
         ],
         "textposition": "inside",
         "type": "bar",
         "width": 1,
         "x": [
          5.090910000000008
         ],
         "y": [
          "fine"
         ]
        },
        {
         "base": [
          200.92048,
          211.08254
         ],
         "customdata": [
          "<b>e'''</b><br>Layer: fine<br>Start: 200.920s<br>End: 211.083s<br>Duration: 10.162s",
          "<b>e'''</b><br>Layer: fine<br>Start: 211.083s<br>End: 222.061s<br>Duration: 10.979s"
         ],
         "hovertemplate": "%{customdata}<extra></extra>",
         "insidetextanchor": "middle",
         "marker": {
          "color": "#E377C2",
          "line": {
           "color": "white",
           "width": 0.5
          },
          "pattern": {
           "fgcolor": "white",
           "fgopacity": 0.5,
           "shape": ".",
           "solidity": 0.25
          }
         },
         "name": "e'''",
         "orientation": "h",
         "showlegend": true,
         "text": [
          "e'''",
          "e'''"
         ],
         "textposition": "inside",
         "type": "bar",
         "width": 1,
         "x": [
          10.162059999999997,
          10.978570000000019
         ],
         "y": [
          "fine",
          "fine"
         ]
        }
       ],
       "layout": {
        "barmode": "overlay",
        "height": 120,
        "margin": {
         "b": 20,
         "l": 20,
         "r": 20,
         "t": 40
        },
        "showlegend": false,
        "template": {
         "data": {
          "bar": [
           {
            "error_x": {
             "color": "#2a3f5f"
            },
            "error_y": {
             "color": "#2a3f5f"
            },
            "marker": {
             "line": {
              "color": "#E5ECF6",
              "width": 0.5
             },
             "pattern": {
              "fillmode": "overlay",
              "size": 10,
              "solidity": 0.2
             }
            },
            "type": "bar"
           }
          ],
          "barpolar": [
           {
            "marker": {
             "line": {
              "color": "#E5ECF6",
              "width": 0.5
             },
             "pattern": {
              "fillmode": "overlay",
              "size": 10,
              "solidity": 0.2
             }
            },
            "type": "barpolar"
           }
          ],
          "carpet": [
           {
            "aaxis": {
             "endlinecolor": "#2a3f5f",
             "gridcolor": "white",
             "linecolor": "white",
             "minorgridcolor": "white",
             "startlinecolor": "#2a3f5f"
            },
            "baxis": {
             "endlinecolor": "#2a3f5f",
             "gridcolor": "white",
             "linecolor": "white",
             "minorgridcolor": "white",
             "startlinecolor": "#2a3f5f"
            },
            "type": "carpet"
           }
          ],
          "choropleth": [
           {
            "colorbar": {
             "outlinewidth": 0,
             "ticks": ""
            },
            "type": "choropleth"
           }
          ],
          "contour": [
           {
            "colorbar": {
             "outlinewidth": 0,
             "ticks": ""
            },
            "colorscale": [
             [
              0,
              "#0d0887"
             ],
             [
              0.1111111111111111,
              "#46039f"
             ],
             [
              0.2222222222222222,
              "#7201a8"
             ],
             [
              0.3333333333333333,
              "#9c179e"
             ],
             [
              0.4444444444444444,
              "#bd3786"
             ],
             [
              0.5555555555555556,
              "#d8576b"
             ],
             [
              0.6666666666666666,
              "#ed7953"
             ],
             [
              0.7777777777777778,
              "#fb9f3a"
             ],
             [
              0.8888888888888888,
              "#fdca26"
             ],
             [
              1,
              "#f0f921"
             ]
            ],
            "type": "contour"
           }
          ],
          "contourcarpet": [
           {
            "colorbar": {
             "outlinewidth": 0,
             "ticks": ""
            },
            "type": "contourcarpet"
           }
          ],
          "heatmap": [
           {
            "colorbar": {
             "outlinewidth": 0,
             "ticks": ""
            },
            "colorscale": [
             [
              0,
              "#0d0887"
             ],
             [
              0.1111111111111111,
              "#46039f"
             ],
             [
              0.2222222222222222,
              "#7201a8"
             ],
             [
              0.3333333333333333,
              "#9c179e"
             ],
             [
              0.4444444444444444,
              "#bd3786"
             ],
             [
              0.5555555555555556,
              "#d8576b"
             ],
             [
              0.6666666666666666,
              "#ed7953"
             ],
             [
              0.7777777777777778,
              "#fb9f3a"
             ],
             [
              0.8888888888888888,
              "#fdca26"
             ],
             [
              1,
              "#f0f921"
             ]
            ],
            "type": "heatmap"
           }
          ],
          "histogram": [
           {
            "marker": {
             "pattern": {
              "fillmode": "overlay",
              "size": 10,
              "solidity": 0.2
             }
            },
            "type": "histogram"
           }
          ],
          "histogram2d": [
           {
            "colorbar": {
             "outlinewidth": 0,
             "ticks": ""
            },
            "colorscale": [
             [
              0,
              "#0d0887"
             ],
             [
              0.1111111111111111,
              "#46039f"
             ],
             [
              0.2222222222222222,
              "#7201a8"
             ],
             [
              0.3333333333333333,
              "#9c179e"
             ],
             [
              0.4444444444444444,
              "#bd3786"
             ],
             [
              0.5555555555555556,
              "#d8576b"
             ],
             [
              0.6666666666666666,
              "#ed7953"
             ],
             [
              0.7777777777777778,
              "#fb9f3a"
             ],
             [
              0.8888888888888888,
              "#fdca26"
             ],
             [
              1,
              "#f0f921"
             ]
            ],
            "type": "histogram2d"
           }
          ],
          "histogram2dcontour": [
           {
            "colorbar": {
             "outlinewidth": 0,
             "ticks": ""
            },
            "colorscale": [
             [
              0,
              "#0d0887"
             ],
             [
              0.1111111111111111,
              "#46039f"
             ],
             [
              0.2222222222222222,
              "#7201a8"
             ],
             [
              0.3333333333333333,
              "#9c179e"
             ],
             [
              0.4444444444444444,
              "#bd3786"
             ],
             [
              0.5555555555555556,
              "#d8576b"
             ],
             [
              0.6666666666666666,
              "#ed7953"
             ],
             [
              0.7777777777777778,
              "#fb9f3a"
             ],
             [
              0.8888888888888888,
              "#fdca26"
             ],
             [
              1,
              "#f0f921"
             ]
            ],
            "type": "histogram2dcontour"
           }
          ],
          "mesh3d": [
           {
            "colorbar": {
             "outlinewidth": 0,
             "ticks": ""
            },
            "type": "mesh3d"
           }
          ],
          "parcoords": [
           {
            "line": {
             "colorbar": {
              "outlinewidth": 0,
              "ticks": ""
             }
            },
            "type": "parcoords"
           }
          ],
          "pie": [
           {
            "automargin": true,
            "type": "pie"
           }
          ],
          "scatter": [
           {
            "fillpattern": {
             "fillmode": "overlay",
             "size": 10,
             "solidity": 0.2
            },
            "type": "scatter"
           }
          ],
          "scatter3d": [
           {
            "line": {
             "colorbar": {
              "outlinewidth": 0,
              "ticks": ""
             }
            },
            "marker": {
             "colorbar": {
              "outlinewidth": 0,
              "ticks": ""
             }
            },
            "type": "scatter3d"
           }
          ],
          "scattercarpet": [
           {
            "marker": {
             "colorbar": {
              "outlinewidth": 0,
              "ticks": ""
             }
            },
            "type": "scattercarpet"
           }
          ],
          "scattergeo": [
           {
            "marker": {
             "colorbar": {
              "outlinewidth": 0,
              "ticks": ""
             }
            },
            "type": "scattergeo"
           }
          ],
          "scattergl": [
           {
            "marker": {
             "colorbar": {
              "outlinewidth": 0,
              "ticks": ""
             }
            },
            "type": "scattergl"
           }
          ],
          "scattermap": [
           {
            "marker": {
             "colorbar": {
              "outlinewidth": 0,
              "ticks": ""
             }
            },
            "type": "scattermap"
           }
          ],
          "scattermapbox": [
           {
            "marker": {
             "colorbar": {
              "outlinewidth": 0,
              "ticks": ""
             }
            },
            "type": "scattermapbox"
           }
          ],
          "scatterpolar": [
           {
            "marker": {
             "colorbar": {
              "outlinewidth": 0,
              "ticks": ""
             }
            },
            "type": "scatterpolar"
           }
          ],
          "scatterpolargl": [
           {
            "marker": {
             "colorbar": {
              "outlinewidth": 0,
              "ticks": ""
             }
            },
            "type": "scatterpolargl"
           }
          ],
          "scatterternary": [
           {
            "marker": {
             "colorbar": {
              "outlinewidth": 0,
              "ticks": ""
             }
            },
            "type": "scatterternary"
           }
          ],
          "surface": [
           {
            "colorbar": {
             "outlinewidth": 0,
             "ticks": ""
            },
            "colorscale": [
             [
              0,
              "#0d0887"
             ],
             [
              0.1111111111111111,
              "#46039f"
             ],
             [
              0.2222222222222222,
              "#7201a8"
             ],
             [
              0.3333333333333333,
              "#9c179e"
             ],
             [
              0.4444444444444444,
              "#bd3786"
             ],
             [
              0.5555555555555556,
              "#d8576b"
             ],
             [
              0.6666666666666666,
              "#ed7953"
             ],
             [
              0.7777777777777778,
              "#fb9f3a"
             ],
             [
              0.8888888888888888,
              "#fdca26"
             ],
             [
              1,
              "#f0f921"
             ]
            ],
            "type": "surface"
           }
          ],
          "table": [
           {
            "cells": {
             "fill": {
              "color": "#EBF0F8"
             },
             "line": {
              "color": "white"
             }
            },
            "header": {
             "fill": {
              "color": "#C8D4E3"
             },
             "line": {
              "color": "white"
             }
            },
            "type": "table"
           }
          ]
         },
         "layout": {
          "annotationdefaults": {
           "arrowcolor": "#2a3f5f",
           "arrowhead": 0,
           "arrowwidth": 1
          },
          "autotypenumbers": "strict",
          "coloraxis": {
           "colorbar": {
            "outlinewidth": 0,
            "ticks": ""
           }
          },
          "colorscale": {
           "diverging": [
            [
             0,
             "#8e0152"
            ],
            [
             0.1,
             "#c51b7d"
            ],
            [
             0.2,
             "#de77ae"
            ],
            [
             0.3,
             "#f1b6da"
            ],
            [
             0.4,
             "#fde0ef"
            ],
            [
             0.5,
             "#f7f7f7"
            ],
            [
             0.6,
             "#e6f5d0"
            ],
            [
             0.7,
             "#b8e186"
            ],
            [
             0.8,
             "#7fbc41"
            ],
            [
             0.9,
             "#4d9221"
            ],
            [
             1,
             "#276419"
            ]
           ],
           "sequential": [
            [
             0,
             "#0d0887"
            ],
            [
             0.1111111111111111,
             "#46039f"
            ],
            [
             0.2222222222222222,
             "#7201a8"
            ],
            [
             0.3333333333333333,
             "#9c179e"
            ],
            [
             0.4444444444444444,
             "#bd3786"
            ],
            [
             0.5555555555555556,
             "#d8576b"
            ],
            [
             0.6666666666666666,
             "#ed7953"
            ],
            [
             0.7777777777777778,
             "#fb9f3a"
            ],
            [
             0.8888888888888888,
             "#fdca26"
            ],
            [
             1,
             "#f0f921"
            ]
           ],
           "sequentialminus": [
            [
             0,
             "#0d0887"
            ],
            [
             0.1111111111111111,
             "#46039f"
            ],
            [
             0.2222222222222222,
             "#7201a8"
            ],
            [
             0.3333333333333333,
             "#9c179e"
            ],
            [
             0.4444444444444444,
             "#bd3786"
            ],
            [
             0.5555555555555556,
             "#d8576b"
            ],
            [
             0.6666666666666666,
             "#ed7953"
            ],
            [
             0.7777777777777778,
             "#fb9f3a"
            ],
            [
             0.8888888888888888,
             "#fdca26"
            ],
            [
             1,
             "#f0f921"
            ]
           ]
          },
          "colorway": [
           "#636efa",
           "#EF553B",
           "#00cc96",
           "#ab63fa",
           "#FFA15A",
           "#19d3f3",
           "#FF6692",
           "#B6E880",
           "#FF97FF",
           "#FECB52"
          ],
          "font": {
           "color": "#2a3f5f"
          },
          "geo": {
           "bgcolor": "white",
           "lakecolor": "white",
           "landcolor": "#E5ECF6",
           "showlakes": true,
           "showland": true,
           "subunitcolor": "white"
          },
          "hoverlabel": {
           "align": "left"
          },
          "hovermode": "closest",
          "mapbox": {
           "style": "light"
          },
          "paper_bgcolor": "white",
          "plot_bgcolor": "#E5ECF6",
          "polar": {
           "angularaxis": {
            "gridcolor": "white",
            "linecolor": "white",
            "ticks": ""
           },
           "bgcolor": "#E5ECF6",
           "radialaxis": {
            "gridcolor": "white",
            "linecolor": "white",
            "ticks": ""
           }
          },
          "scene": {
           "xaxis": {
            "backgroundcolor": "#E5ECF6",
            "gridcolor": "white",
            "gridwidth": 2,
            "linecolor": "white",
            "showbackground": true,
            "ticks": "",
            "zerolinecolor": "white"
           },
           "yaxis": {
            "backgroundcolor": "#E5ECF6",
            "gridcolor": "white",
            "gridwidth": 2,
            "linecolor": "white",
            "showbackground": true,
            "ticks": "",
            "zerolinecolor": "white"
           },
           "zaxis": {
            "backgroundcolor": "#E5ECF6",
            "gridcolor": "white",
            "gridwidth": 2,
            "linecolor": "white",
            "showbackground": true,
            "ticks": "",
            "zerolinecolor": "white"
           }
          },
          "shapedefaults": {
           "line": {
            "color": "#2a3f5f"
           }
          },
          "ternary": {
           "aaxis": {
            "gridcolor": "white",
            "linecolor": "white",
            "ticks": ""
           },
           "baxis": {
            "gridcolor": "white",
            "linecolor": "white",
            "ticks": ""
           },
           "bgcolor": "#E5ECF6",
           "caxis": {
            "gridcolor": "white",
            "linecolor": "white",
            "ticks": ""
           }
          },
          "title": {
           "x": 0.05
          },
          "xaxis": {
           "automargin": true,
           "gridcolor": "white",
           "linecolor": "white",
           "ticks": "",
           "title": {
            "standoff": 15
           },
           "zerolinecolor": "white",
           "zerolinewidth": 2
          },
          "yaxis": {
           "automargin": true,
           "gridcolor": "white",
           "linecolor": "white",
           "ticks": "",
           "title": {
            "standoff": 15
           },
           "zerolinecolor": "white",
           "zerolinewidth": 2
          }
         }
        },
        "title": {
         "text": "annotator-4",
         "x": 0.5
        },
        "width": 650,
        "xaxis": {
         "range": [
          0,
          222.06111
         ],
         "title": {
          "text": "Time (s)"
         }
        },
        "yaxis": {
         "categoryarray": [
          "fine",
          "coarse"
         ],
         "categoryorder": "array",
         "title": {}
        }
       }
      }
     },
     "metadata": {},
     "output_type": "display_data"
    },
    {
     "data": {
      "application/vnd.plotly.v1+json": {
       "config": {
        "plotlyServerURL": "https://plot.ly"
       },
       "data": [
        {
         "base": [
          0,
          0,
          152.97,
          8.54,
          153.6,
          11.06,
          12.98,
          13.61,
          32.75,
          75.15,
          32.12,
          74.5,
          32.12,
          74.5,
          32.12,
          75.15,
          32.12,
          74.5,
          32.12,
          74.5
         ],
         "customdata": [
          "<b>0</b><br>Layer: L01<br>Start: 0.000s<br>End: 222.041s<br>Duration: 222.041s",
          "<b>0</b><br>Layer: L02<br>Start: 0.000s<br>End: 104.140s<br>Duration: 104.140s",
          "<b>0</b><br>Layer: L02<br>Start: 152.970s<br>End: 191.310s<br>Duration: 38.340s",
          "<b>0</b><br>Layer: L03<br>Start: 8.540s<br>End: 104.140s<br>Duration: 95.600s",
          "<b>0</b><br>Layer: L03<br>Start: 153.600s<br>End: 191.310s<br>Duration: 37.710s",
          "<b>0</b><br>Layer: L04<br>Start: 11.060s<br>End: 93.140s<br>Duration: 82.080s",
          "<b>0</b><br>Layer: L05<br>Start: 12.980s<br>End: 94.440s<br>Duration: 81.460s",
          "<b>0</b><br>Layer: L06<br>Start: 13.610s<br>End: 94.440s<br>Duration: 80.830s",
          "<b>0</b><br>Layer: L07<br>Start: 32.750s<br>End: 62.310s<br>Duration: 29.560s",
          "<b>0</b><br>Layer: L07<br>Start: 75.150s<br>End: 93.140s<br>Duration: 17.990s",
          "<b>0</b><br>Layer: L08<br>Start: 32.120s<br>End: 61.670s<br>Duration: 29.550s",
          "<b>0</b><br>Layer: L08<br>Start: 74.500s<br>End: 94.440s<br>Duration: 19.940s",
          "<b>0</b><br>Layer: L09<br>Start: 32.120s<br>End: 54.600s<br>Duration: 22.480s",
          "<b>0</b><br>Layer: L09<br>Start: 74.500s<br>End: 93.810s<br>Duration: 19.310s",
          "<b>0</b><br>Layer: L10<br>Start: 32.120s<br>End: 55.250s<br>Duration: 23.130s",
          "<b>0</b><br>Layer: L10<br>Start: 75.150s<br>End: 93.810s<br>Duration: 18.660s",
          "<b>0</b><br>Layer: L11<br>Start: 32.120s<br>End: 54.600s<br>Duration: 22.480s",
          "<b>0</b><br>Layer: L11<br>Start: 74.500s<br>End: 93.140s<br>Duration: 18.640s",
          "<b>0</b><br>Layer: L12<br>Start: 32.120s<br>End: 54.600s<br>Duration: 22.480s",
          "<b>0</b><br>Layer: L12<br>Start: 74.500s<br>End: 93.140s<br>Duration: 18.640s"
         ],
         "hovertemplate": "%{customdata}<extra></extra>",
         "insidetextanchor": "middle",
         "marker": {
          "color": "#1F77B4",
          "line": {
           "color": "white",
           "width": 0.5
          },
          "pattern": {
           "fgcolor": "white",
           "fgopacity": 0.5,
           "shape": "",
           "solidity": 0.25
          }
         },
         "name": "0",
         "orientation": "h",
         "showlegend": true,
         "text": [
          "0",
          "0",
          "0",
          "0",
          "0",
          "0",
          "0",
          "0",
          "0",
          "0",
          "0",
          "0",
          "0",
          "0",
          "0",
          "0",
          "0",
          "0",
          "0",
          "0"
         ],
         "textposition": "inside",
         "type": "bar",
         "width": 1,
         "x": [
          222.04082,
          104.14,
          38.34,
          95.6,
          37.71000000000001,
          82.08,
          81.46,
          80.83,
          29.560000000000002,
          17.989999999999995,
          29.550000000000004,
          19.939999999999998,
          22.480000000000004,
          19.310000000000002,
          23.130000000000003,
          18.659999999999997,
          22.480000000000004,
          18.64,
          22.480000000000004,
          18.64
         ],
         "y": [
          "L01",
          "L02",
          "L02",
          "L03",
          "L03",
          "L04",
          "L05",
          "L06",
          "L07",
          "L07",
          "L08",
          "L08",
          "L09",
          "L09",
          "L10",
          "L10",
          "L11",
          "L11",
          "L12",
          "L12"
         ]
        },
        {
         "base": [
          104.14,
          191.31,
          0,
          104.14,
          191.31,
          104.14,
          111.83,
          111.83,
          111.83,
          104.14,
          104.77,
          104.77,
          105.4,
          117.6
         ],
         "customdata": [
          "<b>1</b><br>Layer: L02<br>Start: 104.140s<br>End: 152.970s<br>Duration: 48.830s",
          "<b>1</b><br>Layer: L02<br>Start: 191.310s<br>End: 222.041s<br>Duration: 30.731s",
          "<b>1</b><br>Layer: L03<br>Start: 0.000s<br>End: 8.540s<br>Duration: 8.540s",
          "<b>1</b><br>Layer: L03<br>Start: 104.140s<br>End: 153.600s<br>Duration: 49.460s",
          "<b>1</b><br>Layer: L03<br>Start: 191.310s<br>End: 222.041s<br>Duration: 30.731s",
          "<b>1</b><br>Layer: L04<br>Start: 104.140s<br>End: 153.600s<br>Duration: 49.460s",
          "<b>1</b><br>Layer: L05<br>Start: 111.830s<br>End: 153.600s<br>Duration: 41.770s",
          "<b>1</b><br>Layer: L06<br>Start: 111.830s<br>End: 153.600s<br>Duration: 41.770s",
          "<b>1</b><br>Layer: L07<br>Start: 111.830s<br>End: 152.970s<br>Duration: 41.140s",
          "<b>1</b><br>Layer: L08<br>Start: 104.140s<br>End: 152.970s<br>Duration: 48.830s",
          "<b>1</b><br>Layer: L09<br>Start: 104.770s<br>End: 159.920s<br>Duration: 55.150s",
          "<b>1</b><br>Layer: L10<br>Start: 104.770s<br>End: 159.280s<br>Duration: 54.510s",
          "<b>1</b><br>Layer: L11<br>Start: 105.400s<br>End: 158.650s<br>Duration: 53.250s",
          "<b>1</b><br>Layer: L12<br>Start: 117.600s<br>End: 152.970s<br>Duration: 35.370s"
         ],
         "hovertemplate": "%{customdata}<extra></extra>",
         "insidetextanchor": "middle",
         "marker": {
          "color": "#FF7F0E",
          "line": {
           "color": "white",
           "width": 0.5
          },
          "pattern": {
           "fgcolor": "white",
           "fgopacity": 0.5,
           "shape": "",
           "solidity": 0.25
          }
         },
         "name": "1",
         "orientation": "h",
         "showlegend": true,
         "text": [
          "1",
          "1",
          "1",
          "1",
          "1",
          "1",
          "1",
          "1",
          "1",
          "1",
          "1",
          "1",
          "1",
          "1"
         ],
         "textposition": "inside",
         "type": "bar",
         "width": 1,
         "x": [
          48.83,
          30.730819999999994,
          8.54,
          49.459999999999994,
          30.730819999999994,
          49.459999999999994,
          41.769999999999996,
          41.769999999999996,
          41.14,
          48.83,
          55.14999999999999,
          54.510000000000005,
          53.25,
          35.370000000000005
         ],
         "y": [
          "L02",
          "L02",
          "L03",
          "L03",
          "L03",
          "L04",
          "L05",
          "L06",
          "L07",
          "L08",
          "L09",
          "L10",
          "L11",
          "L12"
         ]
        },
        {
         "base": [
          0,
          190.65,
          103.47,
          190.02,
          103.47,
          190.02,
          103.47,
          190.65,
          190.65,
          191.31,
          191.31,
          191.31,
          191.31
         ],
         "customdata": [
          "<b>2</b><br>Layer: L04<br>Start: 0.000s<br>End: 11.060s<br>Duration: 11.060s",
          "<b>2</b><br>Layer: L04<br>Start: 190.650s<br>End: 222.041s<br>Duration: 31.391s",
          "<b>2</b><br>Layer: L05<br>Start: 103.470s<br>End: 111.830s<br>Duration: 8.360s",
          "<b>2</b><br>Layer: L05<br>Start: 190.020s<br>End: 222.041s<br>Duration: 32.021s",
          "<b>2</b><br>Layer: L06<br>Start: 103.470s<br>End: 111.830s<br>Duration: 8.360s",
          "<b>2</b><br>Layer: L06<br>Start: 190.020s<br>End: 222.041s<br>Duration: 32.021s",
          "<b>2</b><br>Layer: L07<br>Start: 103.470s<br>End: 111.830s<br>Duration: 8.360s",
          "<b>2</b><br>Layer: L07<br>Start: 190.650s<br>End: 222.041s<br>Duration: 31.391s",
          "<b>2</b><br>Layer: L08<br>Start: 190.650s<br>End: 222.041s<br>Duration: 31.391s",
          "<b>2</b><br>Layer: L09<br>Start: 191.310s<br>End: 222.041s<br>Duration: 30.731s",
          "<b>2</b><br>Layer: L10<br>Start: 191.310s<br>End: 222.041s<br>Duration: 30.731s",
          "<b>2</b><br>Layer: L11<br>Start: 191.310s<br>End: 222.041s<br>Duration: 30.731s",
          "<b>2</b><br>Layer: L12<br>Start: 191.310s<br>End: 222.041s<br>Duration: 30.731s"
         ],
         "hovertemplate": "%{customdata}<extra></extra>",
         "insidetextanchor": "middle",
         "marker": {
          "color": "#2CA02C",
          "line": {
           "color": "white",
           "width": 0.5
          },
          "pattern": {
           "fgcolor": "white",
           "fgopacity": 0.5,
           "shape": "",
           "solidity": 0.25
          }
         },
         "name": "2",
         "orientation": "h",
         "showlegend": true,
         "text": [
          "2",
          "2",
          "2",
          "2",
          "2",
          "2",
          "2",
          "2",
          "2",
          "2",
          "2",
          "2",
          "2"
         ],
         "textposition": "inside",
         "type": "bar",
         "width": 1,
         "x": [
          11.06,
          31.39081999999999,
          8.36,
          32.020819999999986,
          8.36,
          32.020819999999986,
          8.36,
          31.39081999999999,
          31.39081999999999,
          30.730819999999994,
          30.730819999999994,
          30.730819999999994,
          30.730819999999994
         ],
         "y": [
          "L04",
          "L04",
          "L05",
          "L05",
          "L06",
          "L06",
          "L07",
          "L07",
          "L08",
          "L09",
          "L10",
          "L11",
          "L12"
         ]
        },
        {
         "base": [
          93.14,
          153.6,
          94.44,
          153.6,
          94.44,
          153.6,
          93.14,
          169.52,
          94.44,
          169.52,
          54.6,
          93.81,
          169.52,
          55.25,
          93.81,
          168.89,
          54.6,
          93.14,
          171.47,
          54.6,
          93.14,
          170.82
         ],
         "customdata": [
          "<b>3</b><br>Layer: L04<br>Start: 93.140s<br>End: 104.140s<br>Duration: 11.000s",
          "<b>3</b><br>Layer: L04<br>Start: 153.600s<br>End: 190.650s<br>Duration: 37.050s",
          "<b>3</b><br>Layer: L05<br>Start: 94.440s<br>End: 103.470s<br>Duration: 9.030s",
          "<b>3</b><br>Layer: L05<br>Start: 153.600s<br>End: 190.020s<br>Duration: 36.420s",
          "<b>3</b><br>Layer: L06<br>Start: 94.440s<br>End: 103.470s<br>Duration: 9.030s",
          "<b>3</b><br>Layer: L06<br>Start: 153.600s<br>End: 190.020s<br>Duration: 36.420s",
          "<b>3</b><br>Layer: L07<br>Start: 93.140s<br>End: 103.470s<br>Duration: 10.330s",
          "<b>3</b><br>Layer: L07<br>Start: 169.520s<br>End: 190.650s<br>Duration: 21.130s",
          "<b>3</b><br>Layer: L08<br>Start: 94.440s<br>End: 104.140s<br>Duration: 9.700s",
          "<b>3</b><br>Layer: L08<br>Start: 169.520s<br>End: 190.650s<br>Duration: 21.130s",
          "<b>3</b><br>Layer: L09<br>Start: 54.600s<br>End: 63.590s<br>Duration: 8.990s",
          "<b>3</b><br>Layer: L09<br>Start: 93.810s<br>End: 104.770s<br>Duration: 10.960s",
          "<b>3</b><br>Layer: L09<br>Start: 169.520s<br>End: 191.310s<br>Duration: 21.790s",
          "<b>3</b><br>Layer: L10<br>Start: 55.250s<br>End: 63.590s<br>Duration: 8.340s",
          "<b>3</b><br>Layer: L10<br>Start: 93.810s<br>End: 104.770s<br>Duration: 10.960s",
          "<b>3</b><br>Layer: L10<br>Start: 168.890s<br>End: 191.310s<br>Duration: 22.420s",
          "<b>3</b><br>Layer: L11<br>Start: 54.600s<br>End: 64.240s<br>Duration: 9.640s",
          "<b>3</b><br>Layer: L11<br>Start: 93.140s<br>End: 105.400s<br>Duration: 12.260s",
          "<b>3</b><br>Layer: L11<br>Start: 171.470s<br>End: 191.310s<br>Duration: 19.840s",
          "<b>3</b><br>Layer: L12<br>Start: 54.600s<br>End: 64.240s<br>Duration: 9.640s",
          "<b>3</b><br>Layer: L12<br>Start: 93.140s<br>End: 109.280s<br>Duration: 16.140s",
          "<b>3</b><br>Layer: L12<br>Start: 170.820s<br>End: 191.310s<br>Duration: 20.490s"
         ],
         "hovertemplate": "%{customdata}<extra></extra>",
         "insidetextanchor": "middle",
         "marker": {
          "color": "#D62728",
          "line": {
           "color": "white",
           "width": 0.5
          },
          "pattern": {
           "fgcolor": "white",
           "fgopacity": 0.5,
           "shape": "",
           "solidity": 0.25
          }
         },
         "name": "3",
         "orientation": "h",
         "showlegend": true,
         "text": [
          "3",
          "3",
          "3",
          "3",
          "3",
          "3",
          "3",
          "3",
          "3",
          "3",
          "3",
          "3",
          "3",
          "3",
          "3",
          "3",
          "3",
          "3",
          "3",
          "3",
          "3",
          "3"
         ],
         "textposition": "inside",
         "type": "bar",
         "width": 1,
         "x": [
          11,
          37.05000000000001,
          9.030000000000001,
          36.420000000000016,
          9.030000000000001,
          36.420000000000016,
          10.329999999999998,
          21.129999999999995,
          9.700000000000003,
          21.129999999999995,
          8.990000000000002,
          10.959999999999994,
          21.789999999999992,
          8.340000000000003,
          10.959999999999994,
          22.420000000000016,
          9.639999999999993,
          12.260000000000005,
          19.840000000000003,
          9.639999999999993,
          16.14,
          20.49000000000001
         ],
         "y": [
          "L04",
          "L04",
          "L05",
          "L05",
          "L06",
          "L06",
          "L07",
          "L07",
          "L08",
          "L08",
          "L09",
          "L09",
          "L09",
          "L10",
          "L10",
          "L10",
          "L11",
          "L11",
          "L11",
          "L12",
          "L12",
          "L12"
         ]
        },
        {
         "base": [
          0,
          0,
          0,
          0,
          0,
          0,
          0,
          0
         ],
         "customdata": [
          "<b>4</b><br>Layer: L05<br>Start: 0.000s<br>End: 12.980s<br>Duration: 12.980s",
          "<b>4</b><br>Layer: L06<br>Start: 0.000s<br>End: 13.610s<br>Duration: 13.610s",
          "<b>4</b><br>Layer: L07<br>Start: 0.000s<br>End: 13.610s<br>Duration: 13.610s",
          "<b>4</b><br>Layer: L08<br>Start: 0.000s<br>End: 12.980s<br>Duration: 12.980s",
          "<b>4</b><br>Layer: L09<br>Start: 0.000s<br>End: 12.980s<br>Duration: 12.980s",
          "<b>4</b><br>Layer: L10<br>Start: 0.000s<br>End: 9.800s<br>Duration: 9.800s",
          "<b>4</b><br>Layer: L11<br>Start: 0.000s<br>End: 16.160s<br>Duration: 16.160s",
          "<b>4</b><br>Layer: L12<br>Start: 0.000s<br>End: 16.160s<br>Duration: 16.160s"
         ],
         "hovertemplate": "%{customdata}<extra></extra>",
         "insidetextanchor": "middle",
         "marker": {
          "color": "#9467BD",
          "line": {
           "color": "white",
           "width": 0.5
          },
          "pattern": {
           "fgcolor": "white",
           "fgopacity": 0.5,
           "shape": "",
           "solidity": 0.25
          }
         },
         "name": "4",
         "orientation": "h",
         "showlegend": true,
         "text": [
          "4",
          "4",
          "4",
          "4",
          "4",
          "4",
          "4",
          "4"
         ],
         "textposition": "inside",
         "type": "bar",
         "width": 1,
         "x": [
          12.98,
          13.61,
          13.61,
          12.98,
          12.98,
          9.8,
          16.16,
          16.16
         ],
         "y": [
          "L05",
          "L06",
          "L07",
          "L08",
          "L09",
          "L10",
          "L11",
          "L12"
         ]
        },
        {
         "base": [
          13.61,
          62.31,
          12.98,
          61.67,
          12.98,
          63.59,
          9.8,
          63.59,
          16.16,
          64.24,
          16.16,
          64.24
         ],
         "customdata": [
          "<b>6</b><br>Layer: L07<br>Start: 13.610s<br>End: 32.750s<br>Duration: 19.140s",
          "<b>6</b><br>Layer: L07<br>Start: 62.310s<br>End: 75.150s<br>Duration: 12.840s",
          "<b>6</b><br>Layer: L08<br>Start: 12.980s<br>End: 32.120s<br>Duration: 19.140s",
          "<b>6</b><br>Layer: L08<br>Start: 61.670s<br>End: 74.500s<br>Duration: 12.830s",
          "<b>6</b><br>Layer: L09<br>Start: 12.980s<br>End: 32.120s<br>Duration: 19.140s",
          "<b>6</b><br>Layer: L09<br>Start: 63.590s<br>End: 74.500s<br>Duration: 10.910s",
          "<b>6</b><br>Layer: L10<br>Start: 9.800s<br>End: 32.120s<br>Duration: 22.320s",
          "<b>6</b><br>Layer: L10<br>Start: 63.590s<br>End: 75.150s<br>Duration: 11.560s",
          "<b>6</b><br>Layer: L11<br>Start: 16.160s<br>End: 32.120s<br>Duration: 15.960s",
          "<b>6</b><br>Layer: L11<br>Start: 64.240s<br>End: 74.500s<br>Duration: 10.260s",
          "<b>6</b><br>Layer: L12<br>Start: 16.160s<br>End: 32.120s<br>Duration: 15.960s",
          "<b>6</b><br>Layer: L12<br>Start: 64.240s<br>End: 74.500s<br>Duration: 10.260s"
         ],
         "hovertemplate": "%{customdata}<extra></extra>",
         "insidetextanchor": "middle",
         "marker": {
          "color": "#8C564B",
          "line": {
           "color": "white",
           "width": 0.5
          },
          "pattern": {
           "fgcolor": "white",
           "fgopacity": 0.5,
           "shape": "",
           "solidity": 0.25
          }
         },
         "name": "6",
         "orientation": "h",
         "showlegend": true,
         "text": [
          "6",
          "6",
          "6",
          "6",
          "6",
          "6",
          "6",
          "6",
          "6",
          "6",
          "6",
          "6"
         ],
         "textposition": "inside",
         "type": "bar",
         "width": 1,
         "x": [
          19.14,
          12.840000000000003,
          19.139999999999997,
          12.829999999999998,
          19.139999999999997,
          10.909999999999997,
          22.319999999999997,
          11.560000000000002,
          15.959999999999997,
          10.260000000000005,
          15.959999999999997,
          10.260000000000005
         ],
         "y": [
          "L07",
          "L07",
          "L08",
          "L08",
          "L09",
          "L09",
          "L10",
          "L10",
          "L11",
          "L11",
          "L12",
          "L12"
         ]
        },
        {
         "base": [
          152.97,
          152.97,
          159.92,
          159.28,
          158.65,
          152.97
         ],
         "customdata": [
          "<b>5</b><br>Layer: L07<br>Start: 152.970s<br>End: 169.520s<br>Duration: 16.550s",
          "<b>5</b><br>Layer: L08<br>Start: 152.970s<br>End: 169.520s<br>Duration: 16.550s",
          "<b>5</b><br>Layer: L09<br>Start: 159.920s<br>End: 169.520s<br>Duration: 9.600s",
          "<b>5</b><br>Layer: L10<br>Start: 159.280s<br>End: 168.890s<br>Duration: 9.610s",
          "<b>5</b><br>Layer: L11<br>Start: 158.650s<br>End: 171.470s<br>Duration: 12.820s",
          "<b>5</b><br>Layer: L12<br>Start: 152.970s<br>End: 170.820s<br>Duration: 17.850s"
         ],
         "hovertemplate": "%{customdata}<extra></extra>",
         "insidetextanchor": "middle",
         "marker": {
          "color": "#E377C2",
          "line": {
           "color": "white",
           "width": 0.5
          },
          "pattern": {
           "fgcolor": "white",
           "fgopacity": 0.5,
           "shape": "",
           "solidity": 0.25
          }
         },
         "name": "5",
         "orientation": "h",
         "showlegend": true,
         "text": [
          "5",
          "5",
          "5",
          "5",
          "5",
          "5"
         ],
         "textposition": "inside",
         "type": "bar",
         "width": 1,
         "x": [
          16.55000000000001,
          16.55000000000001,
          9.600000000000023,
          9.609999999999985,
          12.819999999999993,
          17.849999999999994
         ],
         "y": [
          "L07",
          "L08",
          "L09",
          "L10",
          "L11",
          "L12"
         ]
        },
        {
         "base": [
          109.28
         ],
         "customdata": [
          "<b>11</b><br>Layer: L12<br>Start: 109.280s<br>End: 117.600s<br>Duration: 8.320s"
         ],
         "hovertemplate": "%{customdata}<extra></extra>",
         "insidetextanchor": "middle",
         "marker": {
          "color": "#7F7F7F",
          "line": {
           "color": "white",
           "width": 0.5
          },
          "pattern": {
           "fgcolor": "white",
           "fgopacity": 0.5,
           "shape": "",
           "solidity": 0.25
          }
         },
         "name": "11",
         "orientation": "h",
         "showlegend": true,
         "text": [
          "11"
         ],
         "textposition": "inside",
         "type": "bar",
         "width": 1,
         "x": [
          8.319999999999993
         ],
         "y": [
          "L12"
         ]
        }
       ],
       "layout": {
        "barmode": "overlay",
        "height": 370,
        "margin": {
         "b": 20,
         "l": 20,
         "r": 20,
         "t": 40
        },
        "showlegend": false,
        "template": {
         "data": {
          "bar": [
           {
            "error_x": {
             "color": "#2a3f5f"
            },
            "error_y": {
             "color": "#2a3f5f"
            },
            "marker": {
             "line": {
              "color": "#E5ECF6",
              "width": 0.5
             },
             "pattern": {
              "fillmode": "overlay",
              "size": 10,
              "solidity": 0.2
             }
            },
            "type": "bar"
           }
          ],
          "barpolar": [
           {
            "marker": {
             "line": {
              "color": "#E5ECF6",
              "width": 0.5
             },
             "pattern": {
              "fillmode": "overlay",
              "size": 10,
              "solidity": 0.2
             }
            },
            "type": "barpolar"
           }
          ],
          "carpet": [
           {
            "aaxis": {
             "endlinecolor": "#2a3f5f",
             "gridcolor": "white",
             "linecolor": "white",
             "minorgridcolor": "white",
             "startlinecolor": "#2a3f5f"
            },
            "baxis": {
             "endlinecolor": "#2a3f5f",
             "gridcolor": "white",
             "linecolor": "white",
             "minorgridcolor": "white",
             "startlinecolor": "#2a3f5f"
            },
            "type": "carpet"
           }
          ],
          "choropleth": [
           {
            "colorbar": {
             "outlinewidth": 0,
             "ticks": ""
            },
            "type": "choropleth"
           }
          ],
          "contour": [
           {
            "colorbar": {
             "outlinewidth": 0,
             "ticks": ""
            },
            "colorscale": [
             [
              0,
              "#0d0887"
             ],
             [
              0.1111111111111111,
              "#46039f"
             ],
             [
              0.2222222222222222,
              "#7201a8"
             ],
             [
              0.3333333333333333,
              "#9c179e"
             ],
             [
              0.4444444444444444,
              "#bd3786"
             ],
             [
              0.5555555555555556,
              "#d8576b"
             ],
             [
              0.6666666666666666,
              "#ed7953"
             ],
             [
              0.7777777777777778,
              "#fb9f3a"
             ],
             [
              0.8888888888888888,
              "#fdca26"
             ],
             [
              1,
              "#f0f921"
             ]
            ],
            "type": "contour"
           }
          ],
          "contourcarpet": [
           {
            "colorbar": {
             "outlinewidth": 0,
             "ticks": ""
            },
            "type": "contourcarpet"
           }
          ],
          "heatmap": [
           {
            "colorbar": {
             "outlinewidth": 0,
             "ticks": ""
            },
            "colorscale": [
             [
              0,
              "#0d0887"
             ],
             [
              0.1111111111111111,
              "#46039f"
             ],
             [
              0.2222222222222222,
              "#7201a8"
             ],
             [
              0.3333333333333333,
              "#9c179e"
             ],
             [
              0.4444444444444444,
              "#bd3786"
             ],
             [
              0.5555555555555556,
              "#d8576b"
             ],
             [
              0.6666666666666666,
              "#ed7953"
             ],
             [
              0.7777777777777778,
              "#fb9f3a"
             ],
             [
              0.8888888888888888,
              "#fdca26"
             ],
             [
              1,
              "#f0f921"
             ]
            ],
            "type": "heatmap"
           }
          ],
          "histogram": [
           {
            "marker": {
             "pattern": {
              "fillmode": "overlay",
              "size": 10,
              "solidity": 0.2
             }
            },
            "type": "histogram"
           }
          ],
          "histogram2d": [
           {
            "colorbar": {
             "outlinewidth": 0,
             "ticks": ""
            },
            "colorscale": [
             [
              0,
              "#0d0887"
             ],
             [
              0.1111111111111111,
              "#46039f"
             ],
             [
              0.2222222222222222,
              "#7201a8"
             ],
             [
              0.3333333333333333,
              "#9c179e"
             ],
             [
              0.4444444444444444,
              "#bd3786"
             ],
             [
              0.5555555555555556,
              "#d8576b"
             ],
             [
              0.6666666666666666,
              "#ed7953"
             ],
             [
              0.7777777777777778,
              "#fb9f3a"
             ],
             [
              0.8888888888888888,
              "#fdca26"
             ],
             [
              1,
              "#f0f921"
             ]
            ],
            "type": "histogram2d"
           }
          ],
          "histogram2dcontour": [
           {
            "colorbar": {
             "outlinewidth": 0,
             "ticks": ""
            },
            "colorscale": [
             [
              0,
              "#0d0887"
             ],
             [
              0.1111111111111111,
              "#46039f"
             ],
             [
              0.2222222222222222,
              "#7201a8"
             ],
             [
              0.3333333333333333,
              "#9c179e"
             ],
             [
              0.4444444444444444,
              "#bd3786"
             ],
             [
              0.5555555555555556,
              "#d8576b"
             ],
             [
              0.6666666666666666,
              "#ed7953"
             ],
             [
              0.7777777777777778,
              "#fb9f3a"
             ],
             [
              0.8888888888888888,
              "#fdca26"
             ],
             [
              1,
              "#f0f921"
             ]
            ],
            "type": "histogram2dcontour"
           }
          ],
          "mesh3d": [
           {
            "colorbar": {
             "outlinewidth": 0,
             "ticks": ""
            },
            "type": "mesh3d"
           }
          ],
          "parcoords": [
           {
            "line": {
             "colorbar": {
              "outlinewidth": 0,
              "ticks": ""
             }
            },
            "type": "parcoords"
           }
          ],
          "pie": [
           {
            "automargin": true,
            "type": "pie"
           }
          ],
          "scatter": [
           {
            "fillpattern": {
             "fillmode": "overlay",
             "size": 10,
             "solidity": 0.2
            },
            "type": "scatter"
           }
          ],
          "scatter3d": [
           {
            "line": {
             "colorbar": {
              "outlinewidth": 0,
              "ticks": ""
             }
            },
            "marker": {
             "colorbar": {
              "outlinewidth": 0,
              "ticks": ""
             }
            },
            "type": "scatter3d"
           }
          ],
          "scattercarpet": [
           {
            "marker": {
             "colorbar": {
              "outlinewidth": 0,
              "ticks": ""
             }
            },
            "type": "scattercarpet"
           }
          ],
          "scattergeo": [
           {
            "marker": {
             "colorbar": {
              "outlinewidth": 0,
              "ticks": ""
             }
            },
            "type": "scattergeo"
           }
          ],
          "scattergl": [
           {
            "marker": {
             "colorbar": {
              "outlinewidth": 0,
              "ticks": ""
             }
            },
            "type": "scattergl"
           }
          ],
          "scattermap": [
           {
            "marker": {
             "colorbar": {
              "outlinewidth": 0,
              "ticks": ""
             }
            },
            "type": "scattermap"
           }
          ],
          "scattermapbox": [
           {
            "marker": {
             "colorbar": {
              "outlinewidth": 0,
              "ticks": ""
             }
            },
            "type": "scattermapbox"
           }
          ],
          "scatterpolar": [
           {
            "marker": {
             "colorbar": {
              "outlinewidth": 0,
              "ticks": ""
             }
            },
            "type": "scatterpolar"
           }
          ],
          "scatterpolargl": [
           {
            "marker": {
             "colorbar": {
              "outlinewidth": 0,
              "ticks": ""
             }
            },
            "type": "scatterpolargl"
           }
          ],
          "scatterternary": [
           {
            "marker": {
             "colorbar": {
              "outlinewidth": 0,
              "ticks": ""
             }
            },
            "type": "scatterternary"
           }
          ],
          "surface": [
           {
            "colorbar": {
             "outlinewidth": 0,
             "ticks": ""
            },
            "colorscale": [
             [
              0,
              "#0d0887"
             ],
             [
              0.1111111111111111,
              "#46039f"
             ],
             [
              0.2222222222222222,
              "#7201a8"
             ],
             [
              0.3333333333333333,
              "#9c179e"
             ],
             [
              0.4444444444444444,
              "#bd3786"
             ],
             [
              0.5555555555555556,
              "#d8576b"
             ],
             [
              0.6666666666666666,
              "#ed7953"
             ],
             [
              0.7777777777777778,
              "#fb9f3a"
             ],
             [
              0.8888888888888888,
              "#fdca26"
             ],
             [
              1,
              "#f0f921"
             ]
            ],
            "type": "surface"
           }
          ],
          "table": [
           {
            "cells": {
             "fill": {
              "color": "#EBF0F8"
             },
             "line": {
              "color": "white"
             }
            },
            "header": {
             "fill": {
              "color": "#C8D4E3"
             },
             "line": {
              "color": "white"
             }
            },
            "type": "table"
           }
          ]
         },
         "layout": {
          "annotationdefaults": {
           "arrowcolor": "#2a3f5f",
           "arrowhead": 0,
           "arrowwidth": 1
          },
          "autotypenumbers": "strict",
          "coloraxis": {
           "colorbar": {
            "outlinewidth": 0,
            "ticks": ""
           }
          },
          "colorscale": {
           "diverging": [
            [
             0,
             "#8e0152"
            ],
            [
             0.1,
             "#c51b7d"
            ],
            [
             0.2,
             "#de77ae"
            ],
            [
             0.3,
             "#f1b6da"
            ],
            [
             0.4,
             "#fde0ef"
            ],
            [
             0.5,
             "#f7f7f7"
            ],
            [
             0.6,
             "#e6f5d0"
            ],
            [
             0.7,
             "#b8e186"
            ],
            [
             0.8,
             "#7fbc41"
            ],
            [
             0.9,
             "#4d9221"
            ],
            [
             1,
             "#276419"
            ]
           ],
           "sequential": [
            [
             0,
             "#0d0887"
            ],
            [
             0.1111111111111111,
             "#46039f"
            ],
            [
             0.2222222222222222,
             "#7201a8"
            ],
            [
             0.3333333333333333,
             "#9c179e"
            ],
            [
             0.4444444444444444,
             "#bd3786"
            ],
            [
             0.5555555555555556,
             "#d8576b"
            ],
            [
             0.6666666666666666,
             "#ed7953"
            ],
            [
             0.7777777777777778,
             "#fb9f3a"
            ],
            [
             0.8888888888888888,
             "#fdca26"
            ],
            [
             1,
             "#f0f921"
            ]
           ],
           "sequentialminus": [
            [
             0,
             "#0d0887"
            ],
            [
             0.1111111111111111,
             "#46039f"
            ],
            [
             0.2222222222222222,
             "#7201a8"
            ],
            [
             0.3333333333333333,
             "#9c179e"
            ],
            [
             0.4444444444444444,
             "#bd3786"
            ],
            [
             0.5555555555555556,
             "#d8576b"
            ],
            [
             0.6666666666666666,
             "#ed7953"
            ],
            [
             0.7777777777777778,
             "#fb9f3a"
            ],
            [
             0.8888888888888888,
             "#fdca26"
            ],
            [
             1,
             "#f0f921"
            ]
           ]
          },
          "colorway": [
           "#636efa",
           "#EF553B",
           "#00cc96",
           "#ab63fa",
           "#FFA15A",
           "#19d3f3",
           "#FF6692",
           "#B6E880",
           "#FF97FF",
           "#FECB52"
          ],
          "font": {
           "color": "#2a3f5f"
          },
          "geo": {
           "bgcolor": "white",
           "lakecolor": "white",
           "landcolor": "#E5ECF6",
           "showlakes": true,
           "showland": true,
           "subunitcolor": "white"
          },
          "hoverlabel": {
           "align": "left"
          },
          "hovermode": "closest",
          "mapbox": {
           "style": "light"
          },
          "paper_bgcolor": "white",
          "plot_bgcolor": "#E5ECF6",
          "polar": {
           "angularaxis": {
            "gridcolor": "white",
            "linecolor": "white",
            "ticks": ""
           },
           "bgcolor": "#E5ECF6",
           "radialaxis": {
            "gridcolor": "white",
            "linecolor": "white",
            "ticks": ""
           }
          },
          "scene": {
           "xaxis": {
            "backgroundcolor": "#E5ECF6",
            "gridcolor": "white",
            "gridwidth": 2,
            "linecolor": "white",
            "showbackground": true,
            "ticks": "",
            "zerolinecolor": "white"
           },
           "yaxis": {
            "backgroundcolor": "#E5ECF6",
            "gridcolor": "white",
            "gridwidth": 2,
            "linecolor": "white",
            "showbackground": true,
            "ticks": "",
            "zerolinecolor": "white"
           },
           "zaxis": {
            "backgroundcolor": "#E5ECF6",
            "gridcolor": "white",
            "gridwidth": 2,
            "linecolor": "white",
            "showbackground": true,
            "ticks": "",
            "zerolinecolor": "white"
           }
          },
          "shapedefaults": {
           "line": {
            "color": "#2a3f5f"
           }
          },
          "ternary": {
           "aaxis": {
            "gridcolor": "white",
            "linecolor": "white",
            "ticks": ""
           },
           "baxis": {
            "gridcolor": "white",
            "linecolor": "white",
            "ticks": ""
           },
           "bgcolor": "#E5ECF6",
           "caxis": {
            "gridcolor": "white",
            "linecolor": "white",
            "ticks": ""
           }
          },
          "title": {
           "x": 0.05
          },
          "xaxis": {
           "automargin": true,
           "gridcolor": "white",
           "linecolor": "white",
           "ticks": "",
           "title": {
            "standoff": 15
           },
           "zerolinecolor": "white",
           "zerolinewidth": 2
          },
          "yaxis": {
           "automargin": true,
           "gridcolor": "white",
           "linecolor": "white",
           "ticks": "",
           "title": {
            "standoff": 15
           },
           "zerolinecolor": "white",
           "zerolinewidth": 2
          }
         }
        },
        "title": {
         "text": "adobe-mu1gamma9",
         "x": 0.5
        },
        "width": 650,
        "xaxis": {
         "range": [
          0,
          222.04082
         ],
         "title": {
          "text": "Time (s)"
         }
        },
        "yaxis": {
         "categoryarray": [
          "L12",
          "L11",
          "L10",
          "L09",
          "L08",
          "L07",
          "L06",
          "L05",
          "L04",
          "L03",
          "L02",
          "L01"
         ],
         "categoryorder": "array",
         "title": {}
        }
       }
      }
     },
     "metadata": {},
     "output_type": "display_data"
    }
   ],
   "source": [
    "%load_ext autoreload\n",
    "%autoreload 2\n",
    "\n",
    "import bnl\n",
    "from random import choice\n",
    "\n",
    "slm_ds = bnl.data.Dataset(manifest_path=\"~/data/salami/metadata.csv\")\n",
    "# slm_ds = bnl.data.Dataset()\n",
    "track = slm_ds[11]\n",
    "\n",
    "available_refs = list(track.refs)\n",
    "available_ests = list(track.ests)\n",
    "print(available_refs, available_ests)\n",
    "\n",
    "est = track.ests[choice(available_ests)]\n",
    "ref = track.refs[choice(available_refs)]\n",
    "\n",
    "ref.plot().show()\n",
    "est.plot().show()\n",
    "\n"
   ]
  },
  {
   "cell_type": "code",
   "execution_count": 19,
   "metadata": {},
   "outputs": [
    {
     "data": {
      "application/vnd.plotly.v1+json": {
       "config": {
        "plotlyServerURL": "https://plot.ly"
       },
       "data": [
        {
         "base": [
          0,
          0,
          0,
          103.47,
          190.65,
          0,
          104.14,
          191.31,
          0,
          104.77,
          191.95,
          0,
          104.77,
          191.95,
          0,
          191.95,
          0,
          191.31,
          191.31,
          191.31,
          183.6,
          183.6
         ],
         "customdata": [
          "<b>0</b><br>Layer: L01<br>Start: 0.000s<br>End: 222.041s<br>Duration: 222.041s",
          "<b>0</b><br>Layer: L02<br>Start: 0.000s<br>End: 222.041s<br>Duration: 222.041s",
          "<b>0</b><br>Layer: L03<br>Start: 0.000s<br>End: 11.060s<br>Duration: 11.060s",
          "<b>0</b><br>Layer: L03<br>Start: 103.470s<br>End: 153.600s<br>Duration: 50.130s",
          "<b>0</b><br>Layer: L03<br>Start: 190.650s<br>End: 222.041s<br>Duration: 31.391s",
          "<b>0</b><br>Layer: L04<br>Start: 0.000s<br>End: 12.350s<br>Duration: 12.350s",
          "<b>0</b><br>Layer: L04<br>Start: 104.140s<br>End: 152.970s<br>Duration: 48.830s",
          "<b>0</b><br>Layer: L04<br>Start: 191.310s<br>End: 222.041s<br>Duration: 30.731s",
          "<b>0</b><br>Layer: L05<br>Start: 0.000s<br>End: 11.060s<br>Duration: 11.060s",
          "<b>0</b><br>Layer: L05<br>Start: 104.770s<br>End: 152.970s<br>Duration: 48.200s",
          "<b>0</b><br>Layer: L05<br>Start: 191.950s<br>End: 222.041s<br>Duration: 30.091s",
          "<b>0</b><br>Layer: L06<br>Start: 0.000s<br>End: 11.060s<br>Duration: 11.060s",
          "<b>0</b><br>Layer: L06<br>Start: 104.770s<br>End: 152.970s<br>Duration: 48.200s",
          "<b>0</b><br>Layer: L06<br>Start: 191.950s<br>End: 222.041s<br>Duration: 30.091s",
          "<b>0</b><br>Layer: L07<br>Start: 0.000s<br>End: 9.800s<br>Duration: 9.800s",
          "<b>0</b><br>Layer: L07<br>Start: 191.950s<br>End: 222.041s<br>Duration: 30.091s",
          "<b>0</b><br>Layer: L08<br>Start: 0.000s<br>End: 9.160s<br>Duration: 9.160s",
          "<b>0</b><br>Layer: L08<br>Start: 191.310s<br>End: 222.041s<br>Duration: 30.731s",
          "<b>0</b><br>Layer: L09<br>Start: 191.310s<br>End: 222.041s<br>Duration: 30.731s",
          "<b>0</b><br>Layer: L10<br>Start: 191.310s<br>End: 222.041s<br>Duration: 30.731s",
          "<b>0</b><br>Layer: L11<br>Start: 183.600s<br>End: 222.041s<br>Duration: 38.441s",
          "<b>0</b><br>Layer: L12<br>Start: 183.600s<br>End: 222.041s<br>Duration: 38.441s"
         ],
         "hovertemplate": "%{customdata}<extra></extra>",
         "insidetextanchor": "middle",
         "marker": {
          "color": "#1F77B4",
          "line": {
           "color": "white",
           "width": 0.5
          },
          "pattern": {
           "fgcolor": "white",
           "fgopacity": 0.5,
           "shape": "",
           "solidity": 0.25
          }
         },
         "name": "0",
         "orientation": "h",
         "showlegend": true,
         "text": [
          "0",
          "0",
          "0",
          "0",
          "0",
          "0",
          "0",
          "0",
          "0",
          "0",
          "0",
          "0",
          "0",
          "0",
          "0",
          "0",
          "0",
          "0",
          "0",
          "0",
          "0",
          "0"
         ],
         "textposition": "inside",
         "type": "bar",
         "width": 1,
         "x": [
          222.04082,
          222.04082,
          11.06,
          50.129999999999995,
          31.39081999999999,
          12.35,
          48.83,
          30.730819999999994,
          11.06,
          48.2,
          30.090820000000008,
          11.06,
          48.2,
          30.090820000000008,
          9.8,
          30.090820000000008,
          9.16,
          30.730819999999994,
          30.730819999999994,
          30.730819999999994,
          38.44082,
          38.44082
         ],
         "y": [
          "L01",
          "L02",
          "L03",
          "L03",
          "L03",
          "L04",
          "L04",
          "L04",
          "L05",
          "L05",
          "L05",
          "L06",
          "L06",
          "L06",
          "L07",
          "L07",
          "L08",
          "L08",
          "L09",
          "L10",
          "L11",
          "L12"
         ]
        },
        {
         "base": [
          11.06,
          52.02,
          92.5,
          153.6,
          12.35,
          53.96,
          94.44,
          152.97,
          179.12,
          11.06,
          52.68,
          93.14,
          152.97,
          179.12,
          11.06,
          53.31,
          91.88,
          152.97,
          180.4,
          9.8,
          51.38,
          91.88,
          152.97,
          177.21,
          9.16,
          51.38,
          91.88,
          152.97,
          179.12,
          9.8,
          51.38,
          91.88,
          152.97,
          179.12,
          9.8,
          53.96,
          91.88,
          152.97,
          178.47,
          9.16,
          52.68,
          91.88,
          152.36,
          9.8,
          52.68,
          91.25,
          152.97
         ],
         "customdata": [
          "<b>1</b><br>Layer: L03<br>Start: 11.060s<br>End: 21.280s<br>Duration: 10.220s",
          "<b>1</b><br>Layer: L03<br>Start: 52.020s<br>End: 62.310s<br>Duration: 10.290s",
          "<b>1</b><br>Layer: L03<br>Start: 92.500s<br>End: 103.470s<br>Duration: 10.970s",
          "<b>1</b><br>Layer: L03<br>Start: 153.600s<br>End: 190.650s<br>Duration: 37.050s",
          "<b>1</b><br>Layer: L04<br>Start: 12.350s<br>End: 21.930s<br>Duration: 9.580s",
          "<b>1</b><br>Layer: L04<br>Start: 53.960s<br>End: 62.950s<br>Duration: 8.990s",
          "<b>1</b><br>Layer: L04<br>Start: 94.440s<br>End: 104.140s<br>Duration: 9.700s",
          "<b>1</b><br>Layer: L04<br>Start: 152.970s<br>End: 166.310s<br>Duration: 13.340s",
          "<b>1</b><br>Layer: L04<br>Start: 179.120s<br>End: 191.310s<br>Duration: 12.190s",
          "<b>1</b><br>Layer: L05<br>Start: 11.060s<br>End: 21.930s<br>Duration: 10.870s",
          "<b>1</b><br>Layer: L05<br>Start: 52.680s<br>End: 63.590s<br>Duration: 10.910s",
          "<b>1</b><br>Layer: L05<br>Start: 93.140s<br>End: 104.770s<br>Duration: 11.630s",
          "<b>1</b><br>Layer: L05<br>Start: 152.970s<br>End: 166.310s<br>Duration: 13.340s",
          "<b>1</b><br>Layer: L05<br>Start: 179.120s<br>End: 191.950s<br>Duration: 12.830s",
          "<b>1</b><br>Layer: L06<br>Start: 11.060s<br>End: 21.930s<br>Duration: 10.870s",
          "<b>1</b><br>Layer: L06<br>Start: 53.310s<br>End: 63.590s<br>Duration: 10.280s",
          "<b>1</b><br>Layer: L06<br>Start: 91.880s<br>End: 104.770s<br>Duration: 12.890s",
          "<b>1</b><br>Layer: L06<br>Start: 152.970s<br>End: 169.520s<br>Duration: 16.550s",
          "<b>1</b><br>Layer: L06<br>Start: 180.400s<br>End: 191.950s<br>Duration: 11.550s",
          "<b>1</b><br>Layer: L07<br>Start: 9.800s<br>End: 21.930s<br>Duration: 12.130s",
          "<b>1</b><br>Layer: L07<br>Start: 51.380s<br>End: 63.590s<br>Duration: 12.210s",
          "<b>1</b><br>Layer: L07<br>Start: 91.880s<br>End: 104.770s<br>Duration: 12.890s",
          "<b>1</b><br>Layer: L07<br>Start: 152.970s<br>End: 166.310s<br>Duration: 13.340s",
          "<b>1</b><br>Layer: L07<br>Start: 177.210s<br>End: 191.950s<br>Duration: 14.740s",
          "<b>1</b><br>Layer: L08<br>Start: 9.160s<br>End: 21.930s<br>Duration: 12.770s",
          "<b>1</b><br>Layer: L08<br>Start: 51.380s<br>End: 63.590s<br>Duration: 12.210s",
          "<b>1</b><br>Layer: L08<br>Start: 91.880s<br>End: 112.480s<br>Duration: 20.600s",
          "<b>1</b><br>Layer: L08<br>Start: 152.970s<br>End: 166.310s<br>Duration: 13.340s",
          "<b>1</b><br>Layer: L08<br>Start: 179.120s<br>End: 191.310s<br>Duration: 12.190s",
          "<b>1</b><br>Layer: L09<br>Start: 9.800s<br>End: 21.930s<br>Duration: 12.130s",
          "<b>1</b><br>Layer: L09<br>Start: 51.380s<br>End: 63.590s<br>Duration: 12.210s",
          "<b>1</b><br>Layer: L09<br>Start: 91.880s<br>End: 112.480s<br>Duration: 20.600s",
          "<b>1</b><br>Layer: L09<br>Start: 152.970s<br>End: 166.310s<br>Duration: 13.340s",
          "<b>1</b><br>Layer: L09<br>Start: 179.120s<br>End: 191.310s<br>Duration: 12.190s",
          "<b>1</b><br>Layer: L10<br>Start: 9.800s<br>End: 21.930s<br>Duration: 12.130s",
          "<b>1</b><br>Layer: L10<br>Start: 53.960s<br>End: 63.590s<br>Duration: 9.630s",
          "<b>1</b><br>Layer: L10<br>Start: 91.880s<br>End: 104.770s<br>Duration: 12.890s",
          "<b>1</b><br>Layer: L10<br>Start: 152.970s<br>End: 166.310s<br>Duration: 13.340s",
          "<b>1</b><br>Layer: L10<br>Start: 178.470s<br>End: 191.310s<br>Duration: 12.840s",
          "<b>1</b><br>Layer: L11<br>Start: 9.160s<br>End: 21.930s<br>Duration: 12.770s",
          "<b>1</b><br>Layer: L11<br>Start: 52.680s<br>End: 63.590s<br>Duration: 10.910s",
          "<b>1</b><br>Layer: L11<br>Start: 91.880s<br>End: 111.830s<br>Duration: 19.950s",
          "<b>1</b><br>Layer: L11<br>Start: 152.360s<br>End: 166.310s<br>Duration: 13.950s",
          "<b>1</b><br>Layer: L12<br>Start: 9.800s<br>End: 21.930s<br>Duration: 12.130s",
          "<b>1</b><br>Layer: L12<br>Start: 52.680s<br>End: 63.590s<br>Duration: 10.910s",
          "<b>1</b><br>Layer: L12<br>Start: 91.250s<br>End: 104.770s<br>Duration: 13.520s",
          "<b>1</b><br>Layer: L12<br>Start: 152.970s<br>End: 168.890s<br>Duration: 15.920s"
         ],
         "hovertemplate": "%{customdata}<extra></extra>",
         "insidetextanchor": "middle",
         "marker": {
          "color": "#FF7F0E",
          "line": {
           "color": "white",
           "width": 0.5
          },
          "pattern": {
           "fgcolor": "white",
           "fgopacity": 0.5,
           "shape": "",
           "solidity": 0.25
          }
         },
         "name": "1",
         "orientation": "h",
         "showlegend": true,
         "text": [
          "1",
          "1",
          "1",
          "1",
          "1",
          "1",
          "1",
          "1",
          "1",
          "1",
          "1",
          "1",
          "1",
          "1",
          "1",
          "1",
          "1",
          "1",
          "1",
          "1",
          "1",
          "1",
          "1",
          "1",
          "1",
          "1",
          "1",
          "1",
          "1",
          "1",
          "1",
          "1",
          "1",
          "1",
          "1",
          "1",
          "1",
          "1",
          "1",
          "1",
          "1",
          "1",
          "1",
          "1",
          "1",
          "1",
          "1"
         ],
         "textposition": "inside",
         "type": "bar",
         "width": 1,
         "x": [
          10.22,
          10.29,
          10.969999999999999,
          37.05000000000001,
          9.58,
          8.990000000000002,
          9.700000000000003,
          13.340000000000003,
          12.189999999999998,
          10.87,
          10.910000000000004,
          11.629999999999995,
          13.340000000000003,
          12.829999999999984,
          10.87,
          10.280000000000001,
          12.89,
          16.55000000000001,
          11.549999999999983,
          12.129999999999999,
          12.21,
          12.89,
          13.340000000000003,
          14.73999999999998,
          12.77,
          12.21,
          20.60000000000001,
          13.340000000000003,
          12.189999999999998,
          12.129999999999999,
          12.21,
          20.60000000000001,
          13.340000000000003,
          12.189999999999998,
          12.129999999999999,
          9.630000000000003,
          12.89,
          13.340000000000003,
          12.840000000000003,
          12.77,
          10.910000000000004,
          19.950000000000003,
          13.949999999999989,
          12.129999999999999,
          10.910000000000004,
          13.519999999999996,
          15.919999999999987
         ],
         "y": [
          "L03",
          "L03",
          "L03",
          "L03",
          "L04",
          "L04",
          "L04",
          "L04",
          "L04",
          "L05",
          "L05",
          "L05",
          "L05",
          "L05",
          "L06",
          "L06",
          "L06",
          "L06",
          "L06",
          "L07",
          "L07",
          "L07",
          "L07",
          "L07",
          "L08",
          "L08",
          "L08",
          "L08",
          "L08",
          "L09",
          "L09",
          "L09",
          "L09",
          "L09",
          "L10",
          "L10",
          "L10",
          "L10",
          "L10",
          "L11",
          "L11",
          "L11",
          "L11",
          "L12",
          "L12",
          "L12",
          "L12"
         ]
        },
        {
         "base": [
          21.28,
          62.31,
          21.93,
          62.95,
          166.31,
          21.93,
          63.59,
          166.31,
          21.93,
          63.59,
          21.93,
          63.59,
          166.31,
          33.38,
          75.15,
          166.31,
          32.75,
          75.15,
          166.31,
          32.75,
          75.15,
          166.31,
          32.12,
          75.15,
          33.38,
          75.15
         ],
         "customdata": [
          "<b>2</b><br>Layer: L03<br>Start: 21.280s<br>End: 52.020s<br>Duration: 30.740s",
          "<b>2</b><br>Layer: L03<br>Start: 62.310s<br>End: 92.500s<br>Duration: 30.190s",
          "<b>2</b><br>Layer: L04<br>Start: 21.930s<br>End: 53.960s<br>Duration: 32.030s",
          "<b>2</b><br>Layer: L04<br>Start: 62.950s<br>End: 94.440s<br>Duration: 31.490s",
          "<b>2</b><br>Layer: L04<br>Start: 166.310s<br>End: 179.120s<br>Duration: 12.810s",
          "<b>2</b><br>Layer: L05<br>Start: 21.930s<br>End: 52.680s<br>Duration: 30.750s",
          "<b>2</b><br>Layer: L05<br>Start: 63.590s<br>End: 93.140s<br>Duration: 29.550s",
          "<b>2</b><br>Layer: L05<br>Start: 166.310s<br>End: 179.120s<br>Duration: 12.810s",
          "<b>2</b><br>Layer: L06<br>Start: 21.930s<br>End: 53.310s<br>Duration: 31.380s",
          "<b>2</b><br>Layer: L06<br>Start: 63.590s<br>End: 91.880s<br>Duration: 28.290s",
          "<b>2</b><br>Layer: L07<br>Start: 21.930s<br>End: 51.380s<br>Duration: 29.450s",
          "<b>2</b><br>Layer: L07<br>Start: 63.590s<br>End: 91.880s<br>Duration: 28.290s",
          "<b>2</b><br>Layer: L07<br>Start: 166.310s<br>End: 177.210s<br>Duration: 10.900s",
          "<b>2</b><br>Layer: L08<br>Start: 33.380s<br>End: 51.380s<br>Duration: 18.000s",
          "<b>2</b><br>Layer: L08<br>Start: 75.150s<br>End: 91.880s<br>Duration: 16.730s",
          "<b>2</b><br>Layer: L08<br>Start: 166.310s<br>End: 179.120s<br>Duration: 12.810s",
          "<b>2</b><br>Layer: L09<br>Start: 32.750s<br>End: 51.380s<br>Duration: 18.630s",
          "<b>2</b><br>Layer: L09<br>Start: 75.150s<br>End: 91.880s<br>Duration: 16.730s",
          "<b>2</b><br>Layer: L09<br>Start: 166.310s<br>End: 179.120s<br>Duration: 12.810s",
          "<b>2</b><br>Layer: L10<br>Start: 32.750s<br>End: 53.960s<br>Duration: 21.210s",
          "<b>2</b><br>Layer: L10<br>Start: 75.150s<br>End: 91.880s<br>Duration: 16.730s",
          "<b>2</b><br>Layer: L10<br>Start: 166.310s<br>End: 178.470s<br>Duration: 12.160s",
          "<b>2</b><br>Layer: L11<br>Start: 32.120s<br>End: 52.680s<br>Duration: 20.560s",
          "<b>2</b><br>Layer: L11<br>Start: 75.150s<br>End: 91.880s<br>Duration: 16.730s",
          "<b>2</b><br>Layer: L12<br>Start: 33.380s<br>End: 52.680s<br>Duration: 19.300s",
          "<b>2</b><br>Layer: L12<br>Start: 75.150s<br>End: 91.250s<br>Duration: 16.100s"
         ],
         "hovertemplate": "%{customdata}<extra></extra>",
         "insidetextanchor": "middle",
         "marker": {
          "color": "#2CA02C",
          "line": {
           "color": "white",
           "width": 0.5
          },
          "pattern": {
           "fgcolor": "white",
           "fgopacity": 0.5,
           "shape": "",
           "solidity": 0.25
          }
         },
         "name": "2",
         "orientation": "h",
         "showlegend": true,
         "text": [
          "2",
          "2",
          "2",
          "2",
          "2",
          "2",
          "2",
          "2",
          "2",
          "2",
          "2",
          "2",
          "2",
          "2",
          "2",
          "2",
          "2",
          "2",
          "2",
          "2",
          "2",
          "2",
          "2",
          "2",
          "2",
          "2"
         ],
         "textposition": "inside",
         "type": "bar",
         "width": 1,
         "x": [
          30.740000000000002,
          30.189999999999998,
          32.03,
          31.489999999999995,
          12.810000000000002,
          30.75,
          29.549999999999997,
          12.810000000000002,
          31.380000000000003,
          28.289999999999992,
          29.450000000000003,
          28.289999999999992,
          10.900000000000006,
          18,
          16.72999999999999,
          12.810000000000002,
          18.630000000000003,
          16.72999999999999,
          12.810000000000002,
          21.21,
          16.72999999999999,
          12.159999999999997,
          20.560000000000002,
          16.72999999999999,
          19.299999999999997,
          16.099999999999994
         ],
         "y": [
          "L03",
          "L03",
          "L04",
          "L04",
          "L04",
          "L05",
          "L05",
          "L05",
          "L06",
          "L06",
          "L07",
          "L07",
          "L07",
          "L08",
          "L08",
          "L08",
          "L09",
          "L09",
          "L09",
          "L10",
          "L10",
          "L10",
          "L11",
          "L11",
          "L12",
          "L12"
         ]
        },
        {
         "base": [
          169.52,
          166.31,
          168.89
         ],
         "customdata": [
          "<b>5</b><br>Layer: L06<br>Start: 169.520s<br>End: 180.400s<br>Duration: 10.880s",
          "<b>5</b><br>Layer: L11<br>Start: 166.310s<br>End: 183.600s<br>Duration: 17.290s",
          "<b>5</b><br>Layer: L12<br>Start: 168.890s<br>End: 183.600s<br>Duration: 14.710s"
         ],
         "hovertemplate": "%{customdata}<extra></extra>",
         "insidetextanchor": "middle",
         "marker": {
          "color": "#D62728",
          "line": {
           "color": "white",
           "width": 0.5
          },
          "pattern": {
           "fgcolor": "white",
           "fgopacity": 0.5,
           "shape": "",
           "solidity": 0.25
          }
         },
         "name": "5",
         "orientation": "h",
         "showlegend": true,
         "text": [
          "5",
          "5",
          "5"
         ],
         "textposition": "inside",
         "type": "bar",
         "width": 1,
         "x": [
          10.879999999999995,
          17.289999999999992,
          14.710000000000008
         ],
         "y": [
          "L06",
          "L11",
          "L12"
         ]
        },
        {
         "base": [
          104.77,
          112.48,
          112.48,
          104.77,
          111.83,
          104.77
         ],
         "customdata": [
          "<b>6</b><br>Layer: L07<br>Start: 104.770s<br>End: 152.970s<br>Duration: 48.200s",
          "<b>6</b><br>Layer: L08<br>Start: 112.480s<br>End: 152.970s<br>Duration: 40.490s",
          "<b>6</b><br>Layer: L09<br>Start: 112.480s<br>End: 152.970s<br>Duration: 40.490s",
          "<b>6</b><br>Layer: L10<br>Start: 104.770s<br>End: 152.970s<br>Duration: 48.200s",
          "<b>6</b><br>Layer: L11<br>Start: 111.830s<br>End: 134.480s<br>Duration: 22.650s",
          "<b>6</b><br>Layer: L12<br>Start: 104.770s<br>End: 134.480s<br>Duration: 29.710s"
         ],
         "hovertemplate": "%{customdata}<extra></extra>",
         "insidetextanchor": "middle",
         "marker": {
          "color": "#9467BD",
          "line": {
           "color": "white",
           "width": 0.5
          },
          "pattern": {
           "fgcolor": "white",
           "fgopacity": 0.5,
           "shape": "",
           "solidity": 0.25
          }
         },
         "name": "6",
         "orientation": "h",
         "showlegend": true,
         "text": [
          "6",
          "6",
          "6",
          "6",
          "6",
          "6"
         ],
         "textposition": "inside",
         "type": "bar",
         "width": 1,
         "x": [
          48.2,
          40.489999999999995,
          40.489999999999995,
          48.2,
          22.64999999999999,
          29.709999999999994
         ],
         "y": [
          "L07",
          "L08",
          "L09",
          "L10",
          "L11",
          "L12"
         ]
        },
        {
         "base": [
          21.93,
          63.59,
          21.93,
          63.59,
          21.93,
          63.59,
          21.93,
          63.59,
          21.93,
          63.59
         ],
         "customdata": [
          "<b>7</b><br>Layer: L08<br>Start: 21.930s<br>End: 33.380s<br>Duration: 11.450s",
          "<b>7</b><br>Layer: L08<br>Start: 63.590s<br>End: 75.150s<br>Duration: 11.560s",
          "<b>7</b><br>Layer: L09<br>Start: 21.930s<br>End: 32.750s<br>Duration: 10.820s",
          "<b>7</b><br>Layer: L09<br>Start: 63.590s<br>End: 75.150s<br>Duration: 11.560s",
          "<b>7</b><br>Layer: L10<br>Start: 21.930s<br>End: 32.750s<br>Duration: 10.820s",
          "<b>7</b><br>Layer: L10<br>Start: 63.590s<br>End: 75.150s<br>Duration: 11.560s",
          "<b>7</b><br>Layer: L11<br>Start: 21.930s<br>End: 32.120s<br>Duration: 10.190s",
          "<b>7</b><br>Layer: L11<br>Start: 63.590s<br>End: 75.150s<br>Duration: 11.560s",
          "<b>7</b><br>Layer: L12<br>Start: 21.930s<br>End: 33.380s<br>Duration: 11.450s",
          "<b>7</b><br>Layer: L12<br>Start: 63.590s<br>End: 75.150s<br>Duration: 11.560s"
         ],
         "hovertemplate": "%{customdata}<extra></extra>",
         "insidetextanchor": "middle",
         "marker": {
          "color": "#8C564B",
          "line": {
           "color": "white",
           "width": 0.5
          },
          "pattern": {
           "fgcolor": "white",
           "fgopacity": 0.5,
           "shape": "",
           "solidity": 0.25
          }
         },
         "name": "7",
         "orientation": "h",
         "showlegend": true,
         "text": [
          "7",
          "7",
          "7",
          "7",
          "7",
          "7",
          "7",
          "7",
          "7",
          "7"
         ],
         "textposition": "inside",
         "type": "bar",
         "width": 1,
         "x": [
          11.450000000000003,
          11.560000000000002,
          10.82,
          11.560000000000002,
          10.82,
          11.560000000000002,
          10.189999999999998,
          11.560000000000002,
          11.450000000000003,
          11.560000000000002
         ],
         "y": [
          "L08",
          "L08",
          "L09",
          "L09",
          "L10",
          "L10",
          "L11",
          "L11",
          "L12",
          "L12"
         ]
        },
        {
         "base": [
          0,
          0,
          0,
          0
         ],
         "customdata": [
          "<b>8</b><br>Layer: L09<br>Start: 0.000s<br>End: 9.800s<br>Duration: 9.800s",
          "<b>8</b><br>Layer: L10<br>Start: 0.000s<br>End: 9.800s<br>Duration: 9.800s",
          "<b>8</b><br>Layer: L11<br>Start: 0.000s<br>End: 9.160s<br>Duration: 9.160s",
          "<b>8</b><br>Layer: L12<br>Start: 0.000s<br>End: 9.800s<br>Duration: 9.800s"
         ],
         "hovertemplate": "%{customdata}<extra></extra>",
         "insidetextanchor": "middle",
         "marker": {
          "color": "#E377C2",
          "line": {
           "color": "white",
           "width": 0.5
          },
          "pattern": {
           "fgcolor": "white",
           "fgopacity": 0.5,
           "shape": "",
           "solidity": 0.25
          }
         },
         "name": "8",
         "orientation": "h",
         "showlegend": true,
         "text": [
          "8",
          "8",
          "8",
          "8"
         ],
         "textposition": "inside",
         "type": "bar",
         "width": 1,
         "x": [
          9.8,
          9.8,
          9.16,
          9.8
         ],
         "y": [
          "L09",
          "L10",
          "L11",
          "L12"
         ]
        },
        {
         "base": [
          134.48,
          134.48
         ],
         "customdata": [
          "<b>9</b><br>Layer: L11<br>Start: 134.480s<br>End: 152.360s<br>Duration: 17.880s",
          "<b>9</b><br>Layer: L12<br>Start: 134.480s<br>End: 152.970s<br>Duration: 18.490s"
         ],
         "hovertemplate": "%{customdata}<extra></extra>",
         "insidetextanchor": "middle",
         "marker": {
          "color": "#7F7F7F",
          "line": {
           "color": "white",
           "width": 0.5
          },
          "pattern": {
           "fgcolor": "white",
           "fgopacity": 0.5,
           "shape": "",
           "solidity": 0.25
          }
         },
         "name": "9",
         "orientation": "h",
         "showlegend": true,
         "text": [
          "9",
          "9"
         ],
         "textposition": "inside",
         "type": "bar",
         "width": 1,
         "x": [
          17.880000000000024,
          18.49000000000001
         ],
         "y": [
          "L11",
          "L12"
         ]
        }
       ],
       "layout": {
        "barmode": "overlay",
        "height": 370,
        "margin": {
         "b": 20,
         "l": 20,
         "r": 20,
         "t": 40
        },
        "showlegend": false,
        "template": {
         "data": {
          "bar": [
           {
            "error_x": {
             "color": "#2a3f5f"
            },
            "error_y": {
             "color": "#2a3f5f"
            },
            "marker": {
             "line": {
              "color": "#E5ECF6",
              "width": 0.5
             },
             "pattern": {
              "fillmode": "overlay",
              "size": 10,
              "solidity": 0.2
             }
            },
            "type": "bar"
           }
          ],
          "barpolar": [
           {
            "marker": {
             "line": {
              "color": "#E5ECF6",
              "width": 0.5
             },
             "pattern": {
              "fillmode": "overlay",
              "size": 10,
              "solidity": 0.2
             }
            },
            "type": "barpolar"
           }
          ],
          "carpet": [
           {
            "aaxis": {
             "endlinecolor": "#2a3f5f",
             "gridcolor": "white",
             "linecolor": "white",
             "minorgridcolor": "white",
             "startlinecolor": "#2a3f5f"
            },
            "baxis": {
             "endlinecolor": "#2a3f5f",
             "gridcolor": "white",
             "linecolor": "white",
             "minorgridcolor": "white",
             "startlinecolor": "#2a3f5f"
            },
            "type": "carpet"
           }
          ],
          "choropleth": [
           {
            "colorbar": {
             "outlinewidth": 0,
             "ticks": ""
            },
            "type": "choropleth"
           }
          ],
          "contour": [
           {
            "colorbar": {
             "outlinewidth": 0,
             "ticks": ""
            },
            "colorscale": [
             [
              0,
              "#0d0887"
             ],
             [
              0.1111111111111111,
              "#46039f"
             ],
             [
              0.2222222222222222,
              "#7201a8"
             ],
             [
              0.3333333333333333,
              "#9c179e"
             ],
             [
              0.4444444444444444,
              "#bd3786"
             ],
             [
              0.5555555555555556,
              "#d8576b"
             ],
             [
              0.6666666666666666,
              "#ed7953"
             ],
             [
              0.7777777777777778,
              "#fb9f3a"
             ],
             [
              0.8888888888888888,
              "#fdca26"
             ],
             [
              1,
              "#f0f921"
             ]
            ],
            "type": "contour"
           }
          ],
          "contourcarpet": [
           {
            "colorbar": {
             "outlinewidth": 0,
             "ticks": ""
            },
            "type": "contourcarpet"
           }
          ],
          "heatmap": [
           {
            "colorbar": {
             "outlinewidth": 0,
             "ticks": ""
            },
            "colorscale": [
             [
              0,
              "#0d0887"
             ],
             [
              0.1111111111111111,
              "#46039f"
             ],
             [
              0.2222222222222222,
              "#7201a8"
             ],
             [
              0.3333333333333333,
              "#9c179e"
             ],
             [
              0.4444444444444444,
              "#bd3786"
             ],
             [
              0.5555555555555556,
              "#d8576b"
             ],
             [
              0.6666666666666666,
              "#ed7953"
             ],
             [
              0.7777777777777778,
              "#fb9f3a"
             ],
             [
              0.8888888888888888,
              "#fdca26"
             ],
             [
              1,
              "#f0f921"
             ]
            ],
            "type": "heatmap"
           }
          ],
          "histogram": [
           {
            "marker": {
             "pattern": {
              "fillmode": "overlay",
              "size": 10,
              "solidity": 0.2
             }
            },
            "type": "histogram"
           }
          ],
          "histogram2d": [
           {
            "colorbar": {
             "outlinewidth": 0,
             "ticks": ""
            },
            "colorscale": [
             [
              0,
              "#0d0887"
             ],
             [
              0.1111111111111111,
              "#46039f"
             ],
             [
              0.2222222222222222,
              "#7201a8"
             ],
             [
              0.3333333333333333,
              "#9c179e"
             ],
             [
              0.4444444444444444,
              "#bd3786"
             ],
             [
              0.5555555555555556,
              "#d8576b"
             ],
             [
              0.6666666666666666,
              "#ed7953"
             ],
             [
              0.7777777777777778,
              "#fb9f3a"
             ],
             [
              0.8888888888888888,
              "#fdca26"
             ],
             [
              1,
              "#f0f921"
             ]
            ],
            "type": "histogram2d"
           }
          ],
          "histogram2dcontour": [
           {
            "colorbar": {
             "outlinewidth": 0,
             "ticks": ""
            },
            "colorscale": [
             [
              0,
              "#0d0887"
             ],
             [
              0.1111111111111111,
              "#46039f"
             ],
             [
              0.2222222222222222,
              "#7201a8"
             ],
             [
              0.3333333333333333,
              "#9c179e"
             ],
             [
              0.4444444444444444,
              "#bd3786"
             ],
             [
              0.5555555555555556,
              "#d8576b"
             ],
             [
              0.6666666666666666,
              "#ed7953"
             ],
             [
              0.7777777777777778,
              "#fb9f3a"
             ],
             [
              0.8888888888888888,
              "#fdca26"
             ],
             [
              1,
              "#f0f921"
             ]
            ],
            "type": "histogram2dcontour"
           }
          ],
          "mesh3d": [
           {
            "colorbar": {
             "outlinewidth": 0,
             "ticks": ""
            },
            "type": "mesh3d"
           }
          ],
          "parcoords": [
           {
            "line": {
             "colorbar": {
              "outlinewidth": 0,
              "ticks": ""
             }
            },
            "type": "parcoords"
           }
          ],
          "pie": [
           {
            "automargin": true,
            "type": "pie"
           }
          ],
          "scatter": [
           {
            "fillpattern": {
             "fillmode": "overlay",
             "size": 10,
             "solidity": 0.2
            },
            "type": "scatter"
           }
          ],
          "scatter3d": [
           {
            "line": {
             "colorbar": {
              "outlinewidth": 0,
              "ticks": ""
             }
            },
            "marker": {
             "colorbar": {
              "outlinewidth": 0,
              "ticks": ""
             }
            },
            "type": "scatter3d"
           }
          ],
          "scattercarpet": [
           {
            "marker": {
             "colorbar": {
              "outlinewidth": 0,
              "ticks": ""
             }
            },
            "type": "scattercarpet"
           }
          ],
          "scattergeo": [
           {
            "marker": {
             "colorbar": {
              "outlinewidth": 0,
              "ticks": ""
             }
            },
            "type": "scattergeo"
           }
          ],
          "scattergl": [
           {
            "marker": {
             "colorbar": {
              "outlinewidth": 0,
              "ticks": ""
             }
            },
            "type": "scattergl"
           }
          ],
          "scattermap": [
           {
            "marker": {
             "colorbar": {
              "outlinewidth": 0,
              "ticks": ""
             }
            },
            "type": "scattermap"
           }
          ],
          "scattermapbox": [
           {
            "marker": {
             "colorbar": {
              "outlinewidth": 0,
              "ticks": ""
             }
            },
            "type": "scattermapbox"
           }
          ],
          "scatterpolar": [
           {
            "marker": {
             "colorbar": {
              "outlinewidth": 0,
              "ticks": ""
             }
            },
            "type": "scatterpolar"
           }
          ],
          "scatterpolargl": [
           {
            "marker": {
             "colorbar": {
              "outlinewidth": 0,
              "ticks": ""
             }
            },
            "type": "scatterpolargl"
           }
          ],
          "scatterternary": [
           {
            "marker": {
             "colorbar": {
              "outlinewidth": 0,
              "ticks": ""
             }
            },
            "type": "scatterternary"
           }
          ],
          "surface": [
           {
            "colorbar": {
             "outlinewidth": 0,
             "ticks": ""
            },
            "colorscale": [
             [
              0,
              "#0d0887"
             ],
             [
              0.1111111111111111,
              "#46039f"
             ],
             [
              0.2222222222222222,
              "#7201a8"
             ],
             [
              0.3333333333333333,
              "#9c179e"
             ],
             [
              0.4444444444444444,
              "#bd3786"
             ],
             [
              0.5555555555555556,
              "#d8576b"
             ],
             [
              0.6666666666666666,
              "#ed7953"
             ],
             [
              0.7777777777777778,
              "#fb9f3a"
             ],
             [
              0.8888888888888888,
              "#fdca26"
             ],
             [
              1,
              "#f0f921"
             ]
            ],
            "type": "surface"
           }
          ],
          "table": [
           {
            "cells": {
             "fill": {
              "color": "#EBF0F8"
             },
             "line": {
              "color": "white"
             }
            },
            "header": {
             "fill": {
              "color": "#C8D4E3"
             },
             "line": {
              "color": "white"
             }
            },
            "type": "table"
           }
          ]
         },
         "layout": {
          "annotationdefaults": {
           "arrowcolor": "#2a3f5f",
           "arrowhead": 0,
           "arrowwidth": 1
          },
          "autotypenumbers": "strict",
          "coloraxis": {
           "colorbar": {
            "outlinewidth": 0,
            "ticks": ""
           }
          },
          "colorscale": {
           "diverging": [
            [
             0,
             "#8e0152"
            ],
            [
             0.1,
             "#c51b7d"
            ],
            [
             0.2,
             "#de77ae"
            ],
            [
             0.3,
             "#f1b6da"
            ],
            [
             0.4,
             "#fde0ef"
            ],
            [
             0.5,
             "#f7f7f7"
            ],
            [
             0.6,
             "#e6f5d0"
            ],
            [
             0.7,
             "#b8e186"
            ],
            [
             0.8,
             "#7fbc41"
            ],
            [
             0.9,
             "#4d9221"
            ],
            [
             1,
             "#276419"
            ]
           ],
           "sequential": [
            [
             0,
             "#0d0887"
            ],
            [
             0.1111111111111111,
             "#46039f"
            ],
            [
             0.2222222222222222,
             "#7201a8"
            ],
            [
             0.3333333333333333,
             "#9c179e"
            ],
            [
             0.4444444444444444,
             "#bd3786"
            ],
            [
             0.5555555555555556,
             "#d8576b"
            ],
            [
             0.6666666666666666,
             "#ed7953"
            ],
            [
             0.7777777777777778,
             "#fb9f3a"
            ],
            [
             0.8888888888888888,
             "#fdca26"
            ],
            [
             1,
             "#f0f921"
            ]
           ],
           "sequentialminus": [
            [
             0,
             "#0d0887"
            ],
            [
             0.1111111111111111,
             "#46039f"
            ],
            [
             0.2222222222222222,
             "#7201a8"
            ],
            [
             0.3333333333333333,
             "#9c179e"
            ],
            [
             0.4444444444444444,
             "#bd3786"
            ],
            [
             0.5555555555555556,
             "#d8576b"
            ],
            [
             0.6666666666666666,
             "#ed7953"
            ],
            [
             0.7777777777777778,
             "#fb9f3a"
            ],
            [
             0.8888888888888888,
             "#fdca26"
            ],
            [
             1,
             "#f0f921"
            ]
           ]
          },
          "colorway": [
           "#636efa",
           "#EF553B",
           "#00cc96",
           "#ab63fa",
           "#FFA15A",
           "#19d3f3",
           "#FF6692",
           "#B6E880",
           "#FF97FF",
           "#FECB52"
          ],
          "font": {
           "color": "#2a3f5f"
          },
          "geo": {
           "bgcolor": "white",
           "lakecolor": "white",
           "landcolor": "#E5ECF6",
           "showlakes": true,
           "showland": true,
           "subunitcolor": "white"
          },
          "hoverlabel": {
           "align": "left"
          },
          "hovermode": "closest",
          "mapbox": {
           "style": "light"
          },
          "paper_bgcolor": "white",
          "plot_bgcolor": "#E5ECF6",
          "polar": {
           "angularaxis": {
            "gridcolor": "white",
            "linecolor": "white",
            "ticks": ""
           },
           "bgcolor": "#E5ECF6",
           "radialaxis": {
            "gridcolor": "white",
            "linecolor": "white",
            "ticks": ""
           }
          },
          "scene": {
           "xaxis": {
            "backgroundcolor": "#E5ECF6",
            "gridcolor": "white",
            "gridwidth": 2,
            "linecolor": "white",
            "showbackground": true,
            "ticks": "",
            "zerolinecolor": "white"
           },
           "yaxis": {
            "backgroundcolor": "#E5ECF6",
            "gridcolor": "white",
            "gridwidth": 2,
            "linecolor": "white",
            "showbackground": true,
            "ticks": "",
            "zerolinecolor": "white"
           },
           "zaxis": {
            "backgroundcolor": "#E5ECF6",
            "gridcolor": "white",
            "gridwidth": 2,
            "linecolor": "white",
            "showbackground": true,
            "ticks": "",
            "zerolinecolor": "white"
           }
          },
          "shapedefaults": {
           "line": {
            "color": "#2a3f5f"
           }
          },
          "ternary": {
           "aaxis": {
            "gridcolor": "white",
            "linecolor": "white",
            "ticks": ""
           },
           "baxis": {
            "gridcolor": "white",
            "linecolor": "white",
            "ticks": ""
           },
           "bgcolor": "#E5ECF6",
           "caxis": {
            "gridcolor": "white",
            "linecolor": "white",
            "ticks": ""
           }
          },
          "title": {
           "x": 0.05
          },
          "xaxis": {
           "automargin": true,
           "gridcolor": "white",
           "linecolor": "white",
           "ticks": "",
           "title": {
            "standoff": 15
           },
           "zerolinecolor": "white",
           "zerolinewidth": 2
          },
          "yaxis": {
           "automargin": true,
           "gridcolor": "white",
           "linecolor": "white",
           "ticks": "",
           "title": {
            "standoff": 15
           },
           "zerolinecolor": "white",
           "zerolinewidth": 2
          }
         }
        },
        "title": {
         "text": "adobe-mu5gamma5",
         "x": 0.5
        },
        "width": 650,
        "xaxis": {
         "range": [
          0,
          222.04082
         ],
         "title": {
          "text": "Time (s)"
         }
        },
        "yaxis": {
         "categoryarray": [
          "L12",
          "L11",
          "L10",
          "L09",
          "L08",
          "L07",
          "L06",
          "L05",
          "L04",
          "L03",
          "L02",
          "L01"
         ],
         "categoryorder": "array",
         "title": {}
        }
       }
      }
     },
     "metadata": {},
     "output_type": "display_data"
    },
    {
     "data": {
      "application/vnd.plotly.v1+json": {
       "config": {
        "plotlyServerURL": "https://plot.ly"
       },
       "data": [
        {
         "base": [
          0,
          103.47,
          190.65,
          0,
          104.14,
          191.31,
          0,
          104.77,
          191.95,
          0,
          104.77,
          191.95,
          0,
          191.95,
          0,
          191.31,
          191.31,
          191.31,
          183.6,
          183.6
         ],
         "customdata": [
          "<b>0</b><br>Layer: L03<br>Start: 0.000s<br>End: 11.060s<br>Duration: 11.060s",
          "<b>0</b><br>Layer: L03<br>Start: 103.470s<br>End: 153.600s<br>Duration: 50.130s",
          "<b>0</b><br>Layer: L03<br>Start: 190.650s<br>End: 222.041s<br>Duration: 31.391s",
          "<b>0</b><br>Layer: L04<br>Start: 0.000s<br>End: 12.350s<br>Duration: 12.350s",
          "<b>0</b><br>Layer: L04<br>Start: 104.140s<br>End: 152.970s<br>Duration: 48.830s",
          "<b>0</b><br>Layer: L04<br>Start: 191.310s<br>End: 222.041s<br>Duration: 30.731s",
          "<b>0</b><br>Layer: L05<br>Start: 0.000s<br>End: 11.060s<br>Duration: 11.060s",
          "<b>0</b><br>Layer: L05<br>Start: 104.770s<br>End: 152.970s<br>Duration: 48.200s",
          "<b>0</b><br>Layer: L05<br>Start: 191.950s<br>End: 222.041s<br>Duration: 30.091s",
          "<b>0</b><br>Layer: L06<br>Start: 0.000s<br>End: 11.060s<br>Duration: 11.060s",
          "<b>0</b><br>Layer: L06<br>Start: 104.770s<br>End: 152.970s<br>Duration: 48.200s",
          "<b>0</b><br>Layer: L06<br>Start: 191.950s<br>End: 222.041s<br>Duration: 30.091s",
          "<b>0</b><br>Layer: L07<br>Start: 0.000s<br>End: 9.800s<br>Duration: 9.800s",
          "<b>0</b><br>Layer: L07<br>Start: 191.950s<br>End: 222.041s<br>Duration: 30.091s",
          "<b>0</b><br>Layer: L08<br>Start: 0.000s<br>End: 9.160s<br>Duration: 9.160s",
          "<b>0</b><br>Layer: L08<br>Start: 191.310s<br>End: 222.041s<br>Duration: 30.731s",
          "<b>0</b><br>Layer: L09<br>Start: 191.310s<br>End: 222.041s<br>Duration: 30.731s",
          "<b>0</b><br>Layer: L10<br>Start: 191.310s<br>End: 222.041s<br>Duration: 30.731s",
          "<b>0</b><br>Layer: L11<br>Start: 183.600s<br>End: 222.041s<br>Duration: 38.441s",
          "<b>0</b><br>Layer: L12<br>Start: 183.600s<br>End: 222.041s<br>Duration: 38.441s"
         ],
         "hovertemplate": "%{customdata}<extra></extra>",
         "insidetextanchor": "middle",
         "marker": {
          "color": "#1F77B4",
          "line": {
           "color": "white",
           "width": 0.5
          },
          "pattern": {
           "fgcolor": "white",
           "fgopacity": 0.5,
           "shape": "",
           "solidity": 0.25
          }
         },
         "name": "0",
         "orientation": "h",
         "showlegend": true,
         "text": [
          "0",
          "0",
          "0",
          "0",
          "0",
          "0",
          "0",
          "0",
          "0",
          "0",
          "0",
          "0",
          "0",
          "0",
          "0",
          "0",
          "0",
          "0",
          "0",
          "0"
         ],
         "textposition": "inside",
         "type": "bar",
         "width": 1,
         "x": [
          11.06,
          50.129999999999995,
          31.39081999999999,
          12.35,
          48.83,
          30.730819999999994,
          11.06,
          48.2,
          30.090820000000008,
          11.06,
          48.2,
          30.090820000000008,
          9.8,
          30.090820000000008,
          9.16,
          30.730819999999994,
          30.730819999999994,
          30.730819999999994,
          38.44082,
          38.44082
         ],
         "y": [
          "L03",
          "L03",
          "L03",
          "L04",
          "L04",
          "L04",
          "L05",
          "L05",
          "L05",
          "L06",
          "L06",
          "L06",
          "L07",
          "L07",
          "L08",
          "L08",
          "L09",
          "L10",
          "L11",
          "L12"
         ]
        },
        {
         "base": [
          11.06,
          52.02,
          92.5,
          153.6,
          12.35,
          53.96,
          94.44,
          152.97,
          179.12,
          11.06,
          52.68,
          93.14,
          152.97,
          179.12,
          11.06,
          53.31,
          91.88,
          152.97,
          180.4,
          9.8,
          51.38,
          91.88,
          152.97,
          177.21,
          9.16,
          51.38,
          91.88,
          152.97,
          179.12,
          9.8,
          51.38,
          91.88,
          152.97,
          179.12,
          9.8,
          53.96,
          91.88,
          152.97,
          178.47,
          9.16,
          52.68,
          91.88,
          152.36,
          9.8,
          52.68,
          91.25,
          152.97
         ],
         "customdata": [
          "<b>1</b><br>Layer: L03<br>Start: 11.060s<br>End: 21.280s<br>Duration: 10.220s",
          "<b>1</b><br>Layer: L03<br>Start: 52.020s<br>End: 62.310s<br>Duration: 10.290s",
          "<b>1</b><br>Layer: L03<br>Start: 92.500s<br>End: 103.470s<br>Duration: 10.970s",
          "<b>1</b><br>Layer: L03<br>Start: 153.600s<br>End: 190.650s<br>Duration: 37.050s",
          "<b>1</b><br>Layer: L04<br>Start: 12.350s<br>End: 21.930s<br>Duration: 9.580s",
          "<b>1</b><br>Layer: L04<br>Start: 53.960s<br>End: 62.950s<br>Duration: 8.990s",
          "<b>1</b><br>Layer: L04<br>Start: 94.440s<br>End: 104.140s<br>Duration: 9.700s",
          "<b>1</b><br>Layer: L04<br>Start: 152.970s<br>End: 166.310s<br>Duration: 13.340s",
          "<b>1</b><br>Layer: L04<br>Start: 179.120s<br>End: 191.310s<br>Duration: 12.190s",
          "<b>1</b><br>Layer: L05<br>Start: 11.060s<br>End: 21.930s<br>Duration: 10.870s",
          "<b>1</b><br>Layer: L05<br>Start: 52.680s<br>End: 63.590s<br>Duration: 10.910s",
          "<b>1</b><br>Layer: L05<br>Start: 93.140s<br>End: 104.770s<br>Duration: 11.630s",
          "<b>1</b><br>Layer: L05<br>Start: 152.970s<br>End: 166.310s<br>Duration: 13.340s",
          "<b>1</b><br>Layer: L05<br>Start: 179.120s<br>End: 191.950s<br>Duration: 12.830s",
          "<b>1</b><br>Layer: L06<br>Start: 11.060s<br>End: 21.930s<br>Duration: 10.870s",
          "<b>1</b><br>Layer: L06<br>Start: 53.310s<br>End: 63.590s<br>Duration: 10.280s",
          "<b>1</b><br>Layer: L06<br>Start: 91.880s<br>End: 104.770s<br>Duration: 12.890s",
          "<b>1</b><br>Layer: L06<br>Start: 152.970s<br>End: 169.520s<br>Duration: 16.550s",
          "<b>1</b><br>Layer: L06<br>Start: 180.400s<br>End: 191.950s<br>Duration: 11.550s",
          "<b>1</b><br>Layer: L07<br>Start: 9.800s<br>End: 21.930s<br>Duration: 12.130s",
          "<b>1</b><br>Layer: L07<br>Start: 51.380s<br>End: 63.590s<br>Duration: 12.210s",
          "<b>1</b><br>Layer: L07<br>Start: 91.880s<br>End: 104.770s<br>Duration: 12.890s",
          "<b>1</b><br>Layer: L07<br>Start: 152.970s<br>End: 166.310s<br>Duration: 13.340s",
          "<b>1</b><br>Layer: L07<br>Start: 177.210s<br>End: 191.950s<br>Duration: 14.740s",
          "<b>1</b><br>Layer: L08<br>Start: 9.160s<br>End: 21.930s<br>Duration: 12.770s",
          "<b>1</b><br>Layer: L08<br>Start: 51.380s<br>End: 63.590s<br>Duration: 12.210s",
          "<b>1</b><br>Layer: L08<br>Start: 91.880s<br>End: 112.480s<br>Duration: 20.600s",
          "<b>1</b><br>Layer: L08<br>Start: 152.970s<br>End: 166.310s<br>Duration: 13.340s",
          "<b>1</b><br>Layer: L08<br>Start: 179.120s<br>End: 191.310s<br>Duration: 12.190s",
          "<b>1</b><br>Layer: L09<br>Start: 9.800s<br>End: 21.930s<br>Duration: 12.130s",
          "<b>1</b><br>Layer: L09<br>Start: 51.380s<br>End: 63.590s<br>Duration: 12.210s",
          "<b>1</b><br>Layer: L09<br>Start: 91.880s<br>End: 112.480s<br>Duration: 20.600s",
          "<b>1</b><br>Layer: L09<br>Start: 152.970s<br>End: 166.310s<br>Duration: 13.340s",
          "<b>1</b><br>Layer: L09<br>Start: 179.120s<br>End: 191.310s<br>Duration: 12.190s",
          "<b>1</b><br>Layer: L10<br>Start: 9.800s<br>End: 21.930s<br>Duration: 12.130s",
          "<b>1</b><br>Layer: L10<br>Start: 53.960s<br>End: 63.590s<br>Duration: 9.630s",
          "<b>1</b><br>Layer: L10<br>Start: 91.880s<br>End: 104.770s<br>Duration: 12.890s",
          "<b>1</b><br>Layer: L10<br>Start: 152.970s<br>End: 166.310s<br>Duration: 13.340s",
          "<b>1</b><br>Layer: L10<br>Start: 178.470s<br>End: 191.310s<br>Duration: 12.840s",
          "<b>1</b><br>Layer: L11<br>Start: 9.160s<br>End: 21.930s<br>Duration: 12.770s",
          "<b>1</b><br>Layer: L11<br>Start: 52.680s<br>End: 63.590s<br>Duration: 10.910s",
          "<b>1</b><br>Layer: L11<br>Start: 91.880s<br>End: 111.830s<br>Duration: 19.950s",
          "<b>1</b><br>Layer: L11<br>Start: 152.360s<br>End: 166.310s<br>Duration: 13.950s",
          "<b>1</b><br>Layer: L12<br>Start: 9.800s<br>End: 21.930s<br>Duration: 12.130s",
          "<b>1</b><br>Layer: L12<br>Start: 52.680s<br>End: 63.590s<br>Duration: 10.910s",
          "<b>1</b><br>Layer: L12<br>Start: 91.250s<br>End: 104.770s<br>Duration: 13.520s",
          "<b>1</b><br>Layer: L12<br>Start: 152.970s<br>End: 168.890s<br>Duration: 15.920s"
         ],
         "hovertemplate": "%{customdata}<extra></extra>",
         "insidetextanchor": "middle",
         "marker": {
          "color": "#FF7F0E",
          "line": {
           "color": "white",
           "width": 0.5
          },
          "pattern": {
           "fgcolor": "white",
           "fgopacity": 0.5,
           "shape": "",
           "solidity": 0.25
          }
         },
         "name": "1",
         "orientation": "h",
         "showlegend": true,
         "text": [
          "1",
          "1",
          "1",
          "1",
          "1",
          "1",
          "1",
          "1",
          "1",
          "1",
          "1",
          "1",
          "1",
          "1",
          "1",
          "1",
          "1",
          "1",
          "1",
          "1",
          "1",
          "1",
          "1",
          "1",
          "1",
          "1",
          "1",
          "1",
          "1",
          "1",
          "1",
          "1",
          "1",
          "1",
          "1",
          "1",
          "1",
          "1",
          "1",
          "1",
          "1",
          "1",
          "1",
          "1",
          "1",
          "1",
          "1"
         ],
         "textposition": "inside",
         "type": "bar",
         "width": 1,
         "x": [
          10.22,
          10.29,
          10.969999999999999,
          37.05000000000001,
          9.58,
          8.990000000000002,
          9.700000000000003,
          13.340000000000003,
          12.189999999999998,
          10.87,
          10.910000000000004,
          11.629999999999995,
          13.340000000000003,
          12.829999999999984,
          10.87,
          10.280000000000001,
          12.89,
          16.55000000000001,
          11.549999999999983,
          12.129999999999999,
          12.21,
          12.89,
          13.340000000000003,
          14.73999999999998,
          12.77,
          12.21,
          20.60000000000001,
          13.340000000000003,
          12.189999999999998,
          12.129999999999999,
          12.21,
          20.60000000000001,
          13.340000000000003,
          12.189999999999998,
          12.129999999999999,
          9.630000000000003,
          12.89,
          13.340000000000003,
          12.840000000000003,
          12.77,
          10.910000000000004,
          19.950000000000003,
          13.949999999999989,
          12.129999999999999,
          10.910000000000004,
          13.519999999999996,
          15.919999999999987
         ],
         "y": [
          "L03",
          "L03",
          "L03",
          "L03",
          "L04",
          "L04",
          "L04",
          "L04",
          "L04",
          "L05",
          "L05",
          "L05",
          "L05",
          "L05",
          "L06",
          "L06",
          "L06",
          "L06",
          "L06",
          "L07",
          "L07",
          "L07",
          "L07",
          "L07",
          "L08",
          "L08",
          "L08",
          "L08",
          "L08",
          "L09",
          "L09",
          "L09",
          "L09",
          "L09",
          "L10",
          "L10",
          "L10",
          "L10",
          "L10",
          "L11",
          "L11",
          "L11",
          "L11",
          "L12",
          "L12",
          "L12",
          "L12"
         ]
        },
        {
         "base": [
          21.28,
          62.31,
          21.93,
          62.95,
          166.31,
          21.93,
          63.59,
          166.31,
          21.93,
          63.59,
          21.93,
          63.59,
          166.31,
          33.38,
          75.15,
          166.31,
          32.75,
          75.15,
          166.31,
          32.75,
          75.15,
          166.31,
          32.12,
          75.15,
          33.38,
          75.15
         ],
         "customdata": [
          "<b>2</b><br>Layer: L03<br>Start: 21.280s<br>End: 52.020s<br>Duration: 30.740s",
          "<b>2</b><br>Layer: L03<br>Start: 62.310s<br>End: 92.500s<br>Duration: 30.190s",
          "<b>2</b><br>Layer: L04<br>Start: 21.930s<br>End: 53.960s<br>Duration: 32.030s",
          "<b>2</b><br>Layer: L04<br>Start: 62.950s<br>End: 94.440s<br>Duration: 31.490s",
          "<b>2</b><br>Layer: L04<br>Start: 166.310s<br>End: 179.120s<br>Duration: 12.810s",
          "<b>2</b><br>Layer: L05<br>Start: 21.930s<br>End: 52.680s<br>Duration: 30.750s",
          "<b>2</b><br>Layer: L05<br>Start: 63.590s<br>End: 93.140s<br>Duration: 29.550s",
          "<b>2</b><br>Layer: L05<br>Start: 166.310s<br>End: 179.120s<br>Duration: 12.810s",
          "<b>2</b><br>Layer: L06<br>Start: 21.930s<br>End: 53.310s<br>Duration: 31.380s",
          "<b>2</b><br>Layer: L06<br>Start: 63.590s<br>End: 91.880s<br>Duration: 28.290s",
          "<b>2</b><br>Layer: L07<br>Start: 21.930s<br>End: 51.380s<br>Duration: 29.450s",
          "<b>2</b><br>Layer: L07<br>Start: 63.590s<br>End: 91.880s<br>Duration: 28.290s",
          "<b>2</b><br>Layer: L07<br>Start: 166.310s<br>End: 177.210s<br>Duration: 10.900s",
          "<b>2</b><br>Layer: L08<br>Start: 33.380s<br>End: 51.380s<br>Duration: 18.000s",
          "<b>2</b><br>Layer: L08<br>Start: 75.150s<br>End: 91.880s<br>Duration: 16.730s",
          "<b>2</b><br>Layer: L08<br>Start: 166.310s<br>End: 179.120s<br>Duration: 12.810s",
          "<b>2</b><br>Layer: L09<br>Start: 32.750s<br>End: 51.380s<br>Duration: 18.630s",
          "<b>2</b><br>Layer: L09<br>Start: 75.150s<br>End: 91.880s<br>Duration: 16.730s",
          "<b>2</b><br>Layer: L09<br>Start: 166.310s<br>End: 179.120s<br>Duration: 12.810s",
          "<b>2</b><br>Layer: L10<br>Start: 32.750s<br>End: 53.960s<br>Duration: 21.210s",
          "<b>2</b><br>Layer: L10<br>Start: 75.150s<br>End: 91.880s<br>Duration: 16.730s",
          "<b>2</b><br>Layer: L10<br>Start: 166.310s<br>End: 178.470s<br>Duration: 12.160s",
          "<b>2</b><br>Layer: L11<br>Start: 32.120s<br>End: 52.680s<br>Duration: 20.560s",
          "<b>2</b><br>Layer: L11<br>Start: 75.150s<br>End: 91.880s<br>Duration: 16.730s",
          "<b>2</b><br>Layer: L12<br>Start: 33.380s<br>End: 52.680s<br>Duration: 19.300s",
          "<b>2</b><br>Layer: L12<br>Start: 75.150s<br>End: 91.250s<br>Duration: 16.100s"
         ],
         "hovertemplate": "%{customdata}<extra></extra>",
         "insidetextanchor": "middle",
         "marker": {
          "color": "#2CA02C",
          "line": {
           "color": "white",
           "width": 0.5
          },
          "pattern": {
           "fgcolor": "white",
           "fgopacity": 0.5,
           "shape": "",
           "solidity": 0.25
          }
         },
         "name": "2",
         "orientation": "h",
         "showlegend": true,
         "text": [
          "2",
          "2",
          "2",
          "2",
          "2",
          "2",
          "2",
          "2",
          "2",
          "2",
          "2",
          "2",
          "2",
          "2",
          "2",
          "2",
          "2",
          "2",
          "2",
          "2",
          "2",
          "2",
          "2",
          "2",
          "2",
          "2"
         ],
         "textposition": "inside",
         "type": "bar",
         "width": 1,
         "x": [
          30.740000000000002,
          30.189999999999998,
          32.03,
          31.489999999999995,
          12.810000000000002,
          30.75,
          29.549999999999997,
          12.810000000000002,
          31.380000000000003,
          28.289999999999992,
          29.450000000000003,
          28.289999999999992,
          10.900000000000006,
          18,
          16.72999999999999,
          12.810000000000002,
          18.630000000000003,
          16.72999999999999,
          12.810000000000002,
          21.21,
          16.72999999999999,
          12.159999999999997,
          20.560000000000002,
          16.72999999999999,
          19.299999999999997,
          16.099999999999994
         ],
         "y": [
          "L03",
          "L03",
          "L04",
          "L04",
          "L04",
          "L05",
          "L05",
          "L05",
          "L06",
          "L06",
          "L07",
          "L07",
          "L07",
          "L08",
          "L08",
          "L08",
          "L09",
          "L09",
          "L09",
          "L10",
          "L10",
          "L10",
          "L11",
          "L11",
          "L12",
          "L12"
         ]
        },
        {
         "base": [
          169.52,
          166.31,
          168.89
         ],
         "customdata": [
          "<b>5</b><br>Layer: L06<br>Start: 169.520s<br>End: 180.400s<br>Duration: 10.880s",
          "<b>5</b><br>Layer: L11<br>Start: 166.310s<br>End: 183.600s<br>Duration: 17.290s",
          "<b>5</b><br>Layer: L12<br>Start: 168.890s<br>End: 183.600s<br>Duration: 14.710s"
         ],
         "hovertemplate": "%{customdata}<extra></extra>",
         "insidetextanchor": "middle",
         "marker": {
          "color": "#D62728",
          "line": {
           "color": "white",
           "width": 0.5
          },
          "pattern": {
           "fgcolor": "white",
           "fgopacity": 0.5,
           "shape": "",
           "solidity": 0.25
          }
         },
         "name": "5",
         "orientation": "h",
         "showlegend": true,
         "text": [
          "5",
          "5",
          "5"
         ],
         "textposition": "inside",
         "type": "bar",
         "width": 1,
         "x": [
          10.879999999999995,
          17.289999999999992,
          14.710000000000008
         ],
         "y": [
          "L06",
          "L11",
          "L12"
         ]
        },
        {
         "base": [
          104.77,
          112.48,
          112.48,
          104.77,
          111.83,
          104.77
         ],
         "customdata": [
          "<b>6</b><br>Layer: L07<br>Start: 104.770s<br>End: 152.970s<br>Duration: 48.200s",
          "<b>6</b><br>Layer: L08<br>Start: 112.480s<br>End: 152.970s<br>Duration: 40.490s",
          "<b>6</b><br>Layer: L09<br>Start: 112.480s<br>End: 152.970s<br>Duration: 40.490s",
          "<b>6</b><br>Layer: L10<br>Start: 104.770s<br>End: 152.970s<br>Duration: 48.200s",
          "<b>6</b><br>Layer: L11<br>Start: 111.830s<br>End: 134.480s<br>Duration: 22.650s",
          "<b>6</b><br>Layer: L12<br>Start: 104.770s<br>End: 134.480s<br>Duration: 29.710s"
         ],
         "hovertemplate": "%{customdata}<extra></extra>",
         "insidetextanchor": "middle",
         "marker": {
          "color": "#9467BD",
          "line": {
           "color": "white",
           "width": 0.5
          },
          "pattern": {
           "fgcolor": "white",
           "fgopacity": 0.5,
           "shape": "",
           "solidity": 0.25
          }
         },
         "name": "6",
         "orientation": "h",
         "showlegend": true,
         "text": [
          "6",
          "6",
          "6",
          "6",
          "6",
          "6"
         ],
         "textposition": "inside",
         "type": "bar",
         "width": 1,
         "x": [
          48.2,
          40.489999999999995,
          40.489999999999995,
          48.2,
          22.64999999999999,
          29.709999999999994
         ],
         "y": [
          "L07",
          "L08",
          "L09",
          "L10",
          "L11",
          "L12"
         ]
        },
        {
         "base": [
          21.93,
          63.59,
          21.93,
          63.59,
          21.93,
          63.59,
          21.93,
          63.59,
          21.93,
          63.59
         ],
         "customdata": [
          "<b>7</b><br>Layer: L08<br>Start: 21.930s<br>End: 33.380s<br>Duration: 11.450s",
          "<b>7</b><br>Layer: L08<br>Start: 63.590s<br>End: 75.150s<br>Duration: 11.560s",
          "<b>7</b><br>Layer: L09<br>Start: 21.930s<br>End: 32.750s<br>Duration: 10.820s",
          "<b>7</b><br>Layer: L09<br>Start: 63.590s<br>End: 75.150s<br>Duration: 11.560s",
          "<b>7</b><br>Layer: L10<br>Start: 21.930s<br>End: 32.750s<br>Duration: 10.820s",
          "<b>7</b><br>Layer: L10<br>Start: 63.590s<br>End: 75.150s<br>Duration: 11.560s",
          "<b>7</b><br>Layer: L11<br>Start: 21.930s<br>End: 32.120s<br>Duration: 10.190s",
          "<b>7</b><br>Layer: L11<br>Start: 63.590s<br>End: 75.150s<br>Duration: 11.560s",
          "<b>7</b><br>Layer: L12<br>Start: 21.930s<br>End: 33.380s<br>Duration: 11.450s",
          "<b>7</b><br>Layer: L12<br>Start: 63.590s<br>End: 75.150s<br>Duration: 11.560s"
         ],
         "hovertemplate": "%{customdata}<extra></extra>",
         "insidetextanchor": "middle",
         "marker": {
          "color": "#8C564B",
          "line": {
           "color": "white",
           "width": 0.5
          },
          "pattern": {
           "fgcolor": "white",
           "fgopacity": 0.5,
           "shape": "",
           "solidity": 0.25
          }
         },
         "name": "7",
         "orientation": "h",
         "showlegend": true,
         "text": [
          "7",
          "7",
          "7",
          "7",
          "7",
          "7",
          "7",
          "7",
          "7",
          "7"
         ],
         "textposition": "inside",
         "type": "bar",
         "width": 1,
         "x": [
          11.450000000000003,
          11.560000000000002,
          10.82,
          11.560000000000002,
          10.82,
          11.560000000000002,
          10.189999999999998,
          11.560000000000002,
          11.450000000000003,
          11.560000000000002
         ],
         "y": [
          "L08",
          "L08",
          "L09",
          "L09",
          "L10",
          "L10",
          "L11",
          "L11",
          "L12",
          "L12"
         ]
        },
        {
         "base": [
          0,
          0,
          0,
          0
         ],
         "customdata": [
          "<b>8</b><br>Layer: L09<br>Start: 0.000s<br>End: 9.800s<br>Duration: 9.800s",
          "<b>8</b><br>Layer: L10<br>Start: 0.000s<br>End: 9.800s<br>Duration: 9.800s",
          "<b>8</b><br>Layer: L11<br>Start: 0.000s<br>End: 9.160s<br>Duration: 9.160s",
          "<b>8</b><br>Layer: L12<br>Start: 0.000s<br>End: 9.800s<br>Duration: 9.800s"
         ],
         "hovertemplate": "%{customdata}<extra></extra>",
         "insidetextanchor": "middle",
         "marker": {
          "color": "#E377C2",
          "line": {
           "color": "white",
           "width": 0.5
          },
          "pattern": {
           "fgcolor": "white",
           "fgopacity": 0.5,
           "shape": "",
           "solidity": 0.25
          }
         },
         "name": "8",
         "orientation": "h",
         "showlegend": true,
         "text": [
          "8",
          "8",
          "8",
          "8"
         ],
         "textposition": "inside",
         "type": "bar",
         "width": 1,
         "x": [
          9.8,
          9.8,
          9.16,
          9.8
         ],
         "y": [
          "L09",
          "L10",
          "L11",
          "L12"
         ]
        },
        {
         "base": [
          134.48,
          134.48
         ],
         "customdata": [
          "<b>9</b><br>Layer: L11<br>Start: 134.480s<br>End: 152.360s<br>Duration: 17.880s",
          "<b>9</b><br>Layer: L12<br>Start: 134.480s<br>End: 152.970s<br>Duration: 18.490s"
         ],
         "hovertemplate": "%{customdata}<extra></extra>",
         "insidetextanchor": "middle",
         "marker": {
          "color": "#7F7F7F",
          "line": {
           "color": "white",
           "width": 0.5
          },
          "pattern": {
           "fgcolor": "white",
           "fgopacity": 0.5,
           "shape": "",
           "solidity": 0.25
          }
         },
         "name": "9",
         "orientation": "h",
         "showlegend": true,
         "text": [
          "9",
          "9"
         ],
         "textposition": "inside",
         "type": "bar",
         "width": 1,
         "x": [
          17.880000000000024,
          18.49000000000001
         ],
         "y": [
          "L11",
          "L12"
         ]
        }
       ],
       "layout": {
        "barmode": "overlay",
        "height": 320,
        "margin": {
         "b": 20,
         "l": 20,
         "r": 20,
         "t": 40
        },
        "showlegend": false,
        "template": {
         "data": {
          "bar": [
           {
            "error_x": {
             "color": "#2a3f5f"
            },
            "error_y": {
             "color": "#2a3f5f"
            },
            "marker": {
             "line": {
              "color": "#E5ECF6",
              "width": 0.5
             },
             "pattern": {
              "fillmode": "overlay",
              "size": 10,
              "solidity": 0.2
             }
            },
            "type": "bar"
           }
          ],
          "barpolar": [
           {
            "marker": {
             "line": {
              "color": "#E5ECF6",
              "width": 0.5
             },
             "pattern": {
              "fillmode": "overlay",
              "size": 10,
              "solidity": 0.2
             }
            },
            "type": "barpolar"
           }
          ],
          "carpet": [
           {
            "aaxis": {
             "endlinecolor": "#2a3f5f",
             "gridcolor": "white",
             "linecolor": "white",
             "minorgridcolor": "white",
             "startlinecolor": "#2a3f5f"
            },
            "baxis": {
             "endlinecolor": "#2a3f5f",
             "gridcolor": "white",
             "linecolor": "white",
             "minorgridcolor": "white",
             "startlinecolor": "#2a3f5f"
            },
            "type": "carpet"
           }
          ],
          "choropleth": [
           {
            "colorbar": {
             "outlinewidth": 0,
             "ticks": ""
            },
            "type": "choropleth"
           }
          ],
          "contour": [
           {
            "colorbar": {
             "outlinewidth": 0,
             "ticks": ""
            },
            "colorscale": [
             [
              0,
              "#0d0887"
             ],
             [
              0.1111111111111111,
              "#46039f"
             ],
             [
              0.2222222222222222,
              "#7201a8"
             ],
             [
              0.3333333333333333,
              "#9c179e"
             ],
             [
              0.4444444444444444,
              "#bd3786"
             ],
             [
              0.5555555555555556,
              "#d8576b"
             ],
             [
              0.6666666666666666,
              "#ed7953"
             ],
             [
              0.7777777777777778,
              "#fb9f3a"
             ],
             [
              0.8888888888888888,
              "#fdca26"
             ],
             [
              1,
              "#f0f921"
             ]
            ],
            "type": "contour"
           }
          ],
          "contourcarpet": [
           {
            "colorbar": {
             "outlinewidth": 0,
             "ticks": ""
            },
            "type": "contourcarpet"
           }
          ],
          "heatmap": [
           {
            "colorbar": {
             "outlinewidth": 0,
             "ticks": ""
            },
            "colorscale": [
             [
              0,
              "#0d0887"
             ],
             [
              0.1111111111111111,
              "#46039f"
             ],
             [
              0.2222222222222222,
              "#7201a8"
             ],
             [
              0.3333333333333333,
              "#9c179e"
             ],
             [
              0.4444444444444444,
              "#bd3786"
             ],
             [
              0.5555555555555556,
              "#d8576b"
             ],
             [
              0.6666666666666666,
              "#ed7953"
             ],
             [
              0.7777777777777778,
              "#fb9f3a"
             ],
             [
              0.8888888888888888,
              "#fdca26"
             ],
             [
              1,
              "#f0f921"
             ]
            ],
            "type": "heatmap"
           }
          ],
          "histogram": [
           {
            "marker": {
             "pattern": {
              "fillmode": "overlay",
              "size": 10,
              "solidity": 0.2
             }
            },
            "type": "histogram"
           }
          ],
          "histogram2d": [
           {
            "colorbar": {
             "outlinewidth": 0,
             "ticks": ""
            },
            "colorscale": [
             [
              0,
              "#0d0887"
             ],
             [
              0.1111111111111111,
              "#46039f"
             ],
             [
              0.2222222222222222,
              "#7201a8"
             ],
             [
              0.3333333333333333,
              "#9c179e"
             ],
             [
              0.4444444444444444,
              "#bd3786"
             ],
             [
              0.5555555555555556,
              "#d8576b"
             ],
             [
              0.6666666666666666,
              "#ed7953"
             ],
             [
              0.7777777777777778,
              "#fb9f3a"
             ],
             [
              0.8888888888888888,
              "#fdca26"
             ],
             [
              1,
              "#f0f921"
             ]
            ],
            "type": "histogram2d"
           }
          ],
          "histogram2dcontour": [
           {
            "colorbar": {
             "outlinewidth": 0,
             "ticks": ""
            },
            "colorscale": [
             [
              0,
              "#0d0887"
             ],
             [
              0.1111111111111111,
              "#46039f"
             ],
             [
              0.2222222222222222,
              "#7201a8"
             ],
             [
              0.3333333333333333,
              "#9c179e"
             ],
             [
              0.4444444444444444,
              "#bd3786"
             ],
             [
              0.5555555555555556,
              "#d8576b"
             ],
             [
              0.6666666666666666,
              "#ed7953"
             ],
             [
              0.7777777777777778,
              "#fb9f3a"
             ],
             [
              0.8888888888888888,
              "#fdca26"
             ],
             [
              1,
              "#f0f921"
             ]
            ],
            "type": "histogram2dcontour"
           }
          ],
          "mesh3d": [
           {
            "colorbar": {
             "outlinewidth": 0,
             "ticks": ""
            },
            "type": "mesh3d"
           }
          ],
          "parcoords": [
           {
            "line": {
             "colorbar": {
              "outlinewidth": 0,
              "ticks": ""
             }
            },
            "type": "parcoords"
           }
          ],
          "pie": [
           {
            "automargin": true,
            "type": "pie"
           }
          ],
          "scatter": [
           {
            "fillpattern": {
             "fillmode": "overlay",
             "size": 10,
             "solidity": 0.2
            },
            "type": "scatter"
           }
          ],
          "scatter3d": [
           {
            "line": {
             "colorbar": {
              "outlinewidth": 0,
              "ticks": ""
             }
            },
            "marker": {
             "colorbar": {
              "outlinewidth": 0,
              "ticks": ""
             }
            },
            "type": "scatter3d"
           }
          ],
          "scattercarpet": [
           {
            "marker": {
             "colorbar": {
              "outlinewidth": 0,
              "ticks": ""
             }
            },
            "type": "scattercarpet"
           }
          ],
          "scattergeo": [
           {
            "marker": {
             "colorbar": {
              "outlinewidth": 0,
              "ticks": ""
             }
            },
            "type": "scattergeo"
           }
          ],
          "scattergl": [
           {
            "marker": {
             "colorbar": {
              "outlinewidth": 0,
              "ticks": ""
             }
            },
            "type": "scattergl"
           }
          ],
          "scattermap": [
           {
            "marker": {
             "colorbar": {
              "outlinewidth": 0,
              "ticks": ""
             }
            },
            "type": "scattermap"
           }
          ],
          "scattermapbox": [
           {
            "marker": {
             "colorbar": {
              "outlinewidth": 0,
              "ticks": ""
             }
            },
            "type": "scattermapbox"
           }
          ],
          "scatterpolar": [
           {
            "marker": {
             "colorbar": {
              "outlinewidth": 0,
              "ticks": ""
             }
            },
            "type": "scatterpolar"
           }
          ],
          "scatterpolargl": [
           {
            "marker": {
             "colorbar": {
              "outlinewidth": 0,
              "ticks": ""
             }
            },
            "type": "scatterpolargl"
           }
          ],
          "scatterternary": [
           {
            "marker": {
             "colorbar": {
              "outlinewidth": 0,
              "ticks": ""
             }
            },
            "type": "scatterternary"
           }
          ],
          "surface": [
           {
            "colorbar": {
             "outlinewidth": 0,
             "ticks": ""
            },
            "colorscale": [
             [
              0,
              "#0d0887"
             ],
             [
              0.1111111111111111,
              "#46039f"
             ],
             [
              0.2222222222222222,
              "#7201a8"
             ],
             [
              0.3333333333333333,
              "#9c179e"
             ],
             [
              0.4444444444444444,
              "#bd3786"
             ],
             [
              0.5555555555555556,
              "#d8576b"
             ],
             [
              0.6666666666666666,
              "#ed7953"
             ],
             [
              0.7777777777777778,
              "#fb9f3a"
             ],
             [
              0.8888888888888888,
              "#fdca26"
             ],
             [
              1,
              "#f0f921"
             ]
            ],
            "type": "surface"
           }
          ],
          "table": [
           {
            "cells": {
             "fill": {
              "color": "#EBF0F8"
             },
             "line": {
              "color": "white"
             }
            },
            "header": {
             "fill": {
              "color": "#C8D4E3"
             },
             "line": {
              "color": "white"
             }
            },
            "type": "table"
           }
          ]
         },
         "layout": {
          "annotationdefaults": {
           "arrowcolor": "#2a3f5f",
           "arrowhead": 0,
           "arrowwidth": 1
          },
          "autotypenumbers": "strict",
          "coloraxis": {
           "colorbar": {
            "outlinewidth": 0,
            "ticks": ""
           }
          },
          "colorscale": {
           "diverging": [
            [
             0,
             "#8e0152"
            ],
            [
             0.1,
             "#c51b7d"
            ],
            [
             0.2,
             "#de77ae"
            ],
            [
             0.3,
             "#f1b6da"
            ],
            [
             0.4,
             "#fde0ef"
            ],
            [
             0.5,
             "#f7f7f7"
            ],
            [
             0.6,
             "#e6f5d0"
            ],
            [
             0.7,
             "#b8e186"
            ],
            [
             0.8,
             "#7fbc41"
            ],
            [
             0.9,
             "#4d9221"
            ],
            [
             1,
             "#276419"
            ]
           ],
           "sequential": [
            [
             0,
             "#0d0887"
            ],
            [
             0.1111111111111111,
             "#46039f"
            ],
            [
             0.2222222222222222,
             "#7201a8"
            ],
            [
             0.3333333333333333,
             "#9c179e"
            ],
            [
             0.4444444444444444,
             "#bd3786"
            ],
            [
             0.5555555555555556,
             "#d8576b"
            ],
            [
             0.6666666666666666,
             "#ed7953"
            ],
            [
             0.7777777777777778,
             "#fb9f3a"
            ],
            [
             0.8888888888888888,
             "#fdca26"
            ],
            [
             1,
             "#f0f921"
            ]
           ],
           "sequentialminus": [
            [
             0,
             "#0d0887"
            ],
            [
             0.1111111111111111,
             "#46039f"
            ],
            [
             0.2222222222222222,
             "#7201a8"
            ],
            [
             0.3333333333333333,
             "#9c179e"
            ],
            [
             0.4444444444444444,
             "#bd3786"
            ],
            [
             0.5555555555555556,
             "#d8576b"
            ],
            [
             0.6666666666666666,
             "#ed7953"
            ],
            [
             0.7777777777777778,
             "#fb9f3a"
            ],
            [
             0.8888888888888888,
             "#fdca26"
            ],
            [
             1,
             "#f0f921"
            ]
           ]
          },
          "colorway": [
           "#636efa",
           "#EF553B",
           "#00cc96",
           "#ab63fa",
           "#FFA15A",
           "#19d3f3",
           "#FF6692",
           "#B6E880",
           "#FF97FF",
           "#FECB52"
          ],
          "font": {
           "color": "#2a3f5f"
          },
          "geo": {
           "bgcolor": "white",
           "lakecolor": "white",
           "landcolor": "#E5ECF6",
           "showlakes": true,
           "showland": true,
           "subunitcolor": "white"
          },
          "hoverlabel": {
           "align": "left"
          },
          "hovermode": "closest",
          "mapbox": {
           "style": "light"
          },
          "paper_bgcolor": "white",
          "plot_bgcolor": "#E5ECF6",
          "polar": {
           "angularaxis": {
            "gridcolor": "white",
            "linecolor": "white",
            "ticks": ""
           },
           "bgcolor": "#E5ECF6",
           "radialaxis": {
            "gridcolor": "white",
            "linecolor": "white",
            "ticks": ""
           }
          },
          "scene": {
           "xaxis": {
            "backgroundcolor": "#E5ECF6",
            "gridcolor": "white",
            "gridwidth": 2,
            "linecolor": "white",
            "showbackground": true,
            "ticks": "",
            "zerolinecolor": "white"
           },
           "yaxis": {
            "backgroundcolor": "#E5ECF6",
            "gridcolor": "white",
            "gridwidth": 2,
            "linecolor": "white",
            "showbackground": true,
            "ticks": "",
            "zerolinecolor": "white"
           },
           "zaxis": {
            "backgroundcolor": "#E5ECF6",
            "gridcolor": "white",
            "gridwidth": 2,
            "linecolor": "white",
            "showbackground": true,
            "ticks": "",
            "zerolinecolor": "white"
           }
          },
          "shapedefaults": {
           "line": {
            "color": "#2a3f5f"
           }
          },
          "ternary": {
           "aaxis": {
            "gridcolor": "white",
            "linecolor": "white",
            "ticks": ""
           },
           "baxis": {
            "gridcolor": "white",
            "linecolor": "white",
            "ticks": ""
           },
           "bgcolor": "#E5ECF6",
           "caxis": {
            "gridcolor": "white",
            "linecolor": "white",
            "ticks": ""
           }
          },
          "title": {
           "x": 0.05
          },
          "xaxis": {
           "automargin": true,
           "gridcolor": "white",
           "linecolor": "white",
           "ticks": "",
           "title": {
            "standoff": 15
           },
           "zerolinecolor": "white",
           "zerolinewidth": 2
          },
          "yaxis": {
           "automargin": true,
           "gridcolor": "white",
           "linecolor": "white",
           "ticks": "",
           "title": {
            "standoff": 15
           },
           "zerolinecolor": "white",
           "zerolinewidth": 2
          }
         }
        },
        "title": {
         "text": "adobe-mu5gamma5",
         "x": 0.5
        },
        "width": 650,
        "xaxis": {
         "range": [
          0,
          222.04082
         ],
         "title": {
          "text": "Time (s)"
         }
        },
        "yaxis": {
         "categoryarray": [
          "L12",
          "L11",
          "L10",
          "L09",
          "L08",
          "L07",
          "L06",
          "L05",
          "L04",
          "L03"
         ],
         "categoryorder": "array",
         "title": {}
        }
       }
      }
     },
     "metadata": {},
     "output_type": "display_data"
    },
    {
     "data": {
      "application/vnd.plotly.v1+json": {
       "config": {
        "plotlyServerURL": "https://plot.ly"
       },
       "data": [
        {
         "base": [
          0,
          103.47,
          190.65,
          0,
          104.14,
          191.31,
          0,
          104.77,
          191.95,
          0,
          104.77,
          191.95,
          0,
          191.95,
          0,
          191.31,
          191.31,
          191.31,
          183.6,
          183.6
         ],
         "customdata": [
          "<b>0</b><br>Layer: L01<br>Start: 0.000s<br>End: 11.060s<br>Duration: 11.060s",
          "<b>0</b><br>Layer: L01<br>Start: 103.470s<br>End: 153.600s<br>Duration: 50.130s",
          "<b>0</b><br>Layer: L01<br>Start: 190.650s<br>End: 222.041s<br>Duration: 31.391s",
          "<b>0</b><br>Layer: L02<br>Start: 0.000s<br>End: 12.350s<br>Duration: 12.350s",
          "<b>0</b><br>Layer: L02<br>Start: 104.140s<br>End: 152.970s<br>Duration: 48.830s",
          "<b>0</b><br>Layer: L02<br>Start: 191.310s<br>End: 222.041s<br>Duration: 30.731s",
          "<b>0</b><br>Layer: L03<br>Start: 0.000s<br>End: 11.060s<br>Duration: 11.060s",
          "<b>0</b><br>Layer: L03<br>Start: 104.770s<br>End: 152.970s<br>Duration: 48.200s",
          "<b>0</b><br>Layer: L03<br>Start: 191.950s<br>End: 222.041s<br>Duration: 30.091s",
          "<b>0</b><br>Layer: L04<br>Start: 0.000s<br>End: 11.060s<br>Duration: 11.060s",
          "<b>0</b><br>Layer: L04<br>Start: 104.770s<br>End: 152.970s<br>Duration: 48.200s",
          "<b>0</b><br>Layer: L04<br>Start: 191.950s<br>End: 222.041s<br>Duration: 30.091s",
          "<b>0</b><br>Layer: L05<br>Start: 0.000s<br>End: 9.800s<br>Duration: 9.800s",
          "<b>0</b><br>Layer: L05<br>Start: 191.950s<br>End: 222.041s<br>Duration: 30.091s",
          "<b>0</b><br>Layer: L06<br>Start: 0.000s<br>End: 9.160s<br>Duration: 9.160s",
          "<b>0</b><br>Layer: L06<br>Start: 191.310s<br>End: 222.041s<br>Duration: 30.731s",
          "<b>0</b><br>Layer: L07<br>Start: 191.310s<br>End: 222.041s<br>Duration: 30.731s",
          "<b>0</b><br>Layer: L08<br>Start: 191.310s<br>End: 222.041s<br>Duration: 30.731s",
          "<b>0</b><br>Layer: L09<br>Start: 183.600s<br>End: 222.041s<br>Duration: 38.441s",
          "<b>0</b><br>Layer: L10<br>Start: 183.600s<br>End: 222.041s<br>Duration: 38.441s"
         ],
         "hovertemplate": "%{customdata}<extra></extra>",
         "insidetextanchor": "middle",
         "marker": {
          "color": "#1F77B4",
          "line": {
           "color": "white",
           "width": 0.5
          },
          "pattern": {
           "fgcolor": "white",
           "fgopacity": 0.5,
           "shape": "",
           "solidity": 0.25
          }
         },
         "name": "0",
         "orientation": "h",
         "showlegend": true,
         "text": [
          "0",
          "0",
          "0",
          "0",
          "0",
          "0",
          "0",
          "0",
          "0",
          "0",
          "0",
          "0",
          "0",
          "0",
          "0",
          "0",
          "0",
          "0",
          "0",
          "0"
         ],
         "textposition": "inside",
         "type": "bar",
         "width": 1,
         "x": [
          11.06,
          50.129999999999995,
          31.39081999999999,
          12.35,
          48.83,
          30.730819999999994,
          11.06,
          48.2,
          30.090820000000008,
          11.06,
          48.2,
          30.090820000000008,
          9.8,
          30.090820000000008,
          9.16,
          30.730819999999994,
          30.730819999999994,
          30.730819999999994,
          38.44082,
          38.44082
         ],
         "y": [
          "L01",
          "L01",
          "L01",
          "L02",
          "L02",
          "L02",
          "L03",
          "L03",
          "L03",
          "L04",
          "L04",
          "L04",
          "L05",
          "L05",
          "L06",
          "L06",
          "L07",
          "L08",
          "L09",
          "L10"
         ]
        },
        {
         "base": [
          11.06,
          52.02,
          92.5,
          153.6,
          12.35,
          53.96,
          94.44,
          152.97,
          179.12,
          11.06,
          52.68,
          93.14,
          152.97,
          179.12,
          11.06,
          53.31,
          91.88,
          152.97,
          180.4,
          9.8,
          51.38,
          91.88,
          152.97,
          177.21,
          9.16,
          51.38,
          91.88,
          152.97,
          179.12,
          9.8,
          51.38,
          91.88,
          152.97,
          179.12,
          9.8,
          53.96,
          91.88,
          152.97,
          178.47,
          9.16,
          52.68,
          91.88,
          152.36,
          9.8,
          52.68,
          91.25,
          152.97
         ],
         "customdata": [
          "<b>1</b><br>Layer: L01<br>Start: 11.060s<br>End: 21.280s<br>Duration: 10.220s",
          "<b>1</b><br>Layer: L01<br>Start: 52.020s<br>End: 62.310s<br>Duration: 10.290s",
          "<b>1</b><br>Layer: L01<br>Start: 92.500s<br>End: 103.470s<br>Duration: 10.970s",
          "<b>1</b><br>Layer: L01<br>Start: 153.600s<br>End: 190.650s<br>Duration: 37.050s",
          "<b>1</b><br>Layer: L02<br>Start: 12.350s<br>End: 21.930s<br>Duration: 9.580s",
          "<b>1</b><br>Layer: L02<br>Start: 53.960s<br>End: 62.950s<br>Duration: 8.990s",
          "<b>1</b><br>Layer: L02<br>Start: 94.440s<br>End: 104.140s<br>Duration: 9.700s",
          "<b>1</b><br>Layer: L02<br>Start: 152.970s<br>End: 166.310s<br>Duration: 13.340s",
          "<b>1</b><br>Layer: L02<br>Start: 179.120s<br>End: 191.310s<br>Duration: 12.190s",
          "<b>1</b><br>Layer: L03<br>Start: 11.060s<br>End: 21.930s<br>Duration: 10.870s",
          "<b>1</b><br>Layer: L03<br>Start: 52.680s<br>End: 63.590s<br>Duration: 10.910s",
          "<b>1</b><br>Layer: L03<br>Start: 93.140s<br>End: 104.770s<br>Duration: 11.630s",
          "<b>1</b><br>Layer: L03<br>Start: 152.970s<br>End: 166.310s<br>Duration: 13.340s",
          "<b>1</b><br>Layer: L03<br>Start: 179.120s<br>End: 191.950s<br>Duration: 12.830s",
          "<b>1</b><br>Layer: L04<br>Start: 11.060s<br>End: 21.930s<br>Duration: 10.870s",
          "<b>1</b><br>Layer: L04<br>Start: 53.310s<br>End: 63.590s<br>Duration: 10.280s",
          "<b>1</b><br>Layer: L04<br>Start: 91.880s<br>End: 104.770s<br>Duration: 12.890s",
          "<b>1</b><br>Layer: L04<br>Start: 152.970s<br>End: 169.520s<br>Duration: 16.550s",
          "<b>1</b><br>Layer: L04<br>Start: 180.400s<br>End: 191.950s<br>Duration: 11.550s",
          "<b>1</b><br>Layer: L05<br>Start: 9.800s<br>End: 21.930s<br>Duration: 12.130s",
          "<b>1</b><br>Layer: L05<br>Start: 51.380s<br>End: 63.590s<br>Duration: 12.210s",
          "<b>1</b><br>Layer: L05<br>Start: 91.880s<br>End: 104.770s<br>Duration: 12.890s",
          "<b>1</b><br>Layer: L05<br>Start: 152.970s<br>End: 166.310s<br>Duration: 13.340s",
          "<b>1</b><br>Layer: L05<br>Start: 177.210s<br>End: 191.950s<br>Duration: 14.740s",
          "<b>1</b><br>Layer: L06<br>Start: 9.160s<br>End: 21.930s<br>Duration: 12.770s",
          "<b>1</b><br>Layer: L06<br>Start: 51.380s<br>End: 63.590s<br>Duration: 12.210s",
          "<b>1</b><br>Layer: L06<br>Start: 91.880s<br>End: 112.480s<br>Duration: 20.600s",
          "<b>1</b><br>Layer: L06<br>Start: 152.970s<br>End: 166.310s<br>Duration: 13.340s",
          "<b>1</b><br>Layer: L06<br>Start: 179.120s<br>End: 191.310s<br>Duration: 12.190s",
          "<b>1</b><br>Layer: L07<br>Start: 9.800s<br>End: 21.930s<br>Duration: 12.130s",
          "<b>1</b><br>Layer: L07<br>Start: 51.380s<br>End: 63.590s<br>Duration: 12.210s",
          "<b>1</b><br>Layer: L07<br>Start: 91.880s<br>End: 112.480s<br>Duration: 20.600s",
          "<b>1</b><br>Layer: L07<br>Start: 152.970s<br>End: 166.310s<br>Duration: 13.340s",
          "<b>1</b><br>Layer: L07<br>Start: 179.120s<br>End: 191.310s<br>Duration: 12.190s",
          "<b>1</b><br>Layer: L08<br>Start: 9.800s<br>End: 21.930s<br>Duration: 12.130s",
          "<b>1</b><br>Layer: L08<br>Start: 53.960s<br>End: 63.590s<br>Duration: 9.630s",
          "<b>1</b><br>Layer: L08<br>Start: 91.880s<br>End: 104.770s<br>Duration: 12.890s",
          "<b>1</b><br>Layer: L08<br>Start: 152.970s<br>End: 166.310s<br>Duration: 13.340s",
          "<b>1</b><br>Layer: L08<br>Start: 178.470s<br>End: 191.310s<br>Duration: 12.840s",
          "<b>1</b><br>Layer: L09<br>Start: 9.160s<br>End: 21.930s<br>Duration: 12.770s",
          "<b>1</b><br>Layer: L09<br>Start: 52.680s<br>End: 63.590s<br>Duration: 10.910s",
          "<b>1</b><br>Layer: L09<br>Start: 91.880s<br>End: 111.830s<br>Duration: 19.950s",
          "<b>1</b><br>Layer: L09<br>Start: 152.360s<br>End: 166.310s<br>Duration: 13.950s",
          "<b>1</b><br>Layer: L10<br>Start: 9.800s<br>End: 21.930s<br>Duration: 12.130s",
          "<b>1</b><br>Layer: L10<br>Start: 52.680s<br>End: 63.590s<br>Duration: 10.910s",
          "<b>1</b><br>Layer: L10<br>Start: 91.250s<br>End: 104.770s<br>Duration: 13.520s",
          "<b>1</b><br>Layer: L10<br>Start: 152.970s<br>End: 168.890s<br>Duration: 15.920s"
         ],
         "hovertemplate": "%{customdata}<extra></extra>",
         "insidetextanchor": "middle",
         "marker": {
          "color": "#FF7F0E",
          "line": {
           "color": "white",
           "width": 0.5
          },
          "pattern": {
           "fgcolor": "white",
           "fgopacity": 0.5,
           "shape": "",
           "solidity": 0.25
          }
         },
         "name": "1",
         "orientation": "h",
         "showlegend": true,
         "text": [
          "1",
          "1",
          "1",
          "1",
          "1",
          "1",
          "1",
          "1",
          "1",
          "1",
          "1",
          "1",
          "1",
          "1",
          "1",
          "1",
          "1",
          "1",
          "1",
          "1",
          "1",
          "1",
          "1",
          "1",
          "1",
          "1",
          "1",
          "1",
          "1",
          "1",
          "1",
          "1",
          "1",
          "1",
          "1",
          "1",
          "1",
          "1",
          "1",
          "1",
          "1",
          "1",
          "1",
          "1",
          "1",
          "1",
          "1"
         ],
         "textposition": "inside",
         "type": "bar",
         "width": 1,
         "x": [
          10.22,
          10.29,
          10.969999999999999,
          37.05000000000001,
          9.58,
          8.990000000000002,
          9.700000000000003,
          13.340000000000003,
          12.189999999999998,
          10.87,
          10.910000000000004,
          11.629999999999995,
          13.340000000000003,
          12.829999999999984,
          10.87,
          10.280000000000001,
          12.89,
          16.55000000000001,
          11.549999999999983,
          12.129999999999999,
          12.21,
          12.89,
          13.340000000000003,
          14.73999999999998,
          12.77,
          12.21,
          20.60000000000001,
          13.340000000000003,
          12.189999999999998,
          12.129999999999999,
          12.21,
          20.60000000000001,
          13.340000000000003,
          12.189999999999998,
          12.129999999999999,
          9.630000000000003,
          12.89,
          13.340000000000003,
          12.840000000000003,
          12.77,
          10.910000000000004,
          19.950000000000003,
          13.949999999999989,
          12.129999999999999,
          10.910000000000004,
          13.519999999999996,
          15.919999999999987
         ],
         "y": [
          "L01",
          "L01",
          "L01",
          "L01",
          "L02",
          "L02",
          "L02",
          "L02",
          "L02",
          "L03",
          "L03",
          "L03",
          "L03",
          "L03",
          "L04",
          "L04",
          "L04",
          "L04",
          "L04",
          "L05",
          "L05",
          "L05",
          "L05",
          "L05",
          "L06",
          "L06",
          "L06",
          "L06",
          "L06",
          "L07",
          "L07",
          "L07",
          "L07",
          "L07",
          "L08",
          "L08",
          "L08",
          "L08",
          "L08",
          "L09",
          "L09",
          "L09",
          "L09",
          "L10",
          "L10",
          "L10",
          "L10"
         ]
        },
        {
         "base": [
          21.28,
          62.31,
          21.93,
          62.95,
          166.31,
          21.93,
          63.59,
          166.31,
          21.93,
          63.59,
          21.93,
          63.59,
          166.31,
          33.38,
          75.15,
          166.31,
          32.75,
          75.15,
          166.31,
          32.75,
          75.15,
          166.31,
          32.12,
          75.15,
          33.38,
          75.15
         ],
         "customdata": [
          "<b>2</b><br>Layer: L01<br>Start: 21.280s<br>End: 52.020s<br>Duration: 30.740s",
          "<b>2</b><br>Layer: L01<br>Start: 62.310s<br>End: 92.500s<br>Duration: 30.190s",
          "<b>2</b><br>Layer: L02<br>Start: 21.930s<br>End: 53.960s<br>Duration: 32.030s",
          "<b>2</b><br>Layer: L02<br>Start: 62.950s<br>End: 94.440s<br>Duration: 31.490s",
          "<b>2</b><br>Layer: L02<br>Start: 166.310s<br>End: 179.120s<br>Duration: 12.810s",
          "<b>2</b><br>Layer: L03<br>Start: 21.930s<br>End: 52.680s<br>Duration: 30.750s",
          "<b>2</b><br>Layer: L03<br>Start: 63.590s<br>End: 93.140s<br>Duration: 29.550s",
          "<b>2</b><br>Layer: L03<br>Start: 166.310s<br>End: 179.120s<br>Duration: 12.810s",
          "<b>2</b><br>Layer: L04<br>Start: 21.930s<br>End: 53.310s<br>Duration: 31.380s",
          "<b>2</b><br>Layer: L04<br>Start: 63.590s<br>End: 91.880s<br>Duration: 28.290s",
          "<b>2</b><br>Layer: L05<br>Start: 21.930s<br>End: 51.380s<br>Duration: 29.450s",
          "<b>2</b><br>Layer: L05<br>Start: 63.590s<br>End: 91.880s<br>Duration: 28.290s",
          "<b>2</b><br>Layer: L05<br>Start: 166.310s<br>End: 177.210s<br>Duration: 10.900s",
          "<b>2</b><br>Layer: L06<br>Start: 33.380s<br>End: 51.380s<br>Duration: 18.000s",
          "<b>2</b><br>Layer: L06<br>Start: 75.150s<br>End: 91.880s<br>Duration: 16.730s",
          "<b>2</b><br>Layer: L06<br>Start: 166.310s<br>End: 179.120s<br>Duration: 12.810s",
          "<b>2</b><br>Layer: L07<br>Start: 32.750s<br>End: 51.380s<br>Duration: 18.630s",
          "<b>2</b><br>Layer: L07<br>Start: 75.150s<br>End: 91.880s<br>Duration: 16.730s",
          "<b>2</b><br>Layer: L07<br>Start: 166.310s<br>End: 179.120s<br>Duration: 12.810s",
          "<b>2</b><br>Layer: L08<br>Start: 32.750s<br>End: 53.960s<br>Duration: 21.210s",
          "<b>2</b><br>Layer: L08<br>Start: 75.150s<br>End: 91.880s<br>Duration: 16.730s",
          "<b>2</b><br>Layer: L08<br>Start: 166.310s<br>End: 178.470s<br>Duration: 12.160s",
          "<b>2</b><br>Layer: L09<br>Start: 32.120s<br>End: 52.680s<br>Duration: 20.560s",
          "<b>2</b><br>Layer: L09<br>Start: 75.150s<br>End: 91.880s<br>Duration: 16.730s",
          "<b>2</b><br>Layer: L10<br>Start: 33.380s<br>End: 52.680s<br>Duration: 19.300s",
          "<b>2</b><br>Layer: L10<br>Start: 75.150s<br>End: 91.250s<br>Duration: 16.100s"
         ],
         "hovertemplate": "%{customdata}<extra></extra>",
         "insidetextanchor": "middle",
         "marker": {
          "color": "#2CA02C",
          "line": {
           "color": "white",
           "width": 0.5
          },
          "pattern": {
           "fgcolor": "white",
           "fgopacity": 0.5,
           "shape": "",
           "solidity": 0.25
          }
         },
         "name": "2",
         "orientation": "h",
         "showlegend": true,
         "text": [
          "2",
          "2",
          "2",
          "2",
          "2",
          "2",
          "2",
          "2",
          "2",
          "2",
          "2",
          "2",
          "2",
          "2",
          "2",
          "2",
          "2",
          "2",
          "2",
          "2",
          "2",
          "2",
          "2",
          "2",
          "2",
          "2"
         ],
         "textposition": "inside",
         "type": "bar",
         "width": 1,
         "x": [
          30.740000000000002,
          30.189999999999998,
          32.03,
          31.489999999999995,
          12.810000000000002,
          30.75,
          29.549999999999997,
          12.810000000000002,
          31.380000000000003,
          28.289999999999992,
          29.450000000000003,
          28.289999999999992,
          10.900000000000006,
          18,
          16.72999999999999,
          12.810000000000002,
          18.630000000000003,
          16.72999999999999,
          12.810000000000002,
          21.21,
          16.72999999999999,
          12.159999999999997,
          20.560000000000002,
          16.72999999999999,
          19.299999999999997,
          16.099999999999994
         ],
         "y": [
          "L01",
          "L01",
          "L02",
          "L02",
          "L02",
          "L03",
          "L03",
          "L03",
          "L04",
          "L04",
          "L05",
          "L05",
          "L05",
          "L06",
          "L06",
          "L06",
          "L07",
          "L07",
          "L07",
          "L08",
          "L08",
          "L08",
          "L09",
          "L09",
          "L10",
          "L10"
         ]
        },
        {
         "base": [
          169.52,
          166.31,
          168.89
         ],
         "customdata": [
          "<b>5</b><br>Layer: L04<br>Start: 169.520s<br>End: 180.400s<br>Duration: 10.880s",
          "<b>5</b><br>Layer: L09<br>Start: 166.310s<br>End: 183.600s<br>Duration: 17.290s",
          "<b>5</b><br>Layer: L10<br>Start: 168.890s<br>End: 183.600s<br>Duration: 14.710s"
         ],
         "hovertemplate": "%{customdata}<extra></extra>",
         "insidetextanchor": "middle",
         "marker": {
          "color": "#D62728",
          "line": {
           "color": "white",
           "width": 0.5
          },
          "pattern": {
           "fgcolor": "white",
           "fgopacity": 0.5,
           "shape": "",
           "solidity": 0.25
          }
         },
         "name": "5",
         "orientation": "h",
         "showlegend": true,
         "text": [
          "5",
          "5",
          "5"
         ],
         "textposition": "inside",
         "type": "bar",
         "width": 1,
         "x": [
          10.879999999999995,
          17.289999999999992,
          14.710000000000008
         ],
         "y": [
          "L04",
          "L09",
          "L10"
         ]
        },
        {
         "base": [
          104.77,
          112.48,
          112.48,
          104.77,
          111.83,
          104.77
         ],
         "customdata": [
          "<b>6</b><br>Layer: L05<br>Start: 104.770s<br>End: 152.970s<br>Duration: 48.200s",
          "<b>6</b><br>Layer: L06<br>Start: 112.480s<br>End: 152.970s<br>Duration: 40.490s",
          "<b>6</b><br>Layer: L07<br>Start: 112.480s<br>End: 152.970s<br>Duration: 40.490s",
          "<b>6</b><br>Layer: L08<br>Start: 104.770s<br>End: 152.970s<br>Duration: 48.200s",
          "<b>6</b><br>Layer: L09<br>Start: 111.830s<br>End: 134.480s<br>Duration: 22.650s",
          "<b>6</b><br>Layer: L10<br>Start: 104.770s<br>End: 134.480s<br>Duration: 29.710s"
         ],
         "hovertemplate": "%{customdata}<extra></extra>",
         "insidetextanchor": "middle",
         "marker": {
          "color": "#9467BD",
          "line": {
           "color": "white",
           "width": 0.5
          },
          "pattern": {
           "fgcolor": "white",
           "fgopacity": 0.5,
           "shape": "",
           "solidity": 0.25
          }
         },
         "name": "6",
         "orientation": "h",
         "showlegend": true,
         "text": [
          "6",
          "6",
          "6",
          "6",
          "6",
          "6"
         ],
         "textposition": "inside",
         "type": "bar",
         "width": 1,
         "x": [
          48.2,
          40.489999999999995,
          40.489999999999995,
          48.2,
          22.64999999999999,
          29.709999999999994
         ],
         "y": [
          "L05",
          "L06",
          "L07",
          "L08",
          "L09",
          "L10"
         ]
        },
        {
         "base": [
          21.93,
          63.59,
          21.93,
          63.59,
          21.93,
          63.59,
          21.93,
          63.59,
          21.93,
          63.59
         ],
         "customdata": [
          "<b>7</b><br>Layer: L06<br>Start: 21.930s<br>End: 33.380s<br>Duration: 11.450s",
          "<b>7</b><br>Layer: L06<br>Start: 63.590s<br>End: 75.150s<br>Duration: 11.560s",
          "<b>7</b><br>Layer: L07<br>Start: 21.930s<br>End: 32.750s<br>Duration: 10.820s",
          "<b>7</b><br>Layer: L07<br>Start: 63.590s<br>End: 75.150s<br>Duration: 11.560s",
          "<b>7</b><br>Layer: L08<br>Start: 21.930s<br>End: 32.750s<br>Duration: 10.820s",
          "<b>7</b><br>Layer: L08<br>Start: 63.590s<br>End: 75.150s<br>Duration: 11.560s",
          "<b>7</b><br>Layer: L09<br>Start: 21.930s<br>End: 32.120s<br>Duration: 10.190s",
          "<b>7</b><br>Layer: L09<br>Start: 63.590s<br>End: 75.150s<br>Duration: 11.560s",
          "<b>7</b><br>Layer: L10<br>Start: 21.930s<br>End: 33.380s<br>Duration: 11.450s",
          "<b>7</b><br>Layer: L10<br>Start: 63.590s<br>End: 75.150s<br>Duration: 11.560s"
         ],
         "hovertemplate": "%{customdata}<extra></extra>",
         "insidetextanchor": "middle",
         "marker": {
          "color": "#8C564B",
          "line": {
           "color": "white",
           "width": 0.5
          },
          "pattern": {
           "fgcolor": "white",
           "fgopacity": 0.5,
           "shape": "",
           "solidity": 0.25
          }
         },
         "name": "7",
         "orientation": "h",
         "showlegend": true,
         "text": [
          "7",
          "7",
          "7",
          "7",
          "7",
          "7",
          "7",
          "7",
          "7",
          "7"
         ],
         "textposition": "inside",
         "type": "bar",
         "width": 1,
         "x": [
          11.450000000000003,
          11.560000000000002,
          10.82,
          11.560000000000002,
          10.82,
          11.560000000000002,
          10.189999999999998,
          11.560000000000002,
          11.450000000000003,
          11.560000000000002
         ],
         "y": [
          "L06",
          "L06",
          "L07",
          "L07",
          "L08",
          "L08",
          "L09",
          "L09",
          "L10",
          "L10"
         ]
        },
        {
         "base": [
          0,
          0,
          0,
          0
         ],
         "customdata": [
          "<b>8</b><br>Layer: L07<br>Start: 0.000s<br>End: 9.800s<br>Duration: 9.800s",
          "<b>8</b><br>Layer: L08<br>Start: 0.000s<br>End: 9.800s<br>Duration: 9.800s",
          "<b>8</b><br>Layer: L09<br>Start: 0.000s<br>End: 9.160s<br>Duration: 9.160s",
          "<b>8</b><br>Layer: L10<br>Start: 0.000s<br>End: 9.800s<br>Duration: 9.800s"
         ],
         "hovertemplate": "%{customdata}<extra></extra>",
         "insidetextanchor": "middle",
         "marker": {
          "color": "#E377C2",
          "line": {
           "color": "white",
           "width": 0.5
          },
          "pattern": {
           "fgcolor": "white",
           "fgopacity": 0.5,
           "shape": "",
           "solidity": 0.25
          }
         },
         "name": "8",
         "orientation": "h",
         "showlegend": true,
         "text": [
          "8",
          "8",
          "8",
          "8"
         ],
         "textposition": "inside",
         "type": "bar",
         "width": 1,
         "x": [
          9.8,
          9.8,
          9.16,
          9.8
         ],
         "y": [
          "L07",
          "L08",
          "L09",
          "L10"
         ]
        },
        {
         "base": [
          134.48,
          134.48
         ],
         "customdata": [
          "<b>9</b><br>Layer: L09<br>Start: 134.480s<br>End: 152.360s<br>Duration: 17.880s",
          "<b>9</b><br>Layer: L10<br>Start: 134.480s<br>End: 152.970s<br>Duration: 18.490s"
         ],
         "hovertemplate": "%{customdata}<extra></extra>",
         "insidetextanchor": "middle",
         "marker": {
          "color": "#7F7F7F",
          "line": {
           "color": "white",
           "width": 0.5
          },
          "pattern": {
           "fgcolor": "white",
           "fgopacity": 0.5,
           "shape": "",
           "solidity": 0.25
          }
         },
         "name": "9",
         "orientation": "h",
         "showlegend": true,
         "text": [
          "9",
          "9"
         ],
         "textposition": "inside",
         "type": "bar",
         "width": 1,
         "x": [
          17.880000000000024,
          18.49000000000001
         ],
         "y": [
          "L09",
          "L10"
         ]
        }
       ],
       "layout": {
        "barmode": "overlay",
        "height": 320,
        "margin": {
         "b": 20,
         "l": 20,
         "r": 20,
         "t": 40
        },
        "showlegend": false,
        "template": {
         "data": {
          "bar": [
           {
            "error_x": {
             "color": "#2a3f5f"
            },
            "error_y": {
             "color": "#2a3f5f"
            },
            "marker": {
             "line": {
              "color": "#E5ECF6",
              "width": 0.5
             },
             "pattern": {
              "fillmode": "overlay",
              "size": 10,
              "solidity": 0.2
             }
            },
            "type": "bar"
           }
          ],
          "barpolar": [
           {
            "marker": {
             "line": {
              "color": "#E5ECF6",
              "width": 0.5
             },
             "pattern": {
              "fillmode": "overlay",
              "size": 10,
              "solidity": 0.2
             }
            },
            "type": "barpolar"
           }
          ],
          "carpet": [
           {
            "aaxis": {
             "endlinecolor": "#2a3f5f",
             "gridcolor": "white",
             "linecolor": "white",
             "minorgridcolor": "white",
             "startlinecolor": "#2a3f5f"
            },
            "baxis": {
             "endlinecolor": "#2a3f5f",
             "gridcolor": "white",
             "linecolor": "white",
             "minorgridcolor": "white",
             "startlinecolor": "#2a3f5f"
            },
            "type": "carpet"
           }
          ],
          "choropleth": [
           {
            "colorbar": {
             "outlinewidth": 0,
             "ticks": ""
            },
            "type": "choropleth"
           }
          ],
          "contour": [
           {
            "colorbar": {
             "outlinewidth": 0,
             "ticks": ""
            },
            "colorscale": [
             [
              0,
              "#0d0887"
             ],
             [
              0.1111111111111111,
              "#46039f"
             ],
             [
              0.2222222222222222,
              "#7201a8"
             ],
             [
              0.3333333333333333,
              "#9c179e"
             ],
             [
              0.4444444444444444,
              "#bd3786"
             ],
             [
              0.5555555555555556,
              "#d8576b"
             ],
             [
              0.6666666666666666,
              "#ed7953"
             ],
             [
              0.7777777777777778,
              "#fb9f3a"
             ],
             [
              0.8888888888888888,
              "#fdca26"
             ],
             [
              1,
              "#f0f921"
             ]
            ],
            "type": "contour"
           }
          ],
          "contourcarpet": [
           {
            "colorbar": {
             "outlinewidth": 0,
             "ticks": ""
            },
            "type": "contourcarpet"
           }
          ],
          "heatmap": [
           {
            "colorbar": {
             "outlinewidth": 0,
             "ticks": ""
            },
            "colorscale": [
             [
              0,
              "#0d0887"
             ],
             [
              0.1111111111111111,
              "#46039f"
             ],
             [
              0.2222222222222222,
              "#7201a8"
             ],
             [
              0.3333333333333333,
              "#9c179e"
             ],
             [
              0.4444444444444444,
              "#bd3786"
             ],
             [
              0.5555555555555556,
              "#d8576b"
             ],
             [
              0.6666666666666666,
              "#ed7953"
             ],
             [
              0.7777777777777778,
              "#fb9f3a"
             ],
             [
              0.8888888888888888,
              "#fdca26"
             ],
             [
              1,
              "#f0f921"
             ]
            ],
            "type": "heatmap"
           }
          ],
          "histogram": [
           {
            "marker": {
             "pattern": {
              "fillmode": "overlay",
              "size": 10,
              "solidity": 0.2
             }
            },
            "type": "histogram"
           }
          ],
          "histogram2d": [
           {
            "colorbar": {
             "outlinewidth": 0,
             "ticks": ""
            },
            "colorscale": [
             [
              0,
              "#0d0887"
             ],
             [
              0.1111111111111111,
              "#46039f"
             ],
             [
              0.2222222222222222,
              "#7201a8"
             ],
             [
              0.3333333333333333,
              "#9c179e"
             ],
             [
              0.4444444444444444,
              "#bd3786"
             ],
             [
              0.5555555555555556,
              "#d8576b"
             ],
             [
              0.6666666666666666,
              "#ed7953"
             ],
             [
              0.7777777777777778,
              "#fb9f3a"
             ],
             [
              0.8888888888888888,
              "#fdca26"
             ],
             [
              1,
              "#f0f921"
             ]
            ],
            "type": "histogram2d"
           }
          ],
          "histogram2dcontour": [
           {
            "colorbar": {
             "outlinewidth": 0,
             "ticks": ""
            },
            "colorscale": [
             [
              0,
              "#0d0887"
             ],
             [
              0.1111111111111111,
              "#46039f"
             ],
             [
              0.2222222222222222,
              "#7201a8"
             ],
             [
              0.3333333333333333,
              "#9c179e"
             ],
             [
              0.4444444444444444,
              "#bd3786"
             ],
             [
              0.5555555555555556,
              "#d8576b"
             ],
             [
              0.6666666666666666,
              "#ed7953"
             ],
             [
              0.7777777777777778,
              "#fb9f3a"
             ],
             [
              0.8888888888888888,
              "#fdca26"
             ],
             [
              1,
              "#f0f921"
             ]
            ],
            "type": "histogram2dcontour"
           }
          ],
          "mesh3d": [
           {
            "colorbar": {
             "outlinewidth": 0,
             "ticks": ""
            },
            "type": "mesh3d"
           }
          ],
          "parcoords": [
           {
            "line": {
             "colorbar": {
              "outlinewidth": 0,
              "ticks": ""
             }
            },
            "type": "parcoords"
           }
          ],
          "pie": [
           {
            "automargin": true,
            "type": "pie"
           }
          ],
          "scatter": [
           {
            "fillpattern": {
             "fillmode": "overlay",
             "size": 10,
             "solidity": 0.2
            },
            "type": "scatter"
           }
          ],
          "scatter3d": [
           {
            "line": {
             "colorbar": {
              "outlinewidth": 0,
              "ticks": ""
             }
            },
            "marker": {
             "colorbar": {
              "outlinewidth": 0,
              "ticks": ""
             }
            },
            "type": "scatter3d"
           }
          ],
          "scattercarpet": [
           {
            "marker": {
             "colorbar": {
              "outlinewidth": 0,
              "ticks": ""
             }
            },
            "type": "scattercarpet"
           }
          ],
          "scattergeo": [
           {
            "marker": {
             "colorbar": {
              "outlinewidth": 0,
              "ticks": ""
             }
            },
            "type": "scattergeo"
           }
          ],
          "scattergl": [
           {
            "marker": {
             "colorbar": {
              "outlinewidth": 0,
              "ticks": ""
             }
            },
            "type": "scattergl"
           }
          ],
          "scattermap": [
           {
            "marker": {
             "colorbar": {
              "outlinewidth": 0,
              "ticks": ""
             }
            },
            "type": "scattermap"
           }
          ],
          "scattermapbox": [
           {
            "marker": {
             "colorbar": {
              "outlinewidth": 0,
              "ticks": ""
             }
            },
            "type": "scattermapbox"
           }
          ],
          "scatterpolar": [
           {
            "marker": {
             "colorbar": {
              "outlinewidth": 0,
              "ticks": ""
             }
            },
            "type": "scatterpolar"
           }
          ],
          "scatterpolargl": [
           {
            "marker": {
             "colorbar": {
              "outlinewidth": 0,
              "ticks": ""
             }
            },
            "type": "scatterpolargl"
           }
          ],
          "scatterternary": [
           {
            "marker": {
             "colorbar": {
              "outlinewidth": 0,
              "ticks": ""
             }
            },
            "type": "scatterternary"
           }
          ],
          "surface": [
           {
            "colorbar": {
             "outlinewidth": 0,
             "ticks": ""
            },
            "colorscale": [
             [
              0,
              "#0d0887"
             ],
             [
              0.1111111111111111,
              "#46039f"
             ],
             [
              0.2222222222222222,
              "#7201a8"
             ],
             [
              0.3333333333333333,
              "#9c179e"
             ],
             [
              0.4444444444444444,
              "#bd3786"
             ],
             [
              0.5555555555555556,
              "#d8576b"
             ],
             [
              0.6666666666666666,
              "#ed7953"
             ],
             [
              0.7777777777777778,
              "#fb9f3a"
             ],
             [
              0.8888888888888888,
              "#fdca26"
             ],
             [
              1,
              "#f0f921"
             ]
            ],
            "type": "surface"
           }
          ],
          "table": [
           {
            "cells": {
             "fill": {
              "color": "#EBF0F8"
             },
             "line": {
              "color": "white"
             }
            },
            "header": {
             "fill": {
              "color": "#C8D4E3"
             },
             "line": {
              "color": "white"
             }
            },
            "type": "table"
           }
          ]
         },
         "layout": {
          "annotationdefaults": {
           "arrowcolor": "#2a3f5f",
           "arrowhead": 0,
           "arrowwidth": 1
          },
          "autotypenumbers": "strict",
          "coloraxis": {
           "colorbar": {
            "outlinewidth": 0,
            "ticks": ""
           }
          },
          "colorscale": {
           "diverging": [
            [
             0,
             "#8e0152"
            ],
            [
             0.1,
             "#c51b7d"
            ],
            [
             0.2,
             "#de77ae"
            ],
            [
             0.3,
             "#f1b6da"
            ],
            [
             0.4,
             "#fde0ef"
            ],
            [
             0.5,
             "#f7f7f7"
            ],
            [
             0.6,
             "#e6f5d0"
            ],
            [
             0.7,
             "#b8e186"
            ],
            [
             0.8,
             "#7fbc41"
            ],
            [
             0.9,
             "#4d9221"
            ],
            [
             1,
             "#276419"
            ]
           ],
           "sequential": [
            [
             0,
             "#0d0887"
            ],
            [
             0.1111111111111111,
             "#46039f"
            ],
            [
             0.2222222222222222,
             "#7201a8"
            ],
            [
             0.3333333333333333,
             "#9c179e"
            ],
            [
             0.4444444444444444,
             "#bd3786"
            ],
            [
             0.5555555555555556,
             "#d8576b"
            ],
            [
             0.6666666666666666,
             "#ed7953"
            ],
            [
             0.7777777777777778,
             "#fb9f3a"
            ],
            [
             0.8888888888888888,
             "#fdca26"
            ],
            [
             1,
             "#f0f921"
            ]
           ],
           "sequentialminus": [
            [
             0,
             "#0d0887"
            ],
            [
             0.1111111111111111,
             "#46039f"
            ],
            [
             0.2222222222222222,
             "#7201a8"
            ],
            [
             0.3333333333333333,
             "#9c179e"
            ],
            [
             0.4444444444444444,
             "#bd3786"
            ],
            [
             0.5555555555555556,
             "#d8576b"
            ],
            [
             0.6666666666666666,
             "#ed7953"
            ],
            [
             0.7777777777777778,
             "#fb9f3a"
            ],
            [
             0.8888888888888888,
             "#fdca26"
            ],
            [
             1,
             "#f0f921"
            ]
           ]
          },
          "colorway": [
           "#636efa",
           "#EF553B",
           "#00cc96",
           "#ab63fa",
           "#FFA15A",
           "#19d3f3",
           "#FF6692",
           "#B6E880",
           "#FF97FF",
           "#FECB52"
          ],
          "font": {
           "color": "#2a3f5f"
          },
          "geo": {
           "bgcolor": "white",
           "lakecolor": "white",
           "landcolor": "#E5ECF6",
           "showlakes": true,
           "showland": true,
           "subunitcolor": "white"
          },
          "hoverlabel": {
           "align": "left"
          },
          "hovermode": "closest",
          "mapbox": {
           "style": "light"
          },
          "paper_bgcolor": "white",
          "plot_bgcolor": "#E5ECF6",
          "polar": {
           "angularaxis": {
            "gridcolor": "white",
            "linecolor": "white",
            "ticks": ""
           },
           "bgcolor": "#E5ECF6",
           "radialaxis": {
            "gridcolor": "white",
            "linecolor": "white",
            "ticks": ""
           }
          },
          "scene": {
           "xaxis": {
            "backgroundcolor": "#E5ECF6",
            "gridcolor": "white",
            "gridwidth": 2,
            "linecolor": "white",
            "showbackground": true,
            "ticks": "",
            "zerolinecolor": "white"
           },
           "yaxis": {
            "backgroundcolor": "#E5ECF6",
            "gridcolor": "white",
            "gridwidth": 2,
            "linecolor": "white",
            "showbackground": true,
            "ticks": "",
            "zerolinecolor": "white"
           },
           "zaxis": {
            "backgroundcolor": "#E5ECF6",
            "gridcolor": "white",
            "gridwidth": 2,
            "linecolor": "white",
            "showbackground": true,
            "ticks": "",
            "zerolinecolor": "white"
           }
          },
          "shapedefaults": {
           "line": {
            "color": "#2a3f5f"
           }
          },
          "ternary": {
           "aaxis": {
            "gridcolor": "white",
            "linecolor": "white",
            "ticks": ""
           },
           "baxis": {
            "gridcolor": "white",
            "linecolor": "white",
            "ticks": ""
           },
           "bgcolor": "#E5ECF6",
           "caxis": {
            "gridcolor": "white",
            "linecolor": "white",
            "ticks": ""
           }
          },
          "title": {
           "x": 0.05
          },
          "xaxis": {
           "automargin": true,
           "gridcolor": "white",
           "linecolor": "white",
           "ticks": "",
           "title": {
            "standoff": 15
           },
           "zerolinecolor": "white",
           "zerolinewidth": 2
          },
          "yaxis": {
           "automargin": true,
           "gridcolor": "white",
           "linecolor": "white",
           "ticks": "",
           "title": {
            "standoff": 15
           },
           "zerolinecolor": "white",
           "zerolinewidth": 2
          }
         }
        },
        "title": {
         "text": "adobe-mu5gamma5",
         "x": 0.5
        },
        "width": 650,
        "xaxis": {
         "range": [
          0,
          222.04082
         ],
         "title": {
          "text": "Time (s)"
         }
        },
        "yaxis": {
         "categoryarray": [
          "L10",
          "L09",
          "L08",
          "L07",
          "L06",
          "L05",
          "L04",
          "L03",
          "L02",
          "L01"
         ],
         "categoryorder": "array",
         "title": {}
        }
       }
      }
     },
     "metadata": {},
     "output_type": "display_data"
    }
   ],
   "source": [
    "est = track.ests[choice(available_ests)]\n",
    "est1 = est.prune_layers(relabel=False)\n",
    "est2 = est.prune_layers(relabel=True)\n",
    "est.plot().show()\n",
    "est1.plot().show()\n",
    "est2.plot().show()"
   ]
  },
  {
   "cell_type": "code",
   "execution_count": 18,
   "metadata": {},
   "outputs": [
    {
     "data": {
      "application/vnd.plotly.v1+json": {
       "config": {
        "plotlyServerURL": "https://plot.ly"
       },
       "data": [
        {
         "base": [
          0
         ],
         "customdata": [
          "<b>[0.00-222.06]</b><br>Layer: empty<br>Start: 0.000s<br>End: 222.061s<br>Duration: 222.061s"
         ],
         "hovertemplate": "%{customdata}<extra></extra>",
         "insidetextanchor": "middle",
         "marker": {
          "color": "#1F77B4",
          "line": {
           "color": "white",
           "width": 0.5
          },
          "pattern": {
           "fgcolor": "white",
           "fgopacity": 0.5,
           "shape": "",
           "solidity": 0.25
          }
         },
         "name": "[0.00-222.06]",
         "orientation": "h",
         "showlegend": true,
         "text": [
          "[0.00-222.06]"
         ],
         "textposition": "inside",
         "type": "bar",
         "width": 1,
         "x": [
          222.06111
         ],
         "y": [
          "empty"
         ]
        },
        {
         "base": [
          0
         ],
         "customdata": [
          "<b>silence</b><br>Layer: coarse<br>Start: 0.000s<br>End: 0.244s<br>Duration: 0.244s"
         ],
         "hovertemplate": "%{customdata}<extra></extra>",
         "insidetextanchor": "middle",
         "marker": {
          "color": "#FF7F0E",
          "line": {
           "color": "white",
           "width": 0.5
          },
          "pattern": {
           "fgcolor": "white",
           "fgopacity": 0.5,
           "shape": "",
           "solidity": 0.25
          }
         },
         "name": "silence",
         "orientation": "h",
         "showlegend": true,
         "text": [
          "silence"
         ],
         "textposition": "inside",
         "type": "bar",
         "width": 1,
         "x": [
          0.24381
         ],
         "y": [
          "coarse"
         ]
        },
        {
         "base": [
          0.24381
         ],
         "customdata": [
          "<b>intro</b><br>Layer: coarse<br>Start: 0.244s<br>End: 31.504s<br>Duration: 31.260s"
         ],
         "hovertemplate": "%{customdata}<extra></extra>",
         "insidetextanchor": "middle",
         "marker": {
          "color": "#2CA02C",
          "line": {
           "color": "white",
           "width": 0.5
          },
          "pattern": {
           "fgcolor": "white",
           "fgopacity": 0.5,
           "shape": "",
           "solidity": 0.25
          }
         },
         "name": "intro",
         "orientation": "h",
         "showlegend": true,
         "text": [
          "intro"
         ],
         "textposition": "inside",
         "type": "bar",
         "width": 1,
         "x": [
          31.26023
         ],
         "y": [
          "coarse"
         ]
        },
        {
         "base": [
          31.50404,
          72.63848,
          165.00934
         ],
         "customdata": [
          "<b>verse</b><br>Layer: coarse<br>Start: 31.504s<br>End: 52.075s<br>Duration: 20.571s",
          "<b>verse</b><br>Layer: coarse<br>Start: 72.638s<br>End: 93.223s<br>Duration: 20.585s",
          "<b>verse</b><br>Layer: coarse<br>Start: 165.009s<br>End: 180.447s<br>Duration: 15.437s"
         ],
         "hovertemplate": "%{customdata}<extra></extra>",
         "insidetextanchor": "middle",
         "marker": {
          "color": "#D62728",
          "line": {
           "color": "white",
           "width": 0.5
          },
          "pattern": {
           "fgcolor": "white",
           "fgopacity": 0.5,
           "shape": "",
           "solidity": 0.25
          }
         },
         "name": "verse",
         "orientation": "h",
         "showlegend": true,
         "text": [
          "verse",
          "verse",
          "verse"
         ],
         "textposition": "inside",
         "type": "bar",
         "width": 1,
         "x": [
          20.57138,
          20.58488,
          15.437369999999987
         ],
         "y": [
          "coarse",
          "coarse",
          "coarse"
         ]
        },
        {
         "base": [
          52.07542
         ],
         "customdata": [
          "<b>chorus</b><br>Layer: coarse<br>Start: 52.075s<br>End: 62.362s<br>Duration: 10.287s"
         ],
         "hovertemplate": "%{customdata}<extra></extra>",
         "insidetextanchor": "middle",
         "marker": {
          "color": "#9467BD",
          "line": {
           "color": "white",
           "width": 0.5
          },
          "pattern": {
           "fgcolor": "white",
           "fgopacity": 0.5,
           "shape": "",
           "solidity": 0.25
          }
         },
         "name": "chorus",
         "orientation": "h",
         "showlegend": true,
         "text": [
          "chorus"
         ],
         "textposition": "inside",
         "type": "bar",
         "width": 1,
         "x": [
          10.287030000000001
         ],
         "y": [
          "coarse"
         ]
        },
        {
         "base": [
          62.36245
         ],
         "customdata": [
          "<b>interlude</b><br>Layer: coarse<br>Start: 62.362s<br>End: 72.638s<br>Duration: 10.276s"
         ],
         "hovertemplate": "%{customdata}<extra></extra>",
         "insidetextanchor": "middle",
         "marker": {
          "color": "#8C564B",
          "line": {
           "color": "white",
           "width": 0.5
          },
          "pattern": {
           "fgcolor": "white",
           "fgopacity": 0.5,
           "shape": "",
           "solidity": 0.25
          }
         },
         "name": "interlude",
         "orientation": "h",
         "showlegend": true,
         "text": [
          "interlude"
         ],
         "textposition": "inside",
         "type": "bar",
         "width": 1,
         "x": [
          10.276029999999999
         ],
         "y": [
          "coarse"
         ]
        },
        {
         "base": [
          93.22336,
          103.57853,
          154.88533,
          180.44671,
          190.76401
         ],
         "customdata": [
          "<b>no_function</b><br>Layer: coarse<br>Start: 93.223s<br>End: 103.579s<br>Duration: 10.355s",
          "<b>no_function</b><br>Layer: coarse<br>Start: 103.579s<br>End: 154.885s<br>Duration: 51.307s",
          "<b>no_function</b><br>Layer: coarse<br>Start: 154.885s<br>End: 165.009s<br>Duration: 10.124s",
          "<b>no_function</b><br>Layer: coarse<br>Start: 180.447s<br>End: 190.764s<br>Duration: 10.317s",
          "<b>no_function</b><br>Layer: coarse<br>Start: 190.764s<br>End: 222.061s<br>Duration: 31.297s"
         ],
         "hovertemplate": "%{customdata}<extra></extra>",
         "insidetextanchor": "middle",
         "marker": {
          "color": "#E377C2",
          "line": {
           "color": "white",
           "width": 0.5
          },
          "pattern": {
           "fgcolor": "white",
           "fgopacity": 0.5,
           "shape": "",
           "solidity": 0.25
          }
         },
         "name": "no_function",
         "orientation": "h",
         "showlegend": true,
         "text": [
          "no_function",
          "no_function",
          "no_function",
          "no_function",
          "no_function"
         ],
         "textposition": "inside",
         "type": "bar",
         "width": 1,
         "x": [
          10.355170000000001,
          51.30680000000001,
          10.124009999999998,
          10.317300000000017,
          31.2971
         ],
         "y": [
          "coarse",
          "coarse",
          "coarse",
          "coarse",
          "coarse"
         ]
        },
        {
         "base": [
          0
         ],
         "customdata": [
          "<b>Silence</b><br>Layer: fine<br>Start: 0.000s<br>End: 0.244s<br>Duration: 0.244s"
         ],
         "hovertemplate": "%{customdata}<extra></extra>",
         "insidetextanchor": "middle",
         "marker": {
          "color": "#7F7F7F",
          "line": {
           "color": "white",
           "width": 0.5
          },
          "pattern": {
           "fgcolor": "white",
           "fgopacity": 0.5,
           "shape": "",
           "solidity": 0.25
          }
         },
         "name": "Silence",
         "orientation": "h",
         "showlegend": true,
         "text": [
          "Silence"
         ],
         "textposition": "inside",
         "type": "bar",
         "width": 1,
         "x": [
          0.24381
         ],
         "y": [
          "fine"
         ]
        },
        {
         "base": [
          0.24381,
          134.47696,
          144.71481
         ],
         "customdata": [
          "<b>a</b><br>Layer: fine<br>Start: 0.244s<br>End: 11.052s<br>Duration: 10.808s",
          "<b>a</b><br>Layer: fine<br>Start: 134.477s<br>End: 144.715s<br>Duration: 10.238s",
          "<b>a</b><br>Layer: fine<br>Start: 144.715s<br>End: 154.885s<br>Duration: 10.171s"
         ],
         "hovertemplate": "%{customdata}<extra></extra>",
         "insidetextanchor": "middle",
         "marker": {
          "color": "#BCBD22",
          "line": {
           "color": "white",
           "width": 0.5
          },
          "pattern": {
           "fgcolor": "white",
           "fgopacity": 0.5,
           "shape": "",
           "solidity": 0.25
          }
         },
         "name": "a",
         "orientation": "h",
         "showlegend": true,
         "text": [
          "a",
          "a",
          "a"
         ],
         "textposition": "inside",
         "type": "bar",
         "width": 1,
         "x": [
          10.80787,
          10.237850000000009,
          10.17052000000001
         ],
         "y": [
          "fine",
          "fine",
          "fine"
         ]
        },
        {
         "base": [
          11.05168
         ],
         "customdata": [
          "<b>b</b><br>Layer: fine<br>Start: 11.052s<br>End: 21.271s<br>Duration: 10.219s"
         ],
         "hovertemplate": "%{customdata}<extra></extra>",
         "insidetextanchor": "middle",
         "marker": {
          "color": "#17BECF",
          "line": {
           "color": "white",
           "width": 0.5
          },
          "pattern": {
           "fgcolor": "white",
           "fgopacity": 0.5,
           "shape": "",
           "solidity": 0.25
          }
         },
         "name": "b",
         "orientation": "h",
         "showlegend": true,
         "text": [
          "b"
         ],
         "textposition": "inside",
         "type": "bar",
         "width": 1,
         "x": [
          10.21898
         ],
         "y": [
          "fine"
         ]
        },
        {
         "base": [
          21.27066,
          62.36245
         ],
         "customdata": [
          "<b>c</b><br>Layer: fine<br>Start: 21.271s<br>End: 31.504s<br>Duration: 10.233s",
          "<b>c</b><br>Layer: fine<br>Start: 62.362s<br>End: 72.638s<br>Duration: 10.276s"
         ],
         "hovertemplate": "%{customdata}<extra></extra>",
         "insidetextanchor": "middle",
         "marker": {
          "color": "#1F77B4",
          "line": {
           "color": "white",
           "width": 0.5
          },
          "pattern": {
           "fgcolor": "white",
           "fgopacity": 0.5,
           "shape": ".",
           "solidity": 0.25
          }
         },
         "name": "c",
         "orientation": "h",
         "showlegend": true,
         "text": [
          "c",
          "c"
         ],
         "textposition": "inside",
         "type": "bar",
         "width": 1,
         "x": [
          10.23338,
          10.276029999999999
         ],
         "y": [
          "fine",
          "fine"
         ]
        },
        {
         "base": [
          31.50404,
          41.80308,
          72.63848,
          83.00048,
          165.00934
         ],
         "customdata": [
          "<b>d</b><br>Layer: fine<br>Start: 31.504s<br>End: 41.803s<br>Duration: 10.299s",
          "<b>d</b><br>Layer: fine<br>Start: 41.803s<br>End: 52.075s<br>Duration: 10.272s",
          "<b>d</b><br>Layer: fine<br>Start: 72.638s<br>End: 83.000s<br>Duration: 10.362s",
          "<b>d</b><br>Layer: fine<br>Start: 83.000s<br>End: 93.223s<br>Duration: 10.223s",
          "<b>d</b><br>Layer: fine<br>Start: 165.009s<br>End: 175.356s<br>Duration: 10.346s"
         ],
         "hovertemplate": "%{customdata}<extra></extra>",
         "insidetextanchor": "middle",
         "marker": {
          "color": "#FF7F0E",
          "line": {
           "color": "white",
           "width": 0.5
          },
          "pattern": {
           "fgcolor": "white",
           "fgopacity": 0.5,
           "shape": ".",
           "solidity": 0.25
          }
         },
         "name": "d",
         "orientation": "h",
         "showlegend": true,
         "text": [
          "d",
          "d",
          "d",
          "d",
          "d"
         ],
         "textposition": "inside",
         "type": "bar",
         "width": 1,
         "x": [
          10.299040000000002,
          10.27234,
          10.361999999999995,
          10.222880000000004,
          10.34645999999998
         ],
         "y": [
          "fine",
          "fine",
          "fine",
          "fine",
          "fine"
         ]
        },
        {
         "base": [
          52.07542,
          93.22336,
          154.88533,
          180.44671
         ],
         "customdata": [
          "<b>b'</b><br>Layer: fine<br>Start: 52.075s<br>End: 62.362s<br>Duration: 10.287s",
          "<b>b'</b><br>Layer: fine<br>Start: 93.223s<br>End: 103.579s<br>Duration: 10.355s",
          "<b>b'</b><br>Layer: fine<br>Start: 154.885s<br>End: 165.009s<br>Duration: 10.124s",
          "<b>b'</b><br>Layer: fine<br>Start: 180.447s<br>End: 190.764s<br>Duration: 10.317s"
         ],
         "hovertemplate": "%{customdata}<extra></extra>",
         "insidetextanchor": "middle",
         "marker": {
          "color": "#2CA02C",
          "line": {
           "color": "white",
           "width": 0.5
          },
          "pattern": {
           "fgcolor": "white",
           "fgopacity": 0.5,
           "shape": ".",
           "solidity": 0.25
          }
         },
         "name": "b'",
         "orientation": "h",
         "showlegend": true,
         "text": [
          "b'",
          "b'",
          "b'",
          "b'"
         ],
         "textposition": "inside",
         "type": "bar",
         "width": 1,
         "x": [
          10.287030000000001,
          10.355170000000001,
          10.124009999999998,
          10.317300000000017
         ],
         "y": [
          "fine",
          "fine",
          "fine",
          "fine"
         ]
        },
        {
         "base": [
          103.57853,
          190.76401
         ],
         "customdata": [
          "<b>e</b><br>Layer: fine<br>Start: 103.579s<br>End: 113.906s<br>Duration: 10.328s",
          "<b>e</b><br>Layer: fine<br>Start: 190.764s<br>End: 200.920s<br>Duration: 10.156s"
         ],
         "hovertemplate": "%{customdata}<extra></extra>",
         "insidetextanchor": "middle",
         "marker": {
          "color": "#D62728",
          "line": {
           "color": "white",
           "width": 0.5
          },
          "pattern": {
           "fgcolor": "white",
           "fgopacity": 0.5,
           "shape": ".",
           "solidity": 0.25
          }
         },
         "name": "e",
         "orientation": "h",
         "showlegend": true,
         "text": [
          "e",
          "e"
         ],
         "textposition": "inside",
         "type": "bar",
         "width": 1,
         "x": [
          10.327820000000003,
          10.156469999999985
         ],
         "y": [
          "fine",
          "fine"
         ]
        },
        {
         "base": [
          113.90635
         ],
         "customdata": [
          "<b>e'</b><br>Layer: fine<br>Start: 113.906s<br>End: 124.068s<br>Duration: 10.161s"
         ],
         "hovertemplate": "%{customdata}<extra></extra>",
         "insidetextanchor": "middle",
         "marker": {
          "color": "#9467BD",
          "line": {
           "color": "white",
           "width": 0.5
          },
          "pattern": {
           "fgcolor": "white",
           "fgopacity": 0.5,
           "shape": ".",
           "solidity": 0.25
          }
         },
         "name": "e'",
         "orientation": "h",
         "showlegend": true,
         "text": [
          "e'"
         ],
         "textposition": "inside",
         "type": "bar",
         "width": 1,
         "x": [
          10.161450000000002
         ],
         "y": [
          "fine"
         ]
        },
        {
         "base": [
          124.0678
         ],
         "customdata": [
          "<b>e''</b><br>Layer: fine<br>Start: 124.068s<br>End: 134.477s<br>Duration: 10.409s"
         ],
         "hovertemplate": "%{customdata}<extra></extra>",
         "insidetextanchor": "middle",
         "marker": {
          "color": "#8C564B",
          "line": {
           "color": "white",
           "width": 0.5
          },
          "pattern": {
           "fgcolor": "white",
           "fgopacity": 0.5,
           "shape": ".",
           "solidity": 0.25
          }
         },
         "name": "e''",
         "orientation": "h",
         "showlegend": true,
         "text": [
          "e''"
         ],
         "textposition": "inside",
         "type": "bar",
         "width": 1,
         "x": [
          10.409159999999986
         ],
         "y": [
          "fine"
         ]
        },
        {
         "base": [
          175.3558
         ],
         "customdata": [
          "<b>d'</b><br>Layer: fine<br>Start: 175.356s<br>End: 180.447s<br>Duration: 5.091s"
         ],
         "hovertemplate": "%{customdata}<extra></extra>",
         "insidetextanchor": "middle",
         "marker": {
          "color": "#E377C2",
          "line": {
           "color": "white",
           "width": 0.5
          },
          "pattern": {
           "fgcolor": "white",
           "fgopacity": 0.5,
           "shape": ".",
           "solidity": 0.25
          }
         },
         "name": "d'",
         "orientation": "h",
         "showlegend": true,
         "text": [
          "d'"
         ],
         "textposition": "inside",
         "type": "bar",
         "width": 1,
         "x": [
          5.090910000000008
         ],
         "y": [
          "fine"
         ]
        },
        {
         "base": [
          200.92048,
          211.08254
         ],
         "customdata": [
          "<b>e'''</b><br>Layer: fine<br>Start: 200.920s<br>End: 211.083s<br>Duration: 10.162s",
          "<b>e'''</b><br>Layer: fine<br>Start: 211.083s<br>End: 222.061s<br>Duration: 10.979s"
         ],
         "hovertemplate": "%{customdata}<extra></extra>",
         "insidetextanchor": "middle",
         "marker": {
          "color": "#7F7F7F",
          "line": {
           "color": "white",
           "width": 0.5
          },
          "pattern": {
           "fgcolor": "white",
           "fgopacity": 0.5,
           "shape": ".",
           "solidity": 0.25
          }
         },
         "name": "e'''",
         "orientation": "h",
         "showlegend": true,
         "text": [
          "e'''",
          "e'''"
         ],
         "textposition": "inside",
         "type": "bar",
         "width": 1,
         "x": [
          10.162059999999997,
          10.978570000000019
         ],
         "y": [
          "fine",
          "fine"
         ]
        },
        {
         "base": [
          0
         ],
         "customdata": [
          "<b>lab_Silence</b><br>Layer: redundant<br>Start: 0.000s<br>End: 0.244s<br>Duration: 0.244s"
         ],
         "hovertemplate": "%{customdata}<extra></extra>",
         "insidetextanchor": "middle",
         "marker": {
          "color": "#BCBD22",
          "line": {
           "color": "white",
           "width": 0.5
          },
          "pattern": {
           "fgcolor": "white",
           "fgopacity": 0.5,
           "shape": ".",
           "solidity": 0.25
          }
         },
         "name": "lab_Silence",
         "orientation": "h",
         "showlegend": true,
         "text": [
          "lab_Silence"
         ],
         "textposition": "inside",
         "type": "bar",
         "width": 1,
         "x": [
          0.24381
         ],
         "y": [
          "redundant"
         ]
        },
        {
         "base": [
          0.24381,
          134.47696,
          144.71481
         ],
         "customdata": [
          "<b>lab_a</b><br>Layer: redundant<br>Start: 0.244s<br>End: 11.052s<br>Duration: 10.808s",
          "<b>lab_a</b><br>Layer: redundant<br>Start: 134.477s<br>End: 144.715s<br>Duration: 10.238s",
          "<b>lab_a</b><br>Layer: redundant<br>Start: 144.715s<br>End: 154.885s<br>Duration: 10.171s"
         ],
         "hovertemplate": "%{customdata}<extra></extra>",
         "insidetextanchor": "middle",
         "marker": {
          "color": "#17BECF",
          "line": {
           "color": "white",
           "width": 0.5
          },
          "pattern": {
           "fgcolor": "white",
           "fgopacity": 0.5,
           "shape": ".",
           "solidity": 0.25
          }
         },
         "name": "lab_a",
         "orientation": "h",
         "showlegend": true,
         "text": [
          "lab_a",
          "lab_a",
          "lab_a"
         ],
         "textposition": "inside",
         "type": "bar",
         "width": 1,
         "x": [
          10.80787,
          10.237850000000009,
          10.17052000000001
         ],
         "y": [
          "redundant",
          "redundant",
          "redundant"
         ]
        },
        {
         "base": [
          11.05168
         ],
         "customdata": [
          "<b>lab_b</b><br>Layer: redundant<br>Start: 11.052s<br>End: 21.271s<br>Duration: 10.219s"
         ],
         "hovertemplate": "%{customdata}<extra></extra>",
         "insidetextanchor": "middle",
         "marker": {
          "color": "#1F77B4",
          "line": {
           "color": "white",
           "width": 0.5
          },
          "pattern": {
           "fgcolor": "white",
           "fgopacity": 0.5,
           "shape": "x",
           "solidity": 0.25
          }
         },
         "name": "lab_b",
         "orientation": "h",
         "showlegend": true,
         "text": [
          "lab_b"
         ],
         "textposition": "inside",
         "type": "bar",
         "width": 1,
         "x": [
          10.21898
         ],
         "y": [
          "redundant"
         ]
        },
        {
         "base": [
          21.27066,
          62.36245
         ],
         "customdata": [
          "<b>lab_c</b><br>Layer: redundant<br>Start: 21.271s<br>End: 31.504s<br>Duration: 10.233s",
          "<b>lab_c</b><br>Layer: redundant<br>Start: 62.362s<br>End: 72.638s<br>Duration: 10.276s"
         ],
         "hovertemplate": "%{customdata}<extra></extra>",
         "insidetextanchor": "middle",
         "marker": {
          "color": "#FF7F0E",
          "line": {
           "color": "white",
           "width": 0.5
          },
          "pattern": {
           "fgcolor": "white",
           "fgopacity": 0.5,
           "shape": "x",
           "solidity": 0.25
          }
         },
         "name": "lab_c",
         "orientation": "h",
         "showlegend": true,
         "text": [
          "lab_c",
          "lab_c"
         ],
         "textposition": "inside",
         "type": "bar",
         "width": 1,
         "x": [
          10.23338,
          10.276029999999999
         ],
         "y": [
          "redundant",
          "redundant"
         ]
        },
        {
         "base": [
          31.50404,
          41.80308,
          72.63848,
          83.00048,
          165.00934
         ],
         "customdata": [
          "<b>lab_d</b><br>Layer: redundant<br>Start: 31.504s<br>End: 41.803s<br>Duration: 10.299s",
          "<b>lab_d</b><br>Layer: redundant<br>Start: 41.803s<br>End: 52.075s<br>Duration: 10.272s",
          "<b>lab_d</b><br>Layer: redundant<br>Start: 72.638s<br>End: 83.000s<br>Duration: 10.362s",
          "<b>lab_d</b><br>Layer: redundant<br>Start: 83.000s<br>End: 93.223s<br>Duration: 10.223s",
          "<b>lab_d</b><br>Layer: redundant<br>Start: 165.009s<br>End: 175.356s<br>Duration: 10.346s"
         ],
         "hovertemplate": "%{customdata}<extra></extra>",
         "insidetextanchor": "middle",
         "marker": {
          "color": "#2CA02C",
          "line": {
           "color": "white",
           "width": 0.5
          },
          "pattern": {
           "fgcolor": "white",
           "fgopacity": 0.5,
           "shape": "x",
           "solidity": 0.25
          }
         },
         "name": "lab_d",
         "orientation": "h",
         "showlegend": true,
         "text": [
          "lab_d",
          "lab_d",
          "lab_d",
          "lab_d",
          "lab_d"
         ],
         "textposition": "inside",
         "type": "bar",
         "width": 1,
         "x": [
          10.299040000000002,
          10.27234,
          10.361999999999995,
          10.222880000000004,
          10.34645999999998
         ],
         "y": [
          "redundant",
          "redundant",
          "redundant",
          "redundant",
          "redundant"
         ]
        },
        {
         "base": [
          52.07542,
          93.22336,
          154.88533,
          180.44671
         ],
         "customdata": [
          "<b>lab_b'</b><br>Layer: redundant<br>Start: 52.075s<br>End: 62.362s<br>Duration: 10.287s",
          "<b>lab_b'</b><br>Layer: redundant<br>Start: 93.223s<br>End: 103.579s<br>Duration: 10.355s",
          "<b>lab_b'</b><br>Layer: redundant<br>Start: 154.885s<br>End: 165.009s<br>Duration: 10.124s",
          "<b>lab_b'</b><br>Layer: redundant<br>Start: 180.447s<br>End: 190.764s<br>Duration: 10.317s"
         ],
         "hovertemplate": "%{customdata}<extra></extra>",
         "insidetextanchor": "middle",
         "marker": {
          "color": "#D62728",
          "line": {
           "color": "white",
           "width": 0.5
          },
          "pattern": {
           "fgcolor": "white",
           "fgopacity": 0.5,
           "shape": "x",
           "solidity": 0.25
          }
         },
         "name": "lab_b'",
         "orientation": "h",
         "showlegend": true,
         "text": [
          "lab_b'",
          "lab_b'",
          "lab_b'",
          "lab_b'"
         ],
         "textposition": "inside",
         "type": "bar",
         "width": 1,
         "x": [
          10.287030000000001,
          10.355170000000001,
          10.124009999999998,
          10.317300000000017
         ],
         "y": [
          "redundant",
          "redundant",
          "redundant",
          "redundant"
         ]
        },
        {
         "base": [
          103.57853,
          190.76401
         ],
         "customdata": [
          "<b>lab_e</b><br>Layer: redundant<br>Start: 103.579s<br>End: 113.906s<br>Duration: 10.328s",
          "<b>lab_e</b><br>Layer: redundant<br>Start: 190.764s<br>End: 200.920s<br>Duration: 10.156s"
         ],
         "hovertemplate": "%{customdata}<extra></extra>",
         "insidetextanchor": "middle",
         "marker": {
          "color": "#9467BD",
          "line": {
           "color": "white",
           "width": 0.5
          },
          "pattern": {
           "fgcolor": "white",
           "fgopacity": 0.5,
           "shape": "x",
           "solidity": 0.25
          }
         },
         "name": "lab_e",
         "orientation": "h",
         "showlegend": true,
         "text": [
          "lab_e",
          "lab_e"
         ],
         "textposition": "inside",
         "type": "bar",
         "width": 1,
         "x": [
          10.327820000000003,
          10.156469999999985
         ],
         "y": [
          "redundant",
          "redundant"
         ]
        },
        {
         "base": [
          113.90635
         ],
         "customdata": [
          "<b>lab_e'</b><br>Layer: redundant<br>Start: 113.906s<br>End: 124.068s<br>Duration: 10.161s"
         ],
         "hovertemplate": "%{customdata}<extra></extra>",
         "insidetextanchor": "middle",
         "marker": {
          "color": "#8C564B",
          "line": {
           "color": "white",
           "width": 0.5
          },
          "pattern": {
           "fgcolor": "white",
           "fgopacity": 0.5,
           "shape": "x",
           "solidity": 0.25
          }
         },
         "name": "lab_e'",
         "orientation": "h",
         "showlegend": true,
         "text": [
          "lab_e'"
         ],
         "textposition": "inside",
         "type": "bar",
         "width": 1,
         "x": [
          10.161450000000002
         ],
         "y": [
          "redundant"
         ]
        },
        {
         "base": [
          124.0678
         ],
         "customdata": [
          "<b>lab_e''</b><br>Layer: redundant<br>Start: 124.068s<br>End: 134.477s<br>Duration: 10.409s"
         ],
         "hovertemplate": "%{customdata}<extra></extra>",
         "insidetextanchor": "middle",
         "marker": {
          "color": "#E377C2",
          "line": {
           "color": "white",
           "width": 0.5
          },
          "pattern": {
           "fgcolor": "white",
           "fgopacity": 0.5,
           "shape": "x",
           "solidity": 0.25
          }
         },
         "name": "lab_e''",
         "orientation": "h",
         "showlegend": true,
         "text": [
          "lab_e''"
         ],
         "textposition": "inside",
         "type": "bar",
         "width": 1,
         "x": [
          10.409159999999986
         ],
         "y": [
          "redundant"
         ]
        },
        {
         "base": [
          175.3558
         ],
         "customdata": [
          "<b>lab_d'</b><br>Layer: redundant<br>Start: 175.356s<br>End: 180.447s<br>Duration: 5.091s"
         ],
         "hovertemplate": "%{customdata}<extra></extra>",
         "insidetextanchor": "middle",
         "marker": {
          "color": "#7F7F7F",
          "line": {
           "color": "white",
           "width": 0.5
          },
          "pattern": {
           "fgcolor": "white",
           "fgopacity": 0.5,
           "shape": "x",
           "solidity": 0.25
          }
         },
         "name": "lab_d'",
         "orientation": "h",
         "showlegend": true,
         "text": [
          "lab_d'"
         ],
         "textposition": "inside",
         "type": "bar",
         "width": 1,
         "x": [
          5.090910000000008
         ],
         "y": [
          "redundant"
         ]
        },
        {
         "base": [
          200.92048,
          211.08254
         ],
         "customdata": [
          "<b>lab_e'''</b><br>Layer: redundant<br>Start: 200.920s<br>End: 211.083s<br>Duration: 10.162s",
          "<b>lab_e'''</b><br>Layer: redundant<br>Start: 211.083s<br>End: 222.061s<br>Duration: 10.979s"
         ],
         "hovertemplate": "%{customdata}<extra></extra>",
         "insidetextanchor": "middle",
         "marker": {
          "color": "#BCBD22",
          "line": {
           "color": "white",
           "width": 0.5
          },
          "pattern": {
           "fgcolor": "white",
           "fgopacity": 0.5,
           "shape": "x",
           "solidity": 0.25
          }
         },
         "name": "lab_e'''",
         "orientation": "h",
         "showlegend": true,
         "text": [
          "lab_e'''",
          "lab_e'''"
         ],
         "textposition": "inside",
         "type": "bar",
         "width": 1,
         "x": [
          10.162059999999997,
          10.978570000000019
         ],
         "y": [
          "redundant",
          "redundant"
         ]
        }
       ],
       "layout": {
        "barmode": "overlay",
        "height": 170,
        "margin": {
         "b": 20,
         "l": 20,
         "r": 20,
         "t": 40
        },
        "showlegend": false,
        "template": {
         "data": {
          "bar": [
           {
            "error_x": {
             "color": "#2a3f5f"
            },
            "error_y": {
             "color": "#2a3f5f"
            },
            "marker": {
             "line": {
              "color": "#E5ECF6",
              "width": 0.5
             },
             "pattern": {
              "fillmode": "overlay",
              "size": 10,
              "solidity": 0.2
             }
            },
            "type": "bar"
           }
          ],
          "barpolar": [
           {
            "marker": {
             "line": {
              "color": "#E5ECF6",
              "width": 0.5
             },
             "pattern": {
              "fillmode": "overlay",
              "size": 10,
              "solidity": 0.2
             }
            },
            "type": "barpolar"
           }
          ],
          "carpet": [
           {
            "aaxis": {
             "endlinecolor": "#2a3f5f",
             "gridcolor": "white",
             "linecolor": "white",
             "minorgridcolor": "white",
             "startlinecolor": "#2a3f5f"
            },
            "baxis": {
             "endlinecolor": "#2a3f5f",
             "gridcolor": "white",
             "linecolor": "white",
             "minorgridcolor": "white",
             "startlinecolor": "#2a3f5f"
            },
            "type": "carpet"
           }
          ],
          "choropleth": [
           {
            "colorbar": {
             "outlinewidth": 0,
             "ticks": ""
            },
            "type": "choropleth"
           }
          ],
          "contour": [
           {
            "colorbar": {
             "outlinewidth": 0,
             "ticks": ""
            },
            "colorscale": [
             [
              0,
              "#0d0887"
             ],
             [
              0.1111111111111111,
              "#46039f"
             ],
             [
              0.2222222222222222,
              "#7201a8"
             ],
             [
              0.3333333333333333,
              "#9c179e"
             ],
             [
              0.4444444444444444,
              "#bd3786"
             ],
             [
              0.5555555555555556,
              "#d8576b"
             ],
             [
              0.6666666666666666,
              "#ed7953"
             ],
             [
              0.7777777777777778,
              "#fb9f3a"
             ],
             [
              0.8888888888888888,
              "#fdca26"
             ],
             [
              1,
              "#f0f921"
             ]
            ],
            "type": "contour"
           }
          ],
          "contourcarpet": [
           {
            "colorbar": {
             "outlinewidth": 0,
             "ticks": ""
            },
            "type": "contourcarpet"
           }
          ],
          "heatmap": [
           {
            "colorbar": {
             "outlinewidth": 0,
             "ticks": ""
            },
            "colorscale": [
             [
              0,
              "#0d0887"
             ],
             [
              0.1111111111111111,
              "#46039f"
             ],
             [
              0.2222222222222222,
              "#7201a8"
             ],
             [
              0.3333333333333333,
              "#9c179e"
             ],
             [
              0.4444444444444444,
              "#bd3786"
             ],
             [
              0.5555555555555556,
              "#d8576b"
             ],
             [
              0.6666666666666666,
              "#ed7953"
             ],
             [
              0.7777777777777778,
              "#fb9f3a"
             ],
             [
              0.8888888888888888,
              "#fdca26"
             ],
             [
              1,
              "#f0f921"
             ]
            ],
            "type": "heatmap"
           }
          ],
          "histogram": [
           {
            "marker": {
             "pattern": {
              "fillmode": "overlay",
              "size": 10,
              "solidity": 0.2
             }
            },
            "type": "histogram"
           }
          ],
          "histogram2d": [
           {
            "colorbar": {
             "outlinewidth": 0,
             "ticks": ""
            },
            "colorscale": [
             [
              0,
              "#0d0887"
             ],
             [
              0.1111111111111111,
              "#46039f"
             ],
             [
              0.2222222222222222,
              "#7201a8"
             ],
             [
              0.3333333333333333,
              "#9c179e"
             ],
             [
              0.4444444444444444,
              "#bd3786"
             ],
             [
              0.5555555555555556,
              "#d8576b"
             ],
             [
              0.6666666666666666,
              "#ed7953"
             ],
             [
              0.7777777777777778,
              "#fb9f3a"
             ],
             [
              0.8888888888888888,
              "#fdca26"
             ],
             [
              1,
              "#f0f921"
             ]
            ],
            "type": "histogram2d"
           }
          ],
          "histogram2dcontour": [
           {
            "colorbar": {
             "outlinewidth": 0,
             "ticks": ""
            },
            "colorscale": [
             [
              0,
              "#0d0887"
             ],
             [
              0.1111111111111111,
              "#46039f"
             ],
             [
              0.2222222222222222,
              "#7201a8"
             ],
             [
              0.3333333333333333,
              "#9c179e"
             ],
             [
              0.4444444444444444,
              "#bd3786"
             ],
             [
              0.5555555555555556,
              "#d8576b"
             ],
             [
              0.6666666666666666,
              "#ed7953"
             ],
             [
              0.7777777777777778,
              "#fb9f3a"
             ],
             [
              0.8888888888888888,
              "#fdca26"
             ],
             [
              1,
              "#f0f921"
             ]
            ],
            "type": "histogram2dcontour"
           }
          ],
          "mesh3d": [
           {
            "colorbar": {
             "outlinewidth": 0,
             "ticks": ""
            },
            "type": "mesh3d"
           }
          ],
          "parcoords": [
           {
            "line": {
             "colorbar": {
              "outlinewidth": 0,
              "ticks": ""
             }
            },
            "type": "parcoords"
           }
          ],
          "pie": [
           {
            "automargin": true,
            "type": "pie"
           }
          ],
          "scatter": [
           {
            "fillpattern": {
             "fillmode": "overlay",
             "size": 10,
             "solidity": 0.2
            },
            "type": "scatter"
           }
          ],
          "scatter3d": [
           {
            "line": {
             "colorbar": {
              "outlinewidth": 0,
              "ticks": ""
             }
            },
            "marker": {
             "colorbar": {
              "outlinewidth": 0,
              "ticks": ""
             }
            },
            "type": "scatter3d"
           }
          ],
          "scattercarpet": [
           {
            "marker": {
             "colorbar": {
              "outlinewidth": 0,
              "ticks": ""
             }
            },
            "type": "scattercarpet"
           }
          ],
          "scattergeo": [
           {
            "marker": {
             "colorbar": {
              "outlinewidth": 0,
              "ticks": ""
             }
            },
            "type": "scattergeo"
           }
          ],
          "scattergl": [
           {
            "marker": {
             "colorbar": {
              "outlinewidth": 0,
              "ticks": ""
             }
            },
            "type": "scattergl"
           }
          ],
          "scattermap": [
           {
            "marker": {
             "colorbar": {
              "outlinewidth": 0,
              "ticks": ""
             }
            },
            "type": "scattermap"
           }
          ],
          "scattermapbox": [
           {
            "marker": {
             "colorbar": {
              "outlinewidth": 0,
              "ticks": ""
             }
            },
            "type": "scattermapbox"
           }
          ],
          "scatterpolar": [
           {
            "marker": {
             "colorbar": {
              "outlinewidth": 0,
              "ticks": ""
             }
            },
            "type": "scatterpolar"
           }
          ],
          "scatterpolargl": [
           {
            "marker": {
             "colorbar": {
              "outlinewidth": 0,
              "ticks": ""
             }
            },
            "type": "scatterpolargl"
           }
          ],
          "scatterternary": [
           {
            "marker": {
             "colorbar": {
              "outlinewidth": 0,
              "ticks": ""
             }
            },
            "type": "scatterternary"
           }
          ],
          "surface": [
           {
            "colorbar": {
             "outlinewidth": 0,
             "ticks": ""
            },
            "colorscale": [
             [
              0,
              "#0d0887"
             ],
             [
              0.1111111111111111,
              "#46039f"
             ],
             [
              0.2222222222222222,
              "#7201a8"
             ],
             [
              0.3333333333333333,
              "#9c179e"
             ],
             [
              0.4444444444444444,
              "#bd3786"
             ],
             [
              0.5555555555555556,
              "#d8576b"
             ],
             [
              0.6666666666666666,
              "#ed7953"
             ],
             [
              0.7777777777777778,
              "#fb9f3a"
             ],
             [
              0.8888888888888888,
              "#fdca26"
             ],
             [
              1,
              "#f0f921"
             ]
            ],
            "type": "surface"
           }
          ],
          "table": [
           {
            "cells": {
             "fill": {
              "color": "#EBF0F8"
             },
             "line": {
              "color": "white"
             }
            },
            "header": {
             "fill": {
              "color": "#C8D4E3"
             },
             "line": {
              "color": "white"
             }
            },
            "type": "table"
           }
          ]
         },
         "layout": {
          "annotationdefaults": {
           "arrowcolor": "#2a3f5f",
           "arrowhead": 0,
           "arrowwidth": 1
          },
          "autotypenumbers": "strict",
          "coloraxis": {
           "colorbar": {
            "outlinewidth": 0,
            "ticks": ""
           }
          },
          "colorscale": {
           "diverging": [
            [
             0,
             "#8e0152"
            ],
            [
             0.1,
             "#c51b7d"
            ],
            [
             0.2,
             "#de77ae"
            ],
            [
             0.3,
             "#f1b6da"
            ],
            [
             0.4,
             "#fde0ef"
            ],
            [
             0.5,
             "#f7f7f7"
            ],
            [
             0.6,
             "#e6f5d0"
            ],
            [
             0.7,
             "#b8e186"
            ],
            [
             0.8,
             "#7fbc41"
            ],
            [
             0.9,
             "#4d9221"
            ],
            [
             1,
             "#276419"
            ]
           ],
           "sequential": [
            [
             0,
             "#0d0887"
            ],
            [
             0.1111111111111111,
             "#46039f"
            ],
            [
             0.2222222222222222,
             "#7201a8"
            ],
            [
             0.3333333333333333,
             "#9c179e"
            ],
            [
             0.4444444444444444,
             "#bd3786"
            ],
            [
             0.5555555555555556,
             "#d8576b"
            ],
            [
             0.6666666666666666,
             "#ed7953"
            ],
            [
             0.7777777777777778,
             "#fb9f3a"
            ],
            [
             0.8888888888888888,
             "#fdca26"
            ],
            [
             1,
             "#f0f921"
            ]
           ],
           "sequentialminus": [
            [
             0,
             "#0d0887"
            ],
            [
             0.1111111111111111,
             "#46039f"
            ],
            [
             0.2222222222222222,
             "#7201a8"
            ],
            [
             0.3333333333333333,
             "#9c179e"
            ],
            [
             0.4444444444444444,
             "#bd3786"
            ],
            [
             0.5555555555555556,
             "#d8576b"
            ],
            [
             0.6666666666666666,
             "#ed7953"
            ],
            [
             0.7777777777777778,
             "#fb9f3a"
            ],
            [
             0.8888888888888888,
             "#fdca26"
            ],
            [
             1,
             "#f0f921"
            ]
           ]
          },
          "colorway": [
           "#636efa",
           "#EF553B",
           "#00cc96",
           "#ab63fa",
           "#FFA15A",
           "#19d3f3",
           "#FF6692",
           "#B6E880",
           "#FF97FF",
           "#FECB52"
          ],
          "font": {
           "color": "#2a3f5f"
          },
          "geo": {
           "bgcolor": "white",
           "lakecolor": "white",
           "landcolor": "#E5ECF6",
           "showlakes": true,
           "showland": true,
           "subunitcolor": "white"
          },
          "hoverlabel": {
           "align": "left"
          },
          "hovermode": "closest",
          "mapbox": {
           "style": "light"
          },
          "paper_bgcolor": "white",
          "plot_bgcolor": "#E5ECF6",
          "polar": {
           "angularaxis": {
            "gridcolor": "white",
            "linecolor": "white",
            "ticks": ""
           },
           "bgcolor": "#E5ECF6",
           "radialaxis": {
            "gridcolor": "white",
            "linecolor": "white",
            "ticks": ""
           }
          },
          "scene": {
           "xaxis": {
            "backgroundcolor": "#E5ECF6",
            "gridcolor": "white",
            "gridwidth": 2,
            "linecolor": "white",
            "showbackground": true,
            "ticks": "",
            "zerolinecolor": "white"
           },
           "yaxis": {
            "backgroundcolor": "#E5ECF6",
            "gridcolor": "white",
            "gridwidth": 2,
            "linecolor": "white",
            "showbackground": true,
            "ticks": "",
            "zerolinecolor": "white"
           },
           "zaxis": {
            "backgroundcolor": "#E5ECF6",
            "gridcolor": "white",
            "gridwidth": 2,
            "linecolor": "white",
            "showbackground": true,
            "ticks": "",
            "zerolinecolor": "white"
           }
          },
          "shapedefaults": {
           "line": {
            "color": "#2a3f5f"
           }
          },
          "ternary": {
           "aaxis": {
            "gridcolor": "white",
            "linecolor": "white",
            "ticks": ""
           },
           "baxis": {
            "gridcolor": "white",
            "linecolor": "white",
            "ticks": ""
           },
           "bgcolor": "#E5ECF6",
           "caxis": {
            "gridcolor": "white",
            "linecolor": "white",
            "ticks": ""
           }
          },
          "title": {
           "x": 0.05
          },
          "xaxis": {
           "automargin": true,
           "gridcolor": "white",
           "linecolor": "white",
           "ticks": "",
           "title": {
            "standoff": 15
           },
           "zerolinecolor": "white",
           "zerolinewidth": 2
          },
          "yaxis": {
           "automargin": true,
           "gridcolor": "white",
           "linecolor": "white",
           "ticks": "",
           "title": {
            "standoff": 15
           },
           "zerolinecolor": "white",
           "zerolinewidth": 2
          }
         }
        },
        "title": {
         "text": "mock_ref",
         "x": 0.5
        },
        "width": 650,
        "xaxis": {
         "range": [
          0,
          222.06111
         ],
         "title": {
          "text": "Time (s)"
         }
        },
        "yaxis": {
         "categoryarray": [
          "redundant",
          "fine",
          "coarse",
          "empty"
         ],
         "categoryorder": "array",
         "title": {}
        }
       }
      }
     },
     "metadata": {},
     "output_type": "display_data"
    },
    {
     "data": {
      "application/vnd.plotly.v1+json": {
       "config": {
        "plotlyServerURL": "https://plot.ly"
       },
       "data": [
        {
         "base": [
          0
         ],
         "customdata": [
          "<b>silence</b><br>Layer: L01<br>Start: 0.000s<br>End: 0.244s<br>Duration: 0.244s"
         ],
         "hovertemplate": "%{customdata}<extra></extra>",
         "insidetextanchor": "middle",
         "marker": {
          "color": "#1F77B4",
          "line": {
           "color": "white",
           "width": 0.5
          },
          "pattern": {
           "fgcolor": "white",
           "fgopacity": 0.5,
           "shape": "",
           "solidity": 0.25
          }
         },
         "name": "silence",
         "orientation": "h",
         "showlegend": true,
         "text": [
          "silence"
         ],
         "textposition": "inside",
         "type": "bar",
         "width": 1,
         "x": [
          0.24381
         ],
         "y": [
          "L01"
         ]
        },
        {
         "base": [
          0.24381
         ],
         "customdata": [
          "<b>intro</b><br>Layer: L01<br>Start: 0.244s<br>End: 31.504s<br>Duration: 31.260s"
         ],
         "hovertemplate": "%{customdata}<extra></extra>",
         "insidetextanchor": "middle",
         "marker": {
          "color": "#FF7F0E",
          "line": {
           "color": "white",
           "width": 0.5
          },
          "pattern": {
           "fgcolor": "white",
           "fgopacity": 0.5,
           "shape": "",
           "solidity": 0.25
          }
         },
         "name": "intro",
         "orientation": "h",
         "showlegend": true,
         "text": [
          "intro"
         ],
         "textposition": "inside",
         "type": "bar",
         "width": 1,
         "x": [
          31.26023
         ],
         "y": [
          "L01"
         ]
        },
        {
         "base": [
          31.50404,
          72.63848,
          165.00934
         ],
         "customdata": [
          "<b>verse</b><br>Layer: L01<br>Start: 31.504s<br>End: 52.075s<br>Duration: 20.571s",
          "<b>verse</b><br>Layer: L01<br>Start: 72.638s<br>End: 93.223s<br>Duration: 20.585s",
          "<b>verse</b><br>Layer: L01<br>Start: 165.009s<br>End: 180.447s<br>Duration: 15.437s"
         ],
         "hovertemplate": "%{customdata}<extra></extra>",
         "insidetextanchor": "middle",
         "marker": {
          "color": "#2CA02C",
          "line": {
           "color": "white",
           "width": 0.5
          },
          "pattern": {
           "fgcolor": "white",
           "fgopacity": 0.5,
           "shape": "",
           "solidity": 0.25
          }
         },
         "name": "verse",
         "orientation": "h",
         "showlegend": true,
         "text": [
          "verse",
          "verse",
          "verse"
         ],
         "textposition": "inside",
         "type": "bar",
         "width": 1,
         "x": [
          20.57138,
          20.58488,
          15.437369999999987
         ],
         "y": [
          "L01",
          "L01",
          "L01"
         ]
        },
        {
         "base": [
          52.07542
         ],
         "customdata": [
          "<b>chorus</b><br>Layer: L01<br>Start: 52.075s<br>End: 62.362s<br>Duration: 10.287s"
         ],
         "hovertemplate": "%{customdata}<extra></extra>",
         "insidetextanchor": "middle",
         "marker": {
          "color": "#D62728",
          "line": {
           "color": "white",
           "width": 0.5
          },
          "pattern": {
           "fgcolor": "white",
           "fgopacity": 0.5,
           "shape": "",
           "solidity": 0.25
          }
         },
         "name": "chorus",
         "orientation": "h",
         "showlegend": true,
         "text": [
          "chorus"
         ],
         "textposition": "inside",
         "type": "bar",
         "width": 1,
         "x": [
          10.287030000000001
         ],
         "y": [
          "L01"
         ]
        },
        {
         "base": [
          62.36245
         ],
         "customdata": [
          "<b>interlude</b><br>Layer: L01<br>Start: 62.362s<br>End: 72.638s<br>Duration: 10.276s"
         ],
         "hovertemplate": "%{customdata}<extra></extra>",
         "insidetextanchor": "middle",
         "marker": {
          "color": "#9467BD",
          "line": {
           "color": "white",
           "width": 0.5
          },
          "pattern": {
           "fgcolor": "white",
           "fgopacity": 0.5,
           "shape": "",
           "solidity": 0.25
          }
         },
         "name": "interlude",
         "orientation": "h",
         "showlegend": true,
         "text": [
          "interlude"
         ],
         "textposition": "inside",
         "type": "bar",
         "width": 1,
         "x": [
          10.276029999999999
         ],
         "y": [
          "L01"
         ]
        },
        {
         "base": [
          93.22336,
          103.57853,
          154.88533,
          180.44671,
          190.76401
         ],
         "customdata": [
          "<b>no_function</b><br>Layer: L01<br>Start: 93.223s<br>End: 103.579s<br>Duration: 10.355s",
          "<b>no_function</b><br>Layer: L01<br>Start: 103.579s<br>End: 154.885s<br>Duration: 51.307s",
          "<b>no_function</b><br>Layer: L01<br>Start: 154.885s<br>End: 165.009s<br>Duration: 10.124s",
          "<b>no_function</b><br>Layer: L01<br>Start: 180.447s<br>End: 190.764s<br>Duration: 10.317s",
          "<b>no_function</b><br>Layer: L01<br>Start: 190.764s<br>End: 222.061s<br>Duration: 31.297s"
         ],
         "hovertemplate": "%{customdata}<extra></extra>",
         "insidetextanchor": "middle",
         "marker": {
          "color": "#8C564B",
          "line": {
           "color": "white",
           "width": 0.5
          },
          "pattern": {
           "fgcolor": "white",
           "fgopacity": 0.5,
           "shape": "",
           "solidity": 0.25
          }
         },
         "name": "no_function",
         "orientation": "h",
         "showlegend": true,
         "text": [
          "no_function",
          "no_function",
          "no_function",
          "no_function",
          "no_function"
         ],
         "textposition": "inside",
         "type": "bar",
         "width": 1,
         "x": [
          10.355170000000001,
          51.30680000000001,
          10.124009999999998,
          10.317300000000017,
          31.2971
         ],
         "y": [
          "L01",
          "L01",
          "L01",
          "L01",
          "L01"
         ]
        },
        {
         "base": [
          0
         ],
         "customdata": [
          "<b>Silence</b><br>Layer: L02<br>Start: 0.000s<br>End: 0.244s<br>Duration: 0.244s"
         ],
         "hovertemplate": "%{customdata}<extra></extra>",
         "insidetextanchor": "middle",
         "marker": {
          "color": "#E377C2",
          "line": {
           "color": "white",
           "width": 0.5
          },
          "pattern": {
           "fgcolor": "white",
           "fgopacity": 0.5,
           "shape": "",
           "solidity": 0.25
          }
         },
         "name": "Silence",
         "orientation": "h",
         "showlegend": true,
         "text": [
          "Silence"
         ],
         "textposition": "inside",
         "type": "bar",
         "width": 1,
         "x": [
          0.24381
         ],
         "y": [
          "L02"
         ]
        },
        {
         "base": [
          0.24381,
          134.47696,
          144.71481
         ],
         "customdata": [
          "<b>a</b><br>Layer: L02<br>Start: 0.244s<br>End: 11.052s<br>Duration: 10.808s",
          "<b>a</b><br>Layer: L02<br>Start: 134.477s<br>End: 144.715s<br>Duration: 10.238s",
          "<b>a</b><br>Layer: L02<br>Start: 144.715s<br>End: 154.885s<br>Duration: 10.171s"
         ],
         "hovertemplate": "%{customdata}<extra></extra>",
         "insidetextanchor": "middle",
         "marker": {
          "color": "#7F7F7F",
          "line": {
           "color": "white",
           "width": 0.5
          },
          "pattern": {
           "fgcolor": "white",
           "fgopacity": 0.5,
           "shape": "",
           "solidity": 0.25
          }
         },
         "name": "a",
         "orientation": "h",
         "showlegend": true,
         "text": [
          "a",
          "a",
          "a"
         ],
         "textposition": "inside",
         "type": "bar",
         "width": 1,
         "x": [
          10.80787,
          10.237850000000009,
          10.17052000000001
         ],
         "y": [
          "L02",
          "L02",
          "L02"
         ]
        },
        {
         "base": [
          11.05168
         ],
         "customdata": [
          "<b>b</b><br>Layer: L02<br>Start: 11.052s<br>End: 21.271s<br>Duration: 10.219s"
         ],
         "hovertemplate": "%{customdata}<extra></extra>",
         "insidetextanchor": "middle",
         "marker": {
          "color": "#BCBD22",
          "line": {
           "color": "white",
           "width": 0.5
          },
          "pattern": {
           "fgcolor": "white",
           "fgopacity": 0.5,
           "shape": "",
           "solidity": 0.25
          }
         },
         "name": "b",
         "orientation": "h",
         "showlegend": true,
         "text": [
          "b"
         ],
         "textposition": "inside",
         "type": "bar",
         "width": 1,
         "x": [
          10.21898
         ],
         "y": [
          "L02"
         ]
        },
        {
         "base": [
          21.27066,
          62.36245
         ],
         "customdata": [
          "<b>c</b><br>Layer: L02<br>Start: 21.271s<br>End: 31.504s<br>Duration: 10.233s",
          "<b>c</b><br>Layer: L02<br>Start: 62.362s<br>End: 72.638s<br>Duration: 10.276s"
         ],
         "hovertemplate": "%{customdata}<extra></extra>",
         "insidetextanchor": "middle",
         "marker": {
          "color": "#17BECF",
          "line": {
           "color": "white",
           "width": 0.5
          },
          "pattern": {
           "fgcolor": "white",
           "fgopacity": 0.5,
           "shape": "",
           "solidity": 0.25
          }
         },
         "name": "c",
         "orientation": "h",
         "showlegend": true,
         "text": [
          "c",
          "c"
         ],
         "textposition": "inside",
         "type": "bar",
         "width": 1,
         "x": [
          10.23338,
          10.276029999999999
         ],
         "y": [
          "L02",
          "L02"
         ]
        },
        {
         "base": [
          31.50404,
          41.80308,
          72.63848,
          83.00048,
          165.00934
         ],
         "customdata": [
          "<b>d</b><br>Layer: L02<br>Start: 31.504s<br>End: 41.803s<br>Duration: 10.299s",
          "<b>d</b><br>Layer: L02<br>Start: 41.803s<br>End: 52.075s<br>Duration: 10.272s",
          "<b>d</b><br>Layer: L02<br>Start: 72.638s<br>End: 83.000s<br>Duration: 10.362s",
          "<b>d</b><br>Layer: L02<br>Start: 83.000s<br>End: 93.223s<br>Duration: 10.223s",
          "<b>d</b><br>Layer: L02<br>Start: 165.009s<br>End: 175.356s<br>Duration: 10.346s"
         ],
         "hovertemplate": "%{customdata}<extra></extra>",
         "insidetextanchor": "middle",
         "marker": {
          "color": "#1F77B4",
          "line": {
           "color": "white",
           "width": 0.5
          },
          "pattern": {
           "fgcolor": "white",
           "fgopacity": 0.5,
           "shape": ".",
           "solidity": 0.25
          }
         },
         "name": "d",
         "orientation": "h",
         "showlegend": true,
         "text": [
          "d",
          "d",
          "d",
          "d",
          "d"
         ],
         "textposition": "inside",
         "type": "bar",
         "width": 1,
         "x": [
          10.299040000000002,
          10.27234,
          10.361999999999995,
          10.222880000000004,
          10.34645999999998
         ],
         "y": [
          "L02",
          "L02",
          "L02",
          "L02",
          "L02"
         ]
        },
        {
         "base": [
          52.07542,
          93.22336,
          154.88533,
          180.44671
         ],
         "customdata": [
          "<b>b'</b><br>Layer: L02<br>Start: 52.075s<br>End: 62.362s<br>Duration: 10.287s",
          "<b>b'</b><br>Layer: L02<br>Start: 93.223s<br>End: 103.579s<br>Duration: 10.355s",
          "<b>b'</b><br>Layer: L02<br>Start: 154.885s<br>End: 165.009s<br>Duration: 10.124s",
          "<b>b'</b><br>Layer: L02<br>Start: 180.447s<br>End: 190.764s<br>Duration: 10.317s"
         ],
         "hovertemplate": "%{customdata}<extra></extra>",
         "insidetextanchor": "middle",
         "marker": {
          "color": "#FF7F0E",
          "line": {
           "color": "white",
           "width": 0.5
          },
          "pattern": {
           "fgcolor": "white",
           "fgopacity": 0.5,
           "shape": ".",
           "solidity": 0.25
          }
         },
         "name": "b'",
         "orientation": "h",
         "showlegend": true,
         "text": [
          "b'",
          "b'",
          "b'",
          "b'"
         ],
         "textposition": "inside",
         "type": "bar",
         "width": 1,
         "x": [
          10.287030000000001,
          10.355170000000001,
          10.124009999999998,
          10.317300000000017
         ],
         "y": [
          "L02",
          "L02",
          "L02",
          "L02"
         ]
        },
        {
         "base": [
          103.57853,
          190.76401
         ],
         "customdata": [
          "<b>e</b><br>Layer: L02<br>Start: 103.579s<br>End: 113.906s<br>Duration: 10.328s",
          "<b>e</b><br>Layer: L02<br>Start: 190.764s<br>End: 200.920s<br>Duration: 10.156s"
         ],
         "hovertemplate": "%{customdata}<extra></extra>",
         "insidetextanchor": "middle",
         "marker": {
          "color": "#2CA02C",
          "line": {
           "color": "white",
           "width": 0.5
          },
          "pattern": {
           "fgcolor": "white",
           "fgopacity": 0.5,
           "shape": ".",
           "solidity": 0.25
          }
         },
         "name": "e",
         "orientation": "h",
         "showlegend": true,
         "text": [
          "e",
          "e"
         ],
         "textposition": "inside",
         "type": "bar",
         "width": 1,
         "x": [
          10.327820000000003,
          10.156469999999985
         ],
         "y": [
          "L02",
          "L02"
         ]
        },
        {
         "base": [
          113.90635
         ],
         "customdata": [
          "<b>e'</b><br>Layer: L02<br>Start: 113.906s<br>End: 124.068s<br>Duration: 10.161s"
         ],
         "hovertemplate": "%{customdata}<extra></extra>",
         "insidetextanchor": "middle",
         "marker": {
          "color": "#D62728",
          "line": {
           "color": "white",
           "width": 0.5
          },
          "pattern": {
           "fgcolor": "white",
           "fgopacity": 0.5,
           "shape": ".",
           "solidity": 0.25
          }
         },
         "name": "e'",
         "orientation": "h",
         "showlegend": true,
         "text": [
          "e'"
         ],
         "textposition": "inside",
         "type": "bar",
         "width": 1,
         "x": [
          10.161450000000002
         ],
         "y": [
          "L02"
         ]
        },
        {
         "base": [
          124.0678
         ],
         "customdata": [
          "<b>e''</b><br>Layer: L02<br>Start: 124.068s<br>End: 134.477s<br>Duration: 10.409s"
         ],
         "hovertemplate": "%{customdata}<extra></extra>",
         "insidetextanchor": "middle",
         "marker": {
          "color": "#9467BD",
          "line": {
           "color": "white",
           "width": 0.5
          },
          "pattern": {
           "fgcolor": "white",
           "fgopacity": 0.5,
           "shape": ".",
           "solidity": 0.25
          }
         },
         "name": "e''",
         "orientation": "h",
         "showlegend": true,
         "text": [
          "e''"
         ],
         "textposition": "inside",
         "type": "bar",
         "width": 1,
         "x": [
          10.409159999999986
         ],
         "y": [
          "L02"
         ]
        },
        {
         "base": [
          175.3558
         ],
         "customdata": [
          "<b>d'</b><br>Layer: L02<br>Start: 175.356s<br>End: 180.447s<br>Duration: 5.091s"
         ],
         "hovertemplate": "%{customdata}<extra></extra>",
         "insidetextanchor": "middle",
         "marker": {
          "color": "#8C564B",
          "line": {
           "color": "white",
           "width": 0.5
          },
          "pattern": {
           "fgcolor": "white",
           "fgopacity": 0.5,
           "shape": ".",
           "solidity": 0.25
          }
         },
         "name": "d'",
         "orientation": "h",
         "showlegend": true,
         "text": [
          "d'"
         ],
         "textposition": "inside",
         "type": "bar",
         "width": 1,
         "x": [
          5.090910000000008
         ],
         "y": [
          "L02"
         ]
        },
        {
         "base": [
          200.92048,
          211.08254
         ],
         "customdata": [
          "<b>e'''</b><br>Layer: L02<br>Start: 200.920s<br>End: 211.083s<br>Duration: 10.162s",
          "<b>e'''</b><br>Layer: L02<br>Start: 211.083s<br>End: 222.061s<br>Duration: 10.979s"
         ],
         "hovertemplate": "%{customdata}<extra></extra>",
         "insidetextanchor": "middle",
         "marker": {
          "color": "#E377C2",
          "line": {
           "color": "white",
           "width": 0.5
          },
          "pattern": {
           "fgcolor": "white",
           "fgopacity": 0.5,
           "shape": ".",
           "solidity": 0.25
          }
         },
         "name": "e'''",
         "orientation": "h",
         "showlegend": true,
         "text": [
          "e'''",
          "e'''"
         ],
         "textposition": "inside",
         "type": "bar",
         "width": 1,
         "x": [
          10.162059999999997,
          10.978570000000019
         ],
         "y": [
          "L02",
          "L02"
         ]
        }
       ],
       "layout": {
        "barmode": "overlay",
        "height": 120,
        "margin": {
         "b": 20,
         "l": 20,
         "r": 20,
         "t": 40
        },
        "showlegend": false,
        "template": {
         "data": {
          "bar": [
           {
            "error_x": {
             "color": "#2a3f5f"
            },
            "error_y": {
             "color": "#2a3f5f"
            },
            "marker": {
             "line": {
              "color": "#E5ECF6",
              "width": 0.5
             },
             "pattern": {
              "fillmode": "overlay",
              "size": 10,
              "solidity": 0.2
             }
            },
            "type": "bar"
           }
          ],
          "barpolar": [
           {
            "marker": {
             "line": {
              "color": "#E5ECF6",
              "width": 0.5
             },
             "pattern": {
              "fillmode": "overlay",
              "size": 10,
              "solidity": 0.2
             }
            },
            "type": "barpolar"
           }
          ],
          "carpet": [
           {
            "aaxis": {
             "endlinecolor": "#2a3f5f",
             "gridcolor": "white",
             "linecolor": "white",
             "minorgridcolor": "white",
             "startlinecolor": "#2a3f5f"
            },
            "baxis": {
             "endlinecolor": "#2a3f5f",
             "gridcolor": "white",
             "linecolor": "white",
             "minorgridcolor": "white",
             "startlinecolor": "#2a3f5f"
            },
            "type": "carpet"
           }
          ],
          "choropleth": [
           {
            "colorbar": {
             "outlinewidth": 0,
             "ticks": ""
            },
            "type": "choropleth"
           }
          ],
          "contour": [
           {
            "colorbar": {
             "outlinewidth": 0,
             "ticks": ""
            },
            "colorscale": [
             [
              0,
              "#0d0887"
             ],
             [
              0.1111111111111111,
              "#46039f"
             ],
             [
              0.2222222222222222,
              "#7201a8"
             ],
             [
              0.3333333333333333,
              "#9c179e"
             ],
             [
              0.4444444444444444,
              "#bd3786"
             ],
             [
              0.5555555555555556,
              "#d8576b"
             ],
             [
              0.6666666666666666,
              "#ed7953"
             ],
             [
              0.7777777777777778,
              "#fb9f3a"
             ],
             [
              0.8888888888888888,
              "#fdca26"
             ],
             [
              1,
              "#f0f921"
             ]
            ],
            "type": "contour"
           }
          ],
          "contourcarpet": [
           {
            "colorbar": {
             "outlinewidth": 0,
             "ticks": ""
            },
            "type": "contourcarpet"
           }
          ],
          "heatmap": [
           {
            "colorbar": {
             "outlinewidth": 0,
             "ticks": ""
            },
            "colorscale": [
             [
              0,
              "#0d0887"
             ],
             [
              0.1111111111111111,
              "#46039f"
             ],
             [
              0.2222222222222222,
              "#7201a8"
             ],
             [
              0.3333333333333333,
              "#9c179e"
             ],
             [
              0.4444444444444444,
              "#bd3786"
             ],
             [
              0.5555555555555556,
              "#d8576b"
             ],
             [
              0.6666666666666666,
              "#ed7953"
             ],
             [
              0.7777777777777778,
              "#fb9f3a"
             ],
             [
              0.8888888888888888,
              "#fdca26"
             ],
             [
              1,
              "#f0f921"
             ]
            ],
            "type": "heatmap"
           }
          ],
          "histogram": [
           {
            "marker": {
             "pattern": {
              "fillmode": "overlay",
              "size": 10,
              "solidity": 0.2
             }
            },
            "type": "histogram"
           }
          ],
          "histogram2d": [
           {
            "colorbar": {
             "outlinewidth": 0,
             "ticks": ""
            },
            "colorscale": [
             [
              0,
              "#0d0887"
             ],
             [
              0.1111111111111111,
              "#46039f"
             ],
             [
              0.2222222222222222,
              "#7201a8"
             ],
             [
              0.3333333333333333,
              "#9c179e"
             ],
             [
              0.4444444444444444,
              "#bd3786"
             ],
             [
              0.5555555555555556,
              "#d8576b"
             ],
             [
              0.6666666666666666,
              "#ed7953"
             ],
             [
              0.7777777777777778,
              "#fb9f3a"
             ],
             [
              0.8888888888888888,
              "#fdca26"
             ],
             [
              1,
              "#f0f921"
             ]
            ],
            "type": "histogram2d"
           }
          ],
          "histogram2dcontour": [
           {
            "colorbar": {
             "outlinewidth": 0,
             "ticks": ""
            },
            "colorscale": [
             [
              0,
              "#0d0887"
             ],
             [
              0.1111111111111111,
              "#46039f"
             ],
             [
              0.2222222222222222,
              "#7201a8"
             ],
             [
              0.3333333333333333,
              "#9c179e"
             ],
             [
              0.4444444444444444,
              "#bd3786"
             ],
             [
              0.5555555555555556,
              "#d8576b"
             ],
             [
              0.6666666666666666,
              "#ed7953"
             ],
             [
              0.7777777777777778,
              "#fb9f3a"
             ],
             [
              0.8888888888888888,
              "#fdca26"
             ],
             [
              1,
              "#f0f921"
             ]
            ],
            "type": "histogram2dcontour"
           }
          ],
          "mesh3d": [
           {
            "colorbar": {
             "outlinewidth": 0,
             "ticks": ""
            },
            "type": "mesh3d"
           }
          ],
          "parcoords": [
           {
            "line": {
             "colorbar": {
              "outlinewidth": 0,
              "ticks": ""
             }
            },
            "type": "parcoords"
           }
          ],
          "pie": [
           {
            "automargin": true,
            "type": "pie"
           }
          ],
          "scatter": [
           {
            "fillpattern": {
             "fillmode": "overlay",
             "size": 10,
             "solidity": 0.2
            },
            "type": "scatter"
           }
          ],
          "scatter3d": [
           {
            "line": {
             "colorbar": {
              "outlinewidth": 0,
              "ticks": ""
             }
            },
            "marker": {
             "colorbar": {
              "outlinewidth": 0,
              "ticks": ""
             }
            },
            "type": "scatter3d"
           }
          ],
          "scattercarpet": [
           {
            "marker": {
             "colorbar": {
              "outlinewidth": 0,
              "ticks": ""
             }
            },
            "type": "scattercarpet"
           }
          ],
          "scattergeo": [
           {
            "marker": {
             "colorbar": {
              "outlinewidth": 0,
              "ticks": ""
             }
            },
            "type": "scattergeo"
           }
          ],
          "scattergl": [
           {
            "marker": {
             "colorbar": {
              "outlinewidth": 0,
              "ticks": ""
             }
            },
            "type": "scattergl"
           }
          ],
          "scattermap": [
           {
            "marker": {
             "colorbar": {
              "outlinewidth": 0,
              "ticks": ""
             }
            },
            "type": "scattermap"
           }
          ],
          "scattermapbox": [
           {
            "marker": {
             "colorbar": {
              "outlinewidth": 0,
              "ticks": ""
             }
            },
            "type": "scattermapbox"
           }
          ],
          "scatterpolar": [
           {
            "marker": {
             "colorbar": {
              "outlinewidth": 0,
              "ticks": ""
             }
            },
            "type": "scatterpolar"
           }
          ],
          "scatterpolargl": [
           {
            "marker": {
             "colorbar": {
              "outlinewidth": 0,
              "ticks": ""
             }
            },
            "type": "scatterpolargl"
           }
          ],
          "scatterternary": [
           {
            "marker": {
             "colorbar": {
              "outlinewidth": 0,
              "ticks": ""
             }
            },
            "type": "scatterternary"
           }
          ],
          "surface": [
           {
            "colorbar": {
             "outlinewidth": 0,
             "ticks": ""
            },
            "colorscale": [
             [
              0,
              "#0d0887"
             ],
             [
              0.1111111111111111,
              "#46039f"
             ],
             [
              0.2222222222222222,
              "#7201a8"
             ],
             [
              0.3333333333333333,
              "#9c179e"
             ],
             [
              0.4444444444444444,
              "#bd3786"
             ],
             [
              0.5555555555555556,
              "#d8576b"
             ],
             [
              0.6666666666666666,
              "#ed7953"
             ],
             [
              0.7777777777777778,
              "#fb9f3a"
             ],
             [
              0.8888888888888888,
              "#fdca26"
             ],
             [
              1,
              "#f0f921"
             ]
            ],
            "type": "surface"
           }
          ],
          "table": [
           {
            "cells": {
             "fill": {
              "color": "#EBF0F8"
             },
             "line": {
              "color": "white"
             }
            },
            "header": {
             "fill": {
              "color": "#C8D4E3"
             },
             "line": {
              "color": "white"
             }
            },
            "type": "table"
           }
          ]
         },
         "layout": {
          "annotationdefaults": {
           "arrowcolor": "#2a3f5f",
           "arrowhead": 0,
           "arrowwidth": 1
          },
          "autotypenumbers": "strict",
          "coloraxis": {
           "colorbar": {
            "outlinewidth": 0,
            "ticks": ""
           }
          },
          "colorscale": {
           "diverging": [
            [
             0,
             "#8e0152"
            ],
            [
             0.1,
             "#c51b7d"
            ],
            [
             0.2,
             "#de77ae"
            ],
            [
             0.3,
             "#f1b6da"
            ],
            [
             0.4,
             "#fde0ef"
            ],
            [
             0.5,
             "#f7f7f7"
            ],
            [
             0.6,
             "#e6f5d0"
            ],
            [
             0.7,
             "#b8e186"
            ],
            [
             0.8,
             "#7fbc41"
            ],
            [
             0.9,
             "#4d9221"
            ],
            [
             1,
             "#276419"
            ]
           ],
           "sequential": [
            [
             0,
             "#0d0887"
            ],
            [
             0.1111111111111111,
             "#46039f"
            ],
            [
             0.2222222222222222,
             "#7201a8"
            ],
            [
             0.3333333333333333,
             "#9c179e"
            ],
            [
             0.4444444444444444,
             "#bd3786"
            ],
            [
             0.5555555555555556,
             "#d8576b"
            ],
            [
             0.6666666666666666,
             "#ed7953"
            ],
            [
             0.7777777777777778,
             "#fb9f3a"
            ],
            [
             0.8888888888888888,
             "#fdca26"
            ],
            [
             1,
             "#f0f921"
            ]
           ],
           "sequentialminus": [
            [
             0,
             "#0d0887"
            ],
            [
             0.1111111111111111,
             "#46039f"
            ],
            [
             0.2222222222222222,
             "#7201a8"
            ],
            [
             0.3333333333333333,
             "#9c179e"
            ],
            [
             0.4444444444444444,
             "#bd3786"
            ],
            [
             0.5555555555555556,
             "#d8576b"
            ],
            [
             0.6666666666666666,
             "#ed7953"
            ],
            [
             0.7777777777777778,
             "#fb9f3a"
            ],
            [
             0.8888888888888888,
             "#fdca26"
            ],
            [
             1,
             "#f0f921"
            ]
           ]
          },
          "colorway": [
           "#636efa",
           "#EF553B",
           "#00cc96",
           "#ab63fa",
           "#FFA15A",
           "#19d3f3",
           "#FF6692",
           "#B6E880",
           "#FF97FF",
           "#FECB52"
          ],
          "font": {
           "color": "#2a3f5f"
          },
          "geo": {
           "bgcolor": "white",
           "lakecolor": "white",
           "landcolor": "#E5ECF6",
           "showlakes": true,
           "showland": true,
           "subunitcolor": "white"
          },
          "hoverlabel": {
           "align": "left"
          },
          "hovermode": "closest",
          "mapbox": {
           "style": "light"
          },
          "paper_bgcolor": "white",
          "plot_bgcolor": "#E5ECF6",
          "polar": {
           "angularaxis": {
            "gridcolor": "white",
            "linecolor": "white",
            "ticks": ""
           },
           "bgcolor": "#E5ECF6",
           "radialaxis": {
            "gridcolor": "white",
            "linecolor": "white",
            "ticks": ""
           }
          },
          "scene": {
           "xaxis": {
            "backgroundcolor": "#E5ECF6",
            "gridcolor": "white",
            "gridwidth": 2,
            "linecolor": "white",
            "showbackground": true,
            "ticks": "",
            "zerolinecolor": "white"
           },
           "yaxis": {
            "backgroundcolor": "#E5ECF6",
            "gridcolor": "white",
            "gridwidth": 2,
            "linecolor": "white",
            "showbackground": true,
            "ticks": "",
            "zerolinecolor": "white"
           },
           "zaxis": {
            "backgroundcolor": "#E5ECF6",
            "gridcolor": "white",
            "gridwidth": 2,
            "linecolor": "white",
            "showbackground": true,
            "ticks": "",
            "zerolinecolor": "white"
           }
          },
          "shapedefaults": {
           "line": {
            "color": "#2a3f5f"
           }
          },
          "ternary": {
           "aaxis": {
            "gridcolor": "white",
            "linecolor": "white",
            "ticks": ""
           },
           "baxis": {
            "gridcolor": "white",
            "linecolor": "white",
            "ticks": ""
           },
           "bgcolor": "#E5ECF6",
           "caxis": {
            "gridcolor": "white",
            "linecolor": "white",
            "ticks": ""
           }
          },
          "title": {
           "x": 0.05
          },
          "xaxis": {
           "automargin": true,
           "gridcolor": "white",
           "linecolor": "white",
           "ticks": "",
           "title": {
            "standoff": 15
           },
           "zerolinecolor": "white",
           "zerolinewidth": 2
          },
          "yaxis": {
           "automargin": true,
           "gridcolor": "white",
           "linecolor": "white",
           "ticks": "",
           "title": {
            "standoff": 15
           },
           "zerolinecolor": "white",
           "zerolinewidth": 2
          }
         }
        },
        "title": {
         "text": "mock_ref",
         "x": 0.5
        },
        "width": 650,
        "xaxis": {
         "range": [
          0,
          222.06111
         ],
         "title": {
          "text": "Time (s)"
         }
        },
        "yaxis": {
         "categoryarray": [
          "L02",
          "L01"
         ],
         "categoryorder": "array",
         "title": {}
        }
       }
      }
     },
     "metadata": {},
     "output_type": "display_data"
    }
   ],
   "source": [
    "mock_empty_layer = bnl.S(\n",
    "    bs=[ref.start, ref.end], labels=[None], \n",
    "    name='empty'\n",
    ")\n",
    "mock_layer = bnl.S(\n",
    "    bs=ref[1].bs, labels=[f'lab_{lab}' for lab in ref[1].labels], \n",
    "    name='redundant'\n",
    ")\n",
    "mock_ref = bnl.MS(\n",
    "    layers=[mock_empty_layer] + ref.layers + [mock_layer], \n",
    "    name='mock_ref'\n",
    ")\n",
    "\n",
    "mock_ref.plot().show()\n",
    "mock_ref.prune_layers().plot().show()\n"
   ]
  },
  {
   "cell_type": "code",
   "execution_count": 41,
   "metadata": {},
   "outputs": [],
   "source": [
    "# First figure: we need to show for T-measure, what's it's deal with monotonicity.\n",
    "import mir_eval\n",
    "import numpy as np\n",
    "from random import choice\n",
    "from bnl.data import Dataset\n",
    "from plotly.subplots import make_subplots\n",
    "\n",
    "slm_ds = Dataset()\n",
    "track = slm_ds[18]\n",
    "\n",
    "est = track.ests[choice(list(track.ests))]\n",
    "ref = track.refs[choice(list(track.refs))]\n",
    "aligned_est = est.align(span=ref)\n"
   ]
  },
  {
   "cell_type": "code",
   "execution_count": 42,
   "metadata": {},
   "outputs": [],
   "source": [
    "mono_est_count = aligned_est.contour('count').level().to_ms()\n",
    "mono_est_depth = aligned_est.contour('depth').level().to_ms()\n",
    "mono_est_prob = aligned_est.contour('prob').level().to_ms()\n"
   ]
  },
  {
   "cell_type": "code",
   "execution_count": 43,
   "metadata": {},
   "outputs": [
    {
     "data": {
      "application/vnd.plotly.v1+json": {
       "config": {
        "plotlyServerURL": "https://plot.ly"
       },
       "data": [
        {
         "base": [
          0,
          287.46322
         ],
         "customdata": [
          "<b>silence</b><br>Layer: coarse<br>Start: 0.000s<br>End: 0.046s<br>Duration: 0.046s",
          "<b>silence</b><br>Layer: coarse<br>Start: 287.463s<br>End: 287.493s<br>Duration: 0.030s"
         ],
         "hovertemplate": "%{customdata}<extra></extra>",
         "insidetextanchor": "middle",
         "marker": {
          "color": "#1F77B4",
          "line": {
           "color": "white",
           "width": 0.5
          },
          "pattern": {
           "fgcolor": "white",
           "fgopacity": 0.5,
           "shape": "",
           "solidity": 0.25
          }
         },
         "name": "silence",
         "orientation": "h",
         "showlegend": true,
         "text": [
          "silence",
          "silence"
         ],
         "textposition": "inside",
         "type": "bar",
         "width": 1,
         "x": [
          0.04644,
          0.030070000000023356
         ],
         "xaxis": "x",
         "y": [
          "coarse",
          "coarse"
         ],
         "yaxis": "y"
        },
        {
         "base": [
          0.04644
         ],
         "customdata": [
          "<b>intro</b><br>Layer: coarse<br>Start: 0.046s<br>End: 8.271s<br>Duration: 8.224s"
         ],
         "hovertemplate": "%{customdata}<extra></extra>",
         "insidetextanchor": "middle",
         "marker": {
          "color": "#FF7F0E",
          "line": {
           "color": "white",
           "width": 0.5
          },
          "pattern": {
           "fgcolor": "white",
           "fgopacity": 0.5,
           "shape": "",
           "solidity": 0.25
          }
         },
         "name": "intro",
         "orientation": "h",
         "showlegend": true,
         "text": [
          "intro"
         ],
         "textposition": "inside",
         "type": "bar",
         "width": 1,
         "x": [
          8.22429
         ],
         "xaxis": "x",
         "y": [
          "coarse"
         ],
         "yaxis": "y"
        },
        {
         "base": [
          8.27073,
          132.03048,
          155.05132,
          178.05614,
          201.10245,
          255.0222
         ],
         "customdata": [
          "<b>no_function</b><br>Layer: coarse<br>Start: 8.271s<br>End: 23.747s<br>Duration: 15.476s",
          "<b>no_function</b><br>Layer: coarse<br>Start: 132.030s<br>End: 155.051s<br>Duration: 23.021s",
          "<b>no_function</b><br>Layer: coarse<br>Start: 155.051s<br>End: 178.056s<br>Duration: 23.005s",
          "<b>no_function</b><br>Layer: coarse<br>Start: 178.056s<br>End: 201.102s<br>Duration: 23.046s",
          "<b>no_function</b><br>Layer: coarse<br>Start: 201.102s<br>End: 224.166s<br>Duration: 23.064s",
          "<b>no_function</b><br>Layer: coarse<br>Start: 255.022s<br>End: 276.938s<br>Duration: 21.916s"
         ],
         "hovertemplate": "%{customdata}<extra></extra>",
         "insidetextanchor": "middle",
         "marker": {
          "color": "#2CA02C",
          "line": {
           "color": "white",
           "width": 0.5
          },
          "pattern": {
           "fgcolor": "white",
           "fgopacity": 0.5,
           "shape": "",
           "solidity": 0.25
          }
         },
         "name": "no_function",
         "orientation": "h",
         "showlegend": true,
         "text": [
          "no_function",
          "no_function",
          "no_function",
          "no_function",
          "no_function",
          "no_function"
         ],
         "textposition": "inside",
         "type": "bar",
         "width": 1,
         "x": [
          15.47596,
          23.020839999999993,
          23.004819999999995,
          23.046310000000005,
          23.063969999999983,
          21.915689999999984
         ],
         "xaxis": "x",
         "y": [
          "coarse",
          "coarse",
          "coarse",
          "coarse",
          "coarse",
          "coarse"
         ],
         "yaxis": "y"
        },
        {
         "base": [
          23.74669
         ],
         "customdata": [
          "<b>verse</b><br>Layer: coarse<br>Start: 23.747s<br>End: 46.994s<br>Duration: 23.247s"
         ],
         "hovertemplate": "%{customdata}<extra></extra>",
         "insidetextanchor": "middle",
         "marker": {
          "color": "#D62728",
          "line": {
           "color": "white",
           "width": 0.5
          },
          "pattern": {
           "fgcolor": "white",
           "fgopacity": 0.5,
           "shape": "",
           "solidity": 0.25
          }
         },
         "name": "verse",
         "orientation": "h",
         "showlegend": true,
         "text": [
          "verse"
         ],
         "textposition": "inside",
         "type": "bar",
         "width": 1,
         "x": [
          23.24707
         ],
         "xaxis": "x",
         "y": [
          "coarse"
         ],
         "yaxis": "y"
        },
        {
         "base": [
          46.99376,
          77.89726,
          224.16642
         ],
         "customdata": [
          "<b>interlude</b><br>Layer: coarse<br>Start: 46.994s<br>End: 62.489s<br>Duration: 15.496s",
          "<b>interlude</b><br>Layer: coarse<br>Start: 77.897s<br>End: 93.507s<br>Duration: 15.610s",
          "<b>interlude</b><br>Layer: coarse<br>Start: 224.166s<br>End: 239.766s<br>Duration: 15.600s"
         ],
         "hovertemplate": "%{customdata}<extra></extra>",
         "insidetextanchor": "middle",
         "marker": {
          "color": "#9467BD",
          "line": {
           "color": "white",
           "width": 0.5
          },
          "pattern": {
           "fgcolor": "white",
           "fgopacity": 0.5,
           "shape": "",
           "solidity": 0.25
          }
         },
         "name": "interlude",
         "orientation": "h",
         "showlegend": true,
         "text": [
          "interlude",
          "interlude",
          "interlude"
         ],
         "textposition": "inside",
         "type": "bar",
         "width": 1,
         "x": [
          15.495509999999996,
          15.609749999999991,
          15.599880000000013
         ],
         "xaxis": "x",
         "y": [
          "coarse",
          "coarse",
          "coarse"
         ],
         "yaxis": "y"
        },
        {
         "base": [
          62.48927,
          93.50701,
          239.7663
         ],
         "customdata": [
          "<b>chorus</b><br>Layer: coarse<br>Start: 62.489s<br>End: 77.897s<br>Duration: 15.408s",
          "<b>chorus</b><br>Layer: coarse<br>Start: 93.507s<br>End: 108.798s<br>Duration: 15.291s",
          "<b>chorus</b><br>Layer: coarse<br>Start: 239.766s<br>End: 255.022s<br>Duration: 15.256s"
         ],
         "hovertemplate": "%{customdata}<extra></extra>",
         "insidetextanchor": "middle",
         "marker": {
          "color": "#8C564B",
          "line": {
           "color": "white",
           "width": 0.5
          },
          "pattern": {
           "fgcolor": "white",
           "fgopacity": 0.5,
           "shape": "",
           "solidity": 0.25
          }
         },
         "name": "chorus",
         "orientation": "h",
         "showlegend": true,
         "text": [
          "chorus",
          "chorus",
          "chorus"
         ],
         "textposition": "inside",
         "type": "bar",
         "width": 1,
         "x": [
          15.407990000000005,
          15.29140000000001,
          15.255899999999997
         ],
         "xaxis": "x",
         "y": [
          "coarse",
          "coarse",
          "coarse"
         ],
         "yaxis": "y"
        },
        {
         "base": [
          108.79841
         ],
         "customdata": [
          "<b>solo</b><br>Layer: coarse<br>Start: 108.798s<br>End: 132.030s<br>Duration: 23.232s"
         ],
         "hovertemplate": "%{customdata}<extra></extra>",
         "insidetextanchor": "middle",
         "marker": {
          "color": "#E377C2",
          "line": {
           "color": "white",
           "width": 0.5
          },
          "pattern": {
           "fgcolor": "white",
           "fgopacity": 0.5,
           "shape": "",
           "solidity": 0.25
          }
         },
         "name": "solo",
         "orientation": "h",
         "showlegend": true,
         "text": [
          "solo"
         ],
         "textposition": "inside",
         "type": "bar",
         "width": 1,
         "x": [
          23.232070000000007
         ],
         "xaxis": "x",
         "y": [
          "coarse"
         ],
         "yaxis": "y"
        },
        {
         "base": [
          276.93789
         ],
         "customdata": [
          "<b>outro</b><br>Layer: coarse<br>Start: 276.938s<br>End: 287.463s<br>Duration: 10.525s"
         ],
         "hovertemplate": "%{customdata}<extra></extra>",
         "insidetextanchor": "middle",
         "marker": {
          "color": "#7F7F7F",
          "line": {
           "color": "white",
           "width": 0.5
          },
          "pattern": {
           "fgcolor": "white",
           "fgopacity": 0.5,
           "shape": "",
           "solidity": 0.25
          }
         },
         "name": "outro",
         "orientation": "h",
         "showlegend": true,
         "text": [
          "outro"
         ],
         "textposition": "inside",
         "type": "bar",
         "width": 1,
         "x": [
          10.525329999999997
         ],
         "xaxis": "x",
         "y": [
          "coarse"
         ],
         "yaxis": "y"
        },
        {
         "base": [
          0,
          287.46322
         ],
         "customdata": [
          "<b>Silence</b><br>Layer: fine<br>Start: 0.000s<br>End: 0.046s<br>Duration: 0.046s",
          "<b>Silence</b><br>Layer: fine<br>Start: 287.463s<br>End: 287.493s<br>Duration: 0.030s"
         ],
         "hovertemplate": "%{customdata}<extra></extra>",
         "insidetextanchor": "middle",
         "marker": {
          "color": "#BCBD22",
          "line": {
           "color": "white",
           "width": 0.5
          },
          "pattern": {
           "fgcolor": "white",
           "fgopacity": 0.5,
           "shape": "",
           "solidity": 0.25
          }
         },
         "name": "Silence",
         "orientation": "h",
         "showlegend": true,
         "text": [
          "Silence",
          "Silence"
         ],
         "textposition": "inside",
         "type": "bar",
         "width": 1,
         "x": [
          0.04644,
          0.030070000000023356
         ],
         "xaxis": "x",
         "y": [
          "fine",
          "fine"
         ],
         "yaxis": "y"
        },
        {
         "base": [
          0.04644,
          276.93789
         ],
         "customdata": [
          "<b>x</b><br>Layer: fine<br>Start: 0.046s<br>End: 8.271s<br>Duration: 8.224s",
          "<b>x</b><br>Layer: fine<br>Start: 276.938s<br>End: 287.463s<br>Duration: 10.525s"
         ],
         "hovertemplate": "%{customdata}<extra></extra>",
         "insidetextanchor": "middle",
         "marker": {
          "color": "#17BECF",
          "line": {
           "color": "white",
           "width": 0.5
          },
          "pattern": {
           "fgcolor": "white",
           "fgopacity": 0.5,
           "shape": "",
           "solidity": 0.25
          }
         },
         "name": "x",
         "orientation": "h",
         "showlegend": true,
         "text": [
          "x",
          "x"
         ],
         "textposition": "inside",
         "type": "bar",
         "width": 1,
         "x": [
          8.22429,
          10.525329999999997
         ],
         "xaxis": "x",
         "y": [
          "fine",
          "fine"
         ],
         "yaxis": "y"
        },
        {
         "base": [
          8.27073,
          31.48705,
          62.48927,
          93.50701,
          116.59027,
          139.66227,
          162.68617,
          185.74238,
          208.84642,
          239.7663,
          262.7346
         ],
         "customdata": [
          "<b>c</b><br>Layer: fine<br>Start: 8.271s<br>End: 12.295s<br>Duration: 4.025s",
          "<b>c</b><br>Layer: fine<br>Start: 31.487s<br>End: 35.463s<br>Duration: 3.976s",
          "<b>c</b><br>Layer: fine<br>Start: 62.489s<br>End: 66.377s<br>Duration: 3.888s",
          "<b>c</b><br>Layer: fine<br>Start: 93.507s<br>End: 97.405s<br>Duration: 3.898s",
          "<b>c</b><br>Layer: fine<br>Start: 116.590s<br>End: 120.542s<br>Duration: 3.952s",
          "<b>c</b><br>Layer: fine<br>Start: 139.662s<br>End: 143.631s<br>Duration: 3.969s",
          "<b>c</b><br>Layer: fine<br>Start: 162.686s<br>End: 166.639s<br>Duration: 3.952s",
          "<b>c</b><br>Layer: fine<br>Start: 185.742s<br>End: 189.607s<br>Duration: 3.864s",
          "<b>c</b><br>Layer: fine<br>Start: 208.846s<br>End: 212.694s<br>Duration: 3.848s",
          "<b>c</b><br>Layer: fine<br>Start: 239.766s<br>End: 243.698s<br>Duration: 3.932s",
          "<b>c</b><br>Layer: fine<br>Start: 262.735s<br>End: 266.511s<br>Duration: 3.776s"
         ],
         "hovertemplate": "%{customdata}<extra></extra>",
         "insidetextanchor": "middle",
         "marker": {
          "color": "#1F77B4",
          "line": {
           "color": "white",
           "width": 0.5
          },
          "pattern": {
           "fgcolor": "white",
           "fgopacity": 0.5,
           "shape": ".",
           "solidity": 0.25
          }
         },
         "name": "c",
         "orientation": "h",
         "showlegend": true,
         "text": [
          "c",
          "c",
          "c",
          "c",
          "c",
          "c",
          "c",
          "c",
          "c",
          "c",
          "c"
         ],
         "textposition": "inside",
         "type": "bar",
         "width": 1,
         "x": [
          4.02469,
          3.9758499999999977,
          3.8878699999999995,
          3.897840000000002,
          3.952129999999997,
          3.968999999999994,
          3.9523599999999988,
          3.864440000000002,
          3.847570000000019,
          3.9318600000000004,
          3.7763499999999794
         ],
         "xaxis": "x",
         "y": [
          "fine",
          "fine",
          "fine",
          "fine",
          "fine",
          "fine",
          "fine",
          "fine",
          "fine",
          "fine",
          "fine"
         ],
         "yaxis": "y"
        },
        {
         "base": [
          12.29542,
          35.4629,
          66.37714,
          97.40485,
          120.5424,
          143.63127,
          166.63853,
          189.60682,
          212.69399,
          243.69816,
          266.51095
         ],
         "customdata": [
          "<b>d</b><br>Layer: fine<br>Start: 12.295s<br>End: 16.127s<br>Duration: 3.832s",
          "<b>d</b><br>Layer: fine<br>Start: 35.463s<br>End: 39.353s<br>Duration: 3.891s",
          "<b>d</b><br>Layer: fine<br>Start: 66.377s<br>End: 70.194s<br>Duration: 3.816s",
          "<b>d</b><br>Layer: fine<br>Start: 97.405s<br>End: 101.206s<br>Duration: 3.801s",
          "<b>d</b><br>Layer: fine<br>Start: 120.542s<br>End: 124.358s<br>Duration: 3.816s",
          "<b>d</b><br>Layer: fine<br>Start: 143.631s<br>End: 147.398s<br>Duration: 3.767s",
          "<b>d</b><br>Layer: fine<br>Start: 166.639s<br>End: 170.350s<br>Duration: 3.712s",
          "<b>d</b><br>Layer: fine<br>Start: 189.607s<br>End: 193.332s<br>Duration: 3.725s",
          "<b>d</b><br>Layer: fine<br>Start: 212.694s<br>End: 216.582s<br>Duration: 3.888s",
          "<b>d</b><br>Layer: fine<br>Start: 243.698s<br>End: 247.487s<br>Duration: 3.788s",
          "<b>d</b><br>Layer: fine<br>Start: 266.511s<br>End: 270.439s<br>Duration: 3.928s"
         ],
         "hovertemplate": "%{customdata}<extra></extra>",
         "insidetextanchor": "middle",
         "marker": {
          "color": "#FF7F0E",
          "line": {
           "color": "white",
           "width": 0.5
          },
          "pattern": {
           "fgcolor": "white",
           "fgopacity": 0.5,
           "shape": ".",
           "solidity": 0.25
          }
         },
         "name": "d",
         "orientation": "h",
         "showlegend": true,
         "text": [
          "d",
          "d",
          "d",
          "d",
          "d",
          "d",
          "d",
          "d",
          "d",
          "d",
          "d"
         ],
         "textposition": "inside",
         "type": "bar",
         "width": 1,
         "x": [
          3.831520000000001,
          3.890500000000003,
          3.816420000000008,
          3.80116000000001,
          3.816040000000001,
          3.7669799999999896,
          3.7116499999999917,
          3.724700000000013,
          3.8882999999999868,
          3.7883699999999862,
          3.927760000000035
         ],
         "xaxis": "x",
         "y": [
          "fine",
          "fine",
          "fine",
          "fine",
          "fine",
          "fine",
          "fine",
          "fine",
          "fine",
          "fine",
          "fine"
         ],
         "yaxis": "y"
        },
        {
         "base": [
          16.12694,
          39.3534,
          70.19356,
          101.20601,
          124.35844,
          147.39825,
          170.35018,
          193.33152,
          216.58229,
          247.48653,
          270.43871
         ],
         "customdata": [
          "<b>e</b><br>Layer: fine<br>Start: 16.127s<br>End: 19.919s<br>Duration: 3.792s",
          "<b>e</b><br>Layer: fine<br>Start: 39.353s<br>End: 43.170s<br>Duration: 3.816s",
          "<b>e</b><br>Layer: fine<br>Start: 70.194s<br>End: 74.042s<br>Duration: 3.848s",
          "<b>e</b><br>Layer: fine<br>Start: 101.206s<br>End: 104.999s<br>Duration: 3.793s",
          "<b>e</b><br>Layer: fine<br>Start: 124.358s<br>End: 128.278s<br>Duration: 3.920s",
          "<b>e</b><br>Layer: fine<br>Start: 147.398s<br>End: 151.286s<br>Duration: 3.888s",
          "<b>e</b><br>Layer: fine<br>Start: 170.350s<br>End: 174.166s<br>Duration: 3.816s",
          "<b>e</b><br>Layer: fine<br>Start: 193.332s<br>End: 197.345s<br>Duration: 4.014s",
          "<b>e</b><br>Layer: fine<br>Start: 216.582s<br>End: 220.374s<br>Duration: 3.792s",
          "<b>e</b><br>Layer: fine<br>Start: 247.487s<br>End: 251.222s<br>Duration: 3.736s",
          "<b>e</b><br>Layer: fine<br>Start: 270.439s<br>End: 274.199s<br>Duration: 3.760s"
         ],
         "hovertemplate": "%{customdata}<extra></extra>",
         "insidetextanchor": "middle",
         "marker": {
          "color": "#2CA02C",
          "line": {
           "color": "white",
           "width": 0.5
          },
          "pattern": {
           "fgcolor": "white",
           "fgopacity": 0.5,
           "shape": ".",
           "solidity": 0.25
          }
         },
         "name": "e",
         "orientation": "h",
         "showlegend": true,
         "text": [
          "e",
          "e",
          "e",
          "e",
          "e",
          "e",
          "e",
          "e",
          "e",
          "e",
          "e"
         ],
         "textposition": "inside",
         "type": "bar",
         "width": 1,
         "x": [
          3.79195,
          3.816420000000001,
          3.8481199999999944,
          3.7926999999999964,
          3.9199700000000064,
          3.888120000000015,
          3.8162200000000155,
          4.01361,
          3.791789999999992,
          3.7358300000000213,
          3.759839999999997
         ],
         "xaxis": "x",
         "y": [
          "fine",
          "fine",
          "fine",
          "fine",
          "fine",
          "fine",
          "fine",
          "fine",
          "fine",
          "fine",
          "fine"
         ],
         "yaxis": "y"
        },
        {
         "base": [
          19.91889,
          43.16982,
          74.04168,
          104.99871,
          128.27841,
          151.28637,
          174.1664,
          197.34513,
          220.37408,
          251.22236,
          274.19855
         ],
         "customdata": [
          "<b>f</b><br>Layer: fine<br>Start: 19.919s<br>End: 23.747s<br>Duration: 3.828s",
          "<b>f</b><br>Layer: fine<br>Start: 43.170s<br>End: 46.994s<br>Duration: 3.824s",
          "<b>f</b><br>Layer: fine<br>Start: 74.042s<br>End: 77.897s<br>Duration: 3.856s",
          "<b>f</b><br>Layer: fine<br>Start: 104.999s<br>End: 108.798s<br>Duration: 3.800s",
          "<b>f</b><br>Layer: fine<br>Start: 128.278s<br>End: 132.030s<br>Duration: 3.752s",
          "<b>f</b><br>Layer: fine<br>Start: 151.286s<br>End: 155.051s<br>Duration: 3.765s",
          "<b>f</b><br>Layer: fine<br>Start: 174.166s<br>End: 178.056s<br>Duration: 3.890s",
          "<b>f</b><br>Layer: fine<br>Start: 197.345s<br>End: 201.102s<br>Duration: 3.757s",
          "<b>f</b><br>Layer: fine<br>Start: 220.374s<br>End: 224.166s<br>Duration: 3.792s",
          "<b>f</b><br>Layer: fine<br>Start: 251.222s<br>End: 255.022s<br>Duration: 3.800s",
          "<b>f</b><br>Layer: fine<br>Start: 274.199s<br>End: 276.938s<br>Duration: 2.739s"
         ],
         "hovertemplate": "%{customdata}<extra></extra>",
         "insidetextanchor": "middle",
         "marker": {
          "color": "#D62728",
          "line": {
           "color": "white",
           "width": 0.5
          },
          "pattern": {
           "fgcolor": "white",
           "fgopacity": 0.5,
           "shape": ".",
           "solidity": 0.25
          }
         },
         "name": "f",
         "orientation": "h",
         "showlegend": true,
         "text": [
          "f",
          "f",
          "f",
          "f",
          "f",
          "f",
          "f",
          "f",
          "f",
          "f",
          "f"
         ],
         "textposition": "inside",
         "type": "bar",
         "width": 1,
         "x": [
          3.8278,
          3.8239400000000003,
          3.8555800000000033,
          3.7997000000000014,
          3.7520700000000033,
          3.764949999999999,
          3.889739999999989,
          3.757319999999993,
          3.792339999999996,
          3.799839999999989,
          2.73933999999997
         ],
         "xaxis": "x",
         "y": [
          "fine",
          "fine",
          "fine",
          "fine",
          "fine",
          "fine",
          "fine",
          "fine",
          "fine",
          "fine",
          "fine"
         ],
         "yaxis": "y"
        },
        {
         "base": [
          23.74669,
          108.79841,
          132.03048,
          155.05132,
          178.05614,
          201.10245,
          255.0222
         ],
         "customdata": [
          "<b>a</b><br>Layer: fine<br>Start: 23.747s<br>End: 27.641s<br>Duration: 3.895s",
          "<b>a</b><br>Layer: fine<br>Start: 108.798s<br>End: 112.735s<br>Duration: 3.936s",
          "<b>a</b><br>Layer: fine<br>Start: 132.030s<br>End: 135.982s<br>Duration: 3.952s",
          "<b>a</b><br>Layer: fine<br>Start: 155.051s<br>End: 158.886s<br>Duration: 3.835s",
          "<b>a</b><br>Layer: fine<br>Start: 178.056s<br>End: 181.871s<br>Duration: 3.814s",
          "<b>a</b><br>Layer: fine<br>Start: 201.102s<br>End: 205.055s<br>Duration: 3.952s",
          "<b>a</b><br>Layer: fine<br>Start: 255.022s<br>End: 258.927s<br>Duration: 3.904s"
         ],
         "hovertemplate": "%{customdata}<extra></extra>",
         "insidetextanchor": "middle",
         "marker": {
          "color": "#9467BD",
          "line": {
           "color": "white",
           "width": 0.5
          },
          "pattern": {
           "fgcolor": "white",
           "fgopacity": 0.5,
           "shape": ".",
           "solidity": 0.25
          }
         },
         "name": "a",
         "orientation": "h",
         "showlegend": true,
         "text": [
          "a",
          "a",
          "a",
          "a",
          "a",
          "a",
          "a"
         ],
         "textposition": "inside",
         "type": "bar",
         "width": 1,
         "x": [
          3.894780000000001,
          3.9362199999999916,
          3.951859999999982,
          3.8350499999999954,
          3.8144000000000062,
          3.952059999999989,
          3.9044700000000034
         ],
         "xaxis": "x",
         "y": [
          "fine",
          "fine",
          "fine",
          "fine",
          "fine",
          "fine",
          "fine"
         ],
         "yaxis": "y"
        },
        {
         "base": [
          27.64147,
          112.73463,
          135.98234,
          158.88637,
          181.87054,
          205.05451,
          258.92667
         ],
         "customdata": [
          "<b>b</b><br>Layer: fine<br>Start: 27.641s<br>End: 31.487s<br>Duration: 3.846s",
          "<b>b</b><br>Layer: fine<br>Start: 112.735s<br>End: 116.590s<br>Duration: 3.856s",
          "<b>b</b><br>Layer: fine<br>Start: 135.982s<br>End: 139.662s<br>Duration: 3.680s",
          "<b>b</b><br>Layer: fine<br>Start: 158.886s<br>End: 162.686s<br>Duration: 3.800s",
          "<b>b</b><br>Layer: fine<br>Start: 181.871s<br>End: 185.742s<br>Duration: 3.872s",
          "<b>b</b><br>Layer: fine<br>Start: 205.055s<br>End: 208.846s<br>Duration: 3.792s",
          "<b>b</b><br>Layer: fine<br>Start: 258.927s<br>End: 262.735s<br>Duration: 3.808s"
         ],
         "hovertemplate": "%{customdata}<extra></extra>",
         "insidetextanchor": "middle",
         "marker": {
          "color": "#8C564B",
          "line": {
           "color": "white",
           "width": 0.5
          },
          "pattern": {
           "fgcolor": "white",
           "fgopacity": 0.5,
           "shape": ".",
           "solidity": 0.25
          }
         },
         "name": "b",
         "orientation": "h",
         "showlegend": true,
         "text": [
          "b",
          "b",
          "b",
          "b",
          "b",
          "b",
          "b"
         ],
         "textposition": "inside",
         "type": "bar",
         "width": 1,
         "x": [
          3.845579999999998,
          3.855640000000008,
          3.679930000000013,
          3.7998000000000047,
          3.8718399999999917,
          3.7919100000000014,
          3.807929999999999
         ],
         "xaxis": "x",
         "y": [
          "fine",
          "fine",
          "fine",
          "fine",
          "fine",
          "fine",
          "fine"
         ],
         "yaxis": "y"
        },
        {
         "base": [
          46.99376,
          50.99333,
          54.84918,
          58.7693,
          77.89726,
          81.8978,
          85.78569,
          89.7042,
          224.16642,
          228.18703,
          232.12637,
          235.95079
         ],
         "customdata": [
          "<b>g</b><br>Layer: fine<br>Start: 46.994s<br>End: 50.993s<br>Duration: 4.000s",
          "<b>g</b><br>Layer: fine<br>Start: 50.993s<br>End: 54.849s<br>Duration: 3.856s",
          "<b>g</b><br>Layer: fine<br>Start: 54.849s<br>End: 58.769s<br>Duration: 3.920s",
          "<b>g</b><br>Layer: fine<br>Start: 58.769s<br>End: 62.489s<br>Duration: 3.720s",
          "<b>g</b><br>Layer: fine<br>Start: 77.897s<br>End: 81.898s<br>Duration: 4.001s",
          "<b>g</b><br>Layer: fine<br>Start: 81.898s<br>End: 85.786s<br>Duration: 3.888s",
          "<b>g</b><br>Layer: fine<br>Start: 85.786s<br>End: 89.704s<br>Duration: 3.919s",
          "<b>g</b><br>Layer: fine<br>Start: 89.704s<br>End: 93.507s<br>Duration: 3.803s",
          "<b>g</b><br>Layer: fine<br>Start: 224.166s<br>End: 228.187s<br>Duration: 4.021s",
          "<b>g</b><br>Layer: fine<br>Start: 228.187s<br>End: 232.126s<br>Duration: 3.939s",
          "<b>g</b><br>Layer: fine<br>Start: 232.126s<br>End: 235.951s<br>Duration: 3.824s",
          "<b>g</b><br>Layer: fine<br>Start: 235.951s<br>End: 239.766s<br>Duration: 3.816s"
         ],
         "hovertemplate": "%{customdata}<extra></extra>",
         "insidetextanchor": "middle",
         "marker": {
          "color": "#E377C2",
          "line": {
           "color": "white",
           "width": 0.5
          },
          "pattern": {
           "fgcolor": "white",
           "fgopacity": 0.5,
           "shape": ".",
           "solidity": 0.25
          }
         },
         "name": "g",
         "orientation": "h",
         "showlegend": true,
         "text": [
          "g",
          "g",
          "g",
          "g",
          "g",
          "g",
          "g",
          "g",
          "g",
          "g",
          "g",
          "g"
         ],
         "textposition": "inside",
         "type": "bar",
         "width": 1,
         "x": [
          3.9995699999999985,
          3.8558499999999967,
          3.9201200000000043,
          3.7199699999999964,
          4.000540000000001,
          3.8878899999999987,
          3.9185099999999977,
          3.802809999999994,
          4.020610000000005,
          3.9393400000000156,
          3.8244200000000035,
          3.815509999999989
         ],
         "xaxis": "x",
         "y": [
          "fine",
          "fine",
          "fine",
          "fine",
          "fine",
          "fine",
          "fine",
          "fine",
          "fine",
          "fine",
          "fine",
          "fine"
         ],
         "yaxis": "y"
        },
        {
         "base": [
          0,
          8.79,
          8.79,
          62.58,
          94,
          239.83,
          8.79,
          62.58,
          94,
          239.83,
          8.79,
          62.58,
          94,
          239.83,
          8.79,
          108.89,
          8.79,
          126.38,
          8.79,
          126.38,
          8.79,
          126.38,
          108.89,
          186.76,
          204.54,
          108.42,
          186.76,
          204.54,
          8.79,
          118.62,
          187.27,
          204.54
         ],
         "customdata": [
          "<b>0</b><br>Layer: L01<br>Start: 0.000s<br>End: 287.493s<br>Duration: 287.493s",
          "<b>0</b><br>Layer: L02<br>Start: 8.790s<br>End: 277.080s<br>Duration: 268.290s",
          "<b>0</b><br>Layer: L03<br>Start: 8.790s<br>End: 45.590s<br>Duration: 36.800s",
          "<b>0</b><br>Layer: L03<br>Start: 62.580s<br>End: 76.480s<br>Duration: 13.900s",
          "<b>0</b><br>Layer: L03<br>Start: 94.000s<br>End: 222.830s<br>Duration: 128.830s",
          "<b>0</b><br>Layer: L03<br>Start: 239.830s<br>End: 277.550s<br>Duration: 37.720s",
          "<b>0</b><br>Layer: L04<br>Start: 8.790s<br>End: 45.590s<br>Duration: 36.800s",
          "<b>0</b><br>Layer: L04<br>Start: 62.580s<br>End: 76.480s<br>Duration: 13.900s",
          "<b>0</b><br>Layer: L04<br>Start: 94.000s<br>End: 222.830s<br>Duration: 128.830s",
          "<b>0</b><br>Layer: L04<br>Start: 239.830s<br>End: 276.150s<br>Duration: 36.320s",
          "<b>0</b><br>Layer: L05<br>Start: 8.790s<br>End: 45.590s<br>Duration: 36.800s",
          "<b>0</b><br>Layer: L05<br>Start: 62.580s<br>End: 76.480s<br>Duration: 13.900s",
          "<b>0</b><br>Layer: L05<br>Start: 94.000s<br>End: 222.830s<br>Duration: 128.830s",
          "<b>0</b><br>Layer: L05<br>Start: 239.830s<br>End: 275.660s<br>Duration: 35.830s",
          "<b>0</b><br>Layer: L06<br>Start: 8.790s<br>End: 46.080s<br>Duration: 37.290s",
          "<b>0</b><br>Layer: L06<br>Start: 108.890s<br>End: 222.830s<br>Duration: 113.940s",
          "<b>0</b><br>Layer: L07<br>Start: 8.790s<br>End: 22.840s<br>Duration: 14.050s",
          "<b>0</b><br>Layer: L07<br>Start: 126.380s<br>End: 222.830s<br>Duration: 96.450s",
          "<b>0</b><br>Layer: L08<br>Start: 8.790s<br>End: 22.840s<br>Duration: 14.050s",
          "<b>0</b><br>Layer: L08<br>Start: 126.380s<br>End: 222.830s<br>Duration: 96.450s",
          "<b>0</b><br>Layer: L09<br>Start: 8.790s<br>End: 22.840s<br>Duration: 14.050s",
          "<b>0</b><br>Layer: L09<br>Start: 126.380s<br>End: 222.830s<br>Duration: 96.450s",
          "<b>0</b><br>Layer: L10<br>Start: 108.890s<br>End: 176.650s<br>Duration: 67.760s",
          "<b>0</b><br>Layer: L10<br>Start: 186.760s<br>End: 195.420s<br>Duration: 8.660s",
          "<b>0</b><br>Layer: L10<br>Start: 204.540s<br>End: 224.280s<br>Duration: 19.740s",
          "<b>0</b><br>Layer: L11<br>Start: 108.420s<br>End: 176.650s<br>Duration: 68.230s",
          "<b>0</b><br>Layer: L11<br>Start: 186.760s<br>End: 195.420s<br>Duration: 8.660s",
          "<b>0</b><br>Layer: L11<br>Start: 204.540s<br>End: 224.280s<br>Duration: 19.740s",
          "<b>0</b><br>Layer: L12<br>Start: 8.790s<br>End: 22.840s<br>Duration: 14.050s",
          "<b>0</b><br>Layer: L12<br>Start: 118.620s<br>End: 175.690s<br>Duration: 57.070s",
          "<b>0</b><br>Layer: L12<br>Start: 187.270s<br>End: 195.420s<br>Duration: 8.150s",
          "<b>0</b><br>Layer: L12<br>Start: 204.540s<br>End: 224.280s<br>Duration: 19.740s"
         ],
         "hovertemplate": "%{customdata}<extra></extra>",
         "insidetextanchor": "middle",
         "marker": {
          "color": "#1F77B4",
          "line": {
           "color": "white",
           "width": 0.5
          },
          "pattern": {
           "fgcolor": "white",
           "fgopacity": 0.5,
           "shape": "",
           "solidity": 0.25
          }
         },
         "name": "0",
         "orientation": "h",
         "showlegend": true,
         "text": [
          "0",
          "0",
          "0",
          "0",
          "0",
          "0",
          "0",
          "0",
          "0",
          "0",
          "0",
          "0",
          "0",
          "0",
          "0",
          "0",
          "0",
          "0",
          "0",
          "0",
          "0",
          "0",
          "0",
          "0",
          "0",
          "0",
          "0",
          "0",
          "0",
          "0",
          "0",
          "0"
         ],
         "textposition": "inside",
         "type": "bar",
         "width": 1,
         "x": [
          287.49329,
          268.28999999999996,
          36.800000000000004,
          13.900000000000006,
          128.83,
          37.72,
          36.800000000000004,
          13.900000000000006,
          128.83,
          36.319999999999965,
          36.800000000000004,
          13.900000000000006,
          128.83,
          35.83000000000001,
          37.29,
          113.94000000000001,
          14.05,
          96.45000000000002,
          14.05,
          96.45000000000002,
          14.05,
          96.45000000000002,
          67.76,
          8.659999999999997,
          19.74000000000001,
          68.23,
          8.659999999999997,
          19.74000000000001,
          14.05,
          57.06999999999999,
          8.149999999999977,
          19.74000000000001
         ],
         "xaxis": "x2",
         "y": [
          "L01",
          "L02",
          "L03",
          "L03",
          "L03",
          "L03",
          "L04",
          "L04",
          "L04",
          "L04",
          "L05",
          "L05",
          "L05",
          "L05",
          "L06",
          "L06",
          "L07",
          "L07",
          "L08",
          "L08",
          "L09",
          "L09",
          "L10",
          "L10",
          "L10",
          "L11",
          "L11",
          "L11",
          "L12",
          "L12",
          "L12",
          "L12"
         ],
         "yaxis": "y2"
        },
        {
         "base": [
          0,
          277.08,
          0,
          277.55,
          276.15,
          275.66,
          276.15,
          275.66,
          275.19,
          275.19,
          275.19,
          275.19,
          275.19
         ],
         "customdata": [
          "<b>1</b><br>Layer: L02<br>Start: 0.000s<br>End: 8.790s<br>Duration: 8.790s",
          "<b>1</b><br>Layer: L02<br>Start: 277.080s<br>End: 287.493s<br>Duration: 10.413s",
          "<b>1</b><br>Layer: L03<br>Start: 0.000s<br>End: 8.790s<br>Duration: 8.790s",
          "<b>1</b><br>Layer: L03<br>Start: 277.550s<br>End: 287.493s<br>Duration: 9.943s",
          "<b>1</b><br>Layer: L04<br>Start: 276.150s<br>End: 287.493s<br>Duration: 11.343s",
          "<b>1</b><br>Layer: L05<br>Start: 275.660s<br>End: 287.493s<br>Duration: 11.833s",
          "<b>1</b><br>Layer: L06<br>Start: 276.150s<br>End: 287.493s<br>Duration: 11.343s",
          "<b>1</b><br>Layer: L07<br>Start: 275.660s<br>End: 287.493s<br>Duration: 11.833s",
          "<b>1</b><br>Layer: L08<br>Start: 275.190s<br>End: 287.493s<br>Duration: 12.303s",
          "<b>1</b><br>Layer: L09<br>Start: 275.190s<br>End: 287.493s<br>Duration: 12.303s",
          "<b>1</b><br>Layer: L10<br>Start: 275.190s<br>End: 287.493s<br>Duration: 12.303s",
          "<b>1</b><br>Layer: L11<br>Start: 275.190s<br>End: 287.493s<br>Duration: 12.303s",
          "<b>1</b><br>Layer: L12<br>Start: 275.190s<br>End: 287.493s<br>Duration: 12.303s"
         ],
         "hovertemplate": "%{customdata}<extra></extra>",
         "insidetextanchor": "middle",
         "marker": {
          "color": "#FF7F0E",
          "line": {
           "color": "white",
           "width": 0.5
          },
          "pattern": {
           "fgcolor": "white",
           "fgopacity": 0.5,
           "shape": "",
           "solidity": 0.25
          }
         },
         "name": "1",
         "orientation": "h",
         "showlegend": true,
         "text": [
          "1",
          "1",
          "1",
          "1",
          "1",
          "1",
          "1",
          "1",
          "1",
          "1",
          "1",
          "1",
          "1"
         ],
         "textposition": "inside",
         "type": "bar",
         "width": 1,
         "x": [
          8.79,
          10.413290000000018,
          8.79,
          9.94328999999999,
          11.343290000000025,
          11.833289999999977,
          11.343290000000025,
          11.833289999999977,
          12.303290000000004,
          12.303290000000004,
          12.303290000000004,
          12.303290000000004,
          12.303290000000004
         ],
         "xaxis": "x2",
         "y": [
          "L02",
          "L02",
          "L03",
          "L03",
          "L04",
          "L05",
          "L06",
          "L07",
          "L08",
          "L09",
          "L10",
          "L11",
          "L12"
         ],
         "yaxis": "y2"
        },
        {
         "base": [
          45.59,
          76.48,
          222.83,
          45.59,
          76.48,
          222.83,
          45.59,
          76.48,
          222.83,
          46.08,
          76.96,
          222.83,
          46.08,
          76.96,
          222.83,
          46.08,
          76.96,
          222.83,
          46.08,
          76.96,
          222.83,
          47.05,
          77.93,
          224.28,
          47.05,
          77.93,
          224.28,
          47.05,
          77.93,
          224.28
         ],
         "customdata": [
          "<b>2</b><br>Layer: L03<br>Start: 45.590s<br>End: 62.580s<br>Duration: 16.990s",
          "<b>2</b><br>Layer: L03<br>Start: 76.480s<br>End: 94.000s<br>Duration: 17.520s",
          "<b>2</b><br>Layer: L03<br>Start: 222.830s<br>End: 239.830s<br>Duration: 17.000s",
          "<b>2</b><br>Layer: L04<br>Start: 45.590s<br>End: 62.580s<br>Duration: 16.990s",
          "<b>2</b><br>Layer: L04<br>Start: 76.480s<br>End: 94.000s<br>Duration: 17.520s",
          "<b>2</b><br>Layer: L04<br>Start: 222.830s<br>End: 239.830s<br>Duration: 17.000s",
          "<b>2</b><br>Layer: L05<br>Start: 45.590s<br>End: 62.580s<br>Duration: 16.990s",
          "<b>2</b><br>Layer: L05<br>Start: 76.480s<br>End: 94.000s<br>Duration: 17.520s",
          "<b>2</b><br>Layer: L05<br>Start: 222.830s<br>End: 239.830s<br>Duration: 17.000s",
          "<b>2</b><br>Layer: L06<br>Start: 46.080s<br>End: 61.640s<br>Duration: 15.560s",
          "<b>2</b><br>Layer: L06<br>Start: 76.960s<br>End: 93.540s<br>Duration: 16.580s",
          "<b>2</b><br>Layer: L06<br>Start: 222.830s<br>End: 238.860s<br>Duration: 16.030s",
          "<b>2</b><br>Layer: L07<br>Start: 46.080s<br>End: 61.640s<br>Duration: 15.560s",
          "<b>2</b><br>Layer: L07<br>Start: 76.960s<br>End: 93.540s<br>Duration: 16.580s",
          "<b>2</b><br>Layer: L07<br>Start: 222.830s<br>End: 238.860s<br>Duration: 16.030s",
          "<b>2</b><br>Layer: L08<br>Start: 46.080s<br>End: 61.640s<br>Duration: 15.560s",
          "<b>2</b><br>Layer: L08<br>Start: 76.960s<br>End: 93.540s<br>Duration: 16.580s",
          "<b>2</b><br>Layer: L08<br>Start: 222.830s<br>End: 238.860s<br>Duration: 16.030s",
          "<b>2</b><br>Layer: L09<br>Start: 46.080s<br>End: 61.640s<br>Duration: 15.560s",
          "<b>2</b><br>Layer: L09<br>Start: 76.960s<br>End: 93.540s<br>Duration: 16.580s",
          "<b>2</b><br>Layer: L09<br>Start: 222.830s<br>End: 238.860s<br>Duration: 16.030s",
          "<b>2</b><br>Layer: L10<br>Start: 47.050s<br>End: 61.640s<br>Duration: 14.590s",
          "<b>2</b><br>Layer: L10<br>Start: 77.930s<br>End: 93.540s<br>Duration: 15.610s",
          "<b>2</b><br>Layer: L10<br>Start: 224.280s<br>End: 238.860s<br>Duration: 14.580s",
          "<b>2</b><br>Layer: L11<br>Start: 47.050s<br>End: 61.640s<br>Duration: 14.590s",
          "<b>2</b><br>Layer: L11<br>Start: 77.930s<br>End: 93.540s<br>Duration: 15.610s",
          "<b>2</b><br>Layer: L11<br>Start: 224.280s<br>End: 238.860s<br>Duration: 14.580s",
          "<b>2</b><br>Layer: L12<br>Start: 47.050s<br>End: 61.640s<br>Duration: 14.590s",
          "<b>2</b><br>Layer: L12<br>Start: 77.930s<br>End: 93.540s<br>Duration: 15.610s",
          "<b>2</b><br>Layer: L12<br>Start: 224.280s<br>End: 238.860s<br>Duration: 14.580s"
         ],
         "hovertemplate": "%{customdata}<extra></extra>",
         "insidetextanchor": "middle",
         "marker": {
          "color": "#2CA02C",
          "line": {
           "color": "white",
           "width": 0.5
          },
          "pattern": {
           "fgcolor": "white",
           "fgopacity": 0.5,
           "shape": "",
           "solidity": 0.25
          }
         },
         "name": "2",
         "orientation": "h",
         "showlegend": true,
         "text": [
          "2",
          "2",
          "2",
          "2",
          "2",
          "2",
          "2",
          "2",
          "2",
          "2",
          "2",
          "2",
          "2",
          "2",
          "2",
          "2",
          "2",
          "2",
          "2",
          "2",
          "2",
          "2",
          "2",
          "2",
          "2",
          "2",
          "2",
          "2",
          "2",
          "2"
         ],
         "textposition": "inside",
         "type": "bar",
         "width": 1,
         "x": [
          16.989999999999995,
          17.519999999999996,
          17,
          16.989999999999995,
          17.519999999999996,
          17,
          16.989999999999995,
          17.519999999999996,
          17,
          15.560000000000002,
          16.580000000000013,
          16.03,
          15.560000000000002,
          16.580000000000013,
          16.03,
          15.560000000000002,
          16.580000000000013,
          16.03,
          15.560000000000002,
          16.580000000000013,
          16.03,
          14.590000000000003,
          15.61,
          14.580000000000013,
          14.590000000000003,
          15.61,
          14.580000000000013,
          14.590000000000003,
          15.61,
          14.580000000000013
         ],
         "xaxis": "x2",
         "y": [
          "L03",
          "L03",
          "L03",
          "L04",
          "L04",
          "L04",
          "L05",
          "L05",
          "L05",
          "L06",
          "L06",
          "L06",
          "L07",
          "L07",
          "L07",
          "L08",
          "L08",
          "L08",
          "L09",
          "L09",
          "L09",
          "L10",
          "L10",
          "L10",
          "L11",
          "L11",
          "L11",
          "L12",
          "L12",
          "L12"
         ],
         "yaxis": "y2"
        },
        {
         "base": [
          0,
          0,
          0,
          0,
          0,
          0,
          0,
          0,
          0
         ],
         "customdata": [
          "<b>3</b><br>Layer: L04<br>Start: 0.000s<br>End: 8.790s<br>Duration: 8.790s",
          "<b>3</b><br>Layer: L05<br>Start: 0.000s<br>End: 8.790s<br>Duration: 8.790s",
          "<b>3</b><br>Layer: L06<br>Start: 0.000s<br>End: 8.790s<br>Duration: 8.790s",
          "<b>3</b><br>Layer: L07<br>Start: 0.000s<br>End: 8.790s<br>Duration: 8.790s",
          "<b>3</b><br>Layer: L08<br>Start: 0.000s<br>End: 8.790s<br>Duration: 8.790s",
          "<b>3</b><br>Layer: L09<br>Start: 0.000s<br>End: 8.790s<br>Duration: 8.790s",
          "<b>3</b><br>Layer: L10<br>Start: 0.000s<br>End: 8.790s<br>Duration: 8.790s",
          "<b>3</b><br>Layer: L11<br>Start: 0.000s<br>End: 8.790s<br>Duration: 8.790s",
          "<b>3</b><br>Layer: L12<br>Start: 0.000s<br>End: 8.790s<br>Duration: 8.790s"
         ],
         "hovertemplate": "%{customdata}<extra></extra>",
         "insidetextanchor": "middle",
         "marker": {
          "color": "#D62728",
          "line": {
           "color": "white",
           "width": 0.5
          },
          "pattern": {
           "fgcolor": "white",
           "fgopacity": 0.5,
           "shape": "",
           "solidity": 0.25
          }
         },
         "name": "3",
         "orientation": "h",
         "showlegend": true,
         "text": [
          "3",
          "3",
          "3",
          "3",
          "3",
          "3",
          "3",
          "3",
          "3"
         ],
         "textposition": "inside",
         "type": "bar",
         "width": 1,
         "x": [
          8.79,
          8.79,
          8.79,
          8.79,
          8.79,
          8.79,
          8.79,
          8.79,
          8.79
         ],
         "xaxis": "x2",
         "y": [
          "L04",
          "L05",
          "L06",
          "L07",
          "L08",
          "L09",
          "L10",
          "L11",
          "L12"
         ],
         "yaxis": "y2"
        },
        {
         "base": [
          61.64,
          93.54,
          238.86,
          22.84,
          61.64,
          93.54,
          238.86,
          22.84,
          61.64,
          93.54,
          238.86,
          22.84,
          61.64,
          93.54,
          238.86,
          22.84,
          61.64,
          93.54,
          238.86,
          23.31,
          61.64,
          93.54,
          238.86,
          22.84,
          61.64,
          93.54,
          238.86
         ],
         "customdata": [
          "<b>5</b><br>Layer: L06<br>Start: 61.640s<br>End: 76.960s<br>Duration: 15.320s",
          "<b>5</b><br>Layer: L06<br>Start: 93.540s<br>End: 108.890s<br>Duration: 15.350s",
          "<b>5</b><br>Layer: L06<br>Start: 238.860s<br>End: 276.150s<br>Duration: 37.290s",
          "<b>5</b><br>Layer: L07<br>Start: 22.840s<br>End: 46.080s<br>Duration: 23.240s",
          "<b>5</b><br>Layer: L07<br>Start: 61.640s<br>End: 76.960s<br>Duration: 15.320s",
          "<b>5</b><br>Layer: L07<br>Start: 93.540s<br>End: 115.690s<br>Duration: 22.150s",
          "<b>5</b><br>Layer: L07<br>Start: 238.860s<br>End: 275.660s<br>Duration: 36.800s",
          "<b>5</b><br>Layer: L08<br>Start: 22.840s<br>End: 46.080s<br>Duration: 23.240s",
          "<b>5</b><br>Layer: L08<br>Start: 61.640s<br>End: 76.960s<br>Duration: 15.320s",
          "<b>5</b><br>Layer: L08<br>Start: 93.540s<br>End: 115.690s<br>Duration: 22.150s",
          "<b>5</b><br>Layer: L08<br>Start: 238.860s<br>End: 275.190s<br>Duration: 36.330s",
          "<b>5</b><br>Layer: L09<br>Start: 22.840s<br>End: 46.080s<br>Duration: 23.240s",
          "<b>5</b><br>Layer: L09<br>Start: 61.640s<br>End: 76.960s<br>Duration: 15.320s",
          "<b>5</b><br>Layer: L09<br>Start: 93.540s<br>End: 115.690s<br>Duration: 22.150s",
          "<b>5</b><br>Layer: L09<br>Start: 238.860s<br>End: 275.190s<br>Duration: 36.330s",
          "<b>5</b><br>Layer: L10<br>Start: 22.840s<br>End: 47.050s<br>Duration: 24.210s",
          "<b>5</b><br>Layer: L10<br>Start: 61.640s<br>End: 77.930s<br>Duration: 16.290s",
          "<b>5</b><br>Layer: L10<br>Start: 93.540s<br>End: 108.890s<br>Duration: 15.350s",
          "<b>5</b><br>Layer: L10<br>Start: 238.860s<br>End: 275.190s<br>Duration: 36.330s",
          "<b>5</b><br>Layer: L11<br>Start: 23.310s<br>End: 47.050s<br>Duration: 23.740s",
          "<b>5</b><br>Layer: L11<br>Start: 61.640s<br>End: 77.930s<br>Duration: 16.290s",
          "<b>5</b><br>Layer: L11<br>Start: 93.540s<br>End: 108.420s<br>Duration: 14.880s",
          "<b>5</b><br>Layer: L11<br>Start: 238.860s<br>End: 275.190s<br>Duration: 36.330s",
          "<b>5</b><br>Layer: L12<br>Start: 22.840s<br>End: 47.050s<br>Duration: 24.210s",
          "<b>5</b><br>Layer: L12<br>Start: 61.640s<br>End: 77.930s<br>Duration: 16.290s",
          "<b>5</b><br>Layer: L12<br>Start: 93.540s<br>End: 108.890s<br>Duration: 15.350s",
          "<b>5</b><br>Layer: L12<br>Start: 238.860s<br>End: 275.190s<br>Duration: 36.330s"
         ],
         "hovertemplate": "%{customdata}<extra></extra>",
         "insidetextanchor": "middle",
         "marker": {
          "color": "#9467BD",
          "line": {
           "color": "white",
           "width": 0.5
          },
          "pattern": {
           "fgcolor": "white",
           "fgopacity": 0.5,
           "shape": "",
           "solidity": 0.25
          }
         },
         "name": "5",
         "orientation": "h",
         "showlegend": true,
         "text": [
          "5",
          "5",
          "5",
          "5",
          "5",
          "5",
          "5",
          "5",
          "5",
          "5",
          "5",
          "5",
          "5",
          "5",
          "5",
          "5",
          "5",
          "5",
          "5",
          "5",
          "5",
          "5",
          "5",
          "5",
          "5",
          "5",
          "5"
         ],
         "textposition": "inside",
         "type": "bar",
         "width": 1,
         "x": [
          15.319999999999993,
          15.349999999999994,
          37.289999999999964,
          23.24,
          15.319999999999993,
          22.14999999999999,
          36.80000000000001,
          23.24,
          15.319999999999993,
          22.14999999999999,
          36.329999999999984,
          23.24,
          15.319999999999993,
          22.14999999999999,
          36.329999999999984,
          24.209999999999997,
          16.290000000000006,
          15.349999999999994,
          36.329999999999984,
          23.74,
          16.290000000000006,
          14.879999999999995,
          36.329999999999984,
          24.209999999999997,
          16.290000000000006,
          15.349999999999994,
          36.329999999999984
         ],
         "xaxis": "x2",
         "y": [
          "L06",
          "L06",
          "L06",
          "L07",
          "L07",
          "L07",
          "L07",
          "L08",
          "L08",
          "L08",
          "L08",
          "L09",
          "L09",
          "L09",
          "L09",
          "L10",
          "L10",
          "L10",
          "L10",
          "L11",
          "L11",
          "L11",
          "L11",
          "L12",
          "L12",
          "L12",
          "L12"
         ],
         "yaxis": "y2"
        },
        {
         "base": [
          115.69,
          115.69,
          115.69,
          176.65,
          176.65,
          108.89,
          175.69
         ],
         "customdata": [
          "<b>6</b><br>Layer: L07<br>Start: 115.690s<br>End: 126.380s<br>Duration: 10.690s",
          "<b>6</b><br>Layer: L08<br>Start: 115.690s<br>End: 126.380s<br>Duration: 10.690s",
          "<b>6</b><br>Layer: L09<br>Start: 115.690s<br>End: 126.380s<br>Duration: 10.690s",
          "<b>6</b><br>Layer: L10<br>Start: 176.650s<br>End: 186.760s<br>Duration: 10.110s",
          "<b>6</b><br>Layer: L11<br>Start: 176.650s<br>End: 186.760s<br>Duration: 10.110s",
          "<b>6</b><br>Layer: L12<br>Start: 108.890s<br>End: 118.620s<br>Duration: 9.730s",
          "<b>6</b><br>Layer: L12<br>Start: 175.690s<br>End: 187.270s<br>Duration: 11.580s"
         ],
         "hovertemplate": "%{customdata}<extra></extra>",
         "insidetextanchor": "middle",
         "marker": {
          "color": "#8C564B",
          "line": {
           "color": "white",
           "width": 0.5
          },
          "pattern": {
           "fgcolor": "white",
           "fgopacity": 0.5,
           "shape": "",
           "solidity": 0.25
          }
         },
         "name": "6",
         "orientation": "h",
         "showlegend": true,
         "text": [
          "6",
          "6",
          "6",
          "6",
          "6",
          "6",
          "6"
         ],
         "textposition": "inside",
         "type": "bar",
         "width": 1,
         "x": [
          10.689999999999998,
          10.689999999999998,
          10.689999999999998,
          10.109999999999985,
          10.109999999999985,
          9.730000000000004,
          11.580000000000013
         ],
         "xaxis": "x2",
         "y": [
          "L07",
          "L08",
          "L09",
          "L10",
          "L11",
          "L12",
          "L12"
         ],
         "yaxis": "y2"
        },
        {
         "base": [
          8.79,
          195.42,
          8.79,
          195.42,
          195.42
         ],
         "customdata": [
          "<b>9</b><br>Layer: L10<br>Start: 8.790s<br>End: 22.840s<br>Duration: 14.050s",
          "<b>9</b><br>Layer: L10<br>Start: 195.420s<br>End: 204.540s<br>Duration: 9.120s",
          "<b>9</b><br>Layer: L11<br>Start: 8.790s<br>End: 23.310s<br>Duration: 14.520s",
          "<b>9</b><br>Layer: L11<br>Start: 195.420s<br>End: 204.540s<br>Duration: 9.120s",
          "<b>9</b><br>Layer: L12<br>Start: 195.420s<br>End: 204.540s<br>Duration: 9.120s"
         ],
         "hovertemplate": "%{customdata}<extra></extra>",
         "insidetextanchor": "middle",
         "marker": {
          "color": "#E377C2",
          "line": {
           "color": "white",
           "width": 0.5
          },
          "pattern": {
           "fgcolor": "white",
           "fgopacity": 0.5,
           "shape": "",
           "solidity": 0.25
          }
         },
         "name": "9",
         "orientation": "h",
         "showlegend": true,
         "text": [
          "9",
          "9",
          "9",
          "9",
          "9"
         ],
         "textposition": "inside",
         "type": "bar",
         "width": 1,
         "x": [
          14.05,
          9.120000000000005,
          14.52,
          9.120000000000005,
          9.120000000000005
         ],
         "xaxis": "x2",
         "y": [
          "L10",
          "L10",
          "L11",
          "L11",
          "L12"
         ],
         "yaxis": "y2"
        },
        {
         "base": [
          0,
          8.79,
          0,
          8.79,
          61.64,
          93.54,
          222.83,
          238.86,
          0,
          8.79,
          22.84,
          61.64,
          93.54,
          222.83,
          238.86,
          275.19,
          0,
          8.79,
          22.84,
          46.08,
          61.64,
          76.96,
          93.54,
          222.83,
          238.86,
          275.19,
          0,
          8.79,
          22.84,
          45.59,
          46.08,
          47.05,
          61.64,
          62.58,
          76.48,
          76.96,
          77.93,
          93.54,
          94,
          108.89,
          115.69,
          126.38,
          195.42,
          204.54,
          222.83,
          224.28,
          238.86,
          239.83,
          275.19,
          0,
          8.79,
          22.84,
          45.59,
          46.08,
          47.05,
          61.64,
          62.58,
          76.48,
          76.96,
          77.93,
          93.54,
          94,
          108.89,
          115.69,
          126.38,
          176.65,
          186.76,
          195.42,
          204.54,
          222.83,
          224.28,
          238.86,
          239.83,
          275.19,
          275.66,
          276.15,
          0,
          8.79,
          22.84,
          23.31,
          45.59,
          46.08,
          47.05,
          61.64,
          62.58,
          76.48,
          76.96,
          77.93,
          93.54,
          94,
          108.42,
          108.89,
          115.69,
          118.62,
          126.38,
          175.69,
          176.65,
          186.76,
          187.27,
          195.42,
          204.54,
          222.83,
          224.28,
          238.86,
          239.83,
          275.19,
          275.66,
          276.15,
          277.08,
          277.55
         ],
         "customdata": [
          "<b></b><br>Layer: L01<br>Start: 0.000s<br>End: 8.790s<br>Duration: 8.790s",
          "<b></b><br>Layer: L01<br>Start: 8.790s<br>End: 287.493s<br>Duration: 278.703s",
          "<b></b><br>Layer: L02<br>Start: 0.000s<br>End: 8.790s<br>Duration: 8.790s",
          "<b></b><br>Layer: L02<br>Start: 8.790s<br>End: 61.640s<br>Duration: 52.850s",
          "<b></b><br>Layer: L02<br>Start: 61.640s<br>End: 93.540s<br>Duration: 31.900s",
          "<b></b><br>Layer: L02<br>Start: 93.540s<br>End: 222.830s<br>Duration: 129.290s",
          "<b></b><br>Layer: L02<br>Start: 222.830s<br>End: 238.860s<br>Duration: 16.030s",
          "<b></b><br>Layer: L02<br>Start: 238.860s<br>End: 287.493s<br>Duration: 48.633s",
          "<b></b><br>Layer: L03<br>Start: 0.000s<br>End: 8.790s<br>Duration: 8.790s",
          "<b></b><br>Layer: L03<br>Start: 8.790s<br>End: 22.840s<br>Duration: 14.050s",
          "<b></b><br>Layer: L03<br>Start: 22.840s<br>End: 61.640s<br>Duration: 38.800s",
          "<b></b><br>Layer: L03<br>Start: 61.640s<br>End: 93.540s<br>Duration: 31.900s",
          "<b></b><br>Layer: L03<br>Start: 93.540s<br>End: 222.830s<br>Duration: 129.290s",
          "<b></b><br>Layer: L03<br>Start: 222.830s<br>End: 238.860s<br>Duration: 16.030s",
          "<b></b><br>Layer: L03<br>Start: 238.860s<br>End: 275.190s<br>Duration: 36.330s",
          "<b></b><br>Layer: L03<br>Start: 275.190s<br>End: 287.493s<br>Duration: 12.303s",
          "<b></b><br>Layer: L04<br>Start: 0.000s<br>End: 8.790s<br>Duration: 8.790s",
          "<b></b><br>Layer: L04<br>Start: 8.790s<br>End: 22.840s<br>Duration: 14.050s",
          "<b></b><br>Layer: L04<br>Start: 22.840s<br>End: 46.080s<br>Duration: 23.240s",
          "<b></b><br>Layer: L04<br>Start: 46.080s<br>End: 61.640s<br>Duration: 15.560s",
          "<b></b><br>Layer: L04<br>Start: 61.640s<br>End: 76.960s<br>Duration: 15.320s",
          "<b></b><br>Layer: L04<br>Start: 76.960s<br>End: 93.540s<br>Duration: 16.580s",
          "<b></b><br>Layer: L04<br>Start: 93.540s<br>End: 222.830s<br>Duration: 129.290s",
          "<b></b><br>Layer: L04<br>Start: 222.830s<br>End: 238.860s<br>Duration: 16.030s",
          "<b></b><br>Layer: L04<br>Start: 238.860s<br>End: 275.190s<br>Duration: 36.330s",
          "<b></b><br>Layer: L04<br>Start: 275.190s<br>End: 287.493s<br>Duration: 12.303s",
          "<b></b><br>Layer: L05<br>Start: 0.000s<br>End: 8.790s<br>Duration: 8.790s",
          "<b></b><br>Layer: L05<br>Start: 8.790s<br>End: 22.840s<br>Duration: 14.050s",
          "<b></b><br>Layer: L05<br>Start: 22.840s<br>End: 45.590s<br>Duration: 22.750s",
          "<b></b><br>Layer: L05<br>Start: 45.590s<br>End: 46.080s<br>Duration: 0.490s",
          "<b></b><br>Layer: L05<br>Start: 46.080s<br>End: 47.050s<br>Duration: 0.970s",
          "<b></b><br>Layer: L05<br>Start: 47.050s<br>End: 61.640s<br>Duration: 14.590s",
          "<b></b><br>Layer: L05<br>Start: 61.640s<br>End: 62.580s<br>Duration: 0.940s",
          "<b></b><br>Layer: L05<br>Start: 62.580s<br>End: 76.480s<br>Duration: 13.900s",
          "<b></b><br>Layer: L05<br>Start: 76.480s<br>End: 76.960s<br>Duration: 0.480s",
          "<b></b><br>Layer: L05<br>Start: 76.960s<br>End: 77.930s<br>Duration: 0.970s",
          "<b></b><br>Layer: L05<br>Start: 77.930s<br>End: 93.540s<br>Duration: 15.610s",
          "<b></b><br>Layer: L05<br>Start: 93.540s<br>End: 94.000s<br>Duration: 0.460s",
          "<b></b><br>Layer: L05<br>Start: 94.000s<br>End: 108.890s<br>Duration: 14.890s",
          "<b></b><br>Layer: L05<br>Start: 108.890s<br>End: 115.690s<br>Duration: 6.800s",
          "<b></b><br>Layer: L05<br>Start: 115.690s<br>End: 126.380s<br>Duration: 10.690s",
          "<b></b><br>Layer: L05<br>Start: 126.380s<br>End: 195.420s<br>Duration: 69.040s",
          "<b></b><br>Layer: L05<br>Start: 195.420s<br>End: 204.540s<br>Duration: 9.120s",
          "<b></b><br>Layer: L05<br>Start: 204.540s<br>End: 222.830s<br>Duration: 18.290s",
          "<b></b><br>Layer: L05<br>Start: 222.830s<br>End: 224.280s<br>Duration: 1.450s",
          "<b></b><br>Layer: L05<br>Start: 224.280s<br>End: 238.860s<br>Duration: 14.580s",
          "<b></b><br>Layer: L05<br>Start: 238.860s<br>End: 239.830s<br>Duration: 0.970s",
          "<b></b><br>Layer: L05<br>Start: 239.830s<br>End: 275.190s<br>Duration: 35.360s",
          "<b></b><br>Layer: L05<br>Start: 275.190s<br>End: 287.493s<br>Duration: 12.303s",
          "<b></b><br>Layer: L06<br>Start: 0.000s<br>End: 8.790s<br>Duration: 8.790s",
          "<b></b><br>Layer: L06<br>Start: 8.790s<br>End: 22.840s<br>Duration: 14.050s",
          "<b></b><br>Layer: L06<br>Start: 22.840s<br>End: 45.590s<br>Duration: 22.750s",
          "<b></b><br>Layer: L06<br>Start: 45.590s<br>End: 46.080s<br>Duration: 0.490s",
          "<b></b><br>Layer: L06<br>Start: 46.080s<br>End: 47.050s<br>Duration: 0.970s",
          "<b></b><br>Layer: L06<br>Start: 47.050s<br>End: 61.640s<br>Duration: 14.590s",
          "<b></b><br>Layer: L06<br>Start: 61.640s<br>End: 62.580s<br>Duration: 0.940s",
          "<b></b><br>Layer: L06<br>Start: 62.580s<br>End: 76.480s<br>Duration: 13.900s",
          "<b></b><br>Layer: L06<br>Start: 76.480s<br>End: 76.960s<br>Duration: 0.480s",
          "<b></b><br>Layer: L06<br>Start: 76.960s<br>End: 77.930s<br>Duration: 0.970s",
          "<b></b><br>Layer: L06<br>Start: 77.930s<br>End: 93.540s<br>Duration: 15.610s",
          "<b></b><br>Layer: L06<br>Start: 93.540s<br>End: 94.000s<br>Duration: 0.460s",
          "<b></b><br>Layer: L06<br>Start: 94.000s<br>End: 108.890s<br>Duration: 14.890s",
          "<b></b><br>Layer: L06<br>Start: 108.890s<br>End: 115.690s<br>Duration: 6.800s",
          "<b></b><br>Layer: L06<br>Start: 115.690s<br>End: 126.380s<br>Duration: 10.690s",
          "<b></b><br>Layer: L06<br>Start: 126.380s<br>End: 176.650s<br>Duration: 50.270s",
          "<b></b><br>Layer: L06<br>Start: 176.650s<br>End: 186.760s<br>Duration: 10.110s",
          "<b></b><br>Layer: L06<br>Start: 186.760s<br>End: 195.420s<br>Duration: 8.660s",
          "<b></b><br>Layer: L06<br>Start: 195.420s<br>End: 204.540s<br>Duration: 9.120s",
          "<b></b><br>Layer: L06<br>Start: 204.540s<br>End: 222.830s<br>Duration: 18.290s",
          "<b></b><br>Layer: L06<br>Start: 222.830s<br>End: 224.280s<br>Duration: 1.450s",
          "<b></b><br>Layer: L06<br>Start: 224.280s<br>End: 238.860s<br>Duration: 14.580s",
          "<b></b><br>Layer: L06<br>Start: 238.860s<br>End: 239.830s<br>Duration: 0.970s",
          "<b></b><br>Layer: L06<br>Start: 239.830s<br>End: 275.190s<br>Duration: 35.360s",
          "<b></b><br>Layer: L06<br>Start: 275.190s<br>End: 275.660s<br>Duration: 0.470s",
          "<b></b><br>Layer: L06<br>Start: 275.660s<br>End: 276.150s<br>Duration: 0.490s",
          "<b></b><br>Layer: L06<br>Start: 276.150s<br>End: 287.493s<br>Duration: 11.343s",
          "<b></b><br>Layer: L07<br>Start: 0.000s<br>End: 8.790s<br>Duration: 8.790s",
          "<b></b><br>Layer: L07<br>Start: 8.790s<br>End: 22.840s<br>Duration: 14.050s",
          "<b></b><br>Layer: L07<br>Start: 22.840s<br>End: 23.310s<br>Duration: 0.470s",
          "<b></b><br>Layer: L07<br>Start: 23.310s<br>End: 45.590s<br>Duration: 22.280s",
          "<b></b><br>Layer: L07<br>Start: 45.590s<br>End: 46.080s<br>Duration: 0.490s",
          "<b></b><br>Layer: L07<br>Start: 46.080s<br>End: 47.050s<br>Duration: 0.970s",
          "<b></b><br>Layer: L07<br>Start: 47.050s<br>End: 61.640s<br>Duration: 14.590s",
          "<b></b><br>Layer: L07<br>Start: 61.640s<br>End: 62.580s<br>Duration: 0.940s",
          "<b></b><br>Layer: L07<br>Start: 62.580s<br>End: 76.480s<br>Duration: 13.900s",
          "<b></b><br>Layer: L07<br>Start: 76.480s<br>End: 76.960s<br>Duration: 0.480s",
          "<b></b><br>Layer: L07<br>Start: 76.960s<br>End: 77.930s<br>Duration: 0.970s",
          "<b></b><br>Layer: L07<br>Start: 77.930s<br>End: 93.540s<br>Duration: 15.610s",
          "<b></b><br>Layer: L07<br>Start: 93.540s<br>End: 94.000s<br>Duration: 0.460s",
          "<b></b><br>Layer: L07<br>Start: 94.000s<br>End: 108.420s<br>Duration: 14.420s",
          "<b></b><br>Layer: L07<br>Start: 108.420s<br>End: 108.890s<br>Duration: 0.470s",
          "<b></b><br>Layer: L07<br>Start: 108.890s<br>End: 115.690s<br>Duration: 6.800s",
          "<b></b><br>Layer: L07<br>Start: 115.690s<br>End: 118.620s<br>Duration: 2.930s",
          "<b></b><br>Layer: L07<br>Start: 118.620s<br>End: 126.380s<br>Duration: 7.760s",
          "<b></b><br>Layer: L07<br>Start: 126.380s<br>End: 175.690s<br>Duration: 49.310s",
          "<b></b><br>Layer: L07<br>Start: 175.690s<br>End: 176.650s<br>Duration: 0.960s",
          "<b></b><br>Layer: L07<br>Start: 176.650s<br>End: 186.760s<br>Duration: 10.110s",
          "<b></b><br>Layer: L07<br>Start: 186.760s<br>End: 187.270s<br>Duration: 0.510s",
          "<b></b><br>Layer: L07<br>Start: 187.270s<br>End: 195.420s<br>Duration: 8.150s",
          "<b></b><br>Layer: L07<br>Start: 195.420s<br>End: 204.540s<br>Duration: 9.120s",
          "<b></b><br>Layer: L07<br>Start: 204.540s<br>End: 222.830s<br>Duration: 18.290s",
          "<b></b><br>Layer: L07<br>Start: 222.830s<br>End: 224.280s<br>Duration: 1.450s",
          "<b></b><br>Layer: L07<br>Start: 224.280s<br>End: 238.860s<br>Duration: 14.580s",
          "<b></b><br>Layer: L07<br>Start: 238.860s<br>End: 239.830s<br>Duration: 0.970s",
          "<b></b><br>Layer: L07<br>Start: 239.830s<br>End: 275.190s<br>Duration: 35.360s",
          "<b></b><br>Layer: L07<br>Start: 275.190s<br>End: 275.660s<br>Duration: 0.470s",
          "<b></b><br>Layer: L07<br>Start: 275.660s<br>End: 276.150s<br>Duration: 0.490s",
          "<b></b><br>Layer: L07<br>Start: 276.150s<br>End: 277.080s<br>Duration: 0.930s",
          "<b></b><br>Layer: L07<br>Start: 277.080s<br>End: 277.550s<br>Duration: 0.470s",
          "<b></b><br>Layer: L07<br>Start: 277.550s<br>End: 287.493s<br>Duration: 9.943s"
         ],
         "hovertemplate": "%{customdata}<extra></extra>",
         "insidetextanchor": "middle",
         "marker": {
          "color": "#1F77B4",
          "line": {
           "color": "white",
           "width": 0.5
          },
          "pattern": {
           "fgcolor": "white",
           "fgopacity": 0.5,
           "shape": "",
           "solidity": 0.25
          }
         },
         "name": "",
         "orientation": "h",
         "showlegend": true,
         "text": [
          "",
          "",
          "",
          "",
          "",
          "",
          "",
          "",
          "",
          "",
          "",
          "",
          "",
          "",
          "",
          "",
          "",
          "",
          "",
          "",
          "",
          "",
          "",
          "",
          "",
          "",
          "",
          "",
          "",
          "",
          "",
          "",
          "",
          "",
          "",
          "",
          "",
          "",
          "",
          "",
          "",
          "",
          "",
          "",
          "",
          "",
          "",
          "",
          "",
          "",
          "",
          "",
          "",
          "",
          "",
          "",
          "",
          "",
          "",
          "",
          "",
          "",
          "",
          "",
          "",
          "",
          "",
          "",
          "",
          "",
          "",
          "",
          "",
          "",
          "",
          "",
          "",
          "",
          "",
          "",
          "",
          "",
          "",
          "",
          "",
          "",
          "",
          "",
          "",
          "",
          "",
          "",
          "",
          "",
          "",
          "",
          "",
          "",
          "",
          "",
          "",
          "",
          "",
          "",
          "",
          "",
          "",
          "",
          "",
          ""
         ],
         "textposition": "inside",
         "type": "bar",
         "width": 1,
         "x": [
          8.79,
          278.70329,
          8.79,
          52.85,
          31.900000000000006,
          129.29000000000002,
          16.03,
          48.63328999999999,
          8.79,
          14.05,
          38.8,
          31.900000000000006,
          129.29000000000002,
          16.03,
          36.329999999999984,
          12.303290000000004,
          8.79,
          14.05,
          23.24,
          15.560000000000002,
          15.319999999999993,
          16.580000000000013,
          129.29000000000002,
          16.03,
          36.329999999999984,
          12.303290000000004,
          8.79,
          14.05,
          22.750000000000004,
          0.4899999999999949,
          0.9699999999999989,
          14.590000000000003,
          0.9399999999999977,
          13.900000000000006,
          0.47999999999998977,
          0.9700000000000131,
          15.61,
          0.45999999999999375,
          14.89,
          6.799999999999997,
          10.689999999999998,
          69.03999999999999,
          9.120000000000005,
          18.29000000000002,
          1.4499999999999886,
          14.580000000000013,
          0.9699999999999989,
          35.359999999999985,
          12.303290000000004,
          8.79,
          14.05,
          22.750000000000004,
          0.4899999999999949,
          0.9699999999999989,
          14.590000000000003,
          0.9399999999999977,
          13.900000000000006,
          0.47999999999998977,
          0.9700000000000131,
          15.61,
          0.45999999999999375,
          14.89,
          6.799999999999997,
          10.689999999999998,
          50.27000000000001,
          10.109999999999985,
          8.659999999999997,
          9.120000000000005,
          18.29000000000002,
          1.4499999999999886,
          14.580000000000013,
          0.9699999999999989,
          35.359999999999985,
          0.4700000000000273,
          0.48999999999995225,
          11.343290000000025,
          8.79,
          14.05,
          0.46999999999999886,
          22.280000000000005,
          0.4899999999999949,
          0.9699999999999989,
          14.590000000000003,
          0.9399999999999977,
          13.900000000000006,
          0.47999999999998977,
          0.9700000000000131,
          15.61,
          0.45999999999999375,
          14.420000000000002,
          0.46999999999999886,
          6.799999999999997,
          2.930000000000007,
          7.759999999999991,
          49.31,
          0.960000000000008,
          10.109999999999985,
          0.5100000000000193,
          8.149999999999977,
          9.120000000000005,
          18.29000000000002,
          1.4499999999999886,
          14.580000000000013,
          0.9699999999999989,
          35.359999999999985,
          0.4700000000000273,
          0.48999999999995225,
          0.9300000000000068,
          0.4700000000000273,
          9.94328999999999
         ],
         "xaxis": "x3",
         "y": [
          "L01",
          "L01",
          "L02",
          "L02",
          "L02",
          "L02",
          "L02",
          "L02",
          "L03",
          "L03",
          "L03",
          "L03",
          "L03",
          "L03",
          "L03",
          "L03",
          "L04",
          "L04",
          "L04",
          "L04",
          "L04",
          "L04",
          "L04",
          "L04",
          "L04",
          "L04",
          "L05",
          "L05",
          "L05",
          "L05",
          "L05",
          "L05",
          "L05",
          "L05",
          "L05",
          "L05",
          "L05",
          "L05",
          "L05",
          "L05",
          "L05",
          "L05",
          "L05",
          "L05",
          "L05",
          "L05",
          "L05",
          "L05",
          "L05",
          "L06",
          "L06",
          "L06",
          "L06",
          "L06",
          "L06",
          "L06",
          "L06",
          "L06",
          "L06",
          "L06",
          "L06",
          "L06",
          "L06",
          "L06",
          "L06",
          "L06",
          "L06",
          "L06",
          "L06",
          "L06",
          "L06",
          "L06",
          "L06",
          "L06",
          "L06",
          "L06",
          "L07",
          "L07",
          "L07",
          "L07",
          "L07",
          "L07",
          "L07",
          "L07",
          "L07",
          "L07",
          "L07",
          "L07",
          "L07",
          "L07",
          "L07",
          "L07",
          "L07",
          "L07",
          "L07",
          "L07",
          "L07",
          "L07",
          "L07",
          "L07",
          "L07",
          "L07",
          "L07",
          "L07",
          "L07",
          "L07",
          "L07",
          "L07",
          "L07",
          "L07"
         ],
         "yaxis": "y3"
        },
        {
         "base": [
          0,
          8.79,
          277.08,
          0,
          8.79,
          45.59,
          62.58,
          76.48,
          94,
          222.83,
          239.83,
          277.08,
          277.55,
          0,
          8.79,
          45.59,
          62.58,
          76.48,
          94,
          222.83,
          239.83,
          276.15,
          277.08,
          277.55,
          0,
          8.79,
          45.59,
          62.58,
          76.48,
          94,
          222.83,
          239.83,
          275.66,
          276.15,
          277.08,
          277.55,
          0,
          8.79,
          45.59,
          46.08,
          61.64,
          62.58,
          76.48,
          76.96,
          93.54,
          94,
          108.89,
          222.83,
          238.86,
          239.83,
          275.66,
          276.15,
          277.08,
          277.55,
          0,
          8.79,
          22.84,
          45.59,
          46.08,
          61.64,
          62.58,
          76.48,
          76.96,
          93.54,
          94,
          108.89,
          115.69,
          126.38,
          222.83,
          238.86,
          239.83,
          275.66,
          276.15,
          277.08,
          277.55,
          0,
          8.79,
          22.84,
          45.59,
          46.08,
          61.64,
          62.58,
          76.48,
          76.96,
          93.54,
          94,
          108.89,
          115.69,
          126.38,
          222.83,
          238.86,
          239.83,
          275.19,
          275.66,
          276.15,
          277.08,
          277.55,
          0,
          8.79,
          22.84,
          45.59,
          46.08,
          47.05,
          61.64,
          62.58,
          76.48,
          76.96,
          77.93,
          93.54,
          94,
          108.89,
          115.69,
          126.38,
          176.65,
          186.76,
          195.42,
          204.54,
          222.83,
          224.28,
          238.86,
          239.83,
          275.19,
          275.66,
          276.15,
          277.08,
          277.55,
          0,
          8.79,
          22.84,
          23.31,
          45.59,
          46.08,
          47.05,
          61.64,
          62.58,
          76.48,
          76.96,
          77.93,
          93.54,
          94,
          108.42,
          108.89,
          115.69,
          126.38,
          176.65,
          186.76,
          195.42,
          204.54,
          222.83,
          224.28,
          238.86,
          239.83,
          275.19,
          275.66,
          276.15,
          277.08,
          277.55,
          0,
          8.79,
          22.84,
          23.31,
          45.59,
          46.08,
          47.05,
          61.64,
          62.58,
          76.48,
          76.96,
          77.93,
          93.54,
          94,
          108.42,
          108.89,
          115.69,
          118.62,
          126.38,
          175.69,
          176.65,
          186.76,
          187.27,
          195.42,
          204.54,
          222.83,
          224.28,
          238.86,
          239.83,
          275.19,
          275.66,
          276.15,
          277.08,
          277.55
         ],
         "customdata": [
          "<b></b><br>Layer: L01<br>Start: 0.000s<br>End: 8.790s<br>Duration: 8.790s",
          "<b></b><br>Layer: L01<br>Start: 8.790s<br>End: 277.080s<br>Duration: 268.290s",
          "<b></b><br>Layer: L01<br>Start: 277.080s<br>End: 287.493s<br>Duration: 10.413s",
          "<b></b><br>Layer: L02<br>Start: 0.000s<br>End: 8.790s<br>Duration: 8.790s",
          "<b></b><br>Layer: L02<br>Start: 8.790s<br>End: 45.590s<br>Duration: 36.800s",
          "<b></b><br>Layer: L02<br>Start: 45.590s<br>End: 62.580s<br>Duration: 16.990s",
          "<b></b><br>Layer: L02<br>Start: 62.580s<br>End: 76.480s<br>Duration: 13.900s",
          "<b></b><br>Layer: L02<br>Start: 76.480s<br>End: 94.000s<br>Duration: 17.520s",
          "<b></b><br>Layer: L02<br>Start: 94.000s<br>End: 222.830s<br>Duration: 128.830s",
          "<b></b><br>Layer: L02<br>Start: 222.830s<br>End: 239.830s<br>Duration: 17.000s",
          "<b></b><br>Layer: L02<br>Start: 239.830s<br>End: 277.080s<br>Duration: 37.250s",
          "<b></b><br>Layer: L02<br>Start: 277.080s<br>End: 277.550s<br>Duration: 0.470s",
          "<b></b><br>Layer: L02<br>Start: 277.550s<br>End: 287.493s<br>Duration: 9.943s",
          "<b></b><br>Layer: L03<br>Start: 0.000s<br>End: 8.790s<br>Duration: 8.790s",
          "<b></b><br>Layer: L03<br>Start: 8.790s<br>End: 45.590s<br>Duration: 36.800s",
          "<b></b><br>Layer: L03<br>Start: 45.590s<br>End: 62.580s<br>Duration: 16.990s",
          "<b></b><br>Layer: L03<br>Start: 62.580s<br>End: 76.480s<br>Duration: 13.900s",
          "<b></b><br>Layer: L03<br>Start: 76.480s<br>End: 94.000s<br>Duration: 17.520s",
          "<b></b><br>Layer: L03<br>Start: 94.000s<br>End: 222.830s<br>Duration: 128.830s",
          "<b></b><br>Layer: L03<br>Start: 222.830s<br>End: 239.830s<br>Duration: 17.000s",
          "<b></b><br>Layer: L03<br>Start: 239.830s<br>End: 276.150s<br>Duration: 36.320s",
          "<b></b><br>Layer: L03<br>Start: 276.150s<br>End: 277.080s<br>Duration: 0.930s",
          "<b></b><br>Layer: L03<br>Start: 277.080s<br>End: 277.550s<br>Duration: 0.470s",
          "<b></b><br>Layer: L03<br>Start: 277.550s<br>End: 287.493s<br>Duration: 9.943s",
          "<b></b><br>Layer: L04<br>Start: 0.000s<br>End: 8.790s<br>Duration: 8.790s",
          "<b></b><br>Layer: L04<br>Start: 8.790s<br>End: 45.590s<br>Duration: 36.800s",
          "<b></b><br>Layer: L04<br>Start: 45.590s<br>End: 62.580s<br>Duration: 16.990s",
          "<b></b><br>Layer: L04<br>Start: 62.580s<br>End: 76.480s<br>Duration: 13.900s",
          "<b></b><br>Layer: L04<br>Start: 76.480s<br>End: 94.000s<br>Duration: 17.520s",
          "<b></b><br>Layer: L04<br>Start: 94.000s<br>End: 222.830s<br>Duration: 128.830s",
          "<b></b><br>Layer: L04<br>Start: 222.830s<br>End: 239.830s<br>Duration: 17.000s",
          "<b></b><br>Layer: L04<br>Start: 239.830s<br>End: 275.660s<br>Duration: 35.830s",
          "<b></b><br>Layer: L04<br>Start: 275.660s<br>End: 276.150s<br>Duration: 0.490s",
          "<b></b><br>Layer: L04<br>Start: 276.150s<br>End: 277.080s<br>Duration: 0.930s",
          "<b></b><br>Layer: L04<br>Start: 277.080s<br>End: 277.550s<br>Duration: 0.470s",
          "<b></b><br>Layer: L04<br>Start: 277.550s<br>End: 287.493s<br>Duration: 9.943s",
          "<b></b><br>Layer: L05<br>Start: 0.000s<br>End: 8.790s<br>Duration: 8.790s",
          "<b></b><br>Layer: L05<br>Start: 8.790s<br>End: 45.590s<br>Duration: 36.800s",
          "<b></b><br>Layer: L05<br>Start: 45.590s<br>End: 46.080s<br>Duration: 0.490s",
          "<b></b><br>Layer: L05<br>Start: 46.080s<br>End: 61.640s<br>Duration: 15.560s",
          "<b></b><br>Layer: L05<br>Start: 61.640s<br>End: 62.580s<br>Duration: 0.940s",
          "<b></b><br>Layer: L05<br>Start: 62.580s<br>End: 76.480s<br>Duration: 13.900s",
          "<b></b><br>Layer: L05<br>Start: 76.480s<br>End: 76.960s<br>Duration: 0.480s",
          "<b></b><br>Layer: L05<br>Start: 76.960s<br>End: 93.540s<br>Duration: 16.580s",
          "<b></b><br>Layer: L05<br>Start: 93.540s<br>End: 94.000s<br>Duration: 0.460s",
          "<b></b><br>Layer: L05<br>Start: 94.000s<br>End: 108.890s<br>Duration: 14.890s",
          "<b></b><br>Layer: L05<br>Start: 108.890s<br>End: 222.830s<br>Duration: 113.940s",
          "<b></b><br>Layer: L05<br>Start: 222.830s<br>End: 238.860s<br>Duration: 16.030s",
          "<b></b><br>Layer: L05<br>Start: 238.860s<br>End: 239.830s<br>Duration: 0.970s",
          "<b></b><br>Layer: L05<br>Start: 239.830s<br>End: 275.660s<br>Duration: 35.830s",
          "<b></b><br>Layer: L05<br>Start: 275.660s<br>End: 276.150s<br>Duration: 0.490s",
          "<b></b><br>Layer: L05<br>Start: 276.150s<br>End: 277.080s<br>Duration: 0.930s",
          "<b></b><br>Layer: L05<br>Start: 277.080s<br>End: 277.550s<br>Duration: 0.470s",
          "<b></b><br>Layer: L05<br>Start: 277.550s<br>End: 287.493s<br>Duration: 9.943s",
          "<b></b><br>Layer: L06<br>Start: 0.000s<br>End: 8.790s<br>Duration: 8.790s",
          "<b></b><br>Layer: L06<br>Start: 8.790s<br>End: 22.840s<br>Duration: 14.050s",
          "<b></b><br>Layer: L06<br>Start: 22.840s<br>End: 45.590s<br>Duration: 22.750s",
          "<b></b><br>Layer: L06<br>Start: 45.590s<br>End: 46.080s<br>Duration: 0.490s",
          "<b></b><br>Layer: L06<br>Start: 46.080s<br>End: 61.640s<br>Duration: 15.560s",
          "<b></b><br>Layer: L06<br>Start: 61.640s<br>End: 62.580s<br>Duration: 0.940s",
          "<b></b><br>Layer: L06<br>Start: 62.580s<br>End: 76.480s<br>Duration: 13.900s",
          "<b></b><br>Layer: L06<br>Start: 76.480s<br>End: 76.960s<br>Duration: 0.480s",
          "<b></b><br>Layer: L06<br>Start: 76.960s<br>End: 93.540s<br>Duration: 16.580s",
          "<b></b><br>Layer: L06<br>Start: 93.540s<br>End: 94.000s<br>Duration: 0.460s",
          "<b></b><br>Layer: L06<br>Start: 94.000s<br>End: 108.890s<br>Duration: 14.890s",
          "<b></b><br>Layer: L06<br>Start: 108.890s<br>End: 115.690s<br>Duration: 6.800s",
          "<b></b><br>Layer: L06<br>Start: 115.690s<br>End: 126.380s<br>Duration: 10.690s",
          "<b></b><br>Layer: L06<br>Start: 126.380s<br>End: 222.830s<br>Duration: 96.450s",
          "<b></b><br>Layer: L06<br>Start: 222.830s<br>End: 238.860s<br>Duration: 16.030s",
          "<b></b><br>Layer: L06<br>Start: 238.860s<br>End: 239.830s<br>Duration: 0.970s",
          "<b></b><br>Layer: L06<br>Start: 239.830s<br>End: 275.660s<br>Duration: 35.830s",
          "<b></b><br>Layer: L06<br>Start: 275.660s<br>End: 276.150s<br>Duration: 0.490s",
          "<b></b><br>Layer: L06<br>Start: 276.150s<br>End: 277.080s<br>Duration: 0.930s",
          "<b></b><br>Layer: L06<br>Start: 277.080s<br>End: 277.550s<br>Duration: 0.470s",
          "<b></b><br>Layer: L06<br>Start: 277.550s<br>End: 287.493s<br>Duration: 9.943s",
          "<b></b><br>Layer: L07<br>Start: 0.000s<br>End: 8.790s<br>Duration: 8.790s",
          "<b></b><br>Layer: L07<br>Start: 8.790s<br>End: 22.840s<br>Duration: 14.050s",
          "<b></b><br>Layer: L07<br>Start: 22.840s<br>End: 45.590s<br>Duration: 22.750s",
          "<b></b><br>Layer: L07<br>Start: 45.590s<br>End: 46.080s<br>Duration: 0.490s",
          "<b></b><br>Layer: L07<br>Start: 46.080s<br>End: 61.640s<br>Duration: 15.560s",
          "<b></b><br>Layer: L07<br>Start: 61.640s<br>End: 62.580s<br>Duration: 0.940s",
          "<b></b><br>Layer: L07<br>Start: 62.580s<br>End: 76.480s<br>Duration: 13.900s",
          "<b></b><br>Layer: L07<br>Start: 76.480s<br>End: 76.960s<br>Duration: 0.480s",
          "<b></b><br>Layer: L07<br>Start: 76.960s<br>End: 93.540s<br>Duration: 16.580s",
          "<b></b><br>Layer: L07<br>Start: 93.540s<br>End: 94.000s<br>Duration: 0.460s",
          "<b></b><br>Layer: L07<br>Start: 94.000s<br>End: 108.890s<br>Duration: 14.890s",
          "<b></b><br>Layer: L07<br>Start: 108.890s<br>End: 115.690s<br>Duration: 6.800s",
          "<b></b><br>Layer: L07<br>Start: 115.690s<br>End: 126.380s<br>Duration: 10.690s",
          "<b></b><br>Layer: L07<br>Start: 126.380s<br>End: 222.830s<br>Duration: 96.450s",
          "<b></b><br>Layer: L07<br>Start: 222.830s<br>End: 238.860s<br>Duration: 16.030s",
          "<b></b><br>Layer: L07<br>Start: 238.860s<br>End: 239.830s<br>Duration: 0.970s",
          "<b></b><br>Layer: L07<br>Start: 239.830s<br>End: 275.190s<br>Duration: 35.360s",
          "<b></b><br>Layer: L07<br>Start: 275.190s<br>End: 275.660s<br>Duration: 0.470s",
          "<b></b><br>Layer: L07<br>Start: 275.660s<br>End: 276.150s<br>Duration: 0.490s",
          "<b></b><br>Layer: L07<br>Start: 276.150s<br>End: 277.080s<br>Duration: 0.930s",
          "<b></b><br>Layer: L07<br>Start: 277.080s<br>End: 277.550s<br>Duration: 0.470s",
          "<b></b><br>Layer: L07<br>Start: 277.550s<br>End: 287.493s<br>Duration: 9.943s",
          "<b></b><br>Layer: L08<br>Start: 0.000s<br>End: 8.790s<br>Duration: 8.790s",
          "<b></b><br>Layer: L08<br>Start: 8.790s<br>End: 22.840s<br>Duration: 14.050s",
          "<b></b><br>Layer: L08<br>Start: 22.840s<br>End: 45.590s<br>Duration: 22.750s",
          "<b></b><br>Layer: L08<br>Start: 45.590s<br>End: 46.080s<br>Duration: 0.490s",
          "<b></b><br>Layer: L08<br>Start: 46.080s<br>End: 47.050s<br>Duration: 0.970s",
          "<b></b><br>Layer: L08<br>Start: 47.050s<br>End: 61.640s<br>Duration: 14.590s",
          "<b></b><br>Layer: L08<br>Start: 61.640s<br>End: 62.580s<br>Duration: 0.940s",
          "<b></b><br>Layer: L08<br>Start: 62.580s<br>End: 76.480s<br>Duration: 13.900s",
          "<b></b><br>Layer: L08<br>Start: 76.480s<br>End: 76.960s<br>Duration: 0.480s",
          "<b></b><br>Layer: L08<br>Start: 76.960s<br>End: 77.930s<br>Duration: 0.970s",
          "<b></b><br>Layer: L08<br>Start: 77.930s<br>End: 93.540s<br>Duration: 15.610s",
          "<b></b><br>Layer: L08<br>Start: 93.540s<br>End: 94.000s<br>Duration: 0.460s",
          "<b></b><br>Layer: L08<br>Start: 94.000s<br>End: 108.890s<br>Duration: 14.890s",
          "<b></b><br>Layer: L08<br>Start: 108.890s<br>End: 115.690s<br>Duration: 6.800s",
          "<b></b><br>Layer: L08<br>Start: 115.690s<br>End: 126.380s<br>Duration: 10.690s",
          "<b></b><br>Layer: L08<br>Start: 126.380s<br>End: 176.650s<br>Duration: 50.270s",
          "<b></b><br>Layer: L08<br>Start: 176.650s<br>End: 186.760s<br>Duration: 10.110s",
          "<b></b><br>Layer: L08<br>Start: 186.760s<br>End: 195.420s<br>Duration: 8.660s",
          "<b></b><br>Layer: L08<br>Start: 195.420s<br>End: 204.540s<br>Duration: 9.120s",
          "<b></b><br>Layer: L08<br>Start: 204.540s<br>End: 222.830s<br>Duration: 18.290s",
          "<b></b><br>Layer: L08<br>Start: 222.830s<br>End: 224.280s<br>Duration: 1.450s",
          "<b></b><br>Layer: L08<br>Start: 224.280s<br>End: 238.860s<br>Duration: 14.580s",
          "<b></b><br>Layer: L08<br>Start: 238.860s<br>End: 239.830s<br>Duration: 0.970s",
          "<b></b><br>Layer: L08<br>Start: 239.830s<br>End: 275.190s<br>Duration: 35.360s",
          "<b></b><br>Layer: L08<br>Start: 275.190s<br>End: 275.660s<br>Duration: 0.470s",
          "<b></b><br>Layer: L08<br>Start: 275.660s<br>End: 276.150s<br>Duration: 0.490s",
          "<b></b><br>Layer: L08<br>Start: 276.150s<br>End: 277.080s<br>Duration: 0.930s",
          "<b></b><br>Layer: L08<br>Start: 277.080s<br>End: 277.550s<br>Duration: 0.470s",
          "<b></b><br>Layer: L08<br>Start: 277.550s<br>End: 287.493s<br>Duration: 9.943s",
          "<b></b><br>Layer: L09<br>Start: 0.000s<br>End: 8.790s<br>Duration: 8.790s",
          "<b></b><br>Layer: L09<br>Start: 8.790s<br>End: 22.840s<br>Duration: 14.050s",
          "<b></b><br>Layer: L09<br>Start: 22.840s<br>End: 23.310s<br>Duration: 0.470s",
          "<b></b><br>Layer: L09<br>Start: 23.310s<br>End: 45.590s<br>Duration: 22.280s",
          "<b></b><br>Layer: L09<br>Start: 45.590s<br>End: 46.080s<br>Duration: 0.490s",
          "<b></b><br>Layer: L09<br>Start: 46.080s<br>End: 47.050s<br>Duration: 0.970s",
          "<b></b><br>Layer: L09<br>Start: 47.050s<br>End: 61.640s<br>Duration: 14.590s",
          "<b></b><br>Layer: L09<br>Start: 61.640s<br>End: 62.580s<br>Duration: 0.940s",
          "<b></b><br>Layer: L09<br>Start: 62.580s<br>End: 76.480s<br>Duration: 13.900s",
          "<b></b><br>Layer: L09<br>Start: 76.480s<br>End: 76.960s<br>Duration: 0.480s",
          "<b></b><br>Layer: L09<br>Start: 76.960s<br>End: 77.930s<br>Duration: 0.970s",
          "<b></b><br>Layer: L09<br>Start: 77.930s<br>End: 93.540s<br>Duration: 15.610s",
          "<b></b><br>Layer: L09<br>Start: 93.540s<br>End: 94.000s<br>Duration: 0.460s",
          "<b></b><br>Layer: L09<br>Start: 94.000s<br>End: 108.420s<br>Duration: 14.420s",
          "<b></b><br>Layer: L09<br>Start: 108.420s<br>End: 108.890s<br>Duration: 0.470s",
          "<b></b><br>Layer: L09<br>Start: 108.890s<br>End: 115.690s<br>Duration: 6.800s",
          "<b></b><br>Layer: L09<br>Start: 115.690s<br>End: 126.380s<br>Duration: 10.690s",
          "<b></b><br>Layer: L09<br>Start: 126.380s<br>End: 176.650s<br>Duration: 50.270s",
          "<b></b><br>Layer: L09<br>Start: 176.650s<br>End: 186.760s<br>Duration: 10.110s",
          "<b></b><br>Layer: L09<br>Start: 186.760s<br>End: 195.420s<br>Duration: 8.660s",
          "<b></b><br>Layer: L09<br>Start: 195.420s<br>End: 204.540s<br>Duration: 9.120s",
          "<b></b><br>Layer: L09<br>Start: 204.540s<br>End: 222.830s<br>Duration: 18.290s",
          "<b></b><br>Layer: L09<br>Start: 222.830s<br>End: 224.280s<br>Duration: 1.450s",
          "<b></b><br>Layer: L09<br>Start: 224.280s<br>End: 238.860s<br>Duration: 14.580s",
          "<b></b><br>Layer: L09<br>Start: 238.860s<br>End: 239.830s<br>Duration: 0.970s",
          "<b></b><br>Layer: L09<br>Start: 239.830s<br>End: 275.190s<br>Duration: 35.360s",
          "<b></b><br>Layer: L09<br>Start: 275.190s<br>End: 275.660s<br>Duration: 0.470s",
          "<b></b><br>Layer: L09<br>Start: 275.660s<br>End: 276.150s<br>Duration: 0.490s",
          "<b></b><br>Layer: L09<br>Start: 276.150s<br>End: 277.080s<br>Duration: 0.930s",
          "<b></b><br>Layer: L09<br>Start: 277.080s<br>End: 277.550s<br>Duration: 0.470s",
          "<b></b><br>Layer: L09<br>Start: 277.550s<br>End: 287.493s<br>Duration: 9.943s",
          "<b></b><br>Layer: L10<br>Start: 0.000s<br>End: 8.790s<br>Duration: 8.790s",
          "<b></b><br>Layer: L10<br>Start: 8.790s<br>End: 22.840s<br>Duration: 14.050s",
          "<b></b><br>Layer: L10<br>Start: 22.840s<br>End: 23.310s<br>Duration: 0.470s",
          "<b></b><br>Layer: L10<br>Start: 23.310s<br>End: 45.590s<br>Duration: 22.280s",
          "<b></b><br>Layer: L10<br>Start: 45.590s<br>End: 46.080s<br>Duration: 0.490s",
          "<b></b><br>Layer: L10<br>Start: 46.080s<br>End: 47.050s<br>Duration: 0.970s",
          "<b></b><br>Layer: L10<br>Start: 47.050s<br>End: 61.640s<br>Duration: 14.590s",
          "<b></b><br>Layer: L10<br>Start: 61.640s<br>End: 62.580s<br>Duration: 0.940s",
          "<b></b><br>Layer: L10<br>Start: 62.580s<br>End: 76.480s<br>Duration: 13.900s",
          "<b></b><br>Layer: L10<br>Start: 76.480s<br>End: 76.960s<br>Duration: 0.480s",
          "<b></b><br>Layer: L10<br>Start: 76.960s<br>End: 77.930s<br>Duration: 0.970s",
          "<b></b><br>Layer: L10<br>Start: 77.930s<br>End: 93.540s<br>Duration: 15.610s",
          "<b></b><br>Layer: L10<br>Start: 93.540s<br>End: 94.000s<br>Duration: 0.460s",
          "<b></b><br>Layer: L10<br>Start: 94.000s<br>End: 108.420s<br>Duration: 14.420s",
          "<b></b><br>Layer: L10<br>Start: 108.420s<br>End: 108.890s<br>Duration: 0.470s",
          "<b></b><br>Layer: L10<br>Start: 108.890s<br>End: 115.690s<br>Duration: 6.800s",
          "<b></b><br>Layer: L10<br>Start: 115.690s<br>End: 118.620s<br>Duration: 2.930s",
          "<b></b><br>Layer: L10<br>Start: 118.620s<br>End: 126.380s<br>Duration: 7.760s",
          "<b></b><br>Layer: L10<br>Start: 126.380s<br>End: 175.690s<br>Duration: 49.310s",
          "<b></b><br>Layer: L10<br>Start: 175.690s<br>End: 176.650s<br>Duration: 0.960s",
          "<b></b><br>Layer: L10<br>Start: 176.650s<br>End: 186.760s<br>Duration: 10.110s",
          "<b></b><br>Layer: L10<br>Start: 186.760s<br>End: 187.270s<br>Duration: 0.510s",
          "<b></b><br>Layer: L10<br>Start: 187.270s<br>End: 195.420s<br>Duration: 8.150s",
          "<b></b><br>Layer: L10<br>Start: 195.420s<br>End: 204.540s<br>Duration: 9.120s",
          "<b></b><br>Layer: L10<br>Start: 204.540s<br>End: 222.830s<br>Duration: 18.290s",
          "<b></b><br>Layer: L10<br>Start: 222.830s<br>End: 224.280s<br>Duration: 1.450s",
          "<b></b><br>Layer: L10<br>Start: 224.280s<br>End: 238.860s<br>Duration: 14.580s",
          "<b></b><br>Layer: L10<br>Start: 238.860s<br>End: 239.830s<br>Duration: 0.970s",
          "<b></b><br>Layer: L10<br>Start: 239.830s<br>End: 275.190s<br>Duration: 35.360s",
          "<b></b><br>Layer: L10<br>Start: 275.190s<br>End: 275.660s<br>Duration: 0.470s",
          "<b></b><br>Layer: L10<br>Start: 275.660s<br>End: 276.150s<br>Duration: 0.490s",
          "<b></b><br>Layer: L10<br>Start: 276.150s<br>End: 277.080s<br>Duration: 0.930s",
          "<b></b><br>Layer: L10<br>Start: 277.080s<br>End: 277.550s<br>Duration: 0.470s",
          "<b></b><br>Layer: L10<br>Start: 277.550s<br>End: 287.493s<br>Duration: 9.943s"
         ],
         "hovertemplate": "%{customdata}<extra></extra>",
         "insidetextanchor": "middle",
         "marker": {
          "color": "#1F77B4",
          "line": {
           "color": "white",
           "width": 0.5
          },
          "pattern": {
           "fgcolor": "white",
           "fgopacity": 0.5,
           "shape": "",
           "solidity": 0.25
          }
         },
         "name": "",
         "orientation": "h",
         "showlegend": true,
         "text": [
          "",
          "",
          "",
          "",
          "",
          "",
          "",
          "",
          "",
          "",
          "",
          "",
          "",
          "",
          "",
          "",
          "",
          "",
          "",
          "",
          "",
          "",
          "",
          "",
          "",
          "",
          "",
          "",
          "",
          "",
          "",
          "",
          "",
          "",
          "",
          "",
          "",
          "",
          "",
          "",
          "",
          "",
          "",
          "",
          "",
          "",
          "",
          "",
          "",
          "",
          "",
          "",
          "",
          "",
          "",
          "",
          "",
          "",
          "",
          "",
          "",
          "",
          "",
          "",
          "",
          "",
          "",
          "",
          "",
          "",
          "",
          "",
          "",
          "",
          "",
          "",
          "",
          "",
          "",
          "",
          "",
          "",
          "",
          "",
          "",
          "",
          "",
          "",
          "",
          "",
          "",
          "",
          "",
          "",
          "",
          "",
          "",
          "",
          "",
          "",
          "",
          "",
          "",
          "",
          "",
          "",
          "",
          "",
          "",
          "",
          "",
          "",
          "",
          "",
          "",
          "",
          "",
          "",
          "",
          "",
          "",
          "",
          "",
          "",
          "",
          "",
          "",
          "",
          "",
          "",
          "",
          "",
          "",
          "",
          "",
          "",
          "",
          "",
          "",
          "",
          "",
          "",
          "",
          "",
          "",
          "",
          "",
          "",
          "",
          "",
          "",
          "",
          "",
          "",
          "",
          "",
          "",
          "",
          "",
          "",
          "",
          "",
          "",
          "",
          "",
          "",
          "",
          "",
          "",
          "",
          "",
          "",
          "",
          "",
          "",
          "",
          "",
          "",
          "",
          "",
          "",
          "",
          "",
          "",
          "",
          "",
          "",
          "",
          "",
          "",
          ""
         ],
         "textposition": "inside",
         "type": "bar",
         "width": 1,
         "x": [
          8.79,
          268.28999999999996,
          10.413290000000018,
          8.79,
          36.800000000000004,
          16.989999999999995,
          13.900000000000006,
          17.519999999999996,
          128.83,
          17,
          37.24999999999997,
          0.4700000000000273,
          9.94328999999999,
          8.79,
          36.800000000000004,
          16.989999999999995,
          13.900000000000006,
          17.519999999999996,
          128.83,
          17,
          36.319999999999965,
          0.9300000000000068,
          0.4700000000000273,
          9.94328999999999,
          8.79,
          36.800000000000004,
          16.989999999999995,
          13.900000000000006,
          17.519999999999996,
          128.83,
          17,
          35.83000000000001,
          0.48999999999995225,
          0.9300000000000068,
          0.4700000000000273,
          9.94328999999999,
          8.79,
          36.800000000000004,
          0.4899999999999949,
          15.560000000000002,
          0.9399999999999977,
          13.900000000000006,
          0.47999999999998977,
          16.580000000000013,
          0.45999999999999375,
          14.89,
          113.94000000000001,
          16.03,
          0.9699999999999989,
          35.83000000000001,
          0.48999999999995225,
          0.9300000000000068,
          0.4700000000000273,
          9.94328999999999,
          8.79,
          14.05,
          22.750000000000004,
          0.4899999999999949,
          15.560000000000002,
          0.9399999999999977,
          13.900000000000006,
          0.47999999999998977,
          16.580000000000013,
          0.45999999999999375,
          14.89,
          6.799999999999997,
          10.689999999999998,
          96.45000000000002,
          16.03,
          0.9699999999999989,
          35.83000000000001,
          0.48999999999995225,
          0.9300000000000068,
          0.4700000000000273,
          9.94328999999999,
          8.79,
          14.05,
          22.750000000000004,
          0.4899999999999949,
          15.560000000000002,
          0.9399999999999977,
          13.900000000000006,
          0.47999999999998977,
          16.580000000000013,
          0.45999999999999375,
          14.89,
          6.799999999999997,
          10.689999999999998,
          96.45000000000002,
          16.03,
          0.9699999999999989,
          35.359999999999985,
          0.4700000000000273,
          0.48999999999995225,
          0.9300000000000068,
          0.4700000000000273,
          9.94328999999999,
          8.79,
          14.05,
          22.750000000000004,
          0.4899999999999949,
          0.9699999999999989,
          14.590000000000003,
          0.9399999999999977,
          13.900000000000006,
          0.47999999999998977,
          0.9700000000000131,
          15.61,
          0.45999999999999375,
          14.89,
          6.799999999999997,
          10.689999999999998,
          50.27000000000001,
          10.109999999999985,
          8.659999999999997,
          9.120000000000005,
          18.29000000000002,
          1.4499999999999886,
          14.580000000000013,
          0.9699999999999989,
          35.359999999999985,
          0.4700000000000273,
          0.48999999999995225,
          0.9300000000000068,
          0.4700000000000273,
          9.94328999999999,
          8.79,
          14.05,
          0.46999999999999886,
          22.280000000000005,
          0.4899999999999949,
          0.9699999999999989,
          14.590000000000003,
          0.9399999999999977,
          13.900000000000006,
          0.47999999999998977,
          0.9700000000000131,
          15.61,
          0.45999999999999375,
          14.420000000000002,
          0.46999999999999886,
          6.799999999999997,
          10.689999999999998,
          50.27000000000001,
          10.109999999999985,
          8.659999999999997,
          9.120000000000005,
          18.29000000000002,
          1.4499999999999886,
          14.580000000000013,
          0.9699999999999989,
          35.359999999999985,
          0.4700000000000273,
          0.48999999999995225,
          0.9300000000000068,
          0.4700000000000273,
          9.94328999999999,
          8.79,
          14.05,
          0.46999999999999886,
          22.280000000000005,
          0.4899999999999949,
          0.9699999999999989,
          14.590000000000003,
          0.9399999999999977,
          13.900000000000006,
          0.47999999999998977,
          0.9700000000000131,
          15.61,
          0.45999999999999375,
          14.420000000000002,
          0.46999999999999886,
          6.799999999999997,
          2.930000000000007,
          7.759999999999991,
          49.31,
          0.960000000000008,
          10.109999999999985,
          0.5100000000000193,
          8.149999999999977,
          9.120000000000005,
          18.29000000000002,
          1.4499999999999886,
          14.580000000000013,
          0.9699999999999989,
          35.359999999999985,
          0.4700000000000273,
          0.48999999999995225,
          0.9300000000000068,
          0.4700000000000273,
          9.94328999999999
         ],
         "xaxis": "x4",
         "y": [
          "L01",
          "L01",
          "L01",
          "L02",
          "L02",
          "L02",
          "L02",
          "L02",
          "L02",
          "L02",
          "L02",
          "L02",
          "L02",
          "L03",
          "L03",
          "L03",
          "L03",
          "L03",
          "L03",
          "L03",
          "L03",
          "L03",
          "L03",
          "L03",
          "L04",
          "L04",
          "L04",
          "L04",
          "L04",
          "L04",
          "L04",
          "L04",
          "L04",
          "L04",
          "L04",
          "L04",
          "L05",
          "L05",
          "L05",
          "L05",
          "L05",
          "L05",
          "L05",
          "L05",
          "L05",
          "L05",
          "L05",
          "L05",
          "L05",
          "L05",
          "L05",
          "L05",
          "L05",
          "L05",
          "L06",
          "L06",
          "L06",
          "L06",
          "L06",
          "L06",
          "L06",
          "L06",
          "L06",
          "L06",
          "L06",
          "L06",
          "L06",
          "L06",
          "L06",
          "L06",
          "L06",
          "L06",
          "L06",
          "L06",
          "L06",
          "L07",
          "L07",
          "L07",
          "L07",
          "L07",
          "L07",
          "L07",
          "L07",
          "L07",
          "L07",
          "L07",
          "L07",
          "L07",
          "L07",
          "L07",
          "L07",
          "L07",
          "L07",
          "L07",
          "L07",
          "L07",
          "L07",
          "L08",
          "L08",
          "L08",
          "L08",
          "L08",
          "L08",
          "L08",
          "L08",
          "L08",
          "L08",
          "L08",
          "L08",
          "L08",
          "L08",
          "L08",
          "L08",
          "L08",
          "L08",
          "L08",
          "L08",
          "L08",
          "L08",
          "L08",
          "L08",
          "L08",
          "L08",
          "L08",
          "L08",
          "L08",
          "L09",
          "L09",
          "L09",
          "L09",
          "L09",
          "L09",
          "L09",
          "L09",
          "L09",
          "L09",
          "L09",
          "L09",
          "L09",
          "L09",
          "L09",
          "L09",
          "L09",
          "L09",
          "L09",
          "L09",
          "L09",
          "L09",
          "L09",
          "L09",
          "L09",
          "L09",
          "L09",
          "L09",
          "L09",
          "L09",
          "L09",
          "L10",
          "L10",
          "L10",
          "L10",
          "L10",
          "L10",
          "L10",
          "L10",
          "L10",
          "L10",
          "L10",
          "L10",
          "L10",
          "L10",
          "L10",
          "L10",
          "L10",
          "L10",
          "L10",
          "L10",
          "L10",
          "L10",
          "L10",
          "L10",
          "L10",
          "L10",
          "L10",
          "L10",
          "L10",
          "L10",
          "L10",
          "L10",
          "L10",
          "L10"
         ],
         "yaxis": "y4"
        }
       ],
       "layout": {
        "annotations": [
         {
          "font": {
           "size": 16
          },
          "showarrow": false,
          "text": "Reference",
          "x": 0.5,
          "xanchor": "center",
          "xref": "paper",
          "y": 1,
          "yanchor": "bottom",
          "yref": "paper"
         },
         {
          "font": {
           "size": 16
          },
          "showarrow": false,
          "text": "Estimated Raw",
          "x": 0.5,
          "xanchor": "center",
          "xref": "paper",
          "y": 0.85,
          "yanchor": "bottom",
          "yref": "paper"
         },
         {
          "font": {
           "size": 16
          },
          "showarrow": false,
          "text": "Count",
          "x": 0.5,
          "xanchor": "center",
          "xref": "paper",
          "y": 0.48,
          "yanchor": "bottom",
          "yref": "paper"
         },
         {
          "font": {
           "size": 16
          },
          "showarrow": false,
          "text": "Depth",
          "x": 0.5,
          "xanchor": "center",
          "xref": "paper",
          "y": 0.22,
          "yanchor": "bottom",
          "yref": "paper"
         }
        ],
        "barmode": "overlay",
        "height": 1000,
        "legend": {
         "visible": false
        },
        "template": {
         "data": {
          "bar": [
           {
            "error_x": {
             "color": "#2a3f5f"
            },
            "error_y": {
             "color": "#2a3f5f"
            },
            "marker": {
             "line": {
              "color": "#E5ECF6",
              "width": 0.5
             },
             "pattern": {
              "fillmode": "overlay",
              "size": 10,
              "solidity": 0.2
             }
            },
            "type": "bar"
           }
          ],
          "barpolar": [
           {
            "marker": {
             "line": {
              "color": "#E5ECF6",
              "width": 0.5
             },
             "pattern": {
              "fillmode": "overlay",
              "size": 10,
              "solidity": 0.2
             }
            },
            "type": "barpolar"
           }
          ],
          "carpet": [
           {
            "aaxis": {
             "endlinecolor": "#2a3f5f",
             "gridcolor": "white",
             "linecolor": "white",
             "minorgridcolor": "white",
             "startlinecolor": "#2a3f5f"
            },
            "baxis": {
             "endlinecolor": "#2a3f5f",
             "gridcolor": "white",
             "linecolor": "white",
             "minorgridcolor": "white",
             "startlinecolor": "#2a3f5f"
            },
            "type": "carpet"
           }
          ],
          "choropleth": [
           {
            "colorbar": {
             "outlinewidth": 0,
             "ticks": ""
            },
            "type": "choropleth"
           }
          ],
          "contour": [
           {
            "colorbar": {
             "outlinewidth": 0,
             "ticks": ""
            },
            "colorscale": [
             [
              0,
              "#0d0887"
             ],
             [
              0.1111111111111111,
              "#46039f"
             ],
             [
              0.2222222222222222,
              "#7201a8"
             ],
             [
              0.3333333333333333,
              "#9c179e"
             ],
             [
              0.4444444444444444,
              "#bd3786"
             ],
             [
              0.5555555555555556,
              "#d8576b"
             ],
             [
              0.6666666666666666,
              "#ed7953"
             ],
             [
              0.7777777777777778,
              "#fb9f3a"
             ],
             [
              0.8888888888888888,
              "#fdca26"
             ],
             [
              1,
              "#f0f921"
             ]
            ],
            "type": "contour"
           }
          ],
          "contourcarpet": [
           {
            "colorbar": {
             "outlinewidth": 0,
             "ticks": ""
            },
            "type": "contourcarpet"
           }
          ],
          "heatmap": [
           {
            "colorbar": {
             "outlinewidth": 0,
             "ticks": ""
            },
            "colorscale": [
             [
              0,
              "#0d0887"
             ],
             [
              0.1111111111111111,
              "#46039f"
             ],
             [
              0.2222222222222222,
              "#7201a8"
             ],
             [
              0.3333333333333333,
              "#9c179e"
             ],
             [
              0.4444444444444444,
              "#bd3786"
             ],
             [
              0.5555555555555556,
              "#d8576b"
             ],
             [
              0.6666666666666666,
              "#ed7953"
             ],
             [
              0.7777777777777778,
              "#fb9f3a"
             ],
             [
              0.8888888888888888,
              "#fdca26"
             ],
             [
              1,
              "#f0f921"
             ]
            ],
            "type": "heatmap"
           }
          ],
          "histogram": [
           {
            "marker": {
             "pattern": {
              "fillmode": "overlay",
              "size": 10,
              "solidity": 0.2
             }
            },
            "type": "histogram"
           }
          ],
          "histogram2d": [
           {
            "colorbar": {
             "outlinewidth": 0,
             "ticks": ""
            },
            "colorscale": [
             [
              0,
              "#0d0887"
             ],
             [
              0.1111111111111111,
              "#46039f"
             ],
             [
              0.2222222222222222,
              "#7201a8"
             ],
             [
              0.3333333333333333,
              "#9c179e"
             ],
             [
              0.4444444444444444,
              "#bd3786"
             ],
             [
              0.5555555555555556,
              "#d8576b"
             ],
             [
              0.6666666666666666,
              "#ed7953"
             ],
             [
              0.7777777777777778,
              "#fb9f3a"
             ],
             [
              0.8888888888888888,
              "#fdca26"
             ],
             [
              1,
              "#f0f921"
             ]
            ],
            "type": "histogram2d"
           }
          ],
          "histogram2dcontour": [
           {
            "colorbar": {
             "outlinewidth": 0,
             "ticks": ""
            },
            "colorscale": [
             [
              0,
              "#0d0887"
             ],
             [
              0.1111111111111111,
              "#46039f"
             ],
             [
              0.2222222222222222,
              "#7201a8"
             ],
             [
              0.3333333333333333,
              "#9c179e"
             ],
             [
              0.4444444444444444,
              "#bd3786"
             ],
             [
              0.5555555555555556,
              "#d8576b"
             ],
             [
              0.6666666666666666,
              "#ed7953"
             ],
             [
              0.7777777777777778,
              "#fb9f3a"
             ],
             [
              0.8888888888888888,
              "#fdca26"
             ],
             [
              1,
              "#f0f921"
             ]
            ],
            "type": "histogram2dcontour"
           }
          ],
          "mesh3d": [
           {
            "colorbar": {
             "outlinewidth": 0,
             "ticks": ""
            },
            "type": "mesh3d"
           }
          ],
          "parcoords": [
           {
            "line": {
             "colorbar": {
              "outlinewidth": 0,
              "ticks": ""
             }
            },
            "type": "parcoords"
           }
          ],
          "pie": [
           {
            "automargin": true,
            "type": "pie"
           }
          ],
          "scatter": [
           {
            "fillpattern": {
             "fillmode": "overlay",
             "size": 10,
             "solidity": 0.2
            },
            "type": "scatter"
           }
          ],
          "scatter3d": [
           {
            "line": {
             "colorbar": {
              "outlinewidth": 0,
              "ticks": ""
             }
            },
            "marker": {
             "colorbar": {
              "outlinewidth": 0,
              "ticks": ""
             }
            },
            "type": "scatter3d"
           }
          ],
          "scattercarpet": [
           {
            "marker": {
             "colorbar": {
              "outlinewidth": 0,
              "ticks": ""
             }
            },
            "type": "scattercarpet"
           }
          ],
          "scattergeo": [
           {
            "marker": {
             "colorbar": {
              "outlinewidth": 0,
              "ticks": ""
             }
            },
            "type": "scattergeo"
           }
          ],
          "scattergl": [
           {
            "marker": {
             "colorbar": {
              "outlinewidth": 0,
              "ticks": ""
             }
            },
            "type": "scattergl"
           }
          ],
          "scattermap": [
           {
            "marker": {
             "colorbar": {
              "outlinewidth": 0,
              "ticks": ""
             }
            },
            "type": "scattermap"
           }
          ],
          "scattermapbox": [
           {
            "marker": {
             "colorbar": {
              "outlinewidth": 0,
              "ticks": ""
             }
            },
            "type": "scattermapbox"
           }
          ],
          "scatterpolar": [
           {
            "marker": {
             "colorbar": {
              "outlinewidth": 0,
              "ticks": ""
             }
            },
            "type": "scatterpolar"
           }
          ],
          "scatterpolargl": [
           {
            "marker": {
             "colorbar": {
              "outlinewidth": 0,
              "ticks": ""
             }
            },
            "type": "scatterpolargl"
           }
          ],
          "scatterternary": [
           {
            "marker": {
             "colorbar": {
              "outlinewidth": 0,
              "ticks": ""
             }
            },
            "type": "scatterternary"
           }
          ],
          "surface": [
           {
            "colorbar": {
             "outlinewidth": 0,
             "ticks": ""
            },
            "colorscale": [
             [
              0,
              "#0d0887"
             ],
             [
              0.1111111111111111,
              "#46039f"
             ],
             [
              0.2222222222222222,
              "#7201a8"
             ],
             [
              0.3333333333333333,
              "#9c179e"
             ],
             [
              0.4444444444444444,
              "#bd3786"
             ],
             [
              0.5555555555555556,
              "#d8576b"
             ],
             [
              0.6666666666666666,
              "#ed7953"
             ],
             [
              0.7777777777777778,
              "#fb9f3a"
             ],
             [
              0.8888888888888888,
              "#fdca26"
             ],
             [
              1,
              "#f0f921"
             ]
            ],
            "type": "surface"
           }
          ],
          "table": [
           {
            "cells": {
             "fill": {
              "color": "#EBF0F8"
             },
             "line": {
              "color": "white"
             }
            },
            "header": {
             "fill": {
              "color": "#C8D4E3"
             },
             "line": {
              "color": "white"
             }
            },
            "type": "table"
           }
          ]
         },
         "layout": {
          "annotationdefaults": {
           "arrowcolor": "#2a3f5f",
           "arrowhead": 0,
           "arrowwidth": 1
          },
          "autotypenumbers": "strict",
          "coloraxis": {
           "colorbar": {
            "outlinewidth": 0,
            "ticks": ""
           }
          },
          "colorscale": {
           "diverging": [
            [
             0,
             "#8e0152"
            ],
            [
             0.1,
             "#c51b7d"
            ],
            [
             0.2,
             "#de77ae"
            ],
            [
             0.3,
             "#f1b6da"
            ],
            [
             0.4,
             "#fde0ef"
            ],
            [
             0.5,
             "#f7f7f7"
            ],
            [
             0.6,
             "#e6f5d0"
            ],
            [
             0.7,
             "#b8e186"
            ],
            [
             0.8,
             "#7fbc41"
            ],
            [
             0.9,
             "#4d9221"
            ],
            [
             1,
             "#276419"
            ]
           ],
           "sequential": [
            [
             0,
             "#0d0887"
            ],
            [
             0.1111111111111111,
             "#46039f"
            ],
            [
             0.2222222222222222,
             "#7201a8"
            ],
            [
             0.3333333333333333,
             "#9c179e"
            ],
            [
             0.4444444444444444,
             "#bd3786"
            ],
            [
             0.5555555555555556,
             "#d8576b"
            ],
            [
             0.6666666666666666,
             "#ed7953"
            ],
            [
             0.7777777777777778,
             "#fb9f3a"
            ],
            [
             0.8888888888888888,
             "#fdca26"
            ],
            [
             1,
             "#f0f921"
            ]
           ],
           "sequentialminus": [
            [
             0,
             "#0d0887"
            ],
            [
             0.1111111111111111,
             "#46039f"
            ],
            [
             0.2222222222222222,
             "#7201a8"
            ],
            [
             0.3333333333333333,
             "#9c179e"
            ],
            [
             0.4444444444444444,
             "#bd3786"
            ],
            [
             0.5555555555555556,
             "#d8576b"
            ],
            [
             0.6666666666666666,
             "#ed7953"
            ],
            [
             0.7777777777777778,
             "#fb9f3a"
            ],
            [
             0.8888888888888888,
             "#fdca26"
            ],
            [
             1,
             "#f0f921"
            ]
           ]
          },
          "colorway": [
           "#636efa",
           "#EF553B",
           "#00cc96",
           "#ab63fa",
           "#FFA15A",
           "#19d3f3",
           "#FF6692",
           "#B6E880",
           "#FF97FF",
           "#FECB52"
          ],
          "font": {
           "color": "#2a3f5f"
          },
          "geo": {
           "bgcolor": "white",
           "lakecolor": "white",
           "landcolor": "#E5ECF6",
           "showlakes": true,
           "showland": true,
           "subunitcolor": "white"
          },
          "hoverlabel": {
           "align": "left"
          },
          "hovermode": "closest",
          "mapbox": {
           "style": "light"
          },
          "paper_bgcolor": "white",
          "plot_bgcolor": "#E5ECF6",
          "polar": {
           "angularaxis": {
            "gridcolor": "white",
            "linecolor": "white",
            "ticks": ""
           },
           "bgcolor": "#E5ECF6",
           "radialaxis": {
            "gridcolor": "white",
            "linecolor": "white",
            "ticks": ""
           }
          },
          "scene": {
           "xaxis": {
            "backgroundcolor": "#E5ECF6",
            "gridcolor": "white",
            "gridwidth": 2,
            "linecolor": "white",
            "showbackground": true,
            "ticks": "",
            "zerolinecolor": "white"
           },
           "yaxis": {
            "backgroundcolor": "#E5ECF6",
            "gridcolor": "white",
            "gridwidth": 2,
            "linecolor": "white",
            "showbackground": true,
            "ticks": "",
            "zerolinecolor": "white"
           },
           "zaxis": {
            "backgroundcolor": "#E5ECF6",
            "gridcolor": "white",
            "gridwidth": 2,
            "linecolor": "white",
            "showbackground": true,
            "ticks": "",
            "zerolinecolor": "white"
           }
          },
          "shapedefaults": {
           "line": {
            "color": "#2a3f5f"
           }
          },
          "ternary": {
           "aaxis": {
            "gridcolor": "white",
            "linecolor": "white",
            "ticks": ""
           },
           "baxis": {
            "gridcolor": "white",
            "linecolor": "white",
            "ticks": ""
           },
           "bgcolor": "#E5ECF6",
           "caxis": {
            "gridcolor": "white",
            "linecolor": "white",
            "ticks": ""
           }
          },
          "title": {
           "x": 0.05
          },
          "xaxis": {
           "automargin": true,
           "gridcolor": "white",
           "linecolor": "white",
           "ticks": "",
           "title": {
            "standoff": 15
           },
           "zerolinecolor": "white",
           "zerolinewidth": 2
          },
          "yaxis": {
           "automargin": true,
           "gridcolor": "white",
           "linecolor": "white",
           "ticks": "",
           "title": {
            "standoff": 15
           },
           "zerolinecolor": "white",
           "zerolinewidth": 2
          }
         }
        },
        "width": 800,
        "xaxis": {
         "anchor": "y",
         "autorangeoptions": {
          "maxallowed": 287.49329,
          "minallowed": 0
         },
         "domain": [
          0,
          1
         ],
         "matches": "x4",
         "showticklabels": false
        },
        "xaxis2": {
         "anchor": "y2",
         "autorangeoptions": {
          "maxallowed": 287.49329,
          "minallowed": 0
         },
         "domain": [
          0,
          1
         ],
         "matches": "x4",
         "showticklabels": false
        },
        "xaxis3": {
         "anchor": "y3",
         "autorangeoptions": {
          "maxallowed": 287.49329,
          "minallowed": 0
         },
         "domain": [
          0,
          1
         ],
         "matches": "x4",
         "showticklabels": false
        },
        "xaxis4": {
         "anchor": "y4",
         "autorangeoptions": {
          "maxallowed": 287.49329,
          "minallowed": 0
         },
         "domain": [
          0,
          1
         ]
        },
        "yaxis": {
         "anchor": "x",
         "domain": [
          0.89,
          1
         ]
        },
        "yaxis2": {
         "anchor": "x2",
         "domain": [
          0.52,
          0.85
         ]
        },
        "yaxis3": {
         "anchor": "x3",
         "domain": [
          0.26,
          0.48
         ]
        },
        "yaxis4": {
         "anchor": "x4",
         "domain": [
          0,
          0.22
         ]
        }
       }
      }
     },
     "metadata": {},
     "output_type": "display_data"
    }
   ],
   "source": [
    "fig = make_subplots(\n",
    "    rows=4, cols=1, shared_xaxes=True, vertical_spacing=0.04,\n",
    "    subplot_titles=[\"Reference\", \"Estimated Raw\", \"Count\", \"Depth\"],\n",
    "    row_heights=[0.1, 0.3, 0.2, 0.2],\n",
    ")\n",
    "[fig.add_trace(labeld_timespans, row=1, col=1) for labeld_timespans in ref.plot().data]\n",
    "[fig.add_trace(labeld_timespans, row=2, col=1) for labeld_timespans in aligned_est.plot().data]\n",
    "[fig.add_trace(labeld_timespans, row=3, col=1) for labeld_timespans in mono_est_count.plot().data]\n",
    "[fig.add_trace(labeld_timespans, row=4, col=1) for labeld_timespans in mono_est_depth.plot().data]\n",
    "fig.update_layout(barmode=\"overlay\", legend_visible=False, height=1000, width=800)\n",
    "fig.update_xaxes(autorangeoptions=dict(minallowed=ref.start.time, maxallowed=ref.end.time))\n",
    "fig.show()"
   ]
  },
  {
   "cell_type": "code",
   "execution_count": null,
   "metadata": {},
   "outputs": [],
   "source": [
    "mono_est_depth.plot()"
   ]
  },
  {
   "cell_type": "code",
   "execution_count": null,
   "metadata": {},
   "outputs": [],
   "source": [
    "aligned_est.plot()"
   ]
  },
  {
   "cell_type": "code",
   "execution_count": null,
   "metadata": {},
   "outputs": [],
   "source": [
    "import mir_eval\n",
    "import numpy as np\n",
    "from warnings import filterwarnings\n",
    "filterwarnings(\"ignore\")\n",
    "\n",
    "mono_est_depth = aligned_est.to_contour('depth').to_multisegment()\n",
    "\n",
    "a = mir_eval.hierarchy.tmeasure(ref.itvls, aligned_est.itvls[2:6], transitive=True)\n",
    "b = mir_eval.hierarchy.tmeasure(ref.itvls, mono_est_depth.itvls[2:6], transitive=True)\n",
    "c = mir_eval.hierarchy.tmeasure(ref.itvls, aligned_est.itvls[2:6], transitive=False)\n",
    "d = mir_eval.hierarchy.tmeasure(ref.itvls, mono_est_depth.itvls[2:6], transitive=False)\n",
    "\n",
    "\n",
    "print(np.array([a, b, c, d]))"
   ]
  },
  {
   "cell_type": "code",
   "execution_count": null,
   "metadata": {},
   "outputs": [],
   "source": [
    "from mir_eval.hierarchy import tmeasure\n",
    "\n",
    "annos = [\n",
    "    ref.scrub_labels(), \n",
    "    MS(aligned_est[2:6], 'Raw').scrub_labels(), \n",
    "    MS(mono_est_depth[2:6], 'Mono')\n",
    "]\n",
    "\n",
    "fig = make_subplots(\n",
    "    rows=3, cols=1, shared_xaxes=True,\n",
    "    subplot_titles=[\"Reference\", \"Raw\", \"Mono\"]\n",
    ")\n",
    "fig.update_layout(\n",
    "    barmode=\"overlay\", legend_visible=False, height=650, width=650, \n",
    "    margin=dict(l=10, r=10, t=50, b=10)\n",
    ")\n",
    "fig.update_xaxes(\n",
    "    autorangeoptions=dict(minallowed=ref.start.time, maxallowed=ref.end.time)\n",
    ")\n",
    "\n",
    "for row, anno in enumerate(annos, start=1):\n",
    "    if row != 1:\n",
    "        print(f\"{anno}: reduced (tran=False)\\n  {tmeasure(ref.itvls, anno.itvls)}\")\n",
    "        print(f\"{anno}: full (tran=True)\\n  {tmeasure(ref.itvls, anno.itvls, transitive=True)}\")\n",
    "    for bar_trace in anno.plot().data:\n",
    "        fig.add_trace(bar_trace, row=row, col=1)\n",
    "\n",
    "fig.show()"
   ]
  },
  {
   "cell_type": "code",
   "execution_count": null,
   "metadata": {},
   "outputs": [],
   "source": [
    "[attr for attr in dir(MS) if not attr.startswith(\"__\")]"
   ]
  },
  {
   "cell_type": "code",
   "execution_count": null,
   "metadata": {},
   "outputs": [],
   "source": [
    "from bnl import Segment as S\n",
    "layer_itvls = annos[1].itvls[0]\n",
    "layer = S.from_itvls(layer_itvls, labels=[\"\"] * len(layer_itvls))\n",
    "layer.plot()\n"
   ]
  },
  {
   "cell_type": "code",
   "execution_count": null,
   "metadata": {},
   "outputs": [],
   "source": [
    "from bnl import MultiSegment as MS\n",
    "MS(aligned_est[2:]).plot()"
   ]
  },
  {
   "cell_type": "code",
   "execution_count": null,
   "metadata": {},
   "outputs": [],
   "source": [
    "# Study the effect of monotonic casting and T-measure"
   ]
  }
 ],
 "metadata": {
  "kernelspec": {
   "display_name": "py311",
   "language": "python",
   "name": "python3"
  },
  "language_info": {
   "codemirror_mode": {
    "name": "ipython",
    "version": 3
   },
   "file_extension": ".py",
   "mimetype": "text/x-python",
   "name": "python",
   "nbconvert_exporter": "python",
   "pygments_lexer": "ipython3",
   "version": "3.11.13"
  }
 },
 "nbformat": 4,
 "nbformat_minor": 4
}
