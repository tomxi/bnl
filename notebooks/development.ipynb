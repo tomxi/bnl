{
 "cells": [
  {
   "cell_type": "markdown",
   "metadata": {},
   "source": [
    "# BNL Development Notebook\n",
    "\n",
    "This notebook is for developing and testing the BNL package.\n"
   ]
  },
  {
   "cell_type": "code",
   "execution_count": 1,
   "metadata": {},
   "outputs": [],
   "source": [
    "%load_ext autoreload\n",
    "%autoreload 2\n",
    "\n",
    "import bnl\n",
    "\n",
    "# R2_BUCKET_PUBLIC_URL = \"https://pub-05e404c031184ec4bbf69b0c2321b98e.r2.dev\"\n",
    "\n",
    "# slm_ds = bnl.data.Dataset(manifest_path=f\"{R2_BUCKET_PUBLIC_URL}/manifest_cloud_boolean.csv\")\n",
    "slm_ds = bnl.data.Dataset(manifest_path=\"~/data/salami/metadata.csv\")\n",
    "track = slm_ds[8]\n",
    "est = track.load_annotation(\"adobe-mu1gamma1\")\n",
    "ref = track.load_annotation(\"reference\")"
   ]
  },
  {
   "cell_type": "code",
   "execution_count": 34,
   "metadata": {},
   "outputs": [
    {
     "data": {
      "application/vnd.plotly.v1+json": {
       "config": {
        "plotlyServerURL": "https://plot.ly"
       },
       "data": [
        {
         "base": [
          0,
          59.83,
          176.84,
          60.84,
          180.85,
          60.84,
          183.89,
          60.33,
          101.17,
          143.54,
          60.33,
          102.68,
          60.33,
          102.68,
          59.83,
          102.18,
          59.83,
          101.69,
          59.83,
          102.68,
          59.83,
          102.68,
          59.83,
          102.68
         ],
         "customdata": [
          "<b>0</b><br>Layer: L01<br>Start: 0.000s<br>End: 227.733s<br>Duration: 227.733s",
          "<b>0</b><br>Layer: L02<br>Start: 59.830s<br>End: 161.190s<br>Duration: 101.360s",
          "<b>0</b><br>Layer: L02<br>Start: 176.840s<br>End: 209.630s<br>Duration: 32.790s",
          "<b>0</b><br>Layer: L03<br>Start: 60.840s<br>End: 159.700s<br>Duration: 98.860s",
          "<b>0</b><br>Layer: L03<br>Start: 180.850s<br>End: 209.630s<br>Duration: 28.780s",
          "<b>0</b><br>Layer: L04<br>Start: 60.840s<br>End: 159.700s<br>Duration: 98.860s",
          "<b>0</b><br>Layer: L04<br>Start: 183.890s<br>End: 209.630s<br>Duration: 25.740s",
          "<b>0</b><br>Layer: L05<br>Start: 60.330s<br>End: 89.580s<br>Duration: 29.250s",
          "<b>0</b><br>Layer: L05<br>Start: 101.170s<br>End: 129.420s<br>Duration: 28.250s",
          "<b>0</b><br>Layer: L05<br>Start: 143.540s<br>End: 159.700s<br>Duration: 16.160s",
          "<b>0</b><br>Layer: L06<br>Start: 60.330s<br>End: 88.060s<br>Duration: 27.730s",
          "<b>0</b><br>Layer: L06<br>Start: 102.680s<br>End: 135.980s<br>Duration: 33.300s",
          "<b>0</b><br>Layer: L07<br>Start: 60.330s<br>End: 88.060s<br>Duration: 27.730s",
          "<b>0</b><br>Layer: L07<br>Start: 102.680s<br>End: 135.980s<br>Duration: 33.300s",
          "<b>0</b><br>Layer: L08<br>Start: 59.830s<br>End: 86.550s<br>Duration: 26.720s",
          "<b>0</b><br>Layer: L08<br>Start: 102.180s<br>End: 126.390s<br>Duration: 24.210s",
          "<b>0</b><br>Layer: L09<br>Start: 59.830s<br>End: 77.970s<br>Duration: 18.140s",
          "<b>0</b><br>Layer: L09<br>Start: 101.690s<br>End: 127.920s<br>Duration: 26.230s",
          "<b>0</b><br>Layer: L10<br>Start: 59.830s<br>End: 78.470s<br>Duration: 18.640s",
          "<b>0</b><br>Layer: L10<br>Start: 102.680s<br>End: 118.820s<br>Duration: 16.140s",
          "<b>0</b><br>Layer: L11<br>Start: 59.830s<br>End: 86.550s<br>Duration: 26.720s",
          "<b>0</b><br>Layer: L11<br>Start: 102.680s<br>End: 118.320s<br>Duration: 15.640s",
          "<b>0</b><br>Layer: L12<br>Start: 59.830s<br>End: 78.980s<br>Duration: 19.150s",
          "<b>0</b><br>Layer: L12<br>Start: 102.680s<br>End: 118.820s<br>Duration: 16.140s"
         ],
         "hovertemplate": "%{customdata}<extra></extra>",
         "insidetextanchor": "middle",
         "marker": {
          "color": "#1F77B4",
          "line": {
           "color": "white",
           "width": 0.5
          },
          "pattern": {
           "fgcolor": "white",
           "fgopacity": 0.5,
           "shape": "",
           "solidity": 0.25
          }
         },
         "name": "0",
         "orientation": "h",
         "showlegend": true,
         "text": [
          "0",
          "0",
          "0",
          "0",
          "0",
          "0",
          "0",
          "0",
          "0",
          "0",
          "0",
          "0",
          "0",
          "0",
          "0",
          "0",
          "0",
          "0",
          "0",
          "0",
          "0",
          "0",
          "0",
          "0"
         ],
         "textposition": "inside",
         "type": "bar",
         "width": 1,
         "x": [
          227.73302,
          101.36,
          32.78999999999999,
          98.85999999999999,
          28.78,
          98.85999999999999,
          25.74000000000001,
          29.25,
          28.249999999999986,
          16.159999999999997,
          27.730000000000004,
          33.29999999999998,
          27.730000000000004,
          33.29999999999998,
          26.72,
          24.209999999999994,
          18.14,
          26.230000000000004,
          18.64,
          16.139999999999986,
          26.72,
          15.639999999999986,
          19.150000000000006,
          16.139999999999986
         ],
         "y": [
          "L01",
          "L02",
          "L02",
          "L03",
          "L03",
          "L04",
          "L04",
          "L05",
          "L05",
          "L05",
          "L06",
          "L06",
          "L07",
          "L07",
          "L08",
          "L08",
          "L09",
          "L09",
          "L10",
          "L10",
          "L11",
          "L11",
          "L12",
          "L12"
         ]
        },
        {
         "base": [
          0,
          161.19,
          209.63,
          0,
          209.63,
          0,
          209.63,
          0,
          211.8,
          0,
          211.26,
          0,
          0,
          0,
          0,
          0,
          0
         ],
         "customdata": [
          "<b>1</b><br>Layer: L02<br>Start: 0.000s<br>End: 59.830s<br>Duration: 59.830s",
          "<b>1</b><br>Layer: L02<br>Start: 161.190s<br>End: 176.840s<br>Duration: 15.650s",
          "<b>1</b><br>Layer: L02<br>Start: 209.630s<br>End: 227.733s<br>Duration: 18.103s",
          "<b>1</b><br>Layer: L03<br>Start: 0.000s<br>End: 34.110s<br>Duration: 34.110s",
          "<b>1</b><br>Layer: L03<br>Start: 209.630s<br>End: 227.733s<br>Duration: 18.103s",
          "<b>1</b><br>Layer: L04<br>Start: 0.000s<br>End: 34.110s<br>Duration: 34.110s",
          "<b>1</b><br>Layer: L04<br>Start: 209.630s<br>End: 227.733s<br>Duration: 18.103s",
          "<b>1</b><br>Layer: L05<br>Start: 0.000s<br>End: 34.110s<br>Duration: 34.110s",
          "<b>1</b><br>Layer: L05<br>Start: 211.800s<br>End: 227.733s<br>Duration: 15.933s",
          "<b>1</b><br>Layer: L06<br>Start: 0.000s<br>End: 34.110s<br>Duration: 34.110s",
          "<b>1</b><br>Layer: L06<br>Start: 211.260s<br>End: 227.733s<br>Duration: 16.473s",
          "<b>1</b><br>Layer: L07<br>Start: 0.000s<br>End: 34.110s<br>Duration: 34.110s",
          "<b>1</b><br>Layer: L08<br>Start: 0.000s<br>End: 34.110s<br>Duration: 34.110s",
          "<b>1</b><br>Layer: L09<br>Start: 0.000s<br>End: 34.110s<br>Duration: 34.110s",
          "<b>1</b><br>Layer: L10<br>Start: 0.000s<br>End: 34.110s<br>Duration: 34.110s",
          "<b>1</b><br>Layer: L11<br>Start: 0.000s<br>End: 34.110s<br>Duration: 34.110s",
          "<b>1</b><br>Layer: L12<br>Start: 0.000s<br>End: 34.110s<br>Duration: 34.110s"
         ],
         "hovertemplate": "%{customdata}<extra></extra>",
         "insidetextanchor": "middle",
         "marker": {
          "color": "#FF7F0E",
          "line": {
           "color": "white",
           "width": 0.5
          },
          "pattern": {
           "fgcolor": "white",
           "fgopacity": 0.5,
           "shape": "",
           "solidity": 0.25
          }
         },
         "name": "1",
         "orientation": "h",
         "showlegend": true,
         "text": [
          "1",
          "1",
          "1",
          "1",
          "1",
          "1",
          "1",
          "1",
          "1",
          "1",
          "1",
          "1",
          "1",
          "1",
          "1",
          "1",
          "1"
         ],
         "textposition": "inside",
         "type": "bar",
         "width": 1,
         "x": [
          59.83,
          15.650000000000006,
          18.103020000000015,
          34.11,
          18.103020000000015,
          34.11,
          18.103020000000015,
          34.11,
          15.933019999999999,
          34.11,
          16.47302000000002,
          34.11,
          34.11,
          34.11,
          34.11,
          34.11,
          34.11
         ],
         "y": [
          "L02",
          "L02",
          "L02",
          "L03",
          "L03",
          "L04",
          "L04",
          "L05",
          "L05",
          "L06",
          "L06",
          "L07",
          "L08",
          "L09",
          "L10",
          "L11",
          "L12"
         ]
        },
        {
         "base": [
          34.11,
          159.7,
          34.11,
          159.7,
          34.11,
          159.7,
          34.11,
          161.19,
          34.11,
          161.19,
          34.11,
          161.68,
          34.11,
          161.68,
          34.11,
          162.19,
          34.11,
          162.71,
          34.11,
          162.71
         ],
         "customdata": [
          "<b>2</b><br>Layer: L03<br>Start: 34.110s<br>End: 60.840s<br>Duration: 26.730s",
          "<b>2</b><br>Layer: L03<br>Start: 159.700s<br>End: 180.850s<br>Duration: 21.150s",
          "<b>2</b><br>Layer: L04<br>Start: 34.110s<br>End: 60.840s<br>Duration: 26.730s",
          "<b>2</b><br>Layer: L04<br>Start: 159.700s<br>End: 175.320s<br>Duration: 15.620s",
          "<b>2</b><br>Layer: L05<br>Start: 34.110s<br>End: 60.330s<br>Duration: 26.220s",
          "<b>2</b><br>Layer: L05<br>Start: 159.700s<br>End: 175.320s<br>Duration: 15.620s",
          "<b>2</b><br>Layer: L06<br>Start: 34.110s<br>End: 60.330s<br>Duration: 26.220s",
          "<b>2</b><br>Layer: L06<br>Start: 161.190s<br>End: 175.320s<br>Duration: 14.130s",
          "<b>2</b><br>Layer: L07<br>Start: 34.110s<br>End: 60.330s<br>Duration: 26.220s",
          "<b>2</b><br>Layer: L07<br>Start: 161.190s<br>End: 175.320s<br>Duration: 14.130s",
          "<b>2</b><br>Layer: L08<br>Start: 34.110s<br>End: 59.830s<br>Duration: 25.720s",
          "<b>2</b><br>Layer: L08<br>Start: 161.680s<br>End: 175.320s<br>Duration: 13.640s",
          "<b>2</b><br>Layer: L09<br>Start: 34.110s<br>End: 59.830s<br>Duration: 25.720s",
          "<b>2</b><br>Layer: L09<br>Start: 161.680s<br>End: 182.880s<br>Duration: 21.200s",
          "<b>2</b><br>Layer: L10<br>Start: 34.110s<br>End: 59.830s<br>Duration: 25.720s",
          "<b>2</b><br>Layer: L10<br>Start: 162.190s<br>End: 175.320s<br>Duration: 13.130s",
          "<b>2</b><br>Layer: L11<br>Start: 34.110s<br>End: 59.830s<br>Duration: 25.720s",
          "<b>2</b><br>Layer: L11<br>Start: 162.710s<br>End: 175.320s<br>Duration: 12.610s",
          "<b>2</b><br>Layer: L12<br>Start: 34.110s<br>End: 59.830s<br>Duration: 25.720s",
          "<b>2</b><br>Layer: L12<br>Start: 162.710s<br>End: 175.320s<br>Duration: 12.610s"
         ],
         "hovertemplate": "%{customdata}<extra></extra>",
         "insidetextanchor": "middle",
         "marker": {
          "color": "#2CA02C",
          "line": {
           "color": "white",
           "width": 0.5
          },
          "pattern": {
           "fgcolor": "white",
           "fgopacity": 0.5,
           "shape": "",
           "solidity": 0.25
          }
         },
         "name": "2",
         "orientation": "h",
         "showlegend": true,
         "text": [
          "2",
          "2",
          "2",
          "2",
          "2",
          "2",
          "2",
          "2",
          "2",
          "2",
          "2",
          "2",
          "2",
          "2",
          "2",
          "2",
          "2",
          "2",
          "2",
          "2"
         ],
         "textposition": "inside",
         "type": "bar",
         "width": 1,
         "x": [
          26.730000000000004,
          21.150000000000006,
          26.730000000000004,
          15.620000000000005,
          26.22,
          15.620000000000005,
          26.22,
          14.129999999999995,
          26.22,
          14.129999999999995,
          25.72,
          13.639999999999986,
          25.72,
          21.19999999999999,
          25.72,
          13.129999999999995,
          25.72,
          12.609999999999985,
          25.72,
          12.609999999999985
         ],
         "y": [
          "L03",
          "L03",
          "L04",
          "L04",
          "L05",
          "L05",
          "L06",
          "L06",
          "L07",
          "L07",
          "L08",
          "L08",
          "L09",
          "L09",
          "L10",
          "L10",
          "L11",
          "L11",
          "L12",
          "L12"
         ]
        },
        {
         "base": [
          175.32,
          175.32,
          175.32,
          175.32,
          175.32,
          175.32,
          175.32
         ],
         "customdata": [
          "<b>3</b><br>Layer: L04<br>Start: 175.320s<br>End: 183.890s<br>Duration: 8.570s",
          "<b>3</b><br>Layer: L05<br>Start: 175.320s<br>End: 185.910s<br>Duration: 10.590s",
          "<b>3</b><br>Layer: L06<br>Start: 175.320s<br>End: 184.900s<br>Duration: 9.580s",
          "<b>3</b><br>Layer: L07<br>Start: 175.320s<br>End: 184.900s<br>Duration: 9.580s",
          "<b>3</b><br>Layer: L08<br>Start: 175.320s<br>End: 183.370s<br>Duration: 8.050s",
          "<b>3</b><br>Layer: L10<br>Start: 175.320s<br>End: 183.370s<br>Duration: 8.050s",
          "<b>3</b><br>Layer: L11<br>Start: 175.320s<br>End: 184.900s<br>Duration: 9.580s"
         ],
         "hovertemplate": "%{customdata}<extra></extra>",
         "insidetextanchor": "middle",
         "marker": {
          "color": "#D62728",
          "line": {
           "color": "white",
           "width": 0.5
          },
          "pattern": {
           "fgcolor": "white",
           "fgopacity": 0.5,
           "shape": "",
           "solidity": 0.25
          }
         },
         "name": "3",
         "orientation": "h",
         "showlegend": true,
         "text": [
          "3",
          "3",
          "3",
          "3",
          "3",
          "3",
          "3"
         ],
         "textposition": "inside",
         "type": "bar",
         "width": 1,
         "x": [
          8.569999999999993,
          10.590000000000003,
          9.580000000000013,
          9.580000000000013,
          8.050000000000011,
          8.050000000000011,
          9.580000000000013
         ],
         "y": [
          "L04",
          "L05",
          "L06",
          "L07",
          "L08",
          "L10",
          "L11"
         ]
        },
        {
         "base": [
          89.58,
          129.42,
          185.91,
          88.06,
          184.9,
          88.06,
          184.9,
          86.55,
          126.39,
          183.37,
          87.56,
          127.92,
          182.88,
          87.05,
          183.37,
          86.55,
          184.9,
          87.05,
          183.37
         ],
         "customdata": [
          "<b>4</b><br>Layer: L05<br>Start: 89.580s<br>End: 101.170s<br>Duration: 11.590s",
          "<b>4</b><br>Layer: L05<br>Start: 129.420s<br>End: 143.540s<br>Duration: 14.120s",
          "<b>4</b><br>Layer: L05<br>Start: 185.910s<br>End: 211.800s<br>Duration: 25.890s",
          "<b>4</b><br>Layer: L06<br>Start: 88.060s<br>End: 102.680s<br>Duration: 14.620s",
          "<b>4</b><br>Layer: L06<br>Start: 184.900s<br>End: 211.260s<br>Duration: 26.360s",
          "<b>4</b><br>Layer: L07<br>Start: 88.060s<br>End: 102.680s<br>Duration: 14.620s",
          "<b>4</b><br>Layer: L07<br>Start: 184.900s<br>End: 207.590s<br>Duration: 22.690s",
          "<b>4</b><br>Layer: L08<br>Start: 86.550s<br>End: 102.180s<br>Duration: 15.630s",
          "<b>4</b><br>Layer: L08<br>Start: 126.390s<br>End: 137.990s<br>Duration: 11.600s",
          "<b>4</b><br>Layer: L08<br>Start: 183.370s<br>End: 208.600s<br>Duration: 25.230s",
          "<b>4</b><br>Layer: L09<br>Start: 87.560s<br>End: 101.690s<br>Duration: 14.130s",
          "<b>4</b><br>Layer: L09<br>Start: 127.920s<br>End: 137.990s<br>Duration: 10.070s",
          "<b>4</b><br>Layer: L09<br>Start: 182.880s<br>End: 208.600s<br>Duration: 25.720s",
          "<b>4</b><br>Layer: L10<br>Start: 87.050s<br>End: 102.680s<br>Duration: 15.630s",
          "<b>4</b><br>Layer: L10<br>Start: 183.370s<br>End: 208.600s<br>Duration: 25.230s",
          "<b>4</b><br>Layer: L11<br>Start: 86.550s<br>End: 102.680s<br>Duration: 16.130s",
          "<b>4</b><br>Layer: L11<br>Start: 184.900s<br>End: 208.600s<br>Duration: 23.700s",
          "<b>4</b><br>Layer: L12<br>Start: 87.050s<br>End: 102.680s<br>Duration: 15.630s",
          "<b>4</b><br>Layer: L12<br>Start: 183.370s<br>End: 206.580s<br>Duration: 23.210s"
         ],
         "hovertemplate": "%{customdata}<extra></extra>",
         "insidetextanchor": "middle",
         "marker": {
          "color": "#9467BD",
          "line": {
           "color": "white",
           "width": 0.5
          },
          "pattern": {
           "fgcolor": "white",
           "fgopacity": 0.5,
           "shape": "",
           "solidity": 0.25
          }
         },
         "name": "4",
         "orientation": "h",
         "showlegend": true,
         "text": [
          "4",
          "4",
          "4",
          "4",
          "4",
          "4",
          "4",
          "4",
          "4",
          "4",
          "4",
          "4",
          "4",
          "4",
          "4",
          "4",
          "4",
          "4",
          "4"
         ],
         "textposition": "inside",
         "type": "bar",
         "width": 1,
         "x": [
          11.590000000000003,
          14.120000000000005,
          25.890000000000015,
          14.620000000000005,
          26.359999999999985,
          14.620000000000005,
          22.689999999999998,
          15.63000000000001,
          11.600000000000009,
          25.22999999999999,
          14.129999999999995,
          10.070000000000007,
          25.72,
          15.63000000000001,
          25.22999999999999,
          16.13000000000001,
          23.69999999999999,
          15.63000000000001,
          23.210000000000008
         ],
         "y": [
          "L05",
          "L05",
          "L05",
          "L06",
          "L06",
          "L07",
          "L07",
          "L08",
          "L08",
          "L08",
          "L09",
          "L09",
          "L09",
          "L10",
          "L10",
          "L11",
          "L11",
          "L12",
          "L12"
         ]
        },
        {
         "base": [
          135.98,
          135.98,
          137.99,
          137.99,
          147.58,
          135.98,
          132.44
         ],
         "customdata": [
          "<b>5</b><br>Layer: L06<br>Start: 135.980s<br>End: 161.190s<br>Duration: 25.210s",
          "<b>5</b><br>Layer: L07<br>Start: 135.980s<br>End: 161.190s<br>Duration: 25.210s",
          "<b>5</b><br>Layer: L08<br>Start: 137.990s<br>End: 161.680s<br>Duration: 23.690s",
          "<b>5</b><br>Layer: L09<br>Start: 137.990s<br>End: 161.680s<br>Duration: 23.690s",
          "<b>5</b><br>Layer: L10<br>Start: 147.580s<br>End: 162.190s<br>Duration: 14.610s",
          "<b>5</b><br>Layer: L11<br>Start: 135.980s<br>End: 162.710s<br>Duration: 26.730s",
          "<b>5</b><br>Layer: L12<br>Start: 132.440s<br>End: 162.710s<br>Duration: 30.270s"
         ],
         "hovertemplate": "%{customdata}<extra></extra>",
         "insidetextanchor": "middle",
         "marker": {
          "color": "#8C564B",
          "line": {
           "color": "white",
           "width": 0.5
          },
          "pattern": {
           "fgcolor": "white",
           "fgopacity": 0.5,
           "shape": "",
           "solidity": 0.25
          }
         },
         "name": "5",
         "orientation": "h",
         "showlegend": true,
         "text": [
          "5",
          "5",
          "5",
          "5",
          "5",
          "5",
          "5"
         ],
         "textposition": "inside",
         "type": "bar",
         "width": 1,
         "x": [
          25.210000000000008,
          25.210000000000008,
          23.689999999999998,
          23.689999999999998,
          14.609999999999985,
          26.730000000000018,
          30.27000000000001
         ],
         "y": [
          "L06",
          "L07",
          "L08",
          "L09",
          "L10",
          "L11",
          "L12"
         ]
        },
        {
         "base": [
          207.59,
          208.6,
          208.6,
          208.6,
          208.6,
          206.58
         ],
         "customdata": [
          "<b>6</b><br>Layer: L07<br>Start: 207.590s<br>End: 227.733s<br>Duration: 20.143s",
          "<b>6</b><br>Layer: L08<br>Start: 208.600s<br>End: 227.733s<br>Duration: 19.133s",
          "<b>6</b><br>Layer: L09<br>Start: 208.600s<br>End: 227.733s<br>Duration: 19.133s",
          "<b>6</b><br>Layer: L10<br>Start: 208.600s<br>End: 227.733s<br>Duration: 19.133s",
          "<b>6</b><br>Layer: L11<br>Start: 208.600s<br>End: 227.733s<br>Duration: 19.133s",
          "<b>6</b><br>Layer: L12<br>Start: 206.580s<br>End: 227.733s<br>Duration: 21.153s"
         ],
         "hovertemplate": "%{customdata}<extra></extra>",
         "insidetextanchor": "middle",
         "marker": {
          "color": "#E377C2",
          "line": {
           "color": "white",
           "width": 0.5
          },
          "pattern": {
           "fgcolor": "white",
           "fgopacity": 0.5,
           "shape": "",
           "solidity": 0.25
          }
         },
         "name": "6",
         "orientation": "h",
         "showlegend": true,
         "text": [
          "6",
          "6",
          "6",
          "6",
          "6",
          "6"
         ],
         "textposition": "inside",
         "type": "bar",
         "width": 1,
         "x": [
          20.143020000000007,
          19.133020000000016,
          19.133020000000016,
          19.133020000000016,
          19.133020000000016,
          21.153019999999998
         ],
         "y": [
          "L07",
          "L08",
          "L09",
          "L10",
          "L11",
          "L12"
         ]
        },
        {
         "base": [
          77.97,
          78.47,
          118.32,
          78.98
         ],
         "customdata": [
          "<b>8</b><br>Layer: L09<br>Start: 77.970s<br>End: 87.560s<br>Duration: 9.590s",
          "<b>8</b><br>Layer: L10<br>Start: 78.470s<br>End: 87.050s<br>Duration: 8.580s",
          "<b>8</b><br>Layer: L11<br>Start: 118.320s<br>End: 135.980s<br>Duration: 17.660s",
          "<b>8</b><br>Layer: L12<br>Start: 78.980s<br>End: 87.050s<br>Duration: 8.070s"
         ],
         "hovertemplate": "%{customdata}<extra></extra>",
         "insidetextanchor": "middle",
         "marker": {
          "color": "#7F7F7F",
          "line": {
           "color": "white",
           "width": 0.5
          },
          "pattern": {
           "fgcolor": "white",
           "fgopacity": 0.5,
           "shape": "",
           "solidity": 0.25
          }
         },
         "name": "8",
         "orientation": "h",
         "showlegend": true,
         "text": [
          "8",
          "8",
          "8",
          "8"
         ],
         "textposition": "inside",
         "type": "bar",
         "width": 1,
         "x": [
          9.590000000000003,
          8.579999999999998,
          17.659999999999997,
          8.069999999999993
         ],
         "y": [
          "L09",
          "L10",
          "L11",
          "L12"
         ]
        },
        {
         "base": [
          118.82,
          118.82
         ],
         "customdata": [
          "<b>7</b><br>Layer: L10<br>Start: 118.820s<br>End: 132.440s<br>Duration: 13.620s",
          "<b>7</b><br>Layer: L12<br>Start: 118.820s<br>End: 132.440s<br>Duration: 13.620s"
         ],
         "hovertemplate": "%{customdata}<extra></extra>",
         "insidetextanchor": "middle",
         "marker": {
          "color": "#BCBD22",
          "line": {
           "color": "white",
           "width": 0.5
          },
          "pattern": {
           "fgcolor": "white",
           "fgopacity": 0.5,
           "shape": "",
           "solidity": 0.25
          }
         },
         "name": "7",
         "orientation": "h",
         "showlegend": true,
         "text": [
          "7",
          "7"
         ],
         "textposition": "inside",
         "type": "bar",
         "width": 1,
         "x": [
          13.620000000000005,
          13.620000000000005
         ],
         "y": [
          "L10",
          "L12"
         ]
        },
        {
         "base": [
          132.44
         ],
         "customdata": [
          "<b>9</b><br>Layer: L10<br>Start: 132.440s<br>End: 147.580s<br>Duration: 15.140s"
         ],
         "hovertemplate": "%{customdata}<extra></extra>",
         "insidetextanchor": "middle",
         "marker": {
          "color": "#17BECF",
          "line": {
           "color": "white",
           "width": 0.5
          },
          "pattern": {
           "fgcolor": "white",
           "fgopacity": 0.5,
           "shape": "",
           "solidity": 0.25
          }
         },
         "name": "9",
         "orientation": "h",
         "showlegend": true,
         "text": [
          "9"
         ],
         "textposition": "inside",
         "type": "bar",
         "width": 1,
         "x": [
          15.140000000000015
         ],
         "y": [
          "L10"
         ]
        },
        {
         "base": [
          175.32
         ],
         "customdata": [
          "<b>10</b><br>Layer: L12<br>Start: 175.320s<br>End: 183.370s<br>Duration: 8.050s"
         ],
         "hovertemplate": "%{customdata}<extra></extra>",
         "insidetextanchor": "middle",
         "marker": {
          "color": "#1F77B4",
          "line": {
           "color": "white",
           "width": 0.5
          },
          "pattern": {
           "fgcolor": "white",
           "fgopacity": 0.5,
           "shape": ".",
           "solidity": 0.25
          }
         },
         "name": "10",
         "orientation": "h",
         "showlegend": true,
         "text": [
          "10"
         ],
         "textposition": "inside",
         "type": "bar",
         "width": 1,
         "x": [
          8.050000000000011
         ],
         "y": [
          "L12"
         ]
        }
       ],
       "layout": {
        "barmode": "overlay",
        "height": 370,
        "margin": {
         "b": 20,
         "l": 20,
         "r": 20,
         "t": 40
        },
        "showlegend": true,
        "template": {
         "data": {
          "bar": [
           {
            "error_x": {
             "color": "#2a3f5f"
            },
            "error_y": {
             "color": "#2a3f5f"
            },
            "marker": {
             "line": {
              "color": "#E5ECF6",
              "width": 0.5
             },
             "pattern": {
              "fillmode": "overlay",
              "size": 10,
              "solidity": 0.2
             }
            },
            "type": "bar"
           }
          ],
          "barpolar": [
           {
            "marker": {
             "line": {
              "color": "#E5ECF6",
              "width": 0.5
             },
             "pattern": {
              "fillmode": "overlay",
              "size": 10,
              "solidity": 0.2
             }
            },
            "type": "barpolar"
           }
          ],
          "carpet": [
           {
            "aaxis": {
             "endlinecolor": "#2a3f5f",
             "gridcolor": "white",
             "linecolor": "white",
             "minorgridcolor": "white",
             "startlinecolor": "#2a3f5f"
            },
            "baxis": {
             "endlinecolor": "#2a3f5f",
             "gridcolor": "white",
             "linecolor": "white",
             "minorgridcolor": "white",
             "startlinecolor": "#2a3f5f"
            },
            "type": "carpet"
           }
          ],
          "choropleth": [
           {
            "colorbar": {
             "outlinewidth": 0,
             "ticks": ""
            },
            "type": "choropleth"
           }
          ],
          "contour": [
           {
            "colorbar": {
             "outlinewidth": 0,
             "ticks": ""
            },
            "colorscale": [
             [
              0,
              "#0d0887"
             ],
             [
              0.1111111111111111,
              "#46039f"
             ],
             [
              0.2222222222222222,
              "#7201a8"
             ],
             [
              0.3333333333333333,
              "#9c179e"
             ],
             [
              0.4444444444444444,
              "#bd3786"
             ],
             [
              0.5555555555555556,
              "#d8576b"
             ],
             [
              0.6666666666666666,
              "#ed7953"
             ],
             [
              0.7777777777777778,
              "#fb9f3a"
             ],
             [
              0.8888888888888888,
              "#fdca26"
             ],
             [
              1,
              "#f0f921"
             ]
            ],
            "type": "contour"
           }
          ],
          "contourcarpet": [
           {
            "colorbar": {
             "outlinewidth": 0,
             "ticks": ""
            },
            "type": "contourcarpet"
           }
          ],
          "heatmap": [
           {
            "colorbar": {
             "outlinewidth": 0,
             "ticks": ""
            },
            "colorscale": [
             [
              0,
              "#0d0887"
             ],
             [
              0.1111111111111111,
              "#46039f"
             ],
             [
              0.2222222222222222,
              "#7201a8"
             ],
             [
              0.3333333333333333,
              "#9c179e"
             ],
             [
              0.4444444444444444,
              "#bd3786"
             ],
             [
              0.5555555555555556,
              "#d8576b"
             ],
             [
              0.6666666666666666,
              "#ed7953"
             ],
             [
              0.7777777777777778,
              "#fb9f3a"
             ],
             [
              0.8888888888888888,
              "#fdca26"
             ],
             [
              1,
              "#f0f921"
             ]
            ],
            "type": "heatmap"
           }
          ],
          "histogram": [
           {
            "marker": {
             "pattern": {
              "fillmode": "overlay",
              "size": 10,
              "solidity": 0.2
             }
            },
            "type": "histogram"
           }
          ],
          "histogram2d": [
           {
            "colorbar": {
             "outlinewidth": 0,
             "ticks": ""
            },
            "colorscale": [
             [
              0,
              "#0d0887"
             ],
             [
              0.1111111111111111,
              "#46039f"
             ],
             [
              0.2222222222222222,
              "#7201a8"
             ],
             [
              0.3333333333333333,
              "#9c179e"
             ],
             [
              0.4444444444444444,
              "#bd3786"
             ],
             [
              0.5555555555555556,
              "#d8576b"
             ],
             [
              0.6666666666666666,
              "#ed7953"
             ],
             [
              0.7777777777777778,
              "#fb9f3a"
             ],
             [
              0.8888888888888888,
              "#fdca26"
             ],
             [
              1,
              "#f0f921"
             ]
            ],
            "type": "histogram2d"
           }
          ],
          "histogram2dcontour": [
           {
            "colorbar": {
             "outlinewidth": 0,
             "ticks": ""
            },
            "colorscale": [
             [
              0,
              "#0d0887"
             ],
             [
              0.1111111111111111,
              "#46039f"
             ],
             [
              0.2222222222222222,
              "#7201a8"
             ],
             [
              0.3333333333333333,
              "#9c179e"
             ],
             [
              0.4444444444444444,
              "#bd3786"
             ],
             [
              0.5555555555555556,
              "#d8576b"
             ],
             [
              0.6666666666666666,
              "#ed7953"
             ],
             [
              0.7777777777777778,
              "#fb9f3a"
             ],
             [
              0.8888888888888888,
              "#fdca26"
             ],
             [
              1,
              "#f0f921"
             ]
            ],
            "type": "histogram2dcontour"
           }
          ],
          "mesh3d": [
           {
            "colorbar": {
             "outlinewidth": 0,
             "ticks": ""
            },
            "type": "mesh3d"
           }
          ],
          "parcoords": [
           {
            "line": {
             "colorbar": {
              "outlinewidth": 0,
              "ticks": ""
             }
            },
            "type": "parcoords"
           }
          ],
          "pie": [
           {
            "automargin": true,
            "type": "pie"
           }
          ],
          "scatter": [
           {
            "fillpattern": {
             "fillmode": "overlay",
             "size": 10,
             "solidity": 0.2
            },
            "type": "scatter"
           }
          ],
          "scatter3d": [
           {
            "line": {
             "colorbar": {
              "outlinewidth": 0,
              "ticks": ""
             }
            },
            "marker": {
             "colorbar": {
              "outlinewidth": 0,
              "ticks": ""
             }
            },
            "type": "scatter3d"
           }
          ],
          "scattercarpet": [
           {
            "marker": {
             "colorbar": {
              "outlinewidth": 0,
              "ticks": ""
             }
            },
            "type": "scattercarpet"
           }
          ],
          "scattergeo": [
           {
            "marker": {
             "colorbar": {
              "outlinewidth": 0,
              "ticks": ""
             }
            },
            "type": "scattergeo"
           }
          ],
          "scattergl": [
           {
            "marker": {
             "colorbar": {
              "outlinewidth": 0,
              "ticks": ""
             }
            },
            "type": "scattergl"
           }
          ],
          "scattermap": [
           {
            "marker": {
             "colorbar": {
              "outlinewidth": 0,
              "ticks": ""
             }
            },
            "type": "scattermap"
           }
          ],
          "scattermapbox": [
           {
            "marker": {
             "colorbar": {
              "outlinewidth": 0,
              "ticks": ""
             }
            },
            "type": "scattermapbox"
           }
          ],
          "scatterpolar": [
           {
            "marker": {
             "colorbar": {
              "outlinewidth": 0,
              "ticks": ""
             }
            },
            "type": "scatterpolar"
           }
          ],
          "scatterpolargl": [
           {
            "marker": {
             "colorbar": {
              "outlinewidth": 0,
              "ticks": ""
             }
            },
            "type": "scatterpolargl"
           }
          ],
          "scatterternary": [
           {
            "marker": {
             "colorbar": {
              "outlinewidth": 0,
              "ticks": ""
             }
            },
            "type": "scatterternary"
           }
          ],
          "surface": [
           {
            "colorbar": {
             "outlinewidth": 0,
             "ticks": ""
            },
            "colorscale": [
             [
              0,
              "#0d0887"
             ],
             [
              0.1111111111111111,
              "#46039f"
             ],
             [
              0.2222222222222222,
              "#7201a8"
             ],
             [
              0.3333333333333333,
              "#9c179e"
             ],
             [
              0.4444444444444444,
              "#bd3786"
             ],
             [
              0.5555555555555556,
              "#d8576b"
             ],
             [
              0.6666666666666666,
              "#ed7953"
             ],
             [
              0.7777777777777778,
              "#fb9f3a"
             ],
             [
              0.8888888888888888,
              "#fdca26"
             ],
             [
              1,
              "#f0f921"
             ]
            ],
            "type": "surface"
           }
          ],
          "table": [
           {
            "cells": {
             "fill": {
              "color": "#EBF0F8"
             },
             "line": {
              "color": "white"
             }
            },
            "header": {
             "fill": {
              "color": "#C8D4E3"
             },
             "line": {
              "color": "white"
             }
            },
            "type": "table"
           }
          ]
         },
         "layout": {
          "annotationdefaults": {
           "arrowcolor": "#2a3f5f",
           "arrowhead": 0,
           "arrowwidth": 1
          },
          "autotypenumbers": "strict",
          "coloraxis": {
           "colorbar": {
            "outlinewidth": 0,
            "ticks": ""
           }
          },
          "colorscale": {
           "diverging": [
            [
             0,
             "#8e0152"
            ],
            [
             0.1,
             "#c51b7d"
            ],
            [
             0.2,
             "#de77ae"
            ],
            [
             0.3,
             "#f1b6da"
            ],
            [
             0.4,
             "#fde0ef"
            ],
            [
             0.5,
             "#f7f7f7"
            ],
            [
             0.6,
             "#e6f5d0"
            ],
            [
             0.7,
             "#b8e186"
            ],
            [
             0.8,
             "#7fbc41"
            ],
            [
             0.9,
             "#4d9221"
            ],
            [
             1,
             "#276419"
            ]
           ],
           "sequential": [
            [
             0,
             "#0d0887"
            ],
            [
             0.1111111111111111,
             "#46039f"
            ],
            [
             0.2222222222222222,
             "#7201a8"
            ],
            [
             0.3333333333333333,
             "#9c179e"
            ],
            [
             0.4444444444444444,
             "#bd3786"
            ],
            [
             0.5555555555555556,
             "#d8576b"
            ],
            [
             0.6666666666666666,
             "#ed7953"
            ],
            [
             0.7777777777777778,
             "#fb9f3a"
            ],
            [
             0.8888888888888888,
             "#fdca26"
            ],
            [
             1,
             "#f0f921"
            ]
           ],
           "sequentialminus": [
            [
             0,
             "#0d0887"
            ],
            [
             0.1111111111111111,
             "#46039f"
            ],
            [
             0.2222222222222222,
             "#7201a8"
            ],
            [
             0.3333333333333333,
             "#9c179e"
            ],
            [
             0.4444444444444444,
             "#bd3786"
            ],
            [
             0.5555555555555556,
             "#d8576b"
            ],
            [
             0.6666666666666666,
             "#ed7953"
            ],
            [
             0.7777777777777778,
             "#fb9f3a"
            ],
            [
             0.8888888888888888,
             "#fdca26"
            ],
            [
             1,
             "#f0f921"
            ]
           ]
          },
          "colorway": [
           "#636efa",
           "#EF553B",
           "#00cc96",
           "#ab63fa",
           "#FFA15A",
           "#19d3f3",
           "#FF6692",
           "#B6E880",
           "#FF97FF",
           "#FECB52"
          ],
          "font": {
           "color": "#2a3f5f"
          },
          "geo": {
           "bgcolor": "white",
           "lakecolor": "white",
           "landcolor": "#E5ECF6",
           "showlakes": true,
           "showland": true,
           "subunitcolor": "white"
          },
          "hoverlabel": {
           "align": "left"
          },
          "hovermode": "closest",
          "mapbox": {
           "style": "light"
          },
          "paper_bgcolor": "white",
          "plot_bgcolor": "#E5ECF6",
          "polar": {
           "angularaxis": {
            "gridcolor": "white",
            "linecolor": "white",
            "ticks": ""
           },
           "bgcolor": "#E5ECF6",
           "radialaxis": {
            "gridcolor": "white",
            "linecolor": "white",
            "ticks": ""
           }
          },
          "scene": {
           "xaxis": {
            "backgroundcolor": "#E5ECF6",
            "gridcolor": "white",
            "gridwidth": 2,
            "linecolor": "white",
            "showbackground": true,
            "ticks": "",
            "zerolinecolor": "white"
           },
           "yaxis": {
            "backgroundcolor": "#E5ECF6",
            "gridcolor": "white",
            "gridwidth": 2,
            "linecolor": "white",
            "showbackground": true,
            "ticks": "",
            "zerolinecolor": "white"
           },
           "zaxis": {
            "backgroundcolor": "#E5ECF6",
            "gridcolor": "white",
            "gridwidth": 2,
            "linecolor": "white",
            "showbackground": true,
            "ticks": "",
            "zerolinecolor": "white"
           }
          },
          "shapedefaults": {
           "line": {
            "color": "#2a3f5f"
           }
          },
          "ternary": {
           "aaxis": {
            "gridcolor": "white",
            "linecolor": "white",
            "ticks": ""
           },
           "baxis": {
            "gridcolor": "white",
            "linecolor": "white",
            "ticks": ""
           },
           "bgcolor": "#E5ECF6",
           "caxis": {
            "gridcolor": "white",
            "linecolor": "white",
            "ticks": ""
           }
          },
          "title": {
           "x": 0.05
          },
          "xaxis": {
           "automargin": true,
           "gridcolor": "white",
           "linecolor": "white",
           "ticks": "",
           "title": {
            "standoff": 15
           },
           "zerolinecolor": "white",
           "zerolinewidth": 2
          },
          "yaxis": {
           "automargin": true,
           "gridcolor": "white",
           "linecolor": "white",
           "ticks": "",
           "title": {
            "standoff": 15
           },
           "zerolinecolor": "white",
           "zerolinewidth": 2
          }
         }
        },
        "title": {
         "text": "adobe-mu1gamma1",
         "x": 0.5
        },
        "uniformtext": {
         "minsize": 8,
         "mode": "hide"
        },
        "width": 700,
        "xaxis": {
         "range": [
          0,
          227.73302
         ],
         "title": {
          "text": "Time (s)"
         }
        },
        "yaxis": {
         "categoryarray": [
          "L12",
          "L11",
          "L10",
          "L09",
          "L08",
          "L07",
          "L06",
          "L05",
          "L04",
          "L03",
          "L02",
          "L01"
         ],
         "categoryorder": "array",
         "title": {}
        }
       }
      }
     },
     "metadata": {},
     "output_type": "display_data"
    }
   ],
   "source": [
    "est.plot(colorscale=\"D3\").show(width=800, height=550)"
   ]
  },
  {
   "cell_type": "code",
   "execution_count": 36,
   "metadata": {},
   "outputs": [
    {
     "data": {
      "application/vnd.plotly.v1+json": {
       "config": {
        "plotlyServerURL": "https://plot.ly"
       },
       "data": [
        {
         "hovertemplate": "<b>Boundary</b><br>Time: %{x:.3f}s<br>Salience: %{y:.3f}<extra></extra>",
         "line": {
          "color": "black",
          "width": 1.5
         },
         "mode": "lines",
         "type": "scatter",
         "x": [
          34.11,
          34.11,
          null,
          59.83,
          59.83,
          null,
          60.33,
          60.33,
          null,
          60.84,
          60.84,
          null,
          77.97,
          77.97,
          null,
          78.47,
          78.47,
          null,
          78.98,
          78.98,
          null,
          86.55,
          86.55,
          null,
          87.05,
          87.05,
          null,
          87.56,
          87.56,
          null,
          88.06,
          88.06,
          null,
          89.58,
          89.58,
          null,
          101.17,
          101.17,
          null,
          101.69,
          101.69,
          null,
          102.18,
          102.18,
          null,
          102.68,
          102.68,
          null,
          118.32,
          118.32,
          null,
          118.82,
          118.82,
          null,
          126.39,
          126.39,
          null,
          127.92,
          127.92,
          null,
          129.42,
          129.42,
          null,
          132.44,
          132.44,
          null,
          135.98,
          135.98,
          null,
          137.99,
          137.99,
          null,
          143.54,
          143.54,
          null,
          147.58,
          147.58,
          null,
          159.7,
          159.7,
          null,
          161.19,
          161.19,
          null,
          161.68,
          161.68,
          null,
          162.19,
          162.19,
          null,
          162.71,
          162.71,
          null,
          175.32,
          175.32,
          null,
          176.84,
          176.84,
          null,
          180.85,
          180.85,
          null,
          182.88,
          182.88,
          null,
          183.37,
          183.37,
          null,
          183.89,
          183.89,
          null,
          184.9,
          184.9,
          null,
          185.91,
          185.91,
          null,
          206.58,
          206.58,
          null,
          207.59,
          207.59,
          null,
          208.6,
          208.6,
          null,
          209.63,
          209.63,
          null,
          211.26,
          211.26,
          null,
          211.8,
          211.8,
          null
         ],
         "y": [
          0,
          10,
          null,
          0,
          11,
          null,
          0,
          8,
          null,
          0,
          10,
          null,
          0,
          4,
          null,
          0,
          3,
          null,
          0,
          1,
          null,
          0,
          5,
          null,
          0,
          3,
          null,
          0,
          4,
          null,
          0,
          7,
          null,
          0,
          8,
          null,
          0,
          8,
          null,
          0,
          4,
          null,
          0,
          5,
          null,
          0,
          7,
          null,
          0,
          2,
          null,
          0,
          3,
          null,
          0,
          5,
          null,
          0,
          4,
          null,
          0,
          8,
          null,
          0,
          3,
          null,
          0,
          7,
          null,
          0,
          5,
          null,
          0,
          8,
          null,
          0,
          3,
          null,
          0,
          10,
          null,
          0,
          11,
          null,
          0,
          5,
          null,
          0,
          3,
          null,
          0,
          2,
          null,
          0,
          9,
          null,
          0,
          11,
          null,
          0,
          10,
          null,
          0,
          4,
          null,
          0,
          5,
          null,
          0,
          9,
          null,
          0,
          7,
          null,
          0,
          8,
          null,
          0,
          1,
          null,
          0,
          6,
          null,
          0,
          5,
          null,
          0,
          11,
          null,
          0,
          7,
          null,
          0,
          8,
          null
         ]
        }
       ],
       "layout": {
        "shapes": [
         {
          "line": {
           "color": "black",
           "width": 1
          },
          "opacity": 0.5,
          "type": "line",
          "x0": 0,
          "x1": 1,
          "xref": "x domain",
          "y0": 0,
          "y1": 0,
          "yref": "y"
         }
        ],
        "showlegend": false,
        "template": {
         "data": {
          "bar": [
           {
            "error_x": {
             "color": "#2a3f5f"
            },
            "error_y": {
             "color": "#2a3f5f"
            },
            "marker": {
             "line": {
              "color": "#E5ECF6",
              "width": 0.5
             },
             "pattern": {
              "fillmode": "overlay",
              "size": 10,
              "solidity": 0.2
             }
            },
            "type": "bar"
           }
          ],
          "barpolar": [
           {
            "marker": {
             "line": {
              "color": "#E5ECF6",
              "width": 0.5
             },
             "pattern": {
              "fillmode": "overlay",
              "size": 10,
              "solidity": 0.2
             }
            },
            "type": "barpolar"
           }
          ],
          "carpet": [
           {
            "aaxis": {
             "endlinecolor": "#2a3f5f",
             "gridcolor": "white",
             "linecolor": "white",
             "minorgridcolor": "white",
             "startlinecolor": "#2a3f5f"
            },
            "baxis": {
             "endlinecolor": "#2a3f5f",
             "gridcolor": "white",
             "linecolor": "white",
             "minorgridcolor": "white",
             "startlinecolor": "#2a3f5f"
            },
            "type": "carpet"
           }
          ],
          "choropleth": [
           {
            "colorbar": {
             "outlinewidth": 0,
             "ticks": ""
            },
            "type": "choropleth"
           }
          ],
          "contour": [
           {
            "colorbar": {
             "outlinewidth": 0,
             "ticks": ""
            },
            "colorscale": [
             [
              0,
              "#0d0887"
             ],
             [
              0.1111111111111111,
              "#46039f"
             ],
             [
              0.2222222222222222,
              "#7201a8"
             ],
             [
              0.3333333333333333,
              "#9c179e"
             ],
             [
              0.4444444444444444,
              "#bd3786"
             ],
             [
              0.5555555555555556,
              "#d8576b"
             ],
             [
              0.6666666666666666,
              "#ed7953"
             ],
             [
              0.7777777777777778,
              "#fb9f3a"
             ],
             [
              0.8888888888888888,
              "#fdca26"
             ],
             [
              1,
              "#f0f921"
             ]
            ],
            "type": "contour"
           }
          ],
          "contourcarpet": [
           {
            "colorbar": {
             "outlinewidth": 0,
             "ticks": ""
            },
            "type": "contourcarpet"
           }
          ],
          "heatmap": [
           {
            "colorbar": {
             "outlinewidth": 0,
             "ticks": ""
            },
            "colorscale": [
             [
              0,
              "#0d0887"
             ],
             [
              0.1111111111111111,
              "#46039f"
             ],
             [
              0.2222222222222222,
              "#7201a8"
             ],
             [
              0.3333333333333333,
              "#9c179e"
             ],
             [
              0.4444444444444444,
              "#bd3786"
             ],
             [
              0.5555555555555556,
              "#d8576b"
             ],
             [
              0.6666666666666666,
              "#ed7953"
             ],
             [
              0.7777777777777778,
              "#fb9f3a"
             ],
             [
              0.8888888888888888,
              "#fdca26"
             ],
             [
              1,
              "#f0f921"
             ]
            ],
            "type": "heatmap"
           }
          ],
          "histogram": [
           {
            "marker": {
             "pattern": {
              "fillmode": "overlay",
              "size": 10,
              "solidity": 0.2
             }
            },
            "type": "histogram"
           }
          ],
          "histogram2d": [
           {
            "colorbar": {
             "outlinewidth": 0,
             "ticks": ""
            },
            "colorscale": [
             [
              0,
              "#0d0887"
             ],
             [
              0.1111111111111111,
              "#46039f"
             ],
             [
              0.2222222222222222,
              "#7201a8"
             ],
             [
              0.3333333333333333,
              "#9c179e"
             ],
             [
              0.4444444444444444,
              "#bd3786"
             ],
             [
              0.5555555555555556,
              "#d8576b"
             ],
             [
              0.6666666666666666,
              "#ed7953"
             ],
             [
              0.7777777777777778,
              "#fb9f3a"
             ],
             [
              0.8888888888888888,
              "#fdca26"
             ],
             [
              1,
              "#f0f921"
             ]
            ],
            "type": "histogram2d"
           }
          ],
          "histogram2dcontour": [
           {
            "colorbar": {
             "outlinewidth": 0,
             "ticks": ""
            },
            "colorscale": [
             [
              0,
              "#0d0887"
             ],
             [
              0.1111111111111111,
              "#46039f"
             ],
             [
              0.2222222222222222,
              "#7201a8"
             ],
             [
              0.3333333333333333,
              "#9c179e"
             ],
             [
              0.4444444444444444,
              "#bd3786"
             ],
             [
              0.5555555555555556,
              "#d8576b"
             ],
             [
              0.6666666666666666,
              "#ed7953"
             ],
             [
              0.7777777777777778,
              "#fb9f3a"
             ],
             [
              0.8888888888888888,
              "#fdca26"
             ],
             [
              1,
              "#f0f921"
             ]
            ],
            "type": "histogram2dcontour"
           }
          ],
          "mesh3d": [
           {
            "colorbar": {
             "outlinewidth": 0,
             "ticks": ""
            },
            "type": "mesh3d"
           }
          ],
          "parcoords": [
           {
            "line": {
             "colorbar": {
              "outlinewidth": 0,
              "ticks": ""
             }
            },
            "type": "parcoords"
           }
          ],
          "pie": [
           {
            "automargin": true,
            "type": "pie"
           }
          ],
          "scatter": [
           {
            "fillpattern": {
             "fillmode": "overlay",
             "size": 10,
             "solidity": 0.2
            },
            "type": "scatter"
           }
          ],
          "scatter3d": [
           {
            "line": {
             "colorbar": {
              "outlinewidth": 0,
              "ticks": ""
             }
            },
            "marker": {
             "colorbar": {
              "outlinewidth": 0,
              "ticks": ""
             }
            },
            "type": "scatter3d"
           }
          ],
          "scattercarpet": [
           {
            "marker": {
             "colorbar": {
              "outlinewidth": 0,
              "ticks": ""
             }
            },
            "type": "scattercarpet"
           }
          ],
          "scattergeo": [
           {
            "marker": {
             "colorbar": {
              "outlinewidth": 0,
              "ticks": ""
             }
            },
            "type": "scattergeo"
           }
          ],
          "scattergl": [
           {
            "marker": {
             "colorbar": {
              "outlinewidth": 0,
              "ticks": ""
             }
            },
            "type": "scattergl"
           }
          ],
          "scattermap": [
           {
            "marker": {
             "colorbar": {
              "outlinewidth": 0,
              "ticks": ""
             }
            },
            "type": "scattermap"
           }
          ],
          "scattermapbox": [
           {
            "marker": {
             "colorbar": {
              "outlinewidth": 0,
              "ticks": ""
             }
            },
            "type": "scattermapbox"
           }
          ],
          "scatterpolar": [
           {
            "marker": {
             "colorbar": {
              "outlinewidth": 0,
              "ticks": ""
             }
            },
            "type": "scatterpolar"
           }
          ],
          "scatterpolargl": [
           {
            "marker": {
             "colorbar": {
              "outlinewidth": 0,
              "ticks": ""
             }
            },
            "type": "scatterpolargl"
           }
          ],
          "scatterternary": [
           {
            "marker": {
             "colorbar": {
              "outlinewidth": 0,
              "ticks": ""
             }
            },
            "type": "scatterternary"
           }
          ],
          "surface": [
           {
            "colorbar": {
             "outlinewidth": 0,
             "ticks": ""
            },
            "colorscale": [
             [
              0,
              "#0d0887"
             ],
             [
              0.1111111111111111,
              "#46039f"
             ],
             [
              0.2222222222222222,
              "#7201a8"
             ],
             [
              0.3333333333333333,
              "#9c179e"
             ],
             [
              0.4444444444444444,
              "#bd3786"
             ],
             [
              0.5555555555555556,
              "#d8576b"
             ],
             [
              0.6666666666666666,
              "#ed7953"
             ],
             [
              0.7777777777777778,
              "#fb9f3a"
             ],
             [
              0.8888888888888888,
              "#fdca26"
             ],
             [
              1,
              "#f0f921"
             ]
            ],
            "type": "surface"
           }
          ],
          "table": [
           {
            "cells": {
             "fill": {
              "color": "#EBF0F8"
             },
             "line": {
              "color": "white"
             }
            },
            "header": {
             "fill": {
              "color": "#C8D4E3"
             },
             "line": {
              "color": "white"
             }
            },
            "type": "table"
           }
          ]
         },
         "layout": {
          "annotationdefaults": {
           "arrowcolor": "#2a3f5f",
           "arrowhead": 0,
           "arrowwidth": 1
          },
          "autotypenumbers": "strict",
          "coloraxis": {
           "colorbar": {
            "outlinewidth": 0,
            "ticks": ""
           }
          },
          "colorscale": {
           "diverging": [
            [
             0,
             "#8e0152"
            ],
            [
             0.1,
             "#c51b7d"
            ],
            [
             0.2,
             "#de77ae"
            ],
            [
             0.3,
             "#f1b6da"
            ],
            [
             0.4,
             "#fde0ef"
            ],
            [
             0.5,
             "#f7f7f7"
            ],
            [
             0.6,
             "#e6f5d0"
            ],
            [
             0.7,
             "#b8e186"
            ],
            [
             0.8,
             "#7fbc41"
            ],
            [
             0.9,
             "#4d9221"
            ],
            [
             1,
             "#276419"
            ]
           ],
           "sequential": [
            [
             0,
             "#0d0887"
            ],
            [
             0.1111111111111111,
             "#46039f"
            ],
            [
             0.2222222222222222,
             "#7201a8"
            ],
            [
             0.3333333333333333,
             "#9c179e"
            ],
            [
             0.4444444444444444,
             "#bd3786"
            ],
            [
             0.5555555555555556,
             "#d8576b"
            ],
            [
             0.6666666666666666,
             "#ed7953"
            ],
            [
             0.7777777777777778,
             "#fb9f3a"
            ],
            [
             0.8888888888888888,
             "#fdca26"
            ],
            [
             1,
             "#f0f921"
            ]
           ],
           "sequentialminus": [
            [
             0,
             "#0d0887"
            ],
            [
             0.1111111111111111,
             "#46039f"
            ],
            [
             0.2222222222222222,
             "#7201a8"
            ],
            [
             0.3333333333333333,
             "#9c179e"
            ],
            [
             0.4444444444444444,
             "#bd3786"
            ],
            [
             0.5555555555555556,
             "#d8576b"
            ],
            [
             0.6666666666666666,
             "#ed7953"
            ],
            [
             0.7777777777777778,
             "#fb9f3a"
            ],
            [
             0.8888888888888888,
             "#fdca26"
            ],
            [
             1,
             "#f0f921"
            ]
           ]
          },
          "colorway": [
           "#636efa",
           "#EF553B",
           "#00cc96",
           "#ab63fa",
           "#FFA15A",
           "#19d3f3",
           "#FF6692",
           "#B6E880",
           "#FF97FF",
           "#FECB52"
          ],
          "font": {
           "color": "#2a3f5f"
          },
          "geo": {
           "bgcolor": "white",
           "lakecolor": "white",
           "landcolor": "#E5ECF6",
           "showlakes": true,
           "showland": true,
           "subunitcolor": "white"
          },
          "hoverlabel": {
           "align": "left"
          },
          "hovermode": "closest",
          "mapbox": {
           "style": "light"
          },
          "paper_bgcolor": "white",
          "plot_bgcolor": "#E5ECF6",
          "polar": {
           "angularaxis": {
            "gridcolor": "white",
            "linecolor": "white",
            "ticks": ""
           },
           "bgcolor": "#E5ECF6",
           "radialaxis": {
            "gridcolor": "white",
            "linecolor": "white",
            "ticks": ""
           }
          },
          "scene": {
           "xaxis": {
            "backgroundcolor": "#E5ECF6",
            "gridcolor": "white",
            "gridwidth": 2,
            "linecolor": "white",
            "showbackground": true,
            "ticks": "",
            "zerolinecolor": "white"
           },
           "yaxis": {
            "backgroundcolor": "#E5ECF6",
            "gridcolor": "white",
            "gridwidth": 2,
            "linecolor": "white",
            "showbackground": true,
            "ticks": "",
            "zerolinecolor": "white"
           },
           "zaxis": {
            "backgroundcolor": "#E5ECF6",
            "gridcolor": "white",
            "gridwidth": 2,
            "linecolor": "white",
            "showbackground": true,
            "ticks": "",
            "zerolinecolor": "white"
           }
          },
          "shapedefaults": {
           "line": {
            "color": "#2a3f5f"
           }
          },
          "ternary": {
           "aaxis": {
            "gridcolor": "white",
            "linecolor": "white",
            "ticks": ""
           },
           "baxis": {
            "gridcolor": "white",
            "linecolor": "white",
            "ticks": ""
           },
           "bgcolor": "#E5ECF6",
           "caxis": {
            "gridcolor": "white",
            "linecolor": "white",
            "ticks": ""
           }
          },
          "title": {
           "x": 0.05
          },
          "xaxis": {
           "automargin": true,
           "gridcolor": "white",
           "linecolor": "white",
           "ticks": "",
           "title": {
            "standoff": 15
           },
           "zerolinecolor": "white",
           "zerolinewidth": 2
          },
          "yaxis": {
           "automargin": true,
           "gridcolor": "white",
           "linecolor": "white",
           "ticks": "",
           "title": {
            "standoff": 15
           },
           "zerolinecolor": "white",
           "zerolinewidth": 2
          }
         }
        },
        "title": {
         "text": "adobe-mu1gamma1"
        },
        "xaxis": {
         "range": [
          0,
          227.73302
         ],
         "title": {
          "text": "Time (s)"
         }
        },
        "yaxis": {
         "title": {
          "text": "Salience"
         }
        }
       }
      }
     },
     "metadata": {},
     "output_type": "display_data"
    }
   ],
   "source": [
    "est.to_contour().plot().show(width=650, height=550)"
   ]
  },
  {
   "cell_type": "code",
   "execution_count": null,
   "metadata": {},
   "outputs": [],
   "source": []
  },
  {
   "cell_type": "code",
   "execution_count": null,
   "metadata": {},
   "outputs": [],
   "source": []
  },
  {
   "cell_type": "code",
   "execution_count": null,
   "metadata": {},
   "outputs": [],
   "source": []
  },
  {
   "cell_type": "code",
   "execution_count": 23,
   "metadata": {},
   "outputs": [],
   "source": [
    "fig.write_image('test_ref_out.svg', width=800, height=250)"
   ]
  },
  {
   "cell_type": "code",
   "execution_count": null,
   "metadata": {},
   "outputs": [],
   "source": []
  },
  {
   "cell_type": "code",
   "execution_count": null,
   "metadata": {},
   "outputs": [],
   "source": []
  },
  {
   "cell_type": "code",
   "execution_count": null,
   "metadata": {},
   "outputs": [],
   "source": []
  },
  {
   "cell_type": "code",
   "execution_count": null,
   "metadata": {},
   "outputs": [],
   "source": []
  },
  {
   "cell_type": "code",
   "execution_count": null,
   "metadata": {},
   "outputs": [],
   "source": []
  },
  {
   "cell_type": "code",
   "execution_count": null,
   "metadata": {},
   "outputs": [],
   "source": []
  },
  {
   "cell_type": "code",
   "execution_count": null,
   "metadata": {},
   "outputs": [],
   "source": []
  },
  {
   "cell_type": "code",
   "execution_count": null,
   "metadata": {},
   "outputs": [],
   "source": []
  },
  {
   "cell_type": "code",
   "execution_count": null,
   "metadata": {},
   "outputs": [],
   "source": []
  },
  {
   "cell_type": "code",
   "execution_count": null,
   "metadata": {},
   "outputs": [],
   "source": []
  },
  {
   "cell_type": "code",
   "execution_count": 3,
   "metadata": {},
   "outputs": [
    {
     "data": {
      "application/vnd.plotly.v1+json": {
       "config": {
        "plotlyServerURL": "https://plot.ly"
       },
       "data": [
        {
         "hoverinfo": "none",
         "line": {
          "color": "black",
          "width": 1.5
         },
         "mode": "lines",
         "type": "scatter",
         "x": [
          34.11,
          34.11,
          null,
          59.83,
          59.83,
          null,
          60.33,
          60.33,
          null,
          60.84,
          60.84,
          null,
          77.97,
          77.97,
          null,
          78.47,
          78.47,
          null,
          78.98,
          78.98,
          null,
          86.55,
          86.55,
          null,
          87.05,
          87.05,
          null,
          87.56,
          87.56,
          null,
          88.06,
          88.06,
          null,
          89.58,
          89.58,
          null,
          101.17,
          101.17,
          null,
          101.69,
          101.69,
          null,
          102.18,
          102.18,
          null,
          102.68,
          102.68,
          null,
          118.32,
          118.32,
          null,
          118.82,
          118.82,
          null,
          126.39,
          126.39,
          null,
          127.92,
          127.92,
          null,
          129.42,
          129.42,
          null,
          132.44,
          132.44,
          null,
          135.98,
          135.98,
          null,
          137.99,
          137.99,
          null,
          143.54,
          143.54,
          null,
          147.58,
          147.58,
          null,
          159.7,
          159.7,
          null,
          161.19,
          161.19,
          null,
          161.68,
          161.68,
          null,
          162.19,
          162.19,
          null,
          162.71,
          162.71,
          null,
          175.32,
          175.32,
          null,
          176.84,
          176.84,
          null,
          180.85,
          180.85,
          null,
          182.88,
          182.88,
          null,
          183.37,
          183.37,
          null,
          183.89,
          183.89,
          null,
          184.9,
          184.9,
          null,
          185.91,
          185.91,
          null,
          206.58,
          206.58,
          null,
          207.59,
          207.59,
          null,
          208.6,
          208.6,
          null,
          209.63,
          209.63,
          null,
          211.26,
          211.26,
          null,
          211.8,
          211.8,
          null
         ],
         "y": [
          0,
          10,
          null,
          0,
          11,
          null,
          0,
          8,
          null,
          0,
          10,
          null,
          0,
          4,
          null,
          0,
          3,
          null,
          0,
          1,
          null,
          0,
          5,
          null,
          0,
          3,
          null,
          0,
          4,
          null,
          0,
          7,
          null,
          0,
          8,
          null,
          0,
          8,
          null,
          0,
          4,
          null,
          0,
          5,
          null,
          0,
          7,
          null,
          0,
          2,
          null,
          0,
          3,
          null,
          0,
          5,
          null,
          0,
          4,
          null,
          0,
          8,
          null,
          0,
          3,
          null,
          0,
          7,
          null,
          0,
          5,
          null,
          0,
          8,
          null,
          0,
          3,
          null,
          0,
          10,
          null,
          0,
          11,
          null,
          0,
          5,
          null,
          0,
          3,
          null,
          0,
          2,
          null,
          0,
          9,
          null,
          0,
          11,
          null,
          0,
          10,
          null,
          0,
          4,
          null,
          0,
          5,
          null,
          0,
          9,
          null,
          0,
          7,
          null,
          0,
          8,
          null,
          0,
          1,
          null,
          0,
          6,
          null,
          0,
          5,
          null,
          0,
          11,
          null,
          0,
          7,
          null,
          0,
          8,
          null
         ]
        },
        {
         "hovertemplate": "<b>Boundary</b><br>Time: %{x:.3f}s<br>Salience: %{y:.3f}<extra></extra>",
         "marker": {
          "opacity": 0,
          "size": 8
         },
         "mode": "markers",
         "type": "scatter",
         "x": [
          34.11,
          59.83,
          60.33,
          60.84,
          77.97,
          78.47,
          78.98,
          86.55,
          87.05,
          87.56,
          88.06,
          89.58,
          101.17,
          101.69,
          102.18,
          102.68,
          118.32,
          118.82,
          126.39,
          127.92,
          129.42,
          132.44,
          135.98,
          137.99,
          143.54,
          147.58,
          159.7,
          161.19,
          161.68,
          162.19,
          162.71,
          175.32,
          176.84,
          180.85,
          182.88,
          183.37,
          183.89,
          184.9,
          185.91,
          206.58,
          207.59,
          208.6,
          209.63,
          211.26,
          211.8
         ],
         "y": [
          10,
          11,
          8,
          10,
          4,
          3,
          1,
          5,
          3,
          4,
          7,
          8,
          8,
          4,
          5,
          7,
          2,
          3,
          5,
          4,
          8,
          3,
          7,
          5,
          8,
          3,
          10,
          11,
          5,
          3,
          2,
          9,
          11,
          10,
          4,
          5,
          9,
          7,
          8,
          1,
          6,
          5,
          11,
          7,
          8
         ]
        }
       ],
       "layout": {
        "height": 400,
        "shapes": [
         {
          "line": {
           "color": "black",
           "width": 1
          },
          "opacity": 0.5,
          "type": "line",
          "x0": 0,
          "x1": 1,
          "xref": "x domain",
          "y0": 0,
          "y1": 0,
          "yref": "y"
         }
        ],
        "showlegend": false,
        "template": {
         "data": {
          "bar": [
           {
            "error_x": {
             "color": "#2a3f5f"
            },
            "error_y": {
             "color": "#2a3f5f"
            },
            "marker": {
             "line": {
              "color": "#E5ECF6",
              "width": 0.5
             },
             "pattern": {
              "fillmode": "overlay",
              "size": 10,
              "solidity": 0.2
             }
            },
            "type": "bar"
           }
          ],
          "barpolar": [
           {
            "marker": {
             "line": {
              "color": "#E5ECF6",
              "width": 0.5
             },
             "pattern": {
              "fillmode": "overlay",
              "size": 10,
              "solidity": 0.2
             }
            },
            "type": "barpolar"
           }
          ],
          "carpet": [
           {
            "aaxis": {
             "endlinecolor": "#2a3f5f",
             "gridcolor": "white",
             "linecolor": "white",
             "minorgridcolor": "white",
             "startlinecolor": "#2a3f5f"
            },
            "baxis": {
             "endlinecolor": "#2a3f5f",
             "gridcolor": "white",
             "linecolor": "white",
             "minorgridcolor": "white",
             "startlinecolor": "#2a3f5f"
            },
            "type": "carpet"
           }
          ],
          "choropleth": [
           {
            "colorbar": {
             "outlinewidth": 0,
             "ticks": ""
            },
            "type": "choropleth"
           }
          ],
          "contour": [
           {
            "colorbar": {
             "outlinewidth": 0,
             "ticks": ""
            },
            "colorscale": [
             [
              0,
              "#0d0887"
             ],
             [
              0.1111111111111111,
              "#46039f"
             ],
             [
              0.2222222222222222,
              "#7201a8"
             ],
             [
              0.3333333333333333,
              "#9c179e"
             ],
             [
              0.4444444444444444,
              "#bd3786"
             ],
             [
              0.5555555555555556,
              "#d8576b"
             ],
             [
              0.6666666666666666,
              "#ed7953"
             ],
             [
              0.7777777777777778,
              "#fb9f3a"
             ],
             [
              0.8888888888888888,
              "#fdca26"
             ],
             [
              1,
              "#f0f921"
             ]
            ],
            "type": "contour"
           }
          ],
          "contourcarpet": [
           {
            "colorbar": {
             "outlinewidth": 0,
             "ticks": ""
            },
            "type": "contourcarpet"
           }
          ],
          "heatmap": [
           {
            "colorbar": {
             "outlinewidth": 0,
             "ticks": ""
            },
            "colorscale": [
             [
              0,
              "#0d0887"
             ],
             [
              0.1111111111111111,
              "#46039f"
             ],
             [
              0.2222222222222222,
              "#7201a8"
             ],
             [
              0.3333333333333333,
              "#9c179e"
             ],
             [
              0.4444444444444444,
              "#bd3786"
             ],
             [
              0.5555555555555556,
              "#d8576b"
             ],
             [
              0.6666666666666666,
              "#ed7953"
             ],
             [
              0.7777777777777778,
              "#fb9f3a"
             ],
             [
              0.8888888888888888,
              "#fdca26"
             ],
             [
              1,
              "#f0f921"
             ]
            ],
            "type": "heatmap"
           }
          ],
          "histogram": [
           {
            "marker": {
             "pattern": {
              "fillmode": "overlay",
              "size": 10,
              "solidity": 0.2
             }
            },
            "type": "histogram"
           }
          ],
          "histogram2d": [
           {
            "colorbar": {
             "outlinewidth": 0,
             "ticks": ""
            },
            "colorscale": [
             [
              0,
              "#0d0887"
             ],
             [
              0.1111111111111111,
              "#46039f"
             ],
             [
              0.2222222222222222,
              "#7201a8"
             ],
             [
              0.3333333333333333,
              "#9c179e"
             ],
             [
              0.4444444444444444,
              "#bd3786"
             ],
             [
              0.5555555555555556,
              "#d8576b"
             ],
             [
              0.6666666666666666,
              "#ed7953"
             ],
             [
              0.7777777777777778,
              "#fb9f3a"
             ],
             [
              0.8888888888888888,
              "#fdca26"
             ],
             [
              1,
              "#f0f921"
             ]
            ],
            "type": "histogram2d"
           }
          ],
          "histogram2dcontour": [
           {
            "colorbar": {
             "outlinewidth": 0,
             "ticks": ""
            },
            "colorscale": [
             [
              0,
              "#0d0887"
             ],
             [
              0.1111111111111111,
              "#46039f"
             ],
             [
              0.2222222222222222,
              "#7201a8"
             ],
             [
              0.3333333333333333,
              "#9c179e"
             ],
             [
              0.4444444444444444,
              "#bd3786"
             ],
             [
              0.5555555555555556,
              "#d8576b"
             ],
             [
              0.6666666666666666,
              "#ed7953"
             ],
             [
              0.7777777777777778,
              "#fb9f3a"
             ],
             [
              0.8888888888888888,
              "#fdca26"
             ],
             [
              1,
              "#f0f921"
             ]
            ],
            "type": "histogram2dcontour"
           }
          ],
          "mesh3d": [
           {
            "colorbar": {
             "outlinewidth": 0,
             "ticks": ""
            },
            "type": "mesh3d"
           }
          ],
          "parcoords": [
           {
            "line": {
             "colorbar": {
              "outlinewidth": 0,
              "ticks": ""
             }
            },
            "type": "parcoords"
           }
          ],
          "pie": [
           {
            "automargin": true,
            "type": "pie"
           }
          ],
          "scatter": [
           {
            "fillpattern": {
             "fillmode": "overlay",
             "size": 10,
             "solidity": 0.2
            },
            "type": "scatter"
           }
          ],
          "scatter3d": [
           {
            "line": {
             "colorbar": {
              "outlinewidth": 0,
              "ticks": ""
             }
            },
            "marker": {
             "colorbar": {
              "outlinewidth": 0,
              "ticks": ""
             }
            },
            "type": "scatter3d"
           }
          ],
          "scattercarpet": [
           {
            "marker": {
             "colorbar": {
              "outlinewidth": 0,
              "ticks": ""
             }
            },
            "type": "scattercarpet"
           }
          ],
          "scattergeo": [
           {
            "marker": {
             "colorbar": {
              "outlinewidth": 0,
              "ticks": ""
             }
            },
            "type": "scattergeo"
           }
          ],
          "scattergl": [
           {
            "marker": {
             "colorbar": {
              "outlinewidth": 0,
              "ticks": ""
             }
            },
            "type": "scattergl"
           }
          ],
          "scattermap": [
           {
            "marker": {
             "colorbar": {
              "outlinewidth": 0,
              "ticks": ""
             }
            },
            "type": "scattermap"
           }
          ],
          "scattermapbox": [
           {
            "marker": {
             "colorbar": {
              "outlinewidth": 0,
              "ticks": ""
             }
            },
            "type": "scattermapbox"
           }
          ],
          "scatterpolar": [
           {
            "marker": {
             "colorbar": {
              "outlinewidth": 0,
              "ticks": ""
             }
            },
            "type": "scatterpolar"
           }
          ],
          "scatterpolargl": [
           {
            "marker": {
             "colorbar": {
              "outlinewidth": 0,
              "ticks": ""
             }
            },
            "type": "scatterpolargl"
           }
          ],
          "scatterternary": [
           {
            "marker": {
             "colorbar": {
              "outlinewidth": 0,
              "ticks": ""
             }
            },
            "type": "scatterternary"
           }
          ],
          "surface": [
           {
            "colorbar": {
             "outlinewidth": 0,
             "ticks": ""
            },
            "colorscale": [
             [
              0,
              "#0d0887"
             ],
             [
              0.1111111111111111,
              "#46039f"
             ],
             [
              0.2222222222222222,
              "#7201a8"
             ],
             [
              0.3333333333333333,
              "#9c179e"
             ],
             [
              0.4444444444444444,
              "#bd3786"
             ],
             [
              0.5555555555555556,
              "#d8576b"
             ],
             [
              0.6666666666666666,
              "#ed7953"
             ],
             [
              0.7777777777777778,
              "#fb9f3a"
             ],
             [
              0.8888888888888888,
              "#fdca26"
             ],
             [
              1,
              "#f0f921"
             ]
            ],
            "type": "surface"
           }
          ],
          "table": [
           {
            "cells": {
             "fill": {
              "color": "#EBF0F8"
             },
             "line": {
              "color": "white"
             }
            },
            "header": {
             "fill": {
              "color": "#C8D4E3"
             },
             "line": {
              "color": "white"
             }
            },
            "type": "table"
           }
          ]
         },
         "layout": {
          "annotationdefaults": {
           "arrowcolor": "#2a3f5f",
           "arrowhead": 0,
           "arrowwidth": 1
          },
          "autotypenumbers": "strict",
          "coloraxis": {
           "colorbar": {
            "outlinewidth": 0,
            "ticks": ""
           }
          },
          "colorscale": {
           "diverging": [
            [
             0,
             "#8e0152"
            ],
            [
             0.1,
             "#c51b7d"
            ],
            [
             0.2,
             "#de77ae"
            ],
            [
             0.3,
             "#f1b6da"
            ],
            [
             0.4,
             "#fde0ef"
            ],
            [
             0.5,
             "#f7f7f7"
            ],
            [
             0.6,
             "#e6f5d0"
            ],
            [
             0.7,
             "#b8e186"
            ],
            [
             0.8,
             "#7fbc41"
            ],
            [
             0.9,
             "#4d9221"
            ],
            [
             1,
             "#276419"
            ]
           ],
           "sequential": [
            [
             0,
             "#0d0887"
            ],
            [
             0.1111111111111111,
             "#46039f"
            ],
            [
             0.2222222222222222,
             "#7201a8"
            ],
            [
             0.3333333333333333,
             "#9c179e"
            ],
            [
             0.4444444444444444,
             "#bd3786"
            ],
            [
             0.5555555555555556,
             "#d8576b"
            ],
            [
             0.6666666666666666,
             "#ed7953"
            ],
            [
             0.7777777777777778,
             "#fb9f3a"
            ],
            [
             0.8888888888888888,
             "#fdca26"
            ],
            [
             1,
             "#f0f921"
            ]
           ],
           "sequentialminus": [
            [
             0,
             "#0d0887"
            ],
            [
             0.1111111111111111,
             "#46039f"
            ],
            [
             0.2222222222222222,
             "#7201a8"
            ],
            [
             0.3333333333333333,
             "#9c179e"
            ],
            [
             0.4444444444444444,
             "#bd3786"
            ],
            [
             0.5555555555555556,
             "#d8576b"
            ],
            [
             0.6666666666666666,
             "#ed7953"
            ],
            [
             0.7777777777777778,
             "#fb9f3a"
            ],
            [
             0.8888888888888888,
             "#fdca26"
            ],
            [
             1,
             "#f0f921"
            ]
           ]
          },
          "colorway": [
           "#636efa",
           "#EF553B",
           "#00cc96",
           "#ab63fa",
           "#FFA15A",
           "#19d3f3",
           "#FF6692",
           "#B6E880",
           "#FF97FF",
           "#FECB52"
          ],
          "font": {
           "color": "#2a3f5f"
          },
          "geo": {
           "bgcolor": "white",
           "lakecolor": "white",
           "landcolor": "#E5ECF6",
           "showlakes": true,
           "showland": true,
           "subunitcolor": "white"
          },
          "hoverlabel": {
           "align": "left"
          },
          "hovermode": "closest",
          "mapbox": {
           "style": "light"
          },
          "paper_bgcolor": "white",
          "plot_bgcolor": "#E5ECF6",
          "polar": {
           "angularaxis": {
            "gridcolor": "white",
            "linecolor": "white",
            "ticks": ""
           },
           "bgcolor": "#E5ECF6",
           "radialaxis": {
            "gridcolor": "white",
            "linecolor": "white",
            "ticks": ""
           }
          },
          "scene": {
           "xaxis": {
            "backgroundcolor": "#E5ECF6",
            "gridcolor": "white",
            "gridwidth": 2,
            "linecolor": "white",
            "showbackground": true,
            "ticks": "",
            "zerolinecolor": "white"
           },
           "yaxis": {
            "backgroundcolor": "#E5ECF6",
            "gridcolor": "white",
            "gridwidth": 2,
            "linecolor": "white",
            "showbackground": true,
            "ticks": "",
            "zerolinecolor": "white"
           },
           "zaxis": {
            "backgroundcolor": "#E5ECF6",
            "gridcolor": "white",
            "gridwidth": 2,
            "linecolor": "white",
            "showbackground": true,
            "ticks": "",
            "zerolinecolor": "white"
           }
          },
          "shapedefaults": {
           "line": {
            "color": "#2a3f5f"
           }
          },
          "ternary": {
           "aaxis": {
            "gridcolor": "white",
            "linecolor": "white",
            "ticks": ""
           },
           "baxis": {
            "gridcolor": "white",
            "linecolor": "white",
            "ticks": ""
           },
           "bgcolor": "#E5ECF6",
           "caxis": {
            "gridcolor": "white",
            "linecolor": "white",
            "ticks": ""
           }
          },
          "title": {
           "x": 0.05
          },
          "xaxis": {
           "automargin": true,
           "gridcolor": "white",
           "linecolor": "white",
           "ticks": "",
           "title": {
            "standoff": 15
           },
           "zerolinecolor": "white",
           "zerolinewidth": 2
          },
          "yaxis": {
           "automargin": true,
           "gridcolor": "white",
           "linecolor": "white",
           "ticks": "",
           "title": {
            "standoff": 15
           },
           "zerolinecolor": "white",
           "zerolinewidth": 2
          }
         }
        },
        "title": {
         "text": "adobe-mu1gamma1"
        },
        "width": 800,
        "xaxis": {
         "range": [
          0,
          227.73302
         ],
         "title": {
          "text": "Time (s)"
         }
        }
       }
      }
     },
     "metadata": {},
     "output_type": "display_data"
    }
   ],
   "source": [
    "est.to_contour().plot()"
   ]
  },
  {
   "cell_type": "code",
   "execution_count": 8,
   "metadata": {},
   "outputs": [
    {
     "data": {
      "application/vnd.plotly.v1+json": {
       "config": {
        "plotlyServerURL": "https://plot.ly"
       },
       "data": [
        {
         "base": [
          0,
          59.83,
          176.84,
          60.84,
          180.85,
          60.84,
          183.89,
          60.33,
          101.17,
          143.54,
          60.33,
          102.68,
          60.33,
          102.68,
          59.83,
          102.18,
          59.83,
          101.69,
          59.83,
          102.68,
          59.83,
          102.68,
          59.83,
          102.68
         ],
         "customdata": [
          "<b>0</b><br>Layer: L01<br>Start: 0.000s<br>End: 227.733s<br>Duration: 227.733s",
          "<b>0</b><br>Layer: L02<br>Start: 59.830s<br>End: 161.190s<br>Duration: 101.360s",
          "<b>0</b><br>Layer: L02<br>Start: 176.840s<br>End: 209.630s<br>Duration: 32.790s",
          "<b>0</b><br>Layer: L03<br>Start: 60.840s<br>End: 159.700s<br>Duration: 98.860s",
          "<b>0</b><br>Layer: L03<br>Start: 180.850s<br>End: 209.630s<br>Duration: 28.780s",
          "<b>0</b><br>Layer: L04<br>Start: 60.840s<br>End: 159.700s<br>Duration: 98.860s",
          "<b>0</b><br>Layer: L04<br>Start: 183.890s<br>End: 209.630s<br>Duration: 25.740s",
          "<b>0</b><br>Layer: L05<br>Start: 60.330s<br>End: 89.580s<br>Duration: 29.250s",
          "<b>0</b><br>Layer: L05<br>Start: 101.170s<br>End: 129.420s<br>Duration: 28.250s",
          "<b>0</b><br>Layer: L05<br>Start: 143.540s<br>End: 159.700s<br>Duration: 16.160s",
          "<b>0</b><br>Layer: L06<br>Start: 60.330s<br>End: 88.060s<br>Duration: 27.730s",
          "<b>0</b><br>Layer: L06<br>Start: 102.680s<br>End: 135.980s<br>Duration: 33.300s",
          "<b>0</b><br>Layer: L07<br>Start: 60.330s<br>End: 88.060s<br>Duration: 27.730s",
          "<b>0</b><br>Layer: L07<br>Start: 102.680s<br>End: 135.980s<br>Duration: 33.300s",
          "<b>0</b><br>Layer: L08<br>Start: 59.830s<br>End: 86.550s<br>Duration: 26.720s",
          "<b>0</b><br>Layer: L08<br>Start: 102.180s<br>End: 126.390s<br>Duration: 24.210s",
          "<b>0</b><br>Layer: L09<br>Start: 59.830s<br>End: 77.970s<br>Duration: 18.140s",
          "<b>0</b><br>Layer: L09<br>Start: 101.690s<br>End: 127.920s<br>Duration: 26.230s",
          "<b>0</b><br>Layer: L10<br>Start: 59.830s<br>End: 78.470s<br>Duration: 18.640s",
          "<b>0</b><br>Layer: L10<br>Start: 102.680s<br>End: 118.820s<br>Duration: 16.140s",
          "<b>0</b><br>Layer: L11<br>Start: 59.830s<br>End: 86.550s<br>Duration: 26.720s",
          "<b>0</b><br>Layer: L11<br>Start: 102.680s<br>End: 118.320s<br>Duration: 15.640s",
          "<b>0</b><br>Layer: L12<br>Start: 59.830s<br>End: 78.980s<br>Duration: 19.150s",
          "<b>0</b><br>Layer: L12<br>Start: 102.680s<br>End: 118.820s<br>Duration: 16.140s"
         ],
         "hovertemplate": "%{customdata}<extra></extra>",
         "insidetextanchor": "middle",
         "marker": {
          "color": "#1F77B4",
          "line": {
           "color": "white",
           "width": 0.5
          },
          "pattern": {
           "fgcolor": "white",
           "fgopacity": 0.5,
           "shape": "",
           "solidity": 0.25
          }
         },
         "name": "0",
         "orientation": "h",
         "showlegend": true,
         "text": [
          "0",
          "0",
          "0",
          "0",
          "0",
          "0",
          "0",
          "0",
          "0",
          "0",
          "0",
          "0",
          "0",
          "0",
          "0",
          "0",
          "0",
          "0",
          "0",
          "0",
          "0",
          "0",
          "0",
          "0"
         ],
         "textposition": "inside",
         "type": "bar",
         "width": 1,
         "x": [
          227.73302,
          101.36,
          32.78999999999999,
          98.85999999999999,
          28.78,
          98.85999999999999,
          25.74000000000001,
          29.25,
          28.249999999999986,
          16.159999999999997,
          27.730000000000004,
          33.29999999999998,
          27.730000000000004,
          33.29999999999998,
          26.72,
          24.209999999999994,
          18.14,
          26.230000000000004,
          18.64,
          16.139999999999986,
          26.72,
          15.639999999999986,
          19.150000000000006,
          16.139999999999986
         ],
         "y": [
          "L01",
          "L02",
          "L02",
          "L03",
          "L03",
          "L04",
          "L04",
          "L05",
          "L05",
          "L05",
          "L06",
          "L06",
          "L07",
          "L07",
          "L08",
          "L08",
          "L09",
          "L09",
          "L10",
          "L10",
          "L11",
          "L11",
          "L12",
          "L12"
         ]
        },
        {
         "base": [
          0,
          161.19,
          209.63,
          0,
          209.63,
          0,
          209.63,
          0,
          211.8,
          0,
          211.26,
          0,
          0,
          0,
          0,
          0,
          0
         ],
         "customdata": [
          "<b>1</b><br>Layer: L02<br>Start: 0.000s<br>End: 59.830s<br>Duration: 59.830s",
          "<b>1</b><br>Layer: L02<br>Start: 161.190s<br>End: 176.840s<br>Duration: 15.650s",
          "<b>1</b><br>Layer: L02<br>Start: 209.630s<br>End: 227.733s<br>Duration: 18.103s",
          "<b>1</b><br>Layer: L03<br>Start: 0.000s<br>End: 34.110s<br>Duration: 34.110s",
          "<b>1</b><br>Layer: L03<br>Start: 209.630s<br>End: 227.733s<br>Duration: 18.103s",
          "<b>1</b><br>Layer: L04<br>Start: 0.000s<br>End: 34.110s<br>Duration: 34.110s",
          "<b>1</b><br>Layer: L04<br>Start: 209.630s<br>End: 227.733s<br>Duration: 18.103s",
          "<b>1</b><br>Layer: L05<br>Start: 0.000s<br>End: 34.110s<br>Duration: 34.110s",
          "<b>1</b><br>Layer: L05<br>Start: 211.800s<br>End: 227.733s<br>Duration: 15.933s",
          "<b>1</b><br>Layer: L06<br>Start: 0.000s<br>End: 34.110s<br>Duration: 34.110s",
          "<b>1</b><br>Layer: L06<br>Start: 211.260s<br>End: 227.733s<br>Duration: 16.473s",
          "<b>1</b><br>Layer: L07<br>Start: 0.000s<br>End: 34.110s<br>Duration: 34.110s",
          "<b>1</b><br>Layer: L08<br>Start: 0.000s<br>End: 34.110s<br>Duration: 34.110s",
          "<b>1</b><br>Layer: L09<br>Start: 0.000s<br>End: 34.110s<br>Duration: 34.110s",
          "<b>1</b><br>Layer: L10<br>Start: 0.000s<br>End: 34.110s<br>Duration: 34.110s",
          "<b>1</b><br>Layer: L11<br>Start: 0.000s<br>End: 34.110s<br>Duration: 34.110s",
          "<b>1</b><br>Layer: L12<br>Start: 0.000s<br>End: 34.110s<br>Duration: 34.110s"
         ],
         "hovertemplate": "%{customdata}<extra></extra>",
         "insidetextanchor": "middle",
         "marker": {
          "color": "#FF7F0E",
          "line": {
           "color": "white",
           "width": 0.5
          },
          "pattern": {
           "fgcolor": "white",
           "fgopacity": 0.5,
           "shape": "",
           "solidity": 0.25
          }
         },
         "name": "1",
         "orientation": "h",
         "showlegend": true,
         "text": [
          "1",
          "1",
          "1",
          "1",
          "1",
          "1",
          "1",
          "1",
          "1",
          "1",
          "1",
          "1",
          "1",
          "1",
          "1",
          "1",
          "1"
         ],
         "textposition": "inside",
         "type": "bar",
         "width": 1,
         "x": [
          59.83,
          15.650000000000006,
          18.103020000000015,
          34.11,
          18.103020000000015,
          34.11,
          18.103020000000015,
          34.11,
          15.933019999999999,
          34.11,
          16.47302000000002,
          34.11,
          34.11,
          34.11,
          34.11,
          34.11,
          34.11
         ],
         "y": [
          "L02",
          "L02",
          "L02",
          "L03",
          "L03",
          "L04",
          "L04",
          "L05",
          "L05",
          "L06",
          "L06",
          "L07",
          "L08",
          "L09",
          "L10",
          "L11",
          "L12"
         ]
        },
        {
         "base": [
          34.11,
          159.7,
          34.11,
          159.7,
          34.11,
          159.7,
          34.11,
          161.19,
          34.11,
          161.19,
          34.11,
          161.68,
          34.11,
          161.68,
          34.11,
          162.19,
          34.11,
          162.71,
          34.11,
          162.71
         ],
         "customdata": [
          "<b>2</b><br>Layer: L03<br>Start: 34.110s<br>End: 60.840s<br>Duration: 26.730s",
          "<b>2</b><br>Layer: L03<br>Start: 159.700s<br>End: 180.850s<br>Duration: 21.150s",
          "<b>2</b><br>Layer: L04<br>Start: 34.110s<br>End: 60.840s<br>Duration: 26.730s",
          "<b>2</b><br>Layer: L04<br>Start: 159.700s<br>End: 175.320s<br>Duration: 15.620s",
          "<b>2</b><br>Layer: L05<br>Start: 34.110s<br>End: 60.330s<br>Duration: 26.220s",
          "<b>2</b><br>Layer: L05<br>Start: 159.700s<br>End: 175.320s<br>Duration: 15.620s",
          "<b>2</b><br>Layer: L06<br>Start: 34.110s<br>End: 60.330s<br>Duration: 26.220s",
          "<b>2</b><br>Layer: L06<br>Start: 161.190s<br>End: 175.320s<br>Duration: 14.130s",
          "<b>2</b><br>Layer: L07<br>Start: 34.110s<br>End: 60.330s<br>Duration: 26.220s",
          "<b>2</b><br>Layer: L07<br>Start: 161.190s<br>End: 175.320s<br>Duration: 14.130s",
          "<b>2</b><br>Layer: L08<br>Start: 34.110s<br>End: 59.830s<br>Duration: 25.720s",
          "<b>2</b><br>Layer: L08<br>Start: 161.680s<br>End: 175.320s<br>Duration: 13.640s",
          "<b>2</b><br>Layer: L09<br>Start: 34.110s<br>End: 59.830s<br>Duration: 25.720s",
          "<b>2</b><br>Layer: L09<br>Start: 161.680s<br>End: 182.880s<br>Duration: 21.200s",
          "<b>2</b><br>Layer: L10<br>Start: 34.110s<br>End: 59.830s<br>Duration: 25.720s",
          "<b>2</b><br>Layer: L10<br>Start: 162.190s<br>End: 175.320s<br>Duration: 13.130s",
          "<b>2</b><br>Layer: L11<br>Start: 34.110s<br>End: 59.830s<br>Duration: 25.720s",
          "<b>2</b><br>Layer: L11<br>Start: 162.710s<br>End: 175.320s<br>Duration: 12.610s",
          "<b>2</b><br>Layer: L12<br>Start: 34.110s<br>End: 59.830s<br>Duration: 25.720s",
          "<b>2</b><br>Layer: L12<br>Start: 162.710s<br>End: 175.320s<br>Duration: 12.610s"
         ],
         "hovertemplate": "%{customdata}<extra></extra>",
         "insidetextanchor": "middle",
         "marker": {
          "color": "#2CA02C",
          "line": {
           "color": "white",
           "width": 0.5
          },
          "pattern": {
           "fgcolor": "white",
           "fgopacity": 0.5,
           "shape": "",
           "solidity": 0.25
          }
         },
         "name": "2",
         "orientation": "h",
         "showlegend": true,
         "text": [
          "2",
          "2",
          "2",
          "2",
          "2",
          "2",
          "2",
          "2",
          "2",
          "2",
          "2",
          "2",
          "2",
          "2",
          "2",
          "2",
          "2",
          "2",
          "2",
          "2"
         ],
         "textposition": "inside",
         "type": "bar",
         "width": 1,
         "x": [
          26.730000000000004,
          21.150000000000006,
          26.730000000000004,
          15.620000000000005,
          26.22,
          15.620000000000005,
          26.22,
          14.129999999999995,
          26.22,
          14.129999999999995,
          25.72,
          13.639999999999986,
          25.72,
          21.19999999999999,
          25.72,
          13.129999999999995,
          25.72,
          12.609999999999985,
          25.72,
          12.609999999999985
         ],
         "y": [
          "L03",
          "L03",
          "L04",
          "L04",
          "L05",
          "L05",
          "L06",
          "L06",
          "L07",
          "L07",
          "L08",
          "L08",
          "L09",
          "L09",
          "L10",
          "L10",
          "L11",
          "L11",
          "L12",
          "L12"
         ]
        },
        {
         "base": [
          175.32,
          175.32,
          175.32,
          175.32,
          175.32,
          175.32,
          175.32
         ],
         "customdata": [
          "<b>3</b><br>Layer: L04<br>Start: 175.320s<br>End: 183.890s<br>Duration: 8.570s",
          "<b>3</b><br>Layer: L05<br>Start: 175.320s<br>End: 185.910s<br>Duration: 10.590s",
          "<b>3</b><br>Layer: L06<br>Start: 175.320s<br>End: 184.900s<br>Duration: 9.580s",
          "<b>3</b><br>Layer: L07<br>Start: 175.320s<br>End: 184.900s<br>Duration: 9.580s",
          "<b>3</b><br>Layer: L08<br>Start: 175.320s<br>End: 183.370s<br>Duration: 8.050s",
          "<b>3</b><br>Layer: L10<br>Start: 175.320s<br>End: 183.370s<br>Duration: 8.050s",
          "<b>3</b><br>Layer: L11<br>Start: 175.320s<br>End: 184.900s<br>Duration: 9.580s"
         ],
         "hovertemplate": "%{customdata}<extra></extra>",
         "insidetextanchor": "middle",
         "marker": {
          "color": "#D62728",
          "line": {
           "color": "white",
           "width": 0.5
          },
          "pattern": {
           "fgcolor": "white",
           "fgopacity": 0.5,
           "shape": "",
           "solidity": 0.25
          }
         },
         "name": "3",
         "orientation": "h",
         "showlegend": true,
         "text": [
          "3",
          "3",
          "3",
          "3",
          "3",
          "3",
          "3"
         ],
         "textposition": "inside",
         "type": "bar",
         "width": 1,
         "x": [
          8.569999999999993,
          10.590000000000003,
          9.580000000000013,
          9.580000000000013,
          8.050000000000011,
          8.050000000000011,
          9.580000000000013
         ],
         "y": [
          "L04",
          "L05",
          "L06",
          "L07",
          "L08",
          "L10",
          "L11"
         ]
        },
        {
         "base": [
          89.58,
          129.42,
          185.91,
          88.06,
          184.9,
          88.06,
          184.9,
          86.55,
          126.39,
          183.37,
          87.56,
          127.92,
          182.88,
          87.05,
          183.37,
          86.55,
          184.9,
          87.05,
          183.37
         ],
         "customdata": [
          "<b>4</b><br>Layer: L05<br>Start: 89.580s<br>End: 101.170s<br>Duration: 11.590s",
          "<b>4</b><br>Layer: L05<br>Start: 129.420s<br>End: 143.540s<br>Duration: 14.120s",
          "<b>4</b><br>Layer: L05<br>Start: 185.910s<br>End: 211.800s<br>Duration: 25.890s",
          "<b>4</b><br>Layer: L06<br>Start: 88.060s<br>End: 102.680s<br>Duration: 14.620s",
          "<b>4</b><br>Layer: L06<br>Start: 184.900s<br>End: 211.260s<br>Duration: 26.360s",
          "<b>4</b><br>Layer: L07<br>Start: 88.060s<br>End: 102.680s<br>Duration: 14.620s",
          "<b>4</b><br>Layer: L07<br>Start: 184.900s<br>End: 207.590s<br>Duration: 22.690s",
          "<b>4</b><br>Layer: L08<br>Start: 86.550s<br>End: 102.180s<br>Duration: 15.630s",
          "<b>4</b><br>Layer: L08<br>Start: 126.390s<br>End: 137.990s<br>Duration: 11.600s",
          "<b>4</b><br>Layer: L08<br>Start: 183.370s<br>End: 208.600s<br>Duration: 25.230s",
          "<b>4</b><br>Layer: L09<br>Start: 87.560s<br>End: 101.690s<br>Duration: 14.130s",
          "<b>4</b><br>Layer: L09<br>Start: 127.920s<br>End: 137.990s<br>Duration: 10.070s",
          "<b>4</b><br>Layer: L09<br>Start: 182.880s<br>End: 208.600s<br>Duration: 25.720s",
          "<b>4</b><br>Layer: L10<br>Start: 87.050s<br>End: 102.680s<br>Duration: 15.630s",
          "<b>4</b><br>Layer: L10<br>Start: 183.370s<br>End: 208.600s<br>Duration: 25.230s",
          "<b>4</b><br>Layer: L11<br>Start: 86.550s<br>End: 102.680s<br>Duration: 16.130s",
          "<b>4</b><br>Layer: L11<br>Start: 184.900s<br>End: 208.600s<br>Duration: 23.700s",
          "<b>4</b><br>Layer: L12<br>Start: 87.050s<br>End: 102.680s<br>Duration: 15.630s",
          "<b>4</b><br>Layer: L12<br>Start: 183.370s<br>End: 206.580s<br>Duration: 23.210s"
         ],
         "hovertemplate": "%{customdata}<extra></extra>",
         "insidetextanchor": "middle",
         "marker": {
          "color": "#9467BD",
          "line": {
           "color": "white",
           "width": 0.5
          },
          "pattern": {
           "fgcolor": "white",
           "fgopacity": 0.5,
           "shape": "",
           "solidity": 0.25
          }
         },
         "name": "4",
         "orientation": "h",
         "showlegend": true,
         "text": [
          "4",
          "4",
          "4",
          "4",
          "4",
          "4",
          "4",
          "4",
          "4",
          "4",
          "4",
          "4",
          "4",
          "4",
          "4",
          "4",
          "4",
          "4",
          "4"
         ],
         "textposition": "inside",
         "type": "bar",
         "width": 1,
         "x": [
          11.590000000000003,
          14.120000000000005,
          25.890000000000015,
          14.620000000000005,
          26.359999999999985,
          14.620000000000005,
          22.689999999999998,
          15.63000000000001,
          11.600000000000009,
          25.22999999999999,
          14.129999999999995,
          10.070000000000007,
          25.72,
          15.63000000000001,
          25.22999999999999,
          16.13000000000001,
          23.69999999999999,
          15.63000000000001,
          23.210000000000008
         ],
         "y": [
          "L05",
          "L05",
          "L05",
          "L06",
          "L06",
          "L07",
          "L07",
          "L08",
          "L08",
          "L08",
          "L09",
          "L09",
          "L09",
          "L10",
          "L10",
          "L11",
          "L11",
          "L12",
          "L12"
         ]
        },
        {
         "base": [
          135.98,
          135.98,
          137.99,
          137.99,
          147.58,
          135.98,
          132.44
         ],
         "customdata": [
          "<b>5</b><br>Layer: L06<br>Start: 135.980s<br>End: 161.190s<br>Duration: 25.210s",
          "<b>5</b><br>Layer: L07<br>Start: 135.980s<br>End: 161.190s<br>Duration: 25.210s",
          "<b>5</b><br>Layer: L08<br>Start: 137.990s<br>End: 161.680s<br>Duration: 23.690s",
          "<b>5</b><br>Layer: L09<br>Start: 137.990s<br>End: 161.680s<br>Duration: 23.690s",
          "<b>5</b><br>Layer: L10<br>Start: 147.580s<br>End: 162.190s<br>Duration: 14.610s",
          "<b>5</b><br>Layer: L11<br>Start: 135.980s<br>End: 162.710s<br>Duration: 26.730s",
          "<b>5</b><br>Layer: L12<br>Start: 132.440s<br>End: 162.710s<br>Duration: 30.270s"
         ],
         "hovertemplate": "%{customdata}<extra></extra>",
         "insidetextanchor": "middle",
         "marker": {
          "color": "#8C564B",
          "line": {
           "color": "white",
           "width": 0.5
          },
          "pattern": {
           "fgcolor": "white",
           "fgopacity": 0.5,
           "shape": "",
           "solidity": 0.25
          }
         },
         "name": "5",
         "orientation": "h",
         "showlegend": true,
         "text": [
          "5",
          "5",
          "5",
          "5",
          "5",
          "5",
          "5"
         ],
         "textposition": "inside",
         "type": "bar",
         "width": 1,
         "x": [
          25.210000000000008,
          25.210000000000008,
          23.689999999999998,
          23.689999999999998,
          14.609999999999985,
          26.730000000000018,
          30.27000000000001
         ],
         "y": [
          "L06",
          "L07",
          "L08",
          "L09",
          "L10",
          "L11",
          "L12"
         ]
        },
        {
         "base": [
          207.59,
          208.6,
          208.6,
          208.6,
          208.6,
          206.58
         ],
         "customdata": [
          "<b>6</b><br>Layer: L07<br>Start: 207.590s<br>End: 227.733s<br>Duration: 20.143s",
          "<b>6</b><br>Layer: L08<br>Start: 208.600s<br>End: 227.733s<br>Duration: 19.133s",
          "<b>6</b><br>Layer: L09<br>Start: 208.600s<br>End: 227.733s<br>Duration: 19.133s",
          "<b>6</b><br>Layer: L10<br>Start: 208.600s<br>End: 227.733s<br>Duration: 19.133s",
          "<b>6</b><br>Layer: L11<br>Start: 208.600s<br>End: 227.733s<br>Duration: 19.133s",
          "<b>6</b><br>Layer: L12<br>Start: 206.580s<br>End: 227.733s<br>Duration: 21.153s"
         ],
         "hovertemplate": "%{customdata}<extra></extra>",
         "insidetextanchor": "middle",
         "marker": {
          "color": "#E377C2",
          "line": {
           "color": "white",
           "width": 0.5
          },
          "pattern": {
           "fgcolor": "white",
           "fgopacity": 0.5,
           "shape": "",
           "solidity": 0.25
          }
         },
         "name": "6",
         "orientation": "h",
         "showlegend": true,
         "text": [
          "6",
          "6",
          "6",
          "6",
          "6",
          "6"
         ],
         "textposition": "inside",
         "type": "bar",
         "width": 1,
         "x": [
          20.143020000000007,
          19.133020000000016,
          19.133020000000016,
          19.133020000000016,
          19.133020000000016,
          21.153019999999998
         ],
         "y": [
          "L07",
          "L08",
          "L09",
          "L10",
          "L11",
          "L12"
         ]
        },
        {
         "base": [
          77.97,
          78.47,
          118.32,
          78.98
         ],
         "customdata": [
          "<b>8</b><br>Layer: L09<br>Start: 77.970s<br>End: 87.560s<br>Duration: 9.590s",
          "<b>8</b><br>Layer: L10<br>Start: 78.470s<br>End: 87.050s<br>Duration: 8.580s",
          "<b>8</b><br>Layer: L11<br>Start: 118.320s<br>End: 135.980s<br>Duration: 17.660s",
          "<b>8</b><br>Layer: L12<br>Start: 78.980s<br>End: 87.050s<br>Duration: 8.070s"
         ],
         "hovertemplate": "%{customdata}<extra></extra>",
         "insidetextanchor": "middle",
         "marker": {
          "color": "#7F7F7F",
          "line": {
           "color": "white",
           "width": 0.5
          },
          "pattern": {
           "fgcolor": "white",
           "fgopacity": 0.5,
           "shape": "",
           "solidity": 0.25
          }
         },
         "name": "8",
         "orientation": "h",
         "showlegend": true,
         "text": [
          "8",
          "8",
          "8",
          "8"
         ],
         "textposition": "inside",
         "type": "bar",
         "width": 1,
         "x": [
          9.590000000000003,
          8.579999999999998,
          17.659999999999997,
          8.069999999999993
         ],
         "y": [
          "L09",
          "L10",
          "L11",
          "L12"
         ]
        },
        {
         "base": [
          118.82,
          118.82
         ],
         "customdata": [
          "<b>7</b><br>Layer: L10<br>Start: 118.820s<br>End: 132.440s<br>Duration: 13.620s",
          "<b>7</b><br>Layer: L12<br>Start: 118.820s<br>End: 132.440s<br>Duration: 13.620s"
         ],
         "hovertemplate": "%{customdata}<extra></extra>",
         "insidetextanchor": "middle",
         "marker": {
          "color": "#BCBD22",
          "line": {
           "color": "white",
           "width": 0.5
          },
          "pattern": {
           "fgcolor": "white",
           "fgopacity": 0.5,
           "shape": "",
           "solidity": 0.25
          }
         },
         "name": "7",
         "orientation": "h",
         "showlegend": true,
         "text": [
          "7",
          "7"
         ],
         "textposition": "inside",
         "type": "bar",
         "width": 1,
         "x": [
          13.620000000000005,
          13.620000000000005
         ],
         "y": [
          "L10",
          "L12"
         ]
        },
        {
         "base": [
          132.44
         ],
         "customdata": [
          "<b>9</b><br>Layer: L10<br>Start: 132.440s<br>End: 147.580s<br>Duration: 15.140s"
         ],
         "hovertemplate": "%{customdata}<extra></extra>",
         "insidetextanchor": "middle",
         "marker": {
          "color": "#17BECF",
          "line": {
           "color": "white",
           "width": 0.5
          },
          "pattern": {
           "fgcolor": "white",
           "fgopacity": 0.5,
           "shape": "",
           "solidity": 0.25
          }
         },
         "name": "9",
         "orientation": "h",
         "showlegend": true,
         "text": [
          "9"
         ],
         "textposition": "inside",
         "type": "bar",
         "width": 1,
         "x": [
          15.140000000000015
         ],
         "y": [
          "L10"
         ]
        },
        {
         "base": [
          175.32
         ],
         "customdata": [
          "<b>10</b><br>Layer: L12<br>Start: 175.320s<br>End: 183.370s<br>Duration: 8.050s"
         ],
         "hovertemplate": "%{customdata}<extra></extra>",
         "insidetextanchor": "middle",
         "marker": {
          "color": "#1F77B4",
          "line": {
           "color": "white",
           "width": 0.5
          },
          "pattern": {
           "fgcolor": "white",
           "fgopacity": 0.5,
           "shape": ".",
           "solidity": 0.25
          }
         },
         "name": "10",
         "orientation": "h",
         "showlegend": true,
         "text": [
          "10"
         ],
         "textposition": "inside",
         "type": "bar",
         "width": 1,
         "x": [
          8.050000000000011
         ],
         "y": [
          "L12"
         ]
        }
       ],
       "layout": {
        "barmode": "overlay",
        "height": 370,
        "margin": {
         "b": 20,
         "l": 20,
         "r": 20,
         "t": 40
        },
        "showlegend": true,
        "template": {
         "data": {
          "bar": [
           {
            "error_x": {
             "color": "#2a3f5f"
            },
            "error_y": {
             "color": "#2a3f5f"
            },
            "marker": {
             "line": {
              "color": "#E5ECF6",
              "width": 0.5
             },
             "pattern": {
              "fillmode": "overlay",
              "size": 10,
              "solidity": 0.2
             }
            },
            "type": "bar"
           }
          ],
          "barpolar": [
           {
            "marker": {
             "line": {
              "color": "#E5ECF6",
              "width": 0.5
             },
             "pattern": {
              "fillmode": "overlay",
              "size": 10,
              "solidity": 0.2
             }
            },
            "type": "barpolar"
           }
          ],
          "carpet": [
           {
            "aaxis": {
             "endlinecolor": "#2a3f5f",
             "gridcolor": "white",
             "linecolor": "white",
             "minorgridcolor": "white",
             "startlinecolor": "#2a3f5f"
            },
            "baxis": {
             "endlinecolor": "#2a3f5f",
             "gridcolor": "white",
             "linecolor": "white",
             "minorgridcolor": "white",
             "startlinecolor": "#2a3f5f"
            },
            "type": "carpet"
           }
          ],
          "choropleth": [
           {
            "colorbar": {
             "outlinewidth": 0,
             "ticks": ""
            },
            "type": "choropleth"
           }
          ],
          "contour": [
           {
            "colorbar": {
             "outlinewidth": 0,
             "ticks": ""
            },
            "colorscale": [
             [
              0,
              "#0d0887"
             ],
             [
              0.1111111111111111,
              "#46039f"
             ],
             [
              0.2222222222222222,
              "#7201a8"
             ],
             [
              0.3333333333333333,
              "#9c179e"
             ],
             [
              0.4444444444444444,
              "#bd3786"
             ],
             [
              0.5555555555555556,
              "#d8576b"
             ],
             [
              0.6666666666666666,
              "#ed7953"
             ],
             [
              0.7777777777777778,
              "#fb9f3a"
             ],
             [
              0.8888888888888888,
              "#fdca26"
             ],
             [
              1,
              "#f0f921"
             ]
            ],
            "type": "contour"
           }
          ],
          "contourcarpet": [
           {
            "colorbar": {
             "outlinewidth": 0,
             "ticks": ""
            },
            "type": "contourcarpet"
           }
          ],
          "heatmap": [
           {
            "colorbar": {
             "outlinewidth": 0,
             "ticks": ""
            },
            "colorscale": [
             [
              0,
              "#0d0887"
             ],
             [
              0.1111111111111111,
              "#46039f"
             ],
             [
              0.2222222222222222,
              "#7201a8"
             ],
             [
              0.3333333333333333,
              "#9c179e"
             ],
             [
              0.4444444444444444,
              "#bd3786"
             ],
             [
              0.5555555555555556,
              "#d8576b"
             ],
             [
              0.6666666666666666,
              "#ed7953"
             ],
             [
              0.7777777777777778,
              "#fb9f3a"
             ],
             [
              0.8888888888888888,
              "#fdca26"
             ],
             [
              1,
              "#f0f921"
             ]
            ],
            "type": "heatmap"
           }
          ],
          "histogram": [
           {
            "marker": {
             "pattern": {
              "fillmode": "overlay",
              "size": 10,
              "solidity": 0.2
             }
            },
            "type": "histogram"
           }
          ],
          "histogram2d": [
           {
            "colorbar": {
             "outlinewidth": 0,
             "ticks": ""
            },
            "colorscale": [
             [
              0,
              "#0d0887"
             ],
             [
              0.1111111111111111,
              "#46039f"
             ],
             [
              0.2222222222222222,
              "#7201a8"
             ],
             [
              0.3333333333333333,
              "#9c179e"
             ],
             [
              0.4444444444444444,
              "#bd3786"
             ],
             [
              0.5555555555555556,
              "#d8576b"
             ],
             [
              0.6666666666666666,
              "#ed7953"
             ],
             [
              0.7777777777777778,
              "#fb9f3a"
             ],
             [
              0.8888888888888888,
              "#fdca26"
             ],
             [
              1,
              "#f0f921"
             ]
            ],
            "type": "histogram2d"
           }
          ],
          "histogram2dcontour": [
           {
            "colorbar": {
             "outlinewidth": 0,
             "ticks": ""
            },
            "colorscale": [
             [
              0,
              "#0d0887"
             ],
             [
              0.1111111111111111,
              "#46039f"
             ],
             [
              0.2222222222222222,
              "#7201a8"
             ],
             [
              0.3333333333333333,
              "#9c179e"
             ],
             [
              0.4444444444444444,
              "#bd3786"
             ],
             [
              0.5555555555555556,
              "#d8576b"
             ],
             [
              0.6666666666666666,
              "#ed7953"
             ],
             [
              0.7777777777777778,
              "#fb9f3a"
             ],
             [
              0.8888888888888888,
              "#fdca26"
             ],
             [
              1,
              "#f0f921"
             ]
            ],
            "type": "histogram2dcontour"
           }
          ],
          "mesh3d": [
           {
            "colorbar": {
             "outlinewidth": 0,
             "ticks": ""
            },
            "type": "mesh3d"
           }
          ],
          "parcoords": [
           {
            "line": {
             "colorbar": {
              "outlinewidth": 0,
              "ticks": ""
             }
            },
            "type": "parcoords"
           }
          ],
          "pie": [
           {
            "automargin": true,
            "type": "pie"
           }
          ],
          "scatter": [
           {
            "fillpattern": {
             "fillmode": "overlay",
             "size": 10,
             "solidity": 0.2
            },
            "type": "scatter"
           }
          ],
          "scatter3d": [
           {
            "line": {
             "colorbar": {
              "outlinewidth": 0,
              "ticks": ""
             }
            },
            "marker": {
             "colorbar": {
              "outlinewidth": 0,
              "ticks": ""
             }
            },
            "type": "scatter3d"
           }
          ],
          "scattercarpet": [
           {
            "marker": {
             "colorbar": {
              "outlinewidth": 0,
              "ticks": ""
             }
            },
            "type": "scattercarpet"
           }
          ],
          "scattergeo": [
           {
            "marker": {
             "colorbar": {
              "outlinewidth": 0,
              "ticks": ""
             }
            },
            "type": "scattergeo"
           }
          ],
          "scattergl": [
           {
            "marker": {
             "colorbar": {
              "outlinewidth": 0,
              "ticks": ""
             }
            },
            "type": "scattergl"
           }
          ],
          "scattermap": [
           {
            "marker": {
             "colorbar": {
              "outlinewidth": 0,
              "ticks": ""
             }
            },
            "type": "scattermap"
           }
          ],
          "scattermapbox": [
           {
            "marker": {
             "colorbar": {
              "outlinewidth": 0,
              "ticks": ""
             }
            },
            "type": "scattermapbox"
           }
          ],
          "scatterpolar": [
           {
            "marker": {
             "colorbar": {
              "outlinewidth": 0,
              "ticks": ""
             }
            },
            "type": "scatterpolar"
           }
          ],
          "scatterpolargl": [
           {
            "marker": {
             "colorbar": {
              "outlinewidth": 0,
              "ticks": ""
             }
            },
            "type": "scatterpolargl"
           }
          ],
          "scatterternary": [
           {
            "marker": {
             "colorbar": {
              "outlinewidth": 0,
              "ticks": ""
             }
            },
            "type": "scatterternary"
           }
          ],
          "surface": [
           {
            "colorbar": {
             "outlinewidth": 0,
             "ticks": ""
            },
            "colorscale": [
             [
              0,
              "#0d0887"
             ],
             [
              0.1111111111111111,
              "#46039f"
             ],
             [
              0.2222222222222222,
              "#7201a8"
             ],
             [
              0.3333333333333333,
              "#9c179e"
             ],
             [
              0.4444444444444444,
              "#bd3786"
             ],
             [
              0.5555555555555556,
              "#d8576b"
             ],
             [
              0.6666666666666666,
              "#ed7953"
             ],
             [
              0.7777777777777778,
              "#fb9f3a"
             ],
             [
              0.8888888888888888,
              "#fdca26"
             ],
             [
              1,
              "#f0f921"
             ]
            ],
            "type": "surface"
           }
          ],
          "table": [
           {
            "cells": {
             "fill": {
              "color": "#EBF0F8"
             },
             "line": {
              "color": "white"
             }
            },
            "header": {
             "fill": {
              "color": "#C8D4E3"
             },
             "line": {
              "color": "white"
             }
            },
            "type": "table"
           }
          ]
         },
         "layout": {
          "annotationdefaults": {
           "arrowcolor": "#2a3f5f",
           "arrowhead": 0,
           "arrowwidth": 1
          },
          "autotypenumbers": "strict",
          "coloraxis": {
           "colorbar": {
            "outlinewidth": 0,
            "ticks": ""
           }
          },
          "colorscale": {
           "diverging": [
            [
             0,
             "#8e0152"
            ],
            [
             0.1,
             "#c51b7d"
            ],
            [
             0.2,
             "#de77ae"
            ],
            [
             0.3,
             "#f1b6da"
            ],
            [
             0.4,
             "#fde0ef"
            ],
            [
             0.5,
             "#f7f7f7"
            ],
            [
             0.6,
             "#e6f5d0"
            ],
            [
             0.7,
             "#b8e186"
            ],
            [
             0.8,
             "#7fbc41"
            ],
            [
             0.9,
             "#4d9221"
            ],
            [
             1,
             "#276419"
            ]
           ],
           "sequential": [
            [
             0,
             "#0d0887"
            ],
            [
             0.1111111111111111,
             "#46039f"
            ],
            [
             0.2222222222222222,
             "#7201a8"
            ],
            [
             0.3333333333333333,
             "#9c179e"
            ],
            [
             0.4444444444444444,
             "#bd3786"
            ],
            [
             0.5555555555555556,
             "#d8576b"
            ],
            [
             0.6666666666666666,
             "#ed7953"
            ],
            [
             0.7777777777777778,
             "#fb9f3a"
            ],
            [
             0.8888888888888888,
             "#fdca26"
            ],
            [
             1,
             "#f0f921"
            ]
           ],
           "sequentialminus": [
            [
             0,
             "#0d0887"
            ],
            [
             0.1111111111111111,
             "#46039f"
            ],
            [
             0.2222222222222222,
             "#7201a8"
            ],
            [
             0.3333333333333333,
             "#9c179e"
            ],
            [
             0.4444444444444444,
             "#bd3786"
            ],
            [
             0.5555555555555556,
             "#d8576b"
            ],
            [
             0.6666666666666666,
             "#ed7953"
            ],
            [
             0.7777777777777778,
             "#fb9f3a"
            ],
            [
             0.8888888888888888,
             "#fdca26"
            ],
            [
             1,
             "#f0f921"
            ]
           ]
          },
          "colorway": [
           "#636efa",
           "#EF553B",
           "#00cc96",
           "#ab63fa",
           "#FFA15A",
           "#19d3f3",
           "#FF6692",
           "#B6E880",
           "#FF97FF",
           "#FECB52"
          ],
          "font": {
           "color": "#2a3f5f"
          },
          "geo": {
           "bgcolor": "white",
           "lakecolor": "white",
           "landcolor": "#E5ECF6",
           "showlakes": true,
           "showland": true,
           "subunitcolor": "white"
          },
          "hoverlabel": {
           "align": "left"
          },
          "hovermode": "closest",
          "mapbox": {
           "style": "light"
          },
          "paper_bgcolor": "white",
          "plot_bgcolor": "#E5ECF6",
          "polar": {
           "angularaxis": {
            "gridcolor": "white",
            "linecolor": "white",
            "ticks": ""
           },
           "bgcolor": "#E5ECF6",
           "radialaxis": {
            "gridcolor": "white",
            "linecolor": "white",
            "ticks": ""
           }
          },
          "scene": {
           "xaxis": {
            "backgroundcolor": "#E5ECF6",
            "gridcolor": "white",
            "gridwidth": 2,
            "linecolor": "white",
            "showbackground": true,
            "ticks": "",
            "zerolinecolor": "white"
           },
           "yaxis": {
            "backgroundcolor": "#E5ECF6",
            "gridcolor": "white",
            "gridwidth": 2,
            "linecolor": "white",
            "showbackground": true,
            "ticks": "",
            "zerolinecolor": "white"
           },
           "zaxis": {
            "backgroundcolor": "#E5ECF6",
            "gridcolor": "white",
            "gridwidth": 2,
            "linecolor": "white",
            "showbackground": true,
            "ticks": "",
            "zerolinecolor": "white"
           }
          },
          "shapedefaults": {
           "line": {
            "color": "#2a3f5f"
           }
          },
          "ternary": {
           "aaxis": {
            "gridcolor": "white",
            "linecolor": "white",
            "ticks": ""
           },
           "baxis": {
            "gridcolor": "white",
            "linecolor": "white",
            "ticks": ""
           },
           "bgcolor": "#E5ECF6",
           "caxis": {
            "gridcolor": "white",
            "linecolor": "white",
            "ticks": ""
           }
          },
          "title": {
           "x": 0.05
          },
          "xaxis": {
           "automargin": true,
           "gridcolor": "white",
           "linecolor": "white",
           "ticks": "",
           "title": {
            "standoff": 15
           },
           "zerolinecolor": "white",
           "zerolinewidth": 2
          },
          "yaxis": {
           "automargin": true,
           "gridcolor": "white",
           "linecolor": "white",
           "ticks": "",
           "title": {
            "standoff": 15
           },
           "zerolinecolor": "white",
           "zerolinewidth": 2
          }
         }
        },
        "title": {
         "text": "adobe-mu1gamma1",
         "x": 0.5
        },
        "uniformtext": {
         "minsize": 8,
         "mode": "hide"
        },
        "width": 700,
        "xaxis": {
         "range": [
          0,
          227.73302
         ],
         "title": {
          "text": "Time (s)"
         }
        },
        "yaxis": {
         "categoryarray": [
          "L12",
          "L11",
          "L10",
          "L09",
          "L08",
          "L07",
          "L06",
          "L05",
          "L04",
          "L03",
          "L02",
          "L01"
         ],
         "categoryorder": "array",
         "title": {}
        }
       }
      }
     },
     "metadata": {},
     "output_type": "display_data"
    }
   ],
   "source": [
    "import plotly.io as pio\n",
    "\n",
    "est.plot().show()\n"
   ]
  },
  {
   "cell_type": "code",
   "execution_count": null,
   "metadata": {},
   "outputs": [],
   "source": []
  }
 ],
 "metadata": {
  "kernelspec": {
   "display_name": "default",
   "language": "python",
   "name": "python3"
  },
  "language_info": {
   "codemirror_mode": {
    "name": "ipython",
    "version": 3
   },
   "file_extension": ".py",
   "mimetype": "text/x-python",
   "name": "python",
   "nbconvert_exporter": "python",
   "pygments_lexer": "ipython3",
   "version": "3.12.11"
  }
 },
 "nbformat": 4,
 "nbformat_minor": 2
}
