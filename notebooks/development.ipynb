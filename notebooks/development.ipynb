{
 "cells": [
  {
   "cell_type": "markdown",
   "metadata": {},
   "source": [
    "# BNL Development Notebook\n",
    "\n",
    "This notebook is for developing and testing the BNL package.\n"
   ]
  },
  {
   "cell_type": "code",
   "execution_count": 12,
   "metadata": {},
   "outputs": [
    {
     "name": "stdout",
     "output_type": "stream",
     "text": [
      "The autoreload extension is already loaded. To reload it, use:\n",
      "  %reload_ext autoreload\n"
     ]
    }
   ],
   "source": [
    "%load_ext autoreload\n",
    "%autoreload 2\n",
    "\n",
    "import bnl"
   ]
  },
  {
   "cell_type": "code",
   "execution_count": 13,
   "metadata": {},
   "outputs": [
    {
     "data": {
      "text/plain": [
       "Hierarchy(2 levels over 0.00s-314.27s)"
      ]
     },
     "execution_count": 13,
     "metadata": {},
     "output_type": "execute_result"
    }
   ],
   "source": [
    "R2_BUCKET_PUBLIC_URL = \"https://pub-05e404c031184ec4bbf69b0c2321b98e.r2.dev\"\n",
    "slm_ds_local = bnl.data.Dataset(manifest_path=\"~/data/salami/metadata.csv\")\n",
    "slm_ds_cloud = bnl.data.Dataset(manifest_path=f\"{R2_BUCKET_PUBLIC_URL}/manifest_cloud_boolean.csv\")\n",
    "local_track = next(iter(slm_ds_local))\n",
    "cloud_track = next(iter(slm_ds_cloud))\n",
    "\n",
    "local_track.load_hierarchy(\"reference\")\n",
    "cloud_track.load_hierarchy(\"reference\")"
   ]
  },
  {
   "cell_type": "code",
   "execution_count": 14,
   "metadata": {},
   "outputs": [
    {
     "data": {
      "text/plain": [
       "{'adobe-mu1gamma1': PosixPath('/Users/tomxi/data/salami/adobe/def_mu_0.1_gamma_0.1/2.mp3.msdclasscsnmagic.json'),\n",
       " 'adobe-mu1gamma9': PosixPath('/Users/tomxi/data/salami/adobe/def_mu_0.1_gamma_0.9/2.mp3.msdclasscsnmagic.json'),\n",
       " 'adobe-mu5gamma5': PosixPath('/Users/tomxi/data/salami/adobe/def_mu_0.5_gamma_0.5/2.mp3.msdclasscsnmagic.json'),\n",
       " 'reference': PosixPath('/Users/tomxi/data/salami/jams/2.jams')}"
      ]
     },
     "execution_count": 14,
     "metadata": {},
     "output_type": "execute_result"
    }
   ],
   "source": [
    "## Working on load_hierarchy and related api to make it easier to get Hierarchy objects out for each track.\n",
    "local_track.annotations"
   ]
  },
  {
   "cell_type": "code",
   "execution_count": 15,
   "metadata": {},
   "outputs": [
    {
     "data": {
      "text/plain": [
       "{'adobe-mu1gamma1': 'https://pub-05e404c031184ec4bbf69b0c2321b98e.r2.dev/adobe21-est/def_mu_0.1_gamma_0.1/10.mp3.msdclasscsnmagic.json',\n",
       " 'adobe-mu1gamma9': 'https://pub-05e404c031184ec4bbf69b0c2321b98e.r2.dev/adobe21-est/def_mu_0.1_gamma_0.9/10.mp3.msdclasscsnmagic.json',\n",
       " 'adobe-mu5gamma5': 'https://pub-05e404c031184ec4bbf69b0c2321b98e.r2.dev/adobe21-est/def_mu_0.5_gamma_0.5/10.mp3.msdclasscsnmagic.json',\n",
       " 'reference': 'https://pub-05e404c031184ec4bbf69b0c2321b98e.r2.dev/ref-jams/10.jams'}"
      ]
     },
     "execution_count": 15,
     "metadata": {},
     "output_type": "execute_result"
    }
   ],
   "source": [
    "cloud_track.annotations"
   ]
  },
  {
   "cell_type": "code",
   "execution_count": 9,
   "metadata": {},
   "outputs": [
    {
     "ename": "SyntaxError",
     "evalue": "invalid syntax (2238344075.py, line 1)",
     "output_type": "error",
     "traceback": [
      "  \u001b[36mCell\u001b[39m\u001b[36m \u001b[39m\u001b[32mIn[9]\u001b[39m\u001b[32m, line 1\u001b[39m\n\u001b[31m    \u001b[39m\u001b[31mslm.Hierarchy.\u001b[39m\n                  ^\n\u001b[31mSyntaxError\u001b[39m\u001b[31m:\u001b[39m invalid syntax\n"
     ]
    }
   ],
   "source": [
    "## So given a link, we need a function to load a list of all annotations that's available from the link.\n"
   ]
  },
  {
   "cell_type": "code",
   "execution_count": 97,
   "metadata": {},
   "outputs": [
    {
     "data": {
      "text/plain": [
       "Hierarchy(2 levels over 0.00s-236.09s)"
      ]
     },
     "execution_count": 97,
     "metadata": {},
     "output_type": "execute_result"
    }
   ],
   "source": [
    "import jams\n",
    "\n",
    "# Assuming slm_ds refers to slm_ds_local for these JAMS operations\n",
    "slm_ds = slm_ds_local\n",
    "jam = jams.load(str(slm_ds[\"4\"].annotations[\"reference\"]))\n",
    "a = jam.search(namespace=\"multi_segment\")[1]\n",
    "bnl.Hierarchy.from_jams(a)"
   ]
  },
  {
   "cell_type": "code",
   "execution_count": 98,
   "metadata": {},
   "outputs": [
    {
     "data": {
      "text/plain": [
       "Segmentation(11 segments over 236.09s)"
      ]
     },
     "execution_count": 98,
     "metadata": {},
     "output_type": "execute_result"
    }
   ],
   "source": [
    "# Assuming slm_ds refers to slm_ds_local\n",
    "slm_ds = slm_ds_local\n",
    "jam = jams.load(str(slm_ds[\"4\"].annotations[\"reference\"]))\n",
    "a = jam.search(namespace=\"segment_salami_function\")[1]\n",
    "bnl.Segmentation.from_jams(a)"
   ]
  },
  {
   "cell_type": "code",
   "execution_count": 96,
   "metadata": {},
   "outputs": [
    {
     "name": "stdout",
     "output_type": "stream",
     "text": [
      "Segmentation(18 segments over 236.09s)\n",
      "Segmentation(32 segments over 236.09s)\n"
     ]
    }
   ],
   "source": [
    "itvls, labs = jams.eval.hierarchy_flatten(a)\n",
    "for itl, lbl in zip(itvls, labs):\n",
    "    print(bnl.Segmentation.from_intervals(itl, lbl))"
   ]
  },
  {
   "cell_type": "code",
   "execution_count": 115,
   "metadata": {},
   "outputs": [
    {
     "data": {
      "image/png": "[encoded data removed]",
      "text/plain": [
       "<Figure size 600x150 with 2 Axes>"
      ]
     },
     "metadata": {},
     "output_type": "display_data"
    }
   ],
   "source": [
    "# Assuming slm_ds refers to slm_ds_local\n",
    "slm_ds = slm_ds_local\n",
    "jam = jams.load(str(slm_ds[\"4\"].annotations[\"reference\"]))\n",
    "b = jam.search(namespace=\"multi_segment\")[0]\n",
    "bnl.Hierarchy.from_jams(b).plot();"
   ]
  },
  {
   "cell_type": "code",
   "execution_count": 49,
   "metadata": {},
   "outputs": [
    {
     "ename": "AttributeError",
     "evalue": "'PosixPath' object has no attribute 'namespace'",
     "output_type": "error",
     "traceback": [
      "\u001b[31m---------------------------------------------------------------------------\u001b[39m",
      "\u001b[31mAttributeError\u001b[39m                            Traceback (most recent call last)",
      "\u001b[36mCell\u001b[39m\u001b[36m \u001b[39m\u001b[32mIn[49]\u001b[39m\u001b[32m, line 1\u001b[39m\n\u001b[32m----> \u001b[39m\u001b[32m1\u001b[39m \u001b[43mbnl\u001b[49m\u001b[43m.\u001b[49m\u001b[43mHierarchy\u001b[49m\u001b[43m.\u001b[49m\u001b[43mfrom_jams\u001b[49m\u001b[43m(\u001b[49m\u001b[43mslm_ds\u001b[49m\u001b[43m[\u001b[49m\u001b[33;43m'\u001b[39;49m\u001b[33;43m2\u001b[39;49m\u001b[33;43m'\u001b[39;49m\u001b[43m]\u001b[49m\u001b[43m.\u001b[49m\u001b[43mannotations\u001b[49m\u001b[43m[\u001b[49m\u001b[33;43m\"\u001b[39;49m\u001b[33;43mreference\u001b[39;49m\u001b[33;43m\"\u001b[39;49m\u001b[43m]\u001b[49m\u001b[43m)\u001b[49m   \n",
      "\u001b[36mFile \u001b[39m\u001b[32m~/code/bnl/src/bnl/core.py:336\u001b[39m, in \u001b[36mHierarchy.from_jams\u001b[39m\u001b[34m(cls, jams_annotation)\u001b[39m\n\u001b[32m    322\u001b[39m \u001b[38;5;129m@classmethod\u001b[39m\n\u001b[32m    323\u001b[39m \u001b[38;5;28;01mdef\u001b[39;00m\u001b[38;5;250m \u001b[39m\u001b[34mfrom_jams\u001b[39m(\u001b[38;5;28mcls\u001b[39m, jams_annotation: \u001b[33m\"\u001b[39m\u001b[33mjams.Annotation\u001b[39m\u001b[33m\"\u001b[39m) -> \u001b[33m\"\u001b[39m\u001b[33mHierarchy\u001b[39m\u001b[33m\"\u001b[39m:\n\u001b[32m    324\u001b[39m \u001b[38;5;250m    \u001b[39m\u001b[33;03m\"\"\"Create a Hierarchy from a JAMS multi_segment annotation.\u001b[39;00m\n\u001b[32m    325\u001b[39m \n\u001b[32m    326\u001b[39m \u001b[33;03m    Parameters\u001b[39;00m\n\u001b[32m   (...)\u001b[39m\u001b[32m    334\u001b[39m \u001b[33;03m        A new Hierarchy object with multiple segmentation layers\u001b[39;00m\n\u001b[32m    335\u001b[39m \u001b[33;03m    \"\"\"\u001b[39;00m\n\u001b[32m--> \u001b[39m\u001b[32m336\u001b[39m     \u001b[38;5;28;01mif\u001b[39;00m \u001b[43mjams_annotation\u001b[49m\u001b[43m.\u001b[49m\u001b[43mnamespace\u001b[49m != \u001b[33m\"\u001b[39m\u001b[33mmulti_segment\u001b[39m\u001b[33m\"\u001b[39m:\n\u001b[32m    337\u001b[39m         \u001b[38;5;28;01mraise\u001b[39;00m \u001b[38;5;167;01mValueError\u001b[39;00m(\u001b[33mf\u001b[39m\u001b[33m\"\u001b[39m\u001b[33mExpected \u001b[39m\u001b[33m'\u001b[39m\u001b[33mmulti_segment\u001b[39m\u001b[33m'\u001b[39m\u001b[33m namespace, got \u001b[39m\u001b[33m'\u001b[39m\u001b[38;5;132;01m{\u001b[39;00mjams_annotation.namespace\u001b[38;5;132;01m}\u001b[39;00m\u001b[33m'\u001b[39m\u001b[33m\"\u001b[39m)\n\u001b[32m    339\u001b[39m     \u001b[38;5;66;03m# Use JAMS' built-in hierarchy flattening function\u001b[39;00m\n",
      "\u001b[31mAttributeError\u001b[39m: 'PosixPath' object has no attribute 'namespace'"
     ]
    }
   ],
   "source": []
  },
  {
   "cell_type": "code",
   "execution_count": 48,
   "metadata": {},
   "outputs": [
    {
     "ename": "ValueError",
     "evalue": "Segments must be non-overlapping and contiguous.",
     "output_type": "error",
     "traceback": [
      "\u001b[31m---------------------------------------------------------------------------\u001b[39m",
      "\u001b[31mValueError\u001b[39m                                Traceback (most recent call last)",
      "\u001b[36mCell\u001b[39m\u001b[36m \u001b[39m\u001b[32mIn[48]\u001b[39m\u001b[32m, line 1\u001b[39m\n\u001b[32m----> \u001b[39m\u001b[32m1\u001b[39m \u001b[43mtrack\u001b[49m\u001b[43m.\u001b[49m\u001b[43mload_hierarchy\u001b[49m\u001b[43m(\u001b[49m\u001b[33;43m\"\u001b[39;49m\u001b[33;43mreference\u001b[39;49m\u001b[33;43m\"\u001b[39;49m\u001b[43m)\u001b[49m\n",
      "\u001b[36mFile \u001b[39m\u001b[32m~/code/bnl/src/bnl/data.py:201\u001b[39m, in \u001b[36mload_hierarchy\u001b[39m\u001b[34m(self, annotation_type)\u001b[39m\n\u001b[32m    194\u001b[39m \u001b[38;5;28;01mclass\u001b[39;00m\u001b[38;5;250m \u001b[39m\u001b[34;01mDataset\u001b[39;00m:\n\u001b[32m    195\u001b[39m \u001b[38;5;250m    \u001b[39m\u001b[33;03m\"\"\"A manifest-based dataset.\u001b[39;00m\n\u001b[32m    196\u001b[39m \n\u001b[32m    197\u001b[39m \u001b[33;03m    Parameters\u001b[39;00m\n\u001b[32m    198\u001b[39m \u001b[33;03m    ----------\u001b[39;00m\n\u001b[32m    199\u001b[39m \u001b[33;03m    manifest_path : Path | str\u001b[39;00m\n\u001b[32m    200\u001b[39m \u001b[33;03m        The path to the dataset's `metadata.csv` manifest file.\u001b[39;00m\n\u001b[32m--> \u001b[39m\u001b[32m201\u001b[39m \u001b[33;03m        Can be a local file path or a URL for cloud-based manifests.\u001b[39;00m\n\u001b[32m    202\u001b[39m \u001b[33;03m    \"\"\"\u001b[39;00m\n\u001b[32m    204\u001b[39m     \u001b[38;5;28;01mdef\u001b[39;00m\u001b[38;5;250m \u001b[39m\u001b[34m__init__\u001b[39m(\n\u001b[32m    205\u001b[39m         \u001b[38;5;28mself\u001b[39m,\n\u001b[32m    206\u001b[39m         manifest_path: Path | \u001b[38;5;28mstr\u001b[39m,\n\u001b[32m    207\u001b[39m     ):\n\u001b[32m    208\u001b[39m         \u001b[38;5;66;03m# --- Load the manifest ---\u001b[39;00m\n\u001b[32m    209\u001b[39m         \u001b[38;5;28mself\u001b[39m.manifest_path = manifest_path\n",
      "\u001b[36mFile \u001b[39m\u001b[32m~/code/bnl/src/bnl/core.py:347\u001b[39m, in \u001b[36mHierarchy.from_jams\u001b[39m\u001b[34m(cls, jams_annotation)\u001b[39m\n\u001b[32m    345\u001b[39m segmentations = []\n\u001b[32m    346\u001b[39m \u001b[38;5;28;01mfor\u001b[39;00m intervals, labels \u001b[38;5;129;01min\u001b[39;00m \u001b[38;5;28mzip\u001b[39m(hier_intervals, hier_labels):\n\u001b[32m--> \u001b[39m\u001b[32m347\u001b[39m     seg = \u001b[43mSegmentation\u001b[49m\u001b[43m.\u001b[49m\u001b[43mfrom_intervals\u001b[49m\u001b[43m(\u001b[49m\u001b[43mnp\u001b[49m\u001b[43m.\u001b[49m\u001b[43marray\u001b[49m\u001b[43m(\u001b[49m\u001b[43mintervals\u001b[49m\u001b[43m)\u001b[49m\u001b[43m,\u001b[49m\u001b[43m \u001b[49m\u001b[43mlabels\u001b[49m\u001b[43m)\u001b[49m\n\u001b[32m    348\u001b[39m     segmentations.append(seg)\n\u001b[32m    350\u001b[39m \u001b[38;5;28;01mreturn\u001b[39;00m \u001b[38;5;28mcls\u001b[39m(layers=segmentations)\n",
      "\u001b[36mFile \u001b[39m\u001b[32m~/code/bnl/src/bnl/core.py:192\u001b[39m, in \u001b[36mSegmentation.from_intervals\u001b[39m\u001b[34m(cls, intervals, labels, name)\u001b[39m\n\u001b[32m    189\u001b[39m     labels = [\u001b[38;5;28;01mNone\u001b[39;00m] * \u001b[38;5;28mlen\u001b[39m(intervals)\n\u001b[32m    191\u001b[39m time_spans = [TimeSpan(start=itvl[\u001b[32m0\u001b[39m], end=itvl[\u001b[32m1\u001b[39m], name=label) \u001b[38;5;28;01mfor\u001b[39;00m itvl, label \u001b[38;5;129;01min\u001b[39;00m \u001b[38;5;28mzip\u001b[39m(intervals, labels)]\n\u001b[32m--> \u001b[39m\u001b[32m192\u001b[39m \u001b[38;5;28;01mreturn\u001b[39;00m \u001b[38;5;28;43mcls\u001b[39;49m\u001b[43m(\u001b[49m\u001b[43msegments\u001b[49m\u001b[43m=\u001b[49m\u001b[43mtime_spans\u001b[49m\u001b[43m,\u001b[49m\u001b[43m \u001b[49m\u001b[43mname\u001b[49m\u001b[43m=\u001b[49m\u001b[43mname\u001b[49m\u001b[43m)\u001b[49m\n",
      "\u001b[36mFile \u001b[39m\u001b[32m<string>:7\u001b[39m, in \u001b[36m__init__\u001b[39m\u001b[34m(self, start, end, name, segments)\u001b[39m\n",
      "\u001b[36mFile \u001b[39m\u001b[32m~/code/bnl/src/bnl/core.py:101\u001b[39m, in \u001b[36mSegmentation.__post_init__\u001b[39m\u001b[34m(self)\u001b[39m\n\u001b[32m     99\u001b[39m \u001b[38;5;28;01mfor\u001b[39;00m i \u001b[38;5;129;01min\u001b[39;00m \u001b[38;5;28mrange\u001b[39m(\u001b[38;5;28mlen\u001b[39m(\u001b[38;5;28mself\u001b[39m.segments) - \u001b[32m1\u001b[39m):\n\u001b[32m    100\u001b[39m     \u001b[38;5;28;01mif\u001b[39;00m \u001b[38;5;28mself\u001b[39m.segments[i].end != \u001b[38;5;28mself\u001b[39m.segments[i + \u001b[32m1\u001b[39m].start:\n\u001b[32m--> \u001b[39m\u001b[32m101\u001b[39m         \u001b[38;5;28;01mraise\u001b[39;00m \u001b[38;5;167;01mValueError\u001b[39;00m(\u001b[33m\"\u001b[39m\u001b[33mSegments must be non-overlapping and contiguous.\u001b[39m\u001b[33m\"\u001b[39m)\n\u001b[32m    103\u001b[39m \u001b[38;5;66;03m# Set start/end from segments if available\u001b[39;00m\n\u001b[32m    104\u001b[39m \u001b[38;5;28;01mif\u001b[39;00m \u001b[38;5;28mself\u001b[39m.segments:\n",
      "\u001b[31mValueError\u001b[39m: Segments must be non-overlapping and contiguous."
     ]
    }
   ],
   "source": [
    "# Assuming track refers to local_track for this operation\n",
    "track = local_track\n",
    "track.load_annotation(\"reference\")  # Renamed from load_hierarchy"
   ]
  },
  {
   "cell_type": "code",
   "execution_count": 47,
   "metadata": {},
   "outputs": [
    {
     "data": {
      "text/plain": [
       "([[array([0.      , 0.464399]),\n",
       "   array([ 0.464399, 14.379864]),\n",
       "   array([14.379864, 23.986213]),\n",
       "   array([23.986213, 33.622494]),\n",
       "   array([33.622494, 42.956916]),\n",
       "   array([42.956916, 49.68102 ]),\n",
       "   array([49.68102 , 76.881292]),\n",
       "   array([76.881293, 86.425397]),\n",
       "   array([86.425397, 98.689433]),\n",
       "   array([ 98.689433, 108.166304]),\n",
       "   array([108.166304, 115.47449 ]),\n",
       "   array([115.47449 , 129.466939]),\n",
       "   array([129.466939, 137.682789]),\n",
       "   array([137.682789, 160.601927]),\n",
       "   array([160.601927, 177.151723]),\n",
       "   array([177.151723, 194.691837]),\n",
       "   array([194.691837, 242.415329]),\n",
       "   array([242.415329, 250.548934]),\n",
       "   array([250.548934, 263.20542 ]),\n",
       "   array([263.20542 , 264.896825])],\n",
       "  [array([0.      , 0.464399]),\n",
       "   array([0.464399, 5.19127 ]),\n",
       "   array([5.19127 , 9.979841]),\n",
       "   array([ 9.979841, 14.379864]),\n",
       "   array([14.379864, 19.643855]),\n",
       "   array([19.643855, 23.986213]),\n",
       "   array([23.986213, 28.98254 ]),\n",
       "   array([28.98254 , 33.622495]),\n",
       "   array([33.622494, 38.243265]),\n",
       "   array([38.243265, 42.956916]),\n",
       "   array([42.956916, 47.510023]),\n",
       "   array([47.510023, 49.681021]),\n",
       "   array([49.68102 , 54.195442]),\n",
       "   array([54.195442, 57.854331]),\n",
       "   array([57.854331, 61.992245]),\n",
       "   array([61.992245, 67.005941]),\n",
       "   array([67.005941, 76.881292]),\n",
       "   array([76.881293, 81.633697]),\n",
       "   array([81.633696, 86.425397]),\n",
       "   array([86.425397, 90.465374]),\n",
       "   array([90.465374, 94.977936]),\n",
       "   array([94.977937, 98.689434]),\n",
       "   array([ 98.689433, 103.702449]),\n",
       "   array([103.702449, 108.166304]),\n",
       "   array([108.166304, 112.813606]),\n",
       "   array([112.813605, 115.474489]),\n",
       "   array([115.47449 , 119.098798]),\n",
       "   array([119.098798, 123.146213]),\n",
       "   array([123.146213, 127.347052]),\n",
       "   array([127.347052, 129.466939]),\n",
       "   array([129.466939, 133.519048]),\n",
       "   array([133.519048, 137.682789]),\n",
       "   array([137.682789, 141.818821]),\n",
       "   array([141.818821, 145.906984]),\n",
       "   array([145.906984, 150.039456]),\n",
       "   array([150.039456, 154.207324]),\n",
       "   array([154.207324, 158.375873]),\n",
       "   array([158.375873, 160.601927]),\n",
       "   array([160.601927, 164.663151]),\n",
       "   array([164.663152, 167.620181]),\n",
       "   array([167.620181, 177.151723]),\n",
       "   array([177.151723, 182.204535]),\n",
       "   array([182.204535, 186.926871]),\n",
       "   array([186.926871, 190.950272]),\n",
       "   array([190.950272, 194.691837]),\n",
       "   array([194.691837, 203.03322 ]),\n",
       "   array([203.03322 , 211.316893]),\n",
       "   array([211.316893, 219.500703]),\n",
       "   array([219.500703, 227.915352]),\n",
       "   array([227.915351, 236.203741]),\n",
       "   array([236.203741, 240.295419]),\n",
       "   array([240.29542 , 242.415329]),\n",
       "   array([242.415329, 246.374331]),\n",
       "   array([246.374331, 250.548934]),\n",
       "   array([250.548934, 254.821632]),\n",
       "   array([254.821633, 258.900454]),\n",
       "   array([258.900454, 263.20542 ]),\n",
       "   array([263.20542 , 264.896825])]],\n",
       " [['Silence',\n",
       "   'A',\n",
       "   'B',\n",
       "   'B',\n",
       "   'C',\n",
       "   'C',\n",
       "   'D',\n",
       "   'A',\n",
       "   'A',\n",
       "   'B',\n",
       "   'B',\n",
       "   'D',\n",
       "   'E',\n",
       "   'E',\n",
       "   'A',\n",
       "   'B',\n",
       "   'F',\n",
       "   'A',\n",
       "   'B',\n",
       "   'Silence'],\n",
       "  ['Silence',\n",
       "   'b',\n",
       "   'b',\n",
       "   'b',\n",
       "   'c',\n",
       "   'c',\n",
       "   'd',\n",
       "   'd',\n",
       "   'e',\n",
       "   'e',\n",
       "   'f',\n",
       "   'f',\n",
       "   'g',\n",
       "   'g',\n",
       "   'g',\n",
       "   'h',\n",
       "   'i',\n",
       "   'j',\n",
       "   'j',\n",
       "   'k',\n",
       "   'k',\n",
       "   'k',\n",
       "   'l',\n",
       "   'l',\n",
       "   'm',\n",
       "   'm',\n",
       "   'n',\n",
       "   'n',\n",
       "   'o',\n",
       "   'p',\n",
       "   'q',\n",
       "   'q',\n",
       "   'r',\n",
       "   'r',\n",
       "   's',\n",
       "   's',\n",
       "   't',\n",
       "   'u',\n",
       "   'v',\n",
       "   'v',\n",
       "   'w',\n",
       "   'x',\n",
       "   'x',\n",
       "   'x',\n",
       "   'x',\n",
       "   'y',\n",
       "   'y',\n",
       "   'y',\n",
       "   'y',\n",
       "   'y',\n",
       "   'y',\n",
       "   'z',\n",
       "   'aa',\n",
       "   'aa',\n",
       "   'ab',\n",
       "   'ab',\n",
       "   'ab',\n",
       "   'Silence']])"
      ]
     },
     "execution_count": 47,
     "metadata": {},
     "output_type": "execute_result"
    }
   ],
   "source": [
    "jams.eval.hierarchy_flatten(a)"
   ]
  },
  {
   "cell_type": "code",
   "execution_count": null,
   "metadata": {},
   "outputs": [],
   "source": []
  },
  {
   "cell_type": "code",
   "execution_count": null,
   "metadata": {},
   "outputs": [],
   "source": []
  },
  {
   "cell_type": "code",
   "execution_count": null,
   "metadata": {},
   "outputs": [],
   "source": []
  },
  {
   "cell_type": "code",
   "execution_count": null,
   "metadata": {},
   "outputs": [],
   "source": []
  },
  {
   "cell_type": "code",
   "execution_count": null,
   "metadata": {},
   "outputs": [
    {
     "ename": "AttributeError",
     "evalue": "'Track' object has no attribute 'assets'",
     "output_type": "error",
     "traceback": [
      "\u001b[31m---------------------------------------------------------------------------\u001b[39m\n",
      "\u001b[31mAttributeError\u001b[39m                            Traceback (most recent call last)\n",
      "\u001b[36mCell\u001b[39m\u001b[36m \u001b[39m\u001b[32mIn[15]\u001b[39m\u001b[32m, line 2\u001b[39m\n",
      "\u001b[32m      1\u001b[39m t = \u001b[38;5;28mnext\u001b[39m(\u001b[38;5;28miter\u001b[39m(slm_ds))\n",
      "\u001b[32m----> \u001b[39m\u001b[32m2\u001b[39m \u001b[43mt\u001b[49m\u001b[43m.\u001b[49m\u001b[43massets\u001b[49m\n",
      "\n",
      "\u001b[31mAttributeError\u001b[39m: 'Track' object has no attribute 'assets'"
     ]
    }
   ],
   "source": [
    "# Assuming slm_ds refers to slm_ds_local\n",
    "slm_ds = slm_ds_local\n",
    "t = next(iter(slm_ds))\n",
    "t"
   ]
  },
  {
   "cell_type": "code",
   "execution_count": null,
   "metadata": {},
   "outputs": [
    {
     "ename": "AttributeError",
     "evalue": "'Track' object has no attribute 'assets'",
     "output_type": "error",
     "traceback": [
      "\u001b[31m---------------------------------------------------------------------------\u001b[39m",
      "\u001b[31mAttributeError\u001b[39m                            Traceback (most recent call last)",
      "\u001b[36mCell\u001b[39m\u001b[36m \u001b[39m\u001b[32mIn[15]\u001b[39m\u001b[32m, line 2\u001b[39m\n\u001b[32m      1\u001b[39m t = \u001b[38;5;28mnext\u001b[39m(\u001b[38;5;28miter\u001b[39m(slm_ds))\n\u001b[32m----> \u001b[39m\u001b[32m2\u001b[39m \u001b[43mt\u001b[49m\u001b[43m.\u001b[49m\u001b[43massets\u001b[49m\n",
      "\u001b[31mAttributeError\u001b[39m: 'Track' object has no attribute 'assets'"
     ]
    }
   ],
   "source": [
    "t = next(iter(slm_ds))\n",
    "t"
   ]
  },
  {
   "cell_type": "code",
   "execution_count": null,
   "metadata": {},
   "outputs": [
    {
     "ename": "AttributeError",
     "evalue": "'Track' object has no attribute 'assets'",
     "output_type": "error",
     "traceback": [
      "\u001b[31m---------------------------------------------------------------------------\u001b[39m\n",
      "\u001b[31mAttributeError\u001b[39m                            Traceback (most recent call last)\n",
      "\u001b[36mCell\u001b[39m\u001b[36m \u001b[39m\u001b[32mIn[15]\u001b[39m\u001b[32m, line 2\u001b[39m\n",
      "\u001b[32m      1\u001b[39m t = \u001b[38;5;28mnext\u001b[39m(\u001b[38;5;28miter\u001b[39m(slm_ds))\n",
      "\u001b[32m----> \u001b[39m\u001b[32m2\u001b[39m \u001b[43mt\u001b[49m\u001b[43m.\u001b[49m\u001b[43massets\u001b[49m\n",
      "\n",
      "\u001b[31mAttributeError\u001b[39m: 'Track' object has no attribute 'assets'"
     ]
    }
   ],
   "source": [
    "t = next(iter(slm_ds))\n",
    "t"
   ]
  },
  {
   "cell_type": "code",
   "execution_count": null,
   "metadata": {},
   "outputs": [
    {
     "ename": "AttributeError",
     "evalue": "'Track' object has no attribute 'assets'",
     "output_type": "error",
     "traceback": [
      "\u001b[31m---------------------------------------------------------------------------\u001b[39m\n",
      "\u001b[31mAttributeError\u001b[39m                            Traceback (most recent call last)\n",
      "\u001b[36mCell\u001b[39m\u001b[36m \u001b[39m\u001b[32mIn[15]\u001b[39m\u001b[32m, line 2\u001b[39m\n",
      "\u001b[32m      1\u001b[39m t = \u001b[38;5;28mnext\u001b[39m(\u001b[38;5;28miter\u001b[39m(slm_ds))\n",
      "\u001b[32m----> \u001b[39m\u001b[32m2\u001b[39m \u001b[43mt\u001b[49m\u001b[43m.\u001b[49m\u001b[43massets\u001b[49m\n",
      "\n",
      "\u001b[31mAttributeError\u001b[39m: 'Track' object has no attribute 'assets'"
     ]
    }
   ],
   "source": [
    "t = next(iter(slm_ds))\n",
    "t"
   ]
  },
  {
   "cell_type": "code",
   "execution_count": 13,
   "metadata": {},
   "outputs": [
    {
     "data": {
      "text/plain": [
       "{}"
      ]
     },
     "execution_count": 13,
     "metadata": {},
     "output_type": "execute_result"
    }
   ],
   "source": [
    "t.annotations"
   ]
  },
  {
   "cell_type": "code",
   "execution_count": null,
   "metadata": {},
   "outputs": [],
   "source": []
  },
  {
   "cell_type": "code",
   "execution_count": 23,
   "metadata": {},
   "outputs": [
    {
     "data": {
      "text/plain": [
       "(<Figure size 600x60 with 1 Axes>, <Axes: xlabel='Time (s)'>)"
      ]
     },
     "execution_count": 23,
     "metadata": {},
     "output_type": "execute_result"
    },
    {
     "data": {
      "image/png": "[encoded data removed]",
      "text/plain": [
       "<Figure size 600x60 with 1 Axes>"
      ]
     },
     "metadata": {},
     "output_type": "display_data"
    }
   ],
   "source": [
    "# Create a Segmentation object using the new construction utility\n",
    "seg = bnl.Segmentation.from_boundaries((1, 3, 5, 6), labels=[\"vocals\", None, \"bass\"])\n",
    "seg.plot()"
   ]
  },
  {
   "cell_type": "code",
   "execution_count": null,
   "metadata": {},
   "outputs": [
    {
     "data": {
      "text/plain": [
       "(<Figure size 600x60 with 1 Axes>, <Axes: xlabel='Time (s)'>)"
      ]
     },
     "execution_count": 15,
     "metadata": {},
     "output_type": "execute_result"
    },
    {
     "data": {
      "image/png": "[encoded data removed]",
      "text/plain": [
       "<Figure size 600x60 with 1 Axes>"
      ]
     },
     "metadata": {},
     "output_type": "display_data"
    }
   ],
   "source": [
    "seg.plot"
   ]
  },
  {
   "cell_type": "code",
   "execution_count": 41,
   "metadata": {},
   "outputs": [
    {
     "data": {
      "text/plain": [
       "(0.0, 2.0)"
      ]
     },
     "execution_count": 41,
     "metadata": {},
     "output_type": "execute_result"
    },
    {
     "data": {
      "image/png": "[encoded data removed]",
      "text/plain": [
       "<Figure size 640x480 with 1 Axes>"
      ]
     },
     "metadata": {},
     "output_type": "display_data"
    }
   ],
   "source": [
    "seg = bnl.Segmentation.from_boundaries([1, 3, 5, 6], labels=[\"A\", \"B\", \"C\", \"D\"])\n",
    "\n",
    "fig, ax = seg[0].plot(ymin=0.8, ymax=1.0, color=\"k\")\n",
    "\n",
    "seg[1].plot(ax=ax, ymin=0.5, ymax=0.8, color=\"b\")\n",
    "seg[1].plot(ax=ax, ymin=0.8, ymax=1.0, color=\"g\")\n",
    "seg[2].plot(ax=ax, color=\"r\")\n",
    "seg[0].plot(ax=ax, ymin=0.5, ymax=0.79, color=\"c\")\n",
    "\n",
    "ax.set_ylim(0, 2)"
   ]
  },
  {
   "cell_type": "code",
   "execution_count": 39,
   "metadata": {},
   "outputs": [
    {
     "data": {
      "text/plain": [
       "Text(0.5, 1.0, 'TimeSpan([1.0-3.0s])')"
      ]
     },
     "execution_count": 39,
     "metadata": {},
     "output_type": "execute_result"
    },
    {
     "data": {
      "image/png": "[encoded data removed]",
      "text/plain": [
       "<Figure size 640x480 with 1 Axes>"
      ]
     },
     "metadata": {},
     "output_type": "display_data"
    }
   ],
   "source": [
    "span = bnl.TimeSpan(1, 3)\n",
    "\n",
    "fig, ax = span.plot()\n",
    "ax.set_title(repr(span))"
   ]
  },
  {
   "cell_type": "markdown",
   "metadata": {},
   "source": [
    "## Todo items:\n",
    "- [x] Add a `Hierarchy` class to core.py\n",
    "- [x] Add a module for dealing with jams and datasets, currently only SALAMI. \n",
    "- [ ] Add a `Segmentation.plot()`\n",
    "- [ ] Add a `Hierarchy.plot()`\n",
    "- [ ] add eval.py a module for evaluating metrics.\n",
    "    - [ ] get the fast and mir_eval version of the flat metrics working. eval/flat.py\n",
    "    - [ ] get the fast and mir_eval version of L-measure and T-measure working. eval/hier.py\n",
    "    - [ ] get bmeasure working. eval/hier.py\n",
    "    - [ ] logic, processing, and hidden functions in eval/utils.py\n",
    "- [ ] Boundary salience curve for Hierarchy, and coding and decoding to monotonic hierarchies.\n",
    "\n",
    "So the consideration is whether to make aother class that's Monotonic Hierarchy, or to add casting methods to the Hierarchy class.\n",
    "\n",
    "Yea.. I think we should have a different class for Monotonic Hierarchy, and then add casting methods to the Hierarchy class for conversion.\n",
    "\n",
    "\n"
   ]
  },
  {
   "cell_type": "code",
   "execution_count": null,
   "metadata": {},
   "outputs": [],
   "source": []
  },
  {
   "cell_type": "code",
   "execution_count": null,
   "metadata": {},
   "outputs": [],
   "source": []
  },
  {
   "cell_type": "markdown",
   "metadata": {},
   "source": [
    "## More thinking on API\n",
    "\n",
    "Good progress\n",
    "\n",
    "We then introduce ProperHierarchy, which inherits from Hierarchy, and has monotonoic boundaires.\n",
    "\n",
    "ProperHierarchy has Boundary to Layer mapping, and has monotonic boundaires across its levels.\n",
    "\n",
    "Let's only do input checking during construction of objects, so assumn things are well formed elsewhere.\n",
    "\n",
    "Ok, idea about plotting: the TimeSpan should also have a plot function, that draws a rect objects on an axis, if its provided; it can take a bunch of style args. then this should be called in the segmentation.plot function.  Right now. The drawing of the rects are just in a forloop.\n",
    "This is a nice to have refactor that benefits my mental model.\n",
    "\n",
    "We need a constructor in core.py for seg_from_jams_anno, where anno is either a open_segment annotation, in which case the output would be a Segmentation, or a multilevel one, in whichcase the output would be a Hierarchy. actually hier_from_jams_anno for the hierarchy one.\n",
    "look at formatting.py from old version to see if anything else is needed.\n",
    "\n",
    "\n"
   ]
  },
  {
   "cell_type": "code",
   "execution_count": null,
   "metadata": {},
   "outputs": [],
   "source": []
  },
  {
   "cell_type": "code",
   "execution_count": null,
   "metadata": {},
   "outputs": [],
   "source": []
  },
  {
   "cell_type": "code",
   "execution_count": null,
   "metadata": {},
   "outputs": [],
   "source": [
    "## Add a `Hierarchy` class to core.py"
   ]
  },
  {
   "cell_type": "code",
   "execution_count": 27,
   "metadata": {},
   "outputs": [
    {
     "name": "stdout",
     "output_type": "stream",
     "text": [
      "Track: Track(track_id='2', num_assets=5, source='local')\n",
      "Debug load_audio - track_id: 2\n",
      "Debug load_audio - info keys: ['track_id', 'annotation_adobe-mu1gamma1_path', 'annotation_adobe-mu1gamma9_path', 'annotation_adobe-mu5gamma5_path', 'annotation_reference_path', 'audio_mp3_path', 'title', 'artist', 'duration']\n",
      "Debug load_audio - audio_path_key: audio_mp3_path\n",
      "Debug load_audio - constructed audio_path: /Users/tomxi/data/salami/audio/2/audio.mp3\n",
      "Debug load_audio - expanded audio_path: /Users/tomxi/data/salami/audio/2/audio.mp3\n",
      "Debug load_audio - path exists: True\n"
     ]
    },
    {
     "data": {
      "text/plain": [
       "(array([-7.9346737e-06, -2.5825802e-06,  1.5107191e-06, ...,\n",
       "        -4.0917271e-06, -3.1894473e-05, -1.8905548e-05],\n",
       "       shape=(11677680,), dtype=float32),\n",
       " 44100)"
      ]
     },
     "execution_count": 27,
     "metadata": {},
     "output_type": "execute_result"
    }
   ],
   "source": [
    "# Test the updated dataset loading\n",
    "slm_ds = bnl.data.Dataset(manifest_path=\"~/data/salami/metadata.csv\")\n",
    "\n",
    "# Get a track\n",
    "t = slm_ds[slm_ds.track_ids[0]]\n",
    "print(f\"Track: {t}\")\n",
    "\n",
    "# Try loading audio with debugging\n",
    "t.load_audio()"
   ]
  },
  {
   "cell_type": "code",
   "execution_count": null,
   "metadata": {},
   "outputs": [],
   "source": []
  }
 ],
 "metadata": {
  "kernelspec": {
   "display_name": "default",
   "language": "python",
   "name": "python3"
  },
  "language_info": {
   "codemirror_mode": {
    "name": "ipython",
    "version": 3
   },
   "file_extension": ".py",
   "mimetype": "text/x-python",
   "name": "python",
   "nbconvert_exporter": "python",
   "pygments_lexer": "ipython3",
   "version": "3.12.11"
  }
 },
 "nbformat": 4,
 "nbformat_minor": 2
}
