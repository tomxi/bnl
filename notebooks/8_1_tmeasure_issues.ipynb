{
 "cells": [
  {
   "cell_type": "code",
   "execution_count": null,
   "id": "f7dc866d",
   "metadata": {},
   "outputs": [],
   "source": [
    "%load_ext autoreload\n",
    "%autoreload 2\n",
    "\n",
    "import bnl\n",
    "import frameless_eval as fle\n",
    "import mir_eval\n",
    "import random\n",
    "import plotly.express as px\n",
    "import pandas as pd\n",
    "\n",
    "import matplotlib.pyplot as plt\n",
    "from dataclasses import replace"
   ]
  },
  {
   "cell_type": "code",
   "execution_count": null,
   "id": "6587e0a7",
   "metadata": {},
   "outputs": [],
   "source": [
    "def px_metrics_bar(metrics, title=\"mir_eval hierarchy metrics\"):\n",
    "    # metrics: dict or OrderedDict of name -> float\n",
    "    df = pd.Series(metrics, dtype=float).rename_axis(\"metric\").reset_index(name=\"score\")\n",
    "    fig = px.bar(df, x=\"metric\", y=\"score\", title=title, text=\"score\", range_y=[0,1.2])\n",
    "    fig.update_traces(texttemplate=\"%{text:.3f}\", textposition=\"outside\")\n",
    "    fig.update_layout(xaxis_tickangle=-45, width=450, height=300, margin=dict(l=10, r=10, t=50, b=10))\n",
    "    return fig"
   ]
  },
  {
   "cell_type": "code",
   "execution_count": null,
   "id": "bf40b414",
   "metadata": {},
   "outputs": [],
   "source": [
    "# Get a couple fake reference and estimates going\n",
    "ref_coarse = bnl.S.from_bs([0, 5, 8, 20])\n",
    "ref_fine = bnl.S.from_bs([0, 2, 5, 8, 13.3, 20])\n",
    "ref = bnl.MS([ref_coarse, ref_fine], name='ref').prune_layers()\n",
    "\n",
    "fig = ref.plot()\n",
    "fig.update_layout(width=430)\n",
    "fig.show()\n",
    "bds, meet_mat = ref.meet()\n",
    "plt.pcolormesh(bds, bds, meet_mat, cmap='inferno')\n",
    "plt.gca().set_aspect('equal')\n",
    "plt.colorbar();"
   ]
  },
  {
   "cell_type": "code",
   "execution_count": null,
   "id": "827a9018",
   "metadata": {},
   "outputs": [],
   "source": [
    "est_layers = [\n",
    "    bnl.S.from_bs([0, 8, 20]),\n",
    "    bnl.S.from_bs([0, 5, 13.3, 20]),\n",
    "    bnl.S.from_bs([0, 2, 8, 13.3, 20]),\n",
    "    bnl.S.from_bs([0, 2,  20]),\n",
    "]\n",
    "\n",
    "permuted_est_layers = [\n",
    "    bnl.S.from_bs([0, 5, 13.3, 20]),\n",
    "    bnl.S.from_bs([0, 8, 20]),\n",
    "    bnl.S.from_bs([0, 2.23, 8, 13.3, 20]),\n",
    "    bnl.S.from_bs([0, 2,  20]),\n",
    "]\n",
    "\n",
    "jittered_est_layers1 = [\n",
    "    bnl.S.from_bs([0, 8.2, 20]),\n",
    "    bnl.S.from_bs([0, 4.8, 13.4, 20]),\n",
    "    bnl.S.from_bs([0, 2.13, 8, 13.3, 20]),\n",
    "    bnl.S.from_bs([0, 2,  20]),\n",
    "]\n",
    "\n",
    "jittered_est_layers2 = [\n",
    "    bnl.S.from_bs([0, 8.1, 20]),\n",
    "    bnl.S.from_bs([0, 4.9, 13.25, 20]),\n",
    "    bnl.S.from_bs([0, 2.2, 8, 13.4, 20]),\n",
    "    bnl.S.from_bs([0, 2.1,  20]),\n",
    "]\n",
    "\n",
    "est = bnl.MS(est_layers, name=\"Non-monotonoic H\").prune_layers()\n",
    "jittered_est1 = bnl.MS(jittered_est_layers1, name=\"Non-monotonoic H\").prune_layers()\n",
    "jittered_est2 = bnl.MS(jittered_est_layers2, name=\"Non-monotonoic H\").prune_layers()\n",
    "\n",
    "permuted_est = bnl.MS(permuted_est_layers, name=\"Non-monotonic H\")\n"
   ]
  },
  {
   "cell_type": "code",
   "execution_count": null,
   "id": "c82a3bd5",
   "metadata": {},
   "outputs": [],
   "source": [
    "import warnings\n",
    "warnings.filterwarnings('ignore')\n",
    "\n",
    "fig = est.plot()\n",
    "fig.update_layout(width=430)\n",
    "fig.show()\n",
    "\n",
    "bds, meet_mat = est.meet()\n",
    "plt.pcolormesh(bds, bds, meet_mat, cmap='inferno')\n",
    "plt.gca().set_aspect('equal')\n",
    "plt.colorbar()\n",
    "plt.show()\n",
    "hier_score = mir_eval.hierarchy.evaluate(ref.itvls, ref.labels, est.itvls, est.labels)\n",
    "px_metrics_bar(hier_score, title='non-monotonic')"
   ]
  },
  {
   "cell_type": "code",
   "execution_count": null,
   "id": "ebc595b9",
   "metadata": {},
   "outputs": [],
   "source": [
    "est_mono1 = replace(est.contour(\"depth\").level().to_ms(), name=\"Force Monotonicity by depth\")\n",
    "fig = est_mono1.plot()\n",
    "fig.update_layout(width=430)\n",
    "fig.show()\n",
    "# fig.write_image(\"mono_H.pdf\", height=210, width=350)\n",
    "bds, meet_mat = est_mono1.meet()\n",
    "plt.pcolormesh(bds, bds, meet_mat, cmap='inferno')\n",
    "plt.gca().set_aspect('equal')\n",
    "plt.colorbar()\n",
    "plt.show()\n",
    "hier_score = mir_eval.hierarchy.evaluate(ref.itvls, ref.labels, est_mono1.itvls, est_mono1.labels)\n",
    "px_metrics_bar(hier_score, title=\"Mono by depth\")"
   ]
  },
  {
   "cell_type": "code",
   "execution_count": null,
   "id": "de01fb9a",
   "metadata": {},
   "outputs": [],
   "source": [
    "est_mono1a = replace(permuted_est.contour(\"depth\").level().to_ms(), name=\"Force Monotonicity by depth\")\n",
    "fig = est_mono1a.plot()\n",
    "fig.update_layout(width=430)\n",
    "fig.show()\n",
    "# fig.write_image(\"mono_H.pdf\", height=210, width=350)\n",
    "bds, meet_mat = est_mono1a.meet()\n",
    "plt.pcolormesh(bds, bds, meet_mat, cmap='inferno')\n",
    "plt.gca().set_aspect('equal')\n",
    "plt.colorbar()\n",
    "plt.show()\n",
    "hier_score = mir_eval.hierarchy.evaluate(ref.itvls, ref.labels, est_mono1a.itvls, est_mono1a.labels)\n",
    "px_metrics_bar(hier_score, title=\"Mono by depth\")"
   ]
  },
  {
   "cell_type": "code",
   "execution_count": null,
   "id": "0b1557ad",
   "metadata": {},
   "outputs": [],
   "source": [
    "est_mono2 = replace(est.contour(\"count\").level().to_ms(), name=\"Force Monotonicity by count\")\n",
    "fig = est_mono2.plot()\n",
    "fig.update_layout(width=430)\n",
    "fig.show()\n",
    "# fig.write_image(\"mono_H.pdf\", height=210, width=350)\n",
    "bds, meet_mat = est_mono2.meet()\n",
    "plt.pcolormesh(bds, bds, meet_mat, cmap='inferno')\n",
    "plt.gca().set_aspect('equal')\n",
    "plt.colorbar()\n",
    "plt.show()\n",
    "hier_score = mir_eval.hierarchy.evaluate(ref.itvls, ref.labels, est_mono2.itvls, est_mono2.labels)\n",
    "px_metrics_bar(hier_score, title=\"mono by count\")"
   ]
  },
  {
   "cell_type": "code",
   "execution_count": null,
   "id": "f5716092",
   "metadata": {},
   "outputs": [],
   "source": [
    "est_mono3 = replace(est.contour(\"prob\").level().to_ms(), name=\"Force Monotonicity by probability\")\n",
    "fig = est_mono3.plot()\n",
    "fig.update_layout(width=430)\n",
    "fig.show()\n",
    "# fig.write_image(\"mono_H.pdf\", height=210, width=350)\n",
    "bds, meet_mat = est_mono3.meet()\n",
    "plt.pcolormesh(bds, bds, meet_mat, cmap='inferno')\n",
    "plt.gca().set_aspect('equal')\n",
    "plt.colorbar()\n",
    "plt.show()\n",
    "hier_score = mir_eval.hierarchy.evaluate(ref.itvls, ref.labels, est_mono3.itvls, est_mono3.labels)\n",
    "px_metrics_bar(hier_score, title='mono by weighted count')"
   ]
  },
  {
   "cell_type": "code",
   "execution_count": null,
   "id": "96e7bb10",
   "metadata": {},
   "outputs": [],
   "source": [
    "est_working = replace(jittered_est1.contour(\"depth\").level().to_ms(), name=\"Force Monotonicity by probability\")\n",
    "fig = est_working.plot()\n",
    "fig.update_layout(width=430)\n",
    "fig.show()\n",
    "# fig.write_image(\"mono_H.pdf\", height=210, width=350)\n",
    "bds, meet_mat = est_working.meet()\n",
    "plt.pcolormesh(bds, bds, meet_mat, cmap='inferno')\n",
    "plt.gca().set_aspect('equal')\n",
    "plt.colorbar()\n",
    "plt.show()\n",
    "hier_score = mir_eval.hierarchy.evaluate(ref.itvls, ref.labels, est_working.itvls, est_working.labels)\n",
    "px_metrics_bar(hier_score, title='mono by weighted count')"
   ]
  },
  {
   "cell_type": "code",
   "execution_count": null,
   "id": "fd160758",
   "metadata": {},
   "outputs": [],
   "source": [
    "est_working = replace(jittered_est1.contour(\"depth\").level().to_ms(), name=\"Force Monotonicity by probability\")\n",
    "fig = est_working.plot()\n",
    "fig.update_layout(width=430)\n",
    "fig.show()\n",
    "# fig.write_image(\"mono_H.pdf\", height=210, width=350)\n",
    "bds, meet_mat = est_working.meet()\n",
    "plt.pcolormesh(bds, bds, meet_mat, cmap='inferno')\n",
    "plt.gca().set_aspect('equal')\n",
    "plt.colorbar()\n",
    "plt.show()\n",
    "hier_score = mir_eval.hierarchy.evaluate(ref.itvls, ref.labels, est_working.itvls, est_working.labels)\n",
    "px_metrics_bar(hier_score, title='mono by weighted count')"
   ]
  },
  {
   "cell_type": "code",
   "execution_count": null,
   "id": "3d2b5382",
   "metadata": {},
   "outputs": [],
   "source": []
  },
  {
   "cell_type": "code",
   "execution_count": null,
   "id": "ded4570c",
   "metadata": {},
   "outputs": [],
   "source": []
  },
  {
   "cell_type": "code",
   "execution_count": null,
   "id": "86d701d6",
   "metadata": {},
   "outputs": [],
   "source": []
  },
  {
   "cell_type": "code",
   "execution_count": null,
   "id": "80a5772e",
   "metadata": {},
   "outputs": [],
   "source": []
  },
  {
   "cell_type": "code",
   "execution_count": null,
   "id": "6f3934aa",
   "metadata": {},
   "outputs": [],
   "source": []
  },
  {
   "cell_type": "code",
   "execution_count": null,
   "id": "4d59a66f",
   "metadata": {},
   "outputs": [],
   "source": [
    "# Bad est 1: right boundaries but spread across multiple layers, and non monotonic.\n",
    "ref = bnl.MS([ref_coarse, ref_fine], name=\"ref\").prune_layers()\n",
    "\n",
    "permuted_boundaries = [18.0, 16.0, 8.0, 5.0, 13.3, 2.0]\n",
    "# permuted_boundaries = random.sample(ref_fine.bs[1:-1], k=len(ref_fine)-1)\n",
    "est = bnl.MS(\n",
    "    [bnl.S.from_bs([0, x, 20]) for x in permuted_boundaries],\n",
    "    name=\"est\"\n",
    ").prune_layers()\n",
    "\n",
    "est_mono = est.contour(\"depth\").level().to_ms()\n",
    "\n",
    "ref.plot().show()\n",
    "est.plot().show()\n",
    "est_mono.plot().show()"
   ]
  },
  {
   "cell_type": "code",
   "execution_count": null,
   "id": "da363d0f",
   "metadata": {},
   "outputs": [],
   "source": [
    "est_mono_short = bnl.MS(est_mono.layers[::2])"
   ]
  },
  {
   "cell_type": "code",
   "execution_count": null,
   "id": "89a84286",
   "metadata": {},
   "outputs": [],
   "source": [
    "import warnings\n",
    "warnings.filterwarnings(\"ignore\")\n",
    "\n",
    "for window in [8, 15, None]:\n",
    "    result = mir_eval.hierarchy.evaluate(ref.itvls, ref.labels, est.itvls, est.labels, window=window)\n",
    "    px_metrics_bar(result, title=f\"window = {window}\").show()"
   ]
  },
  {
   "cell_type": "code",
   "execution_count": null,
   "id": "d24f16c0",
   "metadata": {},
   "outputs": [],
   "source": [
    "for window in [8, 15, None]:\n",
    "    result = mir_eval.hierarchy.evaluate(ref.itvls, ref.labels, est_mono.itvls, est_mono.labels, window=window)\n",
    "    px_metrics_bar(result, title=f\"window = {window}\").show()"
   ]
  },
  {
   "cell_type": "code",
   "execution_count": null,
   "id": "4ecaabf0",
   "metadata": {},
   "outputs": [],
   "source": [
    "for window in [8, 15, None]:\n",
    "    result = mir_eval.hierarchy.evaluate(\n",
    "        ref.itvls, ref.labels, \n",
    "        est_mono_short.itvls, est_mono_short.labels, \n",
    "        window=window\n",
    "    )\n",
    "    px_metrics_bar(result, title=f\"window = {window}\").show()"
   ]
  },
  {
   "cell_type": "code",
   "execution_count": null,
   "id": "ef5f9512",
   "metadata": {},
   "outputs": [],
   "source": [
    "# I need to have the visualization that explores the behavior of T-meausre and L-measure."
   ]
  },
  {
   "cell_type": "code",
   "execution_count": null,
   "id": "ae842e6b",
   "metadata": {},
   "outputs": [],
   "source": [
    "## Reduced will not work if every level has two layers\n",
    "\n",
    "# Get a couple fake reference and estimates going\n",
    "ref_coarse = bnl.S.from_bs([0, 5, 8, 16, 20], name='coarse')\n",
    "ref_fine = bnl.S.from_bs([0, 2, 5, 8, 13.3, 16, 18, 20], name='fine')\n",
    "est_fine1 = bnl.S.from_bs([0, 2, 5, 8, 13.3, 16, 17.5, 20], name='fine1')\n",
    "est_fine2 = bnl.S.from_bs([0, 2, 5, 8, 13.3, 16, 17.5, 18, 20], name='fine1')\n",
    "ref_ms = bnl.MS([ref_coarse, ref_coarse, ref_fine, ref_fine], name='ref')\n",
    "ref_ms.plot()"
   ]
  },
  {
   "cell_type": "code",
   "execution_count": null,
   "id": "207dbce1",
   "metadata": {},
   "outputs": [],
   "source": [
    "est_ms = bnl.MS([ref_coarse, ref_coarse, est_fine1, est_fine1, est_fine2], name='bad_est')\n",
    "est_ms.plot()"
   ]
  },
  {
   "cell_type": "code",
   "execution_count": null,
   "id": "8d9364ac",
   "metadata": {},
   "outputs": [],
   "source": [
    "res = mir_eval.hierarchy.evaluate(\n",
    "    ref_ms.itvls, ref_ms.labels, \n",
    "    est_ms.itvls, est_ms.labels,\n",
    ")\n",
    "px_metrics_bar(res)"
   ]
  },
  {
   "cell_type": "code",
   "execution_count": null,
   "id": "31f42cc0",
   "metadata": {},
   "outputs": [],
   "source": []
  },
  {
   "cell_type": "code",
   "execution_count": null,
   "id": "671693cd",
   "metadata": {},
   "outputs": [],
   "source": [
    "res = mir_eval.hierarchy.evaluate(\n",
    "    ref_ms.itvls, ref_ms.labels, \n",
    "    est_ms.itvls, est_ms.labels,\n",
    ")\n",
    "px_metrics_bar(res)"
   ]
  },
  {
   "cell_type": "code",
   "execution_count": null,
   "id": "7c7515a8",
   "metadata": {},
   "outputs": [],
   "source": []
  }
 ],
 "metadata": {
  "kernelspec": {
   "display_name": "py311",
   "language": "python",
   "name": "python3"
  },
  "language_info": {
   "codemirror_mode": {
    "name": "ipython",
    "version": 3
   },
   "file_extension": ".py",
   "mimetype": "text/x-python",
   "name": "python",
   "nbconvert_exporter": "python",
   "pygments_lexer": "ipython3",
   "version": "3.11.13"
  }
 },
 "nbformat": 4,
 "nbformat_minor": 5
}
