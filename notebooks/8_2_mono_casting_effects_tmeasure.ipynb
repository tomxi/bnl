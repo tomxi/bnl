{
 "cells": [
  {
   "cell_type": "code",
   "execution_count": null,
   "id": "543fd6da",
   "metadata": {},
   "outputs": [],
   "source": [
    "%load_ext autoreload\n",
    "%autoreload 2\n",
    "\n",
    "import bnl\n",
    "import frameless_eval as fle\n",
    "import mir_eval\n",
    "import random\n",
    "import plotly.express as px\n",
    "import pandas as pd\n",
    "\n",
    "import matplotlib.pyplot as plt\n",
    "from dataclasses import replace\n",
    "\n",
    "def px_metrics_bar(metrics, title=\"mir_eval hierarchy metrics\"):\n",
    "    # metrics: dict or OrderedDict of name -> float\n",
    "    df = pd.Series(metrics, dtype=float).rename_axis(\"metric\").reset_index(name=\"score\")\n",
    "    fig = px.bar(df, x=\"metric\", y=\"score\", title=title, text=\"score\", range_y=[0,1.2])\n",
    "    fig.update_traces(texttemplate=\"%{text:.3f}\", textposition=\"outside\")\n",
    "    fig.update_layout(xaxis_tickangle=-45, width=450, height=300, margin=dict(l=10, r=10, t=50, b=10))\n",
    "    return fig"
   ]
  },
  {
   "cell_type": "code",
   "execution_count": null,
   "id": "826511d3",
   "metadata": {},
   "outputs": [],
   "source": [
    "slm_ds = bnl.data.Dataset(manifest_path=\"~/data/salami/metadata.csv\")"
   ]
  },
  {
   "cell_type": "code",
   "execution_count": null,
   "id": "4d90cbf4",
   "metadata": {},
   "outputs": [],
   "source": [
    "track = slm_ds[11]\n",
    "ref = list(track.refs.values())[0]\n",
    "est = track.ests['mu1gamma9'].align(ref)\n",
    "\n",
    "ref.plot().show()\n",
    "est.plot().show()"
   ]
  },
  {
   "cell_type": "code",
   "execution_count": null,
   "id": "7adadf47",
   "metadata": {},
   "outputs": [],
   "source": [
    "est_contour_depth = est.contour('depth')\n",
    "est_contour_count = est.contour('count')\n",
    "est_contour_weight = est.contour('prob')"
   ]
  },
  {
   "cell_type": "code",
   "execution_count": null,
   "id": "da5a0f99",
   "metadata": {},
   "outputs": [],
   "source": [
    "est_by_depth = est_contour_depth.level('mean_shift', bw=0.15).to_ms(name='depth').prune_layers().scrub_labels()\n",
    "est_by_count = est_contour_count.level('mean_shift', bw=0.15).to_ms(name='count').prune_layers().scrub_labels()\n",
    "est_by_weight = est_contour_weight.level('mean_shift', bw=0.15).to_ms(name='weight').prune_layers().scrub_labels()"
   ]
  },
  {
   "cell_type": "code",
   "execution_count": null,
   "id": "11394cac",
   "metadata": {},
   "outputs": [],
   "source": [
    "est_by_depth_tall = est_contour_depth.level().to_ms(name='depth').prune_layers().scrub_labels()\n",
    "est_by_count_tall = est_contour_count.level().to_ms(name='count').prune_layers().scrub_labels()\n",
    "est_by_weight_tall = est_contour_weight.level().to_ms(name='weight').prune_layers().scrub_labels()"
   ]
  },
  {
   "cell_type": "code",
   "execution_count": null,
   "id": "74fbd3e7",
   "metadata": {},
   "outputs": [],
   "source": [
    "est_by_depth.plot().update_layout(width=450).show()\n",
    "est_by_count.plot().update_layout(width=450).show()\n",
    "est_by_weight.plot().update_layout(width=450).show()"
   ]
  },
  {
   "cell_type": "code",
   "execution_count": null,
   "id": "3283e161",
   "metadata": {},
   "outputs": [],
   "source": [
    "import warnings\n",
    "warnings.filterwarnings('ignore')\n",
    "\n",
    "print(\"adjusted levels\")\n",
    "for e, title in zip(\n",
    "    [est, est_by_depth, est_by_count, est_by_weight], \n",
    "    ['raw', 'depth', 'count', 'weight']\n",
    "):\n",
    "    hier_score = mir_eval.hierarchy.evaluate(ref.itvls, ref.labels, e.itvls, e.labels)\n",
    "    del hier_score['L-Precision']\n",
    "    del hier_score['L-Recall']\n",
    "    del hier_score['L-Measure']\n",
    "    px_metrics_bar(hier_score, title=title).show()"
   ]
  },
  {
   "cell_type": "code",
   "execution_count": null,
   "id": "5889c052",
   "metadata": {},
   "outputs": [],
   "source": [
    "import warnings\n",
    "warnings.filterwarnings('ignore')\n",
    "\n",
    "print('levels unadjusted, tall hierarchies')\n",
    "for e, title in zip(\n",
    "    [est, est_by_depth_tall, est_by_count_tall, est_by_weight_tall], \n",
    "    ['raw', 'depth_tall', 'count_tall', 'weight_tall']\n",
    "):\n",
    "    hier_score = mir_eval.hierarchy.evaluate(ref.itvls, ref.labels, e.itvls, e.labels)\n",
    "    del hier_score['L-Precision']\n",
    "    del hier_score['L-Recall']\n",
    "    del hier_score['L-Measure']\n",
    "    px_metrics_bar(hier_score, title=title).show()"
   ]
  },
  {
   "cell_type": "code",
   "execution_count": null,
   "id": "e7168e78",
   "metadata": {},
   "outputs": [],
   "source": [
    "# Let's see if we can see the effect of cleaning up boundaries at all\n",
    "est_contour_depth.plot().show()\n",
    "est_contour_depth.clean('absorb', window=2).plot().show()\n",
    "est_contour_depth.clean('kde', bw=1).plot().show()"
   ]
  },
  {
   "cell_type": "code",
   "execution_count": null,
   "id": "c63c5a58",
   "metadata": {},
   "outputs": [],
   "source": [
    "est_contour_count.plot().show()\n",
    "est_contour_count.clean('absorb', window=2).plot().show()\n",
    "est_contour_count.clean('kde', bw=1).plot().show()"
   ]
  },
  {
   "cell_type": "code",
   "execution_count": null,
   "id": "06e45af8",
   "metadata": {},
   "outputs": [],
   "source": [
    "est_contour_weight.plot().show()\n",
    "est_contour_weight.clean('absorb').plot().show()\n",
    "est_contour_weight.clean('kde').plot().show()"
   ]
  },
  {
   "cell_type": "code",
   "execution_count": null,
   "id": "bab31ae5",
   "metadata": {},
   "outputs": [],
   "source": [
    "est_contour_weight.level().plot().show()\n",
    "est_contour_weight.level('mean_shift', bw=0.1).plot().show()"
   ]
  },
  {
   "cell_type": "code",
   "execution_count": null,
   "id": "f3925a81",
   "metadata": {},
   "outputs": [],
   "source": [
    "est_contour_count.level().plot().show()\n",
    "est_contour_count.level('mean_shift', bw=0.1).plot().show()"
   ]
  },
  {
   "cell_type": "code",
   "execution_count": null,
   "id": "abc4a13a",
   "metadata": {},
   "outputs": [],
   "source": [
    "est_contour_weight.level().plot().show()\n",
    "est_contour_weight.level('mean_shift', bw=0.1).plot().show()"
   ]
  },
  {
   "cell_type": "code",
   "execution_count": null,
   "id": "9b1fcc10",
   "metadata": {},
   "outputs": [],
   "source": []
  },
  {
   "cell_type": "markdown",
   "id": "af9ae50c",
   "metadata": {},
   "source": [
    "## Run mono casting pipeline effects on T-measure over all SLM tracks."
   ]
  },
  {
   "cell_type": "code",
   "execution_count": null,
   "id": "2c010ed3",
   "metadata": {},
   "outputs": [],
   "source": [
    "from pqdm.processes import pqdm\n",
    "from bnl.exp import test_mono_casting_effects as tmce\n",
    "import bnl\n",
    "\n",
    "slm_ds = bnl.data.Dataset(manifest_path=\"~/data/salami/metadata.csv\")\n",
    "list_of_dfs = pqdm(slm_ds, tmce, n_jobs=8)"
   ]
  },
  {
   "cell_type": "code",
   "execution_count": null,
   "id": "ce20c326",
   "metadata": {},
   "outputs": [],
   "source": [
    "type(list_of_dfs[1]) is pd.DataFrame\n"
   ]
  },
  {
   "cell_type": "code",
   "execution_count": null,
   "id": "b68396f2",
   "metadata": {},
   "outputs": [],
   "source": [
    "valid_dfs = [df for df in list_of_dfs if type(df) is pd.DataFrame]"
   ]
  },
  {
   "cell_type": "code",
   "execution_count": null,
   "id": "a515a93f",
   "metadata": {},
   "outputs": [],
   "source": [
    "len(valid_dfs)"
   ]
  },
  {
   "cell_type": "code",
   "execution_count": null,
   "id": "5655596e",
   "metadata": {},
   "outputs": [],
   "source": [
    "import pandas as pd\n",
    "all_results_df = pd.concat(valid_dfs, ignore_index=True)"
   ]
  },
  {
   "cell_type": "code",
   "execution_count": null,
   "id": "e4104b0c",
   "metadata": {},
   "outputs": [],
   "source": [
    "all_results_df"
   ]
  },
  {
   "cell_type": "code",
   "execution_count": null,
   "id": "8ecb9c8d",
   "metadata": {},
   "outputs": [],
   "source": [
    "est[-1].plot()"
   ]
  },
  {
   "cell_type": "code",
   "execution_count": null,
   "id": "a42e6791",
   "metadata": {},
   "outputs": [],
   "source": []
  }
 ],
 "metadata": {
  "kernelspec": {
   "display_name": "py311",
   "language": "python",
   "name": "python3"
  },
  "language_info": {
   "codemirror_mode": {
    "name": "ipython",
    "version": 3
   },
   "file_extension": ".py",
   "mimetype": "text/x-python",
   "name": "python",
   "nbconvert_exporter": "python",
   "pygments_lexer": "ipython3",
   "version": "3.11.13"
  }
 },
 "nbformat": 4,
 "nbformat_minor": 5
}
