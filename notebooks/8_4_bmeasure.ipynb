{
 "cells": [
  {
   "cell_type": "code",
   "execution_count": 2,
   "id": "f516e553",
   "metadata": {},
   "outputs": [
    {
     "name": "stdout",
     "output_type": "stream",
     "text": [
      "The autoreload extension is already loaded. To reload it, use:\n",
      "  %reload_ext autoreload\n"
     ]
    }
   ],
   "source": [
    "%load_ext autoreload\n",
    "%autoreload 2\n",
    "\n",
    "import bnl\n",
    "import random\n",
    "\n",
    "from bnl.metrics import bmeasure\n",
    "\n",
    "import pandas as pd\n",
    "import seaborn as sns\n",
    "import matplotlib.pyplot as plt"
   ]
  },
  {
   "cell_type": "code",
   "execution_count": 3,
   "id": "501775d5",
   "metadata": {},
   "outputs": [],
   "source": [
    "## Now it's time to implement the B-measure\n",
    "# let's start with the boundary hit rate for a proccessed Boundary Contour object\n",
    "slm_ds = bnl.data.Dataset('~/data/salami/metadata.csv')"
   ]
  },
  {
   "cell_type": "code",
   "execution_count": 4,
   "id": "63696bdf",
   "metadata": {},
   "outputs": [],
   "source": [
    "tid = random.choice(slm_ds.track_ids)\n",
    "track = slm_ds[tid]"
   ]
  },
  {
   "cell_type": "code",
   "execution_count": 129,
   "id": "cf1f088a",
   "metadata": {},
   "outputs": [
    {
     "data": {
      "application/vnd.plotly.v1+json": {
       "config": {
        "plotlyServerURL": "https://plot.ly"
       },
       "data": [
        {
         "hovertemplate": "<b>Boundary</b><br>Time: %{x:.3f}s<br>Salience: %{y:.3f}<extra></extra>",
         "line": {
          "color": "#666",
          "width": 1
         },
         "mode": "lines",
         "type": "scatter",
         "x": [
          18.2,
          18.2,
          null,
          48.2,
          48.2,
          null,
          67,
          67,
          null,
          98.9,
          98.9,
          null,
          129.1,
          129.1,
          null,
          149.8,
          149.8,
          null,
          164.2,
          164.2,
          null,
          172.5,
          172.5,
          null,
          180.7,
          180.7,
          null,
          192.3,
          192.3,
          null,
          196.4,
          196.4,
          null,
          206.8,
          206.8,
          null,
          211.9,
          211.9,
          null,
          220.1,
          220.1,
          null,
          225.9,
          225.9,
          null,
          238.9,
          238.9,
          null,
          248.8,
          248.8,
          null,
          258,
          258,
          null,
          280.3,
          280.3,
          null,
          292.5,
          292.5,
          null
         ],
         "y": [
          0,
          2,
          null,
          0,
          2,
          null,
          0,
          2,
          null,
          0,
          2,
          null,
          0,
          2,
          null,
          0,
          2,
          null,
          0,
          2,
          null,
          0,
          1,
          null,
          0,
          1,
          null,
          0,
          2,
          null,
          0,
          1,
          null,
          0,
          1,
          null,
          0,
          2,
          null,
          0,
          1,
          null,
          0,
          2,
          null,
          0,
          2,
          null,
          0,
          1,
          null,
          0,
          1,
          null,
          0,
          1,
          null,
          0,
          3,
          null
         ]
        }
       ],
       "layout": {
        "height": 300,
        "margin": {
         "b": 20,
         "l": 20,
         "r": 20,
         "t": 40
        },
        "shapes": [
         {
          "line": {
           "color": "#666",
           "width": 1
          },
          "opacity": 0.8,
          "type": "line",
          "x0": 0,
          "x1": 1,
          "xref": "x domain",
          "y0": 0,
          "y1": 0,
          "yref": "y"
         }
        ],
        "showlegend": false,
        "template": {
         "data": {
          "bar": [
           {
            "error_x": {
             "color": "#2a3f5f"
            },
            "error_y": {
             "color": "#2a3f5f"
            },
            "marker": {
             "line": {
              "color": "#E5ECF6",
              "width": 0.5
             },
             "pattern": {
              "fillmode": "overlay",
              "size": 10,
              "solidity": 0.2
             }
            },
            "type": "bar"
           }
          ],
          "barpolar": [
           {
            "marker": {
             "line": {
              "color": "#E5ECF6",
              "width": 0.5
             },
             "pattern": {
              "fillmode": "overlay",
              "size": 10,
              "solidity": 0.2
             }
            },
            "type": "barpolar"
           }
          ],
          "carpet": [
           {
            "aaxis": {
             "endlinecolor": "#2a3f5f",
             "gridcolor": "white",
             "linecolor": "white",
             "minorgridcolor": "white",
             "startlinecolor": "#2a3f5f"
            },
            "baxis": {
             "endlinecolor": "#2a3f5f",
             "gridcolor": "white",
             "linecolor": "white",
             "minorgridcolor": "white",
             "startlinecolor": "#2a3f5f"
            },
            "type": "carpet"
           }
          ],
          "choropleth": [
           {
            "colorbar": {
             "outlinewidth": 0,
             "ticks": ""
            },
            "type": "choropleth"
           }
          ],
          "contour": [
           {
            "colorbar": {
             "outlinewidth": 0,
             "ticks": ""
            },
            "colorscale": [
             [
              0,
              "#0d0887"
             ],
             [
              0.1111111111111111,
              "#46039f"
             ],
             [
              0.2222222222222222,
              "#7201a8"
             ],
             [
              0.3333333333333333,
              "#9c179e"
             ],
             [
              0.4444444444444444,
              "#bd3786"
             ],
             [
              0.5555555555555556,
              "#d8576b"
             ],
             [
              0.6666666666666666,
              "#ed7953"
             ],
             [
              0.7777777777777778,
              "#fb9f3a"
             ],
             [
              0.8888888888888888,
              "#fdca26"
             ],
             [
              1,
              "#f0f921"
             ]
            ],
            "type": "contour"
           }
          ],
          "contourcarpet": [
           {
            "colorbar": {
             "outlinewidth": 0,
             "ticks": ""
            },
            "type": "contourcarpet"
           }
          ],
          "heatmap": [
           {
            "colorbar": {
             "outlinewidth": 0,
             "ticks": ""
            },
            "colorscale": [
             [
              0,
              "#0d0887"
             ],
             [
              0.1111111111111111,
              "#46039f"
             ],
             [
              0.2222222222222222,
              "#7201a8"
             ],
             [
              0.3333333333333333,
              "#9c179e"
             ],
             [
              0.4444444444444444,
              "#bd3786"
             ],
             [
              0.5555555555555556,
              "#d8576b"
             ],
             [
              0.6666666666666666,
              "#ed7953"
             ],
             [
              0.7777777777777778,
              "#fb9f3a"
             ],
             [
              0.8888888888888888,
              "#fdca26"
             ],
             [
              1,
              "#f0f921"
             ]
            ],
            "type": "heatmap"
           }
          ],
          "histogram": [
           {
            "marker": {
             "pattern": {
              "fillmode": "overlay",
              "size": 10,
              "solidity": 0.2
             }
            },
            "type": "histogram"
           }
          ],
          "histogram2d": [
           {
            "colorbar": {
             "outlinewidth": 0,
             "ticks": ""
            },
            "colorscale": [
             [
              0,
              "#0d0887"
             ],
             [
              0.1111111111111111,
              "#46039f"
             ],
             [
              0.2222222222222222,
              "#7201a8"
             ],
             [
              0.3333333333333333,
              "#9c179e"
             ],
             [
              0.4444444444444444,
              "#bd3786"
             ],
             [
              0.5555555555555556,
              "#d8576b"
             ],
             [
              0.6666666666666666,
              "#ed7953"
             ],
             [
              0.7777777777777778,
              "#fb9f3a"
             ],
             [
              0.8888888888888888,
              "#fdca26"
             ],
             [
              1,
              "#f0f921"
             ]
            ],
            "type": "histogram2d"
           }
          ],
          "histogram2dcontour": [
           {
            "colorbar": {
             "outlinewidth": 0,
             "ticks": ""
            },
            "colorscale": [
             [
              0,
              "#0d0887"
             ],
             [
              0.1111111111111111,
              "#46039f"
             ],
             [
              0.2222222222222222,
              "#7201a8"
             ],
             [
              0.3333333333333333,
              "#9c179e"
             ],
             [
              0.4444444444444444,
              "#bd3786"
             ],
             [
              0.5555555555555556,
              "#d8576b"
             ],
             [
              0.6666666666666666,
              "#ed7953"
             ],
             [
              0.7777777777777778,
              "#fb9f3a"
             ],
             [
              0.8888888888888888,
              "#fdca26"
             ],
             [
              1,
              "#f0f921"
             ]
            ],
            "type": "histogram2dcontour"
           }
          ],
          "mesh3d": [
           {
            "colorbar": {
             "outlinewidth": 0,
             "ticks": ""
            },
            "type": "mesh3d"
           }
          ],
          "parcoords": [
           {
            "line": {
             "colorbar": {
              "outlinewidth": 0,
              "ticks": ""
             }
            },
            "type": "parcoords"
           }
          ],
          "pie": [
           {
            "automargin": true,
            "type": "pie"
           }
          ],
          "scatter": [
           {
            "fillpattern": {
             "fillmode": "overlay",
             "size": 10,
             "solidity": 0.2
            },
            "type": "scatter"
           }
          ],
          "scatter3d": [
           {
            "line": {
             "colorbar": {
              "outlinewidth": 0,
              "ticks": ""
             }
            },
            "marker": {
             "colorbar": {
              "outlinewidth": 0,
              "ticks": ""
             }
            },
            "type": "scatter3d"
           }
          ],
          "scattercarpet": [
           {
            "marker": {
             "colorbar": {
              "outlinewidth": 0,
              "ticks": ""
             }
            },
            "type": "scattercarpet"
           }
          ],
          "scattergeo": [
           {
            "marker": {
             "colorbar": {
              "outlinewidth": 0,
              "ticks": ""
             }
            },
            "type": "scattergeo"
           }
          ],
          "scattergl": [
           {
            "marker": {
             "colorbar": {
              "outlinewidth": 0,
              "ticks": ""
             }
            },
            "type": "scattergl"
           }
          ],
          "scattermap": [
           {
            "marker": {
             "colorbar": {
              "outlinewidth": 0,
              "ticks": ""
             }
            },
            "type": "scattermap"
           }
          ],
          "scattermapbox": [
           {
            "marker": {
             "colorbar": {
              "outlinewidth": 0,
              "ticks": ""
             }
            },
            "type": "scattermapbox"
           }
          ],
          "scatterpolar": [
           {
            "marker": {
             "colorbar": {
              "outlinewidth": 0,
              "ticks": ""
             }
            },
            "type": "scatterpolar"
           }
          ],
          "scatterpolargl": [
           {
            "marker": {
             "colorbar": {
              "outlinewidth": 0,
              "ticks": ""
             }
            },
            "type": "scatterpolargl"
           }
          ],
          "scatterternary": [
           {
            "marker": {
             "colorbar": {
              "outlinewidth": 0,
              "ticks": ""
             }
            },
            "type": "scatterternary"
           }
          ],
          "surface": [
           {
            "colorbar": {
             "outlinewidth": 0,
             "ticks": ""
            },
            "colorscale": [
             [
              0,
              "#0d0887"
             ],
             [
              0.1111111111111111,
              "#46039f"
             ],
             [
              0.2222222222222222,
              "#7201a8"
             ],
             [
              0.3333333333333333,
              "#9c179e"
             ],
             [
              0.4444444444444444,
              "#bd3786"
             ],
             [
              0.5555555555555556,
              "#d8576b"
             ],
             [
              0.6666666666666666,
              "#ed7953"
             ],
             [
              0.7777777777777778,
              "#fb9f3a"
             ],
             [
              0.8888888888888888,
              "#fdca26"
             ],
             [
              1,
              "#f0f921"
             ]
            ],
            "type": "surface"
           }
          ],
          "table": [
           {
            "cells": {
             "fill": {
              "color": "#EBF0F8"
             },
             "line": {
              "color": "white"
             }
            },
            "header": {
             "fill": {
              "color": "#C8D4E3"
             },
             "line": {
              "color": "white"
             }
            },
            "type": "table"
           }
          ]
         },
         "layout": {
          "annotationdefaults": {
           "arrowcolor": "#2a3f5f",
           "arrowhead": 0,
           "arrowwidth": 1
          },
          "autotypenumbers": "strict",
          "coloraxis": {
           "colorbar": {
            "outlinewidth": 0,
            "ticks": ""
           }
          },
          "colorscale": {
           "diverging": [
            [
             0,
             "#8e0152"
            ],
            [
             0.1,
             "#c51b7d"
            ],
            [
             0.2,
             "#de77ae"
            ],
            [
             0.3,
             "#f1b6da"
            ],
            [
             0.4,
             "#fde0ef"
            ],
            [
             0.5,
             "#f7f7f7"
            ],
            [
             0.6,
             "#e6f5d0"
            ],
            [
             0.7,
             "#b8e186"
            ],
            [
             0.8,
             "#7fbc41"
            ],
            [
             0.9,
             "#4d9221"
            ],
            [
             1,
             "#276419"
            ]
           ],
           "sequential": [
            [
             0,
             "#0d0887"
            ],
            [
             0.1111111111111111,
             "#46039f"
            ],
            [
             0.2222222222222222,
             "#7201a8"
            ],
            [
             0.3333333333333333,
             "#9c179e"
            ],
            [
             0.4444444444444444,
             "#bd3786"
            ],
            [
             0.5555555555555556,
             "#d8576b"
            ],
            [
             0.6666666666666666,
             "#ed7953"
            ],
            [
             0.7777777777777778,
             "#fb9f3a"
            ],
            [
             0.8888888888888888,
             "#fdca26"
            ],
            [
             1,
             "#f0f921"
            ]
           ],
           "sequentialminus": [
            [
             0,
             "#0d0887"
            ],
            [
             0.1111111111111111,
             "#46039f"
            ],
            [
             0.2222222222222222,
             "#7201a8"
            ],
            [
             0.3333333333333333,
             "#9c179e"
            ],
            [
             0.4444444444444444,
             "#bd3786"
            ],
            [
             0.5555555555555556,
             "#d8576b"
            ],
            [
             0.6666666666666666,
             "#ed7953"
            ],
            [
             0.7777777777777778,
             "#fb9f3a"
            ],
            [
             0.8888888888888888,
             "#fdca26"
            ],
            [
             1,
             "#f0f921"
            ]
           ]
          },
          "colorway": [
           "#636efa",
           "#EF553B",
           "#00cc96",
           "#ab63fa",
           "#FFA15A",
           "#19d3f3",
           "#FF6692",
           "#B6E880",
           "#FF97FF",
           "#FECB52"
          ],
          "font": {
           "color": "#2a3f5f"
          },
          "geo": {
           "bgcolor": "white",
           "lakecolor": "white",
           "landcolor": "#E5ECF6",
           "showlakes": true,
           "showland": true,
           "subunitcolor": "white"
          },
          "hoverlabel": {
           "align": "left"
          },
          "hovermode": "closest",
          "mapbox": {
           "style": "light"
          },
          "paper_bgcolor": "white",
          "plot_bgcolor": "#E5ECF6",
          "polar": {
           "angularaxis": {
            "gridcolor": "white",
            "linecolor": "white",
            "ticks": ""
           },
           "bgcolor": "#E5ECF6",
           "radialaxis": {
            "gridcolor": "white",
            "linecolor": "white",
            "ticks": ""
           }
          },
          "scene": {
           "xaxis": {
            "backgroundcolor": "#E5ECF6",
            "gridcolor": "white",
            "gridwidth": 2,
            "linecolor": "white",
            "showbackground": true,
            "ticks": "",
            "zerolinecolor": "white"
           },
           "yaxis": {
            "backgroundcolor": "#E5ECF6",
            "gridcolor": "white",
            "gridwidth": 2,
            "linecolor": "white",
            "showbackground": true,
            "ticks": "",
            "zerolinecolor": "white"
           },
           "zaxis": {
            "backgroundcolor": "#E5ECF6",
            "gridcolor": "white",
            "gridwidth": 2,
            "linecolor": "white",
            "showbackground": true,
            "ticks": "",
            "zerolinecolor": "white"
           }
          },
          "shapedefaults": {
           "line": {
            "color": "#2a3f5f"
           }
          },
          "ternary": {
           "aaxis": {
            "gridcolor": "white",
            "linecolor": "white",
            "ticks": ""
           },
           "baxis": {
            "gridcolor": "white",
            "linecolor": "white",
            "ticks": ""
           },
           "bgcolor": "#E5ECF6",
           "caxis": {
            "gridcolor": "white",
            "linecolor": "white",
            "ticks": ""
           }
          },
          "title": {
           "x": 0.05
          },
          "xaxis": {
           "automargin": true,
           "gridcolor": "white",
           "linecolor": "white",
           "ticks": "",
           "title": {
            "standoff": 15
           },
           "zerolinecolor": "white",
           "zerolinewidth": 2
          },
          "yaxis": {
           "automargin": true,
           "gridcolor": "white",
           "linecolor": "white",
           "ticks": "",
           "title": {
            "standoff": 15
           },
           "zerolinecolor": "white",
           "zerolinewidth": 2
          }
         }
        },
        "title": {
         "text": "1476-adobe-mu1gamma9",
         "x": 0.5
        },
        "width": 650,
        "xaxis": {
         "range": [
          0,
          328.17535
         ],
         "title": {
          "text": "Time (s)"
         }
        },
        "yaxis": {
         "title": {
          "text": "Salience"
         }
        }
       }
      }
     },
     "metadata": {},
     "output_type": "display_data"
    },
    {
     "data": {
      "application/vnd.plotly.v1+json": {
       "config": {
        "plotlyServerURL": "https://plot.ly"
       },
       "data": [
        {
         "hovertemplate": "<b>Boundary</b><br>Time: %{x:.3f}s<br>Salience: %{y:.3f}<extra></extra>",
         "line": {
          "color": "#666",
          "width": 1
         },
         "mode": "lines",
         "type": "scatter",
         "x": [
          0.04354,
          0.04354,
          null,
          2.07236,
          2.07236,
          null,
          10.01662,
          10.01662,
          null,
          18.19451,
          18.19451,
          null,
          26.56104,
          26.56104,
          null,
          34.75238,
          34.75238,
          null,
          43.05562,
          43.05562,
          null,
          51.27717,
          51.27717,
          null,
          59.24651,
          59.24651,
          null,
          67.32442,
          67.32442,
          null,
          75.79962,
          75.79962,
          null,
          83.6463,
          83.6463,
          null,
          91.9446,
          91.9446,
          null,
          100.19512,
          100.19512,
          null,
          108.43274,
          108.43274,
          null,
          116.66435,
          116.66435,
          null,
          125.1422,
          125.1422,
          null,
          133.35009,
          133.35009,
          null,
          141.45438,
          141.45438,
          null,
          149.6266,
          149.6266,
          null,
          157.54159,
          157.54159,
          null,
          165.38399,
          165.38399,
          null,
          172.97399,
          172.97399,
          null,
          180.80295,
          180.80295,
          null,
          188.51902,
          188.51902,
          null,
          196.25873,
          196.25873,
          null,
          203.93859,
          203.93859,
          null,
          211.80322,
          211.80322,
          null,
          219.46773,
          219.46773,
          null,
          227.19354,
          227.19354,
          null,
          235.0749,
          235.0749,
          null,
          242.8478,
          242.8478,
          null,
          250.68125,
          250.68125,
          null,
          258.64086,
          258.64086,
          null,
          275.90977,
          275.90977,
          null,
          293.58413,
          293.58413,
          null
         ],
         "y": [
          0,
          2,
          null,
          0,
          1,
          null,
          0,
          1,
          null,
          0,
          2,
          null,
          0,
          1,
          null,
          0,
          1,
          null,
          0,
          1,
          null,
          0,
          2,
          null,
          0,
          1,
          null,
          0,
          2,
          null,
          0,
          1,
          null,
          0,
          1,
          null,
          0,
          1,
          null,
          0,
          2,
          null,
          0,
          1,
          null,
          0,
          1,
          null,
          0,
          1,
          null,
          0,
          2,
          null,
          0,
          1,
          null,
          0,
          2,
          null,
          0,
          1,
          null,
          0,
          2,
          null,
          0,
          1,
          null,
          0,
          1,
          null,
          0,
          1,
          null,
          0,
          2,
          null,
          0,
          1,
          null,
          0,
          1,
          null,
          0,
          1,
          null,
          0,
          2,
          null,
          0,
          1,
          null,
          0,
          1,
          null,
          0,
          1,
          null,
          0,
          2,
          null,
          0,
          1,
          null,
          0,
          2,
          null
         ]
        }
       ],
       "layout": {
        "height": 300,
        "margin": {
         "b": 20,
         "l": 20,
         "r": 20,
         "t": 40
        },
        "shapes": [
         {
          "line": {
           "color": "#666",
           "width": 1
          },
          "opacity": 0.8,
          "type": "line",
          "x0": 0,
          "x1": 1,
          "xref": "x domain",
          "y0": 0,
          "y1": 0,
          "yref": "y"
         }
        ],
        "showlegend": false,
        "template": {
         "data": {
          "bar": [
           {
            "error_x": {
             "color": "#2a3f5f"
            },
            "error_y": {
             "color": "#2a3f5f"
            },
            "marker": {
             "line": {
              "color": "#E5ECF6",
              "width": 0.5
             },
             "pattern": {
              "fillmode": "overlay",
              "size": 10,
              "solidity": 0.2
             }
            },
            "type": "bar"
           }
          ],
          "barpolar": [
           {
            "marker": {
             "line": {
              "color": "#E5ECF6",
              "width": 0.5
             },
             "pattern": {
              "fillmode": "overlay",
              "size": 10,
              "solidity": 0.2
             }
            },
            "type": "barpolar"
           }
          ],
          "carpet": [
           {
            "aaxis": {
             "endlinecolor": "#2a3f5f",
             "gridcolor": "white",
             "linecolor": "white",
             "minorgridcolor": "white",
             "startlinecolor": "#2a3f5f"
            },
            "baxis": {
             "endlinecolor": "#2a3f5f",
             "gridcolor": "white",
             "linecolor": "white",
             "minorgridcolor": "white",
             "startlinecolor": "#2a3f5f"
            },
            "type": "carpet"
           }
          ],
          "choropleth": [
           {
            "colorbar": {
             "outlinewidth": 0,
             "ticks": ""
            },
            "type": "choropleth"
           }
          ],
          "contour": [
           {
            "colorbar": {
             "outlinewidth": 0,
             "ticks": ""
            },
            "colorscale": [
             [
              0,
              "#0d0887"
             ],
             [
              0.1111111111111111,
              "#46039f"
             ],
             [
              0.2222222222222222,
              "#7201a8"
             ],
             [
              0.3333333333333333,
              "#9c179e"
             ],
             [
              0.4444444444444444,
              "#bd3786"
             ],
             [
              0.5555555555555556,
              "#d8576b"
             ],
             [
              0.6666666666666666,
              "#ed7953"
             ],
             [
              0.7777777777777778,
              "#fb9f3a"
             ],
             [
              0.8888888888888888,
              "#fdca26"
             ],
             [
              1,
              "#f0f921"
             ]
            ],
            "type": "contour"
           }
          ],
          "contourcarpet": [
           {
            "colorbar": {
             "outlinewidth": 0,
             "ticks": ""
            },
            "type": "contourcarpet"
           }
          ],
          "heatmap": [
           {
            "colorbar": {
             "outlinewidth": 0,
             "ticks": ""
            },
            "colorscale": [
             [
              0,
              "#0d0887"
             ],
             [
              0.1111111111111111,
              "#46039f"
             ],
             [
              0.2222222222222222,
              "#7201a8"
             ],
             [
              0.3333333333333333,
              "#9c179e"
             ],
             [
              0.4444444444444444,
              "#bd3786"
             ],
             [
              0.5555555555555556,
              "#d8576b"
             ],
             [
              0.6666666666666666,
              "#ed7953"
             ],
             [
              0.7777777777777778,
              "#fb9f3a"
             ],
             [
              0.8888888888888888,
              "#fdca26"
             ],
             [
              1,
              "#f0f921"
             ]
            ],
            "type": "heatmap"
           }
          ],
          "histogram": [
           {
            "marker": {
             "pattern": {
              "fillmode": "overlay",
              "size": 10,
              "solidity": 0.2
             }
            },
            "type": "histogram"
           }
          ],
          "histogram2d": [
           {
            "colorbar": {
             "outlinewidth": 0,
             "ticks": ""
            },
            "colorscale": [
             [
              0,
              "#0d0887"
             ],
             [
              0.1111111111111111,
              "#46039f"
             ],
             [
              0.2222222222222222,
              "#7201a8"
             ],
             [
              0.3333333333333333,
              "#9c179e"
             ],
             [
              0.4444444444444444,
              "#bd3786"
             ],
             [
              0.5555555555555556,
              "#d8576b"
             ],
             [
              0.6666666666666666,
              "#ed7953"
             ],
             [
              0.7777777777777778,
              "#fb9f3a"
             ],
             [
              0.8888888888888888,
              "#fdca26"
             ],
             [
              1,
              "#f0f921"
             ]
            ],
            "type": "histogram2d"
           }
          ],
          "histogram2dcontour": [
           {
            "colorbar": {
             "outlinewidth": 0,
             "ticks": ""
            },
            "colorscale": [
             [
              0,
              "#0d0887"
             ],
             [
              0.1111111111111111,
              "#46039f"
             ],
             [
              0.2222222222222222,
              "#7201a8"
             ],
             [
              0.3333333333333333,
              "#9c179e"
             ],
             [
              0.4444444444444444,
              "#bd3786"
             ],
             [
              0.5555555555555556,
              "#d8576b"
             ],
             [
              0.6666666666666666,
              "#ed7953"
             ],
             [
              0.7777777777777778,
              "#fb9f3a"
             ],
             [
              0.8888888888888888,
              "#fdca26"
             ],
             [
              1,
              "#f0f921"
             ]
            ],
            "type": "histogram2dcontour"
           }
          ],
          "mesh3d": [
           {
            "colorbar": {
             "outlinewidth": 0,
             "ticks": ""
            },
            "type": "mesh3d"
           }
          ],
          "parcoords": [
           {
            "line": {
             "colorbar": {
              "outlinewidth": 0,
              "ticks": ""
             }
            },
            "type": "parcoords"
           }
          ],
          "pie": [
           {
            "automargin": true,
            "type": "pie"
           }
          ],
          "scatter": [
           {
            "fillpattern": {
             "fillmode": "overlay",
             "size": 10,
             "solidity": 0.2
            },
            "type": "scatter"
           }
          ],
          "scatter3d": [
           {
            "line": {
             "colorbar": {
              "outlinewidth": 0,
              "ticks": ""
             }
            },
            "marker": {
             "colorbar": {
              "outlinewidth": 0,
              "ticks": ""
             }
            },
            "type": "scatter3d"
           }
          ],
          "scattercarpet": [
           {
            "marker": {
             "colorbar": {
              "outlinewidth": 0,
              "ticks": ""
             }
            },
            "type": "scattercarpet"
           }
          ],
          "scattergeo": [
           {
            "marker": {
             "colorbar": {
              "outlinewidth": 0,
              "ticks": ""
             }
            },
            "type": "scattergeo"
           }
          ],
          "scattergl": [
           {
            "marker": {
             "colorbar": {
              "outlinewidth": 0,
              "ticks": ""
             }
            },
            "type": "scattergl"
           }
          ],
          "scattermap": [
           {
            "marker": {
             "colorbar": {
              "outlinewidth": 0,
              "ticks": ""
             }
            },
            "type": "scattermap"
           }
          ],
          "scattermapbox": [
           {
            "marker": {
             "colorbar": {
              "outlinewidth": 0,
              "ticks": ""
             }
            },
            "type": "scattermapbox"
           }
          ],
          "scatterpolar": [
           {
            "marker": {
             "colorbar": {
              "outlinewidth": 0,
              "ticks": ""
             }
            },
            "type": "scatterpolar"
           }
          ],
          "scatterpolargl": [
           {
            "marker": {
             "colorbar": {
              "outlinewidth": 0,
              "ticks": ""
             }
            },
            "type": "scatterpolargl"
           }
          ],
          "scatterternary": [
           {
            "marker": {
             "colorbar": {
              "outlinewidth": 0,
              "ticks": ""
             }
            },
            "type": "scatterternary"
           }
          ],
          "surface": [
           {
            "colorbar": {
             "outlinewidth": 0,
             "ticks": ""
            },
            "colorscale": [
             [
              0,
              "#0d0887"
             ],
             [
              0.1111111111111111,
              "#46039f"
             ],
             [
              0.2222222222222222,
              "#7201a8"
             ],
             [
              0.3333333333333333,
              "#9c179e"
             ],
             [
              0.4444444444444444,
              "#bd3786"
             ],
             [
              0.5555555555555556,
              "#d8576b"
             ],
             [
              0.6666666666666666,
              "#ed7953"
             ],
             [
              0.7777777777777778,
              "#fb9f3a"
             ],
             [
              0.8888888888888888,
              "#fdca26"
             ],
             [
              1,
              "#f0f921"
             ]
            ],
            "type": "surface"
           }
          ],
          "table": [
           {
            "cells": {
             "fill": {
              "color": "#EBF0F8"
             },
             "line": {
              "color": "white"
             }
            },
            "header": {
             "fill": {
              "color": "#C8D4E3"
             },
             "line": {
              "color": "white"
             }
            },
            "type": "table"
           }
          ]
         },
         "layout": {
          "annotationdefaults": {
           "arrowcolor": "#2a3f5f",
           "arrowhead": 0,
           "arrowwidth": 1
          },
          "autotypenumbers": "strict",
          "coloraxis": {
           "colorbar": {
            "outlinewidth": 0,
            "ticks": ""
           }
          },
          "colorscale": {
           "diverging": [
            [
             0,
             "#8e0152"
            ],
            [
             0.1,
             "#c51b7d"
            ],
            [
             0.2,
             "#de77ae"
            ],
            [
             0.3,
             "#f1b6da"
            ],
            [
             0.4,
             "#fde0ef"
            ],
            [
             0.5,
             "#f7f7f7"
            ],
            [
             0.6,
             "#e6f5d0"
            ],
            [
             0.7,
             "#b8e186"
            ],
            [
             0.8,
             "#7fbc41"
            ],
            [
             0.9,
             "#4d9221"
            ],
            [
             1,
             "#276419"
            ]
           ],
           "sequential": [
            [
             0,
             "#0d0887"
            ],
            [
             0.1111111111111111,
             "#46039f"
            ],
            [
             0.2222222222222222,
             "#7201a8"
            ],
            [
             0.3333333333333333,
             "#9c179e"
            ],
            [
             0.4444444444444444,
             "#bd3786"
            ],
            [
             0.5555555555555556,
             "#d8576b"
            ],
            [
             0.6666666666666666,
             "#ed7953"
            ],
            [
             0.7777777777777778,
             "#fb9f3a"
            ],
            [
             0.8888888888888888,
             "#fdca26"
            ],
            [
             1,
             "#f0f921"
            ]
           ],
           "sequentialminus": [
            [
             0,
             "#0d0887"
            ],
            [
             0.1111111111111111,
             "#46039f"
            ],
            [
             0.2222222222222222,
             "#7201a8"
            ],
            [
             0.3333333333333333,
             "#9c179e"
            ],
            [
             0.4444444444444444,
             "#bd3786"
            ],
            [
             0.5555555555555556,
             "#d8576b"
            ],
            [
             0.6666666666666666,
             "#ed7953"
            ],
            [
             0.7777777777777778,
             "#fb9f3a"
            ],
            [
             0.8888888888888888,
             "#fdca26"
            ],
            [
             1,
             "#f0f921"
            ]
           ]
          },
          "colorway": [
           "#636efa",
           "#EF553B",
           "#00cc96",
           "#ab63fa",
           "#FFA15A",
           "#19d3f3",
           "#FF6692",
           "#B6E880",
           "#FF97FF",
           "#FECB52"
          ],
          "font": {
           "color": "#2a3f5f"
          },
          "geo": {
           "bgcolor": "white",
           "lakecolor": "white",
           "landcolor": "#E5ECF6",
           "showlakes": true,
           "showland": true,
           "subunitcolor": "white"
          },
          "hoverlabel": {
           "align": "left"
          },
          "hovermode": "closest",
          "mapbox": {
           "style": "light"
          },
          "paper_bgcolor": "white",
          "plot_bgcolor": "#E5ECF6",
          "polar": {
           "angularaxis": {
            "gridcolor": "white",
            "linecolor": "white",
            "ticks": ""
           },
           "bgcolor": "#E5ECF6",
           "radialaxis": {
            "gridcolor": "white",
            "linecolor": "white",
            "ticks": ""
           }
          },
          "scene": {
           "xaxis": {
            "backgroundcolor": "#E5ECF6",
            "gridcolor": "white",
            "gridwidth": 2,
            "linecolor": "white",
            "showbackground": true,
            "ticks": "",
            "zerolinecolor": "white"
           },
           "yaxis": {
            "backgroundcolor": "#E5ECF6",
            "gridcolor": "white",
            "gridwidth": 2,
            "linecolor": "white",
            "showbackground": true,
            "ticks": "",
            "zerolinecolor": "white"
           },
           "zaxis": {
            "backgroundcolor": "#E5ECF6",
            "gridcolor": "white",
            "gridwidth": 2,
            "linecolor": "white",
            "showbackground": true,
            "ticks": "",
            "zerolinecolor": "white"
           }
          },
          "shapedefaults": {
           "line": {
            "color": "#2a3f5f"
           }
          },
          "ternary": {
           "aaxis": {
            "gridcolor": "white",
            "linecolor": "white",
            "ticks": ""
           },
           "baxis": {
            "gridcolor": "white",
            "linecolor": "white",
            "ticks": ""
           },
           "bgcolor": "#E5ECF6",
           "caxis": {
            "gridcolor": "white",
            "linecolor": "white",
            "ticks": ""
           }
          },
          "title": {
           "x": 0.05
          },
          "xaxis": {
           "automargin": true,
           "gridcolor": "white",
           "linecolor": "white",
           "ticks": "",
           "title": {
            "standoff": 15
           },
           "zerolinecolor": "white",
           "zerolinewidth": 2
          },
          "yaxis": {
           "automargin": true,
           "gridcolor": "white",
           "linecolor": "white",
           "ticks": "",
           "title": {
            "standoff": 15
           },
           "zerolinecolor": "white",
           "zerolinewidth": 2
          }
         }
        },
        "title": {
         "text": "1476-annotator-4",
         "x": 0.5
        },
        "width": 650,
        "xaxis": {
         "range": [
          0,
          328.17535
         ],
         "title": {
          "text": "Time (s)"
         }
        },
        "yaxis": {
         "title": {
          "text": "Salience"
         }
        }
       }
      }
     },
     "metadata": {},
     "output_type": "display_data"
    }
   ],
   "source": [
    "ref = list(track.refs.values())[0]\n",
    "est = track.ests['mu1gamma9'].align(ref)\n",
    "est_bc = est.contour('prob').clean('kde', bw=1).level('mean_shift', bw=0.15)\n",
    "ref_bc = ref.contour('depth').level()\n",
    "\n",
    "est_bc.plot().show()\n",
    "ref_bc.plot().show()"
   ]
  },
  {
   "cell_type": "markdown",
   "id": "7d89c684",
   "metadata": {},
   "source": [
    "## Let's look at how B-measure performs on SALAMI track that have two annotations"
   ]
  },
  {
   "cell_type": "code",
   "execution_count": null,
   "id": "8aa02806",
   "metadata": {},
   "outputs": [],
   "source": [
    "slm_2anno_tracks = [t for t in slm_ds if len(t.refs) == 2]"
   ]
  },
  {
   "cell_type": "code",
   "execution_count": 17,
   "id": "4a5dcb05",
   "metadata": {},
   "outputs": [
    {
     "data": {
      "text/plain": [
       "<seaborn.axisgrid.FacetGrid at 0x307408510>"
      ]
     },
     "execution_count": 17,
     "metadata": {},
     "output_type": "execute_result"
    },
    {
     "data": {
      "image/png": "[encoded data removed]",
      "text/plain": [
       "<Figure size 412.222x600 with 6 Axes>"
      ]
     },
     "metadata": {},
     "output_type": "display_data"
    }
   ],
   "source": [
    "from bnl.exp import bmeasure_between_slm_refs\n",
    "score_df = bmeasure_between_slm_refs(slm_ds[2])\n",
    "bnl.viz.bmeasure_df(score_df)"
   ]
  },
  {
   "cell_type": "code",
   "execution_count": null,
   "id": "ecd9ceda",
   "metadata": {},
   "outputs": [
    {
     "data": {
      "application/vnd.jupyter.widget-view+json": {
       "model_id": "a5e53f3060ef41259f686a47c3a43fd2",
       "version_major": 2,
       "version_minor": 0
      },
      "text/plain": [
       "QUEUEING TASKS | :   0%|          | 0/1359 [00:00<?, ?it/s]"
      ]
     },
     "metadata": {},
     "output_type": "display_data"
    },
    {
     "data": {
      "application/vnd.jupyter.widget-view+json": {
       "model_id": "fd18fc0ae2a945da94dcb3b149609d80",
       "version_major": 2,
       "version_minor": 0
      },
      "text/plain": [
       "PROCESSING TASKS | :   0%|          | 0/1359 [00:00<?, ?it/s]"
      ]
     },
     "metadata": {},
     "output_type": "display_data"
    },
    {
     "data": {
      "application/vnd.jupyter.widget-view+json": {
       "model_id": "1293cd1eea574042a5410b05e99273ae",
       "version_major": 2,
       "version_minor": 0
      },
      "text/plain": [
       "COLLECTING RESULTS | :   0%|          | 0/1359 [00:00<?, ?it/s]"
      ]
     },
     "metadata": {},
     "output_type": "display_data"
    }
   ],
   "source": [
    "from pqdm.processes import pqdm\n",
    "from bnl.exp import bmeasure_between_slm_refs\n",
    "import bnl\n",
    "import pandas as pd\n",
    "\n",
    "slm_ds = bnl.data.Dataset(manifest_path=\"~/data/salami/metadata.csv\")\n",
    "list_of_dfs = pqdm(slm_ds, bmeasure_between_slm_refs, n_jobs=8)\n",
    "valid_dfs = [x for x in list_of_dfs if type(x) is pd.DataFrame]\n",
    "exp_results = pd.concat(valid_dfs, ignore_index=True)\n",
    "exp_results.to_feather(\"bmeasure_slm_inter_anno_results.feather\")"
   ]
  },
  {
   "cell_type": "code",
   "execution_count": null,
   "id": "f722b3e9",
   "metadata": {},
   "outputs": [],
   "source": [
    "\n",
    "import matplotlib.pyplot as plt\n",
    "import seaborn as sns\n",
    "plotting_df = exp_results.pivot_table(\n",
    "    index=[\"track_id\", \"prf\"], columns=[\"metric\", \"window\"], values=\"score\"\n",
    ").reset_index()\n",
    "\n",
    "new_columns = [\"_\".join([str(f) for f in col if f]) for col in plotting_df.columns.values]\n",
    "plotting_df.columns = new_columns\n",
    "sns.set_theme(style=\"whitegrid\")\n",
    "for prf in ['f', 'p', 'r']:\n",
    "    df = plotting_df[plotting_df['prf'] == prf]\n",
    "    text = 'measure' if prf == 'f' else 'precision' if prf == 'p' else 'recall'\n",
    "    plt.rcParams[\"figure.figsize\"] = (4, 6.5) \n",
    "    sns.violinplot(data=df)\n",
    "    plt.xticks(rotation=45)\n",
    "    plt.title(f'Dist. of B-{text} with different windows', fontsize=14)\n",
    "    plt.ylabel(f'B-{text}')\n",
    "    plt.xlabel('Metric')\n",
    "    plt.gca().set_ylim(-0.1, 1.1)\n",
    "    plt.tight_layout()\n",
    "    plt.savefig(f'B_violin_{prf}.pdf', bbox_inches='tight')\n",
    "    plt.close()"
   ]
  },
  {
   "cell_type": "code",
   "execution_count": null,
   "id": "fe2a12b7",
   "metadata": {},
   "outputs": [],
   "source": []
  },
  {
   "cell_type": "code",
   "execution_count": 51,
   "id": "defc48c6",
   "metadata": {},
   "outputs": [
    {
     "data": {
      "text/plain": [
       "array(['track_id', 'prf', 'hr_0.5', 'hr_3.0', 'po_0.5', 'po_3.0',\n",
       "       'po_exp_0.5', 'po_exp_3.0'], dtype=object)"
      ]
     },
     "execution_count": 51,
     "metadata": {},
     "output_type": "execute_result"
    }
   ],
   "source": [
    "plotting_df.columns.values"
   ]
  },
  {
   "cell_type": "code",
   "execution_count": null,
   "id": "fb6d807a",
   "metadata": {},
   "outputs": [],
   "source": [
    "s = bnl.exp.mir_eval_between_slm_refs(slm_ds[2])\n"
   ]
  },
  {
   "cell_type": "code",
   "execution_count": 68,
   "id": "0aa8bd04",
   "metadata": {},
   "outputs": [],
   "source": [
    "s2 = bnl.exp.mir_eval_between_slm_refs(slm_ds[3])"
   ]
  },
  {
   "cell_type": "code",
   "execution_count": null,
   "id": "cfe31973",
   "metadata": {},
   "outputs": [
    {
     "data": {
      "text/html": [
       "<div>\n",
       "<style scoped>\n",
       "    .dataframe tbody tr th:only-of-type {\n",
       "        vertical-align: middle;\n",
       "    }\n",
       "\n",
       "    .dataframe tbody tr th {\n",
       "        vertical-align: top;\n",
       "    }\n",
       "\n",
       "    .dataframe thead th {\n",
       "        text-align: right;\n",
       "    }\n",
       "</style>\n",
       "<table border=\"1\" class=\"dataframe\">\n",
       "  <thead>\n",
       "    <tr style=\"text-align: right;\">\n",
       "      <th></th>\n",
       "      <th>T-Precision reduced</th>\n",
       "      <th>T-Recall reduced</th>\n",
       "      <th>T-Measure reduced</th>\n",
       "      <th>T-Precision full</th>\n",
       "      <th>T-Recall full</th>\n",
       "      <th>T-Measure full</th>\n",
       "      <th>L-Precision</th>\n",
       "      <th>L-Recall</th>\n",
       "      <th>L-Measure</th>\n",
       "      <th>track_id</th>\n",
       "    </tr>\n",
       "  </thead>\n",
       "  <tbody>\n",
       "    <tr>\n",
       "      <th>0</th>\n",
       "      <td>0.769864</td>\n",
       "      <td>0.724200</td>\n",
       "      <td>0.746334</td>\n",
       "      <td>0.859747</td>\n",
       "      <td>0.778611</td>\n",
       "      <td>0.817170</td>\n",
       "      <td>0.760085</td>\n",
       "      <td>0.712226</td>\n",
       "      <td>0.735378</td>\n",
       "      <td>2</td>\n",
       "    </tr>\n",
       "    <tr>\n",
       "      <th>1</th>\n",
       "      <td>0.830007</td>\n",
       "      <td>0.969007</td>\n",
       "      <td>0.894137</td>\n",
       "      <td>0.899566</td>\n",
       "      <td>0.976958</td>\n",
       "      <td>0.936666</td>\n",
       "      <td>0.555342</td>\n",
       "      <td>0.479529</td>\n",
       "      <td>0.514658</td>\n",
       "      <td>3</td>\n",
       "    </tr>\n",
       "  </tbody>\n",
       "</table>\n",
       "</div>"
      ],
      "text/plain": [
       "   T-Precision reduced  T-Recall reduced  T-Measure reduced  T-Precision full  \\\n",
       "0             0.769864          0.724200           0.746334          0.859747   \n",
       "1             0.830007          0.969007           0.894137          0.899566   \n",
       "\n",
       "   T-Recall full  T-Measure full  L-Precision  L-Recall  L-Measure track_id  \n",
       "0       0.778611        0.817170     0.760085  0.712226   0.735378        2  \n",
       "1       0.976958        0.936666     0.555342  0.479529   0.514658        3  "
      ]
     },
     "execution_count": 70,
     "metadata": {},
     "output_type": "execute_result"
    }
   ],
   "source": [
    "collection = [s, s2, None]\n",
    "valid_collection = [s for s in collection if type(s) is pd.Series]\n",
    "pd.DataFrame(valid_collection).to_feather('mir_eval_inter_anno_results.feather')\n"
   ]
  },
  {
   "cell_type": "code",
   "execution_count": 69,
   "id": "c237035d",
   "metadata": {},
   "outputs": [
    {
     "data": {
      "text/html": [
       "<div>\n",
       "<style scoped>\n",
       "    .dataframe tbody tr th:only-of-type {\n",
       "        vertical-align: middle;\n",
       "    }\n",
       "\n",
       "    .dataframe tbody tr th {\n",
       "        vertical-align: top;\n",
       "    }\n",
       "\n",
       "    .dataframe thead th {\n",
       "        text-align: right;\n",
       "    }\n",
       "</style>\n",
       "<table border=\"1\" class=\"dataframe\">\n",
       "  <thead>\n",
       "    <tr style=\"text-align: right;\">\n",
       "      <th></th>\n",
       "      <th>T-Precision reduced</th>\n",
       "      <th>T-Recall reduced</th>\n",
       "      <th>T-Measure reduced</th>\n",
       "      <th>T-Precision full</th>\n",
       "      <th>T-Recall full</th>\n",
       "      <th>T-Measure full</th>\n",
       "      <th>L-Precision</th>\n",
       "      <th>L-Recall</th>\n",
       "      <th>L-Measure</th>\n",
       "      <th>track_id</th>\n",
       "    </tr>\n",
       "  </thead>\n",
       "  <tbody>\n",
       "    <tr>\n",
       "      <th>0</th>\n",
       "      <td>0.769864</td>\n",
       "      <td>0.724200</td>\n",
       "      <td>0.746334</td>\n",
       "      <td>0.859747</td>\n",
       "      <td>0.778611</td>\n",
       "      <td>0.817170</td>\n",
       "      <td>0.760085</td>\n",
       "      <td>0.712226</td>\n",
       "      <td>0.735378</td>\n",
       "      <td>2</td>\n",
       "    </tr>\n",
       "    <tr>\n",
       "      <th>1</th>\n",
       "      <td>0.830007</td>\n",
       "      <td>0.969007</td>\n",
       "      <td>0.894137</td>\n",
       "      <td>0.899566</td>\n",
       "      <td>0.976958</td>\n",
       "      <td>0.936666</td>\n",
       "      <td>0.555342</td>\n",
       "      <td>0.479529</td>\n",
       "      <td>0.514658</td>\n",
       "      <td>3</td>\n",
       "    </tr>\n",
       "  </tbody>\n",
       "</table>\n",
       "</div>"
      ],
      "text/plain": [
       "   T-Precision reduced  T-Recall reduced  T-Measure reduced  T-Precision full  \\\n",
       "0             0.769864          0.724200           0.746334          0.859747   \n",
       "1             0.830007          0.969007           0.894137          0.899566   \n",
       "\n",
       "   T-Recall full  T-Measure full  L-Precision  L-Recall  L-Measure track_id  \n",
       "0       0.778611        0.817170     0.760085  0.712226   0.735378        2  \n",
       "1       0.976958        0.936666     0.555342  0.479529   0.514658        3  "
      ]
     },
     "execution_count": 69,
     "metadata": {},
     "output_type": "execute_result"
    }
   ],
   "source": [
    "pd.DataFrame([s, s2])"
   ]
  },
  {
   "cell_type": "code",
   "execution_count": null,
   "id": "34bd5a01",
   "metadata": {},
   "outputs": [],
   "source": []
  },
  {
   "cell_type": "code",
   "execution_count": null,
   "id": "73bf1554",
   "metadata": {},
   "outputs": [
    {
     "data": {
      "text/plain": [
       "{'po_recall_num': 158.0,\n",
       " 'po_recall_denom': 429.0,\n",
       " 'po_precision_num': 158.0,\n",
       " 'po_precision_denom': 359.0,\n",
       " 'hr_num': 9.0,\n",
       " 'hr_recall_denom': 46.0,\n",
       " 'hr_precision_denom': 33.0,\n",
       " 'ref_prominences': array([2., 2., 2., 2., 1., 1., 2., 1., 1., 2., 1., 1., 1., 1., 2., 1., 1.,\n",
       "        2., 1., 1., 1., 1., 1., 1., 1., 1., 1., 1., 1., 1., 1., 2., 1., 1.,\n",
       "        1., 2., 1., 1., 1., 1., 1., 1., 1., 2., 2., 2.]),\n",
       " 'est_prominences': array([3., 0., 0., 2., 0., 0., 0., 0., 0., 0., 0., 0., 0., 1., 0., 0., 0.,\n",
       "        0., 0., 0., 0., 0., 0., 0., 0., 0., 0., 0., 0., 2., 0., 1., 0., 0.,\n",
       "        0., 0., 0., 0., 0., 0., 2., 0., 2., 3., 3., 0.])}"
      ]
     },
     "execution_count": 41,
     "metadata": {},
     "output_type": "execute_result"
    }
   ],
   "source": [
    "bmeasure(ref_bc, est_bc, return_raw_data=True, reduced=False)"
   ]
  },
  {
   "cell_type": "code",
   "execution_count": 3,
   "id": "1b9852d5",
   "metadata": {},
   "outputs": [
    {
     "data": {
      "application/vnd.jupyter.widget-view+json": {
       "model_id": "8804750d8a9341b599aa0516d9cc534b",
       "version_major": 2,
       "version_minor": 0
      },
      "text/plain": [
       "QUEUEING TASKS | :   0%|          | 0/1359 [00:00<?, ?it/s]"
      ]
     },
     "metadata": {},
     "output_type": "display_data"
    },
    {
     "data": {
      "application/vnd.jupyter.widget-view+json": {
       "model_id": "0617ea1989094161978b1be4be1345bd",
       "version_major": 2,
       "version_minor": 0
      },
      "text/plain": [
       "PROCESSING TASKS | :   0%|          | 0/1359 [00:00<?, ?it/s]"
      ]
     },
     "metadata": {},
     "output_type": "display_data"
    },
    {
     "name": "stdout",
     "output_type": "stream",
     "text": [
      "Loading existing results for track 2 from ./monocasting_results_bmeasure/2.feather\n",
      "Running experiment for track 6...\n",
      "Running experiment for track 11...\n",
      "Running experiment for track 3...\n",
      "Running experiment for track 5...\n",
      "Running experiment for track 4...\n",
      "Running experiment for track 10...\n",
      "Running experiment for track 7...\n",
      "Running experiment for track 8...\n",
      "Results for track 6 saved to ./monocasting_results_bmeasure/6.feather\n",
      "Results for track 11 saved to ./monocasting_results_bmeasure/11.feather\n",
      "Running experiment for track 12...\n",
      "Running experiment for track 13...\n",
      "Results for track 4 saved to ./monocasting_results_bmeasure/4.feather\n",
      "Results for track 7 saved to ./monocasting_results_bmeasure/7.feather\n",
      "Results for track 5 saved to ./monocasting_results_bmeasure/5.feather\n",
      "Running experiment for track 14...\n",
      "Running experiment for track 15...\n",
      "Results for track 8 saved to ./monocasting_results_bmeasure/8.feather\n",
      "Running experiment for track 16...\n",
      "Results for track 3 saved to ./monocasting_results_bmeasure/3.feather\n",
      "Running experiment for track 18...\n",
      "Running experiment for track 19...\n",
      "Results for track 13 saved to ./monocasting_results_bmeasure/13.feather\n",
      "Running experiment for track 20...\n",
      "Results for track 10 saved to ./monocasting_results_bmeasure/10.feather\n",
      "Running experiment for track 21...\n",
      "Results for track 15 saved to ./monocasting_results_bmeasure/15.feather\n",
      "Results for track 14 saved to ./monocasting_results_bmeasure/14.feather\n",
      "Running experiment for track 23...\n",
      "Results for track 12 saved to ./monocasting_results_bmeasure/12.feather\n",
      "Running experiment for track 22...\n",
      "Results for track 19 saved to ./monocasting_results_bmeasure/19.feather\n",
      "Results for track 16 saved to ./monocasting_results_bmeasure/16.feather\n",
      "Running experiment for track 24...\n",
      "Running experiment for track 27...\n",
      "Running experiment for track 26...\n",
      "Results for track 20 saved to ./monocasting_results_bmeasure/20.feather\n",
      "Running experiment for track 28...\n",
      "Results for track 18 saved to ./monocasting_results_bmeasure/18.feather\n",
      "Running experiment for track 29...\n",
      "Results for track 24 saved to ./monocasting_results_bmeasure/24.feather\n",
      "Results for track 23 saved to ./monocasting_results_bmeasure/23.feather\n",
      "Running experiment for track 31...\n",
      "Running experiment for track 30...\n",
      "Results for track 27 saved to ./monocasting_results_bmeasure/27.feather\n",
      "Results for track 21 saved to ./monocasting_results_bmeasure/21.feather\n",
      "Running experiment for track 32...\n",
      "Running experiment for track 34...\n",
      "Results for track 29 saved to ./monocasting_results_bmeasure/29.feather\n",
      "Results for track 30 saved to ./monocasting_results_bmeasure/30.feather\n",
      "Results for track 22 saved to ./monocasting_results_bmeasure/22.feather\n",
      "Running experiment for track 36...\n",
      "Running experiment for track 37...\n",
      "Running experiment for track 35...\n",
      "Results for track 26 saved to ./monocasting_results_bmeasure/26.feather\n",
      "Running experiment for track 38...\n",
      "Results for track 31 saved to ./monocasting_results_bmeasure/31.feather\n",
      "Running experiment for track 39...\n",
      "Results for track 32 saved to ./monocasting_results_bmeasure/32.feather\n",
      "Running experiment for track 40...\n",
      "Results for track 34 saved to ./monocasting_results_bmeasure/34.feather\n",
      "Results for track 28 saved to ./monocasting_results_bmeasure/28.feather\n",
      "Running experiment for track 43...\n",
      "Running experiment for track 42...\n",
      "Results for track 38 saved to ./monocasting_results_bmeasure/38.feather\n",
      "Results for track 36 saved to ./monocasting_results_bmeasure/36.feather\n",
      "Running experiment for track 44...\n",
      "Running experiment for track 45...\n",
      "Results for track 40 saved to ./monocasting_results_bmeasure/40.feather\n",
      "Running experiment for track 46...\n",
      "Results for track 39 saved to ./monocasting_results_bmeasure/39.feather\n",
      "Running experiment for track 47...\n",
      "Results for track 43 saved to ./monocasting_results_bmeasure/43.feather\n",
      "Running experiment for track 48...\n",
      "Results for track 46 saved to ./monocasting_results_bmeasure/46.feather\n",
      "Results for track 45 saved to ./monocasting_results_bmeasure/45.feather\n",
      "Results for track 35 saved to ./monocasting_results_bmeasure/35.feather\n",
      "Running experiment for track 50...\n",
      "Running experiment for track 52...\n",
      "Running experiment for track 51...\n",
      "Results for track 42 saved to ./monocasting_results_bmeasure/42.feather\n",
      "Running experiment for track 53...\n",
      "Results for track 47 saved to ./monocasting_results_bmeasure/47.feather\n",
      "Running experiment for track 54...\n",
      "Results for track 44 saved to ./monocasting_results_bmeasure/44.feather\n",
      "Running experiment for track 55...\n",
      "Results for track 52 saved to ./monocasting_results_bmeasure/52.feather\n",
      "Running experiment for track 56...\n",
      "Results for track 50 saved to ./monocasting_results_bmeasure/50.feather\n",
      "Results for track 48 saved to ./monocasting_results_bmeasure/48.feather\n",
      "Running experiment for track 59...\n",
      "Running experiment for track 58...\n",
      "Results for track 37 saved to ./monocasting_results_bmeasure/37.feather\n",
      "Running experiment for track 60...\n",
      "Results for track 55 saved to ./monocasting_results_bmeasure/55.feather\n",
      "Running experiment for track 63...\n",
      "Results for track 51 saved to ./monocasting_results_bmeasure/51.feather\n",
      "Running experiment for track 64...\n",
      "Results for track 54 saved to ./monocasting_results_bmeasure/54.feather\n",
      "Running experiment for track 68...\n",
      "Results for track 60 saved to ./monocasting_results_bmeasure/60.feather\n",
      "Running experiment for track 70...\n",
      "Results for track 53 saved to ./monocasting_results_bmeasure/53.feather\n",
      "Running experiment for track 71...\n",
      "Results for track 56 saved to ./monocasting_results_bmeasure/56.feather\n",
      "Running experiment for track 72...\n",
      "Results for track 58 saved to ./monocasting_results_bmeasure/58.feather\n",
      "Running experiment for track 75...\n",
      "Results for track 59 saved to ./monocasting_results_bmeasure/59.feather\n",
      "Running experiment for track 78...\n",
      "Results for track 75 saved to ./monocasting_results_bmeasure/75.feather\n",
      "Running experiment for track 79...\n",
      "Results for track 71 saved to ./monocasting_results_bmeasure/71.feather\n",
      "Running experiment for track 82...\n",
      "Results for track 79 saved to ./monocasting_results_bmeasure/79.feather\n",
      "Running experiment for track 85...\n",
      "Results for track 64 saved to ./monocasting_results_bmeasure/64.feather\n",
      "Results for track 82 saved to ./monocasting_results_bmeasure/82.feather\n",
      "Running experiment for track 88...\n",
      "Running experiment for track 86...\n",
      "Results for track 72 saved to ./monocasting_results_bmeasure/72.feather\n",
      "Running experiment for track 90...\n",
      "Results for track 85 saved to ./monocasting_results_bmeasure/85.feather\n",
      "Running experiment for track 91...\n",
      "Results for track 68 saved to ./monocasting_results_bmeasure/68.feather\n",
      "Running experiment for track 92...\n",
      "Results for track 88 saved to ./monocasting_results_bmeasure/88.feather\n",
      "Running experiment for track 93...\n",
      "Results for track 78 saved to ./monocasting_results_bmeasure/78.feather\n",
      "Running experiment for track 94...\n",
      "Results for track 92 saved to ./monocasting_results_bmeasure/92.feather\n",
      "Running experiment for track 95...\n",
      "Results for track 94 saved to ./monocasting_results_bmeasure/94.feather\n",
      "Running experiment for track 98...\n",
      "Results for track 63 saved to ./monocasting_results_bmeasure/63.feather\n",
      "Results for track 95 saved to ./monocasting_results_bmeasure/95.feather\n",
      "Results for track 70 saved to ./monocasting_results_bmeasure/70.feather\n",
      "Results for track 91 saved to ./monocasting_results_bmeasure/91.feather\n",
      "Running experiment for track 101...\n",
      "Running experiment for track 99...\n",
      "Running experiment for track 103...\n",
      "Running experiment for track 100...\n",
      "Results for track 101 saved to ./monocasting_results_bmeasure/101.feather\n",
      "Results for track 86 saved to ./monocasting_results_bmeasure/86.feather\n",
      "Running experiment for track 107...\n",
      "Running experiment for track 104...\n",
      "Results for track 98 saved to ./monocasting_results_bmeasure/98.feather\n",
      "Running experiment for track 108...\n",
      "Results for track 103 saved to ./monocasting_results_bmeasure/103.feather\n",
      "Results for track 100 saved to ./monocasting_results_bmeasure/100.feather\n",
      "Results for track 107 saved to ./monocasting_results_bmeasure/107.feather\n",
      "Running experiment for track 109...\n",
      "Running experiment for track 110...\n",
      "Running experiment for track 111...\n",
      "Results for track 93 saved to ./monocasting_results_bmeasure/93.feather\n",
      "Results for track 99 saved to ./monocasting_results_bmeasure/99.feather\n",
      "Running experiment for track 112...\n",
      "Results for track 104 saved to ./monocasting_results_bmeasure/104.feather\n",
      "Running experiment for track 114...\n",
      "Running experiment for track 115...\n",
      "Results for track 111 saved to ./monocasting_results_bmeasure/111.feather\n",
      "Running experiment for track 116...\n",
      "Results for track 110 saved to ./monocasting_results_bmeasure/110.feather\n",
      "Running experiment for track 117...\n",
      "Results for track 115 saved to ./monocasting_results_bmeasure/115.feather\n",
      "Results for track 90 saved to ./monocasting_results_bmeasure/90.feather\n",
      "Running experiment for track 118...\n",
      "Running experiment for track 119...\n",
      "Results for track 112 saved to ./monocasting_results_bmeasure/112.feather\n",
      "Running experiment for track 120...\n",
      "Results for track 117 saved to ./monocasting_results_bmeasure/117.feather\n",
      "Running experiment for track 122...\n",
      "Results for track 118 saved to ./monocasting_results_bmeasure/118.feather\n",
      "Running experiment for track 123...\n",
      "Results for track 109 saved to ./monocasting_results_bmeasure/109.feather\n",
      "Results for track 120 saved to ./monocasting_results_bmeasure/120.feather\n",
      "Running experiment for track 125...\n",
      "Running experiment for track 124...\n",
      "Results for track 116 saved to ./monocasting_results_bmeasure/116.feather\n",
      "Running experiment for track 126...\n",
      "Results for track 119 saved to ./monocasting_results_bmeasure/119.feather\n",
      "Results for track 123 saved to ./monocasting_results_bmeasure/123.feather\n",
      "Running experiment for track 127...\n",
      "Running experiment for track 128...\n",
      "Results for track 114 saved to ./monocasting_results_bmeasure/114.feather\n",
      "Running experiment for track 130...\n",
      "Results for track 127 saved to ./monocasting_results_bmeasure/127.feather\n",
      "Running experiment for track 131...\n",
      "Results for track 125 saved to ./monocasting_results_bmeasure/125.feather\n",
      "Results for track 128 saved to ./monocasting_results_bmeasure/128.feather\n",
      "Results for track 108 saved to ./monocasting_results_bmeasure/108.feather\n",
      "Running experiment for track 132...\n",
      "Running experiment for track 133...\n",
      "Running experiment for track 135...\n",
      "Results for track 126 saved to ./monocasting_results_bmeasure/126.feather\n",
      "Results for track 130 saved to ./monocasting_results_bmeasure/130.feather\n",
      "Running experiment for track 136...\n",
      "Running experiment for track 138...\n",
      "Results for track 122 saved to ./monocasting_results_bmeasure/122.feather\n",
      "Results for track 131 saved to ./monocasting_results_bmeasure/131.feather\n",
      "Running experiment for track 139...\n",
      "Running experiment for track 140...\n",
      "Results for track 138 saved to ./monocasting_results_bmeasure/138.feather\n",
      "Results for track 135 saved to ./monocasting_results_bmeasure/135.feather\n",
      "Running experiment for track 141...\n",
      "Running experiment for track 142...\n",
      "Results for track 136 saved to ./monocasting_results_bmeasure/136.feather\n",
      "Results for track 132 saved to ./monocasting_results_bmeasure/132.feather\n",
      "Running experiment for track 143...\n",
      "Running experiment for track 146...\n",
      "Results for track 133 saved to ./monocasting_results_bmeasure/133.feather\n",
      "Results for track 140 saved to ./monocasting_results_bmeasure/140.feather\n",
      "Running experiment for track 147...\n",
      "Running experiment for track 148...\n",
      "Results for track 148 saved to ./monocasting_results_bmeasure/148.feather\n",
      "Running experiment for track 149...\n",
      "Results for track 142 saved to ./monocasting_results_bmeasure/142.feather\n",
      "Running experiment for track 150...\n",
      "Results for track 139 saved to ./monocasting_results_bmeasure/139.feather\n",
      "Running experiment for track 151...\n",
      "Results for track 150 saved to ./monocasting_results_bmeasure/150.feather\n",
      "Running experiment for track 152...\n",
      "Results for track 151 saved to ./monocasting_results_bmeasure/151.feather\n",
      "Running experiment for track 154...\n",
      "Results for track 146 saved to ./monocasting_results_bmeasure/146.feather\n",
      "Running experiment for track 155...\n",
      "Results for track 147 saved to ./monocasting_results_bmeasure/147.feather\n",
      "Running experiment for track 156...\n",
      "Results for track 149 saved to ./monocasting_results_bmeasure/149.feather\n",
      "Results for track 143 saved to ./monocasting_results_bmeasure/143.feather\n",
      "Running experiment for track 158...\n",
      "Running experiment for track 159...\n",
      "Results for track 154 saved to ./monocasting_results_bmeasure/154.feather\n",
      "Running experiment for track 160...\n",
      "Results for track 141 saved to ./monocasting_results_bmeasure/141.feather\n",
      "Running experiment for track 162...\n",
      "Results for track 155 saved to ./monocasting_results_bmeasure/155.feather\n",
      "Results for track 124 saved to ./monocasting_results_bmeasure/124.feather\n",
      "Running experiment for track 163...\n",
      "Running experiment for track 164...\n",
      "Results for track 152 saved to ./monocasting_results_bmeasure/152.feather\n",
      "Running experiment for track 165...\n",
      "Results for track 160 saved to ./monocasting_results_bmeasure/160.feather\n",
      "Running experiment for track 166...\n",
      "Results for track 162 saved to ./monocasting_results_bmeasure/162.feather\n",
      "Running experiment for track 168...\n",
      "Results for track 166 saved to ./monocasting_results_bmeasure/166.feather\n",
      "Results for track 163 saved to ./monocasting_results_bmeasure/163.feather\n",
      "Running experiment for track 171...\n",
      "Running experiment for track 170...\n",
      "Results for track 159 saved to ./monocasting_results_bmeasure/159.feather\n",
      "Results for track 165 saved to ./monocasting_results_bmeasure/165.feather\n",
      "Running experiment for track 176...\n",
      "Running experiment for track 173...\n",
      "Results for track 168 saved to ./monocasting_results_bmeasure/168.feather\n",
      "Results for track 171 saved to ./monocasting_results_bmeasure/171.feather\n",
      "Results for track 156 saved to ./monocasting_results_bmeasure/156.feather\n",
      "Results for track 176 saved to ./monocasting_results_bmeasure/176.feather\n",
      "Running experiment for track 179...\n",
      "Running experiment for track 183...\n",
      "Running experiment for track 180...\n",
      "Running experiment for track 184...\n",
      "Results for track 158 saved to ./monocasting_results_bmeasure/158.feather\n",
      "Running experiment for track 186...\n",
      "Results for track 183 saved to ./monocasting_results_bmeasure/183.feather\n",
      "Running experiment for track 188...\n",
      "Results for track 173 saved to ./monocasting_results_bmeasure/173.feather\n",
      "Running experiment for track 189...\n",
      "Results for track 170 saved to ./monocasting_results_bmeasure/170.feather\n",
      "Results for track 179 saved to ./monocasting_results_bmeasure/179.feather\n",
      "Results for track 164 saved to ./monocasting_results_bmeasure/164.feather\n",
      "Running experiment for track 190...\n",
      "Running experiment for track 192...\n",
      "Running experiment for track 197...\n",
      "Results for track 180 saved to ./monocasting_results_bmeasure/180.feather\n",
      "Running experiment for track 198...\n",
      "Results for track 190 saved to ./monocasting_results_bmeasure/190.feather\n",
      "Running experiment for track 200...\n",
      "Results for track 197 saved to ./monocasting_results_bmeasure/197.feather\n",
      "Running experiment for track 202...\n",
      "Results for track 198 saved to ./monocasting_results_bmeasure/198.feather\n",
      "Running experiment for track 203...\n",
      "Results for track 192 saved to ./monocasting_results_bmeasure/192.feather\n",
      "Running experiment for track 204...\n",
      "Results for track 188 saved to ./monocasting_results_bmeasure/188.feather\n",
      "Running experiment for track 205...\n",
      "Results for track 200 saved to ./monocasting_results_bmeasure/200.feather\n",
      "Running experiment for track 206...\n",
      "Results for track 184 saved to ./monocasting_results_bmeasure/184.feather\n",
      "Running experiment for track 207...\n",
      "Results for track 205 saved to ./monocasting_results_bmeasure/205.feather\n",
      "Running experiment for track 210...\n",
      "Results for track 204 saved to ./monocasting_results_bmeasure/204.feather\n",
      "Running experiment for track 211...\n",
      "Results for track 210 saved to ./monocasting_results_bmeasure/210.feather\n",
      "Results for track 202 saved to ./monocasting_results_bmeasure/202.feather\n",
      "Results for track 206 saved to ./monocasting_results_bmeasure/206.feather\n",
      "Running experiment for track 213...\n",
      "Running experiment for track 212...\n",
      "Running experiment for track 214...\n",
      "Results for track 189 saved to ./monocasting_results_bmeasure/189.feather\n",
      "Running experiment for track 215...\n",
      "Results for track 211 saved to ./monocasting_results_bmeasure/211.feather\n",
      "Running experiment for track 216...\n",
      "Results for track 186 saved to ./monocasting_results_bmeasure/186.feather\n",
      "Running experiment for track 218...\n",
      "Results for track 207 saved to ./monocasting_results_bmeasure/207.feather\n",
      "Results for track 214 saved to ./monocasting_results_bmeasure/214.feather\n",
      "Running experiment for track 219...\n",
      "Running experiment for track 220...\n",
      "Results for track 215 saved to ./monocasting_results_bmeasure/215.feather\n",
      "Results for track 216 saved to ./monocasting_results_bmeasure/216.feather\n",
      "Running experiment for track 221...\n",
      "Running experiment for track 222...\n",
      "Results for track 212 saved to ./monocasting_results_bmeasure/212.feather\n",
      "Results for track 218 saved to ./monocasting_results_bmeasure/218.feather\n",
      "Results for track 213 saved to ./monocasting_results_bmeasure/213.feather\n",
      "Running experiment for track 223...\n",
      "Running experiment for track 227...\n",
      "Running experiment for track 228...\n",
      "Results for track 220 saved to ./monocasting_results_bmeasure/220.feather\n",
      "Running experiment for track 229...\n",
      "Results for track 219 saved to ./monocasting_results_bmeasure/219.feather\n",
      "Results for track 223 saved to ./monocasting_results_bmeasure/223.feather\n",
      "Running experiment for track 231...\n",
      "Running experiment for track 232...\n",
      "Results for track 227 saved to ./monocasting_results_bmeasure/227.feather\n",
      "Running experiment for track 234...\n",
      "Results for track 203 saved to ./monocasting_results_bmeasure/203.feather\n",
      "Results for track 228 saved to ./monocasting_results_bmeasure/228.feather\n",
      "Results for track 232 saved to ./monocasting_results_bmeasure/232.feather\n",
      "Running experiment for track 236...\n",
      "Running experiment for track 235...\n",
      "Running experiment for track 237...\n",
      "Results for track 229 saved to ./monocasting_results_bmeasure/229.feather\n",
      "Running experiment for track 239...\n",
      "Results for track 235 saved to ./monocasting_results_bmeasure/235.feather\n",
      "Running experiment for track 240...\n",
      "Results for track 236 saved to ./monocasting_results_bmeasure/236.feather\n",
      "Running experiment for track 242...\n",
      "Results for track 240 saved to ./monocasting_results_bmeasure/240.feather\n",
      "Results for track 234 saved to ./monocasting_results_bmeasure/234.feather\n",
      "Running experiment for track 243...\n",
      "Running experiment for track 244...\n",
      "Results for track 221 saved to ./monocasting_results_bmeasure/221.feather\n",
      "Running experiment for track 245...\n",
      "Results for track 243 saved to ./monocasting_results_bmeasure/243.feather\n",
      "Results for track 239 saved to ./monocasting_results_bmeasure/239.feather\n",
      "Running experiment for track 247...\n",
      "Running experiment for track 248...\n",
      "Results for track 242 saved to ./monocasting_results_bmeasure/242.feather\n",
      "Results for track 244 saved to ./monocasting_results_bmeasure/244.feather\n",
      "Running experiment for track 251...\n",
      "Running experiment for track 250...\n",
      "Results for track 222 saved to ./monocasting_results_bmeasure/222.feather\n",
      "Results for track 231 saved to ./monocasting_results_bmeasure/231.feather\n",
      "Running experiment for track 252...\n",
      "Running experiment for track 254...\n",
      "Results for track 248 saved to ./monocasting_results_bmeasure/248.feather\n",
      "Running experiment for track 258...\n",
      "Results for track 247 saved to ./monocasting_results_bmeasure/247.feather\n",
      "Running experiment for track 260...\n",
      "Results for track 245 saved to ./monocasting_results_bmeasure/245.feather\n",
      "Results for track 252 saved to ./monocasting_results_bmeasure/252.feather\n",
      "Results for track 237 saved to ./monocasting_results_bmeasure/237.feather\n",
      "Running experiment for track 261...\n",
      "Running experiment for track 262...\n",
      "Running experiment for track 264...\n",
      "Results for track 258 saved to ./monocasting_results_bmeasure/258.feather\n",
      "Results for track 250 saved to ./monocasting_results_bmeasure/250.feather\n",
      "Running experiment for track 266...\n",
      "Running experiment for track 267...\n",
      "Results for track 254 saved to ./monocasting_results_bmeasure/254.feather\n",
      "Running experiment for track 268...\n",
      "Results for track 260 saved to ./monocasting_results_bmeasure/260.feather\n",
      "Running experiment for track 269...\n",
      "Results for track 262 saved to ./monocasting_results_bmeasure/262.feather\n",
      "Results for track 251 saved to ./monocasting_results_bmeasure/251.feather\n",
      "Running experiment for track 270...\n",
      "Running experiment for track 271...\n",
      "Results for track 267 saved to ./monocasting_results_bmeasure/267.feather\n",
      "Running experiment for track 272...\n",
      "Results for track 266 saved to ./monocasting_results_bmeasure/266.feather\n",
      "Running experiment for track 274...\n",
      "Results for track 271 saved to ./monocasting_results_bmeasure/271.feather\n",
      "Running experiment for track 275...\n",
      "Results for track 272 saved to ./monocasting_results_bmeasure/272.feather\n",
      "Running experiment for track 276...\n",
      "Results for track 274 saved to ./monocasting_results_bmeasure/274.feather\n",
      "Running experiment for track 277...\n",
      "Results for track 268 saved to ./monocasting_results_bmeasure/268.feather\n",
      "Running experiment for track 278...\n",
      "Results for track 275 saved to ./monocasting_results_bmeasure/275.feather\n",
      "Running experiment for track 279...\n",
      "Results for track 278 saved to ./monocasting_results_bmeasure/278.feather\n",
      "Running experiment for track 280...\n",
      "Results for track 270 saved to ./monocasting_results_bmeasure/270.feather\n",
      "Results for track 277 saved to ./monocasting_results_bmeasure/277.feather\n",
      "Running experiment for track 283...\n",
      "Running experiment for track 282...\n",
      "Results for track 283 saved to ./monocasting_results_bmeasure/283.feather\n",
      "Results for track 269 saved to ./monocasting_results_bmeasure/269.feather\n",
      "Running experiment for track 284...\n",
      "Running experiment for track 285...\n",
      "Results for track 280 saved to ./monocasting_results_bmeasure/280.feather\n",
      "Running experiment for track 286...\n",
      "Results for track 276 saved to ./monocasting_results_bmeasure/276.feather\n",
      "Results for track 279 saved to ./monocasting_results_bmeasure/279.feather\n",
      "Running experiment for track 288...\n",
      "Running experiment for track 287...\n",
      "Results for track 285 saved to ./monocasting_results_bmeasure/285.feather\n",
      "Results for track 264 saved to ./monocasting_results_bmeasure/264.feather\n",
      "Running experiment for track 290...\n",
      "Running experiment for track 291...\n",
      "Results for track 282 saved to ./monocasting_results_bmeasure/282.feather\n",
      "Results for track 288 saved to ./monocasting_results_bmeasure/288.feather\n",
      "Results for track 291 saved to ./monocasting_results_bmeasure/291.feather\n",
      "Running experiment for track 293...\n",
      "Running experiment for track 294...\n",
      "Running experiment for track 295...\n",
      "Results for track 286 saved to ./monocasting_results_bmeasure/286.feather\n",
      "Running experiment for track 296...\n",
      "Results for track 287 saved to ./monocasting_results_bmeasure/287.feather\n",
      "Running experiment for track 298...\n",
      "Results for track 296 saved to ./monocasting_results_bmeasure/296.feather\n",
      "Running experiment for track 299...\n",
      "Results for track 294 saved to ./monocasting_results_bmeasure/294.feather\n",
      "Running experiment for track 302...\n",
      "Results for track 284 saved to ./monocasting_results_bmeasure/284.feather\n",
      "Running experiment for track 303...\n",
      "Results for track 298 saved to ./monocasting_results_bmeasure/298.feather\n",
      "Running experiment for track 304...\n",
      "Results for track 299 saved to ./monocasting_results_bmeasure/299.feather\n",
      "Running experiment for track 306...\n",
      "Results for track 295 saved to ./monocasting_results_bmeasure/295.feather\n",
      "Results for track 306 saved to ./monocasting_results_bmeasure/306.feather\n",
      "Running experiment for track 307...\n",
      "Results for track 304 saved to ./monocasting_results_bmeasure/304.feather\n",
      "Running experiment for track 308...\n",
      "Running experiment for track 309...\n",
      "Results for track 290 saved to ./monocasting_results_bmeasure/290.feather\n",
      "Results for track 303 saved to ./monocasting_results_bmeasure/303.feather\n",
      "Running experiment for track 310...\n",
      "Running experiment for track 311...\n",
      "Results for track 309 saved to ./monocasting_results_bmeasure/309.feather\n",
      "Running experiment for track 312...\n",
      "Results for track 261 saved to ./monocasting_results_bmeasure/261.feather\n",
      "Results for track 311 saved to ./monocasting_results_bmeasure/311.feather\n",
      "Running experiment for track 314...\n",
      "Results for track 302 saved to ./monocasting_results_bmeasure/302.feather\n",
      "Running experiment for track 315...\n",
      "Running experiment for track 316...\n",
      "Results for track 307 saved to ./monocasting_results_bmeasure/307.feather\n",
      "Running experiment for track 317...\n",
      "Results for track 308 saved to ./monocasting_results_bmeasure/308.feather\n",
      "Running experiment for track 318...\n",
      "Results for track 312 saved to ./monocasting_results_bmeasure/312.feather\n",
      "Running experiment for track 319...\n",
      "Results for track 314 saved to ./monocasting_results_bmeasure/314.feather\n",
      "Results for track 315 saved to ./monocasting_results_bmeasure/315.feather\n",
      "Running experiment for track 320...\n",
      "Running experiment for track 322...\n",
      "Results for track 316 saved to ./monocasting_results_bmeasure/316.feather\n",
      "Running experiment for track 323...\n",
      "Results for track 310 saved to ./monocasting_results_bmeasure/310.feather\n",
      "Running experiment for track 324...\n",
      "Results for track 317 saved to ./monocasting_results_bmeasure/317.feather\n",
      "Running experiment for track 325...\n",
      "Results for track 318 saved to ./monocasting_results_bmeasure/318.feather\n",
      "Results for track 319 saved to ./monocasting_results_bmeasure/319.feather\n",
      "Running experiment for track 326...\n",
      "Running experiment for track 327...\n",
      "Results for track 320 saved to ./monocasting_results_bmeasure/320.feather\n",
      "Running experiment for track 328...\n",
      "Results for track 322 saved to ./monocasting_results_bmeasure/322.feather\n",
      "Running experiment for track 330...\n",
      "Results for track 328 saved to ./monocasting_results_bmeasure/328.feather\n",
      "Running experiment for track 331...\n",
      "Results for track 325 saved to ./monocasting_results_bmeasure/325.feather\n",
      "Results for track 324 saved to ./monocasting_results_bmeasure/324.feather\n",
      "Running experiment for track 333...\n",
      "Running experiment for track 332...\n",
      "Results for track 326 saved to ./monocasting_results_bmeasure/326.feather\n",
      "Results for track 323 saved to ./monocasting_results_bmeasure/323.feather\n",
      "Running experiment for track 334...\n",
      "Running experiment for track 335...\n",
      "Results for track 327 saved to ./monocasting_results_bmeasure/327.feather\n",
      "Results for track 293 saved to ./monocasting_results_bmeasure/293.feather\n",
      "Running experiment for track 336...\n",
      "Results for track 330 saved to ./monocasting_results_bmeasure/330.feather\n",
      "Running experiment for track 338...\n",
      "Running experiment for track 339...\n",
      "Results for track 331 saved to ./monocasting_results_bmeasure/331.feather\n",
      "Running experiment for track 340...\n",
      "Results for track 333 saved to ./monocasting_results_bmeasure/333.feather\n",
      "Running experiment for track 341...\n",
      "Results for track 334 saved to ./monocasting_results_bmeasure/334.feather\n",
      "Running experiment for track 342...\n",
      "Results for track 341 saved to ./monocasting_results_bmeasure/341.feather\n",
      "Running experiment for track 343...\n",
      "Results for track 332 saved to ./monocasting_results_bmeasure/332.feather\n",
      "Results for track 336 saved to ./monocasting_results_bmeasure/336.feather\n",
      "Results for track 339 saved to ./monocasting_results_bmeasure/339.feather\n",
      "Running experiment for track 344...\n",
      "Running experiment for track 346...\n",
      "Running experiment for track 347...\n",
      "Results for track 340 saved to ./monocasting_results_bmeasure/340.feather\n",
      "Results for track 335 saved to ./monocasting_results_bmeasure/335.feather\n",
      "Running experiment for track 348...\n",
      "Running experiment for track 349...\n",
      "Results for track 343 saved to ./monocasting_results_bmeasure/343.feather\n",
      "Running experiment for track 350...\n",
      "Results for track 338 saved to ./monocasting_results_bmeasure/338.feather\n",
      "Running experiment for track 351...\n",
      "Results for track 348 saved to ./monocasting_results_bmeasure/348.feather\n",
      "Running experiment for track 352...\n",
      "Results for track 346 saved to ./monocasting_results_bmeasure/346.feather\n",
      "Running experiment for track 354...\n",
      "Results for track 344 saved to ./monocasting_results_bmeasure/344.feather\n",
      "Running experiment for track 355...\n",
      "Results for track 347 saved to ./monocasting_results_bmeasure/347.feather\n",
      "Results for track 354 saved to ./monocasting_results_bmeasure/354.feather\n",
      "Running experiment for track 356...\n",
      "Running experiment for track 357...\n",
      "Results for track 350 saved to ./monocasting_results_bmeasure/350.feather\n",
      "Results for track 351 saved to ./monocasting_results_bmeasure/351.feather\n",
      "Running experiment for track 359...\n",
      "Running experiment for track 358...\n",
      "Results for track 342 saved to ./monocasting_results_bmeasure/342.feather\n",
      "Results for track 349 saved to ./monocasting_results_bmeasure/349.feather\n",
      "Running experiment for track 360...\n",
      "Results for track 352 saved to ./monocasting_results_bmeasure/352.feather\n",
      "Results for track 359 saved to ./monocasting_results_bmeasure/359.feather\n",
      "Running experiment for track 362...\n",
      "Running experiment for track 363...\n",
      "Running experiment for track 364...\n",
      "Results for track 355 saved to ./monocasting_results_bmeasure/355.feather\n",
      "Running experiment for track 365...\n",
      "Results for track 360 saved to ./monocasting_results_bmeasure/360.feather\n",
      "Results for track 357 saved to ./monocasting_results_bmeasure/357.feather\n",
      "Results for track 358 saved to ./monocasting_results_bmeasure/358.feather\n",
      "Running experiment for track 366...\n",
      "Results for track 363 saved to ./monocasting_results_bmeasure/363.feather\n",
      "Running experiment for track 367...\n",
      "Running experiment for track 368...\n",
      "Running experiment for track 370...\n",
      "Results for track 362 saved to ./monocasting_results_bmeasure/362.feather\n",
      "Results for track 364 saved to ./monocasting_results_bmeasure/364.feather\n",
      "Running experiment for track 371...\n",
      "Running experiment for track 372...\n",
      "Results for track 356 saved to ./monocasting_results_bmeasure/356.feather\n",
      "Running experiment for track 373...\n",
      "Results for track 365 saved to ./monocasting_results_bmeasure/365.feather\n",
      "Running experiment for track 374...\n",
      "Results for track 373 saved to ./monocasting_results_bmeasure/373.feather\n",
      "Running experiment for track 376...\n",
      "Results for track 372 saved to ./monocasting_results_bmeasure/372.feather\n",
      "Results for track 367 saved to ./monocasting_results_bmeasure/367.feather\n",
      "Running experiment for track 378...\n",
      "Results for track 366 saved to ./monocasting_results_bmeasure/366.feather\n",
      "Results for track 374 saved to ./monocasting_results_bmeasure/374.feather\n",
      "Results for track 370 saved to ./monocasting_results_bmeasure/370.feather\n",
      "Running experiment for track 379...\n",
      "Running experiment for track 381...\n",
      "Running experiment for track 380...\n",
      "Results for track 378 saved to ./monocasting_results_bmeasure/378.feather\n",
      "Running experiment for track 382...\n",
      "Running experiment for track 383...\n",
      "Results for track 371 saved to ./monocasting_results_bmeasure/371.feather\n",
      "Results for track 381 saved to ./monocasting_results_bmeasure/381.feather\n",
      "Running experiment for track 384...\n",
      "Running experiment for track 386...\n",
      "Results for track 380 saved to ./monocasting_results_bmeasure/380.feather\n",
      "Running experiment for track 387...\n",
      "Results for track 368 saved to ./monocasting_results_bmeasure/368.feather\n",
      "Running experiment for track 388...\n",
      "Results for track 383 saved to ./monocasting_results_bmeasure/383.feather\n",
      "Results for track 382 saved to ./monocasting_results_bmeasure/382.feather\n",
      "Results for track 376 saved to ./monocasting_results_bmeasure/376.feather\n",
      "Results for track 379 saved to ./monocasting_results_bmeasure/379.feather\n",
      "Running experiment for track 390...\n",
      "Running experiment for track 389...\n",
      "Running experiment for track 392...\n",
      "Results for track 386 saved to ./monocasting_results_bmeasure/386.feather\n",
      "Running experiment for track 391...\n",
      "Running experiment for track 394...\n",
      "Results for track 387 saved to ./monocasting_results_bmeasure/387.feather\n",
      "Results for track 388 saved to ./monocasting_results_bmeasure/388.feather\n",
      "Running experiment for track 395...\n",
      "Running experiment for track 396...\n",
      "Results for track 390 saved to ./monocasting_results_bmeasure/390.feather\n",
      "Results for track 384 saved to ./monocasting_results_bmeasure/384.feather\n",
      "Running experiment for track 398...\n",
      "Running experiment for track 397...\n",
      "Results for track 394 saved to ./monocasting_results_bmeasure/394.feather\n",
      "Running experiment for track 399...\n",
      "Results for track 392 saved to ./monocasting_results_bmeasure/392.feather\n",
      "Running experiment for track 400...\n",
      "Results for track 398 saved to ./monocasting_results_bmeasure/398.feather\n",
      "Results for track 395 saved to ./monocasting_results_bmeasure/395.feather\n",
      "Running experiment for track 402...\n",
      "Running experiment for track 403...\n",
      "Results for track 396 saved to ./monocasting_results_bmeasure/396.feather\n",
      "Running experiment for track 404...\n",
      "Results for track 397 saved to ./monocasting_results_bmeasure/397.feather\n",
      "Results for track 391 saved to ./monocasting_results_bmeasure/391.feather\n",
      "Results for track 399 saved to ./monocasting_results_bmeasure/399.feather\n",
      "Running experiment for track 405...\n",
      "Running experiment for track 407...\n",
      "Running experiment for track 406...\n",
      "Results for track 400 saved to ./monocasting_results_bmeasure/400.feather\n",
      "Results for track 403 saved to ./monocasting_results_bmeasure/403.feather\n",
      "Running experiment for track 410...\n",
      "Running experiment for track 408...\n",
      "Results for track 404 saved to ./monocasting_results_bmeasure/404.feather\n",
      "Results for track 389 saved to ./monocasting_results_bmeasure/389.feather\n",
      "Running experiment for track 411...\n",
      "Results for track 402 saved to ./monocasting_results_bmeasure/402.feather\n",
      "Running experiment for track 412...\n",
      "Running experiment for track 413...\n",
      "Results for track 410 saved to ./monocasting_results_bmeasure/410.feather\n",
      "Results for track 407 saved to ./monocasting_results_bmeasure/407.feather\n",
      "Running experiment for track 415...\n",
      "Running experiment for track 414...\n",
      "Results for track 408 saved to ./monocasting_results_bmeasure/408.feather\n",
      "Running experiment for track 416...\n",
      "Results for track 405 saved to ./monocasting_results_bmeasure/405.feather\n",
      "Running experiment for track 418...\n",
      "Results for track 415 saved to ./monocasting_results_bmeasure/415.feather\n",
      "Results for track 406 saved to ./monocasting_results_bmeasure/406.feather\n",
      "Running experiment for track 420...\n",
      "Running experiment for track 421...\n",
      "Results for track 413 saved to ./monocasting_results_bmeasure/413.feather\n",
      "Results for track 412 saved to ./monocasting_results_bmeasure/412.feather\n",
      "Running experiment for track 422...\n",
      "Running experiment for track 423...\n",
      "Results for track 420 saved to ./monocasting_results_bmeasure/420.feather\n",
      "Results for track 416 saved to ./monocasting_results_bmeasure/416.feather\n",
      "Running experiment for track 424...\n",
      "Running experiment for track 426...\n",
      "Results for track 414 saved to ./monocasting_results_bmeasure/414.feather\n",
      "Results for track 411 saved to ./monocasting_results_bmeasure/411.feather\n",
      "Running experiment for track 428...\n",
      "Running experiment for track 427...\n",
      "Results for track 418 saved to ./monocasting_results_bmeasure/418.feather\n",
      "Running experiment for track 429...\n",
      "Results for track 422 saved to ./monocasting_results_bmeasure/422.feather\n",
      "Running experiment for track 430...\n",
      "Results for track 428 saved to ./monocasting_results_bmeasure/428.feather\n",
      "Running experiment for track 431...\n",
      "Results for track 426 saved to ./monocasting_results_bmeasure/426.feather\n",
      "Results for track 429 saved to ./monocasting_results_bmeasure/429.feather\n",
      "Running experiment for track 432...\n",
      "Running experiment for track 434...\n",
      "Results for track 430 saved to ./monocasting_results_bmeasure/430.feather\n",
      "Running experiment for track 435...\n",
      "Results for track 421 saved to ./monocasting_results_bmeasure/421.feather\n",
      "Results for track 435 saved to ./monocasting_results_bmeasure/435.feather\n",
      "Running experiment for track 436...\n",
      "Running experiment for track 437...\n",
      "Results for track 431 saved to ./monocasting_results_bmeasure/431.feather\n",
      "Results for track 434 saved to ./monocasting_results_bmeasure/434.feather\n",
      "Running experiment for track 438...\n",
      "Running experiment for track 439...\n",
      "Results for track 424 saved to ./monocasting_results_bmeasure/424.feather\n",
      "Running experiment for track 440...\n",
      "Results for track 427 saved to ./monocasting_results_bmeasure/427.feather\n",
      "Running experiment for track 442...\n",
      "Results for track 439 saved to ./monocasting_results_bmeasure/439.feather\n",
      "Running experiment for track 443...\n",
      "Results for track 438 saved to ./monocasting_results_bmeasure/438.feather\n",
      "Running experiment for track 444...\n",
      "Results for track 437 saved to ./monocasting_results_bmeasure/437.feather\n",
      "Running experiment for track 445...\n",
      "Results for track 443 saved to ./monocasting_results_bmeasure/443.feather\n",
      "Running experiment for track 446...\n",
      "Results for track 423 saved to ./monocasting_results_bmeasure/423.feather\n",
      "Running experiment for track 447...\n",
      "Results for track 440 saved to ./monocasting_results_bmeasure/440.feather\n",
      "Results for track 436 saved to ./monocasting_results_bmeasure/436.feather\n",
      "Running experiment for track 448...\n",
      "Running experiment for track 450...\n",
      "Results for track 446 saved to ./monocasting_results_bmeasure/446.feather\n",
      "Running experiment for track 451...\n",
      "Results for track 442 saved to ./monocasting_results_bmeasure/442.feather\n",
      "Running experiment for track 452...\n",
      "Results for track 445 saved to ./monocasting_results_bmeasure/445.feather\n",
      "Running experiment for track 453...\n",
      "Results for track 450 saved to ./monocasting_results_bmeasure/450.feather\n",
      "Results for track 447 saved to ./monocasting_results_bmeasure/447.feather\n",
      "Running experiment for track 454...\n",
      "Results for track 448 saved to ./monocasting_results_bmeasure/448.feather\n",
      "Running experiment for track 455...\n",
      "Running experiment for track 456...\n",
      "Results for track 432 saved to ./monocasting_results_bmeasure/432.feather\n",
      "Running experiment for track 458...\n",
      "Results for track 451 saved to ./monocasting_results_bmeasure/451.feather\n",
      "Running experiment for track 460...\n",
      "Results for track 444 saved to ./monocasting_results_bmeasure/444.feather\n",
      "Running experiment for track 461...\n",
      "Results for track 454 saved to ./monocasting_results_bmeasure/454.feather\n",
      "Results for track 452 saved to ./monocasting_results_bmeasure/452.feather\n",
      "Results for track 455 saved to ./monocasting_results_bmeasure/455.feather\n",
      "Running experiment for track 463...\n",
      "Running experiment for track 462...\n",
      "Running experiment for track 464...\n",
      "Results for track 461 saved to ./monocasting_results_bmeasure/461.feather\n",
      "Results for track 460 saved to ./monocasting_results_bmeasure/460.feather\n",
      "Running experiment for track 466...\n",
      "Results for track 456 saved to ./monocasting_results_bmeasure/456.feather\n",
      "Running experiment for track 467...\n",
      "Results for track 453 saved to ./monocasting_results_bmeasure/453.feather\n",
      "Running experiment for track 468...\n",
      "Running experiment for track 469...\n",
      "Results for track 458 saved to ./monocasting_results_bmeasure/458.feather\n",
      "Running experiment for track 470...\n",
      "Results for track 463 saved to ./monocasting_results_bmeasure/463.feather\n",
      "Running experiment for track 471...\n",
      "Results for track 464 saved to ./monocasting_results_bmeasure/464.feather\n",
      "Results for track 462 saved to ./monocasting_results_bmeasure/462.feather\n",
      "Results for track 466 saved to ./monocasting_results_bmeasure/466.feather\n",
      "Running experiment for track 472...\n",
      "Running experiment for track 474...\n",
      "Running experiment for track 475...\n",
      "Results for track 467 saved to ./monocasting_results_bmeasure/467.feather\n",
      "Running experiment for track 476...\n",
      "Results for track 470 saved to ./monocasting_results_bmeasure/470.feather\n",
      "Running experiment for track 477...\n",
      "Results for track 469 saved to ./monocasting_results_bmeasure/469.feather\n",
      "Running experiment for track 478...\n",
      "Results for track 471 saved to ./monocasting_results_bmeasure/471.feather\n",
      "Running experiment for track 479...\n",
      "Results for track 475 saved to ./monocasting_results_bmeasure/475.feather\n",
      "Running experiment for track 480...\n",
      "Results for track 472 saved to ./monocasting_results_bmeasure/472.feather\n",
      "Running experiment for track 482...\n",
      "Results for track 477 saved to ./monocasting_results_bmeasure/477.feather\n",
      "Results for track 474 saved to ./monocasting_results_bmeasure/474.feather\n",
      "Running experiment for track 483...\n",
      "Running experiment for track 484...\n",
      "Results for track 468 saved to ./monocasting_results_bmeasure/468.feather\n",
      "Results for track 482 saved to ./monocasting_results_bmeasure/482.feather\n",
      "Running experiment for track 485...\n",
      "Results for track 483 saved to ./monocasting_results_bmeasure/483.feather\n",
      "Running experiment for track 486...\n",
      "Running experiment for track 487...\n",
      "Results for track 476 saved to ./monocasting_results_bmeasure/476.feather\n",
      "Results for track 484 saved to ./monocasting_results_bmeasure/484.feather\n",
      "Running experiment for track 488...\n",
      "Running experiment for track 490...\n",
      "Results for track 478 saved to ./monocasting_results_bmeasure/478.feather\n",
      "Running experiment for track 491...\n",
      "Results for track 480 saved to ./monocasting_results_bmeasure/480.feather\n",
      "Results for track 479 saved to ./monocasting_results_bmeasure/479.feather\n",
      "Running experiment for track 492...\n",
      "Running experiment for track 493...\n",
      "Results for track 486 saved to ./monocasting_results_bmeasure/486.feather\n",
      "Running experiment for track 494...\n",
      "Results for track 487 saved to ./monocasting_results_bmeasure/487.feather\n",
      "Running experiment for track 495...\n",
      "Results for track 492 saved to ./monocasting_results_bmeasure/492.feather\n",
      "Running experiment for track 496...\n",
      "Results for track 493 saved to ./monocasting_results_bmeasure/493.feather\n",
      "Results for track 491 saved to ./monocasting_results_bmeasure/491.feather\n",
      "Running experiment for track 498...\n",
      "Running experiment for track 499...\n",
      "Results for track 488 saved to ./monocasting_results_bmeasure/488.feather\n",
      "Results for track 485 saved to ./monocasting_results_bmeasure/485.feather\n",
      "Results for track 490 saved to ./monocasting_results_bmeasure/490.feather\n",
      "Running experiment for track 500...\n",
      "Running experiment for track 501...\n",
      "Running experiment for track 502...\n",
      "Results for track 494 saved to ./monocasting_results_bmeasure/494.feather\n",
      "Running experiment for track 503...\n",
      "Results for track 496 saved to ./monocasting_results_bmeasure/496.feather\n",
      "Running experiment for track 504...\n",
      "Results for track 495 saved to ./monocasting_results_bmeasure/495.feather\n",
      "Running experiment for track 506...\n",
      "Results for track 498 saved to ./monocasting_results_bmeasure/498.feather\n",
      "Running experiment for track 507...\n",
      "Results for track 503 saved to ./monocasting_results_bmeasure/503.feather\n",
      "Running experiment for track 508...\n",
      "Results for track 501 saved to ./monocasting_results_bmeasure/501.feather\n",
      "Running experiment for track 509...\n",
      "Results for track 506 saved to ./monocasting_results_bmeasure/506.feather\n",
      "Results for track 504 saved to ./monocasting_results_bmeasure/504.feather\n",
      "Running experiment for track 510...\n",
      "Running experiment for track 511...\n",
      "Results for track 502 saved to ./monocasting_results_bmeasure/502.feather\n",
      "Running experiment for track 512...\n",
      "Results for track 500 saved to ./monocasting_results_bmeasure/500.feather\n",
      "Running experiment for track 514...\n",
      "Results for track 499 saved to ./monocasting_results_bmeasure/499.feather\n",
      "Running experiment for track 515...\n",
      "Results for track 512 saved to ./monocasting_results_bmeasure/512.feather\n",
      "Results for track 507 saved to ./monocasting_results_bmeasure/507.feather\n",
      "Running experiment for track 516...\n",
      "Results for track 511 saved to ./monocasting_results_bmeasure/511.feather\n",
      "Results for track 508 saved to ./monocasting_results_bmeasure/508.feather\n",
      "Running experiment for track 517...\n",
      "Running experiment for track 519...\n",
      "Running experiment for track 518...\n",
      "Results for track 509 saved to ./monocasting_results_bmeasure/509.feather\n",
      "Results for track 514 saved to ./monocasting_results_bmeasure/514.feather\n",
      "Running experiment for track 520...\n",
      "Results for track 519 saved to ./monocasting_results_bmeasure/519.feather\n",
      "Running experiment for track 522...\n",
      "Running experiment for track 523...\n",
      "Results for track 510 saved to ./monocasting_results_bmeasure/510.feather\n",
      "Running experiment for track 524...\n",
      "Results for track 518 saved to ./monocasting_results_bmeasure/518.feather\n",
      "Running experiment for track 525...\n",
      "Results for track 523 saved to ./monocasting_results_bmeasure/523.feather\n",
      "Running experiment for track 526...\n",
      "Results for track 515 saved to ./monocasting_results_bmeasure/515.feather\n",
      "Running experiment for track 527...\n",
      "Results for track 520 saved to ./monocasting_results_bmeasure/520.feather\n",
      "Results for track 524 saved to ./monocasting_results_bmeasure/524.feather\n",
      "Running experiment for track 528...\n",
      "Running experiment for track 530...\n",
      "Results for track 525 saved to ./monocasting_results_bmeasure/525.feather\n",
      "Results for track 522 saved to ./monocasting_results_bmeasure/522.feather\n",
      "Running experiment for track 531...\n",
      "Running experiment for track 532...\n",
      "Results for track 517 saved to ./monocasting_results_bmeasure/517.feather\n",
      "Results for track 526 saved to ./monocasting_results_bmeasure/526.feather\n",
      "Results for track 527 saved to ./monocasting_results_bmeasure/527.feather\n",
      "Running experiment for track 533...\n",
      "Running experiment for track 534...\n",
      "Running experiment for track 535...\n",
      "Results for track 530 saved to ./monocasting_results_bmeasure/530.feather\n",
      "Running experiment for track 536...\n",
      "Results for track 531 saved to ./monocasting_results_bmeasure/531.feather\n",
      "Results for track 516 saved to ./monocasting_results_bmeasure/516.feather\n",
      "Running experiment for track 538...\n",
      "Running experiment for track 539...\n",
      "Results for track 534 saved to ./monocasting_results_bmeasure/534.feather\n",
      "Results for track 538 saved to ./monocasting_results_bmeasure/538.feather\n",
      "Running experiment for track 540...\n",
      "Running experiment for track 541...\n",
      "Results for track 535 saved to ./monocasting_results_bmeasure/535.feather\n",
      "Running experiment for track 542...\n",
      "Results for track 540 saved to ./monocasting_results_bmeasure/540.feather\n",
      "Results for track 533 saved to ./monocasting_results_bmeasure/533.feather\n",
      "Running experiment for track 543...\n",
      "Running experiment for track 544...\n",
      "Results for track 541 saved to ./monocasting_results_bmeasure/541.feather\n",
      "Results for track 528 saved to ./monocasting_results_bmeasure/528.feather\n",
      "Running experiment for track 546...\n",
      "Running experiment for track 547...\n",
      "Results for track 536 saved to ./monocasting_results_bmeasure/536.feather\n",
      "Running experiment for track 548...\n",
      "Results for track 532 saved to ./monocasting_results_bmeasure/532.feather\n",
      "Results for track 543 saved to ./monocasting_results_bmeasure/543.feather\n",
      "Running experiment for track 549...\n",
      "Running experiment for track 550...\n",
      "Results for track 539 saved to ./monocasting_results_bmeasure/539.feather\n",
      "Running experiment for track 551...\n",
      "Results for track 547 saved to ./monocasting_results_bmeasure/547.feather\n",
      "Results for track 544 saved to ./monocasting_results_bmeasure/544.feather\n",
      "Running experiment for track 552...\n",
      "Running experiment for track 554...\n",
      "Results for track 542 saved to ./monocasting_results_bmeasure/542.feather\n",
      "Running experiment for track 555...\n",
      "Results for track 550 saved to ./monocasting_results_bmeasure/550.feather\n",
      "Running experiment for track 556...\n",
      "Results for track 546 saved to ./monocasting_results_bmeasure/546.feather\n",
      "Results for track 549 saved to ./monocasting_results_bmeasure/549.feather\n",
      "Running experiment for track 557...\n",
      "Results for track 554 saved to ./monocasting_results_bmeasure/554.feather\n",
      "Running experiment for track 558...\n",
      "Running experiment for track 559...\n",
      "Results for track 552 saved to ./monocasting_results_bmeasure/552.feather\n",
      "Running experiment for track 562...\n",
      "Results for track 555 saved to ./monocasting_results_bmeasure/555.feather\n",
      "Running experiment for track 563...\n",
      "Results for track 548 saved to ./monocasting_results_bmeasure/548.feather\n",
      "Running experiment for track 564...\n",
      "Results for track 551 saved to ./monocasting_results_bmeasure/551.feather\n",
      "Results for track 562 saved to ./monocasting_results_bmeasure/562.feather\n",
      "Results for track 558 saved to ./monocasting_results_bmeasure/558.feather\n",
      "Running experiment for track 565...\n",
      "Running experiment for track 567...\n",
      "Running experiment for track 566...\n",
      "Results for track 557 saved to ./monocasting_results_bmeasure/557.feather\n",
      "Running experiment for track 568...\n",
      "Results for track 556 saved to ./monocasting_results_bmeasure/556.feather\n",
      "Running experiment for track 570...\n",
      "Results for track 564 saved to ./monocasting_results_bmeasure/564.feather\n",
      "Running experiment for track 571...\n",
      "Results for track 559 saved to ./monocasting_results_bmeasure/559.feather\n",
      "Running experiment for track 572...\n",
      "Results for track 567 saved to ./monocasting_results_bmeasure/567.feather\n",
      "Results for track 566 saved to ./monocasting_results_bmeasure/566.feather\n",
      "Results for track 565 saved to ./monocasting_results_bmeasure/565.feather\n",
      "Running experiment for track 573...\n",
      "Results for track 563 saved to ./monocasting_results_bmeasure/563.feather\n",
      "Running experiment for track 574...\n",
      "Results for track 570 saved to ./monocasting_results_bmeasure/570.feather\n",
      "Running experiment for track 575...\n",
      "Running experiment for track 576...\n",
      "Running experiment for track 578...\n",
      "Results for track 571 saved to ./monocasting_results_bmeasure/571.feather\n",
      "Running experiment for track 579...\n",
      "Results for track 572 saved to ./monocasting_results_bmeasure/572.feather\n",
      "Running experiment for track 580...\n",
      "Results for track 574 saved to ./monocasting_results_bmeasure/574.feather\n",
      "Results for track 575 saved to ./monocasting_results_bmeasure/575.feather\n",
      "Results for track 576 saved to ./monocasting_results_bmeasure/576.feather\n",
      "Running experiment for track 581...\n",
      "Running experiment for track 582...\n",
      "Running experiment for track 583...\n",
      "Results for track 573 saved to ./monocasting_results_bmeasure/573.feather\n",
      "Results for track 578 saved to ./monocasting_results_bmeasure/578.feather\n",
      "Running experiment for track 584...\n",
      "Running experiment for track 586...\n",
      "Results for track 568 saved to ./monocasting_results_bmeasure/568.feather\n",
      "Running experiment for track 587...\n",
      "Results for track 579 saved to ./monocasting_results_bmeasure/579.feather\n",
      "Running experiment for track 588...\n",
      "Results for track 580 saved to ./monocasting_results_bmeasure/580.feather\n",
      "Results for track 586 saved to ./monocasting_results_bmeasure/586.feather\n",
      "Running experiment for track 589...\n",
      "Running experiment for track 590...\n",
      "Results for track 582 saved to ./monocasting_results_bmeasure/582.feather\n",
      "Running experiment for track 591...\n",
      "Results for track 587 saved to ./monocasting_results_bmeasure/587.feather\n",
      "Results for track 584 saved to ./monocasting_results_bmeasure/584.feather\n",
      "Running experiment for track 592...\n",
      "Running experiment for track 594...\n",
      "Results for track 581 saved to ./monocasting_results_bmeasure/581.feather\n",
      "Results for track 590 saved to ./monocasting_results_bmeasure/590.feather\n",
      "Running experiment for track 595...\n",
      "Running experiment for track 596...\n",
      "Results for track 588 saved to ./monocasting_results_bmeasure/588.feather\n",
      "Results for track 592 saved to ./monocasting_results_bmeasure/592.feather\n",
      "Running experiment for track 597...\n",
      "Results for track 589 saved to ./monocasting_results_bmeasure/589.feather\n",
      "Running experiment for track 598...\n",
      "Results for track 583 saved to ./monocasting_results_bmeasure/583.feather\n",
      "Running experiment for track 599...\n",
      "Running experiment for track 600...\n",
      "Results for track 591 saved to ./monocasting_results_bmeasure/591.feather\n",
      "Running experiment for track 602...\n",
      "Results for track 595 saved to ./monocasting_results_bmeasure/595.feather\n",
      "Running experiment for track 604...\n",
      "Results for track 594 saved to ./monocasting_results_bmeasure/594.feather\n",
      "Running experiment for track 605...\n",
      "Results for track 596 saved to ./monocasting_results_bmeasure/596.feather\n",
      "Results for track 597 saved to ./monocasting_results_bmeasure/597.feather\n",
      "Running experiment for track 606...\n",
      "Running experiment for track 607...\n",
      "Results for track 598 saved to ./monocasting_results_bmeasure/598.feather\n",
      "Running experiment for track 608...\n",
      "Results for track 602 saved to ./monocasting_results_bmeasure/602.feather\n",
      "Results for track 604 saved to ./monocasting_results_bmeasure/604.feather\n",
      "Running experiment for track 610...\n",
      "Results for track 600 saved to ./monocasting_results_bmeasure/600.feather\n",
      "Running experiment for track 612...\n",
      "Results for track 605 saved to ./monocasting_results_bmeasure/605.feather\n",
      "Running experiment for track 611...\n",
      "Running experiment for track 613...\n",
      "Results for track 608 saved to ./monocasting_results_bmeasure/608.feather\n",
      "Results for track 606 saved to ./monocasting_results_bmeasure/606.feather\n",
      "Running experiment for track 614...\n",
      "Running experiment for track 615...\n",
      "Results for track 607 saved to ./monocasting_results_bmeasure/607.feather\n",
      "Running experiment for track 616...\n",
      "Results for track 612 saved to ./monocasting_results_bmeasure/612.feather\n",
      "Results for track 613 saved to ./monocasting_results_bmeasure/613.feather\n",
      "Running experiment for track 618...\n",
      "Running experiment for track 619...\n",
      "Results for track 614 saved to ./monocasting_results_bmeasure/614.feather\n",
      "Running experiment for track 620...\n",
      "Results for track 599 saved to ./monocasting_results_bmeasure/599.feather\n",
      "Results for track 615 saved to ./monocasting_results_bmeasure/615.feather\n",
      "Results for track 611 saved to ./monocasting_results_bmeasure/611.feather\n",
      "Running experiment for track 623...\n",
      "Running experiment for track 622...\n",
      "Running experiment for track 621...\n",
      "Results for track 610 saved to ./monocasting_results_bmeasure/610.feather\n",
      "Running experiment for track 624...\n",
      "Results for track 616 saved to ./monocasting_results_bmeasure/616.feather\n",
      "Running experiment for track 626...\n",
      "Results for track 619 saved to ./monocasting_results_bmeasure/619.feather\n",
      "Running experiment for track 627...\n",
      "Results for track 623 saved to ./monocasting_results_bmeasure/623.feather\n",
      "Results for track 618 saved to ./monocasting_results_bmeasure/618.feather\n",
      "Running experiment for track 629...\n",
      "Running experiment for track 628...\n",
      "Results for track 624 saved to ./monocasting_results_bmeasure/624.feather\n",
      "Results for track 620 saved to ./monocasting_results_bmeasure/620.feather\n",
      "Running experiment for track 630...\n",
      "Running experiment for track 631...\n",
      "Results for track 622 saved to ./monocasting_results_bmeasure/622.feather\n",
      "Running experiment for track 632...\n",
      "Results for track 627 saved to ./monocasting_results_bmeasure/627.feather\n",
      "Results for track 626 saved to ./monocasting_results_bmeasure/626.feather\n",
      "Running experiment for track 634...\n",
      "Running experiment for track 635...\n",
      "Results for track 621 saved to ./monocasting_results_bmeasure/621.feather\n",
      "Results for track 628 saved to ./monocasting_results_bmeasure/628.feather\n",
      "Running experiment for track 636...\n",
      "Running experiment for track 637...\n",
      "Results for track 634 saved to ./monocasting_results_bmeasure/634.feather\n",
      "Running experiment for track 638...\n",
      "Results for track 631 saved to ./monocasting_results_bmeasure/631.feather\n",
      "Results for track 630 saved to ./monocasting_results_bmeasure/630.feather\n",
      "Running experiment for track 639...\n",
      "Running experiment for track 640...\n",
      "Results for track 635 saved to ./monocasting_results_bmeasure/635.feather\n",
      "Results for track 632 saved to ./monocasting_results_bmeasure/632.feather\n",
      "Running experiment for track 642...\n",
      "Running experiment for track 643...\n",
      "Results for track 629 saved to ./monocasting_results_bmeasure/629.feather\n",
      "Running experiment for track 644...\n",
      "Results for track 636 saved to ./monocasting_results_bmeasure/636.feather\n",
      "Running experiment for track 645...\n",
      "Results for track 638 saved to ./monocasting_results_bmeasure/638.feather\n",
      "Results for track 637 saved to ./monocasting_results_bmeasure/637.feather\n",
      "Running experiment for track 646...\n",
      "Running experiment for track 647...\n",
      "Results for track 639 saved to ./monocasting_results_bmeasure/639.feather\n",
      "Running experiment for track 648...\n",
      "Results for track 643 saved to ./monocasting_results_bmeasure/643.feather\n",
      "Results for track 642 saved to ./monocasting_results_bmeasure/642.feather\n",
      "Results for track 640 saved to ./monocasting_results_bmeasure/640.feather\n",
      "Running experiment for track 650...\n",
      "Results for track 645 saved to ./monocasting_results_bmeasure/645.feather\n",
      "Running experiment for track 651...\n",
      "Running experiment for track 652...\n",
      "Running experiment for track 653...\n",
      "Results for track 644 saved to ./monocasting_results_bmeasure/644.feather\n",
      "Running experiment for track 654...\n",
      "Results for track 651 saved to ./monocasting_results_bmeasure/651.feather\n",
      "Results for track 646 saved to ./monocasting_results_bmeasure/646.feather\n",
      "Results for track 647 saved to ./monocasting_results_bmeasure/647.feather\n",
      "Running experiment for track 655...\n",
      "Running experiment for track 658...\n",
      "Running experiment for track 656...\n",
      "Results for track 652 saved to ./monocasting_results_bmeasure/652.feather\n",
      "Running experiment for track 659...\n",
      "Results for track 653 saved to ./monocasting_results_bmeasure/653.feather\n",
      "Results for track 650 saved to ./monocasting_results_bmeasure/650.feather\n",
      "Results for track 648 saved to ./monocasting_results_bmeasure/648.feather\n",
      "Running experiment for track 660...\n",
      "Running experiment for track 661...\n",
      "Running experiment for track 662...\n",
      "Results for track 659 saved to ./monocasting_results_bmeasure/659.feather\n",
      "Results for track 655 saved to ./monocasting_results_bmeasure/655.feather\n",
      "Running experiment for track 664...\n",
      "Running experiment for track 663...\n",
      "Results for track 656 saved to ./monocasting_results_bmeasure/656.feather\n",
      "Running experiment for track 666...\n",
      "Results for track 654 saved to ./monocasting_results_bmeasure/654.feather\n",
      "Running experiment for track 667...\n",
      "Results for track 666 saved to ./monocasting_results_bmeasure/666.feather\n",
      "Results for track 658 saved to ./monocasting_results_bmeasure/658.feather\n",
      "Running experiment for track 668...\n",
      "Results for track 661 saved to ./monocasting_results_bmeasure/661.feather\n",
      "Running experiment for track 669...\n",
      "Running experiment for track 670...\n",
      "Results for track 662 saved to ./monocasting_results_bmeasure/662.feather\n",
      "Running experiment for track 671...\n",
      "Results for track 664 saved to ./monocasting_results_bmeasure/664.feather\n",
      "Running experiment for track 672...\n",
      "Results for track 667 saved to ./monocasting_results_bmeasure/667.feather\n",
      "Running experiment for track 674...\n",
      "Results for track 669 saved to ./monocasting_results_bmeasure/669.feather\n",
      "Results for track 663 saved to ./monocasting_results_bmeasure/663.feather\n",
      "Results for track 660 saved to ./monocasting_results_bmeasure/660.feather\n",
      "Running experiment for track 675...\n",
      "Running experiment for track 676...\n",
      "Running experiment for track 677...\n",
      "Results for track 671 saved to ./monocasting_results_bmeasure/671.feather\n",
      "Results for track 672 saved to ./monocasting_results_bmeasure/672.feather\n",
      "Running experiment for track 679...\n",
      "Results for track 670 saved to ./monocasting_results_bmeasure/670.feather\n",
      "Results for track 679 saved to ./monocasting_results_bmeasure/679.feather\n",
      "Running experiment for track 680...\n",
      "Running experiment for track 678...\n",
      "Results for track 674 saved to ./monocasting_results_bmeasure/674.feather\n",
      "Results for track 675 saved to ./monocasting_results_bmeasure/675.feather\n",
      "Running experiment for track 682...\n",
      "Running experiment for track 683...\n",
      "Running experiment for track 684...\n",
      "Results for track 668 saved to ./monocasting_results_bmeasure/668.feather\n",
      "Results for track 676 saved to ./monocasting_results_bmeasure/676.feather\n",
      "Running experiment for track 685...\n",
      "Running experiment for track 686...\n",
      "Results for track 682 saved to ./monocasting_results_bmeasure/682.feather\n",
      "Running experiment for track 687...\n",
      "Results for track 684 saved to ./monocasting_results_bmeasure/684.feather\n",
      "Running experiment for track 688...\n",
      "Results for track 686 saved to ./monocasting_results_bmeasure/686.feather\n",
      "Running experiment for track 690...\n",
      "Results for track 690 saved to ./monocasting_results_bmeasure/690.feather\n",
      "Results for track 685 saved to ./monocasting_results_bmeasure/685.feather\n",
      "Running experiment for track 691...\n",
      "Results for track 683 saved to ./monocasting_results_bmeasure/683.feather\n",
      "Running experiment for track 692...\n",
      "Running experiment for track 693...\n",
      "Results for track 677 saved to ./monocasting_results_bmeasure/677.feather\n",
      "Results for track 687 saved to ./monocasting_results_bmeasure/687.feather\n",
      "Running experiment for track 694...\n",
      "Results for track 688 saved to ./monocasting_results_bmeasure/688.feather\n",
      "Running experiment for track 696...\n",
      "Running experiment for track 695...\n",
      "Results for track 691 saved to ./monocasting_results_bmeasure/691.feather\n",
      "Running experiment for track 698...\n",
      "Results for track 678 saved to ./monocasting_results_bmeasure/678.feather\n",
      "Running experiment for track 699...\n",
      "Results for track 692 saved to ./monocasting_results_bmeasure/692.feather\n",
      "Results for track 693 saved to ./monocasting_results_bmeasure/693.feather\n",
      "Running experiment for track 700...\n",
      "Results for track 694 saved to ./monocasting_results_bmeasure/694.feather\n",
      "Running experiment for track 701...\n",
      "Running experiment for track 702...\n",
      "Results for track 696 saved to ./monocasting_results_bmeasure/696.feather\n",
      "Running experiment for track 703...\n",
      "Results for track 698 saved to ./monocasting_results_bmeasure/698.feather\n",
      "Results for track 700 saved to ./monocasting_results_bmeasure/700.feather\n",
      "Running experiment for track 704...\n",
      "Results for track 699 saved to ./monocasting_results_bmeasure/699.feather\n",
      "Running experiment for track 706...\n",
      "Results for track 702 saved to ./monocasting_results_bmeasure/702.feather\n",
      "Running experiment for track 707...\n",
      "Results for track 695 saved to ./monocasting_results_bmeasure/695.feather\n",
      "Running experiment for track 708...\n",
      "Running experiment for track 709...\n",
      "Results for track 703 saved to ./monocasting_results_bmeasure/703.feather\n",
      "Running experiment for track 710...\n",
      "Running experiment for track 711...\n",
      "Running experiment for track 712...\n",
      "Running experiment for track 714...\n",
      "Running experiment for track 715...\n",
      "Results for track 709 saved to ./monocasting_results_bmeasure/709.feather\n",
      "Running experiment for track 716...\n",
      "Running experiment for track 717...\n",
      "Running experiment for track 718...\n",
      "Results for track 701 saved to ./monocasting_results_bmeasure/701.feather\n",
      "Running experiment for track 719...\n",
      "Running experiment for track 720...\n",
      "Running experiment for track 722...\n",
      "Results for track 715 saved to ./monocasting_results_bmeasure/715.feather\n",
      "Running experiment for track 723...\n",
      "Results for track 707 saved to ./monocasting_results_bmeasure/707.feather\n",
      "Running experiment for track 724...\n",
      "Running experiment for track 725...\n",
      "Results for track 718 saved to ./monocasting_results_bmeasure/718.feather\n",
      "Running experiment for track 726...\n",
      "Results for track 722 saved to ./monocasting_results_bmeasure/722.feather\n",
      "Running experiment for track 727...\n",
      "Results for track 706 saved to ./monocasting_results_bmeasure/706.feather\n",
      "Results for track 704 saved to ./monocasting_results_bmeasure/704.feather\n",
      "Results for track 723 saved to ./monocasting_results_bmeasure/723.feather\n",
      "Running experiment for track 731...\n",
      "Running experiment for track 728...\n",
      "Running experiment for track 730...\n",
      "Results for track 726 saved to ./monocasting_results_bmeasure/726.feather\n",
      "Running experiment for track 732...\n",
      "Results for track 725 saved to ./monocasting_results_bmeasure/725.feather\n",
      "Results for track 680 saved to ./monocasting_results_bmeasure/680.feather\n",
      "Results for track 708 saved to ./monocasting_results_bmeasure/708.feather\n",
      "Running experiment for track 733...\n",
      "Running experiment for track 735...\n",
      "Running experiment for track 734...\n",
      "Results for track 731 saved to ./monocasting_results_bmeasure/731.feather\n",
      "Running experiment for track 736...\n",
      "Results for track 730 saved to ./monocasting_results_bmeasure/730.feather\n",
      "Running experiment for track 738...\n",
      "Results for track 735 saved to ./monocasting_results_bmeasure/735.feather\n",
      "Running experiment for track 739...\n",
      "Results for track 733 saved to ./monocasting_results_bmeasure/733.feather\n",
      "Results for track 736 saved to ./monocasting_results_bmeasure/736.feather\n",
      "Results for track 738 saved to ./monocasting_results_bmeasure/738.feather\n",
      "Running experiment for track 740...\n",
      "Running experiment for track 741...\n",
      "Running experiment for track 742...\n",
      "Results for track 727 saved to ./monocasting_results_bmeasure/727.feather\n",
      "Running experiment for track 743...\n",
      "Results for track 732 saved to ./monocasting_results_bmeasure/732.feather\n",
      "Running experiment for track 744...\n",
      "Results for track 728 saved to ./monocasting_results_bmeasure/728.feather\n",
      "Results for track 739 saved to ./monocasting_results_bmeasure/739.feather\n",
      "Running experiment for track 746...\n",
      "Running experiment for track 747...\n",
      "Results for track 740 saved to ./monocasting_results_bmeasure/740.feather\n",
      "Results for track 741 saved to ./monocasting_results_bmeasure/741.feather\n",
      "Running experiment for track 748...\n",
      "Running experiment for track 749...\n",
      "Results for track 742 saved to ./monocasting_results_bmeasure/742.feather\n",
      "Results for track 734 saved to ./monocasting_results_bmeasure/734.feather\n",
      "Running experiment for track 750...\n",
      "Results for track 744 saved to ./monocasting_results_bmeasure/744.feather\n",
      "Running experiment for track 751...\n",
      "Running experiment for track 752...\n",
      "Results for track 747 saved to ./monocasting_results_bmeasure/747.feather\n",
      "Running experiment for track 754...\n",
      "Results for track 749 saved to ./monocasting_results_bmeasure/749.feather\n",
      "Running experiment for track 755...\n",
      "Results for track 751 saved to ./monocasting_results_bmeasure/751.feather\n",
      "Running experiment for track 756...\n",
      "Results for track 750 saved to ./monocasting_results_bmeasure/750.feather\n",
      "Results for track 748 saved to ./monocasting_results_bmeasure/748.feather\n",
      "Running experiment for track 757...\n",
      "Running experiment for track 758...\n",
      "Results for track 756 saved to ./monocasting_results_bmeasure/756.feather\n",
      "Results for track 754 saved to ./monocasting_results_bmeasure/754.feather\n",
      "Results for track 752 saved to ./monocasting_results_bmeasure/752.feather\n",
      "Running experiment for track 759...\n",
      "Running experiment for track 762...\n",
      "Running experiment for track 760...\n",
      "Results for track 757 saved to ./monocasting_results_bmeasure/757.feather\n",
      "Running experiment for track 763...\n",
      "Results for track 758 saved to ./monocasting_results_bmeasure/758.feather\n",
      "Results for track 755 saved to ./monocasting_results_bmeasure/755.feather\n",
      "Running experiment for track 765...\n",
      "Running experiment for track 766...\n",
      "Results for track 759 saved to ./monocasting_results_bmeasure/759.feather\n",
      "Running experiment for track 767...\n",
      "Results for track 760 saved to ./monocasting_results_bmeasure/760.feather\n",
      "Results for track 746 saved to ./monocasting_results_bmeasure/746.feather\n",
      "Running experiment for track 768...\n",
      "Running experiment for track 770...\n",
      "Results for track 766 saved to ./monocasting_results_bmeasure/766.feather\n",
      "Running experiment for track 771...\n",
      "Results for track 762 saved to ./monocasting_results_bmeasure/762.feather\n",
      "Running experiment for track 772...\n",
      "Results for track 763 saved to ./monocasting_results_bmeasure/763.feather\n",
      "Running experiment for track 773...\n",
      "Results for track 770 saved to ./monocasting_results_bmeasure/770.feather\n",
      "Running experiment for track 774...\n",
      "Results for track 743 saved to ./monocasting_results_bmeasure/743.feather\n",
      "Running experiment for track 775...\n",
      "Results for track 767 saved to ./monocasting_results_bmeasure/767.feather\n",
      "Results for track 771 saved to ./monocasting_results_bmeasure/771.feather\n",
      "Running experiment for track 776...\n",
      "Running experiment for track 778...\n",
      "Results for track 773 saved to ./monocasting_results_bmeasure/773.feather\n",
      "Results for track 765 saved to ./monocasting_results_bmeasure/765.feather\n",
      "Results for track 768 saved to ./monocasting_results_bmeasure/768.feather\n",
      "Running experiment for track 779...\n",
      "Running experiment for track 780...\n",
      "Running experiment for track 781...\n",
      "Results for track 772 saved to ./monocasting_results_bmeasure/772.feather\n",
      "Running experiment for track 782...\n",
      "Results for track 774 saved to ./monocasting_results_bmeasure/774.feather\n",
      "Running experiment for track 783...\n",
      "Results for track 776 saved to ./monocasting_results_bmeasure/776.feather\n",
      "Running experiment for track 784...\n",
      "Results for track 775 saved to ./monocasting_results_bmeasure/775.feather\n",
      "Running experiment for track 786...\n",
      "Results for track 778 saved to ./monocasting_results_bmeasure/778.feather\n",
      "Results for track 779 saved to ./monocasting_results_bmeasure/779.feather\n",
      "Running experiment for track 788...\n",
      "Running experiment for track 787...\n",
      "Results for track 781 saved to ./monocasting_results_bmeasure/781.feather\n",
      "Running experiment for track 789...\n",
      "Results for track 782 saved to ./monocasting_results_bmeasure/782.feather\n",
      "Running experiment for track 790...\n",
      "Results for track 786 saved to ./monocasting_results_bmeasure/786.feather\n",
      "Results for track 780 saved to ./monocasting_results_bmeasure/780.feather\n",
      "Running experiment for track 791...\n",
      "Running experiment for track 792...\n",
      "Results for track 783 saved to ./monocasting_results_bmeasure/783.feather\n",
      "Running experiment for track 794...\n",
      "Results for track 788 saved to ./monocasting_results_bmeasure/788.feather\n",
      "Running experiment for track 795...\n",
      "Results for track 784 saved to ./monocasting_results_bmeasure/784.feather\n",
      "Running experiment for track 796...\n",
      "Results for track 787 saved to ./monocasting_results_bmeasure/787.feather\n",
      "Running experiment for track 797...\n",
      "Results for track 790 saved to ./monocasting_results_bmeasure/790.feather\n",
      "Results for track 789 saved to ./monocasting_results_bmeasure/789.feather\n",
      "Running experiment for track 798...\n",
      "Results for track 792 saved to ./monocasting_results_bmeasure/792.feather\n",
      "Running experiment for track 799...\n",
      "Running experiment for track 800...\n",
      "Results for track 794 saved to ./monocasting_results_bmeasure/794.feather\n",
      "Results for track 796 saved to ./monocasting_results_bmeasure/796.feather\n",
      "Running experiment for track 803...\n",
      "Results for track 795 saved to ./monocasting_results_bmeasure/795.feather\n",
      "Results for track 791 saved to ./monocasting_results_bmeasure/791.feather\n",
      "Running experiment for track 802...\n",
      "Running experiment for track 805...\n",
      "Results for track 797 saved to ./monocasting_results_bmeasure/797.feather\n",
      "Running experiment for track 806...\n",
      "Running experiment for track 807...\n",
      "Results for track 803 saved to ./monocasting_results_bmeasure/803.feather\n",
      "Running experiment for track 808...\n",
      "Results for track 798 saved to ./monocasting_results_bmeasure/798.feather\n",
      "Running experiment for track 810...\n",
      "Results for track 800 saved to ./monocasting_results_bmeasure/800.feather\n",
      "Running experiment for track 811...\n",
      "Results for track 802 saved to ./monocasting_results_bmeasure/802.feather\n",
      "Running experiment for track 812...\n",
      "Results for track 805 saved to ./monocasting_results_bmeasure/805.feather\n",
      "Results for track 807 saved to ./monocasting_results_bmeasure/807.feather\n",
      "Running experiment for track 813...\n",
      "Running experiment for track 814...\n",
      "Results for track 808 saved to ./monocasting_results_bmeasure/808.feather\n",
      "Results for track 799 saved to ./monocasting_results_bmeasure/799.feather\n",
      "Running experiment for track 815...\n",
      "Running experiment for track 816...\n",
      "Results for track 811 saved to ./monocasting_results_bmeasure/811.feather\n",
      "Results for track 810 saved to ./monocasting_results_bmeasure/810.feather\n",
      "Results for track 806 saved to ./monocasting_results_bmeasure/806.feather\n",
      "Running experiment for track 820...\n",
      "Running experiment for track 818...\n",
      "Results for track 813 saved to ./monocasting_results_bmeasure/813.feather\n",
      "Running experiment for track 819...\n",
      "Results for track 812 saved to ./monocasting_results_bmeasure/812.feather\n",
      "Running experiment for track 821...\n",
      "Running experiment for track 822...\n",
      "Results for track 816 saved to ./monocasting_results_bmeasure/816.feather\n",
      "Running experiment for track 823...\n",
      "Results for track 823 saved to ./monocasting_results_bmeasure/823.feather\n",
      "Results for track 820 saved to ./monocasting_results_bmeasure/820.feather\n",
      "Results for track 822 saved to ./monocasting_results_bmeasure/822.feather\n",
      "Results for track 814 saved to ./monocasting_results_bmeasure/814.feather\n",
      "Results for track 821 saved to ./monocasting_results_bmeasure/821.feather\n",
      "Running experiment for track 827...\n",
      "Running experiment for track 824...\n",
      "Running experiment for track 826...\n",
      "Running experiment for track 828...\n",
      "Running experiment for track 829...\n",
      "Results for track 824 saved to ./monocasting_results_bmeasure/824.feather\n",
      "Results for track 826 saved to ./monocasting_results_bmeasure/826.feather\n",
      "Running experiment for track 830...\n",
      "Running experiment for track 831...\n",
      "Results for track 829 saved to ./monocasting_results_bmeasure/829.feather\n",
      "Results for track 828 saved to ./monocasting_results_bmeasure/828.feather\n",
      "Running experiment for track 832...\n",
      "Running experiment for track 834...\n",
      "Results for track 819 saved to ./monocasting_results_bmeasure/819.feather\n",
      "Running experiment for track 835...\n",
      "Results for track 831 saved to ./monocasting_results_bmeasure/831.feather\n",
      "Running experiment for track 836...\n",
      "Results for track 818 saved to ./monocasting_results_bmeasure/818.feather\n",
      "Results for track 815 saved to ./monocasting_results_bmeasure/815.feather\n",
      "Running experiment for track 838...\n",
      "Running experiment for track 837...\n",
      "Results for track 835 saved to ./monocasting_results_bmeasure/835.feather\n",
      "Results for track 832 saved to ./monocasting_results_bmeasure/832.feather\n",
      "Running experiment for track 839...\n",
      "Running experiment for track 840...\n",
      "Results for track 834 saved to ./monocasting_results_bmeasure/834.feather\n",
      "Running experiment for track 842...\n",
      "Results for track 836 saved to ./monocasting_results_bmeasure/836.feather\n",
      "Results for track 830 saved to ./monocasting_results_bmeasure/830.feather\n",
      "Results for track 827 saved to ./monocasting_results_bmeasure/827.feather\n",
      "Running experiment for track 845...\n",
      "Running experiment for track 843...\n",
      "Running experiment for track 844...\n",
      "Results for track 838 saved to ./monocasting_results_bmeasure/838.feather\n",
      "Results for track 842 saved to ./monocasting_results_bmeasure/842.feather\n",
      "Results for track 839 saved to ./monocasting_results_bmeasure/839.feather\n",
      "Running experiment for track 846...\n",
      "Running experiment for track 847...\n",
      "Running experiment for track 848...\n",
      "Results for track 837 saved to ./monocasting_results_bmeasure/837.feather\n",
      "Running experiment for track 850...\n",
      "Results for track 845 saved to ./monocasting_results_bmeasure/845.feather\n",
      "Running experiment for track 851...\n",
      "Results for track 843 saved to ./monocasting_results_bmeasure/843.feather\n",
      "Running experiment for track 852...\n",
      "Results for track 844 saved to ./monocasting_results_bmeasure/844.feather\n",
      "Running experiment for track 853...\n",
      "Results for track 840 saved to ./monocasting_results_bmeasure/840.feather\n",
      "Results for track 847 saved to ./monocasting_results_bmeasure/847.feather\n",
      "Running experiment for track 854...\n",
      "Results for track 848 saved to ./monocasting_results_bmeasure/848.feather\n",
      "Running experiment for track 855...\n",
      "Running experiment for track 856...\n",
      "Results for track 851 saved to ./monocasting_results_bmeasure/851.feather\n",
      "Running experiment for track 858...\n",
      "Results for track 854 saved to ./monocasting_results_bmeasure/854.feather\n",
      "Results for track 846 saved to ./monocasting_results_bmeasure/846.feather\n",
      "Running experiment for track 860...\n",
      "Running experiment for track 861...\n",
      "Results for track 853 saved to ./monocasting_results_bmeasure/853.feather\n",
      "Running experiment for track 862...\n",
      "Results for track 855 saved to ./monocasting_results_bmeasure/855.feather\n",
      "Running experiment for track 863...\n",
      "Results for track 850 saved to ./monocasting_results_bmeasure/850.feather\n",
      "Running experiment for track 864...\n",
      "Results for track 852 saved to ./monocasting_results_bmeasure/852.feather\n",
      "Results for track 858 saved to ./monocasting_results_bmeasure/858.feather\n",
      "Running experiment for track 866...\n",
      "Running experiment for track 867...\n",
      "Results for track 860 saved to ./monocasting_results_bmeasure/860.feather\n",
      "Results for track 856 saved to ./monocasting_results_bmeasure/856.feather\n",
      "Running experiment for track 868...\n",
      "Running experiment for track 869...\n",
      "Results for track 864 saved to ./monocasting_results_bmeasure/864.feather\n",
      "Running experiment for track 870...\n",
      "Results for track 866 saved to ./monocasting_results_bmeasure/866.feather\n",
      "Results for track 867 saved to ./monocasting_results_bmeasure/867.feather\n",
      "Running experiment for track 874...\n",
      "Running experiment for track 871...\n",
      "Results for track 861 saved to ./monocasting_results_bmeasure/861.feather\n",
      "Results for track 869 saved to ./monocasting_results_bmeasure/869.feather\n",
      "Running experiment for track 875...\n",
      "Running experiment for track 876...\n",
      "Results for track 870 saved to ./monocasting_results_bmeasure/870.feather\n",
      "Results for track 871 saved to ./monocasting_results_bmeasure/871.feather\n",
      "Running experiment for track 877...\n",
      "Results for track 868 saved to ./monocasting_results_bmeasure/868.feather\n",
      "Running experiment for track 879...\n",
      "Running experiment for track 878...\n",
      "Results for track 874 saved to ./monocasting_results_bmeasure/874.feather\n",
      "Running experiment for track 880...\n",
      "Results for track 875 saved to ./monocasting_results_bmeasure/875.feather\n",
      "Results for track 862 saved to ./monocasting_results_bmeasure/862.feather\n",
      "Running experiment for track 882...\n",
      "Running experiment for track 883...\n",
      "Results for track 876 saved to ./monocasting_results_bmeasure/876.feather\n",
      "Running experiment for track 884...\n",
      "Results for track 863 saved to ./monocasting_results_bmeasure/863.feather\n",
      "Running experiment for track 885...\n",
      "Results for track 877 saved to ./monocasting_results_bmeasure/877.feather\n",
      "Running experiment for track 886...\n",
      "Results for track 880 saved to ./monocasting_results_bmeasure/880.feather\n",
      "Running experiment for track 887...\n",
      "Results for track 882 saved to ./monocasting_results_bmeasure/882.feather\n",
      "Results for track 883 saved to ./monocasting_results_bmeasure/883.feather\n",
      "Running experiment for track 890...\n",
      "Running experiment for track 888...\n",
      "Results for track 884 saved to ./monocasting_results_bmeasure/884.feather\n",
      "Running experiment for track 891...\n",
      "Results for track 885 saved to ./monocasting_results_bmeasure/885.feather\n",
      "Running experiment for track 892...\n",
      "Results for track 879 saved to ./monocasting_results_bmeasure/879.feather\n",
      "Running experiment for track 893...\n",
      "Results for track 887 saved to ./monocasting_results_bmeasure/887.feather\n",
      "Running experiment for track 894...\n",
      "Results for track 891 saved to ./monocasting_results_bmeasure/891.feather\n",
      "Results for track 890 saved to ./monocasting_results_bmeasure/890.feather\n",
      "Running experiment for track 895...\n",
      "Running experiment for track 896...\n",
      "Results for track 886 saved to ./monocasting_results_bmeasure/886.feather\n",
      "Running experiment for track 898...\n",
      "Results for track 893 saved to ./monocasting_results_bmeasure/893.feather\n",
      "Running experiment for track 899...\n",
      "Results for track 894 saved to ./monocasting_results_bmeasure/894.feather\n",
      "Results for track 892 saved to ./monocasting_results_bmeasure/892.feather\n",
      "Running experiment for track 900...\n",
      "Running experiment for track 901...\n",
      "Results for track 896 saved to ./monocasting_results_bmeasure/896.feather\n",
      "Running experiment for track 902...\n",
      "Results for track 899 saved to ./monocasting_results_bmeasure/899.feather\n",
      "Running experiment for track 903...\n",
      "Results for track 902 saved to ./monocasting_results_bmeasure/902.feather\n",
      "Results for track 901 saved to ./monocasting_results_bmeasure/901.feather\n",
      "Running experiment for track 904...\n",
      "Running experiment for track 906...\n",
      "Results for track 898 saved to ./monocasting_results_bmeasure/898.feather\n",
      "Running experiment for track 907...\n",
      "Results for track 888 saved to ./monocasting_results_bmeasure/888.feather\n",
      "Running experiment for track 908...\n",
      "Results for track 900 saved to ./monocasting_results_bmeasure/900.feather\n",
      "Running experiment for track 909...\n",
      "Results for track 904 saved to ./monocasting_results_bmeasure/904.feather\n",
      "Results for track 895 saved to ./monocasting_results_bmeasure/895.feather\n",
      "Running experiment for track 911...\n",
      "Results for track 906 saved to ./monocasting_results_bmeasure/906.feather\n",
      "Running experiment for track 912...\n",
      "Running experiment for track 910...\n",
      "Results for track 903 saved to ./monocasting_results_bmeasure/903.feather\n",
      "Running experiment for track 914...\n",
      "Results for track 908 saved to ./monocasting_results_bmeasure/908.feather\n",
      "Results for track 907 saved to ./monocasting_results_bmeasure/907.feather\n",
      "Results for track 909 saved to ./monocasting_results_bmeasure/909.feather\n",
      "Running experiment for track 916...\n",
      "Results for track 911 saved to ./monocasting_results_bmeasure/911.feather\n",
      "Running experiment for track 915...\n",
      "Running experiment for track 917...\n",
      "Running experiment for track 919...\n",
      "Results for track 919 saved to ./monocasting_results_bmeasure/919.feather\n",
      "Results for track 910 saved to ./monocasting_results_bmeasure/910.feather\n",
      "Results for track 912 saved to ./monocasting_results_bmeasure/912.feather\n",
      "Running experiment for track 920...\n",
      "Running experiment for track 922...\n",
      "Running experiment for track 923...\n",
      "Results for track 916 saved to ./monocasting_results_bmeasure/916.feather\n",
      "Running experiment for track 924...\n",
      "Results for track 917 saved to ./monocasting_results_bmeasure/917.feather\n",
      "Running experiment for track 925...\n",
      "Results for track 923 saved to ./monocasting_results_bmeasure/923.feather\n",
      "Running experiment for track 926...\n",
      "Results for track 924 saved to ./monocasting_results_bmeasure/924.feather\n",
      "Running experiment for track 928...\n",
      "Results for track 915 saved to ./monocasting_results_bmeasure/915.feather\n",
      "Results for track 914 saved to ./monocasting_results_bmeasure/914.feather\n",
      "Running experiment for track 930...\n",
      "Results for track 925 saved to ./monocasting_results_bmeasure/925.feather\n",
      "Running experiment for track 931...\n",
      "Results for track 926 saved to ./monocasting_results_bmeasure/926.feather\n",
      "Running experiment for track 933...\n",
      "Running experiment for track 932...\n",
      "Results for track 922 saved to ./monocasting_results_bmeasure/922.feather\n",
      "Running experiment for track 934...\n",
      "Results for track 920 saved to ./monocasting_results_bmeasure/920.feather\n",
      "Running experiment for track 935...\n",
      "Results for track 928 saved to ./monocasting_results_bmeasure/928.feather\n",
      "Running experiment for track 936...\n",
      "Results for track 931 saved to ./monocasting_results_bmeasure/931.feather\n",
      "Running experiment for track 938...\n",
      "Results for track 936 saved to ./monocasting_results_bmeasure/936.feather\n",
      "Running experiment for track 939...\n",
      "Results for track 930 saved to ./monocasting_results_bmeasure/930.feather\n",
      "Running experiment for track 940...\n",
      "Results for track 938 saved to ./monocasting_results_bmeasure/938.feather\n",
      "Running experiment for track 941...\n",
      "Results for track 933 saved to ./monocasting_results_bmeasure/933.feather\n",
      "Running experiment for track 942...\n",
      "Results for track 939 saved to ./monocasting_results_bmeasure/939.feather\n",
      "Running experiment for track 943...\n",
      "Results for track 878 saved to ./monocasting_results_bmeasure/878.feather\n",
      "Running experiment for track 944...\n",
      "Results for track 943 saved to ./monocasting_results_bmeasure/943.feather\n",
      "Results for track 935 saved to ./monocasting_results_bmeasure/935.feather\n",
      "Results for track 934 saved to ./monocasting_results_bmeasure/934.feather\n",
      "Running experiment for track 947...\n",
      "Running experiment for track 946...\n",
      "Running experiment for track 948...\n",
      "Results for track 941 saved to ./monocasting_results_bmeasure/941.feather\n",
      "Results for track 942 saved to ./monocasting_results_bmeasure/942.feather\n",
      "Running experiment for track 949...\n",
      "Running experiment for track 950...\n",
      "Results for track 946 saved to ./monocasting_results_bmeasure/946.feather\n",
      "Results for track 940 saved to ./monocasting_results_bmeasure/940.feather\n",
      "Results for track 947 saved to ./monocasting_results_bmeasure/947.feather\n",
      "Running experiment for track 952...\n",
      "Running experiment for track 951...\n",
      "Running experiment for track 954...\n",
      "Results for track 944 saved to ./monocasting_results_bmeasure/944.feather\n",
      "Running experiment for track 955...\n",
      "Results for track 952 saved to ./monocasting_results_bmeasure/952.feather\n",
      "Running experiment for track 956...\n",
      "Results for track 950 saved to ./monocasting_results_bmeasure/950.feather\n",
      "Results for track 949 saved to ./monocasting_results_bmeasure/949.feather\n",
      "Results for track 951 saved to ./monocasting_results_bmeasure/951.feather\n",
      "Results for track 948 saved to ./monocasting_results_bmeasure/948.feather\n",
      "Running experiment for track 958...\n",
      "Running experiment for track 957...\n",
      "Results for track 954 saved to ./monocasting_results_bmeasure/954.feather\n",
      "Running experiment for track 960...\n",
      "Running experiment for track 959...\n",
      "Running experiment for track 962...\n",
      "Results for track 932 saved to ./monocasting_results_bmeasure/932.feather\n",
      "Running experiment for track 963...\n",
      "Results for track 955 saved to ./monocasting_results_bmeasure/955.feather\n",
      "Running experiment for track 964...\n",
      "Results for track 956 saved to ./monocasting_results_bmeasure/956.feather\n",
      "Results for track 957 saved to ./monocasting_results_bmeasure/957.feather\n",
      "Running experiment for track 965...\n",
      "Running experiment for track 967...\n",
      "Results for track 964 saved to ./monocasting_results_bmeasure/964.feather\n",
      "Running experiment for track 968...\n",
      "Results for track 963 saved to ./monocasting_results_bmeasure/963.feather\n",
      "Running experiment for track 970...\n",
      "Results for track 960 saved to ./monocasting_results_bmeasure/960.feather\n",
      "Running experiment for track 971...\n",
      "Results for track 958 saved to ./monocasting_results_bmeasure/958.feather\n",
      "Running experiment for track 972...\n",
      "Results for track 970 saved to ./monocasting_results_bmeasure/970.feather\n",
      "Running experiment for track 973...\n",
      "Results for track 968 saved to ./monocasting_results_bmeasure/968.feather\n",
      "Results for track 962 saved to ./monocasting_results_bmeasure/962.feather\n",
      "Results for track 959 saved to ./monocasting_results_bmeasure/959.feather\n",
      "Running experiment for track 974...\n",
      "Running experiment for track 976...\n",
      "Results for track 972 saved to ./monocasting_results_bmeasure/972.feather\n",
      "Running experiment for track 975...\n",
      "Results for track 965 saved to ./monocasting_results_bmeasure/965.feather\n",
      "Running experiment for track 979...\n",
      "Running experiment for track 978...\n",
      "Results for track 971 saved to ./monocasting_results_bmeasure/971.feather\n",
      "Running experiment for track 980...\n",
      "Results for track 979 saved to ./monocasting_results_bmeasure/979.feather\n",
      "Results for track 967 saved to ./monocasting_results_bmeasure/967.feather\n",
      "Running experiment for track 981...\n",
      "Running experiment for track 982...\n",
      "Results for track 974 saved to ./monocasting_results_bmeasure/974.feather\n",
      "Running experiment for track 983...\n",
      "Results for track 976 saved to ./monocasting_results_bmeasure/976.feather\n",
      "Running experiment for track 984...\n",
      "Results for track 980 saved to ./monocasting_results_bmeasure/980.feather\n",
      "Running experiment for track 986...\n",
      "Results for track 981 saved to ./monocasting_results_bmeasure/981.feather\n",
      "Results for track 973 saved to ./monocasting_results_bmeasure/973.feather\n",
      "Running experiment for track 989...\n",
      "Running experiment for track 988...\n",
      "Results for track 975 saved to ./monocasting_results_bmeasure/975.feather\n",
      "Running experiment for track 990...\n",
      "Results for track 982 saved to ./monocasting_results_bmeasure/982.feather\n",
      "Results for track 983 saved to ./monocasting_results_bmeasure/983.feather\n",
      "Running experiment for track 991...\n",
      "Running experiment for track 992...\n",
      "Results for track 990 saved to ./monocasting_results_bmeasure/990.feather\n",
      "Running experiment for track 994...\n",
      "Results for track 989 saved to ./monocasting_results_bmeasure/989.feather\n",
      "Running experiment for track 995...\n",
      "Results for track 984 saved to ./monocasting_results_bmeasure/984.feather\n",
      "Running experiment for track 996...\n",
      "Results for track 992 saved to ./monocasting_results_bmeasure/992.feather\n",
      "Running experiment for track 997...\n",
      "Results for track 994 saved to ./monocasting_results_bmeasure/994.feather\n",
      "Running experiment for track 998...\n",
      "Results for track 986 saved to ./monocasting_results_bmeasure/986.feather\n",
      "Results for track 991 saved to ./monocasting_results_bmeasure/991.feather\n",
      "Results for track 996 saved to ./monocasting_results_bmeasure/996.feather\n",
      "Running experiment for track 999...\n",
      "Results for track 978 saved to ./monocasting_results_bmeasure/978.feather\n",
      "Running experiment for track 1002...\n",
      "Running experiment for track 1000...\n",
      "Running experiment for track 1003...\n",
      "Results for track 988 saved to ./monocasting_results_bmeasure/988.feather\n",
      "Running experiment for track 1004...\n",
      "Results for track 1000 saved to ./monocasting_results_bmeasure/1000.feather\n",
      "Results for track 997 saved to ./monocasting_results_bmeasure/997.feather\n",
      "Running experiment for track 1005...\n",
      "Running experiment for track 1006...\n",
      "Results for track 1004 saved to ./monocasting_results_bmeasure/1004.feather\n",
      "Results for track 995 saved to ./monocasting_results_bmeasure/995.feather\n",
      "Results for track 998 saved to ./monocasting_results_bmeasure/998.feather\n",
      "Running experiment for track 1007...\n",
      "Results for track 1003 saved to ./monocasting_results_bmeasure/1003.feather\n",
      "Running experiment for track 1010...\n",
      "Running experiment for track 1008...\n",
      "Running experiment for track 1011...\n",
      "Results for track 1010 saved to ./monocasting_results_bmeasure/1010.feather\n",
      "Results for track 1002 saved to ./monocasting_results_bmeasure/1002.feather\n",
      "Running experiment for track 1012...\n",
      "Running experiment for track 1013...\n",
      "Results for track 1007 saved to ./monocasting_results_bmeasure/1007.feather\n",
      "Results for track 1005 saved to ./monocasting_results_bmeasure/1005.feather\n",
      "Running experiment for track 1014...\n",
      "Running experiment for track 1015...\n",
      "Results for track 1006 saved to ./monocasting_results_bmeasure/1006.feather\n",
      "Running experiment for track 1016...\n",
      "Results for track 1008 saved to ./monocasting_results_bmeasure/1008.feather\n",
      "Running experiment for track 1018...\n",
      "Results for track 1015 saved to ./monocasting_results_bmeasure/1015.feather\n",
      "Results for track 1012 saved to ./monocasting_results_bmeasure/1012.feather\n",
      "Running experiment for track 1020...\n",
      "Running experiment for track 1019...\n",
      "Results for track 999 saved to ./monocasting_results_bmeasure/999.feather\n",
      "Results for track 1011 saved to ./monocasting_results_bmeasure/1011.feather\n",
      "Results for track 1014 saved to ./monocasting_results_bmeasure/1014.feather\n",
      "Running experiment for track 1021...\n",
      "Running experiment for track 1022...\n",
      "Running experiment for track 1023...\n",
      "Results for track 1018 saved to ./monocasting_results_bmeasure/1018.feather\n",
      "Running experiment for track 1024...\n",
      "Results for track 1020 saved to ./monocasting_results_bmeasure/1020.feather\n",
      "Running experiment for track 1026...\n",
      "Results for track 1019 saved to ./monocasting_results_bmeasure/1019.feather\n",
      "Running experiment for track 1027...\n",
      "Results for track 1013 saved to ./monocasting_results_bmeasure/1013.feather\n",
      "Running experiment for track 1028...\n",
      "Results for track 1016 saved to ./monocasting_results_bmeasure/1016.feather\n",
      "Results for track 1023 saved to ./monocasting_results_bmeasure/1023.feather\n",
      "Running experiment for track 1032...\n",
      "Results for track 1022 saved to ./monocasting_results_bmeasure/1022.feather\n",
      "Running experiment for track 1034...\n",
      "Results for track 1024 saved to ./monocasting_results_bmeasure/1024.feather\n",
      "Running experiment for track 1035...\n",
      "Running experiment for track 1036...\n",
      "Results for track 1027 saved to ./monocasting_results_bmeasure/1027.feather\n",
      "Results for track 1026 saved to ./monocasting_results_bmeasure/1026.feather\n",
      "Results for track 1032 saved to ./monocasting_results_bmeasure/1032.feather\n",
      "Running experiment for track 1038...\n",
      "Running experiment for track 1039...\n",
      "Results for track 1036 saved to ./monocasting_results_bmeasure/1036.feather\n",
      "Running experiment for track 1037...\n",
      "Running experiment for track 1042...\n",
      "Results for track 1035 saved to ./monocasting_results_bmeasure/1035.feather\n",
      "Running experiment for track 1043...\n",
      "Results for track 1039 saved to ./monocasting_results_bmeasure/1039.feather\n",
      "Running experiment for track 1044...\n",
      "Results for track 1038 saved to ./monocasting_results_bmeasure/1038.feather\n",
      "Running experiment for track 1045...\n",
      "Results for track 1034 saved to ./monocasting_results_bmeasure/1034.feather\n",
      "Running experiment for track 1046...\n",
      "Results for track 1042 saved to ./monocasting_results_bmeasure/1042.feather\n",
      "Running experiment for track 1047...\n",
      "Results for track 1028 saved to ./monocasting_results_bmeasure/1028.feather\n",
      "Running experiment for track 1048...\n",
      "Results for track 1021 saved to ./monocasting_results_bmeasure/1021.feather\n",
      "Running experiment for track 1050...\n",
      "Results for track 1043 saved to ./monocasting_results_bmeasure/1043.feather\n",
      "Results for track 1045 saved to ./monocasting_results_bmeasure/1045.feather\n",
      "Running experiment for track 1053...\n",
      "Running experiment for track 1051...\n",
      "Results for track 1044 saved to ./monocasting_results_bmeasure/1044.feather\n",
      "Results for track 1047 saved to ./monocasting_results_bmeasure/1047.feather\n",
      "Results for track 1046 saved to ./monocasting_results_bmeasure/1046.feather\n",
      "Running experiment for track 1054...\n",
      "Running experiment for track 1055...\n",
      "Running experiment for track 1056...\n",
      "Results for track 1037 saved to ./monocasting_results_bmeasure/1037.feather\n",
      "Results for track 1048 saved to ./monocasting_results_bmeasure/1048.feather\n",
      "Running experiment for track 1059...\n",
      "Running experiment for track 1058...\n",
      "Results for track 1050 saved to ./monocasting_results_bmeasure/1050.feather\n",
      "Running experiment for track 1060...\n",
      "Results for track 1054 saved to ./monocasting_results_bmeasure/1054.feather\n",
      "Running experiment for track 1061...\n",
      "Results for track 1056 saved to ./monocasting_results_bmeasure/1056.feather\n",
      "Running experiment for track 1062...\n",
      "Results for track 1055 saved to ./monocasting_results_bmeasure/1055.feather\n",
      "Running experiment for track 1063...\n",
      "Results for track 1059 saved to ./monocasting_results_bmeasure/1059.feather\n",
      "Running experiment for track 1064...\n",
      "Results for track 1053 saved to ./monocasting_results_bmeasure/1053.feather\n",
      "Running experiment for track 1066...\n",
      "Results for track 1058 saved to ./monocasting_results_bmeasure/1058.feather\n",
      "Results for track 1060 saved to ./monocasting_results_bmeasure/1060.feather\n",
      "Running experiment for track 1067...\n",
      "Results for track 1051 saved to ./monocasting_results_bmeasure/1051.feather\n",
      "Running experiment for track 1068...\n",
      "Running experiment for track 1069...\n",
      "Results for track 1063 saved to ./monocasting_results_bmeasure/1063.feather\n",
      "Running experiment for track 1070...\n",
      "Results for track 1062 saved to ./monocasting_results_bmeasure/1062.feather\n",
      "Running experiment for track 1071...\n",
      "Results for track 1061 saved to ./monocasting_results_bmeasure/1061.feather\n",
      "Running experiment for track 1072...\n",
      "Results for track 1067 saved to ./monocasting_results_bmeasure/1067.feather\n",
      "Running experiment for track 1074...\n",
      "Results for track 1064 saved to ./monocasting_results_bmeasure/1064.feather\n",
      "Running experiment for track 1075...\n",
      "Results for track 1069 saved to ./monocasting_results_bmeasure/1069.feather\n",
      "Running experiment for track 1076...\n",
      "Results for track 1070 saved to ./monocasting_results_bmeasure/1070.feather\n",
      "Running experiment for track 1077...\n",
      "Results for track 1071 saved to ./monocasting_results_bmeasure/1071.feather\n",
      "Running experiment for track 1078...\n",
      "Results for track 1075 saved to ./monocasting_results_bmeasure/1075.feather\n",
      "Running experiment for track 1079...\n",
      "Results for track 1074 saved to ./monocasting_results_bmeasure/1074.feather\n",
      "Running experiment for track 1080...\n",
      "Results for track 1076 saved to ./monocasting_results_bmeasure/1076.feather\n",
      "Results for track 1078 saved to ./monocasting_results_bmeasure/1078.feather\n",
      "Running experiment for track 1082...\n",
      "Results for track 1066 saved to ./monocasting_results_bmeasure/1066.feather\n",
      "Running experiment for track 1083...\n",
      "Running experiment for track 1084...\n",
      "Results for track 1072 saved to ./monocasting_results_bmeasure/1072.feather\n",
      "Running experiment for track 1085...\n",
      "Results for track 1068 saved to ./monocasting_results_bmeasure/1068.feather\n",
      "Running experiment for track 1086...\n",
      "Results for track 1077 saved to ./monocasting_results_bmeasure/1077.feather\n",
      "Running experiment for track 1088...\n",
      "Results for track 1080 saved to ./monocasting_results_bmeasure/1080.feather\n",
      "Running experiment for track 1090...\n",
      "Results for track 1086 saved to ./monocasting_results_bmeasure/1086.feather\n",
      "Running experiment for track 1091...\n",
      "Results for track 1085 saved to ./monocasting_results_bmeasure/1085.feather\n",
      "Running experiment for track 1092...\n",
      "Results for track 1079 saved to ./monocasting_results_bmeasure/1079.feather\n",
      "Running experiment for track 1093...\n",
      "Results for track 1084 saved to ./monocasting_results_bmeasure/1084.feather\n",
      "Results for track 1083 saved to ./monocasting_results_bmeasure/1083.feather\n",
      "Running experiment for track 1094...\n",
      "Running experiment for track 1095...\n",
      "Results for track 1082 saved to ./monocasting_results_bmeasure/1082.feather\n",
      "Running experiment for track 1096...\n",
      "Results for track 1092 saved to ./monocasting_results_bmeasure/1092.feather\n",
      "Running experiment for track 1098...\n",
      "Results for track 1094 saved to ./monocasting_results_bmeasure/1094.feather\n",
      "Results for track 1090 saved to ./monocasting_results_bmeasure/1090.feather\n",
      "Running experiment for track 1099...\n",
      "Running experiment for track 1100...\n",
      "Results for track 1096 saved to ./monocasting_results_bmeasure/1096.feather\n",
      "Results for track 1095 saved to ./monocasting_results_bmeasure/1095.feather\n",
      "Running experiment for track 1102...\n",
      "Running experiment for track 1101...\n",
      "Results for track 1091 saved to ./monocasting_results_bmeasure/1091.feather\n",
      "Running experiment for track 1103...\n",
      "Results for track 1093 saved to ./monocasting_results_bmeasure/1093.feather\n",
      "Running experiment for track 1104...\n",
      "Results for track 1088 saved to ./monocasting_results_bmeasure/1088.feather\n",
      "Running experiment for track 1106...\n",
      "Results for track 1098 saved to ./monocasting_results_bmeasure/1098.feather\n",
      "Running experiment for track 1107...\n",
      "Results for track 1099 saved to ./monocasting_results_bmeasure/1099.feather\n",
      "Running experiment for track 1108...\n",
      "Results for track 1106 saved to ./monocasting_results_bmeasure/1106.feather\n",
      "Running experiment for track 1109...\n",
      "Results for track 1102 saved to ./monocasting_results_bmeasure/1102.feather\n",
      "Running experiment for track 1110...\n",
      "Results for track 1100 saved to ./monocasting_results_bmeasure/1100.feather\n",
      "Running experiment for track 1111...\n",
      "Results for track 1103 saved to ./monocasting_results_bmeasure/1103.feather\n",
      "Running experiment for track 1112...\n",
      "Results for track 1101 saved to ./monocasting_results_bmeasure/1101.feather\n",
      "Running experiment for track 1114...\n",
      "Results for track 1107 saved to ./monocasting_results_bmeasure/1107.feather\n",
      "Results for track 1108 saved to ./monocasting_results_bmeasure/1108.feather\n",
      "Running experiment for track 1116...\n",
      "Running experiment for track 1117...\n",
      "Results for track 1110 saved to ./monocasting_results_bmeasure/1110.feather\n",
      "Running experiment for track 1118...\n",
      "Results for track 1109 saved to ./monocasting_results_bmeasure/1109.feather\n",
      "Running experiment for track 1119...\n",
      "Results for track 1114 saved to ./monocasting_results_bmeasure/1114.feather\n",
      "Results for track 1111 saved to ./monocasting_results_bmeasure/1111.feather\n",
      "Running experiment for track 1120...\n",
      "Running experiment for track 1122...\n",
      "Results for track 1118 saved to ./monocasting_results_bmeasure/1118.feather\n",
      "Running experiment for track 1123...\n",
      "Results for track 1116 saved to ./monocasting_results_bmeasure/1116.feather\n",
      "Running experiment for track 1124...\n",
      "Results for track 1119 saved to ./monocasting_results_bmeasure/1119.feather\n",
      "Running experiment for track 1125...\n",
      "Results for track 1117 saved to ./monocasting_results_bmeasure/1117.feather\n",
      "Running experiment for track 1127...\n",
      "Results for track 1122 saved to ./monocasting_results_bmeasure/1122.feather\n",
      "Results for track 1104 saved to ./monocasting_results_bmeasure/1104.feather\n",
      "Running experiment for track 1128...\n",
      "Running experiment for track 1130...\n",
      "Results for track 1120 saved to ./monocasting_results_bmeasure/1120.feather\n",
      "Running experiment for track 1131...\n",
      "Results for track 1112 saved to ./monocasting_results_bmeasure/1112.feather\n",
      "Running experiment for track 1132...\n",
      "Results for track 1125 saved to ./monocasting_results_bmeasure/1125.feather\n",
      "Results for track 1123 saved to ./monocasting_results_bmeasure/1123.feather\n",
      "Running experiment for track 1134...\n",
      "Results for track 1124 saved to ./monocasting_results_bmeasure/1124.feather\n",
      "Running experiment for track 1135...\n",
      "Running experiment for track 1133...\n",
      "Results for track 1132 saved to ./monocasting_results_bmeasure/1132.feather\n",
      "Running experiment for track 1136...\n",
      "Results for track 1136 saved to ./monocasting_results_bmeasure/1136.feather\n",
      "Results for track 1134 saved to ./monocasting_results_bmeasure/1134.feather\n",
      "Running experiment for track 1138...\n",
      "Running experiment for track 1139...\n",
      "Results for track 1135 saved to ./monocasting_results_bmeasure/1135.feather\n",
      "Results for track 1130 saved to ./monocasting_results_bmeasure/1130.feather\n",
      "Running experiment for track 1142...\n",
      "Running experiment for track 1141...\n",
      "Results for track 1139 saved to ./monocasting_results_bmeasure/1139.feather\n",
      "Running experiment for track 1143...\n",
      "Results for track 1128 saved to ./monocasting_results_bmeasure/1128.feather\n",
      "Results for track 1127 saved to ./monocasting_results_bmeasure/1127.feather\n",
      "Running experiment for track 1144...\n",
      "Running experiment for track 1146...\n",
      "Results for track 1131 saved to ./monocasting_results_bmeasure/1131.feather\n",
      "Running experiment for track 1147...\n",
      "Results for track 1142 saved to ./monocasting_results_bmeasure/1142.feather\n",
      "Running experiment for track 1148...\n",
      "Results for track 1133 saved to ./monocasting_results_bmeasure/1133.feather\n",
      "Running experiment for track 1149...\n",
      "Results for track 1147 saved to ./monocasting_results_bmeasure/1147.feather\n",
      "Results for track 1146 saved to ./monocasting_results_bmeasure/1146.feather\n",
      "Running experiment for track 1150...\n",
      "Running experiment for track 1151...\n",
      "Results for track 1144 saved to ./monocasting_results_bmeasure/1144.feather\n",
      "Running experiment for track 1152...\n",
      "Results for track 1143 saved to ./monocasting_results_bmeasure/1143.feather\n",
      "Running experiment for track 1154...\n",
      "Results for track 1149 saved to ./monocasting_results_bmeasure/1149.feather\n",
      "Running experiment for track 1155...\n",
      "Results for track 1138 saved to ./monocasting_results_bmeasure/1138.feather\n",
      "Running experiment for track 1156...\n",
      "Results for track 1148 saved to ./monocasting_results_bmeasure/1148.feather\n",
      "Running experiment for track 1157...\n",
      "Results for track 1141 saved to ./monocasting_results_bmeasure/1141.feather\n",
      "Running experiment for track 1158...\n",
      "Results for track 1154 saved to ./monocasting_results_bmeasure/1154.feather\n",
      "Running experiment for track 1159...\n",
      "Results for track 1150 saved to ./monocasting_results_bmeasure/1150.feather\n",
      "Running experiment for track 1160...\n",
      "Results for track 1152 saved to ./monocasting_results_bmeasure/1152.feather\n",
      "Results for track 1156 saved to ./monocasting_results_bmeasure/1156.feather\n",
      "Running experiment for track 1163...\n",
      "Running experiment for track 1162...\n",
      "Results for track 1151 saved to ./monocasting_results_bmeasure/1151.feather\n",
      "Running experiment for track 1164...\n",
      "Results for track 1155 saved to ./monocasting_results_bmeasure/1155.feather\n",
      "Running experiment for track 1165...\n",
      "Results for track 1157 saved to ./monocasting_results_bmeasure/1157.feather\n",
      "Results for track 1159 saved to ./monocasting_results_bmeasure/1159.feather\n",
      "Results for track 1160 saved to ./monocasting_results_bmeasure/1160.feather\n",
      "Running experiment for track 1168...\n",
      "Running experiment for track 1166...\n",
      "Running experiment for track 1170...\n",
      "Results for track 1165 saved to ./monocasting_results_bmeasure/1165.feather\n",
      "Running experiment for track 1172...\n",
      "Results for track 1158 saved to ./monocasting_results_bmeasure/1158.feather\n",
      "Running experiment for track 1173...\n",
      "Results for track 1163 saved to ./monocasting_results_bmeasure/1163.feather\n",
      "Running experiment for track 1174...\n",
      "Results for track 1166 saved to ./monocasting_results_bmeasure/1166.feather\n",
      "Running experiment for track 1175...\n",
      "Results for track 1162 saved to ./monocasting_results_bmeasure/1162.feather\n",
      "Running experiment for track 1176...\n",
      "Results for track 1170 saved to ./monocasting_results_bmeasure/1170.feather\n",
      "Running experiment for track 1179...\n",
      "Results for track 1172 saved to ./monocasting_results_bmeasure/1172.feather\n",
      "Running experiment for track 1180...\n",
      "Results for track 1168 saved to ./monocasting_results_bmeasure/1168.feather\n",
      "Running experiment for track 1181...\n",
      "Results for track 1173 saved to ./monocasting_results_bmeasure/1173.feather\n",
      "Running experiment for track 1182...\n",
      "Results for track 1164 saved to ./monocasting_results_bmeasure/1164.feather\n",
      "Running experiment for track 1183...\n",
      "Results for track 1180 saved to ./monocasting_results_bmeasure/1180.feather\n",
      "Running experiment for track 1184...\n",
      "Results for track 1181 saved to ./monocasting_results_bmeasure/1181.feather\n",
      "Running experiment for track 1186...\n",
      "Results for track 1174 saved to ./monocasting_results_bmeasure/1174.feather\n",
      "Running experiment for track 1187...\n",
      "Results for track 1182 saved to ./monocasting_results_bmeasure/1182.feather\n",
      "Running experiment for track 1188...\n",
      "Results for track 1183 saved to ./monocasting_results_bmeasure/1183.feather\n",
      "Running experiment for track 1189...\n",
      "Results for track 1176 saved to ./monocasting_results_bmeasure/1176.feather\n",
      "Results for track 1179 saved to ./monocasting_results_bmeasure/1179.feather\n",
      "Running experiment for track 1190...\n",
      "Results for track 1175 saved to ./monocasting_results_bmeasure/1175.feather\n",
      "Running experiment for track 1191...\n",
      "Results for track 1186 saved to ./monocasting_results_bmeasure/1186.feather\n",
      "Running experiment for track 1192...\n",
      "Running experiment for track 1194...\n",
      "Results for track 1187 saved to ./monocasting_results_bmeasure/1187.feather\n",
      "Running experiment for track 1195...\n",
      "Results for track 1188 saved to ./monocasting_results_bmeasure/1188.feather\n",
      "Running experiment for track 1196...\n",
      "Results for track 1191 saved to ./monocasting_results_bmeasure/1191.feather\n",
      "Running experiment for track 1197...\n",
      "Results for track 1184 saved to ./monocasting_results_bmeasure/1184.feather\n",
      "Results for track 1189 saved to ./monocasting_results_bmeasure/1189.feather\n",
      "Results for track 1192 saved to ./monocasting_results_bmeasure/1192.feather\n",
      "Running experiment for track 1200...\n",
      "Running experiment for track 1199...\n",
      "Running experiment for track 1198...\n",
      "Results for track 1195 saved to ./monocasting_results_bmeasure/1195.feather\n",
      "Running experiment for track 1202...\n",
      "Results for track 1196 saved to ./monocasting_results_bmeasure/1196.feather\n",
      "Results for track 1194 saved to ./monocasting_results_bmeasure/1194.feather\n",
      "Running experiment for track 1203...\n",
      "Running experiment for track 1204...\n",
      "Results for track 1199 saved to ./monocasting_results_bmeasure/1199.feather\n",
      "Running experiment for track 1206...\n",
      "Results for track 1190 saved to ./monocasting_results_bmeasure/1190.feather\n",
      "Running experiment for track 1207...\n",
      "Results for track 1197 saved to ./monocasting_results_bmeasure/1197.feather\n",
      "Results for track 1200 saved to ./monocasting_results_bmeasure/1200.feather\n",
      "Running experiment for track 1208...\n",
      "Running experiment for track 1210...\n",
      "Results for track 1206 saved to ./monocasting_results_bmeasure/1206.feather\n",
      "Running experiment for track 1211...\n",
      "Results for track 1202 saved to ./monocasting_results_bmeasure/1202.feather\n",
      "Running experiment for track 1212...\n",
      "Results for track 1207 saved to ./monocasting_results_bmeasure/1207.feather\n",
      "Running experiment for track 1213...\n",
      "Results for track 1210 saved to ./monocasting_results_bmeasure/1210.feather\n",
      "Running experiment for track 1214...\n",
      "Results for track 1211 saved to ./monocasting_results_bmeasure/1211.feather\n",
      "Running experiment for track 1215...\n",
      "Results for track 1198 saved to ./monocasting_results_bmeasure/1198.feather\n",
      "Running experiment for track 1216...\n",
      "Results for track 1203 saved to ./monocasting_results_bmeasure/1203.feather\n",
      "Results for track 1208 saved to ./monocasting_results_bmeasure/1208.feather\n",
      "Running experiment for track 1218...\n",
      "Running experiment for track 1219...\n",
      "Results for track 1214 saved to ./monocasting_results_bmeasure/1214.feather\n",
      "Running experiment for track 1220...\n",
      "Results for track 1204 saved to ./monocasting_results_bmeasure/1204.feather\n",
      "Results for track 1218 saved to ./monocasting_results_bmeasure/1218.feather\n",
      "Running experiment for track 1221...\n",
      "Results for track 1216 saved to ./monocasting_results_bmeasure/1216.feather\n",
      "Running experiment for track 1222...\n",
      "Running experiment for track 1223...\n",
      "Results for track 1213 saved to ./monocasting_results_bmeasure/1213.feather\n",
      "Results for track 1220 saved to ./monocasting_results_bmeasure/1220.feather\n",
      "Running experiment for track 1224...\n",
      "Running experiment for track 1226...\n",
      "Results for track 1219 saved to ./monocasting_results_bmeasure/1219.feather\n",
      "Running experiment for track 1228...\n",
      "Results for track 1215 saved to ./monocasting_results_bmeasure/1215.feather\n",
      "Running experiment for track 1229...\n",
      "Results for track 1226 saved to ./monocasting_results_bmeasure/1226.feather\n",
      "Running experiment for track 1230...\n",
      "Results for track 1221 saved to ./monocasting_results_bmeasure/1221.feather\n",
      "Results for track 1228 saved to ./monocasting_results_bmeasure/1228.feather\n",
      "Running experiment for track 1231...\n",
      "Results for track 1223 saved to ./monocasting_results_bmeasure/1223.feather\n",
      "Running experiment for track 1232...\n",
      "Results for track 1212 saved to ./monocasting_results_bmeasure/1212.feather\n",
      "Running experiment for track 1234...\n",
      "Results for track 1224 saved to ./monocasting_results_bmeasure/1224.feather\n",
      "Running experiment for track 1235...\n",
      "Running experiment for track 1236...\n",
      "Results for track 1229 saved to ./monocasting_results_bmeasure/1229.feather\n",
      "Results for track 1222 saved to ./monocasting_results_bmeasure/1222.feather\n",
      "Running experiment for track 1237...\n",
      "Running experiment for track 1238...\n",
      "Results for track 1234 saved to ./monocasting_results_bmeasure/1234.feather\n",
      "Results for track 1235 saved to ./monocasting_results_bmeasure/1235.feather\n",
      "Results for track 1237 saved to ./monocasting_results_bmeasure/1237.feather\n",
      "Running experiment for track 1239...\n",
      "Running experiment for track 1242...\n",
      "Running experiment for track 1240...\n",
      "Results for track 1238 saved to ./monocasting_results_bmeasure/1238.feather\n",
      "Running experiment for track 1243...\n",
      "Results for track 1236 saved to ./monocasting_results_bmeasure/1236.feather\n",
      "Results for track 1230 saved to ./monocasting_results_bmeasure/1230.feather\n",
      "Running experiment for track 1244...\n",
      "Running experiment for track 1246...\n",
      "Results for track 1232 saved to ./monocasting_results_bmeasure/1232.feather\n",
      "Running experiment for track 1247...\n",
      "Results for track 1240 saved to ./monocasting_results_bmeasure/1240.feather\n",
      "Results for track 1244 saved to ./monocasting_results_bmeasure/1244.feather\n",
      "Running experiment for track 1248...\n",
      "Results for track 1242 saved to ./monocasting_results_bmeasure/1242.feather\n",
      "Running experiment for track 1250...\n",
      "Results for track 1231 saved to ./monocasting_results_bmeasure/1231.feather\n",
      "Running experiment for track 1251...\n",
      "Running experiment for track 1252...\n",
      "Results for track 1239 saved to ./monocasting_results_bmeasure/1239.feather\n",
      "Running experiment for track 1253...\n",
      "Results for track 1243 saved to ./monocasting_results_bmeasure/1243.feather\n",
      "Results for track 1250 saved to ./monocasting_results_bmeasure/1250.feather\n",
      "Running experiment for track 1255...\n",
      "Running experiment for track 1254...\n",
      "Results for track 1251 saved to ./monocasting_results_bmeasure/1251.feather\n",
      "Running experiment for track 1256...\n",
      "Results for track 1246 saved to ./monocasting_results_bmeasure/1246.feather\n",
      "Running experiment for track 1258...\n",
      "Results for track 1252 saved to ./monocasting_results_bmeasure/1252.feather\n",
      "Running experiment for track 1259...\n",
      "Results for track 1256 saved to ./monocasting_results_bmeasure/1256.feather\n",
      "Results for track 1253 saved to ./monocasting_results_bmeasure/1253.feather\n",
      "Running experiment for track 1261...\n",
      "Results for track 1247 saved to ./monocasting_results_bmeasure/1247.feather\n",
      "Running experiment for track 1260...\n",
      "Running experiment for track 1262...\n",
      "Results for track 1248 saved to ./monocasting_results_bmeasure/1248.feather\n",
      "Running experiment for track 1263...\n",
      "Results for track 1255 saved to ./monocasting_results_bmeasure/1255.feather\n",
      "Running experiment for track 1264...\n",
      "Results for track 1261 saved to ./monocasting_results_bmeasure/1261.feather\n",
      "Running experiment for track 1266...\n",
      "Results for track 1258 saved to ./monocasting_results_bmeasure/1258.feather\n",
      "Running experiment for track 1268...\n",
      "Results for track 1254 saved to ./monocasting_results_bmeasure/1254.feather\n",
      "Running experiment for track 1269...\n",
      "Results for track 1259 saved to ./monocasting_results_bmeasure/1259.feather\n",
      "Running experiment for track 1270...\n",
      "Results for track 1262 saved to ./monocasting_results_bmeasure/1262.feather\n",
      "Running experiment for track 1271...\n",
      "Results for track 1268 saved to ./monocasting_results_bmeasure/1268.feather\n",
      "Results for track 1266 saved to ./monocasting_results_bmeasure/1266.feather\n",
      "Results for track 1260 saved to ./monocasting_results_bmeasure/1260.feather\n",
      "Running experiment for track 1272...\n",
      "Running experiment for track 1275...\n",
      "Running experiment for track 1274...\n",
      "Results for track 1270 saved to ./monocasting_results_bmeasure/1270.feather\n",
      "Running experiment for track 1276...\n",
      "Results for track 1272 saved to ./monocasting_results_bmeasure/1272.feather\n",
      "Results for track 1264 saved to ./monocasting_results_bmeasure/1264.feather\n",
      "Results for track 1271 saved to ./monocasting_results_bmeasure/1271.feather\n",
      "Running experiment for track 1277...\n",
      "Results for track 1263 saved to ./monocasting_results_bmeasure/1263.feather\n",
      "Running experiment for track 1278...\n",
      "Running experiment for track 1279...\n",
      "Running experiment for track 1280...\n",
      "Results for track 1274 saved to ./monocasting_results_bmeasure/1274.feather\n",
      "Results for track 1275 saved to ./monocasting_results_bmeasure/1275.feather\n",
      "Running experiment for track 1282...\n",
      "Running experiment for track 1283...\n",
      "Results for track 1278 saved to ./monocasting_results_bmeasure/1278.feather\n",
      "Results for track 1279 saved to ./monocasting_results_bmeasure/1279.feather\n",
      "Running experiment for track 1284...\n",
      "Running experiment for track 1285...\n",
      "Results for track 1277 saved to ./monocasting_results_bmeasure/1277.feather\n",
      "Results for track 1282 saved to ./monocasting_results_bmeasure/1282.feather\n",
      "Running experiment for track 1286...\n",
      "Results for track 1269 saved to ./monocasting_results_bmeasure/1269.feather\n",
      "Running experiment for track 1287...\n",
      "Results for track 1276 saved to ./monocasting_results_bmeasure/1276.feather\n",
      "Running experiment for track 1288...\n",
      "Running experiment for track 1290...\n",
      "Results for track 1280 saved to ./monocasting_results_bmeasure/1280.feather\n",
      "Running experiment for track 1291...\n",
      "Results for track 1283 saved to ./monocasting_results_bmeasure/1283.feather\n",
      "Running experiment for track 1292...\n",
      "Results for track 1284 saved to ./monocasting_results_bmeasure/1284.feather\n",
      "Running experiment for track 1293...\n",
      "Results for track 1291 saved to ./monocasting_results_bmeasure/1291.feather\n",
      "Running experiment for track 1294...\n",
      "Results for track 1285 saved to ./monocasting_results_bmeasure/1285.feather\n",
      "Running experiment for track 1295...\n",
      "Results for track 1295 saved to ./monocasting_results_bmeasure/1295.feather\n",
      "Running experiment for track 1296...\n",
      "Results for track 1288 saved to ./monocasting_results_bmeasure/1288.feather\n",
      "Running experiment for track 1298...\n",
      "Results for track 1290 saved to ./monocasting_results_bmeasure/1290.feather\n",
      "Running experiment for track 1299...\n",
      "Results for track 1294 saved to ./monocasting_results_bmeasure/1294.feather\n",
      "Running experiment for track 1300...\n",
      "Results for track 1293 saved to ./monocasting_results_bmeasure/1293.feather\n",
      "Running experiment for track 1301...\n",
      "Results for track 1296 saved to ./monocasting_results_bmeasure/1296.feather\n",
      "Running experiment for track 1302...\n",
      "Results for track 1298 saved to ./monocasting_results_bmeasure/1298.feather\n",
      "Results for track 1299 saved to ./monocasting_results_bmeasure/1299.feather\n",
      "Running experiment for track 1303...\n",
      "Running experiment for track 1304...\n",
      "Results for track 1286 saved to ./monocasting_results_bmeasure/1286.feather\n",
      "Running experiment for track 1306...\n",
      "Results for track 1287 saved to ./monocasting_results_bmeasure/1287.feather\n",
      "Results for track 1301 saved to ./monocasting_results_bmeasure/1301.feather\n",
      "Running experiment for track 1308...\n",
      "Running experiment for track 1307...\n",
      "Results for track 1303 saved to ./monocasting_results_bmeasure/1303.feather\n",
      "Results for track 1292 saved to ./monocasting_results_bmeasure/1292.feather\n",
      "Running experiment for track 1309...\n",
      "Running experiment for track 1310...\n",
      "Results for track 1304 saved to ./monocasting_results_bmeasure/1304.feather\n",
      "Results for track 1302 saved to ./monocasting_results_bmeasure/1302.feather\n",
      "Running experiment for track 1312...\n",
      "Running experiment for track 1311...\n",
      "Results for track 1308 saved to ./monocasting_results_bmeasure/1308.feather\n",
      "Running experiment for track 1314...\n",
      "Results for track 1300 saved to ./monocasting_results_bmeasure/1300.feather\n",
      "Running experiment for track 1315...\n",
      "Results for track 1306 saved to ./monocasting_results_bmeasure/1306.feather\n",
      "Results for track 1307 saved to ./monocasting_results_bmeasure/1307.feather\n",
      "Running experiment for track 1316...\n",
      "Running experiment for track 1317...\n",
      "Results for track 1310 saved to ./monocasting_results_bmeasure/1310.feather\n",
      "Results for track 1314 saved to ./monocasting_results_bmeasure/1314.feather\n",
      "Running experiment for track 1318...\n",
      "Running experiment for track 1319...\n",
      "Results for track 1315 saved to ./monocasting_results_bmeasure/1315.feather\n",
      "Running experiment for track 1322...\n",
      "Results for track 1318 saved to ./monocasting_results_bmeasure/1318.feather\n",
      "Results for track 1311 saved to ./monocasting_results_bmeasure/1311.feather\n",
      "Running experiment for track 1323...\n",
      "Running experiment for track 1324...\n",
      "Results for track 1316 saved to ./monocasting_results_bmeasure/1316.feather\n",
      "Results for track 1312 saved to ./monocasting_results_bmeasure/1312.feather\n",
      "Running experiment for track 1325...\n",
      "Running experiment for track 1326...\n",
      "Results for track 1309 saved to ./monocasting_results_bmeasure/1309.feather\n",
      "Running experiment for track 1327...\n",
      "Results for track 1319 saved to ./monocasting_results_bmeasure/1319.feather\n",
      "Running experiment for track 1328...\n",
      "Results for track 1323 saved to ./monocasting_results_bmeasure/1323.feather\n",
      "Running experiment for track 1330...\n",
      "Results for track 1322 saved to ./monocasting_results_bmeasure/1322.feather\n",
      "Results for track 1330 saved to ./monocasting_results_bmeasure/1330.feather\n",
      "Running experiment for track 1332...\n",
      "Running experiment for track 1331...\n",
      "Results for track 1317 saved to ./monocasting_results_bmeasure/1317.feather\n",
      "Running experiment for track 1333...\n",
      "Results for track 1324 saved to ./monocasting_results_bmeasure/1324.feather\n",
      "Results for track 1326 saved to ./monocasting_results_bmeasure/1326.feather\n",
      "Results for track 1328 saved to ./monocasting_results_bmeasure/1328.feather\n",
      "Results for track 1325 saved to ./monocasting_results_bmeasure/1325.feather\n",
      "Running experiment for track 1334...\n",
      "Running experiment for track 1335...\n",
      "Running experiment for track 1336...\n",
      "Running experiment for track 1338...\n",
      "Results for track 1327 saved to ./monocasting_results_bmeasure/1327.feather\n",
      "Running experiment for track 1339...\n",
      "Results for track 1332 saved to ./monocasting_results_bmeasure/1332.feather\n",
      "Running experiment for track 1340...\n",
      "Results for track 1335 saved to ./monocasting_results_bmeasure/1335.feather\n",
      "Running experiment for track 1341...\n",
      "Results for track 1334 saved to ./monocasting_results_bmeasure/1334.feather\n",
      "Running experiment for track 1342...\n",
      "Results for track 1338 saved to ./monocasting_results_bmeasure/1338.feather\n",
      "Running experiment for track 1343...\n",
      "Results for track 1339 saved to ./monocasting_results_bmeasure/1339.feather\n",
      "Running experiment for track 1344...\n",
      "Results for track 1336 saved to ./monocasting_results_bmeasure/1336.feather\n",
      "Results for track 1340 saved to ./monocasting_results_bmeasure/1340.feather\n",
      "Results for track 1333 saved to ./monocasting_results_bmeasure/1333.feather\n",
      "Running experiment for track 1347...\n",
      "Results for track 1331 saved to ./monocasting_results_bmeasure/1331.feather\n",
      "Running experiment for track 1348...\n",
      "Running experiment for track 1346...\n",
      "Running experiment for track 1349...\n",
      "Results for track 1347 saved to ./monocasting_results_bmeasure/1347.feather\n",
      "Results for track 1342 saved to ./monocasting_results_bmeasure/1342.feather\n",
      "Running experiment for track 1350...\n",
      "Running experiment for track 1351...\n",
      "Results for track 1348 saved to ./monocasting_results_bmeasure/1348.feather\n",
      "Running experiment for track 1352...\n",
      "Results for track 1344 saved to ./monocasting_results_bmeasure/1344.feather\n",
      "Running experiment for track 1354...\n",
      "Results for track 1343 saved to ./monocasting_results_bmeasure/1343.feather\n",
      "Results for track 1341 saved to ./monocasting_results_bmeasure/1341.feather\n",
      "Running experiment for track 1355...\n",
      "Running experiment for track 1356...\n",
      "Results for track 1349 saved to ./monocasting_results_bmeasure/1349.feather\n",
      "Results for track 1350 saved to ./monocasting_results_bmeasure/1350.feather\n",
      "Running experiment for track 1359...\n",
      "Running experiment for track 1358...\n",
      "Results for track 1359 saved to ./monocasting_results_bmeasure/1359.feather\n",
      "Running experiment for track 1360...\n",
      "Results for track 1352 saved to ./monocasting_results_bmeasure/1352.feather\n",
      "Results for track 1358 saved to ./monocasting_results_bmeasure/1358.feather\n",
      "Running experiment for track 1362...\n",
      "Running experiment for track 1363...\n",
      "Results for track 1346 saved to ./monocasting_results_bmeasure/1346.feather\n",
      "Running experiment for track 1364...\n",
      "Results for track 1351 saved to ./monocasting_results_bmeasure/1351.feather\n",
      "Results for track 1355 saved to ./monocasting_results_bmeasure/1355.feather\n",
      "Running experiment for track 1365...\n",
      "Results for track 1356 saved to ./monocasting_results_bmeasure/1356.feather\n",
      "Running experiment for track 1367...\n",
      "Running experiment for track 1366...\n",
      "Results for track 1354 saved to ./monocasting_results_bmeasure/1354.feather\n",
      "Running experiment for track 1368...\n",
      "Results for track 1363 saved to ./monocasting_results_bmeasure/1363.feather\n",
      "Running experiment for track 1370...\n",
      "Results for track 1362 saved to ./monocasting_results_bmeasure/1362.feather\n",
      "Running experiment for track 1371...\n",
      "Results for track 1365 saved to ./monocasting_results_bmeasure/1365.feather\n",
      "Results for track 1360 saved to ./monocasting_results_bmeasure/1360.feather\n",
      "Running experiment for track 1373...\n",
      "Results for track 1367 saved to ./monocasting_results_bmeasure/1367.feather\n",
      "Running experiment for track 1372...\n",
      "Running experiment for track 1374...\n",
      "Results for track 1371 saved to ./monocasting_results_bmeasure/1371.feather\n",
      "Results for track 1364 saved to ./monocasting_results_bmeasure/1364.feather\n",
      "Running experiment for track 1376...\n",
      "Running experiment for track 1375...\n",
      "Results for track 1370 saved to ./monocasting_results_bmeasure/1370.feather\n",
      "Running experiment for track 1378...\n",
      "Results for track 1376 saved to ./monocasting_results_bmeasure/1376.feather\n",
      "Results for track 1374 saved to ./monocasting_results_bmeasure/1374.feather\n",
      "Running experiment for track 1379...\n",
      "Running experiment for track 1380...\n",
      "Results for track 1372 saved to ./monocasting_results_bmeasure/1372.feather\n",
      "Running experiment for track 1381...\n",
      "Results for track 1368 saved to ./monocasting_results_bmeasure/1368.feather\n",
      "Running experiment for track 1382...\n",
      "Results for track 1373 saved to ./monocasting_results_bmeasure/1373.feather\n",
      "Running experiment for track 1383...\n",
      "Results for track 1366 saved to ./monocasting_results_bmeasure/1366.feather\n",
      "Running experiment for track 1384...\n",
      "Results for track 1382 saved to ./monocasting_results_bmeasure/1382.feather\n",
      "Running experiment for track 1386...\n",
      "Results for track 1378 saved to ./monocasting_results_bmeasure/1378.feather\n",
      "Results for track 1380 saved to ./monocasting_results_bmeasure/1380.feather\n",
      "Running experiment for track 1387...\n",
      "Results for track 1375 saved to ./monocasting_results_bmeasure/1375.feather\n",
      "Running experiment for track 1388...\n",
      "Running experiment for track 1389...\n",
      "Results for track 1379 saved to ./monocasting_results_bmeasure/1379.feather\n",
      "Results for track 1389 saved to ./monocasting_results_bmeasure/1389.feather\n",
      "Results for track 1383 saved to ./monocasting_results_bmeasure/1383.feather\n",
      "Running experiment for track 1391...\n",
      "Running experiment for track 1390...\n",
      "Running experiment for track 1392...\n",
      "Results for track 1384 saved to ./monocasting_results_bmeasure/1384.feather\n",
      "Running experiment for track 1394...\n",
      "Results for track 1386 saved to ./monocasting_results_bmeasure/1386.feather\n",
      "Running experiment for track 1395...\n",
      "Results for track 1381 saved to ./monocasting_results_bmeasure/1381.feather\n",
      "Running experiment for track 1396...\n",
      "Results for track 1390 saved to ./monocasting_results_bmeasure/1390.feather\n",
      "Results for track 1391 saved to ./monocasting_results_bmeasure/1391.feather\n",
      "Running experiment for track 1397...\n",
      "Results for track 1387 saved to ./monocasting_results_bmeasure/1387.feather\n",
      "Running experiment for track 1399...\n",
      "Running experiment for track 1400...\n",
      "Results for track 1394 saved to ./monocasting_results_bmeasure/1394.feather\n",
      "Running experiment for track 1402...\n",
      "Results for track 1388 saved to ./monocasting_results_bmeasure/1388.feather\n",
      "Running experiment for track 1403...\n",
      "Results for track 1395 saved to ./monocasting_results_bmeasure/1395.feather\n",
      "Results for track 1399 saved to ./monocasting_results_bmeasure/1399.feather\n",
      "Running experiment for track 1404...\n",
      "Running experiment for track 1405...\n",
      "Results for track 1392 saved to ./monocasting_results_bmeasure/1392.feather\n",
      "Running experiment for track 1406...\n",
      "Results for track 1396 saved to ./monocasting_results_bmeasure/1396.feather\n",
      "Running experiment for track 1407...\n",
      "Results for track 1397 saved to ./monocasting_results_bmeasure/1397.feather\n",
      "Running experiment for track 1408...\n",
      "Results for track 1405 saved to ./monocasting_results_bmeasure/1405.feather\n",
      "Running experiment for track 1412...\n",
      "Results for track 1406 saved to ./monocasting_results_bmeasure/1406.feather\n",
      "Results for track 1400 saved to ./monocasting_results_bmeasure/1400.feather\n",
      "Results for track 1404 saved to ./monocasting_results_bmeasure/1404.feather\n",
      "Results for track 1408 saved to ./monocasting_results_bmeasure/1408.feather\n",
      "Running experiment for track 1413...\n",
      "Running experiment for track 1415...\n",
      "Running experiment for track 1414...\n",
      "Running experiment for track 1416...\n",
      "Results for track 1403 saved to ./monocasting_results_bmeasure/1403.feather\n",
      "Running experiment for track 1418...\n",
      "Results for track 1412 saved to ./monocasting_results_bmeasure/1412.feather\n",
      "Running experiment for track 1419...\n",
      "Results for track 1415 saved to ./monocasting_results_bmeasure/1415.feather\n",
      "Running experiment for track 1420...\n",
      "Results for track 1414 saved to ./monocasting_results_bmeasure/1414.feather\n",
      "Results for track 1407 saved to ./monocasting_results_bmeasure/1407.feather\n",
      "Running experiment for track 1421...\n",
      "Running experiment for track 1422...\n",
      "Results for track 1419 saved to ./monocasting_results_bmeasure/1419.feather\n",
      "Results for track 1418 saved to ./monocasting_results_bmeasure/1418.feather\n",
      "Running experiment for track 1424...\n",
      "Running experiment for track 1423...\n",
      "Results for track 1416 saved to ./monocasting_results_bmeasure/1416.feather\n",
      "Running experiment for track 1427...\n",
      "Results for track 1420 saved to ./monocasting_results_bmeasure/1420.feather\n",
      "Running experiment for track 1428...\n",
      "Results for track 1413 saved to ./monocasting_results_bmeasure/1413.feather\n",
      "Results for track 1402 saved to ./monocasting_results_bmeasure/1402.feather\n",
      "Running experiment for track 1429...\n",
      "Running experiment for track 1431...\n",
      "Results for track 1422 saved to ./monocasting_results_bmeasure/1422.feather\n",
      "Running experiment for track 1432...\n",
      "Results for track 1424 saved to ./monocasting_results_bmeasure/1424.feather\n",
      "Running experiment for track 1434...\n",
      "Results for track 1429 saved to ./monocasting_results_bmeasure/1429.feather\n",
      "Running experiment for track 1435...\n",
      "Results for track 1434 saved to ./monocasting_results_bmeasure/1434.feather\n",
      "Results for track 1431 saved to ./monocasting_results_bmeasure/1431.feather\n",
      "Results for track 1427 saved to ./monocasting_results_bmeasure/1427.feather\n",
      "Running experiment for track 1436...\n",
      "Running experiment for track 1437...\n",
      "Running experiment for track 1438...\n",
      "Results for track 1423 saved to ./monocasting_results_bmeasure/1423.feather\n",
      "Running experiment for track 1439...\n",
      "Results for track 1428 saved to ./monocasting_results_bmeasure/1428.feather\n",
      "Running experiment for track 1442...\n",
      "Results for track 1421 saved to ./monocasting_results_bmeasure/1421.feather\n",
      "Running experiment for track 1443...\n",
      "Results for track 1435 saved to ./monocasting_results_bmeasure/1435.feather\n",
      "Running experiment for track 1444...\n",
      "Results for track 1432 saved to ./monocasting_results_bmeasure/1432.feather\n",
      "Running experiment for track 1445...\n",
      "Results for track 1437 saved to ./monocasting_results_bmeasure/1437.feather\n",
      "Results for track 1439 saved to ./monocasting_results_bmeasure/1439.feather\n",
      "Running experiment for track 1446...\n",
      "Running experiment for track 1447...\n",
      "Results for track 1445 saved to ./monocasting_results_bmeasure/1445.feather\n",
      "Running experiment for track 1448...\n",
      "Results for track 1444 saved to ./monocasting_results_bmeasure/1444.feather\n",
      "Results for track 1443 saved to ./monocasting_results_bmeasure/1443.feather\n",
      "Running experiment for track 1450...\n",
      "Running experiment for track 1451...\n",
      "Results for track 1446 saved to ./monocasting_results_bmeasure/1446.feather\n",
      "Results for track 1438 saved to ./monocasting_results_bmeasure/1438.feather\n",
      "Running experiment for track 1452...\n",
      "Running experiment for track 1453...\n",
      "Results for track 1451 saved to ./monocasting_results_bmeasure/1451.feather\n",
      "Running experiment for track 1454...\n",
      "Results for track 1442 saved to ./monocasting_results_bmeasure/1442.feather\n",
      "Results for track 1448 saved to ./monocasting_results_bmeasure/1448.feather\n",
      "Running experiment for track 1455...\n",
      "Running experiment for track 1456...\n",
      "Results for track 1452 saved to ./monocasting_results_bmeasure/1452.feather\n",
      "Running experiment for track 1458...\n",
      "Results for track 1454 saved to ./monocasting_results_bmeasure/1454.feather\n",
      "Running experiment for track 1459...\n",
      "Results for track 1450 saved to ./monocasting_results_bmeasure/1450.feather\n",
      "Results for track 1456 saved to ./monocasting_results_bmeasure/1456.feather\n",
      "Running experiment for track 1460...\n",
      "Running experiment for track 1461...\n",
      "Results for track 1447 saved to ./monocasting_results_bmeasure/1447.feather\n",
      "Results for track 1436 saved to ./monocasting_results_bmeasure/1436.feather\n",
      "Running experiment for track 1462...\n",
      "Running experiment for track 1464...\n",
      "Results for track 1459 saved to ./monocasting_results_bmeasure/1459.feather\n",
      "Running experiment for track 1467...\n",
      "Results for track 1458 saved to ./monocasting_results_bmeasure/1458.feather\n",
      "Running experiment for track 1468...\n",
      "Results for track 1455 saved to ./monocasting_results_bmeasure/1455.feather\n",
      "Running experiment for track 1469...\n",
      "Results for track 1453 saved to ./monocasting_results_bmeasure/1453.feather\n",
      "Running experiment for track 1470...\n",
      "Results for track 1460 saved to ./monocasting_results_bmeasure/1460.feather\n",
      "Running experiment for track 1471...\n",
      "Results for track 1464 saved to ./monocasting_results_bmeasure/1464.feather\n",
      "Running experiment for track 1472...\n",
      "Results for track 1462 saved to ./monocasting_results_bmeasure/1462.feather\n",
      "Running experiment for track 1474...\n",
      "Results for track 1468 saved to ./monocasting_results_bmeasure/1468.feather\n",
      "Results for track 1461 saved to ./monocasting_results_bmeasure/1461.feather\n",
      "Running experiment for track 1475...\n",
      "Results for track 1470 saved to ./monocasting_results_bmeasure/1470.feather\n",
      "Running experiment for track 1477...\n",
      "Running experiment for track 1476...\n",
      "Results for track 1469 saved to ./monocasting_results_bmeasure/1469.feather\n",
      "Running experiment for track 1478...\n",
      "Results for track 1467 saved to ./monocasting_results_bmeasure/1467.feather\n",
      "Results for track 1474 saved to ./monocasting_results_bmeasure/1474.feather\n",
      "Running experiment for track 1479...\n",
      "Running experiment for track 1480...\n",
      "Results for track 1471 saved to ./monocasting_results_bmeasure/1471.feather\n",
      "Running experiment for track 1482...\n",
      "Results for track 1477 saved to ./monocasting_results_bmeasure/1477.feather\n",
      "Running experiment for track 1483...\n",
      "Results for track 1476 saved to ./monocasting_results_bmeasure/1476.feather\n",
      "Results for track 1472 saved to ./monocasting_results_bmeasure/1472.feather\n",
      "Running experiment for track 1484...\n",
      "Running experiment for track 1485...\n",
      "Results for track 1480 saved to ./monocasting_results_bmeasure/1480.feather\n",
      "Running experiment for track 1487...\n",
      "Results for track 1485 saved to ./monocasting_results_bmeasure/1485.feather\n",
      "Running experiment for track 1488...\n",
      "Results for track 1478 saved to ./monocasting_results_bmeasure/1478.feather\n",
      "Results for track 1482 saved to ./monocasting_results_bmeasure/1482.feather\n",
      "Running experiment for track 1490...\n",
      "Running experiment for track 1491...\n",
      "Results for track 1479 saved to ./monocasting_results_bmeasure/1479.feather\n",
      "Results for track 1475 saved to ./monocasting_results_bmeasure/1475.feather\n",
      "Running experiment for track 1494...\n",
      "Running experiment for track 1492...\n",
      "Results for track 1483 saved to ./monocasting_results_bmeasure/1483.feather\n",
      "Running experiment for track 1495...\n",
      "Results for track 1487 saved to ./monocasting_results_bmeasure/1487.feather\n",
      "Results for track 1491 saved to ./monocasting_results_bmeasure/1491.feather\n",
      "Running experiment for track 1496...\n",
      "Results for track 1488 saved to ./monocasting_results_bmeasure/1488.feather\n",
      "Running experiment for track 1498...\n",
      "Running experiment for track 1499...\n",
      "Results for track 1490 saved to ./monocasting_results_bmeasure/1490.feather\n",
      "Running experiment for track 1501...\n",
      "Results for track 1498 saved to ./monocasting_results_bmeasure/1498.feather\n",
      "Running experiment for track 1502...\n",
      "Results for track 1496 saved to ./monocasting_results_bmeasure/1496.feather\n",
      "Results for track 1484 saved to ./monocasting_results_bmeasure/1484.feather\n",
      "Results for track 1492 saved to ./monocasting_results_bmeasure/1492.feather\n",
      "Running experiment for track 1503...\n",
      "Running experiment for track 1506...\n",
      "Running experiment for track 1504...\n",
      "Results for track 1494 saved to ./monocasting_results_bmeasure/1494.feather\n",
      "Running experiment for track 1507...\n",
      "Results for track 1495 saved to ./monocasting_results_bmeasure/1495.feather\n",
      "Running experiment for track 1508...\n",
      "Results for track 1504 saved to ./monocasting_results_bmeasure/1504.feather\n",
      "Results for track 1499 saved to ./monocasting_results_bmeasure/1499.feather\n",
      "Running experiment for track 1510...\n",
      "Running experiment for track 1509...\n",
      "Results for track 1501 saved to ./monocasting_results_bmeasure/1501.featherResults for track 1502 saved to ./monocasting_results_bmeasure/1502.feather\n",
      "\n",
      "Running experiment for track 1512...\n",
      "Results for track 1510 saved to ./monocasting_results_bmeasure/1510.feather\n",
      "Running experiment for track 1511...\n",
      "Running experiment for track 1514...\n",
      "Results for track 1506 saved to ./monocasting_results_bmeasure/1506.feather\n",
      "Running experiment for track 1515...\n",
      "Results for track 1508 saved to ./monocasting_results_bmeasure/1508.feather\n",
      "Running experiment for track 1516...\n",
      "Results for track 1503 saved to ./monocasting_results_bmeasure/1503.feather\n",
      "Running experiment for track 1517...\n",
      "Results for track 1512 saved to ./monocasting_results_bmeasure/1512.feather\n",
      "Running experiment for track 1518...\n",
      "Results for track 1516 saved to ./monocasting_results_bmeasure/1516.feather\n",
      "Running experiment for track 1519...\n",
      "Results for track 1517 saved to ./monocasting_results_bmeasure/1517.feather\n",
      "Running experiment for track 1520...\n",
      "Results for track 1507 saved to ./monocasting_results_bmeasure/1507.feather\n",
      "Running experiment for track 1522...\n",
      "Results for track 1522 saved to ./monocasting_results_bmeasure/1522.feather\n",
      "Results for track 1509 saved to ./monocasting_results_bmeasure/1509.feather\n",
      "Running experiment for track 1523...\n",
      "Running experiment for track 1524...\n",
      "Results for track 1520 saved to ./monocasting_results_bmeasure/1520.feather\n",
      "Results for track 1515 saved to ./monocasting_results_bmeasure/1515.feather\n",
      "Running experiment for track 1525...\n",
      "Running experiment for track 1526...\n",
      "Results for track 1514 saved to ./monocasting_results_bmeasure/1514.feather\n",
      "Running experiment for track 1527...\n",
      "Results for track 1523 saved to ./monocasting_results_bmeasure/1523.feather\n",
      "Running experiment for track 1528...\n",
      "Results for track 1524 saved to ./monocasting_results_bmeasure/1524.feather\n",
      "Running experiment for track 1530...\n",
      "Results for track 1527 saved to ./monocasting_results_bmeasure/1527.feather\n",
      "Running experiment for track 1531...\n",
      "Results for track 1525 saved to ./monocasting_results_bmeasure/1525.feather\n",
      "Running experiment for track 1532...\n",
      "Results for track 1519 saved to ./monocasting_results_bmeasure/1519.feather\n",
      "Running experiment for track 1533...\n",
      "Results for track 1526 saved to ./monocasting_results_bmeasure/1526.feather\n",
      "Results for track 1518 saved to ./monocasting_results_bmeasure/1518.feather\n",
      "Results for track 1511 saved to ./monocasting_results_bmeasure/1511.feather\n",
      "Running experiment for track 1534...\n",
      "Running experiment for track 1536...\n",
      "Running experiment for track 1535...\n",
      "Results for track 1530 saved to ./monocasting_results_bmeasure/1530.feather\n",
      "Running experiment for track 1538...\n",
      "Results for track 1532 saved to ./monocasting_results_bmeasure/1532.feather\n",
      "Running experiment for track 1539...\n",
      "Results for track 1528 saved to ./monocasting_results_bmeasure/1528.feather\n",
      "Results for track 1531 saved to ./monocasting_results_bmeasure/1531.feather\n",
      "Running experiment for track 1541...\n",
      "Running experiment for track 1540...\n",
      "Results for track 1536 saved to ./monocasting_results_bmeasure/1536.feather\n",
      "Running experiment for track 1542...\n",
      "Results for track 1535 saved to ./monocasting_results_bmeasure/1535.feather\n",
      "Running experiment for track 1543...\n",
      "Results for track 1533 saved to ./monocasting_results_bmeasure/1533.feather\n",
      "Running experiment for track 1544...\n",
      "Results for track 1539 saved to ./monocasting_results_bmeasure/1539.feather\n",
      "Running experiment for track 1546...\n",
      "Results for track 1538 saved to ./monocasting_results_bmeasure/1538.feather\n",
      "Running experiment for track 1547...\n",
      "Results for track 1542 saved to ./monocasting_results_bmeasure/1542.feather\n",
      "Results for track 1541 saved to ./monocasting_results_bmeasure/1541.feather\n",
      "Running experiment for track 1548...\n",
      "Running experiment for track 1549...\n",
      "Results for track 1543 saved to ./monocasting_results_bmeasure/1543.feather\n",
      "Running experiment for track 1550...\n",
      "Results for track 1534 saved to ./monocasting_results_bmeasure/1534.feather\n",
      "Results for track 1544 saved to ./monocasting_results_bmeasure/1544.feather\n",
      "Results for track 1540 saved to ./monocasting_results_bmeasure/1540.feather\n",
      "Running experiment for track 1552...\n",
      "Running experiment for track 1551...\n",
      "Results for track 1546 saved to ./monocasting_results_bmeasure/1546.feather\n",
      "Running experiment for track 1554...\n",
      "Running experiment for track 1555...\n",
      "Results for track 1547 saved to ./monocasting_results_bmeasure/1547.feather\n",
      "Running experiment for track 1556...\n",
      "Results for track 1548 saved to ./monocasting_results_bmeasure/1548.feather\n",
      "Running experiment for track 1557...\n",
      "Results for track 1554 saved to ./monocasting_results_bmeasure/1554.feather\n",
      "Running experiment for track 1558...\n",
      "Results for track 1550 saved to ./monocasting_results_bmeasure/1550.feather\n",
      "Running experiment for track 1559...\n",
      "Results for track 1555 saved to ./monocasting_results_bmeasure/1555.feather\n",
      "Running experiment for track 1560...\n",
      "Results for track 1551 saved to ./monocasting_results_bmeasure/1551.feather\n",
      "Running experiment for track 1562...\n",
      "Results for track 1552 saved to ./monocasting_results_bmeasure/1552.feather\n",
      "Running experiment for track 1563...\n",
      "Results for track 1549 saved to ./monocasting_results_bmeasure/1549.feather\n",
      "Running experiment for track 1564...\n",
      "Results for track 1556 saved to ./monocasting_results_bmeasure/1556.feather\n",
      "Running experiment for track 1565...\n",
      "Results for track 1559 saved to ./monocasting_results_bmeasure/1559.feather\n",
      "Running experiment for track 1566...\n",
      "Results for track 1563 saved to ./monocasting_results_bmeasure/1563.feather\n",
      "Results for track 1558 saved to ./monocasting_results_bmeasure/1558.feather\n",
      "Running experiment for track 1567...\n",
      "Running experiment for track 1568...\n",
      "Results for track 1557 saved to ./monocasting_results_bmeasure/1557.feather\n",
      "Results for track 1560 saved to ./monocasting_results_bmeasure/1560.feather\n",
      "Running experiment for track 1571...\n",
      "Running experiment for track 1570...\n",
      "Results for track 1564 saved to ./monocasting_results_bmeasure/1564.feather\n",
      "Running experiment for track 1572...\n",
      "Results for track 1562 saved to ./monocasting_results_bmeasure/1562.feather\n",
      "Running experiment for track 1573...\n",
      "Results for track 1565 saved to ./monocasting_results_bmeasure/1565.feather\n",
      "Running experiment for track 1574...\n",
      "Results for track 1571 saved to ./monocasting_results_bmeasure/1571.feather\n",
      "Running experiment for track 1575...\n",
      "Results for track 1567 saved to ./monocasting_results_bmeasure/1567.feather\n",
      "Running experiment for track 1576...\n",
      "Results for track 1572 saved to ./monocasting_results_bmeasure/1572.feather\n",
      "Running experiment for track 1578...\n",
      "Results for track 1570 saved to ./monocasting_results_bmeasure/1570.feather\n",
      "Running experiment for track 1579...\n",
      "Results for track 1566 saved to ./monocasting_results_bmeasure/1566.feather\n",
      "Running experiment for track 1580...\n",
      "Results for track 1574 saved to ./monocasting_results_bmeasure/1574.feather\n",
      "Running experiment for track 1581...\n",
      "Results for track 1573 saved to ./monocasting_results_bmeasure/1573.feather\n",
      "Running experiment for track 1582...\n",
      "Results for track 1575 saved to ./monocasting_results_bmeasure/1575.feather\n",
      "Running experiment for track 1583...\n",
      "Results for track 1579 saved to ./monocasting_results_bmeasure/1579.feather\n",
      "Results for track 1576 saved to ./monocasting_results_bmeasure/1576.feather\n",
      "Running experiment for track 1584...\n",
      "Running experiment for track 1586...\n",
      "Results for track 1568 saved to ./monocasting_results_bmeasure/1568.feather\n",
      "Running experiment for track 1587...\n",
      "Results for track 1578 saved to ./monocasting_results_bmeasure/1578.feather\n",
      "Running experiment for track 1588...\n",
      "Results for track 1581 saved to ./monocasting_results_bmeasure/1581.feather\n",
      "Running experiment for track 1589...\n",
      "Results for track 1580 saved to ./monocasting_results_bmeasure/1580.feather\n",
      "Running experiment for track 1590...\n",
      "Results for track 1582 saved to ./monocasting_results_bmeasure/1582.feather\n",
      "Running experiment for track 1591...\n",
      "Results for track 1586 saved to ./monocasting_results_bmeasure/1586.feather\n",
      "Results for track 1584 saved to ./monocasting_results_bmeasure/1584.feather\n",
      "Running experiment for track 1592...\n",
      "Running experiment for track 1594...\n",
      "Results for track 1587 saved to ./monocasting_results_bmeasure/1587.feather\n",
      "Running experiment for track 1595...\n",
      "Results for track 1583 saved to ./monocasting_results_bmeasure/1583.feather\n",
      "Running experiment for track 1596...\n",
      "Results for track 1589 saved to ./monocasting_results_bmeasure/1589.feather\n",
      "Running experiment for track 1597...\n",
      "Results for track 1588 saved to ./monocasting_results_bmeasure/1588.feather\n",
      "Running experiment for track 1598...\n",
      "Results for track 1594 saved to ./monocasting_results_bmeasure/1594.feather\n",
      "Running experiment for track 1600...\n",
      "Results for track 1590 saved to ./monocasting_results_bmeasure/1590.feather\n",
      "Running experiment for track 1602...\n",
      "Results for track 1591 saved to ./monocasting_results_bmeasure/1591.feather\n",
      "Running experiment for track 1603...\n",
      "Results for track 1592 saved to ./monocasting_results_bmeasure/1592.feather\n",
      "Running experiment for track 1604...\n",
      "Results for track 1596 saved to ./monocasting_results_bmeasure/1596.feather\n",
      "Running experiment for track 1605...\n",
      "Results for track 1597 saved to ./monocasting_results_bmeasure/1597.feather\n",
      "Results for track 1595 saved to ./monocasting_results_bmeasure/1595.feather\n",
      "Running experiment for track 1606...\n",
      "Running experiment for track 1607...\n",
      "Results for track 1602 saved to ./monocasting_results_bmeasure/1602.feather\n",
      "Running experiment for track 1608...\n",
      "Results for track 1600 saved to ./monocasting_results_bmeasure/1600.feather\n",
      "Running experiment for track 1610...\n",
      "Results for track 1603 saved to ./monocasting_results_bmeasure/1603.feather\n",
      "Running experiment for track 1611...\n",
      "Results for track 1605 saved to ./monocasting_results_bmeasure/1605.feather\n",
      "Running experiment for track 1612...\n",
      "Results for track 1598 saved to ./monocasting_results_bmeasure/1598.feather\n",
      "Running experiment for track 1613...\n",
      "Results for track 1604 saved to ./monocasting_results_bmeasure/1604.feather\n",
      "Results for track 1606 saved to ./monocasting_results_bmeasure/1606.feather\n",
      "Running experiment for track 1614...\n",
      "Running experiment for track 1615...\n",
      "Results for track 1611 saved to ./monocasting_results_bmeasure/1611.feather\n",
      "Running experiment for track 1616...\n",
      "Results for track 1612 saved to ./monocasting_results_bmeasure/1612.feather\n",
      "Running experiment for track 1618...\n",
      "Results for track 1610 saved to ./monocasting_results_bmeasure/1610.feather\n",
      "Results for track 1613 saved to ./monocasting_results_bmeasure/1613.feather\n",
      "Results for track 1607 saved to ./monocasting_results_bmeasure/1607.feather\n",
      "Running experiment for track 1619...\n",
      "Running experiment for track 1620...\n",
      "Running experiment for track 1621...\n",
      "Results for track 1608 saved to ./monocasting_results_bmeasure/1608.feather\n",
      "Running experiment for track 1622...\n",
      "Results for track 1614 saved to ./monocasting_results_bmeasure/1614.feather\n",
      "Running experiment for track 1623...\n",
      "Results for track 1615 saved to ./monocasting_results_bmeasure/1615.feather\n",
      "Running experiment for track 1624...\n",
      "Results for track 1616 saved to ./monocasting_results_bmeasure/1616.feather\n",
      "Running experiment for track 1626...\n",
      "Results for track 1618 saved to ./monocasting_results_bmeasure/1618.feather\n",
      "Running experiment for track 1627...\n",
      "Results for track 1621 saved to ./monocasting_results_bmeasure/1621.feather\n",
      "Running experiment for track 1628...\n",
      "Results for track 1619 saved to ./monocasting_results_bmeasure/1619.feather\n",
      "Running experiment for track 1629...\n",
      "Results for track 1620 saved to ./monocasting_results_bmeasure/1620.feather\n",
      "Running experiment for track 1630...\n",
      "Results for track 1622 saved to ./monocasting_results_bmeasure/1622.feather\n",
      "Running experiment for track 1631...\n",
      "Results for track 1624 saved to ./monocasting_results_bmeasure/1624.feather\n",
      "Results for track 1627 saved to ./monocasting_results_bmeasure/1627.feather\n",
      "Running experiment for track 1634...\n",
      "Running experiment for track 1632...\n",
      "Results for track 1623 saved to ./monocasting_results_bmeasure/1623.feather\n",
      "Results for track 1631 saved to ./monocasting_results_bmeasure/1631.feather\n",
      "Running experiment for track 1635...\n",
      "Running experiment for track 1636...\n",
      "Results for track 1630 saved to ./monocasting_results_bmeasure/1630.feather\n",
      "Running experiment for track 1637...\n",
      "Results for track 1628 saved to ./monocasting_results_bmeasure/1628.feather\n",
      "Results for track 1629 saved to ./monocasting_results_bmeasure/1629.feather\n",
      "Running experiment for track 1638...\n",
      "Running experiment for track 1639...\n",
      "Results for track 1634 saved to ./monocasting_results_bmeasure/1634.feather\n",
      "Running experiment for track 1640...\n",
      "Results for track 1635 saved to ./monocasting_results_bmeasure/1635.feather\n",
      "Results for track 1637 saved to ./monocasting_results_bmeasure/1637.feather\n",
      "Running experiment for track 1642...\n",
      "Results for track 1636 saved to ./monocasting_results_bmeasure/1636.feather\n",
      "Running experiment for track 1643...\n",
      "Results for track 1638 saved to ./monocasting_results_bmeasure/1638.feather\n",
      "Running experiment for track 1644...\n",
      "Results for track 1626 saved to ./monocasting_results_bmeasure/1626.feather\n",
      "Running experiment for track 1645...\n",
      "Running experiment for track 1646...\n",
      "Results for track 1639 saved to ./monocasting_results_bmeasure/1639.feather\n",
      "Running experiment for track 1647...\n",
      "Results for track 1640 saved to ./monocasting_results_bmeasure/1640.feather\n",
      "Running experiment for track 1648...\n",
      "Results for track 1632 saved to ./monocasting_results_bmeasure/1632.feather\n",
      "Running experiment for track 1650...\n",
      "Results for track 1648 saved to ./monocasting_results_bmeasure/1648.feather\n",
      "Running experiment for track 1652...\n",
      "Results for track 1642 saved to ./monocasting_results_bmeasure/1642.feather\n",
      "Running experiment for track 1653...\n",
      "Results for track 1646 saved to ./monocasting_results_bmeasure/1646.feather\n",
      "Results for track 1643 saved to ./monocasting_results_bmeasure/1643.feather\n",
      "Running experiment for track 1655...\n",
      "Running experiment for track 1654...\n",
      "Results for track 1645 saved to ./monocasting_results_bmeasure/1645.feather\n",
      "Results for track 1647 saved to ./monocasting_results_bmeasure/1647.feather\n",
      "Results for track 1644 saved to ./monocasting_results_bmeasure/1644.feather\n",
      "Results for track 1653 saved to ./monocasting_results_bmeasure/1653.feather\n",
      "Results for track 1655 saved to ./monocasting_results_bmeasure/1655.feather\n",
      "Results for track 1654 saved to ./monocasting_results_bmeasure/1654.feather\n",
      "Results for track 1650 saved to ./monocasting_results_bmeasure/1650.feather\n",
      "Results for track 1652 saved to ./monocasting_results_bmeasure/1652.feather\n"
     ]
    },
    {
     "data": {
      "application/vnd.jupyter.widget-view+json": {
       "model_id": "3db0b69419a14530ac80aba47db9a376",
       "version_major": 2,
       "version_minor": 0
      },
      "text/plain": [
       "COLLECTING RESULTS | :   0%|          | 0/1359 [00:00<?, ?it/s]"
      ]
     },
     "metadata": {},
     "output_type": "display_data"
    }
   ],
   "source": [
    "from pqdm.processes import pqdm\n",
    "from bnl.exp import bmeasure_mono_casting_effects as bmce\n",
    "import bnl\n",
    "\n",
    "slm_ds = bnl.data.Dataset(manifest_path=\"~/data/salami/metadata.csv\")\n",
    "list_of_dfs = pqdm(slm_ds, bmce, n_jobs=8)"
   ]
  },
  {
   "cell_type": "code",
   "execution_count": 4,
   "id": "56eb7ae1",
   "metadata": {},
   "outputs": [
    {
     "data": {
      "text/plain": [
       "1350"
      ]
     },
     "execution_count": 4,
     "metadata": {},
     "output_type": "execute_result"
    }
   ],
   "source": [
    "import pandas as pd\n",
    "valid_dfs = [df for df in list_of_dfs if type(df) is pd.DataFrame]\n",
    "len(valid_dfs)"
   ]
  },
  {
   "cell_type": "code",
   "execution_count": 5,
   "id": "5e7e7c5c",
   "metadata": {},
   "outputs": [
    {
     "data": {
      "text/html": [
       "<div>\n",
       "<style scoped>\n",
       "    .dataframe tbody tr th:only-of-type {\n",
       "        vertical-align: middle;\n",
       "    }\n",
       "\n",
       "    .dataframe tbody tr th {\n",
       "        vertical-align: top;\n",
       "    }\n",
       "\n",
       "    .dataframe thead th {\n",
       "        text-align: right;\n",
       "    }\n",
       "</style>\n",
       "<table border=\"1\" class=\"dataframe\">\n",
       "  <thead>\n",
       "    <tr style=\"text-align: right;\">\n",
       "      <th></th>\n",
       "      <th>tid</th>\n",
       "      <th>mono_casting</th>\n",
       "      <th>bdry_cleaning</th>\n",
       "      <th>leveling</th>\n",
       "      <th>window</th>\n",
       "      <th>reduced</th>\n",
       "      <th>bhr_num</th>\n",
       "      <th>bhr_rec_denom</th>\n",
       "      <th>bhr_prec_denom</th>\n",
       "      <th>bpo_rec_num</th>\n",
       "      <th>bpo_rec_denom</th>\n",
       "      <th>bpo_prec_num</th>\n",
       "      <th>bpo_prec_denom</th>\n",
       "    </tr>\n",
       "  </thead>\n",
       "  <tbody>\n",
       "    <tr>\n",
       "      <th>0</th>\n",
       "      <td>2</td>\n",
       "      <td>depth</td>\n",
       "      <td>absorb</td>\n",
       "      <td>unique</td>\n",
       "      <td>0.5</td>\n",
       "      <td>False</td>\n",
       "      <td>11.0</td>\n",
       "      <td>59.0</td>\n",
       "      <td>21.0</td>\n",
       "      <td>3.0</td>\n",
       "      <td>10.0</td>\n",
       "      <td>3.0</td>\n",
       "      <td>47.0</td>\n",
       "    </tr>\n",
       "    <tr>\n",
       "      <th>1</th>\n",
       "      <td>2</td>\n",
       "      <td>depth</td>\n",
       "      <td>absorb</td>\n",
       "      <td>unique</td>\n",
       "      <td>0.5</td>\n",
       "      <td>True</td>\n",
       "      <td>11.0</td>\n",
       "      <td>59.0</td>\n",
       "      <td>21.0</td>\n",
       "      <td>3.0</td>\n",
       "      <td>10.0</td>\n",
       "      <td>3.0</td>\n",
       "      <td>10.0</td>\n",
       "    </tr>\n",
       "    <tr>\n",
       "      <th>2</th>\n",
       "      <td>2</td>\n",
       "      <td>depth</td>\n",
       "      <td>absorb</td>\n",
       "      <td>unique</td>\n",
       "      <td>3.0</td>\n",
       "      <td>False</td>\n",
       "      <td>20.0</td>\n",
       "      <td>59.0</td>\n",
       "      <td>21.0</td>\n",
       "      <td>51.0</td>\n",
       "      <td>96.0</td>\n",
       "      <td>51.0</td>\n",
       "      <td>162.0</td>\n",
       "    </tr>\n",
       "    <tr>\n",
       "      <th>3</th>\n",
       "      <td>2</td>\n",
       "      <td>depth</td>\n",
       "      <td>absorb</td>\n",
       "      <td>unique</td>\n",
       "      <td>3.0</td>\n",
       "      <td>True</td>\n",
       "      <td>20.0</td>\n",
       "      <td>59.0</td>\n",
       "      <td>21.0</td>\n",
       "      <td>51.0</td>\n",
       "      <td>96.0</td>\n",
       "      <td>21.0</td>\n",
       "      <td>54.0</td>\n",
       "    </tr>\n",
       "    <tr>\n",
       "      <th>4</th>\n",
       "      <td>2</td>\n",
       "      <td>depth</td>\n",
       "      <td>absorb</td>\n",
       "      <td>mean_shift</td>\n",
       "      <td>0.5</td>\n",
       "      <td>False</td>\n",
       "      <td>11.0</td>\n",
       "      <td>59.0</td>\n",
       "      <td>21.0</td>\n",
       "      <td>0.0</td>\n",
       "      <td>10.0</td>\n",
       "      <td>0.0</td>\n",
       "      <td>31.0</td>\n",
       "    </tr>\n",
       "    <tr>\n",
       "      <th>...</th>\n",
       "      <td>...</td>\n",
       "      <td>...</td>\n",
       "      <td>...</td>\n",
       "      <td>...</td>\n",
       "      <td>...</td>\n",
       "      <td>...</td>\n",
       "      <td>...</td>\n",
       "      <td>...</td>\n",
       "      <td>...</td>\n",
       "      <td>...</td>\n",
       "      <td>...</td>\n",
       "      <td>...</td>\n",
       "      <td>...</td>\n",
       "    </tr>\n",
       "    <tr>\n",
       "      <th>64795</th>\n",
       "      <td>1655</td>\n",
       "      <td>prob</td>\n",
       "      <td>none</td>\n",
       "      <td>unique</td>\n",
       "      <td>3.0</td>\n",
       "      <td>True</td>\n",
       "      <td>12.0</td>\n",
       "      <td>18.0</td>\n",
       "      <td>33.0</td>\n",
       "      <td>27.0</td>\n",
       "      <td>32.0</td>\n",
       "      <td>0.0</td>\n",
       "      <td>4.0</td>\n",
       "    </tr>\n",
       "    <tr>\n",
       "      <th>64796</th>\n",
       "      <td>1655</td>\n",
       "      <td>prob</td>\n",
       "      <td>none</td>\n",
       "      <td>mean_shift</td>\n",
       "      <td>0.5</td>\n",
       "      <td>False</td>\n",
       "      <td>8.0</td>\n",
       "      <td>18.0</td>\n",
       "      <td>33.0</td>\n",
       "      <td>9.0</td>\n",
       "      <td>15.0</td>\n",
       "      <td>9.0</td>\n",
       "      <td>17.0</td>\n",
       "    </tr>\n",
       "    <tr>\n",
       "      <th>64797</th>\n",
       "      <td>1655</td>\n",
       "      <td>prob</td>\n",
       "      <td>none</td>\n",
       "      <td>mean_shift</td>\n",
       "      <td>0.5</td>\n",
       "      <td>True</td>\n",
       "      <td>8.0</td>\n",
       "      <td>18.0</td>\n",
       "      <td>33.0</td>\n",
       "      <td>9.0</td>\n",
       "      <td>15.0</td>\n",
       "      <td>3.0</td>\n",
       "      <td>5.0</td>\n",
       "    </tr>\n",
       "    <tr>\n",
       "      <th>64798</th>\n",
       "      <td>1655</td>\n",
       "      <td>prob</td>\n",
       "      <td>none</td>\n",
       "      <td>mean_shift</td>\n",
       "      <td>3.0</td>\n",
       "      <td>False</td>\n",
       "      <td>12.0</td>\n",
       "      <td>18.0</td>\n",
       "      <td>33.0</td>\n",
       "      <td>27.0</td>\n",
       "      <td>32.0</td>\n",
       "      <td>27.0</td>\n",
       "      <td>47.0</td>\n",
       "    </tr>\n",
       "    <tr>\n",
       "      <th>64799</th>\n",
       "      <td>1655</td>\n",
       "      <td>prob</td>\n",
       "      <td>none</td>\n",
       "      <td>mean_shift</td>\n",
       "      <td>3.0</td>\n",
       "      <td>True</td>\n",
       "      <td>12.0</td>\n",
       "      <td>18.0</td>\n",
       "      <td>33.0</td>\n",
       "      <td>27.0</td>\n",
       "      <td>32.0</td>\n",
       "      <td>16.0</td>\n",
       "      <td>26.0</td>\n",
       "    </tr>\n",
       "  </tbody>\n",
       "</table>\n",
       "<p>64800 rows × 13 columns</p>\n",
       "</div>"
      ],
      "text/plain": [
       "        tid mono_casting bdry_cleaning    leveling  window  reduced  bhr_num  \\\n",
       "0         2        depth        absorb      unique     0.5    False     11.0   \n",
       "1         2        depth        absorb      unique     0.5     True     11.0   \n",
       "2         2        depth        absorb      unique     3.0    False     20.0   \n",
       "3         2        depth        absorb      unique     3.0     True     20.0   \n",
       "4         2        depth        absorb  mean_shift     0.5    False     11.0   \n",
       "...     ...          ...           ...         ...     ...      ...      ...   \n",
       "64795  1655         prob          none      unique     3.0     True     12.0   \n",
       "64796  1655         prob          none  mean_shift     0.5    False      8.0   \n",
       "64797  1655         prob          none  mean_shift     0.5     True      8.0   \n",
       "64798  1655         prob          none  mean_shift     3.0    False     12.0   \n",
       "64799  1655         prob          none  mean_shift     3.0     True     12.0   \n",
       "\n",
       "       bhr_rec_denom  bhr_prec_denom  bpo_rec_num  bpo_rec_denom  \\\n",
       "0               59.0            21.0          3.0           10.0   \n",
       "1               59.0            21.0          3.0           10.0   \n",
       "2               59.0            21.0         51.0           96.0   \n",
       "3               59.0            21.0         51.0           96.0   \n",
       "4               59.0            21.0          0.0           10.0   \n",
       "...              ...             ...          ...            ...   \n",
       "64795           18.0            33.0         27.0           32.0   \n",
       "64796           18.0            33.0          9.0           15.0   \n",
       "64797           18.0            33.0          9.0           15.0   \n",
       "64798           18.0            33.0         27.0           32.0   \n",
       "64799           18.0            33.0         27.0           32.0   \n",
       "\n",
       "       bpo_prec_num  bpo_prec_denom  \n",
       "0               3.0            47.0  \n",
       "1               3.0            10.0  \n",
       "2              51.0           162.0  \n",
       "3              21.0            54.0  \n",
       "4               0.0            31.0  \n",
       "...             ...             ...  \n",
       "64795           0.0             4.0  \n",
       "64796           9.0            17.0  \n",
       "64797           3.0             5.0  \n",
       "64798          27.0            47.0  \n",
       "64799          16.0            26.0  \n",
       "\n",
       "[64800 rows x 13 columns]"
      ]
     },
     "execution_count": 5,
     "metadata": {},
     "output_type": "execute_result"
    }
   ],
   "source": [
    "all_results_df = pd.concat(valid_dfs, ignore_index=True)\n",
    "all_results_df"
   ]
  },
  {
   "cell_type": "code",
   "execution_count": null,
   "id": "3102d447",
   "metadata": {},
   "outputs": [],
   "source": []
  },
  {
   "cell_type": "code",
   "execution_count": 6,
   "id": "9b03a63d",
   "metadata": {},
   "outputs": [],
   "source": [
    "all_results_df.to_feather(\"monocasting_bmeasure.feather\")"
   ]
  },
  {
   "cell_type": "code",
   "execution_count": 7,
   "id": "2dbc9962",
   "metadata": {},
   "outputs": [],
   "source": [
    "all_results_df.to_csv(\"monocasting_bmeasure.csv\")"
   ]
  },
  {
   "cell_type": "code",
   "execution_count": null,
   "id": "e71b5073",
   "metadata": {},
   "outputs": [],
   "source": []
  }
 ],
 "metadata": {
  "kernelspec": {
   "display_name": "py311",
   "language": "python",
   "name": "python3"
  },
  "language_info": {
   "codemirror_mode": {
    "name": "ipython",
    "version": 3
   },
   "file_extension": ".py",
   "mimetype": "text/x-python",
   "name": "python",
   "nbconvert_exporter": "python",
   "pygments_lexer": "ipython3",
   "version": "3.11.13"
  }
 },
 "nbformat": 4,
 "nbformat_minor": 5
}
