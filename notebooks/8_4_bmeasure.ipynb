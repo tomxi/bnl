{
 "cells": [
  {
   "cell_type": "code",
   "execution_count": null,
   "id": "f516e553",
   "metadata": {},
   "outputs": [],
   "source": [
    "%load_ext autoreload\n",
    "%autoreload 2\n",
    "\n",
    "import bnl\n",
    "import random\n",
    "\n",
    "from bnl.metrics import bmeasure\n",
    "\n",
    "import pandas as pd\n",
    "import seaborn as sns\n",
    "import matplotlib.pyplot as plt"
   ]
  },
  {
   "cell_type": "code",
   "execution_count": null,
   "id": "501775d5",
   "metadata": {},
   "outputs": [],
   "source": [
    "## Now it's time to implement the B-measure\n",
    "# let's start with the boundary hit rate for a proccessed Boundary Contour object\n",
    "slm_ds = bnl.data.Dataset('~/data/salami/metadata.csv')"
   ]
  },
  {
   "cell_type": "code",
   "execution_count": null,
   "id": "63696bdf",
   "metadata": {},
   "outputs": [],
   "source": [
    "tid = random.choice(slm_ds.track_ids)\n",
    "track = slm_ds[tid]"
   ]
  },
  {
   "cell_type": "code",
   "execution_count": null,
   "id": "cf1f088a",
   "metadata": {},
   "outputs": [],
   "source": [
    "ref = list(track.refs.values())[0]\n",
    "est = track.ests['mu1gamma9'].align(ref)\n",
    "est_bc = est.contour('prob').clean('kde', bw=1).level('mean_shift', bw=0.15)\n",
    "ref_bc = ref.contour('depth').level()\n",
    "\n",
    "est_bc.plot().show()\n",
    "ref_bc.plot().show()"
   ]
  },
  {
   "cell_type": "markdown",
   "id": "7d89c684",
   "metadata": {},
   "source": [
    "## Let's look at how B-measure performs on SALAMI track that have two annotations"
   ]
  },
  {
   "cell_type": "code",
   "execution_count": null,
   "id": "8aa02806",
   "metadata": {},
   "outputs": [],
   "source": [
    "slm_2anno_tracks = [t for t in slm_ds if len(t.refs) == 2]"
   ]
  },
  {
   "cell_type": "code",
   "execution_count": null,
   "id": "4a5dcb05",
   "metadata": {},
   "outputs": [],
   "source": [
    "from bnl.exp import bmeasure_between_slm_refs\n",
    "score_df = bmeasure_between_slm_refs(slm_ds[2])\n",
    "bnl.viz.bmeasure_df(score_df)"
   ]
  },
  {
   "cell_type": "code",
   "execution_count": null,
   "id": "ecd9ceda",
   "metadata": {},
   "outputs": [],
   "source": [
    "from pqdm.processes import pqdm\n",
    "from bnl.exp import bmeasure_between_slm_refs\n",
    "import bnl\n",
    "import pandas as pd\n",
    "\n",
    "slm_ds = bnl.data.Dataset(manifest_path=\"~/data/salami/metadata.csv\")\n",
    "list_of_dfs = pqdm(slm_ds, bmeasure_between_slm_refs, n_jobs=8)\n",
    "valid_dfs = [x for x in list_of_dfs if type(x) is pd.DataFrame]\n",
    "exp_results = pd.concat(valid_dfs, ignore_index=True)\n",
    "exp_results.to_feather(\"bmeasure_slm_inter_anno_results.feather\")"
   ]
  },
  {
   "cell_type": "code",
   "execution_count": null,
   "id": "8264a544",
   "metadata": {},
   "outputs": [],
   "source": [
    "import pandas as pd\n",
    "import seaborn as sns\n",
    "import matplotlib.pyplot as plt\n",
    "\n",
    "exp_results = pd.read_feather(\"bmeasure_slm_inter_anno_results.feather\")\n",
    "\n",
    "res_df = exp_results.where(\n",
    "    exp_results.metric.isin([\"b\", \"hr\", \"poa\"]) & exp_results.prf.isin([\"f\"])\n",
    ").dropna().reset_index(drop=True).pivot_table(\n",
    "    index=['track_id'], columns=['window', 'metric'], values='score'\n",
    ")\n",
    "\n",
    "new_columns = ['_'.join([str(f) for f in col]) for col in res_df.columns.values]\n",
    "res_df.columns = new_columns\n",
    "\n",
    "res_d"
   ]
  },
  {
   "cell_type": "code",
   "execution_count": null,
   "id": "05be782b",
   "metadata": {},
   "outputs": [],
   "source": [
    "fig, ax = plt.subplots(figsize=(6,4))\n",
    "\n",
    "colors = ['#4477AA', '#EE6677', '#228833']  # blue, red, green\n",
    "palette = [colors[i // 3] for i in range(len(res_df.columns))]\n",
    "sns.violinplot(data=res_df, palette=palette, ax=ax)\n",
    "xtick_labels = ax.get_xticklabels()\n",
    "new_tick_p1 = [label.get_text().split(\"_\")[1].upper() for label in xtick_labels]\n",
    "new_tick_p2 = [f\"({label.get_text().split('_')[0]} sec)\" for label in xtick_labels]\n",
    "new_tick_labels = [f\"{part1} {part2}\" for part1, part2 in zip(new_tick_p1, new_tick_p2)]\n",
    "\n",
    "# put in mean value as text\n",
    "means = res_df.mean()\n",
    "for i, mean in enumerate(means):\n",
    "    # Get the maximum value for this column to position text above it\n",
    "    text_y = [0.4, 0.3, 0.2] * 3\n",
    "    ax.text(\n",
    "        i, text_y[i], f'μ={mean:.3f}', \n",
    "        ha='center', va='bottom', fontsize=9,\n",
    "        bbox=dict(boxstyle='round,pad=0.3', facecolor='white', alpha=0.8)\n",
    "    )\n",
    "ax.set_xticks(ax.get_xticks())\n",
    "ax.set_xticklabels(new_tick_labels, rotation=45, ha='right')\n",
    "ax.set_title(\"B-Measure and Components between SALAMI Annotations\", fontsize=14)\n",
    "ax.set(ylabel=\"F-score\")\n",
    "plt.tight_layout()\n",
    "fig.savefig(\"bmeasure_violin.pdf\", bbox_inches='tight')"
   ]
  },
  {
   "cell_type": "code",
   "execution_count": null,
   "id": "6feba012",
   "metadata": {},
   "outputs": [],
   "source": []
  },
  {
   "cell_type": "code",
   "execution_count": null,
   "id": "4c851e2e",
   "metadata": {},
   "outputs": [],
   "source": []
  },
  {
   "cell_type": "code",
   "execution_count": null,
   "id": "c731fef2",
   "metadata": {},
   "outputs": [],
   "source": []
  },
  {
   "cell_type": "code",
   "execution_count": null,
   "id": "f722b3e9",
   "metadata": {},
   "outputs": [],
   "source": [
    "import matplotlib.pyplot as plt\n",
    "import seaborn as sns\n",
    "plotting_df = exp_results.pivot_table(\n",
    "    index=[\"track_id\", \"prf\"], columns=[\"metric\", \"window\"], values=\"score\"\n",
    ")\n",
    "\n",
    "new_columns = [\"_\".join([str(f) for f in col if f]) for col in plotting_df.columns.values]\n",
    "plotting_df.columns = new_columns\n",
    "sns.set_theme(style=\"whitegrid\")\n",
    "for prf in ['f', 'p', 'r']:\n",
    "    df = plotting_df[plotting_df['prf'] == prf]\n",
    "    text = 'measure' if prf == 'f' else 'precision' if prf == 'p' else 'recall'\n",
    "    plt.rcParams[\"figure.figsize\"] = (4, 4) \n",
    "    sns.violinplot(data=df)\n",
    "    plt.xticks(rotation=45, ha='right')\n",
    "    plt.title(f'Dist. of B-{text} with different windows', fontsize=14)\n",
    "    plt.ylabel(f'B-{text}')\n",
    "    plt.xlabel('Metric')\n",
    "    plt.gca().set_ylim(-0.1, 1.1)\n",
    "    plt.tight_layout()\n",
    "    plt.show()\n",
    "    # plt.savefig(f'B_violin_{prf}.pdf', bbox_inches='tight')\n",
    "    # plt.close()"
   ]
  },
  {
   "cell_type": "code",
   "execution_count": null,
   "id": "ea74b155",
   "metadata": {},
   "outputs": [],
   "source": [
    "## I want to see scattering between b and b-x\n",
    "sns.jointplot(data=plotting_df[plotting_df.prf == 'f'], x=\"b_0.5\", y=\"b-x_0.5\")"
   ]
  },
  {
   "cell_type": "code",
   "execution_count": null,
   "id": "7fdb48f1",
   "metadata": {},
   "outputs": [],
   "source": []
  },
  {
   "cell_type": "code",
   "execution_count": null,
   "id": "ce41e4a3",
   "metadata": {},
   "outputs": [],
   "source": []
  },
  {
   "cell_type": "code",
   "execution_count": null,
   "id": "41352855",
   "metadata": {},
   "outputs": [],
   "source": []
  },
  {
   "cell_type": "markdown",
   "id": "fe2a12b7",
   "metadata": {},
   "source": [
    "## Now it's time to see what T-measure does on the same set and compare"
   ]
  },
  {
   "cell_type": "code",
   "execution_count": null,
   "id": "e5d9e0b6",
   "metadata": {},
   "outputs": [],
   "source": [
    "import pandas as pd\n",
    "slm_ref_bmeasure = pd.read_feather('bmeasure_slm_inter_anno_results.feather')"
   ]
  },
  {
   "cell_type": "code",
   "execution_count": null,
   "id": "4ab595ea",
   "metadata": {},
   "outputs": [],
   "source": [
    "from pqdm.processes import pqdm\n",
    "from bnl.exp import mir_eval_between_slm_refs\n",
    "import bnl\n",
    "import pandas as pd\n",
    "\n",
    "slm_ds = bnl.Dataset(manifest_path=\"~/data/salami/metadata.csv\")\n",
    "output_series = pqdm(slm_ds, mir_eval_between_slm_refs, n_jobs=6)\n",
    "valid_s = [x for x in output_series if type(x) is pd.Series]\n",
    "mir_eval_results = pd.DataFrame(valid_s).set_index('track_id')\n",
    "mir_eval_results.to_feather(\"mir_eval_slm_inter_anno_results.feather\")\n"
   ]
  },
  {
   "cell_type": "code",
   "execution_count": null,
   "id": "fb6d807a",
   "metadata": {},
   "outputs": [],
   "source": [
    "print(mir_eval_results.head())\n",
    "print(slm_ref_bmeasure.head())"
   ]
  },
  {
   "cell_type": "code",
   "execution_count": null,
   "id": "b4fe257f",
   "metadata": {},
   "outputs": [],
   "source": [
    "slm_ref_bmeasure_wide = (\n",
    "    slm_ref_bmeasure[slm_ref_bmeasure.prf == 'f']\n",
    "    .reset_index(drop=True).drop(columns=['prf'])\n",
    "    .pivot_table(\n",
    "        index='track_id',\n",
    "        columns=['metric', 'window'],\n",
    "        values='score'\n",
    "    )\n",
    ")\n",
    "slm_ref_bmeasure_wide"
   ]
  },
  {
   "cell_type": "code",
   "execution_count": null,
   "id": "73cdfa29",
   "metadata": {},
   "outputs": [],
   "source": [
    "# slm_ref_bmeasure_wide.columns\n",
    "# new_columns = ['_'.join(map(str, col)).strip() for col in slm_ref_bmeasure_wide.columns.values]\n",
    "# slm_ref_bmeasure_wide.columns = new_columns\n",
    "# slm_ref_bmeasure_wide[\"t_full\"] = mir_eval_results[\"T-Measure full\"]\n",
    "# slm_ref_bmeasure_wide['t_red'] = mir_eval_results['T-Measure reduced']\n",
    "# slm_ref_bmeasure_wide.to_feather('./slm_inter_ref_scores_wide.feather')"
   ]
  },
  {
   "cell_type": "markdown",
   "id": "95f5c011",
   "metadata": {},
   "source": [
    "## Let's load the dataframe and make some plots"
   ]
  },
  {
   "cell_type": "code",
   "execution_count": null,
   "id": "49d83eac",
   "metadata": {},
   "outputs": [],
   "source": [
    "slm_inter_ref_scores = pd.read_feather('./slm_inter_ref_scores_wide.feather')"
   ]
  },
  {
   "cell_type": "code",
   "execution_count": null,
   "id": "f1ea5099",
   "metadata": {},
   "outputs": [],
   "source": [
    "slm_inter_ref_scores.drop(columns=['b_1.5', 'hr_1.5', 'poa_1.5', 'poa-x_1.5', 'b-x_1.5'], inplace=True)"
   ]
  },
  {
   "cell_type": "code",
   "execution_count": null,
   "id": "fb77ee8b",
   "metadata": {},
   "outputs": [],
   "source": [
    "import seaborn as sns\n",
    "\n",
    "def joint_scores(df, x_col, y_col):\n",
    "    g = sns.jointplot(data=df, x=x_col, y=y_col, s=15, alpha=0.4, height=4)\n",
    "    g.ax_joint.plot([0, 1], [0, 1], \"r--\")\n",
    "    g.ax_joint.grid(True)\n",
    "    g.set_axis_labels(x_col, y_col, fontsize=14)\n",
    "    return g\n"
   ]
  },
  {
   "cell_type": "code",
   "execution_count": null,
   "id": "fcc33834",
   "metadata": {},
   "outputs": [],
   "source": [
    "import matplotlib.pyplot as plt\n",
    "\n",
    "plt.rcParams[\"figure.figsize\"] = (5, 4) \n",
    "g = sns.violinplot(data=slm_inter_ref_scores)\n",
    "plt.xticks(rotation=45)\n"
   ]
  },
  {
   "cell_type": "code",
   "execution_count": null,
   "id": "e794cb30",
   "metadata": {},
   "outputs": [],
   "source": [
    "## Tmeasures are correlated with either other (reduced and full)\n",
    "g = joint_scores(slm_inter_ref_scores, \"t_full\", \"t_red\")"
   ]
  },
  {
   "cell_type": "code",
   "execution_count": null,
   "id": "ac56c65c",
   "metadata": {},
   "outputs": [],
   "source": [
    "for window in [0.5, 3]:\n",
    "    g = joint_scores(slm_inter_ref_scores, f'hr_{window:.1f}', 't_red')\n",
    "    g.set_axis_labels(f\"Hit Rate (window={window})\", \"Reduced T-Measure\", fontsize=12);"
   ]
  },
  {
   "cell_type": "code",
   "execution_count": null,
   "id": "be040e79",
   "metadata": {},
   "outputs": [],
   "source": [
    "for window in [0.5, 3]:\n",
    "    g = joint_scores(slm_inter_ref_scores, f'b-x_{window:.1f}', 't_red')\n",
    "    g.set_axis_labels(f\"Expanded B-Measure (window={window})\", \"Reduced T-Measure\", fontsize=12);"
   ]
  },
  {
   "cell_type": "code",
   "execution_count": null,
   "id": "d2424bd2",
   "metadata": {},
   "outputs": [],
   "source": [
    "for window in [0.5, 3]:\n",
    "    g = joint_scores(slm_inter_ref_scores, f'hr_{window:.1f}', 't_full')\n",
    "    g.set_axis_labels(f\"Expanded B-Measure (window={window})\", \"Full T-Measure\", fontsize=12);"
   ]
  },
  {
   "cell_type": "code",
   "execution_count": null,
   "id": "d1860eb1",
   "metadata": {},
   "outputs": [],
   "source": [
    "for window in [0.5, 1.5, 3]:\n",
    "    g = joint_scores(slm_inter_ref_scores, f'b-x_{window:.1f}', 't_red')\n",
    "    g.set_axis_labels(f\"Expanded B-Measure (window={window})\", \"Reduced T-Measure\", fontsize=12);"
   ]
  },
  {
   "cell_type": "code",
   "execution_count": null,
   "id": "ee290007",
   "metadata": {},
   "outputs": [],
   "source": [
    "for window in [0.5, 3]:\n",
    "    g = joint_scores(slm_inter_ref_scores, f'b-x_{window:.1f}', 't_full')\n",
    "    g.set_axis_labels(f\"Expanded B-Measure (window={window})\", \"Full T-Measure\", fontsize=12);"
   ]
  },
  {
   "cell_type": "code",
   "execution_count": null,
   "id": "82fd6a8e",
   "metadata": {},
   "outputs": [],
   "source": [
    "for window in [0.5, 3]:\n",
    "    g = joint_scores(slm_inter_ref_scores, f'hr_{window:.1f}', 't_full')\n",
    "    g.set_axis_labels(f\"Hit Rate (window={window})\", \"Full T-Measure\", fontsize=12);"
   ]
  },
  {
   "cell_type": "code",
   "execution_count": null,
   "id": "146c9738",
   "metadata": {},
   "outputs": [],
   "source": [
    "for window in [0.5, 3]:\n",
    "    g = joint_scores(slm_inter_ref_scores, f'b_{window:.1f}', 't_full')\n",
    "    g.set_axis_labels(f\"B-Measure (window={window})\", \"Full T-Measure\", fontsize=12);"
   ]
  },
  {
   "cell_type": "code",
   "execution_count": null,
   "id": "e4591e5c",
   "metadata": {},
   "outputs": [],
   "source": []
  },
  {
   "cell_type": "code",
   "execution_count": null,
   "id": "ee700b1e",
   "metadata": {},
   "outputs": [],
   "source": []
  },
  {
   "cell_type": "code",
   "execution_count": null,
   "id": "1eab53db",
   "metadata": {},
   "outputs": [],
   "source": [
    "## Hit rate and po_exp are still measuring different things.\n",
    "g = joint_scores(slm_inter_ref_scores, 'hr_3.0', 'po_exp_3.0')\n",
    "g.set_axis_labels(\"Boundary Hit-Rate (window=3.0)\", \"Expanded PO-measure (window=3.0)\", fontsize=12)"
   ]
  },
  {
   "cell_type": "code",
   "execution_count": null,
   "id": "896446ae",
   "metadata": {},
   "outputs": [],
   "source": [
    "## Hit rate and Reduced T are still correlated\n",
    "g = joint_scores(slm_inter_ref_scores, 'hr_3.0', 't_red')\n",
    "g.set_axis_labels(\"Boundary Hit-Rate (window=3.0)\", \"Reduced T-measure\", fontsize=12)"
   ]
  },
  {
   "cell_type": "code",
   "execution_count": null,
   "id": "cdb79677",
   "metadata": {},
   "outputs": [],
   "source": [
    "## Hit rate and Reduced T are still correlated\n",
    "g = joint_scores(slm_inter_ref_scores, 'hr_0.5', 't_red')\n",
    "g.set_axis_labels(\"Boundary Hit-Rate (window=0.5)\", \"Reduced T-measure\", fontsize=12)"
   ]
  },
  {
   "cell_type": "code",
   "execution_count": null,
   "id": "671a6502",
   "metadata": {},
   "outputs": [],
   "source": []
  },
  {
   "cell_type": "code",
   "execution_count": null,
   "id": "87af45f1",
   "metadata": {},
   "outputs": [],
   "source": []
  },
  {
   "cell_type": "markdown",
   "id": "93533269",
   "metadata": {},
   "source": [
    "## Preparing to run some experiments"
   ]
  },
  {
   "cell_type": "code",
   "execution_count": null,
   "id": "34bd5a01",
   "metadata": {},
   "outputs": [],
   "source": [
    "%load_ext autoreload\n",
    "%autoreload 2\n",
    "\n",
    "from pqdm.processes import pqdm\n",
    "from bnl.exp import bmeasure_mono_casting_effects as bmce\n",
    "from bnl.exp import tmeasure_mono_casting_effects as tmce\n",
    "import bnl\n",
    "\n",
    "import pandas as pd\n",
    "\n",
    "slm_ds = bnl.data.Dataset(manifest_path=\"~/data/salami/metadata.csv\")"
   ]
  },
  {
   "cell_type": "code",
   "execution_count": null,
   "id": "d19829a5",
   "metadata": {},
   "outputs": [],
   "source": [
    "out = bmce(slm_ds[2])\n",
    "out.where((out.prf=='f') & (out.window==\"0.5\")).dropna().reset_index(drop=True)"
   ]
  },
  {
   "cell_type": "code",
   "execution_count": null,
   "id": "2eee652e",
   "metadata": {},
   "outputs": [],
   "source": [
    "tmce(slm_ds[2])"
   ]
  },
  {
   "cell_type": "markdown",
   "id": "07bffb14",
   "metadata": {},
   "source": [
    "## Run mono casting pipeline effects on B-measure over all SLM tracks."
   ]
  },
  {
   "cell_type": "code",
   "execution_count": null,
   "id": "70f90bfe",
   "metadata": {},
   "outputs": [],
   "source": [
    "from pqdm.processes import pqdm\n",
    "from bnl.exp import bmeasure_mono_casting_effects as bmce\n",
    "import bnl\n",
    "import pandas as pd\n",
    "slm_ds = bnl.data.Dataset(manifest_path=\"~/data/salami/metadata.csv\")"
   ]
  },
  {
   "cell_type": "code",
   "execution_count": null,
   "id": "6064dc25",
   "metadata": {},
   "outputs": [],
   "source": [
    "bmce(slm_ds[2], overwrite=True)"
   ]
  },
  {
   "cell_type": "code",
   "execution_count": null,
   "id": "1b9852d5",
   "metadata": {},
   "outputs": [],
   "source": [
    "list_of_dfs = pqdm(slm_ds, bmce, n_jobs=8)\n",
    "valid_dfs = [df for df in list_of_dfs if type(df) is pd.DataFrame]\n",
    "print(\"total valid tracks:\", len(valid_dfs))\n",
    "all_results_df = pd.concat(valid_dfs, ignore_index=True)\n",
    "all_results_df.to_feather(\"monocasting_bmeasure.feather\")\n",
    "all_results_df"
   ]
  },
  {
   "cell_type": "code",
   "execution_count": null,
   "id": "9b03a63d",
   "metadata": {},
   "outputs": [],
   "source": [
    "print((all_results_df['b'] == 0).sum())\n",
    "print((all_results_df['b'] == 0).sum() / len(all_results_df))"
   ]
  },
  {
   "cell_type": "code",
   "execution_count": null,
   "id": "311fbb37",
   "metadata": {},
   "outputs": [],
   "source": [
    "## Look at num_est_bs between bdry_cleaning strategies\n",
    "\n",
    "num_bdry_df = all_results_df[all_results_df.mono_casting == \"prob\"].pivot_table(\n",
    "    index=[\"track_id\"],\n",
    "    columns=\"bdry_cleaning\",\n",
    "    values=\"num_est_bs\",\n",
    ").drop_duplicates()"
   ]
  },
  {
   "cell_type": "code",
   "execution_count": null,
   "id": "b732e90e",
   "metadata": {},
   "outputs": [],
   "source": [
    "import seaborn as sns\n",
    "\n",
    "g = sns.jointplot(num_bdry_df, x='absorb', y='kde')\n",
    "g.ax_joint.set(aspect='equal')\n",
    "g.ax_joint.plot([0, 160], [0,160], 'r--')"
   ]
  },
  {
   "cell_type": "code",
   "execution_count": null,
   "id": "317d45ee",
   "metadata": {},
   "outputs": [],
   "source": []
  }
 ],
 "metadata": {
  "kernelspec": {
   "display_name": "py311",
   "language": "python",
   "name": "python3"
  },
  "language_info": {
   "codemirror_mode": {
    "name": "ipython",
    "version": 3
   },
   "file_extension": ".py",
   "mimetype": "text/x-python",
   "name": "python",
   "nbconvert_exporter": "python",
   "pygments_lexer": "ipython3",
   "version": "3.11.13"
  }
 },
 "nbformat": 4,
 "nbformat_minor": 5
}
