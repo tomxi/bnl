{
 "cells": [
  {
   "cell_type": "code",
   "execution_count": 1,
   "id": "536d2dc5",
   "metadata": {},
   "outputs": [],
   "source": [
    "%load_ext autoreload\n",
    "%autoreload 2\n",
    "%matplotlib inline"
   ]
  },
  {
   "cell_type": "code",
   "execution_count": 20,
   "id": "582f7706",
   "metadata": {},
   "outputs": [],
   "source": [
    "import bnl\n",
    "import random"
   ]
  },
  {
   "cell_type": "code",
   "execution_count": null,
   "id": "027d2d41",
   "metadata": {},
   "outputs": [],
   "source": [
    "tids = bnl.fio.salami_tids()\n",
    "tid = random.choice(tids)\n",
    "print(tid)"
   ]
  },
  {
   "cell_type": "code",
   "execution_count": 110,
   "id": "37c5a59c",
   "metadata": {},
   "outputs": [
    {
     "data": {
      "text/plain": [
       "{'mu': 5,\n",
       " 'ref_beta': 33,\n",
       " 'est_beta': 16,\n",
       " 'pairs_cap': 6,\n",
       " 'ref_pairs': 8,\n",
       " 'est_pairs': 6}"
      ]
     },
     "execution_count": 110,
     "metadata": {},
     "output_type": "execute_result"
    }
   ],
   "source": [
    "ests, refs = bnl.fio.salami_annos(tid)\n",
    "est = next(iter(ests.values())).unique_labeling()\n",
    "ref = next(iter(refs.values())).unique_labeling()\n",
    "bnl.mtr.bmeasure(ref.itvls, est.itvls)"
   ]
  },
  {
   "cell_type": "code",
   "execution_count": 144,
   "id": "5ef0a545",
   "metadata": {},
   "outputs": [],
   "source": [
    "caps, ref_triplets, est_triplets = bnl.mtr.lmeasure(ref.itvls, ref.labels, est.itvls, est.labels)"
   ]
  },
  {
   "cell_type": "code",
   "execution_count": 145,
   "id": "538099ce",
   "metadata": {},
   "outputs": [
    {
     "name": "stdout",
     "output_type": "stream",
     "text": [
      "0.5072909951632352 0.8571420481215314\n"
     ]
    }
   ],
   "source": [
    "print((caps / ref_triplets).sum(), (caps / est_triplets).sum())"
   ]
  },
  {
   "cell_type": "code",
   "execution_count": null,
   "id": "1f616567",
   "metadata": {},
   "outputs": [],
   "source": []
  },
  {
   "cell_type": "code",
   "execution_count": 133,
   "id": "33d4ec13",
   "metadata": {},
   "outputs": [
    {
     "data": {
      "text/plain": [
       "array([0.31597074, 0.31597074, 0.31597074, 0.31597074, 0.31597074,\n",
       "       0.32527887, 0.33798985, 0.27307884, 0.27307884, 0.27383506,\n",
       "       0.27383506, 0.27205618, 0.36425354, 0.35636537, 0.35636537,\n",
       "       0.3452629 , 0.3452629 , 0.3452629 , 0.3455617 , 0.34531646,\n",
       "       0.34531646, 0.34531646, 0.36121351, 0.36111059, 0.36111059,\n",
       "       0.36085248, 0.27633314, 0.27633314, 0.27633314, 0.27633314,\n",
       "       0.27726116, 0.27726116, 0.30882478, 0.30656454, 0.29551791,\n",
       "       0.28860761, 0.28860761, 0.28860761, 0.28599917, 0.31663023,\n",
       "       0.27884985, 0.27884985, 0.27884985, 0.27255453, 0.27130595,\n",
       "       0.26715778])"
      ]
     },
     "execution_count": 133,
     "metadata": {},
     "output_type": "execute_result"
    }
   ],
   "source": [
    "ref_triplets"
   ]
  },
  {
   "cell_type": "code",
   "execution_count": 128,
   "id": "75ed6393",
   "metadata": {},
   "outputs": [
    {
     "data": {
      "text/plain": [
       "(0.010209586275926014, 0.02303002304567126)"
      ]
     },
     "execution_count": 128,
     "metadata": {},
     "output_type": "execute_result"
    }
   ],
   "source": [
    "caps.sum() / ref_triplets.sum(), caps.sum() / est_triplets.sum()\n"
   ]
  },
  {
   "cell_type": "code",
   "execution_count": 129,
   "id": "6de55fdd",
   "metadata": {},
   "outputs": [
    {
     "data": {
      "text/plain": [
       "0.5072909951632352"
      ]
     },
     "execution_count": 129,
     "metadata": {},
     "output_type": "execute_result"
    }
   ],
   "source": [
    "(caps / ref_triplets).sum()"
   ]
  },
  {
   "cell_type": "code",
   "execution_count": 130,
   "id": "641858d7",
   "metadata": {},
   "outputs": [
    {
     "data": {
      "text/plain": [
       "0.8571420481215314"
      ]
     },
     "execution_count": 130,
     "metadata": {},
     "output_type": "execute_result"
    }
   ],
   "source": [
    "(caps / est_triplets).sum()"
   ]
  },
  {
   "cell_type": "code",
   "execution_count": 114,
   "id": "90cbc5c8",
   "metadata": {},
   "outputs": [
    {
     "name": "stdout",
     "output_type": "stream",
     "text": [
      "Already computed 384.\n"
     ]
    },
    {
     "data": {
      "text/html": [
       "<div><svg style=\"position: absolute; width: 0; height: 0; overflow: hidden\">\n",
       "<defs>\n",
       "<symbol id=\"icon-database\" viewBox=\"0 0 32 32\">\n",
       "<path d=\"M16 0c-8.837 0-16 2.239-16 5v4c0 2.761 7.163 5 16 5s16-2.239 16-5v-4c0-2.761-7.163-5-16-5z\"></path>\n",
       "<path d=\"M16 17c-8.837 0-16-2.239-16-5v6c0 2.761 7.163 5 16 5s16-2.239 16-5v-6c0 2.761-7.163 5-16 5z\"></path>\n",
       "<path d=\"M16 26c-8.837 0-16-2.239-16-5v6c0 2.761 7.163 5 16 5s16-2.239 16-5v-6c0 2.761-7.163 5-16 5z\"></path>\n",
       "</symbol>\n",
       "<symbol id=\"icon-file-text2\" viewBox=\"0 0 32 32\">\n",
       "<path d=\"M28.681 7.159c-0.694-0.947-1.662-2.053-2.724-3.116s-2.169-2.030-3.116-2.724c-1.612-1.182-2.393-1.319-2.841-1.319h-15.5c-1.378 0-2.5 1.121-2.5 2.5v27c0 1.378 1.122 2.5 2.5 2.5h23c1.378 0 2.5-1.122 2.5-2.5v-19.5c0-0.448-0.137-1.23-1.319-2.841zM24.543 5.457c0.959 0.959 1.712 1.825 2.268 2.543h-4.811v-4.811c0.718 0.556 1.584 1.309 2.543 2.268zM28 29.5c0 0.271-0.229 0.5-0.5 0.5h-23c-0.271 0-0.5-0.229-0.5-0.5v-27c0-0.271 0.229-0.5 0.5-0.5 0 0 15.499-0 15.5 0v7c0 0.552 0.448 1 1 1h7v19.5z\"></path>\n",
       "<path d=\"M23 26h-14c-0.552 0-1-0.448-1-1s0.448-1 1-1h14c0.552 0 1 0.448 1 1s-0.448 1-1 1z\"></path>\n",
       "<path d=\"M23 22h-14c-0.552 0-1-0.448-1-1s0.448-1 1-1h14c0.552 0 1 0.448 1 1s-0.448 1-1 1z\"></path>\n",
       "<path d=\"M23 18h-14c-0.552 0-1-0.448-1-1s0.448-1 1-1h14c0.552 0 1 0.448 1 1s-0.448 1-1 1z\"></path>\n",
       "</symbol>\n",
       "</defs>\n",
       "</svg>\n",
       "<style>/* CSS stylesheet for displaying xarray objects in jupyterlab.\n",
       " *\n",
       " */\n",
       "\n",
       ":root {\n",
       "  --xr-font-color0: var(--jp-content-font-color0, rgba(0, 0, 0, 1));\n",
       "  --xr-font-color2: var(--jp-content-font-color2, rgba(0, 0, 0, 0.54));\n",
       "  --xr-font-color3: var(--jp-content-font-color3, rgba(0, 0, 0, 0.38));\n",
       "  --xr-border-color: var(--jp-border-color2, #e0e0e0);\n",
       "  --xr-disabled-color: var(--jp-layout-color3, #bdbdbd);\n",
       "  --xr-background-color: var(--jp-layout-color0, white);\n",
       "  --xr-background-color-row-even: var(--jp-layout-color1, white);\n",
       "  --xr-background-color-row-odd: var(--jp-layout-color2, #eeeeee);\n",
       "}\n",
       "\n",
       "html[theme=dark],\n",
       "html[data-theme=dark],\n",
       "body[data-theme=dark],\n",
       "body.vscode-dark {\n",
       "  --xr-font-color0: rgba(255, 255, 255, 1);\n",
       "  --xr-font-color2: rgba(255, 255, 255, 0.54);\n",
       "  --xr-font-color3: rgba(255, 255, 255, 0.38);\n",
       "  --xr-border-color: #1F1F1F;\n",
       "  --xr-disabled-color: #515151;\n",
       "  --xr-background-color: #111111;\n",
       "  --xr-background-color-row-even: #111111;\n",
       "  --xr-background-color-row-odd: #313131;\n",
       "}\n",
       "\n",
       ".xr-wrap {\n",
       "  display: block !important;\n",
       "  min-width: 300px;\n",
       "  max-width: 700px;\n",
       "}\n",
       "\n",
       ".xr-text-repr-fallback {\n",
       "  /* fallback to plain text repr when CSS is not injected (untrusted notebook) */\n",
       "  display: none;\n",
       "}\n",
       "\n",
       ".xr-header {\n",
       "  padding-top: 6px;\n",
       "  padding-bottom: 6px;\n",
       "  margin-bottom: 4px;\n",
       "  border-bottom: solid 1px var(--xr-border-color);\n",
       "}\n",
       "\n",
       ".xr-header > div,\n",
       ".xr-header > ul {\n",
       "  display: inline;\n",
       "  margin-top: 0;\n",
       "  margin-bottom: 0;\n",
       "}\n",
       "\n",
       ".xr-obj-type,\n",
       ".xr-array-name {\n",
       "  margin-left: 2px;\n",
       "  margin-right: 10px;\n",
       "}\n",
       "\n",
       ".xr-obj-type {\n",
       "  color: var(--xr-font-color2);\n",
       "}\n",
       "\n",
       ".xr-sections {\n",
       "  padding-left: 0 !important;\n",
       "  display: grid;\n",
       "  grid-template-columns: 150px auto auto 1fr 20px 20px;\n",
       "}\n",
       "\n",
       ".xr-section-item {\n",
       "  display: contents;\n",
       "}\n",
       "\n",
       ".xr-section-item input {\n",
       "  display: none;\n",
       "}\n",
       "\n",
       ".xr-section-item input + label {\n",
       "  color: var(--xr-disabled-color);\n",
       "}\n",
       "\n",
       ".xr-section-item input:enabled + label {\n",
       "  cursor: pointer;\n",
       "  color: var(--xr-font-color2);\n",
       "}\n",
       "\n",
       ".xr-section-item input:enabled + label:hover {\n",
       "  color: var(--xr-font-color0);\n",
       "}\n",
       "\n",
       ".xr-section-summary {\n",
       "  grid-column: 1;\n",
       "  color: var(--xr-font-color2);\n",
       "  font-weight: 500;\n",
       "}\n",
       "\n",
       ".xr-section-summary > span {\n",
       "  display: inline-block;\n",
       "  padding-left: 0.5em;\n",
       "}\n",
       "\n",
       ".xr-section-summary-in:disabled + label {\n",
       "  color: var(--xr-font-color2);\n",
       "}\n",
       "\n",
       ".xr-section-summary-in + label:before {\n",
       "  display: inline-block;\n",
       "  content: '►';\n",
       "  font-size: 11px;\n",
       "  width: 15px;\n",
       "  text-align: center;\n",
       "}\n",
       "\n",
       ".xr-section-summary-in:disabled + label:before {\n",
       "  color: var(--xr-disabled-color);\n",
       "}\n",
       "\n",
       ".xr-section-summary-in:checked + label:before {\n",
       "  content: '▼';\n",
       "}\n",
       "\n",
       ".xr-section-summary-in:checked + label > span {\n",
       "  display: none;\n",
       "}\n",
       "\n",
       ".xr-section-summary,\n",
       ".xr-section-inline-details {\n",
       "  padding-top: 4px;\n",
       "  padding-bottom: 4px;\n",
       "}\n",
       "\n",
       ".xr-section-inline-details {\n",
       "  grid-column: 2 / -1;\n",
       "}\n",
       "\n",
       ".xr-section-details {\n",
       "  display: none;\n",
       "  grid-column: 1 / -1;\n",
       "  margin-bottom: 5px;\n",
       "}\n",
       "\n",
       ".xr-section-summary-in:checked ~ .xr-section-details {\n",
       "  display: contents;\n",
       "}\n",
       "\n",
       ".xr-array-wrap {\n",
       "  grid-column: 1 / -1;\n",
       "  display: grid;\n",
       "  grid-template-columns: 20px auto;\n",
       "}\n",
       "\n",
       ".xr-array-wrap > label {\n",
       "  grid-column: 1;\n",
       "  vertical-align: top;\n",
       "}\n",
       "\n",
       ".xr-preview {\n",
       "  color: var(--xr-font-color3);\n",
       "}\n",
       "\n",
       ".xr-array-preview,\n",
       ".xr-array-data {\n",
       "  padding: 0 5px !important;\n",
       "  grid-column: 2;\n",
       "}\n",
       "\n",
       ".xr-array-data,\n",
       ".xr-array-in:checked ~ .xr-array-preview {\n",
       "  display: none;\n",
       "}\n",
       "\n",
       ".xr-array-in:checked ~ .xr-array-data,\n",
       ".xr-array-preview {\n",
       "  display: inline-block;\n",
       "}\n",
       "\n",
       ".xr-dim-list {\n",
       "  display: inline-block !important;\n",
       "  list-style: none;\n",
       "  padding: 0 !important;\n",
       "  margin: 0;\n",
       "}\n",
       "\n",
       ".xr-dim-list li {\n",
       "  display: inline-block;\n",
       "  padding: 0;\n",
       "  margin: 0;\n",
       "}\n",
       "\n",
       ".xr-dim-list:before {\n",
       "  content: '(';\n",
       "}\n",
       "\n",
       ".xr-dim-list:after {\n",
       "  content: ')';\n",
       "}\n",
       "\n",
       ".xr-dim-list li:not(:last-child):after {\n",
       "  content: ',';\n",
       "  padding-right: 5px;\n",
       "}\n",
       "\n",
       ".xr-has-index {\n",
       "  font-weight: bold;\n",
       "}\n",
       "\n",
       ".xr-var-list,\n",
       ".xr-var-item {\n",
       "  display: contents;\n",
       "}\n",
       "\n",
       ".xr-var-item > div,\n",
       ".xr-var-item label,\n",
       ".xr-var-item > .xr-var-name span {\n",
       "  background-color: var(--xr-background-color-row-even);\n",
       "  margin-bottom: 0;\n",
       "}\n",
       "\n",
       ".xr-var-item > .xr-var-name:hover span {\n",
       "  padding-right: 5px;\n",
       "}\n",
       "\n",
       ".xr-var-list > li:nth-child(odd) > div,\n",
       ".xr-var-list > li:nth-child(odd) > label,\n",
       ".xr-var-list > li:nth-child(odd) > .xr-var-name span {\n",
       "  background-color: var(--xr-background-color-row-odd);\n",
       "}\n",
       "\n",
       ".xr-var-name {\n",
       "  grid-column: 1;\n",
       "}\n",
       "\n",
       ".xr-var-dims {\n",
       "  grid-column: 2;\n",
       "}\n",
       "\n",
       ".xr-var-dtype {\n",
       "  grid-column: 3;\n",
       "  text-align: right;\n",
       "  color: var(--xr-font-color2);\n",
       "}\n",
       "\n",
       ".xr-var-preview {\n",
       "  grid-column: 4;\n",
       "}\n",
       "\n",
       ".xr-index-preview {\n",
       "  grid-column: 2 / 5;\n",
       "  color: var(--xr-font-color2);\n",
       "}\n",
       "\n",
       ".xr-var-name,\n",
       ".xr-var-dims,\n",
       ".xr-var-dtype,\n",
       ".xr-preview,\n",
       ".xr-attrs dt {\n",
       "  white-space: nowrap;\n",
       "  overflow: hidden;\n",
       "  text-overflow: ellipsis;\n",
       "  padding-right: 10px;\n",
       "}\n",
       "\n",
       ".xr-var-name:hover,\n",
       ".xr-var-dims:hover,\n",
       ".xr-var-dtype:hover,\n",
       ".xr-attrs dt:hover {\n",
       "  overflow: visible;\n",
       "  width: auto;\n",
       "  z-index: 1;\n",
       "}\n",
       "\n",
       ".xr-var-attrs,\n",
       ".xr-var-data,\n",
       ".xr-index-data {\n",
       "  display: none;\n",
       "  background-color: var(--xr-background-color) !important;\n",
       "  padding-bottom: 5px !important;\n",
       "}\n",
       "\n",
       ".xr-var-attrs-in:checked ~ .xr-var-attrs,\n",
       ".xr-var-data-in:checked ~ .xr-var-data,\n",
       ".xr-index-data-in:checked ~ .xr-index-data {\n",
       "  display: block;\n",
       "}\n",
       "\n",
       ".xr-var-data > table {\n",
       "  float: right;\n",
       "}\n",
       "\n",
       ".xr-var-name span,\n",
       ".xr-var-data,\n",
       ".xr-index-name div,\n",
       ".xr-index-data,\n",
       ".xr-attrs {\n",
       "  padding-left: 25px !important;\n",
       "}\n",
       "\n",
       ".xr-attrs,\n",
       ".xr-var-attrs,\n",
       ".xr-var-data,\n",
       ".xr-index-data {\n",
       "  grid-column: 1 / -1;\n",
       "}\n",
       "\n",
       "dl.xr-attrs {\n",
       "  padding: 0;\n",
       "  margin: 0;\n",
       "  display: grid;\n",
       "  grid-template-columns: 125px auto;\n",
       "}\n",
       "\n",
       ".xr-attrs dt,\n",
       ".xr-attrs dd {\n",
       "  padding: 0;\n",
       "  margin: 0;\n",
       "  float: left;\n",
       "  padding-right: 10px;\n",
       "  width: auto;\n",
       "}\n",
       "\n",
       ".xr-attrs dt {\n",
       "  font-weight: normal;\n",
       "  grid-column: 1;\n",
       "}\n",
       "\n",
       ".xr-attrs dt:hover span {\n",
       "  display: inline-block;\n",
       "  background: var(--xr-background-color);\n",
       "  padding-right: 10px;\n",
       "}\n",
       "\n",
       ".xr-attrs dd {\n",
       "  grid-column: 2;\n",
       "  white-space: pre-wrap;\n",
       "  word-break: break-all;\n",
       "}\n",
       "\n",
       ".xr-icon-database,\n",
       ".xr-icon-file-text2,\n",
       ".xr-no-icon {\n",
       "  display: inline-block;\n",
       "  vertical-align: middle;\n",
       "  width: 1em;\n",
       "  height: 1.5em !important;\n",
       "  stroke-width: 0;\n",
       "  stroke: currentColor;\n",
       "  fill: currentColor;\n",
       "}\n",
       "</style><pre class='xr-text-repr-fallback'>&lt;xarray.DataArray (tid: 1, anno_id: 2, component: 3, event: 2, window: 2)&gt; Size: 192B\n",
       "[24 values with dtype=float64]\n",
       "Coordinates:\n",
       "  * component  (component) object 24B &#x27;cap&#x27; &#x27;ref&#x27; &#x27;est&#x27;\n",
       "  * event      (event) object 16B &#x27;beta&#x27; &#x27;pair&#x27;\n",
       "  * anno_id    (anno_id) int32 8B 0 1\n",
       "  * window     (window) float64 16B 0.5 3.0\n",
       "  * tid        (tid) object 8B &#x27;384&#x27;</pre><div class='xr-wrap' style='display:none'><div class='xr-header'><div class='xr-obj-type'>xarray.DataArray</div><div class='xr-array-name'></div><ul class='xr-dim-list'><li><span class='xr-has-index'>tid</span>: 1</li><li><span class='xr-has-index'>anno_id</span>: 2</li><li><span class='xr-has-index'>component</span>: 3</li><li><span class='xr-has-index'>event</span>: 2</li><li><span class='xr-has-index'>window</span>: 2</li></ul></div><ul class='xr-sections'><li class='xr-section-item'><div class='xr-array-wrap'><input id='section-2d35ffad-ac82-4014-b3f2-3239fcf98cf7' class='xr-array-in' type='checkbox' checked><label for='section-2d35ffad-ac82-4014-b3f2-3239fcf98cf7' title='Show/hide data repr'><svg class='icon xr-icon-database'><use xlink:href='#icon-database'></use></svg></label><div class='xr-array-preview xr-preview'><span>...</span></div><div class='xr-array-data'><pre>[24 values with dtype=float64]</pre></div></div></li><li class='xr-section-item'><input id='section-9e565026-f006-4bba-8c98-0106e688e307' class='xr-section-summary-in' type='checkbox'  checked><label for='section-9e565026-f006-4bba-8c98-0106e688e307' class='xr-section-summary' >Coordinates: <span>(5)</span></label><div class='xr-section-inline-details'></div><div class='xr-section-details'><ul class='xr-var-list'><li class='xr-var-item'><div class='xr-var-name'><span class='xr-has-index'>component</span></div><div class='xr-var-dims'>(component)</div><div class='xr-var-dtype'>object</div><div class='xr-var-preview xr-preview'>&#x27;cap&#x27; &#x27;ref&#x27; &#x27;est&#x27;</div><input id='attrs-0c512c19-bbc6-45e4-832e-ff8447f28755' class='xr-var-attrs-in' type='checkbox' disabled><label for='attrs-0c512c19-bbc6-45e4-832e-ff8447f28755' title='Show/Hide attributes'><svg class='icon xr-icon-file-text2'><use xlink:href='#icon-file-text2'></use></svg></label><input id='data-eba81bc2-d238-444b-8f45-4a242c85a757' class='xr-var-data-in' type='checkbox'><label for='data-eba81bc2-d238-444b-8f45-4a242c85a757' title='Show/Hide data repr'><svg class='icon xr-icon-database'><use xlink:href='#icon-database'></use></svg></label><div class='xr-var-attrs'><dl class='xr-attrs'></dl></div><div class='xr-var-data'><pre>array([&#x27;cap&#x27;, &#x27;ref&#x27;, &#x27;est&#x27;], dtype=object)</pre></div></li><li class='xr-var-item'><div class='xr-var-name'><span class='xr-has-index'>event</span></div><div class='xr-var-dims'>(event)</div><div class='xr-var-dtype'>object</div><div class='xr-var-preview xr-preview'>&#x27;beta&#x27; &#x27;pair&#x27;</div><input id='attrs-23744a71-c0e3-4d1b-aef9-329e45e67ef4' class='xr-var-attrs-in' type='checkbox' disabled><label for='attrs-23744a71-c0e3-4d1b-aef9-329e45e67ef4' title='Show/Hide attributes'><svg class='icon xr-icon-file-text2'><use xlink:href='#icon-file-text2'></use></svg></label><input id='data-191abad3-d3d8-4317-9fec-8a8eee34cab1' class='xr-var-data-in' type='checkbox'><label for='data-191abad3-d3d8-4317-9fec-8a8eee34cab1' title='Show/Hide data repr'><svg class='icon xr-icon-database'><use xlink:href='#icon-database'></use></svg></label><div class='xr-var-attrs'><dl class='xr-attrs'></dl></div><div class='xr-var-data'><pre>array([&#x27;beta&#x27;, &#x27;pair&#x27;], dtype=object)</pre></div></li><li class='xr-var-item'><div class='xr-var-name'><span class='xr-has-index'>anno_id</span></div><div class='xr-var-dims'>(anno_id)</div><div class='xr-var-dtype'>int32</div><div class='xr-var-preview xr-preview'>0 1</div><input id='attrs-0784856c-ba8e-4dfe-b41f-06c097a5c230' class='xr-var-attrs-in' type='checkbox' disabled><label for='attrs-0784856c-ba8e-4dfe-b41f-06c097a5c230' title='Show/Hide attributes'><svg class='icon xr-icon-file-text2'><use xlink:href='#icon-file-text2'></use></svg></label><input id='data-ec2df446-a4aa-433e-861a-cfcecc7b2119' class='xr-var-data-in' type='checkbox'><label for='data-ec2df446-a4aa-433e-861a-cfcecc7b2119' title='Show/Hide data repr'><svg class='icon xr-icon-database'><use xlink:href='#icon-database'></use></svg></label><div class='xr-var-attrs'><dl class='xr-attrs'></dl></div><div class='xr-var-data'><pre>array([0, 1], dtype=int32)</pre></div></li><li class='xr-var-item'><div class='xr-var-name'><span class='xr-has-index'>window</span></div><div class='xr-var-dims'>(window)</div><div class='xr-var-dtype'>float64</div><div class='xr-var-preview xr-preview'>0.5 3.0</div><input id='attrs-59bace35-2181-4203-8f90-70b1547f4c87' class='xr-var-attrs-in' type='checkbox' disabled><label for='attrs-59bace35-2181-4203-8f90-70b1547f4c87' title='Show/Hide attributes'><svg class='icon xr-icon-file-text2'><use xlink:href='#icon-file-text2'></use></svg></label><input id='data-d1672cee-7813-4f90-8cb7-78ec42c25e57' class='xr-var-data-in' type='checkbox'><label for='data-d1672cee-7813-4f90-8cb7-78ec42c25e57' title='Show/Hide data repr'><svg class='icon xr-icon-database'><use xlink:href='#icon-database'></use></svg></label><div class='xr-var-attrs'><dl class='xr-attrs'></dl></div><div class='xr-var-data'><pre>array([0.5, 3. ])</pre></div></li><li class='xr-var-item'><div class='xr-var-name'><span class='xr-has-index'>tid</span></div><div class='xr-var-dims'>(tid)</div><div class='xr-var-dtype'>object</div><div class='xr-var-preview xr-preview'>&#x27;384&#x27;</div><input id='attrs-c01dc491-872a-4298-9c25-fac2b60cc312' class='xr-var-attrs-in' type='checkbox' disabled><label for='attrs-c01dc491-872a-4298-9c25-fac2b60cc312' title='Show/Hide attributes'><svg class='icon xr-icon-file-text2'><use xlink:href='#icon-file-text2'></use></svg></label><input id='data-a2c1fceb-2739-4bce-975a-6f82c09b64b8' class='xr-var-data-in' type='checkbox'><label for='data-a2c1fceb-2739-4bce-975a-6f82c09b64b8' title='Show/Hide data repr'><svg class='icon xr-icon-database'><use xlink:href='#icon-database'></use></svg></label><div class='xr-var-attrs'><dl class='xr-attrs'></dl></div><div class='xr-var-data'><pre>array([&#x27;384&#x27;], dtype=object)</pre></div></li></ul></div></li><li class='xr-section-item'><input id='section-76478ab5-c8fc-4ad7-986b-a5feed888fcf' class='xr-section-summary-in' type='checkbox'  ><label for='section-76478ab5-c8fc-4ad7-986b-a5feed888fcf' class='xr-section-summary' >Indexes: <span>(5)</span></label><div class='xr-section-inline-details'></div><div class='xr-section-details'><ul class='xr-var-list'><li class='xr-var-item'><div class='xr-index-name'><div>component</div></div><div class='xr-index-preview'>PandasIndex</div><div></div><input id='index-687b775a-9ab2-46b3-a563-086c9e24668e' class='xr-index-data-in' type='checkbox'/><label for='index-687b775a-9ab2-46b3-a563-086c9e24668e' title='Show/Hide index repr'><svg class='icon xr-icon-database'><use xlink:href='#icon-database'></use></svg></label><div class='xr-index-data'><pre>PandasIndex(Index([&#x27;cap&#x27;, &#x27;ref&#x27;, &#x27;est&#x27;], dtype=&#x27;object&#x27;, name=&#x27;component&#x27;))</pre></div></li><li class='xr-var-item'><div class='xr-index-name'><div>event</div></div><div class='xr-index-preview'>PandasIndex</div><div></div><input id='index-1a49453e-bfaf-43d2-b533-325ce4d91c82' class='xr-index-data-in' type='checkbox'/><label for='index-1a49453e-bfaf-43d2-b533-325ce4d91c82' title='Show/Hide index repr'><svg class='icon xr-icon-database'><use xlink:href='#icon-database'></use></svg></label><div class='xr-index-data'><pre>PandasIndex(Index([&#x27;beta&#x27;, &#x27;pair&#x27;], dtype=&#x27;object&#x27;, name=&#x27;event&#x27;))</pre></div></li><li class='xr-var-item'><div class='xr-index-name'><div>anno_id</div></div><div class='xr-index-preview'>PandasIndex</div><div></div><input id='index-372917ba-9215-4673-a0ef-818a51299ab0' class='xr-index-data-in' type='checkbox'/><label for='index-372917ba-9215-4673-a0ef-818a51299ab0' title='Show/Hide index repr'><svg class='icon xr-icon-database'><use xlink:href='#icon-database'></use></svg></label><div class='xr-index-data'><pre>PandasIndex(Index([0, 1], dtype=&#x27;int32&#x27;, name=&#x27;anno_id&#x27;))</pre></div></li><li class='xr-var-item'><div class='xr-index-name'><div>window</div></div><div class='xr-index-preview'>PandasIndex</div><div></div><input id='index-23ffa5a4-518c-46b2-9761-c98ab63f4107' class='xr-index-data-in' type='checkbox'/><label for='index-23ffa5a4-518c-46b2-9761-c98ab63f4107' title='Show/Hide index repr'><svg class='icon xr-icon-database'><use xlink:href='#icon-database'></use></svg></label><div class='xr-index-data'><pre>PandasIndex(Index([0.5, 3.0], dtype=&#x27;float64&#x27;, name=&#x27;window&#x27;))</pre></div></li><li class='xr-var-item'><div class='xr-index-name'><div>tid</div></div><div class='xr-index-preview'>PandasIndex</div><div></div><input id='index-49097471-4310-4750-b44e-4d0d05c1753c' class='xr-index-data-in' type='checkbox'/><label for='index-49097471-4310-4750-b44e-4d0d05c1753c' title='Show/Hide index repr'><svg class='icon xr-icon-database'><use xlink:href='#icon-database'></use></svg></label><div class='xr-index-data'><pre>PandasIndex(Index([&#x27;384&#x27;], dtype=&#x27;object&#x27;, name=&#x27;tid&#x27;))</pre></div></li></ul></div></li><li class='xr-section-item'><input id='section-41b2f5a5-09c2-4b69-a6d2-9db712e6273b' class='xr-section-summary-in' type='checkbox' disabled ><label for='section-41b2f5a5-09c2-4b69-a6d2-9db712e6273b' class='xr-section-summary'  title='Expand/collapse section'>Attributes: <span>(0)</span></label><div class='xr-section-inline-details'></div><div class='xr-section-details'><dl class='xr-attrs'></dl></div></li></ul></div></div>"
      ],
      "text/plain": [
       "<xarray.DataArray (tid: 1, anno_id: 2, component: 3, event: 2, window: 2)> Size: 192B\n",
       "[24 values with dtype=float64]\n",
       "Coordinates:\n",
       "  * component  (component) object 24B 'cap' 'ref' 'est'\n",
       "  * event      (event) object 16B 'beta' 'pair'\n",
       "  * anno_id    (anno_id) int32 8B 0 1\n",
       "  * window     (window) float64 16B 0.5 3.0\n",
       "  * tid        (tid) object 8B '384'"
      ]
     },
     "execution_count": 114,
     "metadata": {},
     "output_type": "execute_result"
    }
   ],
   "source": [
    "bnl.prf.compare_boundary_metrics('384')"
   ]
  },
  {
   "cell_type": "code",
   "execution_count": null,
   "id": "59b2ecf0",
   "metadata": {},
   "outputs": [
    {
     "data": {
      "text/plain": [
       "({'mu': 9, 'beta': 39, 'pairs_cap': 9, 'pairs': 33},\n",
       " {'mu': 9, 'beta': 26, 'pairs_cap': 9, 'pairs': 20})"
      ]
     },
     "execution_count": 23,
     "metadata": {},
     "output_type": "execute_result"
    }
   ],
   "source": []
  },
  {
   "cell_type": "code",
   "execution_count": null,
   "id": "94f4d67d",
   "metadata": {},
   "outputs": [],
   "source": []
  }
 ],
 "metadata": {
  "kernelspec": {
   "display_name": "py39",
   "language": "python",
   "name": "python3"
  },
  "language_info": {
   "codemirror_mode": {
    "name": "ipython",
    "version": 3
   },
   "file_extension": ".py",
   "mimetype": "text/x-python",
   "name": "python",
   "nbconvert_exporter": "python",
   "pygments_lexer": "ipython3",
   "version": "3.9.21"
  }
 },
 "nbformat": 4,
 "nbformat_minor": 5
}
