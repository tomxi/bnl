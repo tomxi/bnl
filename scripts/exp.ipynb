{
 "cells": [
  {
   "cell_type": "markdown",
   "metadata": {
    "vscode": {
     "languageId": "plaintext"
    }
   },
   "source": [
    "## Let's look at boundary and label monotonicity in Hierarchical labels: SALAMI.\n"
   ]
  },
  {
   "cell_type": "code",
   "execution_count": 2,
   "metadata": {},
   "outputs": [],
   "source": [
    "%load_ext autoreload\n",
    "%autoreload 2"
   ]
  },
  {
   "cell_type": "code",
   "execution_count": null,
   "metadata": {},
   "outputs": [
    {
     "name": "stdout",
     "output_type": "stream",
     "text": [
      "['10.jams', '100.jams', '1000.jams', '1002.jams', '1003.jams', '1004.jams', '1005.jams', '1006.jams', '1007.jams', '1008.jams', '101.jams', '1010.jams', '1011.jams', '1012.jams', '1013.jams', '1014.jams', '1015.jams', '1016.jams', '1018.jams', '1019.jams', '1020.jams', '1021.jams', '1022.jams', '1023.jams', '1024.jams', '1026.jams', '1027.jams', '1028.jams', '103.jams', '1032.jams', '1034.jams', '1035.jams', '1036.jams', '1037.jams', '1038.jams', '1039.jams', '104.jams', '1042.jams', '1043.jams', '1044.jams', '1045.jams', '1046.jams', '1047.jams', '1048.jams', '1050.jams', '1051.jams', '1053.jams', '1054.jams', '1055.jams', '1056.jams', '1058.jams', '1059.jams', '1060.jams', '1061.jams', '1062.jams', '1063.jams', '1064.jams', '1066.jams', '1067.jams', '1068.jams', '1069.jams', '107.jams', '1070.jams', '1071.jams', '1072.jams', '1074.jams', '1075.jams', '1076.jams', '1077.jams', '1078.jams', '1079.jams', '108.jams', '1080.jams', '1082.jams', '1083.jams', '1084.jams', '1085.jams', '1086.jams', '1088.jams', '109.jams', '1090.jams', '1091.jams', '1092.jams', '1093.jams', '1094.jams', '1095.jams', '1096.jams', '1098.jams', '1099.jams', '11.jams', '110.jams', '1100.jams', '1101.jams', '1102.jams', '1103.jams', '1104.jams', '1106.jams', '1107.jams', '1108.jams', '1109.jams', '111.jams', '1110.jams', '1111.jams', '1112.jams', '1114.jams', '1116.jams', '1117.jams', '1118.jams', '1119.jams', '112.jams', '1120.jams', '1122.jams', '1123.jams', '1124.jams', '1125.jams', '1127.jams', '1128.jams', '1130.jams', '1131.jams', '1132.jams', '1133.jams', '1134.jams', '1135.jams', '1136.jams', '1138.jams', '1139.jams', '114.jams', '1141.jams', '1142.jams', '1143.jams', '1144.jams', '1146.jams', '1147.jams', '1148.jams', '1149.jams', '115.jams', '1150.jams', '1151.jams', '1152.jams', '1154.jams', '1155.jams', '1156.jams', '1157.jams', '1158.jams', '1159.jams', '116.jams', '1160.jams', '1162.jams', '1163.jams', '1164.jams', '1165.jams', '1166.jams', '1168.jams', '117.jams', '1170.jams', '1172.jams', '1173.jams', '1174.jams', '1175.jams', '1176.jams', '1179.jams', '118.jams', '1180.jams', '1181.jams', '1182.jams', '1183.jams', '1184.jams', '1186.jams', '1187.jams', '1188.jams', '1189.jams', '119.jams', '1190.jams', '1191.jams', '1192.jams', '1194.jams', '1195.jams', '1196.jams', '1197.jams', '1198.jams', '1199.jams', '12.jams', '120.jams', '1200.jams', '1202.jams', '1203.jams', '1204.jams', '1206.jams', '1207.jams', '1208.jams', '1210.jams', '1211.jams', '1212.jams', '1213.jams', '1214.jams', '1215.jams', '1216.jams', '1218.jams', '1219.jams', '122.jams', '1220.jams', '1221.jams', '1222.jams', '1223.jams', '1224.jams', '1226.jams', '1228.jams', '1229.jams', '123.jams', '1230.jams', '1231.jams', '1232.jams', '1234.jams', '1235.jams', '1236.jams', '1237.jams', '1238.jams', '1239.jams', '124.jams', '1240.jams', '1242.jams', '1243.jams', '1244.jams', '1246.jams', '1247.jams', '1248.jams', '125.jams', '1250.jams', '1251.jams', '1252.jams', '1253.jams', '1254.jams', '1255.jams', '1256.jams', '1258.jams', '1259.jams', '126.jams', '1260.jams', '1261.jams', '1262.jams', '1263.jams', '1264.jams', '1266.jams', '1268.jams', '1269.jams', '127.jams', '1270.jams', '1271.jams', '1272.jams', '1274.jams', '1275.jams', '1276.jams', '1277.jams', '1278.jams', '1279.jams', '128.jams', '1280.jams', '1282.jams', '1283.jams', '1284.jams', '1285.jams', '1286.jams', '1287.jams', '1288.jams', '1290.jams', '1291.jams', '1292.jams', '1293.jams', '1294.jams', '1295.jams', '1296.jams', '1298.jams', '1299.jams', '13.jams', '130.jams', '1300.jams', '1301.jams', '1302.jams', '1303.jams', '1304.jams', '1306.jams', '1307.jams', '1308.jams', '1309.jams', '131.jams', '1310.jams', '1311.jams', '1312.jams', '1314.jams', '1315.jams', '1316.jams', '1317.jams', '1318.jams', '1319.jams', '132.jams', '1322.jams', '1323.jams', '1324.jams', '1325.jams', '1326.jams', '1327.jams', '1328.jams', '133.jams', '1330.jams', '1331.jams', '1332.jams', '1333.jams', '1334.jams', '1335.jams', '1336.jams', '1338.jams', '1339.jams', '1340.jams', '1341.jams', '1342.jams', '1343.jams', '1344.jams', '1346.jams', '1347.jams', '1348.jams', '1349.jams', '135.jams', '1350.jams', '1351.jams', '1352.jams', '1354.jams', '1355.jams', '1356.jams', '1358.jams', '1359.jams', '136.jams', '1360.jams', '1362.jams', '1363.jams', '1364.jams', '1365.jams', '1366.jams', '1367.jams', '1368.jams', '1370.jams', '1371.jams', '1372.jams', '1373.jams', '1374.jams', '1375.jams', '1376.jams', '1378.jams', '1379.jams', '138.jams', '1380.jams', '1381.jams', '1382.jams', '1383.jams', '1384.jams', '1386.jams', '1387.jams', '1388.jams', '1389.jams', '139.jams', '1390.jams', '1391.jams', '1392.jams', '1394.jams', '1395.jams', '1396.jams', '1397.jams', '1399.jams', '14.jams', '140.jams', '1400.jams', '1402.jams', '1403.jams', '1404.jams', '1405.jams', '1406.jams', '1407.jams', '1408.jams', '141.jams', '1412.jams', '1413.jams', '1414.jams', '1415.jams', '1416.jams', '1418.jams', '1419.jams', '142.jams', '1420.jams', '1421.jams', '1422.jams', '1423.jams', '1424.jams', '1427.jams', '1428.jams', '1429.jams', '143.jams', '1431.jams', '1432.jams', '1434.jams', '1435.jams', '1436.jams', '1437.jams', '1438.jams', '1439.jams', '1442.jams', '1443.jams', '1444.jams', '1445.jams', '1446.jams', '1447.jams', '1448.jams', '1450.jams', '1451.jams', '1452.jams', '1453.jams', '1454.jams', '1455.jams', '1456.jams', '1458.jams', '1459.jams', '146.jams', '1460.jams', '1461.jams', '1462.jams', '1464.jams', '1467.jams', '1468.jams', '1469.jams', '147.jams', '1470.jams', '1471.jams', '1472.jams', '1474.jams', '1475.jams', '1476.jams', '1477.jams', '1478.jams', '1479.jams', '148.jams', '1480.jams', '1482.jams', '1483.jams', '1484.jams', '1485.jams', '1487.jams', '1488.jams', '149.jams', '1490.jams', '1491.jams', '1492.jams', '1494.jams', '1495.jams', '1496.jams', '1498.jams', '1499.jams', '15.jams', '150.jams', '1501.jams', '1502.jams', '1503.jams', '1504.jams', '1506.jams', '1507.jams', '1508.jams', '1509.jams', '151.jams', '1510.jams', '1511.jams', '1512.jams', '1514.jams', '1515.jams', '1516.jams', '1517.jams', '1518.jams', '1519.jams', '152.jams', '1520.jams', '1522.jams', '1523.jams', '1524.jams', '1525.jams', '1526.jams', '1527.jams', '1528.jams', '1530.jams', '1531.jams', '1532.jams', '1533.jams', '1534.jams', '1535.jams', '1536.jams', '1538.jams', '1539.jams', '154.jams', '1540.jams', '1541.jams', '1542.jams', '1543.jams', '1544.jams', '1546.jams', '1547.jams', '1548.jams', '1549.jams', '155.jams', '1550.jams', '1551.jams', '1552.jams', '1554.jams', '1555.jams', '1556.jams', '1557.jams', '1558.jams', '1559.jams', '156.jams', '1560.jams', '1562.jams', '1563.jams', '1564.jams', '1565.jams', '1566.jams', '1567.jams', '1568.jams', '1570.jams', '1571.jams', '1572.jams', '1573.jams', '1574.jams', '1575.jams', '1576.jams', '1578.jams', '1579.jams', '158.jams', '1580.jams', '1581.jams', '1582.jams', '1583.jams', '1584.jams', '1586.jams', '1587.jams', '1588.jams', '1589.jams', '159.jams', '1590.jams', '1591.jams', '1592.jams', '1594.jams', '1595.jams', '1596.jams', '1597.jams', '1598.jams', '16.jams', '160.jams', '1600.jams', '1602.jams', '1603.jams', '1604.jams', '1605.jams', '1606.jams', '1607.jams', '1608.jams', '1610.jams', '1611.jams', '1612.jams', '1613.jams', '1614.jams', '1615.jams', '1616.jams', '1618.jams', '1619.jams', '162.jams', '1620.jams', '1621.jams', '1622.jams', '1623.jams', '1624.jams', '1626.jams', '1627.jams', '1628.jams', '1629.jams', '163.jams', '1630.jams', '1631.jams', '1632.jams', '1634.jams', '1635.jams', '1636.jams', '1637.jams', '1638.jams', '1639.jams', '164.jams', '1640.jams', '1642.jams', '1643.jams', '1644.jams', '1645.jams', '1646.jams', '1647.jams', '1648.jams', '165.jams', '1650.jams', '1652.jams', '1653.jams', '1654.jams', '1655.jams', '166.jams', '168.jams', '170.jams', '171.jams', '173.jams', '176.jams', '179.jams', '18.jams', '180.jams', '183.jams', '184.jams', '186.jams', '188.jams', '189.jams', '19.jams', '190.jams', '192.jams', '197.jams', '198.jams', '2.jams', '20.jams', '200.jams', '202.jams', '203.jams', '204.jams', '205.jams', '206.jams', '207.jams', '21.jams', '210.jams', '211.jams', '212.jams', '213.jams', '214.jams', '215.jams', '216.jams', '218.jams', '219.jams', '22.jams', '220.jams', '221.jams', '222.jams', '223.jams', '227.jams', '228.jams', '229.jams', '23.jams', '231.jams', '232.jams', '234.jams', '235.jams', '236.jams', '237.jams', '239.jams', '24.jams', '240.jams', '242.jams', '243.jams', '244.jams', '245.jams', '247.jams', '248.jams', '250.jams', '251.jams', '252.jams', '254.jams', '258.jams', '26.jams', '260.jams', '261.jams', '262.jams', '264.jams', '266.jams', '267.jams', '268.jams', '269.jams', '27.jams', '270.jams', '271.jams', '272.jams', '274.jams', '275.jams', '276.jams', '277.jams', '278.jams', '279.jams', '28.jams', '280.jams', '282.jams', '283.jams', '284.jams', '285.jams', '286.jams', '287.jams', '288.jams', '29.jams', '290.jams', '291.jams', '293.jams', '294.jams', '295.jams', '296.jams', '298.jams', '299.jams', '3.jams', '30.jams', '302.jams', '303.jams', '304.jams', '306.jams', '307.jams', '308.jams', '309.jams', '31.jams', '310.jams', '311.jams', '312.jams', '314.jams', '315.jams', '316.jams', '317.jams', '318.jams', '319.jams', '32.jams', '320.jams', '322.jams', '323.jams', '324.jams', '325.jams', '326.jams', '327.jams', '328.jams', '330.jams', '331.jams', '332.jams', '333.jams', '334.jams', '335.jams', '336.jams', '338.jams', '339.jams', '34.jams', '340.jams', '341.jams', '342.jams', '343.jams', '344.jams', '346.jams', '347.jams', '348.jams', '349.jams', '35.jams', '350.jams', '351.jams', '352.jams', '354.jams', '355.jams', '356.jams', '357.jams', '358.jams', '359.jams', '36.jams', '360.jams', '362.jams', '363.jams', '364.jams', '365.jams', '366.jams', '367.jams', '368.jams', '37.jams', '370.jams', '371.jams', '372.jams', '373.jams', '374.jams', '376.jams', '378.jams', '379.jams', '38.jams', '380.jams', '381.jams', '382.jams', '383.jams', '384.jams', '386.jams', '387.jams', '388.jams', '389.jams', '39.jams', '390.jams', '391.jams', '392.jams', '394.jams', '395.jams', '396.jams', '397.jams', '398.jams', '399.jams', '4.jams', '40.jams', '400.jams', '402.jams', '403.jams', '404.jams', '405.jams', '406.jams', '407.jams', '408.jams', '410.jams', '411.jams', '412.jams', '413.jams', '414.jams', '415.jams', '416.jams', '418.jams', '42.jams', '420.jams', '421.jams', '422.jams', '423.jams', '424.jams', '426.jams', '427.jams', '428.jams', '429.jams', '43.jams', '430.jams', '431.jams', '432.jams', '434.jams', '435.jams', '436.jams', '437.jams', '438.jams', '439.jams', '44.jams', '440.jams', '442.jams', '443.jams', '444.jams', '445.jams', '446.jams', '447.jams', '448.jams', '45.jams', '450.jams', '451.jams', '452.jams', '453.jams', '454.jams', '455.jams', '456.jams', '458.jams', '46.jams', '460.jams', '461.jams', '462.jams', '463.jams', '464.jams', '466.jams', '467.jams', '468.jams', '469.jams', '47.jams', '470.jams', '471.jams', '472.jams', '474.jams', '475.jams', '476.jams', '477.jams', '478.jams', '479.jams', '48.jams', '480.jams', '482.jams', '483.jams', '484.jams', '485.jams', '486.jams', '487.jams', '488.jams', '490.jams', '491.jams', '492.jams', '493.jams', '494.jams', '495.jams', '496.jams', '498.jams', '499.jams', '5.jams', '50.jams', '500.jams', '501.jams', '502.jams', '503.jams', '504.jams', '506.jams', '507.jams', '508.jams', '509.jams', '51.jams', '510.jams', '511.jams', '512.jams', '514.jams', '515.jams', '516.jams', '517.jams', '518.jams', '519.jams', '52.jams', '520.jams', '522.jams', '523.jams', '524.jams', '525.jams', '526.jams', '527.jams', '528.jams', '53.jams', '530.jams', '531.jams', '532.jams', '533.jams', '534.jams', '535.jams', '536.jams', '538.jams', '539.jams', '54.jams', '540.jams', '541.jams', '542.jams', '543.jams', '544.jams', '546.jams', '547.jams', '548.jams', '549.jams', '55.jams', '550.jams', '551.jams', '552.jams', '554.jams', '555.jams', '556.jams', '557.jams', '558.jams', '559.jams', '56.jams', '562.jams', '563.jams', '564.jams', '565.jams', '566.jams', '567.jams', '568.jams', '570.jams', '571.jams', '572.jams', '573.jams', '574.jams', '575.jams', '576.jams', '578.jams', '579.jams', '58.jams', '580.jams', '581.jams', '582.jams', '583.jams', '584.jams', '586.jams', '587.jams', '588.jams', '589.jams', '59.jams', '590.jams', '591.jams', '592.jams', '594.jams', '595.jams', '596.jams', '597.jams', '598.jams', '599.jams', '6.jams', '60.jams', '600.jams', '602.jams', '604.jams', '605.jams', '606.jams', '607.jams', '608.jams', '610.jams', '611.jams', '612.jams', '613.jams', '614.jams', '615.jams', '616.jams', '618.jams', '619.jams', '620.jams', '621.jams', '622.jams', '623.jams', '624.jams', '626.jams', '627.jams', '628.jams', '629.jams', '63.jams', '630.jams', '631.jams', '632.jams', '634.jams', '635.jams', '636.jams', '637.jams', '638.jams', '639.jams', '64.jams', '640.jams', '642.jams', '643.jams', '644.jams', '645.jams', '646.jams', '647.jams', '648.jams', '650.jams', '651.jams', '652.jams', '653.jams', '654.jams', '655.jams', '656.jams', '658.jams', '659.jams', '660.jams', '661.jams', '662.jams', '663.jams', '664.jams', '666.jams', '667.jams', '668.jams', '669.jams', '670.jams', '671.jams', '672.jams', '674.jams', '675.jams', '676.jams', '677.jams', '678.jams', '679.jams', '68.jams', '680.jams', '682.jams', '683.jams', '684.jams', '685.jams', '686.jams', '687.jams', '688.jams', '690.jams', '691.jams', '692.jams', '693.jams', '694.jams', '695.jams', '696.jams', '698.jams', '699.jams', '7.jams', '70.jams', '700.jams', '701.jams', '702.jams', '703.jams', '704.jams', '706.jams', '707.jams', '708.jams', '709.jams', '71.jams', '710.jams', '711.jams', '712.jams', '714.jams', '715.jams', '716.jams', '717.jams', '718.jams', '719.jams', '72.jams', '720.jams', '722.jams', '723.jams', '724.jams', '725.jams', '726.jams', '727.jams', '728.jams', '730.jams', '731.jams', '732.jams', '733.jams', '734.jams', '735.jams', '736.jams', '738.jams', '739.jams', '740.jams', '741.jams', '742.jams', '743.jams', '744.jams', '746.jams', '747.jams', '748.jams', '749.jams', '75.jams', '750.jams', '751.jams', '752.jams', '754.jams', '755.jams', '756.jams', '757.jams', '758.jams', '759.jams', '760.jams', '762.jams', '763.jams', '765.jams', '766.jams', '767.jams', '768.jams', '770.jams', '771.jams', '772.jams', '773.jams', '774.jams', '775.jams', '776.jams', '778.jams', '779.jams', '78.jams', '780.jams', '781.jams', '782.jams', '783.jams', '784.jams', '786.jams', '787.jams', '788.jams', '789.jams', '79.jams', '790.jams', '791.jams', '792.jams', '794.jams', '795.jams', '796.jams', '797.jams', '798.jams', '799.jams', '8.jams', '800.jams', '802.jams', '803.jams', '805.jams', '806.jams', '807.jams', '808.jams', '810.jams', '811.jams', '812.jams', '813.jams', '814.jams', '815.jams', '816.jams', '818.jams', '819.jams', '82.jams', '820.jams', '821.jams', '822.jams', '823.jams', '824.jams', '826.jams', '827.jams', '828.jams', '829.jams', '830.jams', '831.jams', '832.jams', '834.jams', '835.jams', '836.jams', '837.jams', '838.jams', '839.jams', '840.jams', '842.jams', '843.jams', '844.jams', '845.jams', '846.jams', '847.jams', '848.jams', '85.jams', '850.jams', '851.jams', '852.jams', '853.jams', '854.jams', '855.jams', '856.jams', '858.jams', '86.jams', '860.jams', '861.jams', '862.jams', '863.jams', '864.jams', '866.jams', '867.jams', '868.jams', '869.jams', '870.jams', '871.jams', '874.jams', '875.jams', '876.jams', '877.jams', '878.jams', '879.jams', '88.jams', '880.jams', '882.jams', '883.jams', '884.jams', '885.jams', '886.jams', '887.jams', '888.jams', '890.jams', '891.jams', '892.jams', '893.jams', '894.jams', '895.jams', '896.jams', '898.jams', '899.jams', '90.jams', '900.jams', '901.jams', '902.jams', '903.jams', '904.jams', '906.jams', '907.jams', '908.jams', '909.jams', '91.jams', '910.jams', '911.jams', '912.jams', '914.jams', '915.jams', '916.jams', '917.jams', '919.jams', '92.jams', '920.jams', '922.jams', '923.jams', '924.jams', '925.jams', '926.jams', '928.jams', '93.jams', '930.jams', '931.jams', '932.jams', '933.jams', '934.jams', '935.jams', '936.jams', '938.jams', '939.jams', '94.jams', '940.jams', '941.jams', '942.jams', '943.jams', '944.jams', '946.jams', '947.jams', '948.jams', '949.jams', '95.jams', '950.jams', '951.jams', '952.jams', '954.jams', '955.jams', '956.jams', '957.jams', '958.jams', '959.jams', '960.jams', '962.jams', '963.jams', '964.jams', '965.jams', '967.jams', '968.jams', '970.jams', '971.jams', '972.jams', '973.jams', '974.jams', '975.jams', '976.jams', '978.jams', '979.jams', '98.jams', '980.jams', '981.jams', '982.jams', '983.jams', '984.jams', '986.jams', '988.jams', '989.jams', '99.jams', '990.jams', '991.jams', '992.jams', '994.jams', '995.jams', '996.jams', '997.jams', '998.jams', '999.jams']\n"
     ]
    }
   ],
   "source": [
    "# Let's get the directory of jams files:\n",
    "import os, jams, mir_eval, bnl\n",
    "import numpy as np\n",
    "import xarray as xr"
   ]
  },
  {
   "cell_type": "code",
   "execution_count": 4,
   "metadata": {},
   "outputs": [],
   "source": [
    "def load_jams(tid):\n",
    "    jams_path = os.path.join(salami_jams_dir, tid + '.jams')\n",
    "    return jams.load(jams_path)\n",
    "\n",
    "def get_salami_tids(salami_jams_dir='/Users/xi/data/salami-jams'):\n",
    "    found_jams_files = os.listdir(salami_jams_dir)\n",
    "    tids = sorted([os.path.splitext(f)[0] for f in found_jams_files])\n",
    "    return tids"
   ]
  },
  {
   "cell_type": "code",
   "execution_count": null,
   "metadata": {},
   "outputs": [],
   "source": [
    "# TODO:  need to move the expand hierarchy code to bnl from ssdm"
   ]
  },
  {
   "cell_type": "code",
   "execution_count": 38,
   "metadata": {},
   "outputs": [
    {
     "data": {
      "text/plain": [
       "[<bnl.core.H at 0x12a5881f0>, <bnl.core.H at 0x12aea1ee0>]"
      ]
     },
     "execution_count": 38,
     "metadata": {},
     "output_type": "execute_result"
    }
   ],
   "source": [
    "# Let's do it on 1 file, and see if upper and lower bounds are monotonic\n",
    "\n",
    "def get_hiers(tid):\n",
    "    jam = load_jams(str(tid))\n",
    "    duration = jam.file_metadata.duration\n",
    "    upper = jam.search(namespace='segment_salami_upper')\n",
    "    lower = jam.search(namespace='segment_salami_lower')\n",
    "    anno_h_list = []\n",
    "    for anno_id in range(len(upper)):\n",
    "        upper[anno_id].duration = duration\n",
    "        lower[anno_id].duration = duration\n",
    "        anno_h = bnl.multi2H(bnl.fmt.openseg2multi([upper[anno_id], lower[anno_id]]))\n",
    "        anno_h_list.append(anno_h)\n",
    "    return anno_h_list\n",
    "\n",
    "get_hiers(10)\n"
   ]
  },
  {
   "cell_type": "code",
   "execution_count": null,
   "metadata": {},
   "outputs": [
    {
     "name": "stderr",
     "output_type": "stream",
     "text": [
      "100%|██████████| 1359/1359 [00:33<00:00, 39.97it/s]\n"
     ]
    }
   ],
   "source": [
    "# Let's do it on all files\n",
    "from tqdm import tqdm\n",
    "\n",
    "for tid in tqdm(get_salami_tids()):\n",
    "    hiers = get_hiers(tid)\n",
    "    for anno_id, h in enumerate(hiers):\n",
    "        if not h.has_mono_B():\n",
    "            print(f'{tid} annotator {anno_id} has non-monotonic boundaries!')\n",
    "\n",
    "## Everything has monotonic boundaries!"
   ]
  },
  {
   "cell_type": "code",
   "execution_count": 19,
   "metadata": {},
   "outputs": [
    {
     "data": {
      "text/plain": [
       "(<Figure size 800x500 with 2 Axes>,\n",
       " array([<Axes: >, <Axes: xlabel='Time'>], dtype=object))"
      ]
     },
     "execution_count": 19,
     "metadata": {},
     "output_type": "execute_result"
    },
    {
     "data": {
      "image/png": "[encoded data removed]",
      "text/plain": [
       "<Figure size 800x500 with 2 Axes>"
      ]
     },
     "metadata": {},
     "output_type": "display_data"
    }
   ],
   "source": [
    "hiers[1].plot()"
   ]
  },
  {
   "cell_type": "code",
   "execution_count": 11,
   "metadata": {},
   "outputs": [
    {
     "data": {
      "text/plain": [
       "314.26934300000005"
      ]
     },
     "execution_count": 11,
     "metadata": {},
     "output_type": "execute_result"
    }
   ],
   "source": [
    "jam.file_metadata.duration"
   ]
  },
  {
   "cell_type": "code",
   "execution_count": null,
   "metadata": {},
   "outputs": [],
   "source": []
  }
 ],
 "metadata": {
  "kernelspec": {
   "display_name": "py39",
   "language": "python",
   "name": "python3"
  },
  "language_info": {
   "codemirror_mode": {
    "name": "ipython",
    "version": 3
   },
   "file_extension": ".py",
   "mimetype": "text/x-python",
   "name": "python",
   "nbconvert_exporter": "python",
   "pygments_lexer": "ipython3",
   "version": "3.9.21"
  }
 },
 "nbformat": 4,
 "nbformat_minor": 2
}
