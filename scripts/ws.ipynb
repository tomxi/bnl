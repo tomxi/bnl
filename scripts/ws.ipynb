{
 "cells": [
  {
   "cell_type": "markdown",
   "metadata": {},
   "source": [
    "## Let's plot!\n",
    "\n",
    "- Figure 1: how framesize affect the triplet metrics\n",
    "- Figure 2: how continuous compares with 0.5: scatter plot\n"
   ]
  },
  {
   "cell_type": "markdown",
   "metadata": {},
   "source": [
    "## Let's investigate!\n",
    "\n",
    "- Transitivity, and effects of depth.\n",
    "- Window and its effects. (It's faster now so we probably don't need it. Let's check the original claim that over all frames are redundant)\n",
    "    - We can visualize this by looking at how window size affect the per time measures.\n",
    "- Monotonicity Meet and its effect.\n",
    "    - Again look at per time measures and how they change before and after.\n",
    "\n"
   ]
  },
  {
   "cell_type": "code",
   "execution_count": null,
   "metadata": {
    "vscode": {
     "languageId": "plaintext"
    }
   },
   "outputs": [],
   "source": []
  },
  {
   "cell_type": "code",
   "execution_count": null,
   "metadata": {
    "vscode": {
     "languageId": "plaintext"
    }
   },
   "outputs": [],
   "source": []
  }
 ],
 "metadata": {
  "language_info": {
   "name": "python"
  }
 },
 "nbformat": 4,
 "nbformat_minor": 2
}
